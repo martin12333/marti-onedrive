{
 "cells": [
  {
   "cell_type": "code",
   "execution_count": null,
   "metadata": {
    "dotnet_interactive": {
     "language": "mermaid"
    },
    "vscode": {
     "languageId": "dotnet-interactive.mermaid"
    }
   },
   "outputs": [
    {
     "data": {
      "text/html": [
       "<div class=\"mermaidMarkdownContainer\" style=\"background-color:white\">\r\n",
       "<script type=\"text/javascript\">\r\n",
       "\r\n",
       "loadMermaid_c71b177370554b928fb4a8b047ff12b7 = () => {\r\n",
       " \r\n",
       "        (require.config({ 'paths': { 'context': '9.1.3', 'mermaidUri' : 'https://cdn.jsdelivr.net/npm/mermaid@9.1.3/dist/mermaid.min', 'urlArgs': 'cacheBuster=ab477426fdef48aaafce725f48325959' }}) || require)(['mermaidUri'], (mermaid) => {\r\n",
       "\r\n",
       "            let renderTarget = document.getElementById('c71b177370554b928fb4a8b047ff12b7');\r\n",
       "            mermaid.mermaidAPI.render( \r\n",
       "                'mermaid_c71b177370554b928fb4a8b047ff12b7', \r\n",
       "                `flowchart LR\n",
       "\tx --> y ----> t`, \r\n",
       "                g => {\r\n",
       "                    renderTarget.innerHTML = g \r\n",
       "                });\r\n",
       "        },\r\n",
       "        (error) => {\r\n",
       "            console.log(error);\r\n",
       "        });\r\n",
       "}\r\n",
       "// ensure `require` is available globally\r\n",
       "if ((typeof(require) !==  typeof(Function)) || (typeof(require.config) !== typeof(Function))) {\r\n",
       "    let require_script = document.createElement('script');\r\n",
       "    require_script.setAttribute('src', 'https://cdnjs.cloudflare.com/ajax/libs/require.js/2.3.6/require.min.js');\r\n",
       "    require_script.setAttribute('type', 'text/javascript');\r\n",
       "    \r\n",
       "    \r\n",
       "    require_script.onload = function() {\r\n",
       "        loadMermaid_c71b177370554b928fb4a8b047ff12b7();\r\n",
       "    };\r\n",
       "\r\n",
       "    document.getElementsByTagName('head')[0].appendChild(require_script);\r\n",
       "}\r\n",
       "else {\r\n",
       "    loadMermaid_c71b177370554b928fb4a8b047ff12b7();\r\n",
       "}\r\n",
       "\r\n",
       "</script>\r\n",
       "<div id=\"c71b177370554b928fb4a8b047ff12b7\"></div>\r\n",
       "</div>\r\n"
      ]
     },
     "metadata": {},
     "output_type": "display_data"
    }
   ],
   "source": [
    "#!mermaid\n",
    "flowchart LR\n",
    "\tx --> y ----> t"
   ]
  },
  {
   "cell_type": "markdown",
   "metadata": {
    "dotnet_interactive": {
     "language": "mermaid"
    }
   },
   "source": [
    "mermaid"
   ]
  },
  {
   "cell_type": "code",
   "execution_count": null,
   "metadata": {
    "dotnet_interactive": {
     "language": "javascript"
    },
    "vscode": {
     "languageId": "dotnet-interactive.javascript"
    }
   },
   "outputs": [
    {
     "ename": "Error",
     "evalue": "fs is not defined",
     "output_type": "error",
     "traceback": [
      "fs is not defined"
     ]
    }
   ],
   "source": [
    "//COMPLETI\n",
    "////dir(os)\n",
    "////Obje\n",
    "//conso\n",
    "Object.keys(fs)"
   ]
  },
  {
   "cell_type": "code",
   "execution_count": null,
   "metadata": {
    "dotnet_interactive": {
     "language": "javascript"
    },
    "vscode": {
     "languageId": "dotnet-interactive.javascript"
    }
   },
   "outputs": [
    {
     "ename": "Error",
     "evalue": "Check dependency list! Synchronous require cannot resolve module 'fs'. This is the first mention of this module!",
     "output_type": "error",
     "traceback": [
      "Check dependency list! Synchronous require cannot resolve module 'fs'. This is the first mention of this module!"
     ]
    }
   ],
   "source": [
    "fs=require('fs') ////////////fail Error: Check dependency list! Synchronous require cannot resolve module 'fs'. This is the first mention of this module!\n",
    "\n"
   ]
  },
  {
   "cell_type": "code",
   "execution_count": null,
   "metadata": {
    "dotnet_interactive": {
     "language": "javascript"
    },
    "vscode": {
     "languageId": "dotnet-interactive.javascript"
    }
   },
   "outputs": [],
   "source": []
  },
  {
   "cell_type": "code",
   "execution_count": null,
   "metadata": {
    "dotnet_interactive": {
     "language": "javascript"
    },
    "vscode": {
     "languageId": "dotnet-interactive.javascript"
    }
   },
   "outputs": [],
   "source": [
    "console.log(4*65)"
   ]
  },
  {
   "cell_type": "code",
   "execution_count": null,
   "metadata": {
    "dotnet_interactive": {
     "language": "csharp"
    },
    "vscode": {
     "languageId": "dotnet-interactive.csharp"
    }
   },
   "outputs": [
    {
     "ename": "Error",
     "evalue": "(1,1): error CS0233: 'int?' does not have a predefined size, therefore sizeof can only be used in an unsafe context",
     "output_type": "error",
     "traceback": [
      "(1,1): error CS0233: 'int?' does not have a predefined size, therefore sizeof can only be used in an unsafe context"
     ]
    }
   ],
   "source": [
    "// c#"
   ]
  },
  {
   "cell_type": "code",
   "execution_count": null,
   "metadata": {
    "dotnet_interactive": {
     "language": "csharp"
    },
    "vscode": {
     "languageId": "dotnet-interactive.csharp"
    }
   },
   "outputs": [],
   "source": [
    "sizeof(Nullable<Int32>)"
   ]
  },
  {
   "cell_type": "code",
   "execution_count": null,
   "metadata": {
    "dotnet_interactive": {
     "language": "csharp"
    },
    "vscode": {
     "languageId": "dotnet-interactive.csharp"
    }
   },
   "outputs": [
    {
     "data": {
      "text/html": [
       "<div class=\"dni-plaintext\">1</div>"
      ]
     },
     "metadata": {},
     "output_type": "display_data"
    }
   ],
   "source": [
    "sizeof(Boolean)"
   ]
  },
  {
   "cell_type": "code",
   "execution_count": null,
   "metadata": {
    "dotnet_interactive": {
     "language": "csharp"
    },
    "vscode": {
     "languageId": "dotnet-interactive.csharp"
    }
   },
   "outputs": [
    {
     "ename": "Error",
     "evalue": "(2,1): error CS0103: The name 'InteropS' does not exist in the current context",
     "output_type": "error",
     "traceback": [
      "(2,1): error CS0103: The name 'InteropS' does not exist in the current context"
     ]
    }
   ],
   "source": [
    "using System.Runtime.InteropServices;\n",
    "\t"
   ]
  },
  {
   "cell_type": "code",
   "execution_count": null,
   "metadata": {
    "dotnet_interactive": {
     "language": "csharp"
    },
    "vscode": {
     "languageId": "dotnet-interactive.csharp"
    }
   },
   "outputs": [
    {
     "ename": "Error",
     "evalue": "System.ArgumentException: Type 'System.String' cannot be marshaled as an unmanaged structure; no meaningful size or offset can be computed.\r\n   at System.Runtime.InteropServices.Marshal.SizeOfHelper(Type t, Boolean throwIfNotMarshalable)\r\n   at System.Runtime.InteropServices.Marshal.SizeOf[T](T structure)\r\n   at Submission#23.<<Initialize>>d__0.MoveNext()\r\n--- End of stack trace from previous location ---\r\n   at Microsoft.CodeAnalysis.Scripting.ScriptExecutionState.RunSubmissionsAsync[TResult](ImmutableArray`1 precedingExecutors, Func`2 currentExecutor, StrongBox`1 exceptionHolderOpt, Func`2 catchExceptionOpt, CancellationToken cancellationToken)",
     "output_type": "error",
     "traceback": [
      "System.ArgumentException: Type 'System.String' cannot be marshaled as an unmanaged structure; no meaningful size or offset can be computed.\r\n",
      "   at System.Runtime.InteropServices.Marshal.SizeOfHelper(Type t, Boolean throwIfNotMarshalable)\r\n",
      "   at System.Runtime.InteropServices.Marshal.SizeOf[T](T structure)\r\n",
      "   at Submission#23.<<Initialize>>d__0.MoveNext()\r\n",
      "--- End of stack trace from previous location ---\r\n",
      "   at Microsoft.CodeAnalysis.Scripting.ScriptExecutionState.RunSubmissionsAsync[TResult](ImmutableArray`1 precedingExecutors, Func`2 currentExecutor, StrongBox`1 exceptionHolderOpt, Func`2 catchExceptionOpt, CancellationToken cancellationToken)"
     ]
    }
   ],
   "source": [
    "//var x=Marshal.SizeOf(true);\n",
    "//var x=Marshal.SizeOf(1.5);\n",
    "var x=Marshal.SizeOf(\"dsfs\");\n",
    "x"
   ]
  },
  {
   "cell_type": "code",
   "execution_count": null,
   "metadata": {
    "dotnet_interactive": {
     "language": "csharp"
    },
    "vscode": {
     "languageId": "dotnet-interactive.csharp"
    }
   },
   "outputs": [
    {
     "data": {
      "text/html": [
       "<div class=\"dni-plaintext\">2118747445168</div>"
      ]
     },
     "metadata": {},
     "output_type": "display_data"
    }
   ],
   "source": [
    "IntPtr sptr = Marshal.StringToHGlobalAnsi(\"stringA\");\n",
    "sptr"
   ]
  },
  {
   "cell_type": "code",
   "execution_count": null,
   "metadata": {
    "dotnet_interactive": {
     "language": "csharp"
    },
    "vscode": {
     "languageId": "dotnet-interactive.csharp"
    }
   },
   "outputs": [],
   "source": [
    "unsafe{ sptr.ToPointer(); }"
   ]
  },
  {
   "cell_type": "code",
   "execution_count": null,
   "metadata": {
    "dotnet_interactive": {
     "language": "csharp"
    },
    "vscode": {
     "languageId": "dotnet-interactive.csharp"
    }
   },
   "outputs": [
    {
     "name": "stdout",
     "output_type": "stream",
     "text": [
      "7\r\n",
      "2104571633240\r\n",
      "2104571633244\r\n",
      "20\r\n",
      "2104571633248\r\n",
      "30\r\n",
      "--------\r\n",
      "10\r\n",
      "11\r\n",
      "12\r\n",
      "--------\r\n",
      "12\r\n"
     ]
    }
   ],
   "source": [
    "object o = 7;\n",
    "object[] oo = new object[2] {7,8};\n",
    "Console.WriteLine( oo[0]);///////////\n",
    "\n",
    "\n",
    "// Normal pointer to an object.\n",
    "int[] a = new int[5] { 10, 20, 30, 40, 50 };\n",
    "// Must be in unsafe code to use interior pointers.\n",
    "unsafe\n",
    "{\n",
    "    // Must pin object on heap so that it doesn't move while using interior pointers.\n",
    "    fixed (int* p =&a[0])////&oo[0])////o)//// & o ) //&a[0])\n",
    "    {\n",
    "        // p is pinned as well as object, so create another pointer to show incrementing it.\n",
    "        int* p2 = p;\n",
    "        Console.WriteLine((IntPtr) p2);///////////\n",
    "        // Incrementing p2 bumps the pointer by four bytes due to its type ...\n",
    "        p2 += 1;\n",
    "        Console.WriteLine((IntPtr) p2);///////////\n",
    "\n",
    "        Console.WriteLine(*p2);\n",
    "        p2 += 1;\n",
    "        Console.WriteLine((IntPtr) p2);///////////\n",
    "\n",
    "        Console.WriteLine(*p2);\n",
    "        Console.WriteLine(\"--------\");\n",
    "        Console.WriteLine(*p);\n",
    "        // Dereferencing p and incrementing changes the value of a[0] ...\n",
    "        *p += 1;\n",
    "        Console.WriteLine(*p);\n",
    "        *p += 1;\n",
    "        Console.WriteLine(*p);\n",
    "    }\n",
    "}\n",
    "Console.WriteLine(\"--------\");\n",
    "Console.WriteLine(a[0]);"
   ]
  },
  {
   "cell_type": "code",
   "execution_count": null,
   "metadata": {
    "dotnet_interactive": {
     "language": "csharp"
    },
    "vscode": {
     "languageId": "dotnet-interactive.csharp"
    }
   },
   "outputs": [
    {
     "ename": "Error",
     "evalue": "(13,14): error CS0246: The type or namespace name 'o' could not be found (are you missing a using directive or an assembly reference?)",
     "output_type": "error",
     "traceback": [
      "(13,14): error CS0246: The type or namespace name 'o' could not be found (are you missing a using directive or an assembly reference?)"
     ]
    }
   ],
   "source": [
    "int i = 123;\n",
    "// Boxing copies the value of i into object o.\n",
    "object o = i;\n",
    "/////typeof(i)\n",
    "o.GetType();\n",
    "i.GetType();\n",
    "i.GetTypeCode();\n",
    "//////i.byte\n",
    "//sizeof(Int32);\n",
    "int j;\n",
    "j=Marshal.SizeOf(o);\n",
    "unsafe{\n",
    "/////int j=sizeof(o);\n",
    "////o.si\n",
    "}\n",
    "Console.WriteLine(j);\n"
   ]
  },
  {
   "cell_type": "code",
   "execution_count": null,
   "metadata": {
    "dotnet_interactive": {
     "language": "csharp"
    },
    "vscode": {
     "languageId": "dotnet-interactive.csharp"
    }
   },
   "outputs": [
    {
     "data": {
      "text/html": [
       "<div class=\"dni-plaintext\">1073741824</div>"
      ]
     },
     "metadata": {},
     "output_type": "display_data"
    }
   ],
   "source": [
    "1024*1024*1024"
   ]
  },
  {
   "cell_type": "code",
   "execution_count": null,
   "metadata": {
    "dotnet_interactive": {
     "language": "csharp"
    },
    "vscode": {
     "languageId": "dotnet-interactive.csharp"
    }
   },
   "outputs": [
    {
     "data": {
      "text/html": [
       "<div class=\"dni-plaintext\">8</div>"
      ]
     },
     "metadata": {},
     "output_type": "display_data"
    }
   ],
   "source": [
    "\n",
    "IntPtr.Size"
   ]
  },
  {
   "cell_type": "code",
   "execution_count": null,
   "metadata": {
    "dotnet_interactive": {
     "language": "csharp"
    },
    "vscode": {
     "languageId": "dotnet-interactive.csharp"
    }
   },
   "outputs": [
    {
     "data": {
      "text/html": [
       "<div class=\"dni-plaintext\">4</div>"
      ]
     },
     "metadata": {},
     "output_type": "display_data"
    }
   ],
   "source": [
    "sizeof(Int32)"
   ]
  },
  {
   "cell_type": "code",
   "execution_count": null,
   "metadata": {
    "dotnet_interactive": {
     "language": "csharp"
    },
    "vscode": {
     "languageId": "dotnet-interactive.csharp"
    }
   },
   "outputs": [
    {
     "data": {
      "text/html": [
       "<div class=\"dni-plaintext\">255</div>"
      ]
     },
     "metadata": {},
     "output_type": "display_data"
    }
   ],
   "source": [
    "Byte.MaxValue"
   ]
  },
  {
   "cell_type": "code",
   "execution_count": null,
   "metadata": {
    "dotnet_interactive": {
     "language": "csharp"
    },
    "vscode": {
     "languageId": "dotnet-interactive.csharp"
    }
   },
   "outputs": [
    {
     "data": {
      "text/html": [
       "<div class=\"dni-plaintext\">2</div>"
      ]
     },
     "metadata": {},
     "output_type": "display_data"
    }
   ],
   "source": [
    "sizeof(char)\t"
   ]
  },
  {
   "cell_type": "code",
   "execution_count": null,
   "metadata": {
    "dotnet_interactive": {
     "language": "csharp"
    },
    "vscode": {
     "languageId": "dotnet-interactive.csharp"
    }
   },
   "outputs": [
    {
     "data": {
      "text/html": [
       "<div class=\"dni-plaintext\">0</div>"
      ]
     },
     "metadata": {},
     "output_type": "display_data"
    }
   ],
   "source": [
    "byte.MinValue"
   ]
  },
  {
   "cell_type": "code",
   "execution_count": null,
   "metadata": {
    "dotnet_interactive": {
     "language": "csharp"
    },
    "vscode": {
     "languageId": "dotnet-interactive.csharp"
    }
   },
   "outputs": [],
   "source": []
  }
 ],
 "metadata": {
  "kernelspec": {
   "display_name": ".NET (C#)",
   "language": "C#",
   "name": ".net-csharp"
  },
  "language_info": {
   "file_extension": ".cs",
   "mimetype": "text/x-csharp",
   "name": "C#",
   "pygments_lexer": "csharp",
   "version": "9.0"
  },
  "orig_nbformat": 4
 },
 "nbformat": 4,
 "nbformat_minor": 2
}
