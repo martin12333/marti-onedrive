{
 "cells": [
  {
   "cell_type": "markdown",
   "id": "aafd96e2",
   "metadata": {},
   "source": []
  },
  {
   "attachments": {},
   "cell_type": "markdown",
   "id": "8500c2f5",
   "metadata": {},
   "source": [
    ".f8.ipynb\n",
    "\n",
    "(selected lines from this file can be run in a terminal ... e.g. by the F8 key, customly bound to runSelectedText IN MY keybindings.json for VSCode  )\n",
    "\n",
    "or, a safer alternative, in VSCode:\n",
    "  F1 run selected text, \t\t\n",
    "AND LATER JUST PRESS: F1 ENTER\n",
    "\n",
    "e.g.\n"
   ]
  },
  {
   "cell_type": "code",
   "execution_count": null,
   "id": "a8cf6f6e",
   "metadata": {
    "dotnet_interactive": {
     "language": "pwsh"
    },
    "vscode": {
     "languageId": "dotnet-interactive.pwsh"
    }
   },
   "outputs": [
    {
     "name": "stdout",
     "output_type": "stream",
     "text": [
      "\u001b[91mf8: \u001b[91mThe term 'f8' is not recognized as a name of a cmdlet, function, script file, or executable program.\r\n",
      "Check the spelling of the name, or if a path was included, verify that the path is correct and try again.\u001b[0m\r\n",
      "C:\\Program Files\\dotnet\\dotnet.exe\r\n",
      "\r\n",
      "Microsoft (R) F# Interactive version 12.0.0.0 for F# 6.0\r\n",
      "Copyright (c) Microsoft Corporation. All Rights Reserved.\r\n",
      "\r\n",
      "For help type #help;;\r\n",
      "\r\n"
     ]
    },
    {
     "ename": "Error",
     "evalue": "System.OperationCanceledException: Command :SubmitCode: f8\n\n##where.exe   csi\n##where.exe   fsi\nwhere.exe  ... cancelled.",
     "output_type": "error",
     "traceback": [
      "System.OperationCanceledException: Command :SubmitCode: f8\n",
      "\n",
      "##where.exe   csi\n",
      "##where.exe   fsi\n",
      "where.exe  ... cancelled."
     ]
    }
   ],
   "source": [
    "f8\n",
    "\n",
    "##where.exe   csi\n",
    "##where.exe   fsi\n",
    "where.exe   dotnet\n",
    "#C:\\Program Files\\dotnet\\dotnet.exe\n",
    "\n",
    "##dotnet  csi\n",
    "dotnet  fsi\n",
    "\n",
    "#help;;\n",
    "\n",
    "#quit;;\n"
   ]
  },
  {
   "cell_type": "code",
   "execution_count": null,
   "id": "primary-harbor",
   "metadata": {
    "dotnet_interactive": {
     "language": "pwsh"
    },
    "vscode": {
     "languageId": "dotnet-interactive.pwsh"
    }
   },
   "outputs": [
    {
     "name": "stdout",
     "output_type": "stream",
     "text": [
      "\u001b[91mParserError: \r\n",
      "\u001b[96mLine |\r\n",
      "\u001b[96m   1 | \u001b[0m for\u001b[96m\u001b[0m\r\n",
      "\u001b[96m     | \u001b[91m    ~\r\n",
      "\u001b[91m\u001b[96m     | \u001b[91mMissing opening '(' after keyword 'for'.\r\n",
      "\u001b[0m\r\n"
     ]
    }
   ],
   "source": [
    "git ls-files | findstr.exe -i    jupyte\n",
    "#git ls-files | findstr.exe -i    PowerShell0.ipynb"
   ]
  },
  {
   "cell_type": "code",
   "execution_count": null,
   "id": "4dcd79c2",
   "metadata": {
    "dotnet_interactive": {
     "language": "pwsh"
    },
    "vscode": {
     "languageId": "dotnet-interactive.pwsh"
    }
   },
   "outputs": [
    {
     "name": "stdout",
     "output_type": "stream",
     "text": [
      "C:\\WINDOWS\\system32\r\n",
      "C:\\WINDOWS\r\n",
      "C:\\WINDOWS\\System32\\Wbem\r\n",
      "C:\\WINDOWS\\System32\\WindowsPowerShell\\v1.0\\\r\n",
      "C:\\WINDOWS\\System32\\OpenSSH\\\r\n",
      "C:\\Program Files (x86)\\Common Files\\Acronis\\VirtualFile\\\r\n",
      "C:\\Program Files (x86)\\Common Files\\Acronis\\VirtualFile64\\\r\n",
      "C:\\Program Files (x86)\\Common Files\\Acronis\\FileProtector\\\r\n",
      "C:\\Program Files (x86)\\Common Files\\Acronis\\FileProtector64\\\r\n",
      "C:\\Program Files (x86)\\Common Files\\Acronis\\SnapAPI\\\r\n",
      "C:\\Program Files\\dotnet\\\r\n",
      "C:\\Program Files\\PowerShell\\7\\\r\n",
      "C:\\Program Files\\RedHat\\Podman\\\r\n",
      "C:\\Program Files\\Tailscale\\\r\n",
      "C:\\Program Files\\nodejs\\\r\n",
      "C:\\Program Files\\Microsoft VS Code\\bin\r\n",
      "C:\\Program Files\\Git\\cmd\r\n",
      "C:\\Users\\marti\\AppData\\Local\\Microsoft\\WindowsApps\r\n",
      "C:\\Users\\marti\\.dotnet\\tools\r\n",
      "C:\\Users\\marti\\AppData\\Roaming\\npm\r\n"
     ]
    }
   ],
   "source": [
    "$env:Path -split ';'"
   ]
  },
  {
   "cell_type": "code",
   "execution_count": null,
   "id": "c905f4a7",
   "metadata": {
    "dotnet_interactive": {
     "language": "pwsh"
    },
    "vscode": {
     "languageId": "dotnet-interactive.pwsh"
    }
   },
   "outputs": [
    {
     "name": "stdout",
     "output_type": "stream",
     "text": [
      "C:\\Program Files\\dotnet\\dotnet.exe\r\n"
     ]
    }
   ],
   "source": [
    "where.exe dotnet"
   ]
  },
  {
   "cell_type": "code",
   "execution_count": null,
   "id": "426c81f6",
   "metadata": {
    "dotnet_interactive": {
     "language": "pwsh"
    },
    "vscode": {
     "languageId": "dotnet-interactive.pwsh"
    }
   },
   "outputs": [
    {
     "name": "stdout",
     "output_type": "stream",
     "text": [
      "572922552\r\n"
     ]
    }
   ],
   "source": [
    "[gc]::GetTotalAllocatedBytes()"
   ]
  },
  {
   "attachments": {},
   "cell_type": "markdown",
   "id": "3d72b76f",
   "metadata": {},
   "source": [
    "# markdown\n",
    "\n",
    "\\##  fdgdgdgertetete"
   ]
  },
  {
   "attachments": {},
   "cell_type": "markdown",
   "id": "5765a917",
   "metadata": {},
   "source": [
    "# fdgfdg"
   ]
  },
  {
   "cell_type": "code",
   "execution_count": null,
   "id": "bf1a155a",
   "metadata": {
    "dotnet_interactive": {
     "language": "pwsh"
    },
    "vscode": {
     "languageId": "dotnet-interactive.pwsh"
    }
   },
   "outputs": [
    {
     "name": "stdout",
     "output_type": "stream",
     "text": [
      "\r\n",
      "\u001b[32;1mHighMemoryLoadThresholdBytes : \u001b[0m7605739929\r\n",
      "\u001b[32;1mMemoryLoadBytes              : \u001b[0m6676149493\r\n",
      "\u001b[32;1mTotalAvailableMemoryBytes    : \u001b[0m8450822144\r\n",
      "\u001b[32;1mHeapSizeBytes                : \u001b[0m191826312\r\n",
      "\u001b[32;1mFragmentedBytes              : \u001b[0m68429104\r\n",
      "\u001b[32;1mIndex                        : \u001b[0m13\r\n",
      "\u001b[32;1mGeneration                   : \u001b[0m1\r\n",
      "\u001b[32;1mCompacted                    : \u001b[0mFalse\r\n",
      "\u001b[32;1mConcurrent                   : \u001b[0mFalse\r\n",
      "\u001b[32;1mTotalCommittedBytes          : \u001b[0m192507904\r\n",
      "\u001b[32;1mPromotedBytes                : \u001b[0m90216968\r\n",
      "\u001b[32;1mPinnedObjectsCount           : \u001b[0m1\r\n",
      "\u001b[32;1mFinalizationPendingCount     : \u001b[0m140\r\n",
      "\u001b[32;1mPauseDurations               : \u001b[0m\r\n",
      "\u001b[32;1mPauseTimePercentage          : \u001b[0m0\r\n",
      "\u001b[32;1mGenerationInfo               : \u001b[0m\r\n",
      "\r\n",
      "8589934592\r\n",
      "\r\n"
     ]
    }
   ],
   "source": [
    "[gc]::GetGCMemoryInfo()\n",
    "8*1024*1024*1024"
   ]
  },
  {
   "cell_type": "markdown",
   "id": "e83cbdbb",
   "metadata": {},
   "source": []
  },
  {
   "cell_type": "code",
   "execution_count": 3,
   "id": "452847d5",
   "metadata": {
    "dotnet_interactive": {
     "language": "pwsh"
    },
    "vscode": {
     "languageId": "dotnet-interactive.pwsh"
    }
   },
   "outputs": [
    {
     "name": "stdout",
     "output_type": "stream",
     "text": [
      "-61536\n"
     ]
    }
   ],
   "source": [
    "$before = [gc]::GetTotalMemory($true)\n",
    "$s = \"A new string object\"\n",
    "$after = [gc]::GetTotalMemory($true)\n",
    "\n",
    "($after - $before)"
   ]
  },
  {
   "cell_type": "code",
   "execution_count": null,
   "id": "14f2c617",
   "metadata": {
    "dotnet_interactive": {
     "language": "pwsh"
    },
    "vscode": {
     "languageId": "dotnet-interactive.pwsh"
    }
   },
   "outputs": [
    {
     "name": "stdout",
     "output_type": "stream",
     "text": [
      "\r\n",
      "    Directory: C:\\Users\\marti\\OneDrive\\jupyter-notebooks\r\n",
      "\r\n",
      "\u001b[32;1mMode                 LastWriteTime         Length Name\u001b[0m\r\n",
      "\u001b[32;1m----                 -------------         ------ ----\u001b[0m\r\n",
      "la---          18.07.2022    17:09                .ipynb_checkpoints\r\n",
      "la---          26.07.2022    16:14                node_modules\r\n",
      "la---          05.02.2022    16:13            358 1.ipy.sys.path\r\n",
      "la---          05.02.2022    16:25          69021 1.pip.log\r\n",
      "la---          05.02.2022    16:13            219 1.py.sys.path\r\n",
      "la---          05.02.2022    16:15          61035 11\r\n",
      "la---          05.02.2022    17:24          13744 2.pip.log\r\n",
      "la---          05.02.2022    17:26            219 2.py.sys.path\r\n",
      "la---          05.02.2022    19:16           4451 2225.bashrc\r\n",
      "la---          05.02.2022    17:33         156434 3.pip.log\r\n",
      "la---          17.07.2022    23:32           1043 bytes-ctypes-Untitled-1.py\r\n",
      "la---          26.07.2022    16:34          13824 bytes-ctypes.ipynb\r\n",
      "la---          22.07.2022    16:46           1021 csharp-1.ipynb\r\n",
      "la---          26.07.2022    17:00          14917 dotnet-interactive-js-js-csharp-1.ipynb\r\n",
      "la---          24.09.2021    16:11          23185 f3-of-f234-groupby.csv\r\n",
      "la---          23.09.2021    17:15          91139 f3-of-f234.csv\r\n",
      "la---          18.07.2022    17:16         168233 ijavascript-227.ipynb\r\n",
      "la---          26.07.2022    16:14            321 package-lock.json\r\n",
      "la---          16.07.2022    20:53          22206 pandas-1.ipynb\r\n",
      "la---          24.09.2021    16:09          23185 poku\r\n",
      "la---          26.07.2022    20:17           3504 PowerShell0.ipynb\r\n",
      "la---          26.07.2022    20:17            227 quokka-Untitled-0.js\r\n",
      "la---          26.07.2022    20:16            105 quokka-Untitled-2.js\r\n",
      "la---          25.09.2021    17:37         320935 s1\r\n",
      "la---          25.02.2022    18:07          41799 wsl-bashShell0.ipynb\r\n",
      "\r\n"
     ]
    }
   ],
   "source": [
    "ls"
   ]
  },
  {
   "cell_type": "code",
   "execution_count": 1,
   "id": "stupid-registration",
   "metadata": {
    "dotnet_interactive": {
     "language": "pwsh"
    },
    "vscode": {
     "languageId": "dotnet-interactive.pwsh"
    }
   },
   "outputs": [
    {
     "data": {
      "text/html": [
       "\r\n",
       "<div>\r\n",
       "    <div id='dotnet-interactive-this-cell-23272.Microsoft.DotNet.Interactive.Http.HttpPort' style='display: none'>\r\n",
       "        The below script needs to be able to find the current output cell; this is an easy method to get it.\r\n",
       "    </div>\r\n",
       "    <script type='text/javascript'>\r\n",
       "async function probeAddresses(probingAddresses) {\r\n",
       "    function timeout(ms, promise) {\r\n",
       "        return new Promise(function (resolve, reject) {\r\n",
       "            setTimeout(function () {\r\n",
       "                reject(new Error('timeout'))\r\n",
       "            }, ms)\r\n",
       "            promise.then(resolve, reject)\r\n",
       "        })\r\n",
       "    }\r\n",
       "\r\n",
       "    if (Array.isArray(probingAddresses)) {\r\n",
       "        for (let i = 0; i < probingAddresses.length; i++) {\r\n",
       "\r\n",
       "            let rootUrl = probingAddresses[i];\r\n",
       "\r\n",
       "            if (!rootUrl.endsWith('/')) {\r\n",
       "                rootUrl = `${rootUrl}/`;\r\n",
       "            }\r\n",
       "\r\n",
       "            try {\r\n",
       "                let response = await timeout(1000, fetch(`${rootUrl}discovery`, {\r\n",
       "                    method: 'POST',\r\n",
       "                    cache: 'no-cache',\r\n",
       "                    mode: 'cors',\r\n",
       "                    timeout: 1000,\r\n",
       "                    headers: {\r\n",
       "                        'Content-Type': 'text/plain'\r\n",
       "                    },\r\n",
       "                    body: probingAddresses[i]\r\n",
       "                }));\r\n",
       "\r\n",
       "                if (response.status == 200) {\r\n",
       "                    return rootUrl;\r\n",
       "                }\r\n",
       "            }\r\n",
       "            catch (e) { }\r\n",
       "        }\r\n",
       "    }\r\n",
       "}\r\n",
       "\r\n",
       "function loadDotnetInteractiveApi() {\r\n",
       "    probeAddresses([\"http://10.0.0.14:1000/\", \"http://172.23.48.1:1000/\", \"http://172.17.0.1:1000/\", \"http://172.21.80.1:1000/\", \"http://172.25.32.1:1000/\", \"http://127.0.0.1:1000/\"])\r\n",
       "        .then((root) => {\r\n",
       "        // use probing to find host url and api resources\r\n",
       "        // load interactive helpers and language services\r\n",
       "        let dotnetInteractiveRequire = require.config({\r\n",
       "        context: '23272.Microsoft.DotNet.Interactive.Http.HttpPort',\r\n",
       "                paths:\r\n",
       "            {\r\n",
       "                'dotnet-interactive': `${root}resources`\r\n",
       "                }\r\n",
       "        }) || require;\r\n",
       "\r\n",
       "            window.dotnetInteractiveRequire = dotnetInteractiveRequire;\r\n",
       "\r\n",
       "            window.configureRequireFromExtension = function(extensionName, extensionCacheBuster) {\r\n",
       "                let paths = {};\r\n",
       "                paths[extensionName] = `${root}extensions/${extensionName}/resources/`;\r\n",
       "                \r\n",
       "                let internalRequire = require.config({\r\n",
       "                    context: extensionCacheBuster,\r\n",
       "                    paths: paths,\r\n",
       "                    urlArgs: `cacheBuster=${extensionCacheBuster}`\r\n",
       "                    }) || require;\r\n",
       "\r\n",
       "                return internalRequire\r\n",
       "            };\r\n",
       "        \r\n",
       "            dotnetInteractiveRequire([\r\n",
       "                    'dotnet-interactive/dotnet-interactive'\r\n",
       "                ],\r\n",
       "                function (dotnet) {\r\n",
       "                    dotnet.init(window);\r\n",
       "                },\r\n",
       "                function (error) {\r\n",
       "                    console.log(error);\r\n",
       "                }\r\n",
       "            );\r\n",
       "        })\r\n",
       "        .catch(error => {console.log(error);});\r\n",
       "    }\r\n",
       "\r\n",
       "// ensure `require` is available globally\r\n",
       "if ((typeof(require) !==  typeof(Function)) || (typeof(require.config) !== typeof(Function))) {\r\n",
       "    let require_script = document.createElement('script');\r\n",
       "    require_script.setAttribute('src', 'https://cdnjs.cloudflare.com/ajax/libs/require.js/2.3.6/require.min.js');\r\n",
       "    require_script.setAttribute('type', 'text/javascript');\r\n",
       "    \r\n",
       "    \r\n",
       "    require_script.onload = function() {\r\n",
       "        loadDotnetInteractiveApi();\r\n",
       "    };\r\n",
       "\r\n",
       "    document.getElementsByTagName('head')[0].appendChild(require_script);\r\n",
       "}\r\n",
       "else {\r\n",
       "    loadDotnetInteractiveApi();\r\n",
       "}\r\n",
       "\r\n",
       "    </script>\r\n",
       "</div>"
      ]
     },
     "metadata": {},
     "output_type": "display_data"
    },
    {
     "name": "stdout",
     "output_type": "stream",
     "text": [
      "4\n",
      "4\n",
      "44\n",
      "44\n"
     ]
    }
   ],
   "source": [
    "function f($x){\n",
    "\techo $x\n",
    "\techo $x\n",
    "}\n",
    "$env:Path\n",
    "get-\n",
    "f 4\n",
    "f 44\n"
   ]
  }
 ],
 "metadata": {
  "kernelspec": {
   "display_name": ".NET (PowerShell)",
   "language": "PowerShell",
   "name": ".net-powershell"
  },
  "language_info": {
   "file_extension": ".ps1",
   "mimetype": "text/x-powershell",
   "name": "PowerShell",
   "pygments_lexer": "powershell",
   "version": "7.0"
  }
 },
 "nbformat": 4,
 "nbformat_minor": 5
}
