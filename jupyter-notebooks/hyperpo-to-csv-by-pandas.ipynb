{
 "cells": [
  {
   "cell_type": "code",
   "execution_count": 2,
   "id": "senior-worthy",
   "metadata": {},
   "outputs": [],
   "source": [
    "to csv"
   ]
  },
  {
   "cell_type": "code",
   "execution_count": 40,
   "id": "7345b494",
   "metadata": {},
   "outputs": [],
   "source": [
    "## https://hyperpolyglot.org/numerical-analysis2#tables\n",
    "import pandas as pd\n",
    "import csv\n",
    "import numpy as np"
   ]
  },
  {
   "cell_type": "code",
   "execution_count": 41,
   "id": "ed37d0cb",
   "metadata": {},
   "outputs": [
    {
     "name": "stderr",
     "output_type": "stream",
     "text": [
      "A subdirectory or file ../overwrite/foo/../hyperpolyglot--html-backup already exists.\n",
      "A subdirectory or file ../overwrite/foo/../hyperpolyglot----PANDAS already exists.\n",
      "A subdirectory or file ../overwrite/foo already exists.\n"
     ]
    }
   ],
   "source": [
    "%mkdir  \"../overwrite/foo/../hyperpolyglot--html-backup\"\n",
    "%mkdir  \"../overwrite/foo/../hyperpolyglot----PANDAS\"\n",
    "%mkdir  \"../overwrite/foo\""
   ]
  },
  {
   "cell_type": "code",
   "execution_count": 42,
   "id": "92169b0f",
   "metadata": {},
   "outputs": [],
   "source": [
    "\n",
    "str1='../hyperpolyglot--html-backup/text-mode-editors.html'\n",
    "\n",
    "#str1='../hyperpolyglot--html-backup/lisp.html'\n",
    "\n",
    "#str1='../hyperpolyglot----PANDAS/spreadsheet-issue-1-apos-equ-plus-minus--active characters at the start of a cell.xhtml'\n",
    "\n",
    "\n",
    "## pd.read_html('C:\\\\Users\\\\marti\\\\OneDrive\\\\hyperpolyglot--html-backup\\\\Scripting Languages II_ Perl, Lua, Groovy - Hyperpolyglot.html')\n",
    "\n",
    "##pd.read_html('C:\\\\Users\\\\marti\\\\OneDrive\\\\hyperpolyglot--html-backup\\\\scripting.html')\n",
    "\n",
    "##pd.read_html('C:\\\\Users\\\\marti\\\\OneDrive\\\\hyperpolyglot--html-backup\\\\ml.html')\n"
   ]
  },
  {
   "cell_type": "code",
   "execution_count": 43,
   "id": "185b3b37",
   "metadata": {},
   "outputs": [],
   "source": [
    "# python js\n",
    "\n",
    "str1='../hyperpolyglot--html-backup/Scripting Languages I_ Node.js, Python, PHP, Ruby - 2 - Hyperpolyglot.html'\n",
    "str1='../hyperpolyglot--html-backup/Scripting Languages I_ Node.js, Python, PHP, Ruby - Hyperpolyglot.html'\n"
   ]
  },
  {
   "cell_type": "code",
   "execution_count": null,
   "id": "6de5a326",
   "metadata": {},
   "outputs": [],
   "source": [
    "# emacs\n",
    "str1='../hyperpolyglot--html-backup/text-mode-editors.html'\n"
   ]
  },
  {
   "cell_type": "code",
   "execution_count": 44,
   "id": "8357da9d",
   "metadata": {},
   "outputs": [],
   "source": [
    "with open(str1,encoding='utf-8' )  as f:    fstr=f.read().strip()\n",
    "    #fstr\n"
   ]
  },
  {
   "cell_type": "code",
   "execution_count": 45,
   "id": "6e38ebd9",
   "metadata": {},
   "outputs": [],
   "source": [
    "##fstr[3870:3872]\n",
    "# </a><br />\\n<span style=\"white-space: pre-wrap;\">\\xa0</s\n",
    "#fstr[3800:3872]"
   ]
  },
  {
   "cell_type": "code",
   "execution_count": 46,
   "id": "cdf63199",
   "metadata": {},
   "outputs": [],
   "source": [
    "##s2=fstr.replace('\\n',' @@@\\n')\n",
    "#s2=fstr.replace('\\n','@@@@\\n')\n",
    "#s2=fstr.replace('\\n','@@@\\n')\n",
    "#s2=fstr.replace('\\n','.....\\n')\n",
    "s2=fstr.replace('\\n','....\\n')"
   ]
  },
  {
   "cell_type": "code",
   "execution_count": 86,
   "id": "63305050",
   "metadata": {},
   "outputs": [],
   "source": [
    "#dfs=pd.read_html(str1,  flavor='bs4')\n",
    "dfs=pd.read_html(s2, header=0  , flavor='bs4',  keep_default_na=False )\n",
    "##dfs=pd.read_html(s2,  flavor='bs4',  keep_default_na=False )\n",
    "df=dfs[0]\n"
   ]
  },
  {
   "cell_type": "code",
   "execution_count": 93,
   "id": "96cc4cf5",
   "metadata": {},
   "outputs": [
    {
     "data": {
      "text/html": [
       "<div>\n",
       "<style scoped>\n",
       "    .dataframe tbody tr th:only-of-type {\n",
       "        vertical-align: middle;\n",
       "    }\n",
       "\n",
       "    .dataframe tbody tr th {\n",
       "        vertical-align: top;\n",
       "    }\n",
       "\n",
       "    .dataframe thead th {\n",
       "        text-align: right;\n",
       "    }\n",
       "</style>\n",
       "<table border=\"1\" class=\"dataframe\">\n",
       "  <thead>\n",
       "    <tr style=\"text-align: right;\">\n",
       "      <th></th>\n",
       "      <th>version</th>\n",
       "      <th>version.1</th>\n",
       "      <th>version.2</th>\n",
       "      <th>version.3</th>\n",
       "      <th>version.4</th>\n",
       "    </tr>\n",
       "  </thead>\n",
       "  <tbody>\n",
       "    <tr>\n",
       "      <th>0</th>\n",
       "      <td></td>\n",
       "      <td>node.js</td>\n",
       "      <td>python</td>\n",
       "      <td>php</td>\n",
       "      <td>ruby</td>\n",
       "    </tr>\n",
       "    <tr>\n",
       "      <th>1</th>\n",
       "      <td>version used....</td>\n",
       "      <td>6.11</td>\n",
       "      <td>3.6</td>\n",
       "      <td>7.0</td>\n",
       "      <td>2.3</td>\n",
       "    </tr>\n",
       "    <tr>\n",
       "      <th>2</th>\n",
       "      <td>show version....</td>\n",
       "      <td>$ node --version</td>\n",
       "      <td>$ python -V.... $ python --version</td>\n",
       "      <td>$ php --version</td>\n",
       "      <td>$ ruby --version</td>\n",
       "    </tr>\n",
       "    <tr>\n",
       "      <th>3</th>\n",
       "      <td>implicit prologue....</td>\n",
       "      <td>// npm install lodash.... const _ = require('l...</td>\n",
       "      <td>import os, re, sys</td>\n",
       "      <td># sudo apt install php-mbstring</td>\n",
       "      <td>none</td>\n",
       "    </tr>\n",
       "    <tr>\n",
       "      <th>4</th>\n",
       "      <td>grammar and execution</td>\n",
       "      <td>grammar and execution</td>\n",
       "      <td>grammar and execution</td>\n",
       "      <td>grammar and execution</td>\n",
       "      <td>grammar and execution</td>\n",
       "    </tr>\n",
       "    <tr>\n",
       "      <th>...</th>\n",
       "      <td>...</td>\n",
       "      <td>...</td>\n",
       "      <td>...</td>\n",
       "      <td>...</td>\n",
       "      <td>...</td>\n",
       "    </tr>\n",
       "    <tr>\n",
       "      <th>228</th>\n",
       "      <td>start thread....</td>\n",
       "      <td></td>\n",
       "      <td>class sleep10(threading.Thread):....  def run(...</td>\n",
       "      <td></td>\n",
       "      <td>thr = Thread.new { sleep 10 }</td>\n",
       "    </tr>\n",
       "    <tr>\n",
       "      <th>229</th>\n",
       "      <td>wait on thread....</td>\n",
       "      <td></td>\n",
       "      <td>thr.join()</td>\n",
       "      <td></td>\n",
       "      <td>thr.join</td>\n",
       "    </tr>\n",
       "    <tr>\n",
       "      <th>230</th>\n",
       "      <td>sleep</td>\n",
       "      <td></td>\n",
       "      <td>import time.... .... time.sleep(0.5)</td>\n",
       "      <td># a float argument will be truncated.... # to ...</td>\n",
       "      <td>sleep(0.5)</td>\n",
       "    </tr>\n",
       "    <tr>\n",
       "      <th>231</th>\n",
       "      <td>timeout</td>\n",
       "      <td></td>\n",
       "      <td>import signal, time.... .... class Timeout(Exc...</td>\n",
       "      <td>use set_time_limit to limit execution time of ...</td>\n",
       "      <td>require 'timeout'.... .... begin....  Timeout....</td>\n",
       "    </tr>\n",
       "    <tr>\n",
       "      <th>232</th>\n",
       "      <td></td>\n",
       "      <td>______________________________________________...</td>\n",
       "      <td>______________________________________________...</td>\n",
       "      <td>______________________________________________...</td>\n",
       "      <td>______________________________________________...</td>\n",
       "    </tr>\n",
       "  </tbody>\n",
       "</table>\n",
       "<p>233 rows × 5 columns</p>\n",
       "</div>"
      ],
      "text/plain": [
       "                   version                                          version.1  \\\n",
       "0                                                                     node.js   \n",
       "1         version used....                                               6.11   \n",
       "2         show version....                                   $ node --version   \n",
       "3    implicit prologue....  // npm install lodash.... const _ = require('l...   \n",
       "4    grammar and execution                              grammar and execution   \n",
       "..                     ...                                                ...   \n",
       "228       start thread....                                                      \n",
       "229     wait on thread....                                                      \n",
       "230                  sleep                                                      \n",
       "231                timeout                                                      \n",
       "232                         ______________________________________________...   \n",
       "\n",
       "                                             version.2  \\\n",
       "0                                               python   \n",
       "1                                                  3.6   \n",
       "2                   $ python -V.... $ python --version   \n",
       "3                                   import os, re, sys   \n",
       "4                                grammar and execution   \n",
       "..                                                 ...   \n",
       "228  class sleep10(threading.Thread):....  def run(...   \n",
       "229                                         thr.join()   \n",
       "230               import time.... .... time.sleep(0.5)   \n",
       "231  import signal, time.... .... class Timeout(Exc...   \n",
       "232  ______________________________________________...   \n",
       "\n",
       "                                             version.3  \\\n",
       "0                                                  php   \n",
       "1                                                  7.0   \n",
       "2                                      $ php --version   \n",
       "3                      # sudo apt install php-mbstring   \n",
       "4                                grammar and execution   \n",
       "..                                                 ...   \n",
       "228                                                      \n",
       "229                                                      \n",
       "230  # a float argument will be truncated.... # to ...   \n",
       "231  use set_time_limit to limit execution time of ...   \n",
       "232  ______________________________________________...   \n",
       "\n",
       "                                             version.4  \n",
       "0                                                 ruby  \n",
       "1                                                  2.3  \n",
       "2                                     $ ruby --version  \n",
       "3                                                 none  \n",
       "4                                grammar and execution  \n",
       "..                                                 ...  \n",
       "228                      thr = Thread.new { sleep 10 }  \n",
       "229                                           thr.join  \n",
       "230                                         sleep(0.5)  \n",
       "231  require 'timeout'.... .... begin....  Timeout....  \n",
       "232  ______________________________________________...  \n",
       "\n",
       "[233 rows x 5 columns]"
      ]
     },
     "execution_count": 93,
     "metadata": {},
     "output_type": "execute_result"
    }
   ],
   "source": [
    "df"
   ]
  },
  {
   "cell_type": "code",
   "execution_count": null,
   "id": "b33ba67e",
   "metadata": {},
   "outputs": [],
   "source": []
  },
  {
   "cell_type": "code",
   "execution_count": 94,
   "id": "c7169fdb",
   "metadata": {},
   "outputs": [
    {
     "data": {
      "text/plain": [
       "\"'=\\n.\""
      ]
     },
     "execution_count": 94,
     "metadata": {},
     "output_type": "execute_result"
    }
   ],
   "source": [
    "#f2\n",
    "\n",
    "def f2(x):\n",
    "    if x.startswith('='):\n",
    "        x=\"'\"+x\n",
    "    return x.replace('....','\\n').strip()\n",
    "\n",
    "f2('=..... .... ')"
   ]
  },
  {
   "cell_type": "code",
   "execution_count": 95,
   "id": "6c2c4dff",
   "metadata": {},
   "outputs": [],
   "source": [
    "\n",
    "#df.replace(to_replace='....', value='\\n', regex=False)\n",
    "df2=df.applymap(f2)"
   ]
  },
  {
   "cell_type": "code",
   "execution_count": 96,
   "id": "84cab92a",
   "metadata": {},
   "outputs": [
    {
     "data": {
      "text/html": [
       "<div>\n",
       "<style scoped>\n",
       "    .dataframe tbody tr th:only-of-type {\n",
       "        vertical-align: middle;\n",
       "    }\n",
       "\n",
       "    .dataframe tbody tr th {\n",
       "        vertical-align: top;\n",
       "    }\n",
       "\n",
       "    .dataframe thead th {\n",
       "        text-align: right;\n",
       "    }\n",
       "</style>\n",
       "<table border=\"1\" class=\"dataframe\">\n",
       "  <thead>\n",
       "    <tr style=\"text-align: right;\">\n",
       "      <th></th>\n",
       "      <th>version</th>\n",
       "      <th>version.1</th>\n",
       "      <th>version.2</th>\n",
       "      <th>version.3</th>\n",
       "      <th>version.4</th>\n",
       "    </tr>\n",
       "  </thead>\n",
       "  <tbody>\n",
       "    <tr>\n",
       "      <th>0</th>\n",
       "      <td></td>\n",
       "      <td>node.js</td>\n",
       "      <td>python</td>\n",
       "      <td>php</td>\n",
       "      <td>ruby</td>\n",
       "    </tr>\n",
       "    <tr>\n",
       "      <th>1</th>\n",
       "      <td>version used</td>\n",
       "      <td>6.11</td>\n",
       "      <td>3.6</td>\n",
       "      <td>7.0</td>\n",
       "      <td>2.3</td>\n",
       "    </tr>\n",
       "    <tr>\n",
       "      <th>2</th>\n",
       "      <td>show version</td>\n",
       "      <td>$ node --version</td>\n",
       "      <td>$ python -V\\n $ python --version</td>\n",
       "      <td>$ php --version</td>\n",
       "      <td>$ ruby --version</td>\n",
       "    </tr>\n",
       "    <tr>\n",
       "      <th>3</th>\n",
       "      <td>implicit prologue</td>\n",
       "      <td>// npm install lodash\\n const _ = require('lod...</td>\n",
       "      <td>import os, re, sys</td>\n",
       "      <td># sudo apt install php-mbstring</td>\n",
       "      <td>none</td>\n",
       "    </tr>\n",
       "    <tr>\n",
       "      <th>4</th>\n",
       "      <td>grammar and execution</td>\n",
       "      <td>grammar and execution</td>\n",
       "      <td>grammar and execution</td>\n",
       "      <td>grammar and execution</td>\n",
       "      <td>grammar and execution</td>\n",
       "    </tr>\n",
       "    <tr>\n",
       "      <th>...</th>\n",
       "      <td>...</td>\n",
       "      <td>...</td>\n",
       "      <td>...</td>\n",
       "      <td>...</td>\n",
       "      <td>...</td>\n",
       "    </tr>\n",
       "    <tr>\n",
       "      <th>228</th>\n",
       "      <td>start thread</td>\n",
       "      <td></td>\n",
       "      <td>class sleep10(threading.Thread):\\n  def run(se...</td>\n",
       "      <td></td>\n",
       "      <td>thr = Thread.new { sleep 10 }</td>\n",
       "    </tr>\n",
       "    <tr>\n",
       "      <th>229</th>\n",
       "      <td>wait on thread</td>\n",
       "      <td></td>\n",
       "      <td>thr.join()</td>\n",
       "      <td></td>\n",
       "      <td>thr.join</td>\n",
       "    </tr>\n",
       "    <tr>\n",
       "      <th>230</th>\n",
       "      <td>sleep</td>\n",
       "      <td></td>\n",
       "      <td>import time\\n \\n time.sleep(0.5)</td>\n",
       "      <td># a float argument will be truncated\\n # to an...</td>\n",
       "      <td>sleep(0.5)</td>\n",
       "    </tr>\n",
       "    <tr>\n",
       "      <th>231</th>\n",
       "      <td>timeout</td>\n",
       "      <td></td>\n",
       "      <td>import signal, time\\n \\n class Timeout(Excepti...</td>\n",
       "      <td>use set_time_limit to limit execution time of ...</td>\n",
       "      <td>require 'timeout'\\n \\n begin\\n  Timeout.timeou...</td>\n",
       "    </tr>\n",
       "    <tr>\n",
       "      <th>232</th>\n",
       "      <td></td>\n",
       "      <td>______________________________________________...</td>\n",
       "      <td>______________________________________________...</td>\n",
       "      <td>______________________________________________...</td>\n",
       "      <td>______________________________________________...</td>\n",
       "    </tr>\n",
       "  </tbody>\n",
       "</table>\n",
       "<p>233 rows × 5 columns</p>\n",
       "</div>"
      ],
      "text/plain": [
       "                   version                                          version.1  \\\n",
       "0                                                                     node.js   \n",
       "1             version used                                               6.11   \n",
       "2             show version                                   $ node --version   \n",
       "3        implicit prologue  // npm install lodash\\n const _ = require('lod...   \n",
       "4    grammar and execution                              grammar and execution   \n",
       "..                     ...                                                ...   \n",
       "228           start thread                                                      \n",
       "229         wait on thread                                                      \n",
       "230                  sleep                                                      \n",
       "231                timeout                                                      \n",
       "232                         ______________________________________________...   \n",
       "\n",
       "                                             version.2  \\\n",
       "0                                               python   \n",
       "1                                                  3.6   \n",
       "2                     $ python -V\\n $ python --version   \n",
       "3                                   import os, re, sys   \n",
       "4                                grammar and execution   \n",
       "..                                                 ...   \n",
       "228  class sleep10(threading.Thread):\\n  def run(se...   \n",
       "229                                         thr.join()   \n",
       "230                   import time\\n \\n time.sleep(0.5)   \n",
       "231  import signal, time\\n \\n class Timeout(Excepti...   \n",
       "232  ______________________________________________...   \n",
       "\n",
       "                                             version.3  \\\n",
       "0                                                  php   \n",
       "1                                                  7.0   \n",
       "2                                      $ php --version   \n",
       "3                      # sudo apt install php-mbstring   \n",
       "4                                grammar and execution   \n",
       "..                                                 ...   \n",
       "228                                                      \n",
       "229                                                      \n",
       "230  # a float argument will be truncated\\n # to an...   \n",
       "231  use set_time_limit to limit execution time of ...   \n",
       "232  ______________________________________________...   \n",
       "\n",
       "                                             version.4  \n",
       "0                                                 ruby  \n",
       "1                                                  2.3  \n",
       "2                                     $ ruby --version  \n",
       "3                                                 none  \n",
       "4                                grammar and execution  \n",
       "..                                                 ...  \n",
       "228                      thr = Thread.new { sleep 10 }  \n",
       "229                                           thr.join  \n",
       "230                                         sleep(0.5)  \n",
       "231  require 'timeout'\\n \\n begin\\n  Timeout.timeou...  \n",
       "232  ______________________________________________...  \n",
       "\n",
       "[233 rows x 5 columns]"
      ]
     },
     "execution_count": 96,
     "metadata": {},
     "output_type": "execute_result"
    }
   ],
   "source": [
    "df2"
   ]
  },
  {
   "cell_type": "code",
   "execution_count": null,
   "id": "94dac47f",
   "metadata": {},
   "outputs": [],
   "source": []
  },
  {
   "cell_type": "code",
   "execution_count": 98,
   "id": "e90c4d36",
   "metadata": {},
   "outputs": [],
   "source": [
    "#alter\n",
    "##dfs=pd.read_html(str1,  flavor='bs4')\n",
    "#dfs=pd.read_html(str1, header=0  , flavor='bs4',  keep_default_na=False)   #, encoding='utf-8')\n",
    "#warnings.warn(\"You provided Unicode markup but also provided a value for from_encoding. Your from_encoding will be ignored.\"\n",
    "#df=dfs[0]\n"
   ]
  },
  {
   "cell_type": "code",
   "execution_count": 97,
   "id": "b536eac6",
   "metadata": {},
   "outputs": [
    {
     "data": {
      "text/plain": [
       "Index(['version', 'version.1', 'version.2', 'version.3', 'version.4'], dtype='object')"
      ]
     },
     "execution_count": 97,
     "metadata": {},
     "output_type": "execute_result"
    }
   ],
   "source": [
    "df.columns"
   ]
  },
  {
   "cell_type": "code",
   "execution_count": 98,
   "id": "20e53710",
   "metadata": {},
   "outputs": [
    {
     "data": {
      "text/plain": [
       "['$ python -V', ' $ python --version']"
      ]
     },
     "execution_count": 98,
     "metadata": {},
     "output_type": "execute_result"
    }
   ],
   "source": [
    "df2.values[2,0]\n",
    "#df.values[:,2]\n",
    "s=df2.values[2,2]\n",
    "s.split('\\n')"
   ]
  },
  {
   "cell_type": "code",
   "execution_count": 99,
   "id": "6e9027ee",
   "metadata": {},
   "outputs": [
    {
     "data": {
      "text/plain": [
       "pandas.core.series.Series"
      ]
     },
     "execution_count": 99,
     "metadata": {},
     "output_type": "execute_result"
    }
   ],
   "source": [
    "type(df2.iloc[30])"
   ]
  },
  {
   "cell_type": "code",
   "execution_count": 100,
   "id": "772a4548",
   "metadata": {},
   "outputs": [
    {
     "data": {
      "text/plain": [
       "'arithmetic and logic'"
      ]
     },
     "execution_count": 100,
     "metadata": {},
     "output_type": "execute_result"
    }
   ],
   "source": [
    "se=df2.iloc[29] #30]\n",
    "se.iat[0]"
   ]
  },
  {
   "cell_type": "code",
   "execution_count": null,
   "id": "d9145456",
   "metadata": {},
   "outputs": [],
   "source": []
  },
  {
   "cell_type": "code",
   "execution_count": 54,
   "id": "b3536c23",
   "metadata": {},
   "outputs": [
    {
     "data": {
      "text/plain": [
       "False"
      ]
     },
     "execution_count": 54,
     "metadata": {},
     "output_type": "execute_result"
    }
   ],
   "source": [
    "1==6==1 # chaining"
   ]
  },
  {
   "cell_type": "code",
   "execution_count": 101,
   "id": "d24892f8",
   "metadata": {},
   "outputs": [],
   "source": [
    "\n",
    "def f4(row):\n",
    "    if (row.iat[0]==row.iat[1]) and row.iat[1]==row.iat[2]:\n",
    "        #return  'section: ' +   row.iat[0]\n",
    "        return     row.iat[0]\n",
    "    else:\n",
    "        return ''\n",
    "    \n",
    "\n",
    "#f2('=..... .... ')"
   ]
  },
  {
   "cell_type": "code",
   "execution_count": null,
   "id": "a1e66b72",
   "metadata": {},
   "outputs": [],
   "source": []
  },
  {
   "cell_type": "code",
   "execution_count": null,
   "id": "e1148701",
   "metadata": {},
   "outputs": [],
   "source": [
    "df5=df2[25:35]"
   ]
  },
  {
   "cell_type": "code",
   "execution_count": 56,
   "id": "736d99b7",
   "metadata": {},
   "outputs": [
    {
     "data": {
      "text/plain": [
       "25                        \n",
       "26                        \n",
       "27                        \n",
       "28                        \n",
       "29    arithmetic and logic\n",
       "30                        \n",
       "31                        \n",
       "32                        \n",
       "33                        \n",
       "34                        \n",
       "dtype: object"
      ]
     },
     "execution_count": 56,
     "metadata": {},
     "output_type": "execute_result"
    }
   ],
   "source": [
    "df5.apply(f4, axis=1)"
   ]
  },
  {
   "cell_type": "code",
   "execution_count": 57,
   "id": "cc72dbf5",
   "metadata": {},
   "outputs": [
    {
     "data": {
      "text/plain": [
       "'version,version.1,version.2,version.3,version.4\\r\\nnull,null,None,NULL # case insensitive,nil\\r\\nnull test,v === null,v is None,\"is_null($v)\\n ! isset($v)\",\"v == nil\\n v.nil?\"\\r\\nundefined variable,\"Evaluates as undefined\\n \\n Use the triple equality === operator to test for this value.\",raises NameError,Evaluates as NULL,raises NameError\\r\\nconditional expression,x > 0 ? x : -x,x if x > 0 else -x,$x > 0 ? $x : -$x,x > 0 ? x : -x\\r\\narithmetic and logic,arithmetic and logic,arithmetic and logic,arithmetic and logic,arithmetic and logic\\r\\n,node.js,python,php,ruby\\r\\ntrue and false,true false,True False,TRUE FALSE # case insensitive,true false\\r\\nfalsehoods,false null undefined \\'\\' 0 NaN,False None 0\\xa00.0 \\'\\' [] {},\"FALSE NULL 0\\xa00.0 \"\"\"\" \"\"0\"\" []\",false nil\\r\\nlogical operators,&& || !,and or not,\"&& || !\\n lower precedence:\\n and or xor\",\"&& || !\\n lower precedence:\\n and or not\"\\r\\nrelational operators,\"\\'=== !== < > >= <=\\n \\n perform type coercion:\\n == !=\",\"relational operators are chainable:\\n == != > < >= <=\",\"\\'== != or <> > < >= <=\\n no conversion: === !==\",\\'== != > < >= <=\\r\\n'"
      ]
     },
     "execution_count": 57,
     "metadata": {},
     "output_type": "execute_result"
    }
   ],
   "source": [
    "#df5.to_csv(header=False, index=False)\n",
    "df5.to_csv( index=False)\n"
   ]
  },
  {
   "cell_type": "code",
   "execution_count": 102,
   "id": "a8098cad",
   "metadata": {},
   "outputs": [],
   "source": [
    "\n",
    "###dfsheet5=df5.replace(to_replace=r'^', value=\"='\", regex=True)\n",
    "###dfsheet=df.replace(to_replace=r'^', value=\"'\", regex=True)\n",
    "dfsheet=df2 #df5 ### copies merely the reference\n",
    "dfsheet=df2.copy() #df5.copy() \n"
   ]
  },
  {
   "cell_type": "code",
   "execution_count": 103,
   "id": "dd2ffa61",
   "metadata": {},
   "outputs": [
    {
     "data": {
      "text/html": [
       "<div>\n",
       "<style scoped>\n",
       "    .dataframe tbody tr th:only-of-type {\n",
       "        vertical-align: middle;\n",
       "    }\n",
       "\n",
       "    .dataframe tbody tr th {\n",
       "        vertical-align: top;\n",
       "    }\n",
       "\n",
       "    .dataframe thead th {\n",
       "        text-align: right;\n",
       "    }\n",
       "</style>\n",
       "<table border=\"1\" class=\"dataframe\">\n",
       "  <thead>\n",
       "    <tr style=\"text-align: right;\">\n",
       "      <th></th>\n",
       "      <th>version</th>\n",
       "      <th>version.1</th>\n",
       "      <th>version.2</th>\n",
       "      <th>version.3</th>\n",
       "      <th>version.4</th>\n",
       "    </tr>\n",
       "  </thead>\n",
       "  <tbody>\n",
       "    <tr>\n",
       "      <th>0</th>\n",
       "      <td></td>\n",
       "      <td>node.js</td>\n",
       "      <td>python</td>\n",
       "      <td>php</td>\n",
       "      <td>ruby</td>\n",
       "    </tr>\n",
       "    <tr>\n",
       "      <th>1</th>\n",
       "      <td>version used</td>\n",
       "      <td>6.11</td>\n",
       "      <td>3.6</td>\n",
       "      <td>7.0</td>\n",
       "      <td>2.3</td>\n",
       "    </tr>\n",
       "    <tr>\n",
       "      <th>2</th>\n",
       "      <td>show version</td>\n",
       "      <td>$ node --version</td>\n",
       "      <td>$ python -V\\n $ python --version</td>\n",
       "      <td>$ php --version</td>\n",
       "      <td>$ ruby --version</td>\n",
       "    </tr>\n",
       "    <tr>\n",
       "      <th>3</th>\n",
       "      <td>implicit prologue</td>\n",
       "      <td>// npm install lodash\\n const _ = require('lod...</td>\n",
       "      <td>import os, re, sys</td>\n",
       "      <td># sudo apt install php-mbstring</td>\n",
       "      <td>none</td>\n",
       "    </tr>\n",
       "    <tr>\n",
       "      <th>4</th>\n",
       "      <td>grammar and execution</td>\n",
       "      <td>grammar and execution</td>\n",
       "      <td>grammar and execution</td>\n",
       "      <td>grammar and execution</td>\n",
       "      <td>grammar and execution</td>\n",
       "    </tr>\n",
       "    <tr>\n",
       "      <th>...</th>\n",
       "      <td>...</td>\n",
       "      <td>...</td>\n",
       "      <td>...</td>\n",
       "      <td>...</td>\n",
       "      <td>...</td>\n",
       "    </tr>\n",
       "    <tr>\n",
       "      <th>228</th>\n",
       "      <td>start thread</td>\n",
       "      <td></td>\n",
       "      <td>class sleep10(threading.Thread):\\n  def run(se...</td>\n",
       "      <td></td>\n",
       "      <td>thr = Thread.new { sleep 10 }</td>\n",
       "    </tr>\n",
       "    <tr>\n",
       "      <th>229</th>\n",
       "      <td>wait on thread</td>\n",
       "      <td></td>\n",
       "      <td>thr.join()</td>\n",
       "      <td></td>\n",
       "      <td>thr.join</td>\n",
       "    </tr>\n",
       "    <tr>\n",
       "      <th>230</th>\n",
       "      <td>sleep</td>\n",
       "      <td></td>\n",
       "      <td>import time\\n \\n time.sleep(0.5)</td>\n",
       "      <td># a float argument will be truncated\\n # to an...</td>\n",
       "      <td>sleep(0.5)</td>\n",
       "    </tr>\n",
       "    <tr>\n",
       "      <th>231</th>\n",
       "      <td>timeout</td>\n",
       "      <td></td>\n",
       "      <td>import signal, time\\n \\n class Timeout(Excepti...</td>\n",
       "      <td>use set_time_limit to limit execution time of ...</td>\n",
       "      <td>require 'timeout'\\n \\n begin\\n  Timeout.timeou...</td>\n",
       "    </tr>\n",
       "    <tr>\n",
       "      <th>232</th>\n",
       "      <td></td>\n",
       "      <td>______________________________________________...</td>\n",
       "      <td>______________________________________________...</td>\n",
       "      <td>______________________________________________...</td>\n",
       "      <td>______________________________________________...</td>\n",
       "    </tr>\n",
       "  </tbody>\n",
       "</table>\n",
       "<p>233 rows × 5 columns</p>\n",
       "</div>"
      ],
      "text/plain": [
       "                   version                                          version.1  \\\n",
       "0                                                                     node.js   \n",
       "1             version used                                               6.11   \n",
       "2             show version                                   $ node --version   \n",
       "3        implicit prologue  // npm install lodash\\n const _ = require('lod...   \n",
       "4    grammar and execution                              grammar and execution   \n",
       "..                     ...                                                ...   \n",
       "228           start thread                                                      \n",
       "229         wait on thread                                                      \n",
       "230                  sleep                                                      \n",
       "231                timeout                                                      \n",
       "232                         ______________________________________________...   \n",
       "\n",
       "                                             version.2  \\\n",
       "0                                               python   \n",
       "1                                                  3.6   \n",
       "2                     $ python -V\\n $ python --version   \n",
       "3                                   import os, re, sys   \n",
       "4                                grammar and execution   \n",
       "..                                                 ...   \n",
       "228  class sleep10(threading.Thread):\\n  def run(se...   \n",
       "229                                         thr.join()   \n",
       "230                   import time\\n \\n time.sleep(0.5)   \n",
       "231  import signal, time\\n \\n class Timeout(Excepti...   \n",
       "232  ______________________________________________...   \n",
       "\n",
       "                                             version.3  \\\n",
       "0                                                  php   \n",
       "1                                                  7.0   \n",
       "2                                      $ php --version   \n",
       "3                      # sudo apt install php-mbstring   \n",
       "4                                grammar and execution   \n",
       "..                                                 ...   \n",
       "228                                                      \n",
       "229                                                      \n",
       "230  # a float argument will be truncated\\n # to an...   \n",
       "231  use set_time_limit to limit execution time of ...   \n",
       "232  ______________________________________________...   \n",
       "\n",
       "                                             version.4  \n",
       "0                                                 ruby  \n",
       "1                                                  2.3  \n",
       "2                                     $ ruby --version  \n",
       "3                                                 none  \n",
       "4                                grammar and execution  \n",
       "..                                                 ...  \n",
       "228                      thr = Thread.new { sleep 10 }  \n",
       "229                                           thr.join  \n",
       "230                                         sleep(0.5)  \n",
       "231  require 'timeout'\\n \\n begin\\n  Timeout.timeou...  \n",
       "232  ______________________________________________...  \n",
       "\n",
       "[233 rows x 5 columns]"
      ]
     },
     "execution_count": 103,
     "metadata": {},
     "output_type": "execute_result"
    }
   ],
   "source": [
    "df2"
   ]
  },
  {
   "cell_type": "code",
   "execution_count": 104,
   "id": "64f21aa5",
   "metadata": {},
   "outputs": [],
   "source": [
    "se3= dfsheet.apply(f4, axis=1)"
   ]
  },
  {
   "cell_type": "code",
   "execution_count": 105,
   "id": "da371b35",
   "metadata": {},
   "outputs": [
    {
     "data": {
      "text/plain": [
       "4          grammar and execution\n",
       "14     variables and expressions\n",
       "29          arithmetic and logic\n",
       "60                       strings\n",
       "98           regular expressions\n",
       "114               dates and time\n",
       "134                       arrays\n",
       "169                 dictionaries\n",
       "185                    functions\n",
       "206            execution control\n",
       "215                   exceptions\n",
       "226                      threads\n",
       "dtype: object"
      ]
     },
     "execution_count": 105,
     "metadata": {},
     "output_type": "execute_result"
    }
   ],
   "source": [
    "se3[se3!='']"
   ]
  },
  {
   "cell_type": "code",
   "execution_count": 106,
   "id": "50aaa8c2",
   "metadata": {},
   "outputs": [],
   "source": [
    "se3[se3==''] = np.nan\n",
    "se3[0]=df.columns[0]"
   ]
  },
  {
   "cell_type": "code",
   "execution_count": 107,
   "id": "bd8ef1bd",
   "metadata": {},
   "outputs": [],
   "source": [
    "#se3.ffill(inplace=True, )\n",
    "se4=se3.ffill( )"
   ]
  },
  {
   "cell_type": "code",
   "execution_count": 108,
   "id": "6861d035",
   "metadata": {},
   "outputs": [
    {
     "data": {
      "text/plain": [
       "0                    version\n",
       "1                    version\n",
       "2                    version\n",
       "3                    version\n",
       "4      grammar and execution\n",
       "               ...          \n",
       "228                  threads\n",
       "229                  threads\n",
       "230                  threads\n",
       "231                  threads\n",
       "232                  threads\n",
       "Length: 233, dtype: object"
      ]
     },
     "execution_count": 108,
     "metadata": {},
     "output_type": "execute_result"
    }
   ],
   "source": [
    "se4"
   ]
  },
  {
   "cell_type": "code",
   "execution_count": 109,
   "id": "dc86bd76",
   "metadata": {},
   "outputs": [],
   "source": [
    "dfsheet3=dfsheet ### copies merely the reference\n",
    "dfsheet3=dfsheet.copy()\n",
    "dfsheet3.insert(0,'section',se4 )   #se3)"
   ]
  },
  {
   "cell_type": "code",
   "execution_count": 111,
   "id": "87be1d95",
   "metadata": {},
   "outputs": [
    {
     "data": {
      "text/html": [
       "<div>\n",
       "<style scoped>\n",
       "    .dataframe tbody tr th:only-of-type {\n",
       "        vertical-align: middle;\n",
       "    }\n",
       "\n",
       "    .dataframe tbody tr th {\n",
       "        vertical-align: top;\n",
       "    }\n",
       "\n",
       "    .dataframe thead th {\n",
       "        text-align: right;\n",
       "    }\n",
       "</style>\n",
       "<table border=\"1\" class=\"dataframe\">\n",
       "  <thead>\n",
       "    <tr style=\"text-align: right;\">\n",
       "      <th></th>\n",
       "      <th>section</th>\n",
       "      <th>version</th>\n",
       "      <th>version.1</th>\n",
       "      <th>version.2</th>\n",
       "      <th>version.3</th>\n",
       "      <th>version.4</th>\n",
       "    </tr>\n",
       "  </thead>\n",
       "  <tbody>\n",
       "    <tr>\n",
       "      <th>0</th>\n",
       "      <td>version</td>\n",
       "      <td></td>\n",
       "      <td>node.js</td>\n",
       "      <td>python</td>\n",
       "      <td>php</td>\n",
       "      <td>ruby</td>\n",
       "    </tr>\n",
       "    <tr>\n",
       "      <th>1</th>\n",
       "      <td>version</td>\n",
       "      <td>version used</td>\n",
       "      <td>6.11</td>\n",
       "      <td>3.6</td>\n",
       "      <td>7.0</td>\n",
       "      <td>2.3</td>\n",
       "    </tr>\n",
       "    <tr>\n",
       "      <th>2</th>\n",
       "      <td>version</td>\n",
       "      <td>show version</td>\n",
       "      <td>$ node --version</td>\n",
       "      <td>$ python -V\\n $ python --version</td>\n",
       "      <td>$ php --version</td>\n",
       "      <td>$ ruby --version</td>\n",
       "    </tr>\n",
       "    <tr>\n",
       "      <th>3</th>\n",
       "      <td>version</td>\n",
       "      <td>implicit prologue</td>\n",
       "      <td>// npm install lodash\\n const _ = require('lod...</td>\n",
       "      <td>import os, re, sys</td>\n",
       "      <td># sudo apt install php-mbstring</td>\n",
       "      <td>none</td>\n",
       "    </tr>\n",
       "    <tr>\n",
       "      <th>4</th>\n",
       "      <td>grammar and execution</td>\n",
       "      <td>grammar and execution</td>\n",
       "      <td>grammar and execution</td>\n",
       "      <td>grammar and execution</td>\n",
       "      <td>grammar and execution</td>\n",
       "      <td>grammar and execution</td>\n",
       "    </tr>\n",
       "    <tr>\n",
       "      <th>...</th>\n",
       "      <td>...</td>\n",
       "      <td>...</td>\n",
       "      <td>...</td>\n",
       "      <td>...</td>\n",
       "      <td>...</td>\n",
       "      <td>...</td>\n",
       "    </tr>\n",
       "    <tr>\n",
       "      <th>228</th>\n",
       "      <td>threads</td>\n",
       "      <td>start thread</td>\n",
       "      <td></td>\n",
       "      <td>class sleep10(threading.Thread):\\n  def run(se...</td>\n",
       "      <td></td>\n",
       "      <td>thr = Thread.new { sleep 10 }</td>\n",
       "    </tr>\n",
       "    <tr>\n",
       "      <th>229</th>\n",
       "      <td>threads</td>\n",
       "      <td>wait on thread</td>\n",
       "      <td></td>\n",
       "      <td>thr.join()</td>\n",
       "      <td></td>\n",
       "      <td>thr.join</td>\n",
       "    </tr>\n",
       "    <tr>\n",
       "      <th>230</th>\n",
       "      <td>threads</td>\n",
       "      <td>sleep</td>\n",
       "      <td></td>\n",
       "      <td>import time\\n \\n time.sleep(0.5)</td>\n",
       "      <td># a float argument will be truncated\\n # to an...</td>\n",
       "      <td>sleep(0.5)</td>\n",
       "    </tr>\n",
       "    <tr>\n",
       "      <th>231</th>\n",
       "      <td>threads</td>\n",
       "      <td>timeout</td>\n",
       "      <td></td>\n",
       "      <td>import signal, time\\n \\n class Timeout(Excepti...</td>\n",
       "      <td>use set_time_limit to limit execution time of ...</td>\n",
       "      <td>require 'timeout'\\n \\n begin\\n  Timeout.timeou...</td>\n",
       "    </tr>\n",
       "    <tr>\n",
       "      <th>232</th>\n",
       "      <td>threads</td>\n",
       "      <td></td>\n",
       "      <td>______________________________________________...</td>\n",
       "      <td>______________________________________________...</td>\n",
       "      <td>______________________________________________...</td>\n",
       "      <td>______________________________________________...</td>\n",
       "    </tr>\n",
       "  </tbody>\n",
       "</table>\n",
       "<p>233 rows × 6 columns</p>\n",
       "</div>"
      ],
      "text/plain": [
       "                   section                version  \\\n",
       "0                  version                          \n",
       "1                  version           version used   \n",
       "2                  version           show version   \n",
       "3                  version      implicit prologue   \n",
       "4    grammar and execution  grammar and execution   \n",
       "..                     ...                    ...   \n",
       "228                threads           start thread   \n",
       "229                threads         wait on thread   \n",
       "230                threads                  sleep   \n",
       "231                threads                timeout   \n",
       "232                threads                          \n",
       "\n",
       "                                             version.1  \\\n",
       "0                                              node.js   \n",
       "1                                                 6.11   \n",
       "2                                     $ node --version   \n",
       "3    // npm install lodash\\n const _ = require('lod...   \n",
       "4                                grammar and execution   \n",
       "..                                                 ...   \n",
       "228                                                      \n",
       "229                                                      \n",
       "230                                                      \n",
       "231                                                      \n",
       "232  ______________________________________________...   \n",
       "\n",
       "                                             version.2  \\\n",
       "0                                               python   \n",
       "1                                                  3.6   \n",
       "2                     $ python -V\\n $ python --version   \n",
       "3                                   import os, re, sys   \n",
       "4                                grammar and execution   \n",
       "..                                                 ...   \n",
       "228  class sleep10(threading.Thread):\\n  def run(se...   \n",
       "229                                         thr.join()   \n",
       "230                   import time\\n \\n time.sleep(0.5)   \n",
       "231  import signal, time\\n \\n class Timeout(Excepti...   \n",
       "232  ______________________________________________...   \n",
       "\n",
       "                                             version.3  \\\n",
       "0                                                  php   \n",
       "1                                                  7.0   \n",
       "2                                      $ php --version   \n",
       "3                      # sudo apt install php-mbstring   \n",
       "4                                grammar and execution   \n",
       "..                                                 ...   \n",
       "228                                                      \n",
       "229                                                      \n",
       "230  # a float argument will be truncated\\n # to an...   \n",
       "231  use set_time_limit to limit execution time of ...   \n",
       "232  ______________________________________________...   \n",
       "\n",
       "                                             version.4  \n",
       "0                                                 ruby  \n",
       "1                                                  2.3  \n",
       "2                                     $ ruby --version  \n",
       "3                                                 none  \n",
       "4                                grammar and execution  \n",
       "..                                                 ...  \n",
       "228                      thr = Thread.new { sleep 10 }  \n",
       "229                                           thr.join  \n",
       "230                                         sleep(0.5)  \n",
       "231  require 'timeout'\\n \\n begin\\n  Timeout.timeou...  \n",
       "232  ______________________________________________...  \n",
       "\n",
       "[233 rows x 6 columns]"
      ]
     },
     "execution_count": 111,
     "metadata": {},
     "output_type": "execute_result"
    }
   ],
   "source": [
    "dfsheet3 #[25:35]"
   ]
  },
  {
   "cell_type": "code",
   "execution_count": 112,
   "id": "e0272e22",
   "metadata": {},
   "outputs": [],
   "source": [
    "dfsheet9=dfsheet3 ### copies merely the reference\n",
    "dfsheet9=dfsheet3.copy()\n"
   ]
  },
  {
   "cell_type": "code",
   "execution_count": 113,
   "id": "7075eb8c",
   "metadata": {},
   "outputs": [],
   "source": [
    "#del dfsheet"
   ]
  },
  {
   "cell_type": "code",
   "execution_count": 114,
   "id": "3bc08e3a",
   "metadata": {},
   "outputs": [
    {
     "name": "stdout",
     "output_type": "stream",
     "text": [
      "../overwrite/foo/../hyperpolyglot--html-backup/Scripting Languages I_ Node.js, Python, PHP, Ruby - Hyperpolyglot.html.csv\n"
     ]
    }
   ],
   "source": [
    "#fname2= '../overwrite/foo/'+     str1+'--martin12333'+'.csv'\n",
    "fname2= '../overwrite/foo/'+     str1+'.csv'\n",
    "##fname3= '../overwrite/hyperpolyglot.f8'+ fname3b\n",
    "\n",
    "fnamexlsx= '../overwrite/foo/'+     str1+'.xlsx'\n",
    "print(fname2)"
   ]
  },
  {
   "cell_type": "code",
   "execution_count": 115,
   "id": "55dce004",
   "metadata": {},
   "outputs": [],
   "source": [
    "#dfsheet.to_excel(fnamexlsx, index=False, header=False)\n"
   ]
  },
  {
   "cell_type": "code",
   "execution_count": 116,
   "id": "0ad33489",
   "metadata": {},
   "outputs": [],
   "source": [
    "\n",
    "##alter\n",
    "\n",
    "#test =dfsheet # df5 # pd.DataFrame(biglist)\n",
    "#writer = pd.ExcelWriter(  fnamexlsx  ,   engine='xlsxwriter')\n",
    "#test.to_excel(writer,sheet_name='test', index=False, header=False)\n",
    "#writer.save()"
   ]
  },
  {
   "cell_type": "code",
   "execution_count": 117,
   "id": "58b656e8",
   "metadata": {},
   "outputs": [],
   "source": [
    "## !!spreadsheet issue #1  ... 'x ... = ... +x ... (active characters ... '=+ ...) at the start of a cell (excel online also ... - x ... )\n",
    "## spreadsheet-issue-1-apos-equ-plus-minus--active characters at the start of a cell (excel online also ... - x ... )\n"
   ]
  },
  {
   "cell_type": "code",
   "execution_count": 118,
   "id": "ca1bd1f5",
   "metadata": {},
   "outputs": [],
   "source": [
    "\n",
    "\n",
    "dfsheet9.to_csv(path_or_buf=fname2, header=False, index=False)"
   ]
  },
  {
   "cell_type": "code",
   "execution_count": null,
   "id": "6b410bde",
   "metadata": {},
   "outputs": [],
   "source": []
  },
  {
   "cell_type": "code",
   "execution_count": 119,
   "id": "8c29665a",
   "metadata": {},
   "outputs": [
    {
     "data": {
      "text/html": [
       "<div>\n",
       "<style scoped>\n",
       "    .dataframe tbody tr th:only-of-type {\n",
       "        vertical-align: middle;\n",
       "    }\n",
       "\n",
       "    .dataframe tbody tr th {\n",
       "        vertical-align: top;\n",
       "    }\n",
       "\n",
       "    .dataframe thead th {\n",
       "        text-align: right;\n",
       "    }\n",
       "</style>\n",
       "<table border=\"1\" class=\"dataframe\">\n",
       "  <thead>\n",
       "    <tr style=\"text-align: right;\">\n",
       "      <th></th>\n",
       "      <th>section</th>\n",
       "      <th>version</th>\n",
       "      <th>version.1</th>\n",
       "      <th>version.2</th>\n",
       "      <th>version.3</th>\n",
       "      <th>version.4</th>\n",
       "    </tr>\n",
       "  </thead>\n",
       "  <tbody>\n",
       "    <tr>\n",
       "      <th>0</th>\n",
       "      <td>version</td>\n",
       "      <td></td>\n",
       "      <td>node.js</td>\n",
       "      <td>python</td>\n",
       "      <td>php</td>\n",
       "      <td>ruby</td>\n",
       "    </tr>\n",
       "    <tr>\n",
       "      <th>1</th>\n",
       "      <td>version</td>\n",
       "      <td>version used</td>\n",
       "      <td>6.11</td>\n",
       "      <td>3.6</td>\n",
       "      <td>7.0</td>\n",
       "      <td>2.3</td>\n",
       "    </tr>\n",
       "    <tr>\n",
       "      <th>2</th>\n",
       "      <td>version</td>\n",
       "      <td>show version</td>\n",
       "      <td>$ node --version</td>\n",
       "      <td>$ python -V\\n $ python --version</td>\n",
       "      <td>$ php --version</td>\n",
       "      <td>$ ruby --version</td>\n",
       "    </tr>\n",
       "    <tr>\n",
       "      <th>3</th>\n",
       "      <td>version</td>\n",
       "      <td>implicit prologue</td>\n",
       "      <td>// npm install lodash\\n const _ = require('lod...</td>\n",
       "      <td>import os, re, sys</td>\n",
       "      <td># sudo apt install php-mbstring</td>\n",
       "      <td>none</td>\n",
       "    </tr>\n",
       "    <tr>\n",
       "      <th>4</th>\n",
       "      <td>grammar and execution</td>\n",
       "      <td>grammar and execution</td>\n",
       "      <td>grammar and execution</td>\n",
       "      <td>grammar and execution</td>\n",
       "      <td>grammar and execution</td>\n",
       "      <td>grammar and execution</td>\n",
       "    </tr>\n",
       "    <tr>\n",
       "      <th>5</th>\n",
       "      <td>grammar and execution</td>\n",
       "      <td></td>\n",
       "      <td>node.js</td>\n",
       "      <td>python</td>\n",
       "      <td>php</td>\n",
       "      <td>ruby</td>\n",
       "    </tr>\n",
       "    <tr>\n",
       "      <th>6</th>\n",
       "      <td>grammar and execution</td>\n",
       "      <td>interpreter</td>\n",
       "      <td>$ node foo.js</td>\n",
       "      <td>$ python foo.py</td>\n",
       "      <td>$ php -f foo.php</td>\n",
       "      <td>$ ruby foo.rb</td>\n",
       "    </tr>\n",
       "    <tr>\n",
       "      <th>7</th>\n",
       "      <td>grammar and execution</td>\n",
       "      <td>repl</td>\n",
       "      <td>$ node</td>\n",
       "      <td>$ python</td>\n",
       "      <td>$ php -a</td>\n",
       "      <td>$ irb</td>\n",
       "    </tr>\n",
       "    <tr>\n",
       "      <th>8</th>\n",
       "      <td>grammar and execution</td>\n",
       "      <td>command line program</td>\n",
       "      <td>$ node -e \"console.log('hi!');\"</td>\n",
       "      <td>$ python -c 'print(\"hi!\")'</td>\n",
       "      <td>$ php -r 'echo \"hi!\\n\";'</td>\n",
       "      <td>$ ruby -e 'puts \"hi!\"'</td>\n",
       "    </tr>\n",
       "    <tr>\n",
       "      <th>9</th>\n",
       "      <td>grammar and execution</td>\n",
       "      <td>block delimiters</td>\n",
       "      <td>{}</td>\n",
       "      <td>: and offside rule</td>\n",
       "      <td>{}</td>\n",
       "      <td>{}\\n do end</td>\n",
       "    </tr>\n",
       "    <tr>\n",
       "      <th>10</th>\n",
       "      <td>grammar and execution</td>\n",
       "      <td>statement separator</td>\n",
       "      <td>; or newline\\n \\n newline not separator inside...</td>\n",
       "      <td>newline or ;\\n \\n newlines not separators insi...</td>\n",
       "      <td>;\\n \\n statements must be semicolon terminated...</td>\n",
       "      <td>newline or ;\\n \\n newlines not separators insi...</td>\n",
       "    </tr>\n",
       "    <tr>\n",
       "      <th>11</th>\n",
       "      <td>grammar and execution</td>\n",
       "      <td>source code encoding</td>\n",
       "      <td>source is always UTF-8</td>\n",
       "      <td>Python 3 source is UTF-8 by default; Python 2 ...</td>\n",
       "      <td>none</td>\n",
       "      <td>Ruby 2.0 source is UTF-8 by default\\n \\n # -*-...</td>\n",
       "    </tr>\n",
       "    <tr>\n",
       "      <th>12</th>\n",
       "      <td>grammar and execution</td>\n",
       "      <td>end-of-line comment</td>\n",
       "      <td>// comment</td>\n",
       "      <td># comment</td>\n",
       "      <td>// comment\\n # comment</td>\n",
       "      <td># comment</td>\n",
       "    </tr>\n",
       "    <tr>\n",
       "      <th>13</th>\n",
       "      <td>grammar and execution</td>\n",
       "      <td>multiple line comment</td>\n",
       "      <td>/* line\\n another line */</td>\n",
       "      <td>use triple quote string literal:\\n \\n '''comme...</td>\n",
       "      <td>/* comment line\\n another line */</td>\n",
       "      <td>'=begin\\n comment line\\n another line\\n =end</td>\n",
       "    </tr>\n",
       "    <tr>\n",
       "      <th>14</th>\n",
       "      <td>variables and expressions</td>\n",
       "      <td>variables and expressions</td>\n",
       "      <td>variables and expressions</td>\n",
       "      <td>variables and expressions</td>\n",
       "      <td>variables and expressions</td>\n",
       "      <td>variables and expressions</td>\n",
       "    </tr>\n",
       "    <tr>\n",
       "      <th>15</th>\n",
       "      <td>variables and expressions</td>\n",
       "      <td></td>\n",
       "      <td>node.js</td>\n",
       "      <td>python</td>\n",
       "      <td>php</td>\n",
       "      <td>ruby</td>\n",
       "    </tr>\n",
       "    <tr>\n",
       "      <th>16</th>\n",
       "      <td>variables and expressions</td>\n",
       "      <td>local variable</td>\n",
       "      <td>// new in ES6:\\n let x = 1;\\n let y = 2, z = 3...</td>\n",
       "      <td># in function body:\\n x = 1\\n y, z = 2, 3</td>\n",
       "      <td># in function body:\\n $x = 1;\\n list($y, $z) =...</td>\n",
       "      <td>x = 1\\n y, z = 2, 3</td>\n",
       "    </tr>\n",
       "    <tr>\n",
       "      <th>17</th>\n",
       "      <td>variables and expressions</td>\n",
       "      <td>file scope variable</td>\n",
       "      <td>// outside any function body:\\n let n = 1;\\n \\...</td>\n",
       "      <td>none</td>\n",
       "      <td>none</td>\n",
       "      <td>none</td>\n",
       "    </tr>\n",
       "    <tr>\n",
       "      <th>18</th>\n",
       "      <td>variables and expressions</td>\n",
       "      <td>global variable</td>\n",
       "      <td>global.g = 1;\\n \\n incrGlobal () { global.g++; }</td>\n",
       "      <td>g = 1\\n \\n def incr_global():\\n  global g\\n  g...</td>\n",
       "      <td>$g = 1;\\n \\n function incr_global() {\\n  globa...</td>\n",
       "      <td>$g = 1\\n \\n def incr_global\\n  $g += 1\\n end</td>\n",
       "    </tr>\n",
       "    <tr>\n",
       "      <th>19</th>\n",
       "      <td>variables and expressions</td>\n",
       "      <td>constant</td>\n",
       "      <td>// new in ES6\\n const PI = 3.14;</td>\n",
       "      <td># uppercase identifiers\\n # constant by conven...</td>\n",
       "      <td>define(\"PI\", 3.14);\\n \\n const PI = 3.14;</td>\n",
       "      <td># warning if capitalized\\n # identifier is rea...</td>\n",
       "    </tr>\n",
       "    <tr>\n",
       "      <th>20</th>\n",
       "      <td>variables and expressions</td>\n",
       "      <td>assignment</td>\n",
       "      <td>v = 1;</td>\n",
       "      <td># assignments can be chained\\n # but otherwise...</td>\n",
       "      <td>$v = 1;</td>\n",
       "      <td>v = 1</td>\n",
       "    </tr>\n",
       "    <tr>\n",
       "      <th>21</th>\n",
       "      <td>variables and expressions</td>\n",
       "      <td>parallel assignment</td>\n",
       "      <td>// new in ES6:\\n let [x, y, z] = [1, 2, 3];</td>\n",
       "      <td>x, y, z = 1, 2, 3\\n \\n # raises ValueError:\\n ...</td>\n",
       "      <td>list($x, $y, $z) = [1 ,2, 3];\\n \\n # 3 is disc...</td>\n",
       "      <td>x, y, z = 1, 2, 3\\n \\n # 3 is discarded:\\n x, ...</td>\n",
       "    </tr>\n",
       "    <tr>\n",
       "      <th>22</th>\n",
       "      <td>variables and expressions</td>\n",
       "      <td>swap</td>\n",
       "      <td>// new in ES6:\\n [x, y] = [y, x];</td>\n",
       "      <td>x, y = y, x</td>\n",
       "      <td>list($x, $y) = [$y, $x];</td>\n",
       "      <td>x, y = y, x</td>\n",
       "    </tr>\n",
       "    <tr>\n",
       "      <th>23</th>\n",
       "      <td>variables and expressions</td>\n",
       "      <td>compound assignment\\n arithmetic, string, logi...</td>\n",
       "      <td>+= -= *= /= none %=\\n +=\\n none\\n &lt;&lt;= &gt;&gt;= &amp;= |...</td>\n",
       "      <td># do not return values:\\n += -= *= /= //= %= *...</td>\n",
       "      <td>+= -= *= none /= %= **=\\n .= none\\n &amp;= |= none...</td>\n",
       "      <td>+= -= *= /= none %= **=\\n += *=\\n &amp;&amp;= ||= ^=\\n...</td>\n",
       "    </tr>\n",
       "    <tr>\n",
       "      <th>24</th>\n",
       "      <td>variables and expressions</td>\n",
       "      <td>increment and decrement</td>\n",
       "      <td>let x = 1;\\n let y = ++x;\\n let z = --y;</td>\n",
       "      <td>none</td>\n",
       "      <td>$x = 1;\\n $y = ++$x;\\n $z = --$y;</td>\n",
       "      <td>x = 1\\n # x and y not mutated:\\n y = x.succ\\n ...</td>\n",
       "    </tr>\n",
       "    <tr>\n",
       "      <th>25</th>\n",
       "      <td>variables and expressions</td>\n",
       "      <td>null</td>\n",
       "      <td>null</td>\n",
       "      <td>None</td>\n",
       "      <td>NULL # case insensitive</td>\n",
       "      <td>nil</td>\n",
       "    </tr>\n",
       "    <tr>\n",
       "      <th>26</th>\n",
       "      <td>variables and expressions</td>\n",
       "      <td>null test</td>\n",
       "      <td>v === null</td>\n",
       "      <td>v is None</td>\n",
       "      <td>is_null($v)\\n ! isset($v)</td>\n",
       "      <td>v == nil\\n v.nil?</td>\n",
       "    </tr>\n",
       "    <tr>\n",
       "      <th>27</th>\n",
       "      <td>variables and expressions</td>\n",
       "      <td>undefined variable</td>\n",
       "      <td>Evaluates as undefined\\n \\n Use the triple equ...</td>\n",
       "      <td>raises NameError</td>\n",
       "      <td>Evaluates as NULL</td>\n",
       "      <td>raises NameError</td>\n",
       "    </tr>\n",
       "    <tr>\n",
       "      <th>28</th>\n",
       "      <td>variables and expressions</td>\n",
       "      <td>conditional expression</td>\n",
       "      <td>x &gt; 0 ? x : -x</td>\n",
       "      <td>x if x &gt; 0 else -x</td>\n",
       "      <td>$x &gt; 0 ? $x : -$x</td>\n",
       "      <td>x &gt; 0 ? x : -x</td>\n",
       "    </tr>\n",
       "    <tr>\n",
       "      <th>29</th>\n",
       "      <td>arithmetic and logic</td>\n",
       "      <td>arithmetic and logic</td>\n",
       "      <td>arithmetic and logic</td>\n",
       "      <td>arithmetic and logic</td>\n",
       "      <td>arithmetic and logic</td>\n",
       "      <td>arithmetic and logic</td>\n",
       "    </tr>\n",
       "    <tr>\n",
       "      <th>30</th>\n",
       "      <td>arithmetic and logic</td>\n",
       "      <td></td>\n",
       "      <td>node.js</td>\n",
       "      <td>python</td>\n",
       "      <td>php</td>\n",
       "      <td>ruby</td>\n",
       "    </tr>\n",
       "    <tr>\n",
       "      <th>31</th>\n",
       "      <td>arithmetic and logic</td>\n",
       "      <td>true and false</td>\n",
       "      <td>true false</td>\n",
       "      <td>True False</td>\n",
       "      <td>TRUE FALSE # case insensitive</td>\n",
       "      <td>true false</td>\n",
       "    </tr>\n",
       "    <tr>\n",
       "      <th>32</th>\n",
       "      <td>arithmetic and logic</td>\n",
       "      <td>falsehoods</td>\n",
       "      <td>false null undefined '' 0 NaN</td>\n",
       "      <td>False None 0 0.0 '' [] {}</td>\n",
       "      <td>FALSE NULL 0 0.0 \"\" \"0\" []</td>\n",
       "      <td>false nil</td>\n",
       "    </tr>\n",
       "    <tr>\n",
       "      <th>33</th>\n",
       "      <td>arithmetic and logic</td>\n",
       "      <td>logical operators</td>\n",
       "      <td>&amp;&amp; || !</td>\n",
       "      <td>and or not</td>\n",
       "      <td>&amp;&amp; || !\\n lower precedence:\\n and or xor</td>\n",
       "      <td>&amp;&amp; || !\\n lower precedence:\\n and or not</td>\n",
       "    </tr>\n",
       "    <tr>\n",
       "      <th>34</th>\n",
       "      <td>arithmetic and logic</td>\n",
       "      <td>relational operators</td>\n",
       "      <td>'=== !== &lt; &gt; &gt;= &lt;=\\n \\n perform type coercion:...</td>\n",
       "      <td>relational operators are chainable:\\n == != &gt; ...</td>\n",
       "      <td>'== != or &lt;&gt; &gt; &lt; &gt;= &lt;=\\n no conversion: === !==</td>\n",
       "      <td>'== != &gt; &lt; &gt;= &lt;=</td>\n",
       "    </tr>\n",
       "  </tbody>\n",
       "</table>\n",
       "</div>"
      ],
      "text/plain": [
       "                      section  \\\n",
       "0                     version   \n",
       "1                     version   \n",
       "2                     version   \n",
       "3                     version   \n",
       "4       grammar and execution   \n",
       "5       grammar and execution   \n",
       "6       grammar and execution   \n",
       "7       grammar and execution   \n",
       "8       grammar and execution   \n",
       "9       grammar and execution   \n",
       "10      grammar and execution   \n",
       "11      grammar and execution   \n",
       "12      grammar and execution   \n",
       "13      grammar and execution   \n",
       "14  variables and expressions   \n",
       "15  variables and expressions   \n",
       "16  variables and expressions   \n",
       "17  variables and expressions   \n",
       "18  variables and expressions   \n",
       "19  variables and expressions   \n",
       "20  variables and expressions   \n",
       "21  variables and expressions   \n",
       "22  variables and expressions   \n",
       "23  variables and expressions   \n",
       "24  variables and expressions   \n",
       "25  variables and expressions   \n",
       "26  variables and expressions   \n",
       "27  variables and expressions   \n",
       "28  variables and expressions   \n",
       "29       arithmetic and logic   \n",
       "30       arithmetic and logic   \n",
       "31       arithmetic and logic   \n",
       "32       arithmetic and logic   \n",
       "33       arithmetic and logic   \n",
       "34       arithmetic and logic   \n",
       "\n",
       "                                              version  \\\n",
       "0                                                       \n",
       "1                                        version used   \n",
       "2                                        show version   \n",
       "3                                   implicit prologue   \n",
       "4                               grammar and execution   \n",
       "5                                                       \n",
       "6                                         interpreter   \n",
       "7                                                repl   \n",
       "8                                command line program   \n",
       "9                                    block delimiters   \n",
       "10                                statement separator   \n",
       "11                               source code encoding   \n",
       "12                                end-of-line comment   \n",
       "13                              multiple line comment   \n",
       "14                          variables and expressions   \n",
       "15                                                      \n",
       "16                                     local variable   \n",
       "17                                file scope variable   \n",
       "18                                    global variable   \n",
       "19                                           constant   \n",
       "20                                         assignment   \n",
       "21                                parallel assignment   \n",
       "22                                               swap   \n",
       "23  compound assignment\\n arithmetic, string, logi...   \n",
       "24                            increment and decrement   \n",
       "25                                               null   \n",
       "26                                          null test   \n",
       "27                                 undefined variable   \n",
       "28                             conditional expression   \n",
       "29                               arithmetic and logic   \n",
       "30                                                      \n",
       "31                                     true and false   \n",
       "32                                         falsehoods   \n",
       "33                                  logical operators   \n",
       "34                               relational operators   \n",
       "\n",
       "                                            version.1  \\\n",
       "0                                             node.js   \n",
       "1                                                6.11   \n",
       "2                                    $ node --version   \n",
       "3   // npm install lodash\\n const _ = require('lod...   \n",
       "4                               grammar and execution   \n",
       "5                                             node.js   \n",
       "6                                       $ node foo.js   \n",
       "7                                              $ node   \n",
       "8                     $ node -e \"console.log('hi!');\"   \n",
       "9                                                  {}   \n",
       "10  ; or newline\\n \\n newline not separator inside...   \n",
       "11                             source is always UTF-8   \n",
       "12                                         // comment   \n",
       "13                          /* line\\n another line */   \n",
       "14                          variables and expressions   \n",
       "15                                            node.js   \n",
       "16  // new in ES6:\\n let x = 1;\\n let y = 2, z = 3...   \n",
       "17  // outside any function body:\\n let n = 1;\\n \\...   \n",
       "18   global.g = 1;\\n \\n incrGlobal () { global.g++; }   \n",
       "19                   // new in ES6\\n const PI = 3.14;   \n",
       "20                                             v = 1;   \n",
       "21        // new in ES6:\\n let [x, y, z] = [1, 2, 3];   \n",
       "22                  // new in ES6:\\n [x, y] = [y, x];   \n",
       "23  += -= *= /= none %=\\n +=\\n none\\n <<= >>= &= |...   \n",
       "24           let x = 1;\\n let y = ++x;\\n let z = --y;   \n",
       "25                                               null   \n",
       "26                                         v === null   \n",
       "27  Evaluates as undefined\\n \\n Use the triple equ...   \n",
       "28                                     x > 0 ? x : -x   \n",
       "29                               arithmetic and logic   \n",
       "30                                            node.js   \n",
       "31                                         true false   \n",
       "32                      false null undefined '' 0 NaN   \n",
       "33                                            && || !   \n",
       "34  '=== !== < > >= <=\\n \\n perform type coercion:...   \n",
       "\n",
       "                                            version.2  \\\n",
       "0                                              python   \n",
       "1                                                 3.6   \n",
       "2                    $ python -V\\n $ python --version   \n",
       "3                                  import os, re, sys   \n",
       "4                               grammar and execution   \n",
       "5                                              python   \n",
       "6                                     $ python foo.py   \n",
       "7                                            $ python   \n",
       "8                          $ python -c 'print(\"hi!\")'   \n",
       "9                                  : and offside rule   \n",
       "10  newline or ;\\n \\n newlines not separators insi...   \n",
       "11  Python 3 source is UTF-8 by default; Python 2 ...   \n",
       "12                                          # comment   \n",
       "13  use triple quote string literal:\\n \\n '''comme...   \n",
       "14                          variables and expressions   \n",
       "15                                             python   \n",
       "16          # in function body:\\n x = 1\\n y, z = 2, 3   \n",
       "17                                               none   \n",
       "18  g = 1\\n \\n def incr_global():\\n  global g\\n  g...   \n",
       "19  # uppercase identifiers\\n # constant by conven...   \n",
       "20  # assignments can be chained\\n # but otherwise...   \n",
       "21  x, y, z = 1, 2, 3\\n \\n # raises ValueError:\\n ...   \n",
       "22                                        x, y = y, x   \n",
       "23  # do not return values:\\n += -= *= /= //= %= *...   \n",
       "24                                               none   \n",
       "25                                               None   \n",
       "26                                          v is None   \n",
       "27                                   raises NameError   \n",
       "28                                 x if x > 0 else -x   \n",
       "29                               arithmetic and logic   \n",
       "30                                             python   \n",
       "31                                         True False   \n",
       "32                          False None 0 0.0 '' [] {}   \n",
       "33                                         and or not   \n",
       "34  relational operators are chainable:\\n == != > ...   \n",
       "\n",
       "                                            version.3  \\\n",
       "0                                                 php   \n",
       "1                                                 7.0   \n",
       "2                                     $ php --version   \n",
       "3                     # sudo apt install php-mbstring   \n",
       "4                               grammar and execution   \n",
       "5                                                 php   \n",
       "6                                    $ php -f foo.php   \n",
       "7                                            $ php -a   \n",
       "8                            $ php -r 'echo \"hi!\\n\";'   \n",
       "9                                                  {}   \n",
       "10  ;\\n \\n statements must be semicolon terminated...   \n",
       "11                                               none   \n",
       "12                             // comment\\n # comment   \n",
       "13                  /* comment line\\n another line */   \n",
       "14                          variables and expressions   \n",
       "15                                                php   \n",
       "16  # in function body:\\n $x = 1;\\n list($y, $z) =...   \n",
       "17                                               none   \n",
       "18  $g = 1;\\n \\n function incr_global() {\\n  globa...   \n",
       "19          define(\"PI\", 3.14);\\n \\n const PI = 3.14;   \n",
       "20                                            $v = 1;   \n",
       "21  list($x, $y, $z) = [1 ,2, 3];\\n \\n # 3 is disc...   \n",
       "22                           list($x, $y) = [$y, $x];   \n",
       "23  += -= *= none /= %= **=\\n .= none\\n &= |= none...   \n",
       "24                  $x = 1;\\n $y = ++$x;\\n $z = --$y;   \n",
       "25                            NULL # case insensitive   \n",
       "26                          is_null($v)\\n ! isset($v)   \n",
       "27                                  Evaluates as NULL   \n",
       "28                                  $x > 0 ? $x : -$x   \n",
       "29                               arithmetic and logic   \n",
       "30                                                php   \n",
       "31                      TRUE FALSE # case insensitive   \n",
       "32                         FALSE NULL 0 0.0 \"\" \"0\" []   \n",
       "33           && || !\\n lower precedence:\\n and or xor   \n",
       "34    '== != or <> > < >= <=\\n no conversion: === !==   \n",
       "\n",
       "                                            version.4  \n",
       "0                                                ruby  \n",
       "1                                                 2.3  \n",
       "2                                    $ ruby --version  \n",
       "3                                                none  \n",
       "4                               grammar and execution  \n",
       "5                                                ruby  \n",
       "6                                       $ ruby foo.rb  \n",
       "7                                               $ irb  \n",
       "8                              $ ruby -e 'puts \"hi!\"'  \n",
       "9                                         {}\\n do end  \n",
       "10  newline or ;\\n \\n newlines not separators insi...  \n",
       "11  Ruby 2.0 source is UTF-8 by default\\n \\n # -*-...  \n",
       "12                                          # comment  \n",
       "13       '=begin\\n comment line\\n another line\\n =end  \n",
       "14                          variables and expressions  \n",
       "15                                               ruby  \n",
       "16                                x = 1\\n y, z = 2, 3  \n",
       "17                                               none  \n",
       "18       $g = 1\\n \\n def incr_global\\n  $g += 1\\n end  \n",
       "19  # warning if capitalized\\n # identifier is rea...  \n",
       "20                                              v = 1  \n",
       "21  x, y, z = 1, 2, 3\\n \\n # 3 is discarded:\\n x, ...  \n",
       "22                                        x, y = y, x  \n",
       "23  += -= *= /= none %= **=\\n += *=\\n &&= ||= ^=\\n...  \n",
       "24  x = 1\\n # x and y not mutated:\\n y = x.succ\\n ...  \n",
       "25                                                nil  \n",
       "26                                  v == nil\\n v.nil?  \n",
       "27                                   raises NameError  \n",
       "28                                     x > 0 ? x : -x  \n",
       "29                               arithmetic and logic  \n",
       "30                                               ruby  \n",
       "31                                         true false  \n",
       "32                                          false nil  \n",
       "33           && || !\\n lower precedence:\\n and or not  \n",
       "34                                   '== != > < >= <=  "
      ]
     },
     "execution_count": 119,
     "metadata": {},
     "output_type": "execute_result"
    }
   ],
   "source": [
    "dfsheet9[:35] #df[:40]"
   ]
  },
  {
   "cell_type": "code",
   "execution_count": 73,
   "id": "074e5e15",
   "metadata": {},
   "outputs": [
    {
     "data": {
      "text/plain": [
       "0                           \n",
       "1           version used....\n",
       "2           show version....\n",
       "3      implicit prologue....\n",
       "4      grammar and execution\n",
       "               ...          \n",
       "228         start thread....\n",
       "229       wait on thread....\n",
       "230                    sleep\n",
       "231                  timeout\n",
       "232                         \n",
       "Name: version, Length: 233, dtype: object"
      ]
     },
     "execution_count": 73,
     "metadata": {},
     "output_type": "execute_result"
    }
   ],
   "source": [
    "df['version']"
   ]
  },
  {
   "cell_type": "code",
   "execution_count": null,
   "id": "1e8c0dd2",
   "metadata": {},
   "outputs": [],
   "source": []
  },
  {
   "cell_type": "code",
   "execution_count": 30,
   "id": "7c453c3d",
   "metadata": {},
   "outputs": [
    {
     "data": {
      "text/html": [
       "<div>\n",
       "<style scoped>\n",
       "    .dataframe tbody tr th:only-of-type {\n",
       "        vertical-align: middle;\n",
       "    }\n",
       "\n",
       "    .dataframe tbody tr th {\n",
       "        vertical-align: top;\n",
       "    }\n",
       "\n",
       "    .dataframe thead th {\n",
       "        text-align: right;\n",
       "    }\n",
       "</style>\n",
       "<table border=\"1\" class=\"dataframe\">\n",
       "  <thead>\n",
       "    <tr style=\"text-align: right;\">\n",
       "      <th></th>\n",
       "      <th>version</th>\n",
       "      <th>version.1</th>\n",
       "      <th>version.2</th>\n",
       "      <th>version.3</th>\n",
       "      <th>version.4</th>\n",
       "    </tr>\n",
       "  </thead>\n",
       "  <tbody>\n",
       "    <tr>\n",
       "      <th>count</th>\n",
       "      <td>233</td>\n",
       "      <td>233</td>\n",
       "      <td>233</td>\n",
       "      <td>233</td>\n",
       "      <td>233</td>\n",
       "    </tr>\n",
       "    <tr>\n",
       "      <th>unique</th>\n",
       "      <td>217</td>\n",
       "      <td>195</td>\n",
       "      <td>211</td>\n",
       "      <td>199</td>\n",
       "      <td>216</td>\n",
       "    </tr>\n",
       "    <tr>\n",
       "      <th>top</th>\n",
       "      <td></td>\n",
       "      <td>none</td>\n",
       "      <td>python</td>\n",
       "      <td>php</td>\n",
       "      <td>ruby</td>\n",
       "    </tr>\n",
       "    <tr>\n",
       "      <th>freq</th>\n",
       "      <td>14</td>\n",
       "      <td>22</td>\n",
       "      <td>13</td>\n",
       "      <td>13</td>\n",
       "      <td>13</td>\n",
       "    </tr>\n",
       "  </tbody>\n",
       "</table>\n",
       "</div>"
      ],
      "text/plain": [
       "       version version.1 version.2 version.3 version.4\n",
       "count      233       233       233       233       233\n",
       "unique     217       195       211       199       216\n",
       "top                 none    python       php      ruby\n",
       "freq        14        22        13        13        13"
      ]
     },
     "execution_count": 30,
     "metadata": {},
     "output_type": "execute_result"
    }
   ],
   "source": [
    "df.describe()"
   ]
  },
  {
   "cell_type": "code",
   "execution_count": 31,
   "id": "b2ff7ab0",
   "metadata": {},
   "outputs": [
    {
     "name": "stdout",
     "output_type": "stream",
     "text": [
      "<class 'pandas.core.frame.DataFrame'>\n",
      "RangeIndex: 233 entries, 0 to 232\n",
      "Data columns (total 5 columns):\n",
      " #   Column     Non-Null Count  Dtype \n",
      "---  ------     --------------  ----- \n",
      " 0   version    233 non-null    object\n",
      " 1   version.1  233 non-null    object\n",
      " 2   version.2  233 non-null    object\n",
      " 3   version.3  233 non-null    object\n",
      " 4   version.4  233 non-null    object\n",
      "dtypes: object(5)\n",
      "memory usage: 9.2+ KB\n"
     ]
    }
   ],
   "source": [
    "df.info()"
   ]
  },
  {
   "cell_type": "code",
   "execution_count": null,
   "id": "1c387229",
   "metadata": {},
   "outputs": [],
   "source": []
  },
  {
   "cell_type": "code",
   "execution_count": null,
   "id": "226eef32",
   "metadata": {},
   "outputs": [],
   "source": []
  },
  {
   "cell_type": "code",
   "execution_count": null,
   "id": "d8db58ef",
   "metadata": {},
   "outputs": [],
   "source": [
    "id(8)"
   ]
  },
  {
   "cell_type": "code",
   "execution_count": null,
   "id": "609d38cc",
   "metadata": {},
   "outputs": [],
   "source": []
  },
  {
   "cell_type": "code",
   "execution_count": 3,
   "id": "worst-communication",
   "metadata": {},
   "outputs": [
    {
     "data": {
      "text/plain": [
       "{'__name__': '__main__',\n",
       " '__doc__': 'Automatically created module for IPython interactive environment',\n",
       " '__package__': None,\n",
       " '__loader__': None,\n",
       " '__spec__': None,\n",
       " '__builtin__': <module 'builtins' (built-in)>,\n",
       " '__builtins__': <module 'builtins' (built-in)>,\n",
       " '_ih': ['',\n",
       "  'import pandas as pd\\nimport numpy as np',\n",
       "  'globals()',\n",
       "  'globals()'],\n",
       " '_oh': {2: {...}},\n",
       " '_dh': [WindowsPath('c:/Users/marti/OneDrive/jupyter-notebooks')],\n",
       " 'In': ['',\n",
       "  'import pandas as pd\\nimport numpy as np',\n",
       "  'globals()',\n",
       "  'globals()'],\n",
       " 'Out': {2: {...}},\n",
       " 'get_ipython': <bound method InteractiveShell.get_ipython of <ipykernel.zmqshell.ZMQInteractiveShell object at 0x000001DC707843D0>>,\n",
       " 'exit': <IPython.core.autocall.ZMQExitAutocall at 0x1dc70784a30>,\n",
       " 'quit': <IPython.core.autocall.ZMQExitAutocall at 0x1dc70784a30>,\n",
       " '_': {...},\n",
       " '__': '',\n",
       " '___': '',\n",
       " 'os': <module 'os' from 'd:\\\\conda\\\\lib\\\\os.py'>,\n",
       " 'sys': <module 'sys' (built-in)>,\n",
       " '__vsc_ipynb_file__': 'c:\\\\Users\\\\marti\\\\OneDrive\\\\jupyter-notebooks\\\\pandas-1.ipynb',\n",
       " '_i': 'globals()',\n",
       " '_ii': 'import pandas as pd\\nimport numpy as np',\n",
       " '_iii': '',\n",
       " '_i1': 'import pandas as pd\\nimport numpy as np',\n",
       " 'pd': <module 'pandas' from 'd:\\\\conda\\\\lib\\\\site-packages\\\\pandas\\\\__init__.py'>,\n",
       " 'np': <module 'numpy' from 'd:\\\\conda\\\\lib\\\\site-packages\\\\numpy\\\\__init__.py'>,\n",
       " '_i2': 'globals()',\n",
       " '_2': {...},\n",
       " '_i3': 'globals()'}"
      ]
     },
     "execution_count": 3,
     "metadata": {},
     "output_type": "execute_result"
    }
   ],
   "source": [
    "globals()"
   ]
  },
  {
   "cell_type": "code",
   "execution_count": 4,
   "id": "intense-cargo",
   "metadata": {},
   "outputs": [
    {
     "data": {
      "text/plain": [
       "['',\n",
       " 'import pandas as pd\\nimport numpy as np',\n",
       " 'globals()',\n",
       " 'globals()',\n",
       " '_ih']"
      ]
     },
     "execution_count": 4,
     "metadata": {},
     "output_type": "execute_result"
    }
   ],
   "source": [
    "_ih"
   ]
  },
  {
   "cell_type": "code",
   "execution_count": null,
   "id": "express-edmonton",
   "metadata": {},
   "outputs": [],
   "source": []
  },
  {
   "cell_type": "code",
   "execution_count": 5,
   "id": "surprised-confidentiality",
   "metadata": {},
   "outputs": [
    {
     "data": {
      "text/plain": [
       "0          BooleanDtype\n",
       "1           Categorical\n",
       "2      CategoricalDtype\n",
       "3      CategoricalIndex\n",
       "4             DataFrame\n",
       "             ...       \n",
       "136             tseries\n",
       "137              unique\n",
       "138                util\n",
       "139        value_counts\n",
       "140        wide_to_long\n",
       "Length: 141, dtype: object"
      ]
     },
     "execution_count": 5,
     "metadata": {},
     "output_type": "execute_result"
    }
   ],
   "source": [
    "pd.Series(dir(pd))"
   ]
  },
  {
   "cell_type": "code",
   "execution_count": null,
   "id": "commercial-filing",
   "metadata": {},
   "outputs": [],
   "source": []
  },
  {
   "cell_type": "code",
   "execution_count": 6,
   "id": "continent-charter",
   "metadata": {},
   "outputs": [],
   "source": [
    "seri=pd.Series(dir(pd))"
   ]
  },
  {
   "cell_type": "code",
   "execution_count": 7,
   "id": "small-tribune",
   "metadata": {},
   "outputs": [],
   "source": [
    "seri=pd.Series(globals())"
   ]
  },
  {
   "cell_type": "code",
   "execution_count": 8,
   "id": "surprising-alloy",
   "metadata": {},
   "outputs": [
    {
     "ename": "NameError",
     "evalue": "name 'dfa' is not defined",
     "output_type": "error",
     "traceback": [
      "\u001b[1;31m---------------------------------------------------------------------------\u001b[0m",
      "\u001b[1;31mNameError\u001b[0m                                 Traceback (most recent call last)",
      "\u001b[1;32mc:\\Users\\marti\\OneDrive\\jupyter-notebooks\\pandas-1.ipynb Cell 9\u001b[0m in \u001b[0;36m<cell line: 1>\u001b[1;34m()\u001b[0m\n\u001b[1;32m----> <a href='vscode-notebook-cell:/c%3A/Users/marti/OneDrive/jupyter-notebooks/pandas-1.ipynb#ch0000008?line=0'>1</a>\u001b[0m seri\u001b[39m=\u001b[39mdfa\u001b[39m.\u001b[39mli\n",
      "\u001b[1;31mNameError\u001b[0m: name 'dfa' is not defined"
     ]
    }
   ],
   "source": [
    "seri=dfa.li"
   ]
  },
  {
   "cell_type": "code",
   "execution_count": 10,
   "id": "maritime-witness",
   "metadata": {},
   "outputs": [],
   "source": [
    "seri=pd.Series(_ih)"
   ]
  },
  {
   "cell_type": "code",
   "execution_count": 11,
   "id": "chicken-intention",
   "metadata": {},
   "outputs": [
    {
     "data": {
      "text/plain": [
       "0                                            \n",
       "1     import pandas as pd\\nimport numpy as np\n",
       "2                                   globals()\n",
       "3                                   globals()\n",
       "4                                         _ih\n",
       "5                          pd.Series(dir(pd))\n",
       "6                     seri=pd.Series(dir(pd))\n",
       "7                   seri=pd.Series(globals())\n",
       "8                                 seri=dfa.li\n",
       "9                         seri=pd.Series(_ih)\n",
       "10                        seri=pd.Series(_ih)\n",
       "dtype: object"
      ]
     },
     "execution_count": 11,
     "metadata": {},
     "output_type": "execute_result"
    }
   ],
   "source": [
    "seri"
   ]
  },
  {
   "cell_type": "code",
   "execution_count": 12,
   "id": "universal-cleaners",
   "metadata": {},
   "outputs": [
    {
     "data": {
      "text/plain": [
       "6       seri=pd.Series(dir(pd))\n",
       "7     seri=pd.Series(globals())\n",
       "8                   seri=dfa.li\n",
       "9           seri=pd.Series(_ih)\n",
       "10          seri=pd.Series(_ih)\n",
       "dtype: object"
      ]
     },
     "execution_count": 12,
     "metadata": {},
     "output_type": "execute_result"
    }
   ],
   "source": [
    "seri[seri.str.contains('seri[=]')]"
   ]
  },
  {
   "cell_type": "code",
   "execution_count": 13,
   "id": "compressed-planning",
   "metadata": {},
   "outputs": [
    {
     "data": {
      "text/plain": [
       "6       seri=pd.Series(dir(pd))\n",
       "7     seri=pd.Series(globals())\n",
       "8                   seri=dfa.li\n",
       "9           seri=pd.Series(_ih)\n",
       "10          seri=pd.Series(_ih)\n",
       "dtype: object"
      ]
     },
     "execution_count": 13,
     "metadata": {},
     "output_type": "execute_result"
    }
   ],
   "source": [
    "seri[seri.str.contains('^ser')]"
   ]
  },
  {
   "cell_type": "code",
   "execution_count": null,
   "id": "heated-cooperation",
   "metadata": {},
   "outputs": [],
   "source": []
  },
  {
   "cell_type": "code",
   "execution_count": 14,
   "id": "present-paris",
   "metadata": {
    "collapsed": true
   },
   "outputs": [
    {
     "data": {
      "text/plain": [
       "['',\n",
       " 'import pandas as pd\\nimport numpy as np',\n",
       " 'globals()',\n",
       " 'globals()',\n",
       " '_ih',\n",
       " 'pd.Series(dir(pd))',\n",
       " 'seri=pd.Series(dir(pd))',\n",
       " 'seri=pd.Series(globals())',\n",
       " 'seri=dfa.li',\n",
       " 'seri=pd.Series(_ih)',\n",
       " 'seri=pd.Series(_ih)',\n",
       " 'seri',\n",
       " \"seri[seri.str.contains('seri[=]')]\",\n",
       " \"seri[seri.str.contains('^ser')]\",\n",
       " '_ih']"
      ]
     },
     "execution_count": 14,
     "metadata": {},
     "output_type": "execute_result"
    }
   ],
   "source": [
    "_ih"
   ]
  },
  {
   "cell_type": "code",
   "execution_count": null,
   "id": "steady-state",
   "metadata": {},
   "outputs": [],
   "source": []
  },
  {
   "cell_type": "code",
   "execution_count": null,
   "id": "automotive-sharing",
   "metadata": {},
   "outputs": [],
   "source": []
  },
  {
   "cell_type": "code",
   "execution_count": 18,
   "id": "representative-assistant",
   "metadata": {},
   "outputs": [
    {
     "data": {
      "text/plain": [
       "['__annotations__',\n",
       " '__class__',\n",
       " '__delattr__',\n",
       " '__dict__',\n",
       " '__dir__',\n",
       " '__doc__',\n",
       " '__eq__',\n",
       " '__format__',\n",
       " '__frozen',\n",
       " '__ge__',\n",
       " '__getattribute__',\n",
       " '__getitem__',\n",
       " '__gt__',\n",
       " '__hash__',\n",
       " '__init__',\n",
       " '__init_subclass__',\n",
       " '__iter__',\n",
       " '__le__',\n",
       " '__lt__',\n",
       " '__module__',\n",
       " '__ne__',\n",
       " '__new__',\n",
       " '__reduce__',\n",
       " '__reduce_ex__',\n",
       " '__repr__',\n",
       " '__setattr__',\n",
       " '__sizeof__',\n",
       " '__str__',\n",
       " '__subclasshook__',\n",
       " '__weakref__',\n",
       " '_data',\n",
       " '_doc_args',\n",
       " '_freeze',\n",
       " '_get_series_list',\n",
       " '_index',\n",
       " '_inferred_dtype',\n",
       " '_is_categorical',\n",
       " '_is_string',\n",
       " '_name',\n",
       " '_orig',\n",
       " '_parent',\n",
       " '_validate',\n",
       " '_wrap_result',\n",
       " 'capitalize',\n",
       " 'casefold',\n",
       " 'cat',\n",
       " 'center',\n",
       " 'contains',\n",
       " 'count',\n",
       " 'decode',\n",
       " 'encode',\n",
       " 'endswith',\n",
       " 'extract',\n",
       " 'extractall',\n",
       " 'find',\n",
       " 'findall',\n",
       " 'fullmatch',\n",
       " 'get',\n",
       " 'get_dummies',\n",
       " 'index',\n",
       " 'isalnum',\n",
       " 'isalpha',\n",
       " 'isdecimal',\n",
       " 'isdigit',\n",
       " 'islower',\n",
       " 'isnumeric',\n",
       " 'isspace',\n",
       " 'istitle',\n",
       " 'isupper',\n",
       " 'join',\n",
       " 'len',\n",
       " 'ljust',\n",
       " 'lower',\n",
       " 'lstrip',\n",
       " 'match',\n",
       " 'normalize',\n",
       " 'pad',\n",
       " 'partition',\n",
       " 'removeprefix',\n",
       " 'removesuffix',\n",
       " 'repeat',\n",
       " 'replace',\n",
       " 'rfind',\n",
       " 'rindex',\n",
       " 'rjust',\n",
       " 'rpartition',\n",
       " 'rsplit',\n",
       " 'rstrip',\n",
       " 'slice',\n",
       " 'slice_replace',\n",
       " 'split',\n",
       " 'startswith',\n",
       " 'strip',\n",
       " 'swapcase',\n",
       " 'title',\n",
       " 'translate',\n",
       " 'upper',\n",
       " 'wrap',\n",
       " 'zfill']"
      ]
     },
     "execution_count": 18,
     "metadata": {},
     "output_type": "execute_result"
    }
   ],
   "source": [
    "dir(seri.str)"
   ]
  },
  {
   "cell_type": "code",
   "execution_count": 16,
   "id": "senior-wednesday",
   "metadata": {},
   "outputs": [
    {
     "ename": "NameError",
     "evalue": "name 'df1' is not defined",
     "output_type": "error",
     "traceback": [
      "\u001b[1;31m---------------------------------------------------------------------------\u001b[0m",
      "\u001b[1;31mNameError\u001b[0m                                 Traceback (most recent call last)",
      "\u001b[1;32mc:\\Users\\marti\\OneDrive\\jupyter-notebooks\\pandas-1.ipynb Cell 19\u001b[0m in \u001b[0;36m<cell line: 1>\u001b[1;34m()\u001b[0m\n\u001b[1;32m----> <a href='vscode-notebook-cell:/c%3A/Users/marti/OneDrive/jupyter-notebooks/pandas-1.ipynb#ch0000018?line=0'>1</a>\u001b[0m df1\u001b[39m.\u001b[39mcolumns\n",
      "\u001b[1;31mNameError\u001b[0m: name 'df1' is not defined"
     ]
    }
   ],
   "source": [
    "df1.columns"
   ]
  },
  {
   "cell_type": "code",
   "execution_count": null,
   "id": "charming-federation",
   "metadata": {},
   "outputs": [],
   "source": []
  },
  {
   "cell_type": "code",
   "execution_count": null,
   "id": "brilliant-television",
   "metadata": {},
   "outputs": [],
   "source": []
  },
  {
   "cell_type": "code",
   "execution_count": null,
   "id": "digital-train",
   "metadata": {},
   "outputs": [],
   "source": [
    "pd.DataFrame(dir(pd))"
   ]
  },
  {
   "cell_type": "code",
   "execution_count": null,
   "id": "empirical-network",
   "metadata": {},
   "outputs": [],
   "source": []
  },
  {
   "cell_type": "code",
   "execution_count": null,
   "id": "solar-driving",
   "metadata": {},
   "outputs": [],
   "source": [
    "dir(pd)"
   ]
  },
  {
   "cell_type": "code",
   "execution_count": null,
   "id": "worse-assignment",
   "metadata": {},
   "outputs": [],
   "source": [
    "dtype1= {'c': np.int32 , 'x': np.float64 } #, dtype=dtype1"
   ]
  },
  {
   "cell_type": "code",
   "execution_count": null,
   "id": "imported-terminology",
   "metadata": {},
   "outputs": [],
   "source": [
    "dfa=pd.read_csv('f3-of-f234.csv',sep=',',names=['li']) #,,skipinitialspace=True)"
   ]
  },
  {
   "cell_type": "code",
   "execution_count": null,
   "id": "alternative-assembly",
   "metadata": {},
   "outputs": [],
   "source": [
    "# not strange ... just right aligned"
   ]
  },
  {
   "cell_type": "code",
   "execution_count": null,
   "id": "aggregate-district",
   "metadata": {},
   "outputs": [],
   "source": [
    "notstrange1=dfa.li.str.replace(' ','------')"
   ]
  },
  {
   "cell_type": "code",
   "execution_count": null,
   "id": "expressed-petroleum",
   "metadata": {},
   "outputs": [],
   "source": [
    "notstrange1"
   ]
  },
  {
   "cell_type": "code",
   "execution_count": null,
   "id": "threaded-phrase",
   "metadata": {},
   "outputs": [],
   "source": [
    "notstrange1.to_csv('s1')"
   ]
  },
  {
   "cell_type": "code",
   "execution_count": null,
   "id": "regular-berkeley",
   "metadata": {},
   "outputs": [],
   "source": [
    "notstrange1.to_frame('s1')"
   ]
  },
  {
   "cell_type": "code",
   "execution_count": null,
   "id": "proud-compiler",
   "metadata": {},
   "outputs": [],
   "source": [
    "notstrange1.to_list()"
   ]
  },
  {
   "cell_type": "code",
   "execution_count": null,
   "id": "related-classics",
   "metadata": {},
   "outputs": [],
   "source": [
    "notstrange1.to_numpy()"
   ]
  },
  {
   "cell_type": "code",
   "execution_count": null,
   "id": "thermal-smell",
   "metadata": {},
   "outputs": [],
   "source": [
    "notstrange1.to_string()"
   ]
  },
  {
   "cell_type": "code",
   "execution_count": null,
   "id": "educated-force",
   "metadata": {},
   "outputs": [],
   "source": []
  },
  {
   "cell_type": "code",
   "execution_count": null,
   "id": "convertible-wallpaper",
   "metadata": {},
   "outputs": [],
   "source": []
  },
  {
   "cell_type": "code",
   "execution_count": null,
   "id": "suited-relationship",
   "metadata": {},
   "outputs": [],
   "source": []
  },
  {
   "cell_type": "code",
   "execution_count": null,
   "id": "standing-bread",
   "metadata": {},
   "outputs": [],
   "source": []
  },
  {
   "cell_type": "code",
   "execution_count": null,
   "id": "correct-bailey",
   "metadata": {},
   "outputs": [],
   "source": [
    "dfa.li.str.replace(' ','-----')"
   ]
  },
  {
   "cell_type": "code",
   "execution_count": null,
   "id": "scenic-instruction",
   "metadata": {},
   "outputs": [],
   "source": []
  },
  {
   "cell_type": "code",
   "execution_count": null,
   "id": "awful-chest",
   "metadata": {},
   "outputs": [],
   "source": [
    "dfa.li.str.replace('\\t','------')"
   ]
  },
  {
   "cell_type": "code",
   "execution_count": null,
   "id": "powerful-blast",
   "metadata": {},
   "outputs": [],
   "source": []
  },
  {
   "cell_type": "code",
   "execution_count": null,
   "id": "dominican-result",
   "metadata": {},
   "outputs": [],
   "source": []
  },
  {
   "cell_type": "code",
   "execution_count": null,
   "id": "horizontal-procurement",
   "metadata": {},
   "outputs": [],
   "source": []
  },
  {
   "cell_type": "code",
   "execution_count": null,
   "id": "victorian-western",
   "metadata": {},
   "outputs": [],
   "source": []
  },
  {
   "cell_type": "code",
   "execution_count": null,
   "id": "competent-bhutan",
   "metadata": {},
   "outputs": [],
   "source": [
    "df1=pd.read_csv('f3-of-f234.csv',sep=' ',names=['c','x'],skipinitialspace=True)"
   ]
  },
  {
   "cell_type": "code",
   "execution_count": null,
   "id": "crucial-yacht",
   "metadata": {},
   "outputs": [],
   "source": [
    "(10*df1).round()/10"
   ]
  },
  {
   "cell_type": "code",
   "execution_count": null,
   "id": "facial-reform",
   "metadata": {},
   "outputs": [],
   "source": []
  },
  {
   "cell_type": "code",
   "execution_count": null,
   "id": "contrary-manufacturer",
   "metadata": {},
   "outputs": [],
   "source": [
    "df1.eval('y=floor(10*x)/10', inplace=True)"
   ]
  },
  {
   "cell_type": "code",
   "execution_count": null,
   "id": "available-daughter",
   "metadata": {},
   "outputs": [],
   "source": [
    "df11=df1"
   ]
  },
  {
   "cell_type": "code",
   "execution_count": null,
   "id": "simple-crystal",
   "metadata": {},
   "outputs": [],
   "source": [
    "df1.drop(columns=['x'],inplace=True)"
   ]
  },
  {
   "cell_type": "code",
   "execution_count": null,
   "id": "cleared-trash",
   "metadata": {},
   "outputs": [],
   "source": [
    "df12=df1"
   ]
  },
  {
   "cell_type": "code",
   "execution_count": null,
   "id": "likely-encounter",
   "metadata": {
    "scrolled": false
   },
   "outputs": [],
   "source": [
    "df3=df1.groupby(by=['y']).sum()"
   ]
  },
  {
   "cell_type": "code",
   "execution_count": null,
   "id": "current-poker",
   "metadata": {},
   "outputs": [],
   "source": [
    "df3.to_csv('f3-of-f234-groupby.csv')"
   ]
  },
  {
   "cell_type": "code",
   "execution_count": null,
   "id": "handy-midnight",
   "metadata": {},
   "outputs": [],
   "source": []
  },
  {
   "cell_type": "code",
   "execution_count": null,
   "id": "frank-broadway",
   "metadata": {},
   "outputs": [],
   "source": []
  },
  {
   "cell_type": "code",
   "execution_count": null,
   "id": "removable-parish",
   "metadata": {},
   "outputs": [],
   "source": [
    "df1 = pd.DataFrame({'lkey': ['foo', 'bar', 'baz', 'foo'],\n",
    "                    'value': [1, 2, 3, 5]})\n",
    "df2 = pd.DataFrame({'rkey': ['foo', 'bar', 'baz', 'foo'],\n",
    "                    'value': [5, 6, 7, 8]})"
   ]
  },
  {
   "cell_type": "code",
   "execution_count": null,
   "id": "crucial-principal",
   "metadata": {},
   "outputs": [],
   "source": [
    "df1"
   ]
  },
  {
   "cell_type": "code",
   "execution_count": null,
   "id": "overall-healthcare",
   "metadata": {},
   "outputs": [],
   "source": [
    "dir(df1)\n"
   ]
  },
  {
   "cell_type": "code",
   "execution_count": null,
   "id": "dependent-brave",
   "metadata": {},
   "outputs": [],
   "source": [
    "df1.describe()"
   ]
  },
  {
   "cell_type": "code",
   "execution_count": null,
   "id": "stuffed-trance",
   "metadata": {},
   "outputs": [],
   "source": [
    "df1.info()"
   ]
  },
  {
   "cell_type": "code",
   "execution_count": null,
   "id": "emotional-requirement",
   "metadata": {},
   "outputs": [],
   "source": [
    "df1.lkey"
   ]
  },
  {
   "cell_type": "code",
   "execution_count": null,
   "id": "alike-designer",
   "metadata": {},
   "outputs": [],
   "source": [
    "dir(df1.x)"
   ]
  },
  {
   "cell_type": "code",
   "execution_count": null,
   "id": "correct-gnome",
   "metadata": {
    "scrolled": true
   },
   "outputs": [],
   "source": [
    "dir(np)"
   ]
  },
  {
   "cell_type": "code",
   "execution_count": null,
   "id": "skilled-tamil",
   "metadata": {},
   "outputs": [],
   "source": [
    "se=pd.Series([\"a\", \"b\", \"c\"])"
   ]
  },
  {
   "cell_type": "code",
   "execution_count": null,
   "id": "later-indie",
   "metadata": {},
   "outputs": [],
   "source": [
    "se.str.upper()"
   ]
  },
  {
   "cell_type": "code",
   "execution_count": null,
   "id": "annual-biology",
   "metadata": {},
   "outputs": [],
   "source": [
    "df.columns"
   ]
  },
  {
   "cell_type": "code",
   "execution_count": null,
   "id": "stuck-america",
   "metadata": {},
   "outputs": [],
   "source": []
  },
  {
   "cell_type": "code",
   "execution_count": null,
   "id": "mexican-facing",
   "metadata": {},
   "outputs": [],
   "source": []
  },
  {
   "cell_type": "code",
   "execution_count": null,
   "id": "funky-calvin",
   "metadata": {},
   "outputs": [],
   "source": []
  }
 ],
 "metadata": {
  "kernelspec": {
   "display_name": "Python 3.9.12 ('base')",
   "language": "python",
   "name": "python3"
  },
  "language_info": {
   "codemirror_mode": {
    "name": "ipython",
    "version": 3
   },
   "file_extension": ".py",
   "mimetype": "text/x-python",
   "name": "python",
   "nbconvert_exporter": "python",
   "pygments_lexer": "ipython3",
   "version": "3.9.12"
  },
  "vscode": {
   "interpreter": {
    "hash": "a04f5d07b0747026a8fbcdf50b9443318e69b1b8bd6247d88bfadb4789282972"
   }
  }
 },
 "nbformat": 4,
 "nbformat_minor": 5
}
