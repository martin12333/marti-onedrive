{
 "cells": [
  {
   "cell_type": "code",
   "execution_count": 1,
   "id": "senior-worthy",
   "metadata": {},
   "outputs": [],
   "source": [
    "import pandas as pd\n",
    "import numpy as np"
   ]
  },
  {
   "cell_type": "code",
   "execution_count": 2,
   "id": "92169b0f",
   "metadata": {},
   "outputs": [],
   "source": [
    "str1='C:\\\\Users\\\\marti\\\\OneDrive\\\\hyperpolyglot--html-backup\\\\Scripting Languages I_ Node.js, Python, PHP, Ruby - Hyperpolyglot.html'\n",
    "\n",
    "# pd.read_html('C:\\\\Users\\\\marti\\\\OneDrive\\\\hyperpolyglot--html-backup\\\\Scripting Languages II_ Perl, Lua, Groovy - Hyperpolyglot.html')\n",
    "\n",
    "#pd.read_html('C:\\\\Users\\\\marti\\\\OneDrive\\\\hyperpolyglot--html-backup\\\\scripting.html')\n",
    "\n",
    "#pd.read_html('C:\\\\Users\\\\marti\\\\OneDrive\\\\hyperpolyglot--html-backup\\\\ml.html')\n"
   ]
  },
  {
   "cell_type": "code",
   "execution_count": 3,
   "id": "8357da9d",
   "metadata": {},
   "outputs": [],
   "source": [
    "with open(str1,encoding='utf-8' )  as f:\n",
    "    fstr=f.read().strip()\n",
    "    #fstr\n"
   ]
  },
  {
   "cell_type": "code",
   "execution_count": 61,
   "id": "b523205f",
   "metadata": {},
   "outputs": [
    {
     "data": {
      "text/plain": [
       "'>'"
      ]
     },
     "execution_count": 61,
     "metadata": {},
     "output_type": "execute_result"
    }
   ],
   "source": [
    "fstr[-1]"
   ]
  },
  {
   "cell_type": "code",
   "execution_count": 4,
   "id": "6e38ebd9",
   "metadata": {},
   "outputs": [
    {
     "data": {
      "text/plain": [
       "'e\">implicit prologue</a><br />\\n<span style=\"white-space: pre-wrap;\">\\xa0</s'"
      ]
     },
     "execution_count": 4,
     "metadata": {},
     "output_type": "execute_result"
    }
   ],
   "source": [
    "#fstr[3870:3872]\n",
    "fstr[3800:3872]"
   ]
  },
  {
   "cell_type": "code",
   "execution_count": 5,
   "id": "cdf63199",
   "metadata": {},
   "outputs": [],
   "source": [
    "##s2=fstr.replace('\\n',' @@@\\n')\n",
    "#s2=fstr.replace('\\n','@@@@\\n')\n",
    "#s2=fstr.replace('\\n','@@@\\n')\n",
    "#s2=fstr.replace('\\n','.....\\n')\n",
    "s2=fstr.replace('\\n','....\\n')"
   ]
  },
  {
   "cell_type": "code",
   "execution_count": 6,
   "id": "63305050",
   "metadata": {},
   "outputs": [],
   "source": [
    "#dfs=pd.read_html(str1,  flavor='bs4')\n",
    "dfs=pd.read_html(s2, header=0  , flavor='bs4',  keep_default_na=False )\n",
    "df=dfs[0]\n"
   ]
  },
  {
   "cell_type": "code",
   "execution_count": 65,
   "id": "0f38ca99",
   "metadata": {},
   "outputs": [],
   "source": [
    "#df.to_csv()\n"
   ]
  },
  {
   "cell_type": "code",
   "execution_count": 66,
   "id": "e90c4d36",
   "metadata": {},
   "outputs": [],
   "source": [
    "#alter\n",
    "##dfs=pd.read_html(str1,  flavor='bs4')\n",
    "#dfs=pd.read_html(str1, header=0  , flavor='bs4',  keep_default_na=False)   #, encoding='utf-8')\n",
    "#warnings.warn(\"You provided Unicode markup but also provided a value for from_encoding. Your from_encoding will be ignored.\"\n",
    "#df=dfs[0]\n"
   ]
  },
  {
   "cell_type": "code",
   "execution_count": 67,
   "id": "b536eac6",
   "metadata": {},
   "outputs": [
    {
     "data": {
      "text/plain": [
       "Index(['version', 'version.1', 'version.2', 'version.3', 'version.4'], dtype='object')"
      ]
     },
     "execution_count": 67,
     "metadata": {},
     "output_type": "execute_result"
    }
   ],
   "source": [
    "df.columns"
   ]
  },
  {
   "cell_type": "code",
   "execution_count": 68,
   "id": "20e53710",
   "metadata": {},
   "outputs": [
    {
     "data": {
      "text/plain": [
       "'.'"
      ]
     },
     "execution_count": 68,
     "metadata": {},
     "output_type": "execute_result"
    }
   ],
   "source": [
    "df.values[2,0][-1]"
   ]
  },
  {
   "cell_type": "code",
   "execution_count": 69,
   "id": "11a607f6",
   "metadata": {},
   "outputs": [
    {
     "data": {
      "text/plain": [
       "['$ python -V.... $ python --version']"
      ]
     },
     "execution_count": 69,
     "metadata": {},
     "output_type": "execute_result"
    }
   ],
   "source": [
    "#df.values[:,2]\n",
    "s=df.values[2,2]\n",
    "s.split('\\n')"
   ]
  },
  {
   "cell_type": "code",
   "execution_count": 70,
   "id": "6e9027ee",
   "metadata": {},
   "outputs": [
    {
     "data": {
      "text/plain": [
       "version                        show version....\n",
       "version.1                      $ node --version\n",
       "version.2    $ python -V.... $ python --version\n",
       "version.3                       $ php --version\n",
       "version.4                      $ ruby --version\n",
       "Name: 2, dtype: object"
      ]
     },
     "execution_count": 70,
     "metadata": {},
     "output_type": "execute_result"
    }
   ],
   "source": [
    "df.iloc[2]"
   ]
  },
  {
   "cell_type": "code",
   "execution_count": 71,
   "id": "e6ebdd7e",
   "metadata": {},
   "outputs": [],
   "source": [
    "##df.apply()\n",
    "#df.applymap()"
   ]
  },
  {
   "cell_type": "code",
   "execution_count": 7,
   "id": "8c29665a",
   "metadata": {},
   "outputs": [
    {
     "data": {
      "text/html": [
       "<div>\n",
       "<style scoped>\n",
       "    .dataframe tbody tr th:only-of-type {\n",
       "        vertical-align: middle;\n",
       "    }\n",
       "\n",
       "    .dataframe tbody tr th {\n",
       "        vertical-align: top;\n",
       "    }\n",
       "\n",
       "    .dataframe thead th {\n",
       "        text-align: right;\n",
       "    }\n",
       "</style>\n",
       "<table border=\"1\" class=\"dataframe\">\n",
       "  <thead>\n",
       "    <tr style=\"text-align: right;\">\n",
       "      <th></th>\n",
       "      <th>version</th>\n",
       "      <th>version.1</th>\n",
       "      <th>version.2</th>\n",
       "      <th>version.3</th>\n",
       "      <th>version.4</th>\n",
       "    </tr>\n",
       "  </thead>\n",
       "  <tbody>\n",
       "    <tr>\n",
       "      <th>0</th>\n",
       "      <td></td>\n",
       "      <td>node.js</td>\n",
       "      <td>python</td>\n",
       "      <td>php</td>\n",
       "      <td>ruby</td>\n",
       "    </tr>\n",
       "    <tr>\n",
       "      <th>1</th>\n",
       "      <td>version used....</td>\n",
       "      <td>6.11</td>\n",
       "      <td>3.6</td>\n",
       "      <td>7.0</td>\n",
       "      <td>2.3</td>\n",
       "    </tr>\n",
       "    <tr>\n",
       "      <th>2</th>\n",
       "      <td>show version....</td>\n",
       "      <td>$ node --version</td>\n",
       "      <td>$ python -V.... $ python --version</td>\n",
       "      <td>$ php --version</td>\n",
       "      <td>$ ruby --version</td>\n",
       "    </tr>\n",
       "    <tr>\n",
       "      <th>3</th>\n",
       "      <td>implicit prologue....</td>\n",
       "      <td>// npm install lodash.... const _ = require('l...</td>\n",
       "      <td>import os, re, sys</td>\n",
       "      <td># sudo apt install php-mbstring</td>\n",
       "      <td>none</td>\n",
       "    </tr>\n",
       "    <tr>\n",
       "      <th>4</th>\n",
       "      <td>grammar and execution</td>\n",
       "      <td>grammar and execution</td>\n",
       "      <td>grammar and execution</td>\n",
       "      <td>grammar and execution</td>\n",
       "      <td>grammar and execution</td>\n",
       "    </tr>\n",
       "    <tr>\n",
       "      <th>5</th>\n",
       "      <td></td>\n",
       "      <td>node.js</td>\n",
       "      <td>python</td>\n",
       "      <td>php</td>\n",
       "      <td>ruby</td>\n",
       "    </tr>\n",
       "    <tr>\n",
       "      <th>6</th>\n",
       "      <td>interpreter....</td>\n",
       "      <td>$ node foo.js</td>\n",
       "      <td>$ python foo.py</td>\n",
       "      <td>$ php -f foo.php</td>\n",
       "      <td>$ ruby foo.rb</td>\n",
       "    </tr>\n",
       "    <tr>\n",
       "      <th>7</th>\n",
       "      <td>repl....</td>\n",
       "      <td>$ node</td>\n",
       "      <td>$ python</td>\n",
       "      <td>$ php -a</td>\n",
       "      <td>$ irb</td>\n",
       "    </tr>\n",
       "    <tr>\n",
       "      <th>8</th>\n",
       "      <td>command line program</td>\n",
       "      <td>$ node -e \"console.log('hi!');\"</td>\n",
       "      <td>$ python -c 'print(\"hi!\")'</td>\n",
       "      <td>$ php -r 'echo \"hi!\\n\";'</td>\n",
       "      <td>$ ruby -e 'puts \"hi!\"'</td>\n",
       "    </tr>\n",
       "    <tr>\n",
       "      <th>9</th>\n",
       "      <td>block delimiters....</td>\n",
       "      <td>{}</td>\n",
       "      <td>: and offside rule</td>\n",
       "      <td>{}</td>\n",
       "      <td>{}.... do end</td>\n",
       "    </tr>\n",
       "    <tr>\n",
       "      <th>10</th>\n",
       "      <td>statement separator....</td>\n",
       "      <td>; or newline.... .... newline not separator in...</td>\n",
       "      <td>newline or ;.... .... newlines not separators ...</td>\n",
       "      <td>;.... .... statements must be semicolon termin...</td>\n",
       "      <td>newline or ;.... .... newlines not separators ...</td>\n",
       "    </tr>\n",
       "    <tr>\n",
       "      <th>11</th>\n",
       "      <td>source code encoding</td>\n",
       "      <td>source is always UTF-8</td>\n",
       "      <td>Python 3 source is UTF-8 by default; Python 2 ...</td>\n",
       "      <td>none</td>\n",
       "      <td>Ruby 2.0 source is UTF-8 by default.... .... #...</td>\n",
       "    </tr>\n",
       "    <tr>\n",
       "      <th>12</th>\n",
       "      <td>end-of-line comment....</td>\n",
       "      <td>// comment</td>\n",
       "      <td># comment</td>\n",
       "      <td>// comment.... # comment</td>\n",
       "      <td># comment</td>\n",
       "    </tr>\n",
       "    <tr>\n",
       "      <th>13</th>\n",
       "      <td>multiple line comment....</td>\n",
       "      <td>/* line.... another line */</td>\n",
       "      <td>use triple quote string literal:.... .... '''c...</td>\n",
       "      <td>/* comment line.... another line */</td>\n",
       "      <td>=begin.... comment line.... another line.... =end</td>\n",
       "    </tr>\n",
       "    <tr>\n",
       "      <th>14</th>\n",
       "      <td>variables and expressions</td>\n",
       "      <td>variables and expressions</td>\n",
       "      <td>variables and expressions</td>\n",
       "      <td>variables and expressions</td>\n",
       "      <td>variables and expressions</td>\n",
       "    </tr>\n",
       "    <tr>\n",
       "      <th>15</th>\n",
       "      <td></td>\n",
       "      <td>node.js</td>\n",
       "      <td>python</td>\n",
       "      <td>php</td>\n",
       "      <td>ruby</td>\n",
       "    </tr>\n",
       "    <tr>\n",
       "      <th>16</th>\n",
       "      <td>local variable....</td>\n",
       "      <td>// new in ES6:.... let x = 1;.... let y = 2, z...</td>\n",
       "      <td># in function body:.... x = 1.... y, z = 2, 3</td>\n",
       "      <td># in function body:.... $x = 1;.... list($y, $...</td>\n",
       "      <td>x = 1.... y, z = 2, 3</td>\n",
       "    </tr>\n",
       "    <tr>\n",
       "      <th>17</th>\n",
       "      <td>file scope variable</td>\n",
       "      <td>// outside any function body:.... let n = 1;.....</td>\n",
       "      <td>none</td>\n",
       "      <td>none</td>\n",
       "      <td>none</td>\n",
       "    </tr>\n",
       "    <tr>\n",
       "      <th>18</th>\n",
       "      <td>global variable</td>\n",
       "      <td>global.g = 1;.... .... incrGlobal () { global....</td>\n",
       "      <td>g = 1.... .... def incr_global():....  global ...</td>\n",
       "      <td>$g = 1;.... .... function incr_global() {.... ...</td>\n",
       "      <td>$g = 1.... .... def incr_global....  $g += 1.....</td>\n",
       "    </tr>\n",
       "    <tr>\n",
       "      <th>19</th>\n",
       "      <td>constant....</td>\n",
       "      <td>// new in ES6.... const PI = 3.14;</td>\n",
       "      <td># uppercase identifiers.... # constant by conv...</td>\n",
       "      <td>define(\"PI\", 3.14);.... .... const PI = 3.14;</td>\n",
       "      <td># warning if capitalized.... # identifier is r...</td>\n",
       "    </tr>\n",
       "    <tr>\n",
       "      <th>20</th>\n",
       "      <td>assignment....</td>\n",
       "      <td>v = 1;</td>\n",
       "      <td># assignments can be chained.... # but otherwi...</td>\n",
       "      <td>$v = 1;</td>\n",
       "      <td>v = 1</td>\n",
       "    </tr>\n",
       "    <tr>\n",
       "      <th>21</th>\n",
       "      <td>parallel assignment....</td>\n",
       "      <td>// new in ES6:.... let [x, y, z] = [1, 2, 3];</td>\n",
       "      <td>x, y, z = 1, 2, 3.... .... # raises ValueError...</td>\n",
       "      <td>list($x, $y, $z) = [1 ,2, 3];.... .... # 3 is ...</td>\n",
       "      <td>x, y, z = 1, 2, 3.... .... # 3 is discarded:.....</td>\n",
       "    </tr>\n",
       "    <tr>\n",
       "      <th>22</th>\n",
       "      <td>swap....</td>\n",
       "      <td>// new in ES6:.... [x, y] = [y, x];</td>\n",
       "      <td>x, y = y, x</td>\n",
       "      <td>list($x, $y) = [$y, $x];</td>\n",
       "      <td>x, y = y, x</td>\n",
       "    </tr>\n",
       "    <tr>\n",
       "      <th>23</th>\n",
       "      <td>compound assignment.... arithmetic, string, lo...</td>\n",
       "      <td>+= -= *= /= none %=.... +=.... none.... &lt;&lt;= &gt;&gt;...</td>\n",
       "      <td># do not return values:.... += -= *= /= //= %=...</td>\n",
       "      <td>+= -= *= none /= %= **=.... .= none.... &amp;= |= ...</td>\n",
       "      <td>+= -= *= /= none %= **=.... += *=.... &amp;&amp;= ||= ...</td>\n",
       "    </tr>\n",
       "    <tr>\n",
       "      <th>24</th>\n",
       "      <td>increment and decrement....</td>\n",
       "      <td>let x = 1;.... let y = ++x;.... let z = --y;</td>\n",
       "      <td>none</td>\n",
       "      <td>$x = 1;.... $y = ++$x;.... $z = --$y;</td>\n",
       "      <td>x = 1.... # x and y not mutated:.... y = x.suc...</td>\n",
       "    </tr>\n",
       "    <tr>\n",
       "      <th>25</th>\n",
       "      <td>null....</td>\n",
       "      <td>null</td>\n",
       "      <td>None</td>\n",
       "      <td>NULL # case insensitive</td>\n",
       "      <td>nil</td>\n",
       "    </tr>\n",
       "    <tr>\n",
       "      <th>26</th>\n",
       "      <td>null test....</td>\n",
       "      <td>v === null</td>\n",
       "      <td>v is None</td>\n",
       "      <td>is_null($v).... ! isset($v)</td>\n",
       "      <td>v == nil.... v.nil?</td>\n",
       "    </tr>\n",
       "    <tr>\n",
       "      <th>27</th>\n",
       "      <td>undefined variable....</td>\n",
       "      <td>Evaluates as undefined.... .... Use the triple...</td>\n",
       "      <td>raises NameError</td>\n",
       "      <td>Evaluates as NULL</td>\n",
       "      <td>raises NameError</td>\n",
       "    </tr>\n",
       "    <tr>\n",
       "      <th>28</th>\n",
       "      <td>conditional expression....</td>\n",
       "      <td>x &gt; 0 ? x : -x</td>\n",
       "      <td>x if x &gt; 0 else -x</td>\n",
       "      <td>$x &gt; 0 ? $x : -$x</td>\n",
       "      <td>x &gt; 0 ? x : -x</td>\n",
       "    </tr>\n",
       "    <tr>\n",
       "      <th>29</th>\n",
       "      <td>arithmetic and logic</td>\n",
       "      <td>arithmetic and logic</td>\n",
       "      <td>arithmetic and logic</td>\n",
       "      <td>arithmetic and logic</td>\n",
       "      <td>arithmetic and logic</td>\n",
       "    </tr>\n",
       "  </tbody>\n",
       "</table>\n",
       "</div>"
      ],
      "text/plain": [
       "                                              version  \\\n",
       "0                                                       \n",
       "1                                    version used....   \n",
       "2                                    show version....   \n",
       "3                               implicit prologue....   \n",
       "4                               grammar and execution   \n",
       "5                                                       \n",
       "6                                     interpreter....   \n",
       "7                                            repl....   \n",
       "8                                command line program   \n",
       "9                                block delimiters....   \n",
       "10                            statement separator....   \n",
       "11                               source code encoding   \n",
       "12                            end-of-line comment....   \n",
       "13                          multiple line comment....   \n",
       "14                          variables and expressions   \n",
       "15                                                      \n",
       "16                                 local variable....   \n",
       "17                                file scope variable   \n",
       "18                                    global variable   \n",
       "19                                       constant....   \n",
       "20                                     assignment....   \n",
       "21                            parallel assignment....   \n",
       "22                                           swap....   \n",
       "23  compound assignment.... arithmetic, string, lo...   \n",
       "24                        increment and decrement....   \n",
       "25                                           null....   \n",
       "26                                      null test....   \n",
       "27                             undefined variable....   \n",
       "28                         conditional expression....   \n",
       "29                               arithmetic and logic   \n",
       "\n",
       "                                            version.1  \\\n",
       "0                                             node.js   \n",
       "1                                                6.11   \n",
       "2                                    $ node --version   \n",
       "3   // npm install lodash.... const _ = require('l...   \n",
       "4                               grammar and execution   \n",
       "5                                             node.js   \n",
       "6                                       $ node foo.js   \n",
       "7                                              $ node   \n",
       "8                     $ node -e \"console.log('hi!');\"   \n",
       "9                                                  {}   \n",
       "10  ; or newline.... .... newline not separator in...   \n",
       "11                             source is always UTF-8   \n",
       "12                                         // comment   \n",
       "13                        /* line.... another line */   \n",
       "14                          variables and expressions   \n",
       "15                                            node.js   \n",
       "16  // new in ES6:.... let x = 1;.... let y = 2, z...   \n",
       "17  // outside any function body:.... let n = 1;.....   \n",
       "18  global.g = 1;.... .... incrGlobal () { global....   \n",
       "19                 // new in ES6.... const PI = 3.14;   \n",
       "20                                             v = 1;   \n",
       "21      // new in ES6:.... let [x, y, z] = [1, 2, 3];   \n",
       "22                // new in ES6:.... [x, y] = [y, x];   \n",
       "23  += -= *= /= none %=.... +=.... none.... <<= >>...   \n",
       "24       let x = 1;.... let y = ++x;.... let z = --y;   \n",
       "25                                               null   \n",
       "26                                         v === null   \n",
       "27  Evaluates as undefined.... .... Use the triple...   \n",
       "28                                     x > 0 ? x : -x   \n",
       "29                               arithmetic and logic   \n",
       "\n",
       "                                            version.2  \\\n",
       "0                                              python   \n",
       "1                                                 3.6   \n",
       "2                  $ python -V.... $ python --version   \n",
       "3                                  import os, re, sys   \n",
       "4                               grammar and execution   \n",
       "5                                              python   \n",
       "6                                     $ python foo.py   \n",
       "7                                            $ python   \n",
       "8                          $ python -c 'print(\"hi!\")'   \n",
       "9                                  : and offside rule   \n",
       "10  newline or ;.... .... newlines not separators ...   \n",
       "11  Python 3 source is UTF-8 by default; Python 2 ...   \n",
       "12                                          # comment   \n",
       "13  use triple quote string literal:.... .... '''c...   \n",
       "14                          variables and expressions   \n",
       "15                                             python   \n",
       "16      # in function body:.... x = 1.... y, z = 2, 3   \n",
       "17                                               none   \n",
       "18  g = 1.... .... def incr_global():....  global ...   \n",
       "19  # uppercase identifiers.... # constant by conv...   \n",
       "20  # assignments can be chained.... # but otherwi...   \n",
       "21  x, y, z = 1, 2, 3.... .... # raises ValueError...   \n",
       "22                                        x, y = y, x   \n",
       "23  # do not return values:.... += -= *= /= //= %=...   \n",
       "24                                               none   \n",
       "25                                               None   \n",
       "26                                          v is None   \n",
       "27                                   raises NameError   \n",
       "28                                 x if x > 0 else -x   \n",
       "29                               arithmetic and logic   \n",
       "\n",
       "                                            version.3  \\\n",
       "0                                                 php   \n",
       "1                                                 7.0   \n",
       "2                                     $ php --version   \n",
       "3                     # sudo apt install php-mbstring   \n",
       "4                               grammar and execution   \n",
       "5                                                 php   \n",
       "6                                    $ php -f foo.php   \n",
       "7                                            $ php -a   \n",
       "8                            $ php -r 'echo \"hi!\\n\";'   \n",
       "9                                                  {}   \n",
       "10  ;.... .... statements must be semicolon termin...   \n",
       "11                                               none   \n",
       "12                           // comment.... # comment   \n",
       "13                /* comment line.... another line */   \n",
       "14                          variables and expressions   \n",
       "15                                                php   \n",
       "16  # in function body:.... $x = 1;.... list($y, $...   \n",
       "17                                               none   \n",
       "18  $g = 1;.... .... function incr_global() {.... ...   \n",
       "19      define(\"PI\", 3.14);.... .... const PI = 3.14;   \n",
       "20                                            $v = 1;   \n",
       "21  list($x, $y, $z) = [1 ,2, 3];.... .... # 3 is ...   \n",
       "22                           list($x, $y) = [$y, $x];   \n",
       "23  += -= *= none /= %= **=.... .= none.... &= |= ...   \n",
       "24              $x = 1;.... $y = ++$x;.... $z = --$y;   \n",
       "25                            NULL # case insensitive   \n",
       "26                        is_null($v).... ! isset($v)   \n",
       "27                                  Evaluates as NULL   \n",
       "28                                  $x > 0 ? $x : -$x   \n",
       "29                               arithmetic and logic   \n",
       "\n",
       "                                            version.4  \n",
       "0                                                ruby  \n",
       "1                                                 2.3  \n",
       "2                                    $ ruby --version  \n",
       "3                                                none  \n",
       "4                               grammar and execution  \n",
       "5                                                ruby  \n",
       "6                                       $ ruby foo.rb  \n",
       "7                                               $ irb  \n",
       "8                              $ ruby -e 'puts \"hi!\"'  \n",
       "9                                       {}.... do end  \n",
       "10  newline or ;.... .... newlines not separators ...  \n",
       "11  Ruby 2.0 source is UTF-8 by default.... .... #...  \n",
       "12                                          # comment  \n",
       "13  =begin.... comment line.... another line.... =end  \n",
       "14                          variables and expressions  \n",
       "15                                               ruby  \n",
       "16                              x = 1.... y, z = 2, 3  \n",
       "17                                               none  \n",
       "18  $g = 1.... .... def incr_global....  $g += 1.....  \n",
       "19  # warning if capitalized.... # identifier is r...  \n",
       "20                                              v = 1  \n",
       "21  x, y, z = 1, 2, 3.... .... # 3 is discarded:.....  \n",
       "22                                        x, y = y, x  \n",
       "23  += -= *= /= none %= **=.... += *=.... &&= ||= ...  \n",
       "24  x = 1.... # x and y not mutated:.... y = x.suc...  \n",
       "25                                                nil  \n",
       "26                                v == nil.... v.nil?  \n",
       "27                                   raises NameError  \n",
       "28                                     x > 0 ? x : -x  \n",
       "29                               arithmetic and logic  "
      ]
     },
     "execution_count": 7,
     "metadata": {},
     "output_type": "execute_result"
    }
   ],
   "source": [
    "df[:30]"
   ]
  },
  {
   "cell_type": "code",
   "execution_count": 73,
   "id": "074e5e15",
   "metadata": {},
   "outputs": [
    {
     "data": {
      "text/plain": [
       "0                           \n",
       "1           version used....\n",
       "2           show version....\n",
       "3      implicit prologue....\n",
       "4      grammar and execution\n",
       "               ...          \n",
       "228         start thread....\n",
       "229       wait on thread....\n",
       "230                    sleep\n",
       "231                  timeout\n",
       "232                         \n",
       "Name: version, Length: 233, dtype: object"
      ]
     },
     "execution_count": 73,
     "metadata": {},
     "output_type": "execute_result"
    }
   ],
   "source": [
    "df['version']"
   ]
  },
  {
   "cell_type": "code",
   "execution_count": null,
   "id": "1e8c0dd2",
   "metadata": {},
   "outputs": [],
   "source": []
  },
  {
   "cell_type": "code",
   "execution_count": 30,
   "id": "7c453c3d",
   "metadata": {},
   "outputs": [
    {
     "data": {
      "text/html": [
       "<div>\n",
       "<style scoped>\n",
       "    .dataframe tbody tr th:only-of-type {\n",
       "        vertical-align: middle;\n",
       "    }\n",
       "\n",
       "    .dataframe tbody tr th {\n",
       "        vertical-align: top;\n",
       "    }\n",
       "\n",
       "    .dataframe thead th {\n",
       "        text-align: right;\n",
       "    }\n",
       "</style>\n",
       "<table border=\"1\" class=\"dataframe\">\n",
       "  <thead>\n",
       "    <tr style=\"text-align: right;\">\n",
       "      <th></th>\n",
       "      <th>version</th>\n",
       "      <th>version.1</th>\n",
       "      <th>version.2</th>\n",
       "      <th>version.3</th>\n",
       "      <th>version.4</th>\n",
       "    </tr>\n",
       "  </thead>\n",
       "  <tbody>\n",
       "    <tr>\n",
       "      <th>count</th>\n",
       "      <td>233</td>\n",
       "      <td>233</td>\n",
       "      <td>233</td>\n",
       "      <td>233</td>\n",
       "      <td>233</td>\n",
       "    </tr>\n",
       "    <tr>\n",
       "      <th>unique</th>\n",
       "      <td>217</td>\n",
       "      <td>195</td>\n",
       "      <td>211</td>\n",
       "      <td>199</td>\n",
       "      <td>216</td>\n",
       "    </tr>\n",
       "    <tr>\n",
       "      <th>top</th>\n",
       "      <td></td>\n",
       "      <td>none</td>\n",
       "      <td>python</td>\n",
       "      <td>php</td>\n",
       "      <td>ruby</td>\n",
       "    </tr>\n",
       "    <tr>\n",
       "      <th>freq</th>\n",
       "      <td>14</td>\n",
       "      <td>22</td>\n",
       "      <td>13</td>\n",
       "      <td>13</td>\n",
       "      <td>13</td>\n",
       "    </tr>\n",
       "  </tbody>\n",
       "</table>\n",
       "</div>"
      ],
      "text/plain": [
       "       version version.1 version.2 version.3 version.4\n",
       "count      233       233       233       233       233\n",
       "unique     217       195       211       199       216\n",
       "top                 none    python       php      ruby\n",
       "freq        14        22        13        13        13"
      ]
     },
     "execution_count": 30,
     "metadata": {},
     "output_type": "execute_result"
    }
   ],
   "source": [
    "df.describe()"
   ]
  },
  {
   "cell_type": "code",
   "execution_count": 31,
   "id": "b2ff7ab0",
   "metadata": {},
   "outputs": [
    {
     "name": "stdout",
     "output_type": "stream",
     "text": [
      "<class 'pandas.core.frame.DataFrame'>\n",
      "RangeIndex: 233 entries, 0 to 232\n",
      "Data columns (total 5 columns):\n",
      " #   Column     Non-Null Count  Dtype \n",
      "---  ------     --------------  ----- \n",
      " 0   version    233 non-null    object\n",
      " 1   version.1  233 non-null    object\n",
      " 2   version.2  233 non-null    object\n",
      " 3   version.3  233 non-null    object\n",
      " 4   version.4  233 non-null    object\n",
      "dtypes: object(5)\n",
      "memory usage: 9.2+ KB\n"
     ]
    }
   ],
   "source": [
    "df.info()"
   ]
  },
  {
   "cell_type": "code",
   "execution_count": null,
   "id": "1c387229",
   "metadata": {},
   "outputs": [],
   "source": []
  },
  {
   "cell_type": "code",
   "execution_count": null,
   "id": "226eef32",
   "metadata": {},
   "outputs": [],
   "source": []
  },
  {
   "cell_type": "code",
   "execution_count": null,
   "id": "d8db58ef",
   "metadata": {},
   "outputs": [],
   "source": [
    "id(8)"
   ]
  },
  {
   "cell_type": "code",
   "execution_count": null,
   "id": "609d38cc",
   "metadata": {},
   "outputs": [],
   "source": []
  },
  {
   "cell_type": "code",
   "execution_count": 3,
   "id": "worst-communication",
   "metadata": {},
   "outputs": [
    {
     "data": {
      "text/plain": [
       "{'__name__': '__main__',\n",
       " '__doc__': 'Automatically created module for IPython interactive environment',\n",
       " '__package__': None,\n",
       " '__loader__': None,\n",
       " '__spec__': None,\n",
       " '__builtin__': <module 'builtins' (built-in)>,\n",
       " '__builtins__': <module 'builtins' (built-in)>,\n",
       " '_ih': ['',\n",
       "  'import pandas as pd\\nimport numpy as np',\n",
       "  'globals()',\n",
       "  'globals()'],\n",
       " '_oh': {2: {...}},\n",
       " '_dh': [WindowsPath('c:/Users/marti/OneDrive/jupyter-notebooks')],\n",
       " 'In': ['',\n",
       "  'import pandas as pd\\nimport numpy as np',\n",
       "  'globals()',\n",
       "  'globals()'],\n",
       " 'Out': {2: {...}},\n",
       " 'get_ipython': <bound method InteractiveShell.get_ipython of <ipykernel.zmqshell.ZMQInteractiveShell object at 0x000001DC707843D0>>,\n",
       " 'exit': <IPython.core.autocall.ZMQExitAutocall at 0x1dc70784a30>,\n",
       " 'quit': <IPython.core.autocall.ZMQExitAutocall at 0x1dc70784a30>,\n",
       " '_': {...},\n",
       " '__': '',\n",
       " '___': '',\n",
       " 'os': <module 'os' from 'd:\\\\conda\\\\lib\\\\os.py'>,\n",
       " 'sys': <module 'sys' (built-in)>,\n",
       " '__vsc_ipynb_file__': 'c:\\\\Users\\\\marti\\\\OneDrive\\\\jupyter-notebooks\\\\pandas-1.ipynb',\n",
       " '_i': 'globals()',\n",
       " '_ii': 'import pandas as pd\\nimport numpy as np',\n",
       " '_iii': '',\n",
       " '_i1': 'import pandas as pd\\nimport numpy as np',\n",
       " 'pd': <module 'pandas' from 'd:\\\\conda\\\\lib\\\\site-packages\\\\pandas\\\\__init__.py'>,\n",
       " 'np': <module 'numpy' from 'd:\\\\conda\\\\lib\\\\site-packages\\\\numpy\\\\__init__.py'>,\n",
       " '_i2': 'globals()',\n",
       " '_2': {...},\n",
       " '_i3': 'globals()'}"
      ]
     },
     "execution_count": 3,
     "metadata": {},
     "output_type": "execute_result"
    }
   ],
   "source": [
    "globals()"
   ]
  },
  {
   "cell_type": "code",
   "execution_count": 4,
   "id": "intense-cargo",
   "metadata": {},
   "outputs": [
    {
     "data": {
      "text/plain": [
       "['',\n",
       " 'import pandas as pd\\nimport numpy as np',\n",
       " 'globals()',\n",
       " 'globals()',\n",
       " '_ih']"
      ]
     },
     "execution_count": 4,
     "metadata": {},
     "output_type": "execute_result"
    }
   ],
   "source": [
    "_ih"
   ]
  },
  {
   "cell_type": "code",
   "execution_count": null,
   "id": "express-edmonton",
   "metadata": {},
   "outputs": [],
   "source": []
  },
  {
   "cell_type": "code",
   "execution_count": 5,
   "id": "surprised-confidentiality",
   "metadata": {},
   "outputs": [
    {
     "data": {
      "text/plain": [
       "0          BooleanDtype\n",
       "1           Categorical\n",
       "2      CategoricalDtype\n",
       "3      CategoricalIndex\n",
       "4             DataFrame\n",
       "             ...       \n",
       "136             tseries\n",
       "137              unique\n",
       "138                util\n",
       "139        value_counts\n",
       "140        wide_to_long\n",
       "Length: 141, dtype: object"
      ]
     },
     "execution_count": 5,
     "metadata": {},
     "output_type": "execute_result"
    }
   ],
   "source": [
    "pd.Series(dir(pd))"
   ]
  },
  {
   "cell_type": "code",
   "execution_count": null,
   "id": "commercial-filing",
   "metadata": {},
   "outputs": [],
   "source": []
  },
  {
   "cell_type": "code",
   "execution_count": 6,
   "id": "continent-charter",
   "metadata": {},
   "outputs": [],
   "source": [
    "seri=pd.Series(dir(pd))"
   ]
  },
  {
   "cell_type": "code",
   "execution_count": 7,
   "id": "small-tribune",
   "metadata": {},
   "outputs": [],
   "source": [
    "seri=pd.Series(globals())"
   ]
  },
  {
   "cell_type": "code",
   "execution_count": 8,
   "id": "surprising-alloy",
   "metadata": {},
   "outputs": [
    {
     "ename": "NameError",
     "evalue": "name 'dfa' is not defined",
     "output_type": "error",
     "traceback": [
      "\u001b[1;31m---------------------------------------------------------------------------\u001b[0m",
      "\u001b[1;31mNameError\u001b[0m                                 Traceback (most recent call last)",
      "\u001b[1;32mc:\\Users\\marti\\OneDrive\\jupyter-notebooks\\pandas-1.ipynb Cell 9\u001b[0m in \u001b[0;36m<cell line: 1>\u001b[1;34m()\u001b[0m\n\u001b[1;32m----> <a href='vscode-notebook-cell:/c%3A/Users/marti/OneDrive/jupyter-notebooks/pandas-1.ipynb#ch0000008?line=0'>1</a>\u001b[0m seri\u001b[39m=\u001b[39mdfa\u001b[39m.\u001b[39mli\n",
      "\u001b[1;31mNameError\u001b[0m: name 'dfa' is not defined"
     ]
    }
   ],
   "source": [
    "seri=dfa.li"
   ]
  },
  {
   "cell_type": "code",
   "execution_count": 10,
   "id": "maritime-witness",
   "metadata": {},
   "outputs": [],
   "source": [
    "seri=pd.Series(_ih)"
   ]
  },
  {
   "cell_type": "code",
   "execution_count": 11,
   "id": "chicken-intention",
   "metadata": {},
   "outputs": [
    {
     "data": {
      "text/plain": [
       "0                                            \n",
       "1     import pandas as pd\\nimport numpy as np\n",
       "2                                   globals()\n",
       "3                                   globals()\n",
       "4                                         _ih\n",
       "5                          pd.Series(dir(pd))\n",
       "6                     seri=pd.Series(dir(pd))\n",
       "7                   seri=pd.Series(globals())\n",
       "8                                 seri=dfa.li\n",
       "9                         seri=pd.Series(_ih)\n",
       "10                        seri=pd.Series(_ih)\n",
       "dtype: object"
      ]
     },
     "execution_count": 11,
     "metadata": {},
     "output_type": "execute_result"
    }
   ],
   "source": [
    "seri"
   ]
  },
  {
   "cell_type": "code",
   "execution_count": 12,
   "id": "universal-cleaners",
   "metadata": {},
   "outputs": [
    {
     "data": {
      "text/plain": [
       "6       seri=pd.Series(dir(pd))\n",
       "7     seri=pd.Series(globals())\n",
       "8                   seri=dfa.li\n",
       "9           seri=pd.Series(_ih)\n",
       "10          seri=pd.Series(_ih)\n",
       "dtype: object"
      ]
     },
     "execution_count": 12,
     "metadata": {},
     "output_type": "execute_result"
    }
   ],
   "source": [
    "seri[seri.str.contains('seri[=]')]"
   ]
  },
  {
   "cell_type": "code",
   "execution_count": 13,
   "id": "compressed-planning",
   "metadata": {},
   "outputs": [
    {
     "data": {
      "text/plain": [
       "6       seri=pd.Series(dir(pd))\n",
       "7     seri=pd.Series(globals())\n",
       "8                   seri=dfa.li\n",
       "9           seri=pd.Series(_ih)\n",
       "10          seri=pd.Series(_ih)\n",
       "dtype: object"
      ]
     },
     "execution_count": 13,
     "metadata": {},
     "output_type": "execute_result"
    }
   ],
   "source": [
    "seri[seri.str.contains('^ser')]"
   ]
  },
  {
   "cell_type": "code",
   "execution_count": null,
   "id": "heated-cooperation",
   "metadata": {},
   "outputs": [],
   "source": []
  },
  {
   "cell_type": "code",
   "execution_count": 14,
   "id": "present-paris",
   "metadata": {
    "collapsed": true
   },
   "outputs": [
    {
     "data": {
      "text/plain": [
       "['',\n",
       " 'import pandas as pd\\nimport numpy as np',\n",
       " 'globals()',\n",
       " 'globals()',\n",
       " '_ih',\n",
       " 'pd.Series(dir(pd))',\n",
       " 'seri=pd.Series(dir(pd))',\n",
       " 'seri=pd.Series(globals())',\n",
       " 'seri=dfa.li',\n",
       " 'seri=pd.Series(_ih)',\n",
       " 'seri=pd.Series(_ih)',\n",
       " 'seri',\n",
       " \"seri[seri.str.contains('seri[=]')]\",\n",
       " \"seri[seri.str.contains('^ser')]\",\n",
       " '_ih']"
      ]
     },
     "execution_count": 14,
     "metadata": {},
     "output_type": "execute_result"
    }
   ],
   "source": [
    "_ih"
   ]
  },
  {
   "cell_type": "code",
   "execution_count": null,
   "id": "steady-state",
   "metadata": {},
   "outputs": [],
   "source": []
  },
  {
   "cell_type": "code",
   "execution_count": null,
   "id": "automotive-sharing",
   "metadata": {},
   "outputs": [],
   "source": []
  },
  {
   "cell_type": "code",
   "execution_count": 18,
   "id": "representative-assistant",
   "metadata": {},
   "outputs": [
    {
     "data": {
      "text/plain": [
       "['__annotations__',\n",
       " '__class__',\n",
       " '__delattr__',\n",
       " '__dict__',\n",
       " '__dir__',\n",
       " '__doc__',\n",
       " '__eq__',\n",
       " '__format__',\n",
       " '__frozen',\n",
       " '__ge__',\n",
       " '__getattribute__',\n",
       " '__getitem__',\n",
       " '__gt__',\n",
       " '__hash__',\n",
       " '__init__',\n",
       " '__init_subclass__',\n",
       " '__iter__',\n",
       " '__le__',\n",
       " '__lt__',\n",
       " '__module__',\n",
       " '__ne__',\n",
       " '__new__',\n",
       " '__reduce__',\n",
       " '__reduce_ex__',\n",
       " '__repr__',\n",
       " '__setattr__',\n",
       " '__sizeof__',\n",
       " '__str__',\n",
       " '__subclasshook__',\n",
       " '__weakref__',\n",
       " '_data',\n",
       " '_doc_args',\n",
       " '_freeze',\n",
       " '_get_series_list',\n",
       " '_index',\n",
       " '_inferred_dtype',\n",
       " '_is_categorical',\n",
       " '_is_string',\n",
       " '_name',\n",
       " '_orig',\n",
       " '_parent',\n",
       " '_validate',\n",
       " '_wrap_result',\n",
       " 'capitalize',\n",
       " 'casefold',\n",
       " 'cat',\n",
       " 'center',\n",
       " 'contains',\n",
       " 'count',\n",
       " 'decode',\n",
       " 'encode',\n",
       " 'endswith',\n",
       " 'extract',\n",
       " 'extractall',\n",
       " 'find',\n",
       " 'findall',\n",
       " 'fullmatch',\n",
       " 'get',\n",
       " 'get_dummies',\n",
       " 'index',\n",
       " 'isalnum',\n",
       " 'isalpha',\n",
       " 'isdecimal',\n",
       " 'isdigit',\n",
       " 'islower',\n",
       " 'isnumeric',\n",
       " 'isspace',\n",
       " 'istitle',\n",
       " 'isupper',\n",
       " 'join',\n",
       " 'len',\n",
       " 'ljust',\n",
       " 'lower',\n",
       " 'lstrip',\n",
       " 'match',\n",
       " 'normalize',\n",
       " 'pad',\n",
       " 'partition',\n",
       " 'removeprefix',\n",
       " 'removesuffix',\n",
       " 'repeat',\n",
       " 'replace',\n",
       " 'rfind',\n",
       " 'rindex',\n",
       " 'rjust',\n",
       " 'rpartition',\n",
       " 'rsplit',\n",
       " 'rstrip',\n",
       " 'slice',\n",
       " 'slice_replace',\n",
       " 'split',\n",
       " 'startswith',\n",
       " 'strip',\n",
       " 'swapcase',\n",
       " 'title',\n",
       " 'translate',\n",
       " 'upper',\n",
       " 'wrap',\n",
       " 'zfill']"
      ]
     },
     "execution_count": 18,
     "metadata": {},
     "output_type": "execute_result"
    }
   ],
   "source": [
    "dir(seri.str)"
   ]
  },
  {
   "cell_type": "code",
   "execution_count": 16,
   "id": "senior-wednesday",
   "metadata": {},
   "outputs": [
    {
     "ename": "NameError",
     "evalue": "name 'df1' is not defined",
     "output_type": "error",
     "traceback": [
      "\u001b[1;31m---------------------------------------------------------------------------\u001b[0m",
      "\u001b[1;31mNameError\u001b[0m                                 Traceback (most recent call last)",
      "\u001b[1;32mc:\\Users\\marti\\OneDrive\\jupyter-notebooks\\pandas-1.ipynb Cell 19\u001b[0m in \u001b[0;36m<cell line: 1>\u001b[1;34m()\u001b[0m\n\u001b[1;32m----> <a href='vscode-notebook-cell:/c%3A/Users/marti/OneDrive/jupyter-notebooks/pandas-1.ipynb#ch0000018?line=0'>1</a>\u001b[0m df1\u001b[39m.\u001b[39mcolumns\n",
      "\u001b[1;31mNameError\u001b[0m: name 'df1' is not defined"
     ]
    }
   ],
   "source": [
    "df1.columns"
   ]
  },
  {
   "cell_type": "code",
   "execution_count": null,
   "id": "charming-federation",
   "metadata": {},
   "outputs": [],
   "source": []
  },
  {
   "cell_type": "code",
   "execution_count": null,
   "id": "brilliant-television",
   "metadata": {},
   "outputs": [],
   "source": []
  },
  {
   "cell_type": "code",
   "execution_count": null,
   "id": "digital-train",
   "metadata": {},
   "outputs": [],
   "source": [
    "pd.DataFrame(dir(pd))"
   ]
  },
  {
   "cell_type": "code",
   "execution_count": null,
   "id": "empirical-network",
   "metadata": {},
   "outputs": [],
   "source": []
  },
  {
   "cell_type": "code",
   "execution_count": null,
   "id": "solar-driving",
   "metadata": {},
   "outputs": [],
   "source": [
    "dir(pd)"
   ]
  },
  {
   "cell_type": "code",
   "execution_count": null,
   "id": "worse-assignment",
   "metadata": {},
   "outputs": [],
   "source": [
    "dtype1= {'c': np.int32 , 'x': np.float64 } #, dtype=dtype1"
   ]
  },
  {
   "cell_type": "code",
   "execution_count": null,
   "id": "imported-terminology",
   "metadata": {},
   "outputs": [],
   "source": [
    "dfa=pd.read_csv('f3-of-f234.csv',sep=',',names=['li']) #,,skipinitialspace=True)"
   ]
  },
  {
   "cell_type": "code",
   "execution_count": null,
   "id": "alternative-assembly",
   "metadata": {},
   "outputs": [],
   "source": [
    "# not strange ... just right aligned"
   ]
  },
  {
   "cell_type": "code",
   "execution_count": null,
   "id": "aggregate-district",
   "metadata": {},
   "outputs": [],
   "source": [
    "notstrange1=dfa.li.str.replace(' ','------')"
   ]
  },
  {
   "cell_type": "code",
   "execution_count": null,
   "id": "expressed-petroleum",
   "metadata": {},
   "outputs": [],
   "source": [
    "notstrange1"
   ]
  },
  {
   "cell_type": "code",
   "execution_count": null,
   "id": "threaded-phrase",
   "metadata": {},
   "outputs": [],
   "source": [
    "notstrange1.to_csv('s1')"
   ]
  },
  {
   "cell_type": "code",
   "execution_count": null,
   "id": "regular-berkeley",
   "metadata": {},
   "outputs": [],
   "source": [
    "notstrange1.to_frame('s1')"
   ]
  },
  {
   "cell_type": "code",
   "execution_count": null,
   "id": "proud-compiler",
   "metadata": {},
   "outputs": [],
   "source": [
    "notstrange1.to_list()"
   ]
  },
  {
   "cell_type": "code",
   "execution_count": null,
   "id": "related-classics",
   "metadata": {},
   "outputs": [],
   "source": [
    "notstrange1.to_numpy()"
   ]
  },
  {
   "cell_type": "code",
   "execution_count": null,
   "id": "thermal-smell",
   "metadata": {},
   "outputs": [],
   "source": [
    "notstrange1.to_string()"
   ]
  },
  {
   "cell_type": "code",
   "execution_count": null,
   "id": "educated-force",
   "metadata": {},
   "outputs": [],
   "source": []
  },
  {
   "cell_type": "code",
   "execution_count": null,
   "id": "convertible-wallpaper",
   "metadata": {},
   "outputs": [],
   "source": []
  },
  {
   "cell_type": "code",
   "execution_count": null,
   "id": "suited-relationship",
   "metadata": {},
   "outputs": [],
   "source": []
  },
  {
   "cell_type": "code",
   "execution_count": null,
   "id": "standing-bread",
   "metadata": {},
   "outputs": [],
   "source": []
  },
  {
   "cell_type": "code",
   "execution_count": null,
   "id": "correct-bailey",
   "metadata": {},
   "outputs": [],
   "source": [
    "dfa.li.str.replace(' ','-----')"
   ]
  },
  {
   "cell_type": "code",
   "execution_count": null,
   "id": "scenic-instruction",
   "metadata": {},
   "outputs": [],
   "source": []
  },
  {
   "cell_type": "code",
   "execution_count": null,
   "id": "awful-chest",
   "metadata": {},
   "outputs": [],
   "source": [
    "dfa.li.str.replace('\\t','------')"
   ]
  },
  {
   "cell_type": "code",
   "execution_count": null,
   "id": "powerful-blast",
   "metadata": {},
   "outputs": [],
   "source": []
  },
  {
   "cell_type": "code",
   "execution_count": null,
   "id": "dominican-result",
   "metadata": {},
   "outputs": [],
   "source": []
  },
  {
   "cell_type": "code",
   "execution_count": null,
   "id": "horizontal-procurement",
   "metadata": {},
   "outputs": [],
   "source": []
  },
  {
   "cell_type": "code",
   "execution_count": null,
   "id": "victorian-western",
   "metadata": {},
   "outputs": [],
   "source": []
  },
  {
   "cell_type": "code",
   "execution_count": null,
   "id": "competent-bhutan",
   "metadata": {},
   "outputs": [],
   "source": [
    "df1=pd.read_csv('f3-of-f234.csv',sep=' ',names=['c','x'],skipinitialspace=True)"
   ]
  },
  {
   "cell_type": "code",
   "execution_count": null,
   "id": "crucial-yacht",
   "metadata": {},
   "outputs": [],
   "source": [
    "(10*df1).round()/10"
   ]
  },
  {
   "cell_type": "code",
   "execution_count": null,
   "id": "facial-reform",
   "metadata": {},
   "outputs": [],
   "source": []
  },
  {
   "cell_type": "code",
   "execution_count": null,
   "id": "contrary-manufacturer",
   "metadata": {},
   "outputs": [],
   "source": [
    "df1.eval('y=floor(10*x)/10', inplace=True)"
   ]
  },
  {
   "cell_type": "code",
   "execution_count": null,
   "id": "available-daughter",
   "metadata": {},
   "outputs": [],
   "source": [
    "df11=df1"
   ]
  },
  {
   "cell_type": "code",
   "execution_count": null,
   "id": "simple-crystal",
   "metadata": {},
   "outputs": [],
   "source": [
    "df1.drop(columns=['x'],inplace=True)"
   ]
  },
  {
   "cell_type": "code",
   "execution_count": null,
   "id": "cleared-trash",
   "metadata": {},
   "outputs": [],
   "source": [
    "df12=df1"
   ]
  },
  {
   "cell_type": "code",
   "execution_count": null,
   "id": "likely-encounter",
   "metadata": {
    "scrolled": false
   },
   "outputs": [],
   "source": [
    "df3=df1.groupby(by=['y']).sum()"
   ]
  },
  {
   "cell_type": "code",
   "execution_count": null,
   "id": "current-poker",
   "metadata": {},
   "outputs": [],
   "source": [
    "df3.to_csv('f3-of-f234-groupby.csv')"
   ]
  },
  {
   "cell_type": "code",
   "execution_count": null,
   "id": "handy-midnight",
   "metadata": {},
   "outputs": [],
   "source": []
  },
  {
   "cell_type": "code",
   "execution_count": null,
   "id": "frank-broadway",
   "metadata": {},
   "outputs": [],
   "source": []
  },
  {
   "cell_type": "code",
   "execution_count": null,
   "id": "removable-parish",
   "metadata": {},
   "outputs": [],
   "source": [
    "df1 = pd.DataFrame({'lkey': ['foo', 'bar', 'baz', 'foo'],\n",
    "                    'value': [1, 2, 3, 5]})\n",
    "df2 = pd.DataFrame({'rkey': ['foo', 'bar', 'baz', 'foo'],\n",
    "                    'value': [5, 6, 7, 8]})"
   ]
  },
  {
   "cell_type": "code",
   "execution_count": null,
   "id": "crucial-principal",
   "metadata": {},
   "outputs": [],
   "source": [
    "df1"
   ]
  },
  {
   "cell_type": "code",
   "execution_count": null,
   "id": "overall-healthcare",
   "metadata": {},
   "outputs": [],
   "source": [
    "dir(df1)\n"
   ]
  },
  {
   "cell_type": "code",
   "execution_count": null,
   "id": "dependent-brave",
   "metadata": {},
   "outputs": [],
   "source": [
    "df1.describe()"
   ]
  },
  {
   "cell_type": "code",
   "execution_count": null,
   "id": "stuffed-trance",
   "metadata": {},
   "outputs": [],
   "source": [
    "df1.info()"
   ]
  },
  {
   "cell_type": "code",
   "execution_count": null,
   "id": "emotional-requirement",
   "metadata": {},
   "outputs": [],
   "source": [
    "df1.lkey"
   ]
  },
  {
   "cell_type": "code",
   "execution_count": null,
   "id": "alike-designer",
   "metadata": {},
   "outputs": [],
   "source": [
    "dir(df1.x)"
   ]
  },
  {
   "cell_type": "code",
   "execution_count": null,
   "id": "correct-gnome",
   "metadata": {
    "scrolled": true
   },
   "outputs": [],
   "source": [
    "dir(np)"
   ]
  },
  {
   "cell_type": "code",
   "execution_count": null,
   "id": "skilled-tamil",
   "metadata": {},
   "outputs": [],
   "source": [
    "se=pd.Series([\"a\", \"b\", \"c\"])"
   ]
  },
  {
   "cell_type": "code",
   "execution_count": null,
   "id": "later-indie",
   "metadata": {},
   "outputs": [],
   "source": [
    "se.str.upper()"
   ]
  },
  {
   "cell_type": "code",
   "execution_count": null,
   "id": "annual-biology",
   "metadata": {},
   "outputs": [],
   "source": [
    "df.columns"
   ]
  },
  {
   "cell_type": "code",
   "execution_count": null,
   "id": "stuck-america",
   "metadata": {},
   "outputs": [],
   "source": []
  },
  {
   "cell_type": "code",
   "execution_count": null,
   "id": "mexican-facing",
   "metadata": {},
   "outputs": [],
   "source": []
  },
  {
   "cell_type": "code",
   "execution_count": null,
   "id": "funky-calvin",
   "metadata": {},
   "outputs": [],
   "source": []
  }
 ],
 "metadata": {
  "kernelspec": {
   "display_name": "Python 3.9.12 ('base')",
   "language": "python",
   "name": "python3"
  },
  "language_info": {
   "codemirror_mode": {
    "name": "ipython",
    "version": 3
   },
   "file_extension": ".py",
   "mimetype": "text/x-python",
   "name": "python",
   "nbconvert_exporter": "python",
   "pygments_lexer": "ipython3",
   "version": "3.9.12"
  },
  "vscode": {
   "interpreter": {
    "hash": "a04f5d07b0747026a8fbcdf50b9443318e69b1b8bd6247d88bfadb4789282972"
   }
  }
 },
 "nbformat": 4,
 "nbformat_minor": 5
}
