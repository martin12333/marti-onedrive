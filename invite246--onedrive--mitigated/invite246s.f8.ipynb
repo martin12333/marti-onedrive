{
 "cells": [
  {
   "cell_type": "code",
   "execution_count": 4,
   "metadata": {
    "dotnet_interactive": {
     "language": "pwsh"
    },
    "polyglot_notebook": {
     "kernelName": "pwsh"
    }
   },
   "outputs": [],
   "source": []
  },
  {
   "cell_type": "code",
   "execution_count": 42,
   "metadata": {
    "dotnet_interactive": {
     "language": "pwsh"
    },
    "polyglot_notebook": {
     "kernelName": "pwsh"
    }
   },
   "outputs": [],
   "source": []
  },
  {
   "attachments": {},
   "cell_type": "markdown",
   "metadata": {},
   "source": [
    "# TEST 00:30"
   ]
  },
  {
   "cell_type": "code",
   "execution_count": null,
   "metadata": {
    "dotnet_interactive": {
     "language": "pwsh"
    },
    "polyglot_notebook": {
     "kernelName": "pwsh"
    }
   },
   "outputs": [],
   "source": [
    "code C:\\Users\\marti\\OneDrive\\windows-f8\\Start-Process---userklic.f8.ps1"
   ]
  },
  {
   "cell_type": "code",
   "execution_count": null,
   "metadata": {
    "dotnet_interactive": {
     "language": "pwsh"
    },
    "polyglot_notebook": {
     "kernelName": "pwsh"
    }
   },
   "outputs": [],
   "source": [
    "#code   C:\\Users\\marti\\AppData\\Roaming\\Microsoft\\Windows\\PowerShell\\PSReadLine\\ConsoleHost_history.txt\n",
    "code   C:\\Users\\userklic\\AppData\\Roaming\\Microsoft\\Windows\\PowerShell\\PSReadLine\\ConsoleHost_history.txt\n"
   ]
  },
  {
   "cell_type": "code",
   "execution_count": 45,
   "metadata": {
    "dotnet_interactive": {
     "language": "pwsh"
    },
    "polyglot_notebook": {
     "kernelName": "pwsh"
    }
   },
   "outputs": [
    {
     "name": "stdout",
     "output_type": "stream",
     "text": [
      ".\\marti\\ NT AUTHORITY\\SYSTEM:(OI)(CI)(F)\n",
      "         BUILTIN\\Administrators:(OI)(CI)(F)\n",
      "         LEN20\\marti:(OI)(CI)(F)\n",
      "         S-1-15-3-65536-3852923496-3228631905-2361761901-1328441031-2492177081-392074989-583479735-4232454157:(S,X)\n",
      "\n",
      "Successfully processed 1 files; Failed processing 0 files\n",
      "Successfully processed 0 files; Failed processing 1 files\n",
      "\u001b[31;1m.\\userklic\\: Access is denied.\u001b[0m\n",
      "\u001b[31;1m.\\milan_rxtipwr\\: Access is denied.\u001b[0m\n",
      "Successfully processed 0 files; Failed processing 1 files\n",
      ".\\milanlocal\\ NT AUTHORITY\\SYSTEM:(OI)(CI)(RX,W)\n",
      "              LEN20\\marti:(OI)(CI)(RX)\n",
      "              LEN20\\milan_rxtipwr:(OI)(CI)(F)\n",
      "              BUILTIN\\Administrators:(I)(OI)(CI)(F)\n",
      "              NT AUTHORITY\\SYSTEM:(I)(OI)(CI)(F)\n",
      "              BUILTIN\\Users:(I)(OI)(CI)(RX)\n",
      "\n",
      "Successfully processed 1 files; Failed processing 0 files\n",
      "\u001b[31;1m.\\userklic\\: The system cannot find the file specified.\u001b[0m\n",
      "Successfully processed 0 files; Failed processing 1 files\n",
      ".\\marti\\ BUILTIN\\Administrators:(OI)(CI)(F)\n",
      "         NT AUTHORITY\\SYSTEM:(OI)(CI)(F)\n",
      "         LEN20\\marti:(OI)(CI)(F)\n",
      "\n",
      "Successfully processed 1 files; Failed processing 0 files\n"
     ]
    }
   ],
   "source": [
    "cd C:\\Users\\\n",
    "icacls.exe .\\marti\\\n",
    "icacls.exe .\\userklic\\\n",
    "icacls.exe .\\milan_rxtipwr\\\n",
    "cd d:\\Users\\\n",
    "icacls.exe .\\milanlocal\\\n",
    "icacls.exe .\\userklic\\\n",
    "icacls.exe .\\marti\\\n"
   ]
  },
  {
   "cell_type": "markdown",
   "metadata": {},
   "source": []
  },
  {
   "attachments": {},
   "cell_type": "markdown",
   "metadata": {},
   "source": [
    "# WORK 21:00+"
   ]
  },
  {
   "cell_type": "code",
   "execution_count": null,
   "metadata": {
    "dotnet_interactive": {
     "language": "pwsh"
    },
    "polyglot_notebook": {
     "kernelName": "pwsh"
    }
   },
   "outputs": [],
   "source": [
    "#code invite246--cleanup243,244.f8.ps1\n",
    "\n",
    "#done gone THRU  the rest of\n",
    "code C:\\Users\\marti\\OneDrive\\windows-f8\\windows-security-weakness--folder-permissions--icacls.f8.ps1\n",
    "\n",
    "# done  put  cmds into\n",
    "# 246s\n",
    "code C:\\Users\\marti\\OneDrive\\powershell-f8\\admin-ise--adminsaves.f8.ps1"
   ]
  },
  {
   "cell_type": "code",
   "execution_count": 3,
   "metadata": {
    "dotnet_interactive": {
     "language": "pwsh"
    },
    "polyglot_notebook": {
     "kernelName": "pwsh"
    }
   },
   "outputs": [
    {
     "name": "stdout",
     "output_type": "stream",
     "text": [
      " Volume in drive D is dee\n",
      " Volume Serial Number is A226-771A\n",
      "\n",
      " Directory of D:\\umarti\\OneDrive--robo\n",
      "\n",
      "06/07/2024  20:53    <DIR>          all--NONSHARED-folders--will-be--LAN-SHARED--DEE\n",
      "04/16/2024  18:15                 0 all--NONSHARED-folders--will-be--LAN-SHARED--DEE.txt\n",
      "05/07/2024  22:06    <DIR>          microsoft-365-account-NONSHARED--win\n",
      "05/07/2024  22:06    <DIR>          microsoft-365-account-NONSHARED--win--241\n",
      "               1 File(s)              0 bytes\n",
      "               3 Dir(s)   1,550,233,600 bytes free\n",
      " Volume in drive D is dee\n",
      " Volume Serial Number is A226-771A\n",
      "\n",
      " Directory of D:\\umarti\n",
      "\n",
      "\u001b[31;1mFile Not Found\u001b[0m\n"
     ]
    }
   ],
   "source": [
    "cmd /c dir D:\\umarti\\OneDrive--robo\\*nons*\n",
    "cmd /c dir D:\\umarti\\*jj*\n"
   ]
  },
  {
   "cell_type": "code",
   "execution_count": 5,
   "metadata": {
    "dotnet_interactive": {
     "language": "pwsh"
    },
    "polyglot_notebook": {
     "kernelName": "pwsh"
    }
   },
   "outputs": [
    {
     "name": "stdout",
     "output_type": "stream",
     "text": [
      "\n",
      "Accesschk v6.15 - Reports effective permissions for securable objects\n",
      "Copyright (C) 2006-2022 Mark Russinovich\n",
      "Sysinternals - www.sysinternals.com\n",
      "\n",
      "usage: accesschk [-s][-e][-u][-r][-w][-n][-v]-[f <account>,...][[-a]|[-k]|[-m]|[-p [-f] [-t]]|[-h][-o [-t <object type>]][-c]|[-d]] [[[-l|-L] [-i]]|[username]] <file, directory, event log, registry key, process, service, object>\n",
      "   -a     Name is a Windows account right. Specify '*' as the name to show all\n",
      "          rights assigned to a user. Note that when you specify a specific\n",
      "          right, only groups and accounts directly assigned the right are\n",
      "          displayed.\n",
      "   -c     Name is a Windows Service e.g. ssdpsrv. Specify '*' as the\n",
      "          name to show all services and 'scmanager' to check the security\n",
      "          of the Service Control Manager.\n",
      "   -d     Only process directories or top level key.\n",
      "   -e     Only show explicitly set Integrity Levels (Windows Vista and\n",
      "          higher only).\n",
      "   -f     If following -p, shows full process token information including\n",
      "          groups and privileges. Otherwise is a list of comma-separated\n",
      "          accounts to filter from the output.\n",
      "   -h     Name is a file or printer share. Specify '*' as the name to show\n",
      "          all shares.\n",
      "   -i     Ignore objects with only inherited ACEs when dumping full access\n",
      "          control lists.\n",
      "   -k     Name is a Registry key e.g. hklm\\software\n",
      "   -l     Show full security descriptor. Add -i to ignore inherited ACEs.\n",
      "          Specify upper-case L to have the output format as SDDL.\n",
      "   -m     Name is an event log (specify '*' as the name to show all event logs.\n",
      "   -n     Show only objects that have no access.\n",
      "   -o     Name is an object in the Object Manager namespace (default is root).\n",
      "          To view the contents of a directory, specify the name with a trailing\n",
      "          backslash or add -s. Add -t and an object type (e.g. section) to\n",
      "          see only objects of a specific type.\n",
      "   -p     Name is a process name or PID e.g. cmd.exe (specify '*' as the\n",
      "          name to show all processes). Add -f to show full process\n",
      "          token information including groups and privileges. Add -t to show\n",
      "          threads.\n",
      "   -nobanner\n",
      "          Do not display the startup banner and copyright message.\n",
      "   -r     Show only objects that have read access.\n",
      "   -s     Recurse.\n",
      "   -t     Object type filter e.g. \"section\"\n",
      "   -u     Suppress errors.\n",
      "   -v     Verbose (includes Windows Vista Integrity Level).\n",
      "   -w     Show only objects that have write access.\n",
      "\n",
      "If you specify a user or group name and path AccessChk will report the\n",
      "effective permissions for that account; otherwise it will show the effective\n",
      "access for accounts referenced in the security descriptor.\n",
      "\n",
      "By default the path name is interpreted as a file system path (use the\n",
      "\"\\pipe\\\" prefix to specify a named pipe path). For each object AccessChk\n",
      "prints R if the account has read access, W for write access and nothing if\n",
      "it has neither. The -v switch has AccessChk dump the specific\n",
      "accesses granted to an account.\n"
     ]
    }
   ],
   "source": [
    "#####accesschk.exe /?\n"
   ]
  },
  {
   "cell_type": "code",
   "execution_count": null,
   "metadata": {
    "dotnet_interactive": {
     "language": "value"
    },
    "polyglot_notebook": {
     "kernelName": "value"
    }
   },
   "outputs": [],
   "source": [
    "\n",
    "   -d     Only process directories or top level key.\n",
    "\n",
    "\n",
    "   -r     Show only objects that have read access.\n",
    "   -s     Recurse.\n",
    "   -t     Object type filter e.g. \"section\"\n",
    "   -u     Suppress errors.\n",
    "   -v     Verbose (includes Windows Vista Integrity Level).\n",
    "\n",
    "\n",
    "   -w     Show only objects that have write access.\n",
    "\n",
    "\n",
    "If you specify a user or group name and path AccessChk will report the\n",
    "effective permissions for that account;\n",
    "\n",
    "\n"
   ]
  },
  {
   "cell_type": "code",
   "execution_count": 11,
   "metadata": {
    "dotnet_interactive": {
     "language": "pwsh"
    },
    "polyglot_notebook": {
     "kernelName": "pwsh"
    }
   },
   "outputs": [
    {
     "name": "stdout",
     "output_type": "stream",
     "text": [
      "\n",
      "Accesschk v6.15 - Reports effective permissions for securable objects\n",
      "Copyright (C) 2006-2022 Mark Russinovich\n",
      "Sysinternals - www.sysinternals.com\n",
      "\n",
      "   C:\\Users\\marti\\#TODO#\n",
      "   C:\\Users\\marti\\.atom\n",
      "   C:\\Users\\marti\\.aws\n",
      "   C:\\Users\\marti\\.azure\n",
      "   C:\\Users\\marti\\.bashrc\n",
      "   C:\\Users\\marti\\.bash_eternal_history\n",
      "   C:\\Users\\marti\\.bash_history\n",
      "   C:\\Users\\marti\\.bash_profile\n",
      "   C:\\Users\\marti\\.cache\n",
      "   C:\\Users\\marti\\.conda\n",
      "   C:\\Users\\marti\\.condarc\n",
      "   C:\\Users\\marti\\.config\n",
      "   C:\\Users\\marti\\.docker\n",
      "   C:\\Users\\marti\\.dotnet\n",
      "   C:\\Users\\marti\\.emacs.d\n",
      "   C:\\Users\\marti\\.gitconfig\n",
      "   C:\\Users\\marti\\.gitignore\n",
      "   C:\\Users\\marti\\.gnupg\n",
      "   C:\\Users\\marti\\.history\n",
      "   C:\\Users\\marti\\.idlerc\n",
      "   C:\\Users\\marti\\.inputrc\n",
      "   C:\\Users\\marti\\.ipython\n",
      "   C:\\Users\\marti\\.jupyter\n",
      "   C:\\Users\\marti\\.keras\n",
      "   C:\\Users\\marti\\.lesshst\n",
      "   C:\\Users\\marti\\.local\n",
      "   C:\\Users\\marti\\.matplotlib\n",
      "   C:\\Users\\marti\\.minttyrc\n",
      "   C:\\Users\\marti\\.node_repl_history\n",
      "   C:\\Users\\marti\\.nuget\n",
      "   C:\\Users\\marti\\.psne.log\n",
      "   C:\\Users\\marti\\.pylint.d\n",
      "   C:\\Users\\marti\\.python_history\n",
      "   C:\\Users\\marti\\.quokka\n",
      "   C:\\Users\\marti\\.RData\n",
      "   C:\\Users\\marti\\.redhat\n",
      "   C:\\Users\\marti\\.Rhistory\n",
      "   C:\\Users\\marti\\.scriptbox\n",
      "   C:\\Users\\marti\\.spyder-py3\n",
      "   C:\\Users\\marti\\.ssh\n",
      "   C:\\Users\\marti\\.templateengine\n",
      "   C:\\Users\\marti\\.tig_history\n",
      "   C:\\Users\\marti\\.viminfo\n",
      "   C:\\Users\\marti\\.vscode\n",
      "   C:\\Users\\marti\\.wallaby\n",
      "   C:\\Users\\marti\\.wget-hsts\n",
      "   C:\\Users\\marti\\.wslconfig\n",
      "   C:\\Users\\marti\\.yarnrc\n",
      "   C:\\Users\\marti\\1\n",
      "   C:\\Users\\marti\\1.bashrc\n",
      "   C:\\Users\\marti\\1.bash_profile\n",
      "   C:\\Users\\marti\\1.history\n",
      "   C:\\Users\\marti\\11\n",
      "   C:\\Users\\marti\\15\n",
      "   C:\\Users\\marti\\15c\n",
      "   C:\\Users\\marti\\17\n",
      "   C:\\Users\\marti\\17c\n",
      "   C:\\Users\\marti\\1dir-j-ad-s-b.txt\n",
      "   C:\\Users\\marti\\2\n",
      "   C:\\Users\\marti\\213a.git\n",
      "   C:\\Users\\marti\\3\n",
      "   C:\\Users\\marti\\3D Objects\n",
      "   C:\\Users\\marti\\4\n",
      "   C:\\Users\\marti\\52.ipy.sys.path\n",
      "   C:\\Users\\marti\\52.py.sys.path\n",
      "   C:\\Users\\marti\\808-diigo\n",
      "   C:\\Users\\marti\\acloudSUBDIR\n",
      "   C:\\Users\\marti\\admin-ise--adminsaves.f8.ps1\n",
      "   C:\\Users\\marti\\AKLIC\n",
      "   C:\\Users\\marti\\anacon-old-radeji-presunul\n",
      "   C:\\Users\\marti\\AppData\n",
      "   C:\\Users\\marti\\AppData - Shortcut.lnk\n",
      "   C:\\Users\\marti\\AppData - Shortcut0\n",
      "   C:\\Users\\marti\\Application Data\n",
      "   C:\\Users\\marti\\ASMAZAT\n",
      "   C:\\Users\\marti\\bash-c-env\n",
      "   C:\\Users\\marti\\bcloudREADONLY\n",
      "   C:\\Users\\marti\\bin.tar\n",
      "   C:\\Users\\marti\\bOLDOLD---------OLD\n",
      "   C:\\Users\\marti\\browserPOSIX-discussion.wiki\n",
      "   C:\\Users\\marti\\bstollnitz\n",
      "   C:\\Users\\marti\\busyboxnanozipdiff3\n",
      "   C:\\Users\\marti\\busyide\n",
      "   C:\\Users\\marti\\busytex\n",
      "   C:\\Users\\marti\\c15\n",
      "   C:\\Users\\marti\\chr-cors-profile1\n",
      "   C:\\Users\\marti\\Contacts\n",
      "   C:\\Users\\marti\\Cookies\n",
      "   C:\\Users\\marti\\Copy.bash_history\n",
      "   C:\\Users\\marti\\courgette.log\n",
      "   C:\\Users\\marti\\cpio\n",
      "   C:\\Users\\marti\\custom.el\n",
      "   C:\\Users\\marti\\dir-ad-c-d\n",
      "   C:\\Users\\marti\\dir-b\n",
      "   C:\\Users\\marti\\dir-b-ad\n",
      "   C:\\Users\\marti\\dir-c-d.txt\n",
      "   C:\\Users\\marti\\docker-214big\n",
      "   C:\\Users\\marti\\docker-ro\n",
      "   C:\\Users\\marti\\doku--pow\n",
      "   C:\\Users\\marti\\Downloads\n",
      "   C:\\Users\\marti\\du-m-mar.sort\n",
      "   C:\\Users\\marti\\du64-212i1.txt\n",
      "   C:\\Users\\marti\\ecco\n",
      "   C:\\Users\\marti\\eev-wconfig\n",
      "   C:\\Users\\marti\\emacs-paper.html\n",
      "   C:\\Users\\marti\\env\n",
      "   C:\\Users\\marti\\env2\n",
      "   C:\\Users\\marti\\experim-new-snip\n",
      "   C:\\Users\\marti\\Favorites\n",
      "   C:\\Users\\marti\\find-and-transform-master\n",
      "   C:\\Users\\marti\\find100M-tee-221s-2\n",
      "   C:\\Users\\marti\\find300M\n",
      "   C:\\Users\\marti\\gensim-data\n",
      "   C:\\Users\\marti\\getting-started\n",
      "   C:\\Users\\marti\\git add byl jsem jinde.txt\n",
      "   C:\\Users\\marti\\git-clean-WARNING.git\n",
      "   C:\\Users\\marti\\grammars.ssv\n",
      "   C:\\Users\\marti\\hardlink-experim\n",
      "   C:\\Users\\marti\\hello-debugger\n",
      "   C:\\Users\\marti\\hello-executecommand\n",
      "   C:\\Users\\marti\\history.ssv\n",
      "   C:\\Users\\marti\\hyperpoly.history\n",
      "   C:\\Users\\marti\\hyperpolyglot\n",
      "   C:\\Users\\marti\\init.el\n",
      "   C:\\Users\\marti\\IntelGraphicsProfiles\n",
      "   C:\\Users\\marti\\Jedi\n",
      "   C:\\Users\\marti\\JJ24\n",
      "   C:\\Users\\marti\\jtree\n",
      "   C:\\Users\\marti\\kindlmuj\n",
      "   C:\\Users\\marti\\klic-oa.txt\n",
      "   C:\\Users\\marti\\klic-oa1.txt\n",
      "   C:\\Users\\marti\\LICENSE\n",
      "   C:\\Users\\marti\\Links\n",
      "   C:\\Users\\marti\\Local Settings\n",
      "   C:\\Users\\marti\\log\n",
      "   C:\\Users\\marti\\mal-master\n",
      "   C:\\Users\\marti\\mal-master.zip\n",
      "   C:\\Users\\marti\\moved--doku--servefolder\n",
      "   C:\\Users\\marti\\Music\n",
      "   C:\\Users\\marti\\My Documents\n",
      "   C:\\Users\\marti\\ncurses-for-emscripten\n",
      "   C:\\Users\\marti\\NetHood\n",
      "   C:\\Users\\marti\\NTUSER.DAT\n",
      "   C:\\Users\\marti\\ntuser.dat.LOG1\n",
      "   C:\\Users\\marti\\ntuser.dat.LOG2\n",
      "   C:\\Users\\marti\\NTUSER.DAT{744cb6db-b27c-11ed-ac83-00155d4673ff}.TM.blf\n",
      "   C:\\Users\\marti\\NTUSER.DAT{744cb6db-b27c-11ed-ac83-00155d4673ff}.TMContainer00000000000000000001.regtrans-ms\n",
      "   C:\\Users\\marti\\NTUSER.DAT{744cb6db-b27c-11ed-ac83-00155d4673ff}.TMContainer00000000000000000002.regtrans-ms\n",
      "   C:\\Users\\marti\\ntuser.ini\n",
      "   C:\\Users\\marti\\ohayo\n",
      "   C:\\Users\\marti\\ohayo-npm\n",
      "   C:\\Users\\marti\\old--easy-extensibility\n",
      "   C:\\Users\\marti\\old2hello-executecommand\n",
      "   C:\\Users\\marti\\oldhello-executecommand\n",
      "   C:\\Users\\marti\\oldMy Digital Editions\n",
      "   C:\\Users\\marti\\OneDrive\n",
      "   C:\\Users\\marti\\onedr_node_modules\n",
      "   C:\\Users\\marti\\path1.txt\n",
      "   C:\\Users\\marti\\path3.txt\n",
      "   C:\\Users\\marti\\picoGPT\n",
      "   C:\\Users\\marti\\pokus-bkup.txt\n",
      "   C:\\Users\\marti\\PrintHood\n",
      "   C:\\Users\\marti\\priv-escal--powershell.config.json\n",
      "   C:\\Users\\marti\\RCommander.R\n",
      "   C:\\Users\\marti\\RCommanderMarkdown.Rmd\n",
      "   C:\\Users\\marti\\Rconsole\n",
      "   C:\\Users\\marti\\README.md\n",
      "   C:\\Users\\marti\\Recent\n",
      "   C:\\Users\\marti\\remote-debug-profile1\n",
      "   C:\\Users\\marti\\rproj1\n",
      "   C:\\Users\\marti\\Run-selected-text--discussions\n",
      "   C:\\Users\\marti\\Run-selected-text--discussions.wiki\n",
      "   C:\\Users\\marti\\Saved Games\n",
      "   C:\\Users\\marti\\sbase.wasm\n",
      "   C:\\Users\\marti\\sbase.wasm--robocopy\n",
      "   C:\\Users\\marti\\scriptbox\n",
      "   C:\\Users\\marti\\Searches\n",
      "   C:\\Users\\marti\\SendTo\n",
      "   C:\\Users\\marti\\set\n",
      "   C:\\Users\\marti\\sirdarckcat.github.io-master\n",
      "   C:\\Users\\marti\\snarf\n",
      "   C:\\Users\\marti\\snippet-generator-master\n",
      "   C:\\Users\\marti\\snippets-from--vscode-find-and-replace-all.f8.sh.ps1\n",
      "   C:\\Users\\marti\\softwareheritage\n",
      "   C:\\Users\\marti\\source\n",
      "   C:\\Users\\marti\\stackbli22\n",
      "   C:\\Users\\marti\\stackblitz\n",
      "   C:\\Users\\marti\\Start Menu\n",
      "   C:\\Users\\marti\\startup-244h.zip\n",
      "   C:\\Users\\marti\\System-Restore-experiment\n",
      "   C:\\Users\\marti\\temp\n",
      "   C:\\Users\\marti\\Templates\n",
      "   C:\\Users\\marti\\TODO\n",
      "   C:\\Users\\marti\\TODO~\n",
      "   C:\\Users\\marti\\vscode-didact\n",
      "   C:\\Users\\marti\\vscode-didact.wiki\n",
      "   C:\\Users\\marti\\vscode-find-and-replace-all.f8.ps1\n",
      "   C:\\Users\\marti\\vscode-replacerules-master\n",
      "   C:\\Users\\marti\\wsl--help22491\n",
      "   C:\\Users\\marti\\xah.el\n",
      "   C:\\Users\\marti\\_oldmar.gitignore\n",
      "   C:\\Users\\marti\\~eev-wconfigmklink\n"
     ]
    }
   ],
   "source": [
    "#accesschk \"Techl\" \"C:\\Users\\milan_rxtipwr\"\n",
    "#######accesschk \"Techl\" \"C:\\Users\\marti\"\n"
   ]
  },
  {
   "cell_type": "code",
   "execution_count": 23,
   "metadata": {
    "dotnet_interactive": {
     "language": "value"
    },
    "polyglot_notebook": {
     "kernelName": "value"
    }
   },
   "outputs": [
    {
     "ename": "Error",
     "evalue": "System.NullReferenceException: Object reference not set to an instance of an object.\r\n   at Microsoft.DotNet.Interactive.KeyValueStoreKernel.Microsoft.DotNet.Interactive.IKernelCommandHandler<Microsoft.DotNet.Interactive.Commands.SubmitCode>.HandleAsync(SubmitCode command, KernelInvocationContext context) in D:\\a\\_work\\1\\s\\src\\Microsoft.DotNet.Interactive\\KeyValueStoreKernel.cs:line 77\r\n   at Microsoft.DotNet.Interactive.Kernel.HandleAsync(KernelCommand command, KernelInvocationContext context) in D:\\a\\_work\\1\\s\\src\\Microsoft.DotNet.Interactive\\Kernel.cs:line 326\r\n   at Microsoft.DotNet.Interactive.KernelCommandPipeline.<BuildPipeline>b__6_0(KernelCommand command, KernelInvocationContext context, KernelPipelineContinuation _) in D:\\a\\_work\\1\\s\\src\\Microsoft.DotNet.Interactive\\KernelCommandPipeline.cs:line 60\r\n   at Microsoft.DotNet.Interactive.KernelCommandPipeline.SendAsync(KernelCommand command, KernelInvocationContext context) in D:\\a\\_work\\1\\s\\src\\Microsoft.DotNet.Interactive\\KernelCommandPipeline.cs:line 51",
     "output_type": "error",
     "traceback": [
      "System.NullReferenceException: Object reference not set to an instance of an object.\r\n",
      "   at Microsoft.DotNet.Interactive.KeyValueStoreKernel.Microsoft.DotNet.Interactive.IKernelCommandHandler<Microsoft.DotNet.Interactive.Commands.SubmitCode>.HandleAsync(SubmitCode command, KernelInvocationContext context) in D:\\a\\_work\\1\\s\\src\\Microsoft.DotNet.Interactive\\KeyValueStoreKernel.cs:line 77\r\n",
      "   at Microsoft.DotNet.Interactive.Kernel.HandleAsync(KernelCommand command, KernelInvocationContext context) in D:\\a\\_work\\1\\s\\src\\Microsoft.DotNet.Interactive\\Kernel.cs:line 326\r\n",
      "   at Microsoft.DotNet.Interactive.KernelCommandPipeline.<BuildPipeline>b__6_0(KernelCommand command, KernelInvocationContext context, KernelPipelineContinuation _) in D:\\a\\_work\\1\\s\\src\\Microsoft.DotNet.Interactive\\KernelCommandPipeline.cs:line 60\r\n",
      "   at Microsoft.DotNet.Interactive.KernelCommandPipeline.SendAsync(KernelCommand command, KernelInvocationContext context) in D:\\a\\_work\\1\\s\\src\\Microsoft.DotNet.Interactive\\KernelCommandPipeline.cs:line 51"
     ]
    }
   ],
   "source": [
    "#????\n",
    "   C:\\Users\\marti\\#TODO#\n",
    "   C:\\Users\\marti\\.atom\n",
    "   C:\\Users\\marti\\.aws\n",
    "   C:\\Users\\marti\\.azure"
   ]
  },
  {
   "cell_type": "code",
   "execution_count": null,
   "metadata": {
    "dotnet_interactive": {
     "language": "value"
    },
    "polyglot_notebook": {
     "kernelName": "value"
    }
   },
   "outputs": [],
   "source": []
  },
  {
   "cell_type": "code",
   "execution_count": 14,
   "metadata": {
    "dotnet_interactive": {
     "language": "pwsh"
    },
    "polyglot_notebook": {
     "kernelName": "pwsh"
    }
   },
   "outputs": [
    {
     "name": "stdout",
     "output_type": "stream",
     "text": [
      "\n",
      "ICACLS name /save aclfile [/T] [/C] [/L] [/Q]\n",
      "    stores the DACLs for the files and folders that match the name\n",
      "    into aclfile for later use with /restore. Note that SACLs,\n",
      "    owner, or integrity labels are not saved.\n",
      "\n",
      "ICACLS directory [/substitute SidOld SidNew [...]] /restore aclfile\n",
      "                 [/C] [/L] [/Q]\n",
      "    applies the stored DACLs to files in directory.\n",
      "\n",
      "ICACLS name /setowner user [/T] [/C] [/L] [/Q]\n",
      "    changes the owner of all matching names. This option does not\n",
      "    force a change of ownership; use the takeown.exe utility for\n",
      "    that purpose.\n",
      "\n",
      "ICACLS name /findsid Sid [/T] [/C] [/L] [/Q]\n",
      "    finds all matching names that contain an ACL\n",
      "    explicitly mentioning Sid.\n",
      "\n",
      "ICACLS name /verify [/T] [/C] [/L] [/Q]\n",
      "    finds all files whose ACL is not in canonical form or whose\n",
      "    lengths are inconsistent with ACE counts.\n",
      "\n",
      "ICACLS name /reset [/T] [/C] [/L] [/Q]\n",
      "    replaces ACLs with default inherited ACLs for all matching files.\n",
      "\n",
      "ICACLS name [/grant[:r] Sid:perm[...]]\n",
      "       [/deny Sid:perm [...]]\n",
      "       [/remove[:g|:d]] Sid[...]] [/T] [/C] [/L] [/Q]\n",
      "       [/setintegritylevel Level:policy[...]]\n",
      "\n",
      "    /grant[:r] Sid:perm grants the specified user access rights. With :r,\n",
      "        the permissions replace any previously granted explicit permissions.\n",
      "        Without :r, the permissions are added to any previously granted\n",
      "        explicit permissions.\n",
      "\n",
      "    /deny Sid:perm explicitly denies the specified user access rights.\n",
      "        An explicit deny ACE is added for the stated permissions and\n",
      "        the same permissions in any explicit grant are removed.\n",
      "\n",
      "    /remove[:[g|d]] Sid removes all occurrences of Sid in the ACL. With\n",
      "        :g, it removes all occurrences of granted rights to that Sid. With\n",
      "        :d, it removes all occurrences of denied rights to that Sid.\n",
      "\n",
      "    /setintegritylevel [(CI)(OI)]Level explicitly adds an integrity\n",
      "        ACE to all matching files.  The level is to be specified as one\n",
      "        of:\n",
      "            L[ow]\n",
      "            M[edium]\n",
      "            H[igh]\n",
      "        Inheritance options for the integrity ACE may precede the level\n",
      "        and are applied only to directories.\n",
      "\n",
      "    /inheritance:e|d|r\n",
      "        e - enables inheritance\n",
      "        d - disables inheritance and copy the ACEs\n",
      "        r - remove all inherited ACEs\n",
      "\n",
      "\n",
      "Note:\n",
      "    Sids may be in either numerical or friendly name form. If a numerical\n",
      "    form is given, affix a * to the start of the SID.\n",
      "\n",
      "    /T indicates that this operation is performed on all matching\n",
      "        files/directories below the directories specified in the name.\n",
      "\n",
      "    /C indicates that this operation will continue on all file errors.\n",
      "        Error messages will still be displayed.\n",
      "\n",
      "    /L indicates that this operation is performed on a symbolic link\n",
      "       itself versus its target.\n",
      "\n",
      "    /Q indicates that icacls should suppress success messages.\n",
      "\n",
      "    ICACLS preserves the canonical ordering of ACE entries:\n",
      "            Explicit denials\n",
      "            Explicit grants\n",
      "            Inherited denials\n",
      "            Inherited grants\n",
      "\n",
      "    perm is a permission mask and can be specified in one of two forms:\n",
      "        a sequence of simple rights:\n",
      "                N - no access\n",
      "                F - full access\n",
      "                M - modify access\n",
      "                RX - read and execute access\n",
      "                R - read-only access\n",
      "                W - write-only access\n",
      "                D - delete access\n",
      "        a comma-separated list in parentheses of specific rights:\n",
      "                DE - delete\n",
      "                RC - read control\n",
      "                WDAC - write DAC\n",
      "                WO - write owner\n",
      "                S - synchronize\n",
      "                AS - access system security\n",
      "                MA - maximum allowed\n",
      "                GR - generic read\n",
      "                GW - generic write\n",
      "                GE - generic execute\n",
      "                GA - generic all\n",
      "                RD - read data/list directory\n",
      "                WD - write data/add file\n",
      "                AD - append data/add subdirectory\n",
      "                REA - read extended attributes\n",
      "                WEA - write extended attributes\n",
      "                X - execute/traverse\n",
      "                DC - delete child\n",
      "                RA - read attributes\n",
      "                WA - write attributes\n",
      "        inheritance rights may precede either form and are applied\n",
      "        only to directories:\n",
      "                (OI) - object inherit\n",
      "                (CI) - container inherit\n",
      "                (IO) - inherit only\n",
      "                (NP) - don't propagate inherit\n",
      "                (I) - permission inherited from parent container\n",
      "\n",
      "Examples:\n",
      "\n",
      "        icacls c:\\windows\\* /save AclFile /T\n",
      "        - Will save the ACLs for all files under c:\\windows\n",
      "          and its subdirectories to AclFile.\n",
      "\n",
      "        icacls c:\\windows\\ /restore AclFile\n",
      "        - Will restore the Acls for every file within\n",
      "          AclFile that exists in c:\\windows and its subdirectories.\n",
      "\n",
      "        icacls file /grant Administrator:(D,WDAC)\n",
      "        - Will grant the user Administrator Delete and Write DAC\n",
      "          permissions to file.\n",
      "\n",
      "        icacls file /grant *S-1-1-0:(D,WDAC)\n",
      "        - Will grant the user defined by sid S-1-1-0 Delete and\n",
      "          Write DAC permissions to file.\n"
     ]
    }
   ],
   "source": [
    "icacls.exe  /?"
   ]
  },
  {
   "cell_type": "code",
   "execution_count": 20,
   "metadata": {
    "dotnet_interactive": {
     "language": "pwsh"
    },
    "polyglot_notebook": {
     "kernelName": "pwsh"
    }
   },
   "outputs": [
    {
     "name": "stdout",
     "output_type": "stream",
     "text": [
      "C:\\Users\\marti NT AUTHORITY\\SYSTEM:(OI)(CI)(F)\n",
      "               BUILTIN\\Administrators:(OI)(CI)(F)\n",
      "               LEN20\\marti:(OI)(CI)(F)\n",
      "               S-1-15-3-65536-3852923496-3228631905-2361761901-1328441031-2492177081-392074989-583479735-4232454157:(S,X)\n",
      "\n",
      "Successfully processed 1 files; Failed processing 0 files\n"
     ]
    }
   ],
   "source": []
  },
  {
   "cell_type": "code",
   "execution_count": null,
   "metadata": {
    "dotnet_interactive": {
     "language": "value"
    },
    "polyglot_notebook": {
     "kernelName": "value"
    }
   },
   "outputs": [],
   "source": [
    "\n",
    "PS C:\\WINDOWS\\system32>  icacls C:\\Users\\milan_rxtipwr\n",
    "C:\\Users\\milan_rxtipwr NT AUTHORITY\\SYSTEM:(OI)(CI)(F)\n",
    "                       BUILTIN\\Administrators:(OI)(CI)(F)\n",
    "                       LEN20\\milan_rxtipwr:(OI)(CI)(F)\n",
    "                       S-1-15-3-65536-3852923496-3228631905-2361761901-132844103\n",
    "1-2492177081-392074989-583479735-4232454157:(S,X)\n",
    "\n",
    "Successfully processed 1 files; Failed processing 0 files"
   ]
  },
  {
   "cell_type": "code",
   "execution_count": 29,
   "metadata": {
    "dotnet_interactive": {
     "language": "pwsh"
    },
    "polyglot_notebook": {
     "kernelName": "pwsh"
    }
   },
   "outputs": [
    {
     "name": "stdout",
     "output_type": "stream",
     "text": [
      "C:\\Users\\ NT AUTHORITY\\SYSTEM:(OI)(CI)(F)\n",
      "          BUILTIN\\Administrators:(OI)(CI)(F)\n",
      "          BUILTIN\\Users:(RX)\n",
      "          BUILTIN\\Users:(OI)(CI)(IO)(GR,GE)\n",
      "          Everyone:(RX)\n",
      "          Everyone:(OI)(CI)(IO)(GR,GE)\n",
      "          S-1-15-3-65536-3323407561-2172269196-3486974656-4132058316-2250862433-3856296919-434318741-3760235072:(S,RD,X)\n",
      "\n",
      "Successfully processed 1 files; Failed processing 0 files\n",
      "C:\\Users\\marti NT AUTHORITY\\SYSTEM:(OI)(CI)(F)\n",
      "               BUILTIN\\Administrators:(OI)(CI)(F)\n",
      "               LEN20\\marti:(OI)(CI)(F)\n",
      "               S-1-15-3-65536-3852923496-3228631905-2361761901-1328441031-2492177081-392074989-583479735-4232454157:(S,X)\n",
      "\n",
      "Successfully processed 1 files; Failed processing 0 files\n",
      "D:\\Users\\ BUILTIN\\Administrators:(OI)(CI)(F)\n",
      "          NT AUTHORITY\\SYSTEM:(OI)(CI)(F)\n",
      "          BUILTIN\\Users:(OI)(CI)(RX)\n",
      "\n",
      "Successfully processed 1 files; Failed processing 0 files\n",
      "D:\\Users\\marti LEN20\\marti:(OI)(CI)(F)\n",
      "               BUILTIN\\Administrators:(I)(OI)(CI)(F)\n",
      "               NT AUTHORITY\\SYSTEM:(I)(OI)(CI)(F)\n",
      "               BUILTIN\\Users:(I)(OI)(CI)(RX)\n",
      "\n",
      "Successfully processed 1 files; Failed processing 0 files\n",
      "D:\\Users\\milanlocal LEN20\\marti:(OI)(CI)(RX)\n",
      "                    LEN20\\milan_rxtipwr:(OI)(CI)(F)\n",
      "\n",
      "Successfully processed 1 files; Failed processing 0 files\n",
      "d:\\Users\\Eda\\ BUILTIN\\Administrators:(I)(OI)(CI)(F)\n",
      "              NT AUTHORITY\\SYSTEM:(I)(OI)(CI)(F)\n",
      "              BUILTIN\\Users:(I)(OI)(CI)(RX)\n",
      "\n",
      "Successfully processed 1 files; Failed processing 0 files\n",
      "d:\\Users\\Eda\\SteamLibrary LEN20\\marti:(OI)(CI)(F)\n",
      "                          BUILTIN\\Administrators:(I)(OI)(CI)(F)\n",
      "                          NT AUTHORITY\\SYSTEM:(I)(OI)(CI)(F)\n",
      "                          BUILTIN\\Users:(I)(OI)(CI)(RX)\n",
      "\n",
      "Successfully processed 1 files; Failed processing 0 files\n"
     ]
    }
   ],
   "source": [
    "takeown.exe /?"
   ]
  },
  {
   "cell_type": "code",
   "execution_count": 41,
   "metadata": {
    "dotnet_interactive": {
     "language": "pwsh"
    },
    "polyglot_notebook": {
     "kernelName": "pwsh"
    }
   },
   "outputs": [
    {
     "name": "stdout",
     "output_type": "stream",
     "text": [
      "C:\\Users\\ NT AUTHORITY\\SYSTEM:(OI)(CI)(F)\n",
      "          BUILTIN\\Administrators:(OI)(CI)(F)\n",
      "          BUILTIN\\Users:(RX)\n",
      "          BUILTIN\\Users:(OI)(CI)(IO)(GR,GE)\n",
      "          Everyone:(RX)\n",
      "          Everyone:(OI)(CI)(IO)(GR,GE)\n",
      "          S-1-15-3-65536-3323407561-2172269196-3486974656-4132058316-2250862433-3856296919-434318741-3760235072:(S,RD,X)\n",
      "\n",
      "Successfully processed 1 files; Failed processing 0 files\n",
      "C:\\Users\\marti NT AUTHORITY\\SYSTEM:(OI)(CI)(F)\n",
      "               BUILTIN\\Administrators:(OI)(CI)(F)\n",
      "               LEN20\\marti:(OI)(CI)(F)\n",
      "               S-1-15-3-65536-3852923496-3228631905-2361761901-1328441031-2492177081-392074989-583479735-4232454157:(S,X)\n",
      "\n",
      "Successfully processed 1 files; Failed processing 0 files\n",
      "D:\\Users\\ BUILTIN\\Administrators:(OI)(CI)(F)\n",
      "          NT AUTHORITY\\SYSTEM:(OI)(CI)(F)\n",
      "          BUILTIN\\Users:(OI)(CI)(RX)\n",
      "\n",
      "Successfully processed 1 files; Failed processing 0 files\n",
      "D:\\Users\\marti BUILTIN\\Administrators:(OI)(CI)(F)\n",
      "               NT AUTHORITY\\SYSTEM:(OI)(CI)(F)\n",
      "               LEN20\\marti:(OI)(CI)(F)\n",
      "\n",
      "Successfully processed 1 files; Failed processing 0 files\n",
      "D:\\Users\\milanlocal NT AUTHORITY\\SYSTEM:(OI)(CI)(RX,W)\n",
      "                    LEN20\\marti:(OI)(CI)(RX)\n",
      "                    LEN20\\milan_rxtipwr:(OI)(CI)(F)\n",
      "                    BUILTIN\\Administrators:(I)(OI)(CI)(F)\n",
      "                    NT AUTHORITY\\SYSTEM:(I)(OI)(CI)(F)\n",
      "                    BUILTIN\\Users:(I)(OI)(CI)(RX)\n",
      "\n",
      "Successfully processed 1 files; Failed processing 0 files\n",
      "d:\\Users\\Eda\\ BUILTIN\\Administrators:(I)(OI)(CI)(F)\n",
      "              NT AUTHORITY\\SYSTEM:(I)(OI)(CI)(F)\n",
      "              BUILTIN\\Users:(I)(OI)(CI)(RX)\n",
      "\n",
      "Successfully processed 1 files; Failed processing 0 files\n",
      "d:\\Users\\Eda\\SteamLibrary LEN20\\marti:(OI)(CI)(F)\n",
      "                          BUILTIN\\Administrators:(I)(OI)(CI)(F)\n",
      "                          NT AUTHORITY\\SYSTEM:(I)(OI)(CI)(F)\n",
      "                          BUILTIN\\Users:(I)(OI)(CI)(RX)\n",
      "\n",
      "Successfully processed 1 files; Failed processing 0 files\n",
      "D:\\Users\\Eda\\zoom LEN20\\marti:(OI)(CI)(F)\n",
      "                  BUILTIN\\Administrators:(I)(OI)(CI)(F)\n",
      "                  NT AUTHORITY\\SYSTEM:(I)(OI)(CI)(F)\n",
      "                  BUILTIN\\Users:(I)(OI)(CI)(RX)\n",
      "\n",
      "Successfully processed 1 files; Failed processing 0 files\n"
     ]
    }
   ],
   "source": [
    "#TODO  #TOO_LATE\n",
    "#  {\n",
    "\n",
    "$(\n",
    "\n",
    "\n",
    " icacls C:\\Users\\\n",
    " icacls C:\\Users\\marti\n",
    "\n",
    "icacls.exe   D:\\Users\\\n",
    "icacls.exe   D:\\Users\\marti\n",
    "icacls.exe   D:\\Users\\milanlocal\n",
    "\n",
    "icacls.exe  d:\\Users\\Eda\\\n",
    "icacls.exe  d:\\Users\\Eda\\SteamLibrary\n",
    "icacls.exe  D:\\Users\\Eda\\zoom\n",
    ")   |  Tee-Object out246s.f8.txt\n",
    "##  }\n",
    "\n",
    "\n"
   ]
  },
  {
   "cell_type": "code",
   "execution_count": null,
   "metadata": {
    "dotnet_interactive": {
     "language": "pwsh"
    },
    "polyglot_notebook": {
     "kernelName": "pwsh"
    }
   },
   "outputs": [],
   "source": []
  },
  {
   "cell_type": "code",
   "execution_count": null,
   "metadata": {
    "dotnet_interactive": {
     "language": "pwsh"
    },
    "polyglot_notebook": {
     "kernelName": "pwsh"
    }
   },
   "outputs": [],
   "source": []
  },
  {
   "cell_type": "code",
   "execution_count": null,
   "metadata": {
    "dotnet_interactive": {
     "language": "pwsh"
    },
    "polyglot_notebook": {
     "kernelName": "pwsh"
    }
   },
   "outputs": [],
   "source": []
  },
  {
   "cell_type": "code",
   "execution_count": null,
   "metadata": {
    "dotnet_interactive": {
     "language": "value"
    },
    "polyglot_notebook": {
     "kernelName": "value"
    }
   },
   "outputs": [],
   "source": [
    "21:00?\n",
    "d:\\Users\\Eda\\ NT AUTHORITY\\Authenticated Users:(I)(OI)(CI)(RX)\n",
    "              NT AUTHORITY\\SYSTEM:(I)(OI)(CI)(F)\n",
    "              BUILTIN\\Administrators:(I)(OI)(CI)(F)\n",
    "              BUILTIN\\Users:(I)(OI)(CI)(RX)\n",
    "\n",
    "Successfully processed 1 files; Failed processing 0 files\n",
    "d:\\Users\\Eda\\SteamLibrary LEN20\\marti:(OI)(CI)(F)\n",
    "                          NT AUTHORITY\\Authenticated Users:(I)(OI)(CI)(RX)\n",
    "                          NT AUTHORITY\\SYSTEM:(I)(OI)(CI)(F)\n",
    "                          BUILTIN\\Administrators:(I)(OI)(CI)(F)\n",
    "                          BUILTIN\\Users:(I)(OI)(CI)(RX)\n",
    "\n",
    "Successfully processed 1 files; Failed processing 0 files\n",
    "D:\\Users\\marti LEN20\\marti:(OI)(CI)(F)\n",
    "               NT AUTHORITY\\Authenticated Users:(I)(OI)(CI)(RX)\n",
    "               NT AUTHORITY\\SYSTEM:(I)(OI)(CI)(F)\n",
    "               BUILTIN\\Administrators:(I)(OI)(CI)(F)\n",
    "               BUILTIN\\Users:(I)(OI)(CI)(RX)\n",
    "\n",
    "Successfully processed 1 files; Failed processing 0 files\n",
    "D:\\Users\\milanlocal NT AUTHORITY\\Authenticated Users:(I)(OI)(CI)(RX)\n",
    "                    NT AUTHORITY\\SYSTEM:(I)(OI)(CI)(F)\n",
    "                    BUILTIN\\Administrators:(I)(OI)(CI)(F)\n",
    "                    BUILTIN\\Users:(I)(OI)(CI)(RX)"
   ]
  },
  {
   "cell_type": "code",
   "execution_count": 25,
   "metadata": {
    "dotnet_interactive": {
     "language": "value"
    },
    "polyglot_notebook": {
     "kernelName": "value"
    }
   },
   "outputs": [],
   "source": [
    "22:03\n",
    "C:\\Users\\ NT AUTHORITY\\SYSTEM:(OI)(CI)(F)\n",
    "          BUILTIN\\Administrators:(OI)(CI)(F)\n",
    "          BUILTIN\\Users:(RX)\n",
    "          BUILTIN\\Users:(OI)(CI)(IO)(GR,GE)\n",
    "          Everyone:(RX)\n",
    "          Everyone:(OI)(CI)(IO)(GR,GE)\n",
    "          S-1-15-3-65536-3323407561-2172269196-3486974656-4132058316-2250862433-3856296919-434318741-3760235072:(S,RD,X)\n",
    "\n",
    "Successfully processed 1 files; Failed processing 0 files\n",
    "C:\\Users\\marti NT AUTHORITY\\SYSTEM:(OI)(CI)(F)\n",
    "               BUILTIN\\Administrators:(OI)(CI)(F)\n",
    "               LEN20\\marti:(OI)(CI)(F)\n",
    "               S-1-15-3-65536-3852923496-3228631905-2361761901-1328441031-2492177081-392074989-583479735-4232454157:(S,X)\n",
    "\n",
    "Successfully processed 1 files; Failed processing 0 files\n",
    "D:\\Users\\ NT AUTHORITY\\Authenticated Users:(I)(OI)(CI)(RX)\n",
    "          NT AUTHORITY\\SYSTEM:(I)(OI)(CI)(F)\n",
    "          BUILTIN\\Administrators:(I)(OI)(CI)(F)\n",
    "          BUILTIN\\Users:(I)(OI)(CI)(RX)\n",
    "\n",
    "Successfully processed 1 files; Failed processing 0 files\n",
    "D:\\Users\\marti LEN20\\marti:(OI)(CI)(F)\n",
    "               NT AUTHORITY\\Authenticated Users:(I)(OI)(CI)(RX)\n",
    "               NT AUTHORITY\\SYSTEM:(I)(OI)(CI)(F)\n",
    "               BUILTIN\\Administrators:(I)(OI)(CI)(F)\n",
    "               BUILTIN\\Users:(I)(OI)(CI)(RX)\n",
    "\n",
    "Successfully processed 1 files; Failed processing 0 files\n",
    "D:\\Users\\milanlocal LEN20\\marti:(OI)(CI)(RX)\n",
    "                    LEN20\\milan_rxtipwr:(OI)(CI)(F)\n",
    "                    NT AUTHORITY\\Authenticated Users:(I)(OI)(CI)(RX)\n",
    "                    NT AUTHORITY\\SYSTEM:(I)(OI)(CI)(F)\n",
    "                    BUILTIN\\Administrators:(I)(OI)(CI)(F)\n",
    "                    BUILTIN\\Users:(I)(OI)(CI)(RX)\n",
    "\n",
    "Successfully processed 1 files; Failed processing 0 files\n",
    "d:\\Users\\Eda\\ NT AUTHORITY\\Authenticated Users:(I)(OI)(CI)(RX)\n",
    "              NT AUTHORITY\\SYSTEM:(I)(OI)(CI)(F)\n",
    "              BUILTIN\\Administrators:(I)(OI)(CI)(F)\n",
    "              BUILTIN\\Users:(I)(OI)(CI)(RX)\n",
    "\n",
    "Successfully processed 1 files; Failed processing 0 files\n",
    "d:\\Users\\Eda\\SteamLibrary LEN20\\marti:(OI)(CI)(F)\n",
    "                          NT AUTHORITY\\Authenticated Users:(I)(OI)(CI)(RX)\n",
    "                          NT AUTHORITY\\SYSTEM:(I)(OI)(CI)(F)\n",
    "                          BUILTIN\\Administrators:(I)(OI)(CI)(F)\n",
    "                          BUILTIN\\Users:(I)(OI)(CI)(RX)\n",
    "\n",
    "Successfully processed 1 files; Failed processing 0 files\n"
   ]
  },
  {
   "cell_type": "code",
   "execution_count": null,
   "metadata": {
    "dotnet_interactive": {
     "language": "value"
    },
    "polyglot_notebook": {
     "kernelName": "value"
    }
   },
   "outputs": [],
   "source": [
    "22:10\n",
    "C:\\Users\\ NT AUTHORITY\\SYSTEM:(OI)(CI)(F)\n",
    "          BUILTIN\\Administrators:(OI)(CI)(F)\n",
    " ***         BUILTIN\\Users:(RX)\n",
    "  ***        BUILTIN\\Users:(OI)(CI)(IO)(GR,GE)\n",
    "          Everyone:(RX)\n",
    "          Everyone:(OI)(CI)(IO)(GR,GE)\n",
    "          S-1-15-3-65536-3323407561-2172269196-3486974656-4132058316-2250862433-3856296919-434318741-3760235072:(S,RD,X)\n",
    "\n",
    "Successfully processed 1 files; Failed processing 0 files\n",
    "C:\\Users\\marti NT AUTHORITY\\SYSTEM:(OI)(CI)(F)\n",
    "               BUILTIN\\Administrators:(OI)(CI)(F)\n",
    "               LEN20\\marti:(OI)(CI)(F)\n",
    "               S-1-15-3-65536-3852923496-3228631905-2361761901-1328441031-2492177081-392074989-583479735-4232454157:(S,X)\n",
    "\n",
    "Successfully processed 1 files; Failed processing 0 files\n",
    "###   D:\\Users\\: Access is denied.\n",
    "Successfully processed 0 files; Failed processing 1 files\n",
    "D:\\Users\\marti LEN20\\marti:(OI)(CI)(F)\n",
    "####\n",
    "\n",
    "\n",
    "D:\\Users\\milanlocal LEN20\\marti:(OI)(CI)(RX)\n",
    "                    LEN20\\milan_rxtipwr:(OI)(CI)(F)\n",
    "\n",
    "Successfully processed 1 files; Failed processing 0 files\n",
    "### d:\\Users\\Eda\\: Access is denied.\n",
    "Successfully processed 0 files; Failed processing 1 files\n",
    "d:\\Users\\Eda\\SteamLibrary LEN20\\marti:(OI)(CI)(F)"
   ]
  },
  {
   "cell_type": "code",
   "execution_count": 27,
   "metadata": {
    "dotnet_interactive": {
     "language": "value"
    },
    "polyglot_notebook": {
     "kernelName": "value"
    }
   },
   "outputs": [],
   "source": [
    "23:20\n",
    "C:\\Users\\ NT AUTHORITY\\SYSTEM:(OI)(CI)(F)\n",
    "          BUILTIN\\Administrators:(OI)(CI)(F)\n",
    "          BUILTIN\\Users:(RX)\n",
    "          BUILTIN\\Users:(OI)(CI)(IO)(GR,GE)\n",
    "          Everyone:(RX)\n",
    "          Everyone:(OI)(CI)(IO)(GR,GE)\n",
    "          S-1-15-3-65536-3323407561-2172269196-3486974656-4132058316-2250862433-3856296919-434318741-3760235072:(S,RD,X)\n",
    "\n",
    "Successfully processed 1 files; Failed processing 0 files\n",
    "C:\\Users\\marti NT AUTHORITY\\SYSTEM:(OI)(CI)(F)\n",
    "               BUILTIN\\Administrators:(OI)(CI)(F)\n",
    "               LEN20\\marti:(OI)(CI)(F)\n",
    "               S-1-15-3-65536-3852923496-3228631905-2361761901-1328441031-2492177081-392074989-583479735-4232454157:(S,X)\n",
    "\n",
    "Successfully processed 1 files; Failed processing 0 files\n",
    "D:\\Users\\ BUILTIN\\Administrators:(OI)(CI)(F)\n",
    "          NT AUTHORITY\\SYSTEM:(OI)(CI)(F)\n",
    "          BUILTIN\\Users:(OI)(CI)(RX)\n",
    "\n",
    "Successfully processed 1 files; Failed processing 0 files\n",
    "D:\\Users\\marti LEN20\\marti:(OI)(CI)(F)\n",
    "               BUILTIN\\Administrators:(I)(OI)(CI)(F)\n",
    "               NT AUTHORITY\\SYSTEM:(I)(OI)(CI)(F)\n",
    "               BUILTIN\\Users:(I)(OI)(CI)(RX)\n",
    "\n",
    "Successfully processed 1 files; Failed processing 0 files\n",
    "D:\\Users\\milanlocal LEN20\\marti:(OI)(CI)(RX)\n",
    "                    LEN20\\milan_rxtipwr:(OI)(CI)(F)\n",
    "                    BUILTIN\\Administrators:(I)(OI)(CI)(F)\n",
    "                    NT AUTHORITY\\SYSTEM:(I)(OI)(CI)(F)\n",
    "                    BUILTIN\\Users:(I)(OI)(CI)(RX)\n",
    "\n",
    "Successfully processed 1 files; Failed processing 0 files\n",
    "d:\\Users\\Eda\\ BUILTIN\\Administrators:(I)(OI)(CI)(F)\n",
    "              NT AUTHORITY\\SYSTEM:(I)(OI)(CI)(F)\n",
    "              BUILTIN\\Users:(I)(OI)(CI)(RX)\n",
    "\n",
    "Successfully processed 1 files; Failed processing 0 files\n",
    "d:\\Users\\Eda\\SteamLibrary LEN20\\marti:(OI)(CI)(F)\n",
    "                          BUILTIN\\Administrators:(I)(OI)(CI)(F)\n",
    "                          NT AUTHORITY\\SYSTEM:(I)(OI)(CI)(F)\n",
    "                          BUILTIN\\Users:(I)(OI)(CI)(RX)\n",
    "\n",
    "Successfully processed 1 files; Failed processing 0 files\n",
    "D:\\Users\\Eda\\zoom LEN20\\marti:(OI)(CI)(F)\n",
    "                  BUILTIN\\Administrators:(I)(OI)(CI)(F)\n",
    "                  NT AUTHORITY\\SYSTEM:(I)(OI)(CI)(F)\n",
    "                  BUILTIN\\Users:(I)(OI)(CI)(RX)\n",
    "\n",
    "Successfully processed 1 files; Failed processing 0 files\n"
   ]
  },
  {
   "cell_type": "code",
   "execution_count": null,
   "metadata": {
    "dotnet_interactive": {
     "language": "value"
    },
    "polyglot_notebook": {
     "kernelName": "value"
    }
   },
   "outputs": [],
   "source": []
  },
  {
   "cell_type": "code",
   "execution_count": null,
   "metadata": {
    "dotnet_interactive": {
     "language": "value"
    },
    "polyglot_notebook": {
     "kernelName": "value"
    }
   },
   "outputs": [],
   "source": []
  },
  {
   "cell_type": "code",
   "execution_count": null,
   "metadata": {
    "dotnet_interactive": {
     "language": "pwsh"
    },
    "polyglot_notebook": {
     "kernelName": "pwsh"
    }
   },
   "outputs": [],
   "source": []
  },
  {
   "cell_type": "code",
   "execution_count": null,
   "metadata": {
    "dotnet_interactive": {
     "language": "value"
    },
    "polyglot_notebook": {
     "kernelName": "value"
    }
   },
   "outputs": [],
   "source": [
    "D:\\Users\\Eda NT AUTHORITY\\Authenticated Users:(I)(OI)(CI)(RX)\n",
    "D:\\Users\\marti NT AUTHORITY\\Authenticated Users:(I)(OI)(CI)(RX)\n",
    "D:\\Users\\milanlocal NT AUTHORITY\\Authenticated Users:(I)(OI)(CI)(RX)"
   ]
  },
  {
   "cell_type": "code",
   "execution_count": 15,
   "metadata": {
    "dotnet_interactive": {
     "language": "pwsh"
    },
    "polyglot_notebook": {
     "kernelName": "pwsh"
    }
   },
   "outputs": [
    {
     "name": "stdout",
     "output_type": "stream",
     "text": [
      "D:\\Users\\Default NT AUTHORITY\\Authenticated Users:(I)(OI)(CI)(RX)\n",
      "                 NT AUTHORITY\\SYSTEM:(I)(OI)(CI)(F)\n",
      "                 BUILTIN\\Administrators:(I)(OI)(CI)(F)\n",
      "                 BUILTIN\\Users:(I)(OI)(CI)(RX)\n",
      "\n",
      "D:\\Users\\Eda NT AUTHORITY\\Authenticated Users:(I)(OI)(CI)(RX)\n",
      "             NT AUTHORITY\\SYSTEM:(I)(OI)(CI)(F)\n",
      "             BUILTIN\\Administrators:(I)(OI)(CI)(F)\n",
      "             BUILTIN\\Users:(I)(OI)(CI)(RX)\n",
      "\n",
      "D:\\Users\\marti NT AUTHORITY\\Authenticated Users:(I)(OI)(CI)(RX)\n",
      "               NT AUTHORITY\\SYSTEM:(I)(OI)(CI)(F)\n",
      "               BUILTIN\\Administrators:(I)(OI)(CI)(F)\n",
      "               BUILTIN\\Users:(I)(OI)(CI)(RX)\n",
      "\n",
      "D:\\Users\\milanlocal NT AUTHORITY\\Authenticated Users:(I)(OI)(CI)(RX)\n",
      "                    NT AUTHORITY\\SYSTEM:(I)(OI)(CI)(F)\n",
      "                    BUILTIN\\Administrators:(I)(OI)(CI)(F)\n",
      "                    BUILTIN\\Users:(I)(OI)(CI)(RX)\n",
      "\n",
      "D:\\Users\\New folder NT AUTHORITY\\Authenticated Users:(I)(OI)(CI)(RX)\n",
      "                    NT AUTHORITY\\SYSTEM:(I)(OI)(CI)(F)\n",
      "                    BUILTIN\\Administrators:(I)(OI)(CI)(F)\n",
      "                    BUILTIN\\Users:(I)(OI)(CI)(RX)\n",
      "\n",
      "D:\\Users\\Public NT AUTHORITY\\Authenticated Users:(I)(OI)(CI)(RX)\n",
      "                NT AUTHORITY\\SYSTEM:(I)(OI)(CI)(F)\n",
      "                BUILTIN\\Administrators:(I)(OI)(CI)(F)\n",
      "                BUILTIN\\Users:(I)(OI)(CI)(RX)\n",
      "\n",
      "Successfully processed 6 files; Failed processing 0 files\n"
     ]
    }
   ],
   "source": [
    "#21:00?\n",
    "#icacls.exe \"D:\\Users\\*\"\n",
    "# too late after  /reset"
   ]
  },
  {
   "cell_type": "code",
   "execution_count": null,
   "metadata": {
    "dotnet_interactive": {
     "language": "pwsh"
    },
    "polyglot_notebook": {
     "kernelName": "pwsh"
    }
   },
   "outputs": [
    {
     "name": "stdout",
     "output_type": "stream",
     "text": [
      "D:\\Users\\Default NT AUTHORITY\\Authenticated Users:(I)(OI)(CI)(RX)\n",
      "                 NT AUTHORITY\\SYSTEM:(I)(OI)(CI)(F)\n",
      "                 BUILTIN\\Administrators:(I)(OI)(CI)(F)\n",
      "                 BUILTIN\\Users:(I)(OI)(CI)(RX)\n",
      "\n",
      "D:\\Users\\Eda NT AUTHORITY\\Authenticated Users:(I)(OI)(CI)(RX)\n",
      "             NT AUTHORITY\\SYSTEM:(I)(OI)(CI)(F)\n",
      "             BUILTIN\\Administrators:(I)(OI)(CI)(F)\n",
      "             BUILTIN\\Users:(I)(OI)(CI)(RX)\n",
      "\n",
      "D:\\Users\\marti NT AUTHORITY\\Authenticated Users:(I)(OI)(CI)(RX)\n",
      "               NT AUTHORITY\\SYSTEM:(I)(OI)(CI)(F)\n",
      "               BUILTIN\\Administrators:(I)(OI)(CI)(F)\n",
      "               BUILTIN\\Users:(I)(OI)(CI)(RX)\n",
      "\n",
      "D:\\Users\\milanlocal NT AUTHORITY\\Authenticated Users:(I)(OI)(CI)(RX)\n",
      "                    NT AUTHORITY\\SYSTEM:(I)(OI)(CI)(F)\n",
      "                    BUILTIN\\Administrators:(I)(OI)(CI)(F)\n",
      "                    BUILTIN\\Users:(I)(OI)(CI)(RX)\n",
      "\n",
      "D:\\Users\\New folder NT AUTHORITY\\Authenticated Users:(I)(OI)(CI)(RX)\n",
      "                    NT AUTHORITY\\SYSTEM:(I)(OI)(CI)(F)\n",
      "                    BUILTIN\\Administrators:(I)(OI)(CI)(F)\n",
      "                    BUILTIN\\Users:(I)(OI)(CI)(RX)\n",
      "\n",
      "D:\\Users\\Public NT AUTHORITY\\Authenticated Users:(I)(OI)(CI)(RX)\n",
      "                NT AUTHORITY\\SYSTEM:(I)(OI)(CI)(F)\n",
      "                BUILTIN\\Administrators:(I)(OI)(CI)(F)\n",
      "                BUILTIN\\Users:(I)(OI)(CI)(RX)\n",
      "\n",
      "Successfully processed 6 files; Failed processing 0 files\n"
     ]
    }
   ],
   "source": [
    "icacls.exe \"D:\\Users\\*\"\n"
   ]
  },
  {
   "cell_type": "code",
   "execution_count": null,
   "metadata": {
    "dotnet_interactive": {
     "language": "pwsh"
    },
    "polyglot_notebook": {
     "kernelName": "pwsh"
    }
   },
   "outputs": [],
   "source": []
  },
  {
   "cell_type": "code",
   "execution_count": null,
   "metadata": {
    "dotnet_interactive": {
     "language": "value"
    },
    "polyglot_notebook": {
     "kernelName": "value"
    }
   },
   "outputs": [],
   "source": [
    "\n",
    "PS C:\\WINDOWS\\system32> icacls.exe \"D:\\Users\"  /reset /t    /c  /q\n",
    "\n",
    "D:\\Users\\Default\\AppData\\Local\\Microsoft\\WindowsApps: Access is\n",
    "denied.\n",
    "\n",
    "D:\\Users\\marti\\AAAdesk20-tibx-vhdx-boot\\etc\\xdg\\systemd\\user\\*: The file\n",
    "cannot be accessed by the system.\n",
    "\n",
    "Successfully processed 20120 files; Failed processing 2 files"
   ]
  },
  {
   "cell_type": "code",
   "execution_count": 9,
   "metadata": {
    "dotnet_interactive": {
     "language": "value"
    },
    "polyglot_notebook": {
     "kernelName": "value"
    }
   },
   "outputs": [
    {
     "name": "stdout",
     "output_type": "stream",
     "text": [
      "C:\\Users\\ NT AUTHORITY\\SYSTEM:(OI)(CI)(F)\n",
      "          BUILTIN\\Administrators:(OI)(CI)(F)\n",
      "          BUILTIN\\Users:(RX)\n",
      "          BUILTIN\\Users:(OI)(CI)(IO)(GR,GE)\n",
      "          Everyone:(RX)\n",
      "          Everyone:(OI)(CI)(IO)(GR,GE)\n",
      "          S-1-15-3-65536-3323407561-2172269196-3486974656-4132058316-2250862433-3856296919-434318741-3760235072:(S,RD,X)\n",
      "\n",
      "Successfully processed 1 files; Failed processing 0 files\n",
      "d:\\Users\\ NT AUTHORITY\\SYSTEM:(OI)(CI)(RX,W)\n",
      "          NT AUTHORITY\\Authenticated Users:(I)(OI)(CI)(RX)\n",
      "          NT AUTHORITY\\SYSTEM:(I)(OI)(CI)(F)\n",
      "          BUILTIN\\Administrators:(I)(OI)(CI)(F)\n",
      "          BUILTIN\\Users:(I)(OI)(CI)(RX)\n",
      "\n",
      "Successfully processed 1 files; Failed processing 0 files\n"
     ]
    }
   ],
   "source": [
    "246s/20:00\n",
    "todo fix\n",
    "\n",
    "(I)  seem bad\n",
    "\n",
    "todo\n",
    "icacls.exe \"D:\\Users\"  /reset /t    /c\n",
    "PS C:\\WINDOWS\\system32> icacls.exe \"D:\\Users\"  /reset /t    /c  /q\n",
    "\n",
    "\n",
    "d:\\Users\\ NT AUTHORITY\\SYSTEM:(OI)(CI)(RX,W)\n",
    "          NT AUTHORITY\\Authenticated Users:(I)(OI)(CI)(RX)\n",
    "          NT AUTHORITY\\SYSTEM:(I)(OI)(CI)(F)\n",
    "          BUILTIN\\Administrators:(I)(OI)(CI)(F)\n",
    "          BUILTIN\\Users:(I)(OI)(CI)(RX)\n",
    "\n",
    "Successfully processed 1 files; Failed processing 0 files\n",
    "C:\\Users\\ NT AUTHORITY\\SYSTEM:(OI)(CI)(F)\n",
    "          BUILTIN\\Administrators:(OI)(CI)(F)\n",
    "          BUILTIN\\Users:(RX)\n",
    "          BUILTIN\\Users:(OI)(CI)(IO)(GR,GE)\n",
    "          Everyone:(RX)\n",
    "          Everyone:(OI)(CI)(IO)(GR,GE)"
   ]
  },
  {
   "cell_type": "code",
   "execution_count": 10,
   "metadata": {
    "dotnet_interactive": {
     "language": "pwsh"
    },
    "polyglot_notebook": {
     "kernelName": "pwsh"
    }
   },
   "outputs": [
    {
     "name": "stdout",
     "output_type": "stream",
     "text": [
      "d:\\Users\\ NT AUTHORITY\\SYSTEM:(OI)(CI)(RX,W)\n",
      "          NT AUTHORITY\\Authenticated Users:(I)(OI)(CI)(RX)\n",
      "          NT AUTHORITY\\SYSTEM:(I)(OI)(CI)(F)\n",
      "          BUILTIN\\Administrators:(I)(OI)(CI)(F)\n",
      "          BUILTIN\\Users:(I)(OI)(CI)(RX)\n",
      "\n",
      "Successfully processed 1 files; Failed processing 0 files\n",
      "C:\\Users\\ NT AUTHORITY\\SYSTEM:(OI)(CI)(F)\n",
      "          BUILTIN\\Administrators:(OI)(CI)(F)\n",
      "          BUILTIN\\Users:(RX)\n",
      "          BUILTIN\\Users:(OI)(CI)(IO)(GR,GE)\n",
      "          Everyone:(RX)\n",
      "          Everyone:(OI)(CI)(IO)(GR,GE)\n",
      "          S-1-15-3-65536-3323407561-2172269196-3486974656-4132058316-2250862433-3856296919-434318741-3760235072:(S,RD,X)\n",
      "\n",
      "Successfully processed 1 files; Failed processing 0 files\n"
     ]
    }
   ],
   "source": [
    "\n",
    "#icacls.exe \"C:\\Users\\milan_rxtipwr\"\n",
    "icacls.exe \"d:\\Users\\\"\n",
    "icacls.exe \"C:\\Users\\\"\n",
    "\n"
   ]
  },
  {
   "cell_type": "code",
   "execution_count": null,
   "metadata": {
    "dotnet_interactive": {
     "language": "pwsh"
    },
    "polyglot_notebook": {
     "kernelName": "pwsh"
    }
   },
   "outputs": [],
   "source": []
  },
  {
   "cell_type": "code",
   "execution_count": null,
   "metadata": {
    "dotnet_interactive": {
     "language": "pwsh"
    },
    "polyglot_notebook": {
     "kernelName": "pwsh"
    }
   },
   "outputs": [],
   "source": []
  },
  {
   "cell_type": "code",
   "execution_count": null,
   "metadata": {
    "dotnet_interactive": {
     "language": "pwsh"
    },
    "polyglot_notebook": {
     "kernelName": "pwsh"
    }
   },
   "outputs": [],
   "source": []
  }
 ],
 "metadata": {
  "kernelspec": {
   "display_name": ".NET (PowerShell)",
   "language": "PowerShell",
   "name": ".net-pwsh"
  },
  "language_info": {
   "name": "polyglot-notebook"
  },
  "polyglot_notebook": {
   "kernelInfo": {
    "defaultKernelName": "pwsh",
    "items": [
     {
      "aliases": [],
      "languageName": "pwsh",
      "name": "pwsh"
     }
    ]
   }
  }
 },
 "nbformat": 4,
 "nbformat_minor": 2
}
