{
 "cells": [
  {
   "cell_type": "markdown",
   "metadata": {},
   "source": [
    "# Transformer Lens Main Demo Notebook\n",
    "\n",
    "<b style=\"color: red\">To use this notebook, go to Runtime > Change Runtime Type and select GPU as the hardware accelerator.</b>\n",
    "\n",
    "This is a reference notebook covering the main features of the [TransformerLens](https://github.com/neelnanda-io/TransformerLens) library for mechanistic interpretability. See [Callum McDougall's tutorial](https://transformerlens-intro.streamlit.app/TransformerLens_&_induction_circuits) for a more structured and gentler introduction to the library"
   ]
  },
  {
   "cell_type": "markdown",
   "metadata": {},
   "source": [
    "**Tips for reading this Colab:**\n",
    "* You can run all this code for yourself! \n",
    "* The graphs are interactive!\n",
    "* Use the table of contents pane in the sidebar to navigate\n",
    "* Collapse irrelevant sections with the dropdown arrows\n",
    "* Search the page using the search in the sidebar, not CTRL+F"
   ]
  },
  {
   "cell_type": "markdown",
   "metadata": {},
   "source": [
    "# Setup\n",
    "(No need to read)"
   ]
  },
  {
   "cell_type": "code",
   "execution_count": 1,
   "metadata": {},
   "outputs": [
    {
     "name": "stdout",
     "output_type": "stream",
     "text": [
      "Running as a Jupyter notebook - intended for development only!\n"
     ]
    },
    {
     "name": "stderr",
     "output_type": "stream",
     "text": [
      "C:\\Users\\marti\\AppData\\Local\\Temp\\ipykernel_24792\\410710250.py:21: DeprecationWarning: `magic(...)` is deprecated since IPython 0.13 (warning added in 8.1), use run_line_magic(magic_name, parameter_s).\n",
      "  ipython.magic(\"load_ext autoreload\")\n",
      "C:\\Users\\marti\\AppData\\Local\\Temp\\ipykernel_24792\\410710250.py:22: DeprecationWarning: `magic(...)` is deprecated since IPython 0.13 (warning added in 8.1), use run_line_magic(magic_name, parameter_s).\n",
      "  ipython.magic(\"autoreload 2\")\n"
     ]
    }
   ],
   "source": [
    "# Janky code to do different setup when run in a Colab notebook vs VSCode\n",
    "DEVELOPMENT_MODE = False\n",
    "try:\n",
    "    import google.colab\n",
    "    IN_COLAB = True\n",
    "    print(\"Running as a Colab notebook\")\n",
    "    %pip install git+https://github.com/neelnanda-io/TransformerLens.git\n",
    "    %pip install circuitsvis\n",
    "    \n",
    "    # PySvelte is an unmaintained visualization library, use it as a backup if circuitsvis isn't working\n",
    "    # # Install another version of node that makes PySvelte work way faster\n",
    "    # !curl -fsSL https://deb.nodesource.com/setup_16.x | sudo -E bash -; sudo apt-get install -y nodejs\n",
    "    # %pip install git+https://github.com/neelnanda-io/PySvelte.git\n",
    "except:\n",
    "    IN_COLAB = False\n",
    "    print(\"Running as a Jupyter notebook - intended for development only!\")\n",
    "    from IPython import get_ipython\n",
    "\n",
    "    ipython = get_ipython()\n",
    "    # Code to automatically update the HookedTransformer code as its edited without restarting the kernel\n",
    "    ipython.magic(\"load_ext autoreload\")\n",
    "    ipython.magic(\"autoreload 2\")"
   ]
  },
  {
   "cell_type": "code",
   "execution_count": 3,
   "metadata": {
    "tags": []
   },
   "outputs": [
    {
     "name": "stdout",
     "output_type": "stream",
     "text": [
      "Using renderer: colab\n"
     ]
    }
   ],
   "source": [
    "# Plotly needs a different renderer for VSCode/Notebooks vs Colab argh\n",
    "import plotly.io as pio\n",
    "if IN_COLAB or not DEVELOPMENT_MODE:\n",
    "    pio.renderers.default = \"colab\"\n",
    "else:\n",
    "    pio.renderers.default = \"notebook_connected\"\n",
    "print(f\"Using renderer: {pio.renderers.default}\")"
   ]
  },
  {
   "cell_type": "code",
   "execution_count": 4,
   "metadata": {},
   "outputs": [
    {
     "data": {
      "text/html": [
       "<div id=\"circuits-vis-cee72788-7f25\" style=\"margin: 15px 0;\"/>\n",
       "    <script crossorigin type=\"module\">\n",
       "    import { render, Hello } from \"https://unpkg.com/circuitsvis@1.39.1/dist/cdn/esm.js\";\n",
       "    render(\n",
       "      \"circuits-vis-cee72788-7f25\",\n",
       "      Hello,\n",
       "      {\"name\": \"Neel\"}\n",
       "    )\n",
       "    </script>"
      ],
      "text/plain": [
       "<circuitsvis.utils.render.RenderedHTML at 0x1fa1a2b1180>"
      ]
     },
     "execution_count": 4,
     "metadata": {},
     "output_type": "execute_result"
    }
   ],
   "source": [
    "import circuitsvis as cv\n",
    "# Testing that the library works\n",
    "cv.examples.hello(\"Neel\")"
   ]
  },
  {
   "cell_type": "code",
   "execution_count": 5,
   "metadata": {},
   "outputs": [],
   "source": [
    "# Import stuff\n",
    "import torch\n",
    "import torch.nn as nn\n",
    "import torch.nn.functional as F\n",
    "import torch.optim as optim\n",
    "import numpy as np\n",
    "import einops\n",
    "from fancy_einsum import einsum\n",
    "import tqdm.auto as tqdm\n",
    "import random\n",
    "from pathlib import Path\n",
    "import plotly.express as px\n",
    "from torch.utils.data import DataLoader\n",
    "\n",
    "from jaxtyping import Float, Int\n",
    "from typing import List, Union, Optional\n",
    "from functools import partial\n",
    "import copy\n",
    "\n",
    "import itertools\n",
    "from transformers import AutoModelForCausalLM, AutoConfig, AutoTokenizer\n",
    "import dataclasses\n",
    "import datasets\n",
    "from IPython.display import HTML"
   ]
  },
  {
   "cell_type": "code",
   "execution_count": 6,
   "metadata": {},
   "outputs": [],
   "source": [
    "import transformer_lens\n",
    "import transformer_lens.utils as utils\n",
    "from transformer_lens.hook_points import (\n",
    "    HookedRootModule,\n",
    "    HookPoint,\n",
    ")  # Hooking utilities\n",
    "from transformer_lens import HookedTransformer, HookedTransformerConfig, FactoredMatrix, ActivationCache"
   ]
  },
  {
   "cell_type": "markdown",
   "metadata": {},
   "source": [
    "We turn automatic differentiation off, to save GPU memory, as this notebook focuses on model inference not model training."
   ]
  },
  {
   "cell_type": "code",
   "execution_count": 7,
   "metadata": {},
   "outputs": [
    {
     "data": {
      "text/plain": [
       "<torch.autograd.grad_mode.set_grad_enabled at 0x1fa2622a920>"
      ]
     },
     "execution_count": 7,
     "metadata": {},
     "output_type": "execute_result"
    }
   ],
   "source": [
    "torch.set_grad_enabled(False)"
   ]
  },
  {
   "cell_type": "markdown",
   "metadata": {},
   "source": [
    "Plotting helper functions:"
   ]
  },
  {
   "cell_type": "code",
   "execution_count": 8,
   "metadata": {},
   "outputs": [],
   "source": [
    "def imshow(tensor, renderer=None, xaxis=\"\", yaxis=\"\", **kwargs):\n",
    "    px.imshow(utils.to_numpy(tensor), color_continuous_midpoint=0.0, color_continuous_scale=\"RdBu\", labels={\"x\":xaxis, \"y\":yaxis}, **kwargs).show(renderer)\n",
    "\n",
    "def line(tensor, renderer=None, xaxis=\"\", yaxis=\"\", **kwargs):\n",
    "    px.line(utils.to_numpy(tensor), labels={\"x\":xaxis, \"y\":yaxis}, **kwargs).show(renderer)\n",
    "\n",
    "def scatter(x, y, xaxis=\"\", yaxis=\"\", caxis=\"\", renderer=None, **kwargs):\n",
    "    x = utils.to_numpy(x)\n",
    "    y = utils.to_numpy(y)\n",
    "    px.scatter(y=y, x=x, labels={\"x\":xaxis, \"y\":yaxis, \"color\":caxis}, **kwargs).show(renderer)"
   ]
  },
  {
   "cell_type": "markdown",
   "metadata": {},
   "source": [
    "# Introduction"
   ]
  },
  {
   "cell_type": "markdown",
   "metadata": {},
   "source": [
    "This is a demo notebook for [TransformerLens](https://github.com/neelnanda-io/TransformerLens), **a library I ([Neel Nanda](neelnanda.io)) wrote for doing [mechanistic interpretability](https://distill.pub/2020/circuits/zoom-in/) of GPT-2 Style language models.** The goal of mechanistic interpretability is to take a trained model and reverse engineer the algorithms the model learned during training from its weights. It is a fact about the world today that we have computer programs that can essentially speak English at a human level (GPT-3, PaLM, etc), yet we have no idea how they work nor how to write one ourselves. This offends me greatly, and I would like to solve this! Mechanistic interpretability is a very young and small field, and there are a *lot* of open problems - if you would like to help, please try working on one! **If you want to skill up, check out [my guide to getting started](https://neelnanda.io/getting-started), and if you want to jump into an open problem check out my sequence [200 Concrete Open Problems in Mechanistic Interpretability](https://neelnanda.io/concrete-open-problems).**\n",
    "\n",
    "I wrote this library because after I left the Anthropic interpretability team and started doing independent research, I got extremely frustrated by the state of open source tooling. There's a lot of excellent infrastructure like HuggingFace and DeepSpeed to *use* or *train* models, but very little to dig into their internals and reverse engineer how they work. **This library tries to solve that**, and to make it easy to get into the field even if you don't work at an industry org with real infrastructure! The core features were heavily inspired by [Anthropic's excellent Garcon tool](https://transformer-circuits.pub/2021/garcon/index.html). Credit to Nelson Elhage and Chris Olah for building Garcon and showing me the value of good infrastructure for accelerating exploratory research!\n",
    "\n",
    "The core design principle I've followed is to enable exploratory analysis - one of the most fun parts of mechanistic interpretability compared to normal ML is the extremely short feedback loops! The point of this library is to keep the gap between having an experiment idea and seeing the results as small as possible, to make it easy for **research to feel like play** and to enter a flow state. This notebook demonstrates how the library works and how to use it, but if you want to see how well it works for exploratory research, check out [my notebook analysing Indirect Objection Identification](https://neelnanda.io/exploratory-analysis-demo) or [my recording of myself doing research](https://www.youtube.com/watch?v=yo4QvDn-vsU)!"
   ]
  },
  {
   "cell_type": "markdown",
   "metadata": {},
   "source": [
    "## Loading and Running Models\n",
    "\n",
    "TransformerLens comes loaded with >40 open source GPT-style models. You can load any of them in with `HookedTransformer.from_pretrained(MODEL_NAME)`. For this demo notebook we'll look at GPT-2 Small, an 80M parameter model, see the Available Models section for info on the rest."
   ]
  },
  {
   "cell_type": "code",
   "execution_count": 9,
   "metadata": {},
   "outputs": [],
   "source": [
    "device = \"cuda\" if torch.cuda.is_available() else \"cpu\""
   ]
  },
  {
   "cell_type": "code",
   "execution_count": 10,
   "metadata": {},
   "outputs": [
    {
     "name": "stderr",
     "output_type": "stream",
     "text": [
      "Using pad_token, but it is not set yet.\n"
     ]
    },
    {
     "name": "stdout",
     "output_type": "stream",
     "text": [
      "Loaded pretrained model gpt2-small into HookedTransformer\n"
     ]
    }
   ],
   "source": [
    "model = HookedTransformer.from_pretrained(\"gpt2-small\", device=device)"
   ]
  },
  {
   "cell_type": "markdown",
   "metadata": {},
   "source": [
    "To try the model out, let's find the loss on this text! Models can be run on a single string or a tensor of tokens (shape: [batch, position], all integers), and the possible return types are: \n",
    "* \"logits\" (shape [batch, position, d_vocab], floats), \n",
    "* \"loss\" (the cross-entropy loss when predicting the next token), \n",
    "* \"both\" (a tuple of (logits, loss)) \n",
    "* None (run the model, but don't calculate the logits - this is faster when we only want to use intermediate activations)"
   ]
  },
  {
   "cell_type": "code",
   "execution_count": 11,
   "metadata": {},
   "outputs": [
    {
     "name": "stdout",
     "output_type": "stream",
     "text": [
      "Model loss: tensor(4.1758)\n"
     ]
    }
   ],
   "source": [
    "model_description_text = \"\"\"## Loading Models\n",
    "\n",
    "HookedTransformer comes loaded with >40 open source GPT-style models. You can load any of them in with `HookedTransformer.from_pretrained(MODEL_NAME)`. See my explainer for documentation of all supported models, and this table for hyper-parameters and the name used to load them. Each model is loaded into the consistent HookedTransformer architecture, designed to be clean, consistent and interpretability-friendly. \n",
    "\n",
    "For this demo notebook we'll look at GPT-2 Small, an 80M parameter model. To try the model the model out, let's find the loss on this paragraph!\"\"\"\n",
    "loss = model(model_description_text, return_type=\"loss\")\n",
    "print(\"Model loss:\", loss)"
   ]
  },
  {
   "cell_type": "markdown",
   "metadata": {},
   "source": [
    "## Caching all Activations\n",
    "\n",
    "The first basic operation when doing mechanistic interpretability is to break open the black box of the model and look at all of the internal activations of a model. This can be done with `logits, cache = model.run_with_cache(tokens)`. Let's try this out on the first line of the abstract of the GPT-2 paper.\n",
    "\n",
    "<details><summary>On `remove_batch_dim`</summary>\n",
    "\n",
    "Every activation inside the model begins with a batch dimension. Here, because we only entered a single batch dimension, that dimension is always length 1 and kinda annoying, so passing in the `remove_batch_dim=True` keyword removes it. `gpt2_cache_no_batch_dim = gpt2_cache.remove_batch_dim()` would have achieved the same effect.\n",
    "</details?>"
   ]
  },
  {
   "cell_type": "code",
   "execution_count": 12,
   "metadata": {},
   "outputs": [
    {
     "name": "stdout",
     "output_type": "stream",
     "text": [
      "cpu\n"
     ]
    }
   ],
   "source": [
    "gpt2_text = \"Natural language processing tasks, such as question answering, machine translation, reading comprehension, and summarization, are typically approached with supervised learning on taskspecific datasets.\"\n",
    "gpt2_tokens = model.to_tokens(gpt2_text)\n",
    "print(gpt2_tokens.device)\n",
    "gpt2_logits, gpt2_cache = model.run_with_cache(gpt2_tokens, remove_batch_dim=True)"
   ]
  },
  {
   "cell_type": "markdown",
   "metadata": {},
   "source": [
    "Let's visualize the attention pattern of all the heads in layer 0, using [Alan Cooney's CircuitsVis library](https://github.com/alan-cooney/CircuitsVis) (based on [Anthropic's PySvelte library](https://github.com/anthropics/PySvelte)). \n",
    "\n",
    "We look this the attention pattern in `gpt2_cache`, an `ActivationCache` object, by entering in the name of the activation, followed by the layer index (here, the activation is called \"attn\" and the layer index is 0). This has shape [head_index, destination_position, source_position], and we use the `model.to_str_tokens` method to convert the text to a list of tokens as strings, since there is an attention weight between each pair of tokens.\n",
    "\n",
    "This visualization is interactive! Try hovering over a token or head, and click to lock. The grid on the top left and for each head is the attention pattern as a destination position by source position grid. It's lower triangular because GPT-2 has **causal attention**, attention can only look backwards, so information can only move forwards in the network.\n",
    "\n",
    "See the ActivationCache section for more on what `gpt2_cache` can do."
   ]
  },
  {
   "cell_type": "code",
   "execution_count": 13,
   "metadata": {},
   "outputs": [
    {
     "name": "stdout",
     "output_type": "stream",
     "text": [
      "<class 'transformer_lens.ActivationCache.ActivationCache'>\n",
      "torch.Size([12, 33, 33])\n"
     ]
    }
   ],
   "source": [
    "print(type(gpt2_cache))\n",
    "attention_pattern = gpt2_cache[\"pattern\", 0, \"attn\"]\n",
    "print(attention_pattern.shape)\n",
    "gpt2_str_tokens = model.to_str_tokens(gpt2_text)"
   ]
  },
  {
   "cell_type": "code",
   "execution_count": 14,
   "metadata": {},
   "outputs": [
    {
     "name": "stdout",
     "output_type": "stream",
     "text": [
      "Layer 0 Head Attention Patterns:\n"
     ]
    },
    {
     "data": {
      "text/html": [
       "<div id=\"circuits-vis-15f5460c-19ea\" style=\"margin: 15px 0;\"/>\n",
       "    <script crossorigin type=\"module\">\n",
       "    import { render, AttentionPatterns } from \"https://unpkg.com/circuitsvis@1.39.1/dist/cdn/esm.js\";\n",
       "    render(\n",
       "      \"circuits-vis-15f5460c-19ea\",\n",
       "      AttentionPatterns,\n",
       "      {\"tokens\": [\"<|endoftext|>\", \"Natural\", \" language\", \" processing\", \" tasks\", \",\", \" such\", \" as\", \" question\", \" answering\", \",\", \" machine\", \" translation\", \",\", \" reading\", \" comprehension\", \",\", \" and\", \" summar\", \"ization\", \",\", \" are\", \" typically\", \" approached\", \" with\", \" supervised\", \" learning\", \" on\", \" tasks\", \"pe\", \"cific\", \" datasets\", \".\"], \"attention\": [[[1.0, 0.0, 0.0, 0.0, 0.0, 0.0, 0.0, 0.0, 0.0, 0.0, 0.0, 0.0, 0.0, 0.0, 0.0, 0.0, 0.0, 0.0, 0.0, 0.0, 0.0, 0.0, 0.0, 0.0, 0.0, 0.0, 0.0, 0.0, 0.0, 0.0, 0.0, 0.0, 0.0], [0.9639418721199036, 0.03605814278125763, 0.0, 0.0, 0.0, 0.0, 0.0, 0.0, 0.0, 0.0, 0.0, 0.0, 0.0, 0.0, 0.0, 0.0, 0.0, 0.0, 0.0, 0.0, 0.0, 0.0, 0.0, 0.0, 0.0, 0.0, 0.0, 0.0, 0.0, 0.0, 0.0, 0.0, 0.0], [0.8389372825622559, 0.1182878240942955, 0.042774852365255356, 0.0, 0.0, 0.0, 0.0, 0.0, 0.0, 0.0, 0.0, 0.0, 0.0, 0.0, 0.0, 0.0, 0.0, 0.0, 0.0, 0.0, 0.0, 0.0, 0.0, 0.0, 0.0, 0.0, 0.0, 0.0, 0.0, 0.0, 0.0, 0.0, 0.0], [0.47436124086380005, 0.13382022082805634, 0.27371737360954285, 0.11810111999511719, 0.0, 0.0, 0.0, 0.0, 0.0, 0.0, 0.0, 0.0, 0.0, 0.0, 0.0, 0.0, 0.0, 0.0, 0.0, 0.0, 0.0, 0.0, 0.0, 0.0, 0.0, 0.0, 0.0, 0.0, 0.0, 0.0, 0.0, 0.0, 0.0], [0.3560643196105957, 0.10184915363788605, 0.23054225742816925, 0.20397399365901947, 0.10757029801607132, 0.0, 0.0, 0.0, 0.0, 0.0, 0.0, 0.0, 0.0, 0.0, 0.0, 0.0, 0.0, 0.0, 0.0, 0.0, 0.0, 0.0, 0.0, 0.0, 0.0, 0.0, 0.0, 0.0, 0.0, 0.0, 0.0, 0.0, 0.0], [0.6660142540931702, 0.1686638593673706, 0.045356761664152145, 0.03885500878095627, 0.06775480508804321, 0.013355250470340252, 0.0, 0.0, 0.0, 0.0, 0.0, 0.0, 0.0, 0.0, 0.0, 0.0, 0.0, 0.0, 0.0, 0.0, 0.0, 0.0, 0.0, 0.0, 0.0, 0.0, 0.0, 0.0, 0.0, 0.0, 0.0, 0.0, 0.0], [0.38626962900161743, 0.2851092517375946, 0.07609007507562637, 0.059083808213472366, 0.07223352044820786, 0.03979633376002312, 0.08141742646694183, 0.0, 0.0, 0.0, 0.0, 0.0, 0.0, 0.0, 0.0, 0.0, 0.0, 0.0, 0.0, 0.0, 0.0, 0.0, 0.0, 0.0, 0.0, 0.0, 0.0, 0.0, 0.0, 0.0, 0.0, 0.0, 0.0], [0.3775395452976227, 0.1883881688117981, 0.11723989248275757, 0.0868559330701828, 0.06669178605079651, 0.035000164061784744, 0.09693007916212082, 0.03135443478822708, 0.0, 0.0, 0.0, 0.0, 0.0, 0.0, 0.0, 0.0, 0.0, 0.0, 0.0, 0.0, 0.0, 0.0, 0.0, 0.0, 0.0, 0.0, 0.0, 0.0, 0.0, 0.0, 0.0, 0.0, 0.0], [0.4869752824306488, 0.06781316548585892, 0.07952877879142761, 0.08480790257453918, 0.1590261310338974, 0.029577823355793953, 0.02568591758608818, 0.016474608331918716, 0.05011039599776268, 0.0, 0.0, 0.0, 0.0, 0.0, 0.0, 0.0, 0.0, 0.0, 0.0, 0.0, 0.0, 0.0, 0.0, 0.0, 0.0, 0.0, 0.0, 0.0, 0.0, 0.0, 0.0, 0.0, 0.0], [0.29065507650375366, 0.0401349812746048, 0.14614854753017426, 0.09940598160028458, 0.1538918912410736, 0.03900160640478134, 0.024988969787955284, 0.031841300427913666, 0.10222819447517395, 0.07170343399047852, 0.0, 0.0, 0.0, 0.0, 0.0, 0.0, 0.0, 0.0, 0.0, 0.0, 0.0, 0.0, 0.0, 0.0, 0.0, 0.0, 0.0, 0.0, 0.0, 0.0, 0.0, 0.0, 0.0], [0.3962409794330597, 0.09694177657365799, 0.027270667254924774, 0.023551354184746742, 0.03723450005054474, 0.006502408534288406, 0.08118753135204315, 0.013088468462228775, 0.06990594416856766, 0.24043090641498566, 0.007645335979759693, 0.0, 0.0, 0.0, 0.0, 0.0, 0.0, 0.0, 0.0, 0.0, 0.0, 0.0, 0.0, 0.0, 0.0, 0.0, 0.0, 0.0, 0.0, 0.0, 0.0, 0.0, 0.0], [0.24864791333675385, 0.1380206197500229, 0.09235323220491409, 0.08676121383905411, 0.1381969302892685, 0.05914197862148285, 0.032238587737083435, 0.031582415103912354, 0.03048943728208542, 0.03873484209179878, 0.06671836972236633, 0.03711448237299919, 0.0, 0.0, 0.0, 0.0, 0.0, 0.0, 0.0, 0.0, 0.0, 0.0, 0.0, 0.0, 0.0, 0.0, 0.0, 0.0, 0.0, 0.0, 0.0, 0.0, 0.0], [0.19148439168930054, 0.16172592341899872, 0.07445937395095825, 0.07740946114063263, 0.021961111575365067, 0.03392127528786659, 0.05125019699335098, 0.01951923780143261, 0.03132447972893715, 0.04020152613520622, 0.038742683827877045, 0.2157885730266571, 0.04221165552735329, 0.0, 0.0, 0.0, 0.0, 0.0, 0.0, 0.0, 0.0, 0.0, 0.0, 0.0, 0.0, 0.0, 0.0, 0.0, 0.0, 0.0, 0.0, 0.0, 0.0], [0.37043172121047974, 0.08681418001651764, 0.02458467334508896, 0.021616322919726372, 0.03238871321082115, 0.0054227388463914394, 0.0727522149682045, 0.011272797361016273, 0.06329693645238876, 0.21726813912391663, 0.006367162335664034, 0.02960381656885147, 0.05099844932556152, 0.0071820602752268314, 0.0, 0.0, 0.0, 0.0, 0.0, 0.0, 0.0, 0.0, 0.0, 0.0, 0.0, 0.0, 0.0, 0.0, 0.0, 0.0, 0.0, 0.0, 0.0], [0.19737647473812103, 0.04603997990489006, 0.0439998097717762, 0.13373452425003052, 0.054248206317424774, 0.025475721806287766, 0.027563495561480522, 0.02157093957066536, 0.05171824246644974, 0.06458097696304321, 0.028064636513590813, 0.2355159968137741, 0.01912979781627655, 0.029963521286845207, 0.021017692983150482, 0.0, 0.0, 0.0, 0.0, 0.0, 0.0, 0.0, 0.0, 0.0, 0.0, 0.0, 0.0, 0.0, 0.0, 0.0, 0.0, 0.0, 0.0], [0.08907236158847809, 0.01928834617137909, 0.16653534770011902, 0.07281260937452316, 0.04738643020391464, 0.024487899616360664, 0.02898734249174595, 0.019370367750525475, 0.026673035696148872, 0.0731663852930069, 0.025704579427838326, 0.04242357984185219, 0.05869461968541145, 0.028932703658938408, 0.18119068443775177, 0.0952736958861351, 0.0, 0.0, 0.0, 0.0, 0.0, 0.0, 0.0, 0.0, 0.0, 0.0, 0.0, 0.0, 0.0, 0.0, 0.0, 0.0, 0.0], [0.28167298436164856, 0.06441289931535721, 0.018008548766374588, 0.01616962067782879, 0.023183900862932205, 0.003753294236958027, 0.054722487926483154, 0.007909764535725117, 0.04616471379995346, 0.16947264969348907, 0.004361642058938742, 0.0210113525390625, 0.03549071401357651, 0.004932569805532694, 0.0955522283911705, 0.14726334810256958, 0.005917445756494999, 0.0, 0.0, 0.0, 0.0, 0.0, 0.0, 0.0, 0.0, 0.0, 0.0, 0.0, 0.0, 0.0, 0.0, 0.0, 0.0], [0.2130548357963562, 0.059123694896698, 0.033820874989032745, 0.027476871386170387, 0.028393536806106567, 0.008422903716564178, 0.040085311979055405, 0.011629276908934116, 0.05295189842581749, 0.154046431183815, 0.00983181968331337, 0.03610193356871605, 0.04737287759780884, 0.011069191619753838, 0.09972472488880157, 0.13971354067325592, 0.013185336254537106, 0.01399495080113411, 0.0, 0.0, 0.0, 0.0, 0.0, 0.0, 0.0, 0.0, 0.0, 0.0, 0.0, 0.0, 0.0, 0.0, 0.0], [0.15871694684028625, 0.04387890174984932, 0.08712150156497955, 0.08998466283082962, 0.030738577246665955, 0.034148938953876495, 0.02491724118590355, 0.03139194846153259, 0.0248238705098629, 0.01979033090174198, 0.036254845559597015, 0.020694417878985405, 0.04284067824482918, 0.038208991289138794, 0.06234658136963844, 0.10919703543186188, 0.0413760170340538, 0.04916759952902794, 0.05440092086791992, 0.0, 0.0, 0.0, 0.0, 0.0, 0.0, 0.0, 0.0, 0.0, 0.0, 0.0, 0.0, 0.0, 0.0], [0.10485511273145676, 0.12122291326522827, 0.0648748129606247, 0.0876871794462204, 0.03434053435921669, 0.017483944073319435, 0.03415180742740631, 0.01528915110975504, 0.023312130942940712, 0.02830648608505726, 0.01872047409415245, 0.028111929073929787, 0.04190532863140106, 0.02098955772817135, 0.046785082668066025, 0.08659635484218597, 0.02363184653222561, 0.024273177608847618, 0.16702404618263245, 0.010438218712806702, 0.0, 0.0, 0.0, 0.0, 0.0, 0.0, 0.0, 0.0, 0.0, 0.0, 0.0, 0.0, 0.0], [0.22901976108551025, 0.05184381082653999, 0.013585194945335388, 0.01233725156635046, 0.018005432561039925, 0.002770362189039588, 0.04238129407167435, 0.005856258329004049, 0.036144886165857315, 0.13039220869541168, 0.00315342890098691, 0.015672577545046806, 0.02780039794743061, 0.0035543262492865324, 0.07460816949605942, 0.11298283189535141, 0.004272273276001215, 0.0068322052247822285, 0.18569742143154144, 0.018073629587888718, 0.005016356240957975, 0.0, 0.0, 0.0, 0.0, 0.0, 0.0, 0.0, 0.0, 0.0, 0.0, 0.0, 0.0], [0.18869924545288086, 0.034387119114398956, 0.02234475128352642, 0.019972743466496468, 0.016354037448763847, 0.006856545340269804, 0.020859049633145332, 0.005696005187928677, 0.034159161150455475, 0.07260986417531967, 0.007857208140194416, 0.0180402472615242, 0.026904473081231117, 0.009020394645631313, 0.06876446306705475, 0.17578735947608948, 0.010720070451498032, 0.00928453542292118, 0.1925639659166336, 0.02518032118678093, 0.012639068067073822, 0.021299347281455994, 0.0, 0.0, 0.0, 0.0, 0.0, 0.0, 0.0, 0.0, 0.0, 0.0, 0.0], [0.1195831149816513, 0.022259406745433807, 0.032947152853012085, 0.020170263946056366, 0.03565331920981407, 0.013459903188049793, 0.017516475170850754, 0.010057870298624039, 0.025856448337435722, 0.05955956503748894, 0.015084507875144482, 0.015008731745183468, 0.053174667060375214, 0.016597604379057884, 0.041555289179086685, 0.13129332661628723, 0.019296668469905853, 0.01585504785180092, 0.17925088107585907, 0.016183819621801376, 0.022295530885457993, 0.015463407151401043, 0.10187707096338272, 0.0, 0.0, 0.0, 0.0, 0.0, 0.0, 0.0, 0.0, 0.0, 0.0], [0.14615534245967865, 0.02672751061618328, 0.01662454940378666, 0.018987692892551422, 0.06278638541698456, 0.015317173674702644, 0.01979224383831024, 0.014227774925529957, 0.025458162650465965, 0.04530351236462593, 0.01636434905230999, 0.037493057548999786, 0.013288663700222969, 0.01749654859304428, 0.0399458222091198, 0.05881752446293831, 0.019260985776782036, 0.024616047739982605, 0.03821967542171478, 0.02157779596745968, 0.020949900150299072, 0.07973217219114304, 0.05017608031630516, 0.17068108916282654, 0.0, 0.0, 0.0, 0.0, 0.0, 0.0, 0.0, 0.0, 0.0], [0.11321669071912766, 0.03674636408686638, 0.011786578223109245, 0.010274861007928848, 0.020370658487081528, 0.00524388300254941, 0.015918835997581482, 0.005266785155981779, 0.024891745299100876, 0.06593260914087296, 0.005933654960244894, 0.018209027126431465, 0.021020203828811646, 0.006667499430477619, 0.034828800708055496, 0.13742123544216156, 0.007927054539322853, 0.008618669584393501, 0.1137719377875328, 0.013557425700128078, 0.0092778280377388, 0.026121364906430244, 0.08499341458082199, 0.19073913991451263, 0.011263743042945862, 0.0, 0.0, 0.0, 0.0, 0.0, 0.0, 0.0, 0.0], [0.1333770900964737, 0.02621661312878132, 0.038271524012088776, 0.0715256854891777, 0.053177691996097565, 0.013925841078162193, 0.0070841871201992035, 0.013450143858790398, 0.009841452352702618, 0.011789785698056221, 0.013537583872675896, 0.03815499693155289, 0.041933052241802216, 0.013882276602089405, 0.03707147017121315, 0.13838455080986023, 0.014846324920654297, 0.03156951814889908, 0.05598175525665283, 0.015536673367023468, 0.01595636084675789, 0.04545554891228676, 0.016699669882655144, 0.025325773283839226, 0.0367189384996891, 0.08028542995452881, 0.0, 0.0, 0.0, 0.0, 0.0, 0.0, 0.0], [0.1060897558927536, 0.019107729196548462, 0.024468645453453064, 0.027496378868818283, 0.016365814954042435, 0.005011423025280237, 0.010413102805614471, 0.006081143859773874, 0.005301063880324364, 0.011143164709210396, 0.004565385635942221, 0.01896991766989231, 0.004321119748055935, 0.004814977757632732, 0.02940940670669079, 0.028682025149464607, 0.005097254179418087, 0.007234354503452778, 0.03412593901157379, 0.010370594449341297, 0.0056432681158185005, 0.007283584680408239, 0.029389571398496628, 0.01003879215568304, 0.00913451611995697, 0.5466631650924683, 0.012777912430465221, 0.0, 0.0, 0.0, 0.0, 0.0, 0.0], [0.10467308014631271, 0.03321940451860428, 0.015341237187385559, 0.009373541921377182, 0.026595458388328552, 0.005787800997495651, 0.013571344316005707, 0.004554887767881155, 0.02805890329182148, 0.02610723488032818, 0.006353443488478661, 0.013315827585756779, 0.026628248393535614, 0.006888873875141144, 0.06204749271273613, 0.058907054364681244, 0.008068051189184189, 0.007557096425443888, 0.08522789925336838, 0.017075739800930023, 0.009256887249648571, 0.019695749506354332, 0.1261780560016632, 0.13061514496803284, 0.011351032182574272, 0.08984378725290298, 0.046381521970033646, 0.007325290702283382, 0.0, 0.0, 0.0, 0.0, 0.0], [0.08561893552541733, 0.02143893577158451, 0.056412581354379654, 0.057066600769758224, 0.01980220153927803, 0.006727499421685934, 0.0058091566897928715, 0.004516263492405415, 0.0031647488940507174, 0.01761520281434059, 0.00617460161447525, 0.08767977356910706, 0.012299856171011925, 0.006350454408675432, 0.017522133886814117, 0.14295217394828796, 0.006585485301911831, 0.007875688374042511, 0.03007892332971096, 0.013907486572861671, 0.0073766945861279964, 0.007684790063649416, 0.022160828113555908, 0.012385028414428234, 0.011890068650245667, 0.08669780939817429, 0.19902531802654266, 0.013594482094049454, 0.029586229473352432, 0.0, 0.0, 0.0, 0.0], [0.1406458616256714, 0.01329869870096445, 0.015702959150075912, 0.017357874661684036, 0.022331509739160538, 0.029672272503376007, 0.04172082245349884, 0.018995432183146477, 0.03827713057398796, 0.048635613173246384, 0.030946902930736542, 0.016023900359869003, 0.020880896598100662, 0.032438233494758606, 0.0305581446737051, 0.02280835062265396, 0.035377588123083115, 0.03145159035921097, 0.034971144050359726, 0.018679114058613777, 0.03821910172700882, 0.022578870877623558, 0.06819558888673782, 0.04214096814393997, 0.028620852157473564, 0.037750039249658585, 0.0185780581086874, 0.03376872092485428, 0.03641697019338608, 0.012956841848790646, 0.0, 0.0, 0.0], [0.07168618589639664, 0.06924440711736679, 0.019306890666484833, 0.014161991886794567, 0.01682319864630699, 0.01938060112297535, 0.019257424399256706, 0.02200368605554104, 0.013706530444324017, 0.03578377887606621, 0.018465165048837662, 0.052071671932935715, 0.0200851671397686, 0.019862132146954536, 0.020662106573581696, 0.047251585870981216, 0.02107674442231655, 0.036787260323762894, 0.024324078112840652, 0.0038275483530014753, 0.02392067387700081, 0.00853323470801115, 0.026241621002554893, 0.027380075305700302, 0.03461200371384621, 0.022884180769324303, 0.10047895461320877, 0.06913501769304276, 0.025474578142166138, 0.06495603919029236, 0.030615348368883133, 0.0, 0.0], [0.06910780072212219, 0.037012264132499695, 0.038621142506599426, 0.05933321639895439, 0.015923552215099335, 0.007918555289506912, 0.010371049866080284, 0.006615667603909969, 0.0025200785603374243, 0.026019388809800148, 0.007905222475528717, 0.029652036726474762, 0.04000624269247055, 0.008451337926089764, 0.0107411565259099, 0.050275612622499466, 0.009428863413631916, 0.013601033017039299, 0.050369229167699814, 0.031767114996910095, 0.010793029330670834, 0.0072168041951954365, 0.006478432100266218, 0.014800596982240677, 0.021585971117019653, 0.15769490599632263, 0.0888475775718689, 0.01901692897081375, 0.02972932904958725, 0.03316134214401245, 0.050883643329143524, 0.0341508574783802, 0.0], [0.14375510811805725, 0.01681104302406311, 0.009386666119098663, 0.006830309517681599, 0.011656849645078182, 0.0015672267181798816, 0.019711479544639587, 0.0023980385158210993, 0.021235888823866844, 0.046836793422698975, 0.0016905133379623294, 0.005827190820127726, 0.011979992501437664, 0.001825137180276215, 0.04231332615017891, 0.054913733154535294, 0.002178652910515666, 0.002417012583464384, 0.09604071080684662, 0.005752873606979847, 0.0025577894411981106, 0.0071212295442819595, 0.08889926224946976, 0.10852087289094925, 0.005179053638130426, 0.03657734766602516, 0.024719931185245514, 0.0037347637116909027, 0.031077075749635696, 0.016887929290533066, 0.09450860321521759, 0.07171524316072464, 0.0033723197411745787]], [[1.0, 0.0, 0.0, 0.0, 0.0, 0.0, 0.0, 0.0, 0.0, 0.0, 0.0, 0.0, 0.0, 0.0, 0.0, 0.0, 0.0, 0.0, 0.0, 0.0, 0.0, 0.0, 0.0, 0.0, 0.0, 0.0, 0.0, 0.0, 0.0, 0.0, 0.0, 0.0, 0.0], [0.0004246651369612664, 0.9995753169059753, 0.0, 0.0, 0.0, 0.0, 0.0, 0.0, 0.0, 0.0, 0.0, 0.0, 0.0, 0.0, 0.0, 0.0, 0.0, 0.0, 0.0, 0.0, 0.0, 0.0, 0.0, 0.0, 0.0, 0.0, 0.0, 0.0, 0.0, 0.0, 0.0, 0.0, 0.0], [0.0005621903110295534, 0.01640726439654827, 0.9830306172370911, 0.0, 0.0, 0.0, 0.0, 0.0, 0.0, 0.0, 0.0, 0.0, 0.0, 0.0, 0.0, 0.0, 0.0, 0.0, 0.0, 0.0, 0.0, 0.0, 0.0, 0.0, 0.0, 0.0, 0.0, 0.0, 0.0, 0.0, 0.0, 0.0, 0.0], [0.0011627573985606432, 0.0216820128262043, 0.003762045642361045, 0.9733932018280029, 0.0, 0.0, 0.0, 0.0, 0.0, 0.0, 0.0, 0.0, 0.0, 0.0, 0.0, 0.0, 0.0, 0.0, 0.0, 0.0, 0.0, 0.0, 0.0, 0.0, 0.0, 0.0, 0.0, 0.0, 0.0, 0.0, 0.0, 0.0, 0.0], [3.724443740793504e-05, 0.00017202318122144789, 0.0002814398321788758, 0.00274214637465775, 0.9967671632766724, 0.0, 0.0, 0.0, 0.0, 0.0, 0.0, 0.0, 0.0, 0.0, 0.0, 0.0, 0.0, 0.0, 0.0, 0.0, 0.0, 0.0, 0.0, 0.0, 0.0, 0.0, 0.0, 0.0, 0.0, 0.0, 0.0, 0.0, 0.0], [0.008268442004919052, 0.00023985578445717692, 7.361903408309445e-05, 6.437727279262617e-05, 0.00017566324095241725, 0.9911779761314392, 0.0, 0.0, 0.0, 0.0, 0.0, 0.0, 0.0, 0.0, 0.0, 0.0, 0.0, 0.0, 0.0, 0.0, 0.0, 0.0, 0.0, 0.0, 0.0, 0.0, 0.0, 0.0, 0.0, 0.0, 0.0, 0.0, 0.0], [0.0012215040624141693, 0.005400451831519604, 0.0016716319369152188, 0.00040775633533485234, 0.0006163658108562231, 0.0010931185679510236, 0.9895892143249512, 0.0, 0.0, 0.0, 0.0, 0.0, 0.0, 0.0, 0.0, 0.0, 0.0, 0.0, 0.0, 0.0, 0.0, 0.0, 0.0, 0.0, 0.0, 0.0, 0.0, 0.0, 0.0, 0.0, 0.0, 0.0, 0.0], [0.001245975960046053, 0.000912121613509953, 0.0005976713728159666, 0.00013656872033607215, 0.0003304101701360196, 0.0015722765820100904, 0.003880807664245367, 0.9913241863250732, 0.0, 0.0, 0.0, 0.0, 0.0, 0.0, 0.0, 0.0, 0.0, 0.0, 0.0, 0.0, 0.0, 0.0, 0.0, 0.0, 0.0, 0.0, 0.0, 0.0, 0.0, 0.0, 0.0, 0.0, 0.0], [0.00028217487852089107, 0.004068182315677404, 0.0026605194434523582, 0.0013093105517327785, 0.008030479773879051, 0.0002879090898204595, 0.00022922919015400112, 0.0003948427038267255, 0.9827372431755066, 0.0, 0.0, 0.0, 0.0, 0.0, 0.0, 0.0, 0.0, 0.0, 0.0, 0.0, 0.0, 0.0, 0.0, 0.0, 0.0, 0.0, 0.0, 0.0, 0.0, 0.0, 0.0, 0.0, 0.0], [3.4739336115308106e-05, 0.00039538461714982986, 0.00013272724754642695, 0.00025852289400063455, 0.001085558789782226, 9.198045154334977e-05, 0.0003267078718636185, 0.0005427455180324614, 0.006105931010097265, 0.9910257458686829, 0.0, 0.0, 0.0, 0.0, 0.0, 0.0, 0.0, 0.0, 0.0, 0.0, 0.0, 0.0, 0.0, 0.0, 0.0, 0.0, 0.0, 0.0, 0.0, 0.0, 0.0, 0.0, 0.0], [0.003378510009497404, 5.0908805860672146e-05, 1.645207521505654e-05, 1.6926180251175538e-05, 4.1814146243268624e-05, 0.493940532207489, 0.00012981274630874395, 0.0008837340865284204, 3.221199949621223e-05, 2.7252091967966408e-05, 0.501481831073761, 0.0, 0.0, 0.0, 0.0, 0.0, 0.0, 0.0, 0.0, 0.0, 0.0, 0.0, 0.0, 0.0, 0.0, 0.0, 0.0, 0.0, 0.0, 0.0, 0.0, 0.0, 0.0], [8.416055788984522e-05, 0.0013417241862043738, 0.0012613608269020915, 0.0021450743079185486, 0.004042362328618765, 0.0004830540856346488, 0.0001158266604761593, 0.00015203609655145556, 2.6925305064651184e-05, 0.00012675137259066105, 0.000312899355776608, 0.9899077415466309, 0.0, 0.0, 0.0, 0.0, 0.0, 0.0, 0.0, 0.0, 0.0, 0.0, 0.0, 0.0, 0.0, 0.0, 0.0, 0.0, 0.0, 0.0, 0.0, 0.0, 0.0], [0.00037822299054823816, 0.000983756617642939, 0.039341241121292114, 0.002732246881350875, 0.0036680209450423717, 0.00011039179662475362, 0.00012931032688356936, 0.00021743499382864684, 0.00010623283742461354, 0.0007748189964331686, 6.647672125836834e-05, 0.0003148665127810091, 0.9511768817901611, 0.0, 0.0, 0.0, 0.0, 0.0, 0.0, 0.0, 0.0, 0.0, 0.0, 0.0, 0.0, 0.0, 0.0, 0.0, 0.0, 0.0, 0.0, 0.0, 0.0], [0.002101719845086336, 2.443686025799252e-05, 7.788777111272793e-06, 8.651618372823577e-06, 2.0140050764894113e-05, 0.29971376061439514, 7.525253022322431e-05, 0.0004898309707641602, 1.845947736001108e-05, 1.5344554412877187e-05, 0.3283386528491974, 4.175802678219043e-05, 6.4691917032178026e-06, 0.3691376745700836, 0.0, 0.0, 0.0, 0.0, 0.0, 0.0, 0.0, 0.0, 0.0, 0.0, 0.0, 0.0, 0.0, 0.0, 0.0, 0.0, 0.0, 0.0, 0.0], [0.00014968313917052, 0.00011296597222099081, 0.000362948514521122, 0.0001859118783613667, 0.00016460876213386655, 4.1432256693951786e-05, 2.8764718081220053e-05, 7.786935748299584e-05, 0.0009200984495691955, 0.010340185835957527, 2.7572366889216937e-05, 1.783320476533845e-05, 0.00033054465893656015, 2.4375704015255906e-05, 0.9872152805328369, 0.0, 0.0, 0.0, 0.0, 0.0, 0.0, 0.0, 0.0, 0.0, 0.0, 0.0, 0.0, 0.0, 0.0, 0.0, 0.0, 0.0, 0.0], [0.00010753796232165769, 0.002178182825446129, 0.002042605308815837, 0.004251916892826557, 0.006989872083067894, 2.511867569410242e-05, 0.0007779006846249104, 0.0005783524829894304, 0.0029378319159150124, 0.03322529420256615, 1.719921601761598e-05, 0.0008936444064602256, 0.0015238532796502113, 1.4656750863650814e-05, 0.006222618278115988, 0.9382133483886719, 0.0, 0.0, 0.0, 0.0, 0.0, 0.0, 0.0, 0.0, 0.0, 0.0, 0.0, 0.0, 0.0, 0.0, 0.0, 0.0, 0.0], [0.0013634881470352411, 1.3226039300207049e-05, 4.013936177216237e-06, 4.803058345714817e-06, 1.0257444955641404e-05, 0.19665950536727905, 4.5272561692399904e-05, 0.0002776260080281645, 1.17144372779876e-05, 9.473314094066154e-06, 0.22919581830501556, 2.643065818119794e-05, 4.101845206605503e-06, 0.26576104760169983, 8.515357876603957e-06, 4.536018423095811e-06, 0.3066001534461975, 0.0, 0.0, 0.0, 0.0, 0.0, 0.0, 0.0, 0.0, 0.0, 0.0, 0.0, 0.0, 0.0, 0.0, 0.0, 0.0], [0.0008924755384214222, 0.00013490796845871955, 4.779840674018487e-05, 5.803708336316049e-05, 0.00010480154014658183, 0.012799108400940895, 0.0007168236770667136, 0.03257950767874718, 2.6449932192917913e-05, 0.00011185053881490603, 0.011884260922670364, 4.010270276921801e-05, 5.5553988204337656e-05, 0.01237786840647459, 0.00010783460311358795, 5.404360490501858e-05, 0.013122137635946274, 0.9148864150047302, 0.0, 0.0, 0.0, 0.0, 0.0, 0.0, 0.0, 0.0, 0.0, 0.0, 0.0, 0.0, 0.0, 0.0, 0.0], [5.075314675195841e-06, 4.396143413032405e-05, 3.3985117624979466e-05, 7.940302020870149e-05, 5.4779120546299964e-05, 7.921551627987355e-07, 9.313342161476612e-06, 7.727094271103851e-06, 8.597270789323375e-05, 0.00012274067557882518, 5.141494625604537e-07, 1.7027954299919656e-06, 3.8341830077115446e-05, 4.450975836789439e-07, 0.00013928250700701028, 0.0003275807248428464, 3.9948051266947004e-07, 3.948138328269124e-06, 0.9990440011024475, 0.0, 0.0, 0.0, 0.0, 0.0, 0.0, 0.0, 0.0, 0.0, 0.0, 0.0, 0.0, 0.0, 0.0], [9.346216393169016e-05, 0.0018395755905658007, 0.002523318398743868, 0.01808730512857437, 0.0029363830108195543, 0.0002733588626142591, 4.872983481618576e-05, 0.0004212784406263381, 0.0001562439138069749, 0.0009748375159688294, 0.00020533663337118924, 0.001022886368446052, 0.0019548090640455484, 0.00019470420375000685, 0.0011294226860627532, 0.0016656150110065937, 0.00018734094919636846, 0.0009503471083007753, 0.0004455189628060907, 0.9648895859718323, 0.0, 0.0, 0.0, 0.0, 0.0, 0.0, 0.0, 0.0, 0.0, 0.0, 0.0, 0.0, 0.0], [0.0010859699686989188, 8.512331987731159e-06, 2.5307328996859724e-06, 3.062522864638595e-06, 5.9751278058683965e-06, 0.13292624056339264, 3.345322693348862e-05, 0.00018891262880060822, 8.477763003611472e-06, 6.540420145029202e-06, 0.16445893049240112, 1.813005110307131e-05, 3.062745008719503e-06, 0.19719167053699493, 6.429840141208842e-06, 3.444735511948238e-06, 0.2331714779138565, 0.0022796255070716143, 3.7134323065401986e-06, 3.5288056096760556e-05, 0.268558531999588, 0.0, 0.0, 0.0, 0.0, 0.0, 0.0, 0.0, 0.0, 0.0, 0.0, 0.0, 0.0], [0.00041979493107646704, 0.00011805004032794386, 0.00014240489690564573, 3.7967849493725225e-05, 0.00019043164502363652, 0.001765121123753488, 0.0005709825782105327, 0.0005008854204788804, 8.840746886562556e-05, 0.00014208679203875363, 0.0016639820532873273, 3.3481082937214524e-05, 2.4413961000391282e-05, 0.0017546489834785461, 6.520306487800553e-05, 2.4142627808032557e-05, 0.001829915214329958, 0.0015691019361838698, 3.974873834522441e-05, 0.00015712386812083423, 0.0018554468406364322, 0.987006664276123, 0.0, 0.0, 0.0, 0.0, 0.0, 0.0, 0.0, 0.0, 0.0, 0.0, 0.0], [7.501784421037883e-05, 0.0014379840577021241, 6.345151632558554e-05, 0.00010864839714486152, 0.00015633167640771717, 3.210126124031376e-06, 0.0022032777778804302, 0.0002207657671533525, 5.2403069275896996e-05, 4.88158839289099e-05, 2.264461500089965e-06, 1.5327248547691852e-05, 4.157144758210052e-06, 2.0228408175171353e-06, 6.2968028942123055e-06, 4.8486737796338275e-05, 1.992900934055797e-06, 3.247004497097805e-05, 0.0012695133918896317, 1.96326454897644e-05, 1.8090950106852688e-06, 0.000581029336899519, 0.9936450719833374, 0.0, 0.0, 0.0, 0.0, 0.0, 0.0, 0.0, 0.0, 0.0, 0.0], [7.450151315424591e-05, 0.0006139386096037924, 0.0009361195843666792, 0.0008487807353958488, 0.002850632881745696, 1.0365041816839948e-05, 0.0002161427546525374, 0.00017397530609741807, 0.0020508375018835068, 0.005805305205285549, 8.05523814051412e-06, 8.086584421107545e-05, 0.000770243932493031, 7.28818440620671e-06, 0.0010576159693300724, 0.0022755973041057587, 6.6632615016715135e-06, 0.00011621028534136713, 0.0005972451181150973, 8.736296877032146e-05, 6.332331849989714e-06, 6.096452852943912e-05, 6.090577517170459e-05, 0.9812840819358826, 0.0, 0.0, 0.0, 0.0, 0.0, 0.0, 0.0, 0.0, 0.0], [0.0005848737782798707, 0.0001590918836882338, 1.0836471119546331e-05, 7.365470082731918e-05, 0.00011349524720571935, 0.0008256652508862317, 0.00031910985126160085, 0.018529964610934258, 1.0226590347883757e-05, 4.9587179091759026e-05, 0.000771641090977937, 4.4548200094141066e-05, 9.86501618172042e-06, 0.0008067172020673752, 2.2673864805256017e-05, 1.2464129213185515e-05, 0.000844910042360425, 0.008790099062025547, 3.579237818485126e-05, 3.662859307951294e-05, 0.0008917524828575552, 0.001079176552593708, 0.0003708464791998267, 0.00010837137961061671, 0.9654980301856995, 0.0, 0.0, 0.0, 0.0, 0.0, 0.0, 0.0, 0.0], [1.6459925973322242e-05, 0.00017152438522316515, 3.2083211408462375e-05, 0.00010234182263957337, 0.0026318745221942663, 9.886184670904186e-06, 3.250852023484185e-05, 3.7417539715534076e-05, 0.00012631528079509735, 4.991215973859653e-05, 8.302548849314917e-06, 8.44342284835875e-05, 3.127968739136122e-05, 7.633370842086151e-06, 1.0101362931891344e-05, 5.6673809012863785e-05, 7.442136393365217e-06, 2.7689680791809224e-05, 1.841835728555452e-05, 2.8794345325877657e-06, 6.840427886345424e-06, 4.279879249224905e-06, 0.00043176612234674394, 0.00017617484263610095, 8.995591633720323e-05, 0.9958257675170898, 0.0, 0.0, 0.0, 0.0, 0.0, 0.0, 0.0], [2.6368044927949086e-05, 0.00018008706683758646, 0.0001808294910006225, 0.0003046471974812448, 0.000393909023841843, 4.674839510698803e-05, 2.7231690182816237e-05, 4.8734902520664036e-05, 0.0002913166244979948, 0.0004206172307021916, 3.804639709414914e-05, 0.00025245160213671625, 5.606737613561563e-05, 3.8203681469894946e-05, 0.0015365113504230976, 0.0012537244474515319, 3.593424480641261e-05, 2.3036614948068745e-05, 0.00018036257824860513, 0.00012266088742762804, 3.51778362528421e-05, 6.924677290953696e-05, 0.00011267293302807957, 0.000850738026201725, 0.000143618875881657, 0.00023527955636382103, 0.9930956959724426, 0.0, 0.0, 0.0, 0.0, 0.0, 0.0], [0.0007048251572996378, 5.6753891840344295e-05, 3.351289251440903e-06, 7.472657671314664e-06, 1.785946005838923e-05, 0.0008156527765095234, 4.9529528041603044e-05, 0.0013530971482396126, 3.741763430298306e-05, 0.00014378006744664162, 0.000763933639973402, 9.991685146815144e-06, 2.884435843952815e-06, 0.0007552225724793971, 0.00010159601515624672, 3.120541123280418e-06, 0.0008060952532105148, 0.0011406762059777975, 1.4343117982207332e-05, 9.910167136695236e-06, 0.0008649186929687858, 8.663273911224678e-05, 3.4695473004831e-05, 0.0001026583049679175, 0.007663471158593893, 4.1878953197738156e-05, 3.4908698580693454e-06, 0.9844048619270325, 0.0, 0.0, 0.0, 0.0, 0.0], [2.0288327505113557e-05, 2.9542719858000055e-05, 5.037501978222281e-05, 0.0009778327075764537, 0.3728255331516266, 6.661304723820649e-06, 1.573365443618968e-05, 3.9812464819988236e-05, 0.00022353226086124778, 0.00012674331082962453, 5.118443823448615e-06, 0.0002411614841548726, 1.2973835509910714e-05, 4.8006900215114e-06, 2.332163421669975e-05, 7.723532326053828e-05, 4.593436187860789e-06, 1.9647141016321257e-05, 0.00021129970264155418, 1.1453507795522455e-05, 4.38048436990357e-06, 1.4442680367210414e-05, 3.67674911103677e-05, 0.00011845329572679475, 3.797718454734422e-05, 0.0007802760228514671, 0.0004048360278829932, 1.0429552276036702e-05, 0.6236647963523865, 0.0, 0.0, 0.0, 0.0], [2.0582907382049598e-05, 8.831234299577773e-05, 0.00020454861805774271, 0.0003018892602995038, 8.223887562053278e-05, 1.970439734577667e-05, 0.0001408509851898998, 2.8963144359295256e-05, 7.669377737329341e-06, 3.724613270605914e-05, 1.673677070357371e-05, 6.404696614481509e-05, 0.0006910577649250627, 1.6027554011088796e-05, 0.00015603650535922498, 0.00014825898688286543, 1.5700054063927382e-05, 9.155381849268451e-05, 8.525074372300878e-05, 4.904512934444938e-06, 1.5784382412675768e-05, 5.293107096804306e-05, 0.0005298349424265325, 0.0005658389418385923, 6.167324318084866e-05, 6.729490996804088e-05, 0.0003077442815992981, 1.0369139090471435e-05, 6.799335824325681e-05, 0.9960988759994507, 0.0, 0.0, 0.0], [1.3371330169320572e-05, 0.0009821534622460604, 0.00041548124863766134, 0.00011442336108302698, 0.0003873074892908335, 5.660859187628375e-06, 0.0012746267020702362, 0.0005708067328669131, 0.000638362078461796, 0.000577665981836617, 4.127733063796768e-06, 9.16174212761689e-06, 9.142841008724645e-05, 3.7748636714241e-06, 1.3575293451140169e-05, 0.00029161793645471334, 3.4474885524105048e-06, 7.899176853243262e-05, 0.0031891223043203354, 4.885083399130963e-06, 3.1652864436182426e-06, 1.4087453564570751e-05, 0.00015671442088205367, 0.000354489020537585, 0.00017265454516746104, 0.0013050615089014173, 0.00021867644682060927, 2.677671545825433e-05, 0.0002646020438987762, 1.3334541108633857e-05, 0.9888004064559937, 0.0, 0.0], [2.745508936641272e-05, 0.00016438262537121773, 7.996438216650859e-05, 0.0011914977803826332, 0.0007883630460128188, 2.658417088241549e-06, 3.0057650292292237e-05, 7.457976153091295e-06, 0.00014940995606593788, 2.8857215511379763e-05, 1.8738293192654965e-06, 0.0003328806778881699, 5.16086547577288e-05, 1.757749942044029e-06, 0.00012656577746383846, 0.000142670251079835, 1.6954471675489913e-06, 2.1952595488983206e-05, 0.00023040825908537954, 4.4293432438280433e-05, 1.6103307416415191e-06, 2.7008050892618485e-05, 0.0002388486755080521, 0.0001904603559523821, 9.496164238953497e-06, 0.000446643796749413, 0.00022095811436884105, 5.379181402531685e-06, 0.0006956413271836936, 0.0001547078281873837, 0.0002548544143792242, 0.9943286776542664, 0.0], [0.0062310462817549706, 9.722806862555444e-05, 6.871603090985445e-06, 2.1151136024855077e-05, 5.828053326695226e-05, 0.007238905411213636, 2.0987918105674908e-05, 0.00025459096650592983, 6.2438593886327e-05, 2.09246627491666e-05, 0.007872136309742928, 5.5853244703030214e-05, 9.868757842923515e-06, 0.009169397875666618, 7.203003042377532e-05, 7.068680588417919e-06, 0.010345976799726486, 0.0013096530456095934, 3.803680374403484e-05, 8.022697147680447e-05, 0.012053250335156918, 4.071998773724772e-05, 3.6860749332845444e-06, 3.471342279226519e-05, 0.0005061827832832932, 8.918932871893048e-05, 2.9112034098943695e-05, 0.0012772815534844995, 8.489655738230795e-05, 0.00018447425100021064, 0.00013425729412119836, 6.813048094045371e-05, 0.9425214529037476]], [[1.0, 0.0, 0.0, 0.0, 0.0, 0.0, 0.0, 0.0, 0.0, 0.0, 0.0, 0.0, 0.0, 0.0, 0.0, 0.0, 0.0, 0.0, 0.0, 0.0, 0.0, 0.0, 0.0, 0.0, 0.0, 0.0, 0.0, 0.0, 0.0, 0.0, 0.0, 0.0, 0.0], [0.943029522895813, 0.05697045475244522, 0.0, 0.0, 0.0, 0.0, 0.0, 0.0, 0.0, 0.0, 0.0, 0.0, 0.0, 0.0, 0.0, 0.0, 0.0, 0.0, 0.0, 0.0, 0.0, 0.0, 0.0, 0.0, 0.0, 0.0, 0.0, 0.0, 0.0, 0.0, 0.0, 0.0, 0.0], [0.9185556173324585, 0.03280003368854523, 0.048644352704286575, 0.0, 0.0, 0.0, 0.0, 0.0, 0.0, 0.0, 0.0, 0.0, 0.0, 0.0, 0.0, 0.0, 0.0, 0.0, 0.0, 0.0, 0.0, 0.0, 0.0, 0.0, 0.0, 0.0, 0.0, 0.0, 0.0, 0.0, 0.0, 0.0, 0.0], [0.8779287338256836, 0.05643428862094879, 0.04271191358566284, 0.022925028577446938, 0.0, 0.0, 0.0, 0.0, 0.0, 0.0, 0.0, 0.0, 0.0, 0.0, 0.0, 0.0, 0.0, 0.0, 0.0, 0.0, 0.0, 0.0, 0.0, 0.0, 0.0, 0.0, 0.0, 0.0, 0.0, 0.0, 0.0, 0.0, 0.0], [0.804131805896759, 0.029098210856318474, 0.07556727528572083, 0.05643591657280922, 0.03476677089929581, 0.0, 0.0, 0.0, 0.0, 0.0, 0.0, 0.0, 0.0, 0.0, 0.0, 0.0, 0.0, 0.0, 0.0, 0.0, 0.0, 0.0, 0.0, 0.0, 0.0, 0.0, 0.0, 0.0, 0.0, 0.0, 0.0, 0.0, 0.0], [0.49431052803993225, 0.02018354833126068, 0.027966564521193504, 0.018319061025977135, 0.0314420647919178, 0.40777823328971863, 0.0, 0.0, 0.0, 0.0, 0.0, 0.0, 0.0, 0.0, 0.0, 0.0, 0.0, 0.0, 0.0, 0.0, 0.0, 0.0, 0.0, 0.0, 0.0, 0.0, 0.0, 0.0, 0.0, 0.0, 0.0, 0.0, 0.0], [0.6057478785514832, 0.02924242615699768, 0.09491508454084396, 0.07609351724386215, 0.06614663451910019, 0.08705781400203705, 0.04079665616154671, 0.0, 0.0, 0.0, 0.0, 0.0, 0.0, 0.0, 0.0, 0.0, 0.0, 0.0, 0.0, 0.0, 0.0, 0.0, 0.0, 0.0, 0.0, 0.0, 0.0, 0.0, 0.0, 0.0, 0.0, 0.0, 0.0], [0.44838207960128784, 0.04542432725429535, 0.0740148052573204, 0.06864849478006363, 0.09376626461744308, 0.08774261921644211, 0.0653427392244339, 0.11667871475219727, 0.0, 0.0, 0.0, 0.0, 0.0, 0.0, 0.0, 0.0, 0.0, 0.0, 0.0, 0.0, 0.0, 0.0, 0.0, 0.0, 0.0, 0.0, 0.0, 0.0, 0.0, 0.0, 0.0, 0.0, 0.0], [0.4916926622390747, 0.13782070577144623, 0.039550185203552246, 0.06153317913413048, 0.04539964720606804, 0.04073144122958183, 0.06228703260421753, 0.05861864611506462, 0.062366411089897156, 0.0, 0.0, 0.0, 0.0, 0.0, 0.0, 0.0, 0.0, 0.0, 0.0, 0.0, 0.0, 0.0, 0.0, 0.0, 0.0, 0.0, 0.0, 0.0, 0.0, 0.0, 0.0, 0.0, 0.0], [0.5404125452041626, 0.04442666471004486, 0.039578527212142944, 0.041888076812028885, 0.07529858499765396, 0.0466950349509716, 0.0484752394258976, 0.055005207657814026, 0.08293058723211288, 0.025289513170719147, 0.0, 0.0, 0.0, 0.0, 0.0, 0.0, 0.0, 0.0, 0.0, 0.0, 0.0, 0.0, 0.0, 0.0, 0.0, 0.0, 0.0, 0.0, 0.0, 0.0, 0.0, 0.0, 0.0], [0.28273552656173706, 0.014234173111617565, 0.017647739499807358, 0.011433063074946404, 0.021741708740592003, 0.26665380597114563, 0.015403535217046738, 0.04734928533434868, 0.017767537385225296, 0.013926070183515549, 0.2911074757575989, 0.0, 0.0, 0.0, 0.0, 0.0, 0.0, 0.0, 0.0, 0.0, 0.0, 0.0, 0.0, 0.0, 0.0, 0.0, 0.0, 0.0, 0.0, 0.0, 0.0, 0.0, 0.0], [0.3449663519859314, 0.04611680284142494, 0.05771547555923462, 0.11131863296031952, 0.11289364099502563, 0.027930330485105515, 0.0385918952524662, 0.05656528100371361, 0.05864056572318077, 0.0664859190583229, 0.02611437439918518, 0.05266084522008896, 0.0, 0.0, 0.0, 0.0, 0.0, 0.0, 0.0, 0.0, 0.0, 0.0, 0.0, 0.0, 0.0, 0.0, 0.0, 0.0, 0.0, 0.0, 0.0, 0.0, 0.0], [0.46992185711860657, 0.03201569616794586, 0.107728973031044, 0.027006767690181732, 0.04465881735086441, 0.022773539647459984, 0.023117076605558395, 0.025491515174508095, 0.049502693116664886, 0.02657395228743553, 0.019708862528204918, 0.06337954103946686, 0.08812074363231659, 0.0, 0.0, 0.0, 0.0, 0.0, 0.0, 0.0, 0.0, 0.0, 0.0, 0.0, 0.0, 0.0, 0.0, 0.0, 0.0, 0.0, 0.0, 0.0, 0.0], [0.2066175937652588, 0.010379290208220482, 0.01226192805916071, 0.008319087326526642, 0.016007088124752045, 0.1952773630619049, 0.011453285813331604, 0.03475672006607056, 0.01307358406484127, 0.010938974097371101, 0.21602493524551392, 0.005866492632776499, 0.02364230528473854, 0.23538126051425934, 0.0, 0.0, 0.0, 0.0, 0.0, 0.0, 0.0, 0.0, 0.0, 0.0, 0.0, 0.0, 0.0, 0.0, 0.0, 0.0, 0.0, 0.0, 0.0], [0.3399347960948944, 0.02916165441274643, 0.09540717303752899, 0.03395187109708786, 0.0844046026468277, 0.012559536844491959, 0.029358645901083946, 0.024564169347286224, 0.10622430592775345, 0.04689214378595352, 0.011469585821032524, 0.006369189824908972, 0.11145279556512833, 0.011317996308207512, 0.05693149194121361, 0.0, 0.0, 0.0, 0.0, 0.0, 0.0, 0.0, 0.0, 0.0, 0.0, 0.0, 0.0, 0.0, 0.0, 0.0, 0.0, 0.0, 0.0], [0.40408816933631897, 0.024195685982704163, 0.03891003504395485, 0.014727434143424034, 0.024456575512886047, 0.038450006395578384, 0.03923032060265541, 0.037171393632888794, 0.06030001863837242, 0.041985444724559784, 0.03716715797781944, 0.016391245648264885, 0.039289675652980804, 0.03772979974746704, 0.13448575139045715, 0.011421289294958115, 0.0, 0.0, 0.0, 0.0, 0.0, 0.0, 0.0, 0.0, 0.0, 0.0, 0.0, 0.0, 0.0, 0.0, 0.0, 0.0, 0.0], [0.15876437723636627, 0.008203903213143349, 0.00929525587707758, 0.00622171675786376, 0.011793217621743679, 0.15069784224033356, 0.008851953782141209, 0.026313554495573044, 0.010186920873820782, 0.008433726616203785, 0.1676224023103714, 0.004420032259076834, 0.018211795017123222, 0.18350809812545776, 0.020927324891090393, 0.006447782274335623, 0.2001000940799713, 0.0, 0.0, 0.0, 0.0, 0.0, 0.0, 0.0, 0.0, 0.0, 0.0, 0.0, 0.0, 0.0, 0.0, 0.0, 0.0], [0.1753920465707779, 0.020569654181599617, 0.018291432410478592, 0.009298022836446762, 0.01737789623439312, 0.04253475368022919, 0.0207015722990036, 0.05044391378760338, 0.025438029319047928, 0.01721823774278164, 0.04311535507440567, 0.01334981620311737, 0.028528615832328796, 0.04597252979874611, 0.03408820927143097, 0.019834201782941818, 0.049928393214941025, 0.3679172396659851, 0.0, 0.0, 0.0, 0.0, 0.0, 0.0, 0.0, 0.0, 0.0, 0.0, 0.0, 0.0, 0.0, 0.0, 0.0], [0.26033326983451843, 0.017148375511169434, 0.037452783435583115, 0.07594799250364304, 0.04674704000353813, 0.01806851662695408, 0.031346436589956284, 0.03741513565182686, 0.07175806164741516, 0.05872536450624466, 0.01707870326936245, 0.04030590131878853, 0.057063568383455276, 0.0171135775744915, 0.10491334646940231, 0.04670536145567894, 0.017230205237865448, 0.024682147428393364, 0.01996396668255329, 0.0, 0.0, 0.0, 0.0, 0.0, 0.0, 0.0, 0.0, 0.0, 0.0, 0.0, 0.0, 0.0, 0.0], [0.305470734834671, 0.05190496891736984, 0.04346897080540657, 0.021846862509846687, 0.021017197519540787, 0.03390473872423172, 0.04190472513437271, 0.039092887192964554, 0.028871947899460793, 0.023003440350294113, 0.0320579968392849, 0.02333449199795723, 0.07110600173473358, 0.03290087729692459, 0.061641938984394073, 0.03183261677622795, 0.03376765176653862, 0.04571491479873657, 0.03501523658633232, 0.022141899913549423, 0.0, 0.0, 0.0, 0.0, 0.0, 0.0, 0.0, 0.0, 0.0, 0.0, 0.0, 0.0, 0.0], [0.1224295049905777, 0.006105298642069101, 0.006670292001217604, 0.004581778310239315, 0.009337793104350567, 0.11381792277097702, 0.006783360615372658, 0.019719911739230156, 0.007580860517919064, 0.0066136447712779045, 0.12765930593013763, 0.0035026574041694403, 0.014002335257828236, 0.1400098353624344, 0.01568487659096718, 0.00509260781109333, 0.15336216986179352, 0.03527418151497841, 0.022465620189905167, 0.006954459007829428, 0.17235161364078522, 0.0, 0.0, 0.0, 0.0, 0.0, 0.0, 0.0, 0.0, 0.0, 0.0, 0.0, 0.0], [0.20538491010665894, 0.034778520464897156, 0.014682925306260586, 0.031183309853076935, 0.030931279063224792, 0.021952755749225616, 0.03290863335132599, 0.05740533396601677, 0.05587515980005264, 0.04864276573061943, 0.023520758375525475, 0.015108552761375904, 0.027386324480175972, 0.024518456310033798, 0.060604557394981384, 0.03477614000439644, 0.026137840002775192, 0.05168436840176582, 0.06281402707099915, 0.020291468128561974, 0.028601735830307007, 0.09081020206212997, 0.0, 0.0, 0.0, 0.0, 0.0, 0.0, 0.0, 0.0, 0.0, 0.0, 0.0], [0.23978590965270996, 0.03132351115345955, 0.050377532839775085, 0.01586943492293358, 0.039014603942632675, 0.02280554175376892, 0.04285355284810066, 0.028882313519716263, 0.04046262055635452, 0.034107256680727005, 0.022644512355327606, 0.039230700582265854, 0.07238573580980301, 0.022345516830682755, 0.049581073224544525, 0.03193335607647896, 0.023325590416789055, 0.04521363228559494, 0.030554376542568207, 0.022876493632793427, 0.024732280522584915, 0.05549480766057968, 0.014199567027390003, 0.0, 0.0, 0.0, 0.0, 0.0, 0.0, 0.0, 0.0, 0.0, 0.0], [0.2358168214559555, 0.020558305084705353, 0.04375005513429642, 0.029704859480261803, 0.03703876957297325, 0.014953458681702614, 0.04004310816526413, 0.027184367179870605, 0.04576181620359421, 0.03809262439608574, 0.014181885868310928, 0.03789154440164566, 0.06518244743347168, 0.014182931743562222, 0.05489494279026985, 0.023720968514680862, 0.014592777006328106, 0.025570034980773926, 0.07356180250644684, 0.03918234631419182, 0.014925519935786724, 0.04628867655992508, 0.027801059186458588, 0.015118872746825218, 0.0, 0.0, 0.0, 0.0, 0.0, 0.0, 0.0, 0.0, 0.0], [0.14254964888095856, 0.012010158970952034, 0.016881290823221207, 0.020742563530802727, 0.03245177119970322, 0.029626009985804558, 0.030295196920633316, 0.05620869621634483, 0.029608745127916336, 0.029481831938028336, 0.03263988718390465, 0.010038218460977077, 0.04078616574406624, 0.03462786227464676, 0.03391636908054352, 0.020155727863311768, 0.03684321418404579, 0.06064694747328758, 0.04744711145758629, 0.032525304704904556, 0.04040035605430603, 0.05947759002447128, 0.031293995678424835, 0.04792546480894089, 0.07141983509063721, 0.0, 0.0, 0.0, 0.0, 0.0, 0.0, 0.0, 0.0], [0.22229069471359253, 0.0591113455593586, 0.0370267778635025, 0.04059012979269028, 0.027254480868577957, 0.019174769520759583, 0.031715359538793564, 0.0204621609300375, 0.03811328113079071, 0.019927889108657837, 0.018538929522037506, 0.015436707064509392, 0.04536491259932518, 0.01935577392578125, 0.05035829916596413, 0.033281393349170685, 0.020179755985736847, 0.03679434210062027, 0.0433138832449913, 0.028476417064666748, 0.021317338570952415, 0.04771285131573677, 0.01310703344643116, 0.026336034759879112, 0.030211376026272774, 0.03454805165529251, 0.0, 0.0, 0.0, 0.0, 0.0, 0.0, 0.0], [0.28438133001327515, 0.023870108649134636, 0.04641878232359886, 0.010260088369250298, 0.033909872174263, 0.018301473930478096, 0.02370886504650116, 0.02476685121655464, 0.02576773427426815, 0.022968824952840805, 0.016735462471842766, 0.013406937941908836, 0.04598662257194519, 0.016673240810632706, 0.08106391131877899, 0.05033262446522713, 0.01672617346048355, 0.019904814660549164, 0.030325349420309067, 0.01014631800353527, 0.017318226397037506, 0.019040964543819427, 0.011081119067966938, 0.052046407014131546, 0.0333535298705101, 0.03880883753299713, 0.012695524841547012, 0.0, 0.0, 0.0, 0.0, 0.0, 0.0], [0.11854352056980133, 0.013350935652852058, 0.013422025367617607, 0.030273202806711197, 0.02616293914616108, 0.020776186138391495, 0.02128020115196705, 0.03798935189843178, 0.03536440059542656, 0.036651790142059326, 0.022004006430506706, 0.015380024909973145, 0.030023103579878807, 0.023299690335989, 0.03000754490494728, 0.014861369505524635, 0.024521950632333755, 0.03999801352620125, 0.039001572877168655, 0.036007679998874664, 0.026851214468479156, 0.06795871257781982, 0.038931313902139664, 0.057258062064647675, 0.06659835577011108, 0.03075685352087021, 0.02334320917725563, 0.05938269942998886, 0.0, 0.0, 0.0, 0.0, 0.0], [0.25091859698295593, 0.011351886205375195, 0.023033946752548218, 0.018849756568670273, 0.013208831660449505, 0.016430390998721123, 0.03763695806264877, 0.02151942066848278, 0.03823146969079971, 0.031223108991980553, 0.01608109660446644, 0.017179002985358238, 0.08239651471376419, 0.01577541045844555, 0.04969310760498047, 0.03397901728749275, 0.016469139605760574, 0.025656115263700485, 0.053269315510988235, 0.02438098005950451, 0.017032913863658905, 0.031062565743923187, 0.014834257774055004, 0.043107789009809494, 0.027818359434604645, 0.015127947553992271, 0.012749838642776012, 0.026852669194340706, 0.014129594899713993, 0.0, 0.0, 0.0, 0.0], [0.19256946444511414, 0.022833669558167458, 0.01449588779360056, 0.02805502526462078, 0.03290428966283798, 0.018577080219984055, 0.02377672679722309, 0.01498892717063427, 0.027755476534366608, 0.019952157512307167, 0.018426887691020966, 0.026808448135852814, 0.04026198014616966, 0.018957341089844704, 0.01998024433851242, 0.039050307124853134, 0.019494330510497093, 0.030714338645339012, 0.07932322472333908, 0.03619769588112831, 0.020379595458507538, 0.023319289088249207, 0.01872384361922741, 0.05692768841981888, 0.02392754703760147, 0.03924325481057167, 0.02178352139890194, 0.020374221727252007, 0.04178831726312637, 0.00840923935174942, 0.0, 0.0, 0.0], [0.18919390439987183, 0.01435207761824131, 0.027829360216856003, 0.018936041742563248, 0.054552339017391205, 0.024302393198013306, 0.020752551034092903, 0.030501794070005417, 0.016900409013032913, 0.029904041439294815, 0.02311178296804428, 0.02166484296321869, 0.0333598293364048, 0.023050501942634583, 0.027927035465836525, 0.026253484189510345, 0.024257967248558998, 0.024394983425736427, 0.017666678875684738, 0.02208106964826584, 0.025441516190767288, 0.02399672009050846, 0.01594141311943531, 0.021863477304577827, 0.04876274615526199, 0.010234065353870392, 0.025762982666492462, 0.06192328408360481, 0.06737107038497925, 0.018184127286076546, 0.009525515139102936, 0.0, 0.0], [0.27111950516700745, 0.05460577458143234, 0.039705969393253326, 0.035128943622112274, 0.020313765853643417, 0.008183851838111877, 0.022556615993380547, 0.014036443084478378, 0.026198461651802063, 0.032355356961488724, 0.007185027468949556, 0.010813492350280285, 0.05162608250975609, 0.007057542912662029, 0.04232774302363396, 0.01850597932934761, 0.006952994503080845, 0.012550846673548222, 0.037855178117752075, 0.014787375926971436, 0.007130765356123447, 0.01895672082901001, 0.01075897179543972, 0.023540522903203964, 0.01625620573759079, 0.007915406487882137, 0.03652311488986015, 0.0145622743293643, 0.019251450896263123, 0.010911818593740463, 0.034396711736917496, 0.06592901796102524, 0.0], [0.14836540818214417, 0.014506888575851917, 0.007646291516721249, 0.011038742028176785, 0.026302490383386612, 0.013194816187024117, 0.027184870094060898, 0.017392193898558617, 0.016122115775942802, 0.03288079425692558, 0.014050287194550037, 0.007167342118918896, 0.01612006686627865, 0.014647026546299458, 0.018450899049639702, 0.013102119788527489, 0.015283252112567425, 0.014542999677360058, 0.05961219593882561, 0.02238389477133751, 0.016796978190541267, 0.10928262025117874, 0.07263999432325363, 0.0839371308684349, 0.02524900622665882, 0.037748463451862335, 0.01622692123055458, 0.02495388872921467, 0.042165808379650116, 0.004525812808424234, 0.014491359703242779, 0.01914570853114128, 0.02284165658056736]], [[1.0, 0.0, 0.0, 0.0, 0.0, 0.0, 0.0, 0.0, 0.0, 0.0, 0.0, 0.0, 0.0, 0.0, 0.0, 0.0, 0.0, 0.0, 0.0, 0.0, 0.0, 0.0, 0.0, 0.0, 0.0, 0.0, 0.0, 0.0, 0.0, 0.0, 0.0, 0.0, 0.0], [0.09646996110677719, 0.9035300612449646, 0.0, 0.0, 0.0, 0.0, 0.0, 0.0, 0.0, 0.0, 0.0, 0.0, 0.0, 0.0, 0.0, 0.0, 0.0, 0.0, 0.0, 0.0, 0.0, 0.0, 0.0, 0.0, 0.0, 0.0, 0.0, 0.0, 0.0, 0.0, 0.0, 0.0, 0.0], [0.043252408504486084, 0.08177752792835236, 0.8749701380729675, 0.0, 0.0, 0.0, 0.0, 0.0, 0.0, 0.0, 0.0, 0.0, 0.0, 0.0, 0.0, 0.0, 0.0, 0.0, 0.0, 0.0, 0.0, 0.0, 0.0, 0.0, 0.0, 0.0, 0.0, 0.0, 0.0, 0.0, 0.0, 0.0, 0.0], [0.09995391219854355, 0.025312697514891624, 0.020108038559556007, 0.8546252846717834, 0.0, 0.0, 0.0, 0.0, 0.0, 0.0, 0.0, 0.0, 0.0, 0.0, 0.0, 0.0, 0.0, 0.0, 0.0, 0.0, 0.0, 0.0, 0.0, 0.0, 0.0, 0.0, 0.0, 0.0, 0.0, 0.0, 0.0, 0.0, 0.0], [0.024889370426535606, 0.0032073576003313065, 0.0018421609420329332, 0.02236151695251465, 0.9476995468139648, 0.0, 0.0, 0.0, 0.0, 0.0, 0.0, 0.0, 0.0, 0.0, 0.0, 0.0, 0.0, 0.0, 0.0, 0.0, 0.0, 0.0, 0.0, 0.0, 0.0, 0.0, 0.0, 0.0, 0.0, 0.0, 0.0, 0.0, 0.0], [0.10732375085353851, 0.017841670662164688, 0.01955334283411503, 0.0433332584798336, 0.10211500525474548, 0.7098329663276672, 0.0, 0.0, 0.0, 0.0, 0.0, 0.0, 0.0, 0.0, 0.0, 0.0, 0.0, 0.0, 0.0, 0.0, 0.0, 0.0, 0.0, 0.0, 0.0, 0.0, 0.0, 0.0, 0.0, 0.0, 0.0, 0.0, 0.0], [0.006426359061151743, 0.0004479784402064979, 0.00014756589371245354, 0.0004693674563895911, 0.001441188738681376, 0.003859696676954627, 0.98720782995224, 0.0, 0.0, 0.0, 0.0, 0.0, 0.0, 0.0, 0.0, 0.0, 0.0, 0.0, 0.0, 0.0, 0.0, 0.0, 0.0, 0.0, 0.0, 0.0, 0.0, 0.0, 0.0, 0.0, 0.0, 0.0, 0.0], [0.0010354573605582118, 0.00019901817722711712, 0.0001602037955308333, 6.937277794349939e-05, 0.0003867413615807891, 0.005171584896743298, 0.8964056372642517, 0.0965719148516655, 0.0, 0.0, 0.0, 0.0, 0.0, 0.0, 0.0, 0.0, 0.0, 0.0, 0.0, 0.0, 0.0, 0.0, 0.0, 0.0, 0.0, 0.0, 0.0, 0.0, 0.0, 0.0, 0.0, 0.0, 0.0], [0.001288333791308105, 0.00032334591378457844, 0.00026527236332185566, 0.00025490662665106356, 0.0002012988115893677, 0.00010049014235846698, 0.0005700896726921201, 0.0004091307055205107, 0.9965870380401611, 0.0, 0.0, 0.0, 0.0, 0.0, 0.0, 0.0, 0.0, 0.0, 0.0, 0.0, 0.0, 0.0, 0.0, 0.0, 0.0, 0.0, 0.0, 0.0, 0.0, 0.0, 0.0, 0.0, 0.0], [0.00018741603707894683, 1.6196512660826556e-05, 4.228103534842376e-06, 0.00028758851112797856, 1.112570407713065e-05, 9.805654372030403e-06, 0.00015567190712317824, 7.632956840097904e-05, 0.0034869054798036814, 0.9957646131515503, 0.0, 0.0, 0.0, 0.0, 0.0, 0.0, 0.0, 0.0, 0.0, 0.0, 0.0, 0.0, 0.0, 0.0, 0.0, 0.0, 0.0, 0.0, 0.0, 0.0, 0.0, 0.0, 0.0], [0.01574152149260044, 0.0006393613875843585, 0.0004571526078507304, 0.000991252949461341, 0.002114036586135626, 0.01808975450694561, 0.047120362520217896, 0.0701090544462204, 0.06152837350964546, 0.27690398693084717, 0.5063052177429199, 0.0, 0.0, 0.0, 0.0, 0.0, 0.0, 0.0, 0.0, 0.0, 0.0, 0.0, 0.0, 0.0, 0.0, 0.0, 0.0, 0.0, 0.0, 0.0, 0.0, 0.0, 0.0], [0.0006166597595438361, 0.0005207082140259445, 4.611519034369849e-05, 0.001461300766095519, 0.0005623759352602065, 4.4475949835032225e-05, 0.0003653967578429729, 0.0002860168169718236, 0.004506120458245277, 0.005816522985696793, 0.0007244532462209463, 0.9850497841835022, 0.0, 0.0, 0.0, 0.0, 0.0, 0.0, 0.0, 0.0, 0.0, 0.0, 0.0, 0.0, 0.0, 0.0, 0.0, 0.0, 0.0, 0.0, 0.0, 0.0, 0.0], [0.0010478582698851824, 3.062820542254485e-05, 0.00017345028754789382, 5.423134643933736e-05, 6.388442125171423e-05, 1.1261148756602779e-05, 1.7169008060591295e-05, 1.3931321518612094e-05, 0.0020760439801961184, 0.0002692685811780393, 0.00015268517017830163, 0.0036844429560005665, 0.992405116558075, 0.0, 0.0, 0.0, 0.0, 0.0, 0.0, 0.0, 0.0, 0.0, 0.0, 0.0, 0.0, 0.0, 0.0, 0.0, 0.0, 0.0, 0.0, 0.0, 0.0], [0.010746270418167114, 0.0002535430539865047, 0.00015322913532145321, 0.00029287009965628386, 0.0005376794724725187, 0.004423541482537985, 0.009884324856102467, 0.012843029573559761, 0.012738605961203575, 0.05966855585575104, 0.10772985965013504, 0.024745667353272438, 0.07808700203895569, 0.6778958439826965, 0.0, 0.0, 0.0, 0.0, 0.0, 0.0, 0.0, 0.0, 0.0, 0.0, 0.0, 0.0, 0.0, 0.0, 0.0, 0.0, 0.0, 0.0, 0.0], [0.00041218046681024134, 2.6218716811854392e-05, 1.7755941371433437e-05, 0.00019181921379640698, 3.2979528441501316e-06, 3.912678948836401e-06, 1.0438099707243964e-05, 4.9068453336076345e-06, 0.0005868562730029225, 0.0030381586402654648, 3.69312874681782e-05, 0.0007724316092208028, 0.009622619487345219, 0.0001609444443602115, 0.9851115345954895, 0.0, 0.0, 0.0, 0.0, 0.0, 0.0, 0.0, 0.0, 0.0, 0.0, 0.0, 0.0, 0.0, 0.0, 0.0, 0.0, 0.0, 0.0], [0.00010886562813539058, 3.5845419006363954e-06, 5.191652689973125e-06, 3.083834599237889e-05, 1.8408745745546184e-05, 7.954758416417462e-07, 3.3532012366777053e-06, 6.5743715822463855e-06, 0.000727093021851033, 0.0018232448492199183, 7.853259376133792e-06, 0.00030627453816123307, 0.0069750454276800156, 3.4850869269575924e-05, 0.02829272858798504, 0.96165531873703, 0.0, 0.0, 0.0, 0.0, 0.0, 0.0, 0.0, 0.0, 0.0, 0.0, 0.0, 0.0, 0.0, 0.0, 0.0, 0.0, 0.0], [0.006073995493352413, 8.815208275336772e-05, 4.583783811540343e-05, 8.250495739048347e-05, 0.00012720450467895716, 0.000931252259761095, 0.001669999212026596, 0.0019381921738386154, 0.002101697726175189, 0.010131681337952614, 0.016047311946749687, 0.0038353849668055773, 0.01224216353148222, 0.10037080943584442, 0.07853130996227264, 0.10997357964515686, 0.6558089256286621, 0.0, 0.0, 0.0, 0.0, 0.0, 0.0, 0.0, 0.0, 0.0, 0.0, 0.0, 0.0, 0.0, 0.0, 0.0, 0.0], [0.002186298370361328, 1.189292743219994e-05, 1.6735941244405694e-05, 2.08154469873989e-05, 2.1162528355489485e-05, 0.0007714926614426076, 0.0008652107208035886, 0.0005560301360674202, 0.00015655897732358426, 0.0019499934278428555, 0.010891204699873924, 0.000395429931813851, 0.001514473813585937, 0.06916319578886032, 0.004308105446398258, 0.004035164602100849, 0.4939698576927185, 0.4091663062572479, 0.0, 0.0, 0.0, 0.0, 0.0, 0.0, 0.0, 0.0, 0.0, 0.0, 0.0, 0.0, 0.0, 0.0, 0.0], [1.9798004359472543e-05, 4.972397391611594e-07, 9.165693981572076e-09, 1.3230415163434373e-07, 5.601831887247499e-08, 1.1903852126238235e-08, 6.153110803097661e-07, 4.068542125423846e-08, 4.517441539064748e-06, 1.4017762623552699e-05, 1.645689877705081e-07, 1.0863832358154468e-06, 7.444067705364432e-06, 1.0056644441647222e-06, 2.7595020583248697e-05, 0.0003137803578283638, 6.20114269622718e-06, 8.21337744127959e-06, 0.9995947480201721, 0.0, 0.0, 0.0, 0.0, 0.0, 0.0, 0.0, 0.0, 0.0, 0.0, 0.0, 0.0, 0.0, 0.0], [6.497162303276127e-06, 8.692028927725914e-07, 1.405140778842906e-06, 3.770490479837463e-07, 3.3291667023149785e-07, 6.104986027821724e-08, 2.5430054506614397e-08, 1.1067781713336444e-07, 3.670877777040005e-05, 5.70481461181771e-07, 6.172359121592308e-07, 0.00015627981338184327, 0.00014738000754732639, 3.0103849439910846e-06, 6.130666588433087e-05, 0.0017769956029951572, 1.8545992134022526e-05, 3.4263168345205486e-05, 0.9233516454696655, 0.0744030550122261, 0.0, 0.0, 0.0, 0.0, 0.0, 0.0, 0.0, 0.0, 0.0, 0.0, 0.0, 0.0, 0.0], [0.003649005200713873, 3.749436655198224e-05, 1.7470789316575974e-05, 2.8449230740079656e-05, 3.312428088975139e-05, 0.00019569203141145408, 0.0002647591754794121, 0.0002469039463903755, 0.00028033152921125293, 0.0013949201675131917, 0.0017910292372107506, 0.00042467910679988563, 0.0014623706229031086, 0.009717757813632488, 0.008053941652178764, 0.013200568035244942, 0.06315954774618149, 0.07152795046567917, 0.0752311423420906, 0.024205075576901436, 0.7250778079032898, 0.0, 0.0, 0.0, 0.0, 0.0, 0.0, 0.0, 0.0, 0.0, 0.0, 0.0, 0.0], [0.0006410887581296265, 3.925701093976386e-06, 1.1607360193011118e-06, 1.5375464954558993e-06, 9.072641091734113e-07, 8.058196726778988e-06, 1.322393200098304e-05, 4.619918854587013e-06, 3.6788289435207844e-05, 4.565179187920876e-05, 7.577822543680668e-05, 2.2741687644156627e-05, 5.6684628361836076e-05, 0.00047375107533298433, 0.0003640762879513204, 0.0004240018024574965, 0.003757327562198043, 0.004363134503364563, 0.007395217195153236, 0.0050226240418851376, 0.055756211280822754, 0.9215313792228699, 0.0, 0.0, 0.0, 0.0, 0.0, 0.0, 0.0, 0.0, 0.0, 0.0, 0.0], [0.0005377682391554117, 8.12255109394755e-07, 2.3018558295007097e-06, 1.470038341722102e-06, 1.8703642581385793e-06, 6.024481535860104e-07, 4.127828560740454e-06, 1.6705729422028526e-06, 2.047191856036079e-06, 7.430031837429851e-05, 3.5942221074947156e-06, 7.171493962232489e-06, 3.052820102311671e-05, 1.8927734345197678e-05, 0.00025438747252337635, 0.00019496363529469818, 0.00012626525131054223, 0.00018230534624308348, 0.003735217498615384, 0.0006727114669047296, 0.0015798306558281183, 0.011177667416632175, 0.9813893437385559, 0.0, 0.0, 0.0, 0.0, 0.0, 0.0, 0.0, 0.0, 0.0, 0.0], [8.512831846019253e-05, 4.870875613960379e-07, 1.2458967830752954e-06, 2.0811336298720562e-07, 1.9242898474658432e-07, 3.70403121507934e-08, 4.5552567939921573e-07, 5.504556455093734e-08, 1.532037913420936e-06, 5.083319138066145e-06, 2.1401019978384284e-07, 1.4595321999877342e-06, 1.4768388609809335e-05, 1.0635034186634584e-06, 2.9461507438099943e-05, 5.7288165407953784e-05, 6.615687198063824e-06, 7.84423991717631e-06, 0.00015063841419760138, 0.00022636981157120317, 7.97359534772113e-05, 0.00013040858902968466, 0.010868419893085957, 0.9883312582969666, 0.0, 0.0, 0.0, 0.0, 0.0, 0.0, 0.0, 0.0, 0.0], [0.0004166323342360556, 2.250370243928046e-06, 5.270539531920804e-06, 2.7549156584427692e-05, 3.9630511309951544e-05, 7.514738172176294e-06, 8.100927516352385e-06, 1.1581334547372535e-05, 1.3205944924266078e-05, 6.750718603143468e-05, 2.5212748369085602e-05, 1.4860675946692936e-05, 7.521689985878766e-05, 0.00011457454820629209, 0.00025745294988155365, 0.0003666857664939016, 0.000690473010763526, 0.0014518479583784938, 0.003246018895879388, 0.000635341159068048, 0.008745582774281502, 0.01519083883613348, 0.01815016008913517, 0.13303302228450775, 0.8174036145210266, 0.0, 0.0, 0.0, 0.0, 0.0, 0.0, 0.0, 0.0], [1.673928454692941e-05, 8.245334015555272e-08, 3.25739257789337e-08, 2.8737451529536884e-08, 1.621771161808283e-07, 1.5275413156601303e-09, 2.327868919849152e-08, 5.576728856482305e-09, 1.2825790918213897e-07, 1.3429512080165296e-07, 6.160572496582972e-09, 2.523255204778252e-07, 3.205756911484059e-06, 2.627727724302531e-08, 7.619962616445264e-07, 7.901951903477311e-06, 1.3940480414476042e-07, 1.9552575736270228e-07, 0.00032022554660215974, 8.173685728252167e-07, 1.5630020016033086e-06, 3.763166887438274e-06, 0.0007450510165654123, 0.0037152289878576994, 3.934420965379104e-05, 0.995144248008728, 0.0, 0.0, 0.0, 0.0, 0.0, 0.0, 0.0], [0.00023842290102038532, 5.040105861553457e-06, 1.3208616564952536e-06, 8.59982810652582e-06, 5.166059054317884e-06, 1.347093814274558e-07, 6.710816364829952e-07, 2.6997005875273317e-07, 6.345737801893847e-06, 4.4178395910421386e-05, 2.744501443885383e-07, 2.017121369135566e-05, 1.652665923757013e-05, 8.122791541609331e-07, 0.00010771033703349531, 0.00012397454702295363, 3.5075922824034933e-06, 8.505856385454535e-06, 6.980275793466717e-05, 0.0002681369078345597, 2.8792948796763085e-05, 0.00011957929382333532, 0.00012961679021827877, 0.0074259452521800995, 0.0007109729922376573, 0.005815024487674236, 0.9848405718803406, 0.0, 0.0, 0.0, 0.0, 0.0, 0.0], [0.00040899476152844727, 6.095360163271835e-07, 1.9963879367423942e-06, 9.31031445361441e-06, 3.7690542740165256e-06, 1.9876508758898126e-06, 4.5765477807435673e-07, 1.0690704357330105e-06, 3.0871717626723694e-06, 9.211416909238324e-06, 4.724366135633318e-06, 1.207003492709191e-06, 5.095616870676167e-06, 1.8047086996375583e-05, 4.857865860685706e-05, 4.169379826635122e-05, 0.00010537495109019801, 0.00022466850350610912, 0.00011528605682542548, 0.00024928993661887944, 0.0013673118082806468, 0.0016190301394090056, 0.001327516627497971, 0.0034917830489575863, 0.0630565881729126, 0.006469062063843012, 0.09512635320425034, 0.8262879252433777, 0.0, 0.0, 0.0, 0.0, 0.0], [0.0003180463972967118, 1.4181790675138473e-06, 3.1854952453613805e-07, 2.782308229143382e-06, 5.388589124777354e-05, 4.3005947247820586e-08, 5.386261250350799e-07, 8.497841719190546e-08, 5.999692689329095e-07, 4.110318968741922e-06, 7.09938632326157e-08, 8.454292697024357e-07, 2.5266106149501866e-06, 2.1983825604365848e-07, 6.0982351897109766e-06, 2.1129970264155418e-05, 9.411767223355127e-07, 9.950349522114266e-07, 3.0413521017180756e-05, 2.9769839784421492e-06, 8.453846021438949e-06, 2.600694278953597e-05, 0.00023055789642967284, 0.0013383353361859918, 0.0002175817935494706, 0.007014382630586624, 0.01792396418750286, 0.0005302667268551886, 0.9722623825073242, 0.0, 0.0, 0.0, 0.0], [1.8505258481127385e-07, 5.565670591067828e-09, 7.262683232589495e-10, 7.745982522067152e-09, 1.507948077517085e-08, 8.228505654628293e-10, 1.791544801399425e-09, 1.7345611613706069e-09, 1.0962512675405378e-08, 5.003293424010735e-08, 3.922815849932704e-09, 1.0013923201768193e-07, 2.3337790366895206e-08, 1.6555222970282557e-08, 5.171338912646206e-08, 1.614599369759162e-07, 9.827900271375256e-08, 2.70745431407704e-07, 5.411971415014705e-06, 2.508388377009396e-07, 1.1806000657088589e-06, 2.8004253636026988e-06, 4.610366431734292e-06, 0.00022679207904729992, 5.794252501800656e-05, 0.0004519556532613933, 0.00011976477253483608, 0.0002398080687271431, 0.0018740054219961166, 0.9970144033432007, 0.0, 0.0, 0.0], [4.347457434050739e-05, 2.968866283481475e-06, 3.9193648149193905e-07, 9.117064223573834e-07, 4.364485164387588e-07, 4.686581345225704e-09, 9.240376641628245e-08, 1.241937130913584e-08, 7.188949524561394e-08, 6.304548492153117e-07, 6.1088996083924485e-09, 1.998715788431582e-07, 1.4578700984202442e-06, 1.4727314479046072e-08, 1.7957289344394667e-07, 2.6422632799949497e-05, 5.112665846240816e-08, 4.710682333097793e-08, 0.001576117821969092, 2.1989408196532167e-06, 3.333988161102752e-07, 2.1814769297634484e-06, 0.0001624042197363451, 0.0017777644097805023, 1.174922817881452e-05, 0.00361609342508018, 6.199476774781942e-05, 3.516822835081257e-05, 0.001148871029727161, 0.016085602343082428, 0.975442111492157, 0.0, 0.0], [0.0011562927393242717, 6.199030394782312e-06, 6.137777290859958e-07, 3.102660230069887e-06, 8.228400361076638e-07, 4.36601119702118e-08, 9.36325577072239e-08, 2.7735437058140633e-08, 5.10950087573292e-07, 1.235528543475084e-06, 3.825297412163309e-08, 1.1272275060036918e-06, 1.9008951994692325e-06, 8.71407408453706e-08, 5.398172561399406e-06, 7.393416581180645e-06, 3.128866410406772e-07, 3.014631033693149e-07, 0.00013595313066616654, 1.334382250206545e-05, 2.3996453819563612e-06, 3.871273293043487e-05, 0.000821963301859796, 0.0006131274858489633, 2.151845910702832e-05, 0.004140724893659353, 0.0008760862983763218, 0.00011684626952046528, 0.0021590692922472954, 0.027525300160050392, 0.04434972628951073, 0.9179997444152832, 0.0], [0.0031942883506417274, 4.681659993366338e-05, 3.499122249195352e-05, 2.7043040972785093e-05, 1.4000300325278658e-05, 1.7085118088289164e-05, 8.05188847152749e-06, 3.909828592441045e-06, 1.0716920769482385e-05, 1.7930802641785704e-05, 1.420748776581604e-05, 2.6911264285445213e-05, 2.641200444486458e-05, 3.110023681074381e-05, 1.119859553000424e-05, 5.4854859627084807e-05, 0.00011474482744233683, 0.00010493678564671427, 0.00028063036734238267, 0.0002083906001644209, 0.0009329261956736445, 0.0018990013049915433, 0.0011267600348219275, 0.0019257264211773872, 0.003917159512639046, 0.007499458268284798, 0.0106959268450737, 0.023199858143925667, 0.030398176982998848, 0.1272934377193451, 0.04325320944190025, 0.17668065428733826, 0.5669295191764832]], [[1.0, 0.0, 0.0, 0.0, 0.0, 0.0, 0.0, 0.0, 0.0, 0.0, 0.0, 0.0, 0.0, 0.0, 0.0, 0.0, 0.0, 0.0, 0.0, 0.0, 0.0, 0.0, 0.0, 0.0, 0.0, 0.0, 0.0, 0.0, 0.0, 0.0, 0.0, 0.0, 0.0], [0.25308629870414734, 0.746913731098175, 0.0, 0.0, 0.0, 0.0, 0.0, 0.0, 0.0, 0.0, 0.0, 0.0, 0.0, 0.0, 0.0, 0.0, 0.0, 0.0, 0.0, 0.0, 0.0, 0.0, 0.0, 0.0, 0.0, 0.0, 0.0, 0.0, 0.0, 0.0, 0.0, 0.0, 0.0], [0.3067159950733185, 0.3290637731552124, 0.3642202317714691, 0.0, 0.0, 0.0, 0.0, 0.0, 0.0, 0.0, 0.0, 0.0, 0.0, 0.0, 0.0, 0.0, 0.0, 0.0, 0.0, 0.0, 0.0, 0.0, 0.0, 0.0, 0.0, 0.0, 0.0, 0.0, 0.0, 0.0, 0.0, 0.0, 0.0], [0.07416974008083344, 0.16189666092395782, 0.05432591587305069, 0.7096076011657715, 0.0, 0.0, 0.0, 0.0, 0.0, 0.0, 0.0, 0.0, 0.0, 0.0, 0.0, 0.0, 0.0, 0.0, 0.0, 0.0, 0.0, 0.0, 0.0, 0.0, 0.0, 0.0, 0.0, 0.0, 0.0, 0.0, 0.0, 0.0, 0.0], [0.16688227653503418, 0.03901785612106323, 0.03822461515665054, 0.2139836996793747, 0.5418915748596191, 0.0, 0.0, 0.0, 0.0, 0.0, 0.0, 0.0, 0.0, 0.0, 0.0, 0.0, 0.0, 0.0, 0.0, 0.0, 0.0, 0.0, 0.0, 0.0, 0.0, 0.0, 0.0, 0.0, 0.0, 0.0, 0.0, 0.0, 0.0], [0.19483636319637299, 0.2111925333738327, 0.05150558426976204, 0.0870383158326149, 0.22999544441699982, 0.22543182969093323, 0.0, 0.0, 0.0, 0.0, 0.0, 0.0, 0.0, 0.0, 0.0, 0.0, 0.0, 0.0, 0.0, 0.0, 0.0, 0.0, 0.0, 0.0, 0.0, 0.0, 0.0, 0.0, 0.0, 0.0, 0.0, 0.0, 0.0], [0.13900132477283478, 0.029748639091849327, 0.038606978952884674, 0.0513327531516552, 0.19284242391586304, 0.08012381196022034, 0.468344122171402, 0.0, 0.0, 0.0, 0.0, 0.0, 0.0, 0.0, 0.0, 0.0, 0.0, 0.0, 0.0, 0.0, 0.0, 0.0, 0.0, 0.0, 0.0, 0.0, 0.0, 0.0, 0.0, 0.0, 0.0, 0.0, 0.0], [0.08969773352146149, 0.04080597683787346, 0.03473307564854622, 0.08414527773857117, 0.09911049902439117, 0.07059452682733536, 0.1361657828092575, 0.4447471499443054, 0.0, 0.0, 0.0, 0.0, 0.0, 0.0, 0.0, 0.0, 0.0, 0.0, 0.0, 0.0, 0.0, 0.0, 0.0, 0.0, 0.0, 0.0, 0.0, 0.0, 0.0, 0.0, 0.0, 0.0, 0.0], [0.05986515060067177, 0.020190436393022537, 0.018785325810313225, 0.10584725439548492, 0.057948801666498184, 0.027517711743712425, 0.056663159281015396, 0.082267627120018, 0.5709145665168762, 0.0, 0.0, 0.0, 0.0, 0.0, 0.0, 0.0, 0.0, 0.0, 0.0, 0.0, 0.0, 0.0, 0.0, 0.0, 0.0, 0.0, 0.0, 0.0, 0.0, 0.0, 0.0, 0.0, 0.0], [0.01037928182631731, 0.004698258358985186, 0.004143994767218828, 0.007291414309293032, 0.006256702356040478, 0.0033180504105985165, 0.009175026789307594, 0.018754420801997185, 0.03393153101205826, 0.9020515084266663, 0.0, 0.0, 0.0, 0.0, 0.0, 0.0, 0.0, 0.0, 0.0, 0.0, 0.0, 0.0, 0.0, 0.0, 0.0, 0.0, 0.0, 0.0, 0.0, 0.0, 0.0, 0.0, 0.0], [0.07270108908414841, 0.0477648489177227, 0.010500337928533554, 0.016159430146217346, 0.046178217977285385, 0.0524945966899395, 0.05184568464756012, 0.2118951827287674, 0.03515822812914848, 0.17267192900180817, 0.2826305031776428, 0.0, 0.0, 0.0, 0.0, 0.0, 0.0, 0.0, 0.0, 0.0, 0.0, 0.0, 0.0, 0.0, 0.0, 0.0, 0.0, 0.0, 0.0, 0.0, 0.0, 0.0, 0.0], [0.015126866288483143, 0.004731182474642992, 0.0023226290941238403, 0.006575728300958872, 0.01836242899298668, 0.003339661518111825, 0.008784200996160507, 0.0074097225442528725, 0.0062897950410842896, 0.07638928294181824, 0.01200344879180193, 0.8386649489402771, 0.0, 0.0, 0.0, 0.0, 0.0, 0.0, 0.0, 0.0, 0.0, 0.0, 0.0, 0.0, 0.0, 0.0, 0.0, 0.0, 0.0, 0.0, 0.0, 0.0, 0.0], [0.03233196213841438, 0.010628974996507168, 0.002615167759358883, 0.0011762941721826792, 0.003093286184594035, 0.0015055538387969136, 0.007079717703163624, 0.0028344716411083937, 0.005003889091312885, 0.012032588012516499, 0.0039877742528915405, 0.05187242850661278, 0.8658379912376404, 0.0, 0.0, 0.0, 0.0, 0.0, 0.0, 0.0, 0.0, 0.0, 0.0, 0.0, 0.0, 0.0, 0.0, 0.0, 0.0, 0.0, 0.0, 0.0, 0.0], [0.05045584216713905, 0.026538822799921036, 0.00578326964750886, 0.008087297901511192, 0.02179938182234764, 0.025670362636446953, 0.022779010236263275, 0.09139908850193024, 0.015017385594546795, 0.07093920558691025, 0.1244862899184227, 0.12668342888355255, 0.061021383851766586, 0.34933921694755554, 0.0, 0.0, 0.0, 0.0, 0.0, 0.0, 0.0, 0.0, 0.0, 0.0, 0.0, 0.0, 0.0, 0.0, 0.0, 0.0, 0.0, 0.0, 0.0], [0.054741211235523224, 0.05296843871474266, 0.003988127689808607, 0.012351610697805882, 0.004415619187057018, 0.0035962772089987993, 0.01138568576425314, 0.00982806645333767, 0.014749729074537754, 0.0707881972193718, 0.01120917871594429, 0.05164056271314621, 0.19734402000904083, 0.0271292794495821, 0.47386395931243896, 0.0, 0.0, 0.0, 0.0, 0.0, 0.0, 0.0, 0.0, 0.0, 0.0, 0.0, 0.0, 0.0, 0.0, 0.0, 0.0, 0.0, 0.0], [0.00716307433322072, 0.004963851533830166, 0.0027692278381437063, 0.0019424451747909188, 0.010544744320213795, 0.0014144876040518284, 0.0036636607255786657, 0.0031499452888965607, 0.005481296218931675, 0.021614039316773415, 0.003922193311154842, 0.07935071736574173, 0.2247791737318039, 0.009166947565972805, 0.027402691543102264, 0.5926714539527893, 0.0, 0.0, 0.0, 0.0, 0.0, 0.0, 0.0, 0.0, 0.0, 0.0, 0.0, 0.0, 0.0, 0.0, 0.0, 0.0, 0.0], [0.03461108356714249, 0.015296352095901966, 0.003095123218372464, 0.003899096045643091, 0.00998940784484148, 0.011446877382695675, 0.00918935053050518, 0.03356511518359184, 0.005761212669312954, 0.02558104321360588, 0.043846867978572845, 0.04521365463733673, 0.02055342122912407, 0.11962328106164932, 0.15673254430294037, 0.13173453509807587, 0.329861044883728, 0.0, 0.0, 0.0, 0.0, 0.0, 0.0, 0.0, 0.0, 0.0, 0.0, 0.0, 0.0, 0.0, 0.0, 0.0, 0.0], [0.017253857105970383, 0.004397520795464516, 0.004968686960637569, 0.007064308971166611, 0.0066348896361887455, 0.006910951808094978, 0.011386900208890438, 0.01617850922048092, 0.02031775750219822, 0.02039678767323494, 0.023422084748744965, 0.018909122794866562, 0.0402420274913311, 0.062006738036870956, 0.1164536327123642, 0.07975099980831146, 0.16864453256130219, 0.37506064772605896, 0.0, 0.0, 0.0, 0.0, 0.0, 0.0, 0.0, 0.0, 0.0, 0.0, 0.0, 0.0, 0.0, 0.0, 0.0], [0.0024591160472482443, 0.0002491978812031448, 3.4004657209152356e-05, 0.00021132938854862005, 0.00020066795696038753, 0.00012589243124239147, 0.00036506817559711635, 0.00037359812995418906, 0.00013798548025079072, 0.00047022136277519166, 0.0002715179871302098, 0.0034170825965702534, 0.0006049814401194453, 0.0005454606143757701, 0.0008937673992477357, 0.0015852146316319704, 0.0012150744441896677, 0.0028212720062583685, 0.9840185046195984, 0.0, 0.0, 0.0, 0.0, 0.0, 0.0, 0.0, 0.0, 0.0, 0.0, 0.0, 0.0, 0.0, 0.0], [0.00015282434469554573, 0.038923557847738266, 0.00047151927719824016, 0.00037318107206374407, 3.271787500125356e-05, 1.0635613762133289e-05, 3.82458756575943e-06, 1.324468212260399e-05, 6.418918201234192e-05, 2.7344345653546043e-05, 2.8319931516307406e-05, 0.0022295680828392506, 0.0013866389635950327, 7.163511327235028e-05, 0.0001402555499225855, 0.008246437646448612, 0.00019678636454045773, 0.00020546688756439835, 0.8976381421089172, 0.049783773720264435, 0.0, 0.0, 0.0, 0.0, 0.0, 0.0, 0.0, 0.0, 0.0, 0.0, 0.0, 0.0, 0.0], [0.026458127424120903, 0.010410884395241737, 0.0021332567557692528, 0.0024560156743973494, 0.005542594939470291, 0.0059545706026256084, 0.004195829387754202, 0.01345154270529747, 0.0023519517853856087, 0.009471972472965717, 0.015433414839208126, 0.014804963022470474, 0.006865771487355232, 0.03787313401699066, 0.04744938760995865, 0.04547279700636864, 0.10199162364006042, 0.08666397631168365, 0.06470181792974472, 0.1016075387597084, 0.3947088420391083, 0.0, 0.0, 0.0, 0.0, 0.0, 0.0, 0.0, 0.0, 0.0, 0.0, 0.0, 0.0], [0.021157873794436455, 0.0035484314430505037, 0.001744112349115312, 0.003509305650368333, 0.004201894160360098, 0.002577780978754163, 0.004015854559838772, 0.004599004052579403, 0.003955155611038208, 0.006455838680267334, 0.005907890852540731, 0.0037331595085561275, 0.009013407863676548, 0.013927984982728958, 0.02989581972360611, 0.020082319155335426, 0.03804437816143036, 0.06883100420236588, 0.0815289169549942, 0.03834022581577301, 0.1516025811433792, 0.48332706093788147, 0.0, 0.0, 0.0, 0.0, 0.0, 0.0, 0.0, 0.0, 0.0, 0.0, 0.0], [0.0014211704256013036, 0.0004069017886649817, 0.0002714426373131573, 0.0014869263395667076, 0.0006475158152170479, 0.0002567155461292714, 0.00027297664200887084, 0.000505985866766423, 0.00017537525855004787, 0.0012059614527970552, 0.0005902897100895643, 0.00043073983397334814, 0.00036999661824665964, 0.0013322844170033932, 0.0007594277849420905, 0.002518310211598873, 0.0035999822430312634, 0.0047567239962518215, 0.011892943643033504, 0.0034102187491953373, 0.013851115480065346, 0.05907334387302399, 0.8907637596130371, 0.0, 0.0, 0.0, 0.0, 0.0, 0.0, 0.0, 0.0, 0.0, 0.0], [0.005058860406279564, 0.000882354099303484, 0.0015358275268226862, 0.0016909866826608777, 0.0013438730966299772, 0.0004949701833538711, 0.0006572249112650752, 0.000552159093786031, 0.000581209606025368, 0.0020545588340610266, 0.0008380856597796082, 0.0010067486437037587, 0.001130085438489914, 0.001613991684280336, 0.00502287270501256, 0.014576870016753674, 0.0037143270019441843, 0.00468147499486804, 0.007913815788924694, 0.00677838921546936, 0.012291360646486282, 0.02773299440741539, 0.10214638710021973, 0.7957004904747009, 0.0, 0.0, 0.0, 0.0, 0.0, 0.0, 0.0, 0.0, 0.0], [0.004004694055765867, 0.00045769705320708454, 0.001564521691761911, 0.003137202002108097, 0.0019937437027692795, 0.00037892634281888604, 0.0004957785131409764, 0.0005698020104318857, 0.0010052066063508391, 0.0023432234302163124, 0.000577214581426233, 0.0016756134573370218, 0.0030787361320108175, 0.0012285254197195172, 0.0052783251740038395, 0.006328051909804344, 0.0031517294701188803, 0.005319307092577219, 0.02138310857117176, 0.006147702690213919, 0.012332224287092686, 0.07402162253856659, 0.1211402490735054, 0.5611117482185364, 0.16127504408359528, 0.0, 0.0, 0.0, 0.0, 0.0, 0.0, 0.0, 0.0], [0.0011286578373983502, 4.988929504179396e-05, 4.1291379602625966e-05, 9.249637514585629e-05, 5.5136377341113985e-05, 3.861736331600696e-05, 5.5920430895639583e-05, 0.00014896324137225747, 5.509230504685547e-06, 6.817452231189236e-05, 3.620448842411861e-05, 4.623965287464671e-05, 0.0010655039222911, 5.919886098126881e-05, 7.78726753196679e-05, 0.00038421290810219944, 0.00011692447878886014, 0.00022428260126616806, 0.0005083995056338608, 0.00015628148685209453, 0.00032331518013961613, 0.0007086835103109479, 0.0009207432740367949, 0.000855972699355334, 0.0044144452549517155, 0.9884169697761536, 0.0, 0.0, 0.0, 0.0, 0.0, 0.0, 0.0], [0.002429968910291791, 0.003659638110548258, 0.0006344973226077855, 0.0006202646181918681, 0.002987676067277789, 0.00034763640724122524, 0.0005059160757809877, 0.0004114967305213213, 0.00021321575331967324, 0.0006509343511424959, 0.00039556898991577327, 0.16986437141895294, 0.0021888979244977236, 0.0006812371429987252, 0.0008683764608576894, 0.008905136957764626, 0.001463850261643529, 0.001339458511210978, 0.006495130714029074, 0.007638707756996155, 0.00461939349770546, 0.0031617884524166584, 0.014200889505445957, 0.046396613121032715, 0.022786034271121025, 0.21939243376255035, 0.4771409332752228, 0.0, 0.0, 0.0, 0.0, 0.0, 0.0], [0.01561034470796585, 0.0009648078703321517, 0.0010281841969117522, 0.0071485210210084915, 0.005316658411175013, 0.0005432688631117344, 0.0007839894969947636, 0.00047082992387004197, 0.0022980384528636932, 0.005463100969791412, 0.0005483075510710478, 0.0008661506581120193, 0.0009035564726218581, 0.0009251972078345716, 0.008375938981771469, 0.0014478117227554321, 0.002061491133645177, 0.0036933845840394497, 0.017008868977427483, 0.00613867212086916, 0.0070418999530375, 0.04128709435462952, 0.06922487914562225, 0.2661718428134918, 0.05024212598800659, 0.1144513413310051, 0.13764901459217072, 0.2323346585035324, 0.0, 0.0, 0.0, 0.0, 0.0], [0.02189529873430729, 0.0013514538295567036, 0.0013727964833378792, 0.005157724488526583, 0.010932797566056252, 0.0004452221328392625, 0.0016178287332877517, 0.0005713265854865313, 0.0007700271671637893, 0.0030935369431972504, 0.00036163401091471314, 0.000932903029024601, 0.001903239986859262, 0.0005254385177977383, 0.0007036192109808326, 0.0015780625399202108, 0.0010200467659160495, 0.0009346716105937958, 0.005167576018720865, 0.0007855423027649522, 0.0028796831611543894, 0.006337146274745464, 0.049514152109622955, 0.021886909380555153, 0.030046820640563965, 0.06941598653793335, 0.029953893274068832, 0.06111619994044304, 0.6677284836769104, 0.0, 0.0, 0.0, 0.0], [0.000294666038826108, 8.085125591605902e-05, 0.00011992640065727755, 0.00017154008673969656, 0.0003899011935573071, 8.630266529507935e-05, 5.253726340015419e-05, 6.616386963287368e-05, 0.00011378402268746868, 6.20008577243425e-05, 0.00011238035222049803, 0.0005867322324775159, 9.785008296603337e-05, 0.00021334871416911483, 0.0004044425149913877, 0.0004726243787445128, 0.00047307353815995157, 0.0005199530278332531, 0.0008571153739467263, 0.00022720210836268961, 0.0015976795693859458, 0.001478065038099885, 0.0016501451609656215, 0.00933965016156435, 0.012792673893272877, 0.012606965377926826, 0.021659618243575096, 0.02886747010052204, 0.0778479054570198, 0.8267574310302734, 0.0, 0.0, 0.0], [0.0006396541139110923, 0.0001992026373045519, 0.0003378460824023932, 0.0003228614223189652, 0.0003883978060912341, 2.2511421775561757e-05, 0.00011559668928384781, 1.968370816030074e-05, 8.749762491788715e-05, 0.00016675748338457197, 2.1353200281737372e-05, 0.0001825768267735839, 0.002879622858017683, 3.2708350772736594e-05, 6.355984805850312e-05, 0.0009078503935597837, 6.314194615697488e-05, 4.954513497068547e-05, 0.005010182503610849, 0.00021555769490078092, 0.00018923310562968254, 0.00023579836124554276, 0.0021191718988120556, 0.003475247649475932, 0.0004957503406330943, 0.012673024088144302, 0.00262746075168252, 0.001192636787891388, 0.02801147848367691, 0.14214563369750977, 0.7951083779335022, 0.0, 0.0], [0.005492149852216244, 0.0014179609715938568, 6.310038588708267e-05, 0.0009282372193410993, 0.0004675876989495009, 9.701229282654822e-05, 5.678701199940406e-05, 6.824066076660529e-05, 4.054810415254906e-05, 0.00021011466742493212, 6.53469905955717e-05, 0.00011957801325479522, 9.082322503672913e-05, 9.077343565877527e-05, 0.00013827468501403928, 0.0004122827958781272, 0.00016900587070267648, 0.0001357070723315701, 0.002428322099149227, 0.00020654786203522235, 0.0004959602374583483, 0.00016561977099627256, 0.0018254044698551297, 0.0016808180371299386, 0.0010187348816543818, 0.015071483328938484, 0.0034083796199411154, 0.0033841945696622133, 0.01886553317308426, 0.010037437081336975, 0.008259562775492668, 0.9230884909629822, 0.0], [0.009386107325553894, 0.001738056424073875, 0.0018091690726578236, 0.0014350239653140306, 0.0016812816029414535, 0.0019791293889284134, 0.0014143430162221193, 0.0021127830259501934, 0.0012016945984214544, 0.0010467651300132275, 0.0012532470282167196, 0.0012125695357099175, 0.0006952418480068445, 0.0016850184183567762, 0.0012904965551570058, 0.0014949406031519175, 0.0030524604953825474, 0.00617641257122159, 0.003993147984147072, 0.002994518494233489, 0.008827602490782738, 0.009542387910187244, 0.010477344505488873, 0.021451430395245552, 0.06221355125308037, 0.026861032471060753, 0.03390643745660782, 0.11987606436014175, 0.05027468875050545, 0.02679685689508915, 0.031165681779384613, 0.10728628933429718, 0.4436681270599365]], [[1.0, 0.0, 0.0, 0.0, 0.0, 0.0, 0.0, 0.0, 0.0, 0.0, 0.0, 0.0, 0.0, 0.0, 0.0, 0.0, 0.0, 0.0, 0.0, 0.0, 0.0, 0.0, 0.0, 0.0, 0.0, 0.0, 0.0, 0.0, 0.0, 0.0, 0.0, 0.0, 0.0], [0.10520479083061218, 0.8947951793670654, 0.0, 0.0, 0.0, 0.0, 0.0, 0.0, 0.0, 0.0, 0.0, 0.0, 0.0, 0.0, 0.0, 0.0, 0.0, 0.0, 0.0, 0.0, 0.0, 0.0, 0.0, 0.0, 0.0, 0.0, 0.0, 0.0, 0.0, 0.0, 0.0, 0.0, 0.0], [0.03907211124897003, 0.0020172216463834047, 0.9589106440544128, 0.0, 0.0, 0.0, 0.0, 0.0, 0.0, 0.0, 0.0, 0.0, 0.0, 0.0, 0.0, 0.0, 0.0, 0.0, 0.0, 0.0, 0.0, 0.0, 0.0, 0.0, 0.0, 0.0, 0.0, 0.0, 0.0, 0.0, 0.0, 0.0, 0.0], [0.015578649006783962, 0.0008392537129111588, 0.0006979772006161511, 0.9828841090202332, 0.0, 0.0, 0.0, 0.0, 0.0, 0.0, 0.0, 0.0, 0.0, 0.0, 0.0, 0.0, 0.0, 0.0, 0.0, 0.0, 0.0, 0.0, 0.0, 0.0, 0.0, 0.0, 0.0, 0.0, 0.0, 0.0, 0.0, 0.0, 0.0], [0.00885646790266037, 9.934307854564395e-06, 1.1174854989803862e-05, 0.00030247060931287706, 0.9908199906349182, 0.0, 0.0, 0.0, 0.0, 0.0, 0.0, 0.0, 0.0, 0.0, 0.0, 0.0, 0.0, 0.0, 0.0, 0.0, 0.0, 0.0, 0.0, 0.0, 0.0, 0.0, 0.0, 0.0, 0.0, 0.0, 0.0, 0.0, 0.0], [0.3544497787952423, 0.0305892676115036, 0.05988960340619087, 0.022903524339199066, 0.0474759005010128, 0.48469194769859314, 0.0, 0.0, 0.0, 0.0, 0.0, 0.0, 0.0, 0.0, 0.0, 0.0, 0.0, 0.0, 0.0, 0.0, 0.0, 0.0, 0.0, 0.0, 0.0, 0.0, 0.0, 0.0, 0.0, 0.0, 0.0, 0.0, 0.0], [0.044769056141376495, 0.0015664667589589953, 0.000377385294996202, 0.00025073293363675475, 0.00040889691445045173, 0.0002606563502922654, 0.952366828918457, 0.0, 0.0, 0.0, 0.0, 0.0, 0.0, 0.0, 0.0, 0.0, 0.0, 0.0, 0.0, 0.0, 0.0, 0.0, 0.0, 0.0, 0.0, 0.0, 0.0, 0.0, 0.0, 0.0, 0.0, 0.0, 0.0], [0.09058346599340439, 0.001147073577158153, 0.006027341354638338, 0.000546847702935338, 0.0017094208160415292, 0.00378508516587317, 0.0026845417451113462, 0.8935161828994751, 0.0, 0.0, 0.0, 0.0, 0.0, 0.0, 0.0, 0.0, 0.0, 0.0, 0.0, 0.0, 0.0, 0.0, 0.0, 0.0, 0.0, 0.0, 0.0, 0.0, 0.0, 0.0, 0.0, 0.0, 0.0], [0.00601072795689106, 2.4289043722092174e-05, 0.0003126671363133937, 1.868291656137444e-05, 0.00029792427085340023, 9.904514627123717e-06, 6.619554369535763e-06, 7.912205433058261e-07, 0.9933183193206787, 0.0, 0.0, 0.0, 0.0, 0.0, 0.0, 0.0, 0.0, 0.0, 0.0, 0.0, 0.0, 0.0, 0.0, 0.0, 0.0, 0.0, 0.0, 0.0, 0.0, 0.0, 0.0, 0.0, 0.0], [0.004546816926449537, 0.0002001936372835189, 0.0002992027730215341, 0.0013363915495574474, 0.00032676555565558374, 8.741359351915889e-07, 1.741572305036243e-05, 2.783417016871681e-07, 0.000296652753604576, 0.9929755926132202, 0.0, 0.0, 0.0, 0.0, 0.0, 0.0, 0.0, 0.0, 0.0, 0.0, 0.0, 0.0, 0.0, 0.0, 0.0, 0.0, 0.0, 0.0, 0.0, 0.0, 0.0, 0.0, 0.0], [0.12262554466724396, 0.023926574736833572, 0.03827652335166931, 0.016171962022781372, 0.030366236343979836, 0.2937592566013336, 0.10661353915929794, 0.0705995112657547, 0.04190010204911232, 0.017833098769187927, 0.2379276007413864, 0.0, 0.0, 0.0, 0.0, 0.0, 0.0, 0.0, 0.0, 0.0, 0.0, 0.0, 0.0, 0.0, 0.0, 0.0, 0.0, 0.0, 0.0, 0.0, 0.0, 0.0, 0.0], [0.0008121049613691866, 0.00011546615860424936, 0.00013500881323125213, 5.539281846722588e-05, 0.0001317410496994853, 1.0027167718362762e-06, 1.3799076441500802e-06, 1.6001598623915925e-07, 1.8972953057527775e-06, 5.419655622063146e-07, 4.7530869551337673e-07, 0.9987448453903198, 0.0, 0.0, 0.0, 0.0, 0.0, 0.0, 0.0, 0.0, 0.0, 0.0, 0.0, 0.0, 0.0, 0.0, 0.0, 0.0, 0.0, 0.0, 0.0, 0.0, 0.0], [0.0013333058450371027, 0.00010533058230066672, 0.0007669612532481551, 0.0009021882433444262, 3.5708394534594845e-06, 8.120483130369394e-07, 1.4038103302027594e-07, 9.56129397877703e-08, 1.686508653619967e-06, 2.9789038308081217e-05, 4.3813446382046095e-07, 1.1965811381742242e-06, 0.9968544840812683, 0.0, 0.0, 0.0, 0.0, 0.0, 0.0, 0.0, 0.0, 0.0, 0.0, 0.0, 0.0, 0.0, 0.0, 0.0, 0.0, 0.0, 0.0, 0.0, 0.0], [0.08159800618886948, 0.02138885296881199, 0.028877170756459236, 0.012675785459578037, 0.024931570515036583, 0.22996489703655243, 0.10401233285665512, 0.06472098082304001, 0.03460093215107918, 0.015198717825114727, 0.1856415718793869, 0.020528046414256096, 0.005003849510103464, 0.1708572655916214, 0.0, 0.0, 0.0, 0.0, 0.0, 0.0, 0.0, 0.0, 0.0, 0.0, 0.0, 0.0, 0.0, 0.0, 0.0, 0.0, 0.0, 0.0, 0.0], [0.0013488874537870288, 8.921202243072912e-05, 0.0006859966088086367, 0.0006963209016248584, 2.1248599296086468e-05, 3.763386189348239e-07, 6.226731557035237e-07, 4.307211725063098e-07, 7.09187315806048e-06, 0.0013103685341775417, 1.6113735057388112e-07, 9.548742809784017e-07, 0.00016453591524623334, 1.1531913912676828e-07, 0.9956735968589783, 0.0, 0.0, 0.0, 0.0, 0.0, 0.0, 0.0, 0.0, 0.0, 0.0, 0.0, 0.0, 0.0, 0.0, 0.0, 0.0, 0.0, 0.0], [0.0010867509990930557, 0.00040724780410528183, 0.00010700340499170125, 0.0006782710552215576, 0.00011028483277186751, 1.3184236991037324e-07, 2.660270865817438e-07, 4.619563185315201e-07, 8.409730071434751e-06, 0.0007784882909618318, 5.109448864004662e-08, 8.792077892394445e-07, 4.934284515911713e-05, 3.489316213745042e-08, 0.00011441197420936078, 0.9966579675674438, 0.0, 0.0, 0.0, 0.0, 0.0, 0.0, 0.0, 0.0, 0.0, 0.0, 0.0, 0.0, 0.0, 0.0, 0.0, 0.0, 0.0], [0.05868088826537132, 0.018785733729600906, 0.024067316204309464, 0.011013143695890903, 0.02145637571811676, 0.1911056786775589, 0.09902714192867279, 0.06065865978598595, 0.030162721872329712, 0.014801905490458012, 0.15370333194732666, 0.016615157946944237, 0.00438538147136569, 0.14085333049297333, 0.015014998614788055, 0.005390206817537546, 0.13427799940109253, 0.0, 0.0, 0.0, 0.0, 0.0, 0.0, 0.0, 0.0, 0.0, 0.0, 0.0, 0.0, 0.0, 0.0, 0.0, 0.0], [0.07323037087917328, 0.028374573215842247, 0.021058259531855583, 0.007611885201185942, 0.01005358062684536, 0.06553953886032104, 0.1455976516008377, 0.08620846271514893, 0.010241265408694744, 0.0074257380329072475, 0.045262716710567474, 0.006621458567678928, 0.0011621779995039105, 0.03923856094479561, 0.008256876841187477, 0.003065688768401742, 0.036122649908065796, 0.40492844581604004, 0.0, 0.0, 0.0, 0.0, 0.0, 0.0, 0.0, 0.0, 0.0, 0.0, 0.0, 0.0, 0.0, 0.0, 0.0], [7.94449370005168e-05, 1.8382105508862878e-06, 3.7134324060161816e-08, 1.557524774398189e-05, 3.472372327451012e-06, 1.3165072365595165e-09, 2.7038657535172206e-08, 1.718662012706318e-08, 9.2322629541286e-08, 1.3506365576176904e-05, 4.4787801245504966e-10, 2.0416692780855783e-09, 5.54200738633881e-08, 3.063855003038185e-10, 4.2177114778496616e-07, 7.065867521305336e-06, 2.4244301011222547e-10, 1.4397331105087119e-09, 0.9998784065246582, 0.0, 0.0, 0.0, 0.0, 0.0, 0.0, 0.0, 0.0, 0.0, 0.0, 0.0, 0.0, 0.0, 0.0], [0.0029344940558075905, 0.0005883852718397975, 0.004250307567417622, 0.004028464201837778, 0.0001159295643446967, 4.331626314524328e-06, 6.773906989110401e-06, 7.07646831870079e-05, 0.00024952724925242364, 0.00031593357562087476, 2.0824420516873943e-06, 4.409212851896882e-05, 0.0003044693439733237, 1.470257643632067e-06, 0.00019761343719437718, 0.001359925721772015, 1.2478665212256601e-06, 6.875189228594536e-06, 0.00019261130364611745, 0.9853248000144958, 0.0, 0.0, 0.0, 0.0, 0.0, 0.0, 0.0, 0.0, 0.0, 0.0, 0.0, 0.0, 0.0], [0.0405653640627861, 0.017898330464959145, 0.020600976422429085, 0.009821103885769844, 0.01788281835615635, 0.15654000639915466, 0.09208230674266815, 0.05628824234008789, 0.026661334559321404, 0.014471274800598621, 0.12537623941898346, 0.013986769132316113, 0.003927926998585463, 0.11453615128993988, 0.013395380228757858, 0.004846666939556599, 0.10880254209041595, 0.04953394830226898, 0.005186409689486027, 0.004420874174684286, 0.10317535698413849, 0.0, 0.0, 0.0, 0.0, 0.0, 0.0, 0.0, 0.0, 0.0, 0.0, 0.0, 0.0], [0.024536369368433952, 0.00312434253282845, 0.0009699315996840596, 4.6315475628944114e-05, 0.0001343479088973254, 0.0006453947280533612, 0.011668854393064976, 0.00032713470864109695, 0.00045730528654530644, 2.3976121156010777e-05, 0.00034454205888323486, 4.996428469894454e-05, 2.5757408366189338e-05, 0.0002821777598001063, 6.5253302636847366e-06, 4.981814072380075e-06, 0.00023554048675578088, 0.0002664513885974884, 2.531117934267968e-05, 2.9761124096694402e-05, 0.00018809268658515066, 0.9566069841384888, 0.0, 0.0, 0.0, 0.0, 0.0, 0.0, 0.0, 0.0, 0.0, 0.0, 0.0], [0.0020759948529303074, 0.0001459175837226212, 5.2898929425282404e-05, 4.218065441818908e-05, 4.738710049423389e-05, 4.1423231778026093e-07, 0.00012964273628313094, 2.4250974092865363e-05, 1.803400891731144e-06, 1.4839238247077446e-06, 1.4489951638552157e-07, 4.199920113023836e-06, 4.106825457483865e-08, 1.0260460925337611e-07, 8.285447847811156e-07, 5.781892014056211e-07, 7.695144432773304e-08, 6.669596785968679e-08, 6.472608220065013e-05, 1.570085601088067e-06, 5.641819811330606e-08, 4.403023467602907e-06, 0.997401237487793, 0.0, 0.0, 0.0, 0.0, 0.0, 0.0, 0.0, 0.0, 0.0, 0.0], [0.0005159099819138646, 0.00011814619938377291, 3.270557863288559e-05, 0.00021188679966144264, 4.563520269584842e-05, 2.9248784016999707e-07, 3.057933781747124e-06, 7.607346930171843e-08, 0.0001375367137370631, 0.0005283530335873365, 1.1576003089430742e-07, 4.028573584946571e-06, 2.07929269890883e-06, 8.805391615851477e-08, 0.00010051658318843693, 4.431615161593072e-05, 6.963698950812613e-08, 9.373022891168148e-08, 3.3377655199728906e-05, 1.5888872439973056e-05, 5.6106753021367695e-08, 7.05262834799214e-08, 9.389279512106441e-06, 0.9981963038444519, 0.0, 0.0, 0.0, 0.0, 0.0, 0.0, 0.0, 0.0, 0.0], [0.06915231794118881, 0.014032104052603245, 0.005599101074039936, 0.0012576855951920152, 0.0008468002779409289, 0.009601175785064697, 0.00896577537059784, 0.052476949989795685, 0.00025028359959833324, 0.0009063855395652354, 0.005419904366135597, 0.0007309209322556853, 0.00019187951693311334, 0.004396581090986729, 0.005964718293398619, 0.00035585384466685355, 0.0038770176470279694, 0.009727218188345432, 0.0011023491388186812, 0.0003644290554802865, 0.003413957776501775, 0.003052354557439685, 0.005698254331946373, 0.00029557320522144437, 0.7923203110694885, 0.0, 0.0, 0.0, 0.0, 0.0, 0.0, 0.0, 0.0], [0.001046158722601831, 1.955721563717816e-05, 1.7359042203679564e-06, 3.1030554964672774e-05, 2.7308031349093653e-05, 1.0180717602281675e-08, 4.815781835532107e-07, 1.7494281223662256e-07, 7.3124517996348e-08, 7.983091450114443e-07, 3.464323272694969e-09, 4.906740741716931e-06, 1.0718973442180868e-07, 2.35255281921809e-09, 2.3834166995584383e-07, 1.3731386161452974e-06, 1.8288706105096253e-09, 6.247633965728028e-09, 9.208356459566858e-06, 1.6384318541895482e-06, 1.2523946324449753e-09, 8.27128976421676e-10, 8.456793693767395e-06, 3.1186914384306874e-06, 9.241437837204103e-09, 0.9988435506820679, 0.0, 0.0, 0.0, 0.0, 0.0, 0.0, 0.0], [0.0010544945253059268, 0.00021373217168729752, 0.0002815719344653189, 0.0011373362503945827, 0.00014783968799747527, 2.0068493995495373e-06, 4.831355909118429e-06, 3.482335159787908e-06, 5.100344878883334e-06, 0.000124204860185273, 9.301510885961761e-07, 1.058263296727091e-05, 1.1688263839459978e-05, 7.077505301822384e-07, 0.0034115957096219063, 0.00019905278168153018, 5.995612468723266e-07, 4.6430378120021487e-07, 1.9585138943511993e-05, 0.00011087791790487245, 4.7500537903033546e-07, 3.2808816285978537e-07, 4.535354491963517e-06, 5.161714580026455e-05, 3.2474736144649796e-07, 1.3071360626781825e-05, 0.9931889772415161, 0.0, 0.0, 0.0, 0.0, 0.0, 0.0], [0.024200769141316414, 0.0028201285749673843, 0.004319298546761274, 0.0009108301601372659, 0.0017753951251506805, 0.003809913992881775, 0.00295332376845181, 0.016714781522750854, 0.0013931747525930405, 0.005003180354833603, 0.0022760885767638683, 0.0005876413779333234, 0.0009901630692183971, 0.0018066930351778865, 0.003131238743662834, 0.00023389386478811502, 0.0016082720831036568, 0.009910299442708492, 0.0028539523482322693, 0.00020495163334999233, 0.001371264923363924, 0.0069190021604299545, 0.0010336581617593765, 0.00014528397878166288, 0.017489781603217125, 0.00046553139691241086, 0.0003024085017386824, 0.884769082069397, 0.0, 0.0, 0.0, 0.0, 0.0], [0.0005256083677522838, 3.5286443562654313e-06, 1.7037668840202969e-06, 9.408171172253788e-05, 0.6647970080375671, 1.653147734259619e-07, 9.51111303493235e-07, 8.886892146620085e-07, 1.701669862086419e-05, 3.7421832530526444e-05, 6.832259913380767e-08, 9.810918527364265e-06, 7.548730707185314e-08, 4.963256827750229e-08, 2.0393908926052973e-06, 7.686546268814709e-06, 4.0668474809990585e-08, 2.6744341852236175e-08, 3.343185017001815e-05, 4.341083013059688e-07, 3.007991011827471e-08, 3.206054088877863e-08, 4.900574822386261e-06, 3.060945573452045e-06, 1.4603210196639793e-08, 2.2145519324112684e-05, 9.211162250721827e-06, 3.164275241829273e-08, 0.3344285786151886, 0.0, 0.0, 0.0, 0.0], [0.004677004646509886, 0.0002802134840749204, 8.346101822098717e-05, 3.157015271426644e-06, 4.065346672632586e-07, 1.3343500882001536e-07, 2.6423611416248605e-05, 1.1439977498639564e-07, 2.787237463053316e-07, 3.7496063214348396e-06, 4.652897445112103e-08, 1.7213982346220291e-06, 1.8165617632348585e-07, 3.148475968828279e-08, 1.8334247897655587e-07, 5.2147463236451586e-08, 2.5215808108214333e-08, 3.078440968806717e-08, 7.142043045860191e-08, 1.6640171907056356e-08, 1.7768222448921733e-08, 8.634524562012302e-08, 2.8009644665871747e-06, 8.454143767266942e-07, 3.098357126418705e-08, 2.927866091795295e-07, 5.67622805647261e-07, 5.055421414823513e-09, 2.9141034474378102e-08, 0.9949179887771606, 0.0, 0.0, 0.0], [5.636793503072113e-05, 0.00020023752585984766, 1.6319111182383494e-06, 1.5089314047145308e-06, 1.7779770132619888e-05, 5.956442006294083e-10, 6.940376351849409e-06, 5.034010985838222e-09, 2.1682895123831258e-07, 1.7164259134005988e-06, 1.9326268363428767e-10, 1.8911427090984034e-08, 9.538841538869747e-08, 1.2946885230569194e-10, 8.0771513921718e-09, 4.3866159103345126e-05, 9.768684472444278e-11, 5.256080570781307e-10, 6.932170799700543e-05, 7.505881427505301e-08, 7.069291679817624e-11, 3.98804722578916e-08, 1.0610277058731299e-05, 2.212073013652116e-06, 8.688617603169746e-10, 9.928479812515434e-06, 5.390105695113334e-09, 1.1354459733547984e-10, 3.060043582081562e-06, 3.8945628944020427e-07, 0.9995740056037903, 0.0, 0.0], [0.00035569691681303084, 1.9489438273012638e-05, 9.16096723813098e-06, 1.3085226783005055e-05, 2.3808808691683225e-05, 2.9718906446873916e-08, 4.160590469837189e-05, 1.7756474335328676e-07, 6.896235049680399e-07, 1.0506209946470335e-06, 1.2230741752716767e-08, 4.290535798645578e-06, 3.295820931725757e-07, 9.211071905212975e-09, 1.7466363715357147e-06, 4.682776307163294e-06, 7.442711336125285e-09, 9.67378266381047e-09, 3.9665061194682494e-05, 7.324877628889226e-07, 5.543690839715509e-09, 1.0396686178637538e-07, 1.4401575754163787e-05, 8.873323167790659e-06, 5.9894045278952035e-09, 1.5627754692104645e-05, 2.98111899610376e-06, 6.874329550043967e-09, 4.85464624944143e-06, 7.072258540574694e-06, 6.210673745954409e-06, 0.999423623085022, 0.0], [0.05455268546938896, 0.016429057344794273, 0.016008341684937477, 0.006986880209296942, 0.024884143844246864, 0.07376933097839355, 0.07933786511421204, 0.05594552680850029, 0.02726820483803749, 0.013368778862059116, 0.05590308457612991, 0.0072230263613164425, 0.005426577292382717, 0.05012328177690506, 0.008279064670205116, 0.003060964634642005, 0.04682297632098198, 0.04751847684383392, 0.0028449436649680138, 0.007037976291030645, 0.04282715544104576, 0.051381900906562805, 0.02728237397968769, 0.02637534588575363, 0.02615920826792717, 0.011997980996966362, 0.00622012373059988, 0.03648781031370163, 0.011124699376523495, 0.005218563601374626, 0.0025592006277292967, 0.0026040279772132635, 0.1469704508781433]], [[1.0, 0.0, 0.0, 0.0, 0.0, 0.0, 0.0, 0.0, 0.0, 0.0, 0.0, 0.0, 0.0, 0.0, 0.0, 0.0, 0.0, 0.0, 0.0, 0.0, 0.0, 0.0, 0.0, 0.0, 0.0, 0.0, 0.0, 0.0, 0.0, 0.0, 0.0, 0.0, 0.0], [0.9192657470703125, 0.08073429018259048, 0.0, 0.0, 0.0, 0.0, 0.0, 0.0, 0.0, 0.0, 0.0, 0.0, 0.0, 0.0, 0.0, 0.0, 0.0, 0.0, 0.0, 0.0, 0.0, 0.0, 0.0, 0.0, 0.0, 0.0, 0.0, 0.0, 0.0, 0.0, 0.0, 0.0, 0.0], [0.4543737471103668, 0.42650431394577026, 0.11912190169095993, 0.0, 0.0, 0.0, 0.0, 0.0, 0.0, 0.0, 0.0, 0.0, 0.0, 0.0, 0.0, 0.0, 0.0, 0.0, 0.0, 0.0, 0.0, 0.0, 0.0, 0.0, 0.0, 0.0, 0.0, 0.0, 0.0, 0.0, 0.0, 0.0, 0.0], [0.5267522931098938, 0.2232162207365036, 0.12420625239610672, 0.12582522630691528, 0.0, 0.0, 0.0, 0.0, 0.0, 0.0, 0.0, 0.0, 0.0, 0.0, 0.0, 0.0, 0.0, 0.0, 0.0, 0.0, 0.0, 0.0, 0.0, 0.0, 0.0, 0.0, 0.0, 0.0, 0.0, 0.0, 0.0, 0.0, 0.0], [0.39034879207611084, 0.1709941327571869, 0.06872711330652237, 0.1837182193994522, 0.1862117499113083, 0.0, 0.0, 0.0, 0.0, 0.0, 0.0, 0.0, 0.0, 0.0, 0.0, 0.0, 0.0, 0.0, 0.0, 0.0, 0.0, 0.0, 0.0, 0.0, 0.0, 0.0, 0.0, 0.0, 0.0, 0.0, 0.0, 0.0, 0.0], [0.1974421590566635, 0.25436845421791077, 0.14488467574119568, 0.18925856053829193, 0.20821943879127502, 0.005826788488775492, 0.0, 0.0, 0.0, 0.0, 0.0, 0.0, 0.0, 0.0, 0.0, 0.0, 0.0, 0.0, 0.0, 0.0, 0.0, 0.0, 0.0, 0.0, 0.0, 0.0, 0.0, 0.0, 0.0, 0.0, 0.0, 0.0, 0.0], [0.19473569095134735, 0.13241830468177795, 0.14391931891441345, 0.1512073427438736, 0.30024465918540955, 0.020584633573889732, 0.056889988481998444, 0.0, 0.0, 0.0, 0.0, 0.0, 0.0, 0.0, 0.0, 0.0, 0.0, 0.0, 0.0, 0.0, 0.0, 0.0, 0.0, 0.0, 0.0, 0.0, 0.0, 0.0, 0.0, 0.0, 0.0, 0.0, 0.0], [0.126966655254364, 0.21597379446029663, 0.1608932763338089, 0.1969882845878601, 0.18844620883464813, 0.01354492362588644, 0.07520708441734314, 0.021979710087180138, 0.0, 0.0, 0.0, 0.0, 0.0, 0.0, 0.0, 0.0, 0.0, 0.0, 0.0, 0.0, 0.0, 0.0, 0.0, 0.0, 0.0, 0.0, 0.0, 0.0, 0.0, 0.0, 0.0, 0.0, 0.0], [0.2912122905254364, 0.05954228714108467, 0.11079411208629608, 0.09717854112386703, 0.22345606982707977, 0.016262581571936607, 0.08719440549612045, 0.02476227469742298, 0.0895974263548851, 0.0, 0.0, 0.0, 0.0, 0.0, 0.0, 0.0, 0.0, 0.0, 0.0, 0.0, 0.0, 0.0, 0.0, 0.0, 0.0, 0.0, 0.0, 0.0, 0.0, 0.0, 0.0, 0.0, 0.0], [0.22981956601142883, 0.03802676871418953, 0.1601383239030838, 0.11780404299497604, 0.1618119180202484, 0.03552817925810814, 0.07561114430427551, 0.020756026729941368, 0.10670632123947144, 0.05379768833518028, 0.0, 0.0, 0.0, 0.0, 0.0, 0.0, 0.0, 0.0, 0.0, 0.0, 0.0, 0.0, 0.0, 0.0, 0.0, 0.0, 0.0, 0.0, 0.0, 0.0, 0.0, 0.0, 0.0], [0.13314427435398102, 0.1885865181684494, 0.10808100551366806, 0.15994969010353088, 0.17739208042621613, 0.003598014824092388, 0.02506208047270775, 0.012862924486398697, 0.07453098148107529, 0.11275243759155273, 0.0040399846620857716, 0.0, 0.0, 0.0, 0.0, 0.0, 0.0, 0.0, 0.0, 0.0, 0.0, 0.0, 0.0, 0.0, 0.0, 0.0, 0.0, 0.0, 0.0, 0.0, 0.0, 0.0, 0.0], [0.16746403276920319, 0.1435522586107254, 0.06118571758270264, 0.17358073592185974, 0.10113828629255295, 0.01755346544086933, 0.032395292073488235, 0.007995491847395897, 0.05453447625041008, 0.07883203029632568, 0.017258210107684135, 0.1445099413394928, 0.0, 0.0, 0.0, 0.0, 0.0, 0.0, 0.0, 0.0, 0.0, 0.0, 0.0, 0.0, 0.0, 0.0, 0.0, 0.0, 0.0, 0.0, 0.0, 0.0, 0.0], [0.269968181848526, 0.1302907019853592, 0.06605684757232666, 0.06156139820814133, 0.08437130600214005, 0.019846618175506592, 0.01631278730928898, 0.012965916655957699, 0.03231465071439743, 0.05254792049527168, 0.019868608564138412, 0.13695639371871948, 0.09693866223096848, 0.0, 0.0, 0.0, 0.0, 0.0, 0.0, 0.0, 0.0, 0.0, 0.0, 0.0, 0.0, 0.0, 0.0, 0.0, 0.0, 0.0, 0.0, 0.0, 0.0], [0.09820345789194107, 0.1361864060163498, 0.08005785942077637, 0.12152864038944244, 0.1357937753200531, 0.0024323563557118177, 0.01778949610888958, 0.009086485020816326, 0.05637528374791145, 0.08521631360054016, 0.002753336215391755, 0.1520378738641739, 0.09946723282337189, 0.0030714021995663643, 0.0, 0.0, 0.0, 0.0, 0.0, 0.0, 0.0, 0.0, 0.0, 0.0, 0.0, 0.0, 0.0, 0.0, 0.0, 0.0, 0.0, 0.0, 0.0], [0.17012891173362732, 0.08885713666677475, 0.09089688211679459, 0.08085783571004868, 0.11427336931228638, 0.010901481844484806, 0.014788412488996983, 0.005497369449585676, 0.051512569189071655, 0.05330682545900345, 0.01059581059962511, 0.0944228321313858, 0.1309811919927597, 0.011153683066368103, 0.07182563096284866, 0.0, 0.0, 0.0, 0.0, 0.0, 0.0, 0.0, 0.0, 0.0, 0.0, 0.0, 0.0, 0.0, 0.0, 0.0, 0.0, 0.0, 0.0], [0.103658527135849, 0.035885393619537354, 0.08803563565015793, 0.06087934598326683, 0.08348328620195389, 0.03080575540661812, 0.029615938663482666, 0.01091869454830885, 0.04049993306398392, 0.042886052280664444, 0.032192960381507874, 0.1500813215970993, 0.12658780813217163, 0.03490219637751579, 0.05825435742735863, 0.0713128000497818, 0.0, 0.0, 0.0, 0.0, 0.0, 0.0, 0.0, 0.0, 0.0, 0.0, 0.0, 0.0, 0.0, 0.0, 0.0, 0.0, 0.0], [0.07047092169523239, 0.09600996226072311, 0.05621583014726639, 0.0869988426566124, 0.09934130311012268, 0.0016298771370202303, 0.012408622540533543, 0.006380435079336166, 0.041014041751623154, 0.06348710507154465, 0.0018482186133041978, 0.11387646198272705, 0.07328981906175613, 0.0020712940022349358, 0.07246166467666626, 0.20012789964675903, 0.002367777284234762, 0.0, 0.0, 0.0, 0.0, 0.0, 0.0, 0.0, 0.0, 0.0, 0.0, 0.0, 0.0, 0.0, 0.0, 0.0, 0.0], [0.05659443512558937, 0.08906206488609314, 0.0470324382185936, 0.09457874298095703, 0.08793889731168747, 0.0019721637945622206, 0.017767688259482384, 0.005990442354232073, 0.06014857441186905, 0.08834964036941528, 0.00226376811042428, 0.10461529344320297, 0.06079370528459549, 0.0025566238909959793, 0.0781862661242485, 0.19496020674705505, 0.0029299946036189795, 0.00425906153395772, 0.0, 0.0, 0.0, 0.0, 0.0, 0.0, 0.0, 0.0, 0.0, 0.0, 0.0, 0.0, 0.0, 0.0, 0.0], [0.159706249833107, 0.02609645202755928, 0.04515179246664047, 0.03497578576207161, 0.08030679076910019, 0.05469035357236862, 0.04078543931245804, 0.026513006538152695, 0.02725193277001381, 0.03919816389679909, 0.05351431295275688, 0.0484292134642601, 0.0626426637172699, 0.05558210611343384, 0.05559666454792023, 0.04792959988117218, 0.05676325410604477, 0.04892301559448242, 0.035943202674388885, 0.0, 0.0, 0.0, 0.0, 0.0, 0.0, 0.0, 0.0, 0.0, 0.0, 0.0, 0.0, 0.0, 0.0], [0.08663123100996017, 0.09557437896728516, 0.036738112568855286, 0.06946706771850586, 0.05681459978222847, 0.008190212771296501, 0.022195827215909958, 0.007642822340130806, 0.03146829083561897, 0.0755520761013031, 0.008965260349214077, 0.05263480916619301, 0.04491105303168297, 0.009935050271451473, 0.04481375962495804, 0.15198466181755066, 0.010933401994407177, 0.007993675768375397, 0.16402560472488403, 0.013528087176382542, 0.0, 0.0, 0.0, 0.0, 0.0, 0.0, 0.0, 0.0, 0.0, 0.0, 0.0, 0.0, 0.0], [0.04783450812101364, 0.06669354438781738, 0.03798919916152954, 0.06040370464324951, 0.06899043917655945, 0.0010267281904816628, 0.008172678761184216, 0.004158171825110912, 0.028268275782465935, 0.04407239332795143, 0.001158645492978394, 0.07832913845777512, 0.05082901194691658, 0.0013004981447011232, 0.049042992293834686, 0.14145001769065857, 0.001493433490395546, 0.0025566830299794674, 0.17534086108207703, 0.12910203635692596, 0.00178705551661551, 0.0, 0.0, 0.0, 0.0, 0.0, 0.0, 0.0, 0.0, 0.0, 0.0, 0.0, 0.0], [0.04114089161157608, 0.04766074940562248, 0.03587000444531441, 0.06666102260351181, 0.07969272881746292, 0.002365077380090952, 0.020340193063020706, 0.004854495637118816, 0.0643620565533638, 0.06737151741981506, 0.002707370324060321, 0.05596054717898369, 0.05648665502667427, 0.0030767235439270735, 0.05354388803243637, 0.15165932476520538, 0.0035397172905504704, 0.004673933144658804, 0.16402719914913177, 0.05968151614069939, 0.004154941998422146, 0.01016951259225607, 0.0, 0.0, 0.0, 0.0, 0.0, 0.0, 0.0, 0.0, 0.0, 0.0, 0.0], [0.066288061439991, 0.04092540219426155, 0.027322683483362198, 0.04505367577075958, 0.06575217097997665, 0.015657559037208557, 0.027881884947419167, 0.013711252249777317, 0.03174295648932457, 0.05280745401978493, 0.0154477683827281, 0.03218111768364906, 0.032901063561439514, 0.016298864036798477, 0.0266366396099329, 0.09772852808237076, 0.017114199697971344, 0.0169194545596838, 0.09847065061330795, 0.04787909612059593, 0.018412543460726738, 0.015331598930060863, 0.17753544449806213, 0.0, 0.0, 0.0, 0.0, 0.0, 0.0, 0.0, 0.0, 0.0, 0.0], [0.09801426529884338, 0.026328803971409798, 0.035868141800165176, 0.05713057518005371, 0.06943872570991516, 0.012128953821957111, 0.02090909518301487, 0.008747953921556473, 0.02699965238571167, 0.03726675733923912, 0.01171634066849947, 0.08499535918235779, 0.05501336604356766, 0.01219671405851841, 0.03563909977674484, 0.08789662271738052, 0.01297010201960802, 0.010851021856069565, 0.06408383697271347, 0.059639204293489456, 0.014492183923721313, 0.0060937367379665375, 0.09761442244052887, 0.05396495386958122, 0.0, 0.0, 0.0, 0.0, 0.0, 0.0, 0.0, 0.0, 0.0], [0.0276932492852211, 0.040737710893154144, 0.03122355416417122, 0.05879037827253342, 0.056018248200416565, 0.001571478322148323, 0.011908045969903469, 0.0033397902734577656, 0.051765527576208115, 0.05291242152452469, 0.001825982122682035, 0.06030035763978958, 0.02835717424750328, 0.0020878093782812357, 0.050864771008491516, 0.07898837327957153, 0.0023987069725990295, 0.0029048246797174215, 0.11135733872652054, 0.045860160142183304, 0.002884918125346303, 0.011431248858571053, 0.1234055906534195, 0.1348847597837448, 0.006487554404884577, 0.0, 0.0, 0.0, 0.0, 0.0, 0.0, 0.0, 0.0], [0.1539076864719391, 0.02378677949309349, 0.05320247262716293, 0.039638862013816833, 0.05711062625050545, 0.015628933906555176, 0.020206082612276077, 0.009252366609871387, 0.021311869844794273, 0.029029954224824905, 0.014741906896233559, 0.06123839318752289, 0.10112591832876205, 0.015157829038798809, 0.04335403069853783, 0.040907200425863266, 0.015732653439044952, 0.0200734231621027, 0.05374931916594505, 0.03468617796897888, 0.016989389434456825, 0.006368498783558607, 0.04042018577456474, 0.031060410663485527, 0.01393715851008892, 0.06738189607858658, 0.0, 0.0, 0.0, 0.0, 0.0, 0.0, 0.0], [0.08555092662572861, 0.035057421773672104, 0.05885257571935654, 0.03497909754514694, 0.05178742855787277, 0.002511989790946245, 0.004151222296059132, 0.002085917629301548, 0.014081125147640705, 0.024491360411047935, 0.002376004122197628, 0.09535115957260132, 0.07766134291887283, 0.0024908813647925854, 0.04572678729891777, 0.05774117261171341, 0.0026603781152516603, 0.0033477596007287502, 0.04799826815724373, 0.026788821443915367, 0.002958715660497546, 0.0046557895839214325, 0.03607099503278732, 0.021599188446998596, 0.004788635764271021, 0.2205219715833664, 0.033713068813085556, 0.0, 0.0, 0.0, 0.0, 0.0, 0.0], [0.02070670947432518, 0.03719405457377434, 0.019723718985915184, 0.038942232728004456, 0.031826991587877274, 0.001225367421284318, 0.008815756998956203, 0.002405291423201561, 0.03457954153418541, 0.04729803651571274, 0.0013953748857602477, 0.051482055336236954, 0.020486745983362198, 0.0015608385438099504, 0.03826117515563965, 0.048637550324201584, 0.0017825310351327062, 0.0025446065701544285, 0.06541350483894348, 0.04188564047217369, 0.0020960597321391106, 0.00940138939768076, 0.08460033684968948, 0.09019992500543594, 0.005403275601565838, 0.22932560741901398, 0.05692273750901222, 0.0058829220943152905, 0.0, 0.0, 0.0, 0.0, 0.0], [0.08582809567451477, 0.03967176005244255, 0.014841827563941479, 0.05653618648648262, 0.05960613116621971, 0.00698751350864768, 0.010110092349350452, 0.002887724433094263, 0.015322853811085224, 0.025928769260644913, 0.0068304408341646194, 0.03354894742369652, 0.02109353430569172, 0.007213153876364231, 0.019323399290442467, 0.05298227444291115, 0.007658609189093113, 0.00515784602612257, 0.06523177027702332, 0.018170012161135674, 0.00853469967842102, 0.004368167836219072, 0.02691243588924408, 0.04962792992591858, 0.004404325038194656, 0.1938866227865219, 0.03933224827051163, 0.00536354910582304, 0.11263898015022278, 0.0, 0.0, 0.0, 0.0], [0.07040346413850784, 0.05926160514354706, 0.01533484272658825, 0.024139029905200005, 0.01572885550558567, 0.019492091611027718, 0.017311513423919678, 0.017303066328167915, 0.020563242956995964, 0.0451558381319046, 0.021815840154886246, 0.07079727202653885, 0.03006393276154995, 0.023540601134300232, 0.020684493705630302, 0.02116367034614086, 0.02644512616097927, 0.02354004606604576, 0.0566372349858284, 0.03369481489062309, 0.030707262456417084, 0.015993354842066765, 0.015474077314138412, 0.030803615227341652, 0.03180557116866112, 0.07969608902931213, 0.03437486290931702, 0.03453715890645981, 0.030624374747276306, 0.06290693581104279, 0.0, 0.0, 0.0], [0.05338500067591667, 0.02962152659893036, 0.021030088886618614, 0.023695718497037888, 0.03343641757965088, 0.018393810838460922, 0.024060707539319992, 0.022810008376836777, 0.013972376473248005, 0.028813570737838745, 0.01905973255634308, 0.015371971763670444, 0.02533530630171299, 0.019971948117017746, 0.01407573651522398, 0.038844529539346695, 0.021346205845475197, 0.01932143233716488, 0.05632656067609787, 0.02136002480983734, 0.023394569754600525, 0.023136628791689873, 0.06416381895542145, 0.06724691390991211, 0.0346950888633728, 0.0434902161359787, 0.03032725676894188, 0.03285713493824005, 0.05327510088682175, 0.0659981444478035, 0.0411825068295002, 0.0, 0.0], [0.181770920753479, 0.01953315921127796, 0.028002936393022537, 0.029110191389918327, 0.04134834557771683, 0.018019484356045723, 0.010471731424331665, 0.008382905274629593, 0.01533579919487238, 0.0218394435942173, 0.016893351450562477, 0.03806138038635254, 0.036438651382923126, 0.017464274540543556, 0.026129070669412613, 0.040115050971508026, 0.018317215144634247, 0.012488219887018204, 0.05136965587735176, 0.019443845376372337, 0.019889753311872482, 0.0035764528438448906, 0.02623296156525612, 0.018429184332489967, 0.011723745614290237, 0.0327298603951931, 0.034808214753866196, 0.012035041116178036, 0.0603029802441597, 0.007873312570154667, 0.04227293282747269, 0.07958997040987015, 0.0], [0.015003391541540623, 0.020334864035248756, 0.007813445292413235, 0.016553575173020363, 0.016466114670038223, 0.0002380963123869151, 0.001959895482286811, 0.0006898259744048119, 0.006483220960944891, 0.010734066367149353, 0.0002443527337163687, 0.014634683728218079, 0.009247617796063423, 0.00026059208903461695, 0.009339914657175541, 0.04272659495472908, 0.00028863942134194076, 0.00038116759969852865, 0.05474938824772835, 0.09452768415212631, 0.0003421130240894854, 0.0017270189709961414, 0.047459349036216736, 0.026613805443048477, 0.001023865770548582, 0.16537977755069733, 0.014187120832502842, 0.0013092351146042347, 0.04770655184984207, 0.011198502965271473, 0.22050751745700836, 0.1394261121749878, 0.00044186264858581126]], [[1.0, 0.0, 0.0, 0.0, 0.0, 0.0, 0.0, 0.0, 0.0, 0.0, 0.0, 0.0, 0.0, 0.0, 0.0, 0.0, 0.0, 0.0, 0.0, 0.0, 0.0, 0.0, 0.0, 0.0, 0.0, 0.0, 0.0, 0.0, 0.0, 0.0, 0.0, 0.0, 0.0], [0.9333657622337341, 0.06663419306278229, 0.0, 0.0, 0.0, 0.0, 0.0, 0.0, 0.0, 0.0, 0.0, 0.0, 0.0, 0.0, 0.0, 0.0, 0.0, 0.0, 0.0, 0.0, 0.0, 0.0, 0.0, 0.0, 0.0, 0.0, 0.0, 0.0, 0.0, 0.0, 0.0, 0.0, 0.0], [0.32452353835105896, 0.5923718214035034, 0.0831046998500824, 0.0, 0.0, 0.0, 0.0, 0.0, 0.0, 0.0, 0.0, 0.0, 0.0, 0.0, 0.0, 0.0, 0.0, 0.0, 0.0, 0.0, 0.0, 0.0, 0.0, 0.0, 0.0, 0.0, 0.0, 0.0, 0.0, 0.0, 0.0, 0.0, 0.0], [0.14159756898880005, 0.514380931854248, 0.281441330909729, 0.0625801533460617, 0.0, 0.0, 0.0, 0.0, 0.0, 0.0, 0.0, 0.0, 0.0, 0.0, 0.0, 0.0, 0.0, 0.0, 0.0, 0.0, 0.0, 0.0, 0.0, 0.0, 0.0, 0.0, 0.0, 0.0, 0.0, 0.0, 0.0, 0.0, 0.0], [0.2526226043701172, 0.058340635150671005, 0.10458876937627792, 0.44111600518226624, 0.14333191514015198, 0.0, 0.0, 0.0, 0.0, 0.0, 0.0, 0.0, 0.0, 0.0, 0.0, 0.0, 0.0, 0.0, 0.0, 0.0, 0.0, 0.0, 0.0, 0.0, 0.0, 0.0, 0.0, 0.0, 0.0, 0.0, 0.0, 0.0, 0.0], [0.18051566183567047, 0.09828891605138779, 0.10873974114656448, 0.12262696772813797, 0.0999554917216301, 0.389873206615448, 0.0, 0.0, 0.0, 0.0, 0.0, 0.0, 0.0, 0.0, 0.0, 0.0, 0.0, 0.0, 0.0, 0.0, 0.0, 0.0, 0.0, 0.0, 0.0, 0.0, 0.0, 0.0, 0.0, 0.0, 0.0, 0.0, 0.0], [0.17192290723323822, 0.02332092821598053, 0.12332712858915329, 0.06076498702168465, 0.05971726402640343, 0.34759169816970825, 0.21335501968860626, 0.0, 0.0, 0.0, 0.0, 0.0, 0.0, 0.0, 0.0, 0.0, 0.0, 0.0, 0.0, 0.0, 0.0, 0.0, 0.0, 0.0, 0.0, 0.0, 0.0, 0.0, 0.0, 0.0, 0.0, 0.0, 0.0], [0.09627038240432739, 0.04683610796928406, 0.028257345780730247, 0.0323924645781517, 0.05865047499537468, 0.1582932472229004, 0.309965044260025, 0.26933491230010986, 0.0, 0.0, 0.0, 0.0, 0.0, 0.0, 0.0, 0.0, 0.0, 0.0, 0.0, 0.0, 0.0, 0.0, 0.0, 0.0, 0.0, 0.0, 0.0, 0.0, 0.0, 0.0, 0.0, 0.0, 0.0], [0.09948239475488663, 0.06464176625013351, 0.028671851381659508, 0.07305676490068436, 0.02978716604411602, 0.13960029184818268, 0.20754705369472504, 0.2658021152019501, 0.0914105772972107, 0.0, 0.0, 0.0, 0.0, 0.0, 0.0, 0.0, 0.0, 0.0, 0.0, 0.0, 0.0, 0.0, 0.0, 0.0, 0.0, 0.0, 0.0, 0.0, 0.0, 0.0, 0.0, 0.0, 0.0], [0.056320443749427795, 0.029885871335864067, 0.013419930823147297, 0.0024075517430901527, 0.01324548851698637, 0.045645419508218765, 0.055225614458322525, 0.10027080774307251, 0.6579988598823547, 0.025580091401934624, 0.0, 0.0, 0.0, 0.0, 0.0, 0.0, 0.0, 0.0, 0.0, 0.0, 0.0, 0.0, 0.0, 0.0, 0.0, 0.0, 0.0, 0.0, 0.0, 0.0, 0.0, 0.0, 0.0], [0.04266997054219246, 0.010426473803818226, 0.010652238503098488, 0.013446654193103313, 0.009353149682283401, 0.040159743279218674, 0.07105167210102081, 0.13737663626670837, 0.10423272848129272, 0.21736635267734528, 0.34326446056365967, 0.0, 0.0, 0.0, 0.0, 0.0, 0.0, 0.0, 0.0, 0.0, 0.0, 0.0, 0.0, 0.0, 0.0, 0.0, 0.0, 0.0, 0.0, 0.0, 0.0, 0.0, 0.0], [0.029683873057365417, 0.002561639528721571, 0.0044074878096580505, 0.034248705953359604, 0.014238735660910606, 0.02800186164677143, 0.022288035601377487, 0.0710596814751625, 0.040262311697006226, 0.5543041825294495, 0.17333047091960907, 0.025612974539399147, 0.0, 0.0, 0.0, 0.0, 0.0, 0.0, 0.0, 0.0, 0.0, 0.0, 0.0, 0.0, 0.0, 0.0, 0.0, 0.0, 0.0, 0.0, 0.0, 0.0, 0.0], [0.04039590433239937, 0.008631564676761627, 0.005494224838912487, 0.0038641421124339104, 0.023363133892416954, 0.027206972241401672, 0.025677314028143883, 0.050485141575336456, 0.051056135445833206, 0.05041782557964325, 0.14164325594902039, 0.5115286707878113, 0.06023568660020828, 0.0, 0.0, 0.0, 0.0, 0.0, 0.0, 0.0, 0.0, 0.0, 0.0, 0.0, 0.0, 0.0, 0.0, 0.0, 0.0, 0.0, 0.0, 0.0, 0.0], [0.028706420212984085, 0.004808458965271711, 0.004723662510514259, 0.00538259744644165, 0.003456050530076027, 0.014470163732767105, 0.02403736673295498, 0.041626229882240295, 0.03567296266555786, 0.07060731947422028, 0.10830993950366974, 0.05811617150902748, 0.20621217787265778, 0.39387044310569763, 0.0, 0.0, 0.0, 0.0, 0.0, 0.0, 0.0, 0.0, 0.0, 0.0, 0.0, 0.0, 0.0, 0.0, 0.0, 0.0, 0.0, 0.0, 0.0], [0.05342647805809975, 0.011923292651772499, 0.01557224616408348, 0.0021123236510902643, 0.005851036868989468, 0.0221709031611681, 0.03818465769290924, 0.02741154655814171, 0.054642852395772934, 0.049108292907476425, 0.12328369915485382, 0.052871767431497574, 0.07545653730630875, 0.37015312910079956, 0.09783113747835159, 0.0, 0.0, 0.0, 0.0, 0.0, 0.0, 0.0, 0.0, 0.0, 0.0, 0.0, 0.0, 0.0, 0.0, 0.0, 0.0, 0.0, 0.0], [0.008346715942025185, 0.00027852662606164813, 0.0011786009417846799, 0.0021395485382527113, 0.002476172521710396, 0.002918292535468936, 0.004576897248625755, 0.003965593408793211, 0.004973019938915968, 0.011347766034305096, 0.01301405020058155, 0.005545963998883963, 0.020895594730973244, 0.03838542848825455, 0.8750316500663757, 0.004926194902509451, 0.0, 0.0, 0.0, 0.0, 0.0, 0.0, 0.0, 0.0, 0.0, 0.0, 0.0, 0.0, 0.0, 0.0, 0.0, 0.0, 0.0], [0.021700313314795494, 0.0026786664966493845, 0.002383930142968893, 0.0028156291227787733, 0.0015562332700937986, 0.006139401346445084, 0.00903982762247324, 0.013740862719714642, 0.01241221372038126, 0.024686506018042564, 0.0340690016746521, 0.01756146177649498, 0.060829512774944305, 0.12004056572914124, 0.1151680275797844, 0.1266368180513382, 0.42854106426239014, 0.0, 0.0, 0.0, 0.0, 0.0, 0.0, 0.0, 0.0, 0.0, 0.0, 0.0, 0.0, 0.0, 0.0, 0.0, 0.0], [0.0196814127266407, 0.002866192487999797, 0.0027528649661689997, 0.0023641984444111586, 0.002220575697720051, 0.004776964895427227, 0.00501539371907711, 0.007020772434771061, 0.006602998822927475, 0.01582489162683487, 0.021779105067253113, 0.022375907748937607, 0.039055511355400085, 0.07342643290758133, 0.07227572053670883, 0.0810362696647644, 0.2556321620941162, 0.3652925193309784, 0.0, 0.0, 0.0, 0.0, 0.0, 0.0, 0.0, 0.0, 0.0, 0.0, 0.0, 0.0, 0.0, 0.0, 0.0], [0.034438688308000565, 0.0024295083712786436, 0.002703877631574869, 0.0010108919814229012, 0.0028212438337504864, 0.009310656227171421, 0.007474055513739586, 0.01052639540284872, 0.019342603161931038, 0.006583380978554487, 0.030525246635079384, 0.008166545070707798, 0.0239456407725811, 0.08047981560230255, 0.044289324432611465, 0.04886510595679283, 0.2326633334159851, 0.3870973289012909, 0.047326426953077316, 0.0, 0.0, 0.0, 0.0, 0.0, 0.0, 0.0, 0.0, 0.0, 0.0, 0.0, 0.0, 0.0, 0.0], [0.0036976826377213, 0.006450964603573084, 0.0004921728977933526, 0.00030695952591486275, 0.00012400795822031796, 0.0010727369226515293, 0.0008858799119479954, 0.0013806350762024522, 0.0008200182928703725, 0.00027311910525895655, 0.0027830637991428375, 0.0352943055331707, 0.003561372170224786, 0.007148310542106628, 0.0016474073054268956, 0.01673164963722229, 0.019172819331288338, 0.022339249029755592, 0.8733667135238647, 0.0024509630165994167, 0.0, 0.0, 0.0, 0.0, 0.0, 0.0, 0.0, 0.0, 0.0, 0.0, 0.0, 0.0, 0.0], [0.013628778047859669, 0.0014384427340701222, 0.001218863995745778, 0.0012915851548314095, 0.00061180186457932, 0.0021400360856205225, 0.0027469582855701447, 0.003336044494062662, 0.003091872902587056, 0.00598891219124198, 0.007237215526401997, 0.0035477413330227137, 0.012891948223114014, 0.022229142487049103, 0.02082422561943531, 0.026295309886336327, 0.0764816552400589, 0.16261443495750427, 0.12638653814792633, 0.10034430027008057, 0.40565407276153564, 0.0, 0.0, 0.0, 0.0, 0.0, 0.0, 0.0, 0.0, 0.0, 0.0, 0.0, 0.0], [0.02143297716975212, 0.0007291636429727077, 0.001088969293050468, 0.0008559612324461341, 0.0010556625202298164, 0.002354246098548174, 0.0018633328145369887, 0.002486987505108118, 0.004011375829577446, 0.003645628923550248, 0.006636610254645348, 0.002459166571497917, 0.008106633089482784, 0.019501395523548126, 0.013945500366389751, 0.01683158613741398, 0.06727859377861023, 0.10203739255666733, 0.07506178319454193, 0.03785500302910805, 0.3474158048629761, 0.26334619522094727, 0.0, 0.0, 0.0, 0.0, 0.0, 0.0, 0.0, 0.0, 0.0, 0.0, 0.0], [0.018374428153038025, 0.001634014304727316, 0.00026486636488698423, 0.0006277089123614132, 0.0007212899508886039, 0.0022947131656110287, 0.0014375788159668446, 0.0024335691705346107, 0.0010225048754364252, 0.0021730985026806593, 0.005665965378284454, 0.000585707079153508, 0.004730310291051865, 0.015789614990353584, 0.00912106316536665, 0.006447881460189819, 0.04965189844369888, 0.07221104204654694, 0.04530424252152443, 0.02253623493015766, 0.233805313706398, 0.28100940585136414, 0.2221575379371643, 0.0, 0.0, 0.0, 0.0, 0.0, 0.0, 0.0, 0.0, 0.0, 0.0], [0.01601027324795723, 0.00041907679405994713, 0.001679316977970302, 0.002033163793385029, 0.0011126060271635652, 0.002304120222106576, 0.001641487586311996, 0.0020452288445085287, 0.0008826436242088675, 0.0035318138543516397, 0.004660746082663536, 0.0011461277026683092, 0.004025280475616455, 0.011729457415640354, 0.0069060008972883224, 0.005978974513709545, 0.03413613513112068, 0.05391989275813103, 0.0753692016005516, 0.0155441639944911, 0.15307292342185974, 0.21672505140304565, 0.23267340660095215, 0.15245290100574493, 0.0, 0.0, 0.0, 0.0, 0.0, 0.0, 0.0, 0.0, 0.0], [0.016415491700172424, 0.001088098855689168, 0.0013027024688199162, 0.0012335632927715778, 0.0010325233452022076, 0.001360527123324573, 0.0011352722067385912, 0.0009713192703202367, 0.0017580221174284816, 0.00235499395057559, 0.0022677972447127104, 0.00261700339615345, 0.0032849626149982214, 0.005564448423683643, 0.007287739310413599, 0.006582655478268862, 0.016911108046770096, 0.023348158225417137, 0.033363744616508484, 0.012060855515301228, 0.08410532772541046, 0.10776971280574799, 0.12741318345069885, 0.2500956952571869, 0.28867506980895996, 0.0, 0.0, 0.0, 0.0, 0.0, 0.0, 0.0, 0.0], [0.031117748469114304, 0.0015063054161146283, 0.0010839324677363038, 0.0024215218145400286, 0.001382688176818192, 0.00379371945746243, 0.0016339302528649569, 0.003119518980383873, 0.0012812629574909806, 0.002068525180220604, 0.004760124254971743, 0.000875731697306037, 0.008592118509113789, 0.009353655390441418, 0.011993254534900188, 0.0059629990719258785, 0.022028209641575813, 0.03411330655217171, 0.00958676915615797, 0.013681819662451744, 0.08417052030563354, 0.08917821198701859, 0.10806844383478165, 0.155607670545578, 0.37236863374710083, 0.020249485969543457, 0.0, 0.0, 0.0, 0.0, 0.0, 0.0, 0.0], [0.014838485047221184, 0.0005757312756031752, 0.004743658937513828, 0.00045677326852455735, 0.0007412274135276675, 0.0014999975683167577, 0.0008866078569553792, 0.000845208705868572, 0.00010359245061408728, 0.0009065146441571414, 0.0018096771091222763, 0.0602911002933979, 0.001537756877951324, 0.0033079427666962147, 0.0013713663211092353, 0.002082675462588668, 0.008643999695777893, 0.00908886082470417, 0.007760951295495033, 0.005808328278362751, 0.03386513888835907, 0.03987189009785652, 0.05374554917216301, 0.036947719752788544, 0.12259433418512344, 0.5718704462051392, 0.013804469257593155, 0.0, 0.0, 0.0, 0.0, 0.0, 0.0], [0.018570009618997574, 0.0012143150670453906, 0.0012880477588623762, 0.0010612566256895661, 0.000749004480894655, 0.001048561534844339, 0.0008687858353368938, 0.0005973856896162033, 0.001293826731853187, 0.0014042495749890804, 0.0011055084178224206, 0.0005003454280085862, 0.002026260131970048, 0.0021463113371282816, 0.002873788820579648, 0.002641367958858609, 0.0058029815554618835, 0.00819134246557951, 0.00833907350897789, 0.005543301347643137, 0.02655870094895363, 0.03308916836977005, 0.032507382333278656, 0.09199850261211395, 0.10410474985837936, 0.16861769556999207, 0.2089543491601944, 0.26690372824668884, 0.0, 0.0, 0.0, 0.0, 0.0], [0.01665443554520607, 0.0007248650654219091, 0.0008980661514215171, 0.003161687171086669, 0.0005522829596884549, 0.0016607239376753569, 0.0007486111135222018, 0.0009652786538936198, 0.00038428002153523266, 0.002257776679471135, 0.0015545629430562258, 0.0007036998867988586, 0.001468815840780735, 0.0027998818550258875, 0.003013978246599436, 0.005369038321077824, 0.006552341394126415, 0.008701568469405174, 0.007138852495700121, 0.006516316439956427, 0.02618555538356304, 0.03929201140999794, 0.0315500907599926, 0.024343019351363182, 0.10670768469572067, 0.15159793198108673, 0.13674208521842957, 0.3201397955417633, 0.09161486476659775, 0.0, 0.0, 0.0, 0.0], [0.03722681105136871, 0.0007442725473083556, 0.001918031950481236, 0.001429060474038124, 0.002559731947258115, 0.0032928267028182745, 0.0009007240296341479, 0.0015445080352947116, 0.0003557211020961404, 0.0004492723965086043, 0.0026688105426728725, 0.0014046647120267153, 0.0017281008185818791, 0.004542729817330837, 0.0012941031018272042, 0.00467765424400568, 0.009138206019997597, 0.008992928080260754, 0.005343654192984104, 0.002031840616837144, 0.030930886045098305, 0.021215276792645454, 0.036399759352207184, 0.056794606149196625, 0.11195951700210571, 0.011458112858235836, 0.033532917499542236, 0.2658853530883789, 0.24695423245429993, 0.09262566268444061, 0.0, 0.0, 0.0], [0.044088754802942276, 0.0011082951677963138, 0.003387589706107974, 0.004853185266256332, 0.002864325884729624, 0.004500850569456816, 0.0014518091920763254, 0.0021924967877566814, 0.0007902358192950487, 0.0006717372452840209, 0.0035771545954048634, 0.0005131774232722819, 0.012861715629696846, 0.005116849672049284, 0.0030142548494040966, 0.005887461360543966, 0.010453440248966217, 0.013818332925438881, 0.00869105663150549, 0.011229283176362514, 0.0314009003341198, 0.023181645199656487, 0.03044440783560276, 0.03520679473876953, 0.09999872744083405, 0.0060901641845703125, 0.14714206755161285, 0.16393037140369415, 0.12749527394771576, 0.19357770681381226, 0.0004599912790581584, 0.0, 0.0], [0.037174042314291, 0.005006890743970871, 0.0016112308949232101, 0.002830145414918661, 0.0005118501139804721, 0.0027071216609328985, 0.002097028773277998, 0.00123287970200181, 0.000631089264061302, 0.0017632469534873962, 0.0017868775175884366, 0.00025283286231569946, 0.0010720753343775868, 0.0026448324788361788, 0.0015661552315577865, 0.0038084061816334724, 0.005276743788272142, 0.006930260919034481, 0.013310808688402176, 0.0035816470626741648, 0.01830451190471649, 0.026684744283556938, 0.01997152715921402, 0.032155733555555344, 0.07432043552398682, 0.023922253400087357, 0.0876147523522377, 0.180075541138649, 0.027492595836520195, 0.05972246453166008, 0.19122695922851562, 0.16271227598190308, 0.0], [0.008116932585835457, 0.0008723046048544347, 0.0003707280266098678, 0.00047348556108772755, 0.00017832990852184594, 0.0003994703583884984, 0.0002951172355096787, 0.00018311948224436492, 0.0001671456266194582, 0.00023702505859546363, 0.00025333563098683953, 0.00012855013483203948, 0.00020213169045746326, 0.00039944861782714725, 0.00016511800640728325, 0.00046228666906245053, 0.000878023449331522, 0.0011140466667711735, 0.0020708770025521517, 0.001963673857972026, 0.003527857596054673, 0.004475219175219536, 0.004463489167392254, 0.0073125334456563, 0.014446238987147808, 0.03503046929836273, 0.020014140754938126, 0.043885812163352966, 0.019436778500676155, 0.11325740069150925, 0.07277627289295197, 0.1619681417942047, 0.4804745614528656]], [[1.0, 0.0, 0.0, 0.0, 0.0, 0.0, 0.0, 0.0, 0.0, 0.0, 0.0, 0.0, 0.0, 0.0, 0.0, 0.0, 0.0, 0.0, 0.0, 0.0, 0.0, 0.0, 0.0, 0.0, 0.0, 0.0, 0.0, 0.0, 0.0, 0.0, 0.0, 0.0, 0.0], [0.9473748207092285, 0.05262520909309387, 0.0, 0.0, 0.0, 0.0, 0.0, 0.0, 0.0, 0.0, 0.0, 0.0, 0.0, 0.0, 0.0, 0.0, 0.0, 0.0, 0.0, 0.0, 0.0, 0.0, 0.0, 0.0, 0.0, 0.0, 0.0, 0.0, 0.0, 0.0, 0.0, 0.0, 0.0], [0.8785883784294128, 0.055394671857357025, 0.06601690500974655, 0.0, 0.0, 0.0, 0.0, 0.0, 0.0, 0.0, 0.0, 0.0, 0.0, 0.0, 0.0, 0.0, 0.0, 0.0, 0.0, 0.0, 0.0, 0.0, 0.0, 0.0, 0.0, 0.0, 0.0, 0.0, 0.0, 0.0, 0.0, 0.0, 0.0], [0.7270771861076355, 0.1370987594127655, 0.04866088554263115, 0.08716322481632233, 0.0, 0.0, 0.0, 0.0, 0.0, 0.0, 0.0, 0.0, 0.0, 0.0, 0.0, 0.0, 0.0, 0.0, 0.0, 0.0, 0.0, 0.0, 0.0, 0.0, 0.0, 0.0, 0.0, 0.0, 0.0, 0.0, 0.0, 0.0, 0.0], [0.4651746451854706, 0.1342930644750595, 0.1535816192626953, 0.17472539842128754, 0.0722251608967781, 0.0, 0.0, 0.0, 0.0, 0.0, 0.0, 0.0, 0.0, 0.0, 0.0, 0.0, 0.0, 0.0, 0.0, 0.0, 0.0, 0.0, 0.0, 0.0, 0.0, 0.0, 0.0, 0.0, 0.0, 0.0, 0.0, 0.0, 0.0], [0.17035970091819763, 0.01184193603694439, 0.023650843650102615, 0.021745799109339714, 0.025856317952275276, 0.7465453743934631, 0.0, 0.0, 0.0, 0.0, 0.0, 0.0, 0.0, 0.0, 0.0, 0.0, 0.0, 0.0, 0.0, 0.0, 0.0, 0.0, 0.0, 0.0, 0.0, 0.0, 0.0, 0.0, 0.0, 0.0, 0.0, 0.0, 0.0], [0.14214573800563812, 0.04383271187543869, 0.05021180212497711, 0.04516502842307091, 0.05872129276394844, 0.5111534595489502, 0.14876998960971832, 0.0, 0.0, 0.0, 0.0, 0.0, 0.0, 0.0, 0.0, 0.0, 0.0, 0.0, 0.0, 0.0, 0.0, 0.0, 0.0, 0.0, 0.0, 0.0, 0.0, 0.0, 0.0, 0.0, 0.0, 0.0, 0.0], [0.0847334936261177, 0.020369814708828926, 0.03746160492300987, 0.03195909783244133, 0.03419601544737816, 0.4350069463253021, 0.11894058436155319, 0.23733240365982056, 0.0, 0.0, 0.0, 0.0, 0.0, 0.0, 0.0, 0.0, 0.0, 0.0, 0.0, 0.0, 0.0, 0.0, 0.0, 0.0, 0.0, 0.0, 0.0, 0.0, 0.0, 0.0, 0.0, 0.0, 0.0], [0.342307984828949, 0.035936348140239716, 0.07259216904640198, 0.10352759063243866, 0.08196531981229782, 0.07694563269615173, 0.14196322858333588, 0.09896713495254517, 0.04579460248351097, 0.0, 0.0, 0.0, 0.0, 0.0, 0.0, 0.0, 0.0, 0.0, 0.0, 0.0, 0.0, 0.0, 0.0, 0.0, 0.0, 0.0, 0.0, 0.0, 0.0, 0.0, 0.0, 0.0, 0.0], [0.3711486756801605, 0.06278739869594574, 0.05806947499513626, 0.05566275864839554, 0.13124839961528778, 0.07535628974437714, 0.10726624727249146, 0.07924024760723114, 0.030107328668236732, 0.02911323308944702, 0.0, 0.0, 0.0, 0.0, 0.0, 0.0, 0.0, 0.0, 0.0, 0.0, 0.0, 0.0, 0.0, 0.0, 0.0, 0.0, 0.0, 0.0, 0.0, 0.0, 0.0, 0.0, 0.0], [0.06430105119943619, 0.0051691047847270966, 0.011012977920472622, 0.009054877795279026, 0.011748060584068298, 0.31885021924972534, 0.036849457770586014, 0.08319543302059174, 0.012068151496350765, 0.014676221646368504, 0.4330745041370392, 0.0, 0.0, 0.0, 0.0, 0.0, 0.0, 0.0, 0.0, 0.0, 0.0, 0.0, 0.0, 0.0, 0.0, 0.0, 0.0, 0.0, 0.0, 0.0, 0.0, 0.0, 0.0], [0.2377791851758957, 0.038129985332489014, 0.019743356853723526, 0.0750802680850029, 0.14420801401138306, 0.06244922801852226, 0.07018379867076874, 0.06523606181144714, 0.04883221909403801, 0.034600332379341125, 0.06439770013093948, 0.13935981690883636, 0.0, 0.0, 0.0, 0.0, 0.0, 0.0, 0.0, 0.0, 0.0, 0.0, 0.0, 0.0, 0.0, 0.0, 0.0, 0.0, 0.0, 0.0, 0.0, 0.0, 0.0], [0.2901448607444763, 0.04085763543844223, 0.06965624541044235, 0.06467737257480621, 0.11515604704618454, 0.07279438525438309, 0.05406038090586662, 0.04095994681119919, 0.03646121919155121, 0.03709697350859642, 0.0811215415596962, 0.06249446049332619, 0.034518949687480927, 0.0, 0.0, 0.0, 0.0, 0.0, 0.0, 0.0, 0.0, 0.0, 0.0, 0.0, 0.0, 0.0, 0.0, 0.0, 0.0, 0.0, 0.0, 0.0, 0.0], [0.041916050016880035, 0.0033880695700645447, 0.007082356605678797, 0.005899202078580856, 0.007586193270981312, 0.20389801263809204, 0.023296765983104706, 0.05173070356249809, 0.007816814817488194, 0.009731389582157135, 0.2776019871234894, 0.008386761881411076, 0.016172707080841064, 0.33549296855926514, 0.0, 0.0, 0.0, 0.0, 0.0, 0.0, 0.0, 0.0, 0.0, 0.0, 0.0, 0.0, 0.0, 0.0, 0.0, 0.0, 0.0, 0.0, 0.0], [0.15129354596138, 0.04240790754556656, 0.04383379966020584, 0.09706762433052063, 0.14943547546863556, 0.044398777186870575, 0.06174502521753311, 0.04199514538049698, 0.018608784303069115, 0.03141247108578682, 0.05092647299170494, 0.06660281121730804, 0.0941622257232666, 0.057612936943769455, 0.04849696159362793, 0.0, 0.0, 0.0, 0.0, 0.0, 0.0, 0.0, 0.0, 0.0, 0.0, 0.0, 0.0, 0.0, 0.0, 0.0, 0.0, 0.0, 0.0], [0.29958033561706543, 0.07432074844837189, 0.030061950907111168, 0.01673647202551365, 0.03856483846902847, 0.05106871575117111, 0.09408656507730484, 0.05606793612241745, 0.05458232760429382, 0.04522043466567993, 0.05638071522116661, 0.015378029085695744, 0.04082851484417915, 0.060846924781799316, 0.030811065807938576, 0.03546446934342384, 0.0, 0.0, 0.0, 0.0, 0.0, 0.0, 0.0, 0.0, 0.0, 0.0, 0.0, 0.0, 0.0, 0.0, 0.0, 0.0, 0.0], [0.03043997287750244, 0.0024933915119618177, 0.005298201460391283, 0.0042233895510435104, 0.005517447367310524, 0.14508461952209473, 0.016034146770834923, 0.03598647564649582, 0.005758052691817284, 0.007398172747343779, 0.1961348056793213, 0.006090886425226927, 0.01146512757986784, 0.23737993836402893, 0.008031774312257767, 0.005861479323357344, 0.276802122592926, 0.0, 0.0, 0.0, 0.0, 0.0, 0.0, 0.0, 0.0, 0.0, 0.0, 0.0, 0.0, 0.0, 0.0, 0.0, 0.0], [0.015668923035264015, 0.0019133485620841384, 0.006747931707650423, 0.0056108757853507996, 0.006710357964038849, 0.10858530551195145, 0.013436983339488506, 0.030674779787659645, 0.008698037825524807, 0.00595876993611455, 0.15696419775485992, 0.0064012641087174416, 0.014357198029756546, 0.1922045797109604, 0.00993881281465292, 0.008154560811817646, 0.22861391305923462, 0.17936021089553833, 0.0, 0.0, 0.0, 0.0, 0.0, 0.0, 0.0, 0.0, 0.0, 0.0, 0.0, 0.0, 0.0, 0.0, 0.0], [0.2751207649707794, 0.04635609686374664, 0.025782722979784012, 0.020371075719594955, 0.04519127681851387, 0.04741503670811653, 0.058008305728435516, 0.05449457839131355, 0.02185584418475628, 0.028674187138676643, 0.050547998398542404, 0.03578943386673927, 0.014343983493745327, 0.05505191534757614, 0.019970901310443878, 0.02507063001394272, 0.059836745262145996, 0.10591267794370651, 0.010205714032053947, 0.0, 0.0, 0.0, 0.0, 0.0, 0.0, 0.0, 0.0, 0.0, 0.0, 0.0, 0.0, 0.0, 0.0], [0.12210460752248764, 0.02900637313723564, 0.027926085516810417, 0.030763661488890648, 0.06431963294744492, 0.05075865238904953, 0.05746712535619736, 0.03854453191161156, 0.02881445176899433, 0.036410342901945114, 0.055306967347860336, 0.02755570411682129, 0.05062386021018028, 0.06039686128497124, 0.03790904954075813, 0.034162577241659164, 0.06550319492816925, 0.08224614709615707, 0.0890314057469368, 0.01114883366972208, 0.0, 0.0, 0.0, 0.0, 0.0, 0.0, 0.0, 0.0, 0.0, 0.0, 0.0, 0.0, 0.0], [0.01992272026836872, 0.00159912696108222, 0.003536267438903451, 0.00276060844771564, 0.003674752078950405, 0.09198576956987381, 0.009868188761174679, 0.021762726828455925, 0.003674624487757683, 0.00480030057951808, 0.12327184528112411, 0.0039482261054217815, 0.007727705407887697, 0.14901934564113617, 0.005094502586871386, 0.003849541302770376, 0.17433801293373108, 0.14503765106201172, 0.003139177104458213, 0.0039015659131109715, 0.21708723902702332, 0.0, 0.0, 0.0, 0.0, 0.0, 0.0, 0.0, 0.0, 0.0, 0.0, 0.0, 0.0], [0.025169124826788902, 0.002589145442470908, 0.007904473692178726, 0.0028181758243590593, 0.00831749476492405, 0.06284766644239426, 0.01609737239778042, 0.024833571165800095, 0.007658039219677448, 0.01131708174943924, 0.08451007306575775, 0.012135404162108898, 0.022048382088541985, 0.1001725122332573, 0.015103285200893879, 0.020152252167463303, 0.11906807869672775, 0.1414896845817566, 0.006576648447662592, 0.007074056658893824, 0.14850658178329468, 0.15361085534095764, 0.0, 0.0, 0.0, 0.0, 0.0, 0.0, 0.0, 0.0, 0.0, 0.0, 0.0], [0.08679646253585815, 0.01581868901848793, 0.009913154877722263, 0.005941123701632023, 0.011749119497835636, 0.04402251914143562, 0.04941156879067421, 0.04721160605549812, 0.022448519244790077, 0.02814418449997902, 0.05249372869729996, 0.01366489753127098, 0.038044534623622894, 0.05856488645076752, 0.016008734703063965, 0.028531739488244057, 0.06752396374940872, 0.10004056245088577, 0.026074500754475594, 0.01816527172923088, 0.08061446994543076, 0.14588378369808197, 0.03293200582265854, 0.0, 0.0, 0.0, 0.0, 0.0, 0.0, 0.0, 0.0, 0.0, 0.0], [0.1220332682132721, 0.02679692767560482, 0.03471274673938751, 0.01660086400806904, 0.05098598450422287, 0.03362342715263367, 0.033762890845537186, 0.03289439156651497, 0.022763602435588837, 0.034695446491241455, 0.03710823133587837, 0.027503039687871933, 0.030508041381835938, 0.04070495069026947, 0.019409820437431335, 0.033388081938028336, 0.046037912368774414, 0.0814194306731224, 0.0257929228246212, 0.017713354900479317, 0.05326376482844353, 0.06955213844776154, 0.07340097427368164, 0.03532778471708298, 0.0, 0.0, 0.0, 0.0, 0.0, 0.0, 0.0, 0.0, 0.0], [0.012632702477276325, 0.003196730511263013, 0.008999623358249664, 0.0037871047388762236, 0.005590218584984541, 0.060187481343746185, 0.01017302367836237, 0.026063401252031326, 0.00828032661229372, 0.0059984405525028706, 0.08480246365070343, 0.007755734492093325, 0.014807665720582008, 0.10079342126846313, 0.011636026203632355, 0.007885096594691277, 0.12061365693807602, 0.1281987577676773, 0.006487110164016485, 0.0032305698841810226, 0.15047506988048553, 0.10557683557271957, 0.015480611473321915, 0.01902633160352707, 0.07832161337137222, 0.0, 0.0, 0.0, 0.0, 0.0, 0.0, 0.0, 0.0], [0.11176053434610367, 0.018635563552379608, 0.05622369796037674, 0.04677280783653259, 0.03736496716737747, 0.022993411868810654, 0.03136526420712471, 0.026408886536955833, 0.043359216302633286, 0.056635573506355286, 0.021786417812108994, 0.02382214181125164, 0.030641673132777214, 0.02328926883637905, 0.05430493503808975, 0.06881178170442581, 0.024489399045705795, 0.047770895063877106, 0.03627176955342293, 0.022222531959414482, 0.026998940855264664, 0.021766118705272675, 0.03442491218447685, 0.028240282088518143, 0.058919213712215424, 0.024719828739762306, 0.0, 0.0, 0.0, 0.0, 0.0, 0.0, 0.0], [0.10639803111553192, 0.03710789978504181, 0.08273961395025253, 0.01785685494542122, 0.020950015634298325, 0.018305256962776184, 0.022620100528001785, 0.01819227822124958, 0.021851178258657455, 0.012518538162112236, 0.019214102998375893, 0.030340097844600677, 0.07187619060277939, 0.02078801766037941, 0.03963522985577583, 0.06151585653424263, 0.023179300129413605, 0.0439804270863533, 0.04619224742054939, 0.02066798321902752, 0.027080880478024483, 0.043865546584129333, 0.03276737406849861, 0.04369065538048744, 0.05080845579504967, 0.04029493406414986, 0.025563016533851624, 0.0, 0.0, 0.0, 0.0, 0.0, 0.0], [0.015084543265402317, 0.0038223827723413706, 0.005877263378351927, 0.0049718525260686874, 0.005370153579860926, 0.052236463874578476, 0.016127683222293854, 0.031829919666051865, 0.008211133070290089, 0.011473821476101875, 0.0670468732714653, 0.01052838284522295, 0.010598231106996536, 0.07938900589942932, 0.007211722433567047, 0.006271460559219122, 0.09142370522022247, 0.10866516083478928, 0.003973819315433502, 0.005621668882668018, 0.10983321070671082, 0.09237752109766006, 0.022960500791668892, 0.019314924255013466, 0.08864139020442963, 0.018464695662260056, 0.011022255755960941, 0.09165029972791672, 0.0, 0.0, 0.0, 0.0, 0.0], [0.0985412448644638, 0.03967058286070824, 0.050521429628133774, 0.047943923622369766, 0.01953187584877014, 0.015683406963944435, 0.025074731558561325, 0.014997915364801884, 0.027723433449864388, 0.016418183222413063, 0.016389023512601852, 0.026316558942198753, 0.034359272569417953, 0.01775798201560974, 0.023362671956419945, 0.03763511776924133, 0.01940559782087803, 0.034421682357788086, 0.049022991210222244, 0.030190547928214073, 0.022159064188599586, 0.03754066675901413, 0.038793157786130905, 0.04032415524125099, 0.04231265187263489, 0.06829200685024261, 0.025314142927527428, 0.043300725519657135, 0.03699523210525513, 0.0, 0.0, 0.0, 0.0], [0.10688817501068115, 0.036595746874809265, 0.005083095747977495, 0.010160420089960098, 0.013297361321747303, 0.041752055287361145, 0.026246795430779457, 0.03012855537235737, 0.013482409529387951, 0.018223190680146217, 0.0458262600004673, 0.025558775290846825, 0.015618819743394852, 0.05039897561073303, 0.011657019145786762, 0.01165912114083767, 0.05515516176819801, 0.05091661214828491, 0.01920679211616516, 0.013998426496982574, 0.06383468955755234, 0.029088884592056274, 0.016710437834262848, 0.02609526552259922, 0.05484984815120697, 0.03806673362851143, 0.03896071016788483, 0.05375230684876442, 0.02367916889488697, 0.05310812592506409, 0.0, 0.0, 0.0], [0.10871610045433044, 0.06286413967609406, 0.023045089095830917, 0.012493218295276165, 0.009688262827694416, 0.023720758035779, 0.025617318227887154, 0.028282880783081055, 0.019523106515407562, 0.015187141485512257, 0.024615760892629623, 0.01885579712688923, 0.01307191327214241, 0.025697479024529457, 0.010639780201017857, 0.0073364293202757835, 0.028488250449299812, 0.040875110775232315, 0.023693948984146118, 0.028460824862122536, 0.031781189143657684, 0.033992111682891846, 0.01690450683236122, 0.04699758067727089, 0.05480917915701866, 0.06048166751861572, 0.02113783173263073, 0.05147768557071686, 0.015304342843592167, 0.07868862897157669, 0.03755196928977966, 0.0, 0.0], [0.16510626673698425, 0.01330734882503748, 0.022820334881544113, 0.032224949449300766, 0.028327804058790207, 0.011912107467651367, 0.021759115159511566, 0.012591331265866756, 0.025371311232447624, 0.015923485159873962, 0.011745055206120014, 0.021340150386095047, 0.02265850454568863, 0.012097018770873547, 0.05877393111586571, 0.04114291071891785, 0.012866124510765076, 0.021896693855524063, 0.027385752648115158, 0.015412721782922745, 0.014822262339293957, 0.013198778964579105, 0.029060140252113342, 0.04031304642558098, 0.02303694374859333, 0.05035790055990219, 0.046500734984874725, 0.03221072256565094, 0.04574139416217804, 0.011448165401816368, 0.051484815776348114, 0.047162190079689026, 0.0], [0.01986272633075714, 0.0006941380561329424, 0.0017670633969828486, 0.0019038193859159946, 0.0023115791846066713, 0.059243910014629364, 0.005164950620383024, 0.008714544586837292, 0.0024906685575842857, 0.003057961817830801, 0.07585161179304123, 0.002390551846474409, 0.0031773517839610577, 0.08945115655660629, 0.0030652962159365416, 0.00162091467063874, 0.10312023758888245, 0.06259162724018097, 0.002058295765891671, 0.002232218626886606, 0.12742045521736145, 0.024703850969672203, 0.003510192269459367, 0.00499417819082737, 0.02831711247563362, 0.0058742002584040165, 0.006215333007276058, 0.03686560317873955, 0.00543811172246933, 0.0040618646889925, 0.004735518246889114, 0.004534380976110697, 0.2925584614276886]], [[1.0, 0.0, 0.0, 0.0, 0.0, 0.0, 0.0, 0.0, 0.0, 0.0, 0.0, 0.0, 0.0, 0.0, 0.0, 0.0, 0.0, 0.0, 0.0, 0.0, 0.0, 0.0, 0.0, 0.0, 0.0, 0.0, 0.0, 0.0, 0.0, 0.0, 0.0, 0.0, 0.0], [0.9726406335830688, 0.02735934779047966, 0.0, 0.0, 0.0, 0.0, 0.0, 0.0, 0.0, 0.0, 0.0, 0.0, 0.0, 0.0, 0.0, 0.0, 0.0, 0.0, 0.0, 0.0, 0.0, 0.0, 0.0, 0.0, 0.0, 0.0, 0.0, 0.0, 0.0, 0.0, 0.0, 0.0, 0.0], [0.8850566744804382, 0.08160645514726639, 0.033336855471134186, 0.0, 0.0, 0.0, 0.0, 0.0, 0.0, 0.0, 0.0, 0.0, 0.0, 0.0, 0.0, 0.0, 0.0, 0.0, 0.0, 0.0, 0.0, 0.0, 0.0, 0.0, 0.0, 0.0, 0.0, 0.0, 0.0, 0.0, 0.0, 0.0, 0.0], [0.7844979166984558, 0.09045999497175217, 0.107209712266922, 0.017832357436418533, 0.0, 0.0, 0.0, 0.0, 0.0, 0.0, 0.0, 0.0, 0.0, 0.0, 0.0, 0.0, 0.0, 0.0, 0.0, 0.0, 0.0, 0.0, 0.0, 0.0, 0.0, 0.0, 0.0, 0.0, 0.0, 0.0, 0.0, 0.0, 0.0], [0.6679065227508545, 0.10135097056627274, 0.10997920483350754, 0.06990877538919449, 0.050854504108428955, 0.0, 0.0, 0.0, 0.0, 0.0, 0.0, 0.0, 0.0, 0.0, 0.0, 0.0, 0.0, 0.0, 0.0, 0.0, 0.0, 0.0, 0.0, 0.0, 0.0, 0.0, 0.0, 0.0, 0.0, 0.0, 0.0, 0.0, 0.0], [0.586279034614563, 0.06960930675268173, 0.06798024475574493, 0.06058965250849724, 0.08339772373437881, 0.13214407861232758, 0.0, 0.0, 0.0, 0.0, 0.0, 0.0, 0.0, 0.0, 0.0, 0.0, 0.0, 0.0, 0.0, 0.0, 0.0, 0.0, 0.0, 0.0, 0.0, 0.0, 0.0, 0.0, 0.0, 0.0, 0.0, 0.0, 0.0], [0.5015710592269897, 0.06227878853678703, 0.07209986448287964, 0.05590919405221939, 0.0814688503742218, 0.12033160775899887, 0.10634062439203262, 0.0, 0.0, 0.0, 0.0, 0.0, 0.0, 0.0, 0.0, 0.0, 0.0, 0.0, 0.0, 0.0, 0.0, 0.0, 0.0, 0.0, 0.0, 0.0, 0.0, 0.0, 0.0, 0.0, 0.0, 0.0, 0.0], [0.4001609981060028, 0.05525399371981621, 0.0634768009185791, 0.054137881845235825, 0.07119625061750412, 0.11230526119470596, 0.12489723414182663, 0.11857162415981293, 0.0, 0.0, 0.0, 0.0, 0.0, 0.0, 0.0, 0.0, 0.0, 0.0, 0.0, 0.0, 0.0, 0.0, 0.0, 0.0, 0.0, 0.0, 0.0, 0.0, 0.0, 0.0, 0.0, 0.0, 0.0], [0.4018532633781433, 0.08579414337873459, 0.05644882470369339, 0.071811243891716, 0.08318915218114853, 0.07845643907785416, 0.09191885590553284, 0.07768876850605011, 0.05283927544951439, 0.0, 0.0, 0.0, 0.0, 0.0, 0.0, 0.0, 0.0, 0.0, 0.0, 0.0, 0.0, 0.0, 0.0, 0.0, 0.0, 0.0, 0.0, 0.0, 0.0, 0.0, 0.0, 0.0, 0.0], [0.38271600008010864, 0.07976950705051422, 0.062077511101961136, 0.06360232830047607, 0.08211028575897217, 0.07804947346448898, 0.08597435057163239, 0.07506490498781204, 0.06327839940786362, 0.027357224375009537, 0.0, 0.0, 0.0, 0.0, 0.0, 0.0, 0.0, 0.0, 0.0, 0.0, 0.0, 0.0, 0.0, 0.0, 0.0, 0.0, 0.0, 0.0, 0.0, 0.0, 0.0, 0.0, 0.0], [0.34041672945022583, 0.04535195603966713, 0.046589113771915436, 0.04039172828197479, 0.0548904724419117, 0.08179007470607758, 0.08906514942646027, 0.09645892679691315, 0.05564970150589943, 0.06398673355579376, 0.08540943264961243, 0.0, 0.0, 0.0, 0.0, 0.0, 0.0, 0.0, 0.0, 0.0, 0.0, 0.0, 0.0, 0.0, 0.0, 0.0, 0.0, 0.0, 0.0, 0.0, 0.0, 0.0, 0.0], [0.31186187267303467, 0.09539999067783356, 0.07292015105485916, 0.0697687417268753, 0.07777831703424454, 0.0673503428697586, 0.06161404773592949, 0.05481071397662163, 0.052520137280225754, 0.05022517219185829, 0.07299348711967468, 0.01275695115327835, 0.0, 0.0, 0.0, 0.0, 0.0, 0.0, 0.0, 0.0, 0.0, 0.0, 0.0, 0.0, 0.0, 0.0, 0.0, 0.0, 0.0, 0.0, 0.0, 0.0, 0.0], [0.3665284812450409, 0.06308672577142715, 0.03947845846414566, 0.046095289289951324, 0.05740761756896973, 0.0634833350777626, 0.052384644746780396, 0.05501622334122658, 0.045840173959732056, 0.062286920845508575, 0.06589914858341217, 0.05806363373994827, 0.024429533630609512, 0.0, 0.0, 0.0, 0.0, 0.0, 0.0, 0.0, 0.0, 0.0, 0.0, 0.0, 0.0, 0.0, 0.0, 0.0, 0.0, 0.0, 0.0, 0.0, 0.0], [0.2856442928314209, 0.03804025799036026, 0.03942388296127319, 0.03423863276839256, 0.04639401286840439, 0.06771663576364517, 0.07328073680400848, 0.07855430245399475, 0.04789663851261139, 0.055936530232429504, 0.07124949246644974, 0.035689257085323334, 0.049560435116291046, 0.07637478411197662, 0.0, 0.0, 0.0, 0.0, 0.0, 0.0, 0.0, 0.0, 0.0, 0.0, 0.0, 0.0, 0.0, 0.0, 0.0, 0.0, 0.0, 0.0, 0.0], [0.2977541983127594, 0.05259548872709274, 0.04347939044237137, 0.058458633720874786, 0.04568732529878616, 0.05259402468800545, 0.0445619635283947, 0.0459747239947319, 0.06316150724887848, 0.07768755406141281, 0.05499149113893509, 0.034664712846279144, 0.05020102858543396, 0.05886140838265419, 0.019326550886034966, 0.0, 0.0, 0.0, 0.0, 0.0, 0.0, 0.0, 0.0, 0.0, 0.0, 0.0, 0.0, 0.0, 0.0, 0.0, 0.0, 0.0, 0.0], [0.28853151202201843, 0.04616909474134445, 0.028233056887984276, 0.03824242576956749, 0.04330623894929886, 0.05174916237592697, 0.04318274185061455, 0.04393120855093002, 0.05616343393921852, 0.06773815304040909, 0.05490180850028992, 0.08139312267303467, 0.04325693100690842, 0.059048131108284, 0.03989902883768082, 0.014254061505198479, 0.0, 0.0, 0.0, 0.0, 0.0, 0.0, 0.0, 0.0, 0.0, 0.0, 0.0, 0.0, 0.0, 0.0, 0.0, 0.0, 0.0], [0.23721367120742798, 0.03161582350730896, 0.03324564918875694, 0.02923194319009781, 0.038618165999650955, 0.05549166351556778, 0.05966496095061302, 0.06321782618761063, 0.04073699563741684, 0.04752673581242561, 0.058378253132104874, 0.030399689450860023, 0.042871586978435516, 0.06284616887569427, 0.05321291834115982, 0.047368962317705154, 0.06835901737213135, 0.0, 0.0, 0.0, 0.0, 0.0, 0.0, 0.0, 0.0, 0.0, 0.0, 0.0, 0.0, 0.0, 0.0, 0.0, 0.0], [0.2098696231842041, 0.02729126252233982, 0.03115660697221756, 0.02661500871181488, 0.03165116161108017, 0.05273226276040077, 0.052745040506124496, 0.056359030306339264, 0.04076547548174858, 0.04278234764933586, 0.05619128793478012, 0.03067827597260475, 0.0439896285533905, 0.06091475859284401, 0.050137002021074295, 0.0415731705725193, 0.06652863323688507, 0.07801952958106995, 0.0, 0.0, 0.0, 0.0, 0.0, 0.0, 0.0, 0.0, 0.0, 0.0, 0.0, 0.0, 0.0, 0.0, 0.0], [0.2385382205247879, 0.04414581134915352, 0.04643503576517105, 0.0345127210021019, 0.035721808671951294, 0.043693266808986664, 0.04304972663521767, 0.034988243132829666, 0.043718039989471436, 0.0395219549536705, 0.044578537344932556, 0.024599449709057808, 0.0625118687748909, 0.047534823417663574, 0.04375607892870903, 0.04995928704738617, 0.05090808868408203, 0.052662428468465805, 0.019164474681019783, 0.0, 0.0, 0.0, 0.0, 0.0, 0.0, 0.0, 0.0, 0.0, 0.0, 0.0, 0.0, 0.0, 0.0], [0.17729151248931885, 0.04221462085843086, 0.03081870637834072, 0.030886122956871986, 0.03386852145195007, 0.04521185904741287, 0.04290101304650307, 0.03221559897065163, 0.04018865153193474, 0.04926898702979088, 0.048016257584095, 0.038142453879117966, 0.0512651652097702, 0.05206841602921486, 0.04744114726781845, 0.03924532234668732, 0.05630477890372276, 0.05462938919663429, 0.05991862341761589, 0.028102951124310493, 0.0, 0.0, 0.0, 0.0, 0.0, 0.0, 0.0, 0.0, 0.0, 0.0, 0.0, 0.0, 0.0], [0.19048276543617249, 0.025203479453921318, 0.02678745426237583, 0.02367268316447735, 0.031104059889912605, 0.04345342516899109, 0.04649331420660019, 0.048206448554992676, 0.03323278948664665, 0.03892750293016434, 0.045491497963666916, 0.02444274164736271, 0.03570158779621124, 0.04907766729593277, 0.043035656213760376, 0.039055634289979935, 0.053717467933893204, 0.06658954173326492, 0.043208252638578415, 0.03176470845937729, 0.06035124510526657, 0.0, 0.0, 0.0, 0.0, 0.0, 0.0, 0.0, 0.0, 0.0, 0.0, 0.0, 0.0], [0.1497536599636078, 0.02347457781434059, 0.02550838701426983, 0.028942441567778587, 0.035171616822481155, 0.0388018861413002, 0.04594280570745468, 0.03962727263569832, 0.037087779492139816, 0.03872300684452057, 0.04190722480416298, 0.021688057109713554, 0.04328257590532303, 0.04592541232705116, 0.038939524441957474, 0.040076106786727905, 0.050600212067365646, 0.060830481350421906, 0.04372159391641617, 0.030235230922698975, 0.057286132127046585, 0.062474027276039124, 0.0, 0.0, 0.0, 0.0, 0.0, 0.0, 0.0, 0.0, 0.0, 0.0, 0.0], [0.1751340627670288, 0.027519280090928078, 0.0295140128582716, 0.02071533165872097, 0.026873530820012093, 0.03454612195491791, 0.03853078931570053, 0.033037807792425156, 0.041815564036369324, 0.040100302547216415, 0.03696897253394127, 0.030468925833702087, 0.03995396941900253, 0.04023701697587967, 0.044826194643974304, 0.03708263486623764, 0.04420146346092224, 0.04931036755442619, 0.04125743359327316, 0.02861069329082966, 0.04997342824935913, 0.05269286409020424, 0.03662918135523796, 0.0, 0.0, 0.0, 0.0, 0.0, 0.0, 0.0, 0.0, 0.0, 0.0], [0.13285990059375763, 0.040708042681217194, 0.04111677408218384, 0.03484427556395531, 0.04087606444954872, 0.027567218989133835, 0.028293676674365997, 0.022520435974001884, 0.03875419497489929, 0.04037802666425705, 0.0290894266217947, 0.029609210789203644, 0.056701187044382095, 0.031181855127215385, 0.03766117990016937, 0.05688635632395744, 0.03396708518266678, 0.03781304135918617, 0.04951411485671997, 0.03194558247923851, 0.03759903833270073, 0.04326638579368591, 0.04305671527981758, 0.03379024937748909, 0.0, 0.0, 0.0, 0.0, 0.0, 0.0, 0.0, 0.0, 0.0], [0.14709363877773285, 0.01821870729327202, 0.022143611684441566, 0.021621394902467728, 0.02707292139530182, 0.033854179084300995, 0.03787612169981003, 0.03801963850855827, 0.027932513505220413, 0.030901825055480003, 0.03606925904750824, 0.019023139029741287, 0.0346580371260643, 0.039169859141111374, 0.0337555892765522, 0.02613660879433155, 0.042978327721357346, 0.05313740670681, 0.03463508188724518, 0.02014029584825039, 0.04878360405564308, 0.04990803822875023, 0.046243924647569656, 0.047156691551208496, 0.06346960365772247, 0.0, 0.0, 0.0, 0.0, 0.0, 0.0, 0.0, 0.0], [0.17602789402008057, 0.014882143586874008, 0.026751168072223663, 0.024088069796562195, 0.035667534917593, 0.027094291523098946, 0.024984251707792282, 0.02147187478840351, 0.02635936625301838, 0.02384510450065136, 0.027567006647586823, 0.01686953939497471, 0.07777434587478638, 0.029109211638569832, 0.047996971756219864, 0.02900249883532524, 0.03132335841655731, 0.036155976355075836, 0.039595600217580795, 0.017008019611239433, 0.03483906388282776, 0.03443719819188118, 0.041492193937301636, 0.09124377369880676, 0.04052295908331871, 0.0038906042464077473, 0.0, 0.0, 0.0, 0.0, 0.0, 0.0, 0.0], [0.18501748144626617, 0.027786999940872192, 0.02509763464331627, 0.027019010856747627, 0.029199233278632164, 0.0303370151668787, 0.03222178295254707, 0.023015083745121956, 0.02679286152124405, 0.022793833166360855, 0.030674871057271957, 0.021220846101641655, 0.053888097405433655, 0.03259299322962761, 0.030737649649381638, 0.025725232437253, 0.034866053611040115, 0.037935808300971985, 0.02867201343178749, 0.026148973032832146, 0.03875335305929184, 0.041795048862695694, 0.03863157331943512, 0.05337154492735863, 0.039820704609155655, 0.02571162022650242, 0.010172730311751366, 0.0, 0.0, 0.0, 0.0, 0.0, 0.0], [0.12446329742670059, 0.01676890440285206, 0.02010510116815567, 0.019267041236162186, 0.024457845836877823, 0.03020336665213108, 0.03127393126487732, 0.03254606947302818, 0.023186011239886284, 0.02350839599967003, 0.03173322603106499, 0.0170805212110281, 0.029082056134939194, 0.03428215533494949, 0.035791296511888504, 0.02582055889070034, 0.037531182169914246, 0.046182457357645035, 0.029500015079975128, 0.01791381649672985, 0.042747315019369125, 0.04243472218513489, 0.03900240361690521, 0.04141838103532791, 0.0594949908554554, 0.035957347601652145, 0.030984869226813316, 0.057262834161520004, 0.0, 0.0, 0.0, 0.0, 0.0], [0.14491021633148193, 0.025843985378742218, 0.031176971271634102, 0.019462749361991882, 0.012575742788612843, 0.025274591520428658, 0.022020690143108368, 0.021267294883728027, 0.03165540471673012, 0.02766416408121586, 0.026251601055264473, 0.022091036662459373, 0.03851796314120293, 0.02826686017215252, 0.028877615928649902, 0.036865346133708954, 0.030699968338012695, 0.03204503282904625, 0.03411629796028137, 0.02035542204976082, 0.034463148564100266, 0.03542866185307503, 0.030728410929441452, 0.044418975710868835, 0.03793593868613243, 0.057348694652318954, 0.038896992802619934, 0.041112080216407776, 0.01972820982336998, 0.0, 0.0, 0.0, 0.0], [0.13168425858020782, 0.02546011097729206, 0.02796240895986557, 0.0241098515689373, 0.016868827864527702, 0.03140677511692047, 0.02324734814465046, 0.022071704268455505, 0.027362484484910965, 0.02637045457959175, 0.03204537555575371, 0.028775818645954132, 0.04614204540848732, 0.03455977141857147, 0.03132107853889465, 0.02943771705031395, 0.03749069944024086, 0.035974208265542984, 0.0306710172444582, 0.026778314262628555, 0.041662365198135376, 0.032743990421295166, 0.030348775908350945, 0.03265197575092316, 0.03805649280548096, 0.03457561507821083, 0.022936128079891205, 0.036903250962495804, 0.025966178625822067, 0.01441489439457655, 0.0, 0.0, 0.0], [0.16563698649406433, 0.02280925028026104, 0.029107756912708282, 0.024944668635725975, 0.024352887645363808, 0.025031818076968193, 0.018486658111214638, 0.018573682755231857, 0.028443647548556328, 0.02919989824295044, 0.025318240746855736, 0.0322050042450428, 0.025753293186426163, 0.026890497654676437, 0.03127394616603851, 0.0330515019595623, 0.028835482895374298, 0.029910417273640633, 0.027558814734220505, 0.02462468296289444, 0.0320536307990551, 0.026493754237890244, 0.021709619089961052, 0.031640149652957916, 0.037074752151966095, 0.047994695603847504, 0.02793213538825512, 0.0347561240196228, 0.03804946690797806, 0.021535685285925865, 0.008750846609473228, 0.0, 0.0], [0.1679421216249466, 0.025983473286032677, 0.03222334384918213, 0.019469385966658592, 0.0237352903932333, 0.023115724325180054, 0.019973622635006905, 0.01655023731291294, 0.029796775430440903, 0.028494661673903465, 0.02310885675251484, 0.022087078541517258, 0.04216557741165161, 0.024390168488025665, 0.020749151706695557, 0.038735851645469666, 0.026269832625985146, 0.02728910744190216, 0.01961737498641014, 0.020242858678102493, 0.029203210026025772, 0.030413368716835976, 0.025762612000107765, 0.04084980860352516, 0.0333266407251358, 0.021795308217406273, 0.02631053887307644, 0.031013483181595802, 0.03689263015985489, 0.019377175718545914, 0.04355606064200401, 0.009558653458952904, 0.0], [0.11396826803684235, 0.01775287464261055, 0.016061950474977493, 0.015585060231387615, 0.01839614100754261, 0.0243670754134655, 0.026053881272673607, 0.023999111726880074, 0.021919479593634605, 0.026251094415783882, 0.02473054639995098, 0.01532302238047123, 0.025614570826292038, 0.0263378769159317, 0.02498287335038185, 0.02464260719716549, 0.028590328991413116, 0.032951489090919495, 0.027568645775318146, 0.01848755218088627, 0.032208528369665146, 0.031914714723825455, 0.03630727156996727, 0.03415403142571449, 0.03678559884428978, 0.032977718859910965, 0.026278898119926453, 0.038098882883787155, 0.029801955446600914, 0.018183253705501556, 0.036320678889751434, 0.035680945962667465, 0.05770311504602432]], [[1.0, 0.0, 0.0, 0.0, 0.0, 0.0, 0.0, 0.0, 0.0, 0.0, 0.0, 0.0, 0.0, 0.0, 0.0, 0.0, 0.0, 0.0, 0.0, 0.0, 0.0, 0.0, 0.0, 0.0, 0.0, 0.0, 0.0, 0.0, 0.0, 0.0, 0.0, 0.0, 0.0], [0.8058414459228516, 0.19415856897830963, 0.0, 0.0, 0.0, 0.0, 0.0, 0.0, 0.0, 0.0, 0.0, 0.0, 0.0, 0.0, 0.0, 0.0, 0.0, 0.0, 0.0, 0.0, 0.0, 0.0, 0.0, 0.0, 0.0, 0.0, 0.0, 0.0, 0.0, 0.0, 0.0, 0.0, 0.0], [0.6373866200447083, 0.09672050178050995, 0.2658928334712982, 0.0, 0.0, 0.0, 0.0, 0.0, 0.0, 0.0, 0.0, 0.0, 0.0, 0.0, 0.0, 0.0, 0.0, 0.0, 0.0, 0.0, 0.0, 0.0, 0.0, 0.0, 0.0, 0.0, 0.0, 0.0, 0.0, 0.0, 0.0, 0.0, 0.0], [0.5870267748832703, 0.09922722727060318, 0.07913827151060104, 0.2346077412366867, 0.0, 0.0, 0.0, 0.0, 0.0, 0.0, 0.0, 0.0, 0.0, 0.0, 0.0, 0.0, 0.0, 0.0, 0.0, 0.0, 0.0, 0.0, 0.0, 0.0, 0.0, 0.0, 0.0, 0.0, 0.0, 0.0, 0.0, 0.0, 0.0], [0.4194739758968353, 0.06312594562768936, 0.08123063296079636, 0.08381497859954834, 0.35235437750816345, 0.0, 0.0, 0.0, 0.0, 0.0, 0.0, 0.0, 0.0, 0.0, 0.0, 0.0, 0.0, 0.0, 0.0, 0.0, 0.0, 0.0, 0.0, 0.0, 0.0, 0.0, 0.0, 0.0, 0.0, 0.0, 0.0, 0.0, 0.0], [0.530853271484375, 0.0959073081612587, 0.07779336720705032, 0.06661548465490341, 0.07293294370174408, 0.15589764714241028, 0.0, 0.0, 0.0, 0.0, 0.0, 0.0, 0.0, 0.0, 0.0, 0.0, 0.0, 0.0, 0.0, 0.0, 0.0, 0.0, 0.0, 0.0, 0.0, 0.0, 0.0, 0.0, 0.0, 0.0, 0.0, 0.0, 0.0], [0.3850307762622833, 0.07478092610836029, 0.06978144496679306, 0.047606535255908966, 0.05144914612174034, 0.08776704221963882, 0.2835841476917267, 0.0, 0.0, 0.0, 0.0, 0.0, 0.0, 0.0, 0.0, 0.0, 0.0, 0.0, 0.0, 0.0, 0.0, 0.0, 0.0, 0.0, 0.0, 0.0, 0.0, 0.0, 0.0, 0.0, 0.0, 0.0, 0.0], [0.2962956726551056, 0.05328270047903061, 0.06944748014211655, 0.040975481271743774, 0.06660831719636917, 0.1021856963634491, 0.10869501531124115, 0.26250964403152466, 0.0, 0.0, 0.0, 0.0, 0.0, 0.0, 0.0, 0.0, 0.0, 0.0, 0.0, 0.0, 0.0, 0.0, 0.0, 0.0, 0.0, 0.0, 0.0, 0.0, 0.0, 0.0, 0.0, 0.0, 0.0], [0.30475008487701416, 0.06337984651327133, 0.057534221559762955, 0.04057719185948372, 0.07300137728452682, 0.07375827431678772, 0.07239886373281479, 0.05693604424595833, 0.25766411423683167, 0.0, 0.0, 0.0, 0.0, 0.0, 0.0, 0.0, 0.0, 0.0, 0.0, 0.0, 0.0, 0.0, 0.0, 0.0, 0.0, 0.0, 0.0, 0.0, 0.0, 0.0, 0.0, 0.0, 0.0], [0.29880768060684204, 0.055528249591588974, 0.05443596839904785, 0.052853021770715714, 0.06568749248981476, 0.07554222643375397, 0.06968102604150772, 0.054113879799842834, 0.09120786935091019, 0.18214258551597595, 0.0, 0.0, 0.0, 0.0, 0.0, 0.0, 0.0, 0.0, 0.0, 0.0, 0.0, 0.0, 0.0, 0.0, 0.0, 0.0, 0.0, 0.0, 0.0, 0.0, 0.0, 0.0, 0.0], [0.2693301737308502, 0.06352430582046509, 0.059521205723285675, 0.05242469906806946, 0.060521580278873444, 0.12185832113027573, 0.07608653604984283, 0.09753072261810303, 0.042326074093580246, 0.050583261996507645, 0.10629310458898544, 0.0, 0.0, 0.0, 0.0, 0.0, 0.0, 0.0, 0.0, 0.0, 0.0, 0.0, 0.0, 0.0, 0.0, 0.0, 0.0, 0.0, 0.0, 0.0, 0.0, 0.0, 0.0], [0.22074301540851593, 0.06960076093673706, 0.04872344806790352, 0.06675714254379272, 0.06954210251569748, 0.06483786553144455, 0.046523742377758026, 0.0393008328974247, 0.018016085028648376, 0.0358063168823719, 0.05302285775542259, 0.2671258747577667, 0.0, 0.0, 0.0, 0.0, 0.0, 0.0, 0.0, 0.0, 0.0, 0.0, 0.0, 0.0, 0.0, 0.0, 0.0, 0.0, 0.0, 0.0, 0.0, 0.0, 0.0], [0.15080073475837708, 0.04732475057244301, 0.12551113963127136, 0.06240083649754524, 0.05354631692171097, 0.0557839460670948, 0.04542611166834831, 0.03888600692152977, 0.03019980899989605, 0.033370550721883774, 0.04645955190062523, 0.023437926545739174, 0.2868524193763733, 0.0, 0.0, 0.0, 0.0, 0.0, 0.0, 0.0, 0.0, 0.0, 0.0, 0.0, 0.0, 0.0, 0.0, 0.0, 0.0, 0.0, 0.0, 0.0, 0.0], [0.2044883519411087, 0.049720510840415955, 0.04838545620441437, 0.04385359585285187, 0.05115720257163048, 0.1007489413022995, 0.06420683115720749, 0.08302561938762665, 0.03880453109741211, 0.04795773699879646, 0.09582382440567017, 0.032397009432315826, 0.044411033391952515, 0.0950193703174591, 0.0, 0.0, 0.0, 0.0, 0.0, 0.0, 0.0, 0.0, 0.0, 0.0, 0.0, 0.0, 0.0, 0.0, 0.0, 0.0, 0.0, 0.0, 0.0], [0.16236741840839386, 0.028519175946712494, 0.047843098640441895, 0.04135480895638466, 0.040284883230924606, 0.052005358040332794, 0.04226505756378174, 0.038211677223443985, 0.05986882746219635, 0.06849396973848343, 0.04734281077980995, 0.019715163856744766, 0.06202229857444763, 0.04572192579507828, 0.24398350715637207, 0.0, 0.0, 0.0, 0.0, 0.0, 0.0, 0.0, 0.0, 0.0, 0.0, 0.0, 0.0, 0.0, 0.0, 0.0, 0.0, 0.0, 0.0], [0.1312893033027649, 0.03962809219956398, 0.05951938405632973, 0.039663221687078476, 0.04406356066465378, 0.04348495230078697, 0.03726546838879585, 0.03240035101771355, 0.037205733358860016, 0.06481602042913437, 0.040474534034729004, 0.025914235040545464, 0.06507600098848343, 0.03922511264681816, 0.07744196802377701, 0.22253206372261047, 0.0, 0.0, 0.0, 0.0, 0.0, 0.0, 0.0, 0.0, 0.0, 0.0, 0.0, 0.0, 0.0, 0.0, 0.0, 0.0, 0.0], [0.1581333875656128, 0.03911251947283745, 0.038564957678318024, 0.03587968647480011, 0.041877955198287964, 0.08161000907421112, 0.05245806276798248, 0.0681268572807312, 0.03444807231426239, 0.04342750832438469, 0.08275996893644333, 0.029333392158150673, 0.04157378897070885, 0.08478686213493347, 0.04881599172949791, 0.032352838665246964, 0.08673813194036484, 0.0, 0.0, 0.0, 0.0, 0.0, 0.0, 0.0, 0.0, 0.0, 0.0, 0.0, 0.0, 0.0, 0.0, 0.0, 0.0], [0.13890594244003296, 0.03169633448123932, 0.03251554071903229, 0.03538899123668671, 0.038000330328941345, 0.06974425911903381, 0.05942453071475029, 0.06768239289522171, 0.027843808755278587, 0.03905466943979263, 0.07273104786872864, 0.030109865590929985, 0.041630931198596954, 0.07565010339021683, 0.040188323706388474, 0.027483617886900902, 0.0779590830206871, 0.09399020671844482, 0.0, 0.0, 0.0, 0.0, 0.0, 0.0, 0.0, 0.0, 0.0, 0.0, 0.0, 0.0, 0.0, 0.0, 0.0], [0.09691289812326431, 0.03068731538951397, 0.03081795573234558, 0.04473433271050453, 0.04171941801905632, 0.03603677451610565, 0.04101703688502312, 0.03210475668311119, 0.04344063997268677, 0.04885552451014519, 0.03457902371883392, 0.01602509804069996, 0.04994167014956474, 0.0346352718770504, 0.06065686047077179, 0.034977879375219345, 0.034543439745903015, 0.03782794997096062, 0.25048622488975525, 0.0, 0.0, 0.0, 0.0, 0.0, 0.0, 0.0, 0.0, 0.0, 0.0, 0.0, 0.0, 0.0, 0.0], [0.1205921545624733, 0.04121065139770508, 0.05098516121506691, 0.052891504019498825, 0.02886129915714264, 0.0470619834959507, 0.02921283431351185, 0.03817001357674599, 0.021046483889222145, 0.029787814244627953, 0.04406720772385597, 0.02650335058569908, 0.04127003997564316, 0.044307366013526917, 0.030801555141806602, 0.040649015456438065, 0.044745106250047684, 0.042122457176446915, 0.02844228409230709, 0.1972716599702835, 0.0, 0.0, 0.0, 0.0, 0.0, 0.0, 0.0, 0.0, 0.0, 0.0, 0.0, 0.0, 0.0], [0.11388307064771652, 0.0282553993165493, 0.02835128642618656, 0.02695867232978344, 0.031310856342315674, 0.05977548658847809, 0.0391821451485157, 0.050720397382974625, 0.02768402360379696, 0.035564228892326355, 0.06452133506536484, 0.024267084896564484, 0.03616494685411453, 0.06838169693946838, 0.04139300808310509, 0.029094642028212547, 0.0723005011677742, 0.07349380850791931, 0.03700020909309387, 0.0352863110601902, 0.07641095668077469, 0.0, 0.0, 0.0, 0.0, 0.0, 0.0, 0.0, 0.0, 0.0, 0.0, 0.0, 0.0], [0.08453851193189621, 0.017416616901755333, 0.018949126824736595, 0.016560638323426247, 0.022296132519841194, 0.04174060374498367, 0.05894863232970238, 0.038933612406253815, 0.030214644968509674, 0.034642331302165985, 0.04831899702548981, 0.01635843701660633, 0.025674551725387573, 0.05309673771262169, 0.02054651640355587, 0.020469829440116882, 0.057046398520469666, 0.06604909896850586, 0.037746451795101166, 0.02141387201845646, 0.06129930168390274, 0.20773889124393463, 0.0, 0.0, 0.0, 0.0, 0.0, 0.0, 0.0, 0.0, 0.0, 0.0, 0.0], [0.112484410405159, 0.024394851177930832, 0.024523142725229263, 0.0274895578622818, 0.026104675605893135, 0.037315063178539276, 0.06748529523611069, 0.03890376538038254, 0.01798143982887268, 0.02845439314842224, 0.037565313279628754, 0.01832607574760914, 0.020088663324713707, 0.038651712238788605, 0.023285651579499245, 0.02422662079334259, 0.03960612043738365, 0.048331886529922485, 0.04500092938542366, 0.017362141981720924, 0.04009140655398369, 0.0520828515291214, 0.19024407863616943, 0.0, 0.0, 0.0, 0.0, 0.0, 0.0, 0.0, 0.0, 0.0, 0.0], [0.08183359354734421, 0.01982845552265644, 0.0268733948469162, 0.029252564534544945, 0.02518443949520588, 0.03192773461341858, 0.029049795120954514, 0.024972515180706978, 0.03350626304745674, 0.040074292570352554, 0.033517319709062576, 0.016036001965403557, 0.03204454854130745, 0.03448064252734184, 0.02851710096001625, 0.03532731905579567, 0.03583228588104248, 0.040583960711956024, 0.029941115528345108, 0.02109791710972786, 0.03671329468488693, 0.03921257704496384, 0.03543240949511528, 0.23876051604747772, 0.0, 0.0, 0.0, 0.0, 0.0, 0.0, 0.0, 0.0, 0.0], [0.1014568880200386, 0.014237049035727978, 0.01698417030274868, 0.018636560067534447, 0.028536252677440643, 0.0365380197763443, 0.029570505023002625, 0.041983187198638916, 0.014166050590574741, 0.030081404373049736, 0.04016640782356262, 0.020075039938092232, 0.030370131134986877, 0.043534424155950546, 0.03039301373064518, 0.02071734517812729, 0.046771105378866196, 0.05495104566216469, 0.028809182345867157, 0.02004370093345642, 0.05092544108629227, 0.040844663977622986, 0.041858017444610596, 0.038489799946546555, 0.15986062586307526, 0.0, 0.0, 0.0, 0.0, 0.0, 0.0, 0.0, 0.0], [0.07937928289175034, 0.02067432925105095, 0.020799752324819565, 0.027988238260149956, 0.0456547737121582, 0.02656259760260582, 0.02539670467376709, 0.021243248134851456, 0.01776380091905594, 0.025200635194778442, 0.02757645957171917, 0.03060709498822689, 0.0343799963593483, 0.028568323701620102, 0.022726938128471375, 0.016051946207880974, 0.029712745919823647, 0.03276180475950241, 0.025702396407723427, 0.012878889217972755, 0.03062613122165203, 0.020369648933410645, 0.03741389885544777, 0.02785036712884903, 0.035718511790037155, 0.27639150619506836, 0.0, 0.0, 0.0, 0.0, 0.0, 0.0, 0.0], [0.09605433791875839, 0.02309289574623108, 0.02419964224100113, 0.02497413009405136, 0.03682965040206909, 0.030014390125870705, 0.02106921188533306, 0.018117517232894897, 0.022569261491298676, 0.028343217447400093, 0.030505124479532242, 0.02170768566429615, 0.028211774304509163, 0.03163941577076912, 0.039166100323200226, 0.03627364709973335, 0.03311570733785629, 0.035143956542015076, 0.02574523724615574, 0.015889005735516548, 0.034675464034080505, 0.026770081371068954, 0.027143443003296852, 0.0404508002102375, 0.03760384023189545, 0.03232336416840553, 0.17837099730968475, 0.0, 0.0, 0.0, 0.0, 0.0, 0.0], [0.07476936280727386, 0.011021515354514122, 0.010706553235650063, 0.015325451269745827, 0.01990356482565403, 0.032858673483133316, 0.02193605713546276, 0.029454153031110764, 0.016421504318714142, 0.022476572543382645, 0.037223439663648605, 0.01758023537695408, 0.021954137831926346, 0.040462128818035126, 0.031415414065122604, 0.010417778976261616, 0.044297389686107635, 0.05118126794695854, 0.02956555038690567, 0.015394330956041813, 0.0490642711520195, 0.03202192857861519, 0.030905112624168396, 0.04132053256034851, 0.06578275561332703, 0.039784032851457596, 0.020499693229794502, 0.1662566363811493, 0.0, 0.0, 0.0, 0.0, 0.0], [0.051242027431726456, 0.011390028521418571, 0.020265799015760422, 0.02452964335680008, 0.1273244023323059, 0.02008390799164772, 0.01769273541867733, 0.020381977781653404, 0.01854860968887806, 0.023206060752272606, 0.02102605812251568, 0.020521242171525955, 0.025210728868842125, 0.021994248032569885, 0.017190467566251755, 0.020805904641747475, 0.023035308346152306, 0.026458049193024635, 0.03108612820506096, 0.011454472318291664, 0.024357983842492104, 0.022524937987327576, 0.02460077963769436, 0.024588007479906082, 0.028380827978253365, 0.04660610482096672, 0.0436270646750927, 0.020300468429923058, 0.2115660011768341, 0.0, 0.0, 0.0, 0.0], [0.07929296791553497, 0.023537397384643555, 0.022847285494208336, 0.01993604004383087, 0.015462889336049557, 0.025110291317105293, 0.021429046988487244, 0.015073489397764206, 0.009924097917973995, 0.015724750235676765, 0.027188710868358612, 0.02074727974832058, 0.03497635945677757, 0.02910234034061432, 0.021219026297330856, 0.018147621303796768, 0.031058205291628838, 0.033809494227170944, 0.020137567073106766, 0.01232312060892582, 0.0336926244199276, 0.024336133152246475, 0.03108452633023262, 0.033777009695768356, 0.04355442151427269, 0.03296354040503502, 0.03314929082989693, 0.025364909321069717, 0.022163690999150276, 0.22286593914031982, 0.0, 0.0, 0.0], [0.10059653222560883, 0.03096376173198223, 0.02557850070297718, 0.02022406831383705, 0.027132980525493622, 0.029490763321518898, 0.04074482247233391, 0.021403614431619644, 0.01639261096715927, 0.022520696744322777, 0.02755517140030861, 0.013599208556115627, 0.027306709438562393, 0.02780657820403576, 0.011214186437427998, 0.023586541414260864, 0.028399180620908737, 0.03066891059279442, 0.021664202213287354, 0.017032314091920853, 0.029051588848233223, 0.02654992789030075, 0.03297554329037666, 0.026790326461195946, 0.032060641795396805, 0.027298325672745705, 0.017307184636592865, 0.018768826499581337, 0.028226526454091072, 0.0170851182192564, 0.18000461161136627, 0.0, 0.0], [0.08361607044935226, 0.01658189482986927, 0.015823302790522575, 0.022005166858434677, 0.024062559008598328, 0.021028295159339905, 0.022811293601989746, 0.014412387274205685, 0.01557209249585867, 0.015104830265045166, 0.020917734131217003, 0.021798165515065193, 0.02598598785698414, 0.022013209760189056, 0.022025059908628464, 0.018091218546032906, 0.02311510592699051, 0.025451799854636192, 0.02594352327287197, 0.011241883039474487, 0.024466173723340034, 0.022869890555739403, 0.031613439321517944, 0.029542673379182816, 0.02381790801882744, 0.029349016025662422, 0.025922643020749092, 0.017268182709813118, 0.031844597309827805, 0.012037740088999271, 0.027524925768375397, 0.2561413049697876, 0.0], [0.052584387362003326, 0.012508382089436054, 0.012737670913338661, 0.012144191190600395, 0.014467822387814522, 0.02481244131922722, 0.017109138891100883, 0.02516256459057331, 0.016298968344926834, 0.015160082839429379, 0.029820039868354797, 0.014290268532931805, 0.024094784632325172, 0.03374277055263519, 0.021632259711623192, 0.01892409846186638, 0.038192156702280045, 0.04115181416273117, 0.024165770038962364, 0.020635642111301422, 0.0441853292286396, 0.03793708607554436, 0.02963634394109249, 0.03152840584516525, 0.04542306438088417, 0.03596360236406326, 0.030482536181807518, 0.04609916731715202, 0.03206764534115791, 0.01766294054687023, 0.031696006655693054, 0.04462910443544388, 0.10305342078208923]], [[1.0, 0.0, 0.0, 0.0, 0.0, 0.0, 0.0, 0.0, 0.0, 0.0, 0.0, 0.0, 0.0, 0.0, 0.0, 0.0, 0.0, 0.0, 0.0, 0.0, 0.0, 0.0, 0.0, 0.0, 0.0, 0.0, 0.0, 0.0, 0.0, 0.0, 0.0, 0.0, 0.0], [0.7707714438438416, 0.22922857105731964, 0.0, 0.0, 0.0, 0.0, 0.0, 0.0, 0.0, 0.0, 0.0, 0.0, 0.0, 0.0, 0.0, 0.0, 0.0, 0.0, 0.0, 0.0, 0.0, 0.0, 0.0, 0.0, 0.0, 0.0, 0.0, 0.0, 0.0, 0.0, 0.0, 0.0, 0.0], [0.7813623547554016, 0.10978527367115021, 0.10885230451822281, 0.0, 0.0, 0.0, 0.0, 0.0, 0.0, 0.0, 0.0, 0.0, 0.0, 0.0, 0.0, 0.0, 0.0, 0.0, 0.0, 0.0, 0.0, 0.0, 0.0, 0.0, 0.0, 0.0, 0.0, 0.0, 0.0, 0.0, 0.0, 0.0, 0.0], [0.5350388884544373, 0.11194944381713867, 0.15013688802719116, 0.2028747797012329, 0.0, 0.0, 0.0, 0.0, 0.0, 0.0, 0.0, 0.0, 0.0, 0.0, 0.0, 0.0, 0.0, 0.0, 0.0, 0.0, 0.0, 0.0, 0.0, 0.0, 0.0, 0.0, 0.0, 0.0, 0.0, 0.0, 0.0, 0.0, 0.0], [0.4180358350276947, 0.1603638082742691, 0.10740305483341217, 0.10625775903463364, 0.2079394906759262, 0.0, 0.0, 0.0, 0.0, 0.0, 0.0, 0.0, 0.0, 0.0, 0.0, 0.0, 0.0, 0.0, 0.0, 0.0, 0.0, 0.0, 0.0, 0.0, 0.0, 0.0, 0.0, 0.0, 0.0, 0.0, 0.0, 0.0, 0.0], [0.4349866509437561, 0.09579858183860779, 0.08251797407865524, 0.10028502345085144, 0.15332910418510437, 0.13308264315128326, 0.0, 0.0, 0.0, 0.0, 0.0, 0.0, 0.0, 0.0, 0.0, 0.0, 0.0, 0.0, 0.0, 0.0, 0.0, 0.0, 0.0, 0.0, 0.0, 0.0, 0.0, 0.0, 0.0, 0.0, 0.0, 0.0, 0.0], [0.44621357321739197, 0.05624213442206383, 0.05040299892425537, 0.0708429366350174, 0.09360905736684799, 0.11472618579864502, 0.16796311736106873, 0.0, 0.0, 0.0, 0.0, 0.0, 0.0, 0.0, 0.0, 0.0, 0.0, 0.0, 0.0, 0.0, 0.0, 0.0, 0.0, 0.0, 0.0, 0.0, 0.0, 0.0, 0.0, 0.0, 0.0, 0.0, 0.0], [0.3609195053577423, 0.07294465601444244, 0.05191004276275635, 0.07159050554037094, 0.09321670234203339, 0.09543662518262863, 0.14539924263954163, 0.1085827648639679, 0.0, 0.0, 0.0, 0.0, 0.0, 0.0, 0.0, 0.0, 0.0, 0.0, 0.0, 0.0, 0.0, 0.0, 0.0, 0.0, 0.0, 0.0, 0.0, 0.0, 0.0, 0.0, 0.0, 0.0, 0.0], [0.3171406686306, 0.07683128118515015, 0.05552283674478531, 0.06445366144180298, 0.08586593717336655, 0.10643252730369568, 0.1452113538980484, 0.09439335763454437, 0.05414833128452301, 0.0, 0.0, 0.0, 0.0, 0.0, 0.0, 0.0, 0.0, 0.0, 0.0, 0.0, 0.0, 0.0, 0.0, 0.0, 0.0, 0.0, 0.0, 0.0, 0.0, 0.0, 0.0, 0.0, 0.0], [0.19288602471351624, 0.11343877017498016, 0.045305076986551285, 0.08361204713582993, 0.057632721960544586, 0.11914195865392685, 0.11441227048635483, 0.12364513427019119, 0.07640955597162247, 0.07351642102003098, 0.0, 0.0, 0.0, 0.0, 0.0, 0.0, 0.0, 0.0, 0.0, 0.0, 0.0, 0.0, 0.0, 0.0, 0.0, 0.0, 0.0, 0.0, 0.0, 0.0, 0.0, 0.0, 0.0], [0.25174084305763245, 0.06019412726163864, 0.0493021123111248, 0.0592232346534729, 0.08453336358070374, 0.07307679951190948, 0.12308553606271744, 0.08293969929218292, 0.06380271166563034, 0.07185835391283035, 0.08024312555789948, 0.0, 0.0, 0.0, 0.0, 0.0, 0.0, 0.0, 0.0, 0.0, 0.0, 0.0, 0.0, 0.0, 0.0, 0.0, 0.0, 0.0, 0.0, 0.0, 0.0, 0.0, 0.0], [0.24793605506420135, 0.04855769872665405, 0.0617169588804245, 0.06616781651973724, 0.0878860205411911, 0.05920381471514702, 0.09128592163324356, 0.06866812705993652, 0.06062867492437363, 0.08399353176355362, 0.0656941831111908, 0.05826115608215332, 0.0, 0.0, 0.0, 0.0, 0.0, 0.0, 0.0, 0.0, 0.0, 0.0, 0.0, 0.0, 0.0, 0.0, 0.0, 0.0, 0.0, 0.0, 0.0, 0.0, 0.0], [0.15039603412151337, 0.07072299718856812, 0.0361880287528038, 0.038128845393657684, 0.0549657829105854, 0.09552796185016632, 0.1278020143508911, 0.09101752191781998, 0.04133946821093559, 0.06619424372911453, 0.11493083089590073, 0.0352681428194046, 0.07751806080341339, 0.0, 0.0, 0.0, 0.0, 0.0, 0.0, 0.0, 0.0, 0.0, 0.0, 0.0, 0.0, 0.0, 0.0, 0.0, 0.0, 0.0, 0.0, 0.0, 0.0], [0.21730750799179077, 0.0522487610578537, 0.04279685392975807, 0.05130990222096443, 0.07021073251962662, 0.06084864214062691, 0.1009417176246643, 0.06729137152433395, 0.05347270891070366, 0.058032434433698654, 0.063866026699543, 0.041436828672885895, 0.05429812893271446, 0.06593840569257736, 0.0, 0.0, 0.0, 0.0, 0.0, 0.0, 0.0, 0.0, 0.0, 0.0, 0.0, 0.0, 0.0, 0.0, 0.0, 0.0, 0.0, 0.0, 0.0], [0.14158987998962402, 0.08735615015029907, 0.041096281260252, 0.07771319150924683, 0.06641592085361481, 0.060846105217933655, 0.07890867441892624, 0.0646718293428421, 0.04156756028532982, 0.05314023420214653, 0.06033195182681084, 0.049903448671102524, 0.06147689372301102, 0.06152055040001869, 0.05346129834651947, 0.0, 0.0, 0.0, 0.0, 0.0, 0.0, 0.0, 0.0, 0.0, 0.0, 0.0, 0.0, 0.0, 0.0, 0.0, 0.0, 0.0, 0.0], [0.11277396976947784, 0.05140269547700882, 0.034800734370946884, 0.04410992190241814, 0.049271050840616226, 0.08066019415855408, 0.09371131658554077, 0.07634276151657104, 0.034600723534822464, 0.05556501820683479, 0.09000374376773834, 0.027950912714004517, 0.05808688700199127, 0.09759873896837234, 0.0585305355489254, 0.03459075838327408, 0.0, 0.0, 0.0, 0.0, 0.0, 0.0, 0.0, 0.0, 0.0, 0.0, 0.0, 0.0, 0.0, 0.0, 0.0, 0.0, 0.0], [0.19136784970760345, 0.045888014137744904, 0.037184182554483414, 0.04478848725557327, 0.058455418795347214, 0.05162312090396881, 0.08451799303293228, 0.056617286056280136, 0.044779226183891296, 0.04681586101651192, 0.051775235682725906, 0.03474309667944908, 0.04365592449903488, 0.05257754027843475, 0.04571911692619324, 0.05523937568068504, 0.0542522594332695, 0.0, 0.0, 0.0, 0.0, 0.0, 0.0, 0.0, 0.0, 0.0, 0.0, 0.0, 0.0, 0.0, 0.0, 0.0, 0.0], [0.1780986487865448, 0.03651316463947296, 0.03537803143262863, 0.046600595116615295, 0.05606750771403313, 0.05542529746890068, 0.06580902636051178, 0.05869590863585472, 0.044602103531360626, 0.038453325629234314, 0.05522070452570915, 0.028129279613494873, 0.038876309990882874, 0.05635206028819084, 0.043072041124105453, 0.04859212040901184, 0.05801304802298546, 0.056100815534591675, 0.0, 0.0, 0.0, 0.0, 0.0, 0.0, 0.0, 0.0, 0.0, 0.0, 0.0, 0.0, 0.0, 0.0, 0.0], [0.11277125775814056, 0.04416342452168465, 0.01679084822535515, 0.03922899067401886, 0.030570242553949356, 0.08429384231567383, 0.058298345655202866, 0.07985575497150421, 0.02774021402001381, 0.02460792474448681, 0.08568026125431061, 0.012135532684624195, 0.02122362144291401, 0.08979950845241547, 0.024395622313022614, 0.018000073730945587, 0.09797869622707367, 0.08564858883619308, 0.04681727662682533, 0.0, 0.0, 0.0, 0.0, 0.0, 0.0, 0.0, 0.0, 0.0, 0.0, 0.0, 0.0, 0.0, 0.0], [0.15648673474788666, 0.043593354523181915, 0.029469121247529984, 0.023382792249321938, 0.03989394009113312, 0.06601442396640778, 0.07239895313978195, 0.049598753452301025, 0.02572007291018963, 0.028729896992444992, 0.07268751412630081, 0.020104361698031425, 0.03894994035363197, 0.07793483883142471, 0.0318501777946949, 0.02957259863615036, 0.08162932842969894, 0.049830298870801926, 0.04757082462310791, 0.014582015573978424, 0.0, 0.0, 0.0, 0.0, 0.0, 0.0, 0.0, 0.0, 0.0, 0.0, 0.0, 0.0, 0.0], [0.16675153374671936, 0.04021674394607544, 0.03194626420736313, 0.039155539125204086, 0.04867977276444435, 0.04351935535669327, 0.07027735561132431, 0.046769797801971436, 0.03737049549818039, 0.03785952925682068, 0.04185350984334946, 0.029438771307468414, 0.034967005252838135, 0.041871532797813416, 0.0366596058011055, 0.04418947547674179, 0.04244701564311981, 0.04308999702334404, 0.055408235639333725, 0.024029968306422234, 0.04349851980805397, 0.0, 0.0, 0.0, 0.0, 0.0, 0.0, 0.0, 0.0, 0.0, 0.0, 0.0, 0.0], [0.21311703324317932, 0.03452148661017418, 0.026512037962675095, 0.037284646183252335, 0.042002297937870026, 0.05378074571490288, 0.06410718709230423, 0.040195900946855545, 0.029513953253626823, 0.030562080442905426, 0.0481405146420002, 0.01964573934674263, 0.02385598234832287, 0.047123588621616364, 0.02780524455010891, 0.02563280239701271, 0.04690324515104294, 0.04211500659584999, 0.04245338588953018, 0.016209961846470833, 0.04720157012343407, 0.041315577924251556, 0.0, 0.0, 0.0, 0.0, 0.0, 0.0, 0.0, 0.0, 0.0, 0.0, 0.0], [0.16099104285240173, 0.03149213641881943, 0.025506015866994858, 0.03203629329800606, 0.03811939060688019, 0.05386462062597275, 0.05289202556014061, 0.06297370046377182, 0.03872942179441452, 0.030703026801347733, 0.0486149899661541, 0.016964141279459, 0.02098487876355648, 0.04743490368127823, 0.026178574189543724, 0.03281702101230621, 0.04874100536108017, 0.03702305629849434, 0.05028444901108742, 0.014425931498408318, 0.049269210547208786, 0.02748514525592327, 0.05246911942958832, 0.0, 0.0, 0.0, 0.0, 0.0, 0.0, 0.0, 0.0, 0.0, 0.0], [0.13924194872379303, 0.04732194542884827, 0.022920062765479088, 0.037826746702194214, 0.037331584841012955, 0.056281957775354385, 0.06773107498884201, 0.06383747607469559, 0.02882455848157406, 0.028368620201945305, 0.05008406937122345, 0.014775174669921398, 0.02105889841914177, 0.04819710925221443, 0.017685115337371826, 0.015456218272447586, 0.04842803254723549, 0.037099506705999374, 0.042473237961530685, 0.018426815047860146, 0.04861332103610039, 0.022673942148685455, 0.05998959764838219, 0.025352945551276207, 0.0, 0.0, 0.0, 0.0, 0.0, 0.0, 0.0, 0.0, 0.0], [0.1956235021352768, 0.03233328089118004, 0.02287409082055092, 0.038390759378671646, 0.034498799592256546, 0.046169038861989975, 0.055537521839141846, 0.03960668668150902, 0.023098409175872803, 0.024249296635389328, 0.040433064103126526, 0.016078544780611992, 0.021624943241477013, 0.039030544459819794, 0.026520879939198494, 0.028113430365920067, 0.0382363423705101, 0.035426124930381775, 0.041745759546756744, 0.02109714038670063, 0.037679556757211685, 0.03728693351149559, 0.044239211827516556, 0.022921498864889145, 0.0371847003698349, 0.0, 0.0, 0.0, 0.0, 0.0, 0.0, 0.0, 0.0], [0.0581965334713459, 0.038897402584552765, 0.026005243882536888, 0.023567883297801018, 0.0229799821972847, 0.053841497749090195, 0.058061063289642334, 0.06858772039413452, 0.03745981678366661, 0.02915911003947258, 0.05474673584103584, 0.013592935167253017, 0.027647055685520172, 0.055754028260707855, 0.030779875814914703, 0.01613735966384411, 0.05745430663228035, 0.039687298238277435, 0.034065522253513336, 0.013110967352986336, 0.05977656692266464, 0.01604376919567585, 0.029699301347136497, 0.020566528663039207, 0.08347287029027939, 0.030708612874150276, 0.0, 0.0, 0.0, 0.0, 0.0, 0.0, 0.0], [0.15561483800411224, 0.030323179438710213, 0.021067580208182335, 0.03860042244195938, 0.025089262053370476, 0.047195207327604294, 0.042556505650281906, 0.05166257172822952, 0.030368108302354813, 0.020133642479777336, 0.042556971311569214, 0.018511777743697166, 0.01867172308266163, 0.041430290788412094, 0.022022129967808723, 0.02106103114783764, 0.04166620224714279, 0.027249211445450783, 0.040481578558683395, 0.015536420047283173, 0.04219622537493706, 0.01700734905898571, 0.062209486961364746, 0.015703151002526283, 0.05443187057971954, 0.04092409461736679, 0.015729248523712158, 0.0, 0.0, 0.0, 0.0, 0.0, 0.0], [0.1521887183189392, 0.03232048079371452, 0.02627762034535408, 0.03215136379003525, 0.0370805561542511, 0.038433343172073364, 0.0421852171421051, 0.03440921753644943, 0.02929617650806904, 0.024752281606197357, 0.034612324088811874, 0.021795079112052917, 0.023419687524437904, 0.03386644273996353, 0.028580615296959877, 0.034403253346681595, 0.033156972378492355, 0.026710398495197296, 0.04213566333055496, 0.019021358340978622, 0.0327858030796051, 0.026839986443519592, 0.03304455056786537, 0.02330263890326023, 0.03390036150813103, 0.039449263364076614, 0.02133426070213318, 0.04254643991589546, 0.0, 0.0, 0.0, 0.0, 0.0], [0.10210391879081726, 0.04830532521009445, 0.027957910671830177, 0.02813485451042652, 0.04368893429636955, 0.03765960410237312, 0.04012181609869003, 0.03589580953121185, 0.02449178136885166, 0.019768044352531433, 0.03467409312725067, 0.015431455336511135, 0.03261655941605568, 0.03414337709546089, 0.027461392804980278, 0.020323220640420914, 0.03445842117071152, 0.015827571973204613, 0.03070584498345852, 0.02036093734204769, 0.03558045253157616, 0.0347902737557888, 0.035181500017642975, 0.028572579845786095, 0.04333386942744255, 0.03896386921405792, 0.017587706446647644, 0.045533761382102966, 0.046325117349624634, 0.0, 0.0, 0.0, 0.0], [0.1184174120426178, 0.026689790189266205, 0.02854764647781849, 0.03516456484794617, 0.03519095852971077, 0.030704865232110023, 0.04254690557718277, 0.023103509098291397, 0.02546311914920807, 0.029678557068109512, 0.02839520573616028, 0.019178250804543495, 0.023833584040403366, 0.027640027925372124, 0.033817537128925323, 0.03964013233780861, 0.027574436739087105, 0.0218561589717865, 0.03966763615608215, 0.03941831737756729, 0.02711562067270279, 0.030498048290610313, 0.03493283689022064, 0.0323205292224884, 0.027840537950396538, 0.03877579793334007, 0.021124791353940964, 0.03861141949892044, 0.032771822065114975, 0.019479986280202866, 0.0, 0.0, 0.0], [0.05433791130781174, 0.019247837364673615, 0.011686466634273529, 0.014118615537881851, 0.013909785076975822, 0.05736802518367767, 0.034546397626399994, 0.04665059968829155, 0.013026446104049683, 0.013271305710077286, 0.05952776223421097, 0.009063140489161015, 0.017364205792546272, 0.06135563179850578, 0.01263465080410242, 0.015145530924201012, 0.06425536423921585, 0.046270616352558136, 0.019556373357772827, 0.012543448247015476, 0.06913558393716812, 0.03482367843389511, 0.03000597655773163, 0.012261816300451756, 0.07985590398311615, 0.01899644359946251, 0.0107229333370924, 0.08654540777206421, 0.017174087464809418, 0.02214416116476059, 0.02245398610830307, 0.0, 0.0], [0.05849645286798477, 0.03437737002968788, 0.01360308937728405, 0.024170437827706337, 0.019005868583917618, 0.0654640644788742, 0.03062298148870468, 0.03573206812143326, 0.01885945349931717, 0.012241478078067303, 0.0628218948841095, 0.01183574739843607, 0.009552357718348503, 0.06431794911623001, 0.02158958464860916, 0.010912963189184666, 0.06665915250778198, 0.02399745211005211, 0.026596732437610626, 0.006153553258627653, 0.06984329968690872, 0.037238676100969315, 0.030046721920371056, 0.021686799824237823, 0.043640609830617905, 0.02120962180197239, 0.013490457087755203, 0.04632722586393356, 0.02043450064957142, 0.013362267054617405, 0.018568987026810646, 0.04714023321866989, 0.0], [0.1352868527173996, 0.02973336912691593, 0.026111328974366188, 0.03753575310111046, 0.0388815701007843, 0.033166784793138504, 0.048243921250104904, 0.030468301847577095, 0.02603822574019432, 0.02412371151149273, 0.02789274975657463, 0.022709935903549194, 0.024185296148061752, 0.026114551350474358, 0.023209676146507263, 0.025175288319587708, 0.02461479790508747, 0.02112315408885479, 0.029685046523809433, 0.018167469650506973, 0.02306438237428665, 0.02059805952012539, 0.03441142290830612, 0.021083401516079903, 0.022538838908076286, 0.03228156268596649, 0.013987254351377487, 0.024144921451807022, 0.027002308517694473, 0.012929447926580906, 0.03616538643836975, 0.026840228587388992, 0.03248501941561699]]]}\n",
       "    )\n",
       "    </script>"
      ],
      "text/plain": [
       "<circuitsvis.utils.render.RenderedHTML at 0x1fa2622a6e0>"
      ]
     },
     "execution_count": 14,
     "metadata": {},
     "output_type": "execute_result"
    }
   ],
   "source": [
    "print(\"Layer 0 Head Attention Patterns:\")\n",
    "cv.attention.attention_patterns(tokens=gpt2_str_tokens, attention=attention_pattern)"
   ]
  },
  {
   "cell_type": "markdown",
   "metadata": {},
   "source": [
    "## Hooks: Intervening on Activations"
   ]
  },
  {
   "cell_type": "markdown",
   "metadata": {},
   "source": [
    "One of the great things about interpreting neural networks is that we have *full control* over our system. From a computational perspective, we know exactly what operations are going on inside (even if we don't know what they mean!). And we can make precise, surgical edits and see how the model's behaviour and other internals change. This is an extremely powerful tool, because it can let us eg set up careful counterfactuals and causal intervention to easily understand model behaviour. \n",
    "\n",
    "Accordingly, being able to do this is a pretty core operation, and this is one of the main things TransformerLens supports! The key feature here is **hook points**. Every activation inside the transformer is surrounded by a hook point, which allows us to edit or intervene on it. \n",
    "\n",
    "We do this by adding a **hook function** to that activation. The hook function maps `current_activation_value, hook_point` to `new_activation_value`. As the model is run, it computes that activation as normal, and then the hook function is applied to compute a replacement, and that is substituted in for the activation. The hook function can be an arbitrary Python function, so long as it returns a tensor of the correct shape.\n",
    "\n",
    "<details><summary>Relationship to PyTorch hooks</summary>\n",
    "\n",
    "[PyTorch hooks](https://blog.paperspace.com/pytorch-hooks-gradient-clipping-debugging/) are a great and underrated, yet incredibly janky, feature. They can act on a layer, and edit the input or output of that layer, or the gradient when applying autodiff. The key difference is that **Hook points** act on *activations* not layers. This means that you can intervene within a layer on each activation, and don't need to care about the precise layer structure of the transformer. And it's immediately clear exactly how the hook's effect is applied. This adjustment was shamelessly inspired by [Garcon's use of ProbePoints](https://transformer-circuits.pub/2021/garcon/index.html).\n",
    "\n",
    "They also come with a range of other quality of life improvements, like the model having a `model.reset_hooks()` method to remove all hooks, or helper methods to temporarily add hooks for a single forward pass - it is *incredibly* easy to shoot yourself in the foot with standard PyTorch hooks!\n",
    "</details>"
   ]
  },
  {
   "cell_type": "markdown",
   "metadata": {},
   "source": [
    "As a basic example, let's [ablate](https://dynalist.io/d/n2ZWtnoYHrU1s4vnFSAQ519J#z=fh-HJyz1CgUVrXuoiban6bYx) head 7 in layer 0 on the text above. \n",
    "\n",
    "We define a `head_ablation_hook` function. This takes the value tensor for attention layer 0, and sets the component with `head_index==7` to zero and returns it (Note - we return by convention, but since we're editing the activation in-place, we don't strictly *need* to).\n",
    "\n",
    "We then use the `run_with_hooks` helper function to run the model and *temporarily* add in the hook for just this run. We enter in the hook as a tuple of the activation name (also the hook point name - found with `utils.get_act_name`) and the hook function."
   ]
  },
  {
   "cell_type": "code",
   "execution_count": 14,
   "metadata": {},
   "outputs": [
    {
     "name": "stdout",
     "output_type": "stream",
     "text": [
      "Shape of the value tensor: torch.Size([1, 33, 12, 64])\n",
      "Original Loss: 3.999\n",
      "Ablated Loss: 5.453\n"
     ]
    }
   ],
   "source": [
    "layer_to_ablate = 0\n",
    "head_index_to_ablate = 8\n",
    "\n",
    "# We define a head ablation hook\n",
    "# The type annotations are NOT necessary, they're just a useful guide to the reader\n",
    "# \n",
    "def head_ablation_hook(\n",
    "    value: Float[torch.Tensor, \"batch pos head_index d_head\"],\n",
    "    hook: HookPoint\n",
    ") -> Float[torch.Tensor, \"batch pos head_index d_head\"]:\n",
    "    print(f\"Shape of the value tensor: {value.shape}\")\n",
    "    value[:, :, head_index_to_ablate, :] = 0.\n",
    "    return value\n",
    "\n",
    "original_loss = model(gpt2_tokens, return_type=\"loss\")\n",
    "ablated_loss = model.run_with_hooks(\n",
    "    gpt2_tokens, \n",
    "    return_type=\"loss\", \n",
    "    fwd_hooks=[(\n",
    "        utils.get_act_name(\"v\", layer_to_ablate), \n",
    "        head_ablation_hook\n",
    "        )]\n",
    "    )\n",
    "print(f\"Original Loss: {original_loss.item():.3f}\")\n",
    "print(f\"Ablated Loss: {ablated_loss.item():.3f}\")"
   ]
  },
  {
   "cell_type": "markdown",
   "metadata": {},
   "source": [
    "**Gotcha:** Hooks are global state - they're added in as part of the model, and stay there until removed. `run_with_hooks` tries to create an abstraction where these are local state, by removing all hooks at the end of the function. But you can easily shoot yourself in the foot if there's, eg, an error in one of your hooks so the function never finishes. If you start getting bugs, try `model.reset_hooks()` to clean things up. Further, if you *do* add hooks of your own that you want to keep, which you can do with `add_perma_hook` on the relevant HookPoint"
   ]
  },
  {
   "cell_type": "markdown",
   "metadata": {
    "jp-MarkdownHeadingCollapsed": true,
    "tags": []
   },
   "source": [
    "### Activation Patching on the Indirect Object Identification Task"
   ]
  },
  {
   "cell_type": "markdown",
   "metadata": {},
   "source": [
    "For a somewhat more involved example, let's use hooks to apply **[activation patching](https://dynalist.io/d/n2ZWtnoYHrU1s4vnFSAQ519J#z=qeWBvs-R-taFfcCq-S_hgMqx)** on the **[Indirect Object Identification](https://dynalist.io/d/n2ZWtnoYHrU1s4vnFSAQ519J#z=iWsV3s5Kdd2ca3zNgXr5UPHa)** (IOI) task. \n",
    "\n",
    "The IOI task is the task of identifying that a sentence like \"After John and Mary went to the store, Mary gave a bottle of milk to\" continues with \" John\" rather than \" Mary\" (ie, finding the indirect object), and Redwood Research have [an excellent paper studying the underlying circuit in GPT-2 Small](https://arxiv.org/abs/2211.00593).\n",
    "\n",
    "**[Activation patching](https://dynalist.io/d/n2ZWtnoYHrU1s4vnFSAQ519J#z=qeWBvs-R-taFfcCq-S_hgMqx)** is a technique from [Kevin Meng and David Bau's excellent ROME paper](https://rome.baulab.info/). The goal is to identify which model activations are important for completing a task. We do this by setting up a **clean prompt** and a **corrupted prompt** and a **metric** for performance on the task. We then pick a specific model activation, run the model on the corrupted prompt, but then *intervene* on that activation and patch in its value when run on the clean prompt. We then apply the metric, and see how much this patch has recovered the clean performance. \n",
    "(See [a more detailed demonstration of activation patching here](https://colab.research.google.com/github.com/neelnanda-io/TransformerLens/blob/main/demos/Exploratory_Analysis_Demo.ipynb))"
   ]
  },
  {
   "cell_type": "markdown",
   "metadata": {},
   "source": [
    "Here, our clean prompt is \"After John and Mary went to the store, **Mary** gave a bottle of milk to\", our corrupted prompt is \"After John and Mary went to the store, **John** gave a bottle of milk to\", and our metric is the difference between the correct logit ( John) and the incorrect logit ( Mary) on the final token. \n",
    "\n",
    "We see that the logit difference is significantly positive on the clean prompt, and significantly negative on the corrupted prompt, showing that the model is capable of doing the task!"
   ]
  },
  {
   "cell_type": "code",
   "execution_count": 15,
   "metadata": {},
   "outputs": [
    {
     "name": "stdout",
     "output_type": "stream",
     "text": [
      "Clean logit difference: 4.276\n",
      "Corrupted logit difference: -2.738\n"
     ]
    }
   ],
   "source": [
    "clean_prompt = \"After John and Mary went to the store, Mary gave a bottle of milk to\"\n",
    "corrupted_prompt = \"After John and Mary went to the store, John gave a bottle of milk to\"\n",
    "\n",
    "clean_tokens = model.to_tokens(clean_prompt)\n",
    "corrupted_tokens = model.to_tokens(corrupted_prompt)\n",
    "\n",
    "def logits_to_logit_diff(logits, correct_answer=\" John\", incorrect_answer=\" Mary\"):\n",
    "    # model.to_single_token maps a string value of a single token to the token index for that token\n",
    "    # If the string is not a single token, it raises an error.\n",
    "    correct_index = model.to_single_token(correct_answer)\n",
    "    incorrect_index = model.to_single_token(incorrect_answer)\n",
    "    return logits[0, -1, correct_index] - logits[0, -1, incorrect_index]\n",
    "\n",
    "# We run on the clean prompt with the cache so we store activations to patch in later.\n",
    "clean_logits, clean_cache = model.run_with_cache(clean_tokens)\n",
    "clean_logit_diff = logits_to_logit_diff(clean_logits)\n",
    "print(f\"Clean logit difference: {clean_logit_diff.item():.3f}\")\n",
    "\n",
    "# We don't need to cache on the corrupted prompt.\n",
    "corrupted_logits = model(corrupted_tokens)\n",
    "corrupted_logit_diff = logits_to_logit_diff(corrupted_logits)\n",
    "print(f\"Corrupted logit difference: {corrupted_logit_diff.item():.3f}\")"
   ]
  },
  {
   "cell_type": "markdown",
   "metadata": {},
   "source": [
    "We now setup the hook function to do activation patching. Here, we'll patch in the [residual stream](https://dynalist.io/d/n2ZWtnoYHrU1s4vnFSAQ519J#z=DHp9vZ0h9lA9OCrzG2Y3rrzH) at the start of a specific layer and at a specific position. This will let us see how much the model is using the residual stream at that layer and position to represent the key information for the task. \n",
    "\n",
    "We want to iterate over all layers and positions, so we write the hook to take in an position parameter. Hook functions must have the input signature (activation, hook), but we can use `functools.partial` to set the position parameter before passing it to `run_with_hooks`"
   ]
  },
  {
   "cell_type": "code",
   "execution_count": 16,
   "metadata": {},
   "outputs": [
    {
     "name": "stdout",
     "output_type": "stream",
     "text": [
      "huggingface/tokenizers: The current process just got forked, after parallelism has already been used. Disabling parallelism to avoid deadlocks...\n",
      "To disable this warning, you can either:\n",
      "\t- Avoid using `tokenizers` before the fork if possible\n",
      "\t- Explicitly set the environment variable TOKENIZERS_PARALLELISM=(true | false)\n"
     ]
    },
    {
     "data": {
      "application/vnd.jupyter.widget-view+json": {
       "model_id": "b93d6b6e8c37495f84b7a00f2caf81c3",
       "version_major": 2,
       "version_minor": 0
      },
      "text/plain": [
       "  0%|          | 0/12 [00:00<?, ?it/s]"
      ]
     },
     "metadata": {},
     "output_type": "display_data"
    }
   ],
   "source": [
    "# We define a residual stream patching hook\n",
    "# We choose to act on the residual stream at the start of the layer, so we call it resid_pre\n",
    "# The type annotations are a guide to the reader and are not necessary\n",
    "def residual_stream_patching_hook(\n",
    "    resid_pre: Float[torch.Tensor, \"batch pos d_model\"],\n",
    "    hook: HookPoint,\n",
    "    position: int\n",
    ") -> Float[torch.Tensor, \"batch pos d_model\"]:\n",
    "    # Each HookPoint has a name attribute giving the name of the hook.\n",
    "    clean_resid_pre = clean_cache[hook.name]\n",
    "    resid_pre[:, position, :] = clean_resid_pre[:, position, :]\n",
    "    return resid_pre\n",
    "\n",
    "# We make a tensor to store the results for each patching run. We put it on the model's device to avoid needing to move things between the GPU and CPU, which can be slow.\n",
    "num_positions = len(clean_tokens[0])\n",
    "ioi_patching_result = torch.zeros((model.cfg.n_layers, num_positions), device=model.cfg.device)\n",
    "\n",
    "for layer in tqdm.tqdm(range(model.cfg.n_layers)):\n",
    "    for position in range(num_positions):\n",
    "        # Use functools.partial to create a temporary hook function with the position fixed\n",
    "        temp_hook_fn = partial(residual_stream_patching_hook, position=position)\n",
    "        # Run the model with the patching hook\n",
    "        patched_logits = model.run_with_hooks(corrupted_tokens, fwd_hooks=[\n",
    "            (utils.get_act_name(\"resid_pre\", layer), temp_hook_fn)\n",
    "        ])\n",
    "        # Calculate the logit difference\n",
    "        patched_logit_diff = logits_to_logit_diff(patched_logits).detach()\n",
    "        # Store the result, normalizing by the clean and corrupted logit difference so it's between 0 and 1 (ish)\n",
    "        ioi_patching_result[layer, position] = (patched_logit_diff - corrupted_logit_diff)/(clean_logit_diff - corrupted_logit_diff)"
   ]
  },
  {
   "cell_type": "markdown",
   "metadata": {},
   "source": [
    "We can now visualize the results, and see that this computation is extremely localised within the model. Initially, the second subject (Mary) token is all that matters (naturally, as it's the only different token), and all relevant information remains here until heads in layer 7 and 8 move this to the final token where it's used to predict the indirect object.\n",
    "(Note - the heads are in layer 7 and 8, not 8 and 9, because we patched in the residual stream at the *start* of each layer)"
   ]
  },
  {
   "cell_type": "code",
   "execution_count": 23,
   "metadata": {},
   "outputs": [
    {
     "data": {
      "text/html": [
       "<html>\n",
       "<head><meta charset=\"utf-8\" /></head>\n",
       "<body>\n",
       "    <div>            <script src=\"https://cdnjs.cloudflare.com/ajax/libs/mathjax/2.7.5/MathJax.js?config=TeX-AMS-MML_SVG\"></script><script type=\"text/javascript\">if (window.MathJax && window.MathJax.Hub && window.MathJax.Hub.Config) {window.MathJax.Hub.Config({SVG: {font: \"STIX-Web\"}});}</script>                <script type=\"text/javascript\">window.PlotlyConfig = {MathJaxConfig: 'local'};</script>\n",
       "        <script src=\"https://cdn.plot.ly/plotly-2.17.1.min.js\"></script>                <div id=\"247f7a59-3cb2-4d78-beca-a8c55de0be81\" class=\"plotly-graph-div\" style=\"height:525px; width:100%;\"></div>            <script type=\"text/javascript\">                                    window.PLOTLYENV=window.PLOTLYENV || {};                                    if (document.getElementById(\"247f7a59-3cb2-4d78-beca-a8c55de0be81\")) {                    Plotly.newPlot(                        \"247f7a59-3cb2-4d78-beca-a8c55de0be81\",                        [{\"coloraxis\":\"coloraxis\",\"name\":\"0\",\"x\":[\"<|endoftext|>_0\",\"After_1\",\" John_2\",\" and_3\",\" Mary_4\",\" went_5\",\" to_6\",\" the_7\",\" store_8\",\",_9\",\" Mary_10\",\" gave_11\",\" a_12\",\" bottle_13\",\" of_14\",\" milk_15\",\" to_16\"],\"z\":[[0.0,0.0,0.0,0.0,0.0,0.0,0.0,0.0,0.0,0.0,1.0,0.0,0.0,0.0,0.0,0.0,0.0],[0.0,0.0,0.0,0.0,0.0,0.0,0.0,0.0,0.0,0.0,0.9981456995010376,0.0015992368571460247,0.00015037883713375777,-0.00037227600114420056,-2.257042251585517e-05,-0.0006300683016888797,-0.0005123214214108884],[0.0,0.0,0.0,0.0,0.0,0.0,0.0,0.0,0.0,0.0,0.9980529546737671,0.002285051392391324,0.00018409850599709898,-0.0005068827304057777,-0.00026785381487570703,-5.302689896780066e-05,-0.001280259690247476],[0.0,0.0,0.0,0.0,0.0,0.0,0.0,0.0,0.0,0.0,0.9967364072799683,0.0040817116387188435,0.0009732475155033171,4.650051050703041e-05,-0.00015908069326542318,-0.0003355650987941772,-0.001944591524079442],[0.0,0.0,0.0,0.0,0.0,0.0,0.0,0.0,0.0,0.0,0.9905855655670166,0.019987333565950394,0.001893468201160431,0.0010124058462679386,-6.798320100642741e-05,0.0009120626491494477,-0.0018999945605173707],[0.0,0.0,0.0,0.0,0.0,0.0,0.0,0.0,0.0,0.0,0.961650550365448,0.08534584194421768,0.005203706212341785,0.003054893109947443,0.00019579162471927702,0.0011073104105889797,-0.0022845075000077486],[0.0,0.0,0.0,0.0,0.0,0.0,0.0,0.0,0.0,0.0,0.963096559047699,0.08437014371156693,0.004123317077755928,0.000719534233212471,0.00010306253534508869,0.001002616249024868,-0.004213599022477865],[0.0,0.0,0.0,0.0,0.0,0.0,0.0,0.0,0.0,0.0,0.9359157681465149,0.11111718416213989,0.007705488242208958,0.00037581115611828864,0.00036520574940368533,0.0013256724923849106,0.01874704845249653],[0.0,0.0,0.0,0.0,0.0,0.0,0.0,0.0,0.0,0.0,0.7701542377471924,0.037420131266117096,0.0020664173644036055,-8.321143832290545e-05,0.00013406288053374738,0.0017278611194342375,0.4499046802520752],[0.0,0.0,0.0,0.0,0.0,0.0,0.0,0.0,0.0,0.0,0.09650269895792007,0.02592661790549755,0.0019715128000825644,0.0003274070913903415,0.0004261186986695975,0.0018855821108445525,0.8994713425636292],[0.0,0.0,0.0,0.0,0.0,0.0,0.0,0.0,0.0,0.0,-0.023324493318796158,0.01853521168231964,0.0015859121922403574,0.0005256461445242167,0.0002561607107054442,0.0008723604260012507,0.9612748622894287],[0.0,0.0,0.0,0.0,0.0,0.0,0.0,0.0,0.0,0.0,-0.008557181805372238,0.006339297629892826,0.0005811204318888485,-0.00034073181450366974,0.00011013278708560392,0.0006496474961750209,0.9495801329612732]],\"type\":\"heatmap\",\"xaxis\":\"x\",\"yaxis\":\"y\",\"hovertemplate\":\"Position: %{x}<br>Layer: %{y}<br>color: %{z}<extra></extra>\"}],                        {\"template\":{\"data\":{\"histogram2dcontour\":[{\"type\":\"histogram2dcontour\",\"colorbar\":{\"outlinewidth\":0,\"ticks\":\"\"},\"colorscale\":[[0.0,\"#0d0887\"],[0.1111111111111111,\"#46039f\"],[0.2222222222222222,\"#7201a8\"],[0.3333333333333333,\"#9c179e\"],[0.4444444444444444,\"#bd3786\"],[0.5555555555555556,\"#d8576b\"],[0.6666666666666666,\"#ed7953\"],[0.7777777777777778,\"#fb9f3a\"],[0.8888888888888888,\"#fdca26\"],[1.0,\"#f0f921\"]]}],\"choropleth\":[{\"type\":\"choropleth\",\"colorbar\":{\"outlinewidth\":0,\"ticks\":\"\"}}],\"histogram2d\":[{\"type\":\"histogram2d\",\"colorbar\":{\"outlinewidth\":0,\"ticks\":\"\"},\"colorscale\":[[0.0,\"#0d0887\"],[0.1111111111111111,\"#46039f\"],[0.2222222222222222,\"#7201a8\"],[0.3333333333333333,\"#9c179e\"],[0.4444444444444444,\"#bd3786\"],[0.5555555555555556,\"#d8576b\"],[0.6666666666666666,\"#ed7953\"],[0.7777777777777778,\"#fb9f3a\"],[0.8888888888888888,\"#fdca26\"],[1.0,\"#f0f921\"]]}],\"heatmap\":[{\"type\":\"heatmap\",\"colorbar\":{\"outlinewidth\":0,\"ticks\":\"\"},\"colorscale\":[[0.0,\"#0d0887\"],[0.1111111111111111,\"#46039f\"],[0.2222222222222222,\"#7201a8\"],[0.3333333333333333,\"#9c179e\"],[0.4444444444444444,\"#bd3786\"],[0.5555555555555556,\"#d8576b\"],[0.6666666666666666,\"#ed7953\"],[0.7777777777777778,\"#fb9f3a\"],[0.8888888888888888,\"#fdca26\"],[1.0,\"#f0f921\"]]}],\"heatmapgl\":[{\"type\":\"heatmapgl\",\"colorbar\":{\"outlinewidth\":0,\"ticks\":\"\"},\"colorscale\":[[0.0,\"#0d0887\"],[0.1111111111111111,\"#46039f\"],[0.2222222222222222,\"#7201a8\"],[0.3333333333333333,\"#9c179e\"],[0.4444444444444444,\"#bd3786\"],[0.5555555555555556,\"#d8576b\"],[0.6666666666666666,\"#ed7953\"],[0.7777777777777778,\"#fb9f3a\"],[0.8888888888888888,\"#fdca26\"],[1.0,\"#f0f921\"]]}],\"contourcarpet\":[{\"type\":\"contourcarpet\",\"colorbar\":{\"outlinewidth\":0,\"ticks\":\"\"}}],\"contour\":[{\"type\":\"contour\",\"colorbar\":{\"outlinewidth\":0,\"ticks\":\"\"},\"colorscale\":[[0.0,\"#0d0887\"],[0.1111111111111111,\"#46039f\"],[0.2222222222222222,\"#7201a8\"],[0.3333333333333333,\"#9c179e\"],[0.4444444444444444,\"#bd3786\"],[0.5555555555555556,\"#d8576b\"],[0.6666666666666666,\"#ed7953\"],[0.7777777777777778,\"#fb9f3a\"],[0.8888888888888888,\"#fdca26\"],[1.0,\"#f0f921\"]]}],\"surface\":[{\"type\":\"surface\",\"colorbar\":{\"outlinewidth\":0,\"ticks\":\"\"},\"colorscale\":[[0.0,\"#0d0887\"],[0.1111111111111111,\"#46039f\"],[0.2222222222222222,\"#7201a8\"],[0.3333333333333333,\"#9c179e\"],[0.4444444444444444,\"#bd3786\"],[0.5555555555555556,\"#d8576b\"],[0.6666666666666666,\"#ed7953\"],[0.7777777777777778,\"#fb9f3a\"],[0.8888888888888888,\"#fdca26\"],[1.0,\"#f0f921\"]]}],\"mesh3d\":[{\"type\":\"mesh3d\",\"colorbar\":{\"outlinewidth\":0,\"ticks\":\"\"}}],\"scatter\":[{\"fillpattern\":{\"fillmode\":\"overlay\",\"size\":10,\"solidity\":0.2},\"type\":\"scatter\"}],\"parcoords\":[{\"type\":\"parcoords\",\"line\":{\"colorbar\":{\"outlinewidth\":0,\"ticks\":\"\"}}}],\"scatterpolargl\":[{\"type\":\"scatterpolargl\",\"marker\":{\"colorbar\":{\"outlinewidth\":0,\"ticks\":\"\"}}}],\"bar\":[{\"error_x\":{\"color\":\"#2a3f5f\"},\"error_y\":{\"color\":\"#2a3f5f\"},\"marker\":{\"line\":{\"color\":\"#E5ECF6\",\"width\":0.5},\"pattern\":{\"fillmode\":\"overlay\",\"size\":10,\"solidity\":0.2}},\"type\":\"bar\"}],\"scattergeo\":[{\"type\":\"scattergeo\",\"marker\":{\"colorbar\":{\"outlinewidth\":0,\"ticks\":\"\"}}}],\"scatterpolar\":[{\"type\":\"scatterpolar\",\"marker\":{\"colorbar\":{\"outlinewidth\":0,\"ticks\":\"\"}}}],\"histogram\":[{\"marker\":{\"pattern\":{\"fillmode\":\"overlay\",\"size\":10,\"solidity\":0.2}},\"type\":\"histogram\"}],\"scattergl\":[{\"type\":\"scattergl\",\"marker\":{\"colorbar\":{\"outlinewidth\":0,\"ticks\":\"\"}}}],\"scatter3d\":[{\"type\":\"scatter3d\",\"line\":{\"colorbar\":{\"outlinewidth\":0,\"ticks\":\"\"}},\"marker\":{\"colorbar\":{\"outlinewidth\":0,\"ticks\":\"\"}}}],\"scattermapbox\":[{\"type\":\"scattermapbox\",\"marker\":{\"colorbar\":{\"outlinewidth\":0,\"ticks\":\"\"}}}],\"scatterternary\":[{\"type\":\"scatterternary\",\"marker\":{\"colorbar\":{\"outlinewidth\":0,\"ticks\":\"\"}}}],\"scattercarpet\":[{\"type\":\"scattercarpet\",\"marker\":{\"colorbar\":{\"outlinewidth\":0,\"ticks\":\"\"}}}],\"carpet\":[{\"aaxis\":{\"endlinecolor\":\"#2a3f5f\",\"gridcolor\":\"white\",\"linecolor\":\"white\",\"minorgridcolor\":\"white\",\"startlinecolor\":\"#2a3f5f\"},\"baxis\":{\"endlinecolor\":\"#2a3f5f\",\"gridcolor\":\"white\",\"linecolor\":\"white\",\"minorgridcolor\":\"white\",\"startlinecolor\":\"#2a3f5f\"},\"type\":\"carpet\"}],\"table\":[{\"cells\":{\"fill\":{\"color\":\"#EBF0F8\"},\"line\":{\"color\":\"white\"}},\"header\":{\"fill\":{\"color\":\"#C8D4E3\"},\"line\":{\"color\":\"white\"}},\"type\":\"table\"}],\"barpolar\":[{\"marker\":{\"line\":{\"color\":\"#E5ECF6\",\"width\":0.5},\"pattern\":{\"fillmode\":\"overlay\",\"size\":10,\"solidity\":0.2}},\"type\":\"barpolar\"}],\"pie\":[{\"automargin\":true,\"type\":\"pie\"}]},\"layout\":{\"autotypenumbers\":\"strict\",\"colorway\":[\"#636efa\",\"#EF553B\",\"#00cc96\",\"#ab63fa\",\"#FFA15A\",\"#19d3f3\",\"#FF6692\",\"#B6E880\",\"#FF97FF\",\"#FECB52\"],\"font\":{\"color\":\"#2a3f5f\"},\"hovermode\":\"closest\",\"hoverlabel\":{\"align\":\"left\"},\"paper_bgcolor\":\"white\",\"plot_bgcolor\":\"#E5ECF6\",\"polar\":{\"bgcolor\":\"#E5ECF6\",\"angularaxis\":{\"gridcolor\":\"white\",\"linecolor\":\"white\",\"ticks\":\"\"},\"radialaxis\":{\"gridcolor\":\"white\",\"linecolor\":\"white\",\"ticks\":\"\"}},\"ternary\":{\"bgcolor\":\"#E5ECF6\",\"aaxis\":{\"gridcolor\":\"white\",\"linecolor\":\"white\",\"ticks\":\"\"},\"baxis\":{\"gridcolor\":\"white\",\"linecolor\":\"white\",\"ticks\":\"\"},\"caxis\":{\"gridcolor\":\"white\",\"linecolor\":\"white\",\"ticks\":\"\"}},\"coloraxis\":{\"colorbar\":{\"outlinewidth\":0,\"ticks\":\"\"}},\"colorscale\":{\"sequential\":[[0.0,\"#0d0887\"],[0.1111111111111111,\"#46039f\"],[0.2222222222222222,\"#7201a8\"],[0.3333333333333333,\"#9c179e\"],[0.4444444444444444,\"#bd3786\"],[0.5555555555555556,\"#d8576b\"],[0.6666666666666666,\"#ed7953\"],[0.7777777777777778,\"#fb9f3a\"],[0.8888888888888888,\"#fdca26\"],[1.0,\"#f0f921\"]],\"sequentialminus\":[[0.0,\"#0d0887\"],[0.1111111111111111,\"#46039f\"],[0.2222222222222222,\"#7201a8\"],[0.3333333333333333,\"#9c179e\"],[0.4444444444444444,\"#bd3786\"],[0.5555555555555556,\"#d8576b\"],[0.6666666666666666,\"#ed7953\"],[0.7777777777777778,\"#fb9f3a\"],[0.8888888888888888,\"#fdca26\"],[1.0,\"#f0f921\"]],\"diverging\":[[0,\"#8e0152\"],[0.1,\"#c51b7d\"],[0.2,\"#de77ae\"],[0.3,\"#f1b6da\"],[0.4,\"#fde0ef\"],[0.5,\"#f7f7f7\"],[0.6,\"#e6f5d0\"],[0.7,\"#b8e186\"],[0.8,\"#7fbc41\"],[0.9,\"#4d9221\"],[1,\"#276419\"]]},\"xaxis\":{\"gridcolor\":\"white\",\"linecolor\":\"white\",\"ticks\":\"\",\"title\":{\"standoff\":15},\"zerolinecolor\":\"white\",\"automargin\":true,\"zerolinewidth\":2},\"yaxis\":{\"gridcolor\":\"white\",\"linecolor\":\"white\",\"ticks\":\"\",\"title\":{\"standoff\":15},\"zerolinecolor\":\"white\",\"automargin\":true,\"zerolinewidth\":2},\"scene\":{\"xaxis\":{\"backgroundcolor\":\"#E5ECF6\",\"gridcolor\":\"white\",\"linecolor\":\"white\",\"showbackground\":true,\"ticks\":\"\",\"zerolinecolor\":\"white\",\"gridwidth\":2},\"yaxis\":{\"backgroundcolor\":\"#E5ECF6\",\"gridcolor\":\"white\",\"linecolor\":\"white\",\"showbackground\":true,\"ticks\":\"\",\"zerolinecolor\":\"white\",\"gridwidth\":2},\"zaxis\":{\"backgroundcolor\":\"#E5ECF6\",\"gridcolor\":\"white\",\"linecolor\":\"white\",\"showbackground\":true,\"ticks\":\"\",\"zerolinecolor\":\"white\",\"gridwidth\":2}},\"shapedefaults\":{\"line\":{\"color\":\"#2a3f5f\"}},\"annotationdefaults\":{\"arrowcolor\":\"#2a3f5f\",\"arrowhead\":0,\"arrowwidth\":1},\"geo\":{\"bgcolor\":\"white\",\"landcolor\":\"#E5ECF6\",\"subunitcolor\":\"white\",\"showland\":true,\"showlakes\":true,\"lakecolor\":\"white\"},\"title\":{\"x\":0.05},\"mapbox\":{\"style\":\"light\"}}},\"xaxis\":{\"anchor\":\"y\",\"domain\":[0.0,1.0],\"scaleanchor\":\"y\",\"constrain\":\"domain\",\"title\":{\"text\":\"Position\"}},\"yaxis\":{\"anchor\":\"x\",\"domain\":[0.0,1.0],\"autorange\":\"reversed\",\"constrain\":\"domain\",\"title\":{\"text\":\"Layer\"}},\"coloraxis\":{\"colorscale\":[[0.0,\"rgb(103,0,31)\"],[0.1,\"rgb(178,24,43)\"],[0.2,\"rgb(214,96,77)\"],[0.3,\"rgb(244,165,130)\"],[0.4,\"rgb(253,219,199)\"],[0.5,\"rgb(247,247,247)\"],[0.6,\"rgb(209,229,240)\"],[0.7,\"rgb(146,197,222)\"],[0.8,\"rgb(67,147,195)\"],[0.9,\"rgb(33,102,172)\"],[1.0,\"rgb(5,48,97)\"]],\"cmid\":0.0},\"title\":{\"text\":\"Normalized Logit Difference After Patching Residual Stream on the IOI Task\"}},                        {\"responsive\": true}                    ).then(function(){\n",
       "                            \n",
       "var gd = document.getElementById('247f7a59-3cb2-4d78-beca-a8c55de0be81');\n",
       "var x = new MutationObserver(function (mutations, observer) {{\n",
       "        var display = window.getComputedStyle(gd).display;\n",
       "        if (!display || display === 'none') {{\n",
       "            console.log([gd, 'removed!']);\n",
       "            Plotly.purge(gd);\n",
       "            observer.disconnect();\n",
       "        }}\n",
       "}});\n",
       "\n",
       "// Listen for the removal of the full notebook cells\n",
       "var notebookContainer = gd.closest('#notebook-container');\n",
       "if (notebookContainer) {{\n",
       "    x.observe(notebookContainer, {childList: true});\n",
       "}}\n",
       "\n",
       "// Listen for the clearing of the current output cell\n",
       "var outputEl = gd.closest('.output');\n",
       "if (outputEl) {{\n",
       "    x.observe(outputEl, {childList: true});\n",
       "}}\n",
       "\n",
       "                        })                };                            </script>        </div>\n",
       "</body>\n",
       "</html>"
      ]
     },
     "metadata": {},
     "output_type": "display_data"
    }
   ],
   "source": [
    "%matplotlib inline\n",
    "# Add the index to the end of the label, because plotly doesn't like duplicate labels\n",
    "token_labels = [f\"{token}_{index}\" for index, token in enumerate(model.to_str_tokens(clean_tokens))]\n",
    "imshow(ioi_patching_result, x=token_labels, xaxis=\"Position\", yaxis=\"Layer\", title=\"Normalized Logit Difference After Patching Residual Stream on the IOI Task\")"
   ]
  },
  {
   "cell_type": "markdown",
   "metadata": {},
   "source": [
    "## Hooks: Accessing Activations"
   ]
  },
  {
   "cell_type": "markdown",
   "metadata": {},
   "source": [
    "Hooks can also be used to just **access** an activation - to run some function using that activation value, *without* changing the activation value. This can be achieved by just having the hook return nothing, and not editing the activation in place. \n",
    "\n",
    "This is useful for eg extracting activations for a specific task, or for doing some long-running calculation across many inputs, eg finding the text that most activates a specific neuron. (Note - everything this can do *could* be done with `run_with_cache` and post-processing, but this workflow can be more intuitive and memory efficient.)"
   ]
  },
  {
   "cell_type": "markdown",
   "metadata": {},
   "source": [
    "To demonstrate this, let's look for **[induction heads](https://transformer-circuits.pub/2022/in-context-learning-and-induction-heads/index.html)** in GPT-2 Small. \n",
    "\n",
    "Induction circuits are a very important circuit in generative language models, which are used to detect and continue repeated subsequences. They consist of two heads in separate layers that compose together, a **previous token head** which always attends to the previous token, and an **induction head** which attends to the token *after* an earlier copy of the current token. \n",
    "\n",
    "To see why this is important, let's say that the model is trying to predict the next token in a news article about Michael Jordan. The token \" Michael\", in general, could be followed by many surnames. But an induction head will look from that occurence of \" Michael\" to the token after previous occurences of \" Michael\", ie \" Jordan\" and can confidently predict that that will come next."
   ]
  },
  {
   "cell_type": "markdown",
   "metadata": {},
   "source": [
    "An interesting fact about induction heads is that they generalise to arbitrary sequences of repeated tokens. We can see this by generating sequences of 50 random tokens, repeated twice, and plotting the average loss at predicting the next token, by position. We see that the model goes from terrible to very good at the halfway point."
   ]
  },
  {
   "cell_type": "code",
   "execution_count": 15,
   "metadata": {},
   "outputs": [
    {
     "data": {
      "text/html": [
       "<html>\n",
       "<head><meta charset=\"utf-8\" /></head>\n",
       "<body>\n",
       "    <div>            <script src=\"https://cdnjs.cloudflare.com/ajax/libs/mathjax/2.7.5/MathJax.js?config=TeX-AMS-MML_SVG\"></script><script type=\"text/javascript\">if (window.MathJax && window.MathJax.Hub && window.MathJax.Hub.Config) {window.MathJax.Hub.Config({SVG: {font: \"STIX-Web\"}});}</script>                <script type=\"text/javascript\">window.PlotlyConfig = {MathJaxConfig: 'local'};</script>\n",
       "        <script charset=\"utf-8\" src=\"https://cdn.plot.ly/plotly-2.20.0.min.js\"></script>                <div id=\"c3fa0936-21a2-4e66-aab4-fc8d0a6435d4\" class=\"plotly-graph-div\" style=\"height:525px; width:100%;\"></div>            <script type=\"text/javascript\">                                    window.PLOTLYENV=window.PLOTLYENV || {};                                    if (document.getElementById(\"c3fa0936-21a2-4e66-aab4-fc8d0a6435d4\")) {                    Plotly.newPlot(                        \"c3fa0936-21a2-4e66-aab4-fc8d0a6435d4\",                        [{\"hovertemplate\":\"variable=0<br>index=%{x}<br>value=%{y}<extra></extra>\",\"legendgroup\":\"0\",\"line\":{\"color\":\"#636efa\",\"dash\":\"solid\"},\"marker\":{\"symbol\":\"circle\"},\"mode\":\"lines\",\"name\":\"0\",\"orientation\":\"v\",\"showlegend\":true,\"x\":[0,1,2,3,4,5,6,7,8,9,10,11,12,13,14,15,16,17,18,19,20,21,22,23,24,25,26,27,28,29,30,31,32,33,34,35,36,37,38,39,40,41,42,43,44,45,46,47,48,49,50,51,52,53,54,55,56,57,58,59,60,61,62,63,64,65,66,67,68,69,70,71,72,73,74,75,76,77,78,79,80,81,82,83,84,85,86,87,88,89,90,91,92,93,94,95,96,97,98],\"xaxis\":\"x\",\"y\":[11.111757,13.461248,14.057365,12.921537,14.717952,11.657145,12.586798,13.187172,12.438435,12.650166,12.822668,12.712127,13.330046,11.775013,11.610242,11.970587,12.006693,12.865659,11.715199,13.510832,11.257075,12.597627,10.091692,12.265837,11.611185,12.126104,12.299897,11.890395,11.999907,10.9386835,11.042931,12.402897,11.6306,11.23261,10.986274,11.380974,11.033609,11.6634245,11.542024,11.355955,10.67911,11.152385,12.246199,10.900194,10.974149,11.465399,11.824678,10.050834,10.642601,11.370821,4.686843,1.1696076,0.83101416,0.74142426,0.56935346,0.09288311,0.18079153,0.2150188,0.45542732,0.1440352,0.11550125,0.24785745,0.15811773,0.12765929,0.30603045,0.119423434,0.23228633,0.22105691,0.09352477,0.7051927,0.031381145,0.29111728,0.0678535,0.053373467,0.054238074,0.04643532,0.078108646,0.11265451,0.15230885,0.068536595,0.10627673,0.027658472,0.072287075,0.041514523,0.109601244,0.10945009,0.027387863,0.019637082,0.12821586,0.032267105,0.041814696,0.059756376,0.05146631,0.008580586,0.029212391,0.12890278,0.12619463,0.17022327,0.20481248],\"yaxis\":\"y\",\"type\":\"scatter\"}],                        {\"template\":{\"data\":{\"histogram2dcontour\":[{\"type\":\"histogram2dcontour\",\"colorbar\":{\"outlinewidth\":0,\"ticks\":\"\"},\"colorscale\":[[0.0,\"#0d0887\"],[0.1111111111111111,\"#46039f\"],[0.2222222222222222,\"#7201a8\"],[0.3333333333333333,\"#9c179e\"],[0.4444444444444444,\"#bd3786\"],[0.5555555555555556,\"#d8576b\"],[0.6666666666666666,\"#ed7953\"],[0.7777777777777778,\"#fb9f3a\"],[0.8888888888888888,\"#fdca26\"],[1.0,\"#f0f921\"]]}],\"choropleth\":[{\"type\":\"choropleth\",\"colorbar\":{\"outlinewidth\":0,\"ticks\":\"\"}}],\"histogram2d\":[{\"type\":\"histogram2d\",\"colorbar\":{\"outlinewidth\":0,\"ticks\":\"\"},\"colorscale\":[[0.0,\"#0d0887\"],[0.1111111111111111,\"#46039f\"],[0.2222222222222222,\"#7201a8\"],[0.3333333333333333,\"#9c179e\"],[0.4444444444444444,\"#bd3786\"],[0.5555555555555556,\"#d8576b\"],[0.6666666666666666,\"#ed7953\"],[0.7777777777777778,\"#fb9f3a\"],[0.8888888888888888,\"#fdca26\"],[1.0,\"#f0f921\"]]}],\"heatmap\":[{\"type\":\"heatmap\",\"colorbar\":{\"outlinewidth\":0,\"ticks\":\"\"},\"colorscale\":[[0.0,\"#0d0887\"],[0.1111111111111111,\"#46039f\"],[0.2222222222222222,\"#7201a8\"],[0.3333333333333333,\"#9c179e\"],[0.4444444444444444,\"#bd3786\"],[0.5555555555555556,\"#d8576b\"],[0.6666666666666666,\"#ed7953\"],[0.7777777777777778,\"#fb9f3a\"],[0.8888888888888888,\"#fdca26\"],[1.0,\"#f0f921\"]]}],\"heatmapgl\":[{\"type\":\"heatmapgl\",\"colorbar\":{\"outlinewidth\":0,\"ticks\":\"\"},\"colorscale\":[[0.0,\"#0d0887\"],[0.1111111111111111,\"#46039f\"],[0.2222222222222222,\"#7201a8\"],[0.3333333333333333,\"#9c179e\"],[0.4444444444444444,\"#bd3786\"],[0.5555555555555556,\"#d8576b\"],[0.6666666666666666,\"#ed7953\"],[0.7777777777777778,\"#fb9f3a\"],[0.8888888888888888,\"#fdca26\"],[1.0,\"#f0f921\"]]}],\"contourcarpet\":[{\"type\":\"contourcarpet\",\"colorbar\":{\"outlinewidth\":0,\"ticks\":\"\"}}],\"contour\":[{\"type\":\"contour\",\"colorbar\":{\"outlinewidth\":0,\"ticks\":\"\"},\"colorscale\":[[0.0,\"#0d0887\"],[0.1111111111111111,\"#46039f\"],[0.2222222222222222,\"#7201a8\"],[0.3333333333333333,\"#9c179e\"],[0.4444444444444444,\"#bd3786\"],[0.5555555555555556,\"#d8576b\"],[0.6666666666666666,\"#ed7953\"],[0.7777777777777778,\"#fb9f3a\"],[0.8888888888888888,\"#fdca26\"],[1.0,\"#f0f921\"]]}],\"surface\":[{\"type\":\"surface\",\"colorbar\":{\"outlinewidth\":0,\"ticks\":\"\"},\"colorscale\":[[0.0,\"#0d0887\"],[0.1111111111111111,\"#46039f\"],[0.2222222222222222,\"#7201a8\"],[0.3333333333333333,\"#9c179e\"],[0.4444444444444444,\"#bd3786\"],[0.5555555555555556,\"#d8576b\"],[0.6666666666666666,\"#ed7953\"],[0.7777777777777778,\"#fb9f3a\"],[0.8888888888888888,\"#fdca26\"],[1.0,\"#f0f921\"]]}],\"mesh3d\":[{\"type\":\"mesh3d\",\"colorbar\":{\"outlinewidth\":0,\"ticks\":\"\"}}],\"scatter\":[{\"fillpattern\":{\"fillmode\":\"overlay\",\"size\":10,\"solidity\":0.2},\"type\":\"scatter\"}],\"parcoords\":[{\"type\":\"parcoords\",\"line\":{\"colorbar\":{\"outlinewidth\":0,\"ticks\":\"\"}}}],\"scatterpolargl\":[{\"type\":\"scatterpolargl\",\"marker\":{\"colorbar\":{\"outlinewidth\":0,\"ticks\":\"\"}}}],\"bar\":[{\"error_x\":{\"color\":\"#2a3f5f\"},\"error_y\":{\"color\":\"#2a3f5f\"},\"marker\":{\"line\":{\"color\":\"#E5ECF6\",\"width\":0.5},\"pattern\":{\"fillmode\":\"overlay\",\"size\":10,\"solidity\":0.2}},\"type\":\"bar\"}],\"scattergeo\":[{\"type\":\"scattergeo\",\"marker\":{\"colorbar\":{\"outlinewidth\":0,\"ticks\":\"\"}}}],\"scatterpolar\":[{\"type\":\"scatterpolar\",\"marker\":{\"colorbar\":{\"outlinewidth\":0,\"ticks\":\"\"}}}],\"histogram\":[{\"marker\":{\"pattern\":{\"fillmode\":\"overlay\",\"size\":10,\"solidity\":0.2}},\"type\":\"histogram\"}],\"scattergl\":[{\"type\":\"scattergl\",\"marker\":{\"colorbar\":{\"outlinewidth\":0,\"ticks\":\"\"}}}],\"scatter3d\":[{\"type\":\"scatter3d\",\"line\":{\"colorbar\":{\"outlinewidth\":0,\"ticks\":\"\"}},\"marker\":{\"colorbar\":{\"outlinewidth\":0,\"ticks\":\"\"}}}],\"scattermapbox\":[{\"type\":\"scattermapbox\",\"marker\":{\"colorbar\":{\"outlinewidth\":0,\"ticks\":\"\"}}}],\"scatterternary\":[{\"type\":\"scatterternary\",\"marker\":{\"colorbar\":{\"outlinewidth\":0,\"ticks\":\"\"}}}],\"scattercarpet\":[{\"type\":\"scattercarpet\",\"marker\":{\"colorbar\":{\"outlinewidth\":0,\"ticks\":\"\"}}}],\"carpet\":[{\"aaxis\":{\"endlinecolor\":\"#2a3f5f\",\"gridcolor\":\"white\",\"linecolor\":\"white\",\"minorgridcolor\":\"white\",\"startlinecolor\":\"#2a3f5f\"},\"baxis\":{\"endlinecolor\":\"#2a3f5f\",\"gridcolor\":\"white\",\"linecolor\":\"white\",\"minorgridcolor\":\"white\",\"startlinecolor\":\"#2a3f5f\"},\"type\":\"carpet\"}],\"table\":[{\"cells\":{\"fill\":{\"color\":\"#EBF0F8\"},\"line\":{\"color\":\"white\"}},\"header\":{\"fill\":{\"color\":\"#C8D4E3\"},\"line\":{\"color\":\"white\"}},\"type\":\"table\"}],\"barpolar\":[{\"marker\":{\"line\":{\"color\":\"#E5ECF6\",\"width\":0.5},\"pattern\":{\"fillmode\":\"overlay\",\"size\":10,\"solidity\":0.2}},\"type\":\"barpolar\"}],\"pie\":[{\"automargin\":true,\"type\":\"pie\"}]},\"layout\":{\"autotypenumbers\":\"strict\",\"colorway\":[\"#636efa\",\"#EF553B\",\"#00cc96\",\"#ab63fa\",\"#FFA15A\",\"#19d3f3\",\"#FF6692\",\"#B6E880\",\"#FF97FF\",\"#FECB52\"],\"font\":{\"color\":\"#2a3f5f\"},\"hovermode\":\"closest\",\"hoverlabel\":{\"align\":\"left\"},\"paper_bgcolor\":\"white\",\"plot_bgcolor\":\"#E5ECF6\",\"polar\":{\"bgcolor\":\"#E5ECF6\",\"angularaxis\":{\"gridcolor\":\"white\",\"linecolor\":\"white\",\"ticks\":\"\"},\"radialaxis\":{\"gridcolor\":\"white\",\"linecolor\":\"white\",\"ticks\":\"\"}},\"ternary\":{\"bgcolor\":\"#E5ECF6\",\"aaxis\":{\"gridcolor\":\"white\",\"linecolor\":\"white\",\"ticks\":\"\"},\"baxis\":{\"gridcolor\":\"white\",\"linecolor\":\"white\",\"ticks\":\"\"},\"caxis\":{\"gridcolor\":\"white\",\"linecolor\":\"white\",\"ticks\":\"\"}},\"coloraxis\":{\"colorbar\":{\"outlinewidth\":0,\"ticks\":\"\"}},\"colorscale\":{\"sequential\":[[0.0,\"#0d0887\"],[0.1111111111111111,\"#46039f\"],[0.2222222222222222,\"#7201a8\"],[0.3333333333333333,\"#9c179e\"],[0.4444444444444444,\"#bd3786\"],[0.5555555555555556,\"#d8576b\"],[0.6666666666666666,\"#ed7953\"],[0.7777777777777778,\"#fb9f3a\"],[0.8888888888888888,\"#fdca26\"],[1.0,\"#f0f921\"]],\"sequentialminus\":[[0.0,\"#0d0887\"],[0.1111111111111111,\"#46039f\"],[0.2222222222222222,\"#7201a8\"],[0.3333333333333333,\"#9c179e\"],[0.4444444444444444,\"#bd3786\"],[0.5555555555555556,\"#d8576b\"],[0.6666666666666666,\"#ed7953\"],[0.7777777777777778,\"#fb9f3a\"],[0.8888888888888888,\"#fdca26\"],[1.0,\"#f0f921\"]],\"diverging\":[[0,\"#8e0152\"],[0.1,\"#c51b7d\"],[0.2,\"#de77ae\"],[0.3,\"#f1b6da\"],[0.4,\"#fde0ef\"],[0.5,\"#f7f7f7\"],[0.6,\"#e6f5d0\"],[0.7,\"#b8e186\"],[0.8,\"#7fbc41\"],[0.9,\"#4d9221\"],[1,\"#276419\"]]},\"xaxis\":{\"gridcolor\":\"white\",\"linecolor\":\"white\",\"ticks\":\"\",\"title\":{\"standoff\":15},\"zerolinecolor\":\"white\",\"automargin\":true,\"zerolinewidth\":2},\"yaxis\":{\"gridcolor\":\"white\",\"linecolor\":\"white\",\"ticks\":\"\",\"title\":{\"standoff\":15},\"zerolinecolor\":\"white\",\"automargin\":true,\"zerolinewidth\":2},\"scene\":{\"xaxis\":{\"backgroundcolor\":\"#E5ECF6\",\"gridcolor\":\"white\",\"linecolor\":\"white\",\"showbackground\":true,\"ticks\":\"\",\"zerolinecolor\":\"white\",\"gridwidth\":2},\"yaxis\":{\"backgroundcolor\":\"#E5ECF6\",\"gridcolor\":\"white\",\"linecolor\":\"white\",\"showbackground\":true,\"ticks\":\"\",\"zerolinecolor\":\"white\",\"gridwidth\":2},\"zaxis\":{\"backgroundcolor\":\"#E5ECF6\",\"gridcolor\":\"white\",\"linecolor\":\"white\",\"showbackground\":true,\"ticks\":\"\",\"zerolinecolor\":\"white\",\"gridwidth\":2}},\"shapedefaults\":{\"line\":{\"color\":\"#2a3f5f\"}},\"annotationdefaults\":{\"arrowcolor\":\"#2a3f5f\",\"arrowhead\":0,\"arrowwidth\":1},\"geo\":{\"bgcolor\":\"white\",\"landcolor\":\"#E5ECF6\",\"subunitcolor\":\"white\",\"showland\":true,\"showlakes\":true,\"lakecolor\":\"white\"},\"title\":{\"x\":0.05},\"mapbox\":{\"style\":\"light\"}}},\"xaxis\":{\"anchor\":\"y\",\"domain\":[0.0,1.0],\"title\":{\"text\":\"index\"}},\"yaxis\":{\"anchor\":\"x\",\"domain\":[0.0,1.0],\"title\":{\"text\":\"value\"}},\"legend\":{\"title\":{\"text\":\"variable\"},\"tracegroupgap\":0},\"title\":{\"text\":\"Loss by position on random repeated tokens\"}},                        {\"responsive\": true}                    ).then(function(){\n",
       "                            \n",
       "var gd = document.getElementById('c3fa0936-21a2-4e66-aab4-fc8d0a6435d4');\n",
       "var x = new MutationObserver(function (mutations, observer) {{\n",
       "        var display = window.getComputedStyle(gd).display;\n",
       "        if (!display || display === 'none') {{\n",
       "            console.log([gd, 'removed!']);\n",
       "            Plotly.purge(gd);\n",
       "            observer.disconnect();\n",
       "        }}\n",
       "}});\n",
       "\n",
       "// Listen for the removal of the full notebook cells\n",
       "var notebookContainer = gd.closest('#notebook-container');\n",
       "if (notebookContainer) {{\n",
       "    x.observe(notebookContainer, {childList: true});\n",
       "}}\n",
       "\n",
       "// Listen for the clearing of the current output cell\n",
       "var outputEl = gd.closest('.output');\n",
       "if (outputEl) {{\n",
       "    x.observe(outputEl, {childList: true});\n",
       "}}\n",
       "\n",
       "                        })                };                            </script>        </div>\n",
       "</body>\n",
       "</html>"
      ]
     },
     "metadata": {},
     "output_type": "display_data"
    }
   ],
   "source": [
    "batch_size = 10\n",
    "seq_len = 50\n",
    "random_tokens = torch.randint(1000, 10000, (batch_size, seq_len)).to(model.cfg.device)\n",
    "repeated_tokens = einops.repeat(random_tokens, \"batch seq_len -> batch (2 seq_len)\")\n",
    "repeated_logits = model(repeated_tokens)\n",
    "correct_log_probs = model.loss_fn(repeated_logits, repeated_tokens, per_token=True)\n",
    "loss_by_position = einops.reduce(correct_log_probs, \"batch position -> position\", \"mean\")\n",
    "line(loss_by_position, xaxis=\"Position\", yaxis=\"Loss\", title=\"Loss by position on random repeated tokens\")"
   ]
  },
  {
   "cell_type": "markdown",
   "metadata": {},
   "source": [
    "The induction heads will be attending from the second occurence of each token to the token *after* its first occurence, ie the token `50-1==49` places back. So by looking at the average attention paid 49 tokens back, we can identify induction heads! Let's define a hook to do this!\n",
    "\n",
    "<details><summary>Technical details</summary>\n",
    "\n",
    "* We attach the hook to the attention pattern activation. There's one big pattern activation per layer, stacked across all heads, so we need to do some tensor manipulation to get a per-head score. \n",
    "* Hook functions can access global state, so we make a big tensor to store the induction head score for each head, and then we just add the score for each head to the appropriate position in the tensor. \n",
    "* To get a single hook function that works for each layer, we use the `hook.layer()` method to get the layer index (internally this is just inferred from the hook names).\n",
    "* As we want to add this to *every* activation pattern hook point, rather than giving the string for an activation name, this time we give a **name filter**. This is a Boolean function on hook point names, and it adds the hook function to every hook point where the function evaluates as true. \n",
    "    * `run_with_hooks` allows us to enter a list of (act_name, hook_function) pairs to all be added at once, so we could also have done this by inputting a list with a hook for each layer.\n",
    "</details>"
   ]
  },
  {
   "cell_type": "code",
   "execution_count": 16,
   "metadata": {},
   "outputs": [
    {
     "data": {
      "text/html": [
       "<html>\n",
       "<head><meta charset=\"utf-8\" /></head>\n",
       "<body>\n",
       "    <div>            <script src=\"https://cdnjs.cloudflare.com/ajax/libs/mathjax/2.7.5/MathJax.js?config=TeX-AMS-MML_SVG\"></script><script type=\"text/javascript\">if (window.MathJax && window.MathJax.Hub && window.MathJax.Hub.Config) {window.MathJax.Hub.Config({SVG: {font: \"STIX-Web\"}});}</script>                <script type=\"text/javascript\">window.PlotlyConfig = {MathJaxConfig: 'local'};</script>\n",
       "        <script charset=\"utf-8\" src=\"https://cdn.plot.ly/plotly-2.20.0.min.js\"></script>                <div id=\"ca72575f-4f48-4375-a373-de8bcb244a7e\" class=\"plotly-graph-div\" style=\"height:525px; width:100%;\"></div>            <script type=\"text/javascript\">                                    window.PLOTLYENV=window.PLOTLYENV || {};                                    if (document.getElementById(\"ca72575f-4f48-4375-a373-de8bcb244a7e\")) {                    Plotly.newPlot(                        \"ca72575f-4f48-4375-a373-de8bcb244a7e\",                        [{\"coloraxis\":\"coloraxis\",\"name\":\"0\",\"z\":[[0.010070026,0.0000763461,0.011110049,4.8368275e-7,0.00015499014,0.00010613956,0.009924542,0.00049467233,0.009173439,0.009116832,0.006666405,0.015133858],[0.0008370968,0.0003852575,0.0021271324,0.014432384,0.0052277064,0.0110343,0.016236892,0.012939315,0.012961591,0.015969014,0.006528799,0.00048395692],[0.0045388765,0.018867806,0.0020809392,0.0012049571,0.012578095,0.0018860695,0.003607267,0.008337168,0.0035917098,0.0015067514,0.0007169621,0.010351773],[0.014398948,0.0059454613,0.0024640241,0.013899743,0.02214235,0.012409808,0.0020204524,0.001702081,0.004791128,0.013341564,0.009557015,0.007470585],[0.016094113,0.012533911,0.014405614,0.00900662,0.018666627,0.013366609,0.008528016,0.0017033983,0.016125672,0.01387971,0.01864946,1.1126534e-9],[0.49760845,0.90926623,0.01585568,0.008348069,0.010930992,0.9344723,0.012296858,0.018181056,0.029437326,0.02674563,0.018433003,0.018054213],[0.008436346,0.017595312,0.018365476,0.014278359,0.023814742,0.0125251645,0.031080186,0.010974997,0.010848769,0.9130723,0.036983296,0.014391246],[0.010540539,0.17284112,0.8616138,0.018560987,0.019121943,0.018560518,0.049726788,0.09191338,0.017992212,0.01906134,0.91264015,0.065055855],[0.016737426,0.40938383,0.015405499,0.045274142,0.018801136,0.014462353,0.16870318,0.012977106,0.03400277,0.033084195,0.07294547,0.027239177],[0.24982578,0.19156444,0.103889175,0.011293523,0.0928122,0.026227884,0.4641831,0.030951248,0.051442754,0.47274375,0.017906526,0.047930982],[0.3380082,0.50190645,0.040694278,0.14261696,0.057337068,0.015442792,0.29250723,0.5099029,0.054735087,0.016451763,0.16190769,0.26023218],[0.01948752,0.055569816,0.038688518,0.011673532,0.037839048,0.10719518,0.054588843,0.07017219,0.0098282145,0.29835513,0.40718785,0.025727492]],\"type\":\"heatmap\",\"xaxis\":\"x\",\"yaxis\":\"y\",\"hovertemplate\":\"Head: %{x}<br>Layer: %{y}<br>color: %{z}<extra></extra>\"}],                        {\"template\":{\"data\":{\"histogram2dcontour\":[{\"type\":\"histogram2dcontour\",\"colorbar\":{\"outlinewidth\":0,\"ticks\":\"\"},\"colorscale\":[[0.0,\"#0d0887\"],[0.1111111111111111,\"#46039f\"],[0.2222222222222222,\"#7201a8\"],[0.3333333333333333,\"#9c179e\"],[0.4444444444444444,\"#bd3786\"],[0.5555555555555556,\"#d8576b\"],[0.6666666666666666,\"#ed7953\"],[0.7777777777777778,\"#fb9f3a\"],[0.8888888888888888,\"#fdca26\"],[1.0,\"#f0f921\"]]}],\"choropleth\":[{\"type\":\"choropleth\",\"colorbar\":{\"outlinewidth\":0,\"ticks\":\"\"}}],\"histogram2d\":[{\"type\":\"histogram2d\",\"colorbar\":{\"outlinewidth\":0,\"ticks\":\"\"},\"colorscale\":[[0.0,\"#0d0887\"],[0.1111111111111111,\"#46039f\"],[0.2222222222222222,\"#7201a8\"],[0.3333333333333333,\"#9c179e\"],[0.4444444444444444,\"#bd3786\"],[0.5555555555555556,\"#d8576b\"],[0.6666666666666666,\"#ed7953\"],[0.7777777777777778,\"#fb9f3a\"],[0.8888888888888888,\"#fdca26\"],[1.0,\"#f0f921\"]]}],\"heatmap\":[{\"type\":\"heatmap\",\"colorbar\":{\"outlinewidth\":0,\"ticks\":\"\"},\"colorscale\":[[0.0,\"#0d0887\"],[0.1111111111111111,\"#46039f\"],[0.2222222222222222,\"#7201a8\"],[0.3333333333333333,\"#9c179e\"],[0.4444444444444444,\"#bd3786\"],[0.5555555555555556,\"#d8576b\"],[0.6666666666666666,\"#ed7953\"],[0.7777777777777778,\"#fb9f3a\"],[0.8888888888888888,\"#fdca26\"],[1.0,\"#f0f921\"]]}],\"heatmapgl\":[{\"type\":\"heatmapgl\",\"colorbar\":{\"outlinewidth\":0,\"ticks\":\"\"},\"colorscale\":[[0.0,\"#0d0887\"],[0.1111111111111111,\"#46039f\"],[0.2222222222222222,\"#7201a8\"],[0.3333333333333333,\"#9c179e\"],[0.4444444444444444,\"#bd3786\"],[0.5555555555555556,\"#d8576b\"],[0.6666666666666666,\"#ed7953\"],[0.7777777777777778,\"#fb9f3a\"],[0.8888888888888888,\"#fdca26\"],[1.0,\"#f0f921\"]]}],\"contourcarpet\":[{\"type\":\"contourcarpet\",\"colorbar\":{\"outlinewidth\":0,\"ticks\":\"\"}}],\"contour\":[{\"type\":\"contour\",\"colorbar\":{\"outlinewidth\":0,\"ticks\":\"\"},\"colorscale\":[[0.0,\"#0d0887\"],[0.1111111111111111,\"#46039f\"],[0.2222222222222222,\"#7201a8\"],[0.3333333333333333,\"#9c179e\"],[0.4444444444444444,\"#bd3786\"],[0.5555555555555556,\"#d8576b\"],[0.6666666666666666,\"#ed7953\"],[0.7777777777777778,\"#fb9f3a\"],[0.8888888888888888,\"#fdca26\"],[1.0,\"#f0f921\"]]}],\"surface\":[{\"type\":\"surface\",\"colorbar\":{\"outlinewidth\":0,\"ticks\":\"\"},\"colorscale\":[[0.0,\"#0d0887\"],[0.1111111111111111,\"#46039f\"],[0.2222222222222222,\"#7201a8\"],[0.3333333333333333,\"#9c179e\"],[0.4444444444444444,\"#bd3786\"],[0.5555555555555556,\"#d8576b\"],[0.6666666666666666,\"#ed7953\"],[0.7777777777777778,\"#fb9f3a\"],[0.8888888888888888,\"#fdca26\"],[1.0,\"#f0f921\"]]}],\"mesh3d\":[{\"type\":\"mesh3d\",\"colorbar\":{\"outlinewidth\":0,\"ticks\":\"\"}}],\"scatter\":[{\"fillpattern\":{\"fillmode\":\"overlay\",\"size\":10,\"solidity\":0.2},\"type\":\"scatter\"}],\"parcoords\":[{\"type\":\"parcoords\",\"line\":{\"colorbar\":{\"outlinewidth\":0,\"ticks\":\"\"}}}],\"scatterpolargl\":[{\"type\":\"scatterpolargl\",\"marker\":{\"colorbar\":{\"outlinewidth\":0,\"ticks\":\"\"}}}],\"bar\":[{\"error_x\":{\"color\":\"#2a3f5f\"},\"error_y\":{\"color\":\"#2a3f5f\"},\"marker\":{\"line\":{\"color\":\"#E5ECF6\",\"width\":0.5},\"pattern\":{\"fillmode\":\"overlay\",\"size\":10,\"solidity\":0.2}},\"type\":\"bar\"}],\"scattergeo\":[{\"type\":\"scattergeo\",\"marker\":{\"colorbar\":{\"outlinewidth\":0,\"ticks\":\"\"}}}],\"scatterpolar\":[{\"type\":\"scatterpolar\",\"marker\":{\"colorbar\":{\"outlinewidth\":0,\"ticks\":\"\"}}}],\"histogram\":[{\"marker\":{\"pattern\":{\"fillmode\":\"overlay\",\"size\":10,\"solidity\":0.2}},\"type\":\"histogram\"}],\"scattergl\":[{\"type\":\"scattergl\",\"marker\":{\"colorbar\":{\"outlinewidth\":0,\"ticks\":\"\"}}}],\"scatter3d\":[{\"type\":\"scatter3d\",\"line\":{\"colorbar\":{\"outlinewidth\":0,\"ticks\":\"\"}},\"marker\":{\"colorbar\":{\"outlinewidth\":0,\"ticks\":\"\"}}}],\"scattermapbox\":[{\"type\":\"scattermapbox\",\"marker\":{\"colorbar\":{\"outlinewidth\":0,\"ticks\":\"\"}}}],\"scatterternary\":[{\"type\":\"scatterternary\",\"marker\":{\"colorbar\":{\"outlinewidth\":0,\"ticks\":\"\"}}}],\"scattercarpet\":[{\"type\":\"scattercarpet\",\"marker\":{\"colorbar\":{\"outlinewidth\":0,\"ticks\":\"\"}}}],\"carpet\":[{\"aaxis\":{\"endlinecolor\":\"#2a3f5f\",\"gridcolor\":\"white\",\"linecolor\":\"white\",\"minorgridcolor\":\"white\",\"startlinecolor\":\"#2a3f5f\"},\"baxis\":{\"endlinecolor\":\"#2a3f5f\",\"gridcolor\":\"white\",\"linecolor\":\"white\",\"minorgridcolor\":\"white\",\"startlinecolor\":\"#2a3f5f\"},\"type\":\"carpet\"}],\"table\":[{\"cells\":{\"fill\":{\"color\":\"#EBF0F8\"},\"line\":{\"color\":\"white\"}},\"header\":{\"fill\":{\"color\":\"#C8D4E3\"},\"line\":{\"color\":\"white\"}},\"type\":\"table\"}],\"barpolar\":[{\"marker\":{\"line\":{\"color\":\"#E5ECF6\",\"width\":0.5},\"pattern\":{\"fillmode\":\"overlay\",\"size\":10,\"solidity\":0.2}},\"type\":\"barpolar\"}],\"pie\":[{\"automargin\":true,\"type\":\"pie\"}]},\"layout\":{\"autotypenumbers\":\"strict\",\"colorway\":[\"#636efa\",\"#EF553B\",\"#00cc96\",\"#ab63fa\",\"#FFA15A\",\"#19d3f3\",\"#FF6692\",\"#B6E880\",\"#FF97FF\",\"#FECB52\"],\"font\":{\"color\":\"#2a3f5f\"},\"hovermode\":\"closest\",\"hoverlabel\":{\"align\":\"left\"},\"paper_bgcolor\":\"white\",\"plot_bgcolor\":\"#E5ECF6\",\"polar\":{\"bgcolor\":\"#E5ECF6\",\"angularaxis\":{\"gridcolor\":\"white\",\"linecolor\":\"white\",\"ticks\":\"\"},\"radialaxis\":{\"gridcolor\":\"white\",\"linecolor\":\"white\",\"ticks\":\"\"}},\"ternary\":{\"bgcolor\":\"#E5ECF6\",\"aaxis\":{\"gridcolor\":\"white\",\"linecolor\":\"white\",\"ticks\":\"\"},\"baxis\":{\"gridcolor\":\"white\",\"linecolor\":\"white\",\"ticks\":\"\"},\"caxis\":{\"gridcolor\":\"white\",\"linecolor\":\"white\",\"ticks\":\"\"}},\"coloraxis\":{\"colorbar\":{\"outlinewidth\":0,\"ticks\":\"\"}},\"colorscale\":{\"sequential\":[[0.0,\"#0d0887\"],[0.1111111111111111,\"#46039f\"],[0.2222222222222222,\"#7201a8\"],[0.3333333333333333,\"#9c179e\"],[0.4444444444444444,\"#bd3786\"],[0.5555555555555556,\"#d8576b\"],[0.6666666666666666,\"#ed7953\"],[0.7777777777777778,\"#fb9f3a\"],[0.8888888888888888,\"#fdca26\"],[1.0,\"#f0f921\"]],\"sequentialminus\":[[0.0,\"#0d0887\"],[0.1111111111111111,\"#46039f\"],[0.2222222222222222,\"#7201a8\"],[0.3333333333333333,\"#9c179e\"],[0.4444444444444444,\"#bd3786\"],[0.5555555555555556,\"#d8576b\"],[0.6666666666666666,\"#ed7953\"],[0.7777777777777778,\"#fb9f3a\"],[0.8888888888888888,\"#fdca26\"],[1.0,\"#f0f921\"]],\"diverging\":[[0,\"#8e0152\"],[0.1,\"#c51b7d\"],[0.2,\"#de77ae\"],[0.3,\"#f1b6da\"],[0.4,\"#fde0ef\"],[0.5,\"#f7f7f7\"],[0.6,\"#e6f5d0\"],[0.7,\"#b8e186\"],[0.8,\"#7fbc41\"],[0.9,\"#4d9221\"],[1,\"#276419\"]]},\"xaxis\":{\"gridcolor\":\"white\",\"linecolor\":\"white\",\"ticks\":\"\",\"title\":{\"standoff\":15},\"zerolinecolor\":\"white\",\"automargin\":true,\"zerolinewidth\":2},\"yaxis\":{\"gridcolor\":\"white\",\"linecolor\":\"white\",\"ticks\":\"\",\"title\":{\"standoff\":15},\"zerolinecolor\":\"white\",\"automargin\":true,\"zerolinewidth\":2},\"scene\":{\"xaxis\":{\"backgroundcolor\":\"#E5ECF6\",\"gridcolor\":\"white\",\"linecolor\":\"white\",\"showbackground\":true,\"ticks\":\"\",\"zerolinecolor\":\"white\",\"gridwidth\":2},\"yaxis\":{\"backgroundcolor\":\"#E5ECF6\",\"gridcolor\":\"white\",\"linecolor\":\"white\",\"showbackground\":true,\"ticks\":\"\",\"zerolinecolor\":\"white\",\"gridwidth\":2},\"zaxis\":{\"backgroundcolor\":\"#E5ECF6\",\"gridcolor\":\"white\",\"linecolor\":\"white\",\"showbackground\":true,\"ticks\":\"\",\"zerolinecolor\":\"white\",\"gridwidth\":2}},\"shapedefaults\":{\"line\":{\"color\":\"#2a3f5f\"}},\"annotationdefaults\":{\"arrowcolor\":\"#2a3f5f\",\"arrowhead\":0,\"arrowwidth\":1},\"geo\":{\"bgcolor\":\"white\",\"landcolor\":\"#E5ECF6\",\"subunitcolor\":\"white\",\"showland\":true,\"showlakes\":true,\"lakecolor\":\"white\"},\"title\":{\"x\":0.05},\"mapbox\":{\"style\":\"light\"}}},\"xaxis\":{\"anchor\":\"y\",\"domain\":[0.0,1.0],\"scaleanchor\":\"y\",\"constrain\":\"domain\",\"title\":{\"text\":\"Head\"}},\"yaxis\":{\"anchor\":\"x\",\"domain\":[0.0,1.0],\"autorange\":\"reversed\",\"constrain\":\"domain\",\"title\":{\"text\":\"Layer\"}},\"coloraxis\":{\"colorscale\":[[0.0,\"rgb(103,0,31)\"],[0.1,\"rgb(178,24,43)\"],[0.2,\"rgb(214,96,77)\"],[0.3,\"rgb(244,165,130)\"],[0.4,\"rgb(253,219,199)\"],[0.5,\"rgb(247,247,247)\"],[0.6,\"rgb(209,229,240)\"],[0.7,\"rgb(146,197,222)\"],[0.8,\"rgb(67,147,195)\"],[0.9,\"rgb(33,102,172)\"],[1.0,\"rgb(5,48,97)\"]],\"cmid\":0.0},\"title\":{\"text\":\"Induction Score by Head\"}},                        {\"responsive\": true}                    ).then(function(){\n",
       "                            \n",
       "var gd = document.getElementById('ca72575f-4f48-4375-a373-de8bcb244a7e');\n",
       "var x = new MutationObserver(function (mutations, observer) {{\n",
       "        var display = window.getComputedStyle(gd).display;\n",
       "        if (!display || display === 'none') {{\n",
       "            console.log([gd, 'removed!']);\n",
       "            Plotly.purge(gd);\n",
       "            observer.disconnect();\n",
       "        }}\n",
       "}});\n",
       "\n",
       "// Listen for the removal of the full notebook cells\n",
       "var notebookContainer = gd.closest('#notebook-container');\n",
       "if (notebookContainer) {{\n",
       "    x.observe(notebookContainer, {childList: true});\n",
       "}}\n",
       "\n",
       "// Listen for the clearing of the current output cell\n",
       "var outputEl = gd.closest('.output');\n",
       "if (outputEl) {{\n",
       "    x.observe(outputEl, {childList: true});\n",
       "}}\n",
       "\n",
       "                        })                };                            </script>        </div>\n",
       "</body>\n",
       "</html>"
      ]
     },
     "metadata": {},
     "output_type": "display_data"
    }
   ],
   "source": [
    "# We make a tensor to store the induction score for each head. We put it on the model's device to avoid needing to move things between the GPU and CPU, which can be slow.\n",
    "induction_score_store = torch.zeros((model.cfg.n_layers, model.cfg.n_heads), device=model.cfg.device)\n",
    "def induction_score_hook(\n",
    "    pattern: Float[torch.Tensor, \"batch head_index dest_pos source_pos\"],\n",
    "    hook: HookPoint,\n",
    "):\n",
    "    # We take the diagonal of attention paid from each destination position to source positions seq_len-1 tokens back\n",
    "    # (This only has entries for tokens with index>=seq_len)\n",
    "    induction_stripe = pattern.diagonal(dim1=-2, dim2=-1, offset=1-seq_len)\n",
    "    # Get an average score per head\n",
    "    induction_score = einops.reduce(induction_stripe, \"batch head_index position -> head_index\", \"mean\")\n",
    "    # Store the result.\n",
    "    induction_score_store[hook.layer(), :] = induction_score\n",
    "\n",
    "# We make a boolean filter on activation names, that's true only on attention pattern names.\n",
    "pattern_hook_names_filter = lambda name: name.endswith(\"pattern\")\n",
    "\n",
    "model.run_with_hooks(\n",
    "    repeated_tokens, \n",
    "    return_type=None, # For efficiency, we don't need to calculate the logits\n",
    "    fwd_hooks=[(\n",
    "        pattern_hook_names_filter,\n",
    "        induction_score_hook\n",
    "    )]\n",
    ")\n",
    "\n",
    "imshow(induction_score_store, xaxis=\"Head\", yaxis=\"Layer\", title=\"Induction Score by Head\")"
   ]
  },
  {
   "cell_type": "markdown",
   "metadata": {},
   "source": [
    "Head 5 in Layer 5 scores extremely highly on this score, and we can feed in a shorter repeated random sequence, visualize the attention pattern for it and see this directly - including the \"induction stripe\" at `seq_len-1` tokens back.\n",
    "\n",
    "This time we put in a hook on the attention pattern activation to visualize the pattern of the relevant head."
   ]
  },
  {
   "cell_type": "code",
   "execution_count": 17,
   "metadata": {},
   "outputs": [
    {
     "data": {
      "text/html": [
       "<div id=\"circuits-vis-8806ef43-a69b\" style=\"margin: 15px 0;\"/>\n",
       "    <script crossorigin type=\"module\">\n",
       "    import { render, AttentionPatterns } from \"https://unpkg.com/circuitsvis@1.39.1/dist/cdn/esm.js\";\n",
       "    render(\n",
       "      \"circuits-vis-8806ef43-a69b\",\n",
       "      AttentionPatterns,\n",
       "      {\"tokens\": [\"icket\", \" didn\", \" Market\", \" desire\", \"sen\", \" Force\", \" ()\", \"pg\", \" Bell\", \"yo\", \" armor\", \" prim\", \"yer\", \" Mike\", \"urt\", \" battery\", \" copyright\", \"ingu\", \" demonstrated\", \" struck\", \"icket\", \" didn\", \" Market\", \" desire\", \"sen\", \" Force\", \" ()\", \"pg\", \" Bell\", \"yo\", \" armor\", \" prim\", \"yer\", \" Mike\", \"urt\", \" battery\", \" copyright\", \"ingu\", \" demonstrated\", \" struck\"], \"attention\": [[[1.0, 0.0, 0.0, 0.0, 0.0, 0.0, 0.0, 0.0, 0.0, 0.0, 0.0, 0.0, 0.0, 0.0, 0.0, 0.0, 0.0, 0.0, 0.0, 0.0, 0.0, 0.0, 0.0, 0.0, 0.0, 0.0, 0.0, 0.0, 0.0, 0.0, 0.0, 0.0, 0.0, 0.0, 0.0, 0.0, 0.0, 0.0, 0.0, 0.0], [0.9898657202720642, 0.010134266689419746, 0.0, 0.0, 0.0, 0.0, 0.0, 0.0, 0.0, 0.0, 0.0, 0.0, 0.0, 0.0, 0.0, 0.0, 0.0, 0.0, 0.0, 0.0, 0.0, 0.0, 0.0, 0.0, 0.0, 0.0, 0.0, 0.0, 0.0, 0.0, 0.0, 0.0, 0.0, 0.0, 0.0, 0.0, 0.0, 0.0, 0.0, 0.0], [0.9966666102409363, 0.0027503615710884333, 0.0005830182926729321, 0.0, 0.0, 0.0, 0.0, 0.0, 0.0, 0.0, 0.0, 0.0, 0.0, 0.0, 0.0, 0.0, 0.0, 0.0, 0.0, 0.0, 0.0, 0.0, 0.0, 0.0, 0.0, 0.0, 0.0, 0.0, 0.0, 0.0, 0.0, 0.0, 0.0, 0.0, 0.0, 0.0, 0.0, 0.0, 0.0, 0.0], [0.9450723528862, 0.0008690051035955548, 0.002137082861736417, 0.051921546459198, 0.0, 0.0, 0.0, 0.0, 0.0, 0.0, 0.0, 0.0, 0.0, 0.0, 0.0, 0.0, 0.0, 0.0, 0.0, 0.0, 0.0, 0.0, 0.0, 0.0, 0.0, 0.0, 0.0, 0.0, 0.0, 0.0, 0.0, 0.0, 0.0, 0.0, 0.0, 0.0, 0.0, 0.0, 0.0, 0.0], [0.9984704852104187, 2.466017031110823e-05, 0.00034680901444517076, 0.001079821726307273, 7.81473790993914e-05, 0.0, 0.0, 0.0, 0.0, 0.0, 0.0, 0.0, 0.0, 0.0, 0.0, 0.0, 0.0, 0.0, 0.0, 0.0, 0.0, 0.0, 0.0, 0.0, 0.0, 0.0, 0.0, 0.0, 0.0, 0.0, 0.0, 0.0, 0.0, 0.0, 0.0, 0.0, 0.0, 0.0, 0.0, 0.0], [0.9964748024940491, 0.00026084305136464536, 0.0005270335823297501, 0.00033684787922538817, 0.0022483353968709707, 0.00015209850971587002, 0.0, 0.0, 0.0, 0.0, 0.0, 0.0, 0.0, 0.0, 0.0, 0.0, 0.0, 0.0, 0.0, 0.0, 0.0, 0.0, 0.0, 0.0, 0.0, 0.0, 0.0, 0.0, 0.0, 0.0, 0.0, 0.0, 0.0, 0.0, 0.0, 0.0, 0.0, 0.0, 0.0, 0.0], [0.977262020111084, 0.0004416232113726437, 0.007378374692052603, 0.0013019489124417305, 0.00241492735221982, 0.00028708207537420094, 0.0109140295535326, 0.0, 0.0, 0.0, 0.0, 0.0, 0.0, 0.0, 0.0, 0.0, 0.0, 0.0, 0.0, 0.0, 0.0, 0.0, 0.0, 0.0, 0.0, 0.0, 0.0, 0.0, 0.0, 0.0, 0.0, 0.0, 0.0, 0.0, 0.0, 0.0, 0.0, 0.0, 0.0, 0.0], [0.9947971701622009, 0.0038351344410330057, 0.0002831176680047065, 0.0008121450082398951, 5.38021995453164e-05, 4.6319262764882296e-05, 0.00015237364277709275, 1.993620753637515e-05, 0.0, 0.0, 0.0, 0.0, 0.0, 0.0, 0.0, 0.0, 0.0, 0.0, 0.0, 0.0, 0.0, 0.0, 0.0, 0.0, 0.0, 0.0, 0.0, 0.0, 0.0, 0.0, 0.0, 0.0, 0.0, 0.0, 0.0, 0.0, 0.0, 0.0, 0.0, 0.0], [0.9466814994812012, 0.004574369639158249, 0.04306493699550629, 0.004882210865616798, 1.5456949768122286e-05, 1.1989282938884571e-05, 4.650164191843942e-05, 1.1051620276703034e-05, 0.0007120001828297973, 0.0, 0.0, 0.0, 0.0, 0.0, 0.0, 0.0, 0.0, 0.0, 0.0, 0.0, 0.0, 0.0, 0.0, 0.0, 0.0, 0.0, 0.0, 0.0, 0.0, 0.0, 0.0, 0.0, 0.0, 0.0, 0.0, 0.0, 0.0, 0.0, 0.0, 0.0], [0.9806710481643677, 0.009065789170563221, 0.00020198774291202426, 0.0043905084021389484, 0.0001264860766241327, 0.002645359607413411, 0.00032004929380491376, 7.365543569903821e-05, 0.0024732849560678005, 3.1890172977000475e-05, 0.0, 0.0, 0.0, 0.0, 0.0, 0.0, 0.0, 0.0, 0.0, 0.0, 0.0, 0.0, 0.0, 0.0, 0.0, 0.0, 0.0, 0.0, 0.0, 0.0, 0.0, 0.0, 0.0, 0.0, 0.0, 0.0, 0.0, 0.0, 0.0, 0.0], [0.9817106127738953, 0.006130704656243324, 0.0008012193138711154, 6.557044252986088e-05, 4.892885954177473e-06, 0.00010335756815038621, 0.003244076855480671, 0.00024396294611506164, 0.003853755770251155, 2.7252486688666977e-05, 0.003814588999375701, 0.0, 0.0, 0.0, 0.0, 0.0, 0.0, 0.0, 0.0, 0.0, 0.0, 0.0, 0.0, 0.0, 0.0, 0.0, 0.0, 0.0, 0.0, 0.0, 0.0, 0.0, 0.0, 0.0, 0.0, 0.0, 0.0, 0.0, 0.0, 0.0], [0.9858111143112183, 0.0043605025857687, 0.0009995035361498594, 0.0017537508392706513, 2.1869660486117937e-05, 0.0001372571277897805, 0.002432112814858556, 2.8229644613020355e-06, 0.00027172479894943535, 0.00010504226520424709, 0.0014092132914811373, 0.0026949867606163025, 0.0, 0.0, 0.0, 0.0, 0.0, 0.0, 0.0, 0.0, 0.0, 0.0, 0.0, 0.0, 0.0, 0.0, 0.0, 0.0, 0.0, 0.0, 0.0, 0.0, 0.0, 0.0, 0.0, 0.0, 0.0, 0.0, 0.0, 0.0], [0.8950766324996948, 0.00709972670301795, 0.021822074428200722, 0.005455388221889734, 0.0004908905830234289, 0.02129308320581913, 0.002464624587446451, 4.07540901505854e-05, 0.00031597205088473856, 0.00011697624722728506, 0.036137696355581284, 0.004771233536303043, 0.004914888180792332, 0.0, 0.0, 0.0, 0.0, 0.0, 0.0, 0.0, 0.0, 0.0, 0.0, 0.0, 0.0, 0.0, 0.0, 0.0, 0.0, 0.0, 0.0, 0.0, 0.0, 0.0, 0.0, 0.0, 0.0, 0.0, 0.0, 0.0], [0.9718857407569885, 0.00015251881268341094, 0.0016329745994880795, 0.0004283774469513446, 0.0032139772083610296, 0.001222513266839087, 0.002508975099772215, 0.0016795400297269225, 0.001093139871954918, 4.489206872904106e-08, 0.0063108839094638824, 0.0013974168105050921, 6.385922461049631e-06, 0.008467370644211769, 0.0, 0.0, 0.0, 0.0, 0.0, 0.0, 0.0, 0.0, 0.0, 0.0, 0.0, 0.0, 0.0, 0.0, 0.0, 0.0, 0.0, 0.0, 0.0, 0.0, 0.0, 0.0, 0.0, 0.0, 0.0, 0.0], [0.9738361239433289, 0.0013886422384530306, 0.0012128239031881094, 0.00032917564385570586, 0.00021016410028096288, 0.0028909570537507534, 0.004408351611346006, 0.00010093462333315983, 0.0003285518323536962, 1.7705770005704835e-07, 0.00025743385776877403, 0.0014004989061504602, 0.0013303260784596205, 0.010927117429673672, 0.0013787263305857778, 0.0, 0.0, 0.0, 0.0, 0.0, 0.0, 0.0, 0.0, 0.0, 0.0, 0.0, 0.0, 0.0, 0.0, 0.0, 0.0, 0.0, 0.0, 0.0, 0.0, 0.0, 0.0, 0.0, 0.0, 0.0], [0.8425650596618652, 0.028462359681725502, 0.012616581283509731, 0.0029730144888162613, 3.307464430690743e-05, 2.3792360934749013e-06, 0.0023280398454517126, 0.001930425176396966, 0.017433088272809982, 0.0018700031796470284, 0.0013537481427192688, 0.05440676957368851, 0.006130743771791458, 0.020152200013399124, 6.177012983243912e-05, 0.007680789101868868, 0.0, 0.0, 0.0, 0.0, 0.0, 0.0, 0.0, 0.0, 0.0, 0.0, 0.0, 0.0, 0.0, 0.0, 0.0, 0.0, 0.0, 0.0, 0.0, 0.0, 0.0, 0.0, 0.0, 0.0], [0.9307665228843689, 0.005962037481367588, 0.00467979721724987, 0.0034829392097890377, 0.0003368684265296906, 0.00019420217722654343, 0.0029800422489643097, 0.0002466145670041442, 0.016246281564235687, 0.00022422027541324496, 0.0008394723990932107, 0.008680634200572968, 0.0034373262897133827, 0.015768753364682198, 4.5325174141908064e-05, 0.0018931085942313075, 0.0042159887962043285, 0.0, 0.0, 0.0, 0.0, 0.0, 0.0, 0.0, 0.0, 0.0, 0.0, 0.0, 0.0, 0.0, 0.0, 0.0, 0.0, 0.0, 0.0, 0.0, 0.0, 0.0, 0.0, 0.0], [0.9515425562858582, 0.001570671214722097, 0.003022166434675455, 0.0011037270305678248, 4.400842226459645e-05, 5.612815584754571e-05, 0.0025708007160574198, 5.089639216748765e-06, 0.0008170045912265778, 0.001005643280223012, 0.0033074032980948687, 0.001496320590376854, 0.02159040793776512, 0.0036781535018235445, 1.3646233128383756e-05, 0.00016981562657747418, 0.0020019267685711384, 0.006004360504448414, 0.0, 0.0, 0.0, 0.0, 0.0, 0.0, 0.0, 0.0, 0.0, 0.0, 0.0, 0.0, 0.0, 0.0, 0.0, 0.0, 0.0, 0.0, 0.0, 0.0, 0.0, 0.0], [0.9220166802406311, 0.0016219818498939276, 0.03445688262581825, 0.0015533515252172947, 0.0003607304533943534, 0.00014751343405805528, 0.00030751797021366656, 0.0013483337825164199, 0.00028706915327347815, 0.0001392155681969598, 0.0002552919613663107, 0.0009200811036862433, 0.0005198155995458364, 0.022131474688649178, 5.729671670451353e-07, 0.0028083857614547014, 0.004551136400550604, 0.0006930864765308797, 0.005880922544747591, 0.0, 0.0, 0.0, 0.0, 0.0, 0.0, 0.0, 0.0, 0.0, 0.0, 0.0, 0.0, 0.0, 0.0, 0.0, 0.0, 0.0, 0.0, 0.0, 0.0, 0.0], [0.9445492625236511, 0.0022086629178375006, 0.032039325684309006, 5.590464570559561e-05, 1.2944433365191799e-06, 2.4207785827456973e-05, 0.0008969806367531419, 0.00012325459101703018, 0.0002342526422580704, 1.0593868864816613e-05, 0.0004006789531558752, 0.0008646167698316276, 2.8459129680413753e-05, 0.001307633239775896, 5.10596510139294e-06, 0.00767205934971571, 0.003461390733718872, 5.8142893976764753e-05, 0.000604678934905678, 0.005453618708997965, 0.0, 0.0, 0.0, 0.0, 0.0, 0.0, 0.0, 0.0, 0.0, 0.0, 0.0, 0.0, 0.0, 0.0, 0.0, 0.0, 0.0, 0.0, 0.0, 0.0], [0.06222069263458252, 0.8029187321662903, 0.009819624945521355, 0.006946872919797897, 0.0004980314988642931, 0.00287168612703681, 0.001371705555357039, 7.245924643939361e-05, 0.00012523728946689516, 4.718791751656681e-05, 0.014692639000713825, 0.0014126625610515475, 0.00012411973148118705, 0.053732700645923615, 2.6098443413502537e-05, 0.014396363869309425, 0.01506053376942873, 6.509914965135977e-05, 0.0013208860764279962, 0.0020386776886880398, 0.01023802813142538, 0.0, 0.0, 0.0, 0.0, 0.0, 0.0, 0.0, 0.0, 0.0, 0.0, 0.0, 0.0, 0.0, 0.0, 0.0, 0.0, 0.0, 0.0, 0.0], [0.24908235669136047, 0.0016842627665027976, 0.5174662470817566, 0.06093389540910721, 0.0008645543130114675, 0.008374958299100399, 0.0011864799307659268, 7.2530034231022e-05, 0.0009114164859056473, 0.007598354481160641, 0.005445169284939766, 9.990358375944197e-05, 0.0015581118641421199, 0.021081438288092613, 0.0011760540073737502, 0.00849987007677555, 0.0021421159617602825, 0.00030375205096788704, 0.003948037512600422, 0.0203753262758255, 0.06716584414243698, 0.0200293380767107, 0.0, 0.0, 0.0, 0.0, 0.0, 0.0, 0.0, 0.0, 0.0, 0.0, 0.0, 0.0, 0.0, 0.0, 0.0, 0.0, 0.0, 0.0], [0.03006492182612419, 0.00010585882409941405, 8.268521924037486e-05, 0.9611707329750061, 0.006523129530251026, 0.00020358736219350249, 8.267693920060992e-05, 1.0901813766395207e-05, 0.00014466026914305985, 1.2369788464638987e-06, 0.0007224623113870621, 5.848390628671041e-06, 1.3761417903879192e-05, 2.883286288124509e-05, 0.00010086554539157078, 7.909118721727282e-05, 0.00028417666908353567, 1.5020891623862553e-05, 3.0387398510356434e-05, 0.00020452534954529256, 1.1150586942676455e-07, 6.513034168165177e-05, 5.934761793469079e-05, 0.0, 0.0, 0.0, 0.0, 0.0, 0.0, 0.0, 0.0, 0.0, 0.0, 0.0, 0.0, 0.0, 0.0, 0.0, 0.0, 0.0], [0.039398517459630966, 0.00015604571672156453, 0.0003224446263629943, 0.031581420451402664, 0.8946837782859802, 0.003082978306338191, 0.003167681861668825, 0.0002605467743705958, 0.00018365561845712364, 1.6391461521436668e-09, 0.0001670650817686692, 2.0642141862481367e-06, 3.3628990081524535e-07, 4.663289655582048e-05, 2.5106803150265478e-05, 0.00019027027883566916, 9.633081208448857e-05, 1.056901737683802e-06, 1.2388180039124563e-05, 0.0002223912306362763, 2.1283190676513186e-07, 0.0005078492686152458, 0.000523529015481472, 0.02536775730550289, 0.0, 0.0, 0.0, 0.0, 0.0, 0.0, 0.0, 0.0, 0.0, 0.0, 0.0, 0.0, 0.0, 0.0, 0.0, 0.0], [0.007341576274484396, 2.1896416910749394e-06, 2.6979958420270123e-05, 0.0004895124002359807, 1.4396366168512031e-05, 0.9897361993789673, 0.001227355794981122, 1.0387267138867173e-05, 1.8284094039699994e-05, 1.739884791795987e-09, 4.122317477595061e-05, 1.1235165402467828e-06, 1.19774895779301e-07, 8.884789713192731e-05, 5.2057503125979565e-06, 0.0007912008441053331, 2.243646576971514e-06, 1.664556918967719e-07, 3.3030489703378407e-06, 1.018428065435728e-05, 1.3755105499058118e-07, 2.80948788713431e-05, 5.3692398068960756e-05, 8.609233191236854e-05, 2.143115852959454e-05, 0.0, 0.0, 0.0, 0.0, 0.0, 0.0, 0.0, 0.0, 0.0, 0.0, 0.0, 0.0, 0.0, 0.0, 0.0], [0.11815416812896729, 0.00013013048737775534, 0.00016115899779833853, 0.0008241175673902035, 0.0007261806167662144, 8.164430619217455e-05, 0.859268844127655, 0.009248235262930393, 0.0014991973293945193, 4.9207460328659636e-09, 0.00015989768144208938, 0.0004582265974022448, 4.8623609472997487e-05, 0.00010510846186662093, 1.654715379117988e-05, 0.0012399699771776795, 0.006193635985255241, 2.1248059056233615e-05, 0.00011465742136351764, 2.9251656087581068e-05, 1.8228420231025666e-06, 4.848788375966251e-05, 1.7244097762159072e-05, 6.537414446938783e-05, 0.0010433292482048273, 0.000342823623213917, 0.0, 0.0, 0.0, 0.0, 0.0, 0.0, 0.0, 0.0, 0.0, 0.0, 0.0, 0.0, 0.0, 0.0], [0.05991847813129425, 4.64337645098567e-05, 0.00021480178111232817, 0.0001739643921609968, 0.00023713819973636419, 2.5446226572967134e-05, 0.002622528700158, 0.9305376410484314, 0.0007623606361448765, 1.379680014679252e-08, 6.592850695597008e-05, 7.115829066606238e-05, 2.4895027195270814e-07, 1.677685941103846e-05, 1.953415676325676e-06, 4.8025569412857294e-05, 0.00144666968844831, 2.556051367719192e-05, 0.00012624691589735448, 0.000710945634637028, 4.4036121835233644e-05, 6.32205992587842e-05, 7.983605610206723e-05, 1.7104001017287374e-05, 0.00013057305477559566, 4.280486609786749e-05, 0.002570101758465171, 0.0, 0.0, 0.0, 0.0, 0.0, 0.0, 0.0, 0.0, 0.0, 0.0, 0.0, 0.0, 0.0], [0.13615892827510834, 0.0005546058528125286, 4.269240525900386e-05, 0.00019707305182237178, 6.915806807228364e-06, 2.399203140157624e-06, 8.898450687411241e-06, 1.3100599062454421e-05, 0.8609837889671326, 3.151498262354835e-08, 5.6620421673869714e-05, 0.00013882425264455378, 6.18291642240365e-06, 2.9114691642462276e-05, 2.4866269541234942e-06, 4.043963417643681e-05, 0.0006669438444077969, 0.0005891490145586431, 0.0002878717496059835, 0.00014939189713913947, 5.864215424367103e-08, 1.9396959487494314e-06, 1.991028511838522e-06, 4.720348442788236e-05, 4.664680545829469e-06, 5.952194328529004e-07, 4.142135821894044e-06, 3.948226549255196e-06, 0.0, 0.0, 0.0, 0.0, 0.0, 0.0, 0.0, 0.0, 0.0, 0.0, 0.0, 0.0], [0.036806657910346985, 0.00011377858027117327, 0.0016287968028336763, 0.00169521349016577, 7.182401304817176e-07, 3.811286433119676e-07, 2.4776816189842066e-06, 1.7623563053348335e-06, 0.00035593839129433036, 0.9543346166610718, 0.000734422355890274, 3.779427788686007e-05, 7.687462493777275e-05, 9.852003859123215e-05, 6.44083627321379e-07, 1.646499367780052e-05, 0.0019338263664394617, 3.398898843443021e-05, 0.0002992787631228566, 0.0008567650220356882, 3.91552566725295e-06, 9.92285004031146e-06, 0.0007100224029272795, 0.00011398971400922164, 1.3977162893752393e-07, 1.1412408440492072e-07, 1.5007854869963921e-07, 1.8704045601225516e-07, 0.000132448723888956, 0.0, 0.0, 0.0, 0.0, 0.0, 0.0, 0.0, 0.0, 0.0, 0.0, 0.0], [0.1301414519548416, 0.001238655298948288, 0.000104060563899111, 0.009391308762133121, 9.82983474386856e-05, 0.0014461239334195852, 0.00044501054799184203, 0.00012089023948647082, 0.0042629120871424675, 6.600178494409192e-06, 0.8407126665115356, 0.00043739681132137775, 5.126374617248075e-06, 0.0015520149609073997, 0.0007348440121859312, 0.0004742487508337945, 0.0018400602275505662, 2.437139664834831e-05, 0.000622908934019506, 0.00039219422615133226, 5.16463069288875e-06, 0.00013702840078622103, 4.60930859844666e-05, 0.0012738403165712953, 2.3007816707831807e-05, 0.0005734487785957754, 0.00018053145322483033, 6.42836675979197e-05, 0.003393282648175955, 0.0002522966533433646, 0.0, 0.0, 0.0, 0.0, 0.0, 0.0, 0.0, 0.0, 0.0, 0.0], [0.036585483700037, 0.0003547737142071128, 1.5599089238094166e-05, 1.9543207599781454e-05, 1.5461230873370368e-07, 1.8376090338279027e-06, 0.00017642260354477912, 1.1854572221636772e-05, 0.0006408469052985311, 2.269247261210694e-07, 0.0003260501835029572, 0.9429543614387512, 2.1393672795966268e-05, 0.0004707876651082188, 8.386864465137478e-07, 0.00048670609248802066, 0.01621992327272892, 0.00014834724424872547, 0.00042631555697880685, 0.0006963289924897254, 2.686503194126999e-06, 7.006833038758487e-05, 8.677072855789447e-07, 1.64472240271607e-07, 1.99053449279063e-08, 3.048606913580443e-07, 5.8998444728786126e-05, 4.654228632716695e-06, 0.00019539975619409233, 9.125747055804823e-06, 9.99083204078488e-05, 0.0, 0.0, 0.0, 0.0, 0.0, 0.0, 0.0, 0.0, 0.0], [0.004165683872997761, 0.0001089202705770731, 9.460372893954627e-06, 8.407280256506056e-05, 1.1542697109234723e-07, 3.8897951526450925e-07, 3.3619769965298474e-05, 3.541831716802335e-08, 1.2673015589825809e-05, 2.7259139301349933e-07, 1.0634098543960135e-05, 8.214617264457047e-05, 0.9937631487846375, 0.0005562063306570053, 2.864299403881887e-06, 0.00011013558105332777, 0.0007679348927922547, 3.250402005505748e-05, 6.80489101796411e-05, 0.00015916144184302539, 4.6265355990726675e-08, 1.5200940879367408e-06, 3.0004849804754485e-07, 1.1354244634276256e-05, 1.1219303708287498e-08, 2.2738653626674932e-08, 2.5383087631780654e-06, 4.710590140177828e-09, 2.10583743864845e-06, 4.736034043162363e-06, 3.595503414999257e-07, 9.06242257769918e-06, 0.0, 0.0, 0.0, 0.0, 0.0, 0.0, 0.0, 0.0], [0.005407051648944616, 0.0003564799844752997, 0.0008192360983230174, 0.00018315260240342468, 1.9430710835877107e-06, 0.00014694257697556168, 2.7682646759785712e-05, 1.227404595738335e-06, 1.7525504517834634e-05, 3.968946202803636e-07, 0.00033064952003769577, 8.643228647997603e-05, 0.00018195968004874885, 0.987464427947998, 0.0002380130608798936, 0.002375886542722583, 0.001098604523576796, 7.824932254152372e-06, 0.0005127575132064521, 0.0004264546150807291, 5.171291377337184e-07, 5.626385973300785e-05, 8.205156336771324e-05, 1.3481430869433098e-06, 7.851954819670937e-08, 3.289476353529608e-06, 4.804078912457044e-07, 4.8068493185837724e-08, 1.4388389217856457e-06, 8.084273872555059e-07, 9.193437108478975e-06, 4.6558002395613585e-06, 0.00015521844034083188, 0.0, 0.0, 0.0, 0.0, 0.0, 0.0, 0.0], [0.004032385069876909, 8.655869692120177e-07, 1.2448528650566004e-05, 4.784601514984388e-06, 5.5879700084915385e-06, 3.894638211932033e-06, 1.5598339814459905e-05, 5.353713277145289e-06, 6.497061804111581e-06, 9.659248401128195e-11, 3.819285484496504e-05, 8.79523668118054e-06, 5.017644255644882e-08, 6.539840251207352e-05, 0.9951897859573364, 0.0005114281666465104, 3.817068136413582e-05, 4.439317535798182e-07, 8.952449093158066e-07, 2.3240913833433297e-06, 1.5595065860907198e-07, 4.121322660921578e-07, 1.849531508923974e-05, 4.1197742461918097e-07, 9.568190080244676e-07, 6.326986294880044e-07, 1.2025533351334161e-06, 9.747559488459956e-07, 2.451019781801733e-06, 1.4510002088741203e-08, 6.1107402871130034e-06, 7.33689887510991e-07, 8.689904795744496e-09, 2.444731944706291e-05, 0.0, 0.0, 0.0, 0.0, 0.0, 0.0], [0.013094274327158928, 0.00019745116878766567, 0.00027067895280197263, 7.988643483258784e-05, 2.5245853976230137e-05, 0.0007137686479836702, 0.0014997775433585048, 4.277424159226939e-05, 6.218334601726383e-05, 6.403139352073595e-09, 4.46152662334498e-05, 9.350731124868616e-05, 3.80380661226809e-05, 0.0012884560273960233, 0.00029784851358272135, 0.9772138595581055, 0.002079970436170697, 1.7424796169507317e-05, 6.0054495406802744e-05, 0.0003128372482024133, 0.00030582479666918516, 0.0007631112821400166, 0.00010049479169538245, 9.135963409789838e-06, 6.6902121034218e-06, 0.00018573709530755877, 0.0002706510713323951, 1.2654414604185149e-05, 2.3130425688577816e-05, 4.4961279854760505e-07, 8.573059858463239e-06, 3.532493064994924e-05, 1.697326842986513e-05, 0.0003724124107975513, 0.00045627180952578783, 0.0, 0.0, 0.0, 0.0, 0.0], [0.04465616121888161, 0.004027416929602623, 0.0026310551911592484, 0.0010254675289615989, 2.6543559670244576e-06, 1.8133954426957644e-07, 0.00038573594065383077, 0.00039606462814845145, 0.012846392579376698, 1.6619322195765562e-05, 0.00011065393482567742, 0.008546372875571251, 0.00040821448783390224, 0.0027275006286799908, 3.843590548058273e-06, 0.002415409777313471, 0.9085372686386108, 0.0011225052876397967, 0.0013949208660051227, 0.0005531451897695661, 1.6474805306643248e-05, 6.14778691669926e-05, 4.395954965730198e-05, 2.0607731130439788e-05, 3.196198292698682e-07, 1.623483747437149e-08, 4.029206684208475e-05, 5.710999539587647e-05, 0.004189606755971909, 0.0003443828609306365, 1.0610479876049794e-05, 0.002301041502505541, 0.00024474653764627874, 0.0006524079362861812, 5.943210908299079e-06, 0.00020341447088867426, 0.0, 0.0, 0.0, 0.0], [0.0722428634762764, 0.0003979673492722213, 0.0002978755219373852, 0.0003412044025026262, 5.535099262488075e-06, 5.404620878834976e-06, 0.00012089037045370787, 1.4821483091509435e-05, 0.0071220481768250465, 1.9024221273866715e-06, 2.598092942207586e-05, 0.0009393315413035452, 0.00022031682601664215, 0.0008906550938263535, 1.4859746215734049e-06, 0.0001911847066367045, 0.0007220907718874514, 0.5960869789123535, 0.2589993178844452, 0.05761110037565231, 1.6074197617399477e-07, 4.789781542058336e-06, 3.0595154385082424e-05, 1.1641106539173052e-05, 1.145966052717995e-06, 8.810105782686151e-07, 1.219884416059358e-05, 6.855172159703216e-06, 0.0028596760239452124, 1.822070771595463e-05, 8.587360298406566e-07, 0.00014374279999174178, 8.662845357321203e-05, 0.0002593687386251986, 1.5440555216628127e-06, 9.435440006200224e-06, 0.0003133675782009959, 0.0, 0.0, 0.0], [0.03604377806186676, 0.00020277670409996063, 0.00030217645689845085, 8.699254249222577e-05, 6.962589509384998e-07, 2.488640802766895e-06, 0.0002664590429048985, 1.6440081935797934e-06, 0.0005860651726834476, 1.667222022661008e-05, 0.00021914269018452615, 0.0001853875583037734, 0.0008747373358346522, 0.0005628707585856318, 7.828309662727406e-07, 2.4300123186549172e-05, 0.000566175498533994, 0.003269790904596448, 0.9494713544845581, 0.004412509500980377, 1.0948698445645277e-06, 1.0535508181419573e-06, 3.468147770036012e-05, 5.848802402397268e-07, 3.0107557336123136e-08, 2.0986705351333512e-07, 2.415145172562916e-05, 5.389227908381145e-07, 0.00015388205065391958, 0.00010160638339584693, 1.4732052477484103e-05, 3.09583920170553e-05, 0.00021599738101940602, 0.0003871619119308889, 2.188350208598422e-06, 1.8745176930679008e-06, 8.48299969220534e-05, 0.0018476283876225352, 0.0, 0.0], [0.06801124662160873, 6.172451685415581e-05, 0.0029925783164799213, 0.0001788783847587183, 1.1442960385465994e-05, 6.71857014822308e-06, 1.527994390926324e-05, 9.391718049300835e-05, 8.425243868259713e-05, 7.2618886406417005e-06, 1.2328127013461199e-05, 4.899276973446831e-05, 5.3143528930377215e-05, 0.0031761745922267437, 2.3635983836811647e-08, 0.0003889015060849488, 0.000728776678442955, 6.961078906897455e-05, 0.0006960753817111254, 0.9191000461578369, 8.605488255852833e-05, 6.099237725720741e-05, 0.001103683840483427, 1.48284416354727e-05, 1.0223977824352914e-06, 5.536554681384587e-07, 4.191328741853795e-07, 1.1285123946436215e-05, 4.568104850477539e-05, 2.4217193640652113e-05, 4.112919498311385e-07, 2.4945466066128574e-06, 6.541002676385688e-06, 0.0024436828680336475, 3.502331935578695e-08, 3.7656023778254166e-05, 0.0002667245571501553, 1.5213973711070139e-05, 0.00014104676665738225, 0.0], [0.04991373047232628, 0.00010313058010069653, 0.0011934287613257766, 5.3136936912778765e-06, 2.195963944018331e-08, 1.1958678669543588e-06, 1.9624392734840512e-05, 2.751591409833054e-06, 3.0348801374202594e-05, 1.9375997339921014e-07, 1.0596667380013969e-05, 1.4174093848851044e-05, 6.349317231979512e-07, 6.680624937871471e-05, 7.891670747994795e-07, 0.0003064418851863593, 0.00021705687686335295, 3.3975545647990657e-06, 1.8529217413743027e-05, 0.0005917286034673452, 0.9400657415390015, 0.005208004266023636, 0.0020412856247276068, 5.770055366838278e-08, 9.274667256420344e-09, 1.0264324856734675e-07, 1.4994824368841364e-06, 6.257500331230403e-07, 5.987613803881686e-06, 1.433818511031859e-06, 4.432089610872936e-07, 7.085849915711151e-07, 3.7630137228461535e-08, 5.7460320022073574e-06, 2.7683897769748e-06, 9.815098019316792e-05, 3.301653123344295e-05, 8.087557716862648e-07, 7.842782565603557e-07, 3.293771806056611e-05]]]}\n",
       "    )\n",
       "    </script>"
      ],
      "text/plain": [
       "<circuitsvis.utils.render.RenderedHTML at 0x1fa0e47fd30>"
      ]
     },
     "metadata": {},
     "output_type": "display_data"
    }
   ],
   "source": [
    "induction_head_layer = 5\n",
    "induction_head_index = 5\n",
    "single_random_sequence = torch.randint(1000, 10000, (1, 20)).to(model.cfg.device)\n",
    "repeated_random_sequence = einops.repeat(single_random_sequence, \"batch seq_len -> batch (2 seq_len)\")\n",
    "def visualize_pattern_hook(\n",
    "    pattern: Float[torch.Tensor, \"batch head_index dest_pos source_pos\"],\n",
    "    hook: HookPoint,\n",
    "):\n",
    "    display(\n",
    "        cv.attention.attention_patterns(\n",
    "            tokens=model.to_str_tokens(repeated_random_sequence), \n",
    "            attention=pattern[0, induction_head_index, :, :][None, :, :] # Add a dummy axis, as CircuitsVis expects 3D patterns.\n",
    "        )\n",
    "    )\n",
    "\n",
    "model.run_with_hooks(\n",
    "    repeated_random_sequence, \n",
    "    return_type=None, \n",
    "    fwd_hooks=[(\n",
    "        utils.get_act_name(\"pattern\", induction_head_layer), \n",
    "        visualize_pattern_hook\n",
    "    )]\n",
    ")"
   ]
  },
  {
   "cell_type": "markdown",
   "metadata": {},
   "source": [
    "## Available Models"
   ]
  },
  {
   "cell_type": "markdown",
   "metadata": {},
   "source": [
    "TransformerLens comes with over 40 open source models available, all of which can be loaded into a consistent(-ish) architecture by just changing the name in `from_pretrained`. The open source models available are [documented here](https://dynalist.io/d/n2ZWtnoYHrU1s4vnFSAQ519J#z=jHj79Pj58cgJKdq4t-ygK-4h), and a set of interpretability friendly models I've trained are [documented here](https://dynalist.io/d/n2ZWtnoYHrU1s4vnFSAQ519J#z=NCJ6zH_Okw_mUYAwGnMKsj2m), including a set of toy language models (tiny one to four layer models) and a set of [SoLU models](https://dynalist.io/d/n2ZWtnoYHrU1s4vnFSAQ519J#z=FZ5W6GGcy6OitPEaO733JLqf) up to GPT-2 Medium size (300M parameters). You can see [a table of the official alias and hyper-parameters of available models here](https://github.com/neelnanda-io/TransformerLens/blob/main/transformer_lens/model_properties_table.md).\n",
    "\n",
    "**Note:** TransformerLens does not currently support multi-GPU models (which you want for models above eg 7B parameters), but this feature is coming soon!"
   ]
  },
  {
   "cell_type": "markdown",
   "metadata": {},
   "source": [
    "\n",
    "Notably, this means that analysis can be near immediately re-run on a different model by just changing the name - to see this, let's load in DistilGPT-2 (a distilled version of GPT-2, with half as many layers) and copy the code from above to see the induction heads in that model."
   ]
  },
  {
   "cell_type": "code",
   "execution_count": 18,
   "metadata": {},
   "outputs": [
    {
     "data": {
      "application/vnd.jupyter.widget-view+json": {
       "model_id": "4f23bb6f296b4253abd00dc829052a72",
       "version_major": 2,
       "version_minor": 0
      },
      "text/plain": [
       "Downloading (…)lve/main/config.json:   0%|          | 0.00/762 [00:00<?, ?B/s]"
      ]
     },
     "metadata": {},
     "output_type": "display_data"
    },
    {
     "name": "stderr",
     "output_type": "stream",
     "text": [
      "D:\\conda\\envs\\pip310\\lib\\site-packages\\huggingface_hub-0.14.1-py3.8.egg\\huggingface_hub\\file_download.py:133: UserWarning:\n",
      "\n",
      "`huggingface_hub` cache-system uses symlinks by default to efficiently store duplicated files but your machine does not support them in C:\\Users\\marti\\.cache\\huggingface\\hub. Caching files will still work but in a degraded version that might require more space on your disk. This warning can be disabled by setting the `HF_HUB_DISABLE_SYMLINKS_WARNING` environment variable. For more details, see https://huggingface.co/docs/huggingface_hub/how-to-cache#limitations.\n",
      "To support symlinks on Windows, you either need to activate Developer Mode or to run Python as an administrator. In order to see activate developer mode, see this article: https://docs.microsoft.com/en-us/windows/apps/get-started/enable-your-device-for-development\n",
      "\n"
     ]
    },
    {
     "data": {
      "application/vnd.jupyter.widget-view+json": {
       "model_id": "c9da8bb829114d6dbe8454503ec3c910",
       "version_major": 2,
       "version_minor": 0
      },
      "text/plain": [
       "Downloading pytorch_model.bin:   0%|          | 0.00/353M [00:00<?, ?B/s]"
      ]
     },
     "metadata": {},
     "output_type": "display_data"
    },
    {
     "data": {
      "application/vnd.jupyter.widget-view+json": {
       "model_id": "6b4c63cbde83402698f177e7f7a86c99",
       "version_major": 2,
       "version_minor": 0
      },
      "text/plain": [
       "Downloading (…)neration_config.json:   0%|          | 0.00/124 [00:00<?, ?B/s]"
      ]
     },
     "metadata": {},
     "output_type": "display_data"
    },
    {
     "data": {
      "application/vnd.jupyter.widget-view+json": {
       "model_id": "4a92c6f4d62e47459901aefd206a5577",
       "version_major": 2,
       "version_minor": 0
      },
      "text/plain": [
       "Downloading (…)olve/main/vocab.json:   0%|          | 0.00/1.04M [00:00<?, ?B/s]"
      ]
     },
     "metadata": {},
     "output_type": "display_data"
    },
    {
     "data": {
      "application/vnd.jupyter.widget-view+json": {
       "model_id": "a28e025626c74631a5f4c0fceeae4e50",
       "version_major": 2,
       "version_minor": 0
      },
      "text/plain": [
       "Downloading (…)olve/main/merges.txt:   0%|          | 0.00/456k [00:00<?, ?B/s]"
      ]
     },
     "metadata": {},
     "output_type": "display_data"
    },
    {
     "data": {
      "application/vnd.jupyter.widget-view+json": {
       "model_id": "4e7c9f76f1404c7b9a8a7abb9efde0dc",
       "version_major": 2,
       "version_minor": 0
      },
      "text/plain": [
       "Downloading (…)/main/tokenizer.json:   0%|          | 0.00/1.36M [00:00<?, ?B/s]"
      ]
     },
     "metadata": {},
     "output_type": "display_data"
    },
    {
     "name": "stderr",
     "output_type": "stream",
     "text": [
      "Using pad_token, but it is not set yet.\n"
     ]
    },
    {
     "name": "stdout",
     "output_type": "stream",
     "text": [
      "Loaded pretrained model distilgpt2 into HookedTransformer\n"
     ]
    },
    {
     "data": {
      "text/html": [
       "<html>\n",
       "<head><meta charset=\"utf-8\" /></head>\n",
       "<body>\n",
       "    <div>            <script src=\"https://cdnjs.cloudflare.com/ajax/libs/mathjax/2.7.5/MathJax.js?config=TeX-AMS-MML_SVG\"></script><script type=\"text/javascript\">if (window.MathJax && window.MathJax.Hub && window.MathJax.Hub.Config) {window.MathJax.Hub.Config({SVG: {font: \"STIX-Web\"}});}</script>                <script type=\"text/javascript\">window.PlotlyConfig = {MathJaxConfig: 'local'};</script>\n",
       "        <script charset=\"utf-8\" src=\"https://cdn.plot.ly/plotly-2.20.0.min.js\"></script>                <div id=\"bc7a9583-7cdd-451b-b1a6-8628285d4f00\" class=\"plotly-graph-div\" style=\"height:525px; width:100%;\"></div>            <script type=\"text/javascript\">                                    window.PLOTLYENV=window.PLOTLYENV || {};                                    if (document.getElementById(\"bc7a9583-7cdd-451b-b1a6-8628285d4f00\")) {                    Plotly.newPlot(                        \"bc7a9583-7cdd-451b-b1a6-8628285d4f00\",                        [{\"coloraxis\":\"coloraxis\",\"name\":\"0\",\"z\":[[0.009836979,0.00013592215,0.011783047,0.000005157645,0.00066469586,0.000007874991,0.009007793,0.0011141954,0.008401959,0.009444175,0.008765451,0.015878793],[0.003103468,0.01792707,0.0022212404,0.00027001335,0.01317072,0.0017229798,0.0042729327,0.015841067,0.0020732277,0.00006809506,0.0038940378,0.0149093],[0.012345325,0.0064330897,0.0110961795,0.0017825704,0.019575983,0.005690816,0.008892558,0.0014536758,0.018141573,0.013095894,0.020437704,1.3447456e-10],[0.008483595,0.24304117,0.8674127,0.01677378,0.017094934,0.012441659,0.02050574,0.2085383,0.015557037,0.016304333,0.9412121,0.52370524],[0.27323583,0.24381274,0.08818598,0.009609827,0.09105749,0.024256183,0.6404426,0.025652364,0.06677886,0.65410346,0.017257396,0.065926224],[0.023439132,0.07975794,0.056514163,0.013103132,0.03775652,0.18470147,0.0782719,0.101598896,0.008202756,0.44733354,0.21244083,0.031913433]],\"type\":\"heatmap\",\"xaxis\":\"x\",\"yaxis\":\"y\",\"hovertemplate\":\"Head: %{x}<br>Layer: %{y}<br>color: %{z}<extra></extra>\"}],                        {\"template\":{\"data\":{\"histogram2dcontour\":[{\"type\":\"histogram2dcontour\",\"colorbar\":{\"outlinewidth\":0,\"ticks\":\"\"},\"colorscale\":[[0.0,\"#0d0887\"],[0.1111111111111111,\"#46039f\"],[0.2222222222222222,\"#7201a8\"],[0.3333333333333333,\"#9c179e\"],[0.4444444444444444,\"#bd3786\"],[0.5555555555555556,\"#d8576b\"],[0.6666666666666666,\"#ed7953\"],[0.7777777777777778,\"#fb9f3a\"],[0.8888888888888888,\"#fdca26\"],[1.0,\"#f0f921\"]]}],\"choropleth\":[{\"type\":\"choropleth\",\"colorbar\":{\"outlinewidth\":0,\"ticks\":\"\"}}],\"histogram2d\":[{\"type\":\"histogram2d\",\"colorbar\":{\"outlinewidth\":0,\"ticks\":\"\"},\"colorscale\":[[0.0,\"#0d0887\"],[0.1111111111111111,\"#46039f\"],[0.2222222222222222,\"#7201a8\"],[0.3333333333333333,\"#9c179e\"],[0.4444444444444444,\"#bd3786\"],[0.5555555555555556,\"#d8576b\"],[0.6666666666666666,\"#ed7953\"],[0.7777777777777778,\"#fb9f3a\"],[0.8888888888888888,\"#fdca26\"],[1.0,\"#f0f921\"]]}],\"heatmap\":[{\"type\":\"heatmap\",\"colorbar\":{\"outlinewidth\":0,\"ticks\":\"\"},\"colorscale\":[[0.0,\"#0d0887\"],[0.1111111111111111,\"#46039f\"],[0.2222222222222222,\"#7201a8\"],[0.3333333333333333,\"#9c179e\"],[0.4444444444444444,\"#bd3786\"],[0.5555555555555556,\"#d8576b\"],[0.6666666666666666,\"#ed7953\"],[0.7777777777777778,\"#fb9f3a\"],[0.8888888888888888,\"#fdca26\"],[1.0,\"#f0f921\"]]}],\"heatmapgl\":[{\"type\":\"heatmapgl\",\"colorbar\":{\"outlinewidth\":0,\"ticks\":\"\"},\"colorscale\":[[0.0,\"#0d0887\"],[0.1111111111111111,\"#46039f\"],[0.2222222222222222,\"#7201a8\"],[0.3333333333333333,\"#9c179e\"],[0.4444444444444444,\"#bd3786\"],[0.5555555555555556,\"#d8576b\"],[0.6666666666666666,\"#ed7953\"],[0.7777777777777778,\"#fb9f3a\"],[0.8888888888888888,\"#fdca26\"],[1.0,\"#f0f921\"]]}],\"contourcarpet\":[{\"type\":\"contourcarpet\",\"colorbar\":{\"outlinewidth\":0,\"ticks\":\"\"}}],\"contour\":[{\"type\":\"contour\",\"colorbar\":{\"outlinewidth\":0,\"ticks\":\"\"},\"colorscale\":[[0.0,\"#0d0887\"],[0.1111111111111111,\"#46039f\"],[0.2222222222222222,\"#7201a8\"],[0.3333333333333333,\"#9c179e\"],[0.4444444444444444,\"#bd3786\"],[0.5555555555555556,\"#d8576b\"],[0.6666666666666666,\"#ed7953\"],[0.7777777777777778,\"#fb9f3a\"],[0.8888888888888888,\"#fdca26\"],[1.0,\"#f0f921\"]]}],\"surface\":[{\"type\":\"surface\",\"colorbar\":{\"outlinewidth\":0,\"ticks\":\"\"},\"colorscale\":[[0.0,\"#0d0887\"],[0.1111111111111111,\"#46039f\"],[0.2222222222222222,\"#7201a8\"],[0.3333333333333333,\"#9c179e\"],[0.4444444444444444,\"#bd3786\"],[0.5555555555555556,\"#d8576b\"],[0.6666666666666666,\"#ed7953\"],[0.7777777777777778,\"#fb9f3a\"],[0.8888888888888888,\"#fdca26\"],[1.0,\"#f0f921\"]]}],\"mesh3d\":[{\"type\":\"mesh3d\",\"colorbar\":{\"outlinewidth\":0,\"ticks\":\"\"}}],\"scatter\":[{\"fillpattern\":{\"fillmode\":\"overlay\",\"size\":10,\"solidity\":0.2},\"type\":\"scatter\"}],\"parcoords\":[{\"type\":\"parcoords\",\"line\":{\"colorbar\":{\"outlinewidth\":0,\"ticks\":\"\"}}}],\"scatterpolargl\":[{\"type\":\"scatterpolargl\",\"marker\":{\"colorbar\":{\"outlinewidth\":0,\"ticks\":\"\"}}}],\"bar\":[{\"error_x\":{\"color\":\"#2a3f5f\"},\"error_y\":{\"color\":\"#2a3f5f\"},\"marker\":{\"line\":{\"color\":\"#E5ECF6\",\"width\":0.5},\"pattern\":{\"fillmode\":\"overlay\",\"size\":10,\"solidity\":0.2}},\"type\":\"bar\"}],\"scattergeo\":[{\"type\":\"scattergeo\",\"marker\":{\"colorbar\":{\"outlinewidth\":0,\"ticks\":\"\"}}}],\"scatterpolar\":[{\"type\":\"scatterpolar\",\"marker\":{\"colorbar\":{\"outlinewidth\":0,\"ticks\":\"\"}}}],\"histogram\":[{\"marker\":{\"pattern\":{\"fillmode\":\"overlay\",\"size\":10,\"solidity\":0.2}},\"type\":\"histogram\"}],\"scattergl\":[{\"type\":\"scattergl\",\"marker\":{\"colorbar\":{\"outlinewidth\":0,\"ticks\":\"\"}}}],\"scatter3d\":[{\"type\":\"scatter3d\",\"line\":{\"colorbar\":{\"outlinewidth\":0,\"ticks\":\"\"}},\"marker\":{\"colorbar\":{\"outlinewidth\":0,\"ticks\":\"\"}}}],\"scattermapbox\":[{\"type\":\"scattermapbox\",\"marker\":{\"colorbar\":{\"outlinewidth\":0,\"ticks\":\"\"}}}],\"scatterternary\":[{\"type\":\"scatterternary\",\"marker\":{\"colorbar\":{\"outlinewidth\":0,\"ticks\":\"\"}}}],\"scattercarpet\":[{\"type\":\"scattercarpet\",\"marker\":{\"colorbar\":{\"outlinewidth\":0,\"ticks\":\"\"}}}],\"carpet\":[{\"aaxis\":{\"endlinecolor\":\"#2a3f5f\",\"gridcolor\":\"white\",\"linecolor\":\"white\",\"minorgridcolor\":\"white\",\"startlinecolor\":\"#2a3f5f\"},\"baxis\":{\"endlinecolor\":\"#2a3f5f\",\"gridcolor\":\"white\",\"linecolor\":\"white\",\"minorgridcolor\":\"white\",\"startlinecolor\":\"#2a3f5f\"},\"type\":\"carpet\"}],\"table\":[{\"cells\":{\"fill\":{\"color\":\"#EBF0F8\"},\"line\":{\"color\":\"white\"}},\"header\":{\"fill\":{\"color\":\"#C8D4E3\"},\"line\":{\"color\":\"white\"}},\"type\":\"table\"}],\"barpolar\":[{\"marker\":{\"line\":{\"color\":\"#E5ECF6\",\"width\":0.5},\"pattern\":{\"fillmode\":\"overlay\",\"size\":10,\"solidity\":0.2}},\"type\":\"barpolar\"}],\"pie\":[{\"automargin\":true,\"type\":\"pie\"}]},\"layout\":{\"autotypenumbers\":\"strict\",\"colorway\":[\"#636efa\",\"#EF553B\",\"#00cc96\",\"#ab63fa\",\"#FFA15A\",\"#19d3f3\",\"#FF6692\",\"#B6E880\",\"#FF97FF\",\"#FECB52\"],\"font\":{\"color\":\"#2a3f5f\"},\"hovermode\":\"closest\",\"hoverlabel\":{\"align\":\"left\"},\"paper_bgcolor\":\"white\",\"plot_bgcolor\":\"#E5ECF6\",\"polar\":{\"bgcolor\":\"#E5ECF6\",\"angularaxis\":{\"gridcolor\":\"white\",\"linecolor\":\"white\",\"ticks\":\"\"},\"radialaxis\":{\"gridcolor\":\"white\",\"linecolor\":\"white\",\"ticks\":\"\"}},\"ternary\":{\"bgcolor\":\"#E5ECF6\",\"aaxis\":{\"gridcolor\":\"white\",\"linecolor\":\"white\",\"ticks\":\"\"},\"baxis\":{\"gridcolor\":\"white\",\"linecolor\":\"white\",\"ticks\":\"\"},\"caxis\":{\"gridcolor\":\"white\",\"linecolor\":\"white\",\"ticks\":\"\"}},\"coloraxis\":{\"colorbar\":{\"outlinewidth\":0,\"ticks\":\"\"}},\"colorscale\":{\"sequential\":[[0.0,\"#0d0887\"],[0.1111111111111111,\"#46039f\"],[0.2222222222222222,\"#7201a8\"],[0.3333333333333333,\"#9c179e\"],[0.4444444444444444,\"#bd3786\"],[0.5555555555555556,\"#d8576b\"],[0.6666666666666666,\"#ed7953\"],[0.7777777777777778,\"#fb9f3a\"],[0.8888888888888888,\"#fdca26\"],[1.0,\"#f0f921\"]],\"sequentialminus\":[[0.0,\"#0d0887\"],[0.1111111111111111,\"#46039f\"],[0.2222222222222222,\"#7201a8\"],[0.3333333333333333,\"#9c179e\"],[0.4444444444444444,\"#bd3786\"],[0.5555555555555556,\"#d8576b\"],[0.6666666666666666,\"#ed7953\"],[0.7777777777777778,\"#fb9f3a\"],[0.8888888888888888,\"#fdca26\"],[1.0,\"#f0f921\"]],\"diverging\":[[0,\"#8e0152\"],[0.1,\"#c51b7d\"],[0.2,\"#de77ae\"],[0.3,\"#f1b6da\"],[0.4,\"#fde0ef\"],[0.5,\"#f7f7f7\"],[0.6,\"#e6f5d0\"],[0.7,\"#b8e186\"],[0.8,\"#7fbc41\"],[0.9,\"#4d9221\"],[1,\"#276419\"]]},\"xaxis\":{\"gridcolor\":\"white\",\"linecolor\":\"white\",\"ticks\":\"\",\"title\":{\"standoff\":15},\"zerolinecolor\":\"white\",\"automargin\":true,\"zerolinewidth\":2},\"yaxis\":{\"gridcolor\":\"white\",\"linecolor\":\"white\",\"ticks\":\"\",\"title\":{\"standoff\":15},\"zerolinecolor\":\"white\",\"automargin\":true,\"zerolinewidth\":2},\"scene\":{\"xaxis\":{\"backgroundcolor\":\"#E5ECF6\",\"gridcolor\":\"white\",\"linecolor\":\"white\",\"showbackground\":true,\"ticks\":\"\",\"zerolinecolor\":\"white\",\"gridwidth\":2},\"yaxis\":{\"backgroundcolor\":\"#E5ECF6\",\"gridcolor\":\"white\",\"linecolor\":\"white\",\"showbackground\":true,\"ticks\":\"\",\"zerolinecolor\":\"white\",\"gridwidth\":2},\"zaxis\":{\"backgroundcolor\":\"#E5ECF6\",\"gridcolor\":\"white\",\"linecolor\":\"white\",\"showbackground\":true,\"ticks\":\"\",\"zerolinecolor\":\"white\",\"gridwidth\":2}},\"shapedefaults\":{\"line\":{\"color\":\"#2a3f5f\"}},\"annotationdefaults\":{\"arrowcolor\":\"#2a3f5f\",\"arrowhead\":0,\"arrowwidth\":1},\"geo\":{\"bgcolor\":\"white\",\"landcolor\":\"#E5ECF6\",\"subunitcolor\":\"white\",\"showland\":true,\"showlakes\":true,\"lakecolor\":\"white\"},\"title\":{\"x\":0.05},\"mapbox\":{\"style\":\"light\"}}},\"xaxis\":{\"anchor\":\"y\",\"domain\":[0.0,1.0],\"scaleanchor\":\"y\",\"constrain\":\"domain\",\"title\":{\"text\":\"Head\"}},\"yaxis\":{\"anchor\":\"x\",\"domain\":[0.0,1.0],\"autorange\":\"reversed\",\"constrain\":\"domain\",\"title\":{\"text\":\"Layer\"}},\"coloraxis\":{\"colorscale\":[[0.0,\"rgb(103,0,31)\"],[0.1,\"rgb(178,24,43)\"],[0.2,\"rgb(214,96,77)\"],[0.3,\"rgb(244,165,130)\"],[0.4,\"rgb(253,219,199)\"],[0.5,\"rgb(247,247,247)\"],[0.6,\"rgb(209,229,240)\"],[0.7,\"rgb(146,197,222)\"],[0.8,\"rgb(67,147,195)\"],[0.9,\"rgb(33,102,172)\"],[1.0,\"rgb(5,48,97)\"]],\"cmid\":0.0},\"title\":{\"text\":\"Induction Score by Head in Distil GPT-2\"}},                        {\"responsive\": true}                    ).then(function(){\n",
       "                            \n",
       "var gd = document.getElementById('bc7a9583-7cdd-451b-b1a6-8628285d4f00');\n",
       "var x = new MutationObserver(function (mutations, observer) {{\n",
       "        var display = window.getComputedStyle(gd).display;\n",
       "        if (!display || display === 'none') {{\n",
       "            console.log([gd, 'removed!']);\n",
       "            Plotly.purge(gd);\n",
       "            observer.disconnect();\n",
       "        }}\n",
       "}});\n",
       "\n",
       "// Listen for the removal of the full notebook cells\n",
       "var notebookContainer = gd.closest('#notebook-container');\n",
       "if (notebookContainer) {{\n",
       "    x.observe(notebookContainer, {childList: true});\n",
       "}}\n",
       "\n",
       "// Listen for the clearing of the current output cell\n",
       "var outputEl = gd.closest('.output');\n",
       "if (outputEl) {{\n",
       "    x.observe(outputEl, {childList: true});\n",
       "}}\n",
       "\n",
       "                        })                };                            </script>        </div>\n",
       "</body>\n",
       "</html>"
      ]
     },
     "metadata": {},
     "output_type": "display_data"
    }
   ],
   "source": [
    "distilgpt2 = HookedTransformer.from_pretrained(\"distilgpt2\")\n",
    "# We make a tensor to store the induction score for each head. We put it on the model's device to avoid needing to move things between the GPU and CPU, which can be slow.\n",
    "distilgpt2_induction_score_store = torch.zeros((distilgpt2.cfg.n_layers, distilgpt2.cfg.n_heads), device=distilgpt2.cfg.device)\n",
    "def induction_score_hook(\n",
    "    pattern: Float[torch.Tensor, \"batch head_index dest_pos source_pos\"],\n",
    "    hook: HookPoint,\n",
    "):\n",
    "    # We take the diagonal of attention paid from each destination position to source positions seq_len-1 tokens back\n",
    "    # (This only has entries for tokens with index>=seq_len)\n",
    "    induction_stripe = pattern.diagonal(dim1=-2, dim2=-1, offset=1-seq_len)\n",
    "    # Get an average score per head\n",
    "    induction_score = einops.reduce(induction_stripe, \"batch head_index position -> head_index\", \"mean\")\n",
    "    # Store the result.\n",
    "    distilgpt2_induction_score_store[hook.layer(), :] = induction_score\n",
    "\n",
    "# We make a boolean filter on activation names, that's true only on attention pattern names.\n",
    "pattern_hook_names_filter = lambda name: name.endswith(\"pattern\")\n",
    "\n",
    "distilgpt2.run_with_hooks(\n",
    "    repeated_tokens, \n",
    "    return_type=None, # For efficiency, we don't need to calculate the logits\n",
    "    fwd_hooks=[(\n",
    "        pattern_hook_names_filter,\n",
    "        induction_score_hook\n",
    "    )]\n",
    ")\n",
    "\n",
    "imshow(distilgpt2_induction_score_store, xaxis=\"Head\", yaxis=\"Layer\", title=\"Induction Score by Head in Distil GPT-2\")"
   ]
  },
  {
   "cell_type": "markdown",
   "metadata": {},
   "source": [
    "\n",
    "### An overview of the important open source models in the library\n",
    "\n",
    "* **GPT-2** - the classic generative pre-trained models from OpenAI\n",
    "    * Sizes Small (85M), Medium (300M), Large (700M) and XL (1.5B).\n",
    "    * Trained on ~22B tokens of internet text. ([Open source replication](https://huggingface.co/datasets/openwebtext))\n",
    "* **GPT-Neo** - Eleuther's replication of GPT-2\n",
    "    * Sizes 125M, 1.3B, 2.7B\n",
    "    * Trained on 300B(ish?) tokens of [the Pile](https://pile.eleuther.ai/) a large and diverse dataset including a bunch of code (and weird stuff)\n",
    "* **[OPT](https://ai.facebook.com/blog/democratizing-access-to-large-scale-language-models-with-opt-175b/)** - Meta AI's series of open source models\n",
    "    * Trained on 180B tokens of diverse text.\n",
    "    * 125M, 1.3B, 2.7B, 6.7B, 13B, 30B, 66B\n",
    "* **GPT-J** - Eleuther's 6B parameter model, trained on the Pile\n",
    "* **GPT-NeoX** - Eleuther's 20B parameter model, trained on the Pile\n",
    "* **Stanford CRFM models** - a replication of GPT-2 Small and GPT-2 Medium, trained on 5 different random seeds.\n",
    "    * Notably, 600 checkpoints were taken during training per model, and these are available in the library with eg `HookedTransformer.from_pretrained(\"stanford-gpt2-small-a\", checkpoint_index=265)`.\n",
    "</details>"
   ]
  },
  {
   "cell_type": "markdown",
   "metadata": {},
   "source": [
    "\n",
    "### An overview of some interpretability-friendly models I've trained and included\n",
    "\n",
    "(Feel free to [reach out](mailto:neelnanda27@gmail.com) if you want more details on any of these models)\n",
    "\n",
    "Each of these models has about ~200 checkpoints taken during training that can also be loaded from TransformerLens, with the `checkpoint_index` argument to `from_pretrained`.\n",
    "\n",
    "Note that all models are trained with a Beginning of Sequence token, and will likely break if given inputs without that! \n",
    "\n",
    "* **Toy Models**: Inspired by [A Mathematical Framework](https://transformer-circuits.pub/2021/framework/index.html), I've trained 12 tiny language models, of 1-4L and each of width 512. I think that interpreting these is likely to be far more tractable than larger models, and both serve as good practice and will likely contain motifs and circuits that generalise to far larger models (like induction heads):\n",
    "    * Attention-Only models (ie without MLPs): attn-only-1l, attn-only-2l, attn-only-3l, attn-only-4l\n",
    "    * GELU models (ie with MLP, and the standard GELU activations): gelu-1l, gelu-2l, gelu-3l, gelu-4l\n",
    "    * SoLU models (ie with MLP, and [Anthropic's SoLU activation](https://transformer-circuits.pub/2022/solu/index.html), designed to make MLP neurons more interpretable): solu-1l, solu-2l, solu-3l, solu-4l\n",
    "    * All models are trained on 22B tokens of data, 80% from C4 (web text) and 20% from Python Code\n",
    "    * Models of the same layer size were trained with the same weight initialization and data shuffle, to more directly compare the effect of different activation functions.\n",
    "* **SoLU** models: A larger scan of models trained with [Anthropic's SoLU activation](https://transformer-circuits.pub/2022/solu/index.html), in the hopes that it makes the MLP neuron interpretability easier. \n",
    "    * A scan up to GPT-2 Medium size, trained on 30B tokens of the same data as toy models, 80% from C4 and 20% from Python code. \n",
    "        * solu-6l (40M), solu-8l (100M), solu-10l (200M), solu-12l (340M)\n",
    "    * An older scan up to GPT-2 Medium size, trained on 15B tokens of [the Pile](https://pile.eleuther.ai/)\n",
    "        * solu-1l-pile (13M), solu-2l-pile (13M), solu-4l-pile (13M), solu-6l-pile (40M), solu-8l-pile (100M), solu-10l-pile (200M), solu-12l-pile (340M)"
   ]
  },
  {
   "cell_type": "markdown",
   "metadata": {},
   "source": [
    "## Other Resources:\n",
    "\n",
    "* [Concrete Steps to Get Started in Mechanistic Interpretability](https://neelnanda.io/getting-started): A guide I wrote for how to get involved in mechanistic interpretability, and how to learn the basic skills\n",
    "* [A Comprehensive Mechanistic Interpretability Explainer](https://neelnanda.io/glossary): An overview of concepts in the field and surrounding ideas in ML and transformers, with long digressions to give context and build intuitions.\n",
    "* [Concrete Open Problems in Mechanistic Interpretability](https://neelnanda.io/concrete-open-problems), a doc I wrote giving a long list of open problems in mechanistic interpretability, and thoughts on how to get started on trying to work on them. \n",
    "    * There's a lot of low-hanging fruit in the field, and I expect that many people reading this could use TransformerLens to usefully make progress on some of these!\n",
    "* Other demos:\n",
    "    * **[Exploratory Analysis Demo](https://neelnanda.io/exploratory-analysis-demo)**, a demonstration of my standard toolkit for how to use TransformerLens to explore a mysterious behaviour in a language model.\n",
    "    * [Interpretability in the Wild](https://github.com/redwoodresearch/Easy-Transformer) a codebase from Arthur Conmy and Alex Variengien at Redwood research using this library to do a detailed and rigorous reverse engineering of the Indirect Object Identification circuit, to accompany their paper\n",
    "        * Note - this was based on an earlier version of this library, called EasyTransformer. It's pretty similar, but several breaking changes have been made since. \n",
    "    * A [recorded walkthrough](https://www.youtube.com/watch?v=yo4QvDn-vsU) of me doing research with TransformerLens on whether a tiny model can re-derive positional information, with [an accompanying Colab](https://colab.research.google.com/github/neelnanda-io/TransformerLens/blob/main/No_Position_Experiment.ipynb)\n",
    "* [Neuroscope](https://neuroscope.io), a website showing the text in the dataset that most activates each neuron in some selected models. Good to explore to get a sense for what kind of features the model tends to represent, and as a \"wiki\" to get some info\n",
    "    * A tutorial on how to make an [Interactive Neuroscope](https://github.com/neelnanda-io/TransformerLens/blob/main/Hacky-Interactive-Lexoscope.ipynb), where you type in text and see the neuron activations over the text update live."
   ]
  },
  {
   "cell_type": "markdown",
   "metadata": {},
   "source": [
    "## Transformer architecture\n",
    "\n",
    "HookedTransformer is a somewhat adapted GPT-2 architecture, but is computationally identical. The most significant changes are to the internal structure of the attention heads: \n",
    "* The weights (W_K, W_Q, W_V) mapping the residual stream to queries, keys and values are 3 separate matrices, rather than big concatenated one.\n",
    "* The weight matrices (W_K, W_Q, W_V, W_O) and activations (keys, queries, values, z (values mixed by attention pattern)) have separate head_index and d_head axes, rather than flattening them into one big axis.\n",
    "    * The activations all have shape `[batch, position, head_index, d_head]`\n",
    "    * W_K, W_Q, W_V have shape `[head_index, d_model, d_head]` and W_O has shape `[head_index, d_head, d_model]`\n",
    "\n",
    "The actual code is a bit of a mess, as there's a variety of Boolean flags to make it consistent with the various different model families in TransformerLens - to understand it and the internal structure, I instead recommend reading the code in [CleanTransformerDemo](https://colab.research.google.com/github/neelnanda-io/TransformerLens/blob/clean-transformer-demo/Clean_Transformer_Demo.ipynb)"
   ]
  },
  {
   "cell_type": "markdown",
   "metadata": {},
   "source": [
    "### Parameter Names\n",
    "\n",
    "Here is a list of the parameters and shapes in the model. By convention, all weight matrices multiply on the right (ie `new_activation = old_activation @ weights + bias`). \n",
    "\n",
    "Reminder of the key hyper-params:\n",
    "* `n_layers`: 12. The number of transformer blocks in the model (a block contains an attention layer and an MLP layer)\n",
    "* `n_heads`: 12. The number of attention heads per attention layer\n",
    "* `d_model`: 768. The residual stream width.\n",
    "* `d_head`: 64. The internal dimension of an attention head activation.\n",
    "* `d_mlp`: 3072. The internal dimension of the MLP layers (ie the number of neurons).\n",
    "* `d_vocab`: 50267. The number of tokens in the vocabulary.\n",
    "* `n_ctx`: 1024. The maximum number of tokens in an input prompt.\n"
   ]
  },
  {
   "cell_type": "markdown",
   "metadata": {},
   "source": [
    "**Transformer Block parameters:** \n",
    "Replace 0 with the relevant layer index."
   ]
  },
  {
   "cell_type": "code",
   "execution_count": 19,
   "metadata": {},
   "outputs": [
    {
     "name": "stdout",
     "output_type": "stream",
     "text": [
      "blocks.0.attn.W_Q torch.Size([12, 768, 64])\n",
      "blocks.0.attn.W_K torch.Size([12, 768, 64])\n",
      "blocks.0.attn.W_V torch.Size([12, 768, 64])\n",
      "blocks.0.attn.W_O torch.Size([12, 64, 768])\n",
      "blocks.0.attn.b_Q torch.Size([12, 64])\n",
      "blocks.0.attn.b_K torch.Size([12, 64])\n",
      "blocks.0.attn.b_V torch.Size([12, 64])\n",
      "blocks.0.attn.b_O torch.Size([768])\n",
      "blocks.0.mlp.W_in torch.Size([768, 3072])\n",
      "blocks.0.mlp.b_in torch.Size([3072])\n",
      "blocks.0.mlp.W_out torch.Size([3072, 768])\n",
      "blocks.0.mlp.b_out torch.Size([768])\n"
     ]
    }
   ],
   "source": [
    "for name, param in model.named_parameters():\n",
    "    if name.startswith(\"blocks.0.\"):\n",
    "        print(name, param.shape)"
   ]
  },
  {
   "cell_type": "markdown",
   "metadata": {},
   "source": [
    "**Embedding & Unembedding parameters:**"
   ]
  },
  {
   "cell_type": "code",
   "execution_count": 20,
   "metadata": {},
   "outputs": [
    {
     "name": "stdout",
     "output_type": "stream",
     "text": [
      "embed.W_E torch.Size([50257, 768])\n",
      "pos_embed.W_pos torch.Size([1024, 768])\n",
      "unembed.W_U torch.Size([768, 50257])\n",
      "unembed.b_U torch.Size([50257])\n"
     ]
    }
   ],
   "source": [
    "for name, param in model.named_parameters():\n",
    "    if not name.startswith(\"blocks\"):\n",
    "        print(name, param.shape)"
   ]
  },
  {
   "cell_type": "markdown",
   "metadata": {},
   "source": [
    "### Activation + Hook Names\n",
    "\n",
    "Lets get out a list of the activation/hook names in the model and their shapes. In practice, I recommend using the `utils.get_act_name` function to get the names, but this is a useful fallback, and necessary to eg write a name filter function.\n",
    "\n",
    "Let's do this by entering in a short, 10 token prompt, and add a hook function to each activations to print its name and shape. To avoid spam, let's just add this to activations in the first block or not in a block.\n",
    "\n",
    "Note 1: Each LayerNorm has a hook for the scale factor (ie the standard deviation of the input activations for each token position & batch element) and for the normalized output (ie the input activation with mean 0 and standard deviation 1, but *before* applying scaling or translating with learned weights). LayerNorm is applied every time a layer reads from the residual stream: `ln1` is the LayerNorm before the attention layer in a block, `ln2` the one before the MLP layer, and `ln_final` is the LayerNorm before the unembed. \n",
    "\n",
    "Note 2: *Every* activation apart from the attention pattern and attention scores has shape beginning with `[batch, position]`. The attention pattern and scores have shape `[batch, head_index, dest_position, source_position]` (the numbers are the same, unless we're using caching)."
   ]
  },
  {
   "cell_type": "code",
   "execution_count": 21,
   "metadata": {},
   "outputs": [
    {
     "name": "stdout",
     "output_type": "stream",
     "text": [
      "Num tokens: 10\n",
      "hook_embed torch.Size([1, 10, 768])\n",
      "hook_pos_embed torch.Size([1, 10, 768])\n",
      "blocks.0.hook_resid_pre torch.Size([1, 10, 768])\n",
      "blocks.0.ln1.hook_scale torch.Size([1, 10, 1])\n",
      "blocks.0.ln1.hook_normalized torch.Size([1, 10, 768])\n",
      "blocks.0.ln1.hook_scale torch.Size([1, 10, 1])\n",
      "blocks.0.ln1.hook_normalized torch.Size([1, 10, 768])\n",
      "blocks.0.ln1.hook_scale torch.Size([1, 10, 1])\n",
      "blocks.0.ln1.hook_normalized torch.Size([1, 10, 768])\n",
      "blocks.0.attn.hook_q torch.Size([1, 10, 12, 64])\n",
      "blocks.0.attn.hook_k torch.Size([1, 10, 12, 64])\n",
      "blocks.0.attn.hook_v torch.Size([1, 10, 12, 64])\n",
      "blocks.0.attn.hook_attn_scores torch.Size([1, 12, 10, 10])\n",
      "blocks.0.attn.hook_pattern torch.Size([1, 12, 10, 10])\n",
      "blocks.0.attn.hook_z torch.Size([1, 10, 12, 64])\n",
      "blocks.0.hook_attn_out torch.Size([1, 10, 768])\n",
      "blocks.0.hook_resid_mid torch.Size([1, 10, 768])\n",
      "blocks.0.ln2.hook_scale torch.Size([1, 10, 1])\n",
      "blocks.0.ln2.hook_normalized torch.Size([1, 10, 768])\n",
      "blocks.0.mlp.hook_pre torch.Size([1, 10, 3072])\n",
      "blocks.0.mlp.hook_post torch.Size([1, 10, 3072])\n",
      "blocks.0.hook_mlp_out torch.Size([1, 10, 768])\n",
      "blocks.0.hook_resid_post torch.Size([1, 10, 768])\n",
      "ln_final.hook_scale torch.Size([1, 10, 1])\n",
      "ln_final.hook_normalized torch.Size([1, 10, 768])\n"
     ]
    }
   ],
   "source": [
    "test_prompt = \"The quick brown fox jumped over the lazy dog\"\n",
    "print(\"Num tokens:\", len(model.to_tokens(test_prompt)[0]))\n",
    "\n",
    "def print_name_shape_hook_function(activation, hook):\n",
    "    print(hook.name, activation.shape)\n",
    "\n",
    "not_in_late_block_filter = lambda name: name.startswith(\"blocks.0.\") or not name.startswith(\"blocks\")\n",
    "\n",
    "model.run_with_hooks(\n",
    "    test_prompt,\n",
    "    return_type=None,\n",
    "    fwd_hooks=[(not_in_late_block_filter, print_name_shape_hook_function)],\n",
    ")"
   ]
  },
  {
   "cell_type": "markdown",
   "metadata": {},
   "source": [
    "### Folding LayerNorm (For the Curious)"
   ]
  },
  {
   "cell_type": "markdown",
   "metadata": {},
   "source": [
    "(For the curious - this is an important technical detail that's worth understanding, especially if you have preconceptions about how transformers work, but not necessary to use TransformerLens)\n",
    "\n",
    "LayerNorm is a normalization technique used by transformers, analogous to BatchNorm but more friendly to massive parallelisation. No one *really* knows why it works, but it seems to improve model numerical stability. Unlike BatchNorm, LayerNorm actually changes the functional form of the model, which makes it a massive pain for interpretability! \n",
    "\n",
    "Folding LayerNorm is a technique to make it lower overhead to deal with, and the flags `center_writing_weights` and `fold_ln` in `HookedTransformer.from_pretrained` apply this automatically (they default to True). These simplify the internal structure without changing the weights.\n",
    "\n",
    "Intuitively, LayerNorm acts on each residual stream vector (ie for each batch element and token position) independently, sets their mean to 0 (centering) and standard deviation to 1 (normalizing) (*across* the residual stream dimension - very weird!), and then applies a learned elementwise scaling and translation to each vector.\n",
    "\n",
    "Mathematically, centering is a linear map, normalizing is *not* a linear map, and scaling and translation are linear maps. \n",
    "* **Centering:** LayerNorm is applied every time a layer reads from the residual stream, so the mean of any residual stream vector can never matter - `center_writing_weights` set every weight matrix writing to the residual to have zero mean. \n",
    "* **Normalizing:** Normalizing is not a linear map, and cannot be factored out. The `hook_scale` hook point lets you access and control for this.\n",
    "* **Scaling and Translation:** Scaling and translation are linear maps, and are always followed by another linear map. The composition of two linear maps is another linear map, so we can *fold* the scaling and translation weights into the weights of the subsequent layer, and simplify things without changing the underlying computation. \n",
    "\n",
    "[See the docs for more details](https://github.com/neelnanda-io/TransformerLens/blob/main/further_comments.md#what-is-layernorm-folding-fold_ln)"
   ]
  },
  {
   "cell_type": "markdown",
   "metadata": {},
   "source": [
    "A fun consequence of LayerNorm folding is that it creates a bias across the unembed, a `d_vocab` length vector that is added to the output logits - GPT-2 is not trained with this, but it *is* trained with a final LayerNorm that contains a bias. \n",
    "\n",
    "Turns out, this LayerNorm bias learns structure of the data that we can only see after folding! In particular, it essentially learns **unigram statistics** - rare tokens get suppressed, common tokens get boosted, by pretty dramatic degrees! Let's list the top and bottom 20 - at the top we see common punctuation and words like \" the\" and \" and\", at the bottom we see weird-ass tokens like \" RandomRedditor\":"
   ]
  },
  {
   "cell_type": "code",
   "execution_count": 22,
   "metadata": {},
   "outputs": [],
   "source": [
    "unembed_bias = model.unembed.b_U\n",
    "bias_values, bias_indices = unembed_bias.sort(descending=True)"
   ]
  },
  {
   "cell_type": "code",
   "execution_count": 23,
   "metadata": {},
   "outputs": [
    {
     "name": "stdout",
     "output_type": "stream",
     "text": [
      "Top 20 values\n",
      "7.03 ','\n",
      "6.98 ' the'\n",
      "6.68 ' and'\n",
      "6.49 '.'\n",
      "6.48 '\\n'\n",
      "6.47 ' a'\n",
      "6.41 ' in'\n",
      "6.25 ' to'\n",
      "6.16 ' of'\n",
      "6.04 '-'\n",
      "6.03 ' ('\n",
      "5.88 ' \"'\n",
      "5.80 ' for'\n",
      "5.72 ' that'\n",
      "5.64 ' on'\n",
      "5.59 ' is'\n",
      "5.52 ' as'\n",
      "5.49 ' at'\n",
      "5.45 ' with'\n",
      "5.44 ' or'\n",
      "...\n",
      "Bottom 20 values\n",
      "-3.82 ' サーティ'\n",
      "-3.83 '\\x18'\n",
      "-3.83 '\\x14'\n",
      "-3.83 ' RandomRedditor'\n",
      "-3.83 '龍�'\n",
      "-3.83 '�'\n",
      "-3.83 '\\x1b'\n",
      "-3.83 '�'\n",
      "-3.83 '\\x05'\n",
      "-3.83 '\\x00'\n",
      "-3.83 '\\x06'\n",
      "-3.83 '\\x07'\n",
      "-3.83 '\\x0c'\n",
      "-3.83 '\\x02'\n",
      "-3.83 'oreAndOnline'\n",
      "-3.84 '\\x11'\n",
      "-3.84 '�'\n",
      "-3.84 '\\x10'\n",
      "-3.84 '�'\n",
      "-3.84 '�'\n"
     ]
    }
   ],
   "source": [
    "top_k = 20\n",
    "print(f\"Top {top_k} values\")\n",
    "for i in range(top_k):\n",
    "    print(f\"{bias_values[i].item():.2f} {repr(model.to_string(bias_indices[i]))}\")\n",
    "\n",
    "print(\"...\")\n",
    "print(f\"Bottom {top_k} values\")\n",
    "for i in range(top_k, 0, -1):\n",
    "    print(f\"{bias_values[-i].item():.2f} {repr(model.to_string(bias_indices[-i]))}\")"
   ]
  },
  {
   "cell_type": "markdown",
   "metadata": {},
   "source": [
    "This can have real consequences for interpretability - for example, this bias favours \" John\" over \" Mary\" by about 1.2, about 1/3 of the effect size of the Indirect Object Identification Circuit! All other things being the same, this makes the John token 3.6x times more likely than the Mary token."
   ]
  },
  {
   "cell_type": "code",
   "execution_count": 24,
   "metadata": {},
   "outputs": [
    {
     "name": "stdout",
     "output_type": "stream",
     "text": [
      "John bias: 2.8995\n",
      "Mary bias: 1.6034\n",
      "Prob ratio bias: 3.6550x\n"
     ]
    }
   ],
   "source": [
    "john_bias = model.unembed.b_U[model.to_single_token(' John')]\n",
    "mary_bias = model.unembed.b_U[model.to_single_token(' Mary')]\n",
    "\n",
    "print(f\"John bias: {john_bias.item():.4f}\")\n",
    "print(f\"Mary bias: {mary_bias.item():.4f}\")\n",
    "print(f\"Prob ratio bias: {torch.exp(john_bias - mary_bias).item():.4f}x\")"
   ]
  },
  {
   "cell_type": "markdown",
   "metadata": {},
   "source": [
    "# Features\n",
    "\n",
    "An overview of some other important features of the library. I recommend checking out the [Exploratory Analysis Demo](https://colab.research.google.com/github/neelnanda-io/Easy-Transformer/blob/main/Exploratory_Analysis_Demo.ipynb) for some other important features not mentioned here, and for a demo of what using the library in practice looks like."
   ]
  },
  {
   "cell_type": "markdown",
   "metadata": {},
   "source": [
    "## Dealing with tokens\n",
    "\n",
    "**Tokenization** is one of the most annoying features of studying language models. We want language models to be able to take in arbitrary text as input, but the transformer architecture needs the inputs to be elements of a fixed, finite vocabulary. The solution to this is **tokens**, a fixed vocabulary of \"sub-words\", that any natural language can be broken down into with a **tokenizer**. This is invertible, and we can recover the original text, called **de-tokenization**. \n",
    "\n",
    "TransformerLens comes with a range of utility functions to deal with tokenization. Different models can have different tokenizers, so these are all methods on the model.\n",
    "\n",
    "get_token_position, to_tokens, to_string, to_str_tokens, prepend_bos, to_single_token"
   ]
  },
  {
   "cell_type": "markdown",
   "metadata": {},
   "source": [
    "The first thing you need to figure out is *how* things are tokenized. `model.to_str_tokens` splits a string into the tokens *as a list of substrings*, and so lets you explore what the text looks like. To demonstrate this, let's use it on this paragraph.\n",
    "\n",
    "Some observations - there are a lot of arbitrary-ish details in here!\n",
    "* The tokenizer splits on spaces, so no token contains two words.\n",
    "* Tokens include the preceding space, and whether the first token is a capital letter. `how` and ` how` are different tokens!\n",
    "* Common words are single tokens, even if fairly long (` paragraph`) while uncommon words are split into multiple tokens (` token|ized`).\n",
    "* Tokens *mostly* split on punctuation characters (eg `*` and `.`), but eg `'s` is a single token."
   ]
  },
  {
   "cell_type": "code",
   "execution_count": 25,
   "metadata": {},
   "outputs": [
    {
     "name": "stdout",
     "output_type": "stream",
     "text": [
      "['<|endoftext|>', 'The', ' first', ' thing', ' you', ' need', ' to', ' figure', ' out', ' is', ' *', 'how', '*', ' things', ' are', ' token', 'ized', '.', ' `', 'model', '.', 'to', '_', 'str', '_', 't', 'ok', 'ens', '`', ' splits', ' a', ' string', ' into', ' the', ' tokens', ' *', 'as', ' a', ' list', ' of', ' sub', 'strings', '*,', ' and', ' so', ' lets', ' you', ' explore', ' what', ' the', ' text', ' looks', ' like', '.', ' To', ' demonstrate', ' this', ',', ' let', \"'s\", ' use', ' it', ' on', ' this', ' paragraph', '.']\n"
     ]
    }
   ],
   "source": [
    "example_text = \"The first thing you need to figure out is *how* things are tokenized. `model.to_str_tokens` splits a string into the tokens *as a list of substrings*, and so lets you explore what the text looks like. To demonstrate this, let's use it on this paragraph.\"\n",
    "example_text_str_tokens = model.to_str_tokens(example_text)\n",
    "print(example_text_str_tokens)"
   ]
  },
  {
   "cell_type": "markdown",
   "metadata": {},
   "source": [
    "The transformer needs to take in a sequence of integers, not strings, so we need to convert these tokens into integers. `model.to_tokens` does this, and returns a tensor of integers on the model's device (shape `[batch, position]`). It maps a string to a batch of size 1."
   ]
  },
  {
   "cell_type": "code",
   "execution_count": 26,
   "metadata": {},
   "outputs": [
    {
     "name": "stdout",
     "output_type": "stream",
     "text": [
      "tensor([[50256,   464,   717,  1517,   345,   761,   284,  3785,   503,   318,\n",
      "          1635,  4919,     9,  1243,   389, 11241,  1143,    13,  4600, 19849,\n",
      "            13,  1462,    62,  2536,    62,    83,   482,   641,    63, 30778,\n",
      "           257,  4731,   656,   262, 16326,  1635,   292,   257,  1351,   286,\n",
      "           850, 37336, 25666,   290,   523,  8781,   345,  7301,   644,   262,\n",
      "          2420,  3073,   588,    13,  1675, 10176,   428,    11,  1309,   338,\n",
      "           779,   340,   319,   428,  7322,    13]])\n"
     ]
    }
   ],
   "source": [
    "example_text_tokens = model.to_tokens(example_text)\n",
    "print(example_text_tokens)"
   ]
  },
  {
   "cell_type": "markdown",
   "metadata": {},
   "source": [
    "`to_tokens` can also take in a list of strings, and return a batch of size `len(strings)`. If the strings are different numbers of tokens, it adds a PAD token to the end of the shorter strings to make them the same length.\n",
    "\n",
    "(Note: In GPT-2, 50256 signifies both the beginning of sequence, end of sequence and padding token - see the `prepend_bos` section for details)"
   ]
  },
  {
   "cell_type": "code",
   "execution_count": 27,
   "metadata": {},
   "outputs": [
    {
     "name": "stdout",
     "output_type": "stream",
     "text": [
      "tensor([[50256,   464,  3797,  3332,   319,   262,  2603,    13, 50256, 50256],\n",
      "        [50256,   464,  3797,  3332,   319,   262,  2603,  1107,  1327,    13]])\n"
     ]
    }
   ],
   "source": [
    "example_multi_text = [\"The cat sat on the mat.\", \"The cat sat on the mat really hard.\"]\n",
    "example_multi_text_tokens = model.to_tokens(example_multi_text)\n",
    "print(example_multi_text_tokens)"
   ]
  },
  {
   "cell_type": "markdown",
   "metadata": {},
   "source": [
    "`model.to_single_token` is a convenience function that takes in a string corresponding to a *single* token and returns the corresponding integer. This is useful for eg looking up the logit corresponding to a single token. \n",
    "\n",
    "For example, let's input `The cat sat on the mat.` to GPT-2, and look at the log prob predicting that the next token is ` The`. \n",
    "\n",
    "<details><summary>Technical notes</summary>\n",
    "\n",
    "Note that if we input a string to the model, it's implicitly converted to a string with `to_tokens`. \n",
    "\n",
    "Note further that the log probs have shape `[batch, position, d_vocab]==[1, 8, 50257]`, with a vector of log probs predicting the next token for *every* token position. GPT-2 uses causal attention which means heads can only look backwards (equivalently, information can only move forwards in the model.), so the log probs at position k are only a function of the first k tokens, and it can't just cheat and look at the k+1 th token. This structure lets it generate text more efficiently, and lets it treat every *token* as a training example, rather than every *sequence*.\n",
    "</details>"
   ]
  },
  {
   "cell_type": "code",
   "execution_count": 28,
   "metadata": {},
   "outputs": [
    {
     "name": "stdout",
     "output_type": "stream",
     "text": [
      "Probability tensor shape [batch, position, d_vocab] == torch.Size([1, 8, 50257])\n",
      "| The| probability: 11.98%\n"
     ]
    }
   ],
   "source": [
    "cat_text = \"The cat sat on the mat.\"\n",
    "cat_logits = model(cat_text)\n",
    "cat_probs = cat_logits.softmax(dim=-1)\n",
    "print(f\"Probability tensor shape [batch, position, d_vocab] == {cat_probs.shape}\")\n",
    "\n",
    "capital_the_token_index = model.to_single_token(\" The\")\n",
    "print(f\"| The| probability: {cat_probs[0, -1, capital_the_token_index].item():.2%}\")"
   ]
  },
  {
   "cell_type": "markdown",
   "metadata": {},
   "source": [
    "`model.to_string` is the inverse of `to_tokens` and maps a tensor of integers to a string or list of strings. It also works on integers and lists of integers.\n",
    "\n",
    "For example, let's look up token 256 (due to technical details of tokenization, this will be the most common pair of ASCII characters!), and also verify that our tokens above map back to a string."
   ]
  },
  {
   "cell_type": "code",
   "execution_count": 29,
   "metadata": {},
   "outputs": [
    {
     "name": "stdout",
     "output_type": "stream",
     "text": [
      "Token 256 - the most common pair of ASCII characters: | t|\n",
      "De-Tokenizing the example tokens: <|endoftext|>The first thing you need to figure out is *how* things are tokenized. `model.to_str_tokens` splits a string into the tokens *as a list of substrings*, and so lets you explore what the text looks like. To demonstrate this, let's use it on this paragraph.\n"
     ]
    }
   ],
   "source": [
    "print(f\"Token 256 - the most common pair of ASCII characters: |{model.to_string(256)}|\")\n",
    "# Squeeze means to remove dimensions of length 1. \n",
    "# Here, that removes the dummy batch dimension so it's a rank 1 tensor and returns a string\n",
    "# Rank 2 tensors map to a list of strings\n",
    "print(f\"De-Tokenizing the example tokens: {model.to_string(example_text_tokens.squeeze())}\")"
   ]
  },
  {
   "cell_type": "markdown",
   "metadata": {},
   "source": [
    "A related annoyance of tokenization is that it's hard to figure out how many tokens a string will break into. `model.get_token_position(single_token, tokens)` returns the position of `single_token` in `tokens`. `tokens` can be either a string or a tensor of tokens. \n",
    "\n",
    "Note that position is zero-indexed, it's two (ie third) because there's a beginning of sequence token automatically prepended (see the next section for details)"
   ]
  },
  {
   "cell_type": "code",
   "execution_count": 30,
   "metadata": {},
   "outputs": [
    {
     "name": "stdout",
     "output_type": "stream",
     "text": [
      "With BOS: 2\n",
      "Without BOS: 1\n"
     ]
    }
   ],
   "source": [
    "print(\"With BOS:\", model.get_token_position(\" cat\", \"The cat sat on the mat\"))\n",
    "print(\"Without BOS:\", model.get_token_position(\" cat\", \"The cat sat on the mat\", prepend_bos=False))"
   ]
  },
  {
   "cell_type": "markdown",
   "metadata": {},
   "source": [
    "If there are multiple copies of the token, we can set `mode=\"first\"` to find the first occurence's position and `mode=\"last\"` to find the last"
   ]
  },
  {
   "cell_type": "code",
   "execution_count": 31,
   "metadata": {},
   "outputs": [
    {
     "name": "stdout",
     "output_type": "stream",
     "text": [
      "First occurence 2\n",
      "Final occurence 13\n"
     ]
    }
   ],
   "source": [
    "print(\"First occurence\", model.get_token_position(\n",
    "    \" cat\", \n",
    "    \"The cat sat on the mat. The mat sat on the cat.\", \n",
    "    mode=\"first\"))\n",
    "print(\"Final occurence\", model.get_token_position(\n",
    "    \" cat\", \n",
    "    \"The cat sat on the mat. The mat sat on the cat.\", \n",
    "    mode=\"last\"))"
   ]
  },
  {
   "cell_type": "markdown",
   "metadata": {},
   "source": [
    "In general, tokenization is a pain, and full of gotchas. I highly recommend just playing around with different inputs and their tokenization and getting a feel for it. As another \"fun\" example, let's look at the tokenization of arithmetic expressions - tokens do *not* contain consistent numbers of digits. (This makes it even more impressive that GPT-3 can do arithmetic!)"
   ]
  },
  {
   "cell_type": "code",
   "execution_count": 32,
   "metadata": {},
   "outputs": [
    {
     "name": "stdout",
     "output_type": "stream",
     "text": [
      "['<|endoftext|>', '23', '42', '+', '2017', '=', '214', '45']\n",
      "['<|endoftext|>', '1000', '+', '1', '000000', '=', '9999', '99']\n"
     ]
    }
   ],
   "source": [
    "print(model.to_str_tokens(\"2342+2017=21445\"))\n",
    "print(model.to_str_tokens(\"1000+1000000=999999\"))"
   ]
  },
  {
   "cell_type": "markdown",
   "metadata": {},
   "source": [
    "I also *highly* recommend investigating prompts with easy tokenization when starting out - ideally key words should form a single token, be in the same position in different prompts, have the same total length, etc. Eg study Indirect Object Identification with common English names like ` Tim` rather than ` Ne|el`. Transformers need to spend some parameters in early layers converting multi-token words to a single feature, and then de-converting this in the late layers, and unless this is what you're explicitly investigating, this will make the behaviour you're investigating be messier."
   ]
  },
  {
   "cell_type": "markdown",
   "metadata": {},
   "source": [
    "### Gotcha: `prepend_bos`\n",
    "\n",
    "Key Takeaway: **If you get weird off-by-one errors, check whether there's an unexpected `prepend_bos`!**"
   ]
  },
  {
   "cell_type": "markdown",
   "metadata": {},
   "source": [
    "A weirdness you may have noticed in the above is that `to_tokens` and `to_str_tokens` added a weird `<|endoftext|>` to the start of each prompt. TransformerLens does this by default, and it can easily trip up new users. Notably, **this includes `model.forward`** (which is what's implicitly used when you do eg `model(\"Hello World\")`). This is called a **Beginning of Sequence (BOS)** token, and it's a special token used to mark the beginning of the sequence. Confusingly, in GPT-2, the End of Sequence (EOS), Beginning of Sequence (BOS) and Padding (PAD) tokens are all the same, `<|endoftext|>` with index `50256`.\n",
    "\n",
    "You can disable this behaviour by setting the flag `prepend_bos=False` in `to_tokens`, `to_str_tokens`, `model.forward` and any other function that converts strings to multi-token tensors. \n",
    "\n",
    "**Gotcha:** You only want to do this at the *start* of a prompt. If you, eg, want to input a question followed by an answer, and want to tokenize these separately, you do *not* want to prepend_bos on the answer."
   ]
  },
  {
   "cell_type": "code",
   "execution_count": 33,
   "metadata": {},
   "outputs": [
    {
     "name": "stdout",
     "output_type": "stream",
     "text": [
      "Logits shape by default (with BOS) torch.Size([1, 3, 50257])\n",
      "Logits shape with BOS torch.Size([1, 3, 50257])\n",
      "Logits shape without BOS - only 2 positions! torch.Size([1, 2, 50257])\n"
     ]
    }
   ],
   "source": [
    "print(\"Logits shape by default (with BOS)\", model(\"Hello World\").shape)\n",
    "print(\"Logits shape with BOS\", model(\"Hello World\", prepend_bos=True).shape)\n",
    "print(\"Logits shape without BOS - only 2 positions!\", model(\"Hello World\", prepend_bos=False).shape)"
   ]
  },
  {
   "cell_type": "markdown",
   "metadata": {},
   "source": [
    "`prepend_bos` is a bit of a hack, and I've gone back and forth on what the correct default here is. The reason I do this is that transformers tend to treat the first token weirdly - this doesn't really matter in training (where all inputs are >1000 tokens), but this can be a big issue when investigating short prompts! The reason for this is that attention patterns are a probability distribution and so need to add up to one, so to simulate being \"off\" they normally look at the first token. Giving them a BOS token lets the heads rest by looking at that, preserving the information in the first \"real\" token.\n",
    "\n",
    "Further, *some* models are trained to need a BOS token (OPT and my interpretability-friendly models are, GPT-2 and GPT-Neo are not). But despite GPT-2 not being trained with this, empirically it seems to make interpretability easier.\n",
    "\n",
    "For example, the model can get much worse at Indirect Object Identification without a BOS (and with a name as the first token):"
   ]
  },
  {
   "cell_type": "code",
   "execution_count": 34,
   "metadata": {},
   "outputs": [
    {
     "name": "stdout",
     "output_type": "stream",
     "text": [
      "Logit difference with BOS: 6.754\n",
      "Logit difference without BOS: 2.782\n"
     ]
    }
   ],
   "source": [
    "ioi_logits_with_bos = model(\"Claire and Mary went to the shops, then Mary gave a bottle of milk to\", prepend_bos=True)\n",
    "mary_logit_with_bos = ioi_logits_with_bos[0, -1, model.to_single_token(\" Mary\")].item()\n",
    "claire_logit_with_bos = ioi_logits_with_bos[0, -1, model.to_single_token(\" Claire\")].item()\n",
    "print(f\"Logit difference with BOS: {(claire_logit_with_bos - mary_logit_with_bos):.3f}\")\n",
    "\n",
    "ioi_logits_without_bos = model(\"Claire and Mary went to the shops, then Mary gave a bottle of milk to\", prepend_bos=False)\n",
    "mary_logit_without_bos = ioi_logits_without_bos[0, -1, model.to_single_token(\" Mary\")].item()\n",
    "claire_logit_without_bos = ioi_logits_without_bos[0, -1, model.to_single_token(\" Claire\")].item()\n",
    "print(f\"Logit difference without BOS: {(claire_logit_without_bos - mary_logit_without_bos):.3f}\")"
   ]
  },
  {
   "cell_type": "markdown",
   "metadata": {},
   "source": [
    "Though, note that this also illustrates another gotcha - when `Claire` is at the start of a sentence (no preceding space), it's actually *two* tokens, not one, which probably confuses the relevant circuit. (Note - in this test we put `prepend_bos=False`, because we want to analyse the tokenization of a specific string, not to give an input to the model!)"
   ]
  },
  {
   "cell_type": "code",
   "execution_count": 35,
   "metadata": {},
   "outputs": [
    {
     "name": "stdout",
     "output_type": "stream",
     "text": [
      "| Claire| -> [' Claire']\n",
      "|Claire| -> ['Cl', 'aire']\n"
     ]
    }
   ],
   "source": [
    "print(f\"| Claire| -> {model.to_str_tokens(' Claire', prepend_bos=False)}\")\n",
    "print(f\"|Claire| -> {model.to_str_tokens('Claire', prepend_bos=False)}\")"
   ]
  },
  {
   "cell_type": "markdown",
   "metadata": {},
   "source": [
    "## Factored Matrix Class\n",
    "\n",
    "In transformer interpretability, we often need to analyse low rank factorized matrices - a matrix $M = AB$, where M is `[large, large]`, but A is `[large, small]` and B is `[small, large]`. This is a common structure in transformers, and the `FactoredMatrix` class is a convenient way to work with these. It implements efficient algorithms for various operations on these, such as computing the trace, eigenvalues, Frobenius norm, singular value decomposition, and products with other matrices. It can (approximately) act as a drop-in replacement for the original matrix, and supports leading batch dimensions to the factored matrix. \n",
    "\n",
    "<details><summary>Why are low-rank factorized matrices useful for transformer interpretability?</summary>\n",
    "\n",
    "As argued in [A Mathematical Framework](https://transformer-circuits.pub/2021/framework/index.html), an unexpected fact about transformer attention heads is that rather than being best understood as keys, queries and values (and the requisite weight matrices), they're actually best understood as two low rank factorized matrices. \n",
    "* **Where to move information from:** $W_QK = W_Q W_K^T$, used for determining the attention pattern - what source positions to move information from and what destination positions to move them to.\n",
    "    * Intuitively, residual stream -> query and residual stream -> key are linear maps, *and* `attention_score = query @ key.T` is a linear map, so the whole thing can be factored into one big bilinear form `residual @ W_QK @ residual.T`\n",
    "* **What information to move:** $W_OV = W_V W_O$, used to determine what information to copy from the source position to the destination position (weighted by the attention pattern weight from that destination to that source). \n",
    "    * Intuitively, the residual stream is a `[position, d_model]` tensor (ignoring batch). The attention pattern acts on the *position* dimension (where to move information from and to) and the value and output weights act on the *d_model* dimension - ie *what* information is contained at that source position. So we can factor it all into `attention_pattern @ residual @ W_V @ W_O`, and so only need to care about `W_OV = W_V @ W_O`\n",
    "* Note - the internal head dimension is smaller than the residual stream dimension, so the factorization is low rank. (here, `d_model=768` and `d_head=64`)\n",
    "</details>"
   ]
  },
  {
   "cell_type": "markdown",
   "metadata": {},
   "source": [
    "### Basic Examples"
   ]
  },
  {
   "cell_type": "markdown",
   "metadata": {},
   "source": [
    "We can use the basic class directly - let's make a factored matrix directly and look at the basic operations:"
   ]
  },
  {
   "cell_type": "code",
   "execution_count": 36,
   "metadata": {},
   "outputs": [
    {
     "name": "stdout",
     "output_type": "stream",
     "text": [
      "Norms:\n",
      "tensor(8.8451)\n",
      "tensor(8.8451)\n",
      "Right dimension: 5, Left dimension: 5, Hidden dimension: 2\n"
     ]
    }
   ],
   "source": [
    "A = torch.randn(5, 2)\n",
    "B = torch.randn(2, 5)\n",
    "AB = A @ B\n",
    "AB_factor = FactoredMatrix(A, B)\n",
    "print(\"Norms:\")\n",
    "print(AB.norm())\n",
    "print(AB_factor.norm())\n",
    "\n",
    "print(f\"Right dimension: {AB_factor.rdim}, Left dimension: {AB_factor.ldim}, Hidden dimension: {AB_factor.mdim}\")"
   ]
  },
  {
   "cell_type": "markdown",
   "metadata": {},
   "source": [
    "We can also look at the eigenvalues and singular values of the matrix. Note that, because the matrix is rank 2 but 5 by 5, the final 3 eigenvalues and singular values are zero - the factored class omits the zeros."
   ]
  },
  {
   "cell_type": "code",
   "execution_count": 37,
   "metadata": {},
   "outputs": [
    {
     "name": "stdout",
     "output_type": "stream",
     "text": [
      "Eigenvalues:\n",
      "tensor([ 1.0705e+00+0.j,  2.6822e-07+0.j, -1.6274e+00+0.j,  1.1974e-07+0.j,\n",
      "         3.5007e-07+0.j])\n",
      "tensor([-1.6274+0.j,  1.0705+0.j])\n",
      "\n",
      "Singular Values:\n",
      "tensor([8.5726e+00, 2.1788e+00, 1.9429e-07, 1.6590e-07, 7.6696e-09])\n",
      "tensor([8.5726, 2.1788])\n"
     ]
    }
   ],
   "source": [
    "print(\"Eigenvalues:\")\n",
    "print(torch.linalg.eig(AB).eigenvalues)\n",
    "print(AB_factor.eigenvalues)\n",
    "print()\n",
    "print(\"Singular Values:\")\n",
    "print(torch.linalg.svd(AB).S)\n",
    "print(AB_factor.S)"
   ]
  },
  {
   "cell_type": "markdown",
   "metadata": {},
   "source": [
    "We can multiply with other matrices - it automatically chooses the smallest possible dimension to factor along (here it's 2, rather than 5)"
   ]
  },
  {
   "cell_type": "code",
   "execution_count": 38,
   "metadata": {},
   "outputs": [
    {
     "name": "stdout",
     "output_type": "stream",
     "text": [
      "Unfactored: torch.Size([5, 300]) tensor(152.9181)\n",
      "Factored: torch.Size([5, 300]) tensor(152.9181)\n",
      "Right dimension: 300, Left dimension: 5, Hidden dimension: 2\n"
     ]
    }
   ],
   "source": [
    "C = torch.randn(5, 300)\n",
    "ABC = AB @ C\n",
    "ABC_factor = AB_factor @ C\n",
    "print(\"Unfactored:\", ABC.shape, ABC.norm())\n",
    "print(\"Factored:\", ABC_factor.shape, ABC_factor.norm())\n",
    "print(f\"Right dimension: {ABC_factor.rdim}, Left dimension: {ABC_factor.ldim}, Hidden dimension: {ABC_factor.mdim}\")"
   ]
  },
  {
   "cell_type": "markdown",
   "metadata": {},
   "source": [
    "If we want to collapse this back to an unfactored matrix, we can use the AB property to get the product:"
   ]
  },
  {
   "cell_type": "code",
   "execution_count": 39,
   "metadata": {},
   "outputs": [
    {
     "name": "stdout",
     "output_type": "stream",
     "text": [
      "tensor(True)\n"
     ]
    }
   ],
   "source": [
    "AB_unfactored = AB_factor.AB\n",
    "print(torch.isclose(AB_unfactored, AB).all())"
   ]
  },
  {
   "cell_type": "markdown",
   "metadata": {},
   "source": [
    "### Medium Example: Eigenvalue Copying Scores\n",
    "\n",
    "(This is a more involved example of how to use the factored matrix class, skip it if you aren't following)\n",
    "\n",
    "For a more involved example, let's look at the eigenvalue copying score from [A Mathematical Framework](https://transformer-circuits.pub/2021/framework/index.html) of the OV circuit for various heads. The OV Circuit for a head (the factorised matrix $W_OV = W_V W_O$) is a linear map that determines what information is moved from the source position to the destination position. Because this is low rank, it can be thought of as *reading in* some low rank subspace of the source residual stream and *writing to* some low rank subspace of the destination residual stream (with maybe some processing happening in the middle).\n",
    "\n",
    "A common operation for this will just be to *copy*, ie to have the same reading and writing subspace, and to do minimal processing in the middle. Empirically, this tends to coincide with the OV Circuit having (approximately) positive real eigenvalues. I mostly assert this as an empirical fact, but intuitively, operations that involve mapping eigenvectors to different directions (eg rotations) tend to have complex eigenvalues. And operations that preserve eigenvector direction but negate it tend to have negative real eigenvalues. And \"what happens to the eigenvectors\" is a decent proxy for what happens to an arbitrary vector.\n",
    "\n",
    "We can get a score for \"how positive real the OV circuit eigenvalues are\" with $\\frac{\\sum \\lambda_i}{\\sum |\\lambda_i|}$, where $\\lambda_i$ are the eigenvalues of the OV circuit. This is a bit of a hack, but it seems to work well in practice."
   ]
  },
  {
   "cell_type": "markdown",
   "metadata": {},
   "source": [
    "Let's use FactoredMatrix to compute this for every head in the model! We use the helper `model.OV` to get the concatenated OV circuits for all heads across all layers in the model. This has the shape `[n_layers, n_heads, d_model, d_model]`, where `n_layers` and `n_heads` are batch dimensions and the final two dimensions are factorised as `[n_layers, n_heads, d_model, d_head]` and `[n_layers, n_heads, d_head, d_model]` matrices.\n",
    "\n",
    "We can then get the eigenvalues for this, where there are separate eigenvalues for each element of the batch (a `[n_layers, n_heads, d_head]` tensor of complex numbers), and calculate the copying score."
   ]
  },
  {
   "cell_type": "code",
   "execution_count": 43,
   "metadata": {},
   "outputs": [
    {
     "name": "stdout",
     "output_type": "stream",
     "text": [
      "FactoredMatrix: Shape(torch.Size([12, 12, 768, 768])), Hidden Dim(64)\n"
     ]
    }
   ],
   "source": [
    "OV_circuit_all_heads = model.OV\n",
    "print(OV_circuit_all_heads)"
   ]
  },
  {
   "cell_type": "code",
   "execution_count": 44,
   "metadata": {},
   "outputs": [
    {
     "name": "stdout",
     "output_type": "stream",
     "text": [
      "torch.Size([12, 12, 64])\n",
      "torch.complex64\n"
     ]
    }
   ],
   "source": [
    "OV_circuit_all_heads_eigenvalues = OV_circuit_all_heads.eigenvalues \n",
    "print(OV_circuit_all_heads_eigenvalues.shape)\n",
    "print(OV_circuit_all_heads_eigenvalues.dtype)"
   ]
  },
  {
   "cell_type": "code",
   "execution_count": 45,
   "metadata": {},
   "outputs": [
    {
     "data": {
      "text/html": [
       "<html>\n",
       "<head><meta charset=\"utf-8\" /></head>\n",
       "<body>\n",
       "    <div>            <script src=\"https://cdnjs.cloudflare.com/ajax/libs/mathjax/2.7.5/MathJax.js?config=TeX-AMS-MML_SVG\"></script><script type=\"text/javascript\">if (window.MathJax && window.MathJax.Hub && window.MathJax.Hub.Config) {window.MathJax.Hub.Config({SVG: {font: \"STIX-Web\"}});}</script>                <script type=\"text/javascript\">window.PlotlyConfig = {MathJaxConfig: 'local'};</script>\n",
       "        <script src=\"https://cdn.plot.ly/plotly-2.16.1.min.js\"></script>                <div id=\"b1f0b6f8-feff-4327-9887-a72135ec4411\" class=\"plotly-graph-div\" style=\"height:525px; width:100%;\"></div>            <script type=\"text/javascript\">                                    window.PLOTLYENV=window.PLOTLYENV || {};                                    if (document.getElementById(\"b1f0b6f8-feff-4327-9887-a72135ec4411\")) {                    Plotly.newPlot(                        \"b1f0b6f8-feff-4327-9887-a72135ec4411\",                        [{\"coloraxis\":\"coloraxis\",\"name\":\"0\",\"z\":[[0.777501,0.3527268,0.2596186,0.66702574,0.8384258,0.5584432,0.8444747,0.41379097,0.24488935,0.028157508,0.35840985,0.16288288],[-0.4541911,-0.6529327,-0.548457,-0.79903686,-0.7736425,-0.85225815,0.97743237,0.6626251,-0.73032224,-0.70070213,-0.6946625,-0.99967235],[-0.78371626,0.89677584,0.4750953,-0.6671974,0.7881463,-0.854775,-0.9054185,-0.57493836,-0.32175106,-0.028594071,-0.92476183,-0.9699269],[0.58640355,-0.7614349,0.59716946,0.7854394,-0.87888825,0.39087448,0.04473867,0.11028006,-0.8169987,0.22129549,-0.99395794,0.5774401],[0.52547896,0.30490145,-0.1072914,0.94331515,-0.931443,0.5273629,-0.4264709,-0.9984429,0.52967566,0.8604294,-0.88950515,0.955697],[0.66291875,0.42956945,0.9736858,0.65554816,0.12201875,0.7442768,0.5037956,0.95253587,-0.65071666,-0.931628,0.97915107,-0.99725866],[0.9613031,0.75017786,-0.38066593,0.64297867,0.95577693,-0.9428839,-0.994808,0.7852987,0.9657302,0.70730156,0.36872303,0.81280106],[0.9659483,0.9730121,0.3190061,-0.30290532,0.97909546,0.9357923,-0.5550317,-0.00546646,0.9867777,0.82495666,0.5664299,0.10005281],[-0.9464487,-0.2547201,0.6522326,0.14152558,0.98841417,0.98605835,0.6949271,0.9901811,0.97912025,-0.2359553,-0.98207104,0.65066874],[0.9895943,-0.29178143,0.9714024,0.9951602,0.18783762,-0.94609374,0.47801915,-0.24891911,0.94370985,0.11866241,0.99412435,-0.38088188],[0.9564488,0.5542725,0.4211806,0.66287893,0.8659593,0.99371177,0.9069077,0.39811078,-0.41342166,0.99719155,0.34596682,0.9938656],[0.58912665,0.9313741,0.9268401,0.9993564,0.62275416,0.8463948,0.6584346,0.8423125,0.29784963,0.8728679,0.99631435,0.98675257]],\"type\":\"heatmap\",\"xaxis\":\"x\",\"yaxis\":\"y\",\"hovertemplate\":\"Head: %{x}<br>Layer: %{y}<br>color: %{z}<extra></extra>\"}],                        {\"template\":{\"data\":{\"histogram2dcontour\":[{\"type\":\"histogram2dcontour\",\"colorbar\":{\"outlinewidth\":0,\"ticks\":\"\"},\"colorscale\":[[0.0,\"#0d0887\"],[0.1111111111111111,\"#46039f\"],[0.2222222222222222,\"#7201a8\"],[0.3333333333333333,\"#9c179e\"],[0.4444444444444444,\"#bd3786\"],[0.5555555555555556,\"#d8576b\"],[0.6666666666666666,\"#ed7953\"],[0.7777777777777778,\"#fb9f3a\"],[0.8888888888888888,\"#fdca26\"],[1.0,\"#f0f921\"]]}],\"choropleth\":[{\"type\":\"choropleth\",\"colorbar\":{\"outlinewidth\":0,\"ticks\":\"\"}}],\"histogram2d\":[{\"type\":\"histogram2d\",\"colorbar\":{\"outlinewidth\":0,\"ticks\":\"\"},\"colorscale\":[[0.0,\"#0d0887\"],[0.1111111111111111,\"#46039f\"],[0.2222222222222222,\"#7201a8\"],[0.3333333333333333,\"#9c179e\"],[0.4444444444444444,\"#bd3786\"],[0.5555555555555556,\"#d8576b\"],[0.6666666666666666,\"#ed7953\"],[0.7777777777777778,\"#fb9f3a\"],[0.8888888888888888,\"#fdca26\"],[1.0,\"#f0f921\"]]}],\"heatmap\":[{\"type\":\"heatmap\",\"colorbar\":{\"outlinewidth\":0,\"ticks\":\"\"},\"colorscale\":[[0.0,\"#0d0887\"],[0.1111111111111111,\"#46039f\"],[0.2222222222222222,\"#7201a8\"],[0.3333333333333333,\"#9c179e\"],[0.4444444444444444,\"#bd3786\"],[0.5555555555555556,\"#d8576b\"],[0.6666666666666666,\"#ed7953\"],[0.7777777777777778,\"#fb9f3a\"],[0.8888888888888888,\"#fdca26\"],[1.0,\"#f0f921\"]]}],\"heatmapgl\":[{\"type\":\"heatmapgl\",\"colorbar\":{\"outlinewidth\":0,\"ticks\":\"\"},\"colorscale\":[[0.0,\"#0d0887\"],[0.1111111111111111,\"#46039f\"],[0.2222222222222222,\"#7201a8\"],[0.3333333333333333,\"#9c179e\"],[0.4444444444444444,\"#bd3786\"],[0.5555555555555556,\"#d8576b\"],[0.6666666666666666,\"#ed7953\"],[0.7777777777777778,\"#fb9f3a\"],[0.8888888888888888,\"#fdca26\"],[1.0,\"#f0f921\"]]}],\"contourcarpet\":[{\"type\":\"contourcarpet\",\"colorbar\":{\"outlinewidth\":0,\"ticks\":\"\"}}],\"contour\":[{\"type\":\"contour\",\"colorbar\":{\"outlinewidth\":0,\"ticks\":\"\"},\"colorscale\":[[0.0,\"#0d0887\"],[0.1111111111111111,\"#46039f\"],[0.2222222222222222,\"#7201a8\"],[0.3333333333333333,\"#9c179e\"],[0.4444444444444444,\"#bd3786\"],[0.5555555555555556,\"#d8576b\"],[0.6666666666666666,\"#ed7953\"],[0.7777777777777778,\"#fb9f3a\"],[0.8888888888888888,\"#fdca26\"],[1.0,\"#f0f921\"]]}],\"surface\":[{\"type\":\"surface\",\"colorbar\":{\"outlinewidth\":0,\"ticks\":\"\"},\"colorscale\":[[0.0,\"#0d0887\"],[0.1111111111111111,\"#46039f\"],[0.2222222222222222,\"#7201a8\"],[0.3333333333333333,\"#9c179e\"],[0.4444444444444444,\"#bd3786\"],[0.5555555555555556,\"#d8576b\"],[0.6666666666666666,\"#ed7953\"],[0.7777777777777778,\"#fb9f3a\"],[0.8888888888888888,\"#fdca26\"],[1.0,\"#f0f921\"]]}],\"mesh3d\":[{\"type\":\"mesh3d\",\"colorbar\":{\"outlinewidth\":0,\"ticks\":\"\"}}],\"scatter\":[{\"fillpattern\":{\"fillmode\":\"overlay\",\"size\":10,\"solidity\":0.2},\"type\":\"scatter\"}],\"parcoords\":[{\"type\":\"parcoords\",\"line\":{\"colorbar\":{\"outlinewidth\":0,\"ticks\":\"\"}}}],\"scatterpolargl\":[{\"type\":\"scatterpolargl\",\"marker\":{\"colorbar\":{\"outlinewidth\":0,\"ticks\":\"\"}}}],\"bar\":[{\"error_x\":{\"color\":\"#2a3f5f\"},\"error_y\":{\"color\":\"#2a3f5f\"},\"marker\":{\"line\":{\"color\":\"#E5ECF6\",\"width\":0.5},\"pattern\":{\"fillmode\":\"overlay\",\"size\":10,\"solidity\":0.2}},\"type\":\"bar\"}],\"scattergeo\":[{\"type\":\"scattergeo\",\"marker\":{\"colorbar\":{\"outlinewidth\":0,\"ticks\":\"\"}}}],\"scatterpolar\":[{\"type\":\"scatterpolar\",\"marker\":{\"colorbar\":{\"outlinewidth\":0,\"ticks\":\"\"}}}],\"histogram\":[{\"marker\":{\"pattern\":{\"fillmode\":\"overlay\",\"size\":10,\"solidity\":0.2}},\"type\":\"histogram\"}],\"scattergl\":[{\"type\":\"scattergl\",\"marker\":{\"colorbar\":{\"outlinewidth\":0,\"ticks\":\"\"}}}],\"scatter3d\":[{\"type\":\"scatter3d\",\"line\":{\"colorbar\":{\"outlinewidth\":0,\"ticks\":\"\"}},\"marker\":{\"colorbar\":{\"outlinewidth\":0,\"ticks\":\"\"}}}],\"scattermapbox\":[{\"type\":\"scattermapbox\",\"marker\":{\"colorbar\":{\"outlinewidth\":0,\"ticks\":\"\"}}}],\"scatterternary\":[{\"type\":\"scatterternary\",\"marker\":{\"colorbar\":{\"outlinewidth\":0,\"ticks\":\"\"}}}],\"scattercarpet\":[{\"type\":\"scattercarpet\",\"marker\":{\"colorbar\":{\"outlinewidth\":0,\"ticks\":\"\"}}}],\"carpet\":[{\"aaxis\":{\"endlinecolor\":\"#2a3f5f\",\"gridcolor\":\"white\",\"linecolor\":\"white\",\"minorgridcolor\":\"white\",\"startlinecolor\":\"#2a3f5f\"},\"baxis\":{\"endlinecolor\":\"#2a3f5f\",\"gridcolor\":\"white\",\"linecolor\":\"white\",\"minorgridcolor\":\"white\",\"startlinecolor\":\"#2a3f5f\"},\"type\":\"carpet\"}],\"table\":[{\"cells\":{\"fill\":{\"color\":\"#EBF0F8\"},\"line\":{\"color\":\"white\"}},\"header\":{\"fill\":{\"color\":\"#C8D4E3\"},\"line\":{\"color\":\"white\"}},\"type\":\"table\"}],\"barpolar\":[{\"marker\":{\"line\":{\"color\":\"#E5ECF6\",\"width\":0.5},\"pattern\":{\"fillmode\":\"overlay\",\"size\":10,\"solidity\":0.2}},\"type\":\"barpolar\"}],\"pie\":[{\"automargin\":true,\"type\":\"pie\"}]},\"layout\":{\"autotypenumbers\":\"strict\",\"colorway\":[\"#636efa\",\"#EF553B\",\"#00cc96\",\"#ab63fa\",\"#FFA15A\",\"#19d3f3\",\"#FF6692\",\"#B6E880\",\"#FF97FF\",\"#FECB52\"],\"font\":{\"color\":\"#2a3f5f\"},\"hovermode\":\"closest\",\"hoverlabel\":{\"align\":\"left\"},\"paper_bgcolor\":\"white\",\"plot_bgcolor\":\"#E5ECF6\",\"polar\":{\"bgcolor\":\"#E5ECF6\",\"angularaxis\":{\"gridcolor\":\"white\",\"linecolor\":\"white\",\"ticks\":\"\"},\"radialaxis\":{\"gridcolor\":\"white\",\"linecolor\":\"white\",\"ticks\":\"\"}},\"ternary\":{\"bgcolor\":\"#E5ECF6\",\"aaxis\":{\"gridcolor\":\"white\",\"linecolor\":\"white\",\"ticks\":\"\"},\"baxis\":{\"gridcolor\":\"white\",\"linecolor\":\"white\",\"ticks\":\"\"},\"caxis\":{\"gridcolor\":\"white\",\"linecolor\":\"white\",\"ticks\":\"\"}},\"coloraxis\":{\"colorbar\":{\"outlinewidth\":0,\"ticks\":\"\"}},\"colorscale\":{\"sequential\":[[0.0,\"#0d0887\"],[0.1111111111111111,\"#46039f\"],[0.2222222222222222,\"#7201a8\"],[0.3333333333333333,\"#9c179e\"],[0.4444444444444444,\"#bd3786\"],[0.5555555555555556,\"#d8576b\"],[0.6666666666666666,\"#ed7953\"],[0.7777777777777778,\"#fb9f3a\"],[0.8888888888888888,\"#fdca26\"],[1.0,\"#f0f921\"]],\"sequentialminus\":[[0.0,\"#0d0887\"],[0.1111111111111111,\"#46039f\"],[0.2222222222222222,\"#7201a8\"],[0.3333333333333333,\"#9c179e\"],[0.4444444444444444,\"#bd3786\"],[0.5555555555555556,\"#d8576b\"],[0.6666666666666666,\"#ed7953\"],[0.7777777777777778,\"#fb9f3a\"],[0.8888888888888888,\"#fdca26\"],[1.0,\"#f0f921\"]],\"diverging\":[[0,\"#8e0152\"],[0.1,\"#c51b7d\"],[0.2,\"#de77ae\"],[0.3,\"#f1b6da\"],[0.4,\"#fde0ef\"],[0.5,\"#f7f7f7\"],[0.6,\"#e6f5d0\"],[0.7,\"#b8e186\"],[0.8,\"#7fbc41\"],[0.9,\"#4d9221\"],[1,\"#276419\"]]},\"xaxis\":{\"gridcolor\":\"white\",\"linecolor\":\"white\",\"ticks\":\"\",\"title\":{\"standoff\":15},\"zerolinecolor\":\"white\",\"automargin\":true,\"zerolinewidth\":2},\"yaxis\":{\"gridcolor\":\"white\",\"linecolor\":\"white\",\"ticks\":\"\",\"title\":{\"standoff\":15},\"zerolinecolor\":\"white\",\"automargin\":true,\"zerolinewidth\":2},\"scene\":{\"xaxis\":{\"backgroundcolor\":\"#E5ECF6\",\"gridcolor\":\"white\",\"linecolor\":\"white\",\"showbackground\":true,\"ticks\":\"\",\"zerolinecolor\":\"white\",\"gridwidth\":2},\"yaxis\":{\"backgroundcolor\":\"#E5ECF6\",\"gridcolor\":\"white\",\"linecolor\":\"white\",\"showbackground\":true,\"ticks\":\"\",\"zerolinecolor\":\"white\",\"gridwidth\":2},\"zaxis\":{\"backgroundcolor\":\"#E5ECF6\",\"gridcolor\":\"white\",\"linecolor\":\"white\",\"showbackground\":true,\"ticks\":\"\",\"zerolinecolor\":\"white\",\"gridwidth\":2}},\"shapedefaults\":{\"line\":{\"color\":\"#2a3f5f\"}},\"annotationdefaults\":{\"arrowcolor\":\"#2a3f5f\",\"arrowhead\":0,\"arrowwidth\":1},\"geo\":{\"bgcolor\":\"white\",\"landcolor\":\"#E5ECF6\",\"subunitcolor\":\"white\",\"showland\":true,\"showlakes\":true,\"lakecolor\":\"white\"},\"title\":{\"x\":0.05},\"mapbox\":{\"style\":\"light\"}}},\"xaxis\":{\"anchor\":\"y\",\"domain\":[0.0,1.0],\"scaleanchor\":\"y\",\"constrain\":\"domain\",\"title\":{\"text\":\"Head\"}},\"yaxis\":{\"anchor\":\"x\",\"domain\":[0.0,1.0],\"autorange\":\"reversed\",\"constrain\":\"domain\",\"title\":{\"text\":\"Layer\"}},\"coloraxis\":{\"colorscale\":[[0.0,\"rgb(103,0,31)\"],[0.1,\"rgb(178,24,43)\"],[0.2,\"rgb(214,96,77)\"],[0.3,\"rgb(244,165,130)\"],[0.4,\"rgb(253,219,199)\"],[0.5,\"rgb(247,247,247)\"],[0.6,\"rgb(209,229,240)\"],[0.7,\"rgb(146,197,222)\"],[0.8,\"rgb(67,147,195)\"],[0.9,\"rgb(33,102,172)\"],[1.0,\"rgb(5,48,97)\"]],\"cmid\":0.0,\"cmin\":-1.0,\"cmax\":1.0},\"title\":{\"text\":\"OV Copying Score for each head in GPT-2 Small\"}},                        {\"responsive\": true}                    ).then(function(){\n",
       "                            \n",
       "var gd = document.getElementById('b1f0b6f8-feff-4327-9887-a72135ec4411');\n",
       "var x = new MutationObserver(function (mutations, observer) {{\n",
       "        var display = window.getComputedStyle(gd).display;\n",
       "        if (!display || display === 'none') {{\n",
       "            console.log([gd, 'removed!']);\n",
       "            Plotly.purge(gd);\n",
       "            observer.disconnect();\n",
       "        }}\n",
       "}});\n",
       "\n",
       "// Listen for the removal of the full notebook cells\n",
       "var notebookContainer = gd.closest('#notebook-container');\n",
       "if (notebookContainer) {{\n",
       "    x.observe(notebookContainer, {childList: true});\n",
       "}}\n",
       "\n",
       "// Listen for the clearing of the current output cell\n",
       "var outputEl = gd.closest('.output');\n",
       "if (outputEl) {{\n",
       "    x.observe(outputEl, {childList: true});\n",
       "}}\n",
       "\n",
       "                        })                };                            </script>        </div>\n",
       "</body>\n",
       "</html>"
      ]
     },
     "metadata": {},
     "output_type": "display_data"
    }
   ],
   "source": [
    "OV_copying_score = OV_circuit_all_heads_eigenvalues.sum(dim=-1).real / OV_circuit_all_heads_eigenvalues.abs().sum(dim=-1)\n",
    "imshow(utils.to_numpy(OV_copying_score), xaxis=\"Head\", yaxis=\"Layer\", title=\"OV Copying Score for each head in GPT-2 Small\", zmax=1.0, zmin=-1.0)"
   ]
  },
  {
   "cell_type": "markdown",
   "metadata": {},
   "source": [
    "Head 11 in Layer 11 (L11H11) has a high copying score, and if we plot the eigenvalues they look approximately as expected."
   ]
  },
  {
   "cell_type": "code",
   "execution_count": 46,
   "metadata": {},
   "outputs": [
    {
     "data": {
      "text/html": [
       "<html>\n",
       "<head><meta charset=\"utf-8\" /></head>\n",
       "<body>\n",
       "    <div>            <script src=\"https://cdnjs.cloudflare.com/ajax/libs/mathjax/2.7.5/MathJax.js?config=TeX-AMS-MML_SVG\"></script><script type=\"text/javascript\">if (window.MathJax && window.MathJax.Hub && window.MathJax.Hub.Config) {window.MathJax.Hub.Config({SVG: {font: \"STIX-Web\"}});}</script>                <script type=\"text/javascript\">window.PlotlyConfig = {MathJaxConfig: 'local'};</script>\n",
       "        <script src=\"https://cdn.plot.ly/plotly-2.16.1.min.js\"></script>                <div id=\"bdd08916-2eb4-46b4-bcc5-896e7bc11cee\" class=\"plotly-graph-div\" style=\"height:525px; width:100%;\"></div>            <script type=\"text/javascript\">                                    window.PLOTLYENV=window.PLOTLYENV || {};                                    if (document.getElementById(\"bdd08916-2eb4-46b4-bcc5-896e7bc11cee\")) {                    Plotly.newPlot(                        \"bdd08916-2eb4-46b4-bcc5-896e7bc11cee\",                        [{\"hovertemplate\":\"Real=%{x}<br>Imaginary=%{y}<extra></extra>\",\"legendgroup\":\"\",\"marker\":{\"color\":\"#636efa\",\"symbol\":\"circle\"},\"mode\":\"markers\",\"name\":\"\",\"orientation\":\"v\",\"showlegend\":false,\"x\":[-2.1397297,1.4152663,3.4444547,4.027667,8.882654,4.866768,4.866768,4.843705,4.843705,8.477541,8.216802,8.216802,5.0786076,7.8554554,7.8554554,5.365775,5.365775,5.5634394,5.5634394,5.4217362,7.7691364,7.7691364,7.042285,7.042285,5.6751432,5.6751432,7.678601,7.678601,6.5733356,6.5733356,7.6729503,7.172205,7.172205,7.4236083,7.4236083,7.4708047,6.089097,6.089097,6.306833,6.306833,6.5117445,6.5117445,5.955252,5.955252,5.8588047,5.8588047,7.1478877,7.1478877,7.185705,7.185705,6.6706057,6.6706057,6.735978,6.735978,6.1497555,6.1497555,6.2887864,6.2887864,6.3447866,6.625572,6.625572,6.899187,6.899187,6.856411],\"xaxis\":\"x\",\"y\":[0.0,0.0,0.0,0.0,0.0,0.41852185,-0.41852185,0.09079792,-0.09079792,0.0,0.40868598,-0.40868598,0.0,0.7007218,-0.7007218,0.46421358,-0.46421358,0.5558223,-0.5558223,0.0,0.47056165,-0.47056165,1.0298702,-1.0298702,0.48252946,-0.48252946,0.33565187,-0.33565187,0.9988694,-0.9988694,0.0,0.7531841,-0.7531841,0.42575985,-0.42575985,0.0,0.6436292,-0.6436292,0.7701688,-0.7701688,0.7558016,-0.7558016,0.2591141,-0.2591141,0.013021447,-0.013021447,0.40166607,-0.40166607,0.28192392,-0.28192392,0.6146257,-0.6146257,0.5391219,-0.5391219,0.2823353,-0.2823353,0.35283586,-0.35283586,0.0,0.24868369,-0.24868369,0.15545632,-0.15545632,0.0],\"yaxis\":\"y\",\"type\":\"scatter\"}],                        {\"template\":{\"data\":{\"histogram2dcontour\":[{\"type\":\"histogram2dcontour\",\"colorbar\":{\"outlinewidth\":0,\"ticks\":\"\"},\"colorscale\":[[0.0,\"#0d0887\"],[0.1111111111111111,\"#46039f\"],[0.2222222222222222,\"#7201a8\"],[0.3333333333333333,\"#9c179e\"],[0.4444444444444444,\"#bd3786\"],[0.5555555555555556,\"#d8576b\"],[0.6666666666666666,\"#ed7953\"],[0.7777777777777778,\"#fb9f3a\"],[0.8888888888888888,\"#fdca26\"],[1.0,\"#f0f921\"]]}],\"choropleth\":[{\"type\":\"choropleth\",\"colorbar\":{\"outlinewidth\":0,\"ticks\":\"\"}}],\"histogram2d\":[{\"type\":\"histogram2d\",\"colorbar\":{\"outlinewidth\":0,\"ticks\":\"\"},\"colorscale\":[[0.0,\"#0d0887\"],[0.1111111111111111,\"#46039f\"],[0.2222222222222222,\"#7201a8\"],[0.3333333333333333,\"#9c179e\"],[0.4444444444444444,\"#bd3786\"],[0.5555555555555556,\"#d8576b\"],[0.6666666666666666,\"#ed7953\"],[0.7777777777777778,\"#fb9f3a\"],[0.8888888888888888,\"#fdca26\"],[1.0,\"#f0f921\"]]}],\"heatmap\":[{\"type\":\"heatmap\",\"colorbar\":{\"outlinewidth\":0,\"ticks\":\"\"},\"colorscale\":[[0.0,\"#0d0887\"],[0.1111111111111111,\"#46039f\"],[0.2222222222222222,\"#7201a8\"],[0.3333333333333333,\"#9c179e\"],[0.4444444444444444,\"#bd3786\"],[0.5555555555555556,\"#d8576b\"],[0.6666666666666666,\"#ed7953\"],[0.7777777777777778,\"#fb9f3a\"],[0.8888888888888888,\"#fdca26\"],[1.0,\"#f0f921\"]]}],\"heatmapgl\":[{\"type\":\"heatmapgl\",\"colorbar\":{\"outlinewidth\":0,\"ticks\":\"\"},\"colorscale\":[[0.0,\"#0d0887\"],[0.1111111111111111,\"#46039f\"],[0.2222222222222222,\"#7201a8\"],[0.3333333333333333,\"#9c179e\"],[0.4444444444444444,\"#bd3786\"],[0.5555555555555556,\"#d8576b\"],[0.6666666666666666,\"#ed7953\"],[0.7777777777777778,\"#fb9f3a\"],[0.8888888888888888,\"#fdca26\"],[1.0,\"#f0f921\"]]}],\"contourcarpet\":[{\"type\":\"contourcarpet\",\"colorbar\":{\"outlinewidth\":0,\"ticks\":\"\"}}],\"contour\":[{\"type\":\"contour\",\"colorbar\":{\"outlinewidth\":0,\"ticks\":\"\"},\"colorscale\":[[0.0,\"#0d0887\"],[0.1111111111111111,\"#46039f\"],[0.2222222222222222,\"#7201a8\"],[0.3333333333333333,\"#9c179e\"],[0.4444444444444444,\"#bd3786\"],[0.5555555555555556,\"#d8576b\"],[0.6666666666666666,\"#ed7953\"],[0.7777777777777778,\"#fb9f3a\"],[0.8888888888888888,\"#fdca26\"],[1.0,\"#f0f921\"]]}],\"surface\":[{\"type\":\"surface\",\"colorbar\":{\"outlinewidth\":0,\"ticks\":\"\"},\"colorscale\":[[0.0,\"#0d0887\"],[0.1111111111111111,\"#46039f\"],[0.2222222222222222,\"#7201a8\"],[0.3333333333333333,\"#9c179e\"],[0.4444444444444444,\"#bd3786\"],[0.5555555555555556,\"#d8576b\"],[0.6666666666666666,\"#ed7953\"],[0.7777777777777778,\"#fb9f3a\"],[0.8888888888888888,\"#fdca26\"],[1.0,\"#f0f921\"]]}],\"mesh3d\":[{\"type\":\"mesh3d\",\"colorbar\":{\"outlinewidth\":0,\"ticks\":\"\"}}],\"scatter\":[{\"fillpattern\":{\"fillmode\":\"overlay\",\"size\":10,\"solidity\":0.2},\"type\":\"scatter\"}],\"parcoords\":[{\"type\":\"parcoords\",\"line\":{\"colorbar\":{\"outlinewidth\":0,\"ticks\":\"\"}}}],\"scatterpolargl\":[{\"type\":\"scatterpolargl\",\"marker\":{\"colorbar\":{\"outlinewidth\":0,\"ticks\":\"\"}}}],\"bar\":[{\"error_x\":{\"color\":\"#2a3f5f\"},\"error_y\":{\"color\":\"#2a3f5f\"},\"marker\":{\"line\":{\"color\":\"#E5ECF6\",\"width\":0.5},\"pattern\":{\"fillmode\":\"overlay\",\"size\":10,\"solidity\":0.2}},\"type\":\"bar\"}],\"scattergeo\":[{\"type\":\"scattergeo\",\"marker\":{\"colorbar\":{\"outlinewidth\":0,\"ticks\":\"\"}}}],\"scatterpolar\":[{\"type\":\"scatterpolar\",\"marker\":{\"colorbar\":{\"outlinewidth\":0,\"ticks\":\"\"}}}],\"histogram\":[{\"marker\":{\"pattern\":{\"fillmode\":\"overlay\",\"size\":10,\"solidity\":0.2}},\"type\":\"histogram\"}],\"scattergl\":[{\"type\":\"scattergl\",\"marker\":{\"colorbar\":{\"outlinewidth\":0,\"ticks\":\"\"}}}],\"scatter3d\":[{\"type\":\"scatter3d\",\"line\":{\"colorbar\":{\"outlinewidth\":0,\"ticks\":\"\"}},\"marker\":{\"colorbar\":{\"outlinewidth\":0,\"ticks\":\"\"}}}],\"scattermapbox\":[{\"type\":\"scattermapbox\",\"marker\":{\"colorbar\":{\"outlinewidth\":0,\"ticks\":\"\"}}}],\"scatterternary\":[{\"type\":\"scatterternary\",\"marker\":{\"colorbar\":{\"outlinewidth\":0,\"ticks\":\"\"}}}],\"scattercarpet\":[{\"type\":\"scattercarpet\",\"marker\":{\"colorbar\":{\"outlinewidth\":0,\"ticks\":\"\"}}}],\"carpet\":[{\"aaxis\":{\"endlinecolor\":\"#2a3f5f\",\"gridcolor\":\"white\",\"linecolor\":\"white\",\"minorgridcolor\":\"white\",\"startlinecolor\":\"#2a3f5f\"},\"baxis\":{\"endlinecolor\":\"#2a3f5f\",\"gridcolor\":\"white\",\"linecolor\":\"white\",\"minorgridcolor\":\"white\",\"startlinecolor\":\"#2a3f5f\"},\"type\":\"carpet\"}],\"table\":[{\"cells\":{\"fill\":{\"color\":\"#EBF0F8\"},\"line\":{\"color\":\"white\"}},\"header\":{\"fill\":{\"color\":\"#C8D4E3\"},\"line\":{\"color\":\"white\"}},\"type\":\"table\"}],\"barpolar\":[{\"marker\":{\"line\":{\"color\":\"#E5ECF6\",\"width\":0.5},\"pattern\":{\"fillmode\":\"overlay\",\"size\":10,\"solidity\":0.2}},\"type\":\"barpolar\"}],\"pie\":[{\"automargin\":true,\"type\":\"pie\"}]},\"layout\":{\"autotypenumbers\":\"strict\",\"colorway\":[\"#636efa\",\"#EF553B\",\"#00cc96\",\"#ab63fa\",\"#FFA15A\",\"#19d3f3\",\"#FF6692\",\"#B6E880\",\"#FF97FF\",\"#FECB52\"],\"font\":{\"color\":\"#2a3f5f\"},\"hovermode\":\"closest\",\"hoverlabel\":{\"align\":\"left\"},\"paper_bgcolor\":\"white\",\"plot_bgcolor\":\"#E5ECF6\",\"polar\":{\"bgcolor\":\"#E5ECF6\",\"angularaxis\":{\"gridcolor\":\"white\",\"linecolor\":\"white\",\"ticks\":\"\"},\"radialaxis\":{\"gridcolor\":\"white\",\"linecolor\":\"white\",\"ticks\":\"\"}},\"ternary\":{\"bgcolor\":\"#E5ECF6\",\"aaxis\":{\"gridcolor\":\"white\",\"linecolor\":\"white\",\"ticks\":\"\"},\"baxis\":{\"gridcolor\":\"white\",\"linecolor\":\"white\",\"ticks\":\"\"},\"caxis\":{\"gridcolor\":\"white\",\"linecolor\":\"white\",\"ticks\":\"\"}},\"coloraxis\":{\"colorbar\":{\"outlinewidth\":0,\"ticks\":\"\"}},\"colorscale\":{\"sequential\":[[0.0,\"#0d0887\"],[0.1111111111111111,\"#46039f\"],[0.2222222222222222,\"#7201a8\"],[0.3333333333333333,\"#9c179e\"],[0.4444444444444444,\"#bd3786\"],[0.5555555555555556,\"#d8576b\"],[0.6666666666666666,\"#ed7953\"],[0.7777777777777778,\"#fb9f3a\"],[0.8888888888888888,\"#fdca26\"],[1.0,\"#f0f921\"]],\"sequentialminus\":[[0.0,\"#0d0887\"],[0.1111111111111111,\"#46039f\"],[0.2222222222222222,\"#7201a8\"],[0.3333333333333333,\"#9c179e\"],[0.4444444444444444,\"#bd3786\"],[0.5555555555555556,\"#d8576b\"],[0.6666666666666666,\"#ed7953\"],[0.7777777777777778,\"#fb9f3a\"],[0.8888888888888888,\"#fdca26\"],[1.0,\"#f0f921\"]],\"diverging\":[[0,\"#8e0152\"],[0.1,\"#c51b7d\"],[0.2,\"#de77ae\"],[0.3,\"#f1b6da\"],[0.4,\"#fde0ef\"],[0.5,\"#f7f7f7\"],[0.6,\"#e6f5d0\"],[0.7,\"#b8e186\"],[0.8,\"#7fbc41\"],[0.9,\"#4d9221\"],[1,\"#276419\"]]},\"xaxis\":{\"gridcolor\":\"white\",\"linecolor\":\"white\",\"ticks\":\"\",\"title\":{\"standoff\":15},\"zerolinecolor\":\"white\",\"automargin\":true,\"zerolinewidth\":2},\"yaxis\":{\"gridcolor\":\"white\",\"linecolor\":\"white\",\"ticks\":\"\",\"title\":{\"standoff\":15},\"zerolinecolor\":\"white\",\"automargin\":true,\"zerolinewidth\":2},\"scene\":{\"xaxis\":{\"backgroundcolor\":\"#E5ECF6\",\"gridcolor\":\"white\",\"linecolor\":\"white\",\"showbackground\":true,\"ticks\":\"\",\"zerolinecolor\":\"white\",\"gridwidth\":2},\"yaxis\":{\"backgroundcolor\":\"#E5ECF6\",\"gridcolor\":\"white\",\"linecolor\":\"white\",\"showbackground\":true,\"ticks\":\"\",\"zerolinecolor\":\"white\",\"gridwidth\":2},\"zaxis\":{\"backgroundcolor\":\"#E5ECF6\",\"gridcolor\":\"white\",\"linecolor\":\"white\",\"showbackground\":true,\"ticks\":\"\",\"zerolinecolor\":\"white\",\"gridwidth\":2}},\"shapedefaults\":{\"line\":{\"color\":\"#2a3f5f\"}},\"annotationdefaults\":{\"arrowcolor\":\"#2a3f5f\",\"arrowhead\":0,\"arrowwidth\":1},\"geo\":{\"bgcolor\":\"white\",\"landcolor\":\"#E5ECF6\",\"subunitcolor\":\"white\",\"showland\":true,\"showlakes\":true,\"lakecolor\":\"white\"},\"title\":{\"x\":0.05},\"mapbox\":{\"style\":\"light\"}}},\"xaxis\":{\"anchor\":\"y\",\"domain\":[0.0,1.0],\"title\":{\"text\":\"Real\"}},\"yaxis\":{\"anchor\":\"x\",\"domain\":[0.0,1.0],\"title\":{\"text\":\"Imaginary\"}},\"legend\":{\"tracegroupgap\":0},\"title\":{\"text\":\"Eigenvalues of Head L11H11 of GPT-2 Small\"}},                        {\"responsive\": true}                    ).then(function(){\n",
       "                            \n",
       "var gd = document.getElementById('bdd08916-2eb4-46b4-bcc5-896e7bc11cee');\n",
       "var x = new MutationObserver(function (mutations, observer) {{\n",
       "        var display = window.getComputedStyle(gd).display;\n",
       "        if (!display || display === 'none') {{\n",
       "            console.log([gd, 'removed!']);\n",
       "            Plotly.purge(gd);\n",
       "            observer.disconnect();\n",
       "        }}\n",
       "}});\n",
       "\n",
       "// Listen for the removal of the full notebook cells\n",
       "var notebookContainer = gd.closest('#notebook-container');\n",
       "if (notebookContainer) {{\n",
       "    x.observe(notebookContainer, {childList: true});\n",
       "}}\n",
       "\n",
       "// Listen for the clearing of the current output cell\n",
       "var outputEl = gd.closest('.output');\n",
       "if (outputEl) {{\n",
       "    x.observe(outputEl, {childList: true});\n",
       "}}\n",
       "\n",
       "                        })                };                            </script>        </div>\n",
       "</body>\n",
       "</html>"
      ]
     },
     "metadata": {},
     "output_type": "display_data"
    }
   ],
   "source": [
    "scatter(x=OV_circuit_all_heads_eigenvalues[-1, -1, :].real, y=OV_circuit_all_heads_eigenvalues[-1, -1, :].imag, title=\"Eigenvalues of Head L11H11 of GPT-2 Small\", xaxis=\"Real\", yaxis=\"Imaginary\")"
   ]
  },
  {
   "cell_type": "markdown",
   "metadata": {},
   "source": [
    "We can even look at the full OV circuit, from the input tokens to output tokens: $W_E W_V W_O W_U$. This is a `[d_vocab, d_vocab]==[50257, 50257]` matrix, so absolutely enormous, even for a single head. But with the FactoredMatrix class, we can compute the full eigenvalue copying score of every head in a few seconds."
   ]
  },
  {
   "cell_type": "code",
   "execution_count": 47,
   "metadata": {},
   "outputs": [
    {
     "name": "stdout",
     "output_type": "stream",
     "text": [
      "FactoredMatrix: Shape(torch.Size([12, 12, 50257, 50257])), Hidden Dim(64)\n"
     ]
    }
   ],
   "source": [
    "full_OV_circuit = model.embed.W_E @ OV_circuit_all_heads @ model.unembed.W_U\n",
    "print(full_OV_circuit)"
   ]
  },
  {
   "cell_type": "code",
   "execution_count": 48,
   "metadata": {},
   "outputs": [
    {
     "name": "stdout",
     "output_type": "stream",
     "text": [
      "torch.Size([12, 12, 64])\n",
      "torch.complex64\n"
     ]
    }
   ],
   "source": [
    "full_OV_circuit_eigenvalues = full_OV_circuit.eigenvalues\n",
    "print(full_OV_circuit_eigenvalues.shape)\n",
    "print(full_OV_circuit_eigenvalues.dtype)"
   ]
  },
  {
   "cell_type": "code",
   "execution_count": 49,
   "metadata": {},
   "outputs": [
    {
     "data": {
      "text/html": [
       "<html>\n",
       "<head><meta charset=\"utf-8\" /></head>\n",
       "<body>\n",
       "    <div>            <script src=\"https://cdnjs.cloudflare.com/ajax/libs/mathjax/2.7.5/MathJax.js?config=TeX-AMS-MML_SVG\"></script><script type=\"text/javascript\">if (window.MathJax && window.MathJax.Hub && window.MathJax.Hub.Config) {window.MathJax.Hub.Config({SVG: {font: \"STIX-Web\"}});}</script>                <script type=\"text/javascript\">window.PlotlyConfig = {MathJaxConfig: 'local'};</script>\n",
       "        <script src=\"https://cdn.plot.ly/plotly-2.16.1.min.js\"></script>                <div id=\"ef099db3-850d-4f72-bcbc-a001170dfe46\" class=\"plotly-graph-div\" style=\"height:525px; width:100%;\"></div>            <script type=\"text/javascript\">                                    window.PLOTLYENV=window.PLOTLYENV || {};                                    if (document.getElementById(\"ef099db3-850d-4f72-bcbc-a001170dfe46\")) {                    Plotly.newPlot(                        \"ef099db3-850d-4f72-bcbc-a001170dfe46\",                        [{\"coloraxis\":\"coloraxis\",\"name\":\"0\",\"z\":[[0.8356366,0.58535385,0.5105842,0.78433764,0.8644159,0.70265853,0.8969925,0.5868824,0.42486504,-0.16337514,0.46268544,0.27605426],[-0.052920163,-0.3177313,-0.48105782,-0.7838066,-0.63602084,-0.77586824,0.96818024,0.81191146,-0.75104624,-0.68784463,-0.64298844,-0.99858564],[-0.65983284,0.9152503,0.54614985,-0.4874397,0.7720561,-0.7541063,-0.847245,-0.6948985,-0.1557513,0.24442284,-0.91066235,-0.94391507],[0.6486897,-0.5592913,0.5935595,0.7843037,-0.8150344,0.6130046,0.16785872,0.3519588,-0.6837264,0.22237684,-0.99292195,0.65358186],[0.5740951,0.3640131,0.0960908,0.93596244,-0.9228775,0.61910796,-0.33572662,-0.998465,0.6448632,0.8468657,-0.7557656,0.95279706],[0.7326544,0.53241664,0.97326714,0.7239247,0.25538945,0.81584096,0.66557914,0.9287099,-0.5660435,-0.89087445,0.98342353,-0.99811804],[0.96986926,0.7439671,-0.35639316,0.6022988,0.9708116,-0.9278276,-0.9962316,0.8345208,0.9714328,0.8158544,0.5902574,0.8199346],[0.98202264,0.9859328,0.51524574,-0.56105167,0.96636665,0.9495159,-0.52048147,0.31047505,0.9859083,0.7797459,0.6738534,0.39197388],[-0.9062039,0.11750999,0.8077877,0.4169305,0.9829014,0.9902303,0.7847102,0.994563,0.9868026,-0.26804435,-0.99088675,0.74579275],[0.9906192,-0.18231122,0.97578365,0.99867505,0.25443316,-0.9544061,0.5869243,-0.23537976,0.9550504,0.25511968,0.992987,0.090525985],[0.9707273,0.6956093,0.6280023,0.79028654,0.934384,0.98957944,0.94362825,-0.10834958,-0.3431112,0.99867094,0.50867337,0.99495095],[0.8283133,0.9432441,0.9491768,0.9995353,0.57123184,0.8055236,0.67818654,0.8272576,0.8314806,0.8778659,0.99449587,0.99738663]],\"type\":\"heatmap\",\"xaxis\":\"x\",\"yaxis\":\"y\",\"hovertemplate\":\"Head: %{x}<br>Layer: %{y}<br>color: %{z}<extra></extra>\"}],                        {\"template\":{\"data\":{\"histogram2dcontour\":[{\"type\":\"histogram2dcontour\",\"colorbar\":{\"outlinewidth\":0,\"ticks\":\"\"},\"colorscale\":[[0.0,\"#0d0887\"],[0.1111111111111111,\"#46039f\"],[0.2222222222222222,\"#7201a8\"],[0.3333333333333333,\"#9c179e\"],[0.4444444444444444,\"#bd3786\"],[0.5555555555555556,\"#d8576b\"],[0.6666666666666666,\"#ed7953\"],[0.7777777777777778,\"#fb9f3a\"],[0.8888888888888888,\"#fdca26\"],[1.0,\"#f0f921\"]]}],\"choropleth\":[{\"type\":\"choropleth\",\"colorbar\":{\"outlinewidth\":0,\"ticks\":\"\"}}],\"histogram2d\":[{\"type\":\"histogram2d\",\"colorbar\":{\"outlinewidth\":0,\"ticks\":\"\"},\"colorscale\":[[0.0,\"#0d0887\"],[0.1111111111111111,\"#46039f\"],[0.2222222222222222,\"#7201a8\"],[0.3333333333333333,\"#9c179e\"],[0.4444444444444444,\"#bd3786\"],[0.5555555555555556,\"#d8576b\"],[0.6666666666666666,\"#ed7953\"],[0.7777777777777778,\"#fb9f3a\"],[0.8888888888888888,\"#fdca26\"],[1.0,\"#f0f921\"]]}],\"heatmap\":[{\"type\":\"heatmap\",\"colorbar\":{\"outlinewidth\":0,\"ticks\":\"\"},\"colorscale\":[[0.0,\"#0d0887\"],[0.1111111111111111,\"#46039f\"],[0.2222222222222222,\"#7201a8\"],[0.3333333333333333,\"#9c179e\"],[0.4444444444444444,\"#bd3786\"],[0.5555555555555556,\"#d8576b\"],[0.6666666666666666,\"#ed7953\"],[0.7777777777777778,\"#fb9f3a\"],[0.8888888888888888,\"#fdca26\"],[1.0,\"#f0f921\"]]}],\"heatmapgl\":[{\"type\":\"heatmapgl\",\"colorbar\":{\"outlinewidth\":0,\"ticks\":\"\"},\"colorscale\":[[0.0,\"#0d0887\"],[0.1111111111111111,\"#46039f\"],[0.2222222222222222,\"#7201a8\"],[0.3333333333333333,\"#9c179e\"],[0.4444444444444444,\"#bd3786\"],[0.5555555555555556,\"#d8576b\"],[0.6666666666666666,\"#ed7953\"],[0.7777777777777778,\"#fb9f3a\"],[0.8888888888888888,\"#fdca26\"],[1.0,\"#f0f921\"]]}],\"contourcarpet\":[{\"type\":\"contourcarpet\",\"colorbar\":{\"outlinewidth\":0,\"ticks\":\"\"}}],\"contour\":[{\"type\":\"contour\",\"colorbar\":{\"outlinewidth\":0,\"ticks\":\"\"},\"colorscale\":[[0.0,\"#0d0887\"],[0.1111111111111111,\"#46039f\"],[0.2222222222222222,\"#7201a8\"],[0.3333333333333333,\"#9c179e\"],[0.4444444444444444,\"#bd3786\"],[0.5555555555555556,\"#d8576b\"],[0.6666666666666666,\"#ed7953\"],[0.7777777777777778,\"#fb9f3a\"],[0.8888888888888888,\"#fdca26\"],[1.0,\"#f0f921\"]]}],\"surface\":[{\"type\":\"surface\",\"colorbar\":{\"outlinewidth\":0,\"ticks\":\"\"},\"colorscale\":[[0.0,\"#0d0887\"],[0.1111111111111111,\"#46039f\"],[0.2222222222222222,\"#7201a8\"],[0.3333333333333333,\"#9c179e\"],[0.4444444444444444,\"#bd3786\"],[0.5555555555555556,\"#d8576b\"],[0.6666666666666666,\"#ed7953\"],[0.7777777777777778,\"#fb9f3a\"],[0.8888888888888888,\"#fdca26\"],[1.0,\"#f0f921\"]]}],\"mesh3d\":[{\"type\":\"mesh3d\",\"colorbar\":{\"outlinewidth\":0,\"ticks\":\"\"}}],\"scatter\":[{\"fillpattern\":{\"fillmode\":\"overlay\",\"size\":10,\"solidity\":0.2},\"type\":\"scatter\"}],\"parcoords\":[{\"type\":\"parcoords\",\"line\":{\"colorbar\":{\"outlinewidth\":0,\"ticks\":\"\"}}}],\"scatterpolargl\":[{\"type\":\"scatterpolargl\",\"marker\":{\"colorbar\":{\"outlinewidth\":0,\"ticks\":\"\"}}}],\"bar\":[{\"error_x\":{\"color\":\"#2a3f5f\"},\"error_y\":{\"color\":\"#2a3f5f\"},\"marker\":{\"line\":{\"color\":\"#E5ECF6\",\"width\":0.5},\"pattern\":{\"fillmode\":\"overlay\",\"size\":10,\"solidity\":0.2}},\"type\":\"bar\"}],\"scattergeo\":[{\"type\":\"scattergeo\",\"marker\":{\"colorbar\":{\"outlinewidth\":0,\"ticks\":\"\"}}}],\"scatterpolar\":[{\"type\":\"scatterpolar\",\"marker\":{\"colorbar\":{\"outlinewidth\":0,\"ticks\":\"\"}}}],\"histogram\":[{\"marker\":{\"pattern\":{\"fillmode\":\"overlay\",\"size\":10,\"solidity\":0.2}},\"type\":\"histogram\"}],\"scattergl\":[{\"type\":\"scattergl\",\"marker\":{\"colorbar\":{\"outlinewidth\":0,\"ticks\":\"\"}}}],\"scatter3d\":[{\"type\":\"scatter3d\",\"line\":{\"colorbar\":{\"outlinewidth\":0,\"ticks\":\"\"}},\"marker\":{\"colorbar\":{\"outlinewidth\":0,\"ticks\":\"\"}}}],\"scattermapbox\":[{\"type\":\"scattermapbox\",\"marker\":{\"colorbar\":{\"outlinewidth\":0,\"ticks\":\"\"}}}],\"scatterternary\":[{\"type\":\"scatterternary\",\"marker\":{\"colorbar\":{\"outlinewidth\":0,\"ticks\":\"\"}}}],\"scattercarpet\":[{\"type\":\"scattercarpet\",\"marker\":{\"colorbar\":{\"outlinewidth\":0,\"ticks\":\"\"}}}],\"carpet\":[{\"aaxis\":{\"endlinecolor\":\"#2a3f5f\",\"gridcolor\":\"white\",\"linecolor\":\"white\",\"minorgridcolor\":\"white\",\"startlinecolor\":\"#2a3f5f\"},\"baxis\":{\"endlinecolor\":\"#2a3f5f\",\"gridcolor\":\"white\",\"linecolor\":\"white\",\"minorgridcolor\":\"white\",\"startlinecolor\":\"#2a3f5f\"},\"type\":\"carpet\"}],\"table\":[{\"cells\":{\"fill\":{\"color\":\"#EBF0F8\"},\"line\":{\"color\":\"white\"}},\"header\":{\"fill\":{\"color\":\"#C8D4E3\"},\"line\":{\"color\":\"white\"}},\"type\":\"table\"}],\"barpolar\":[{\"marker\":{\"line\":{\"color\":\"#E5ECF6\",\"width\":0.5},\"pattern\":{\"fillmode\":\"overlay\",\"size\":10,\"solidity\":0.2}},\"type\":\"barpolar\"}],\"pie\":[{\"automargin\":true,\"type\":\"pie\"}]},\"layout\":{\"autotypenumbers\":\"strict\",\"colorway\":[\"#636efa\",\"#EF553B\",\"#00cc96\",\"#ab63fa\",\"#FFA15A\",\"#19d3f3\",\"#FF6692\",\"#B6E880\",\"#FF97FF\",\"#FECB52\"],\"font\":{\"color\":\"#2a3f5f\"},\"hovermode\":\"closest\",\"hoverlabel\":{\"align\":\"left\"},\"paper_bgcolor\":\"white\",\"plot_bgcolor\":\"#E5ECF6\",\"polar\":{\"bgcolor\":\"#E5ECF6\",\"angularaxis\":{\"gridcolor\":\"white\",\"linecolor\":\"white\",\"ticks\":\"\"},\"radialaxis\":{\"gridcolor\":\"white\",\"linecolor\":\"white\",\"ticks\":\"\"}},\"ternary\":{\"bgcolor\":\"#E5ECF6\",\"aaxis\":{\"gridcolor\":\"white\",\"linecolor\":\"white\",\"ticks\":\"\"},\"baxis\":{\"gridcolor\":\"white\",\"linecolor\":\"white\",\"ticks\":\"\"},\"caxis\":{\"gridcolor\":\"white\",\"linecolor\":\"white\",\"ticks\":\"\"}},\"coloraxis\":{\"colorbar\":{\"outlinewidth\":0,\"ticks\":\"\"}},\"colorscale\":{\"sequential\":[[0.0,\"#0d0887\"],[0.1111111111111111,\"#46039f\"],[0.2222222222222222,\"#7201a8\"],[0.3333333333333333,\"#9c179e\"],[0.4444444444444444,\"#bd3786\"],[0.5555555555555556,\"#d8576b\"],[0.6666666666666666,\"#ed7953\"],[0.7777777777777778,\"#fb9f3a\"],[0.8888888888888888,\"#fdca26\"],[1.0,\"#f0f921\"]],\"sequentialminus\":[[0.0,\"#0d0887\"],[0.1111111111111111,\"#46039f\"],[0.2222222222222222,\"#7201a8\"],[0.3333333333333333,\"#9c179e\"],[0.4444444444444444,\"#bd3786\"],[0.5555555555555556,\"#d8576b\"],[0.6666666666666666,\"#ed7953\"],[0.7777777777777778,\"#fb9f3a\"],[0.8888888888888888,\"#fdca26\"],[1.0,\"#f0f921\"]],\"diverging\":[[0,\"#8e0152\"],[0.1,\"#c51b7d\"],[0.2,\"#de77ae\"],[0.3,\"#f1b6da\"],[0.4,\"#fde0ef\"],[0.5,\"#f7f7f7\"],[0.6,\"#e6f5d0\"],[0.7,\"#b8e186\"],[0.8,\"#7fbc41\"],[0.9,\"#4d9221\"],[1,\"#276419\"]]},\"xaxis\":{\"gridcolor\":\"white\",\"linecolor\":\"white\",\"ticks\":\"\",\"title\":{\"standoff\":15},\"zerolinecolor\":\"white\",\"automargin\":true,\"zerolinewidth\":2},\"yaxis\":{\"gridcolor\":\"white\",\"linecolor\":\"white\",\"ticks\":\"\",\"title\":{\"standoff\":15},\"zerolinecolor\":\"white\",\"automargin\":true,\"zerolinewidth\":2},\"scene\":{\"xaxis\":{\"backgroundcolor\":\"#E5ECF6\",\"gridcolor\":\"white\",\"linecolor\":\"white\",\"showbackground\":true,\"ticks\":\"\",\"zerolinecolor\":\"white\",\"gridwidth\":2},\"yaxis\":{\"backgroundcolor\":\"#E5ECF6\",\"gridcolor\":\"white\",\"linecolor\":\"white\",\"showbackground\":true,\"ticks\":\"\",\"zerolinecolor\":\"white\",\"gridwidth\":2},\"zaxis\":{\"backgroundcolor\":\"#E5ECF6\",\"gridcolor\":\"white\",\"linecolor\":\"white\",\"showbackground\":true,\"ticks\":\"\",\"zerolinecolor\":\"white\",\"gridwidth\":2}},\"shapedefaults\":{\"line\":{\"color\":\"#2a3f5f\"}},\"annotationdefaults\":{\"arrowcolor\":\"#2a3f5f\",\"arrowhead\":0,\"arrowwidth\":1},\"geo\":{\"bgcolor\":\"white\",\"landcolor\":\"#E5ECF6\",\"subunitcolor\":\"white\",\"showland\":true,\"showlakes\":true,\"lakecolor\":\"white\"},\"title\":{\"x\":0.05},\"mapbox\":{\"style\":\"light\"}}},\"xaxis\":{\"anchor\":\"y\",\"domain\":[0.0,1.0],\"scaleanchor\":\"y\",\"constrain\":\"domain\",\"title\":{\"text\":\"Head\"}},\"yaxis\":{\"anchor\":\"x\",\"domain\":[0.0,1.0],\"autorange\":\"reversed\",\"constrain\":\"domain\",\"title\":{\"text\":\"Layer\"}},\"coloraxis\":{\"colorscale\":[[0.0,\"rgb(103,0,31)\"],[0.1,\"rgb(178,24,43)\"],[0.2,\"rgb(214,96,77)\"],[0.3,\"rgb(244,165,130)\"],[0.4,\"rgb(253,219,199)\"],[0.5,\"rgb(247,247,247)\"],[0.6,\"rgb(209,229,240)\"],[0.7,\"rgb(146,197,222)\"],[0.8,\"rgb(67,147,195)\"],[0.9,\"rgb(33,102,172)\"],[1.0,\"rgb(5,48,97)\"]],\"cmid\":0.0,\"cmin\":-1.0,\"cmax\":1.0},\"title\":{\"text\":\"OV Copying Score for each head in GPT-2 Small\"}},                        {\"responsive\": true}                    ).then(function(){\n",
       "                            \n",
       "var gd = document.getElementById('ef099db3-850d-4f72-bcbc-a001170dfe46');\n",
       "var x = new MutationObserver(function (mutations, observer) {{\n",
       "        var display = window.getComputedStyle(gd).display;\n",
       "        if (!display || display === 'none') {{\n",
       "            console.log([gd, 'removed!']);\n",
       "            Plotly.purge(gd);\n",
       "            observer.disconnect();\n",
       "        }}\n",
       "}});\n",
       "\n",
       "// Listen for the removal of the full notebook cells\n",
       "var notebookContainer = gd.closest('#notebook-container');\n",
       "if (notebookContainer) {{\n",
       "    x.observe(notebookContainer, {childList: true});\n",
       "}}\n",
       "\n",
       "// Listen for the clearing of the current output cell\n",
       "var outputEl = gd.closest('.output');\n",
       "if (outputEl) {{\n",
       "    x.observe(outputEl, {childList: true});\n",
       "}}\n",
       "\n",
       "                        })                };                            </script>        </div>\n",
       "</body>\n",
       "</html>"
      ]
     },
     "metadata": {},
     "output_type": "display_data"
    }
   ],
   "source": [
    "full_OV_copying_score = full_OV_circuit_eigenvalues.sum(dim=-1).real / full_OV_circuit_eigenvalues.abs().sum(dim=-1)\n",
    "imshow(utils.to_numpy(full_OV_copying_score), xaxis=\"Head\", yaxis=\"Layer\", title=\"OV Copying Score for each head in GPT-2 Small\", zmax=1.0, zmin=-1.0)"
   ]
  },
  {
   "cell_type": "markdown",
   "metadata": {},
   "source": [
    "Interestingly, these are highly (but not perfectly!) correlated. I'm not sure what to read from this, or what's up with the weird outlier heads!"
   ]
  },
  {
   "cell_type": "code",
   "execution_count": 50,
   "metadata": {},
   "outputs": [
    {
     "data": {
      "text/html": [
       "<html>\n",
       "<head><meta charset=\"utf-8\" /></head>\n",
       "<body>\n",
       "    <div>            <script src=\"https://cdnjs.cloudflare.com/ajax/libs/mathjax/2.7.5/MathJax.js?config=TeX-AMS-MML_SVG\"></script><script type=\"text/javascript\">if (window.MathJax && window.MathJax.Hub && window.MathJax.Hub.Config) {window.MathJax.Hub.Config({SVG: {font: \"STIX-Web\"}});}</script>                <script type=\"text/javascript\">window.PlotlyConfig = {MathJaxConfig: 'local'};</script>\n",
       "        <script src=\"https://cdn.plot.ly/plotly-2.16.1.min.js\"></script>                <div id=\"df2e2140-8dfe-4259-a9ef-ccdd4f9b62ec\" class=\"plotly-graph-div\" style=\"height:525px; width:100%;\"></div>            <script type=\"text/javascript\">                                    window.PLOTLYENV=window.PLOTLYENV || {};                                    if (document.getElementById(\"df2e2140-8dfe-4259-a9ef-ccdd4f9b62ec\")) {                    Plotly.newPlot(                        \"df2e2140-8dfe-4259-a9ef-ccdd4f9b62ec\",                        [{\"hovertemplate\":\"<b>%{hovertext}</b><br><br>Full OV Copying Score=%{x}<br>OV Copying Score=%{y}<extra></extra>\",\"hovertext\":[\"L0H0\",\"L0H1\",\"L0H2\",\"L0H3\",\"L0H4\",\"L0H5\",\"L0H6\",\"L0H7\",\"L0H8\",\"L0H9\",\"L0H10\",\"L0H11\",\"L1H0\",\"L1H1\",\"L1H2\",\"L1H3\",\"L1H4\",\"L1H5\",\"L1H6\",\"L1H7\",\"L1H8\",\"L1H9\",\"L1H10\",\"L1H11\",\"L2H0\",\"L2H1\",\"L2H2\",\"L2H3\",\"L2H4\",\"L2H5\",\"L2H6\",\"L2H7\",\"L2H8\",\"L2H9\",\"L2H10\",\"L2H11\",\"L3H0\",\"L3H1\",\"L3H2\",\"L3H3\",\"L3H4\",\"L3H5\",\"L3H6\",\"L3H7\",\"L3H8\",\"L3H9\",\"L3H10\",\"L3H11\",\"L4H0\",\"L4H1\",\"L4H2\",\"L4H3\",\"L4H4\",\"L4H5\",\"L4H6\",\"L4H7\",\"L4H8\",\"L4H9\",\"L4H10\",\"L4H11\",\"L5H0\",\"L5H1\",\"L5H2\",\"L5H3\",\"L5H4\",\"L5H5\",\"L5H6\",\"L5H7\",\"L5H8\",\"L5H9\",\"L5H10\",\"L5H11\",\"L6H0\",\"L6H1\",\"L6H2\",\"L6H3\",\"L6H4\",\"L6H5\",\"L6H6\",\"L6H7\",\"L6H8\",\"L6H9\",\"L6H10\",\"L6H11\",\"L7H0\",\"L7H1\",\"L7H2\",\"L7H3\",\"L7H4\",\"L7H5\",\"L7H6\",\"L7H7\",\"L7H8\",\"L7H9\",\"L7H10\",\"L7H11\",\"L8H0\",\"L8H1\",\"L8H2\",\"L8H3\",\"L8H4\",\"L8H5\",\"L8H6\",\"L8H7\",\"L8H8\",\"L8H9\",\"L8H10\",\"L8H11\",\"L9H0\",\"L9H1\",\"L9H2\",\"L9H3\",\"L9H4\",\"L9H5\",\"L9H6\",\"L9H7\",\"L9H8\",\"L9H9\",\"L9H10\",\"L9H11\",\"L10H0\",\"L10H1\",\"L10H2\",\"L10H3\",\"L10H4\",\"L10H5\",\"L10H6\",\"L10H7\",\"L10H8\",\"L10H9\",\"L10H10\",\"L10H11\",\"L11H0\",\"L11H1\",\"L11H2\",\"L11H3\",\"L11H4\",\"L11H5\",\"L11H6\",\"L11H7\",\"L11H8\",\"L11H9\",\"L11H10\",\"L11H11\"],\"legendgroup\":\"\",\"marker\":{\"color\":\"#636efa\",\"symbol\":\"circle\"},\"mode\":\"markers\",\"name\":\"\",\"orientation\":\"v\",\"showlegend\":false,\"x\":[0.8356366,0.58535385,0.5105842,0.78433764,0.8644159,0.70265853,0.8969925,0.5868824,0.42486504,-0.16337514,0.46268544,0.27605426,-0.052920163,-0.3177313,-0.48105782,-0.7838066,-0.63602084,-0.77586824,0.96818024,0.81191146,-0.75104624,-0.68784463,-0.64298844,-0.99858564,-0.65983284,0.9152503,0.54614985,-0.4874397,0.7720561,-0.7541063,-0.847245,-0.6948985,-0.1557513,0.24442284,-0.91066235,-0.94391507,0.6486897,-0.5592913,0.5935595,0.7843037,-0.8150344,0.6130046,0.16785872,0.3519588,-0.6837264,0.22237684,-0.99292195,0.65358186,0.5740951,0.3640131,0.0960908,0.93596244,-0.9228775,0.61910796,-0.33572662,-0.998465,0.6448632,0.8468657,-0.7557656,0.95279706,0.7326544,0.53241664,0.97326714,0.7239247,0.25538945,0.81584096,0.66557914,0.9287099,-0.5660435,-0.89087445,0.98342353,-0.99811804,0.96986926,0.7439671,-0.35639316,0.6022988,0.9708116,-0.9278276,-0.9962316,0.8345208,0.9714328,0.8158544,0.5902574,0.8199346,0.98202264,0.9859328,0.51524574,-0.56105167,0.96636665,0.9495159,-0.52048147,0.31047505,0.9859083,0.7797459,0.6738534,0.39197388,-0.9062039,0.11750999,0.8077877,0.4169305,0.9829014,0.9902303,0.7847102,0.994563,0.9868026,-0.26804435,-0.99088675,0.74579275,0.9906192,-0.18231122,0.97578365,0.99867505,0.25443316,-0.9544061,0.5869243,-0.23537976,0.9550504,0.25511968,0.992987,0.090525985,0.9707273,0.6956093,0.6280023,0.79028654,0.934384,0.98957944,0.94362825,-0.10834958,-0.3431112,0.99867094,0.50867337,0.99495095,0.8283133,0.9432441,0.9491768,0.9995353,0.57123184,0.8055236,0.67818654,0.8272576,0.8314806,0.8778659,0.99449587,0.99738663],\"xaxis\":\"x\",\"y\":[0.777501,0.3527268,0.2596186,0.66702574,0.8384258,0.5584432,0.8444747,0.41379097,0.24488935,0.028157508,0.35840985,0.16288288,-0.4541911,-0.6529327,-0.548457,-0.79903686,-0.7736425,-0.85225815,0.97743237,0.6626251,-0.73032224,-0.70070213,-0.6946625,-0.99967235,-0.78371626,0.89677584,0.4750953,-0.6671974,0.7881463,-0.854775,-0.9054185,-0.57493836,-0.32175106,-0.028594071,-0.92476183,-0.9699269,0.58640355,-0.7614349,0.59716946,0.7854394,-0.87888825,0.39087448,0.04473867,0.11028006,-0.8169987,0.22129549,-0.99395794,0.5774401,0.52547896,0.30490145,-0.1072914,0.94331515,-0.931443,0.5273629,-0.4264709,-0.9984429,0.52967566,0.8604294,-0.88950515,0.955697,0.66291875,0.42956945,0.9736858,0.65554816,0.12201875,0.7442768,0.5037956,0.95253587,-0.65071666,-0.931628,0.97915107,-0.99725866,0.9613031,0.75017786,-0.38066593,0.64297867,0.95577693,-0.9428839,-0.994808,0.7852987,0.9657302,0.70730156,0.36872303,0.81280106,0.9659483,0.9730121,0.3190061,-0.30290532,0.97909546,0.9357923,-0.5550317,-0.00546646,0.9867777,0.82495666,0.5664299,0.10005281,-0.9464487,-0.2547201,0.6522326,0.14152558,0.98841417,0.98605835,0.6949271,0.9901811,0.97912025,-0.2359553,-0.98207104,0.65066874,0.9895943,-0.29178143,0.9714024,0.9951602,0.18783762,-0.94609374,0.47801915,-0.24891911,0.94370985,0.11866241,0.99412435,-0.38088188,0.9564488,0.5542725,0.4211806,0.66287893,0.8659593,0.99371177,0.9069077,0.39811078,-0.41342166,0.99719155,0.34596682,0.9938656,0.58912665,0.9313741,0.9268401,0.9993564,0.62275416,0.8463948,0.6584346,0.8423125,0.29784963,0.8728679,0.99631435,0.98675257],\"yaxis\":\"y\",\"type\":\"scatter\"}],                        {\"template\":{\"data\":{\"histogram2dcontour\":[{\"type\":\"histogram2dcontour\",\"colorbar\":{\"outlinewidth\":0,\"ticks\":\"\"},\"colorscale\":[[0.0,\"#0d0887\"],[0.1111111111111111,\"#46039f\"],[0.2222222222222222,\"#7201a8\"],[0.3333333333333333,\"#9c179e\"],[0.4444444444444444,\"#bd3786\"],[0.5555555555555556,\"#d8576b\"],[0.6666666666666666,\"#ed7953\"],[0.7777777777777778,\"#fb9f3a\"],[0.8888888888888888,\"#fdca26\"],[1.0,\"#f0f921\"]]}],\"choropleth\":[{\"type\":\"choropleth\",\"colorbar\":{\"outlinewidth\":0,\"ticks\":\"\"}}],\"histogram2d\":[{\"type\":\"histogram2d\",\"colorbar\":{\"outlinewidth\":0,\"ticks\":\"\"},\"colorscale\":[[0.0,\"#0d0887\"],[0.1111111111111111,\"#46039f\"],[0.2222222222222222,\"#7201a8\"],[0.3333333333333333,\"#9c179e\"],[0.4444444444444444,\"#bd3786\"],[0.5555555555555556,\"#d8576b\"],[0.6666666666666666,\"#ed7953\"],[0.7777777777777778,\"#fb9f3a\"],[0.8888888888888888,\"#fdca26\"],[1.0,\"#f0f921\"]]}],\"heatmap\":[{\"type\":\"heatmap\",\"colorbar\":{\"outlinewidth\":0,\"ticks\":\"\"},\"colorscale\":[[0.0,\"#0d0887\"],[0.1111111111111111,\"#46039f\"],[0.2222222222222222,\"#7201a8\"],[0.3333333333333333,\"#9c179e\"],[0.4444444444444444,\"#bd3786\"],[0.5555555555555556,\"#d8576b\"],[0.6666666666666666,\"#ed7953\"],[0.7777777777777778,\"#fb9f3a\"],[0.8888888888888888,\"#fdca26\"],[1.0,\"#f0f921\"]]}],\"heatmapgl\":[{\"type\":\"heatmapgl\",\"colorbar\":{\"outlinewidth\":0,\"ticks\":\"\"},\"colorscale\":[[0.0,\"#0d0887\"],[0.1111111111111111,\"#46039f\"],[0.2222222222222222,\"#7201a8\"],[0.3333333333333333,\"#9c179e\"],[0.4444444444444444,\"#bd3786\"],[0.5555555555555556,\"#d8576b\"],[0.6666666666666666,\"#ed7953\"],[0.7777777777777778,\"#fb9f3a\"],[0.8888888888888888,\"#fdca26\"],[1.0,\"#f0f921\"]]}],\"contourcarpet\":[{\"type\":\"contourcarpet\",\"colorbar\":{\"outlinewidth\":0,\"ticks\":\"\"}}],\"contour\":[{\"type\":\"contour\",\"colorbar\":{\"outlinewidth\":0,\"ticks\":\"\"},\"colorscale\":[[0.0,\"#0d0887\"],[0.1111111111111111,\"#46039f\"],[0.2222222222222222,\"#7201a8\"],[0.3333333333333333,\"#9c179e\"],[0.4444444444444444,\"#bd3786\"],[0.5555555555555556,\"#d8576b\"],[0.6666666666666666,\"#ed7953\"],[0.7777777777777778,\"#fb9f3a\"],[0.8888888888888888,\"#fdca26\"],[1.0,\"#f0f921\"]]}],\"surface\":[{\"type\":\"surface\",\"colorbar\":{\"outlinewidth\":0,\"ticks\":\"\"},\"colorscale\":[[0.0,\"#0d0887\"],[0.1111111111111111,\"#46039f\"],[0.2222222222222222,\"#7201a8\"],[0.3333333333333333,\"#9c179e\"],[0.4444444444444444,\"#bd3786\"],[0.5555555555555556,\"#d8576b\"],[0.6666666666666666,\"#ed7953\"],[0.7777777777777778,\"#fb9f3a\"],[0.8888888888888888,\"#fdca26\"],[1.0,\"#f0f921\"]]}],\"mesh3d\":[{\"type\":\"mesh3d\",\"colorbar\":{\"outlinewidth\":0,\"ticks\":\"\"}}],\"scatter\":[{\"fillpattern\":{\"fillmode\":\"overlay\",\"size\":10,\"solidity\":0.2},\"type\":\"scatter\"}],\"parcoords\":[{\"type\":\"parcoords\",\"line\":{\"colorbar\":{\"outlinewidth\":0,\"ticks\":\"\"}}}],\"scatterpolargl\":[{\"type\":\"scatterpolargl\",\"marker\":{\"colorbar\":{\"outlinewidth\":0,\"ticks\":\"\"}}}],\"bar\":[{\"error_x\":{\"color\":\"#2a3f5f\"},\"error_y\":{\"color\":\"#2a3f5f\"},\"marker\":{\"line\":{\"color\":\"#E5ECF6\",\"width\":0.5},\"pattern\":{\"fillmode\":\"overlay\",\"size\":10,\"solidity\":0.2}},\"type\":\"bar\"}],\"scattergeo\":[{\"type\":\"scattergeo\",\"marker\":{\"colorbar\":{\"outlinewidth\":0,\"ticks\":\"\"}}}],\"scatterpolar\":[{\"type\":\"scatterpolar\",\"marker\":{\"colorbar\":{\"outlinewidth\":0,\"ticks\":\"\"}}}],\"histogram\":[{\"marker\":{\"pattern\":{\"fillmode\":\"overlay\",\"size\":10,\"solidity\":0.2}},\"type\":\"histogram\"}],\"scattergl\":[{\"type\":\"scattergl\",\"marker\":{\"colorbar\":{\"outlinewidth\":0,\"ticks\":\"\"}}}],\"scatter3d\":[{\"type\":\"scatter3d\",\"line\":{\"colorbar\":{\"outlinewidth\":0,\"ticks\":\"\"}},\"marker\":{\"colorbar\":{\"outlinewidth\":0,\"ticks\":\"\"}}}],\"scattermapbox\":[{\"type\":\"scattermapbox\",\"marker\":{\"colorbar\":{\"outlinewidth\":0,\"ticks\":\"\"}}}],\"scatterternary\":[{\"type\":\"scatterternary\",\"marker\":{\"colorbar\":{\"outlinewidth\":0,\"ticks\":\"\"}}}],\"scattercarpet\":[{\"type\":\"scattercarpet\",\"marker\":{\"colorbar\":{\"outlinewidth\":0,\"ticks\":\"\"}}}],\"carpet\":[{\"aaxis\":{\"endlinecolor\":\"#2a3f5f\",\"gridcolor\":\"white\",\"linecolor\":\"white\",\"minorgridcolor\":\"white\",\"startlinecolor\":\"#2a3f5f\"},\"baxis\":{\"endlinecolor\":\"#2a3f5f\",\"gridcolor\":\"white\",\"linecolor\":\"white\",\"minorgridcolor\":\"white\",\"startlinecolor\":\"#2a3f5f\"},\"type\":\"carpet\"}],\"table\":[{\"cells\":{\"fill\":{\"color\":\"#EBF0F8\"},\"line\":{\"color\":\"white\"}},\"header\":{\"fill\":{\"color\":\"#C8D4E3\"},\"line\":{\"color\":\"white\"}},\"type\":\"table\"}],\"barpolar\":[{\"marker\":{\"line\":{\"color\":\"#E5ECF6\",\"width\":0.5},\"pattern\":{\"fillmode\":\"overlay\",\"size\":10,\"solidity\":0.2}},\"type\":\"barpolar\"}],\"pie\":[{\"automargin\":true,\"type\":\"pie\"}]},\"layout\":{\"autotypenumbers\":\"strict\",\"colorway\":[\"#636efa\",\"#EF553B\",\"#00cc96\",\"#ab63fa\",\"#FFA15A\",\"#19d3f3\",\"#FF6692\",\"#B6E880\",\"#FF97FF\",\"#FECB52\"],\"font\":{\"color\":\"#2a3f5f\"},\"hovermode\":\"closest\",\"hoverlabel\":{\"align\":\"left\"},\"paper_bgcolor\":\"white\",\"plot_bgcolor\":\"#E5ECF6\",\"polar\":{\"bgcolor\":\"#E5ECF6\",\"angularaxis\":{\"gridcolor\":\"white\",\"linecolor\":\"white\",\"ticks\":\"\"},\"radialaxis\":{\"gridcolor\":\"white\",\"linecolor\":\"white\",\"ticks\":\"\"}},\"ternary\":{\"bgcolor\":\"#E5ECF6\",\"aaxis\":{\"gridcolor\":\"white\",\"linecolor\":\"white\",\"ticks\":\"\"},\"baxis\":{\"gridcolor\":\"white\",\"linecolor\":\"white\",\"ticks\":\"\"},\"caxis\":{\"gridcolor\":\"white\",\"linecolor\":\"white\",\"ticks\":\"\"}},\"coloraxis\":{\"colorbar\":{\"outlinewidth\":0,\"ticks\":\"\"}},\"colorscale\":{\"sequential\":[[0.0,\"#0d0887\"],[0.1111111111111111,\"#46039f\"],[0.2222222222222222,\"#7201a8\"],[0.3333333333333333,\"#9c179e\"],[0.4444444444444444,\"#bd3786\"],[0.5555555555555556,\"#d8576b\"],[0.6666666666666666,\"#ed7953\"],[0.7777777777777778,\"#fb9f3a\"],[0.8888888888888888,\"#fdca26\"],[1.0,\"#f0f921\"]],\"sequentialminus\":[[0.0,\"#0d0887\"],[0.1111111111111111,\"#46039f\"],[0.2222222222222222,\"#7201a8\"],[0.3333333333333333,\"#9c179e\"],[0.4444444444444444,\"#bd3786\"],[0.5555555555555556,\"#d8576b\"],[0.6666666666666666,\"#ed7953\"],[0.7777777777777778,\"#fb9f3a\"],[0.8888888888888888,\"#fdca26\"],[1.0,\"#f0f921\"]],\"diverging\":[[0,\"#8e0152\"],[0.1,\"#c51b7d\"],[0.2,\"#de77ae\"],[0.3,\"#f1b6da\"],[0.4,\"#fde0ef\"],[0.5,\"#f7f7f7\"],[0.6,\"#e6f5d0\"],[0.7,\"#b8e186\"],[0.8,\"#7fbc41\"],[0.9,\"#4d9221\"],[1,\"#276419\"]]},\"xaxis\":{\"gridcolor\":\"white\",\"linecolor\":\"white\",\"ticks\":\"\",\"title\":{\"standoff\":15},\"zerolinecolor\":\"white\",\"automargin\":true,\"zerolinewidth\":2},\"yaxis\":{\"gridcolor\":\"white\",\"linecolor\":\"white\",\"ticks\":\"\",\"title\":{\"standoff\":15},\"zerolinecolor\":\"white\",\"automargin\":true,\"zerolinewidth\":2},\"scene\":{\"xaxis\":{\"backgroundcolor\":\"#E5ECF6\",\"gridcolor\":\"white\",\"linecolor\":\"white\",\"showbackground\":true,\"ticks\":\"\",\"zerolinecolor\":\"white\",\"gridwidth\":2},\"yaxis\":{\"backgroundcolor\":\"#E5ECF6\",\"gridcolor\":\"white\",\"linecolor\":\"white\",\"showbackground\":true,\"ticks\":\"\",\"zerolinecolor\":\"white\",\"gridwidth\":2},\"zaxis\":{\"backgroundcolor\":\"#E5ECF6\",\"gridcolor\":\"white\",\"linecolor\":\"white\",\"showbackground\":true,\"ticks\":\"\",\"zerolinecolor\":\"white\",\"gridwidth\":2}},\"shapedefaults\":{\"line\":{\"color\":\"#2a3f5f\"}},\"annotationdefaults\":{\"arrowcolor\":\"#2a3f5f\",\"arrowhead\":0,\"arrowwidth\":1},\"geo\":{\"bgcolor\":\"white\",\"landcolor\":\"#E5ECF6\",\"subunitcolor\":\"white\",\"showland\":true,\"showlakes\":true,\"lakecolor\":\"white\"},\"title\":{\"x\":0.05},\"mapbox\":{\"style\":\"light\"}}},\"xaxis\":{\"anchor\":\"y\",\"domain\":[0.0,1.0],\"title\":{\"text\":\"Full OV Copying Score\"}},\"yaxis\":{\"anchor\":\"x\",\"domain\":[0.0,1.0],\"title\":{\"text\":\"OV Copying Score\"}},\"legend\":{\"tracegroupgap\":0},\"title\":{\"text\":\"OV Copying Score for each head in GPT-2 Small\"}},                        {\"responsive\": true}                    ).then(function(){\n",
       "                            \n",
       "var gd = document.getElementById('df2e2140-8dfe-4259-a9ef-ccdd4f9b62ec');\n",
       "var x = new MutationObserver(function (mutations, observer) {{\n",
       "        var display = window.getComputedStyle(gd).display;\n",
       "        if (!display || display === 'none') {{\n",
       "            console.log([gd, 'removed!']);\n",
       "            Plotly.purge(gd);\n",
       "            observer.disconnect();\n",
       "        }}\n",
       "}});\n",
       "\n",
       "// Listen for the removal of the full notebook cells\n",
       "var notebookContainer = gd.closest('#notebook-container');\n",
       "if (notebookContainer) {{\n",
       "    x.observe(notebookContainer, {childList: true});\n",
       "}}\n",
       "\n",
       "// Listen for the clearing of the current output cell\n",
       "var outputEl = gd.closest('.output');\n",
       "if (outputEl) {{\n",
       "    x.observe(outputEl, {childList: true});\n",
       "}}\n",
       "\n",
       "                        })                };                            </script>        </div>\n",
       "</body>\n",
       "</html>"
      ]
     },
     "metadata": {},
     "output_type": "display_data"
    }
   ],
   "source": [
    "scatter(x=full_OV_copying_score.flatten(), y=OV_copying_score.flatten(), hover_name=[f\"L{layer}H{head}\" for layer in range(12) for head in range(12)], title=\"OV Copying Score for each head in GPT-2 Small\", xaxis=\"Full OV Copying Score\", yaxis=\"OV Copying Score\")"
   ]
  },
  {
   "cell_type": "code",
   "execution_count": 40,
   "metadata": {},
   "outputs": [
    {
     "name": "stdout",
     "output_type": "stream",
     "text": [
      "Token 256 - the most common pair of ASCII characters: | t|\n",
      "De-Tokenizing the example tokens: <|endoftext|>The first thing you need to figure out is *how* things are tokenized. `model.to_str_tokens` splits a string into the tokens *as a list of substrings*, and so lets you explore what the text looks like. To demonstrate this, let's use it on this paragraph.\n"
     ]
    }
   ],
   "source": [
    "print(f\"Token 256 - the most common pair of ASCII characters: |{model.to_string(256)}|\")\n",
    "# Squeeze means to remove dimensions of length 1. \n",
    "# Here, that removes the dummy batch dimension so it's a rank 1 tensor and returns a string\n",
    "# Rank 2 tensors map to a list of strings\n",
    "print(f\"De-Tokenizing the example tokens: {model.to_string(example_text_tokens.squeeze())}\")"
   ]
  },
  {
   "cell_type": "markdown",
   "metadata": {},
   "source": [
    "## Generating Text"
   ]
  },
  {
   "cell_type": "markdown",
   "metadata": {},
   "source": [
    "TransformerLens also has basic text generation functionality, which can be useful for generally exploring what the model is capable of (thanks to Ansh Radhakrishnan for adding this!). This is pretty rough functionality, and where possible I recommend using more established libraries like HuggingFace for this."
   ]
  },
  {
   "cell_type": "code",
   "execution_count": 41,
   "metadata": {},
   "outputs": [
    {
     "data": {
      "application/vnd.jupyter.widget-view+json": {
       "model_id": "056f0001009541bb8a6a02b394ad9624",
       "version_major": 2,
       "version_minor": 0
      },
      "text/plain": [
       "  0%|          | 0/50 [00:00<?, ?it/s]"
      ]
     },
     "metadata": {},
     "output_type": "display_data"
    },
    {
     "data": {
      "text/plain": [
       "\"(CNN) President Barack Obama caught in embarrassing new scandal\\n\\nThe Public Integrity Unit was set up by an independent watchdog to investigate allegations that the Obama administration's official watchdog, the Inspector General, mishandled sensitive information.\\n\\nOn Tuesday, The New York Times reported that the case of former Secretary of State\""
      ]
     },
     "execution_count": 41,
     "metadata": {},
     "output_type": "execute_result"
    }
   ],
   "source": [
    "model.generate(\"(CNN) President Barack Obama caught in embarrassing new scandal\\n\", max_new_tokens=50, temperature=0.7, prepend_bos=True)"
   ]
  },
  {
   "cell_type": "markdown",
   "metadata": {},
   "source": [
    "## Hook Points\n",
    "\n",
    "The key part of TransformerLens that lets us access and edit intermediate activations are the HookPoints around every model activation. Importantly, this technique will work for *any* model architecture, not just transformers, so long as you're able to edit the model code to add in HookPoints! This is essentially a lightweight library bundled with TransformerLens that should let you take an arbitrary model and make it easier to study. "
   ]
  },
  {
   "cell_type": "markdown",
   "metadata": {},
   "source": [
    "This is implemented by having a HookPoint layer. Each transformer component has a HookPoint for every activation, which wraps around that activation. The HookPoint acts as an identity function, but has a variety of helper functions that allows us to put PyTorch hooks in to edit and access the relevant activation. \n",
    "\n",
    "There is also a `HookedRootModule` class - this is a utility class that the root module should inherit from (root module = the model we run) - it has several utility functions for using hooks well, notably `reset_hooks`, `run_with_cache` and `run_with_hooks`. \n",
    "\n",
    "The default interface is the `run_with_hooks` function on the root module, which lets us run a forwards pass on the model, and pass on a list of hooks paired with layer names to run on that pass. \n",
    "\n",
    "The syntax for a hook is `function(activation, hook)` where `activation` is the activation the hook is wrapped around, and `hook` is the `HookPoint` class the function is attached to. If the function returns a new activation or edits the activation in-place, that replaces the old one, if it returns None then the activation remains as is.\n"
   ]
  },
  {
   "cell_type": "markdown",
   "metadata": {},
   "source": [
    "### Toy Example"
   ]
  },
  {
   "cell_type": "markdown",
   "metadata": {},
   "source": [
    "\n",
    "Here's a simple example of defining a small network with HookPoints:\n",
    "\n",
    "We define a basic network with two layers that each take a scalar input $x$, square it, and add a constant:\n",
    "$x_0=x$, $x_1=x_0^2+3$, $x_2=x_1^2-4$.\n",
    "\n",
    "We wrap the input, each layer's output, and the intermediate value of each layer (the square) in a hook point.\n",
    "\n"
   ]
  },
  {
   "cell_type": "code",
   "execution_count": 42,
   "metadata": {},
   "outputs": [],
   "source": [
    "\n",
    "from transformer_lens.hook_points import HookedRootModule, HookPoint\n",
    "\n",
    "\n",
    "class SquareThenAdd(nn.Module):\n",
    "    def __init__(self, offset):\n",
    "        super().__init__()\n",
    "        self.offset = nn.Parameter(torch.tensor(offset))\n",
    "        self.hook_square = HookPoint()\n",
    "\n",
    "    def forward(self, x):\n",
    "        # The hook_square doesn't change the value, but lets us access it\n",
    "        square = self.hook_square(x * x)\n",
    "        return self.offset + square\n",
    "\n",
    "\n",
    "class TwoLayerModel(HookedRootModule):\n",
    "    def __init__(self):\n",
    "        super().__init__()\n",
    "        self.layer1 = SquareThenAdd(3.0)\n",
    "        self.layer2 = SquareThenAdd(-4.0)\n",
    "        self.hook_in = HookPoint()\n",
    "        self.hook_mid = HookPoint()\n",
    "        self.hook_out = HookPoint()\n",
    "\n",
    "        # We need to call the setup function of HookedRootModule to build an\n",
    "        # internal dictionary of modules and hooks, and to give each hook a name\n",
    "        super().setup()\n",
    "\n",
    "    def forward(self, x):\n",
    "        # We wrap the input and each layer's output in a hook - they leave the\n",
    "        # value unchanged (unless there's a hook added to explicitly change it),\n",
    "        # but allow us to access it.\n",
    "        x_in = self.hook_in(x)\n",
    "        x_mid = self.hook_mid(self.layer1(x_in))\n",
    "        x_out = self.hook_out(self.layer2(x_mid))\n",
    "        return x_out\n",
    "\n",
    "\n",
    "model = TwoLayerModel()\n"
   ]
  },
  {
   "cell_type": "markdown",
   "metadata": {},
   "source": [
    "\n",
    "We can add a cache, to save the activation at each hook point\n",
    "\n",
    "(There's a custom `run_with_cache` function on the root module as a convenience, which is a wrapper around model.forward that return model_out, cache_object - we could also manually add hooks with `run_with_hooks` that store activations in a global caching dictionary. This is often useful if we only want to store, eg, subsets or functions of some activations.)\n"
   ]
  },
  {
   "cell_type": "code",
   "execution_count": 43,
   "metadata": {},
   "outputs": [
    {
     "name": "stdout",
     "output_type": "stream",
     "text": [
      "Model output: 780.0\n",
      "Value cached at hook hook_in 5.0\n",
      "Value cached at hook layer1.hook_square 25.0\n",
      "Value cached at hook hook_mid 28.0\n",
      "Value cached at hook layer2.hook_square 784.0\n",
      "Value cached at hook hook_out 780.0\n"
     ]
    }
   ],
   "source": [
    "\n",
    "out, cache = model.run_with_cache(torch.tensor(5.0))\n",
    "print(\"Model output:\", out.item())\n",
    "for key in cache:\n",
    "    print(f\"Value cached at hook {key}\", cache[key].item())\n",
    "\n"
   ]
  },
  {
   "cell_type": "markdown",
   "metadata": {},
   "source": [
    "\n",
    "We can also use hooks to intervene on activations - eg, we can set the intermediate value in layer 2 to zero to change the output to -5\n"
   ]
  },
  {
   "cell_type": "code",
   "execution_count": 44,
   "metadata": {},
   "outputs": [
    {
     "name": "stdout",
     "output_type": "stream",
     "text": [
      "layer2.hook_square\n",
      "Output after intervening on layer2.hook_scaled -4.0\n"
     ]
    }
   ],
   "source": [
    "\n",
    "def set_to_zero_hook(tensor, hook):\n",
    "    print(hook.name)\n",
    "    return torch.tensor(0.0)\n",
    "\n",
    "\n",
    "print(\n",
    "    \"Output after intervening on layer2.hook_scaled\",\n",
    "    model.run_with_hooks(\n",
    "        torch.tensor(5.0), fwd_hooks=[(\"layer2.hook_square\", set_to_zero_hook)]\n",
    "    ).item(),\n",
    ")"
   ]
  },
  {
   "cell_type": "markdown",
   "metadata": {
    "jp-MarkdownHeadingCollapsed": true,
    "tags": []
   },
   "source": [
    "## Loading Pre-Trained Checkpoints\n",
    "\n",
    "There are a lot of interesting questions combining mechanistic interpretability and training dynamics - analysing model capabilities and the underlying circuits that make them possible, and how these change as we train the model. \n",
    "\n",
    "TransformerLens supports these by having several model families with checkpoints throughout training. `HookedTransformer.from_pretrained` can load a checkpoint of a model with the `checkpoint_index` (the label 0 to `num_checkpoints-1`) or `checkpoint_value` (the step or token number, depending on how the checkpoints were labelled)."
   ]
  },
  {
   "cell_type": "markdown",
   "metadata": {},
   "source": [
    "\n",
    "Available models:\n",
    "* All of my interpretability-friendly models have checkpoints available, including:\n",
    "    * The toy models - `attn-only`, `solu`, `gelu` 1L to 4L\n",
    "        * These have ~200 checkpoints, taken on a piecewise linear schedule (more checkpoints near the start of training), up to 22B tokens. Labelled by number of tokens seen.\n",
    "    * The SoLU models trained on 80% Web Text and 20% Python Code (`solu-6l` to `solu-12l`)\n",
    "        * Same checkpoint schedule as the toy models, this time up to 30B tokens\n",
    "    * The SoLU models trained on the pile (`solu-1l-pile` to `solu-12l-pile`)\n",
    "        * These have ~100 checkpoints, taken on a linear schedule, up to 15B tokens. Labelled by number of steps.\n",
    "        * The 12L training crashed around 11B tokens, so is truncated.\n",
    "* The Stanford Centre for Research of Foundation Models trained 5 GPT-2 Small sized and 5 GPT-2 Medium sized models (`stanford-gpt2-small-a` to `e` and `stanford-gpt2-medium-a` to `e`)\n",
    "    * 600 checkpoints, taken on a piecewise linear schedule, labelled by the number of steps."
   ]
  },
  {
   "cell_type": "markdown",
   "metadata": {},
   "source": [
    "The checkpoint structure and labels is somewhat messy and ad-hoc, so I mostly recommend using the `checkpoint_index` syntax (where you can just count from 0 to the number of checkpoints) rather than `checkpoint_value` syntax (where you need to know the checkpoint schedule, and whether it was labelled with the number of tokens or steps). The helper function `get_checkpoint_labels` tells you the checkpoint schedule for a given model - ie what point was each checkpoint taken at, and what type of label was used.\n",
    "\n",
    "Here are graphs of the schedules for several checkpointed models: (note that the first 3 use a log scale, latter 2 use a linear scale)"
   ]
  },
  {
   "cell_type": "code",
   "execution_count": 56,
   "metadata": {},
   "outputs": [
    {
     "data": {
      "text/html": [
       "<html>\n",
       "<head><meta charset=\"utf-8\" /></head>\n",
       "<body>\n",
       "    <div>            <script src=\"https://cdnjs.cloudflare.com/ajax/libs/mathjax/2.7.5/MathJax.js?config=TeX-AMS-MML_SVG\"></script><script type=\"text/javascript\">if (window.MathJax && window.MathJax.Hub && window.MathJax.Hub.Config) {window.MathJax.Hub.Config({SVG: {font: \"STIX-Web\"}});}</script>                <script type=\"text/javascript\">window.PlotlyConfig = {MathJaxConfig: 'local'};</script>\n",
       "        <script src=\"https://cdn.plot.ly/plotly-2.16.1.min.js\"></script>                <div id=\"c7196983-521b-4ec3-a93d-e9a83d4888ad\" class=\"plotly-graph-div\" style=\"height:525px; width:100%;\"></div>            <script type=\"text/javascript\">                                    window.PLOTLYENV=window.PLOTLYENV || {};                                    if (document.getElementById(\"c7196983-521b-4ec3-a93d-e9a83d4888ad\")) {                    Plotly.newPlot(                        \"c7196983-521b-4ec3-a93d-e9a83d4888ad\",                        [{\"hovertemplate\":\"variable=0<br>index=%{x}<br>value=%{y}<extra></extra>\",\"legendgroup\":\"0\",\"line\":{\"color\":\"#636efa\",\"dash\":\"solid\"},\"marker\":{\"symbol\":\"circle\"},\"mode\":\"markers+lines\",\"name\":\"0\",\"orientation\":\"v\",\"showlegend\":true,\"x\":[0,1,2,3,4,5,6,7,8,9,10,11,12,13,14,15,16,17,18,19,20,21,22,23,24,25,26,27,28,29,30,31,32,33,34,35,36,37,38,39,40,41,42,43,44,45,46,47,48,49,50,51,52,53,54,55,56,57,58,59,60,61,62,63,64,65,66,67,68,69,70,71,72,73,74,75,76,77,78,79,80,81,82,83,84,85,86,87,88,89,90,91,92,93,94,95,96,97,98,99,100,101,102,103,104,105,106,107,108,109,110,111,112,113,114,115,116,117,118,119,120,121,122,123,124,125,126,127,128,129,130,131,132,133,134,135,136,137,138,139,140,141,142,143,144,145,146,147,148,149,150,151,152,153,154,155,156,157,158,159,160,161,162],\"xaxis\":\"x\",\"y\":[262144,2621440,4718592,7077888,9175040,11272192,13631488,15728640,18087936,20185088,22282240,33292288,44302336,55312384,66322432,77332480,88342528,99352576,110362624,121372672,132382720,143392768,154402816,165412864,176422912,187432960,198443008,209453056,220463104,264503296,308281344,352321536,396361728,440401920,484442112,528482304,572522496,616300544,660340736,704380928,748421120,792461312,836501504,880279552,924319744,968359936,1012400128,1056440320,1100480512,1144520704,1188298752,1232338944,1276379136,1320419328,1364459520,1408499712,1452277760,1496317952,1540358144,1584398336,1628438528,1672478720,1716518912,1760296960,1804337152,1848377344,1892417536,1936457728,1980497920,2024275968,2068316160,2112356352,2156396544,2200436736,2420375552,2640314368,2860515328,3080454144,3300392960,3520331776,3740270592,3960471552,4180410368,4400349184,4620288000,4840488960,5060427776,5280366592,5500305408,5720506368,5940445184,6160384000,6380322816,6600523776,6820462592,7040401408,7260340224,7480279040,7700480000,7920418816,8140357632,8360296448,8580497408,8800436224,9020375040,9240313856,9460514816,9680453632,9900392448,10120331264,10340270080,10560471040,10780409856,11000348672,11220287488,11440488448,11660427264,11880366080,12100304896,12320505856,12540444672,12760383488,12980322304,13200523264,13420462080,13640400896,13860339712,14080278528,14300479488,14520418304,14740357120,14960295936,15180496896,15400435712,15620374528,15840313344,16060514304,16280453120,16500391936,16720330752,16940269568,17160470528,17380409344,17600348160,17820286976,18040487936,18260426752,18480365568,18700304384,18920505344,19140444160,19360382976,19580321792,19800522752,20020461568,20240400384,20460339200,20680278016,20900478976,21120417792,21340356608,21560295424,21780496384],\"yaxis\":\"y\",\"type\":\"scatter\"}],                        {\"template\":{\"data\":{\"histogram2dcontour\":[{\"type\":\"histogram2dcontour\",\"colorbar\":{\"outlinewidth\":0,\"ticks\":\"\"},\"colorscale\":[[0.0,\"#0d0887\"],[0.1111111111111111,\"#46039f\"],[0.2222222222222222,\"#7201a8\"],[0.3333333333333333,\"#9c179e\"],[0.4444444444444444,\"#bd3786\"],[0.5555555555555556,\"#d8576b\"],[0.6666666666666666,\"#ed7953\"],[0.7777777777777778,\"#fb9f3a\"],[0.8888888888888888,\"#fdca26\"],[1.0,\"#f0f921\"]]}],\"choropleth\":[{\"type\":\"choropleth\",\"colorbar\":{\"outlinewidth\":0,\"ticks\":\"\"}}],\"histogram2d\":[{\"type\":\"histogram2d\",\"colorbar\":{\"outlinewidth\":0,\"ticks\":\"\"},\"colorscale\":[[0.0,\"#0d0887\"],[0.1111111111111111,\"#46039f\"],[0.2222222222222222,\"#7201a8\"],[0.3333333333333333,\"#9c179e\"],[0.4444444444444444,\"#bd3786\"],[0.5555555555555556,\"#d8576b\"],[0.6666666666666666,\"#ed7953\"],[0.7777777777777778,\"#fb9f3a\"],[0.8888888888888888,\"#fdca26\"],[1.0,\"#f0f921\"]]}],\"heatmap\":[{\"type\":\"heatmap\",\"colorbar\":{\"outlinewidth\":0,\"ticks\":\"\"},\"colorscale\":[[0.0,\"#0d0887\"],[0.1111111111111111,\"#46039f\"],[0.2222222222222222,\"#7201a8\"],[0.3333333333333333,\"#9c179e\"],[0.4444444444444444,\"#bd3786\"],[0.5555555555555556,\"#d8576b\"],[0.6666666666666666,\"#ed7953\"],[0.7777777777777778,\"#fb9f3a\"],[0.8888888888888888,\"#fdca26\"],[1.0,\"#f0f921\"]]}],\"heatmapgl\":[{\"type\":\"heatmapgl\",\"colorbar\":{\"outlinewidth\":0,\"ticks\":\"\"},\"colorscale\":[[0.0,\"#0d0887\"],[0.1111111111111111,\"#46039f\"],[0.2222222222222222,\"#7201a8\"],[0.3333333333333333,\"#9c179e\"],[0.4444444444444444,\"#bd3786\"],[0.5555555555555556,\"#d8576b\"],[0.6666666666666666,\"#ed7953\"],[0.7777777777777778,\"#fb9f3a\"],[0.8888888888888888,\"#fdca26\"],[1.0,\"#f0f921\"]]}],\"contourcarpet\":[{\"type\":\"contourcarpet\",\"colorbar\":{\"outlinewidth\":0,\"ticks\":\"\"}}],\"contour\":[{\"type\":\"contour\",\"colorbar\":{\"outlinewidth\":0,\"ticks\":\"\"},\"colorscale\":[[0.0,\"#0d0887\"],[0.1111111111111111,\"#46039f\"],[0.2222222222222222,\"#7201a8\"],[0.3333333333333333,\"#9c179e\"],[0.4444444444444444,\"#bd3786\"],[0.5555555555555556,\"#d8576b\"],[0.6666666666666666,\"#ed7953\"],[0.7777777777777778,\"#fb9f3a\"],[0.8888888888888888,\"#fdca26\"],[1.0,\"#f0f921\"]]}],\"surface\":[{\"type\":\"surface\",\"colorbar\":{\"outlinewidth\":0,\"ticks\":\"\"},\"colorscale\":[[0.0,\"#0d0887\"],[0.1111111111111111,\"#46039f\"],[0.2222222222222222,\"#7201a8\"],[0.3333333333333333,\"#9c179e\"],[0.4444444444444444,\"#bd3786\"],[0.5555555555555556,\"#d8576b\"],[0.6666666666666666,\"#ed7953\"],[0.7777777777777778,\"#fb9f3a\"],[0.8888888888888888,\"#fdca26\"],[1.0,\"#f0f921\"]]}],\"mesh3d\":[{\"type\":\"mesh3d\",\"colorbar\":{\"outlinewidth\":0,\"ticks\":\"\"}}],\"scatter\":[{\"fillpattern\":{\"fillmode\":\"overlay\",\"size\":10,\"solidity\":0.2},\"type\":\"scatter\"}],\"parcoords\":[{\"type\":\"parcoords\",\"line\":{\"colorbar\":{\"outlinewidth\":0,\"ticks\":\"\"}}}],\"scatterpolargl\":[{\"type\":\"scatterpolargl\",\"marker\":{\"colorbar\":{\"outlinewidth\":0,\"ticks\":\"\"}}}],\"bar\":[{\"error_x\":{\"color\":\"#2a3f5f\"},\"error_y\":{\"color\":\"#2a3f5f\"},\"marker\":{\"line\":{\"color\":\"#E5ECF6\",\"width\":0.5},\"pattern\":{\"fillmode\":\"overlay\",\"size\":10,\"solidity\":0.2}},\"type\":\"bar\"}],\"scattergeo\":[{\"type\":\"scattergeo\",\"marker\":{\"colorbar\":{\"outlinewidth\":0,\"ticks\":\"\"}}}],\"scatterpolar\":[{\"type\":\"scatterpolar\",\"marker\":{\"colorbar\":{\"outlinewidth\":0,\"ticks\":\"\"}}}],\"histogram\":[{\"marker\":{\"pattern\":{\"fillmode\":\"overlay\",\"size\":10,\"solidity\":0.2}},\"type\":\"histogram\"}],\"scattergl\":[{\"type\":\"scattergl\",\"marker\":{\"colorbar\":{\"outlinewidth\":0,\"ticks\":\"\"}}}],\"scatter3d\":[{\"type\":\"scatter3d\",\"line\":{\"colorbar\":{\"outlinewidth\":0,\"ticks\":\"\"}},\"marker\":{\"colorbar\":{\"outlinewidth\":0,\"ticks\":\"\"}}}],\"scattermapbox\":[{\"type\":\"scattermapbox\",\"marker\":{\"colorbar\":{\"outlinewidth\":0,\"ticks\":\"\"}}}],\"scatterternary\":[{\"type\":\"scatterternary\",\"marker\":{\"colorbar\":{\"outlinewidth\":0,\"ticks\":\"\"}}}],\"scattercarpet\":[{\"type\":\"scattercarpet\",\"marker\":{\"colorbar\":{\"outlinewidth\":0,\"ticks\":\"\"}}}],\"carpet\":[{\"aaxis\":{\"endlinecolor\":\"#2a3f5f\",\"gridcolor\":\"white\",\"linecolor\":\"white\",\"minorgridcolor\":\"white\",\"startlinecolor\":\"#2a3f5f\"},\"baxis\":{\"endlinecolor\":\"#2a3f5f\",\"gridcolor\":\"white\",\"linecolor\":\"white\",\"minorgridcolor\":\"white\",\"startlinecolor\":\"#2a3f5f\"},\"type\":\"carpet\"}],\"table\":[{\"cells\":{\"fill\":{\"color\":\"#EBF0F8\"},\"line\":{\"color\":\"white\"}},\"header\":{\"fill\":{\"color\":\"#C8D4E3\"},\"line\":{\"color\":\"white\"}},\"type\":\"table\"}],\"barpolar\":[{\"marker\":{\"line\":{\"color\":\"#E5ECF6\",\"width\":0.5},\"pattern\":{\"fillmode\":\"overlay\",\"size\":10,\"solidity\":0.2}},\"type\":\"barpolar\"}],\"pie\":[{\"automargin\":true,\"type\":\"pie\"}]},\"layout\":{\"autotypenumbers\":\"strict\",\"colorway\":[\"#636efa\",\"#EF553B\",\"#00cc96\",\"#ab63fa\",\"#FFA15A\",\"#19d3f3\",\"#FF6692\",\"#B6E880\",\"#FF97FF\",\"#FECB52\"],\"font\":{\"color\":\"#2a3f5f\"},\"hovermode\":\"closest\",\"hoverlabel\":{\"align\":\"left\"},\"paper_bgcolor\":\"white\",\"plot_bgcolor\":\"#E5ECF6\",\"polar\":{\"bgcolor\":\"#E5ECF6\",\"angularaxis\":{\"gridcolor\":\"white\",\"linecolor\":\"white\",\"ticks\":\"\"},\"radialaxis\":{\"gridcolor\":\"white\",\"linecolor\":\"white\",\"ticks\":\"\"}},\"ternary\":{\"bgcolor\":\"#E5ECF6\",\"aaxis\":{\"gridcolor\":\"white\",\"linecolor\":\"white\",\"ticks\":\"\"},\"baxis\":{\"gridcolor\":\"white\",\"linecolor\":\"white\",\"ticks\":\"\"},\"caxis\":{\"gridcolor\":\"white\",\"linecolor\":\"white\",\"ticks\":\"\"}},\"coloraxis\":{\"colorbar\":{\"outlinewidth\":0,\"ticks\":\"\"}},\"colorscale\":{\"sequential\":[[0.0,\"#0d0887\"],[0.1111111111111111,\"#46039f\"],[0.2222222222222222,\"#7201a8\"],[0.3333333333333333,\"#9c179e\"],[0.4444444444444444,\"#bd3786\"],[0.5555555555555556,\"#d8576b\"],[0.6666666666666666,\"#ed7953\"],[0.7777777777777778,\"#fb9f3a\"],[0.8888888888888888,\"#fdca26\"],[1.0,\"#f0f921\"]],\"sequentialminus\":[[0.0,\"#0d0887\"],[0.1111111111111111,\"#46039f\"],[0.2222222222222222,\"#7201a8\"],[0.3333333333333333,\"#9c179e\"],[0.4444444444444444,\"#bd3786\"],[0.5555555555555556,\"#d8576b\"],[0.6666666666666666,\"#ed7953\"],[0.7777777777777778,\"#fb9f3a\"],[0.8888888888888888,\"#fdca26\"],[1.0,\"#f0f921\"]],\"diverging\":[[0,\"#8e0152\"],[0.1,\"#c51b7d\"],[0.2,\"#de77ae\"],[0.3,\"#f1b6da\"],[0.4,\"#fde0ef\"],[0.5,\"#f7f7f7\"],[0.6,\"#e6f5d0\"],[0.7,\"#b8e186\"],[0.8,\"#7fbc41\"],[0.9,\"#4d9221\"],[1,\"#276419\"]]},\"xaxis\":{\"gridcolor\":\"white\",\"linecolor\":\"white\",\"ticks\":\"\",\"title\":{\"standoff\":15},\"zerolinecolor\":\"white\",\"automargin\":true,\"zerolinewidth\":2},\"yaxis\":{\"gridcolor\":\"white\",\"linecolor\":\"white\",\"ticks\":\"\",\"title\":{\"standoff\":15},\"zerolinecolor\":\"white\",\"automargin\":true,\"zerolinewidth\":2},\"scene\":{\"xaxis\":{\"backgroundcolor\":\"#E5ECF6\",\"gridcolor\":\"white\",\"linecolor\":\"white\",\"showbackground\":true,\"ticks\":\"\",\"zerolinecolor\":\"white\",\"gridwidth\":2},\"yaxis\":{\"backgroundcolor\":\"#E5ECF6\",\"gridcolor\":\"white\",\"linecolor\":\"white\",\"showbackground\":true,\"ticks\":\"\",\"zerolinecolor\":\"white\",\"gridwidth\":2},\"zaxis\":{\"backgroundcolor\":\"#E5ECF6\",\"gridcolor\":\"white\",\"linecolor\":\"white\",\"showbackground\":true,\"ticks\":\"\",\"zerolinecolor\":\"white\",\"gridwidth\":2}},\"shapedefaults\":{\"line\":{\"color\":\"#2a3f5f\"}},\"annotationdefaults\":{\"arrowcolor\":\"#2a3f5f\",\"arrowhead\":0,\"arrowwidth\":1},\"geo\":{\"bgcolor\":\"white\",\"landcolor\":\"#E5ECF6\",\"subunitcolor\":\"white\",\"showland\":true,\"showlakes\":true,\"lakecolor\":\"white\"},\"title\":{\"x\":0.05},\"mapbox\":{\"style\":\"light\"}}},\"xaxis\":{\"anchor\":\"y\",\"domain\":[0.0,1.0],\"title\":{\"text\":\"index\"}},\"yaxis\":{\"anchor\":\"x\",\"domain\":[0.0,1.0],\"title\":{\"text\":\"value\"},\"type\":\"log\"},\"legend\":{\"title\":{\"text\":\"variable\"},\"tracegroupgap\":0},\"title\":{\"text\":\"Checkpoint Values for attn-only-2l (Log scale)\"}},                        {\"responsive\": true}                    ).then(function(){\n",
       "                            \n",
       "var gd = document.getElementById('c7196983-521b-4ec3-a93d-e9a83d4888ad');\n",
       "var x = new MutationObserver(function (mutations, observer) {{\n",
       "        var display = window.getComputedStyle(gd).display;\n",
       "        if (!display || display === 'none') {{\n",
       "            console.log([gd, 'removed!']);\n",
       "            Plotly.purge(gd);\n",
       "            observer.disconnect();\n",
       "        }}\n",
       "}});\n",
       "\n",
       "// Listen for the removal of the full notebook cells\n",
       "var notebookContainer = gd.closest('#notebook-container');\n",
       "if (notebookContainer) {{\n",
       "    x.observe(notebookContainer, {childList: true});\n",
       "}}\n",
       "\n",
       "// Listen for the clearing of the current output cell\n",
       "var outputEl = gd.closest('.output');\n",
       "if (outputEl) {{\n",
       "    x.observe(outputEl, {childList: true});\n",
       "}}\n",
       "\n",
       "                        })                };                            </script>        </div>\n",
       "</body>\n",
       "</html>"
      ]
     },
     "metadata": {},
     "output_type": "display_data"
    },
    {
     "data": {
      "text/html": [
       "<html>\n",
       "<head><meta charset=\"utf-8\" /></head>\n",
       "<body>\n",
       "    <div>            <script src=\"https://cdnjs.cloudflare.com/ajax/libs/mathjax/2.7.5/MathJax.js?config=TeX-AMS-MML_SVG\"></script><script type=\"text/javascript\">if (window.MathJax && window.MathJax.Hub && window.MathJax.Hub.Config) {window.MathJax.Hub.Config({SVG: {font: \"STIX-Web\"}});}</script>                <script type=\"text/javascript\">window.PlotlyConfig = {MathJaxConfig: 'local'};</script>\n",
       "        <script src=\"https://cdn.plot.ly/plotly-2.16.1.min.js\"></script>                <div id=\"6ada1b24-ab2d-4a0e-b3a0-b25c42a2762e\" class=\"plotly-graph-div\" style=\"height:525px; width:100%;\"></div>            <script type=\"text/javascript\">                                    window.PLOTLYENV=window.PLOTLYENV || {};                                    if (document.getElementById(\"6ada1b24-ab2d-4a0e-b3a0-b25c42a2762e\")) {                    Plotly.newPlot(                        \"6ada1b24-ab2d-4a0e-b3a0-b25c42a2762e\",                        [{\"hovertemplate\":\"variable=0<br>index=%{x}<br>value=%{y}<extra></extra>\",\"legendgroup\":\"0\",\"line\":{\"color\":\"#636efa\",\"dash\":\"solid\"},\"marker\":{\"symbol\":\"circle\"},\"mode\":\"markers+lines\",\"name\":\"0\",\"orientation\":\"v\",\"showlegend\":true,\"x\":[0,1,2,3,4,5,6,7,8,9,10,11,12,13,14,15,16,17,18,19,20,21,22,23,24,25,26,27,28,29,30,31,32,33,34,35,36,37,38,39,40,41,42,43,44,45,46,47,48,49,50,51,52,53,54,55,56,57,58,59,60,61,62,63,64,65,66,67,68,69,70,71,72,73,74,75,76,77,78,79,80,81,82,83,84,85,86,87,88,89,90,91,92,93,94,95,96,97,98,99,100,101,102,103,104,105,106,107,108,109,110,111,112,113,114,115,116,117,118,119,120,121,122,123,124,125,126,127,128,129,130,131,132,133,134,135,136,137,138,139,140,141,142,143,144,145,146,147,148,149,150,151,152,153,154,155,156,157,158,159,160,161,162],\"xaxis\":\"x\",\"y\":[196608,3342336,6291456,9240576,12386304,15335424,18284544,21233664,24379392,27328512,30277632,45219840,60358656,75300864,90243072,105381888,120324096,135266304,150208512,165347328,180289536,195231744,210370560,225312768,240254976,255197184,270336000,285278208,300220416,360382464,420347904,480313344,540278784,600244224,660209664,720371712,780337152,840302592,900268032,960233472,1020198912,1080360960,1140326400,1200291840,1260257280,1320222720,1380384768,1440350208,1500315648,1560281088,1620246528,1680211968,1740374016,1800339456,1860304896,1920270336,1980235776,2040201216,2100363264,2160328704,2220294144,2280259584,2340225024,2400387072,2460352512,2520317952,2580283392,2640248832,2700214272,2760376320,2820341760,2880307200,2940272640,3000238080,3300261888,3600285696,3900309504,4200333312,4500357120,4800380928,5100208128,5400231936,5700255744,6000279552,6300303360,6600327168,6900350976,7200374784,7500201984,7800225792,8100249600,8400273408,8700297216,9000321024,9300344832,9600368640,9900392448,10200219648,10500243456,10800267264,11100291072,11400314880,11700338688,12000362496,12300386304,12600213504,12900237312,13200261120,13500284928,13800308736,14100332544,14400356352,14700380160,15000207360,15300231168,15600254976,15900278784,16200302592,16500326400,16800350208,17100374016,17400201216,17700225024,18000248832,18300272640,18600296448,18900320256,19200344064,19500367872,19800391680,20100218880,20400242688,20700266496,21000290304,21300314112,21600337920,21900361728,22200385536,22500212736,22800236544,23100260352,23400284160,23700307968,24000331776,24300355584,24600379392,24900206592,25200230400,25500254208,25800278016,26100301824,26400325632,26700349440,27000373248,27300200448,27600224256,27900248064,28200271872,28500295680,28800319488,29100343296,29400367104,29700390912],\"yaxis\":\"y\",\"type\":\"scatter\"}],                        {\"template\":{\"data\":{\"histogram2dcontour\":[{\"type\":\"histogram2dcontour\",\"colorbar\":{\"outlinewidth\":0,\"ticks\":\"\"},\"colorscale\":[[0.0,\"#0d0887\"],[0.1111111111111111,\"#46039f\"],[0.2222222222222222,\"#7201a8\"],[0.3333333333333333,\"#9c179e\"],[0.4444444444444444,\"#bd3786\"],[0.5555555555555556,\"#d8576b\"],[0.6666666666666666,\"#ed7953\"],[0.7777777777777778,\"#fb9f3a\"],[0.8888888888888888,\"#fdca26\"],[1.0,\"#f0f921\"]]}],\"choropleth\":[{\"type\":\"choropleth\",\"colorbar\":{\"outlinewidth\":0,\"ticks\":\"\"}}],\"histogram2d\":[{\"type\":\"histogram2d\",\"colorbar\":{\"outlinewidth\":0,\"ticks\":\"\"},\"colorscale\":[[0.0,\"#0d0887\"],[0.1111111111111111,\"#46039f\"],[0.2222222222222222,\"#7201a8\"],[0.3333333333333333,\"#9c179e\"],[0.4444444444444444,\"#bd3786\"],[0.5555555555555556,\"#d8576b\"],[0.6666666666666666,\"#ed7953\"],[0.7777777777777778,\"#fb9f3a\"],[0.8888888888888888,\"#fdca26\"],[1.0,\"#f0f921\"]]}],\"heatmap\":[{\"type\":\"heatmap\",\"colorbar\":{\"outlinewidth\":0,\"ticks\":\"\"},\"colorscale\":[[0.0,\"#0d0887\"],[0.1111111111111111,\"#46039f\"],[0.2222222222222222,\"#7201a8\"],[0.3333333333333333,\"#9c179e\"],[0.4444444444444444,\"#bd3786\"],[0.5555555555555556,\"#d8576b\"],[0.6666666666666666,\"#ed7953\"],[0.7777777777777778,\"#fb9f3a\"],[0.8888888888888888,\"#fdca26\"],[1.0,\"#f0f921\"]]}],\"heatmapgl\":[{\"type\":\"heatmapgl\",\"colorbar\":{\"outlinewidth\":0,\"ticks\":\"\"},\"colorscale\":[[0.0,\"#0d0887\"],[0.1111111111111111,\"#46039f\"],[0.2222222222222222,\"#7201a8\"],[0.3333333333333333,\"#9c179e\"],[0.4444444444444444,\"#bd3786\"],[0.5555555555555556,\"#d8576b\"],[0.6666666666666666,\"#ed7953\"],[0.7777777777777778,\"#fb9f3a\"],[0.8888888888888888,\"#fdca26\"],[1.0,\"#f0f921\"]]}],\"contourcarpet\":[{\"type\":\"contourcarpet\",\"colorbar\":{\"outlinewidth\":0,\"ticks\":\"\"}}],\"contour\":[{\"type\":\"contour\",\"colorbar\":{\"outlinewidth\":0,\"ticks\":\"\"},\"colorscale\":[[0.0,\"#0d0887\"],[0.1111111111111111,\"#46039f\"],[0.2222222222222222,\"#7201a8\"],[0.3333333333333333,\"#9c179e\"],[0.4444444444444444,\"#bd3786\"],[0.5555555555555556,\"#d8576b\"],[0.6666666666666666,\"#ed7953\"],[0.7777777777777778,\"#fb9f3a\"],[0.8888888888888888,\"#fdca26\"],[1.0,\"#f0f921\"]]}],\"surface\":[{\"type\":\"surface\",\"colorbar\":{\"outlinewidth\":0,\"ticks\":\"\"},\"colorscale\":[[0.0,\"#0d0887\"],[0.1111111111111111,\"#46039f\"],[0.2222222222222222,\"#7201a8\"],[0.3333333333333333,\"#9c179e\"],[0.4444444444444444,\"#bd3786\"],[0.5555555555555556,\"#d8576b\"],[0.6666666666666666,\"#ed7953\"],[0.7777777777777778,\"#fb9f3a\"],[0.8888888888888888,\"#fdca26\"],[1.0,\"#f0f921\"]]}],\"mesh3d\":[{\"type\":\"mesh3d\",\"colorbar\":{\"outlinewidth\":0,\"ticks\":\"\"}}],\"scatter\":[{\"fillpattern\":{\"fillmode\":\"overlay\",\"size\":10,\"solidity\":0.2},\"type\":\"scatter\"}],\"parcoords\":[{\"type\":\"parcoords\",\"line\":{\"colorbar\":{\"outlinewidth\":0,\"ticks\":\"\"}}}],\"scatterpolargl\":[{\"type\":\"scatterpolargl\",\"marker\":{\"colorbar\":{\"outlinewidth\":0,\"ticks\":\"\"}}}],\"bar\":[{\"error_x\":{\"color\":\"#2a3f5f\"},\"error_y\":{\"color\":\"#2a3f5f\"},\"marker\":{\"line\":{\"color\":\"#E5ECF6\",\"width\":0.5},\"pattern\":{\"fillmode\":\"overlay\",\"size\":10,\"solidity\":0.2}},\"type\":\"bar\"}],\"scattergeo\":[{\"type\":\"scattergeo\",\"marker\":{\"colorbar\":{\"outlinewidth\":0,\"ticks\":\"\"}}}],\"scatterpolar\":[{\"type\":\"scatterpolar\",\"marker\":{\"colorbar\":{\"outlinewidth\":0,\"ticks\":\"\"}}}],\"histogram\":[{\"marker\":{\"pattern\":{\"fillmode\":\"overlay\",\"size\":10,\"solidity\":0.2}},\"type\":\"histogram\"}],\"scattergl\":[{\"type\":\"scattergl\",\"marker\":{\"colorbar\":{\"outlinewidth\":0,\"ticks\":\"\"}}}],\"scatter3d\":[{\"type\":\"scatter3d\",\"line\":{\"colorbar\":{\"outlinewidth\":0,\"ticks\":\"\"}},\"marker\":{\"colorbar\":{\"outlinewidth\":0,\"ticks\":\"\"}}}],\"scattermapbox\":[{\"type\":\"scattermapbox\",\"marker\":{\"colorbar\":{\"outlinewidth\":0,\"ticks\":\"\"}}}],\"scatterternary\":[{\"type\":\"scatterternary\",\"marker\":{\"colorbar\":{\"outlinewidth\":0,\"ticks\":\"\"}}}],\"scattercarpet\":[{\"type\":\"scattercarpet\",\"marker\":{\"colorbar\":{\"outlinewidth\":0,\"ticks\":\"\"}}}],\"carpet\":[{\"aaxis\":{\"endlinecolor\":\"#2a3f5f\",\"gridcolor\":\"white\",\"linecolor\":\"white\",\"minorgridcolor\":\"white\",\"startlinecolor\":\"#2a3f5f\"},\"baxis\":{\"endlinecolor\":\"#2a3f5f\",\"gridcolor\":\"white\",\"linecolor\":\"white\",\"minorgridcolor\":\"white\",\"startlinecolor\":\"#2a3f5f\"},\"type\":\"carpet\"}],\"table\":[{\"cells\":{\"fill\":{\"color\":\"#EBF0F8\"},\"line\":{\"color\":\"white\"}},\"header\":{\"fill\":{\"color\":\"#C8D4E3\"},\"line\":{\"color\":\"white\"}},\"type\":\"table\"}],\"barpolar\":[{\"marker\":{\"line\":{\"color\":\"#E5ECF6\",\"width\":0.5},\"pattern\":{\"fillmode\":\"overlay\",\"size\":10,\"solidity\":0.2}},\"type\":\"barpolar\"}],\"pie\":[{\"automargin\":true,\"type\":\"pie\"}]},\"layout\":{\"autotypenumbers\":\"strict\",\"colorway\":[\"#636efa\",\"#EF553B\",\"#00cc96\",\"#ab63fa\",\"#FFA15A\",\"#19d3f3\",\"#FF6692\",\"#B6E880\",\"#FF97FF\",\"#FECB52\"],\"font\":{\"color\":\"#2a3f5f\"},\"hovermode\":\"closest\",\"hoverlabel\":{\"align\":\"left\"},\"paper_bgcolor\":\"white\",\"plot_bgcolor\":\"#E5ECF6\",\"polar\":{\"bgcolor\":\"#E5ECF6\",\"angularaxis\":{\"gridcolor\":\"white\",\"linecolor\":\"white\",\"ticks\":\"\"},\"radialaxis\":{\"gridcolor\":\"white\",\"linecolor\":\"white\",\"ticks\":\"\"}},\"ternary\":{\"bgcolor\":\"#E5ECF6\",\"aaxis\":{\"gridcolor\":\"white\",\"linecolor\":\"white\",\"ticks\":\"\"},\"baxis\":{\"gridcolor\":\"white\",\"linecolor\":\"white\",\"ticks\":\"\"},\"caxis\":{\"gridcolor\":\"white\",\"linecolor\":\"white\",\"ticks\":\"\"}},\"coloraxis\":{\"colorbar\":{\"outlinewidth\":0,\"ticks\":\"\"}},\"colorscale\":{\"sequential\":[[0.0,\"#0d0887\"],[0.1111111111111111,\"#46039f\"],[0.2222222222222222,\"#7201a8\"],[0.3333333333333333,\"#9c179e\"],[0.4444444444444444,\"#bd3786\"],[0.5555555555555556,\"#d8576b\"],[0.6666666666666666,\"#ed7953\"],[0.7777777777777778,\"#fb9f3a\"],[0.8888888888888888,\"#fdca26\"],[1.0,\"#f0f921\"]],\"sequentialminus\":[[0.0,\"#0d0887\"],[0.1111111111111111,\"#46039f\"],[0.2222222222222222,\"#7201a8\"],[0.3333333333333333,\"#9c179e\"],[0.4444444444444444,\"#bd3786\"],[0.5555555555555556,\"#d8576b\"],[0.6666666666666666,\"#ed7953\"],[0.7777777777777778,\"#fb9f3a\"],[0.8888888888888888,\"#fdca26\"],[1.0,\"#f0f921\"]],\"diverging\":[[0,\"#8e0152\"],[0.1,\"#c51b7d\"],[0.2,\"#de77ae\"],[0.3,\"#f1b6da\"],[0.4,\"#fde0ef\"],[0.5,\"#f7f7f7\"],[0.6,\"#e6f5d0\"],[0.7,\"#b8e186\"],[0.8,\"#7fbc41\"],[0.9,\"#4d9221\"],[1,\"#276419\"]]},\"xaxis\":{\"gridcolor\":\"white\",\"linecolor\":\"white\",\"ticks\":\"\",\"title\":{\"standoff\":15},\"zerolinecolor\":\"white\",\"automargin\":true,\"zerolinewidth\":2},\"yaxis\":{\"gridcolor\":\"white\",\"linecolor\":\"white\",\"ticks\":\"\",\"title\":{\"standoff\":15},\"zerolinecolor\":\"white\",\"automargin\":true,\"zerolinewidth\":2},\"scene\":{\"xaxis\":{\"backgroundcolor\":\"#E5ECF6\",\"gridcolor\":\"white\",\"linecolor\":\"white\",\"showbackground\":true,\"ticks\":\"\",\"zerolinecolor\":\"white\",\"gridwidth\":2},\"yaxis\":{\"backgroundcolor\":\"#E5ECF6\",\"gridcolor\":\"white\",\"linecolor\":\"white\",\"showbackground\":true,\"ticks\":\"\",\"zerolinecolor\":\"white\",\"gridwidth\":2},\"zaxis\":{\"backgroundcolor\":\"#E5ECF6\",\"gridcolor\":\"white\",\"linecolor\":\"white\",\"showbackground\":true,\"ticks\":\"\",\"zerolinecolor\":\"white\",\"gridwidth\":2}},\"shapedefaults\":{\"line\":{\"color\":\"#2a3f5f\"}},\"annotationdefaults\":{\"arrowcolor\":\"#2a3f5f\",\"arrowhead\":0,\"arrowwidth\":1},\"geo\":{\"bgcolor\":\"white\",\"landcolor\":\"#E5ECF6\",\"subunitcolor\":\"white\",\"showland\":true,\"showlakes\":true,\"lakecolor\":\"white\"},\"title\":{\"x\":0.05},\"mapbox\":{\"style\":\"light\"}}},\"xaxis\":{\"anchor\":\"y\",\"domain\":[0.0,1.0],\"title\":{\"text\":\"index\"}},\"yaxis\":{\"anchor\":\"x\",\"domain\":[0.0,1.0],\"title\":{\"text\":\"value\"},\"type\":\"log\"},\"legend\":{\"title\":{\"text\":\"variable\"},\"tracegroupgap\":0},\"title\":{\"text\":\"Checkpoint Values for solu-12l (Log scale)\"}},                        {\"responsive\": true}                    ).then(function(){\n",
       "                            \n",
       "var gd = document.getElementById('6ada1b24-ab2d-4a0e-b3a0-b25c42a2762e');\n",
       "var x = new MutationObserver(function (mutations, observer) {{\n",
       "        var display = window.getComputedStyle(gd).display;\n",
       "        if (!display || display === 'none') {{\n",
       "            console.log([gd, 'removed!']);\n",
       "            Plotly.purge(gd);\n",
       "            observer.disconnect();\n",
       "        }}\n",
       "}});\n",
       "\n",
       "// Listen for the removal of the full notebook cells\n",
       "var notebookContainer = gd.closest('#notebook-container');\n",
       "if (notebookContainer) {{\n",
       "    x.observe(notebookContainer, {childList: true});\n",
       "}}\n",
       "\n",
       "// Listen for the clearing of the current output cell\n",
       "var outputEl = gd.closest('.output');\n",
       "if (outputEl) {{\n",
       "    x.observe(outputEl, {childList: true});\n",
       "}}\n",
       "\n",
       "                        })                };                            </script>        </div>\n",
       "</body>\n",
       "</html>"
      ]
     },
     "metadata": {},
     "output_type": "display_data"
    },
    {
     "data": {
      "text/html": [
       "<html>\n",
       "<head><meta charset=\"utf-8\" /></head>\n",
       "<body>\n",
       "    <div>            <script src=\"https://cdnjs.cloudflare.com/ajax/libs/mathjax/2.7.5/MathJax.js?config=TeX-AMS-MML_SVG\"></script><script type=\"text/javascript\">if (window.MathJax && window.MathJax.Hub && window.MathJax.Hub.Config) {window.MathJax.Hub.Config({SVG: {font: \"STIX-Web\"}});}</script>                <script type=\"text/javascript\">window.PlotlyConfig = {MathJaxConfig: 'local'};</script>\n",
       "        <script src=\"https://cdn.plot.ly/plotly-2.16.1.min.js\"></script>                <div id=\"87c7d210-cc47-4c30-be57-2c8152b6d491\" class=\"plotly-graph-div\" style=\"height:525px; width:100%;\"></div>            <script type=\"text/javascript\">                                    window.PLOTLYENV=window.PLOTLYENV || {};                                    if (document.getElementById(\"87c7d210-cc47-4c30-be57-2c8152b6d491\")) {                    Plotly.newPlot(                        \"87c7d210-cc47-4c30-be57-2c8152b6d491\",                        [{\"hovertemplate\":\"variable=0<br>index=%{x}<br>value=%{y}<extra></extra>\",\"legendgroup\":\"0\",\"line\":{\"color\":\"#636efa\",\"dash\":\"solid\"},\"marker\":{\"symbol\":\"circle\"},\"mode\":\"markers+lines\",\"name\":\"0\",\"orientation\":\"v\",\"showlegend\":true,\"x\":[0,1,2,3,4,5,6,7,8,9,10,11,12,13,14,15,16,17,18,19,20,21,22,23,24,25,26,27,28,29,30,31,32,33,34,35,36,37,38,39,40,41,42,43,44,45,46,47,48,49,50,51,52,53,54,55,56,57,58,59,60,61,62,63,64,65,66,67,68,69,70,71,72,73,74,75,76,77,78,79,80,81,82,83,84,85,86,87,88,89,90,91,92,93,94,95,96,97,98,99,100,101,102,103,104,105,106,107,108,109,110,111,112,113,114,115,116,117,118,119,120,121,122,123,124,125,126,127,128,129,130,131,132,133,134,135,136,137,138,139,140,141,142,143,144,145,146,147,148,149,150,151,152,153,154,155,156,157,158,159,160,161,162,163,164,165,166,167,168,169,170,171,172,173,174,175,176,177,178,179,180,181,182,183,184,185,186,187,188,189,190,191,192,193,194,195,196,197,198,199,200,201,202,203,204,205,206,207,208,209,210,211,212,213,214,215,216,217,218,219,220,221,222,223,224,225,226,227,228,229,230,231,232,233,234,235,236,237,238,239,240,241,242,243,244,245,246,247,248,249,250,251,252,253,254,255,256,257,258,259,260,261,262,263,264,265,266,267,268,269,270,271,272,273,274,275,276,277,278,279,280,281,282,283,284,285,286,287,288,289,290,291,292,293,294,295,296,297,298,299,300,301,302,303,304,305,306,307,308,309,310,311,312,313,314,315,316,317,318,319,320,321,322,323,324,325,326,327,328,329,330,331,332,333,334,335,336,337,338,339,340,341,342,343,344,345,346,347,348,349,350,351,352,353,354,355,356,357,358,359,360,361,362,363,364,365,366,367,368,369,370,371,372,373,374,375,376,377,378,379,380,381,382,383,384,385,386,387,388,389,390,391,392,393,394,395,396,397,398,399,400,401,402,403,404,405,406,407,408,409,410,411,412,413,414,415,416,417,418,419,420,421,422,423,424,425,426,427,428,429,430,431,432,433,434,435,436,437,438,439,440,441,442,443,444,445,446,447,448,449,450,451,452,453,454,455,456,457,458,459,460,461,462,463,464,465,466,467,468,469,470,471,472,473,474,475,476,477,478,479,480,481,482,483,484,485,486,487,488,489,490,491,492,493,494,495,496,497,498,499,500,501,502,503,504,505,506,507,508,509,510,511,512,513,514,515,516,517,518,519,520,521,522,523,524,525,526,527,528,529,530,531,532,533,534,535,536,537,538,539,540,541,542,543,544,545,546,547,548,549,550,551,552,553,554,555,556,557,558,559,560,561,562,563,564,565,566,567,568,569,570,571,572,573,574,575,576,577,578,579,580,581,582,583,584,585,586,587,588,589,590,591,592,593,594,595,596,597,598,599,600,601,602,603,604,605,606,607,608],\"xaxis\":\"x\",\"y\":[0,10,20,30,40,50,60,70,80,90,100,150,200,250,300,350,400,450,500,550,600,650,700,750,800,850,900,950,1000,1050,1100,1150,1200,1250,1300,1350,1400,1450,1500,1550,1600,1650,1700,1750,1800,1850,1900,1950,2000,2100,2200,2300,2400,2500,2600,2700,2800,2900,3000,3100,3200,3300,3400,3500,3600,3700,3800,3900,4000,4100,4200,4300,4400,4500,4600,4700,4800,4900,5000,5100,5200,5300,5400,5500,5600,5700,5800,5900,6000,6100,6200,6300,6400,6500,6600,6700,6800,6900,7000,7100,7200,7300,7400,7500,7600,7700,7800,7900,8000,8100,8200,8300,8400,8500,8600,8700,8800,8900,9000,9100,9200,9300,9400,9500,9600,9700,9800,9900,10000,10100,10200,10300,10400,10500,10600,10700,10800,10900,11000,11100,11200,11300,11400,11500,11600,11700,11800,11900,12000,12100,12200,12300,12400,12500,12600,12700,12800,12900,13000,13100,13200,13300,13400,13500,13600,13700,13800,13900,14000,14100,14200,14300,14400,14500,14600,14700,14800,14900,15000,15100,15200,15300,15400,15500,15600,15700,15800,15900,16000,16100,16200,16300,16400,16500,16600,16700,16800,16900,17000,17100,17200,17300,17400,17500,17600,17700,17800,17900,18000,18100,18200,18300,18400,18500,18600,18700,18800,18900,19000,19100,19200,19300,19400,19500,19600,19700,19800,19900,20000,21000,22000,23000,24000,25000,26000,27000,28000,29000,30000,31000,32000,33000,34000,35000,36000,37000,38000,39000,40000,41000,42000,43000,44000,45000,46000,47000,48000,49000,50000,51000,52000,53000,54000,55000,56000,57000,58000,59000,60000,61000,62000,63000,64000,65000,66000,67000,68000,69000,70000,71000,72000,73000,74000,75000,76000,77000,78000,79000,80000,81000,82000,83000,84000,85000,86000,87000,88000,89000,90000,91000,92000,93000,94000,95000,96000,97000,98000,99000,100000,101000,102000,103000,104000,105000,106000,107000,108000,109000,110000,111000,112000,113000,114000,115000,116000,117000,118000,119000,120000,121000,122000,123000,124000,125000,126000,127000,128000,129000,130000,131000,132000,133000,134000,135000,136000,137000,138000,139000,140000,141000,142000,143000,144000,145000,146000,147000,148000,149000,150000,151000,152000,153000,154000,155000,156000,157000,158000,159000,160000,161000,162000,163000,164000,165000,166000,167000,168000,169000,170000,171000,172000,173000,174000,175000,176000,177000,178000,179000,180000,181000,182000,183000,184000,185000,186000,187000,188000,189000,190000,191000,192000,193000,194000,195000,196000,197000,198000,199000,200000,201000,202000,203000,204000,205000,206000,207000,208000,209000,210000,211000,212000,213000,214000,215000,216000,217000,218000,219000,220000,221000,222000,223000,224000,225000,226000,227000,228000,229000,230000,231000,232000,233000,234000,235000,236000,237000,238000,239000,240000,241000,242000,243000,244000,245000,246000,247000,248000,249000,250000,251000,252000,253000,254000,255000,256000,257000,258000,259000,260000,261000,262000,263000,264000,265000,266000,267000,268000,269000,270000,271000,272000,273000,274000,275000,276000,277000,278000,279000,280000,281000,282000,283000,284000,285000,286000,287000,288000,289000,290000,291000,292000,293000,294000,295000,296000,297000,298000,299000,300000,301000,302000,303000,304000,305000,306000,307000,308000,309000,310000,311000,312000,313000,314000,315000,316000,317000,318000,319000,320000,321000,322000,323000,324000,325000,326000,327000,328000,329000,330000,331000,332000,333000,334000,335000,336000,337000,338000,339000,340000,341000,342000,343000,344000,345000,346000,347000,348000,349000,350000,351000,352000,353000,354000,355000,356000,357000,358000,359000,360000,361000,362000,363000,364000,365000,366000,367000,368000,369000,370000,371000,372000,373000,374000,375000,376000,377000,378000,379000,380000,381000,382000,383000,384000,385000,386000,387000,388000,389000,390000,391000,392000,393000,394000,395000,396000,397000,398000,399000,400000],\"yaxis\":\"y\",\"type\":\"scatter\"}],                        {\"template\":{\"data\":{\"histogram2dcontour\":[{\"type\":\"histogram2dcontour\",\"colorbar\":{\"outlinewidth\":0,\"ticks\":\"\"},\"colorscale\":[[0.0,\"#0d0887\"],[0.1111111111111111,\"#46039f\"],[0.2222222222222222,\"#7201a8\"],[0.3333333333333333,\"#9c179e\"],[0.4444444444444444,\"#bd3786\"],[0.5555555555555556,\"#d8576b\"],[0.6666666666666666,\"#ed7953\"],[0.7777777777777778,\"#fb9f3a\"],[0.8888888888888888,\"#fdca26\"],[1.0,\"#f0f921\"]]}],\"choropleth\":[{\"type\":\"choropleth\",\"colorbar\":{\"outlinewidth\":0,\"ticks\":\"\"}}],\"histogram2d\":[{\"type\":\"histogram2d\",\"colorbar\":{\"outlinewidth\":0,\"ticks\":\"\"},\"colorscale\":[[0.0,\"#0d0887\"],[0.1111111111111111,\"#46039f\"],[0.2222222222222222,\"#7201a8\"],[0.3333333333333333,\"#9c179e\"],[0.4444444444444444,\"#bd3786\"],[0.5555555555555556,\"#d8576b\"],[0.6666666666666666,\"#ed7953\"],[0.7777777777777778,\"#fb9f3a\"],[0.8888888888888888,\"#fdca26\"],[1.0,\"#f0f921\"]]}],\"heatmap\":[{\"type\":\"heatmap\",\"colorbar\":{\"outlinewidth\":0,\"ticks\":\"\"},\"colorscale\":[[0.0,\"#0d0887\"],[0.1111111111111111,\"#46039f\"],[0.2222222222222222,\"#7201a8\"],[0.3333333333333333,\"#9c179e\"],[0.4444444444444444,\"#bd3786\"],[0.5555555555555556,\"#d8576b\"],[0.6666666666666666,\"#ed7953\"],[0.7777777777777778,\"#fb9f3a\"],[0.8888888888888888,\"#fdca26\"],[1.0,\"#f0f921\"]]}],\"heatmapgl\":[{\"type\":\"heatmapgl\",\"colorbar\":{\"outlinewidth\":0,\"ticks\":\"\"},\"colorscale\":[[0.0,\"#0d0887\"],[0.1111111111111111,\"#46039f\"],[0.2222222222222222,\"#7201a8\"],[0.3333333333333333,\"#9c179e\"],[0.4444444444444444,\"#bd3786\"],[0.5555555555555556,\"#d8576b\"],[0.6666666666666666,\"#ed7953\"],[0.7777777777777778,\"#fb9f3a\"],[0.8888888888888888,\"#fdca26\"],[1.0,\"#f0f921\"]]}],\"contourcarpet\":[{\"type\":\"contourcarpet\",\"colorbar\":{\"outlinewidth\":0,\"ticks\":\"\"}}],\"contour\":[{\"type\":\"contour\",\"colorbar\":{\"outlinewidth\":0,\"ticks\":\"\"},\"colorscale\":[[0.0,\"#0d0887\"],[0.1111111111111111,\"#46039f\"],[0.2222222222222222,\"#7201a8\"],[0.3333333333333333,\"#9c179e\"],[0.4444444444444444,\"#bd3786\"],[0.5555555555555556,\"#d8576b\"],[0.6666666666666666,\"#ed7953\"],[0.7777777777777778,\"#fb9f3a\"],[0.8888888888888888,\"#fdca26\"],[1.0,\"#f0f921\"]]}],\"surface\":[{\"type\":\"surface\",\"colorbar\":{\"outlinewidth\":0,\"ticks\":\"\"},\"colorscale\":[[0.0,\"#0d0887\"],[0.1111111111111111,\"#46039f\"],[0.2222222222222222,\"#7201a8\"],[0.3333333333333333,\"#9c179e\"],[0.4444444444444444,\"#bd3786\"],[0.5555555555555556,\"#d8576b\"],[0.6666666666666666,\"#ed7953\"],[0.7777777777777778,\"#fb9f3a\"],[0.8888888888888888,\"#fdca26\"],[1.0,\"#f0f921\"]]}],\"mesh3d\":[{\"type\":\"mesh3d\",\"colorbar\":{\"outlinewidth\":0,\"ticks\":\"\"}}],\"scatter\":[{\"fillpattern\":{\"fillmode\":\"overlay\",\"size\":10,\"solidity\":0.2},\"type\":\"scatter\"}],\"parcoords\":[{\"type\":\"parcoords\",\"line\":{\"colorbar\":{\"outlinewidth\":0,\"ticks\":\"\"}}}],\"scatterpolargl\":[{\"type\":\"scatterpolargl\",\"marker\":{\"colorbar\":{\"outlinewidth\":0,\"ticks\":\"\"}}}],\"bar\":[{\"error_x\":{\"color\":\"#2a3f5f\"},\"error_y\":{\"color\":\"#2a3f5f\"},\"marker\":{\"line\":{\"color\":\"#E5ECF6\",\"width\":0.5},\"pattern\":{\"fillmode\":\"overlay\",\"size\":10,\"solidity\":0.2}},\"type\":\"bar\"}],\"scattergeo\":[{\"type\":\"scattergeo\",\"marker\":{\"colorbar\":{\"outlinewidth\":0,\"ticks\":\"\"}}}],\"scatterpolar\":[{\"type\":\"scatterpolar\",\"marker\":{\"colorbar\":{\"outlinewidth\":0,\"ticks\":\"\"}}}],\"histogram\":[{\"marker\":{\"pattern\":{\"fillmode\":\"overlay\",\"size\":10,\"solidity\":0.2}},\"type\":\"histogram\"}],\"scattergl\":[{\"type\":\"scattergl\",\"marker\":{\"colorbar\":{\"outlinewidth\":0,\"ticks\":\"\"}}}],\"scatter3d\":[{\"type\":\"scatter3d\",\"line\":{\"colorbar\":{\"outlinewidth\":0,\"ticks\":\"\"}},\"marker\":{\"colorbar\":{\"outlinewidth\":0,\"ticks\":\"\"}}}],\"scattermapbox\":[{\"type\":\"scattermapbox\",\"marker\":{\"colorbar\":{\"outlinewidth\":0,\"ticks\":\"\"}}}],\"scatterternary\":[{\"type\":\"scatterternary\",\"marker\":{\"colorbar\":{\"outlinewidth\":0,\"ticks\":\"\"}}}],\"scattercarpet\":[{\"type\":\"scattercarpet\",\"marker\":{\"colorbar\":{\"outlinewidth\":0,\"ticks\":\"\"}}}],\"carpet\":[{\"aaxis\":{\"endlinecolor\":\"#2a3f5f\",\"gridcolor\":\"white\",\"linecolor\":\"white\",\"minorgridcolor\":\"white\",\"startlinecolor\":\"#2a3f5f\"},\"baxis\":{\"endlinecolor\":\"#2a3f5f\",\"gridcolor\":\"white\",\"linecolor\":\"white\",\"minorgridcolor\":\"white\",\"startlinecolor\":\"#2a3f5f\"},\"type\":\"carpet\"}],\"table\":[{\"cells\":{\"fill\":{\"color\":\"#EBF0F8\"},\"line\":{\"color\":\"white\"}},\"header\":{\"fill\":{\"color\":\"#C8D4E3\"},\"line\":{\"color\":\"white\"}},\"type\":\"table\"}],\"barpolar\":[{\"marker\":{\"line\":{\"color\":\"#E5ECF6\",\"width\":0.5},\"pattern\":{\"fillmode\":\"overlay\",\"size\":10,\"solidity\":0.2}},\"type\":\"barpolar\"}],\"pie\":[{\"automargin\":true,\"type\":\"pie\"}]},\"layout\":{\"autotypenumbers\":\"strict\",\"colorway\":[\"#636efa\",\"#EF553B\",\"#00cc96\",\"#ab63fa\",\"#FFA15A\",\"#19d3f3\",\"#FF6692\",\"#B6E880\",\"#FF97FF\",\"#FECB52\"],\"font\":{\"color\":\"#2a3f5f\"},\"hovermode\":\"closest\",\"hoverlabel\":{\"align\":\"left\"},\"paper_bgcolor\":\"white\",\"plot_bgcolor\":\"#E5ECF6\",\"polar\":{\"bgcolor\":\"#E5ECF6\",\"angularaxis\":{\"gridcolor\":\"white\",\"linecolor\":\"white\",\"ticks\":\"\"},\"radialaxis\":{\"gridcolor\":\"white\",\"linecolor\":\"white\",\"ticks\":\"\"}},\"ternary\":{\"bgcolor\":\"#E5ECF6\",\"aaxis\":{\"gridcolor\":\"white\",\"linecolor\":\"white\",\"ticks\":\"\"},\"baxis\":{\"gridcolor\":\"white\",\"linecolor\":\"white\",\"ticks\":\"\"},\"caxis\":{\"gridcolor\":\"white\",\"linecolor\":\"white\",\"ticks\":\"\"}},\"coloraxis\":{\"colorbar\":{\"outlinewidth\":0,\"ticks\":\"\"}},\"colorscale\":{\"sequential\":[[0.0,\"#0d0887\"],[0.1111111111111111,\"#46039f\"],[0.2222222222222222,\"#7201a8\"],[0.3333333333333333,\"#9c179e\"],[0.4444444444444444,\"#bd3786\"],[0.5555555555555556,\"#d8576b\"],[0.6666666666666666,\"#ed7953\"],[0.7777777777777778,\"#fb9f3a\"],[0.8888888888888888,\"#fdca26\"],[1.0,\"#f0f921\"]],\"sequentialminus\":[[0.0,\"#0d0887\"],[0.1111111111111111,\"#46039f\"],[0.2222222222222222,\"#7201a8\"],[0.3333333333333333,\"#9c179e\"],[0.4444444444444444,\"#bd3786\"],[0.5555555555555556,\"#d8576b\"],[0.6666666666666666,\"#ed7953\"],[0.7777777777777778,\"#fb9f3a\"],[0.8888888888888888,\"#fdca26\"],[1.0,\"#f0f921\"]],\"diverging\":[[0,\"#8e0152\"],[0.1,\"#c51b7d\"],[0.2,\"#de77ae\"],[0.3,\"#f1b6da\"],[0.4,\"#fde0ef\"],[0.5,\"#f7f7f7\"],[0.6,\"#e6f5d0\"],[0.7,\"#b8e186\"],[0.8,\"#7fbc41\"],[0.9,\"#4d9221\"],[1,\"#276419\"]]},\"xaxis\":{\"gridcolor\":\"white\",\"linecolor\":\"white\",\"ticks\":\"\",\"title\":{\"standoff\":15},\"zerolinecolor\":\"white\",\"automargin\":true,\"zerolinewidth\":2},\"yaxis\":{\"gridcolor\":\"white\",\"linecolor\":\"white\",\"ticks\":\"\",\"title\":{\"standoff\":15},\"zerolinecolor\":\"white\",\"automargin\":true,\"zerolinewidth\":2},\"scene\":{\"xaxis\":{\"backgroundcolor\":\"#E5ECF6\",\"gridcolor\":\"white\",\"linecolor\":\"white\",\"showbackground\":true,\"ticks\":\"\",\"zerolinecolor\":\"white\",\"gridwidth\":2},\"yaxis\":{\"backgroundcolor\":\"#E5ECF6\",\"gridcolor\":\"white\",\"linecolor\":\"white\",\"showbackground\":true,\"ticks\":\"\",\"zerolinecolor\":\"white\",\"gridwidth\":2},\"zaxis\":{\"backgroundcolor\":\"#E5ECF6\",\"gridcolor\":\"white\",\"linecolor\":\"white\",\"showbackground\":true,\"ticks\":\"\",\"zerolinecolor\":\"white\",\"gridwidth\":2}},\"shapedefaults\":{\"line\":{\"color\":\"#2a3f5f\"}},\"annotationdefaults\":{\"arrowcolor\":\"#2a3f5f\",\"arrowhead\":0,\"arrowwidth\":1},\"geo\":{\"bgcolor\":\"white\",\"landcolor\":\"#E5ECF6\",\"subunitcolor\":\"white\",\"showland\":true,\"showlakes\":true,\"lakecolor\":\"white\"},\"title\":{\"x\":0.05},\"mapbox\":{\"style\":\"light\"}}},\"xaxis\":{\"anchor\":\"y\",\"domain\":[0.0,1.0],\"title\":{\"text\":\"index\"}},\"yaxis\":{\"anchor\":\"x\",\"domain\":[0.0,1.0],\"title\":{\"text\":\"value\"},\"type\":\"log\"},\"legend\":{\"title\":{\"text\":\"variable\"},\"tracegroupgap\":0},\"title\":{\"text\":\"Checkpoint Values for stanford-gpt2-small-a (Log scale)\"}},                        {\"responsive\": true}                    ).then(function(){\n",
       "                            \n",
       "var gd = document.getElementById('87c7d210-cc47-4c30-be57-2c8152b6d491');\n",
       "var x = new MutationObserver(function (mutations, observer) {{\n",
       "        var display = window.getComputedStyle(gd).display;\n",
       "        if (!display || display === 'none') {{\n",
       "            console.log([gd, 'removed!']);\n",
       "            Plotly.purge(gd);\n",
       "            observer.disconnect();\n",
       "        }}\n",
       "}});\n",
       "\n",
       "// Listen for the removal of the full notebook cells\n",
       "var notebookContainer = gd.closest('#notebook-container');\n",
       "if (notebookContainer) {{\n",
       "    x.observe(notebookContainer, {childList: true});\n",
       "}}\n",
       "\n",
       "// Listen for the clearing of the current output cell\n",
       "var outputEl = gd.closest('.output');\n",
       "if (outputEl) {{\n",
       "    x.observe(outputEl, {childList: true});\n",
       "}}\n",
       "\n",
       "                        })                };                            </script>        </div>\n",
       "</body>\n",
       "</html>"
      ]
     },
     "metadata": {},
     "output_type": "display_data"
    },
    {
     "data": {
      "text/html": [
       "<html>\n",
       "<head><meta charset=\"utf-8\" /></head>\n",
       "<body>\n",
       "    <div>            <script src=\"https://cdnjs.cloudflare.com/ajax/libs/mathjax/2.7.5/MathJax.js?config=TeX-AMS-MML_SVG\"></script><script type=\"text/javascript\">if (window.MathJax && window.MathJax.Hub && window.MathJax.Hub.Config) {window.MathJax.Hub.Config({SVG: {font: \"STIX-Web\"}});}</script>                <script type=\"text/javascript\">window.PlotlyConfig = {MathJaxConfig: 'local'};</script>\n",
       "        <script src=\"https://cdn.plot.ly/plotly-2.16.1.min.js\"></script>                <div id=\"3614b7fd-aa3e-4b49-a7d7-215d10df33e5\" class=\"plotly-graph-div\" style=\"height:525px; width:100%;\"></div>            <script type=\"text/javascript\">                                    window.PLOTLYENV=window.PLOTLYENV || {};                                    if (document.getElementById(\"3614b7fd-aa3e-4b49-a7d7-215d10df33e5\")) {                    Plotly.newPlot(                        \"3614b7fd-aa3e-4b49-a7d7-215d10df33e5\",                        [{\"hovertemplate\":\"variable=0<br>index=%{x}<br>value=%{y}<extra></extra>\",\"legendgroup\":\"0\",\"line\":{\"color\":\"#636efa\",\"dash\":\"solid\"},\"marker\":{\"symbol\":\"circle\"},\"mode\":\"markers+lines\",\"name\":\"0\",\"orientation\":\"v\",\"showlegend\":true,\"x\":[0,1,2,3,4,5,6,7,8,9,10,11,12,13,14,15,16,17,18,19,20,21,22,23,24,25,26,27,28,29,30,31,32,33,34,35,36,37,38,39,40,41,42,43,44,45,46,47,48,49],\"xaxis\":\"x\",\"y\":[832,1664,2496,3328,4160,4992,5824,6656,7488,8320,9152,9984,10816,11648,12480,13312,14144,14976,15808,16640,17472,18304,19136,19968,20800,21632,22464,23296,24128,24960,25792,26624,27456,28288,29120,29952,30784,31616,32448,33280,34112,34944,35776,36608,37440,38272,39104,39936,40768,41600],\"yaxis\":\"y\",\"type\":\"scatter\"}],                        {\"template\":{\"data\":{\"histogram2dcontour\":[{\"type\":\"histogram2dcontour\",\"colorbar\":{\"outlinewidth\":0,\"ticks\":\"\"},\"colorscale\":[[0.0,\"#0d0887\"],[0.1111111111111111,\"#46039f\"],[0.2222222222222222,\"#7201a8\"],[0.3333333333333333,\"#9c179e\"],[0.4444444444444444,\"#bd3786\"],[0.5555555555555556,\"#d8576b\"],[0.6666666666666666,\"#ed7953\"],[0.7777777777777778,\"#fb9f3a\"],[0.8888888888888888,\"#fdca26\"],[1.0,\"#f0f921\"]]}],\"choropleth\":[{\"type\":\"choropleth\",\"colorbar\":{\"outlinewidth\":0,\"ticks\":\"\"}}],\"histogram2d\":[{\"type\":\"histogram2d\",\"colorbar\":{\"outlinewidth\":0,\"ticks\":\"\"},\"colorscale\":[[0.0,\"#0d0887\"],[0.1111111111111111,\"#46039f\"],[0.2222222222222222,\"#7201a8\"],[0.3333333333333333,\"#9c179e\"],[0.4444444444444444,\"#bd3786\"],[0.5555555555555556,\"#d8576b\"],[0.6666666666666666,\"#ed7953\"],[0.7777777777777778,\"#fb9f3a\"],[0.8888888888888888,\"#fdca26\"],[1.0,\"#f0f921\"]]}],\"heatmap\":[{\"type\":\"heatmap\",\"colorbar\":{\"outlinewidth\":0,\"ticks\":\"\"},\"colorscale\":[[0.0,\"#0d0887\"],[0.1111111111111111,\"#46039f\"],[0.2222222222222222,\"#7201a8\"],[0.3333333333333333,\"#9c179e\"],[0.4444444444444444,\"#bd3786\"],[0.5555555555555556,\"#d8576b\"],[0.6666666666666666,\"#ed7953\"],[0.7777777777777778,\"#fb9f3a\"],[0.8888888888888888,\"#fdca26\"],[1.0,\"#f0f921\"]]}],\"heatmapgl\":[{\"type\":\"heatmapgl\",\"colorbar\":{\"outlinewidth\":0,\"ticks\":\"\"},\"colorscale\":[[0.0,\"#0d0887\"],[0.1111111111111111,\"#46039f\"],[0.2222222222222222,\"#7201a8\"],[0.3333333333333333,\"#9c179e\"],[0.4444444444444444,\"#bd3786\"],[0.5555555555555556,\"#d8576b\"],[0.6666666666666666,\"#ed7953\"],[0.7777777777777778,\"#fb9f3a\"],[0.8888888888888888,\"#fdca26\"],[1.0,\"#f0f921\"]]}],\"contourcarpet\":[{\"type\":\"contourcarpet\",\"colorbar\":{\"outlinewidth\":0,\"ticks\":\"\"}}],\"contour\":[{\"type\":\"contour\",\"colorbar\":{\"outlinewidth\":0,\"ticks\":\"\"},\"colorscale\":[[0.0,\"#0d0887\"],[0.1111111111111111,\"#46039f\"],[0.2222222222222222,\"#7201a8\"],[0.3333333333333333,\"#9c179e\"],[0.4444444444444444,\"#bd3786\"],[0.5555555555555556,\"#d8576b\"],[0.6666666666666666,\"#ed7953\"],[0.7777777777777778,\"#fb9f3a\"],[0.8888888888888888,\"#fdca26\"],[1.0,\"#f0f921\"]]}],\"surface\":[{\"type\":\"surface\",\"colorbar\":{\"outlinewidth\":0,\"ticks\":\"\"},\"colorscale\":[[0.0,\"#0d0887\"],[0.1111111111111111,\"#46039f\"],[0.2222222222222222,\"#7201a8\"],[0.3333333333333333,\"#9c179e\"],[0.4444444444444444,\"#bd3786\"],[0.5555555555555556,\"#d8576b\"],[0.6666666666666666,\"#ed7953\"],[0.7777777777777778,\"#fb9f3a\"],[0.8888888888888888,\"#fdca26\"],[1.0,\"#f0f921\"]]}],\"mesh3d\":[{\"type\":\"mesh3d\",\"colorbar\":{\"outlinewidth\":0,\"ticks\":\"\"}}],\"scatter\":[{\"fillpattern\":{\"fillmode\":\"overlay\",\"size\":10,\"solidity\":0.2},\"type\":\"scatter\"}],\"parcoords\":[{\"type\":\"parcoords\",\"line\":{\"colorbar\":{\"outlinewidth\":0,\"ticks\":\"\"}}}],\"scatterpolargl\":[{\"type\":\"scatterpolargl\",\"marker\":{\"colorbar\":{\"outlinewidth\":0,\"ticks\":\"\"}}}],\"bar\":[{\"error_x\":{\"color\":\"#2a3f5f\"},\"error_y\":{\"color\":\"#2a3f5f\"},\"marker\":{\"line\":{\"color\":\"#E5ECF6\",\"width\":0.5},\"pattern\":{\"fillmode\":\"overlay\",\"size\":10,\"solidity\":0.2}},\"type\":\"bar\"}],\"scattergeo\":[{\"type\":\"scattergeo\",\"marker\":{\"colorbar\":{\"outlinewidth\":0,\"ticks\":\"\"}}}],\"scatterpolar\":[{\"type\":\"scatterpolar\",\"marker\":{\"colorbar\":{\"outlinewidth\":0,\"ticks\":\"\"}}}],\"histogram\":[{\"marker\":{\"pattern\":{\"fillmode\":\"overlay\",\"size\":10,\"solidity\":0.2}},\"type\":\"histogram\"}],\"scattergl\":[{\"type\":\"scattergl\",\"marker\":{\"colorbar\":{\"outlinewidth\":0,\"ticks\":\"\"}}}],\"scatter3d\":[{\"type\":\"scatter3d\",\"line\":{\"colorbar\":{\"outlinewidth\":0,\"ticks\":\"\"}},\"marker\":{\"colorbar\":{\"outlinewidth\":0,\"ticks\":\"\"}}}],\"scattermapbox\":[{\"type\":\"scattermapbox\",\"marker\":{\"colorbar\":{\"outlinewidth\":0,\"ticks\":\"\"}}}],\"scatterternary\":[{\"type\":\"scatterternary\",\"marker\":{\"colorbar\":{\"outlinewidth\":0,\"ticks\":\"\"}}}],\"scattercarpet\":[{\"type\":\"scattercarpet\",\"marker\":{\"colorbar\":{\"outlinewidth\":0,\"ticks\":\"\"}}}],\"carpet\":[{\"aaxis\":{\"endlinecolor\":\"#2a3f5f\",\"gridcolor\":\"white\",\"linecolor\":\"white\",\"minorgridcolor\":\"white\",\"startlinecolor\":\"#2a3f5f\"},\"baxis\":{\"endlinecolor\":\"#2a3f5f\",\"gridcolor\":\"white\",\"linecolor\":\"white\",\"minorgridcolor\":\"white\",\"startlinecolor\":\"#2a3f5f\"},\"type\":\"carpet\"}],\"table\":[{\"cells\":{\"fill\":{\"color\":\"#EBF0F8\"},\"line\":{\"color\":\"white\"}},\"header\":{\"fill\":{\"color\":\"#C8D4E3\"},\"line\":{\"color\":\"white\"}},\"type\":\"table\"}],\"barpolar\":[{\"marker\":{\"line\":{\"color\":\"#E5ECF6\",\"width\":0.5},\"pattern\":{\"fillmode\":\"overlay\",\"size\":10,\"solidity\":0.2}},\"type\":\"barpolar\"}],\"pie\":[{\"automargin\":true,\"type\":\"pie\"}]},\"layout\":{\"autotypenumbers\":\"strict\",\"colorway\":[\"#636efa\",\"#EF553B\",\"#00cc96\",\"#ab63fa\",\"#FFA15A\",\"#19d3f3\",\"#FF6692\",\"#B6E880\",\"#FF97FF\",\"#FECB52\"],\"font\":{\"color\":\"#2a3f5f\"},\"hovermode\":\"closest\",\"hoverlabel\":{\"align\":\"left\"},\"paper_bgcolor\":\"white\",\"plot_bgcolor\":\"#E5ECF6\",\"polar\":{\"bgcolor\":\"#E5ECF6\",\"angularaxis\":{\"gridcolor\":\"white\",\"linecolor\":\"white\",\"ticks\":\"\"},\"radialaxis\":{\"gridcolor\":\"white\",\"linecolor\":\"white\",\"ticks\":\"\"}},\"ternary\":{\"bgcolor\":\"#E5ECF6\",\"aaxis\":{\"gridcolor\":\"white\",\"linecolor\":\"white\",\"ticks\":\"\"},\"baxis\":{\"gridcolor\":\"white\",\"linecolor\":\"white\",\"ticks\":\"\"},\"caxis\":{\"gridcolor\":\"white\",\"linecolor\":\"white\",\"ticks\":\"\"}},\"coloraxis\":{\"colorbar\":{\"outlinewidth\":0,\"ticks\":\"\"}},\"colorscale\":{\"sequential\":[[0.0,\"#0d0887\"],[0.1111111111111111,\"#46039f\"],[0.2222222222222222,\"#7201a8\"],[0.3333333333333333,\"#9c179e\"],[0.4444444444444444,\"#bd3786\"],[0.5555555555555556,\"#d8576b\"],[0.6666666666666666,\"#ed7953\"],[0.7777777777777778,\"#fb9f3a\"],[0.8888888888888888,\"#fdca26\"],[1.0,\"#f0f921\"]],\"sequentialminus\":[[0.0,\"#0d0887\"],[0.1111111111111111,\"#46039f\"],[0.2222222222222222,\"#7201a8\"],[0.3333333333333333,\"#9c179e\"],[0.4444444444444444,\"#bd3786\"],[0.5555555555555556,\"#d8576b\"],[0.6666666666666666,\"#ed7953\"],[0.7777777777777778,\"#fb9f3a\"],[0.8888888888888888,\"#fdca26\"],[1.0,\"#f0f921\"]],\"diverging\":[[0,\"#8e0152\"],[0.1,\"#c51b7d\"],[0.2,\"#de77ae\"],[0.3,\"#f1b6da\"],[0.4,\"#fde0ef\"],[0.5,\"#f7f7f7\"],[0.6,\"#e6f5d0\"],[0.7,\"#b8e186\"],[0.8,\"#7fbc41\"],[0.9,\"#4d9221\"],[1,\"#276419\"]]},\"xaxis\":{\"gridcolor\":\"white\",\"linecolor\":\"white\",\"ticks\":\"\",\"title\":{\"standoff\":15},\"zerolinecolor\":\"white\",\"automargin\":true,\"zerolinewidth\":2},\"yaxis\":{\"gridcolor\":\"white\",\"linecolor\":\"white\",\"ticks\":\"\",\"title\":{\"standoff\":15},\"zerolinecolor\":\"white\",\"automargin\":true,\"zerolinewidth\":2},\"scene\":{\"xaxis\":{\"backgroundcolor\":\"#E5ECF6\",\"gridcolor\":\"white\",\"linecolor\":\"white\",\"showbackground\":true,\"ticks\":\"\",\"zerolinecolor\":\"white\",\"gridwidth\":2},\"yaxis\":{\"backgroundcolor\":\"#E5ECF6\",\"gridcolor\":\"white\",\"linecolor\":\"white\",\"showbackground\":true,\"ticks\":\"\",\"zerolinecolor\":\"white\",\"gridwidth\":2},\"zaxis\":{\"backgroundcolor\":\"#E5ECF6\",\"gridcolor\":\"white\",\"linecolor\":\"white\",\"showbackground\":true,\"ticks\":\"\",\"zerolinecolor\":\"white\",\"gridwidth\":2}},\"shapedefaults\":{\"line\":{\"color\":\"#2a3f5f\"}},\"annotationdefaults\":{\"arrowcolor\":\"#2a3f5f\",\"arrowhead\":0,\"arrowwidth\":1},\"geo\":{\"bgcolor\":\"white\",\"landcolor\":\"#E5ECF6\",\"subunitcolor\":\"white\",\"showland\":true,\"showlakes\":true,\"lakecolor\":\"white\"},\"title\":{\"x\":0.05},\"mapbox\":{\"style\":\"light\"}}},\"xaxis\":{\"anchor\":\"y\",\"domain\":[0.0,1.0],\"title\":{\"text\":\"index\"}},\"yaxis\":{\"anchor\":\"x\",\"domain\":[0.0,1.0],\"title\":{\"text\":\"value\"}},\"legend\":{\"title\":{\"text\":\"variable\"},\"tracegroupgap\":0},\"title\":{\"text\":\"Checkpoint Values for solu-1l-pile (Linear scale)\"}},                        {\"responsive\": true}                    ).then(function(){\n",
       "                            \n",
       "var gd = document.getElementById('3614b7fd-aa3e-4b49-a7d7-215d10df33e5');\n",
       "var x = new MutationObserver(function (mutations, observer) {{\n",
       "        var display = window.getComputedStyle(gd).display;\n",
       "        if (!display || display === 'none') {{\n",
       "            console.log([gd, 'removed!']);\n",
       "            Plotly.purge(gd);\n",
       "            observer.disconnect();\n",
       "        }}\n",
       "}});\n",
       "\n",
       "// Listen for the removal of the full notebook cells\n",
       "var notebookContainer = gd.closest('#notebook-container');\n",
       "if (notebookContainer) {{\n",
       "    x.observe(notebookContainer, {childList: true});\n",
       "}}\n",
       "\n",
       "// Listen for the clearing of the current output cell\n",
       "var outputEl = gd.closest('.output');\n",
       "if (outputEl) {{\n",
       "    x.observe(outputEl, {childList: true});\n",
       "}}\n",
       "\n",
       "                        })                };                            </script>        </div>\n",
       "</body>\n",
       "</html>"
      ]
     },
     "metadata": {},
     "output_type": "display_data"
    },
    {
     "data": {
      "text/html": [
       "<html>\n",
       "<head><meta charset=\"utf-8\" /></head>\n",
       "<body>\n",
       "    <div>            <script src=\"https://cdnjs.cloudflare.com/ajax/libs/mathjax/2.7.5/MathJax.js?config=TeX-AMS-MML_SVG\"></script><script type=\"text/javascript\">if (window.MathJax && window.MathJax.Hub && window.MathJax.Hub.Config) {window.MathJax.Hub.Config({SVG: {font: \"STIX-Web\"}});}</script>                <script type=\"text/javascript\">window.PlotlyConfig = {MathJaxConfig: 'local'};</script>\n",
       "        <script src=\"https://cdn.plot.ly/plotly-2.16.1.min.js\"></script>                <div id=\"440d9dd4-5051-445a-be32-9ad92e71921a\" class=\"plotly-graph-div\" style=\"height:525px; width:100%;\"></div>            <script type=\"text/javascript\">                                    window.PLOTLYENV=window.PLOTLYENV || {};                                    if (document.getElementById(\"440d9dd4-5051-445a-be32-9ad92e71921a\")) {                    Plotly.newPlot(                        \"440d9dd4-5051-445a-be32-9ad92e71921a\",                        [{\"hovertemplate\":\"variable=0<br>index=%{x}<br>value=%{y}<extra></extra>\",\"legendgroup\":\"0\",\"line\":{\"color\":\"#636efa\",\"dash\":\"solid\"},\"marker\":{\"symbol\":\"circle\"},\"mode\":\"markers+lines\",\"name\":\"0\",\"orientation\":\"v\",\"showlegend\":true,\"x\":[0,1,2,3,4,5,6,7,8,9,10,11,12,13,14,15,16,17,18,19,20,21,22,23,24,25,26,27,28,29,30,31,32,33,34,35,36,37,38,39,40,41,42,43,44,45,46,47,48,49,50,51,52,53,54,55,56,57,58,59,60,61,62,63,64,65,66,67,68,69,70,71,72,73,74,75,76,77,78,79,80,81,82,83,84,85,86,87,88,89,90,91,92,93,94,95,96,97,98,99],\"xaxis\":\"x\",\"y\":[326,652,978,1304,1630,1956,2282,2608,2934,3260,3586,3912,4238,4564,4890,5216,5542,5868,6194,6520,6846,7172,7498,7824,8150,8476,8802,9128,9454,9780,10106,10432,10758,11084,11410,11736,12062,12388,12714,13040,13366,13692,14018,14344,14670,14996,15322,15648,15974,16300,16626,16952,17278,17604,17930,18256,18582,18908,19234,19560,19886,20212,20538,20864,21190,21516,21842,22168,22494,22820,23146,23472,23798,24124,24450,24776,25102,25428,25754,26080,26406,26732,27058,27384,27710,28036,28362,28688,29014,29340,29666,29992,30318,30644,30970,31296,31622,31948,32274,32600],\"yaxis\":\"y\",\"type\":\"scatter\"}],                        {\"template\":{\"data\":{\"histogram2dcontour\":[{\"type\":\"histogram2dcontour\",\"colorbar\":{\"outlinewidth\":0,\"ticks\":\"\"},\"colorscale\":[[0.0,\"#0d0887\"],[0.1111111111111111,\"#46039f\"],[0.2222222222222222,\"#7201a8\"],[0.3333333333333333,\"#9c179e\"],[0.4444444444444444,\"#bd3786\"],[0.5555555555555556,\"#d8576b\"],[0.6666666666666666,\"#ed7953\"],[0.7777777777777778,\"#fb9f3a\"],[0.8888888888888888,\"#fdca26\"],[1.0,\"#f0f921\"]]}],\"choropleth\":[{\"type\":\"choropleth\",\"colorbar\":{\"outlinewidth\":0,\"ticks\":\"\"}}],\"histogram2d\":[{\"type\":\"histogram2d\",\"colorbar\":{\"outlinewidth\":0,\"ticks\":\"\"},\"colorscale\":[[0.0,\"#0d0887\"],[0.1111111111111111,\"#46039f\"],[0.2222222222222222,\"#7201a8\"],[0.3333333333333333,\"#9c179e\"],[0.4444444444444444,\"#bd3786\"],[0.5555555555555556,\"#d8576b\"],[0.6666666666666666,\"#ed7953\"],[0.7777777777777778,\"#fb9f3a\"],[0.8888888888888888,\"#fdca26\"],[1.0,\"#f0f921\"]]}],\"heatmap\":[{\"type\":\"heatmap\",\"colorbar\":{\"outlinewidth\":0,\"ticks\":\"\"},\"colorscale\":[[0.0,\"#0d0887\"],[0.1111111111111111,\"#46039f\"],[0.2222222222222222,\"#7201a8\"],[0.3333333333333333,\"#9c179e\"],[0.4444444444444444,\"#bd3786\"],[0.5555555555555556,\"#d8576b\"],[0.6666666666666666,\"#ed7953\"],[0.7777777777777778,\"#fb9f3a\"],[0.8888888888888888,\"#fdca26\"],[1.0,\"#f0f921\"]]}],\"heatmapgl\":[{\"type\":\"heatmapgl\",\"colorbar\":{\"outlinewidth\":0,\"ticks\":\"\"},\"colorscale\":[[0.0,\"#0d0887\"],[0.1111111111111111,\"#46039f\"],[0.2222222222222222,\"#7201a8\"],[0.3333333333333333,\"#9c179e\"],[0.4444444444444444,\"#bd3786\"],[0.5555555555555556,\"#d8576b\"],[0.6666666666666666,\"#ed7953\"],[0.7777777777777778,\"#fb9f3a\"],[0.8888888888888888,\"#fdca26\"],[1.0,\"#f0f921\"]]}],\"contourcarpet\":[{\"type\":\"contourcarpet\",\"colorbar\":{\"outlinewidth\":0,\"ticks\":\"\"}}],\"contour\":[{\"type\":\"contour\",\"colorbar\":{\"outlinewidth\":0,\"ticks\":\"\"},\"colorscale\":[[0.0,\"#0d0887\"],[0.1111111111111111,\"#46039f\"],[0.2222222222222222,\"#7201a8\"],[0.3333333333333333,\"#9c179e\"],[0.4444444444444444,\"#bd3786\"],[0.5555555555555556,\"#d8576b\"],[0.6666666666666666,\"#ed7953\"],[0.7777777777777778,\"#fb9f3a\"],[0.8888888888888888,\"#fdca26\"],[1.0,\"#f0f921\"]]}],\"surface\":[{\"type\":\"surface\",\"colorbar\":{\"outlinewidth\":0,\"ticks\":\"\"},\"colorscale\":[[0.0,\"#0d0887\"],[0.1111111111111111,\"#46039f\"],[0.2222222222222222,\"#7201a8\"],[0.3333333333333333,\"#9c179e\"],[0.4444444444444444,\"#bd3786\"],[0.5555555555555556,\"#d8576b\"],[0.6666666666666666,\"#ed7953\"],[0.7777777777777778,\"#fb9f3a\"],[0.8888888888888888,\"#fdca26\"],[1.0,\"#f0f921\"]]}],\"mesh3d\":[{\"type\":\"mesh3d\",\"colorbar\":{\"outlinewidth\":0,\"ticks\":\"\"}}],\"scatter\":[{\"fillpattern\":{\"fillmode\":\"overlay\",\"size\":10,\"solidity\":0.2},\"type\":\"scatter\"}],\"parcoords\":[{\"type\":\"parcoords\",\"line\":{\"colorbar\":{\"outlinewidth\":0,\"ticks\":\"\"}}}],\"scatterpolargl\":[{\"type\":\"scatterpolargl\",\"marker\":{\"colorbar\":{\"outlinewidth\":0,\"ticks\":\"\"}}}],\"bar\":[{\"error_x\":{\"color\":\"#2a3f5f\"},\"error_y\":{\"color\":\"#2a3f5f\"},\"marker\":{\"line\":{\"color\":\"#E5ECF6\",\"width\":0.5},\"pattern\":{\"fillmode\":\"overlay\",\"size\":10,\"solidity\":0.2}},\"type\":\"bar\"}],\"scattergeo\":[{\"type\":\"scattergeo\",\"marker\":{\"colorbar\":{\"outlinewidth\":0,\"ticks\":\"\"}}}],\"scatterpolar\":[{\"type\":\"scatterpolar\",\"marker\":{\"colorbar\":{\"outlinewidth\":0,\"ticks\":\"\"}}}],\"histogram\":[{\"marker\":{\"pattern\":{\"fillmode\":\"overlay\",\"size\":10,\"solidity\":0.2}},\"type\":\"histogram\"}],\"scattergl\":[{\"type\":\"scattergl\",\"marker\":{\"colorbar\":{\"outlinewidth\":0,\"ticks\":\"\"}}}],\"scatter3d\":[{\"type\":\"scatter3d\",\"line\":{\"colorbar\":{\"outlinewidth\":0,\"ticks\":\"\"}},\"marker\":{\"colorbar\":{\"outlinewidth\":0,\"ticks\":\"\"}}}],\"scattermapbox\":[{\"type\":\"scattermapbox\",\"marker\":{\"colorbar\":{\"outlinewidth\":0,\"ticks\":\"\"}}}],\"scatterternary\":[{\"type\":\"scatterternary\",\"marker\":{\"colorbar\":{\"outlinewidth\":0,\"ticks\":\"\"}}}],\"scattercarpet\":[{\"type\":\"scattercarpet\",\"marker\":{\"colorbar\":{\"outlinewidth\":0,\"ticks\":\"\"}}}],\"carpet\":[{\"aaxis\":{\"endlinecolor\":\"#2a3f5f\",\"gridcolor\":\"white\",\"linecolor\":\"white\",\"minorgridcolor\":\"white\",\"startlinecolor\":\"#2a3f5f\"},\"baxis\":{\"endlinecolor\":\"#2a3f5f\",\"gridcolor\":\"white\",\"linecolor\":\"white\",\"minorgridcolor\":\"white\",\"startlinecolor\":\"#2a3f5f\"},\"type\":\"carpet\"}],\"table\":[{\"cells\":{\"fill\":{\"color\":\"#EBF0F8\"},\"line\":{\"color\":\"white\"}},\"header\":{\"fill\":{\"color\":\"#C8D4E3\"},\"line\":{\"color\":\"white\"}},\"type\":\"table\"}],\"barpolar\":[{\"marker\":{\"line\":{\"color\":\"#E5ECF6\",\"width\":0.5},\"pattern\":{\"fillmode\":\"overlay\",\"size\":10,\"solidity\":0.2}},\"type\":\"barpolar\"}],\"pie\":[{\"automargin\":true,\"type\":\"pie\"}]},\"layout\":{\"autotypenumbers\":\"strict\",\"colorway\":[\"#636efa\",\"#EF553B\",\"#00cc96\",\"#ab63fa\",\"#FFA15A\",\"#19d3f3\",\"#FF6692\",\"#B6E880\",\"#FF97FF\",\"#FECB52\"],\"font\":{\"color\":\"#2a3f5f\"},\"hovermode\":\"closest\",\"hoverlabel\":{\"align\":\"left\"},\"paper_bgcolor\":\"white\",\"plot_bgcolor\":\"#E5ECF6\",\"polar\":{\"bgcolor\":\"#E5ECF6\",\"angularaxis\":{\"gridcolor\":\"white\",\"linecolor\":\"white\",\"ticks\":\"\"},\"radialaxis\":{\"gridcolor\":\"white\",\"linecolor\":\"white\",\"ticks\":\"\"}},\"ternary\":{\"bgcolor\":\"#E5ECF6\",\"aaxis\":{\"gridcolor\":\"white\",\"linecolor\":\"white\",\"ticks\":\"\"},\"baxis\":{\"gridcolor\":\"white\",\"linecolor\":\"white\",\"ticks\":\"\"},\"caxis\":{\"gridcolor\":\"white\",\"linecolor\":\"white\",\"ticks\":\"\"}},\"coloraxis\":{\"colorbar\":{\"outlinewidth\":0,\"ticks\":\"\"}},\"colorscale\":{\"sequential\":[[0.0,\"#0d0887\"],[0.1111111111111111,\"#46039f\"],[0.2222222222222222,\"#7201a8\"],[0.3333333333333333,\"#9c179e\"],[0.4444444444444444,\"#bd3786\"],[0.5555555555555556,\"#d8576b\"],[0.6666666666666666,\"#ed7953\"],[0.7777777777777778,\"#fb9f3a\"],[0.8888888888888888,\"#fdca26\"],[1.0,\"#f0f921\"]],\"sequentialminus\":[[0.0,\"#0d0887\"],[0.1111111111111111,\"#46039f\"],[0.2222222222222222,\"#7201a8\"],[0.3333333333333333,\"#9c179e\"],[0.4444444444444444,\"#bd3786\"],[0.5555555555555556,\"#d8576b\"],[0.6666666666666666,\"#ed7953\"],[0.7777777777777778,\"#fb9f3a\"],[0.8888888888888888,\"#fdca26\"],[1.0,\"#f0f921\"]],\"diverging\":[[0,\"#8e0152\"],[0.1,\"#c51b7d\"],[0.2,\"#de77ae\"],[0.3,\"#f1b6da\"],[0.4,\"#fde0ef\"],[0.5,\"#f7f7f7\"],[0.6,\"#e6f5d0\"],[0.7,\"#b8e186\"],[0.8,\"#7fbc41\"],[0.9,\"#4d9221\"],[1,\"#276419\"]]},\"xaxis\":{\"gridcolor\":\"white\",\"linecolor\":\"white\",\"ticks\":\"\",\"title\":{\"standoff\":15},\"zerolinecolor\":\"white\",\"automargin\":true,\"zerolinewidth\":2},\"yaxis\":{\"gridcolor\":\"white\",\"linecolor\":\"white\",\"ticks\":\"\",\"title\":{\"standoff\":15},\"zerolinecolor\":\"white\",\"automargin\":true,\"zerolinewidth\":2},\"scene\":{\"xaxis\":{\"backgroundcolor\":\"#E5ECF6\",\"gridcolor\":\"white\",\"linecolor\":\"white\",\"showbackground\":true,\"ticks\":\"\",\"zerolinecolor\":\"white\",\"gridwidth\":2},\"yaxis\":{\"backgroundcolor\":\"#E5ECF6\",\"gridcolor\":\"white\",\"linecolor\":\"white\",\"showbackground\":true,\"ticks\":\"\",\"zerolinecolor\":\"white\",\"gridwidth\":2},\"zaxis\":{\"backgroundcolor\":\"#E5ECF6\",\"gridcolor\":\"white\",\"linecolor\":\"white\",\"showbackground\":true,\"ticks\":\"\",\"zerolinecolor\":\"white\",\"gridwidth\":2}},\"shapedefaults\":{\"line\":{\"color\":\"#2a3f5f\"}},\"annotationdefaults\":{\"arrowcolor\":\"#2a3f5f\",\"arrowhead\":0,\"arrowwidth\":1},\"geo\":{\"bgcolor\":\"white\",\"landcolor\":\"#E5ECF6\",\"subunitcolor\":\"white\",\"showland\":true,\"showlakes\":true,\"lakecolor\":\"white\"},\"title\":{\"x\":0.05},\"mapbox\":{\"style\":\"light\"}}},\"xaxis\":{\"anchor\":\"y\",\"domain\":[0.0,1.0],\"title\":{\"text\":\"index\"}},\"yaxis\":{\"anchor\":\"x\",\"domain\":[0.0,1.0],\"title\":{\"text\":\"value\"}},\"legend\":{\"title\":{\"text\":\"variable\"},\"tracegroupgap\":0},\"title\":{\"text\":\"Checkpoint Values for solu-6l-pile (Linear scale)\"}},                        {\"responsive\": true}                    ).then(function(){\n",
       "                            \n",
       "var gd = document.getElementById('440d9dd4-5051-445a-be32-9ad92e71921a');\n",
       "var x = new MutationObserver(function (mutations, observer) {{\n",
       "        var display = window.getComputedStyle(gd).display;\n",
       "        if (!display || display === 'none') {{\n",
       "            console.log([gd, 'removed!']);\n",
       "            Plotly.purge(gd);\n",
       "            observer.disconnect();\n",
       "        }}\n",
       "}});\n",
       "\n",
       "// Listen for the removal of the full notebook cells\n",
       "var notebookContainer = gd.closest('#notebook-container');\n",
       "if (notebookContainer) {{\n",
       "    x.observe(notebookContainer, {childList: true});\n",
       "}}\n",
       "\n",
       "// Listen for the clearing of the current output cell\n",
       "var outputEl = gd.closest('.output');\n",
       "if (outputEl) {{\n",
       "    x.observe(outputEl, {childList: true});\n",
       "}}\n",
       "\n",
       "                        })                };                            </script>        </div>\n",
       "</body>\n",
       "</html>"
      ]
     },
     "metadata": {},
     "output_type": "display_data"
    }
   ],
   "source": [
    "from transformer_lens.loading_from_pretrained import get_checkpoint_labels\n",
    "for model_name in [\"attn-only-2l\", \"solu-12l\", \"stanford-gpt2-small-a\"]:\n",
    "    checkpoint_labels, checkpoint_label_type = get_checkpoint_labels(model_name)\n",
    "    line(checkpoint_labels, xaxis=\"Checkpoint Index\", yaxis=f\"Checkpoint Value ({checkpoint_label_type})\", title=f\"Checkpoint Values for {model_name} (Log scale)\", log_y=True, markers=True)\n",
    "for model_name in [\"solu-1l-pile\", \"solu-6l-pile\"]:\n",
    "    checkpoint_labels, checkpoint_label_type = get_checkpoint_labels(model_name)\n",
    "    line(checkpoint_labels, xaxis=\"Checkpoint Index\", yaxis=f\"Checkpoint Value ({checkpoint_label_type})\", title=f\"Checkpoint Values for {model_name} (Linear scale)\", log_y=False, markers=True)"
   ]
  },
  {
   "cell_type": "markdown",
   "metadata": {},
   "source": [
    "### Example: Induction Head Phase Transition"
   ]
  },
  {
   "cell_type": "markdown",
   "metadata": {},
   "source": [
    "One of the more interesting results analysing circuit formation during training is the [induction head phase transition](https://transformer-circuits.pub/2022/in-context-learning-and-induction-heads/index.html). They find a pretty dramatic shift in models during training - there's a brief period where models go from not having induction heads to having them, which leads to the models suddenly becoming much better at in-context learning (using far back tokens to predict the next token, eg over 500 words back). This is enough of a big deal that it leads to a visible *bump* in the loss curve, where the model's rate of improvement briefly increases. "
   ]
  },
  {
   "cell_type": "markdown",
   "metadata": {},
   "source": [
    "As a brief demonstration of the existence of the phase transition, let's load some checkpoints of a two layer model, and see whether they have induction heads. An easy test, as we used above, is to give the model a repeated sequence of random tokens, and to check how good its loss is on the second half. `evals.induction_loss` is a rough util that runs this test on a model.\n",
    "(Note - this is deliberately a rough, non-rigorous test for the purposes of demonstration, eg `evals.induction_loss` by default just runs it on 4 sequences of 384 tokens repeated twice. These results totally don't do the paper justice - go check it out if you want to see the full results!)"
   ]
  },
  {
   "cell_type": "markdown",
   "metadata": {},
   "source": [
    "In the interests of time and memory, let's look at a handful of checkpoints (chosen to be around the phase change), indices `[10, 25, 35, 60, -1]`. These are roughly 22M, 200M, 500M, 1.6B and 21.8B tokens through training, respectively. (I generally recommend looking things up based on indices, rather than checkpoint value!). "
   ]
  },
  {
   "cell_type": "code",
   "execution_count": 57,
   "metadata": {},
   "outputs": [],
   "source": [
    "from transformer_lens import evals\n",
    "# We use the two layer model with SoLU activations, chosen fairly arbitrarily as being both small (so fast to download and keep in memory) and pretty good at the induction task.\n",
    "model_name = \"solu-2l\"\n",
    "# We can load a model from a checkpoint by specifying the checkpoint_index, -1 means the final checkpoint\n",
    "checkpoint_indices = [10, 25, 35, 60, -1]\n",
    "checkpointed_models = []\n",
    "tokens_trained_on = []\n",
    "induction_losses = []"
   ]
  },
  {
   "cell_type": "markdown",
   "metadata": {},
   "source": [
    "We load the models, cache them in a list, and "
   ]
  },
  {
   "cell_type": "code",
   "execution_count": 58,
   "metadata": {},
   "outputs": [
    {
     "name": "stdout",
     "output_type": "stream",
     "text": [
      "Loaded pretrained model solu-2l into HookedTransformer\n",
      "Loaded pretrained model solu-2l into HookedTransformer\n",
      "Loaded pretrained model solu-2l into HookedTransformer\n",
      "Loaded pretrained model solu-2l into HookedTransformer\n",
      "Loaded pretrained model solu-2l into HookedTransformer\n"
     ]
    }
   ],
   "source": [
    "for index in checkpoint_indices:\n",
    "    # Load the model from the relevant checkpoint by index\n",
    "    model_for_this_checkpoint = HookedTransformer.from_pretrained(model_name, checkpoint_index=index)\n",
    "    checkpointed_models.append(model_for_this_checkpoint)\n",
    "\n",
    "    tokens_seen_for_this_checkpoint = model_for_this_checkpoint.cfg.checkpoint_value\n",
    "    tokens_trained_on.append(tokens_seen_for_this_checkpoint)\n",
    "\n",
    "    induction_loss_for_this_checkpoint = evals.induction_loss(model_for_this_checkpoint).item()\n",
    "    induction_losses.append(induction_loss_for_this_checkpoint)"
   ]
  },
  {
   "cell_type": "markdown",
   "metadata": {},
   "source": [
    "We can plot this, and see there's a sharp shift from ~200-500M tokens trained on (note the log scale on the x axis). Interestingly, this is notably earlier than the phase transition in the paper, I'm not sure what's up with that.\n",
    "\n",
    "(To contextualise the numbers, the tokens in the random sequence are uniformly chosen from the first 20,000 tokens (out of ~48,000 total), so random performance is at least $\\ln(20000)\\approx 10$. A naive strategy like \"randomly choose a token that's already appeared in the first half of the sequence (384 elements)\" would get $\\ln(384)\\approx 5.95$, so the model is doing pretty well here.)"
   ]
  },
  {
   "cell_type": "code",
   "execution_count": 59,
   "metadata": {},
   "outputs": [
    {
     "data": {
      "text/html": [
       "<html>\n",
       "<head><meta charset=\"utf-8\" /></head>\n",
       "<body>\n",
       "    <div>            <script src=\"https://cdnjs.cloudflare.com/ajax/libs/mathjax/2.7.5/MathJax.js?config=TeX-AMS-MML_SVG\"></script><script type=\"text/javascript\">if (window.MathJax && window.MathJax.Hub && window.MathJax.Hub.Config) {window.MathJax.Hub.Config({SVG: {font: \"STIX-Web\"}});}</script>                <script type=\"text/javascript\">window.PlotlyConfig = {MathJaxConfig: 'local'};</script>\n",
       "        <script src=\"https://cdn.plot.ly/plotly-2.16.1.min.js\"></script>                <div id=\"6e70a192-5d22-459b-9b0e-f6d00be0bd1e\" class=\"plotly-graph-div\" style=\"height:525px; width:100%;\"></div>            <script type=\"text/javascript\">                                    window.PLOTLYENV=window.PLOTLYENV || {};                                    if (document.getElementById(\"6e70a192-5d22-459b-9b0e-f6d00be0bd1e\")) {                    Plotly.newPlot(                        \"6e70a192-5d22-459b-9b0e-f6d00be0bd1e\",                        [{\"hovertemplate\":\"Tokens Trained On=%{x}<br>index=%{y}<extra></extra>\",\"legendgroup\":\"\",\"line\":{\"color\":\"#636efa\",\"dash\":\"solid\"},\"marker\":{\"symbol\":\"circle\"},\"mode\":\"markers+lines\",\"name\":\"\",\"orientation\":\"h\",\"showlegend\":false,\"x\":[22282240,187432960,528482304,1628438528,21780496384],\"xaxis\":\"x\",\"y\":[0,1,2,3,4],\"yaxis\":\"y\",\"type\":\"scatter\"}],                        {\"template\":{\"data\":{\"histogram2dcontour\":[{\"type\":\"histogram2dcontour\",\"colorbar\":{\"outlinewidth\":0,\"ticks\":\"\"},\"colorscale\":[[0.0,\"#0d0887\"],[0.1111111111111111,\"#46039f\"],[0.2222222222222222,\"#7201a8\"],[0.3333333333333333,\"#9c179e\"],[0.4444444444444444,\"#bd3786\"],[0.5555555555555556,\"#d8576b\"],[0.6666666666666666,\"#ed7953\"],[0.7777777777777778,\"#fb9f3a\"],[0.8888888888888888,\"#fdca26\"],[1.0,\"#f0f921\"]]}],\"choropleth\":[{\"type\":\"choropleth\",\"colorbar\":{\"outlinewidth\":0,\"ticks\":\"\"}}],\"histogram2d\":[{\"type\":\"histogram2d\",\"colorbar\":{\"outlinewidth\":0,\"ticks\":\"\"},\"colorscale\":[[0.0,\"#0d0887\"],[0.1111111111111111,\"#46039f\"],[0.2222222222222222,\"#7201a8\"],[0.3333333333333333,\"#9c179e\"],[0.4444444444444444,\"#bd3786\"],[0.5555555555555556,\"#d8576b\"],[0.6666666666666666,\"#ed7953\"],[0.7777777777777778,\"#fb9f3a\"],[0.8888888888888888,\"#fdca26\"],[1.0,\"#f0f921\"]]}],\"heatmap\":[{\"type\":\"heatmap\",\"colorbar\":{\"outlinewidth\":0,\"ticks\":\"\"},\"colorscale\":[[0.0,\"#0d0887\"],[0.1111111111111111,\"#46039f\"],[0.2222222222222222,\"#7201a8\"],[0.3333333333333333,\"#9c179e\"],[0.4444444444444444,\"#bd3786\"],[0.5555555555555556,\"#d8576b\"],[0.6666666666666666,\"#ed7953\"],[0.7777777777777778,\"#fb9f3a\"],[0.8888888888888888,\"#fdca26\"],[1.0,\"#f0f921\"]]}],\"heatmapgl\":[{\"type\":\"heatmapgl\",\"colorbar\":{\"outlinewidth\":0,\"ticks\":\"\"},\"colorscale\":[[0.0,\"#0d0887\"],[0.1111111111111111,\"#46039f\"],[0.2222222222222222,\"#7201a8\"],[0.3333333333333333,\"#9c179e\"],[0.4444444444444444,\"#bd3786\"],[0.5555555555555556,\"#d8576b\"],[0.6666666666666666,\"#ed7953\"],[0.7777777777777778,\"#fb9f3a\"],[0.8888888888888888,\"#fdca26\"],[1.0,\"#f0f921\"]]}],\"contourcarpet\":[{\"type\":\"contourcarpet\",\"colorbar\":{\"outlinewidth\":0,\"ticks\":\"\"}}],\"contour\":[{\"type\":\"contour\",\"colorbar\":{\"outlinewidth\":0,\"ticks\":\"\"},\"colorscale\":[[0.0,\"#0d0887\"],[0.1111111111111111,\"#46039f\"],[0.2222222222222222,\"#7201a8\"],[0.3333333333333333,\"#9c179e\"],[0.4444444444444444,\"#bd3786\"],[0.5555555555555556,\"#d8576b\"],[0.6666666666666666,\"#ed7953\"],[0.7777777777777778,\"#fb9f3a\"],[0.8888888888888888,\"#fdca26\"],[1.0,\"#f0f921\"]]}],\"surface\":[{\"type\":\"surface\",\"colorbar\":{\"outlinewidth\":0,\"ticks\":\"\"},\"colorscale\":[[0.0,\"#0d0887\"],[0.1111111111111111,\"#46039f\"],[0.2222222222222222,\"#7201a8\"],[0.3333333333333333,\"#9c179e\"],[0.4444444444444444,\"#bd3786\"],[0.5555555555555556,\"#d8576b\"],[0.6666666666666666,\"#ed7953\"],[0.7777777777777778,\"#fb9f3a\"],[0.8888888888888888,\"#fdca26\"],[1.0,\"#f0f921\"]]}],\"mesh3d\":[{\"type\":\"mesh3d\",\"colorbar\":{\"outlinewidth\":0,\"ticks\":\"\"}}],\"scatter\":[{\"fillpattern\":{\"fillmode\":\"overlay\",\"size\":10,\"solidity\":0.2},\"type\":\"scatter\"}],\"parcoords\":[{\"type\":\"parcoords\",\"line\":{\"colorbar\":{\"outlinewidth\":0,\"ticks\":\"\"}}}],\"scatterpolargl\":[{\"type\":\"scatterpolargl\",\"marker\":{\"colorbar\":{\"outlinewidth\":0,\"ticks\":\"\"}}}],\"bar\":[{\"error_x\":{\"color\":\"#2a3f5f\"},\"error_y\":{\"color\":\"#2a3f5f\"},\"marker\":{\"line\":{\"color\":\"#E5ECF6\",\"width\":0.5},\"pattern\":{\"fillmode\":\"overlay\",\"size\":10,\"solidity\":0.2}},\"type\":\"bar\"}],\"scattergeo\":[{\"type\":\"scattergeo\",\"marker\":{\"colorbar\":{\"outlinewidth\":0,\"ticks\":\"\"}}}],\"scatterpolar\":[{\"type\":\"scatterpolar\",\"marker\":{\"colorbar\":{\"outlinewidth\":0,\"ticks\":\"\"}}}],\"histogram\":[{\"marker\":{\"pattern\":{\"fillmode\":\"overlay\",\"size\":10,\"solidity\":0.2}},\"type\":\"histogram\"}],\"scattergl\":[{\"type\":\"scattergl\",\"marker\":{\"colorbar\":{\"outlinewidth\":0,\"ticks\":\"\"}}}],\"scatter3d\":[{\"type\":\"scatter3d\",\"line\":{\"colorbar\":{\"outlinewidth\":0,\"ticks\":\"\"}},\"marker\":{\"colorbar\":{\"outlinewidth\":0,\"ticks\":\"\"}}}],\"scattermapbox\":[{\"type\":\"scattermapbox\",\"marker\":{\"colorbar\":{\"outlinewidth\":0,\"ticks\":\"\"}}}],\"scatterternary\":[{\"type\":\"scatterternary\",\"marker\":{\"colorbar\":{\"outlinewidth\":0,\"ticks\":\"\"}}}],\"scattercarpet\":[{\"type\":\"scattercarpet\",\"marker\":{\"colorbar\":{\"outlinewidth\":0,\"ticks\":\"\"}}}],\"carpet\":[{\"aaxis\":{\"endlinecolor\":\"#2a3f5f\",\"gridcolor\":\"white\",\"linecolor\":\"white\",\"minorgridcolor\":\"white\",\"startlinecolor\":\"#2a3f5f\"},\"baxis\":{\"endlinecolor\":\"#2a3f5f\",\"gridcolor\":\"white\",\"linecolor\":\"white\",\"minorgridcolor\":\"white\",\"startlinecolor\":\"#2a3f5f\"},\"type\":\"carpet\"}],\"table\":[{\"cells\":{\"fill\":{\"color\":\"#EBF0F8\"},\"line\":{\"color\":\"white\"}},\"header\":{\"fill\":{\"color\":\"#C8D4E3\"},\"line\":{\"color\":\"white\"}},\"type\":\"table\"}],\"barpolar\":[{\"marker\":{\"line\":{\"color\":\"#E5ECF6\",\"width\":0.5},\"pattern\":{\"fillmode\":\"overlay\",\"size\":10,\"solidity\":0.2}},\"type\":\"barpolar\"}],\"pie\":[{\"automargin\":true,\"type\":\"pie\"}]},\"layout\":{\"autotypenumbers\":\"strict\",\"colorway\":[\"#636efa\",\"#EF553B\",\"#00cc96\",\"#ab63fa\",\"#FFA15A\",\"#19d3f3\",\"#FF6692\",\"#B6E880\",\"#FF97FF\",\"#FECB52\"],\"font\":{\"color\":\"#2a3f5f\"},\"hovermode\":\"closest\",\"hoverlabel\":{\"align\":\"left\"},\"paper_bgcolor\":\"white\",\"plot_bgcolor\":\"#E5ECF6\",\"polar\":{\"bgcolor\":\"#E5ECF6\",\"angularaxis\":{\"gridcolor\":\"white\",\"linecolor\":\"white\",\"ticks\":\"\"},\"radialaxis\":{\"gridcolor\":\"white\",\"linecolor\":\"white\",\"ticks\":\"\"}},\"ternary\":{\"bgcolor\":\"#E5ECF6\",\"aaxis\":{\"gridcolor\":\"white\",\"linecolor\":\"white\",\"ticks\":\"\"},\"baxis\":{\"gridcolor\":\"white\",\"linecolor\":\"white\",\"ticks\":\"\"},\"caxis\":{\"gridcolor\":\"white\",\"linecolor\":\"white\",\"ticks\":\"\"}},\"coloraxis\":{\"colorbar\":{\"outlinewidth\":0,\"ticks\":\"\"}},\"colorscale\":{\"sequential\":[[0.0,\"#0d0887\"],[0.1111111111111111,\"#46039f\"],[0.2222222222222222,\"#7201a8\"],[0.3333333333333333,\"#9c179e\"],[0.4444444444444444,\"#bd3786\"],[0.5555555555555556,\"#d8576b\"],[0.6666666666666666,\"#ed7953\"],[0.7777777777777778,\"#fb9f3a\"],[0.8888888888888888,\"#fdca26\"],[1.0,\"#f0f921\"]],\"sequentialminus\":[[0.0,\"#0d0887\"],[0.1111111111111111,\"#46039f\"],[0.2222222222222222,\"#7201a8\"],[0.3333333333333333,\"#9c179e\"],[0.4444444444444444,\"#bd3786\"],[0.5555555555555556,\"#d8576b\"],[0.6666666666666666,\"#ed7953\"],[0.7777777777777778,\"#fb9f3a\"],[0.8888888888888888,\"#fdca26\"],[1.0,\"#f0f921\"]],\"diverging\":[[0,\"#8e0152\"],[0.1,\"#c51b7d\"],[0.2,\"#de77ae\"],[0.3,\"#f1b6da\"],[0.4,\"#fde0ef\"],[0.5,\"#f7f7f7\"],[0.6,\"#e6f5d0\"],[0.7,\"#b8e186\"],[0.8,\"#7fbc41\"],[0.9,\"#4d9221\"],[1,\"#276419\"]]},\"xaxis\":{\"gridcolor\":\"white\",\"linecolor\":\"white\",\"ticks\":\"\",\"title\":{\"standoff\":15},\"zerolinecolor\":\"white\",\"automargin\":true,\"zerolinewidth\":2},\"yaxis\":{\"gridcolor\":\"white\",\"linecolor\":\"white\",\"ticks\":\"\",\"title\":{\"standoff\":15},\"zerolinecolor\":\"white\",\"automargin\":true,\"zerolinewidth\":2},\"scene\":{\"xaxis\":{\"backgroundcolor\":\"#E5ECF6\",\"gridcolor\":\"white\",\"linecolor\":\"white\",\"showbackground\":true,\"ticks\":\"\",\"zerolinecolor\":\"white\",\"gridwidth\":2},\"yaxis\":{\"backgroundcolor\":\"#E5ECF6\",\"gridcolor\":\"white\",\"linecolor\":\"white\",\"showbackground\":true,\"ticks\":\"\",\"zerolinecolor\":\"white\",\"gridwidth\":2},\"zaxis\":{\"backgroundcolor\":\"#E5ECF6\",\"gridcolor\":\"white\",\"linecolor\":\"white\",\"showbackground\":true,\"ticks\":\"\",\"zerolinecolor\":\"white\",\"gridwidth\":2}},\"shapedefaults\":{\"line\":{\"color\":\"#2a3f5f\"}},\"annotationdefaults\":{\"arrowcolor\":\"#2a3f5f\",\"arrowhead\":0,\"arrowwidth\":1},\"geo\":{\"bgcolor\":\"white\",\"landcolor\":\"#E5ECF6\",\"subunitcolor\":\"white\",\"showland\":true,\"showlakes\":true,\"lakecolor\":\"white\"},\"title\":{\"x\":0.05},\"mapbox\":{\"style\":\"light\"}}},\"xaxis\":{\"anchor\":\"y\",\"domain\":[0.0,1.0],\"title\":{\"text\":\"Tokens Trained On\"},\"type\":\"log\"},\"yaxis\":{\"anchor\":\"x\",\"domain\":[0.0,1.0],\"title\":{\"text\":\"index\"}},\"legend\":{\"tracegroupgap\":0},\"title\":{\"text\":\"Induction Loss over training: solu-2l\"}},                        {\"responsive\": true}                    ).then(function(){\n",
       "                            \n",
       "var gd = document.getElementById('6e70a192-5d22-459b-9b0e-f6d00be0bd1e');\n",
       "var x = new MutationObserver(function (mutations, observer) {{\n",
       "        var display = window.getComputedStyle(gd).display;\n",
       "        if (!display || display === 'none') {{\n",
       "            console.log([gd, 'removed!']);\n",
       "            Plotly.purge(gd);\n",
       "            observer.disconnect();\n",
       "        }}\n",
       "}});\n",
       "\n",
       "// Listen for the removal of the full notebook cells\n",
       "var notebookContainer = gd.closest('#notebook-container');\n",
       "if (notebookContainer) {{\n",
       "    x.observe(notebookContainer, {childList: true});\n",
       "}}\n",
       "\n",
       "// Listen for the clearing of the current output cell\n",
       "var outputEl = gd.closest('.output');\n",
       "if (outputEl) {{\n",
       "    x.observe(outputEl, {childList: true});\n",
       "}}\n",
       "\n",
       "                        })                };                            </script>        </div>\n",
       "</body>\n",
       "</html>"
      ]
     },
     "metadata": {},
     "output_type": "display_data"
    }
   ],
   "source": [
    "line(induction_losses, x=tokens_trained_on, xaxis=\"Tokens Trained On\", yaxis=\"Induction Loss\", title=\"Induction Loss over training: solu-2l\", markers=True, log_x=True)"
   ]
  }
 ],
 "metadata": {
  "kernelspec": {
   "display_name": "Python 3 (ipykernel)",
   "language": "python",
   "name": "python3"
  },
  "language_info": {
   "codemirror_mode": {
    "name": "ipython",
    "version": 3
   },
   "file_extension": ".py",
   "mimetype": "text/x-python",
   "name": "python",
   "nbconvert_exporter": "python",
   "pygments_lexer": "ipython3",
   "version": "3.10.10"
  },
  "vscode": {
   "interpreter": {
    "hash": "eb812820b5094695c8a581672e17220e30dd2c15d704c018326e3cc2e1a566f1"
   }
  }
 },
 "nbformat": 4,
 "nbformat_minor": 4
}
