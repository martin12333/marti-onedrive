{
  "nbformat": 4,
  "nbformat_minor": 0,
  "metadata": {
    "colab": {
      "provenance": []
    },
    "kernelspec": {
      "name": "python3",
      "display_name": "Python 3"
    }
  },
  "cells": [
    {
      "metadata": {
        "id": "cx265sfafQE5"
      },
      "cell_type": "markdown",
      "source": [
        "# Simple word embeddings with co-occurrences and SVD\n",
        "\n",
        "The goal of this sheet is to show a simple example of how matrix factorization can be used to embed words.  We will use a small collection of sentences and construct a word-word co-occurrence matrix. For this example, we will treat a word as being in the context of another one if it is within a window of size one of the other one. That is, if it is either before or after the other word.\n",
        "\n",
        "Note that the code below is not necessarily the most efficient version. It is written in a rather verbose fashion to show the inner workings. Making things more efficient is left as an exercise.\n",
        "\n",
        "Let us get started.\n",
        "\n",
        "We will need `numpy` for vector math and also for performing the matrix factorization itself."
      ]
    },
    {
      "metadata": {
        "id": "SfmPq3kh9ErQ"
      },
      "cell_type": "code",
      "source": [
        "import numpy as np"
      ],
      "execution_count": null,
      "outputs": []
    },
    {
      "metadata": {
        "id": "EQO0fh7-gGq0"
      },
      "cell_type": "markdown",
      "source": [
        "Our corpus is a tiny collection of three sentences. To make things simpler, let us assume that all the sentences are tokenized."
      ]
    },
    {
      "metadata": {
        "id": "MzIagTE29GQq"
      },
      "cell_type": "code",
      "source": [
        "text = [[\"Shakespeare\", \"wrote\", \"plays\", \".\"],\n",
        "        [\"John\", \"read\", \"them\", \".\"],\n",
        "        [\"John\", \"wrote\", \"novels\", \".\"]]"
      ],
      "execution_count": null,
      "outputs": []
    },
    {
      "metadata": {
        "id": "Sk7V7tkJlfoL"
      },
      "cell_type": "markdown",
      "source": []
    },
    {
      "metadata": {
        "id": "L1RPBbpKgLEm"
      },
      "cell_type": "markdown",
      "source": [
        "Let us create a collection of all the words that exists in our corpus. We will also add a dummy word `<dummy>` to mark words outside sentences."
      ]
    },
    {
      "metadata": {
        "id": "KipQ4fte-G77"
      },
      "cell_type": "code",
      "source": [
        "all_words = [\"<dummy>\"]\n",
        "\n",
        "for sentence in text:\n",
        "  for word in sentence:\n",
        "    all_words.append(word)\n",
        "\n",
        "all_words = list(set(all_words))\n",
        "all_words.sort()\n",
        "\n",
        "num_words = len(all_words)"
      ],
      "execution_count": null,
      "outputs": []
    },
    {
      "metadata": {
        "id": "inXaAFP-Akel",
        "outputId": "3fdfa9f0-77bd-4b2c-faa4-39b2663f01e8",
        "colab": {
          "base_uri": "https://localhost:8080/",
          "height": 54
        }
      },
      "cell_type": "code",
      "source": [
        "print(' '.join(all_words))\n",
        "print(str(num_words) + \" words in vocabulary\")"
      ],
      "execution_count": null,
      "outputs": [
        {
          "output_type": "stream",
          "text": [
            ". <dummy> John Shakespeare novels plays read them wrote\n",
            "9 words in vocabulary\n"
          ],
          "name": "stdout"
        }
      ]
    },
    {
      "metadata": {
        "id": "cawKs7zThGOS"
      },
      "cell_type": "markdown",
      "source": [
        "Instead of keeping track of strings, let us map the words in our corpus to indices so that we can use words to lookup vector dimensions. We can do this using a dictionary that maps words to their index."
      ]
    },
    {
      "metadata": {
        "id": "HHULWbHQBjIx"
      },
      "cell_type": "code",
      "source": [
        "word_to_index = dict(zip(all_words, range(num_words)))"
      ],
      "execution_count": null,
      "outputs": []
    },
    {
      "metadata": {
        "id": "YFnMtLBGBwUw",
        "outputId": "a078cd8f-c09d-4a69-d11c-155ae1ad99c6",
        "colab": {
          "base_uri": "https://localhost:8080/",
          "height": 35
        }
      },
      "cell_type": "code",
      "source": [
        "word_to_index['read']"
      ],
      "execution_count": null,
      "outputs": [
        {
          "output_type": "execute_result",
          "data": {
            "text/plain": [
              "6"
            ]
          },
          "metadata": {
            "tags": []
          },
          "execution_count": 6
        }
      ]
    },
    {
      "metadata": {
        "id": "jBJ8cVmyiI1J"
      },
      "cell_type": "markdown",
      "source": [
        "Next, let us write a utility function that will pad the dummy word to the beginning and end of a sentence so that if we ask for words before the start or after the end of the sentence, we will get the dummy word instead of an exception."
      ]
    },
    {
      "metadata": {
        "id": "Z3PKK-2FCNsL"
      },
      "cell_type": "code",
      "source": [
        "def pad_sentence(words, context_size):\n",
        "  dummy = [\"<dummy>\"] * context_size\n",
        "\n",
        "  padded_sentence = []\n",
        "  padded_sentence.extend(dummy)\n",
        "  padded_sentence.extend(words)\n",
        "  padded_sentence.extend(dummy)\n",
        "\n",
        "  return padded_sentence"
      ],
      "execution_count": null,
      "outputs": []
    },
    {
      "metadata": {
        "id": "fQftfq8mCbBk",
        "outputId": "15230897-faaf-4979-c421-53c4dad0c1bd",
        "colab": {
          "base_uri": "https://localhost:8080/",
          "height": 35
        }
      },
      "cell_type": "code",
      "source": [
        "print(pad_sentence(text[0], 2))"
      ],
      "execution_count": null,
      "outputs": [
        {
          "output_type": "stream",
          "text": [
            "['<dummy>', '<dummy>', 'Shakespeare', 'wrote', 'plays', '.', '<dummy>', '<dummy>']\n"
          ],
          "name": "stdout"
        }
      ]
    },
    {
      "metadata": {
        "id": "ntoTmn5QihAI"
      },
      "cell_type": "markdown",
      "source": [
        "Now, we can write a function that extracts the context (both before and after ) for a word in a sentence. First, it will pad the sentence using the utility above. Then, it will extract as many words as needed from before and after the padded sentence."
      ]
    },
    {
      "metadata": {
        "id": "5gGh_0r2-ceq"
      },
      "cell_type": "code",
      "source": [
        "def context(words, word_id, context_size):\n",
        "\n",
        "  padded_sentence = pad_sentence(words, context_size)\n",
        "\n",
        "  word_id_in_padded = word_id + context_size\n",
        "\n",
        "  start = word_id_in_padded - context_size\n",
        "  end = word_id_in_padded + context_size + 1\n",
        "\n",
        "  output = padded_sentence[start:word_id_in_padded]\n",
        "  output.extend(padded_sentence[(word_id_in_padded + 1):end])\n",
        "  return output"
      ],
      "execution_count": null,
      "outputs": []
    },
    {
      "metadata": {
        "id": "ZBHo6LaUCv6S",
        "outputId": "4836a5cb-e719-46fe-e80e-b3707bf64100",
        "colab": {
          "base_uri": "https://localhost:8080/",
          "height": 35
        }
      },
      "cell_type": "code",
      "source": [
        "# The context for the word with index 1 in the first sentence\n",
        "print(context(text[0], word_id = 1, context_size = 2))"
      ],
      "execution_count": null,
      "outputs": [
        {
          "output_type": "stream",
          "text": [
            "['<dummy>', 'Shakespeare', 'plays', '.']\n"
          ],
          "name": "stdout"
        }
      ]
    },
    {
      "metadata": {
        "id": "LrpAj4Q5i3Mn"
      },
      "cell_type": "markdown",
      "source": [
        "Now that we know how to extract context words, we can convert them into a vector. The size of the vector is the number of words. For each word in the context, we will find its index using the `word_to_index` we constructed above, and then add to that entry in the vector.\n",
        "\n",
        "*This code is not necessarily the most efficient way of doing things, but it has the advantage that there is nothing hidden out of view.*"
      ]
    },
    {
      "metadata": {
        "id": "ndlkGEsH_djg"
      },
      "cell_type": "code",
      "source": [
        "def context_counts(words, word_id, context_size):\n",
        "\n",
        "  # This is not the most efficient code, but is written this way to be verbose\n",
        "\n",
        "  vector = np.zeros(num_words)\n",
        "\n",
        "  for word in context(words, word_id, context_size):\n",
        "    index = word_to_index[word]\n",
        "    vector[index] = vector[index] + 1\n",
        "\n",
        "  return vector"
      ],
      "execution_count": null,
      "outputs": []
    },
    {
      "metadata": {
        "id": "wiII6UWj_gTd",
        "outputId": "8c69e755-eab0-4d58-b05f-0cb40a5d1eea",
        "colab": {
          "base_uri": "https://localhost:8080/",
          "height": 35
        }
      },
      "cell_type": "code",
      "source": [
        "context_counts(text[0], 1, 2)"
      ],
      "execution_count": null,
      "outputs": [
        {
          "output_type": "execute_result",
          "data": {
            "text/plain": [
              "array([1., 1., 0., 1., 0., 1., 0., 0., 0.])"
            ]
          },
          "metadata": {
            "tags": []
          },
          "execution_count": 12
        }
      ]
    },
    {
      "metadata": {
        "id": "oSSzehVYja7E"
      },
      "cell_type": "markdown",
      "source": [
        "Now, we can build the word-word co-occurrence matrix. This matrix has as many rows and columns as the vocabulary and the $(i,j)^{th}$ entry is the number of times word $j$ occurs in the context of word $i$ in the corpus.\n",
        "\n",
        "*Once again, this code is not necessarily efficient.*"
      ]
    },
    {
      "metadata": {
        "id": "L21_G9BjAALp"
      },
      "cell_type": "code",
      "source": [
        "# Once again, this code is unnecessarily verbose\n",
        "def context_matrix(sentences, context_size):\n",
        "  matrix = np.zeros([num_words, num_words])\n",
        "  for sentence in sentences:\n",
        "    sentence_length = len(sentence)\n",
        "    for id in range(sentence_length):\n",
        "      word = sentence[id]\n",
        "      index = word_to_index[word]\n",
        "      matrix[index] = matrix[index] + context_counts(sentence, id, context_size)\n",
        "  return matrix"
      ],
      "execution_count": null,
      "outputs": []
    },
    {
      "metadata": {
        "id": "AFiYtJXcDyAI"
      },
      "cell_type": "code",
      "source": [
        "matrix = context_matrix(text, context_size = 1)"
      ],
      "execution_count": null,
      "outputs": []
    },
    {
      "metadata": {
        "id": "RhckOTlWD2ZC",
        "outputId": "2187675d-80eb-495e-dc09-84dfd17bb809",
        "colab": {
          "base_uri": "https://localhost:8080/",
          "height": 54
        }
      },
      "cell_type": "code",
      "source": [
        "matrix[0:2]"
      ],
      "execution_count": null,
      "outputs": [
        {
          "output_type": "execute_result",
          "data": {
            "text/plain": [
              "array([[0., 3., 0., 0., 1., 1., 0., 1., 0.],\n",
              "       [0., 0., 0., 0., 0., 0., 0., 0., 0.]])"
            ]
          },
          "metadata": {
            "tags": []
          },
          "execution_count": 19
        }
      ]
    },
    {
      "metadata": {
        "id": "lQmKIFOQkCpr"
      },
      "cell_type": "markdown",
      "source": [
        "Finally, we can factorize the matrix using its SVD. In other words, we will find three matrices $U$, $\\Sigma$ and $V$ such that our co-occurrence matrix $M$ equals $U\\Sigma V^T$."
      ]
    },
    {
      "metadata": {
        "id": "aqU5zg6VEWKS"
      },
      "cell_type": "code",
      "source": [
        "U, s, V = np.linalg.svd(matrix, full_matrices = False)"
      ],
      "execution_count": null,
      "outputs": []
    },
    {
      "metadata": {
        "id": "hZmd-aNdkdRy"
      },
      "cell_type": "markdown",
      "source": [
        "Now, we can treat the rows of $U$ as our word embeddings. Let us plot the first two dimensions of $U$ to see where words land.\n"
      ]
    },
    {
      "metadata": {
        "id": "09OnfgWnEv1E",
        "outputId": "be1de5ba-9f14-41ac-acbe-c5556285f40f",
        "colab": {
          "base_uri": "https://localhost:8080/",
          "height": 369
        }
      },
      "cell_type": "code",
      "source": [
        "import matplotlib.pyplot as plt\n",
        "for word_id in range(num_words):\n",
        "  plt.text(U[word_id, 0], U[word_id, 1], all_words[word_id])\n",
        "\n",
        "limits = [-1, 1]\n",
        "plt.ylim(limits)\n",
        "plt.xlim(limits)"
      ],
      "execution_count": null,
      "outputs": [
        {
          "output_type": "execute_result",
          "data": {
            "text/plain": [
              "(-1, 1)"
            ]
          },
          "metadata": {
            "tags": []
          },
          "execution_count": 340
        },
        {
          "output_type": "display_data",
          "data": {
            "image/png": "[encoded data removed]",
            "text/plain": [
              "<Figure size 576x396 with 1 Axes>"
            ]
          },
          "metadata": {
            "tags": []
          }
        }
      ]
    },
    {
      "metadata": {
        "id": "JKP6Vjstkv3q"
      },
      "cell_type": "markdown",
      "source": [
        "We don't need to take all dimensions of $U$. Instead, we can fix the dimensionality of the embeddings. Let us use $5$ dimensional vectors and calculate similarities between the words `plays` and `novels` and compare to the similarity between `John` and `plays`. A natural way to calculate similarity is to take the dot product of the vectors."
      ]
    },
    {
      "metadata": {
        "id": "9VJLyiTcFgfk",
        "outputId": "da4da285-d312-4c9e-8e0a-ede1a1090ae2",
        "colab": {
          "base_uri": "https://localhost:8080/",
          "height": 54
        }
      },
      "cell_type": "code",
      "source": [
        "dim = 5\n",
        "\n",
        "plays = U[word_to_index['plays'],0:dim]\n",
        "novels = U[word_to_index['novels'], 0:dim]\n",
        "John = U[word_to_index['John'], 0:dim]\n",
        "\n",
        "print(\"Similarity(novels, plays): \" + str(np.matmul(novels, np.transpose(plays))) )\n",
        "print(\"Similarity(John, plays): \" + str(np.matmul(John, np.transpose(plays))) )"
      ],
      "execution_count": null,
      "outputs": [
        {
          "output_type": "stream",
          "text": [
            "Similarity(novels, plays): 0.38777575926350916\n",
            "Similarity(John, plays): 0.08882021060382474\n"
          ],
          "name": "stdout"
        }
      ]
    },
    {
      "metadata": {
        "id": "kZMwLJXAlAir"
      },
      "cell_type": "markdown",
      "source": [
        "It looks like `plays` is closer to `novels` than it is to `John`. Of course, this is a carefully chosen example and should not be treated as indicating anything meaningful. But with enough data, this method may uncover interesting similarities."
      ]
    }
  ]
}