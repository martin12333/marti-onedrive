{
 "cells": [
  {
   "cell_type": "code",
   "execution_count": 1,
   "id": "sustainable-rogers",
   "metadata": {},
   "outputs": [
    {
     "name": "stdout",
     "output_type": "stream",
     "text": [
      "C:\\Users\\marti/.cache\\huggingface\\transformers\n"
     ]
    }
   ],
   "source": [
    "from transformers import file_utils\n",
    "print(file_utils.default_cache_path)"
   ]
  },
  {
   "cell_type": "code",
   "execution_count": 2,
   "id": "revised-idaho",
   "metadata": {},
   "outputs": [
    {
     "name": "stderr",
     "output_type": "stream",
     "text": [
      "Invalid switch - \".cache\\huggingface\\transformers\".\n"
     ]
    }
   ],
   "source": [
    "!dir C:\\Users\\marti\\.cache\\huggingface\\transformers"
   ]
  },
  {
   "cell_type": "code",
   "execution_count": 3,
   "id": "instructional-meeting",
   "metadata": {},
   "outputs": [
    {
     "name": "stderr",
     "output_type": "stream",
     "text": [
      "The system cannot find the path specified.\n"
     ]
    }
   ],
   "source": [
    "!dir C:\\Users\\marti\\.cache\\huggingface\\transformers"
   ]
  },
  {
   "cell_type": "code",
   "execution_count": 2,
   "id": "sized-palmer",
   "metadata": {},
   "outputs": [],
   "source": [
    "from transformers import pipeline"
   ]
  },
  {
   "cell_type": "code",
   "execution_count": null,
   "id": "olive-export",
   "metadata": {},
   "outputs": [],
   "source": []
  },
  {
   "cell_type": "code",
   "execution_count": 3,
   "id": "blessed-confusion",
   "metadata": {},
   "outputs": [
    {
     "name": "stderr",
     "output_type": "stream",
     "text": [
      "Some layers from the model checkpoint at distilbert-base-uncased-finetuned-sst-2-english were not used when initializing TFDistilBertModel: ['dropout_19', 'classifier', 'pre_classifier']\n",
      "- This IS expected if you are initializing TFDistilBertModel from the checkpoint of a model trained on another task or with another architecture (e.g. initializing a BertForSequenceClassification model from a BertForPreTraining model).\n",
      "- This IS NOT expected if you are initializing TFDistilBertModel from the checkpoint of a model that you expect to be exactly identical (initializing a BertForSequenceClassification model from a BertForSequenceClassification model).\n",
      "All the layers of TFDistilBertModel were initialized from the model checkpoint at distilbert-base-uncased-finetuned-sst-2-english.\n",
      "If your task is similar to the task the model of the checkpoint was trained on, you can already use TFDistilBertModel for predictions without further training.\n"
     ]
    },
    {
     "data": {
      "application/vnd.jupyter.widget-view+json": {
       "model_id": "6b6ee8866f8e47b284269d0197f0adc5",
       "version_major": 2,
       "version_minor": 0
      },
      "text/plain": [
       "Downloading:   0%|          | 0.00/48.0 [00:00<?, ?B/s]"
      ]
     },
     "metadata": {},
     "output_type": "display_data"
    },
    {
     "name": "stderr",
     "output_type": "stream",
     "text": [
      "Some layers from the model checkpoint at distilbert-base-uncased-finetuned-sst-2-english were not used when initializing TFDistilBertForSequenceClassification: ['dropout_19']\n",
      "- This IS expected if you are initializing TFDistilBertForSequenceClassification from the checkpoint of a model trained on another task or with another architecture (e.g. initializing a BertForSequenceClassification model from a BertForPreTraining model).\n",
      "- This IS NOT expected if you are initializing TFDistilBertForSequenceClassification from the checkpoint of a model that you expect to be exactly identical (initializing a BertForSequenceClassification model from a BertForSequenceClassification model).\n",
      "Some layers of TFDistilBertForSequenceClassification were not initialized from the model checkpoint at distilbert-base-uncased-finetuned-sst-2-english and are newly initialized: ['dropout_38']\n",
      "You should probably TRAIN this model on a down-stream task to be able to use it for predictions and inference.\n"
     ]
    }
   ],
   "source": [
    "classifier = pipeline('sentiment-analysis')\n"
   ]
  },
  {
   "cell_type": "code",
   "execution_count": null,
   "id": "accomplished-emperor",
   "metadata": {},
   "outputs": [],
   "source": []
  },
  {
   "cell_type": "code",
   "execution_count": null,
   "id": "handmade-rwanda",
   "metadata": {},
   "outputs": [],
   "source": []
  },
  {
   "cell_type": "code",
   "execution_count": 10,
   "id": "polished-services",
   "metadata": {},
   "outputs": [
    {
     "data": {
      "text/plain": [
       "[{'label': 'NEGATIVE', 'score': 0.9926995038986206}]"
      ]
     },
     "execution_count": 10,
     "metadata": {},
     "output_type": "execute_result"
    }
   ],
   "source": [
    ">>> classifier('We are   to include xxyz into the qqq repository.')\n"
   ]
  },
  {
   "cell_type": "code",
   "execution_count": null,
   "id": "reserved-idaho",
   "metadata": {},
   "outputs": [],
   "source": []
  },
  {
   "cell_type": "code",
   "execution_count": 6,
   "id": "loaded-structure",
   "metadata": {},
   "outputs": [
    {
     "data": {
      "text/plain": [
       "[{'label': 'NEGATIVE', 'score': 0.9989445209503174}]"
      ]
     },
     "execution_count": 6,
     "metadata": {},
     "output_type": "execute_result"
    }
   ],
   "source": [
    "classifier('We are  unsure to include xxyz into the qqq repository.')\n"
   ]
  },
  {
   "cell_type": "code",
   "execution_count": 7,
   "id": "secure-exclusive",
   "metadata": {},
   "outputs": [
    {
     "data": {
      "text/plain": [
       "[{'label': 'POSITIVE', 'score': 0.999342143535614}]"
      ]
     },
     "execution_count": 7,
     "metadata": {},
     "output_type": "execute_result"
    }
   ],
   "source": [
    "classifier('We are  confident to include xxyz into the qqq repository.')\n"
   ]
  },
  {
   "cell_type": "code",
   "execution_count": null,
   "id": "portable-alcohol",
   "metadata": {},
   "outputs": [],
   "source": []
  },
  {
   "cell_type": "code",
   "execution_count": null,
   "id": "smaller-uruguay",
   "metadata": {},
   "outputs": [],
   "source": []
  },
  {
   "cell_type": "code",
   "execution_count": 2,
   "id": "fallen-flesh",
   "metadata": {},
   "outputs": [
    {
     "name": "stdout",
     "output_type": "stream",
     "text": [
      "# packages in environment at C:\\Users\\marti\\anaconda3\\envs\\hf38:\n",
      "#\n",
      "# Name                    Version                   Build  Channel\n",
      "_tflow_select             2.3.0                     eigen  \n",
      "absl-py                   0.11.0             pyhd3eb1b0_1  \n",
      "aiohttp                   3.7.3            py38h2bbff1b_1  \n",
      "argon2-cffi               20.1.0           py38he774522_1  \n",
      "astunparse                1.6.3                      py_0  \n",
      "async-timeout             3.0.1            py38haa95532_0  \n",
      "async_generator           1.10               pyhd3eb1b0_0  \n",
      "attrs                     20.3.0             pyhd3eb1b0_0  \n",
      "backcall                  0.2.0              pyhd3eb1b0_0  \n",
      "blas                      1.0                         mkl  \n",
      "bleach                    3.3.0              pyhd3eb1b0_0  \n",
      "blinker                   1.4              py38haa95532_0  \n",
      "brotlipy                  0.7.0           py38h2bbff1b_1003  \n",
      "ca-certificates           2021.1.19            haa95532_0  \n",
      "cachetools                4.2.1              pyhd3eb1b0_0  \n",
      "certifi                   2020.12.5        py38haa95532_0  \n",
      "cffi                      1.14.4           py38hcd4344a_0  \n",
      "chardet                   3.0.4           py38haa95532_1003  \n",
      "click                     7.1.2              pyhd3eb1b0_0  \n",
      "colorama                  0.4.4              pyhd3eb1b0_0  \n",
      "cryptography              2.9.2            py38h7a1dbc1_0  \n",
      "dataclasses               0.7                      py38_0  \n",
      "decorator                 4.4.2              pyhd3eb1b0_0  \n",
      "defusedxml                0.6.0                      py_0  \n",
      "entrypoints               0.3                      py38_0  \n",
      "filelock                  3.0.12             pyhd3eb1b0_1  \n",
      "gast                      0.4.0                      py_0  \n",
      "google-auth               1.24.0             pyhd3eb1b0_0  \n",
      "google-auth-oauthlib      0.4.2              pyhd3eb1b0_2  \n",
      "google-pasta              0.2.0                      py_0  \n",
      "grpcio                    1.31.0           py38he7da953_0  \n",
      "h5py                      2.10.0           py38h5e291fa_0  \n",
      "hdf5                      1.10.4               h7ebc959_0  \n",
      "icc_rt                    2019.0.0             h0cc432a_1  \n",
      "idna                      2.10               pyhd3eb1b0_0  \n",
      "importlib-metadata        2.0.0                      py_1  \n",
      "importlib_metadata        2.0.0                         1  \n",
      "intel-openmp              2020.2                      254  \n",
      "ipykernel                 5.3.4            py38h5ca1d4c_0  \n",
      "ipython                   7.20.0           py38hd4e2768_1  \n",
      "ipython_genutils          0.2.0              pyhd3eb1b0_1  \n",
      "jedi                      0.17.0                   py38_0  \n",
      "jinja2                    2.11.3             pyhd3eb1b0_0  \n",
      "joblib                    1.0.0              pyhd3eb1b0_0  \n",
      "jsonschema                3.2.0                      py_2  \n",
      "jupyter_client            6.1.7                      py_0  \n",
      "jupyter_core              4.7.1            py38haa95532_0  \n",
      "jupyterlab_pygments       0.1.2                      py_0  \n",
      "keras-applications        1.0.8                      py_1  \n",
      "keras-preprocessing       1.1.2              pyhd3eb1b0_0  \n",
      "libprotobuf               3.14.0               h23ce68f_0  \n",
      "libsodium                 1.0.18               h62dcd97_0  \n",
      "m2w64-gcc-libgfortran     5.3.0                         6  \n",
      "m2w64-gcc-libs            5.3.0                         7  \n",
      "m2w64-gcc-libs-core       5.3.0                         7  \n",
      "m2w64-gmp                 6.1.0                         2  \n",
      "m2w64-libwinpthread-git   5.0.0.4634.697f757               2  \n",
      "markdown                  3.3.3            py38haa95532_0  \n",
      "markupsafe                1.1.1            py38he774522_0  \n",
      "mistune                   0.8.4           py38he774522_1000  \n",
      "mkl                       2020.2                      256  \n",
      "mkl-service               2.3.0            py38h196d8e1_0  \n",
      "mkl_fft                   1.2.0            py38h45dec08_0  \n",
      "mkl_random                1.1.1            py38h47e9c7a_0  \n",
      "msys2-conda-epoch         20160418                      1  \n",
      "multidict                 4.7.6            py38he774522_1  \n",
      "nbclient                  0.5.1                      py_0  \n",
      "nbconvert                 6.0.7                    py38_0  \n",
      "nbformat                  5.1.2              pyhd3eb1b0_1  \n",
      "nest-asyncio              1.4.3              pyhd3eb1b0_0  \n",
      "notebook                  6.2.0            py38haa95532_0  \n",
      "numpy                     1.19.2           py38hadc3359_0  \n",
      "numpy-base                1.19.2           py38ha3acd2a_0  \n",
      "oauthlib                  3.1.0                      py_0  \n",
      "openssl                   1.1.1i               h2bbff1b_0  \n",
      "opt_einsum                3.1.0                      py_0  \n",
      "packaging                 20.9               pyhd3eb1b0_0  \n",
      "pandoc                    2.11                 h9490d1a_0  \n",
      "pandocfilters             1.4.3            py38haa95532_1  \n",
      "parso                     0.8.1              pyhd3eb1b0_0  \n",
      "pickleshare               0.7.5           pyhd3eb1b0_1003  \n",
      "pip                       20.3.3           py38haa95532_0  \n",
      "prometheus_client         0.9.0              pyhd3eb1b0_0  \n",
      "prompt-toolkit            3.0.8                      py_0  \n",
      "protobuf                  3.14.0           py38hd77b12b_1  \n",
      "pyasn1                    0.4.8                      py_0  \n",
      "pyasn1-modules            0.2.8                      py_0  \n",
      "pycparser                 2.20                       py_2  \n",
      "pygments                  2.7.4              pyhd3eb1b0_0  \n",
      "pyjwt                     2.0.1            py38haa95532_0  \n",
      "pyopenssl                 20.0.1             pyhd3eb1b0_1  \n",
      "pyparsing                 2.4.7              pyhd3eb1b0_0  \n",
      "pyreadline                2.1                      py38_1  \n",
      "pyrsistent                0.17.3           py38he774522_0  \n",
      "pysocks                   1.7.1            py38haa95532_0  \n",
      "python                    3.8.5                h5fd99cc_1  \n",
      "python-dateutil           2.8.1              pyhd3eb1b0_0  \n",
      "python_abi                3.8                      1_cp38    huggingface\n",
      "pywin32                   227              py38he774522_1  \n",
      "pywinpty                  0.5.7                    py38_0  \n",
      "pyzmq                     20.0.0           py38hd77b12b_1  \n",
      "regex                     2020.11.13       py38h2bbff1b_0  \n",
      "requests                  2.25.1             pyhd3eb1b0_0  \n",
      "requests-oauthlib         1.3.0                      py_0  \n",
      "rsa                       4.7                pyhd3eb1b0_1  \n",
      "sacremoses                master                     py_0    huggingface\n",
      "scipy                     1.6.0            py38h14eb087_0  \n",
      "send2trash                1.5.0              pyhd3eb1b0_1  \n",
      "setuptools                52.0.0           py38haa95532_0  \n",
      "six                       1.15.0           py38haa95532_0  \n",
      "sqlite                    3.33.0               h2a8f88b_0  \n",
      "tensorboard               2.3.0              pyh4dce500_0  \n",
      "tensorboard-plugin-wit    1.6.0                      py_0  \n",
      "tensorflow                2.3.0           mkl_py38h8c0d9a2_0  \n",
      "tensorflow-base           2.3.0           eigen_py38h75a453f_0  \n",
      "tensorflow-estimator      2.3.0              pyheb71bc4_0  \n",
      "termcolor                 1.1.0                    py38_1  \n",
      "terminado                 0.9.2            py38haa95532_0  \n",
      "testpath                  0.4.4              pyhd3eb1b0_0  \n",
      "tokenizers                0.9.4                    py38_0    huggingface\n",
      "tornado                   6.1              py38h2bbff1b_0  \n",
      "tqdm                      4.56.0             pyhd3eb1b0_0  \n",
      "traitlets                 5.0.5              pyhd3eb1b0_0  \n",
      "transformers              4.2.2              pyh7b7c402_0    huggingface\n",
      "typing-extensions         3.7.4.3              hd3eb1b0_0  \n",
      "typing_extensions         3.7.4.3            pyh06a4308_0  \n",
      "urllib3                   1.26.3             pyhd3eb1b0_0  \n",
      "vc                        14.2                 h21ff451_1  \n",
      "vs2015_runtime            14.27.29016          h5e58377_2  \n",
      "wcwidth                   0.2.5                      py_0  \n",
      "webencodings              0.5.1                    py38_1  \n",
      "werkzeug                  1.0.1              pyhd3eb1b0_0  \n",
      "wheel                     0.36.2             pyhd3eb1b0_0  \n",
      "win_inet_pton             1.1.0            py38haa95532_0  \n",
      "wincertstore              0.2                      py38_0  \n",
      "winpty                    0.4.3                         4  \n",
      "wrapt                     1.12.1           py38he774522_1  \n",
      "yarl                      1.5.1            py38he774522_0  \n",
      "zeromq                    4.3.3                ha925a31_3  \n",
      "zipp                      3.4.0              pyhd3eb1b0_0  \n",
      "zlib                      1.2.11               h62dcd97_4  \n"
     ]
    }
   ],
   "source": [
    "bylo potreba restart kernel !conda list"
   ]
  },
  {
   "cell_type": "code",
   "execution_count": null,
   "id": "colored-opportunity",
   "metadata": {},
   "outputs": [],
   "source": []
  },
  {
   "cell_type": "code",
   "execution_count": 2,
   "id": "motivated-newark",
   "metadata": {},
   "outputs": [
    {
     "name": "stdout",
     "output_type": "stream",
     "text": [
      " Volume in drive C is Windows\n",
      " Volume Serial Number is 2480-D21D\n",
      "\n",
      " Directory of C:\\Users\\marti\\OneDrive\\conn\n",
      "\n",
      "02/05/2021  05:13 PM    <DIR>          .\n",
      "02/05/2021  05:13 PM    <DIR>          ..\n",
      "02/05/2021  05:13 PM    <DIR>          .ipynb_checkpoints\n",
      "11/16/2020  01:53 PM            30,004 0bg.ini\n",
      "11/16/2020  01:53 PM             6,608 0bg.tvopt\n",
      "01/12/2021  08:43 PM           112,014 137330178_4168234549870432_3264695653164952718_o.jpg\n",
      "06/12/2020  08:31 PM           448,429 2020-06-12 (3).png\n",
      "10/18/2020  06:33 PM        17,714,694 8089759_xml_2020_10_18_bb424.zip\n",
      "02/04/2021  03:12 PM           120,622 acro-sett,124.zip\n",
      "02/04/2021  04:00 PM           123,576 acro-sett-2124.zip\n",
      "02/04/2021  04:28 PM           108,409 acro-sett-2124b.zip\n",
      "06/12/2020  04:29 PM            39,891 acro-sett.zip\n",
      "01/28/2021  01:26 PM           120,366 acro-sett2.zip\n",
      "01/25/2021  12:40 PM             5,891 acro-vs-mar80-211.txt\n",
      "01/30/2021  12:04 PM               227 conn.txt\n",
      "09/01/2020  04:04 PM               151 ConsoleHost_history.txt\n",
      "10/18/2020  05:40 PM            30,910 D1Dokument (1).zip\n",
      "01/24/2021  03:55 PM           224,540 fsdfsfdsfdsf.txt\n",
      "01/14/2021  05:22 PM            42,543 Geek Test_ the original test from innergeek.html\n",
      "02/02/2021  05:32 PM             5,642 gpt-2.txt\n",
      "02/05/2021  05:10 PM               584 hf38-1.ipynb\n",
      "01/19/2021  02:40 PM             4,285 Iva.txt\n",
      "11/28/2020  05:18 PM           134,060 keybUntitled-1.txt.json\n",
      "06/15/2020  07:00 PM            79,867 Licencní certifikát-FVT20060198.pdf\n",
      "11/19/2020  03:59 PM            50,957 MYNOTES--SPEC.txt\n",
      "02/04/2021  06:27 PM           135,119 mynotes-mart,j.txt.ls.coffee.clj.js.txt\n",
      "12/21/2020  07:43 PM            50,427 mynotes75Mi,i.txt\n",
      "11/28/2020  08:02 PM               494 POKUS.jade\n",
      "01/22/2021  02:41 PM            13,743 replika.txt\n",
      "09/06/2020  06:57 PM               481 setti,09.txt\n",
      "06/11/2020  11:56 AM            17,460 StayFocusd_2020-06-11.json\n",
      "06/26/2020  05:32 PM            82,366 StayFocusd_2020-06-26.json\n",
      "12/24/2020  02:43 PM            11,694 vscode20.js\n",
      "              30 File(s)     19,716,054 bytes\n",
      "               3 Dir(s)  81,289,388,032 bytes free\n"
     ]
    }
   ],
   "source": [
    "!dir"
   ]
  },
  {
   "cell_type": "code",
   "execution_count": 3,
   "id": "educational-discrimination",
   "metadata": {},
   "outputs": [
    {
     "name": "stdout",
     "output_type": "stream",
     "text": [
      "ALLUSERSPROFILE=C:\\ProgramData\n",
      "APPDATA=C:\\Users\\marti\\AppData\\Roaming\n",
      "CLICOLOR=1\n",
      "COMMONPROGRAMFILES=C:\\Program Files\\Common Files\n",
      "COMMONPROGRAMFILES(X86)=C:\\Program Files (x86)\\Common Files\n",
      "COMMONPROGRAMW6432=C:\\Program Files\\Common Files\n",
      "COMPUTERNAME=DESKTOP-5AI0U6N\n",
      "COMSPEC=C:\\WINDOWS\\system32\\cmd.exe\n",
      "CONDA_DEFAULT_ENV=hf38\n",
      "CONDA_EXE=C:\\Users\\marti\\anaconda3\\Scripts\\conda.exe\n",
      "CONDA_PROMPT_MODIFIER=(hf38) \n",
      "CONDA_PYTHON_EXE=C:\\Users\\marti\\anaconda3\\python.exe\n",
      "CONDA_ROOT=C:\\Users\\marti\\anaconda3\n",
      "CONDA_SHLVL=1\n",
      "DRIVERDATA=C:\\Windows\\System32\\Drivers\\DriverData\n",
      "FPS_BROWSER_APP_PROFILE_STRING=Internet Explorer\n",
      "FPS_BROWSER_USER_PROFILE_STRING=Default\n",
      "GIT_PAGER=cat\n",
      "HOMEDRIVE=C:\n",
      "HOMEPATH=\\Users\\marti\n",
      "LOCALAPPDATA=C:\\Users\\marti\\AppData\\Local\n",
      "LOGONSERVER=\\\\DESKTOP-5AI0U6N\n",
      "MPLBACKEND=module://ipykernel.pylab.backend_inline\n",
      "NUMBER_OF_PROCESSORS=6\n",
      "ONEDRIVE=C:\\Users\\marti\\OneDrive\n",
      "ONEDRIVECONSUMER=C:\\Users\\marti\\OneDrive\n",
      "OS=Windows_NT\n",
      "PAGER=cat\n",
      "PATH=C:\\Users\\marti\\anaconda3\\envs\\hf38;C:\\Users\\marti\\anaconda3\\envs\\hf38\\Library\\mingw-w64\\bin;C:\\Users\\marti\\anaconda3\\envs\\hf38\\Library\\usr\\bin;C:\\Users\\marti\\anaconda3\\envs\\hf38\\Library\\bin;C:\\Users\\marti\\anaconda3\\envs\\hf38\\Scripts;C:\\Users\\marti\\anaconda3\\envs\\hf38\\bin;C:\\Users\\marti\\anaconda3\\condabin;C:\\Users\\marti\\anaconda3;C:\\Users\\marti\\anaconda3\\Library\\mingw-w64\\bin;C:\\Users\\marti\\anaconda3\\Library\\usr\\bin;C:\\Users\\marti\\anaconda3\\Library\\bin;C:\\Users\\marti\\anaconda3\\Scripts;C:\\WINDOWS\\system32;C:\\WINDOWS;C:\\WINDOWS\\System32\\Wbem;C:\\WINDOWS\\System32\\WindowsPowerShell\\v1.0;C:\\WINDOWS\\System32\\OpenSSH;C:\\Program Files (x86)\\Common Files\\Acronis\\VirtualFile;C:\\Program Files (x86)\\Common Files\\Acronis\\VirtualFile64;C:\\Program Files (x86)\\Common Files\\Acronis\\FileProtector;C:\\Program Files (x86)\\Common Files\\Acronis\\FileProtector64;C:\\Program Files (x86)\\Common Files\\Acronis\\SnapAPI;C:\\Program Files\\Microsoft VS Code\\bin;C:\\Users\\marti\\AppData\\Local\\Microsoft\\WindowsApps;.\n",
      "PATHEXT=.COM;.EXE;.BAT;.CMD;.VBS;.VBE;.JS;.JSE;.WSF;.WSH;.MSC\n",
      "PROCESSOR_ARCHITECTURE=AMD64\n",
      "PROCESSOR_IDENTIFIER=Intel64 Family 6 Model 158 Stepping 10, GenuineIntel\n",
      "PROCESSOR_LEVEL=6\n",
      "PROCESSOR_REVISION=9e0a\n",
      "PROGRAMDATA=C:\\ProgramData\n",
      "PROGRAMFILES=C:\\Program Files\n",
      "PROGRAMFILES(X86)=C:\\Program Files (x86)\n",
      "PROGRAMW6432=C:\\Program Files\n",
      "PROMPT=(hf38) $P$G\n",
      "PSMODULEPATH=C:\\Program Files\\WindowsPowerShell\\Modules;C:\\WINDOWS\\system32\\WindowsPowerShell\\v1.0\\Modules\n",
      "PUBLIC=C:\\Users\\Public\n",
      "SESSIONNAME=Console\n",
      "SYSTEMDRIVE=C:\n",
      "SYSTEMROOT=C:\\WINDOWS\n",
      "TEMP=C:\\Users\\marti\\AppData\\Local\\Temp\n",
      "TERM=xterm-color\n",
      "TMP=C:\\Users\\marti\\AppData\\Local\\Temp\n",
      "USERDOMAIN=DESKTOP-5AI0U6N\n",
      "USERDOMAIN_ROAMINGPROFILE=DESKTOP-5AI0U6N\n",
      "USERNAME=marti\n",
      "USERPROFILE=C:\\Users\\marti\n",
      "WINDIR=C:\\WINDOWS\n",
      "CONDA_PREFIX=C:\\Users\\marti\\anaconda3\\envs\\hf38\n",
      "JPY_INTERRUPT_EVENT=2672\n",
      "IPY_INTERRUPT_EVENT=2672\n",
      "JPY_PARENT_PID=736\n"
     ]
    }
   ],
   "source": [
    "!set"
   ]
  },
  {
   "cell_type": "code",
   "execution_count": 5,
   "id": "historic-forum",
   "metadata": {},
   "outputs": [
    {
     "name": "stdout",
     "output_type": "stream",
     "text": [
      "^C\n"
     ]
    }
   ],
   "source": [
    "zacyklil conda install tensorflow"
   ]
  },
  {
   "cell_type": "code",
   "execution_count": null,
   "id": "hazardous-canon",
   "metadata": {},
   "outputs": [],
   "source": [
    "zacyklil  conda install -c huggingface transformers conda install -c huggingface transformers\n"
   ]
  },
  {
   "cell_type": "code",
   "execution_count": null,
   "id": "trained-porter",
   "metadata": {},
   "outputs": [],
   "source": []
  },
  {
   "cell_type": "code",
   "execution_count": null,
   "id": "weird-dietary",
   "metadata": {},
   "outputs": [],
   "source": []
  },
  {
   "cell_type": "code",
   "execution_count": null,
   "id": "manual-trouble",
   "metadata": {},
   "outputs": [],
   "source": []
  },
  {
   "cell_type": "code",
   "execution_count": null,
   "id": "understood-sociology",
   "metadata": {},
   "outputs": [],
   "source": []
  },
  {
   "cell_type": "code",
   "execution_count": null,
   "id": "brilliant-lottery",
   "metadata": {},
   "outputs": [],
   "source": []
  },
  {
   "cell_type": "code",
   "execution_count": null,
   "id": "removed-wildlife",
   "metadata": {},
   "outputs": [],
   "source": []
  },
  {
   "cell_type": "code",
   "execution_count": null,
   "id": "recognized-religion",
   "metadata": {},
   "outputs": [],
   "source": []
  },
  {
   "cell_type": "code",
   "execution_count": null,
   "id": "homeless-arrow",
   "metadata": {},
   "outputs": [],
   "source": []
  }
 ],
 "metadata": {
  "kernelspec": {
   "display_name": "Python 3",
   "language": "python",
   "name": "python3"
  },
  "language_info": {
   "codemirror_mode": {
    "name": "ipython",
    "version": 3
   },
   "file_extension": ".py",
   "mimetype": "text/x-python",
   "name": "python",
   "nbconvert_exporter": "python",
   "pygments_lexer": "ipython3",
   "version": "3.8.5"
  }
 },
 "nbformat": 4,
 "nbformat_minor": 5
}
