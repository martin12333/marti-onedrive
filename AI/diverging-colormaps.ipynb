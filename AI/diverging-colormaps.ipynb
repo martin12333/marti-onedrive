{
 "cells": [
  {
   "cell_type": "raw",
   "id": "b9959fb4-50d4-415d-88b8-be0b268ae999",
   "metadata": {},
   "source": [
    "\n",
    "bash\n",
    "grep -oE --no-filename -R 'cmap[=]........{,3}' | sort|uniq -c  | sort -n\n",
    "\n",
    "```python\n",
    "      4 cmap=\\\"Blues\\\")\n",
    "      4 cmap=\\\"cet_\\\" +\n",
    "      4 cmap=plt.cm.Spe\n",
    "      4 cmap='RdBu_r')\n",
    "      4 cmap='YlOrBr' )\n",
    "      5 cmap='Blues')\"\n",
    "      8 cmap='Blues')\\n\n",
    "     12 cmap='RdBu', vm\n",
    "     14 cmap='gray', in\n",
    "     \n",
    "\n",
    "', 'RdYlBu', 'RdYlBu_r', 'RdYlGn', 'RdYlGn_r',\n",
    "BrBG', 'BrBG_r\n",
    "RdBu', 'RdBu_r'     "
   ]
  },
  {
   "cell_type": "code",
   "execution_count": 1,
   "id": "94362eef-7f91-4b08-a303-272521f21540",
   "metadata": {},
   "outputs": [
    {
     "data": {
      "text/plain": [
       "'%.2f'"
      ]
     },
     "execution_count": 1,
     "metadata": {},
     "output_type": "execute_result"
    }
   ],
   "source": [
    "import numpy as np\n",
    "\n",
    "np.set_printoptions(suppress=True)\n",
    "\n",
    "np.set_printoptions(threshold=20)\n",
    "np.set_printoptions(threshold=400)\n",
    "\n",
    "np.set_printoptions(edgeitems=10)\n",
    "\n",
    "np.set_printoptions(precision=4)\n",
    "#np.set_printoptions(precision=3)\n",
    "np.set_printoptions(precision=2)\n",
    "#np.set_printoptions(precision=1)\n",
    "#np.set_printoptions(precision=0)\n",
    "\n",
    "%precision 4\n",
    "%precision 2\n"
   ]
  },
  {
   "cell_type": "code",
   "execution_count": null,
   "id": "17526dc7-c774-4f5f-a478-712bad003b9b",
   "metadata": {},
   "outputs": [],
   "source": [
    "import seaborn as sns\n",
    "import matplotlib.pyplot as plt\n",
    "\n"
   ]
  },
  {
   "cell_type": "code",
   "execution_count": null,
   "id": "71a8ef31-661b-4575-8cbd-ca7112ba72c9",
   "metadata": {},
   "outputs": [],
   "source": []
  },
  {
   "cell_type": "code",
   "execution_count": 4,
   "id": "a1146bd4-1337-46ad-89c5-f7c3482fb889",
   "metadata": {},
   "outputs": [
    {
     "name": "stdout",
     "output_type": "stream",
     "text": [
      "[-2.   -1.92 -1.84 -1.76 -1.67 -1.59 -1.51 -1.43 -1.35 -1.27 -1.18 -1.1\n",
      " -1.02 -0.94 -0.86 -0.78 -0.69 -0.61 -0.53 -0.45 -0.37 -0.29 -0.2  -0.12\n",
      " -0.04  0.04  0.12  0.2   0.29  0.37  0.45  0.53  0.61  0.69  0.78  0.86\n",
      "  0.94  1.02  1.1   1.18  1.27  1.35  1.43  1.51  1.59  1.67  1.76  1.84\n",
      "  1.92  2.  ]\n"
     ]
    }
   ],
   "source": [
    "import numpy as np\n",
    "\n",
    "# start at 0, stop at 10, and generate 8 numbers\n",
    "x = np.linspace(-2,2,50)\n",
    "\n",
    "print(x)"
   ]
  },
  {
   "cell_type": "code",
   "execution_count": 9,
   "id": "de2d2d44-a0e1-4427-90ad-adbecae194f0",
   "metadata": {},
   "outputs": [
    {
     "data": {
      "text/plain": [
       "<Axes: >"
      ]
     },
     "execution_count": 9,
     "metadata": {},
     "output_type": "execute_result"
    },
    {
     "data": {
      "image/png": "[encoded data removed]",
      "text/plain": [
       "<Figure size 640x480 with 2 Axes>"
      ]
     },
     "metadata": {},
     "output_type": "display_data"
    }
   ],
   "source": [
    "#sns.heatmap(x.T)\n",
    "sns.heatmap(x.reshape(-1,1),  cmap=plt.cm.RdBu)"
   ]
  },
  {
   "cell_type": "code",
   "execution_count": null,
   "id": "8b4a5e20-7222-4c6f-87ae-44b05b14f3e2",
   "metadata": {},
   "outputs": [],
   "source": []
  }
 ],
 "metadata": {
  "kernelspec": {
   "display_name": "Python 3 (ipykernel)",
   "language": "python",
   "name": "python3"
  },
  "language_info": {
   "codemirror_mode": {
    "name": "ipython",
    "version": 3
   },
   "file_extension": ".py",
   "mimetype": "text/x-python",
   "name": "python",
   "nbconvert_exporter": "python",
   "pygments_lexer": "ipython3",
   "version": "3.10.10"
  }
 },
 "nbformat": 4,
 "nbformat_minor": 5
}
