{
 "cells": [
  {
   "cell_type": "raw",
   "id": "b9959fb4-50d4-415d-88b8-be0b268ae999",
   "metadata": {},
   "source": [
    "\n",
    "bash\n",
    "grep -oE --no-filename -R 'cmap[=]........{,3}' | sort|uniq -c  | sort -n\n",
    "\n",
    "```python\n",
    "      4 cmap=\\\"Blues\\\")\n",
    "      4 cmap=\\\"cet_\\\" +\n",
    "      4 cmap=plt.cm.Spe\n",
    "      4 cmap='RdBu_r')\n",
    "      4 cmap='YlOrBr' )\n",
    "      5 cmap='Blues')\"\n",
    "      8 cmap='Blues')\\n\n",
    "     12 cmap='RdBu', vm\n",
    "     14 cmap='gray', in\n",
    "     \n",
    "\n",
    "', 'RdYlBu', 'RdYlBu_r', 'RdYlGn', 'RdYlGn_r',\n",
    "BrBG', 'BrBG_r\n",
    "RdBu', 'RdBu_r'     "
   ]
  },
  {
   "cell_type": "code",
   "execution_count": 1,
   "id": "94362eef-7f91-4b08-a303-272521f21540",
   "metadata": {},
   "outputs": [
    {
     "data": {
      "text/plain": [
       "'%.2f'"
      ]
     },
     "execution_count": 1,
     "metadata": {},
     "output_type": "execute_result"
    }
   ],
   "source": [
    "import numpy as np\n",
    "\n",
    "np.set_printoptions(suppress=True)\n",
    "\n",
    "np.set_printoptions(threshold=20)\n",
    "np.set_printoptions(threshold=400)\n",
    "\n",
    "np.set_printoptions(edgeitems=10)\n",
    "\n",
    "np.set_printoptions(precision=4)\n",
    "#np.set_printoptions(precision=3)\n",
    "np.set_printoptions(precision=2)\n",
    "#np.set_printoptions(precision=1)\n",
    "#np.set_printoptions(precision=0)\n",
    "\n",
    "%precision 4\n",
    "%precision 2\n"
   ]
  },
  {
   "cell_type": "code",
   "execution_count": null,
   "id": "17526dc7-c774-4f5f-a478-712bad003b9b",
   "metadata": {},
   "outputs": [],
   "source": [
    "import seaborn as sns\n",
    "import matplotlib.pyplot as plt\n",
    "\n"
   ]
  },
  {
   "cell_type": "code",
   "execution_count": null,
   "id": "71a8ef31-661b-4575-8cbd-ca7112ba72c9",
   "metadata": {},
   "outputs": [],
   "source": []
  },
  {
   "cell_type": "code",
   "execution_count": 11,
   "id": "a1146bd4-1337-46ad-89c5-f7c3482fb889",
   "metadata": {},
   "outputs": [
    {
     "name": "stdout",
     "output_type": "stream",
     "text": [
      "[-0.66 -1.18 -0.42  0.1   0.14  0.11 -0.05  0.09 -1.2  -0.86 -1.28  0.08\n",
      " -2.03 -0.76  0.53 -0.6  -1.25  1.44  0.47 -0.35 -0.21  0.68  0.39 -0.93\n",
      "  1.16  0.29 -0.99  1.7  -0.32 -0.55 -1.32  0.55 -2.08 -0.45  0.87 -0.95\n",
      "  1.63 -0.41 -0.26 -1.26  0.53 -0.41 -0.01  0.68 -0.4   0.83 -0.84  0.44\n",
      " -0.54  0.28]\n"
     ]
    }
   ],
   "source": [
    "import numpy as np\n",
    "\n",
    "# start at 0, stop at 10, and generate 8 numbers\n",
    "x = np.linspace(-2,2,50)\n",
    "\n",
    "x = np.random.randn(50)\n",
    "\n",
    "print(x)"
   ]
  },
  {
   "cell_type": "code",
   "execution_count": 17,
   "id": "de2d2d44-a0e1-4427-90ad-adbecae194f0",
   "metadata": {},
   "outputs": [
    {
     "data": {
      "text/plain": [
       "1"
      ]
     },
     "execution_count": 17,
     "metadata": {},
     "output_type": "execute_result"
    },
    {
     "data": {
      "image/png": "[encoded data removed]",
      "text/plain": [
       "<Figure size 640x480 with 2 Axes>"
      ]
     },
     "metadata": {},
     "output_type": "display_data"
    }
   ],
   "source": [
    "#sns.heatmap(x.T)\n",
    "sns.heatmap(x.reshape(-1,1).T,  cmap=plt.cm.RdBu, center = 0)\n",
    "\n",
    "vectors=x.reshape(-1,1).T\n",
    "\n",
    "n_vectors = len(vectors)\n",
    "#fig = plt.figure(figsize=(12, n_vectors))\n",
    "    # ax = fig.add_axes([0.1, 0.1, 0.8, 0.8])\n",
    "    # ax = fig.add_axes([1, 1, 1, 1])\n",
    "#ax = plt.gca()\n",
    "n_vectors\n"
   ]
  },
  {
   "cell_type": "code",
   "execution_count": null,
   "id": "8b4a5e20-7222-4c6f-87ae-44b05b14f3e2",
   "metadata": {},
   "outputs": [],
   "source": []
  }
 ],
 "metadata": {
  "kernelspec": {
   "display_name": "Python 3 (ipykernel)",
   "language": "python",
   "name": "python3"
  },
  "language_info": {
   "codemirror_mode": {
    "name": "ipython",
    "version": 3
   },
   "file_extension": ".py",
   "mimetype": "text/x-python",
   "name": "python",
   "nbconvert_exporter": "python",
   "pygments_lexer": "ipython3",
   "version": "3.10.10"
  }
 },
 "nbformat": 4,
 "nbformat_minor": 5
}
