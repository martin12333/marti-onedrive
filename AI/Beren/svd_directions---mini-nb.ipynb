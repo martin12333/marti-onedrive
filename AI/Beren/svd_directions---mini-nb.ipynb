{
 "cells": [
  {
   "cell_type": "markdown",
   "id": "563f46a8-5708-4093-8d7a-300f9aa2b7ff",
   "metadata": {},
   "source": [
    "# SVD weight directions are highly interpretable\n"
   ]
  },
  {
   "cell_type": "code",
   "execution_count": null,
   "id": "c29ca6fb-b7c6-4c47-8006-76a8f6f4c139",
   "metadata": {},
   "outputs": [],
   "source": [
    "# mini nb  #mm"
   ]
  },
  {
   "cell_type": "code",
   "execution_count": null,
   "id": "96fb87f4-72b2-4c15-aff4-d12cfed68604",
   "metadata": {},
   "outputs": [],
   "source": []
  },
  {
   "cell_type": "code",
   "execution_count": null,
   "id": "cf0195d2-71a7-4925-9b90-803aba66f37a",
   "metadata": {},
   "outputs": [],
   "source": []
  },
  {
   "cell_type": "code",
   "execution_count": 13,
   "id": "7d63a523-7b43-48fb-a28b-3c0916f3a128",
   "metadata": {
    "colab": {
     "base_uri": "https://localhost:8080/"
    },
    "collapsed": true,
    "id": "eIThWRFlvryT",
    "jupyter": {
     "outputs_hidden": true
    },
    "outputId": "46302aba-9964-4578-ef47-6db9aa94fa51",
    "tags": []
   },
   "outputs": [
    {
     "name": "stdout",
     "output_type": "stream",
     "text": [
      "Requirement already satisfied: datasets in d:\\conda\\envs\\pip310ecco\\lib\\site-packages (2.13.1)Note: you may need to restart the kernel to use updated packages.\n",
      "\n",
      "Requirement already satisfied: pyarrow>=8.0.0 in d:\\conda\\envs\\pip310ecco\\lib\\site-packages (from datasets) (12.0.1)\n",
      "Requirement already satisfied: xxhash in d:\\conda\\envs\\pip310ecco\\lib\\site-packages (from datasets) (3.2.0)\n",
      "Requirement already satisfied: pyyaml>=5.1 in d:\\conda\\envs\\pip310ecco\\lib\\site-packages (from datasets) (6.0)\n",
      "Requirement already satisfied: numpy>=1.17 in d:\\conda\\envs\\pip310ecco\\lib\\site-packages (from datasets) (1.24.3)\n",
      "Requirement already satisfied: tqdm>=4.62.1 in d:\\conda\\envs\\pip310ecco\\lib\\site-packages (from datasets) (4.65.0)\n",
      "Requirement already satisfied: aiohttp in d:\\conda\\envs\\pip310ecco\\lib\\site-packages (from datasets) (3.8.4)\n",
      "Requirement already satisfied: huggingface-hub<1.0.0,>=0.11.0 in d:\\conda\\envs\\pip310ecco\\lib\\site-packages (from datasets) (0.14.1)\n",
      "Requirement already satisfied: pandas in d:\\conda\\envs\\pip310ecco\\lib\\site-packages (from datasets) (2.0.2)\n",
      "Requirement already satisfied: fsspec[http]>=2021.11.1 in d:\\conda\\envs\\pip310ecco\\lib\\site-packages (from datasets) (2023.5.0)\n",
      "Requirement already satisfied: packaging in d:\\conda\\envs\\pip310ecco\\lib\\site-packages (from datasets) (23.0)\n",
      "Requirement already satisfied: dill<0.3.7,>=0.3.0 in d:\\conda\\envs\\pip310ecco\\lib\\site-packages (from datasets) (0.3.6)\n",
      "Requirement already satisfied: requests>=2.19.0 in d:\\conda\\envs\\pip310ecco\\lib\\site-packages (from datasets) (2.29.0)\n",
      "Requirement already satisfied: multiprocess in d:\\conda\\envs\\pip310ecco\\lib\\site-packages (from datasets) (0.70.14)\n",
      "Requirement already satisfied: yarl<2.0,>=1.0 in d:\\conda\\envs\\pip310ecco\\lib\\site-packages (from aiohttp->datasets) (1.9.2)\n",
      "Requirement already satisfied: multidict<7.0,>=4.5 in d:\\conda\\envs\\pip310ecco\\lib\\site-packages (from aiohttp->datasets) (6.0.4)\n",
      "Requirement already satisfied: charset-normalizer<4.0,>=2.0 in d:\\conda\\envs\\pip310ecco\\lib\\site-packages (from aiohttp->datasets) (2.0.4)\n",
      "Requirement already satisfied: attrs>=17.3.0 in d:\\conda\\envs\\pip310ecco\\lib\\site-packages (from aiohttp->datasets) (22.1.0)\n",
      "Requirement already satisfied: frozenlist>=1.1.1 in d:\\conda\\envs\\pip310ecco\\lib\\site-packages (from aiohttp->datasets) (1.3.3)\n",
      "Requirement already satisfied: aiosignal>=1.1.2 in d:\\conda\\envs\\pip310ecco\\lib\\site-packages (from aiohttp->datasets) (1.3.1)\n",
      "Requirement already satisfied: async-timeout<5.0,>=4.0.0a3 in d:\\conda\\envs\\pip310ecco\\lib\\site-packages (from aiohttp->datasets) (4.0.2)\n",
      "Requirement already satisfied: typing-extensions>=3.7.4.3 in d:\\conda\\envs\\pip310ecco\\lib\\site-packages (from huggingface-hub<1.0.0,>=0.11.0->datasets) (4.5.0)\n",
      "Requirement already satisfied: filelock in d:\\conda\\envs\\pip310ecco\\lib\\site-packages (from huggingface-hub<1.0.0,>=0.11.0->datasets) (3.12.0)\n",
      "Requirement already satisfied: idna<4,>=2.5 in d:\\conda\\envs\\pip310ecco\\lib\\site-packages (from requests>=2.19.0->datasets) (3.4)\n",
      "Requirement already satisfied: urllib3<1.27,>=1.21.1 in d:\\conda\\envs\\pip310ecco\\lib\\site-packages (from requests>=2.19.0->datasets) (1.26.15)\n",
      "Requirement already satisfied: certifi>=2017.4.17 in d:\\conda\\envs\\pip310ecco\\lib\\site-packages (from requests>=2.19.0->datasets) (2022.12.7)\n",
      "Requirement already satisfied: colorama in d:\\conda\\envs\\pip310ecco\\lib\\site-packages (from tqdm>=4.62.1->datasets) (0.4.6)\n",
      "Requirement already satisfied: tzdata>=2022.1 in d:\\conda\\envs\\pip310ecco\\lib\\site-packages (from pandas->datasets) (2023.3)\n",
      "Requirement already satisfied: pytz>=2020.1 in d:\\conda\\envs\\pip310ecco\\lib\\site-packages (from pandas->datasets) (2022.7)\n",
      "Requirement already satisfied: python-dateutil>=2.8.2 in d:\\conda\\envs\\pip310ecco\\lib\\site-packages (from pandas->datasets) (2.8.2)\n",
      "Requirement already satisfied: six>=1.5 in d:\\conda\\envs\\pip310ecco\\lib\\site-packages (from python-dateutil>=2.8.2->pandas->datasets) (1.16.0)\n"
     ]
    }
   ],
   "source": [
    "# get everything set up\n",
    "# more rapidly install node\n",
    "\n",
    "#!curl -fsSL https://deb.nodesource.com/setup_16.x | sudo -E bash -; sudo apt-get install -y nodejs\n",
    "# install other dependencies\n",
    "\n",
    "#!pip install transformers\n",
    "\n",
    "%pip install  --dry-run  datasets\n",
    "\n",
    "# install repo with the data\n",
    "#!git clone https://github.com/BerenMillidge/svd_directions\n",
    "\n",
    "\n",
    "#aaa\n",
    "%pip install   --dry-run  tabulate\n",
    "#%pip install     tabulate\n",
    "#!bash setup.sh\n",
    "\n",
    "\n",
    "\n"
   ]
  },
  {
   "cell_type": "code",
   "execution_count": 1,
   "id": "f245e06b-8a71-49a7-968f-d393db244fac",
   "metadata": {
    "colab": {
     "base_uri": "https://localhost:8080/"
    },
    "id": "eIThWRFlvryT",
    "outputId": "46302aba-9964-4578-ef47-6db9aa94fa51"
   },
   "outputs": [
    {
     "name": "stdout",
     "output_type": "stream",
     "text": [
      "C:\\Users\\marti\\OneDrive\\AI\\OLDBIG\\svd_directions\n"
     ]
    }
   ],
   "source": [
    "\n",
    "#%cd svd_directions\n",
    "\n",
    "import torch\n",
    "from collections import Counter\n",
    "import numpy as np\n",
    "import matplotlib.pyplot as plt\n",
    "import seaborn as sns\n",
    "import gc\n",
    "from copy import deepcopy\n",
    "from tqdm.auto import tqdm, trange\n",
    "import re\n",
    "from collections import defaultdict\n",
    "from transformers import AutoModelForCausalLM, AutoTokenizer\n",
    "# utils\n",
    "import json\n",
    "from torch import nn\n",
    "import torch.nn.functional as F\n",
    "from datasets import load_dataset\n",
    "from copy import deepcopy\n",
    "from torch.nn import functional as F\n",
    "from tabulate import tabulate\n",
    "from tqdm import tqdm, trange\n",
    "import functools\n",
    "import math\n",
    "\n",
    "# this resets up the site so you don't have to restart the runtime to use pysvelte\n",
    "#import site\n",
    "#site.main()\n",
    "#import pysvelte\n",
    "\n",
    "\n",
    "sns.set_palette('colorblind')\n",
    "cmap = sns.color_palette('colorblind')"
   ]
  },
  {
   "cell_type": "code",
   "execution_count": null,
   "id": "e48dd70f-a30b-4945-9438-1361dfa438f3",
   "metadata": {},
   "outputs": [],
   "source": []
  },
  {
   "cell_type": "code",
   "execution_count": null,
   "id": "7a62bd8f-0f16-4eac-9385-4619d9eaf74a",
   "metadata": {},
   "outputs": [],
   "source": []
  },
  {
   "cell_type": "code",
   "execution_count": null,
   "id": "032d1439-2241-4dd7-8b7d-a7bfe962cb2a",
   "metadata": {},
   "outputs": [],
   "source": []
  }
 ],
 "metadata": {
  "kernelspec": {
   "display_name": "Python 3 (ipykernel)",
   "language": "python",
   "name": "python3"
  },
  "language_info": {
   "codemirror_mode": {
    "name": "ipython",
    "version": 3
   },
   "file_extension": ".py",
   "mimetype": "text/x-python",
   "name": "python",
   "nbconvert_exporter": "python",
   "pygments_lexer": "ipython3",
   "version": "3.10.10"
  }
 },
 "nbformat": 4,
 "nbformat_minor": 5
}
