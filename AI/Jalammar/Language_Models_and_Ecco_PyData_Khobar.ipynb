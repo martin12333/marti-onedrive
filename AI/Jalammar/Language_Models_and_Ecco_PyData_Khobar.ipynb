{
 "cells": [
  {
   "cell_type": "markdown",
   "metadata": {
    "colab_type": "text",
    "id": "view-in-github"
   },
   "source": [
    "<a href=\"https://colab.research.google.com/github/jalammar/ecco/blob/main/notebooks/Language_Models_and_Ecco_PyData_Khobar.ipynb\" target=\"_parent\"><img src=\"https://colab.research.google.com/assets/colab-badge.svg\" alt=\"Open In Colab\"/></a>"
   ]
  },
  {
   "cell_type": "markdown",
   "metadata": {
    "id": "tUdlUusx7U-n"
   },
   "source": [
    "## Intro to Ecco -- Making Language Models More Transparent\n",
    "This notebook is an intro to [Ecco](https://www.eccox.io) and is the companion to the video: [Take A Look Inside Language Models With Ecco | PyData Khobar](https://www.youtube.com/watch?v=rHrItfNeuh0). \n",
    " "
   ]
  },
  {
   "cell_type": "code",
   "execution_count": 1,
   "metadata": {
    "id": "Ii6Crs6VpXBM"
   },
   "outputs": [
    {
     "name": "stdout",
     "output_type": "stream",
     "text": [
      "Requirement already satisfied: ecco in d:\\conda\\envs\\pip310ecco\\lib\\site-packages (0.1.2)\n",
      "Requirement already satisfied: scikit-learn in d:\\conda\\envs\\pip310ecco\\lib\\site-packages (from ecco) (1.2.2)\n",
      "Requirement already satisfied: captum~=0.4 in d:\\conda\\envs\\pip310ecco\\lib\\site-packages (from ecco) (0.6.0)\n",
      "Requirement already satisfied: PyYAML in d:\\conda\\envs\\pip310ecco\\lib\\site-packages (from ecco) (6.0)\n",
      "Requirement already satisfied: transformers~=4.2 in d:\\conda\\envs\\pip310ecco\\lib\\site-packages (from ecco) (4.29.2)\n",
      "Requirement already satisfied: seaborn~=0.11 in d:\\conda\\envs\\pip310ecco\\lib\\site-packages (from ecco) (0.12.2)\n",
      "Requirement already satisfied: torch>=1.6 in d:\\conda\\envs\\pip310ecco\\lib\\site-packages (from captum~=0.4->ecco) (1.13.1)\n",
      "Requirement already satisfied: numpy in d:\\conda\\envs\\pip310ecco\\lib\\site-packages (from captum~=0.4->ecco) (1.24.3)\n",
      "Requirement already satisfied: matplotlib in d:\\conda\\envs\\pip310ecco\\lib\\site-packages (from captum~=0.4->ecco) (3.7.1)\n",
      "Requirement already satisfied: pandas>=0.25 in d:\\conda\\envs\\pip310ecco\\lib\\site-packages (from seaborn~=0.11->ecco) (2.0.2)\n",
      "Requirement already satisfied: tokenizers!=0.11.3,<0.14,>=0.11.1 in d:\\conda\\envs\\pip310ecco\\lib\\site-packages (from transformers~=4.2->ecco) (0.13.3)\n",
      "Requirement already satisfied: filelock in d:\\conda\\envs\\pip310ecco\\lib\\site-packages (from transformers~=4.2->ecco) (3.12.0)\n",
      "Requirement already satisfied: packaging>=20.0 in d:\\conda\\envs\\pip310ecco\\lib\\site-packages (from transformers~=4.2->ecco) (23.0)\n",
      "Requirement already satisfied: huggingface-hub<1.0,>=0.14.1 in d:\\conda\\envs\\pip310ecco\\lib\\site-packages (from transformers~=4.2->ecco) (0.14.1)\n",
      "Requirement already satisfied: regex!=2019.12.17 in d:\\conda\\envs\\pip310ecco\\lib\\site-packages (from transformers~=4.2->ecco) (2023.5.5)\n",
      "Requirement already satisfied: requests in d:\\conda\\envs\\pip310ecco\\lib\\site-packages (from transformers~=4.2->ecco) (2.29.0)\n",
      "Requirement already satisfied: tqdm>=4.27 in d:\\conda\\envs\\pip310ecco\\lib\\site-packages (from transformers~=4.2->ecco) (4.65.0)\n",
      "Requirement already satisfied: scipy>=1.3.2 in d:\\conda\\envs\\pip310ecco\\lib\\site-packages (from scikit-learn->ecco) (1.10.1)\n",
      "Requirement already satisfied: joblib>=1.1.1 in d:\\conda\\envs\\pip310ecco\\lib\\site-packages (from scikit-learn->ecco) (1.2.0)\n",
      "Requirement already satisfied: threadpoolctl>=2.0.0 in d:\\conda\\envs\\pip310ecco\\lib\\site-packages (from scikit-learn->ecco) (3.1.0)\n",
      "Requirement already satisfied: fsspec in d:\\conda\\envs\\pip310ecco\\lib\\site-packages (from huggingface-hub<1.0,>=0.14.1->transformers~=4.2->ecco) (2023.5.0)\n",
      "Requirement already satisfied: typing-extensions>=3.7.4.3 in d:\\conda\\envs\\pip310ecco\\lib\\site-packages (from huggingface-hub<1.0,>=0.14.1->transformers~=4.2->ecco) (4.5.0)\n",
      "Requirement already satisfied: python-dateutil>=2.7 in d:\\conda\\envs\\pip310ecco\\lib\\site-packages (from matplotlib->captum~=0.4->ecco) (2.8.2)\n",
      "Requirement already satisfied: cycler>=0.10 in d:\\conda\\envs\\pip310ecco\\lib\\site-packages (from matplotlib->captum~=0.4->ecco) (0.11.0)\n",
      "Requirement already satisfied: kiwisolver>=1.0.1 in d:\\conda\\envs\\pip310ecco\\lib\\site-packages (from matplotlib->captum~=0.4->ecco) (1.4.4)\n",
      "Requirement already satisfied: fonttools>=4.22.0 in d:\\conda\\envs\\pip310ecco\\lib\\site-packages (from matplotlib->captum~=0.4->ecco) (4.39.4)\n",
      "Requirement already satisfied: pillow>=6.2.0 in d:\\conda\\envs\\pip310ecco\\lib\\site-packages (from matplotlib->captum~=0.4->ecco) (9.5.0)\n",
      "Requirement already satisfied: contourpy>=1.0.1 in d:\\conda\\envs\\pip310ecco\\lib\\site-packages (from matplotlib->captum~=0.4->ecco) (1.0.7)\n",
      "Requirement already satisfied: pyparsing>=2.3.1 in d:\\conda\\envs\\pip310ecco\\lib\\site-packages (from matplotlib->captum~=0.4->ecco) (3.0.9)\n",
      "Requirement already satisfied: pytz>=2020.1 in d:\\conda\\envs\\pip310ecco\\lib\\site-packages (from pandas>=0.25->seaborn~=0.11->ecco) (2022.7)\n",
      "Requirement already satisfied: tzdata>=2022.1 in d:\\conda\\envs\\pip310ecco\\lib\\site-packages (from pandas>=0.25->seaborn~=0.11->ecco) (2023.3)\n",
      "Requirement already satisfied: colorama in d:\\conda\\envs\\pip310ecco\\lib\\site-packages (from tqdm>=4.27->transformers~=4.2->ecco) (0.4.6)\n",
      "Requirement already satisfied: certifi>=2017.4.17 in d:\\conda\\envs\\pip310ecco\\lib\\site-packages (from requests->transformers~=4.2->ecco) (2022.12.7)\n",
      "Requirement already satisfied: idna<4,>=2.5 in d:\\conda\\envs\\pip310ecco\\lib\\site-packages (from requests->transformers~=4.2->ecco) (3.4)\n",
      "Requirement already satisfied: urllib3<1.27,>=1.21.1 in d:\\conda\\envs\\pip310ecco\\lib\\site-packages (from requests->transformers~=4.2->ecco) (1.26.15)\n",
      "Requirement already satisfied: charset-normalizer<4,>=2 in d:\\conda\\envs\\pip310ecco\\lib\\site-packages (from requests->transformers~=4.2->ecco) (2.0.4)\n",
      "Requirement already satisfied: six>=1.5 in d:\\conda\\envs\\pip310ecco\\lib\\site-packages (from python-dateutil>=2.7->matplotlib->captum~=0.4->ecco) (1.16.0)\n",
      "Note: you may need to restart the kernel to use updated packages.\n"
     ]
    }
   ],
   "source": [
    "# Install Ecco. This assumes you have pytorch installed.\n",
    "###!pip install ecco\n",
    "%pip install  --dry-run ecco\n",
    "import warnings\n",
    "#warnings.filterwarnings('ignore')"
   ]
  },
  {
   "cell_type": "code",
   "execution_count": null,
   "metadata": {},
   "outputs": [],
   "source": []
  },
  {
   "cell_type": "code",
   "execution_count": 22,
   "metadata": {
    "id": "S1tPxd2fpdYo"
   },
   "outputs": [],
   "source": [
    "import ecco\n",
    "\n",
    "# Load pre-trained language model. Setting 'activations' to True tells Ecco to capture neuron activations.\n",
    "# distillgpt is a distilled GPT2 model. You can also try 'gpt2' \n",
    "#lm = ecco.from_pretrained('distilgpt2', activations=True)#\n",
    "lm = ecco.from_pretrained('gpt2', activations=True)"
   ]
  },
  {
   "cell_type": "code",
   "execution_count": null,
   "metadata": {},
   "outputs": [],
   "source": []
  },
  {
   "cell_type": "markdown",
   "metadata": {
    "id": "t91NoD-AwQFA"
   },
   "source": [
    "## Overview\n",
    "\n",
    "Complete the sentence:\n",
    "`It was a matter of ____`"
   ]
  },
  {
   "cell_type": "code",
   "execution_count": 156,
   "metadata": {
    "colab": {
     "base_uri": "https://localhost:8080/",
     "height": 49
    },
    "id": "Ixn-FHcdYL_M",
    "outputId": "21f706c7-2229-4c4d-c616-5c75a3e269c9"
   },
   "outputs": [
    {
     "data": {
      "text/html": [
       "<html lang=\"en\">\n",
       "<script src=\"https://requirejs.org/docs/release/2.3.6/minified/require.js\"></script>\n",
       "<script>\n",
       "    var ecco_url = 'https://storage.googleapis.com/ml-intro/ecco/'\n",
       "    //var ecco_url = 'http://localhost:8000/'\n",
       "\n",
       "    if (window.ecco === undefined) window.ecco = {}\n",
       "\n",
       "    // Setup the paths of the script we'll be using\n",
       "    requirejs.config({\n",
       "        urlArgs: \"bust=\" + (new Date()).getTime(),\n",
       "        nodeRequire: require,\n",
       "        paths: {\n",
       "            d3: \"https://d3js.org/d3.v6.min\", // This is only for use in setup.html and basic.html\n",
       "            \"d3-array\": \"https://d3js.org/d3-array.v2.min\",\n",
       "            jquery: \"https://code.jquery.com/jquery-3.5.1.min\",\n",
       "            ecco: ecco_url + 'js/0.0.6/ecco-bundle.min',\n",
       "            xregexp: 'https://cdnjs.cloudflare.com/ajax/libs/xregexp/3.2.0/xregexp-all.min'\n",
       "        }\n",
       "    });\n",
       "\n",
       "    // Add the css file\n",
       "    //requirejs(['d3'],\n",
       "    //    function (d3) {\n",
       "    //        d3.select('#css').attr('href', ecco_url + 'html/styles.css')\n",
       "    //    })\n",
       "\n",
       "    console.log('Ecco initialize!!')\n",
       "\n",
       "    // returns a 'basic' object. basic.init() selects the html div we'll be\n",
       "    // rendering the html into, adds styles.css to the document.\n",
       "    define('basic', ['d3'],\n",
       "        function (d3) {\n",
       "            return {\n",
       "                init: function (viz_id = null) {\n",
       "                    if (viz_id == null) {\n",
       "                        viz_id = \"viz_\" + Math.round(Math.random() * 10000000)\n",
       "                    }\n",
       "                    // Select the div rendered below, change its id\n",
       "                    const div = d3.select('#basic').attr('id', viz_id),\n",
       "                        div_parent = d3.select('#' + viz_id).node().parentNode\n",
       "\n",
       "                    // Link to CSS file\n",
       "                    d3.select(div_parent).insert('link')\n",
       "                        .attr('rel', 'stylesheet')\n",
       "                        .attr('type', 'text/css')\n",
       "                        .attr('href', ecco_url + 'html/0.0.2/styles.css')\n",
       "\n",
       "                    return viz_id\n",
       "                }\n",
       "            }\n",
       "        }, function (err) {\n",
       "            console.log(err);\n",
       "        }\n",
       "    )\n",
       "</script>\n",
       "\n",
       "<head>\n",
       "    <link id='css' rel=\"stylesheet\" type=\"text/css\">\n",
       "</head>\n",
       "<div id=\"basic\"></div>\n"
      ],
      "text/plain": [
       "<IPython.core.display.HTML object>"
      ]
     },
     "metadata": {},
     "output_type": "display_data"
    },
    {
     "data": {
      "application/javascript": [
       "\n",
       "         requirejs( ['basic', 'ecco'], function(basic, ecco){\n",
       "            basic.init('viz_273467') // Python needs to know the viz id. Used for each output token.\n",
       "            window.ecco['viz_273467'] = new ecco.renderOutputSequence({\n",
       "                    parentDiv: 'viz_273467',\n",
       "                    data: {\"tokens\": [{\"token\": \"Hermione\", \"is_partial\": false, \"position\": 0, \"token_id\": 19959, \"type\": \"input\"}, {\"token\": \"Gra\", \"is_partial\": false, \"position\": 1, \"token_id\": 7037, \"type\": \"input\"}]},\n",
       "                    tokenization_config: {\"token_prefix\": \"\\u0120\", \"partial_token_prefix\": \"\"}\n",
       "            \n",
       "            })\n",
       "         }, function (err) {\n",
       "            console.log(err);\n",
       "        })\n",
       "        "
      ],
      "text/plain": [
       "<IPython.core.display.Javascript object>"
      ]
     },
     "metadata": {},
     "output_type": "display_data"
    },
    {
     "name": "stderr",
     "output_type": "stream",
     "text": [
      "Setting `pad_token_id` to `eos_token_id`:50256 for open-end generation.\n"
     ]
    },
    {
     "data": {
      "application/javascript": [
       "\n",
       "        // We don't really need these require scripts. But this is to avert\n",
       "        //this code from running before display_input_sequence which DOES require external files\n",
       "        requirejs(['basic', 'ecco'], function(basic, ecco){\n",
       "                console.log('addToken viz_id', 'viz_273467');\n",
       "                window.ecco['viz_273467'].addToken({\"token\": \"ff\", \"is_partial\": true, \"token_id\": 487, \"position\": 2, \"type\": \"output\"})\n",
       "                window.ecco['viz_273467'].redraw()\n",
       "        })\n",
       "        "
      ],
      "text/plain": [
       "<IPython.core.display.Javascript object>"
      ]
     },
     "metadata": {},
     "output_type": "display_data"
    }
   ],
   "source": [
    "text = \" it was a matter of\"\n",
    "text=\" 1, 1, 1,\"\n",
    "text = \" !\"\n",
    "text = \"\\n$\"\n",
    "text = \"\\n\\\\\"\n",
    "#text = \"\\n\"\n",
    "text = \"\\nimport\"\n",
    "text = \"\\nimport numpy\" #\n",
    "text = \" man\"\n",
    "text = \" woman\"\n",
    "text = \" Harry Potter\"\n",
    "text = \" ! \\\" # $ %\"\n",
    "text = \" a b c d e\" #\n",
    "\n",
    "text=\"!\t\\\"\t#\t$\t%\t&\t'\t(\t)\t*\t+\t,\t-\" ###\n",
    "text=\"A\tB\tC\tD\tE\tF\tG\tH\tI\tJ\tK\tL\tM\tN\" ###\n",
    "\n",
    "text=\"! \\\" # $ % & ' ( ) * + , -\" ###\n",
    "text=\"A B C D E F G H I J K L M N\" #\n",
    "text=\"9 8 7 6 5 4 3\" ##\n",
    "#text = \" 0 1 2 3 4 \" #####\n",
    "text = \" 0 1 2 3 4\" #\n",
    "text = \" Hermione\" #\n",
    "\n",
    "\n",
    "# Generate one token\n",
    "output_1 = lm.generate(text, generate=1, do_sample=False)"
   ]
  },
  {
   "cell_type": "code",
   "execution_count": 150,
   "metadata": {},
   "outputs": [
    {
     "data": {
      "text/html": [
       "<html lang=\"en\">\n",
       "<script src=\"https://requirejs.org/docs/release/2.3.6/minified/require.js\"></script>\n",
       "<script>\n",
       "    var ecco_url = 'https://storage.googleapis.com/ml-intro/ecco/'\n",
       "    //var ecco_url = 'http://localhost:8000/'\n",
       "\n",
       "    if (window.ecco === undefined) window.ecco = {}\n",
       "\n",
       "    // Setup the paths of the script we'll be using\n",
       "    requirejs.config({\n",
       "        urlArgs: \"bust=\" + (new Date()).getTime(),\n",
       "        nodeRequire: require,\n",
       "        paths: {\n",
       "            d3: \"https://d3js.org/d3.v6.min\", // This is only for use in setup.html and basic.html\n",
       "            \"d3-array\": \"https://d3js.org/d3-array.v2.min\",\n",
       "            jquery: \"https://code.jquery.com/jquery-3.5.1.min\",\n",
       "            ecco: ecco_url + 'js/0.0.6/ecco-bundle.min',\n",
       "            xregexp: 'https://cdnjs.cloudflare.com/ajax/libs/xregexp/3.2.0/xregexp-all.min'\n",
       "        }\n",
       "    });\n",
       "\n",
       "    // Add the css file\n",
       "    //requirejs(['d3'],\n",
       "    //    function (d3) {\n",
       "    //        d3.select('#css').attr('href', ecco_url + 'html/styles.css')\n",
       "    //    })\n",
       "\n",
       "    console.log('Ecco initialize!!')\n",
       "\n",
       "    // returns a 'basic' object. basic.init() selects the html div we'll be\n",
       "    // rendering the html into, adds styles.css to the document.\n",
       "    define('basic', ['d3'],\n",
       "        function (d3) {\n",
       "            return {\n",
       "                init: function (viz_id = null) {\n",
       "                    if (viz_id == null) {\n",
       "                        viz_id = \"viz_\" + Math.round(Math.random() * 10000000)\n",
       "                    }\n",
       "                    // Select the div rendered below, change its id\n",
       "                    const div = d3.select('#basic').attr('id', viz_id),\n",
       "                        div_parent = d3.select('#' + viz_id).node().parentNode\n",
       "\n",
       "                    // Link to CSS file\n",
       "                    d3.select(div_parent).insert('link')\n",
       "                        .attr('rel', 'stylesheet')\n",
       "                        .attr('type', 'text/css')\n",
       "                        .attr('href', ecco_url + 'html/0.0.2/styles.css')\n",
       "\n",
       "                    return viz_id\n",
       "                }\n",
       "            }\n",
       "        }, function (err) {\n",
       "            console.log(err);\n",
       "        }\n",
       "    )\n",
       "</script>\n",
       "\n",
       "<head>\n",
       "    <link id='css' rel=\"stylesheet\" type=\"text/css\">\n",
       "</head>\n",
       "<div id=\"basic\"></div>\n"
      ],
      "text/plain": [
       "<IPython.core.display.HTML object>"
      ]
     },
     "metadata": {},
     "output_type": "display_data"
    },
    {
     "data": {
      "application/javascript": [
       "\n",
       "         requirejs(['basic', 'ecco'], function(basic, ecco){\n",
       "            const viz_id = basic.init()\n",
       "\n",
       "            ecco.renderOutputSequence({\n",
       "                parentDiv: viz_id,\n",
       "                data: {'tokens': [{'token': 'Ġ0', 'token_id': 657, 'type': 'input'}, {'token': 'Ġ1', 'token_id': 352, 'type': 'input'}, {'token': 'Ġ2', 'token_id': 362, 'type': 'input'}, {'token': 'Ġ3', 'token_id': 513, 'type': 'input'}, {'token': 'Ġ4', 'token_id': 604, 'type': 'input'}, {'token': 'Ġ5', 'token_id': 642, 'type': 'output'}]},\n",
       "                tokenization_config: {\"token_prefix\": \"\\u0120\", \"partial_token_prefix\": \"\"}\n",
       "            })\n",
       "         }, function (err) {\n",
       "            console.log(err);\n",
       "        })"
      ],
      "text/plain": [
       "<IPython.core.display.Javascript object>"
      ]
     },
     "metadata": {},
     "output_type": "display_data"
    },
    {
     "data": {
      "text/html": [
       "<OutputSeq>"
      ],
      "text/plain": [
       "<ecco.output.OutputSeq at 0x22494ae8100>"
      ]
     },
     "execution_count": 150,
     "metadata": {},
     "output_type": "execute_result"
    }
   ],
   "source": [
    "output_1"
   ]
  },
  {
   "cell_type": "code",
   "execution_count": 151,
   "metadata": {
    "colab": {
     "base_uri": "https://localhost:8080/",
     "height": 187
    },
    "id": "JzA265wyYL4K",
    "outputId": "54f3826b-3e9c-438e-db7c-9a635c1cc4f6"
   },
   "outputs": [
    {
     "data": {
      "text/html": [
       "<html lang=\"en\">\n",
       "<script src=\"https://requirejs.org/docs/release/2.3.6/minified/require.js\"></script>\n",
       "<script>\n",
       "    var ecco_url = 'https://storage.googleapis.com/ml-intro/ecco/'\n",
       "    //var ecco_url = 'http://localhost:8000/'\n",
       "\n",
       "    if (window.ecco === undefined) window.ecco = {}\n",
       "\n",
       "    // Setup the paths of the script we'll be using\n",
       "    requirejs.config({\n",
       "        urlArgs: \"bust=\" + (new Date()).getTime(),\n",
       "        nodeRequire: require,\n",
       "        paths: {\n",
       "            d3: \"https://d3js.org/d3.v6.min\", // This is only for use in setup.html and basic.html\n",
       "            \"d3-array\": \"https://d3js.org/d3-array.v2.min\",\n",
       "            jquery: \"https://code.jquery.com/jquery-3.5.1.min\",\n",
       "            ecco: ecco_url + 'js/0.0.6/ecco-bundle.min',\n",
       "            xregexp: 'https://cdnjs.cloudflare.com/ajax/libs/xregexp/3.2.0/xregexp-all.min'\n",
       "        }\n",
       "    });\n",
       "\n",
       "    // Add the css file\n",
       "    //requirejs(['d3'],\n",
       "    //    function (d3) {\n",
       "    //        d3.select('#css').attr('href', ecco_url + 'html/styles.css')\n",
       "    //    })\n",
       "\n",
       "    console.log('Ecco initialize!!')\n",
       "\n",
       "    // returns a 'basic' object. basic.init() selects the html div we'll be\n",
       "    // rendering the html into, adds styles.css to the document.\n",
       "    define('basic', ['d3'],\n",
       "        function (d3) {\n",
       "            return {\n",
       "                init: function (viz_id = null) {\n",
       "                    if (viz_id == null) {\n",
       "                        viz_id = \"viz_\" + Math.round(Math.random() * 10000000)\n",
       "                    }\n",
       "                    // Select the div rendered below, change its id\n",
       "                    const div = d3.select('#basic').attr('id', viz_id),\n",
       "                        div_parent = d3.select('#' + viz_id).node().parentNode\n",
       "\n",
       "                    // Link to CSS file\n",
       "                    d3.select(div_parent).insert('link')\n",
       "                        .attr('rel', 'stylesheet')\n",
       "                        .attr('type', 'text/css')\n",
       "                        .attr('href', ecco_url + 'html/0.0.2/styles.css')\n",
       "\n",
       "                    return viz_id\n",
       "                }\n",
       "            }\n",
       "        }, function (err) {\n",
       "            console.log(err);\n",
       "        }\n",
       "    )\n",
       "</script>\n",
       "\n",
       "<head>\n",
       "    <link id='css' rel=\"stylesheet\" type=\"text/css\">\n",
       "</head>\n",
       "<div id=\"basic\"></div>\n"
      ],
      "text/plain": [
       "<IPython.core.display.HTML object>"
      ]
     },
     "metadata": {},
     "output_type": "display_data"
    },
    {
     "data": {
      "application/javascript": [
       "\n",
       "         requirejs(['basic', 'ecco'], function(basic, ecco){\n",
       "            const viz_id = basic.init()\n",
       "\n",
       "\n",
       "            let pred = new ecco.LayerPredictions({\n",
       "                parentDiv: viz_id,\n",
       "                data:[[{\"token\": \" 5\", \"prob\": \"0.9658834\", \"ranking\": 1, \"layer\": 11}, {\"token\": \" 4\", \"prob\": \"0.0033134422\", \"ranking\": 2, \"layer\": 11}, {\"token\": \" 0\", \"prob\": \"0.0024057324\", \"ranking\": 3, \"layer\": 11}, {\"token\": \" 1\", \"prob\": \"0.0021779463\", \"ranking\": 4, \"layer\": 11}, {\"token\": \" 6\", \"prob\": \"0.0010055151\", \"ranking\": 5, \"layer\": 11}, {\"token\": \" 3\", \"prob\": \"0.000995411\", \"ranking\": 6, \"layer\": 11}, {\"token\": \" 50\", \"prob\": \"0.00078661536\", \"ranking\": 7, \"layer\": 11}, {\"token\": \"/\", \"prob\": \"0.0005486979\", \"ranking\": 8, \"layer\": 11}, {\"token\": \" P\", \"prob\": \"0.00045213927\", \"ranking\": 9, \"layer\": 11}, {\"token\": \"\\n\", \"prob\": \"0.0004516411\", \"ranking\": 10, \"layer\": 11}]]\n",
       "            })\n",
       "            pred.init()\n",
       "         }, function (err) {\n",
       "            console.log(viz_id, err);\n",
       "        })"
      ],
      "text/plain": [
       "<IPython.core.display.Javascript object>"
      ]
     },
     "metadata": {},
     "output_type": "display_data"
    },
    {
     "ename": "AssertionError",
     "evalue": "position=4 not supported, minimum is position=5 for the first generated token",
     "output_type": "error",
     "traceback": [
      "\u001b[1;31m-----------------------------------------------------------------\u001b[0m",
      "\u001b[1;31mAssertionError\u001b[0m                  Traceback (most recent call last)",
      "Cell \u001b[1;32mIn[151], line 7\u001b[0m\n\u001b[0;32m      4\u001b[0m output_1\u001b[38;5;241m.\u001b[39mlayer_predictions(position\u001b[38;5;241m=\u001b[39m\u001b[38;5;241m5\u001b[39m, layer\u001b[38;5;241m=\u001b[39mn5, topk\u001b[38;5;241m=\u001b[39m\u001b[38;5;241m10\u001b[39m)\n\u001b[0;32m      5\u001b[0m \u001b[38;5;66;03m#output_1.layer_predictions(position=1, layer=n5, topk=10)\u001b[39;00m\n\u001b[0;32m      6\u001b[0m \u001b[38;5;66;03m#output_1.layer_predictions(position=2, layer=n5, topk=10)\u001b[39;00m\n\u001b[1;32m----> 7\u001b[0m \u001b[43moutput_1\u001b[49m\u001b[38;5;241;43m.\u001b[39;49m\u001b[43mlayer_predictions\u001b[49m\u001b[43m(\u001b[49m\u001b[43mposition\u001b[49m\u001b[38;5;241;43m=\u001b[39;49m\u001b[38;5;241;43m4\u001b[39;49m\u001b[43m,\u001b[49m\u001b[43m \u001b[49m\u001b[43mlayer\u001b[49m\u001b[38;5;241;43m=\u001b[39;49m\u001b[43mn5\u001b[49m\u001b[43m,\u001b[49m\u001b[43m \u001b[49m\u001b[43mtopk\u001b[49m\u001b[38;5;241;43m=\u001b[39;49m\u001b[38;5;241;43m10\u001b[39;49m\u001b[43m)\u001b[49m\n\u001b[0;32m      8\u001b[0m output_1\u001b[38;5;241m.\u001b[39mlayer_predictions(position\u001b[38;5;241m=\u001b[39m\u001b[38;5;241m6\u001b[39m, layer\u001b[38;5;241m=\u001b[39mn5, topk\u001b[38;5;241m=\u001b[39m\u001b[38;5;241m10\u001b[39m)\n",
      "File \u001b[1;32mD:\\conda\\envs\\pip310ecco\\lib\\site-packages\\ecco\\output.py:362\u001b[0m, in \u001b[0;36mOutputSeq.layer_predictions\u001b[1;34m(self, position, topk, layer, **kwargs)\u001b[0m\n\u001b[0;32m    360\u001b[0m offset \u001b[38;5;241m=\u001b[39m \u001b[38;5;241m1\u001b[39m \u001b[38;5;28;01mif\u001b[39;00m \u001b[38;5;28mself\u001b[39m\u001b[38;5;241m.\u001b[39mmodel_type \u001b[38;5;241m==\u001b[39m \u001b[38;5;124m'\u001b[39m\u001b[38;5;124menc-dec\u001b[39m\u001b[38;5;124m'\u001b[39m \u001b[38;5;28;01melse\u001b[39;00m \u001b[38;5;241m0\u001b[39m\n\u001b[0;32m    361\u001b[0m new_position \u001b[38;5;241m=\u001b[39m position \u001b[38;5;241m-\u001b[39m offset \u001b[38;5;241m-\u001b[39m \u001b[38;5;28mself\u001b[39m\u001b[38;5;241m.\u001b[39mn_input_tokens\n\u001b[1;32m--> 362\u001b[0m \u001b[38;5;28;01massert\u001b[39;00m new_position \u001b[38;5;241m>\u001b[39m\u001b[38;5;241m=\u001b[39m \u001b[38;5;241m0\u001b[39m, \u001b[38;5;124mf\u001b[39m\u001b[38;5;124m\"\u001b[39m\u001b[38;5;124mposition=\u001b[39m\u001b[38;5;132;01m{\u001b[39;00mposition\u001b[38;5;132;01m}\u001b[39;00m\u001b[38;5;124m not supported, minimum is \u001b[39m\u001b[38;5;124m\"\u001b[39m \\\n\u001b[0;32m    363\u001b[0m                           \u001b[38;5;124mf\u001b[39m\u001b[38;5;124m\"\u001b[39m\u001b[38;5;124mposition=\u001b[39m\u001b[38;5;132;01m{\u001b[39;00m\u001b[38;5;28mself\u001b[39m\u001b[38;5;241m.\u001b[39mn_input_tokens\u001b[38;5;250m \u001b[39m\u001b[38;5;241m+\u001b[39m\u001b[38;5;250m \u001b[39moffset\u001b[38;5;132;01m}\u001b[39;00m\u001b[38;5;124m for the first generated token\u001b[39m\u001b[38;5;124m\"\u001b[39m\n\u001b[0;32m    364\u001b[0m \u001b[38;5;28;01massert\u001b[39;00m new_position \u001b[38;5;241m<\u001b[39m \u001b[38;5;28mlen\u001b[39m(dec_hidden_states), \u001b[38;5;124mf\u001b[39m\u001b[38;5;124m\"\u001b[39m\u001b[38;5;124mposition=\u001b[39m\u001b[38;5;132;01m{\u001b[39;00mposition\u001b[38;5;132;01m}\u001b[39;00m\u001b[38;5;124m not supported, maximum is \u001b[39m\u001b[38;5;124m\"\u001b[39m \\\n\u001b[0;32m    365\u001b[0m                                               \u001b[38;5;124mf\u001b[39m\u001b[38;5;124m\"\u001b[39m\u001b[38;5;124mposition=\u001b[39m\u001b[38;5;132;01m{\u001b[39;00m\u001b[38;5;28mlen\u001b[39m(dec_hidden_states)\u001b[38;5;250m \u001b[39m\u001b[38;5;241m-\u001b[39m\u001b[38;5;250m \u001b[39m\u001b[38;5;241m1\u001b[39m\u001b[38;5;250m \u001b[39m\u001b[38;5;241m+\u001b[39m\u001b[38;5;250m \u001b[39m\u001b[38;5;28mself\u001b[39m\u001b[38;5;241m.\u001b[39mn_input_tokens\u001b[38;5;250m \u001b[39m\u001b[38;5;241m+\u001b[39m\u001b[38;5;250m \u001b[39moffset\u001b[38;5;132;01m}\u001b[39;00m\u001b[38;5;124m \u001b[39m\u001b[38;5;124m\"\u001b[39m \\\n\u001b[0;32m    366\u001b[0m                                               \u001b[38;5;124mf\u001b[39m\u001b[38;5;124m\"\u001b[39m\u001b[38;5;124mfor the last generated token.\u001b[39m\u001b[38;5;124m\"\u001b[39m\n\u001b[0;32m    367\u001b[0m position \u001b[38;5;241m=\u001b[39m new_position\n",
      "\u001b[1;31mAssertionError\u001b[0m: position=4 not supported, minimum is position=5 for the first generated token"
     ]
    }
   ],
   "source": [
    "# Show the top 10 candidate output tokens for position #5. \n",
    "# Layer 5 is the last layer in the model.\n",
    "n5=11\n",
    "output_1.layer_predictions(position=5, layer=n5, topk=10)\n",
    "#output_1.layer_predictions(position=1, layer=n5, topk=10)\n",
    "#output_1.layer_predictions(position=2, layer=n5, topk=10)\n",
    "output_1.layer_predictions(position=4, layer=n5, topk=10)\n",
    "output_1.layer_predictions(position=6, layer=n5, topk=10)\n"
   ]
  },
  {
   "cell_type": "code",
   "execution_count": 152,
   "metadata": {
    "colab": {
     "base_uri": "https://localhost:8080/",
     "height": 49
    },
    "id": "e2V8ARTEsF6B",
    "outputId": "d5ac06ef-8157-4b89-debe-6d3400b5f848"
   },
   "outputs": [
    {
     "data": {
      "text/html": [
       "<html lang=\"en\">\n",
       "<script src=\"https://requirejs.org/docs/release/2.3.6/minified/require.js\"></script>\n",
       "<script>\n",
       "    var ecco_url = 'https://storage.googleapis.com/ml-intro/ecco/'\n",
       "    //var ecco_url = 'http://localhost:8000/'\n",
       "\n",
       "    if (window.ecco === undefined) window.ecco = {}\n",
       "\n",
       "    // Setup the paths of the script we'll be using\n",
       "    requirejs.config({\n",
       "        urlArgs: \"bust=\" + (new Date()).getTime(),\n",
       "        nodeRequire: require,\n",
       "        paths: {\n",
       "            d3: \"https://d3js.org/d3.v6.min\", // This is only for use in setup.html and basic.html\n",
       "            \"d3-array\": \"https://d3js.org/d3-array.v2.min\",\n",
       "            jquery: \"https://code.jquery.com/jquery-3.5.1.min\",\n",
       "            ecco: ecco_url + 'js/0.0.6/ecco-bundle.min',\n",
       "            xregexp: 'https://cdnjs.cloudflare.com/ajax/libs/xregexp/3.2.0/xregexp-all.min'\n",
       "        }\n",
       "    });\n",
       "\n",
       "    // Add the css file\n",
       "    //requirejs(['d3'],\n",
       "    //    function (d3) {\n",
       "    //        d3.select('#css').attr('href', ecco_url + 'html/styles.css')\n",
       "    //    })\n",
       "\n",
       "    console.log('Ecco initialize!!')\n",
       "\n",
       "    // returns a 'basic' object. basic.init() selects the html div we'll be\n",
       "    // rendering the html into, adds styles.css to the document.\n",
       "    define('basic', ['d3'],\n",
       "        function (d3) {\n",
       "            return {\n",
       "                init: function (viz_id = null) {\n",
       "                    if (viz_id == null) {\n",
       "                        viz_id = \"viz_\" + Math.round(Math.random() * 10000000)\n",
       "                    }\n",
       "                    // Select the div rendered below, change its id\n",
       "                    const div = d3.select('#basic').attr('id', viz_id),\n",
       "                        div_parent = d3.select('#' + viz_id).node().parentNode\n",
       "\n",
       "                    // Link to CSS file\n",
       "                    d3.select(div_parent).insert('link')\n",
       "                        .attr('rel', 'stylesheet')\n",
       "                        .attr('type', 'text/css')\n",
       "                        .attr('href', ecco_url + 'html/0.0.2/styles.css')\n",
       "\n",
       "                    return viz_id\n",
       "                }\n",
       "            }\n",
       "        }, function (err) {\n",
       "            console.log(err);\n",
       "        }\n",
       "    )\n",
       "</script>\n",
       "\n",
       "<head>\n",
       "    <link id='css' rel=\"stylesheet\" type=\"text/css\">\n",
       "</head>\n",
       "<div id=\"basic\"></div>\n"
      ],
      "text/plain": [
       "<IPython.core.display.HTML object>"
      ]
     },
     "metadata": {},
     "output_type": "display_data"
    },
    {
     "data": {
      "application/javascript": [
       "\n",
       "         requirejs( ['basic', 'ecco'], function(basic, ecco){\n",
       "            basic.init('viz_900826') // Python needs to know the viz id. Used for each output token.\n",
       "            window.ecco['viz_900826'] = new ecco.renderOutputSequence({\n",
       "                    parentDiv: 'viz_900826',\n",
       "                    data: {\"tokens\": [{\"token\": \"0\", \"is_partial\": false, \"position\": 0, \"token_id\": 657, \"type\": \"input\"}, {\"token\": \"1\", \"is_partial\": false, \"position\": 1, \"token_id\": 352, \"type\": \"input\"}, {\"token\": \"2\", \"is_partial\": false, \"position\": 2, \"token_id\": 362, \"type\": \"input\"}, {\"token\": \"3\", \"is_partial\": false, \"position\": 3, \"token_id\": 513, \"type\": \"input\"}, {\"token\": \"4\", \"is_partial\": false, \"position\": 4, \"token_id\": 604, \"type\": \"input\"}]},\n",
       "                    tokenization_config: {\"token_prefix\": \"\\u0120\", \"partial_token_prefix\": \"\"}\n",
       "            \n",
       "            })\n",
       "         }, function (err) {\n",
       "            console.log(err);\n",
       "        })\n",
       "        "
      ],
      "text/plain": [
       "<IPython.core.display.Javascript object>"
      ]
     },
     "metadata": {},
     "output_type": "display_data"
    },
    {
     "name": "stderr",
     "output_type": "stream",
     "text": [
      "Setting `pad_token_id` to `eos_token_id`:50256 for open-end generation.\n"
     ]
    },
    {
     "data": {
      "application/javascript": [
       "\n",
       "        // We don't really need these require scripts. But this is to avert\n",
       "        //this code from running before display_input_sequence which DOES require external files\n",
       "        requirejs(['basic', 'ecco'], function(basic, ecco){\n",
       "                console.log('addToken viz_id', 'viz_900826');\n",
       "                window.ecco['viz_900826'].addToken({\"token\": \"5\", \"is_partial\": false, \"token_id\": 642, \"position\": 5, \"type\": \"output\"})\n",
       "                window.ecco['viz_900826'].redraw()\n",
       "        })\n",
       "        "
      ],
      "text/plain": [
       "<IPython.core.display.Javascript object>"
      ]
     },
     "metadata": {},
     "output_type": "display_data"
    },
    {
     "data": {
      "application/javascript": [
       "\n",
       "        // We don't really need these require scripts. But this is to avert\n",
       "        //this code from running before display_input_sequence which DOES require external files\n",
       "        requirejs(['basic', 'ecco'], function(basic, ecco){\n",
       "                console.log('addToken viz_id', 'viz_900826');\n",
       "                window.ecco['viz_900826'].addToken({\"token\": \"6\", \"is_partial\": false, \"token_id\": 718, \"position\": 6, \"type\": \"output\"})\n",
       "                window.ecco['viz_900826'].redraw()\n",
       "        })\n",
       "        "
      ],
      "text/plain": [
       "<IPython.core.display.Javascript object>"
      ]
     },
     "metadata": {},
     "output_type": "display_data"
    },
    {
     "data": {
      "application/javascript": [
       "\n",
       "        // We don't really need these require scripts. But this is to avert\n",
       "        //this code from running before display_input_sequence which DOES require external files\n",
       "        requirejs(['basic', 'ecco'], function(basic, ecco){\n",
       "                console.log('addToken viz_id', 'viz_900826');\n",
       "                window.ecco['viz_900826'].addToken({\"token\": \"7\", \"is_partial\": false, \"token_id\": 767, \"position\": 7, \"type\": \"output\"})\n",
       "                window.ecco['viz_900826'].redraw()\n",
       "        })\n",
       "        "
      ],
      "text/plain": [
       "<IPython.core.display.Javascript object>"
      ]
     },
     "metadata": {},
     "output_type": "display_data"
    },
    {
     "data": {
      "application/javascript": [
       "\n",
       "        // We don't really need these require scripts. But this is to avert\n",
       "        //this code from running before display_input_sequence which DOES require external files\n",
       "        requirejs(['basic', 'ecco'], function(basic, ecco){\n",
       "                console.log('addToken viz_id', 'viz_900826');\n",
       "                window.ecco['viz_900826'].addToken({\"token\": \"8\", \"is_partial\": false, \"token_id\": 807, \"position\": 8, \"type\": \"output\"})\n",
       "                window.ecco['viz_900826'].redraw()\n",
       "        })\n",
       "        "
      ],
      "text/plain": [
       "<IPython.core.display.Javascript object>"
      ]
     },
     "metadata": {},
     "output_type": "display_data"
    },
    {
     "data": {
      "application/javascript": [
       "\n",
       "        // We don't really need these require scripts. But this is to avert\n",
       "        //this code from running before display_input_sequence which DOES require external files\n",
       "        requirejs(['basic', 'ecco'], function(basic, ecco){\n",
       "                console.log('addToken viz_id', 'viz_900826');\n",
       "                window.ecco['viz_900826'].addToken({\"token\": \"9\", \"is_partial\": false, \"token_id\": 860, \"position\": 9, \"type\": \"output\"})\n",
       "                window.ecco['viz_900826'].redraw()\n",
       "        })\n",
       "        "
      ],
      "text/plain": [
       "<IPython.core.display.Javascript object>"
      ]
     },
     "metadata": {},
     "output_type": "display_data"
    },
    {
     "data": {
      "application/javascript": [
       "\n",
       "        // We don't really need these require scripts. But this is to avert\n",
       "        //this code from running before display_input_sequence which DOES require external files\n",
       "        requirejs(['basic', 'ecco'], function(basic, ecco){\n",
       "                console.log('addToken viz_id', 'viz_900826');\n",
       "                window.ecco['viz_900826'].addToken({\"token\": \"10\", \"is_partial\": false, \"token_id\": 838, \"position\": 10, \"type\": \"output\"})\n",
       "                window.ecco['viz_900826'].redraw()\n",
       "        })\n",
       "        "
      ],
      "text/plain": [
       "<IPython.core.display.Javascript object>"
      ]
     },
     "metadata": {},
     "output_type": "display_data"
    },
    {
     "data": {
      "application/javascript": [
       "\n",
       "        // We don't really need these require scripts. But this is to avert\n",
       "        //this code from running before display_input_sequence which DOES require external files\n",
       "        requirejs(['basic', 'ecco'], function(basic, ecco){\n",
       "                console.log('addToken viz_id', 'viz_900826');\n",
       "                window.ecco['viz_900826'].addToken({\"token\": \"11\", \"is_partial\": false, \"token_id\": 1367, \"position\": 11, \"type\": \"output\"})\n",
       "                window.ecco['viz_900826'].redraw()\n",
       "        })\n",
       "        "
      ],
      "text/plain": [
       "<IPython.core.display.Javascript object>"
      ]
     },
     "metadata": {},
     "output_type": "display_data"
    },
    {
     "data": {
      "application/javascript": [
       "\n",
       "        // We don't really need these require scripts. But this is to avert\n",
       "        //this code from running before display_input_sequence which DOES require external files\n",
       "        requirejs(['basic', 'ecco'], function(basic, ecco){\n",
       "                console.log('addToken viz_id', 'viz_900826');\n",
       "                window.ecco['viz_900826'].addToken({\"token\": \"12\", \"is_partial\": false, \"token_id\": 1105, \"position\": 12, \"type\": \"output\"})\n",
       "                window.ecco['viz_900826'].redraw()\n",
       "        })\n",
       "        "
      ],
      "text/plain": [
       "<IPython.core.display.Javascript object>"
      ]
     },
     "metadata": {},
     "output_type": "display_data"
    },
    {
     "data": {
      "application/javascript": [
       "\n",
       "        // We don't really need these require scripts. But this is to avert\n",
       "        //this code from running before display_input_sequence which DOES require external files\n",
       "        requirejs(['basic', 'ecco'], function(basic, ecco){\n",
       "                console.log('addToken viz_id', 'viz_900826');\n",
       "                window.ecco['viz_900826'].addToken({\"token\": \"13\", \"is_partial\": false, \"token_id\": 1511, \"position\": 13, \"type\": \"output\"})\n",
       "                window.ecco['viz_900826'].redraw()\n",
       "        })\n",
       "        "
      ],
      "text/plain": [
       "<IPython.core.display.Javascript object>"
      ]
     },
     "metadata": {},
     "output_type": "display_data"
    },
    {
     "data": {
      "application/javascript": [
       "\n",
       "        // We don't really need these require scripts. But this is to avert\n",
       "        //this code from running before display_input_sequence which DOES require external files\n",
       "        requirejs(['basic', 'ecco'], function(basic, ecco){\n",
       "                console.log('addToken viz_id', 'viz_900826');\n",
       "                window.ecco['viz_900826'].addToken({\"token\": \"14\", \"is_partial\": false, \"token_id\": 1478, \"position\": 14, \"type\": \"output\"})\n",
       "                window.ecco['viz_900826'].redraw()\n",
       "        })\n",
       "        "
      ],
      "text/plain": [
       "<IPython.core.display.Javascript object>"
      ]
     },
     "metadata": {},
     "output_type": "display_data"
    },
    {
     "data": {
      "application/javascript": [
       "\n",
       "        // We don't really need these require scripts. But this is to avert\n",
       "        //this code from running before display_input_sequence which DOES require external files\n",
       "        requirejs(['basic', 'ecco'], function(basic, ecco){\n",
       "                console.log('addToken viz_id', 'viz_900826');\n",
       "                window.ecco['viz_900826'].addToken({\"token\": \"15\", \"is_partial\": false, \"token_id\": 1315, \"position\": 15, \"type\": \"output\"})\n",
       "                window.ecco['viz_900826'].redraw()\n",
       "        })\n",
       "        "
      ],
      "text/plain": [
       "<IPython.core.display.Javascript object>"
      ]
     },
     "metadata": {},
     "output_type": "display_data"
    },
    {
     "data": {
      "application/javascript": [
       "\n",
       "        // We don't really need these require scripts. But this is to avert\n",
       "        //this code from running before display_input_sequence which DOES require external files\n",
       "        requirejs(['basic', 'ecco'], function(basic, ecco){\n",
       "                console.log('addToken viz_id', 'viz_900826');\n",
       "                window.ecco['viz_900826'].addToken({\"token\": \"16\", \"is_partial\": false, \"token_id\": 1467, \"position\": 16, \"type\": \"output\"})\n",
       "                window.ecco['viz_900826'].redraw()\n",
       "        })\n",
       "        "
      ],
      "text/plain": [
       "<IPython.core.display.Javascript object>"
      ]
     },
     "metadata": {},
     "output_type": "display_data"
    },
    {
     "data": {
      "application/javascript": [
       "\n",
       "        // We don't really need these require scripts. But this is to avert\n",
       "        //this code from running before display_input_sequence which DOES require external files\n",
       "        requirejs(['basic', 'ecco'], function(basic, ecco){\n",
       "                console.log('addToken viz_id', 'viz_900826');\n",
       "                window.ecco['viz_900826'].addToken({\"token\": \"17\", \"is_partial\": false, \"token_id\": 1596, \"position\": 17, \"type\": \"output\"})\n",
       "                window.ecco['viz_900826'].redraw()\n",
       "        })\n",
       "        "
      ],
      "text/plain": [
       "<IPython.core.display.Javascript object>"
      ]
     },
     "metadata": {},
     "output_type": "display_data"
    },
    {
     "data": {
      "application/javascript": [
       "\n",
       "        // We don't really need these require scripts. But this is to avert\n",
       "        //this code from running before display_input_sequence which DOES require external files\n",
       "        requirejs(['basic', 'ecco'], function(basic, ecco){\n",
       "                console.log('addToken viz_id', 'viz_900826');\n",
       "                window.ecco['viz_900826'].addToken({\"token\": \"18\", \"is_partial\": false, \"token_id\": 1248, \"position\": 18, \"type\": \"output\"})\n",
       "                window.ecco['viz_900826'].redraw()\n",
       "        })\n",
       "        "
      ],
      "text/plain": [
       "<IPython.core.display.Javascript object>"
      ]
     },
     "metadata": {},
     "output_type": "display_data"
    },
    {
     "data": {
      "application/javascript": [
       "\n",
       "        // We don't really need these require scripts. But this is to avert\n",
       "        //this code from running before display_input_sequence which DOES require external files\n",
       "        requirejs(['basic', 'ecco'], function(basic, ecco){\n",
       "                console.log('addToken viz_id', 'viz_900826');\n",
       "                window.ecco['viz_900826'].addToken({\"token\": \"19\", \"is_partial\": false, \"token_id\": 678, \"position\": 19, \"type\": \"output\"})\n",
       "                window.ecco['viz_900826'].redraw()\n",
       "        })\n",
       "        "
      ],
      "text/plain": [
       "<IPython.core.display.Javascript object>"
      ]
     },
     "metadata": {},
     "output_type": "display_data"
    },
    {
     "data": {
      "application/javascript": [
       "\n",
       "        // We don't really need these require scripts. But this is to avert\n",
       "        //this code from running before display_input_sequence which DOES require external files\n",
       "        requirejs(['basic', 'ecco'], function(basic, ecco){\n",
       "                console.log('addToken viz_id', 'viz_900826');\n",
       "                window.ecco['viz_900826'].addToken({\"token\": \"20\", \"is_partial\": false, \"token_id\": 1160, \"position\": 20, \"type\": \"output\"})\n",
       "                window.ecco['viz_900826'].redraw()\n",
       "        })\n",
       "        "
      ],
      "text/plain": [
       "<IPython.core.display.Javascript object>"
      ]
     },
     "metadata": {},
     "output_type": "display_data"
    },
    {
     "data": {
      "application/javascript": [
       "\n",
       "        // We don't really need these require scripts. But this is to avert\n",
       "        //this code from running before display_input_sequence which DOES require external files\n",
       "        requirejs(['basic', 'ecco'], function(basic, ecco){\n",
       "                console.log('addToken viz_id', 'viz_900826');\n",
       "                window.ecco['viz_900826'].addToken({\"token\": \"21\", \"is_partial\": false, \"token_id\": 2310, \"position\": 21, \"type\": \"output\"})\n",
       "                window.ecco['viz_900826'].redraw()\n",
       "        })\n",
       "        "
      ],
      "text/plain": [
       "<IPython.core.display.Javascript object>"
      ]
     },
     "metadata": {},
     "output_type": "display_data"
    },
    {
     "data": {
      "application/javascript": [
       "\n",
       "        // We don't really need these require scripts. But this is to avert\n",
       "        //this code from running before display_input_sequence which DOES require external files\n",
       "        requirejs(['basic', 'ecco'], function(basic, ecco){\n",
       "                console.log('addToken viz_id', 'viz_900826');\n",
       "                window.ecco['viz_900826'].addToken({\"token\": \"22\", \"is_partial\": false, \"token_id\": 2534, \"position\": 22, \"type\": \"output\"})\n",
       "                window.ecco['viz_900826'].redraw()\n",
       "        })\n",
       "        "
      ],
      "text/plain": [
       "<IPython.core.display.Javascript object>"
      ]
     },
     "metadata": {},
     "output_type": "display_data"
    },
    {
     "data": {
      "application/javascript": [
       "\n",
       "        // We don't really need these require scripts. But this is to avert\n",
       "        //this code from running before display_input_sequence which DOES require external files\n",
       "        requirejs(['basic', 'ecco'], function(basic, ecco){\n",
       "                console.log('addToken viz_id', 'viz_900826');\n",
       "                window.ecco['viz_900826'].addToken({\"token\": \"23\", \"is_partial\": false, \"token_id\": 2242, \"position\": 23, \"type\": \"output\"})\n",
       "                window.ecco['viz_900826'].redraw()\n",
       "        })\n",
       "        "
      ],
      "text/plain": [
       "<IPython.core.display.Javascript object>"
      ]
     },
     "metadata": {},
     "output_type": "display_data"
    },
    {
     "data": {
      "application/javascript": [
       "\n",
       "        // We don't really need these require scripts. But this is to avert\n",
       "        //this code from running before display_input_sequence which DOES require external files\n",
       "        requirejs(['basic', 'ecco'], function(basic, ecco){\n",
       "                console.log('addToken viz_id', 'viz_900826');\n",
       "                window.ecco['viz_900826'].addToken({\"token\": \"24\", \"is_partial\": false, \"token_id\": 1987, \"position\": 24, \"type\": \"output\"})\n",
       "                window.ecco['viz_900826'].redraw()\n",
       "        })\n",
       "        "
      ],
      "text/plain": [
       "<IPython.core.display.Javascript object>"
      ]
     },
     "metadata": {},
     "output_type": "display_data"
    },
    {
     "data": {
      "application/javascript": [
       "\n",
       "        // We don't really need these require scripts. But this is to avert\n",
       "        //this code from running before display_input_sequence which DOES require external files\n",
       "        requirejs(['basic', 'ecco'], function(basic, ecco){\n",
       "                console.log('addToken viz_id', 'viz_900826');\n",
       "                window.ecco['viz_900826'].addToken({\"token\": \"25\", \"is_partial\": false, \"token_id\": 1679, \"position\": 25, \"type\": \"output\"})\n",
       "                window.ecco['viz_900826'].redraw()\n",
       "        })\n",
       "        "
      ],
      "text/plain": [
       "<IPython.core.display.Javascript object>"
      ]
     },
     "metadata": {},
     "output_type": "display_data"
    },
    {
     "data": {
      "application/javascript": [
       "\n",
       "        // We don't really need these require scripts. But this is to avert\n",
       "        //this code from running before display_input_sequence which DOES require external files\n",
       "        requirejs(['basic', 'ecco'], function(basic, ecco){\n",
       "                console.log('addToken viz_id', 'viz_900826');\n",
       "                window.ecco['viz_900826'].addToken({\"token\": \"26\", \"is_partial\": false, \"token_id\": 2608, \"position\": 26, \"type\": \"output\"})\n",
       "                window.ecco['viz_900826'].redraw()\n",
       "        })\n",
       "        "
      ],
      "text/plain": [
       "<IPython.core.display.Javascript object>"
      ]
     },
     "metadata": {},
     "output_type": "display_data"
    },
    {
     "data": {
      "application/javascript": [
       "\n",
       "        // We don't really need these require scripts. But this is to avert\n",
       "        //this code from running before display_input_sequence which DOES require external files\n",
       "        requirejs(['basic', 'ecco'], function(basic, ecco){\n",
       "                console.log('addToken viz_id', 'viz_900826');\n",
       "                window.ecco['viz_900826'].addToken({\"token\": \"27\", \"is_partial\": false, \"token_id\": 2681, \"position\": 27, \"type\": \"output\"})\n",
       "                window.ecco['viz_900826'].redraw()\n",
       "        })\n",
       "        "
      ],
      "text/plain": [
       "<IPython.core.display.Javascript object>"
      ]
     },
     "metadata": {},
     "output_type": "display_data"
    },
    {
     "data": {
      "application/javascript": [
       "\n",
       "        // We don't really need these require scripts. But this is to avert\n",
       "        //this code from running before display_input_sequence which DOES require external files\n",
       "        requirejs(['basic', 'ecco'], function(basic, ecco){\n",
       "                console.log('addToken viz_id', 'viz_900826');\n",
       "                window.ecco['viz_900826'].addToken({\"token\": \"28\", \"is_partial\": false, \"token_id\": 2579, \"position\": 28, \"type\": \"output\"})\n",
       "                window.ecco['viz_900826'].redraw()\n",
       "        })\n",
       "        "
      ],
      "text/plain": [
       "<IPython.core.display.Javascript object>"
      ]
     },
     "metadata": {},
     "output_type": "display_data"
    },
    {
     "data": {
      "application/javascript": [
       "\n",
       "        // We don't really need these require scripts. But this is to avert\n",
       "        //this code from running before display_input_sequence which DOES require external files\n",
       "        requirejs(['basic', 'ecco'], function(basic, ecco){\n",
       "                console.log('addToken viz_id', 'viz_900826');\n",
       "                window.ecco['viz_900826'].addToken({\"token\": \"29\", \"is_partial\": false, \"token_id\": 2808, \"position\": 29, \"type\": \"output\"})\n",
       "                window.ecco['viz_900826'].redraw()\n",
       "        })\n",
       "        "
      ],
      "text/plain": [
       "<IPython.core.display.Javascript object>"
      ]
     },
     "metadata": {},
     "output_type": "display_data"
    },
    {
     "data": {
      "application/javascript": [
       "\n",
       "        // We don't really need these require scripts. But this is to avert\n",
       "        //this code from running before display_input_sequence which DOES require external files\n",
       "        requirejs(['basic', 'ecco'], function(basic, ecco){\n",
       "                console.log('addToken viz_id', 'viz_900826');\n",
       "                window.ecco['viz_900826'].addToken({\"token\": \"30\", \"is_partial\": false, \"token_id\": 1542, \"position\": 30, \"type\": \"output\"})\n",
       "                window.ecco['viz_900826'].redraw()\n",
       "        })\n",
       "        "
      ],
      "text/plain": [
       "<IPython.core.display.Javascript object>"
      ]
     },
     "metadata": {},
     "output_type": "display_data"
    },
    {
     "data": {
      "application/javascript": [
       "\n",
       "        // We don't really need these require scripts. But this is to avert\n",
       "        //this code from running before display_input_sequence which DOES require external files\n",
       "        requirejs(['basic', 'ecco'], function(basic, ecco){\n",
       "                console.log('addToken viz_id', 'viz_900826');\n",
       "                window.ecco['viz_900826'].addToken({\"token\": \"31\", \"is_partial\": false, \"token_id\": 3261, \"position\": 31, \"type\": \"output\"})\n",
       "                window.ecco['viz_900826'].redraw()\n",
       "        })\n",
       "        "
      ],
      "text/plain": [
       "<IPython.core.display.Javascript object>"
      ]
     },
     "metadata": {},
     "output_type": "display_data"
    },
    {
     "data": {
      "application/javascript": [
       "\n",
       "        // We don't really need these require scripts. But this is to avert\n",
       "        //this code from running before display_input_sequence which DOES require external files\n",
       "        requirejs(['basic', 'ecco'], function(basic, ecco){\n",
       "                console.log('addToken viz_id', 'viz_900826');\n",
       "                window.ecco['viz_900826'].addToken({\"token\": \"32\", \"is_partial\": false, \"token_id\": 3933, \"position\": 32, \"type\": \"output\"})\n",
       "                window.ecco['viz_900826'].redraw()\n",
       "        })\n",
       "        "
      ],
      "text/plain": [
       "<IPython.core.display.Javascript object>"
      ]
     },
     "metadata": {},
     "output_type": "display_data"
    },
    {
     "data": {
      "application/javascript": [
       "\n",
       "        // We don't really need these require scripts. But this is to avert\n",
       "        //this code from running before display_input_sequence which DOES require external files\n",
       "        requirejs(['basic', 'ecco'], function(basic, ecco){\n",
       "                console.log('addToken viz_id', 'viz_900826');\n",
       "                window.ecco['viz_900826'].addToken({\"token\": \"33\", \"is_partial\": false, \"token_id\": 4747, \"position\": 33, \"type\": \"output\"})\n",
       "                window.ecco['viz_900826'].redraw()\n",
       "        })\n",
       "        "
      ],
      "text/plain": [
       "<IPython.core.display.Javascript object>"
      ]
     },
     "metadata": {},
     "output_type": "display_data"
    },
    {
     "data": {
      "application/javascript": [
       "\n",
       "        // We don't really need these require scripts. But this is to avert\n",
       "        //this code from running before display_input_sequence which DOES require external files\n",
       "        requirejs(['basic', 'ecco'], function(basic, ecco){\n",
       "                console.log('addToken viz_id', 'viz_900826');\n",
       "                window.ecco['viz_900826'].addToken({\"token\": \"34\", \"is_partial\": false, \"token_id\": 4974, \"position\": 34, \"type\": \"output\"})\n",
       "                window.ecco['viz_900826'].redraw()\n",
       "        })\n",
       "        "
      ],
      "text/plain": [
       "<IPython.core.display.Javascript object>"
      ]
     },
     "metadata": {},
     "output_type": "display_data"
    },
    {
     "data": {
      "application/javascript": [
       "\n",
       "        // We don't really need these require scripts. But this is to avert\n",
       "        //this code from running before display_input_sequence which DOES require external files\n",
       "        requirejs(['basic', 'ecco'], function(basic, ecco){\n",
       "                console.log('addToken viz_id', 'viz_900826');\n",
       "                window.ecco['viz_900826'].addToken({\"token\": \"35\", \"is_partial\": false, \"token_id\": 3439, \"position\": 35, \"type\": \"output\"})\n",
       "                window.ecco['viz_900826'].redraw()\n",
       "        })\n",
       "        "
      ],
      "text/plain": [
       "<IPython.core.display.Javascript object>"
      ]
     },
     "metadata": {},
     "output_type": "display_data"
    },
    {
     "data": {
      "application/javascript": [
       "\n",
       "        // We don't really need these require scripts. But this is to avert\n",
       "        //this code from running before display_input_sequence which DOES require external files\n",
       "        requirejs(['basic', 'ecco'], function(basic, ecco){\n",
       "                console.log('addToken viz_id', 'viz_900826');\n",
       "                window.ecco['viz_900826'].addToken({\"token\": \"36\", \"is_partial\": false, \"token_id\": 4570, \"position\": 36, \"type\": \"output\"})\n",
       "                window.ecco['viz_900826'].redraw()\n",
       "        })\n",
       "        "
      ],
      "text/plain": [
       "<IPython.core.display.Javascript object>"
      ]
     },
     "metadata": {},
     "output_type": "display_data"
    },
    {
     "data": {
      "application/javascript": [
       "\n",
       "        // We don't really need these require scripts. But this is to avert\n",
       "        //this code from running before display_input_sequence which DOES require external files\n",
       "        requirejs(['basic', 'ecco'], function(basic, ecco){\n",
       "                console.log('addToken viz_id', 'viz_900826');\n",
       "                window.ecco['viz_900826'].addToken({\"token\": \"37\", \"is_partial\": false, \"token_id\": 5214, \"position\": 37, \"type\": \"output\"})\n",
       "                window.ecco['viz_900826'].redraw()\n",
       "        })\n",
       "        "
      ],
      "text/plain": [
       "<IPython.core.display.Javascript object>"
      ]
     },
     "metadata": {},
     "output_type": "display_data"
    },
    {
     "data": {
      "application/javascript": [
       "\n",
       "        // We don't really need these require scripts. But this is to avert\n",
       "        //this code from running before display_input_sequence which DOES require external files\n",
       "        requirejs(['basic', 'ecco'], function(basic, ecco){\n",
       "                console.log('addToken viz_id', 'viz_900826');\n",
       "                window.ecco['viz_900826'].addToken({\"token\": \"38\", \"is_partial\": false, \"token_id\": 4353, \"position\": 38, \"type\": \"output\"})\n",
       "                window.ecco['viz_900826'].redraw()\n",
       "        })\n",
       "        "
      ],
      "text/plain": [
       "<IPython.core.display.Javascript object>"
      ]
     },
     "metadata": {},
     "output_type": "display_data"
    },
    {
     "data": {
      "application/javascript": [
       "\n",
       "        // We don't really need these require scripts. But this is to avert\n",
       "        //this code from running before display_input_sequence which DOES require external files\n",
       "        requirejs(['basic', 'ecco'], function(basic, ecco){\n",
       "                console.log('addToken viz_id', 'viz_900826');\n",
       "                window.ecco['viz_900826'].addToken({\"token\": \"39\", \"is_partial\": false, \"token_id\": 5014, \"position\": 39, \"type\": \"output\"})\n",
       "                window.ecco['viz_900826'].redraw()\n",
       "        })\n",
       "        "
      ],
      "text/plain": [
       "<IPython.core.display.Javascript object>"
      ]
     },
     "metadata": {},
     "output_type": "display_data"
    }
   ],
   "source": [
    "#text = \" Heathrow airport is located in\"\n",
    "#text = \" !\"\n",
    "\n",
    "output_2 = lm.generate(text, generate=35, do_sample=False)"
   ]
  },
  {
   "cell_type": "code",
   "execution_count": 140,
   "metadata": {},
   "outputs": [
    {
     "ename": "AssertionError",
     "evalue": "position=6 not supported, minimum is position=13 for the first generated token",
     "output_type": "error",
     "traceback": [
      "\u001b[1;31m-----------------------------------------------------------------\u001b[0m",
      "\u001b[1;31mAssertionError\u001b[0m                  Traceback (most recent call last)",
      "Cell \u001b[1;32mIn[140], line 8\u001b[0m\n\u001b[0;32m      3\u001b[0m n5\u001b[38;5;241m=\u001b[39m\u001b[38;5;241m11\u001b[39m\n\u001b[0;32m      4\u001b[0m \u001b[38;5;66;03m#output_2.layer_predictions(position=5, layer=n5, topk=10)\u001b[39;00m\n\u001b[0;32m      5\u001b[0m \u001b[38;5;66;03m#output_2.layer_predictions(position=1, layer=n5, topk=10)\u001b[39;00m\n\u001b[0;32m      6\u001b[0m \u001b[38;5;66;03m#output_2.layer_predictions(position=2, layer=n5, topk=10)\u001b[39;00m\n\u001b[0;32m      7\u001b[0m \u001b[38;5;66;03m#output_2.layer_predictions(position=4, layer=n5, topk=10)\u001b[39;00m\n\u001b[1;32m----> 8\u001b[0m \u001b[43moutput_2\u001b[49m\u001b[38;5;241;43m.\u001b[39;49m\u001b[43mlayer_predictions\u001b[49m\u001b[43m(\u001b[49m\u001b[43mposition\u001b[49m\u001b[38;5;241;43m=\u001b[39;49m\u001b[38;5;241;43m6\u001b[39;49m\u001b[43m,\u001b[49m\u001b[43m \u001b[49m\u001b[43mlayer\u001b[49m\u001b[38;5;241;43m=\u001b[39;49m\u001b[43mn5\u001b[49m\u001b[43m,\u001b[49m\u001b[43m \u001b[49m\u001b[43mtopk\u001b[49m\u001b[38;5;241;43m=\u001b[39;49m\u001b[38;5;241;43m10\u001b[39;49m\u001b[43m)\u001b[49m\n",
      "File \u001b[1;32mD:\\conda\\envs\\pip310ecco\\lib\\site-packages\\ecco\\output.py:362\u001b[0m, in \u001b[0;36mOutputSeq.layer_predictions\u001b[1;34m(self, position, topk, layer, **kwargs)\u001b[0m\n\u001b[0;32m    360\u001b[0m offset \u001b[38;5;241m=\u001b[39m \u001b[38;5;241m1\u001b[39m \u001b[38;5;28;01mif\u001b[39;00m \u001b[38;5;28mself\u001b[39m\u001b[38;5;241m.\u001b[39mmodel_type \u001b[38;5;241m==\u001b[39m \u001b[38;5;124m'\u001b[39m\u001b[38;5;124menc-dec\u001b[39m\u001b[38;5;124m'\u001b[39m \u001b[38;5;28;01melse\u001b[39;00m \u001b[38;5;241m0\u001b[39m\n\u001b[0;32m    361\u001b[0m new_position \u001b[38;5;241m=\u001b[39m position \u001b[38;5;241m-\u001b[39m offset \u001b[38;5;241m-\u001b[39m \u001b[38;5;28mself\u001b[39m\u001b[38;5;241m.\u001b[39mn_input_tokens\n\u001b[1;32m--> 362\u001b[0m \u001b[38;5;28;01massert\u001b[39;00m new_position \u001b[38;5;241m>\u001b[39m\u001b[38;5;241m=\u001b[39m \u001b[38;5;241m0\u001b[39m, \u001b[38;5;124mf\u001b[39m\u001b[38;5;124m\"\u001b[39m\u001b[38;5;124mposition=\u001b[39m\u001b[38;5;132;01m{\u001b[39;00mposition\u001b[38;5;132;01m}\u001b[39;00m\u001b[38;5;124m not supported, minimum is \u001b[39m\u001b[38;5;124m\"\u001b[39m \\\n\u001b[0;32m    363\u001b[0m                           \u001b[38;5;124mf\u001b[39m\u001b[38;5;124m\"\u001b[39m\u001b[38;5;124mposition=\u001b[39m\u001b[38;5;132;01m{\u001b[39;00m\u001b[38;5;28mself\u001b[39m\u001b[38;5;241m.\u001b[39mn_input_tokens\u001b[38;5;250m \u001b[39m\u001b[38;5;241m+\u001b[39m\u001b[38;5;250m \u001b[39moffset\u001b[38;5;132;01m}\u001b[39;00m\u001b[38;5;124m for the first generated token\u001b[39m\u001b[38;5;124m\"\u001b[39m\n\u001b[0;32m    364\u001b[0m \u001b[38;5;28;01massert\u001b[39;00m new_position \u001b[38;5;241m<\u001b[39m \u001b[38;5;28mlen\u001b[39m(dec_hidden_states), \u001b[38;5;124mf\u001b[39m\u001b[38;5;124m\"\u001b[39m\u001b[38;5;124mposition=\u001b[39m\u001b[38;5;132;01m{\u001b[39;00mposition\u001b[38;5;132;01m}\u001b[39;00m\u001b[38;5;124m not supported, maximum is \u001b[39m\u001b[38;5;124m\"\u001b[39m \\\n\u001b[0;32m    365\u001b[0m                                               \u001b[38;5;124mf\u001b[39m\u001b[38;5;124m\"\u001b[39m\u001b[38;5;124mposition=\u001b[39m\u001b[38;5;132;01m{\u001b[39;00m\u001b[38;5;28mlen\u001b[39m(dec_hidden_states)\u001b[38;5;250m \u001b[39m\u001b[38;5;241m-\u001b[39m\u001b[38;5;250m \u001b[39m\u001b[38;5;241m1\u001b[39m\u001b[38;5;250m \u001b[39m\u001b[38;5;241m+\u001b[39m\u001b[38;5;250m \u001b[39m\u001b[38;5;28mself\u001b[39m\u001b[38;5;241m.\u001b[39mn_input_tokens\u001b[38;5;250m \u001b[39m\u001b[38;5;241m+\u001b[39m\u001b[38;5;250m \u001b[39moffset\u001b[38;5;132;01m}\u001b[39;00m\u001b[38;5;124m \u001b[39m\u001b[38;5;124m\"\u001b[39m \\\n\u001b[0;32m    366\u001b[0m                                               \u001b[38;5;124mf\u001b[39m\u001b[38;5;124m\"\u001b[39m\u001b[38;5;124mfor the last generated token.\u001b[39m\u001b[38;5;124m\"\u001b[39m\n\u001b[0;32m    367\u001b[0m position \u001b[38;5;241m=\u001b[39m new_position\n",
      "\u001b[1;31mAssertionError\u001b[0m: position=6 not supported, minimum is position=13 for the first generated token"
     ]
    }
   ],
   "source": [
    "# Show the top 10 candidate output tokens for position #5. \n",
    "# Layer 5 is the last layer in the model.\n",
    "n5=11\n",
    "#output_2.layer_predictions(position=5, layer=n5, topk=10)\n",
    "#output_2.layer_predictions(position=1, layer=n5, topk=10)\n",
    "#output_2.layer_predictions(position=2, layer=n5, topk=10)\n",
    "#output_2.layer_predictions(position=4, layer=n5, topk=10)\n",
    "output_2.layer_predictions(position=6, layer=n5, topk=10)\n"
   ]
  },
  {
   "cell_type": "code",
   "execution_count": 153,
   "metadata": {
    "colab": {
     "base_uri": "https://localhost:8080/",
     "height": 326
    },
    "id": "HrkMe1rI8kCF",
    "outputId": "60d9d4f8-7aef-4fa7-edee-d42aa5994db9",
    "scrolled": false
   },
   "outputs": [
    {
     "name": "stderr",
     "output_type": "stream",
     "text": [
      "D:\\conda\\envs\\pip310ecco\\lib\\site-packages\\ecco\\output.py:469: UserWarning: To copy construct from a tensor, it is recommended to use sourceTensor.clone().detach() or sourceTensor.clone().detach().requires_grad_(True), rather than torch.tensor(sourceTensor).\n",
      "  token_id = torch.tensor(self.token_ids[0][offset + j])\n"
     ]
    },
    {
     "data": {
      "image/png": "[encoded data removed]",
      "text/plain": [
       "<Figure size 3250x580 with 3 Axes>"
      ]
     },
     "metadata": {},
     "output_type": "display_data"
    }
   ],
   "source": [
    "# Now that the model has selcted the tokens \"London . \\n\"\n",
    "# How did each layer rank these tokens during processing?\n",
    "output_2.rankings()"
   ]
  },
  {
   "cell_type": "code",
   "execution_count": null,
   "metadata": {},
   "outputs": [],
   "source": []
  },
  {
   "cell_type": "code",
   "execution_count": null,
   "metadata": {},
   "outputs": [],
   "source": []
  },
  {
   "cell_type": "code",
   "execution_count": null,
   "metadata": {},
   "outputs": [],
   "source": []
  },
  {
   "cell_type": "markdown",
   "metadata": {
    "id": "z1dCPYSL9zUu"
   },
   "source": [
    "This view shows the top 10 candidate tokens, their probability, and their rankings.\n",
    "\n",
    "### Comparing two token candidates for a single position"
   ]
  },
  {
   "cell_type": "code",
   "execution_count": 87,
   "metadata": {
    "colab": {
     "base_uri": "https://localhost:8080/"
    },
    "id": "PSQpCZb9YLlw",
    "outputId": "e6c12993-6630-4f1e-c921-8ab93a5c7961"
   },
   "outputs": [
    {
     "data": {
      "text/plain": [
       "{'input_ids': [19959, 10033], 'attention_mask': [1, 1]}"
      ]
     },
     "execution_count": 87,
     "metadata": {},
     "output_type": "execute_result"
    }
   ],
   "source": [
    "# What are the token IDs of the two words?\n",
    "lm.tokenizer(\" principle principal\")\n",
    "lm.tokenizer(\" Hermione principal\")"
   ]
  },
  {
   "cell_type": "code",
   "execution_count": 7,
   "metadata": {
    "colab": {
     "base_uri": "https://localhost:8080/",
     "height": 378
    },
    "id": "RdC5MO1yvTvC",
    "outputId": "86193189-42d6-4d77-a28e-e8f665c2c83e"
   },
   "outputs": [
    {
     "data": {
      "image/png": "[encoded data removed]",
      "text/plain": [
       "<Figure size 280x340 with 3 Axes>"
      ]
     },
     "metadata": {},
     "output_type": "display_data"
    }
   ],
   "source": [
    "# Compare the rankings of \"Principle\" and \"Principal\" across layers\n",
    "output_1.rankings_watch(watch=[7989, 10033], position=5)"
   ]
  },
  {
   "cell_type": "markdown",
   "metadata": {
    "id": "T96DI4wF73fk"
   },
   "source": [
    "## Exploring World Knowledge And Layer Analysis\n",
    "Does the model \"know\" where Heathrow airport is located? To probe the model, we let's try the input sentence: \n",
    "\n",
    "`Heathrow airport is located in ____`"
   ]
  },
  {
   "cell_type": "code",
   "execution_count": 66,
   "metadata": {
    "colab": {
     "base_uri": "https://localhost:8080/",
     "height": 49
    },
    "id": "e2V8ARTEsF6B",
    "outputId": "d5ac06ef-8157-4b89-debe-6d3400b5f848"
   },
   "outputs": [
    {
     "data": {
      "text/html": [
       "<html lang=\"en\">\n",
       "<script src=\"https://requirejs.org/docs/release/2.3.6/minified/require.js\"></script>\n",
       "<script>\n",
       "    var ecco_url = 'https://storage.googleapis.com/ml-intro/ecco/'\n",
       "    //var ecco_url = 'http://localhost:8000/'\n",
       "\n",
       "    if (window.ecco === undefined) window.ecco = {}\n",
       "\n",
       "    // Setup the paths of the script we'll be using\n",
       "    requirejs.config({\n",
       "        urlArgs: \"bust=\" + (new Date()).getTime(),\n",
       "        nodeRequire: require,\n",
       "        paths: {\n",
       "            d3: \"https://d3js.org/d3.v6.min\", // This is only for use in setup.html and basic.html\n",
       "            \"d3-array\": \"https://d3js.org/d3-array.v2.min\",\n",
       "            jquery: \"https://code.jquery.com/jquery-3.5.1.min\",\n",
       "            ecco: ecco_url + 'js/0.0.6/ecco-bundle.min',\n",
       "            xregexp: 'https://cdnjs.cloudflare.com/ajax/libs/xregexp/3.2.0/xregexp-all.min'\n",
       "        }\n",
       "    });\n",
       "\n",
       "    // Add the css file\n",
       "    //requirejs(['d3'],\n",
       "    //    function (d3) {\n",
       "    //        d3.select('#css').attr('href', ecco_url + 'html/styles.css')\n",
       "    //    })\n",
       "\n",
       "    console.log('Ecco initialize!!')\n",
       "\n",
       "    // returns a 'basic' object. basic.init() selects the html div we'll be\n",
       "    // rendering the html into, adds styles.css to the document.\n",
       "    define('basic', ['d3'],\n",
       "        function (d3) {\n",
       "            return {\n",
       "                init: function (viz_id = null) {\n",
       "                    if (viz_id == null) {\n",
       "                        viz_id = \"viz_\" + Math.round(Math.random() * 10000000)\n",
       "                    }\n",
       "                    // Select the div rendered below, change its id\n",
       "                    const div = d3.select('#basic').attr('id', viz_id),\n",
       "                        div_parent = d3.select('#' + viz_id).node().parentNode\n",
       "\n",
       "                    // Link to CSS file\n",
       "                    d3.select(div_parent).insert('link')\n",
       "                        .attr('rel', 'stylesheet')\n",
       "                        .attr('type', 'text/css')\n",
       "                        .attr('href', ecco_url + 'html/0.0.2/styles.css')\n",
       "\n",
       "                    return viz_id\n",
       "                }\n",
       "            }\n",
       "        }, function (err) {\n",
       "            console.log(err);\n",
       "        }\n",
       "    )\n",
       "</script>\n",
       "\n",
       "<head>\n",
       "    <link id='css' rel=\"stylesheet\" type=\"text/css\">\n",
       "</head>\n",
       "<div id=\"basic\"></div>\n"
      ],
      "text/plain": [
       "<IPython.core.display.HTML object>"
      ]
     },
     "metadata": {},
     "output_type": "display_data"
    },
    {
     "data": {
      "application/javascript": [
       "\n",
       "         requirejs( ['basic', 'ecco'], function(basic, ecco){\n",
       "            basic.init('viz_563678') // Python needs to know the viz id. Used for each output token.\n",
       "            window.ecco['viz_563678'] = new ecco.renderOutputSequence({\n",
       "                    parentDiv: 'viz_563678',\n",
       "                    data: {\"tokens\": [{\"token\": \"Heath\", \"is_partial\": false, \"position\": 0, \"token_id\": 25846, \"type\": \"input\"}, {\"token\": \"row\", \"is_partial\": true, \"position\": 1, \"token_id\": 808, \"type\": \"input\"}, {\"token\": \"airport\", \"is_partial\": false, \"position\": 2, \"token_id\": 9003, \"type\": \"input\"}, {\"token\": \"is\", \"is_partial\": false, \"position\": 3, \"token_id\": 318, \"type\": \"input\"}, {\"token\": \"located\", \"is_partial\": false, \"position\": 4, \"token_id\": 5140, \"type\": \"input\"}, {\"token\": \"in\", \"is_partial\": false, \"position\": 5, \"token_id\": 287, \"type\": \"input\"}, {\"token\": \"the\", \"is_partial\": false, \"position\": 6, \"token_id\": 262, \"type\": \"input\"}, {\"token\": \"city\", \"is_partial\": false, \"position\": 7, \"token_id\": 1748, \"type\": \"input\"}, {\"token\": \"of\", \"is_partial\": false, \"position\": 8, \"token_id\": 286, \"type\": \"input\"}]},\n",
       "                    tokenization_config: {\"token_prefix\": \"\\u0120\", \"partial_token_prefix\": \"\"}\n",
       "            \n",
       "            })\n",
       "         }, function (err) {\n",
       "            console.log(err);\n",
       "        })\n",
       "        "
      ],
      "text/plain": [
       "<IPython.core.display.Javascript object>"
      ]
     },
     "metadata": {},
     "output_type": "display_data"
    },
    {
     "name": "stderr",
     "output_type": "stream",
     "text": [
      "Setting `pad_token_id` to `eos_token_id`:50256 for open-end generation.\n"
     ]
    },
    {
     "data": {
      "application/javascript": [
       "\n",
       "        // We don't really need these require scripts. But this is to avert\n",
       "        //this code from running before display_input_sequence which DOES require external files\n",
       "        requirejs(['basic', 'ecco'], function(basic, ecco){\n",
       "                console.log('addToken viz_id', 'viz_563678');\n",
       "                window.ecco['viz_563678'].addToken({\"token\": \"London\", \"is_partial\": false, \"token_id\": 3576, \"position\": 9, \"type\": \"output\"})\n",
       "                window.ecco['viz_563678'].redraw()\n",
       "        })\n",
       "        "
      ],
      "text/plain": [
       "<IPython.core.display.Javascript object>"
      ]
     },
     "metadata": {},
     "output_type": "display_data"
    },
    {
     "data": {
      "application/javascript": [
       "\n",
       "        // We don't really need these require scripts. But this is to avert\n",
       "        //this code from running before display_input_sequence which DOES require external files\n",
       "        requirejs(['basic', 'ecco'], function(basic, ecco){\n",
       "                console.log('addToken viz_id', 'viz_563678');\n",
       "                window.ecco['viz_563678'].addToken({\"token\": \".\", \"is_partial\": true, \"token_id\": 13, \"position\": 10, \"type\": \"output\"})\n",
       "                window.ecco['viz_563678'].redraw()\n",
       "        })\n",
       "        "
      ],
      "text/plain": [
       "<IPython.core.display.Javascript object>"
      ]
     },
     "metadata": {},
     "output_type": "display_data"
    },
    {
     "data": {
      "application/javascript": [
       "\n",
       "        // We don't really need these require scripts. But this is to avert\n",
       "        //this code from running before display_input_sequence which DOES require external files\n",
       "        requirejs(['basic', 'ecco'], function(basic, ecco){\n",
       "                console.log('addToken viz_id', 'viz_563678');\n",
       "                window.ecco['viz_563678'].addToken({\"token\": \"\\n\", \"is_partial\": true, \"token_id\": 198, \"position\": 11, \"type\": \"output\"})\n",
       "                window.ecco['viz_563678'].redraw()\n",
       "        })\n",
       "        "
      ],
      "text/plain": [
       "<IPython.core.display.Javascript object>"
      ]
     },
     "metadata": {},
     "output_type": "display_data"
    },
    {
     "data": {
      "application/javascript": [
       "\n",
       "        // We don't really need these require scripts. But this is to avert\n",
       "        //this code from running before display_input_sequence which DOES require external files\n",
       "        requirejs(['basic', 'ecco'], function(basic, ecco){\n",
       "                console.log('addToken viz_id', 'viz_563678');\n",
       "                window.ecco['viz_563678'].addToken({\"token\": \"\\n\", \"is_partial\": true, \"token_id\": 198, \"position\": 12, \"type\": \"output\"})\n",
       "                window.ecco['viz_563678'].redraw()\n",
       "        })\n",
       "        "
      ],
      "text/plain": [
       "<IPython.core.display.Javascript object>"
      ]
     },
     "metadata": {},
     "output_type": "display_data"
    },
    {
     "data": {
      "application/javascript": [
       "\n",
       "        // We don't really need these require scripts. But this is to avert\n",
       "        //this code from running before display_input_sequence which DOES require external files\n",
       "        requirejs(['basic', 'ecco'], function(basic, ecco){\n",
       "                console.log('addToken viz_id', 'viz_563678');\n",
       "                window.ecco['viz_563678'].addToken({\"token\": \"The\", \"is_partial\": true, \"token_id\": 464, \"position\": 13, \"type\": \"output\"})\n",
       "                window.ecco['viz_563678'].redraw()\n",
       "        })\n",
       "        "
      ],
      "text/plain": [
       "<IPython.core.display.Javascript object>"
      ]
     },
     "metadata": {},
     "output_type": "display_data"
    }
   ],
   "source": [
    "#text = \" Heathrow airport is located in\"\n",
    "#text = \" !\"\n",
    "\n",
    "output_2 = lm.generate(text, generate=5, do_sample=False)"
   ]
  },
  {
   "cell_type": "code",
   "execution_count": 54,
   "metadata": {},
   "outputs": [
    {
     "data": {
      "text/html": [
       "<html lang=\"en\">\n",
       "<script src=\"https://requirejs.org/docs/release/2.3.6/minified/require.js\"></script>\n",
       "<script>\n",
       "    var ecco_url = 'https://storage.googleapis.com/ml-intro/ecco/'\n",
       "    //var ecco_url = 'http://localhost:8000/'\n",
       "\n",
       "    if (window.ecco === undefined) window.ecco = {}\n",
       "\n",
       "    // Setup the paths of the script we'll be using\n",
       "    requirejs.config({\n",
       "        urlArgs: \"bust=\" + (new Date()).getTime(),\n",
       "        nodeRequire: require,\n",
       "        paths: {\n",
       "            d3: \"https://d3js.org/d3.v6.min\", // This is only for use in setup.html and basic.html\n",
       "            \"d3-array\": \"https://d3js.org/d3-array.v2.min\",\n",
       "            jquery: \"https://code.jquery.com/jquery-3.5.1.min\",\n",
       "            ecco: ecco_url + 'js/0.0.6/ecco-bundle.min',\n",
       "            xregexp: 'https://cdnjs.cloudflare.com/ajax/libs/xregexp/3.2.0/xregexp-all.min'\n",
       "        }\n",
       "    });\n",
       "\n",
       "    // Add the css file\n",
       "    //requirejs(['d3'],\n",
       "    //    function (d3) {\n",
       "    //        d3.select('#css').attr('href', ecco_url + 'html/styles.css')\n",
       "    //    })\n",
       "\n",
       "    console.log('Ecco initialize!!')\n",
       "\n",
       "    // returns a 'basic' object. basic.init() selects the html div we'll be\n",
       "    // rendering the html into, adds styles.css to the document.\n",
       "    define('basic', ['d3'],\n",
       "        function (d3) {\n",
       "            return {\n",
       "                init: function (viz_id = null) {\n",
       "                    if (viz_id == null) {\n",
       "                        viz_id = \"viz_\" + Math.round(Math.random() * 10000000)\n",
       "                    }\n",
       "                    // Select the div rendered below, change its id\n",
       "                    const div = d3.select('#basic').attr('id', viz_id),\n",
       "                        div_parent = d3.select('#' + viz_id).node().parentNode\n",
       "\n",
       "                    // Link to CSS file\n",
       "                    d3.select(div_parent).insert('link')\n",
       "                        .attr('rel', 'stylesheet')\n",
       "                        .attr('type', 'text/css')\n",
       "                        .attr('href', ecco_url + 'html/0.0.2/styles.css')\n",
       "\n",
       "                    return viz_id\n",
       "                }\n",
       "            }\n",
       "        }, function (err) {\n",
       "            console.log(err);\n",
       "        }\n",
       "    )\n",
       "</script>\n",
       "\n",
       "<head>\n",
       "    <link id='css' rel=\"stylesheet\" type=\"text/css\">\n",
       "</head>\n",
       "<div id=\"basic\"></div>\n"
      ],
      "text/plain": [
       "<IPython.core.display.HTML object>"
      ]
     },
     "metadata": {},
     "output_type": "display_data"
    },
    {
     "data": {
      "application/javascript": [
       "\n",
       "         requirejs(['basic', 'ecco'], function(basic, ecco){\n",
       "            const viz_id = basic.init()\n",
       "\n",
       "            ecco.renderOutputSequence({\n",
       "                parentDiv: viz_id,\n",
       "                data: {'tokens': [{'token': 'Ġ1', 'token_id': 352, 'type': 'input'}, {'token': ',', 'token_id': 11, 'type': 'input'}, {'token': 'Ġ1', 'token_id': 352, 'type': 'input'}, {'token': ',', 'token_id': 11, 'type': 'input'}, {'token': 'Ġ1', 'token_id': 352, 'type': 'input'}, {'token': ',', 'token_id': 11, 'type': 'input'}, {'token': 'Ġ1', 'token_id': 352, 'type': 'output'}, {'token': ',', 'token_id': 11, 'type': 'output'}, {'token': 'Ġ1', 'token_id': 352, 'type': 'output'}, {'token': ',', 'token_id': 11, 'type': 'output'}, {'token': 'Ġ1', 'token_id': 352, 'type': 'output'}]},\n",
       "                tokenization_config: {\"token_prefix\": \"\\u0120\", \"partial_token_prefix\": \"\"}\n",
       "            })\n",
       "         }, function (err) {\n",
       "            console.log(err);\n",
       "        })"
      ],
      "text/plain": [
       "<IPython.core.display.Javascript object>"
      ]
     },
     "metadata": {},
     "output_type": "display_data"
    },
    {
     "data": {
      "text/html": [
       "<OutputSeq>"
      ],
      "text/plain": [
       "<ecco.output.OutputSeq at 0x2249458c850>"
      ]
     },
     "execution_count": 54,
     "metadata": {},
     "output_type": "execute_result"
    }
   ],
   "source": [
    "output_2"
   ]
  },
  {
   "cell_type": "code",
   "execution_count": null,
   "metadata": {},
   "outputs": [],
   "source": []
  },
  {
   "cell_type": "markdown",
   "metadata": {
    "id": "Qgy6fqtB_tBJ"
   },
   "source": [
    "While the output is not incorrect, it doesn't really anwer the question we are after. Let's slightly change the input sentence:"
   ]
  },
  {
   "cell_type": "code",
   "execution_count": 65,
   "metadata": {
    "colab": {
     "base_uri": "https://localhost:8080/",
     "height": 49
    },
    "id": "2E-8avmf8OWc",
    "outputId": "df611a7f-5ad4-4f8e-8bcf-8df553245d5a"
   },
   "outputs": [
    {
     "data": {
      "text/html": [
       "<html lang=\"en\">\n",
       "<script src=\"https://requirejs.org/docs/release/2.3.6/minified/require.js\"></script>\n",
       "<script>\n",
       "    var ecco_url = 'https://storage.googleapis.com/ml-intro/ecco/'\n",
       "    //var ecco_url = 'http://localhost:8000/'\n",
       "\n",
       "    if (window.ecco === undefined) window.ecco = {}\n",
       "\n",
       "    // Setup the paths of the script we'll be using\n",
       "    requirejs.config({\n",
       "        urlArgs: \"bust=\" + (new Date()).getTime(),\n",
       "        nodeRequire: require,\n",
       "        paths: {\n",
       "            d3: \"https://d3js.org/d3.v6.min\", // This is only for use in setup.html and basic.html\n",
       "            \"d3-array\": \"https://d3js.org/d3-array.v2.min\",\n",
       "            jquery: \"https://code.jquery.com/jquery-3.5.1.min\",\n",
       "            ecco: ecco_url + 'js/0.0.6/ecco-bundle.min',\n",
       "            xregexp: 'https://cdnjs.cloudflare.com/ajax/libs/xregexp/3.2.0/xregexp-all.min'\n",
       "        }\n",
       "    });\n",
       "\n",
       "    // Add the css file\n",
       "    //requirejs(['d3'],\n",
       "    //    function (d3) {\n",
       "    //        d3.select('#css').attr('href', ecco_url + 'html/styles.css')\n",
       "    //    })\n",
       "\n",
       "    console.log('Ecco initialize!!')\n",
       "\n",
       "    // returns a 'basic' object. basic.init() selects the html div we'll be\n",
       "    // rendering the html into, adds styles.css to the document.\n",
       "    define('basic', ['d3'],\n",
       "        function (d3) {\n",
       "            return {\n",
       "                init: function (viz_id = null) {\n",
       "                    if (viz_id == null) {\n",
       "                        viz_id = \"viz_\" + Math.round(Math.random() * 10000000)\n",
       "                    }\n",
       "                    // Select the div rendered below, change its id\n",
       "                    const div = d3.select('#basic').attr('id', viz_id),\n",
       "                        div_parent = d3.select('#' + viz_id).node().parentNode\n",
       "\n",
       "                    // Link to CSS file\n",
       "                    d3.select(div_parent).insert('link')\n",
       "                        .attr('rel', 'stylesheet')\n",
       "                        .attr('type', 'text/css')\n",
       "                        .attr('href', ecco_url + 'html/0.0.2/styles.css')\n",
       "\n",
       "                    return viz_id\n",
       "                }\n",
       "            }\n",
       "        }, function (err) {\n",
       "            console.log(err);\n",
       "        }\n",
       "    )\n",
       "</script>\n",
       "\n",
       "<head>\n",
       "    <link id='css' rel=\"stylesheet\" type=\"text/css\">\n",
       "</head>\n",
       "<div id=\"basic\"></div>\n"
      ],
      "text/plain": [
       "<IPython.core.display.HTML object>"
      ]
     },
     "metadata": {},
     "output_type": "display_data"
    },
    {
     "data": {
      "application/javascript": [
       "\n",
       "         requirejs( ['basic', 'ecco'], function(basic, ecco){\n",
       "            basic.init('viz_406538') // Python needs to know the viz id. Used for each output token.\n",
       "            window.ecco['viz_406538'] = new ecco.renderOutputSequence({\n",
       "                    parentDiv: 'viz_406538',\n",
       "                    data: {\"tokens\": [{\"token\": \"Heath\", \"is_partial\": false, \"position\": 0, \"token_id\": 25846, \"type\": \"input\"}, {\"token\": \"row\", \"is_partial\": true, \"position\": 1, \"token_id\": 808, \"type\": \"input\"}, {\"token\": \"airport\", \"is_partial\": false, \"position\": 2, \"token_id\": 9003, \"type\": \"input\"}, {\"token\": \"is\", \"is_partial\": false, \"position\": 3, \"token_id\": 318, \"type\": \"input\"}, {\"token\": \"located\", \"is_partial\": false, \"position\": 4, \"token_id\": 5140, \"type\": \"input\"}, {\"token\": \"in\", \"is_partial\": false, \"position\": 5, \"token_id\": 287, \"type\": \"input\"}, {\"token\": \"the\", \"is_partial\": false, \"position\": 6, \"token_id\": 262, \"type\": \"input\"}, {\"token\": \"city\", \"is_partial\": false, \"position\": 7, \"token_id\": 1748, \"type\": \"input\"}, {\"token\": \"of\", \"is_partial\": false, \"position\": 8, \"token_id\": 286, \"type\": \"input\"}]},\n",
       "                    tokenization_config: {\"token_prefix\": \"\\u0120\", \"partial_token_prefix\": \"\"}\n",
       "            \n",
       "            })\n",
       "         }, function (err) {\n",
       "            console.log(err);\n",
       "        })\n",
       "        "
      ],
      "text/plain": [
       "<IPython.core.display.Javascript object>"
      ]
     },
     "metadata": {},
     "output_type": "display_data"
    },
    {
     "name": "stderr",
     "output_type": "stream",
     "text": [
      "Setting `pad_token_id` to `eos_token_id`:50256 for open-end generation.\n"
     ]
    },
    {
     "data": {
      "application/javascript": [
       "\n",
       "        // We don't really need these require scripts. But this is to avert\n",
       "        //this code from running before display_input_sequence which DOES require external files\n",
       "        requirejs(['basic', 'ecco'], function(basic, ecco){\n",
       "                console.log('addToken viz_id', 'viz_406538');\n",
       "                window.ecco['viz_406538'].addToken({\"token\": \"London\", \"is_partial\": false, \"token_id\": 3576, \"position\": 9, \"type\": \"output\"})\n",
       "                window.ecco['viz_406538'].redraw()\n",
       "        })\n",
       "        "
      ],
      "text/plain": [
       "<IPython.core.display.Javascript object>"
      ]
     },
     "metadata": {},
     "output_type": "display_data"
    }
   ],
   "source": [
    "text = \" Heathrow airport is located in the city of\"\n",
    "output_2 = lm.generate(text, generate=1, do_sample=False)"
   ]
  },
  {
   "cell_type": "code",
   "execution_count": 12,
   "metadata": {
    "colab": {
     "base_uri": "https://localhost:8080/",
     "height": 265
    },
    "id": "Ws7tKJ_K8Wcg",
    "outputId": "f045a616-d379-4eff-ab35-818b5bc7fd57"
   },
   "outputs": [
    {
     "data": {
      "text/html": [
       "<html lang=\"en\">\n",
       "<script src=\"https://requirejs.org/docs/release/2.3.6/minified/require.js\"></script>\n",
       "<script>\n",
       "    var ecco_url = 'https://storage.googleapis.com/ml-intro/ecco/'\n",
       "    //var ecco_url = 'http://localhost:8000/'\n",
       "\n",
       "    if (window.ecco === undefined) window.ecco = {}\n",
       "\n",
       "    // Setup the paths of the script we'll be using\n",
       "    requirejs.config({\n",
       "        urlArgs: \"bust=\" + (new Date()).getTime(),\n",
       "        nodeRequire: require,\n",
       "        paths: {\n",
       "            d3: \"https://d3js.org/d3.v6.min\", // This is only for use in setup.html and basic.html\n",
       "            \"d3-array\": \"https://d3js.org/d3-array.v2.min\",\n",
       "            jquery: \"https://code.jquery.com/jquery-3.5.1.min\",\n",
       "            ecco: ecco_url + 'js/0.0.6/ecco-bundle.min',\n",
       "            xregexp: 'https://cdnjs.cloudflare.com/ajax/libs/xregexp/3.2.0/xregexp-all.min'\n",
       "        }\n",
       "    });\n",
       "\n",
       "    // Add the css file\n",
       "    //requirejs(['d3'],\n",
       "    //    function (d3) {\n",
       "    //        d3.select('#css').attr('href', ecco_url + 'html/styles.css')\n",
       "    //    })\n",
       "\n",
       "    console.log('Ecco initialize!!')\n",
       "\n",
       "    // returns a 'basic' object. basic.init() selects the html div we'll be\n",
       "    // rendering the html into, adds styles.css to the document.\n",
       "    define('basic', ['d3'],\n",
       "        function (d3) {\n",
       "            return {\n",
       "                init: function (viz_id = null) {\n",
       "                    if (viz_id == null) {\n",
       "                        viz_id = \"viz_\" + Math.round(Math.random() * 10000000)\n",
       "                    }\n",
       "                    // Select the div rendered below, change its id\n",
       "                    const div = d3.select('#basic').attr('id', viz_id),\n",
       "                        div_parent = d3.select('#' + viz_id).node().parentNode\n",
       "\n",
       "                    // Link to CSS file\n",
       "                    d3.select(div_parent).insert('link')\n",
       "                        .attr('rel', 'stylesheet')\n",
       "                        .attr('type', 'text/css')\n",
       "                        .attr('href', ecco_url + 'html/0.0.2/styles.css')\n",
       "\n",
       "                    return viz_id\n",
       "                }\n",
       "            }\n",
       "        }, function (err) {\n",
       "            console.log(err);\n",
       "        }\n",
       "    )\n",
       "</script>\n",
       "\n",
       "<head>\n",
       "    <link id='css' rel=\"stylesheet\" type=\"text/css\">\n",
       "</head>\n",
       "<div id=\"basic\"></div>\n"
      ],
      "text/plain": [
       "<IPython.core.display.HTML object>"
      ]
     },
     "metadata": {},
     "output_type": "display_data"
    },
    {
     "data": {
      "application/javascript": [
       "\n",
       "         requirejs(['basic', 'ecco'], function(basic, ecco){\n",
       "            const viz_id = basic.init()\n",
       "\n",
       "\n",
       "            let pred = new ecco.LayerPredictions({\n",
       "                parentDiv: viz_id,\n",
       "                data:[[{\"token\": \" London\", \"prob\": \"0.13281067\", \"ranking\": 1, \"layer\": 5}, {\"token\": \" Birmingham\", \"prob\": \"0.060641155\", \"ranking\": 2, \"layer\": 5}, {\"token\": \" Manchester\", \"prob\": \"0.03682817\", \"ranking\": 3, \"layer\": 5}, {\"token\": \" Glasgow\", \"prob\": \"0.015610695\", \"ranking\": 4, \"layer\": 5}, {\"token\": \" Edinburgh\", \"prob\": \"0.012735538\", \"ranking\": 5, \"layer\": 5}, {\"token\": \" Liverpool\", \"prob\": \"0.011518731\", \"ranking\": 6, \"layer\": 5}, {\"token\": \" Bristol\", \"prob\": \"0.011411709\", \"ranking\": 7, \"layer\": 5}, {\"token\": \" Leeds\", \"prob\": \"0.011315562\", \"ranking\": 8, \"layer\": 5}, {\"token\": \" Belfast\", \"prob\": \"0.0110352365\", \"ranking\": 9, \"layer\": 5}, {\"token\": \" Brighton\", \"prob\": \"0.010986345\", \"ranking\": 10, \"layer\": 5}, {\"token\": \" Sheffield\", \"prob\": \"0.009908161\", \"ranking\": 11, \"layer\": 5}, {\"token\": \" Dublin\", \"prob\": \"0.009576614\", \"ranking\": 12, \"layer\": 5}, {\"token\": \" Cov\", \"prob\": \"0.009328971\", \"ranking\": 13, \"layer\": 5}, {\"token\": \" D\", \"prob\": \"0.00873772\", \"ranking\": 14, \"layer\": 5}, {\"token\": \" Dund\", \"prob\": \"0.008347009\", \"ranking\": 15, \"layer\": 5}, {\"token\": \" St\", \"prob\": \"0.008127814\", \"ranking\": 16, \"layer\": 5}, {\"token\": \" Cambridge\", \"prob\": \"0.007723021\", \"ranking\": 17, \"layer\": 5}, {\"token\": \" Toronto\", \"prob\": \"0.007138078\", \"ranking\": 18, \"layer\": 5}, {\"token\": \" Chelsea\", \"prob\": \"0.0069811083\", \"ranking\": 19, \"layer\": 5}, {\"token\": \" W\", \"prob\": \"0.006370281\", \"ranking\": 20, \"layer\": 5}, {\"token\": \" Newcastle\", \"prob\": \"0.006353317\", \"ranking\": 21, \"layer\": 5}, {\"token\": \" Nottingham\", \"prob\": \"0.0061775623\", \"ranking\": 22, \"layer\": 5}, {\"token\": \" G\", \"prob\": \"0.005884247\", \"ranking\": 23, \"layer\": 5}, {\"token\": \" T\", \"prob\": \"0.00585773\", \"ranking\": 24, \"layer\": 5}, {\"token\": \" Westminster\", \"prob\": \"0.005681493\", \"ranking\": 25, \"layer\": 5}, {\"token\": \" B\", \"prob\": \"0.0056101633\", \"ranking\": 26, \"layer\": 5}, {\"token\": \" Surrey\", \"prob\": \"0.005500205\", \"ranking\": 27, \"layer\": 5}, {\"token\": \" C\", \"prob\": \"0.005206814\", \"ranking\": 28, \"layer\": 5}, {\"token\": \" New\", \"prob\": \"0.004981756\", \"ranking\": 29, \"layer\": 5}, {\"token\": \" L\", \"prob\": \"0.0048823073\", \"ranking\": 30, \"layer\": 5}]]\n",
       "            })\n",
       "            pred.init()\n",
       "         }, function (err) {\n",
       "            console.log(viz_id, err);\n",
       "        })"
      ],
      "text/plain": [
       "<IPython.core.display.Javascript object>"
      ]
     },
     "metadata": {},
     "output_type": "display_data"
    }
   ],
   "source": [
    "# What other tokens were possible to output in place of \"London\"?\n",
    "output_2.layer_predictions(position=9, layer=5, topk=30)"
   ]
  },
  {
   "cell_type": "code",
   "execution_count": 55,
   "metadata": {
    "colab": {
     "base_uri": "https://localhost:8080/",
     "height": 326
    },
    "id": "HrkMe1rI8kCF",
    "outputId": "60d9d4f8-7aef-4fa7-edee-d42aa5994db9"
   },
   "outputs": [
    {
     "name": "stderr",
     "output_type": "stream",
     "text": [
      "D:\\conda\\envs\\pip310ecco\\lib\\site-packages\\ecco\\output.py:469: UserWarning: To copy construct from a tensor, it is recommended to use sourceTensor.clone().detach() or sourceTensor.clone().detach().requires_grad_(True), rather than torch.tensor(sourceTensor).\n",
      "  token_id = torch.tensor(self.token_ids[0][offset + j])\n"
     ]
    },
    {
     "data": {
      "image/png": "[encoded data removed]",
      "text/plain": [
       "<Figure size 550x580 with 3 Axes>"
      ]
     },
     "metadata": {},
     "output_type": "display_data"
    }
   ],
   "source": [
    "# Now that the model has selcted the tokens \"London . \\n\"\n",
    "# How did each layer rank these tokens during processing?\n",
    "output_2.rankings()"
   ]
  },
  {
   "cell_type": "markdown",
   "metadata": {
    "id": "1Qelsn_jZlIE"
   },
   "source": [
    "This visualization is based on the great visual treatment by nostalgebraist in [Interpreting GPT: the logit lens](https://www.lesswrong.com/posts/AcKRB8wDpdaN6v6ru/interpreting-gpt-the-logit-lens)."
   ]
  },
  {
   "cell_type": "markdown",
   "metadata": {
    "id": "UcD1w1HP9hWO"
   },
   "source": [
    "### Probing the model's world knowledge \n",
    "\n",
    "What happens if we present the following input sentence to the model:\n",
    "\n",
    "`The countries of the European Union are:\\n1. Austria\\n2. Belgium\\n3. Bulgaria\\n4. ___________`\n",
    "\n",
    "Namely, we have these questions:\n",
    "* Q. Will the model continue the numbering correctly?\n",
    "* Q. Will it succeed in following the formatting?\n",
    "* Q. Will it succeed in naming countries? European ones?\n",
    "* Q. Will the model \"notice\" the alphabetical order of the list? Will it follow it?\n"
   ]
  },
  {
   "cell_type": "code",
   "execution_count": 56,
   "metadata": {
    "colab": {
     "base_uri": "https://localhost:8080/",
     "height": 302
    },
    "id": "X72IPVlJ8_8r",
    "outputId": "dba57cae-c14a-4270-bcbe-1fa06bda06a9"
   },
   "outputs": [
    {
     "data": {
      "text/html": [
       "<html lang=\"en\">\n",
       "<script src=\"https://requirejs.org/docs/release/2.3.6/minified/require.js\"></script>\n",
       "<script>\n",
       "    var ecco_url = 'https://storage.googleapis.com/ml-intro/ecco/'\n",
       "    //var ecco_url = 'http://localhost:8000/'\n",
       "\n",
       "    if (window.ecco === undefined) window.ecco = {}\n",
       "\n",
       "    // Setup the paths of the script we'll be using\n",
       "    requirejs.config({\n",
       "        urlArgs: \"bust=\" + (new Date()).getTime(),\n",
       "        nodeRequire: require,\n",
       "        paths: {\n",
       "            d3: \"https://d3js.org/d3.v6.min\", // This is only for use in setup.html and basic.html\n",
       "            \"d3-array\": \"https://d3js.org/d3-array.v2.min\",\n",
       "            jquery: \"https://code.jquery.com/jquery-3.5.1.min\",\n",
       "            ecco: ecco_url + 'js/0.0.6/ecco-bundle.min',\n",
       "            xregexp: 'https://cdnjs.cloudflare.com/ajax/libs/xregexp/3.2.0/xregexp-all.min'\n",
       "        }\n",
       "    });\n",
       "\n",
       "    // Add the css file\n",
       "    //requirejs(['d3'],\n",
       "    //    function (d3) {\n",
       "    //        d3.select('#css').attr('href', ecco_url + 'html/styles.css')\n",
       "    //    })\n",
       "\n",
       "    console.log('Ecco initialize!!')\n",
       "\n",
       "    // returns a 'basic' object. basic.init() selects the html div we'll be\n",
       "    // rendering the html into, adds styles.css to the document.\n",
       "    define('basic', ['d3'],\n",
       "        function (d3) {\n",
       "            return {\n",
       "                init: function (viz_id = null) {\n",
       "                    if (viz_id == null) {\n",
       "                        viz_id = \"viz_\" + Math.round(Math.random() * 10000000)\n",
       "                    }\n",
       "                    // Select the div rendered below, change its id\n",
       "                    const div = d3.select('#basic').attr('id', viz_id),\n",
       "                        div_parent = d3.select('#' + viz_id).node().parentNode\n",
       "\n",
       "                    // Link to CSS file\n",
       "                    d3.select(div_parent).insert('link')\n",
       "                        .attr('rel', 'stylesheet')\n",
       "                        .attr('type', 'text/css')\n",
       "                        .attr('href', ecco_url + 'html/0.0.2/styles.css')\n",
       "\n",
       "                    return viz_id\n",
       "                }\n",
       "            }\n",
       "        }, function (err) {\n",
       "            console.log(err);\n",
       "        }\n",
       "    )\n",
       "</script>\n",
       "\n",
       "<head>\n",
       "    <link id='css' rel=\"stylesheet\" type=\"text/css\">\n",
       "</head>\n",
       "<div id=\"basic\"></div>\n"
      ],
      "text/plain": [
       "<IPython.core.display.HTML object>"
      ]
     },
     "metadata": {},
     "output_type": "display_data"
    },
    {
     "data": {
      "application/javascript": [
       "\n",
       "         requirejs( ['basic', 'ecco'], function(basic, ecco){\n",
       "            basic.init('viz_551857') // Python needs to know the viz id. Used for each output token.\n",
       "            window.ecco['viz_551857'] = new ecco.renderOutputSequence({\n",
       "                    parentDiv: 'viz_551857',\n",
       "                    data: {\"tokens\": [{\"token\": \"1\", \"is_partial\": false, \"position\": 0, \"token_id\": 352, \"type\": \"input\"}, {\"token\": \",\", \"is_partial\": true, \"position\": 1, \"token_id\": 11, \"type\": \"input\"}, {\"token\": \"1\", \"is_partial\": false, \"position\": 2, \"token_id\": 352, \"type\": \"input\"}, {\"token\": \",\", \"is_partial\": true, \"position\": 3, \"token_id\": 11, \"type\": \"input\"}, {\"token\": \"1\", \"is_partial\": false, \"position\": 4, \"token_id\": 352, \"type\": \"input\"}, {\"token\": \",\", \"is_partial\": true, \"position\": 5, \"token_id\": 11, \"type\": \"input\"}]},\n",
       "                    tokenization_config: {\"token_prefix\": \"\\u0120\", \"partial_token_prefix\": \"\"}\n",
       "            \n",
       "            })\n",
       "         }, function (err) {\n",
       "            console.log(err);\n",
       "        })\n",
       "        "
      ],
      "text/plain": [
       "<IPython.core.display.Javascript object>"
      ]
     },
     "metadata": {},
     "output_type": "display_data"
    },
    {
     "name": "stderr",
     "output_type": "stream",
     "text": [
      "Setting `pad_token_id` to `eos_token_id`:50256 for open-end generation.\n"
     ]
    },
    {
     "data": {
      "application/javascript": [
       "\n",
       "        // We don't really need these require scripts. But this is to avert\n",
       "        //this code from running before display_input_sequence which DOES require external files\n",
       "        requirejs(['basic', 'ecco'], function(basic, ecco){\n",
       "                console.log('addToken viz_id', 'viz_551857');\n",
       "                window.ecco['viz_551857'].addToken({\"token\": \"12\", \"is_partial\": false, \"token_id\": 1105, \"position\": 6, \"type\": \"output\"})\n",
       "                window.ecco['viz_551857'].redraw()\n",
       "        })\n",
       "        "
      ],
      "text/plain": [
       "<IPython.core.display.Javascript object>"
      ]
     },
     "metadata": {},
     "output_type": "display_data"
    },
    {
     "data": {
      "application/javascript": [
       "\n",
       "        // We don't really need these require scripts. But this is to avert\n",
       "        //this code from running before display_input_sequence which DOES require external files\n",
       "        requirejs(['basic', 'ecco'], function(basic, ecco){\n",
       "                console.log('addToken viz_id', 'viz_551857');\n",
       "                window.ecco['viz_551857'].addToken({\"token\": \",\", \"is_partial\": true, \"token_id\": 11, \"position\": 7, \"type\": \"output\"})\n",
       "                window.ecco['viz_551857'].redraw()\n",
       "        })\n",
       "        "
      ],
      "text/plain": [
       "<IPython.core.display.Javascript object>"
      ]
     },
     "metadata": {},
     "output_type": "display_data"
    },
    {
     "data": {
      "application/javascript": [
       "\n",
       "        // We don't really need these require scripts. But this is to avert\n",
       "        //this code from running before display_input_sequence which DOES require external files\n",
       "        requirejs(['basic', 'ecco'], function(basic, ecco){\n",
       "                console.log('addToken viz_id', 'viz_551857');\n",
       "                window.ecco['viz_551857'].addToken({\"token\": \"1\", \"is_partial\": false, \"token_id\": 352, \"position\": 8, \"type\": \"output\"})\n",
       "                window.ecco['viz_551857'].redraw()\n",
       "        })\n",
       "        "
      ],
      "text/plain": [
       "<IPython.core.display.Javascript object>"
      ]
     },
     "metadata": {},
     "output_type": "display_data"
    },
    {
     "data": {
      "application/javascript": [
       "\n",
       "        // We don't really need these require scripts. But this is to avert\n",
       "        //this code from running before display_input_sequence which DOES require external files\n",
       "        requirejs(['basic', 'ecco'], function(basic, ecco){\n",
       "                console.log('addToken viz_id', 'viz_551857');\n",
       "                window.ecco['viz_551857'].addToken({\"token\": \",\", \"is_partial\": true, \"token_id\": 11, \"position\": 9, \"type\": \"output\"})\n",
       "                window.ecco['viz_551857'].redraw()\n",
       "        })\n",
       "        "
      ],
      "text/plain": [
       "<IPython.core.display.Javascript object>"
      ]
     },
     "metadata": {},
     "output_type": "display_data"
    },
    {
     "data": {
      "application/javascript": [
       "\n",
       "        // We don't really need these require scripts. But this is to avert\n",
       "        //this code from running before display_input_sequence which DOES require external files\n",
       "        requirejs(['basic', 'ecco'], function(basic, ecco){\n",
       "                console.log('addToken viz_id', 'viz_551857');\n",
       "                window.ecco['viz_551857'].addToken({\"token\": \"1\", \"is_partial\": false, \"token_id\": 352, \"position\": 10, \"type\": \"output\"})\n",
       "                window.ecco['viz_551857'].redraw()\n",
       "        })\n",
       "        "
      ],
      "text/plain": [
       "<IPython.core.display.Javascript object>"
      ]
     },
     "metadata": {},
     "output_type": "display_data"
    },
    {
     "data": {
      "application/javascript": [
       "\n",
       "        // We don't really need these require scripts. But this is to avert\n",
       "        //this code from running before display_input_sequence which DOES require external files\n",
       "        requirejs(['basic', 'ecco'], function(basic, ecco){\n",
       "                console.log('addToken viz_id', 'viz_551857');\n",
       "                window.ecco['viz_551857'].addToken({\"token\": \",\", \"is_partial\": true, \"token_id\": 11, \"position\": 11, \"type\": \"output\"})\n",
       "                window.ecco['viz_551857'].redraw()\n",
       "        })\n",
       "        "
      ],
      "text/plain": [
       "<IPython.core.display.Javascript object>"
      ]
     },
     "metadata": {},
     "output_type": "display_data"
    },
    {
     "data": {
      "application/javascript": [
       "\n",
       "        // We don't really need these require scripts. But this is to avert\n",
       "        //this code from running before display_input_sequence which DOES require external files\n",
       "        requirejs(['basic', 'ecco'], function(basic, ecco){\n",
       "                console.log('addToken viz_id', 'viz_551857');\n",
       "                window.ecco['viz_551857'].addToken({\"token\": \"10\", \"is_partial\": false, \"token_id\": 838, \"position\": 12, \"type\": \"output\"})\n",
       "                window.ecco['viz_551857'].redraw()\n",
       "        })\n",
       "        "
      ],
      "text/plain": [
       "<IPython.core.display.Javascript object>"
      ]
     },
     "metadata": {},
     "output_type": "display_data"
    },
    {
     "data": {
      "application/javascript": [
       "\n",
       "        // We don't really need these require scripts. But this is to avert\n",
       "        //this code from running before display_input_sequence which DOES require external files\n",
       "        requirejs(['basic', 'ecco'], function(basic, ecco){\n",
       "                console.log('addToken viz_id', 'viz_551857');\n",
       "                window.ecco['viz_551857'].addToken({\"token\": \",\", \"is_partial\": true, \"token_id\": 11, \"position\": 13, \"type\": \"output\"})\n",
       "                window.ecco['viz_551857'].redraw()\n",
       "        })\n",
       "        "
      ],
      "text/plain": [
       "<IPython.core.display.Javascript object>"
      ]
     },
     "metadata": {},
     "output_type": "display_data"
    },
    {
     "data": {
      "application/javascript": [
       "\n",
       "        // We don't really need these require scripts. But this is to avert\n",
       "        //this code from running before display_input_sequence which DOES require external files\n",
       "        requirejs(['basic', 'ecco'], function(basic, ecco){\n",
       "                console.log('addToken viz_id', 'viz_551857');\n",
       "                window.ecco['viz_551857'].addToken({\"token\": \"1\", \"is_partial\": false, \"token_id\": 352, \"position\": 14, \"type\": \"output\"})\n",
       "                window.ecco['viz_551857'].redraw()\n",
       "        })\n",
       "        "
      ],
      "text/plain": [
       "<IPython.core.display.Javascript object>"
      ]
     },
     "metadata": {},
     "output_type": "display_data"
    },
    {
     "data": {
      "application/javascript": [
       "\n",
       "        // We don't really need these require scripts. But this is to avert\n",
       "        //this code from running before display_input_sequence which DOES require external files\n",
       "        requirejs(['basic', 'ecco'], function(basic, ecco){\n",
       "                console.log('addToken viz_id', 'viz_551857');\n",
       "                window.ecco['viz_551857'].addToken({\"token\": \",\", \"is_partial\": true, \"token_id\": 11, \"position\": 15, \"type\": \"output\"})\n",
       "                window.ecco['viz_551857'].redraw()\n",
       "        })\n",
       "        "
      ],
      "text/plain": [
       "<IPython.core.display.Javascript object>"
      ]
     },
     "metadata": {},
     "output_type": "display_data"
    },
    {
     "data": {
      "application/javascript": [
       "\n",
       "        // We don't really need these require scripts. But this is to avert\n",
       "        //this code from running before display_input_sequence which DOES require external files\n",
       "        requirejs(['basic', 'ecco'], function(basic, ecco){\n",
       "                console.log('addToken viz_id', 'viz_551857');\n",
       "                window.ecco['viz_551857'].addToken({\"token\": \"1\", \"is_partial\": false, \"token_id\": 352, \"position\": 16, \"type\": \"output\"})\n",
       "                window.ecco['viz_551857'].redraw()\n",
       "        })\n",
       "        "
      ],
      "text/plain": [
       "<IPython.core.display.Javascript object>"
      ]
     },
     "metadata": {},
     "output_type": "display_data"
    },
    {
     "data": {
      "application/javascript": [
       "\n",
       "        // We don't really need these require scripts. But this is to avert\n",
       "        //this code from running before display_input_sequence which DOES require external files\n",
       "        requirejs(['basic', 'ecco'], function(basic, ecco){\n",
       "                console.log('addToken viz_id', 'viz_551857');\n",
       "                window.ecco['viz_551857'].addToken({\"token\": \",\", \"is_partial\": true, \"token_id\": 11, \"position\": 17, \"type\": \"output\"})\n",
       "                window.ecco['viz_551857'].redraw()\n",
       "        })\n",
       "        "
      ],
      "text/plain": [
       "<IPython.core.display.Javascript object>"
      ]
     },
     "metadata": {},
     "output_type": "display_data"
    },
    {
     "data": {
      "application/javascript": [
       "\n",
       "        // We don't really need these require scripts. But this is to avert\n",
       "        //this code from running before display_input_sequence which DOES require external files\n",
       "        requirejs(['basic', 'ecco'], function(basic, ecco){\n",
       "                console.log('addToken viz_id', 'viz_551857');\n",
       "                window.ecco['viz_551857'].addToken({\"token\": \"1\", \"is_partial\": false, \"token_id\": 352, \"position\": 18, \"type\": \"output\"})\n",
       "                window.ecco['viz_551857'].redraw()\n",
       "        })\n",
       "        "
      ],
      "text/plain": [
       "<IPython.core.display.Javascript object>"
      ]
     },
     "metadata": {},
     "output_type": "display_data"
    },
    {
     "data": {
      "application/javascript": [
       "\n",
       "        // We don't really need these require scripts. But this is to avert\n",
       "        //this code from running before display_input_sequence which DOES require external files\n",
       "        requirejs(['basic', 'ecco'], function(basic, ecco){\n",
       "                console.log('addToken viz_id', 'viz_551857');\n",
       "                window.ecco['viz_551857'].addToken({\"token\": \",\", \"is_partial\": true, \"token_id\": 11, \"position\": 19, \"type\": \"output\"})\n",
       "                window.ecco['viz_551857'].redraw()\n",
       "        })\n",
       "        "
      ],
      "text/plain": [
       "<IPython.core.display.Javascript object>"
      ]
     },
     "metadata": {},
     "output_type": "display_data"
    },
    {
     "data": {
      "application/javascript": [
       "\n",
       "        // We don't really need these require scripts. But this is to avert\n",
       "        //this code from running before display_input_sequence which DOES require external files\n",
       "        requirejs(['basic', 'ecco'], function(basic, ecco){\n",
       "                console.log('addToken viz_id', 'viz_551857');\n",
       "                window.ecco['viz_551857'].addToken({\"token\": \"1\", \"is_partial\": false, \"token_id\": 352, \"position\": 20, \"type\": \"output\"})\n",
       "                window.ecco['viz_551857'].redraw()\n",
       "        })\n",
       "        "
      ],
      "text/plain": [
       "<IPython.core.display.Javascript object>"
      ]
     },
     "metadata": {},
     "output_type": "display_data"
    },
    {
     "data": {
      "application/javascript": [
       "\n",
       "        // We don't really need these require scripts. But this is to avert\n",
       "        //this code from running before display_input_sequence which DOES require external files\n",
       "        requirejs(['basic', 'ecco'], function(basic, ecco){\n",
       "                console.log('addToken viz_id', 'viz_551857');\n",
       "                window.ecco['viz_551857'].addToken({\"token\": \",\", \"is_partial\": true, \"token_id\": 11, \"position\": 21, \"type\": \"output\"})\n",
       "                window.ecco['viz_551857'].redraw()\n",
       "        })\n",
       "        "
      ],
      "text/plain": [
       "<IPython.core.display.Javascript object>"
      ]
     },
     "metadata": {},
     "output_type": "display_data"
    },
    {
     "data": {
      "application/javascript": [
       "\n",
       "        // We don't really need these require scripts. But this is to avert\n",
       "        //this code from running before display_input_sequence which DOES require external files\n",
       "        requirejs(['basic', 'ecco'], function(basic, ecco){\n",
       "                console.log('addToken viz_id', 'viz_551857');\n",
       "                window.ecco['viz_551857'].addToken({\"token\": \"1\", \"is_partial\": false, \"token_id\": 352, \"position\": 22, \"type\": \"output\"})\n",
       "                window.ecco['viz_551857'].redraw()\n",
       "        })\n",
       "        "
      ],
      "text/plain": [
       "<IPython.core.display.Javascript object>"
      ]
     },
     "metadata": {},
     "output_type": "display_data"
    },
    {
     "data": {
      "application/javascript": [
       "\n",
       "        // We don't really need these require scripts. But this is to avert\n",
       "        //this code from running before display_input_sequence which DOES require external files\n",
       "        requirejs(['basic', 'ecco'], function(basic, ecco){\n",
       "                console.log('addToken viz_id', 'viz_551857');\n",
       "                window.ecco['viz_551857'].addToken({\"token\": \",\", \"is_partial\": true, \"token_id\": 11, \"position\": 23, \"type\": \"output\"})\n",
       "                window.ecco['viz_551857'].redraw()\n",
       "        })\n",
       "        "
      ],
      "text/plain": [
       "<IPython.core.display.Javascript object>"
      ]
     },
     "metadata": {},
     "output_type": "display_data"
    },
    {
     "data": {
      "application/javascript": [
       "\n",
       "        // We don't really need these require scripts. But this is to avert\n",
       "        //this code from running before display_input_sequence which DOES require external files\n",
       "        requirejs(['basic', 'ecco'], function(basic, ecco){\n",
       "                console.log('addToken viz_id', 'viz_551857');\n",
       "                window.ecco['viz_551857'].addToken({\"token\": \"1\", \"is_partial\": false, \"token_id\": 352, \"position\": 24, \"type\": \"output\"})\n",
       "                window.ecco['viz_551857'].redraw()\n",
       "        })\n",
       "        "
      ],
      "text/plain": [
       "<IPython.core.display.Javascript object>"
      ]
     },
     "metadata": {},
     "output_type": "display_data"
    },
    {
     "data": {
      "application/javascript": [
       "\n",
       "        // We don't really need these require scripts. But this is to avert\n",
       "        //this code from running before display_input_sequence which DOES require external files\n",
       "        requirejs(['basic', 'ecco'], function(basic, ecco){\n",
       "                console.log('addToken viz_id', 'viz_551857');\n",
       "                window.ecco['viz_551857'].addToken({\"token\": \",\", \"is_partial\": true, \"token_id\": 11, \"position\": 25, \"type\": \"output\"})\n",
       "                window.ecco['viz_551857'].redraw()\n",
       "        })\n",
       "        "
      ],
      "text/plain": [
       "<IPython.core.display.Javascript object>"
      ]
     },
     "metadata": {},
     "output_type": "display_data"
    }
   ],
   "source": [
    "#text= \"The countries of the European Union are:\\n1. Austria\\n2. Belgium\\n3. Bulgaria\\n4.\"\n",
    "#text = \" !\"\n",
    "\n",
    "output_3 = lm.generate(text, generate=20, do_sample=True)"
   ]
  },
  {
   "cell_type": "markdown",
   "metadata": {
    "id": "r-ikx4AVBvLK"
   },
   "source": [
    "The `rankings()` visualization view shows us at which layers the model resolved the output token for each position."
   ]
  },
  {
   "cell_type": "code",
   "execution_count": 57,
   "metadata": {
    "colab": {
     "base_uri": "https://localhost:8080/",
     "height": 343
    },
    "id": "bI2OpemBE5cG",
    "outputId": "41f92b2c-00bb-4b59-8f55-4583ea8f9b39"
   },
   "outputs": [
    {
     "name": "stderr",
     "output_type": "stream",
     "text": [
      "D:\\conda\\envs\\pip310ecco\\lib\\site-packages\\ecco\\output.py:469: UserWarning: To copy construct from a tensor, it is recommended to use sourceTensor.clone().detach() or sourceTensor.clone().detach().requires_grad_(True), rather than torch.tensor(sourceTensor).\n",
      "  token_id = torch.tensor(self.token_ids[0][offset + j])\n"
     ]
    },
    {
     "data": {
      "image/png": "[encoded data removed]",
      "text/plain": [
       "<Figure size 1900x580 with 3 Axes>"
      ]
     },
     "metadata": {},
     "output_type": "display_data"
    }
   ],
   "source": [
    "output_3.rankings()"
   ]
  },
  {
   "cell_type": "markdown",
   "metadata": {
    "id": "XJ-5kli5CGyf"
   },
   "source": [
    "The `saliency()` visualization shows which tokens contributed the most towards generating each output token (using the gradient X Input method):"
   ]
  },
  {
   "cell_type": "code",
   "execution_count": null,
   "metadata": {},
   "outputs": [],
   "source": []
  },
  {
   "cell_type": "code",
   "execution_count": null,
   "metadata": {},
   "outputs": [],
   "source": [
    "https://github.com/jalammar/ecco/blob/main/notebooks/Ecco_Primary_Attributions.ipynb"
   ]
  },
  {
   "cell_type": "code",
   "execution_count": null,
   "metadata": {},
   "outputs": [],
   "source": []
  },
  {
   "cell_type": "code",
   "execution_count": 16,
   "metadata": {
    "colab": {
     "base_uri": "https://localhost:8080/",
     "height": 237
    },
    "id": "D-nKpXW5FPlY",
    "outputId": "a476e098-5e50-4f51-9362-990ebb52ade9"
   },
   "outputs": [
    {
     "ename": "AttributeError",
     "evalue": "'OutputSeq' object has no attribute 'saliency'",
     "output_type": "error",
     "traceback": [
      "\u001b[1;31m-----------------------------------------------------------------\u001b[0m",
      "\u001b[1;31mAttributeError\u001b[0m                  Traceback (most recent call last)",
      "Cell \u001b[1;32mIn[16], line 1\u001b[0m\n\u001b[1;32m----> 1\u001b[0m \u001b[43moutput_3\u001b[49m\u001b[38;5;241;43m.\u001b[39;49m\u001b[43msaliency\u001b[49m()\n",
      "\u001b[1;31mAttributeError\u001b[0m: 'OutputSeq' object has no attribute 'saliency'"
     ]
    }
   ],
   "source": [
    "output_3.saliency()"
   ]
  },
  {
   "cell_type": "markdown",
   "metadata": {
    "id": "4vicS8eRCujY"
   },
   "source": [
    "### Detailed saliency view\n",
    "We can see a more detailed view of the saliency values using the detailed view:"
   ]
  },
  {
   "cell_type": "code",
   "execution_count": 17,
   "metadata": {
    "colab": {
     "base_uri": "https://localhost:8080/",
     "height": 357
    },
    "id": "9ao3g9RIFa7x",
    "outputId": "e7208416-9b90-4573-fa4f-185fec23e896"
   },
   "outputs": [
    {
     "ename": "AttributeError",
     "evalue": "'OutputSeq' object has no attribute 'saliency'",
     "output_type": "error",
     "traceback": [
      "\u001b[1;31m-----------------------------------------------------------------\u001b[0m",
      "\u001b[1;31mAttributeError\u001b[0m                  Traceback (most recent call last)",
      "Cell \u001b[1;32mIn[17], line 1\u001b[0m\n\u001b[1;32m----> 1\u001b[0m \u001b[43moutput_3\u001b[49m\u001b[38;5;241;43m.\u001b[39;49m\u001b[43msaliency\u001b[49m(style\u001b[38;5;241m=\u001b[39m\u001b[38;5;124m\"\u001b[39m\u001b[38;5;124mdetailed\u001b[39m\u001b[38;5;124m\"\u001b[39m)\n",
      "\u001b[1;31mAttributeError\u001b[0m: 'OutputSeq' object has no attribute 'saliency'"
     ]
    }
   ],
   "source": [
    "output_3.saliency(style=\"detailed\")"
   ]
  },
  {
   "cell_type": "code",
   "execution_count": 21,
   "metadata": {},
   "outputs": [
    {
     "data": {
      "text/html": [
       "<html lang=\"en\">\n",
       "<script src=\"https://requirejs.org/docs/release/2.3.6/minified/require.js\"></script>\n",
       "<script>\n",
       "    var ecco_url = 'https://storage.googleapis.com/ml-intro/ecco/'\n",
       "    //var ecco_url = 'http://localhost:8000/'\n",
       "\n",
       "    if (window.ecco === undefined) window.ecco = {}\n",
       "\n",
       "    // Setup the paths of the script we'll be using\n",
       "    requirejs.config({\n",
       "        urlArgs: \"bust=\" + (new Date()).getTime(),\n",
       "        nodeRequire: require,\n",
       "        paths: {\n",
       "            d3: \"https://d3js.org/d3.v6.min\", // This is only for use in setup.html and basic.html\n",
       "            \"d3-array\": \"https://d3js.org/d3-array.v2.min\",\n",
       "            jquery: \"https://code.jquery.com/jquery-3.5.1.min\",\n",
       "            ecco: ecco_url + 'js/0.0.6/ecco-bundle.min',\n",
       "            xregexp: 'https://cdnjs.cloudflare.com/ajax/libs/xregexp/3.2.0/xregexp-all.min'\n",
       "        }\n",
       "    });\n",
       "\n",
       "    // Add the css file\n",
       "    //requirejs(['d3'],\n",
       "    //    function (d3) {\n",
       "    //        d3.select('#css').attr('href', ecco_url + 'html/styles.css')\n",
       "    //    })\n",
       "\n",
       "    console.log('Ecco initialize!!')\n",
       "\n",
       "    // returns a 'basic' object. basic.init() selects the html div we'll be\n",
       "    // rendering the html into, adds styles.css to the document.\n",
       "    define('basic', ['d3'],\n",
       "        function (d3) {\n",
       "            return {\n",
       "                init: function (viz_id = null) {\n",
       "                    if (viz_id == null) {\n",
       "                        viz_id = \"viz_\" + Math.round(Math.random() * 10000000)\n",
       "                    }\n",
       "                    // Select the div rendered below, change its id\n",
       "                    const div = d3.select('#basic').attr('id', viz_id),\n",
       "                        div_parent = d3.select('#' + viz_id).node().parentNode\n",
       "\n",
       "                    // Link to CSS file\n",
       "                    d3.select(div_parent).insert('link')\n",
       "                        .attr('rel', 'stylesheet')\n",
       "                        .attr('type', 'text/css')\n",
       "                        .attr('href', ecco_url + 'html/0.0.2/styles.css')\n",
       "\n",
       "                    return viz_id\n",
       "                }\n",
       "            }\n",
       "        }, function (err) {\n",
       "            console.log(err);\n",
       "        }\n",
       "    )\n",
       "</script>\n",
       "\n",
       "<head>\n",
       "    <link id='css' rel=\"stylesheet\" type=\"text/css\">\n",
       "</head>\n",
       "<div id=\"basic\"></div>\n"
      ],
      "text/plain": [
       "<IPython.core.display.HTML object>"
      ]
     },
     "metadata": {},
     "output_type": "display_data"
    },
    {
     "data": {
      "application/javascript": [
       "\n",
       "         requirejs( ['basic', 'ecco'], function(basic, ecco){\n",
       "            basic.init('viz_974579') // Python needs to know the viz id. Used for each output token.\n",
       "            window.ecco['viz_974579'] = new ecco.renderOutputSequence({\n",
       "                    parentDiv: 'viz_974579',\n",
       "                    data: {\"tokens\": [{\"token\": \"The\", \"is_partial\": true, \"position\": 0, \"token_id\": 464, \"type\": \"input\"}, {\"token\": \"countries\", \"is_partial\": false, \"position\": 1, \"token_id\": 2678, \"type\": \"input\"}, {\"token\": \"of\", \"is_partial\": false, \"position\": 2, \"token_id\": 286, \"type\": \"input\"}, {\"token\": \"the\", \"is_partial\": false, \"position\": 3, \"token_id\": 262, \"type\": \"input\"}, {\"token\": \"European\", \"is_partial\": false, \"position\": 4, \"token_id\": 3427, \"type\": \"input\"}, {\"token\": \"Union\", \"is_partial\": false, \"position\": 5, \"token_id\": 4479, \"type\": \"input\"}, {\"token\": \"are\", \"is_partial\": false, \"position\": 6, \"token_id\": 389, \"type\": \"input\"}, {\"token\": \":\", \"is_partial\": true, \"position\": 7, \"token_id\": 25, \"type\": \"input\"}, {\"token\": \"\\n\", \"is_partial\": true, \"position\": 8, \"token_id\": 198, \"type\": \"input\"}, {\"token\": \"1\", \"is_partial\": true, \"position\": 9, \"token_id\": 16, \"type\": \"input\"}, {\"token\": \".\", \"is_partial\": true, \"position\": 10, \"token_id\": 13, \"type\": \"input\"}, {\"token\": \"Austria\", \"is_partial\": false, \"position\": 11, \"token_id\": 17322, \"type\": \"input\"}, {\"token\": \"\\n\", \"is_partial\": true, \"position\": 12, \"token_id\": 198, \"type\": \"input\"}, {\"token\": \"2\", \"is_partial\": true, \"position\": 13, \"token_id\": 17, \"type\": \"input\"}, {\"token\": \".\", \"is_partial\": true, \"position\": 14, \"token_id\": 13, \"type\": \"input\"}, {\"token\": \"Belgium\", \"is_partial\": false, \"position\": 15, \"token_id\": 15664, \"type\": \"input\"}, {\"token\": \"\\n\", \"is_partial\": true, \"position\": 16, \"token_id\": 198, \"type\": \"input\"}, {\"token\": \"3\", \"is_partial\": true, \"position\": 17, \"token_id\": 18, \"type\": \"input\"}, {\"token\": \".\", \"is_partial\": true, \"position\": 18, \"token_id\": 13, \"type\": \"input\"}, {\"token\": \"Bulgaria\", \"is_partial\": false, \"position\": 19, \"token_id\": 27902, \"type\": \"input\"}, {\"token\": \"\\n\", \"is_partial\": true, \"position\": 20, \"token_id\": 198, \"type\": \"input\"}, {\"token\": \"4\", \"is_partial\": true, \"position\": 21, \"token_id\": 19, \"type\": \"input\"}, {\"token\": \".\", \"is_partial\": true, \"position\": 22, \"token_id\": 13, \"type\": \"input\"}]},\n",
       "                    tokenization_config: {\"token_prefix\": \"\\u0120\", \"partial_token_prefix\": \"\"}\n",
       "            \n",
       "            })\n",
       "         }, function (err) {\n",
       "            console.log(err);\n",
       "        })\n",
       "        "
      ],
      "text/plain": [
       "<IPython.core.display.Javascript object>"
      ]
     },
     "metadata": {},
     "output_type": "display_data"
    },
    {
     "name": "stderr",
     "output_type": "stream",
     "text": [
      "Setting `pad_token_id` to `eos_token_id`:50256 for open-end generation.\n"
     ]
    },
    {
     "data": {
      "application/javascript": [
       "\n",
       "        // We don't really need these require scripts. But this is to avert\n",
       "        //this code from running before display_input_sequence which DOES require external files\n",
       "        requirejs(['basic', 'ecco'], function(basic, ecco){\n",
       "                console.log('addToken viz_id', 'viz_974579');\n",
       "                window.ecco['viz_974579'].addToken({\"token\": \"Czech\", \"is_partial\": false, \"token_id\": 16639, \"position\": 23, \"type\": \"output\"})\n",
       "                window.ecco['viz_974579'].redraw()\n",
       "        })\n",
       "        "
      ],
      "text/plain": [
       "<IPython.core.display.Javascript object>"
      ]
     },
     "metadata": {},
     "output_type": "display_data"
    },
    {
     "data": {
      "application/javascript": [
       "\n",
       "        // We don't really need these require scripts. But this is to avert\n",
       "        //this code from running before display_input_sequence which DOES require external files\n",
       "        requirejs(['basic', 'ecco'], function(basic, ecco){\n",
       "                console.log('addToken viz_id', 'viz_974579');\n",
       "                window.ecco['viz_974579'].addToken({\"token\": \"Republic\", \"is_partial\": false, \"token_id\": 2066, \"position\": 24, \"type\": \"output\"})\n",
       "                window.ecco['viz_974579'].redraw()\n",
       "        })\n",
       "        "
      ],
      "text/plain": [
       "<IPython.core.display.Javascript object>"
      ]
     },
     "metadata": {},
     "output_type": "display_data"
    },
    {
     "data": {
      "application/javascript": [
       "\n",
       "        // We don't really need these require scripts. But this is to avert\n",
       "        //this code from running before display_input_sequence which DOES require external files\n",
       "        requirejs(['basic', 'ecco'], function(basic, ecco){\n",
       "                console.log('addToken viz_id', 'viz_974579');\n",
       "                window.ecco['viz_974579'].addToken({\"token\": \"\\n\", \"is_partial\": true, \"token_id\": 198, \"position\": 25, \"type\": \"output\"})\n",
       "                window.ecco['viz_974579'].redraw()\n",
       "        })\n",
       "        "
      ],
      "text/plain": [
       "<IPython.core.display.Javascript object>"
      ]
     },
     "metadata": {},
     "output_type": "display_data"
    },
    {
     "data": {
      "application/javascript": [
       "\n",
       "        // We don't really need these require scripts. But this is to avert\n",
       "        //this code from running before display_input_sequence which DOES require external files\n",
       "        requirejs(['basic', 'ecco'], function(basic, ecco){\n",
       "                console.log('addToken viz_id', 'viz_974579');\n",
       "                window.ecco['viz_974579'].addToken({\"token\": \"5\", \"is_partial\": true, \"token_id\": 20, \"position\": 26, \"type\": \"output\"})\n",
       "                window.ecco['viz_974579'].redraw()\n",
       "        })\n",
       "        "
      ],
      "text/plain": [
       "<IPython.core.display.Javascript object>"
      ]
     },
     "metadata": {},
     "output_type": "display_data"
    },
    {
     "data": {
      "application/javascript": [
       "\n",
       "        // We don't really need these require scripts. But this is to avert\n",
       "        //this code from running before display_input_sequence which DOES require external files\n",
       "        requirejs(['basic', 'ecco'], function(basic, ecco){\n",
       "                console.log('addToken viz_id', 'viz_974579');\n",
       "                window.ecco['viz_974579'].addToken({\"token\": \".\", \"is_partial\": true, \"token_id\": 13, \"position\": 27, \"type\": \"output\"})\n",
       "                window.ecco['viz_974579'].redraw()\n",
       "        })\n",
       "        "
      ],
      "text/plain": [
       "<IPython.core.display.Javascript object>"
      ]
     },
     "metadata": {},
     "output_type": "display_data"
    },
    {
     "data": {
      "application/javascript": [
       "\n",
       "        // We don't really need these require scripts. But this is to avert\n",
       "        //this code from running before display_input_sequence which DOES require external files\n",
       "        requirejs(['basic', 'ecco'], function(basic, ecco){\n",
       "                console.log('addToken viz_id', 'viz_974579');\n",
       "                window.ecco['viz_974579'].addToken({\"token\": \"Germany\", \"is_partial\": false, \"token_id\": 4486, \"position\": 28, \"type\": \"output\"})\n",
       "                window.ecco['viz_974579'].redraw()\n",
       "        })\n",
       "        "
      ],
      "text/plain": [
       "<IPython.core.display.Javascript object>"
      ]
     },
     "metadata": {},
     "output_type": "display_data"
    },
    {
     "data": {
      "application/javascript": [
       "\n",
       "        // We don't really need these require scripts. But this is to avert\n",
       "        //this code from running before display_input_sequence which DOES require external files\n",
       "        requirejs(['basic', 'ecco'], function(basic, ecco){\n",
       "                console.log('addToken viz_id', 'viz_974579');\n",
       "                window.ecco['viz_974579'].addToken({\"token\": \"\\n\", \"is_partial\": true, \"token_id\": 198, \"position\": 29, \"type\": \"output\"})\n",
       "                window.ecco['viz_974579'].redraw()\n",
       "        })\n",
       "        "
      ],
      "text/plain": [
       "<IPython.core.display.Javascript object>"
      ]
     },
     "metadata": {},
     "output_type": "display_data"
    },
    {
     "data": {
      "application/javascript": [
       "\n",
       "        // We don't really need these require scripts. But this is to avert\n",
       "        //this code from running before display_input_sequence which DOES require external files\n",
       "        requirejs(['basic', 'ecco'], function(basic, ecco){\n",
       "                console.log('addToken viz_id', 'viz_974579');\n",
       "                window.ecco['viz_974579'].addToken({\"token\": \"It\", \"is_partial\": true, \"token_id\": 1026, \"position\": 30, \"type\": \"output\"})\n",
       "                window.ecco['viz_974579'].redraw()\n",
       "        })\n",
       "        "
      ],
      "text/plain": [
       "<IPython.core.display.Javascript object>"
      ]
     },
     "metadata": {},
     "output_type": "display_data"
    },
    {
     "data": {
      "application/javascript": [
       "\n",
       "        // We don't really need these require scripts. But this is to avert\n",
       "        //this code from running before display_input_sequence which DOES require external files\n",
       "        requirejs(['basic', 'ecco'], function(basic, ecco){\n",
       "                console.log('addToken viz_id', 'viz_974579');\n",
       "                window.ecco['viz_974579'].addToken({\"token\": \"must\", \"is_partial\": false, \"token_id\": 1276, \"position\": 31, \"type\": \"output\"})\n",
       "                window.ecco['viz_974579'].redraw()\n",
       "        })\n",
       "        "
      ],
      "text/plain": [
       "<IPython.core.display.Javascript object>"
      ]
     },
     "metadata": {},
     "output_type": "display_data"
    },
    {
     "data": {
      "application/javascript": [
       "\n",
       "        // We don't really need these require scripts. But this is to avert\n",
       "        //this code from running before display_input_sequence which DOES require external files\n",
       "        requirejs(['basic', 'ecco'], function(basic, ecco){\n",
       "                console.log('addToken viz_id', 'viz_974579');\n",
       "                window.ecco['viz_974579'].addToken({\"token\": \"be\", \"is_partial\": false, \"token_id\": 307, \"position\": 32, \"type\": \"output\"})\n",
       "                window.ecco['viz_974579'].redraw()\n",
       "        })\n",
       "        "
      ],
      "text/plain": [
       "<IPython.core.display.Javascript object>"
      ]
     },
     "metadata": {},
     "output_type": "display_data"
    },
    {
     "data": {
      "application/javascript": [
       "\n",
       "        // We don't really need these require scripts. But this is to avert\n",
       "        //this code from running before display_input_sequence which DOES require external files\n",
       "        requirejs(['basic', 'ecco'], function(basic, ecco){\n",
       "                console.log('addToken viz_id', 'viz_974579');\n",
       "                window.ecco['viz_974579'].addToken({\"token\": \"noted\", \"is_partial\": false, \"token_id\": 4367, \"position\": 33, \"type\": \"output\"})\n",
       "                window.ecco['viz_974579'].redraw()\n",
       "        })\n",
       "        "
      ],
      "text/plain": [
       "<IPython.core.display.Javascript object>"
      ]
     },
     "metadata": {},
     "output_type": "display_data"
    },
    {
     "data": {
      "application/javascript": [
       "\n",
       "        // We don't really need these require scripts. But this is to avert\n",
       "        //this code from running before display_input_sequence which DOES require external files\n",
       "        requirejs(['basic', 'ecco'], function(basic, ecco){\n",
       "                console.log('addToken viz_id', 'viz_974579');\n",
       "                window.ecco['viz_974579'].addToken({\"token\": \"that\", \"is_partial\": false, \"token_id\": 326, \"position\": 34, \"type\": \"output\"})\n",
       "                window.ecco['viz_974579'].redraw()\n",
       "        })\n",
       "        "
      ],
      "text/plain": [
       "<IPython.core.display.Javascript object>"
      ]
     },
     "metadata": {},
     "output_type": "display_data"
    },
    {
     "data": {
      "application/javascript": [
       "\n",
       "        // We don't really need these require scripts. But this is to avert\n",
       "        //this code from running before display_input_sequence which DOES require external files\n",
       "        requirejs(['basic', 'ecco'], function(basic, ecco){\n",
       "                console.log('addToken viz_id', 'viz_974579');\n",
       "                window.ecco['viz_974579'].addToken({\"token\": \"not\", \"is_partial\": false, \"token_id\": 407, \"position\": 35, \"type\": \"output\"})\n",
       "                window.ecco['viz_974579'].redraw()\n",
       "        })\n",
       "        "
      ],
      "text/plain": [
       "<IPython.core.display.Javascript object>"
      ]
     },
     "metadata": {},
     "output_type": "display_data"
    },
    {
     "data": {
      "application/javascript": [
       "\n",
       "        // We don't really need these require scripts. But this is to avert\n",
       "        //this code from running before display_input_sequence which DOES require external files\n",
       "        requirejs(['basic', 'ecco'], function(basic, ecco){\n",
       "                console.log('addToken viz_id', 'viz_974579');\n",
       "                window.ecco['viz_974579'].addToken({\"token\": \"only\", \"is_partial\": false, \"token_id\": 691, \"position\": 36, \"type\": \"output\"})\n",
       "                window.ecco['viz_974579'].redraw()\n",
       "        })\n",
       "        "
      ],
      "text/plain": [
       "<IPython.core.display.Javascript object>"
      ]
     },
     "metadata": {},
     "output_type": "display_data"
    },
    {
     "data": {
      "application/javascript": [
       "\n",
       "        // We don't really need these require scripts. But this is to avert\n",
       "        //this code from running before display_input_sequence which DOES require external files\n",
       "        requirejs(['basic', 'ecco'], function(basic, ecco){\n",
       "                console.log('addToken viz_id', 'viz_974579');\n",
       "                window.ecco['viz_974579'].addToken({\"token\": \"Italy\", \"is_partial\": false, \"token_id\": 8031, \"position\": 37, \"type\": \"output\"})\n",
       "                window.ecco['viz_974579'].redraw()\n",
       "        })\n",
       "        "
      ],
      "text/plain": [
       "<IPython.core.display.Javascript object>"
      ]
     },
     "metadata": {},
     "output_type": "display_data"
    },
    {
     "data": {
      "application/javascript": [
       "\n",
       "        // We don't really need these require scripts. But this is to avert\n",
       "        //this code from running before display_input_sequence which DOES require external files\n",
       "        requirejs(['basic', 'ecco'], function(basic, ecco){\n",
       "                console.log('addToken viz_id', 'viz_974579');\n",
       "                window.ecco['viz_974579'].addToken({\"token\": \"and\", \"is_partial\": false, \"token_id\": 290, \"position\": 38, \"type\": \"output\"})\n",
       "                window.ecco['viz_974579'].redraw()\n",
       "        })\n",
       "        "
      ],
      "text/plain": [
       "<IPython.core.display.Javascript object>"
      ]
     },
     "metadata": {},
     "output_type": "display_data"
    },
    {
     "data": {
      "application/javascript": [
       "\n",
       "        // We don't really need these require scripts. But this is to avert\n",
       "        //this code from running before display_input_sequence which DOES require external files\n",
       "        requirejs(['basic', 'ecco'], function(basic, ecco){\n",
       "                console.log('addToken viz_id', 'viz_974579');\n",
       "                window.ecco['viz_974579'].addToken({\"token\": \"Slovakia\", \"is_partial\": false, \"token_id\": 36839, \"position\": 39, \"type\": \"output\"})\n",
       "                window.ecco['viz_974579'].redraw()\n",
       "        })\n",
       "        "
      ],
      "text/plain": [
       "<IPython.core.display.Javascript object>"
      ]
     },
     "metadata": {},
     "output_type": "display_data"
    },
    {
     "data": {
      "application/javascript": [
       "\n",
       "        // We don't really need these require scripts. But this is to avert\n",
       "        //this code from running before display_input_sequence which DOES require external files\n",
       "        requirejs(['basic', 'ecco'], function(basic, ecco){\n",
       "                console.log('addToken viz_id', 'viz_974579');\n",
       "                window.ecco['viz_974579'].addToken({\"token\": \"both\", \"is_partial\": false, \"token_id\": 1111, \"position\": 40, \"type\": \"output\"})\n",
       "                window.ecco['viz_974579'].redraw()\n",
       "        })\n",
       "        "
      ],
      "text/plain": [
       "<IPython.core.display.Javascript object>"
      ]
     },
     "metadata": {},
     "output_type": "display_data"
    },
    {
     "data": {
      "application/javascript": [
       "\n",
       "        // We don't really need these require scripts. But this is to avert\n",
       "        //this code from running before display_input_sequence which DOES require external files\n",
       "        requirejs(['basic', 'ecco'], function(basic, ecco){\n",
       "                console.log('addToken viz_id', 'viz_974579');\n",
       "                window.ecco['viz_974579'].addToken({\"token\": \"enjoy\", \"is_partial\": false, \"token_id\": 2883, \"position\": 41, \"type\": \"output\"})\n",
       "                window.ecco['viz_974579'].redraw()\n",
       "        })\n",
       "        "
      ],
      "text/plain": [
       "<IPython.core.display.Javascript object>"
      ]
     },
     "metadata": {},
     "output_type": "display_data"
    },
    {
     "data": {
      "application/javascript": [
       "\n",
       "        // We don't really need these require scripts. But this is to avert\n",
       "        //this code from running before display_input_sequence which DOES require external files\n",
       "        requirejs(['basic', 'ecco'], function(basic, ecco){\n",
       "                console.log('addToken viz_id', 'viz_974579');\n",
       "                window.ecco['viz_974579'].addToken({\"token\": \"such\", \"is_partial\": false, \"token_id\": 884, \"position\": 42, \"type\": \"output\"})\n",
       "                window.ecco['viz_974579'].redraw()\n",
       "        })\n",
       "        "
      ],
      "text/plain": [
       "<IPython.core.display.Javascript object>"
      ]
     },
     "metadata": {},
     "output_type": "display_data"
    }
   ],
   "source": [
    "\n",
    "# Pass in `attribution` argument the list of primary attributions to be computed\n",
    "# With ['ig', 'grad_x_input'] we are calculating Integrated Gradients and Input X Gradient saliency attributions\n",
    "output = lm.generate(text, generate=20, do_sample=True, attribution=['ig', 'grad_x_input'])"
   ]
  }
 ],
 "metadata": {
  "colab": {
   "authorship_tag": "ABX9TyMRaCJN2OAvURa/1BtrEVVo",
   "collapsed_sections": [],
   "include_colab_link": true,
   "name": "Language Models and Ecco -- PyData Khobar.ipynb",
   "provenance": []
  },
  "kernelspec": {
   "display_name": "Python 3 (ipykernel)",
   "language": "python",
   "name": "python3"
  },
  "language_info": {
   "codemirror_mode": {
    "name": "ipython",
    "version": 3
   },
   "file_extension": ".py",
   "mimetype": "text/x-python",
   "name": "python",
   "nbconvert_exporter": "python",
   "pygments_lexer": "ipython3",
   "version": "3.10.10"
  }
 },
 "nbformat": 4,
 "nbformat_minor": 4
}
