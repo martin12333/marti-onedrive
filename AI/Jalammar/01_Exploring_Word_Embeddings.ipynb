{
 "cells": [
  {
   "cell_type": "code",
   "execution_count": null,
   "metadata": {},
   "outputs": [],
   "source": [
    "#aaa"
   ]
  },
  {
   "cell_type": "code",
   "execution_count": 17,
   "metadata": {},
   "outputs": [
    {
     "data": {
      "text/plain": [
       "'%.4f'"
      ]
     },
     "execution_count": 17,
     "metadata": {},
     "output_type": "execute_result"
    }
   ],
   "source": [
    "import numpy as np\n",
    "np.set_printoptions(precision=2)\n",
    "np.set_printoptions(precision=1)\n",
    "\n",
    "%precision 4\n"
   ]
  },
  {
   "cell_type": "markdown",
   "metadata": {
    "colab_type": "text",
    "id": "view-in-github"
   },
   "source": [
    "<a href=\"https://colab.research.google.com/github/jalammar/jalammar.github.io/blob/master/notebooks/nlp/01_Exploring_Word_Embeddings.ipynb\" target=\"_parent\"><img src=\"https://colab.research.google.com/assets/colab-badge.svg\" alt=\"Open In Colab\"/></a>"
   ]
  },
  {
   "cell_type": "markdown",
   "metadata": {
    "colab_type": "text",
    "id": "qrmlikzE_6Er"
   },
   "source": [
    "# 01 - Exploring Word Embeddings\n",
    "In this notebook, we'll look at trained word embeddings. We'll plot the embeddings so we can attempt to visually compare embeddings. We'll then look at analogies and word similarities. We'll use the Gensim library which makes it easy to work with embeddings."
   ]
  },
  {
   "cell_type": "code",
   "execution_count": null,
   "metadata": {},
   "outputs": [],
   "source": []
  },
  {
   "cell_type": "code",
   "execution_count": 58,
   "metadata": {},
   "outputs": [],
   "source": [
    "import sklearn"
   ]
  },
  {
   "cell_type": "code",
   "execution_count": 59,
   "metadata": {},
   "outputs": [],
   "source": [
    "import sklearn.metrics.pairwise"
   ]
  },
  {
   "cell_type": "code",
   "execution_count": 60,
   "metadata": {},
   "outputs": [
    {
     "data": {
      "text/plain": [
       "['ArgKmin',\n",
       " 'DataConversionWarning',\n",
       " 'KERNEL_PARAMS',\n",
       " 'PAIRED_DISTANCES',\n",
       " 'PAIRWISE_BOOLEAN_FUNCTIONS',\n",
       " 'PAIRWISE_DISTANCE_FUNCTIONS',\n",
       " 'PAIRWISE_KERNEL_FUNCTIONS',\n",
       " 'Parallel',\n",
       " '_NAN_METRICS',\n",
       " '_VALID_METRICS',\n",
       " '__builtins__',\n",
       " '__cached__',\n",
       " '__doc__',\n",
       " '__file__',\n",
       " '__loader__',\n",
       " '__name__',\n",
       " '__package__',\n",
       " '__spec__',\n",
       " '_argmin_min_reduce',\n",
       " '_argmin_reduce',\n",
       " '_check_chunk_size',\n",
       " '_chi2_kernel_fast',\n",
       " '_dist_wrapper',\n",
       " '_euclidean_distances',\n",
       " '_euclidean_distances_upcast',\n",
       " '_get_mask',\n",
       " '_num_samples',\n",
       " '_pairwise_callable',\n",
       " '_parallel_pairwise',\n",
       " '_precompute_metric_params',\n",
       " '_return_float_dtype',\n",
       " '_sparse_manhattan',\n",
       " 'additive_chi2_kernel',\n",
       " 'check_array',\n",
       " 'check_non_negative',\n",
       " 'check_paired_arrays',\n",
       " 'check_pairwise_arrays',\n",
       " 'chi2_kernel',\n",
       " 'config_context',\n",
       " 'cosine_distances',\n",
       " 'cosine_similarity',\n",
       " 'csr_matrix',\n",
       " 'delayed',\n",
       " 'distance',\n",
       " 'distance_metrics',\n",
       " 'effective_n_jobs',\n",
       " 'euclidean_distances',\n",
       " 'gen_batches',\n",
       " 'gen_even_slices',\n",
       " 'get_chunk_n_rows',\n",
       " 'haversine_distances',\n",
       " 'is_scalar_nan',\n",
       " 'issparse',\n",
       " 'itertools',\n",
       " 'kernel_metrics',\n",
       " 'laplacian_kernel',\n",
       " 'linear_kernel',\n",
       " 'manhattan_distances',\n",
       " 'nan_euclidean_distances',\n",
       " 'normalize',\n",
       " 'np',\n",
       " 'paired_cosine_distances',\n",
       " 'paired_distances',\n",
       " 'paired_euclidean_distances',\n",
       " 'paired_manhattan_distances',\n",
       " 'pairwise_distances',\n",
       " 'pairwise_distances_argmin',\n",
       " 'pairwise_distances_argmin_min',\n",
       " 'pairwise_distances_chunked',\n",
       " 'pairwise_kernels',\n",
       " 'parse_version',\n",
       " 'partial',\n",
       " 'polynomial_kernel',\n",
       " 'rbf_kernel',\n",
       " 'row_norms',\n",
       " 'safe_sparse_dot',\n",
       " 'sigmoid_kernel',\n",
       " 'sp_version',\n",
       " 'warnings']"
      ]
     },
     "execution_count": 60,
     "metadata": {},
     "output_type": "execute_result"
    }
   ],
   "source": [
    "dir(sklearn.metrics.pairwise)"
   ]
  },
  {
   "cell_type": "code",
   "execution_count": null,
   "metadata": {},
   "outputs": [],
   "source": []
  },
  {
   "cell_type": "code",
   "execution_count": 1,
   "metadata": {
    "colab": {},
    "colab_type": "code",
    "id": "xB1y1EFC_6Eu"
   },
   "outputs": [],
   "source": [
    "import gensim\n",
    "import gensim.downloader as api\n",
    "from sklearn.metrics.pairwise import cosine_similarity\n",
    "import seaborn as sns\n",
    "import matplotlib.pyplot as plt\n",
    "import warnings\n",
    "\n",
    "# warnings.filterwarnings('ignore') #mm?"
   ]
  },
  {
   "cell_type": "markdown",
   "metadata": {
    "colab_type": "text",
    "id": "AlYeTyjz_6Ey"
   },
   "source": [
    "#### Download a table of pre-trained embeddings"
   ]
  },
  {
   "cell_type": "code",
   "execution_count": 2,
   "metadata": {
    "colab": {
     "base_uri": "https://localhost:8080/",
     "height": 34
    },
    "colab_type": "code",
    "id": "e-_Rx6Hn_6E0",
    "outputId": "cc44f9c3-8309-431e-f278-2ace23963bcd"
   },
   "outputs": [
    {
     "name": "stdout",
     "output_type": "stream",
     "text": [
      "[==================================================] 100.0% 66.0/66.0MB downloaded\n"
     ]
    }
   ],
   "source": [
    "# Download embeddings (66MB, glove, trained on wikipedia)\n",
    "model = api.load(\"glove-wiki-gigaword-50\")"
   ]
  },
  {
   "cell_type": "markdown",
   "metadata": {
    "colab_type": "text",
    "id": "dqK6_8vX_6E3"
   },
   "source": [
    "What's the embedding of 'king'?"
   ]
  },
  {
   "cell_type": "code",
   "execution_count": 16,
   "metadata": {
    "colab": {
     "base_uri": "https://localhost:8080/",
     "height": 170
    },
    "colab_type": "code",
    "id": "XWeOUHjT_6E5",
    "outputId": "ea01d016-050b-485a-dcd6-45e798a92e2c"
   },
   "outputs": [
    {
     "data": {
      "text/plain": [
       "array([ 0.5,  0.7, -0.6, -0. ,  0.6, -0.1, -0.1,  0.5, -0.6, -0.3, -0.1,\n",
       "        1.5, -0. , -1. ,  0.7,  0.8, -0.5, -0.3, -0.6,  0.7,  0.2, -0.1,\n",
       "       -0.1, -0.3,  0.4, -2.2, -1.1, -1.1, -0.3,  0.3,  2. , -0. , -0.6,\n",
       "        0.7,  0.5,  0.2,  0.3, -0.3, -0.9,  0.2,  0.4,  1.2, -1. , -0.2,\n",
       "       -0.2,  0.8, -0.9, -1.6, -0.6, -0.5], dtype=float32)"
      ]
     },
     "execution_count": 16,
     "metadata": {},
     "output_type": "execute_result"
    }
   ],
   "source": [
    "model['king']"
   ]
  },
  {
   "cell_type": "markdown",
   "metadata": {},
   "source": [
    " 1.9927   -2.223  "
   ]
  },
  {
   "cell_type": "code",
   "execution_count": null,
   "metadata": {},
   "outputs": [],
   "source": []
  },
  {
   "cell_type": "code",
   "execution_count": 26,
   "metadata": {},
   "outputs": [
    {
     "ename": "NameError",
     "evalue": "name 'man' is not defined",
     "output_type": "error",
     "traceback": [
      "\u001b[1;31m---------------------------------------------------------------------------\u001b[0m",
      "\u001b[1;31mNameError\u001b[0m                                 Traceback (most recent call last)",
      "Cell \u001b[1;32mIn[26], line 1\u001b[0m\n\u001b[1;32m----> 1\u001b[0m \u001b[43mman\u001b[49m\n",
      "\u001b[1;31mNameError\u001b[0m: name 'man' is not defined"
     ]
    }
   ],
   "source": [
    "man"
   ]
  },
  {
   "cell_type": "code",
   "execution_count": 27,
   "metadata": {},
   "outputs": [
    {
     "ename": "NameError",
     "evalue": "name 'woman' is not defined",
     "output_type": "error",
     "traceback": [
      "\u001b[1;31m---------------------------------------------------------------------------\u001b[0m",
      "\u001b[1;31mNameError\u001b[0m                                 Traceback (most recent call last)",
      "Cell \u001b[1;32mIn[27], line 1\u001b[0m\n\u001b[1;32m----> 1\u001b[0m \u001b[43mwoman\u001b[49m\n",
      "\u001b[1;31mNameError\u001b[0m: name 'woman' is not defined"
     ]
    }
   ],
   "source": [
    "woman"
   ]
  },
  {
   "cell_type": "code",
   "execution_count": 28,
   "metadata": {},
   "outputs": [
    {
     "ename": "NameError",
     "evalue": "name 'queen' is not defined",
     "output_type": "error",
     "traceback": [
      "\u001b[1;31m---------------------------------------------------------------------------\u001b[0m",
      "\u001b[1;31mNameError\u001b[0m                                 Traceback (most recent call last)",
      "Cell \u001b[1;32mIn[28], line 1\u001b[0m\n\u001b[1;32m----> 1\u001b[0m \u001b[43mqueen\u001b[49m\n",
      "\u001b[1;31mNameError\u001b[0m: name 'queen' is not defined"
     ]
    }
   ],
   "source": [
    "queen"
   ]
  },
  {
   "cell_type": "code",
   "execution_count": null,
   "metadata": {},
   "outputs": [],
   "source": []
  },
  {
   "cell_type": "code",
   "execution_count": null,
   "metadata": {},
   "outputs": [],
   "source": []
  },
  {
   "cell_type": "code",
   "execution_count": 29,
   "metadata": {},
   "outputs": [],
   "source": [
    "king=model['king']\n",
    "man=model['man']\n",
    "woman=model['woman']\n",
    "queen=model['queen']"
   ]
  },
  {
   "cell_type": "code",
   "execution_count": 30,
   "metadata": {},
   "outputs": [
    {
     "data": {
      "text/plain": [
       "(50,)"
      ]
     },
     "execution_count": 30,
     "metadata": {},
     "output_type": "execute_result"
    }
   ],
   "source": [
    "king.shape"
   ]
  },
  {
   "cell_type": "code",
   "execution_count": 32,
   "metadata": {},
   "outputs": [
    {
     "data": {
      "text/plain": [
       "\u001b[1;31mSignature:\u001b[0m \u001b[0mnp\u001b[0m\u001b[1;33m.\u001b[0m\u001b[0mhstack\u001b[0m\u001b[1;33m(\u001b[0m\u001b[0mtup\u001b[0m\u001b[1;33m,\u001b[0m \u001b[1;33m*\u001b[0m\u001b[1;33m,\u001b[0m \u001b[0mdtype\u001b[0m\u001b[1;33m=\u001b[0m\u001b[1;32mNone\u001b[0m\u001b[1;33m,\u001b[0m \u001b[0mcasting\u001b[0m\u001b[1;33m=\u001b[0m\u001b[1;34m'same_kind'\u001b[0m\u001b[1;33m)\u001b[0m\u001b[1;33m\u001b[0m\u001b[1;33m\u001b[0m\u001b[0m\n",
       "\u001b[1;31mDocstring:\u001b[0m\n",
       "Stack arrays in sequence horizontally (column wise).\n",
       "\n",
       "This is equivalent to concatenation along the second axis, except for 1-D\n",
       "arrays where it concatenates along the first axis. Rebuilds arrays divided\n",
       "by `hsplit`.\n",
       "\n",
       "This function makes most sense for arrays with up to 3 dimensions. For\n",
       "instance, for pixel-data with a height (first axis), width (second axis),\n",
       "and r/g/b channels (third axis). The functions `concatenate`, `stack` and\n",
       "`block` provide more general stacking and concatenation operations.\n",
       "\n",
       "Parameters\n",
       "----------\n",
       "tup : sequence of ndarrays\n",
       "    The arrays must have the same shape along all but the second axis,\n",
       "    except 1-D arrays which can be any length.\n",
       "\n",
       "dtype : str or dtype\n",
       "    If provided, the destination array will have this dtype. Cannot be\n",
       "    provided together with `out`.\n",
       "\n",
       ".. versionadded:: 1.24\n",
       "\n",
       "casting : {'no', 'equiv', 'safe', 'same_kind', 'unsafe'}, optional\n",
       "    Controls what kind of data casting may occur. Defaults to 'same_kind'.\n",
       "\n",
       ".. versionadded:: 1.24\n",
       "\n",
       "Returns\n",
       "-------\n",
       "stacked : ndarray\n",
       "    The array formed by stacking the given arrays.\n",
       "\n",
       "See Also\n",
       "--------\n",
       "concatenate : Join a sequence of arrays along an existing axis.\n",
       "stack : Join a sequence of arrays along a new axis.\n",
       "block : Assemble an nd-array from nested lists of blocks.\n",
       "vstack : Stack arrays in sequence vertically (row wise).\n",
       "dstack : Stack arrays in sequence depth wise (along third axis).\n",
       "column_stack : Stack 1-D arrays as columns into a 2-D array.\n",
       "hsplit : Split an array into multiple sub-arrays horizontally (column-wise).\n",
       "\n",
       "Examples\n",
       "--------\n",
       ">>> a = np.array((1,2,3))\n",
       ">>> b = np.array((4,5,6))\n",
       ">>> np.hstack((a,b))\n",
       "array([1, 2, 3, 4, 5, 6])\n",
       ">>> a = np.array([[1],[2],[3]])\n",
       ">>> b = np.array([[4],[5],[6]])\n",
       ">>> np.hstack((a,b))\n",
       "array([[1, 4],\n",
       "       [2, 5],\n",
       "       [3, 6]])\n",
       "\u001b[1;31mFile:\u001b[0m      d:\\conda\\envs\\pip310ecco\\lib\\site-packages\\numpy\\core\\shape_base.py\n",
       "\u001b[1;31mType:\u001b[0m      function"
      ]
     },
     "metadata": {},
     "output_type": "display_data"
    }
   ],
   "source": [
    "np.hstack?\n"
   ]
  },
  {
   "cell_type": "code",
   "execution_count": 33,
   "metadata": {},
   "outputs": [
    {
     "data": {
      "text/plain": [
       "\u001b[1;31mSignature:\u001b[0m \u001b[0mnp\u001b[0m\u001b[1;33m.\u001b[0m\u001b[0mcolumn_stack\u001b[0m\u001b[1;33m(\u001b[0m\u001b[0mtup\u001b[0m\u001b[1;33m)\u001b[0m\u001b[1;33m\u001b[0m\u001b[1;33m\u001b[0m\u001b[0m\n",
       "\u001b[1;31mDocstring:\u001b[0m\n",
       "Stack 1-D arrays as columns into a 2-D array.\n",
       "\n",
       "Take a sequence of 1-D arrays and stack them as columns\n",
       "to make a single 2-D array. 2-D arrays are stacked as-is,\n",
       "just like with `hstack`.  1-D arrays are turned into 2-D columns\n",
       "first.\n",
       "\n",
       "Parameters\n",
       "----------\n",
       "tup : sequence of 1-D or 2-D arrays.\n",
       "    Arrays to stack. All of them must have the same first dimension.\n",
       "\n",
       "Returns\n",
       "-------\n",
       "stacked : 2-D array\n",
       "    The array formed by stacking the given arrays.\n",
       "\n",
       "See Also\n",
       "--------\n",
       "stack, hstack, vstack, concatenate\n",
       "\n",
       "Examples\n",
       "--------\n",
       ">>> a = np.array((1,2,3))\n",
       ">>> b = np.array((2,3,4))\n",
       ">>> np.column_stack((a,b))\n",
       "array([[1, 2],\n",
       "       [2, 3],\n",
       "       [3, 4]])\n",
       "\u001b[1;31mFile:\u001b[0m      d:\\conda\\envs\\pip310ecco\\lib\\site-packages\\numpy\\lib\\shape_base.py\n",
       "\u001b[1;31mType:\u001b[0m      function"
      ]
     },
     "metadata": {},
     "output_type": "display_data"
    }
   ],
   "source": [
    "np.column_stack?"
   ]
  },
  {
   "cell_type": "code",
   "execution_count": 55,
   "metadata": {},
   "outputs": [
    {
     "data": {
      "text/plain": [
       "(50, 5)"
      ]
     },
     "execution_count": 55,
     "metadata": {},
     "output_type": "execute_result"
    }
   ],
   "source": [
    "a=np.column_stack((king,man,woman,queen,  king-man+woman  ))\n",
    "a.shape"
   ]
  },
  {
   "cell_type": "code",
   "execution_count": 56,
   "metadata": {},
   "outputs": [
    {
     "data": {
      "text/plain": [
       "array([[28.8851, 14.9652, 12.3249, 21.8775, 26.2448],\n",
       "       [14.9652, 27.5047, 25.9062, 14.6153, 13.3667],\n",
       "       [12.3249, 25.9062, 31.0813, 17.379 , 17.5001],\n",
       "       [21.8775, 14.6153, 17.379 , 26.9648, 24.6411],\n",
       "       [26.2448, 13.3667, 17.5001, 24.6411, 30.3781]], dtype=float32)"
      ]
     },
     "execution_count": 56,
     "metadata": {},
     "output_type": "execute_result"
    }
   ],
   "source": [
    "a.T @ a"
   ]
  },
  {
   "cell_type": "code",
   "execution_count": 57,
   "metadata": {},
   "outputs": [
    {
     "data": {
      "text/plain": [
       "array([[1.    , 0.5309, 0.4113, 0.7839, 0.886 ],\n",
       "       [0.5309, 1.    , 0.886 , 0.5367, 0.4624],\n",
       "       [0.4113, 0.886 , 1.    , 0.6003, 0.5695],\n",
       "       [0.7839, 0.5367, 0.6003, 1.    , 0.861 ],\n",
       "       [0.886 , 0.4624, 0.5695, 0.861 , 1.    ]], dtype=float32)"
      ]
     },
     "execution_count": 57,
     "metadata": {},
     "output_type": "execute_result"
    }
   ],
   "source": [
    "cosine_similarity(a.T)"
   ]
  },
  {
   "cell_type": "code",
   "execution_count": null,
   "metadata": {},
   "outputs": [],
   "source": []
  },
  {
   "cell_type": "code",
   "execution_count": null,
   "metadata": {},
   "outputs": [],
   "source": []
  },
  {
   "cell_type": "code",
   "execution_count": 25,
   "metadata": {},
   "outputs": [
    {
     "data": {
      "text/plain": [
       "28.885052"
      ]
     },
     "execution_count": 25,
     "metadata": {},
     "output_type": "execute_result"
    }
   ],
   "source": [
    "np.dot(king,king)"
   ]
  },
  {
   "cell_type": "code",
   "execution_count": null,
   "metadata": {},
   "outputs": [],
   "source": []
  },
  {
   "cell_type": "code",
   "execution_count": null,
   "metadata": {},
   "outputs": [],
   "source": []
  },
  {
   "cell_type": "code",
   "execution_count": null,
   "metadata": {},
   "outputs": [],
   "source": []
  },
  {
   "cell_type": "markdown",
   "metadata": {
    "colab_type": "text",
    "id": "S2duYBkk_6E_"
   },
   "source": [
    "#### How many words does this table have?"
   ]
  },
  {
   "cell_type": "code",
   "execution_count": 4,
   "metadata": {
    "colab": {
     "base_uri": "https://localhost:8080/",
     "height": 34
    },
    "colab_type": "code",
    "id": "_6BObQ0q_6FA",
    "outputId": "5665e2ca-00fb-4414-e2aa-2076f70ffd02"
   },
   "outputs": [
    {
     "data": {
      "text/plain": [
       "(400000, 50)"
      ]
     },
     "execution_count": 4,
     "metadata": {},
     "output_type": "execute_result"
    }
   ],
   "source": [
    "model.vectors.shape"
   ]
  },
  {
   "cell_type": "markdown",
   "metadata": {
    "colab_type": "text",
    "id": "u9ULYBe7_6FE"
   },
   "source": [
    "Which means:\n",
    "* 400,000 words (vocab_size)\n",
    "* Each has an embedding composed of 50 numbers (embedding_size)"
   ]
  },
  {
   "cell_type": "markdown",
   "metadata": {
    "colab_type": "text",
    "id": "0vUJ6e9B_6FG"
   },
   "source": [
    "### Visualizing the embedding vector\n",
    "Let's plot the vector so we can have a colorful visual of values in the embedding vector"
   ]
  },
  {
   "cell_type": "code",
   "execution_count": 5,
   "metadata": {
    "colab": {},
    "colab_type": "code",
    "id": "RRmmYf8-_6FT"
   },
   "outputs": [],
   "source": [
    "\n",
    "def plot_embeddings(vectors, labels=None):\n",
    "    n_vectors = len(vectors)\n",
    "    fig = plt.figure(figsize=(12, n_vectors))\n",
    "    # ax = fig.add_axes([0.1, 0.1, 0.8, 0.8])\n",
    "    # ax = fig.add_axes([1, 1, 1, 1])\n",
    "    ax = plt.gca()\n",
    "    \n",
    "    sns.heatmap(vectors, cmap='RdBu', vmax=2, vmin=-2, ax=ax)     #aaaa  vmax=2, vmin=-2,\n",
    "    \n",
    "    \n",
    "    if labels:\n",
    "        ax.set_yticklabels(labels,rotation=0)\n",
    "        ax.tick_params(axis='both', which='major', labelsize=30)\n",
    "        \n",
    "    plt.tick_params(axis='x',          # changes apply to the x-axis\n",
    "        which='both',      # both major and minor ticks are affected\n",
    "        bottom=False,      # ticks along the bottom edge are off\n",
    "        top=False,         # ticks along the top edge are off\n",
    "        labelbottom=False) # labels along the bottom edge are off\n",
    "    \n",
    "    # From https://github.com/mwaskom/seaborn/issues/1773\n",
    "    # fix for mpl bug that cuts off top/bottom of seaborn viz\n",
    "    b, t = plt.ylim() # discover the values for bottom and top\n",
    "    b += 0.5 # Add 0.5 to the bottom\n",
    "    t -= 0.5 # Subtract 0.5 from the top\n",
    "    plt.ylim(b, t) # update the ylim(bottom, top) values\n",
    "    plt.show() # ta-da!"
   ]
  },
  {
   "cell_type": "markdown",
   "metadata": {
    "colab_type": "text",
    "id": "nW_otYufCb9b"
   },
   "source": [
    "Let's plot the embedding of `king`"
   ]
  },
  {
   "cell_type": "code",
   "execution_count": 7,
   "metadata": {
    "colab": {
     "base_uri": "https://localhost:8080/",
     "height": 86
    },
    "colab_type": "code",
    "id": "1QJf4kfvCWOU",
    "outputId": "717f0aa1-43e6-491e-ba11-9dc01aadc2d6"
   },
   "outputs": [
    {
     "data": {
      "image/png": "[encoded data removed]",
      "text/plain": [
       "<Figure size 1200x100 with 2 Axes>"
      ]
     },
     "metadata": {},
     "output_type": "display_data"
    }
   ],
   "source": [
    "plot_embeddings([model['king']], ['king'])"
   ]
  },
  {
   "cell_type": "markdown",
   "metadata": {
    "colab_type": "text",
    "id": "xtM9lYuuCgjD"
   },
   "source": [
    "We can also compare multiple embeddings:"
   ]
  },
  {
   "cell_type": "code",
   "execution_count": 8,
   "metadata": {
    "colab": {
     "base_uri": "https://localhost:8080/",
     "height": 303
    },
    "colab_type": "code",
    "id": "K6SADFGaCWUH",
    "outputId": "31280cc9-07ba-49df-f01a-9680bebc429a"
   },
   "outputs": [
    {
     "data": {
      "image/png": "[encoded data removed]",
      "text/plain": [
       "<Figure size 1200x500 with 2 Axes>"
      ]
     },
     "metadata": {},
     "output_type": "display_data"
    }
   ],
   "source": [
    "plot_embeddings([model['king'], model['man'], model['woman'], model['girl'], model['boy']],\n",
    "              ['king', 'man', 'woman', 'girl', 'boy'])"
   ]
  },
  {
   "cell_type": "markdown",
   "metadata": {
    "colab_type": "text",
    "id": "cz1-mreNClOK"
   },
   "source": [
    "Here's another example including a number of different concepts:"
   ]
  },
  {
   "cell_type": "code",
   "execution_count": 10,
   "metadata": {
    "colab": {
     "base_uri": "https://localhost:8080/",
     "height": 303
    },
    "colab_type": "code",
    "id": "cgBLjFK8_6FW",
    "outputId": "a4134d48-0252-404e-8e31-5dab9de3a9e4"
   },
   "outputs": [
    {
     "data": {
      "image/png": "[encoded data removed]",
      "text/plain": [
       "<Figure size 1200x500 with 2 Axes>"
      ]
     },
     "metadata": {},
     "output_type": "display_data"
    }
   ],
   "source": [
    "plot_embeddings([model['king'], model['water'], model['god'], model['love'], model['star']],\n",
    "              ['king', 'water', 'god', 'love', 'star'])"
   ]
  },
  {
   "cell_type": "markdown",
   "metadata": {
    "colab_type": "text",
    "id": "jjXRJTkH_6FZ"
   },
   "source": [
    "## Analogies\n",
    "### king - man + woman  = ?"
   ]
  },
  {
   "cell_type": "code",
   "execution_count": null,
   "metadata": {},
   "outputs": [],
   "source": []
  },
  {
   "cell_type": "code",
   "execution_count": 37,
   "metadata": {},
   "outputs": [
    {
     "data": {
      "text/plain": [
       "\u001b[1;31mSignature:\u001b[0m \u001b[0mmodel\u001b[0m\u001b[1;33m.\u001b[0m\u001b[0mmost_similar_to_given\u001b[0m\u001b[1;33m(\u001b[0m\u001b[0mkey1\u001b[0m\u001b[1;33m,\u001b[0m \u001b[0mkeys_list\u001b[0m\u001b[1;33m)\u001b[0m\u001b[1;33m\u001b[0m\u001b[1;33m\u001b[0m\u001b[0m\n",
       "\u001b[1;31mDocstring:\u001b[0m Get the `key` from `keys_list` most similar to `key1`.\n",
       "\u001b[1;31mFile:\u001b[0m      d:\\conda\\envs\\pip310ecco\\lib\\site-packages\\gensim\\models\\keyedvectors.py\n",
       "\u001b[1;31mType:\u001b[0m      method"
      ]
     },
     "metadata": {},
     "output_type": "display_data"
    }
   ],
   "source": [
    "model.most_similar_to_given?"
   ]
  },
  {
   "cell_type": "code",
   "execution_count": 39,
   "metadata": {},
   "outputs": [
    {
     "data": {
      "text/plain": [
       "\u001b[1;31mSignature:\u001b[0m\n",
       "\u001b[0mmodel\u001b[0m\u001b[1;33m.\u001b[0m\u001b[0mmost_similar\u001b[0m\u001b[1;33m(\u001b[0m\u001b[1;33m\n",
       "\u001b[0m    \u001b[0mpositive\u001b[0m\u001b[1;33m=\u001b[0m\u001b[1;32mNone\u001b[0m\u001b[1;33m,\u001b[0m\u001b[1;33m\n",
       "\u001b[0m    \u001b[0mnegative\u001b[0m\u001b[1;33m=\u001b[0m\u001b[1;32mNone\u001b[0m\u001b[1;33m,\u001b[0m\u001b[1;33m\n",
       "\u001b[0m    \u001b[0mtopn\u001b[0m\u001b[1;33m=\u001b[0m\u001b[1;36m10\u001b[0m\u001b[1;33m,\u001b[0m\u001b[1;33m\n",
       "\u001b[0m    \u001b[0mclip_start\u001b[0m\u001b[1;33m=\u001b[0m\u001b[1;36m0\u001b[0m\u001b[1;33m,\u001b[0m\u001b[1;33m\n",
       "\u001b[0m    \u001b[0mclip_end\u001b[0m\u001b[1;33m=\u001b[0m\u001b[1;32mNone\u001b[0m\u001b[1;33m,\u001b[0m\u001b[1;33m\n",
       "\u001b[0m    \u001b[0mrestrict_vocab\u001b[0m\u001b[1;33m=\u001b[0m\u001b[1;32mNone\u001b[0m\u001b[1;33m,\u001b[0m\u001b[1;33m\n",
       "\u001b[0m    \u001b[0mindexer\u001b[0m\u001b[1;33m=\u001b[0m\u001b[1;32mNone\u001b[0m\u001b[1;33m,\u001b[0m\u001b[1;33m\n",
       "\u001b[0m\u001b[1;33m)\u001b[0m\u001b[1;33m\u001b[0m\u001b[1;33m\u001b[0m\u001b[0m\n",
       "\u001b[1;31mDocstring:\u001b[0m\n",
       "Find the top-N most similar keys.\n",
       "Positive keys contribute positively towards the similarity, negative keys negatively.\n",
       "\n",
       "This method computes cosine similarity between a simple mean of the projection\n",
       "weight vectors of the given keys and the vectors for each key in the model.\n",
       "The method corresponds to the `word-analogy` and `distance` scripts in the original\n",
       "word2vec implementation.\n",
       "\n",
       "Parameters\n",
       "----------\n",
       "positive : list of (str or int or ndarray) or list of ((str,float) or (int,float) or (ndarray,float)), optional\n",
       "    List of keys that contribute positively. If tuple, second element specifies the weight (default `1.0`)\n",
       "negative : list of (str or int or ndarray) or list of ((str,float) or (int,float) or (ndarray,float)), optional\n",
       "    List of keys that contribute negatively. If tuple, second element specifies the weight (default `-1.0`)\n",
       "topn : int or None, optional\n",
       "    Number of top-N similar keys to return, when `topn` is int. When `topn` is None,\n",
       "    then similarities for all keys are returned.\n",
       "clip_start : int\n",
       "    Start clipping index.\n",
       "clip_end : int\n",
       "    End clipping index.\n",
       "restrict_vocab : int, optional\n",
       "    Optional integer which limits the range of vectors which\n",
       "    are searched for most-similar values. For example, restrict_vocab=10000 would\n",
       "    only check the first 10000 key vectors in the vocabulary order. (This may be\n",
       "    meaningful if you've sorted the vocabulary by descending frequency.) If\n",
       "    specified, overrides any values of ``clip_start`` or ``clip_end``.\n",
       "\n",
       "Returns\n",
       "-------\n",
       "list of (str, float) or numpy.array\n",
       "    When `topn` is int, a sequence of (key, similarity) is returned.\n",
       "    When `topn` is None, then similarities for all keys are returned as a\n",
       "    one-dimensional numpy array with the size of the vocabulary.\n",
       "\u001b[1;31mFile:\u001b[0m      d:\\conda\\envs\\pip310ecco\\lib\\site-packages\\gensim\\models\\keyedvectors.py\n",
       "\u001b[1;31mType:\u001b[0m      method"
      ]
     },
     "metadata": {},
     "output_type": "display_data"
    }
   ],
   "source": [
    "model.most_similar?"
   ]
  },
  {
   "cell_type": "code",
   "execution_count": null,
   "metadata": {},
   "outputs": [],
   "source": []
  },
  {
   "cell_type": "code",
   "execution_count": 44,
   "metadata": {},
   "outputs": [
    {
     "data": {
      "text/plain": [
       "[('queen', 0.8294),\n",
       " ('prince', 0.8288),\n",
       " ('son', 0.8283),\n",
       " ('father', 0.8177),\n",
       " ('brother', 0.8020),\n",
       " ('uncle', 0.7993),\n",
       " ('name', 0.7681),\n",
       " ('grandson', 0.7665),\n",
       " ('cousin', 0.7656),\n",
       " ('grandfather', 0.7559)]"
      ]
     },
     "execution_count": 44,
     "metadata": {},
     "output_type": "execute_result"
    }
   ],
   "source": [
    "model.most_similar(positive=[\"king\", (\"woman\", 0.25)]   )"
   ]
  },
  {
   "cell_type": "code",
   "execution_count": 18,
   "metadata": {
    "colab": {
     "base_uri": "https://localhost:8080/",
     "height": 187
    },
    "colab_type": "code",
    "id": "dXs2TVam_6Fa",
    "outputId": "40055f86-b4cb-4144-a5ac-c324f0f4edc3"
   },
   "outputs": [
    {
     "data": {
      "text/plain": [
       "[('father', 0.8826),\n",
       " ('mother', 0.8679),\n",
       " ('son', 0.8518),\n",
       " ('man', 0.8434),\n",
       " ('daughter', 0.8359),\n",
       " ('her', 0.8292),\n",
       " ('wife', 0.8247),\n",
       " ('queen', 0.8239),\n",
       " ('brother', 0.8123),\n",
       " ('she', 0.8077)]"
      ]
     },
     "execution_count": 18,
     "metadata": {},
     "output_type": "execute_result"
    }
   ],
   "source": [
    "model.most_similar(positive=[\"king\", \"woman\"]   )"
   ]
  },
  {
   "cell_type": "code",
   "execution_count": 19,
   "metadata": {
    "colab": {
     "base_uri": "https://localhost:8080/",
     "height": 187
    },
    "colab_type": "code",
    "id": "dXs2TVam_6Fa",
    "outputId": "40055f86-b4cb-4144-a5ac-c324f0f4edc3"
   },
   "outputs": [
    {
     "data": {
      "text/plain": [
       "[('queen', 0.8524),\n",
       " ('throne', 0.7664),\n",
       " ('prince', 0.7592),\n",
       " ('daughter', 0.7474),\n",
       " ('elizabeth', 0.7460),\n",
       " ('princess', 0.7425),\n",
       " ('kingdom', 0.7337),\n",
       " ('monarch', 0.7214),\n",
       " ('eldest', 0.7185),\n",
       " ('widow', 0.7099)]"
      ]
     },
     "execution_count": 19,
     "metadata": {},
     "output_type": "execute_result"
    }
   ],
   "source": [
    "model.most_similar(positive=[\"king\", \"woman\"], negative=[\"man\"])"
   ]
  },
  {
   "cell_type": "code",
   "execution_count": 56,
   "metadata": {
    "colab": {
     "base_uri": "https://localhost:8080/",
     "height": 303
    },
    "colab_type": "code",
    "id": "KMLRo6DW_6Fd",
    "outputId": "7f7d2afa-ccf4-4a56-9c0b-b49a725691bf"
   },
   "outputs": [
    {
     "data": {
      "image/png": "[encoded data removed]",
      "text/plain": [
       "<Figure size 864x360 with 2 Axes>"
      ]
     },
     "metadata": {
      "tags": []
     },
     "output_type": "display_data"
    }
   ],
   "source": [
    "plot_embeddings([model['king'], \n",
    "                model['man'], \n",
    "                model['woman'],\n",
    "                model['king'] - model['man'] + model['woman'],\n",
    "                model['queen']],\n",
    "                ['king', 'man', 'woman', 'king-man+woman', 'queen'])"
   ]
  },
  {
   "cell_type": "markdown",
   "metadata": {
    "colab_type": "text",
    "id": "Yl0kGOJn_6Fg"
   },
   "source": [
    "**2019 update**: This turned out to be a misconception. The result is actually closer to \"king\" than it is to \"queen\", it's just that the code rules out the input vectors as possible outputs   #aaaa\n",
    "\n",
    "\n",
    "[Fair is Better than Sensational:Man is to Doctor as Woman is to Doctor](https://arxiv.org/abs/1905.09866)\n",
    "\n",
    "To verify, let's calculate cosine distance between the result of the analogy, and `queen`."
   ]
  },
  {
   "cell_type": "code",
   "execution_count": 52,
   "metadata": {},
   "outputs": [
    {
     "data": {
      "text/plain": [
       "\u001b[1;31mSignature:\u001b[0m \u001b[0mcosine_similarity\u001b[0m\u001b[1;33m(\u001b[0m\u001b[0mX\u001b[0m\u001b[1;33m,\u001b[0m \u001b[0mY\u001b[0m\u001b[1;33m=\u001b[0m\u001b[1;32mNone\u001b[0m\u001b[1;33m,\u001b[0m \u001b[0mdense_output\u001b[0m\u001b[1;33m=\u001b[0m\u001b[1;32mTrue\u001b[0m\u001b[1;33m)\u001b[0m\u001b[1;33m\u001b[0m\u001b[1;33m\u001b[0m\u001b[0m\n",
       "\u001b[1;31mDocstring:\u001b[0m\n",
       "Compute cosine similarity between samples in X and Y.\n",
       "\n",
       "Cosine similarity, or the cosine kernel, computes similarity as the\n",
       "normalized dot product of X and Y:\n",
       "\n",
       "    K(X, Y) = <X, Y> / (||X||*||Y||)\n",
       "\n",
       "On L2-normalized data, this function is equivalent to linear_kernel.\n",
       "\n",
       "Read more in the :ref:`User Guide <cosine_similarity>`.\n",
       "\n",
       "Parameters\n",
       "----------\n",
       "X : {ndarray, sparse matrix} of shape (n_samples_X, n_features)\n",
       "    Input data.\n",
       "\n",
       "Y : {ndarray, sparse matrix} of shape (n_samples_Y, n_features),             default=None\n",
       "    Input data. If ``None``, the output will be the pairwise\n",
       "    similarities between all samples in ``X``.\n",
       "\n",
       "dense_output : bool, default=True\n",
       "    Whether to return dense output even when the input is sparse. If\n",
       "    ``False``, the output is sparse if both input arrays are sparse.\n",
       "\n",
       "    .. versionadded:: 0.17\n",
       "       parameter ``dense_output`` for dense output.\n",
       "\n",
       "Returns\n",
       "-------\n",
       "kernel matrix : ndarray of shape (n_samples_X, n_samples_Y)\n",
       "    Returns the cosine similarity between samples in X and Y.\n",
       "\u001b[1;31mFile:\u001b[0m      d:\\conda\\envs\\pip310ecco\\lib\\site-packages\\sklearn\\metrics\\pairwise.py\n",
       "\u001b[1;31mType:\u001b[0m      function"
      ]
     },
     "metadata": {},
     "output_type": "display_data"
    }
   ],
   "source": [
    "cosine_similarity?"
   ]
  },
  {
   "cell_type": "code",
   "execution_count": 48,
   "metadata": {},
   "outputs": [
    {
     "data": {
      "text/plain": [
       "((50,),\n",
       " array([ 0.4174,  0.9043, -1.005 , -0.062 ,  0.4973,  0.8067, -0.1486,\n",
       "         0.8037, -0.1565, -0.6697,  0.2344,  0.6248,  0.9259, -0.971 ,\n",
       "         0.9257,  0.8992, -1.546 , -0.5263,  0.137 ,  0.662 ,  0.4872,\n",
       "         0.3704, -0.2142,  0.101 ,  0.7136, -2.0875, -1.1362, -1.1496,\n",
       "        -0.536 ,  0.2739,  1.6723,  0.0293, -0.7766,  0.4606,  0.3487,\n",
       "        -0.0574,  0.1944, -0.2077, -0.7304, -0.1075,  0.2355,  0.9642,\n",
       "        -0.4699, -0.4873, -0.254 ,  0.4621, -0.6608, -1.9451, -0.688 ,\n",
       "        -0.4978], dtype=float32),\n",
       " (1, 50),\n",
       " array([[ 0.3785,  1.8233, -1.2648, -0.1043,  0.3583,  0.6003, -0.1754,\n",
       "          0.8377, -0.0568, -0.758 ,  0.2268,  0.9859,  0.6059, -0.3142,\n",
       "          0.2888,  0.5601, -0.7746,  0.0714, -0.5741,  0.2134,  0.5767,\n",
       "          0.3868, -0.1257,  0.2801,  0.2813, -1.8053, -1.0421, -0.1926,\n",
       "         -0.5537, -0.0545,  1.5574,  0.393 , -0.2475,  0.3425,  0.4536,\n",
       "          0.1624,  0.5246, -0.0703, -0.8374, -1.0326,  0.4595,  0.253 ,\n",
       "         -0.1784, -0.734 , -0.2002,  0.2347, -0.5609, -2.2839,  0.0093,\n",
       "         -0.6028]], dtype=float32))"
      ]
     },
     "execution_count": 48,
     "metadata": {},
     "output_type": "execute_result"
    }
   ],
   "source": [
    "result = model['king'] - model['man'] + model['woman']\n",
    "\n",
    "# Similarity between result and 'queen'\n",
    "(result.shape, result, result.reshape(1, -1).shape, model['queen'].reshape(1, -1))"
   ]
  },
  {
   "cell_type": "code",
   "execution_count": null,
   "metadata": {},
   "outputs": [],
   "source": []
  },
  {
   "cell_type": "code",
   "execution_count": null,
   "metadata": {},
   "outputs": [],
   "source": []
  },
  {
   "cell_type": "code",
   "execution_count": 35,
   "metadata": {
    "colab": {
     "base_uri": "https://localhost:8080/",
     "height": 34
    },
    "colab_type": "code",
    "id": "246SfDTN_6Fh",
    "outputId": "3800a072-81a3-4b0c-ba64-98b2ebc4835d"
   },
   "outputs": [
    {
     "data": {
      "text/plain": [
       "array([[0.8609581]], dtype=float32)"
      ]
     },
     "execution_count": 35,
     "metadata": {
      "tags": []
     },
     "output_type": "execute_result"
    }
   ],
   "source": [
    "result = model['king'] - model['man'] + model['woman']\n",
    "\n",
    "# Similarity between result and 'queen'\n",
    "cosine_similarity(result.reshape(1, -1), model['queen'].reshape(1, -1))"
   ]
  },
  {
   "cell_type": "markdown",
   "metadata": {
    "colab_type": "text",
    "id": "nLouwuAzC80t"
   },
   "source": [
    "Let's compare that to the distance between the result and `king`:"
   ]
  },
  {
   "cell_type": "code",
   "execution_count": 36,
   "metadata": {
    "colab": {
     "base_uri": "https://localhost:8080/",
     "height": 34
    },
    "colab_type": "code",
    "id": "eRL5BTC0_6Fk",
    "outputId": "b7d0dca9-4502-4878-b266-4eacf86fcb23"
   },
   "outputs": [
    {
     "data": {
      "text/plain": [
       "array([[0.8859834]], dtype=float32)"
      ]
     },
     "execution_count": 36,
     "metadata": {
      "tags": []
     },
     "output_type": "execute_result"
    }
   ],
   "source": [
    "# Similarity between result and 'king'\n",
    "cosine_similarity(result.reshape(1, -1), model['king'].reshape(1, -1))"
   ]
  },
  {
   "cell_type": "markdown",
   "metadata": {
    "colab_type": "text",
    "id": "Vs7wB08b_6Fx"
   },
   "source": [
    "So the result is more similar to king (0.8859834 similarity score) than it is to queen (0.8609581 similarity score)."
   ]
  },
  {
   "cell_type": "code",
   "execution_count": 50,
   "metadata": {
    "colab": {
     "base_uri": "https://localhost:8080/",
     "height": 243
    },
    "colab_type": "code",
    "id": "khmA8TJI_6Fy",
    "outputId": "4d3b7c65-e10e-4109-f2e2-848429b61699"
   },
   "outputs": [
    {
     "data": {
      "image/png": "[encoded data removed]",
      "text/plain": [
       "<Figure size 1200x300 with 2 Axes>"
      ]
     },
     "metadata": {},
     "output_type": "display_data"
    }
   ],
   "source": [
    "plot_embeddings( [model['king'],\n",
    "                 result, \n",
    "                 model['queen']],\n",
    "                 ['king', 'k-m+w', 'queen'])"
   ]
  },
  {
   "cell_type": "markdown",
   "metadata": {
    "colab_type": "text",
    "id": "zwc6OsJv_6F1"
   },
   "source": [
    "## Exercise: doctor - man + woman = ?"
   ]
  },
  {
   "cell_type": "code",
   "execution_count": null,
   "metadata": {
    "colab": {},
    "colab_type": "code",
    "id": "Y-oqYbHn_6F2"
   },
   "outputs": [],
   "source": [
    "# TODO: fill-in values\n",
    "model.most_similar(positive=[], negative=[])"
   ]
  },
  {
   "cell_type": "markdown",
   "metadata": {
    "colab_type": "text",
    "id": "mw4vDdlN_6F6"
   },
   "source": [
    "### Verify: Is it, really?"
   ]
  },
  {
   "cell_type": "code",
   "execution_count": null,
   "metadata": {
    "colab": {},
    "colab_type": "code",
    "id": "-AMCMD_m_6F7"
   },
   "outputs": [],
   "source": [
    "# TODO: do analogy algebra\n",
    "result = model[''] - model[''] + model['']\n",
    "\n",
    "# Similarity between result and 'nurse'\n",
    "cosine_similarity(result.reshape(1, -1), model['nurse'].reshape(1, -1))"
   ]
  },
  {
   "cell_type": "code",
   "execution_count": null,
   "metadata": {
    "colab": {},
    "colab_type": "code",
    "id": "0f5JXIsF_6F9"
   },
   "outputs": [],
   "source": [
    "\n",
    "# Similarity between result and 'doctor'\n",
    "cosine_similarity(result.reshape(1, -1), model['doctor'].reshape(1, -1))"
   ]
  }
 ],
 "metadata": {
  "colab": {
   "include_colab_link": true,
   "name": "01 - Trained Word Embeddings with Gensim.ipynb",
   "provenance": []
  },
  "kernelspec": {
   "display_name": "Python 3 (ipykernel)",
   "language": "python",
   "name": "python3"
  },
  "language_info": {
   "codemirror_mode": {
    "name": "ipython",
    "version": 3
   },
   "file_extension": ".py",
   "mimetype": "text/x-python",
   "name": "python",
   "nbconvert_exporter": "python",
   "pygments_lexer": "ipython3",
   "version": "3.10.10"
  }
 },
 "nbformat": 4,
 "nbformat_minor": 4
}
