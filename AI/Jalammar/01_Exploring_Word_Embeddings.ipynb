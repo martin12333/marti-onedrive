{
 "cells": [
  {
   "cell_type": "code",
   "execution_count": 1,
   "metadata": {},
   "outputs": [],
   "source": [
    "#mm many additional \"queries\"\n",
    "#aaa"
   ]
  },
  {
   "cell_type": "code",
   "execution_count": null,
   "metadata": {},
   "outputs": [],
   "source": []
  },
  {
   "cell_type": "code",
   "execution_count": 98,
   "metadata": {},
   "outputs": [
    {
     "data": {
      "text/plain": [
       "'%.2f'"
      ]
     },
     "execution_count": 98,
     "metadata": {},
     "output_type": "execute_result"
    }
   ],
   "source": [
    "import numpy as np\n",
    "\n",
    "np.set_printoptions(threshold=20)\n",
    "np.set_printoptions(threshold=400)\n",
    "\n",
    "np.set_printoptions(edgeitems=10)\n",
    "\n",
    "np.set_printoptions(precision=4)\n",
    "#np.set_printoptions(precision=3)\n",
    "np.set_printoptions(precision=2)\n",
    "#np.set_printoptions(precision=1)\n",
    "#np.set_printoptions(precision=0)\n",
    "\n",
    "%precision 4\n",
    "%precision 2\n",
    "#%precision 1\n"
   ]
  },
  {
   "cell_type": "code",
   "execution_count": null,
   "metadata": {},
   "outputs": [],
   "source": []
  },
  {
   "cell_type": "markdown",
   "metadata": {
    "jp-MarkdownHeadingCollapsed": true,
    "tags": []
   },
   "source": [
    "# gensim"
   ]
  },
  {
   "cell_type": "code",
   "execution_count": 175,
   "metadata": {
    "tags": []
   },
   "outputs": [
    {
     "ename": "SyntaxError",
     "evalue": "invalid syntax (416204676.py, line 2)",
     "output_type": "error",
     "traceback": [
      "\u001b[1;36m  Cell \u001b[1;32mIn[175], line 2\u001b[1;36m\u001b[0m\n\u001b[1;33m    gensim.matutils.argsort(x, topn=None, reverse=False)?\u001b[0m\n\u001b[1;37m                                                        ^\u001b[0m\n\u001b[1;31mSyntaxError\u001b[0m\u001b[1;31m:\u001b[0m invalid syntax\n"
     ]
    }
   ],
   "source": [
    "gensim.matutils.unitvec?\n",
    "gensim.matutils.argsort(x, topn=None, reverse=False)?\n"
   ]
  },
  {
   "cell_type": "code",
   "execution_count": 88,
   "metadata": {
    "collapsed": true,
    "jupyter": {
     "outputs_hidden": true
    },
    "tags": []
   },
   "outputs": [
    {
     "data": {
      "text/plain": [
       "\u001b[1;31mType:\u001b[0m        module\n",
       "\u001b[1;31mString form:\u001b[0m <module 'sklearn.decomposition' from 'D:\\\\conda\\\\envs\\\\pip310ecco\\\\lib\\\\site-packages\\\\sklearn\\\\decomposition\\\\__init__.py'>\n",
       "\u001b[1;31mFile:\u001b[0m        d:\\conda\\envs\\pip310ecco\\lib\\site-packages\\sklearn\\decomposition\\__init__.py\n",
       "\u001b[1;31mDocstring:\u001b[0m  \n",
       "The :mod:`sklearn.decomposition` module includes matrix decomposition\n",
       "algorithms, including among others PCA, NMF or ICA. Most of the algorithms of\n",
       "this module can be regarded as dimensionality reduction techniques."
      ]
     },
     "metadata": {},
     "output_type": "display_data"
    }
   ],
   "source": [
    "#import sklearn.feature_selection\n",
    "#import sklearn.feature_extraction.text\n",
    "import sklearn.linear_model\n",
    "import sklearn.decomposition\n",
    "sklearn.decomposition?\n",
    "#sklearn.linear_model?\n",
    "\n"
   ]
  },
  {
   "cell_type": "code",
   "execution_count": 236,
   "metadata": {
    "collapsed": true,
    "jupyter": {
     "outputs_hidden": true
    },
    "tags": []
   },
   "outputs": [
    {
     "data": {
      "text/plain": [
       "\u001b[1;31mType:\u001b[0m        module\n",
       "\u001b[1;31mString form:\u001b[0m <module 'scipy.linalg' from 'D:\\\\conda\\\\envs\\\\pip310ecco\\\\lib\\\\site-packages\\\\scipy\\\\linalg\\\\__init__.py'>\n",
       "\u001b[1;31mFile:\u001b[0m        d:\\conda\\envs\\pip310ecco\\lib\\site-packages\\scipy\\linalg\\__init__.py\n",
       "\u001b[1;31mDocstring:\u001b[0m  \n",
       "====================================\n",
       "Linear algebra (:mod:`scipy.linalg`)\n",
       "====================================\n",
       "\n",
       ".. currentmodule:: scipy.linalg\n",
       "\n",
       "Linear algebra functions.\n",
       "\n",
       ".. eventually, we should replace the numpy.linalg HTML link with just `numpy.linalg`\n",
       "\n",
       ".. seealso::\n",
       "\n",
       "   `numpy.linalg <https://www.numpy.org/devdocs/reference/routines.linalg.html>`__\n",
       "   for more linear algebra functions. Note that\n",
       "   although `scipy.linalg` imports most of them, identically named\n",
       "   functions from `scipy.linalg` may offer more or slightly differing\n",
       "   functionality.\n",
       "\n",
       "\n",
       "Basics\n",
       "======\n",
       "\n",
       ".. autosummary::\n",
       "   :toctree: generated/\n",
       "\n",
       "   inv - Find the inverse of a square matrix\n",
       "   solve - Solve a linear system of equations\n",
       "   solve_banded - Solve a banded linear system\n",
       "   solveh_banded - Solve a Hermitian or symmetric banded system\n",
       "   solve_circulant - Solve a circulant system\n",
       "   solve_triangular - Solve a triangular matrix\n",
       "   solve_toeplitz - Solve a toeplitz matrix\n",
       "   matmul_toeplitz - Multiply a Toeplitz matrix with an array.\n",
       "   det - Find the determinant of a square matrix\n",
       "   norm - Matrix and vector norm\n",
       "   lstsq - Solve a linear least-squares problem\n",
       "   pinv - Pseudo-inverse (Moore-Penrose) using lstsq\n",
       "   pinvh - Pseudo-inverse of hermitian matrix\n",
       "   kron - Kronecker product of two arrays\n",
       "   khatri_rao - Khatri-Rao product of two arrays\n",
       "   tril - Construct a lower-triangular matrix from a given matrix\n",
       "   triu - Construct an upper-triangular matrix from a given matrix\n",
       "   orthogonal_procrustes - Solve an orthogonal Procrustes problem\n",
       "   matrix_balance - Balance matrix entries with a similarity transformation\n",
       "   subspace_angles - Compute the subspace angles between two matrices\n",
       "   bandwidth - Return the lower and upper bandwidth of an array\n",
       "   issymmetric - Check if a square 2D array is symmetric\n",
       "   ishermitian - Check if a square 2D array is Hermitian\n",
       "   LinAlgError\n",
       "   LinAlgWarning\n",
       "\n",
       "Eigenvalue Problems\n",
       "===================\n",
       "\n",
       ".. autosummary::\n",
       "   :toctree: generated/\n",
       "\n",
       "   eig - Find the eigenvalues and eigenvectors of a square matrix\n",
       "   eigvals - Find just the eigenvalues of a square matrix\n",
       "   eigh - Find the e-vals and e-vectors of a Hermitian or symmetric matrix\n",
       "   eigvalsh - Find just the eigenvalues of a Hermitian or symmetric matrix\n",
       "   eig_banded - Find the eigenvalues and eigenvectors of a banded matrix\n",
       "   eigvals_banded - Find just the eigenvalues of a banded matrix\n",
       "   eigh_tridiagonal - Find the eigenvalues and eigenvectors of a tridiagonal matrix\n",
       "   eigvalsh_tridiagonal - Find just the eigenvalues of a tridiagonal matrix\n",
       "\n",
       "Decompositions\n",
       "==============\n",
       "\n",
       ".. autosummary::\n",
       "   :toctree: generated/\n",
       "\n",
       "   lu - LU decomposition of a matrix\n",
       "   lu_factor - LU decomposition returning unordered matrix and pivots\n",
       "   lu_solve - Solve Ax=b using back substitution with output of lu_factor\n",
       "   svd - Singular value decomposition of a matrix\n",
       "   svdvals - Singular values of a matrix\n",
       "   diagsvd - Construct matrix of singular values from output of svd\n",
       "   orth - Construct orthonormal basis for the range of A using svd\n",
       "   null_space - Construct orthonormal basis for the null space of A using svd\n",
       "   ldl - LDL.T decomposition of a Hermitian or a symmetric matrix.\n",
       "   cholesky - Cholesky decomposition of a matrix\n",
       "   cholesky_banded - Cholesky decomp. of a sym. or Hermitian banded matrix\n",
       "   cho_factor - Cholesky decomposition for use in solving a linear system\n",
       "   cho_solve - Solve previously factored linear system\n",
       "   cho_solve_banded - Solve previously factored banded linear system\n",
       "   polar - Compute the polar decomposition.\n",
       "   qr - QR decomposition of a matrix\n",
       "   qr_multiply - QR decomposition and multiplication by Q\n",
       "   qr_update - Rank k QR update\n",
       "   qr_delete - QR downdate on row or column deletion\n",
       "   qr_insert - QR update on row or column insertion\n",
       "   rq - RQ decomposition of a matrix\n",
       "   qz - QZ decomposition of a pair of matrices\n",
       "   ordqz - QZ decomposition of a pair of matrices with reordering\n",
       "   schur - Schur decomposition of a matrix\n",
       "   rsf2csf - Real to complex Schur form\n",
       "   hessenberg - Hessenberg form of a matrix\n",
       "   cdf2rdf - Complex diagonal form to real diagonal block form\n",
       "   cossin - Cosine sine decomposition of a unitary or orthogonal matrix\n",
       "\n",
       ".. seealso::\n",
       "\n",
       "   `scipy.linalg.interpolative` -- Interpolative matrix decompositions\n",
       "\n",
       "\n",
       "Matrix Functions\n",
       "================\n",
       "\n",
       ".. autosummary::\n",
       "   :toctree: generated/\n",
       "\n",
       "   expm - Matrix exponential\n",
       "   logm - Matrix logarithm\n",
       "   cosm - Matrix cosine\n",
       "   sinm - Matrix sine\n",
       "   tanm - Matrix tangent\n",
       "   coshm - Matrix hyperbolic cosine\n",
       "   sinhm - Matrix hyperbolic sine\n",
       "   tanhm - Matrix hyperbolic tangent\n",
       "   signm - Matrix sign\n",
       "   sqrtm - Matrix square root\n",
       "   funm - Evaluating an arbitrary matrix function\n",
       "   expm_frechet - Frechet derivative of the matrix exponential\n",
       "   expm_cond - Relative condition number of expm in the Frobenius norm\n",
       "   fractional_matrix_power - Fractional matrix power\n",
       "\n",
       "\n",
       "Matrix Equation Solvers\n",
       "=======================\n",
       "\n",
       ".. autosummary::\n",
       "   :toctree: generated/\n",
       "\n",
       "   solve_sylvester - Solve the Sylvester matrix equation\n",
       "   solve_continuous_are - Solve the continuous-time algebraic Riccati equation\n",
       "   solve_discrete_are - Solve the discrete-time algebraic Riccati equation\n",
       "   solve_continuous_lyapunov - Solve the continuous-time Lyapunov equation\n",
       "   solve_discrete_lyapunov - Solve the discrete-time Lyapunov equation\n",
       "\n",
       "\n",
       "Sketches and Random Projections\n",
       "===============================\n",
       "\n",
       ".. autosummary::\n",
       "   :toctree: generated/\n",
       "\n",
       "   clarkson_woodruff_transform - Applies the Clarkson Woodruff Sketch (a.k.a CountMin Sketch)\n",
       "\n",
       "Special Matrices\n",
       "================\n",
       "\n",
       ".. autosummary::\n",
       "   :toctree: generated/\n",
       "\n",
       "   block_diag - Construct a block diagonal matrix from submatrices\n",
       "   circulant - Circulant matrix\n",
       "   companion - Companion matrix\n",
       "   convolution_matrix - Convolution matrix\n",
       "   dft - Discrete Fourier transform matrix\n",
       "   fiedler - Fiedler matrix\n",
       "   fiedler_companion - Fiedler companion matrix\n",
       "   hadamard - Hadamard matrix of order 2**n\n",
       "   hankel - Hankel matrix\n",
       "   helmert - Helmert matrix\n",
       "   hilbert - Hilbert matrix\n",
       "   invhilbert - Inverse Hilbert matrix\n",
       "   leslie - Leslie matrix\n",
       "   pascal - Pascal matrix\n",
       "   invpascal - Inverse Pascal matrix\n",
       "   toeplitz - Toeplitz matrix\n",
       "   tri - Construct a matrix filled with ones at and below a given diagonal\n",
       "\n",
       "Low-level routines\n",
       "==================\n",
       "\n",
       ".. autosummary::\n",
       "   :toctree: generated/\n",
       "\n",
       "   get_blas_funcs\n",
       "   get_lapack_funcs\n",
       "   find_best_blas_type\n",
       "\n",
       ".. seealso::\n",
       "\n",
       "   `scipy.linalg.blas` -- Low-level BLAS functions\n",
       "\n",
       "   `scipy.linalg.lapack` -- Low-level LAPACK functions\n",
       "\n",
       "   `scipy.linalg.cython_blas` -- Low-level BLAS functions for Cython\n",
       "\n",
       "   `scipy.linalg.cython_lapack` -- Low-level LAPACK functions for Cython"
      ]
     },
     "metadata": {},
     "output_type": "display_data"
    }
   ],
   "source": [
    "import numpy.linalg\n",
    "\n",
    "#numpy.linalg.linalg?\n",
    "#numpy.linalg?\n",
    "#numpy.matlib?\n",
    "#numpy.matrixlib?\n",
    "#numpy.dual?\n",
    "\n",
    "import scipy.linalg\n",
    "#dir(scipy.linalg)\n",
    "\n",
    "scipy.linalg?\n",
    "\n",
    "#dir(scipy)"
   ]
  },
  {
   "cell_type": "code",
   "execution_count": null,
   "metadata": {},
   "outputs": [],
   "source": []
  },
  {
   "cell_type": "code",
   "execution_count": null,
   "metadata": {},
   "outputs": [],
   "source": []
  },
  {
   "cell_type": "code",
   "execution_count": null,
   "metadata": {},
   "outputs": [],
   "source": []
  },
  {
   "cell_type": "code",
   "execution_count": null,
   "metadata": {},
   "outputs": [],
   "source": []
  },
  {
   "cell_type": "code",
   "execution_count": null,
   "metadata": {},
   "outputs": [],
   "source": []
  },
  {
   "cell_type": "raw",
   "metadata": {
    "colab_type": "text",
    "id": "view-in-github"
   },
   "source": [
    "<a href=\"https://colab.research.google.com/github/jalammar/jalammar.github.io/blob/master/notebooks/nlp/01_Exploring_Word_Embeddings.ipynb\" target=\"_parent\"><img src=\"https://colab.research.google.com/assets/colab-badge.svg\" alt=\"Open In Colab\"/></a>"
   ]
  },
  {
   "cell_type": "markdown",
   "metadata": {
    "colab_type": "text",
    "id": "qrmlikzE_6Er",
    "tags": []
   },
   "source": [
    "# 01 - Exploring Word Embeddings\n",
    "In this notebook, we'll look at trained word embeddings. We'll plot the embeddings so we can attempt to visually compare embeddings. We'll then look at analogies and word similarities. We'll use the Gensim library which makes it easy to work with embeddings."
   ]
  },
  {
   "cell_type": "code",
   "execution_count": null,
   "metadata": {},
   "outputs": [],
   "source": []
  },
  {
   "cell_type": "code",
   "execution_count": 35,
   "metadata": {},
   "outputs": [],
   "source": [
    "import sklearn"
   ]
  },
  {
   "cell_type": "code",
   "execution_count": 59,
   "metadata": {},
   "outputs": [],
   "source": [
    "import sklearn.metrics.pairwise"
   ]
  },
  {
   "cell_type": "code",
   "execution_count": 36,
   "metadata": {
    "collapsed": true,
    "jupyter": {
     "outputs_hidden": true
    },
    "tags": []
   },
   "outputs": [
    {
     "data": {
      "text/plain": [
       "{'cityblock': <function sklearn.metrics.pairwise.manhattan_distances(X, Y=None, *, sum_over_features='deprecated')>,\n",
       " 'cosine': <function sklearn.metrics.pairwise.cosine_distances(X, Y=None)>,\n",
       " 'euclidean': <function sklearn.metrics.pairwise.euclidean_distances(X, Y=None, *, Y_norm_squared=None, squared=False, X_norm_squared=None)>,\n",
       " 'haversine': <function sklearn.metrics.pairwise.haversine_distances(X, Y=None)>,\n",
       " 'l2': <function sklearn.metrics.pairwise.euclidean_distances(X, Y=None, *, Y_norm_squared=None, squared=False, X_norm_squared=None)>,\n",
       " 'l1': <function sklearn.metrics.pairwise.manhattan_distances(X, Y=None, *, sum_over_features='deprecated')>,\n",
       " 'manhattan': <function sklearn.metrics.pairwise.manhattan_distances(X, Y=None, *, sum_over_features='deprecated')>,\n",
       " 'precomputed': None,\n",
       " 'nan_euclidean': <function sklearn.metrics.pairwise.nan_euclidean_distances(X, Y=None, *, squared=False, missing_values=nan, copy=True)>}"
      ]
     },
     "execution_count": 36,
     "metadata": {},
     "output_type": "execute_result"
    }
   ],
   "source": [
    "sklearn.metrics.pairwise.distance_metrics()"
   ]
  },
  {
   "cell_type": "code",
   "execution_count": null,
   "metadata": {},
   "outputs": [],
   "source": []
  },
  {
   "cell_type": "code",
   "execution_count": 60,
   "metadata": {
    "collapsed": true,
    "jupyter": {
     "outputs_hidden": true
    },
    "tags": []
   },
   "outputs": [
    {
     "data": {
      "text/plain": [
       "['ArgKmin',\n",
       " 'DataConversionWarning',\n",
       " 'KERNEL_PARAMS',\n",
       " 'PAIRED_DISTANCES',\n",
       " 'PAIRWISE_BOOLEAN_FUNCTIONS',\n",
       " 'PAIRWISE_DISTANCE_FUNCTIONS',\n",
       " 'PAIRWISE_KERNEL_FUNCTIONS',\n",
       " 'Parallel',\n",
       " '_NAN_METRICS',\n",
       " '_VALID_METRICS',\n",
       " '__builtins__',\n",
       " '__cached__',\n",
       " '__doc__',\n",
       " '__file__',\n",
       " '__loader__',\n",
       " '__name__',\n",
       " '__package__',\n",
       " '__spec__',\n",
       " '_argmin_min_reduce',\n",
       " '_argmin_reduce',\n",
       " '_check_chunk_size',\n",
       " '_chi2_kernel_fast',\n",
       " '_dist_wrapper',\n",
       " '_euclidean_distances',\n",
       " '_euclidean_distances_upcast',\n",
       " '_get_mask',\n",
       " '_num_samples',\n",
       " '_pairwise_callable',\n",
       " '_parallel_pairwise',\n",
       " '_precompute_metric_params',\n",
       " '_return_float_dtype',\n",
       " '_sparse_manhattan',\n",
       " 'additive_chi2_kernel',\n",
       " 'check_array',\n",
       " 'check_non_negative',\n",
       " 'check_paired_arrays',\n",
       " 'check_pairwise_arrays',\n",
       " 'chi2_kernel',\n",
       " 'config_context',\n",
       " 'cosine_distances',\n",
       " 'cosine_similarity',\n",
       " 'csr_matrix',\n",
       " 'delayed',\n",
       " 'distance',\n",
       " 'distance_metrics',\n",
       " 'effective_n_jobs',\n",
       " 'euclidean_distances',\n",
       " 'gen_batches',\n",
       " 'gen_even_slices',\n",
       " 'get_chunk_n_rows',\n",
       " 'haversine_distances',\n",
       " 'is_scalar_nan',\n",
       " 'issparse',\n",
       " 'itertools',\n",
       " 'kernel_metrics',\n",
       " 'laplacian_kernel',\n",
       " 'linear_kernel',\n",
       " 'manhattan_distances',\n",
       " 'nan_euclidean_distances',\n",
       " 'normalize',\n",
       " 'np',\n",
       " 'paired_cosine_distances',\n",
       " 'paired_distances',\n",
       " 'paired_euclidean_distances',\n",
       " 'paired_manhattan_distances',\n",
       " 'pairwise_distances',\n",
       " 'pairwise_distances_argmin',\n",
       " 'pairwise_distances_argmin_min',\n",
       " 'pairwise_distances_chunked',\n",
       " 'pairwise_kernels',\n",
       " 'parse_version',\n",
       " 'partial',\n",
       " 'polynomial_kernel',\n",
       " 'rbf_kernel',\n",
       " 'row_norms',\n",
       " 'safe_sparse_dot',\n",
       " 'sigmoid_kernel',\n",
       " 'sp_version',\n",
       " 'warnings']"
      ]
     },
     "execution_count": 60,
     "metadata": {},
     "output_type": "execute_result"
    }
   ],
   "source": [
    "dir(sklearn.metrics.pairwise)"
   ]
  },
  {
   "cell_type": "code",
   "execution_count": null,
   "metadata": {},
   "outputs": [],
   "source": []
  },
  {
   "cell_type": "code",
   "execution_count": null,
   "metadata": {},
   "outputs": [],
   "source": []
  },
  {
   "cell_type": "code",
   "execution_count": 3,
   "metadata": {
    "colab": {},
    "colab_type": "code",
    "id": "xB1y1EFC_6Eu"
   },
   "outputs": [],
   "source": [
    "import gensim\n",
    "import gensim.downloader as api\n",
    "from sklearn.metrics.pairwise import cosine_similarity\n",
    "import seaborn as sns\n",
    "import matplotlib.pyplot as plt\n",
    "import warnings\n",
    "\n",
    "# warnings.filterwarnings('ignore') #mm?"
   ]
  },
  {
   "cell_type": "markdown",
   "metadata": {
    "colab_type": "text",
    "id": "AlYeTyjz_6Ey"
   },
   "source": [
    "# Download a table of pre-trained embeddings"
   ]
  },
  {
   "cell_type": "code",
   "execution_count": null,
   "metadata": {},
   "outputs": [],
   "source": []
  },
  {
   "cell_type": "code",
   "execution_count": null,
   "metadata": {},
   "outputs": [],
   "source": []
  },
  {
   "cell_type": "code",
   "execution_count": 76,
   "metadata": {},
   "outputs": [],
   "source": [
    "# https://huggingface.co/gpt2\n",
    "from transformers import AutoTokenizer, AutoModelForCausalLM\n",
    "\n",
    "tokenizer = AutoTokenizer.from_pretrained(\"gpt2\")\n",
    "\n",
    "trmodel = AutoModelForCausalLM.from_pretrained(\"gpt2\")"
   ]
  },
  {
   "cell_type": "code",
   "execution_count": 54,
   "metadata": {},
   "outputs": [
    {
     "name": "stderr",
     "output_type": "stream",
     "text": [
      "D:\\conda\\envs\\pip310ecco\\lib\\site-packages\\transformers\\models\\auto\\modeling_auto.py:1352: FutureWarning: The class `AutoModelWithLMHead` is deprecated and will be removed in a future version. Please use `AutoModelForCausalLM` for causal language models, `AutoModelForMaskedLM` for masked language models and `AutoModelForSeq2SeqLM` for encoder-decoder models.\n",
      "  warnings.warn(\n"
     ]
    }
   ],
   "source": [
    "# https://huggingface.co/fxmarty/tiny-testing-gpt2-remote-code\n",
    "\n",
    "from transformers import AutoTokenizer, AutoModelWithLMHead   #,  TFAutoModel\n",
    "\n",
    "tokenizer = AutoTokenizer.from_pretrained(\"fxmarty/tiny-testing-gpt2-remote-code\")\n",
    "\n",
    "####model = TFAutoModel.from_pretrained(\"fxmarty/tiny-testing-gpt2-remote-code\" ) #  ,  from_pt=True)  \n",
    "trmodel = AutoModelWithLMHead.from_pretrained(\"fxmarty/tiny-testing-gpt2-remote-code\" ) #  ,  from_pt=True)  "
   ]
  },
  {
   "cell_type": "code",
   "execution_count": 50,
   "metadata": {},
   "outputs": [],
   "source": [
    "# https://huggingface.co/sshleifer/tiny-gpt2\n",
    "from transformers import AutoTokenizer, AutoModelForCausalLM  #, TFAutoModelForCausalLM\n",
    "\n",
    "tokenizer = AutoTokenizer.from_pretrained(\"sshleifer/tiny-gpt2\")\n",
    "\n",
    "trmodel =  AutoModelForCausalLM.from_pretrained(\"sshleifer/tiny-gpt2\"  ) # ,  from_pt=True)"
   ]
  },
  {
   "cell_type": "code",
   "execution_count": 77,
   "metadata": {},
   "outputs": [
    {
     "data": {
      "text/plain": [
       "(50257, 768)"
      ]
     },
     "execution_count": 77,
     "metadata": {},
     "output_type": "execute_result"
    }
   ],
   "source": [
    "vectors =  trmodel.transformer.wte.weight.detach().numpy()\n",
    "vectors.shape"
   ]
  },
  {
   "cell_type": "code",
   "execution_count": 78,
   "metadata": {},
   "outputs": [
    {
     "data": {
      "text/plain": [
       "\u001b[1;31mSignature:\u001b[0m \u001b[0mmodel\u001b[0m\u001b[1;33m.\u001b[0m\u001b[0madd_vectors\u001b[0m\u001b[1;33m(\u001b[0m\u001b[0mkeys\u001b[0m\u001b[1;33m,\u001b[0m \u001b[0mweights\u001b[0m\u001b[1;33m,\u001b[0m \u001b[0mextras\u001b[0m\u001b[1;33m=\u001b[0m\u001b[1;32mNone\u001b[0m\u001b[1;33m,\u001b[0m \u001b[0mreplace\u001b[0m\u001b[1;33m=\u001b[0m\u001b[1;32mFalse\u001b[0m\u001b[1;33m)\u001b[0m\u001b[1;33m\u001b[0m\u001b[1;33m\u001b[0m\u001b[0m\n",
       "\u001b[1;31mDocstring:\u001b[0m\n",
       "Append keys and their vectors in a manual way.\n",
       "If some key is already in the vocabulary, the old vector is kept unless `replace` flag is True.\n",
       "\n",
       "Parameters\n",
       "----------\n",
       "keys : list of (str or int)\n",
       "    Keys specified by string or int ids.\n",
       "weights: list of numpy.ndarray or numpy.ndarray\n",
       "    List of 1D np.array vectors or a 2D np.array of vectors.\n",
       "replace: bool, optional\n",
       "    Flag indicating whether to replace vectors for keys which already exist in the map;\n",
       "    if True - replace vectors, otherwise - keep old vectors.\n",
       "\u001b[1;31mFile:\u001b[0m      d:\\conda\\envs\\pip310ecco\\lib\\site-packages\\gensim\\models\\keyedvectors.py\n",
       "\u001b[1;31mType:\u001b[0m      method"
      ]
     },
     "metadata": {},
     "output_type": "display_data"
    }
   ],
   "source": [
    "from gensim.models import KeyedVectors\n",
    "model.add_vectors?\n"
   ]
  },
  {
   "cell_type": "code",
   "execution_count": 85,
   "metadata": {},
   "outputs": [
    {
     "data": {
      "text/plain": [
       "gensim.models.keyedvectors.KeyedVectors"
      ]
     },
     "execution_count": 85,
     "metadata": {},
     "output_type": "execute_result"
    }
   ],
   "source": [
    "#model = KeyedVectors(32)\n",
    "modelfromtr = KeyedVectors(vectors.shape[1])\n",
    "type(model)"
   ]
  },
  {
   "cell_type": "code",
   "execution_count": null,
   "metadata": {},
   "outputs": [],
   "source": []
  },
  {
   "cell_type": "code",
   "execution_count": 86,
   "metadata": {},
   "outputs": [],
   "source": [
    "\n",
    "vocab_dict = tokenizer.get_vocab()\n",
    "\n",
    "vocab = [k for k, v in sorted(vocab_dict.items(), key=lambda x: x[1])]  #aaaa\n"
   ]
  },
  {
   "cell_type": "code",
   "execution_count": 87,
   "metadata": {},
   "outputs": [
    {
     "data": {
      "text/plain": [
       "['!', '\"', '#', '$', '%', '&', \"'\", '(', ')', '*']"
      ]
     },
     "execution_count": 87,
     "metadata": {},
     "output_type": "execute_result"
    }
   ],
   "source": [
    "vocab[:10]"
   ]
  },
  {
   "cell_type": "code",
   "execution_count": 88,
   "metadata": {},
   "outputs": [],
   "source": [
    "#words = myarray[:,0]\n",
    "#words = ['a','b']\n",
    "words = vocab\n",
    "#vectors = myarray[:,1:]\n",
    "#vectors = np.random.randn(2,3)"
   ]
  },
  {
   "cell_type": "code",
   "execution_count": 89,
   "metadata": {},
   "outputs": [],
   "source": [
    "modelfromtr.add_vectors(words, vectors, replace=True)\n"
   ]
  },
  {
   "cell_type": "code",
   "execution_count": 111,
   "metadata": {},
   "outputs": [],
   "source": [
    "#modelfromtr.save('d:/ai/mymodel.gensim')\n",
    "#modelfromtr.save('c:/Users/marti/gensim-data/mymodel.gensim')\n",
    "\n",
    "import json\n",
    "\n",
    "\n",
    "# save the list to a file\n",
    "#with open('my_list.json', 'w') as f:\n",
    "    #json.dump(words, f)\n",
    "\n",
    "# load the list from the file\n",
    "#with open('my_list.json', 'r') as f:\n",
    "    #my_loaded_list = json.load(f)\n",
    "\n"
   ]
  },
  {
   "cell_type": "code",
   "execution_count": 91,
   "metadata": {},
   "outputs": [],
   "source": [
    "modelfromtr = KeyedVectors.load('c:/Users/marti/gensim-data/mymodel.gensim')"
   ]
  },
  {
   "cell_type": "code",
   "execution_count": null,
   "metadata": {},
   "outputs": [],
   "source": []
  },
  {
   "cell_type": "code",
   "execution_count": null,
   "metadata": {},
   "outputs": [],
   "source": []
  },
  {
   "cell_type": "code",
   "execution_count": 84,
   "metadata": {},
   "outputs": [
    {
     "data": {
      "text/plain": [
       "array([ 0.15, -0.1 ,  0.14, -0.11, -0.01, -0.1 , -0.22, -0.11,  0.09,\n",
       "        0.08, ...,  0.04,  0.07, -0.04, -0.06, -0.15,  0.08, -0.04,  0.1 ,\n",
       "       -0.06, -0.11], dtype=float32)"
      ]
     },
     "execution_count": 84,
     "metadata": {},
     "output_type": "execute_result"
    }
   ],
   "source": [
    "model['I']"
   ]
  },
  {
   "cell_type": "code",
   "execution_count": 40,
   "metadata": {},
   "outputs": [
    {
     "data": {
      "text/plain": [
       "['__class__',\n",
       " '__contains__',\n",
       " '__delattr__',\n",
       " '__dict__',\n",
       " '__dir__',\n",
       " '__doc__',\n",
       " '__eq__',\n",
       " '__format__',\n",
       " '__ge__',\n",
       " '__getattribute__',\n",
       " '__getitem__',\n",
       " '__gt__',\n",
       " '__hash__',\n",
       " '__init__',\n",
       " '__init_subclass__',\n",
       " '__le__',\n",
       " '__len__',\n",
       " '__lt__',\n",
       " '__module__',\n",
       " '__ne__',\n",
       " '__new__',\n",
       " '__reduce__',\n",
       " '__reduce_ex__',\n",
       " '__repr__',\n",
       " '__setattr__',\n",
       " '__setitem__',\n",
       " '__sizeof__',\n",
       " '__str__',\n",
       " '__subclasshook__',\n",
       " '__weakref__',\n",
       " '_adapt_by_suffix',\n",
       " '_load_specials',\n",
       " '_log_evaluate_word_analogies',\n",
       " '_save_specials',\n",
       " '_smart_save',\n",
       " '_upconvert_old_d2vkv',\n",
       " '_upconvert_old_vocab',\n",
       " 'add_lifecycle_event',\n",
       " 'add_vector',\n",
       " 'add_vectors',\n",
       " 'allocate_vecattrs',\n",
       " 'closer_than',\n",
       " 'cosine_similarities',\n",
       " 'distance',\n",
       " 'distances',\n",
       " 'doesnt_match',\n",
       " 'evaluate_word_analogies',\n",
       " 'evaluate_word_pairs',\n",
       " 'expandos',\n",
       " 'fill_norms',\n",
       " 'get_index',\n",
       " 'get_mean_vector',\n",
       " 'get_normed_vectors',\n",
       " 'get_vecattr',\n",
       " 'get_vector',\n",
       " 'has_index_for',\n",
       " 'index2entity',\n",
       " 'index2word',\n",
       " 'index_to_key',\n",
       " 'init_sims',\n",
       " 'intersect_word2vec_format',\n",
       " 'key_to_index',\n",
       " 'load',\n",
       " 'load_word2vec_format',\n",
       " 'log_accuracy',\n",
       " 'log_evaluate_word_pairs',\n",
       " 'mapfile_path',\n",
       " 'most_similar',\n",
       " 'most_similar_cosmul',\n",
       " 'most_similar_to_given',\n",
       " 'n_similarity',\n",
       " 'next_index',\n",
       " 'norms',\n",
       " 'rank',\n",
       " 'rank_by_centrality',\n",
       " 'relative_cosine_similarity',\n",
       " 'resize_vectors',\n",
       " 'save',\n",
       " 'save_word2vec_format',\n",
       " 'set_vecattr',\n",
       " 'similar_by_key',\n",
       " 'similar_by_vector',\n",
       " 'similar_by_word',\n",
       " 'similarity',\n",
       " 'similarity_unseen_docs',\n",
       " 'sort_by_descending_frequency',\n",
       " 'unit_normalize_all',\n",
       " 'vector_size',\n",
       " 'vectors',\n",
       " 'vectors_for_all',\n",
       " 'vectors_norm',\n",
       " 'vocab',\n",
       " 'wmdistance',\n",
       " 'word_vec',\n",
       " 'words_closer_than']"
      ]
     },
     "execution_count": 40,
     "metadata": {},
     "output_type": "execute_result"
    }
   ],
   "source": [
    "dir(model)"
   ]
  },
  {
   "cell_type": "code",
   "execution_count": null,
   "metadata": {},
   "outputs": [],
   "source": []
  },
  {
   "cell_type": "code",
   "execution_count": 92,
   "metadata": {},
   "outputs": [],
   "source": [
    "from gensim.models import Word2Vec"
   ]
  },
  {
   "cell_type": "code",
   "execution_count": 93,
   "metadata": {},
   "outputs": [
    {
     "data": {
      "text/plain": [
       "'C:\\\\Users\\\\marti/gensim-data\\\\word2vec-google-news-300\\\\word2vec-google-news-300.gz'"
      ]
     },
     "execution_count": 93,
     "metadata": {},
     "output_type": "execute_result"
    }
   ],
   "source": [
    "import os\n",
    "from gensim.models import KeyedVectors\n",
    "from gensim.downloader import base_dir\n",
    "\n",
    "\n",
    "#def load_data():\n",
    "path = os.path.join(base_dir, 'word2vec-google-news-300', \"word2vec-google-news-300.gz\")\n",
    "#model = KeyedVectors.load_word2vec_format(path, binary=True)\n",
    "path"
   ]
  },
  {
   "cell_type": "code",
   "execution_count": 8,
   "metadata": {},
   "outputs": [],
   "source": [
    "modelwv = KeyedVectors.load_word2vec_format(path, binary=True, limit=10000)\n"
   ]
  },
  {
   "cell_type": "code",
   "execution_count": null,
   "metadata": {
    "colab": {
     "base_uri": "https://localhost:8080/",
     "height": 34
    },
    "colab_type": "code",
    "id": "e-_Rx6Hn_6E0",
    "outputId": "cc44f9c3-8309-431e-f278-2ace23963bcd"
   },
   "outputs": [],
   "source": [
    "# Download embeddings ( glove, trained on wikipedia)\n",
    "model300 = api.load(\"glove-wiki-gigaword-300\")"
   ]
  },
  {
   "cell_type": "code",
   "execution_count": null,
   "metadata": {},
   "outputs": [],
   "source": [
    "model50 = api.load(\"glove-wiki-gigaword-50\")"
   ]
  },
  {
   "cell_type": "code",
   "execution_count": 94,
   "metadata": {},
   "outputs": [],
   "source": [
    "model=modelfromtr"
   ]
  },
  {
   "cell_type": "code",
   "execution_count": 9,
   "metadata": {},
   "outputs": [],
   "source": [
    "model=modelwv"
   ]
  },
  {
   "cell_type": "code",
   "execution_count": 57,
   "metadata": {},
   "outputs": [],
   "source": [
    "model=model50"
   ]
  },
  {
   "cell_type": "code",
   "execution_count": 33,
   "metadata": {},
   "outputs": [],
   "source": [
    "model=model300"
   ]
  },
  {
   "cell_type": "code",
   "execution_count": 95,
   "metadata": {
    "colab": {
     "base_uri": "https://localhost:8080/",
     "height": 170
    },
    "colab_type": "code",
    "id": "XWeOUHjT_6E5",
    "outputId": "ea01d016-050b-485a-dcd6-45e798a92e2c"
   },
   "outputs": [
    {
     "data": {
      "text/plain": [
       "(768,)"
      ]
     },
     "execution_count": 95,
     "metadata": {},
     "output_type": "execute_result"
    }
   ],
   "source": [
    "model['king'].shape"
   ]
  },
  {
   "cell_type": "code",
   "execution_count": null,
   "metadata": {},
   "outputs": [],
   "source": []
  },
  {
   "cell_type": "code",
   "execution_count": 11,
   "metadata": {},
   "outputs": [
    {
     "ename": "NameError",
     "evalue": "name 'queen' is not defined",
     "output_type": "error",
     "traceback": [
      "\u001b[1;31m---------------------------------------------\u001b[0m",
      "\u001b[1;31mNameError\u001b[0m   Traceback (most recent call last)",
      "Cell \u001b[1;32mIn[11], line 2\u001b[0m\n\u001b[0;32m      1\u001b[0m \u001b[38;5;66;03m#np.ndarray.base?\u001b[39;00m\n\u001b[1;32m----> 2\u001b[0m \u001b[43mqueen\u001b[49m\u001b[38;5;241m.\u001b[39mbase\u001b[38;5;241m.\u001b[39mshape\n",
      "\u001b[1;31mNameError\u001b[0m: name 'queen' is not defined"
     ]
    }
   ],
   "source": [
    "#np.ndarray.base?\n",
    "queen.base.shape"
   ]
  },
  {
   "cell_type": "code",
   "execution_count": 96,
   "metadata": {
    "colab": {
     "base_uri": "https://localhost:8080/",
     "height": 34
    },
    "colab_type": "code",
    "id": "_6BObQ0q_6FA",
    "outputId": "5665e2ca-00fb-4414-e2aa-2076f70ffd02"
   },
   "outputs": [
    {
     "data": {
      "text/plain": [
       "(50257, 768)"
      ]
     },
     "execution_count": 96,
     "metadata": {},
     "output_type": "execute_result"
    }
   ],
   "source": [
    "model.vectors.shape"
   ]
  },
  {
   "cell_type": "code",
   "execution_count": 101,
   "metadata": {},
   "outputs": [
    {
     "data": {
      "text/plain": [
       "-1.2698166"
      ]
     },
     "execution_count": 101,
     "metadata": {},
     "output_type": "execute_result"
    }
   ],
   "source": [
    "model.vectors.min()"
   ]
  },
  {
   "cell_type": "code",
   "execution_count": 102,
   "metadata": {},
   "outputs": [
    {
     "data": {
      "text/plain": [
       "1.7851565"
      ]
     },
     "execution_count": 102,
     "metadata": {},
     "output_type": "execute_result"
    }
   ],
   "source": [
    "model.vectors.max()"
   ]
  },
  {
   "cell_type": "code",
   "execution_count": null,
   "metadata": {},
   "outputs": [],
   "source": []
  },
  {
   "cell_type": "code",
   "execution_count": 168,
   "metadata": {},
   "outputs": [
    {
     "data": {
      "text/plain": [
       "(array([ 1.,  1.,  1.,  2.,  5.,  9.,  5.,  8., 17., 15., 18., 12., 24.,\n",
       "        18., 15., 21., 14., 17., 12., 12., 15., 10.,  7.,  4.,  7.,  4.,\n",
       "         4.,  2.,  1.,  3.,  3.,  2.,  1.,  2.,  2.,  1.,  0.,  1.,  0.,\n",
       "         1.,  0.,  1.,  0.,  1.,  0.,  0.,  0.,  0.,  0.,  1.]),\n",
       " array([1.7, 1.7, 1.7, 1.8, 1.8, 1.8, 1.9, 1.9, 1.9, 2. , 2. , 2. , 2. ,\n",
       "        2.1, 2.1, 2.1, 2.2, 2.2, 2.2, 2.3, 2.3, 2.3, 2.4, 2.4, 2.4, 2.5,\n",
       "        2.5, 2.5, 2.6, 2.6, 2.6, 2.7, 2.7, 2.7, 2.7, 2.8, 2.8, 2.8, 2.9,\n",
       "        2.9, 2.9, 3. , 3. , 3. , 3.1, 3.1, 3.1, 3.2, 3.2, 3.2, 3.3]),\n",
       " <BarContainer object of 50 artists>)"
      ]
     },
     "execution_count": 168,
     "metadata": {},
     "output_type": "execute_result"
    },
    {
     "data": {
      "image/png": "[encoded data removed]",
      "text/plain": [
       "<Figure size 640x480 with 1 Axes>"
      ]
     },
     "metadata": {},
     "output_type": "display_data"
    }
   ],
   "source": [
    "plt.hist(model.vectors.max(axis=0), bins=50)"
   ]
  },
  {
   "cell_type": "code",
   "execution_count": 170,
   "metadata": {},
   "outputs": [
    {
     "data": {
      "text/plain": [
       "(array([ 2.,  1.,  1.,  1.,  0.,  0.,  0.,  0.,  1.,  0.,  1.,  0.,  0.,\n",
       "         0.,  1.,  1.,  0.,  2.,  0.,  0.,  1.,  1.,  0.,  1.,  0.,  0.,\n",
       "         1.,  1.,  1.,  1.,  0.,  2.,  4.,  2.,  1.,  2.,  3.,  1.,  6.,\n",
       "         1.,  0.,  3.,  6.,  2.,  2.,  0.,  4.,  2.,  1.,  3.,  3.,  5.,\n",
       "         5.,  5.,  5.,  4., 11.,  2.,  6.,  4., 10.,  9.,  4.,  9.,  7.,\n",
       "         7.,  6.,  7., 10.,  8.,  5., 10.,  6.,  9.,  6.,  7.,  7.,  6.,\n",
       "         9.,  4.,  3.,  7.,  4.,  6.,  3.,  4.,  4.,  2.,  1.,  1.,  2.,\n",
       "         2.,  0.,  0.,  0.,  0.,  1.,  0.,  0.,  1.]),\n",
       " array([-3.1, -3. , -3. , -3. , -3. , -3. , -3. , -3. , -3. , -2.9, -2.9,\n",
       "        -2.9, -2.9, -2.9, -2.9, -2.9, -2.8, -2.8, -2.8, -2.8, -2.8, -2.8,\n",
       "        -2.8, -2.7, -2.7, -2.7, -2.7, -2.7, -2.7, -2.7, -2.6, -2.6, -2.6,\n",
       "        -2.6, -2.6, -2.6, -2.6, -2.5, -2.5, -2.5, -2.5, -2.5, -2.5, -2.5,\n",
       "        -2.4, -2.4, -2.4, -2.4, -2.4, -2.4, -2.4, -2.4, -2.3, -2.3, -2.3,\n",
       "        -2.3, -2.3, -2.3, -2.3, -2.2, -2.2, -2.2, -2.2, -2.2, -2.2, -2.2,\n",
       "        -2.1, -2.1, -2.1, -2.1, -2.1, -2.1, -2.1, -2. , -2. , -2. , -2. ,\n",
       "        -2. , -2. , -2. , -1.9, -1.9, -1.9, -1.9, -1.9, -1.9, -1.9, -1.8,\n",
       "        -1.8, -1.8, -1.8, -1.8, -1.8, -1.8, -1.8, -1.7, -1.7, -1.7, -1.7,\n",
       "        -1.7, -1.7]),\n",
       " <BarContainer object of 100 artists>)"
      ]
     },
     "execution_count": 170,
     "metadata": {},
     "output_type": "execute_result"
    },
    {
     "data": {
      "image/png": "[encoded data removed]",
      "text/plain": [
       "<Figure size 640x480 with 1 Axes>"
      ]
     },
     "metadata": {},
     "output_type": "display_data"
    }
   ],
   "source": [
    "plt.hist(model.vectors.min(axis=0),  bins=100)"
   ]
  },
  {
   "cell_type": "code",
   "execution_count": 165,
   "metadata": {},
   "outputs": [
    {
     "data": {
      "text/plain": [
       "[<matplotlib.lines.Line2D at 0x14d87e09600>]"
      ]
     },
     "execution_count": 165,
     "metadata": {},
     "output_type": "execute_result"
    },
    {
     "data": {
      "image/png": "[encoded data removed]",
      "text/plain": [
       "<Figure size 640x480 with 1 Axes>"
      ]
     },
     "metadata": {},
     "output_type": "display_data"
    }
   ],
   "source": [
    "plt.plot(model.vectors.min(axis=0))"
   ]
  },
  {
   "cell_type": "code",
   "execution_count": 171,
   "metadata": {},
   "outputs": [
    {
     "data": {
      "text/plain": [
       "[<matplotlib.lines.Line2D at 0x14d8c97d570>]"
      ]
     },
     "execution_count": 171,
     "metadata": {},
     "output_type": "execute_result"
    },
    {
     "data": {
      "image/png": "[encoded data removed]",
      "text/plain": [
       "<Figure size 640x480 with 1 Axes>"
      ]
     },
     "metadata": {},
     "output_type": "display_data"
    }
   ],
   "source": [
    "plt.plot(model.vectors.max(axis=0))"
   ]
  },
  {
   "cell_type": "code",
   "execution_count": null,
   "metadata": {},
   "outputs": [],
   "source": []
  },
  {
   "cell_type": "code",
   "execution_count": null,
   "metadata": {},
   "outputs": [],
   "source": []
  },
  {
   "cell_type": "code",
   "execution_count": null,
   "metadata": {},
   "outputs": [],
   "source": []
  },
  {
   "cell_type": "markdown",
   "metadata": {
    "jp-MarkdownHeadingCollapsed": true,
    "tags": []
   },
   "source": [
    "# k m w q"
   ]
  },
  {
   "cell_type": "code",
   "execution_count": 189,
   "metadata": {},
   "outputs": [],
   "source": [
    "king=model['king']\n",
    "man=model['man']\n",
    "woman=model['woman']\n",
    "queen=model['queen']\n",
    "\n",
    "orig=model['anything']\n",
    "orig=model['anybody']\n",
    "\n",
    "person=model['person']\n",
    "female=model['female']\n"
   ]
  },
  {
   "cell_type": "code",
   "execution_count": null,
   "metadata": {},
   "outputs": [],
   "source": []
  },
  {
   "cell_type": "code",
   "execution_count": 153,
   "metadata": {},
   "outputs": [
    {
     "data": {
      "text/plain": [
       "(300, 6)"
      ]
     },
     "execution_count": 153,
     "metadata": {},
     "output_type": "execute_result"
    }
   ],
   "source": [
    "a=np.column_stack((king,man,woman,queen,  king-man+woman ,  0.7*king+0.3*woman  ))\n",
    "#a=np.column_stack((king,man,woman,queen,  king-man+woman ,  king+woman  ))\n",
    "a.shape"
   ]
  },
  {
   "cell_type": "code",
   "execution_count": 124,
   "metadata": {},
   "outputs": [
    {
     "data": {
      "text/plain": [
       "0.16365492"
      ]
     },
     "execution_count": 124,
     "metadata": {},
     "output_type": "execute_result"
    }
   ],
   "source": [
    "king.var()"
   ]
  },
  {
   "cell_type": "code",
   "execution_count": 123,
   "metadata": {},
   "outputs": [
    {
     "data": {
      "text/plain": [
       "0.15977204"
      ]
     },
     "execution_count": 123,
     "metadata": {},
     "output_type": "execute_result"
    }
   ],
   "source": [
    "queen.var()"
   ]
  },
  {
   "cell_type": "code",
   "execution_count": 125,
   "metadata": {},
   "outputs": [],
   "source": [
    "from  scipy.stats import describe"
   ]
  },
  {
   "cell_type": "code",
   "execution_count": 129,
   "metadata": {
    "tags": []
   },
   "outputs": [
    {
     "data": {
      "text/plain": [
       "DescribeResult(nobs=300, minmax=(-1.9373, 1.9729), mean=0.016571654, variance=0.11683609025135487, skewness=0.12387005363442864, kurtosis=7.245568464050445)"
      ]
     },
     "execution_count": 129,
     "metadata": {},
     "output_type": "execute_result"
    }
   ],
   "source": [
    "##describe((queen, man))\n",
    "describe(( man))"
   ]
  },
  {
   "cell_type": "code",
   "execution_count": null,
   "metadata": {},
   "outputs": [],
   "source": []
  },
  {
   "cell_type": "code",
   "execution_count": 119,
   "metadata": {},
   "outputs": [
    {
     "data": {
      "text/plain": [
       "(array([ 2.,  0.,  0.,  3.,  0.,  2.,  4.,  1.,  4.,  7.,  5., 13., 14.,\n",
       "        15., 19., 22., 16., 23., 26., 13., 18., 22., 22., 12., 15.,  8.,\n",
       "         2.,  3.,  3.,  4.,  0.,  0.,  1.,  0.,  0.,  0.,  0.,  0.,  0.,\n",
       "         1.]),\n",
       " array([-1.3 , -1.22, -1.15, -1.08, -1.  , -0.93, -0.86, -0.79, -0.71,\n",
       "        -0.64, -0.57, -0.49, -0.42, -0.35, -0.28, -0.2 , -0.13, -0.06,\n",
       "         0.02,  0.09,  0.16,  0.24,  0.31,  0.38,  0.45,  0.53,  0.6 ,\n",
       "         0.67,  0.75,  0.82,  0.89,  0.96,  1.04,  1.11,  1.18,  1.26,\n",
       "         1.33,  1.4 ,  1.47,  1.55,  1.62]),\n",
       " <BarContainer object of 40 artists>)"
      ]
     },
     "execution_count": 119,
     "metadata": {},
     "output_type": "execute_result"
    },
    {
     "data": {
      "image/png": "[encoded data removed]",
      "text/plain": [
       "<Figure size 640x480 with 1 Axes>"
      ]
     },
     "metadata": {},
     "output_type": "display_data"
    }
   ],
   "source": [
    "plt.hist(king , bins=40)"
   ]
  },
  {
   "cell_type": "code",
   "execution_count": 118,
   "metadata": {},
   "outputs": [
    {
     "data": {
      "text/plain": [
       "(array([ 1.,  0.,  0.,  0.,  0.,  0.,  0.,  0.,  1.,  0.,  0.,  0.,  3.,\n",
       "         4.,  9., 10., 13., 31., 43., 38., 37., 31., 30., 21., 16.,  6.,\n",
       "         2.,  2.,  0.,  0.,  0.,  0.,  0.,  0.,  0.,  1.,  0.,  0.,  0.,\n",
       "         1.]),\n",
       " array([-1.94, -1.84, -1.74, -1.64, -1.55, -1.45, -1.35, -1.25, -1.16,\n",
       "        -1.06, -0.96, -0.86, -0.76, -0.67, -0.57, -0.47, -0.37, -0.28,\n",
       "        -0.18, -0.08,  0.02,  0.12,  0.21,  0.31,  0.41,  0.51,  0.6 ,\n",
       "         0.7 ,  0.8 ,  0.9 ,  1.  ,  1.09,  1.19,  1.29,  1.39,  1.48,\n",
       "         1.58,  1.68,  1.78,  1.88,  1.97]),\n",
       " <BarContainer object of 40 artists>)"
      ]
     },
     "execution_count": 118,
     "metadata": {},
     "output_type": "execute_result"
    },
    {
     "data": {
      "image/png": "[encoded data removed]",
      "text/plain": [
       "<Figure size 640x480 with 1 Axes>"
      ]
     },
     "metadata": {},
     "output_type": "display_data"
    }
   ],
   "source": [
    "plt.hist(man , bins=40)"
   ]
  },
  {
   "cell_type": "code",
   "execution_count": 117,
   "metadata": {},
   "outputs": [
    {
     "data": {
      "text/plain": [
       "(array([ 1.,  0.,  0.,  0.,  0.,  0.,  1.,  0.,  0.,  1.,  1.,  2.,  7.,\n",
       "        10., 18., 20., 24., 24., 39., 31., 25., 24., 23., 18., 12.,  3.,\n",
       "         9.,  2.,  1.,  1.,  0.,  0.,  1.,  1.,  0.,  0.,  0.,  0.,  0.,\n",
       "         1.]),\n",
       " array([-1.7 , -1.61, -1.52, -1.43, -1.34, -1.26, -1.17, -1.08, -0.99,\n",
       "        -0.9 , -0.82, -0.73, -0.64, -0.55, -0.46, -0.38, -0.29, -0.2 ,\n",
       "        -0.11, -0.02,  0.06,  0.15,  0.24,  0.33,  0.42,  0.5 ,  0.59,\n",
       "         0.68,  0.77,  0.86,  0.95,  1.03,  1.12,  1.21,  1.3 ,  1.39,\n",
       "         1.47,  1.56,  1.65,  1.74,  1.83]),\n",
       " <BarContainer object of 40 artists>)"
      ]
     },
     "execution_count": 117,
     "metadata": {},
     "output_type": "execute_result"
    },
    {
     "data": {
      "image/png": "[encoded data removed]",
      "text/plain": [
       "<Figure size 640x480 with 1 Axes>"
      ]
     },
     "metadata": {},
     "output_type": "display_data"
    }
   ],
   "source": [
    "plt.hist(woman , bins=40)"
   ]
  },
  {
   "cell_type": "code",
   "execution_count": 116,
   "metadata": {},
   "outputs": [
    {
     "data": {
      "text/plain": [
       "(array([ 2.,  2.,  2.,  1.,  1.,  1.,  2.,  1.,  1.,  5.,  4.,  7.,  3.,\n",
       "         2., 11.,  3.,  6.,  6.,  8.,  7.,  8., 17., 11.,  9.,  9.,  9.,\n",
       "         8.,  2., 16., 16.,  6., 10., 10.,  7.,  7.,  6.,  8.,  8.,  6.,\n",
       "         9.,  6., 10.,  6.,  4.,  2.,  2.,  4.,  3.,  1.,  0.,  2.,  0.,\n",
       "         1.,  0.,  1.,  0.,  0.,  0.,  0.,  0.,  0.,  0.,  0.,  0.,  0.,\n",
       "         0.,  0.,  0.,  0.,  0.,  0.,  0.,  0.,  0.,  0.,  0.,  0.,  0.,\n",
       "         0.,  1.]),\n",
       " array([-0.94, -0.91, -0.87, -0.84, -0.8 , -0.77, -0.73, -0.7 , -0.66,\n",
       "        -0.63, -0.59, -0.56, -0.52, -0.49, -0.45, -0.42, -0.38, -0.35,\n",
       "        -0.31, -0.28, -0.24, -0.21, -0.17, -0.14, -0.1 , -0.07, -0.03,\n",
       "         0.  ,  0.04,  0.07,  0.11,  0.14,  0.18,  0.21,  0.25,  0.28,\n",
       "         0.32,  0.35,  0.39,  0.42,  0.46,  0.49,  0.53,  0.56,  0.6 ,\n",
       "         0.63,  0.67,  0.7 ,  0.74,  0.77,  0.81,  0.84,  0.88,  0.91,\n",
       "         0.95,  0.98,  1.02,  1.05,  1.09,  1.12,  1.16,  1.19,  1.23,\n",
       "         1.26,  1.3 ,  1.33,  1.37,  1.4 ,  1.44,  1.47,  1.51,  1.54,\n",
       "         1.58,  1.61,  1.65,  1.68,  1.72,  1.75,  1.79,  1.82,  1.86]),\n",
       " <BarContainer object of 80 artists>)"
      ]
     },
     "execution_count": 116,
     "metadata": {},
     "output_type": "execute_result"
    },
    {
     "data": {
      "image/png": "[encoded data removed]",
      "text/plain": [
       "<Figure size 640x480 with 1 Axes>"
      ]
     },
     "metadata": {},
     "output_type": "display_data"
    }
   ],
   "source": [
    "plt.hist(queen , bins=80)"
   ]
  },
  {
   "cell_type": "code",
   "execution_count": 149,
   "metadata": {},
   "outputs": [],
   "source": [
    "y=np.arange(-2,2,0.1) // 1"
   ]
  },
  {
   "cell_type": "code",
   "execution_count": 174,
   "metadata": {},
   "outputs": [
    {
     "data": {
      "image/png": "[encoded data removed]",
      "text/plain": [
       "<Figure size 1200x600 with 2 Axes>"
      ]
     },
     "metadata": {},
     "output_type": "display_data"
    },
    {
     "data": {
      "image/png": "[encoded data removed]",
      "text/plain": [
       "<Figure size 1200x600 with 2 Axes>"
      ]
     },
     "metadata": {},
     "output_type": "display_data"
    },
    {
     "data": {
      "image/png": "[encoded data removed]",
      "text/plain": [
       "<Figure size 1200x600 with 2 Axes>"
      ]
     },
     "metadata": {},
     "output_type": "display_data"
    },
    {
     "data": {
      "image/png": "[encoded data removed]",
      "text/plain": [
       "<Figure size 1200x10000 with 2 Axes>"
      ]
     },
     "metadata": {},
     "output_type": "display_data"
    }
   ],
   "source": [
    "###plt.imshow(y.T)\n",
    "#plt.imshow(a)\n",
    "#sns.heatmap(a)\n",
    "plot_embeddings(a.T)\n",
    "plot_embeddings(a.T>1)\n",
    "plot_embeddings(a.T< -1)\n",
    "\n",
    "plot_embeddings(model.vectors[100:200, :])\n"
   ]
  },
  {
   "cell_type": "code",
   "execution_count": null,
   "metadata": {},
   "outputs": [],
   "source": []
  },
  {
   "cell_type": "code",
   "execution_count": null,
   "metadata": {},
   "outputs": [],
   "source": []
  },
  {
   "cell_type": "code",
   "execution_count": 105,
   "metadata": {
    "collapsed": true,
    "jupyter": {
     "outputs_hidden": true
    },
    "tags": []
   },
   "outputs": [
    {
     "data": {
      "text/plain": [
       "array([0., 1., 1., 1., 1., 0., 1., 1., 0., 0., 1., 0., 1., 1., 1., 1., 1.,\n",
       "       0., 1., 0., 0., 1., 0., 1., 1., 0., 0., 1., 1., 1., 1., 1., 0., 1.,\n",
       "       0., 1., 1., 1., 0., 0., 0., 0., 0., 2., 1., 1., 1., 1., 1., 0., 0.,\n",
       "       1., 1., 1., 0., 0., 1., 0., 1., 1., 1., 1., 1., 1., 1., 0., 0., 1.,\n",
       "       0., 1., 1., 1., 1., 0., 1., 1., 1., 0., 1., 1., 1., 0., 1., 0., 1.,\n",
       "       0., 1., 1., 1., 0., 1., 0., 1., 0., 0., 0., 1., 0., 1., 0., 1., 0.,\n",
       "       1., 1., 1., 1., 1., 1., 1., 1., 1., 1., 1., 0., 1., 0., 1., 1., 1.,\n",
       "       0., 0., 1., 0., 0., 1., 1., 1., 0., 1., 1., 1., 1., 0., 0., 1., 1.,\n",
       "       0., 1., 0., 1., 1., 1., 0., 0., 1., 0., 1., 1., 0., 0., 1., 0., 0.,\n",
       "       1., 1., 1., 1., 0., 1., 0., 1., 1., 1., 1., 0., 1., 0., 1., 1., 1.,\n",
       "       0., 2., 1., 0., 0., 1., 0., 1., 0., 1., 0., 1., 1., 0., 1., 0., 0.,\n",
       "       1., 0., 0., 0., 0., 0., 0., 1., 1., 1., 0., 0., 0., 2., 0., 0., 1.,\n",
       "       1., 0., 1., 1., 1., 0., 0., 0., 1., 0., 0., 0., 1., 0., 1., 0., 1.,\n",
       "       0., 1., 1., 0., 1., 1., 1., 1., 1., 0., 1., 1., 1., 1., 1., 1., 1.,\n",
       "       1., 1., 0., 1., 1., 1., 0., 1., 0., 0., 1., 1., 0., 1., 1., 0., 1.,\n",
       "       0., 1., 0., 1., 0., 1., 0., 1., 1., 0., 1., 0., 0., 1., 1., 1., 0.,\n",
       "       1., 0., 1., 1., 0., 0., 1., 0., 1., 1., 0., 0., 0., 1., 0., 1., 0.,\n",
       "       0., 1., 0., 0., 1., 0., 0., 1., 1., 1., 1.], dtype=float32)"
      ]
     },
     "execution_count": 105,
     "metadata": {},
     "output_type": "execute_result"
    }
   ],
   "source": [
    "((queen+1.1)//1)  "
   ]
  },
  {
   "cell_type": "code",
   "execution_count": 110,
   "metadata": {
    "collapsed": true,
    "jupyter": {
     "outputs_hidden": true
    },
    "tags": []
   },
   "outputs": [
    {
     "data": {
      "text/plain": [
       "array([0, 0, 0, 0, 0, 0, 0, 0, 0, 0, 0, 0, 0, 0, 0, 0, 0, 0, 0, 0, 0, 0,\n",
       "       0, 0, 0, 0, 0, 0, 0, 0, 0, 0, 0, 0, 0, 0, 0, 0, 0, 0, 0, 0, 0, 0,\n",
       "       0, 0, 0, 0, 0, 0, 0, 0, 0, 0, 0, 0, 0, 0, 0, 0, 0, 0, 0, 0, 0, 0,\n",
       "       0, 0, 0, 0, 0, 0, 0, 0, 0, 0, 0, 0, 0, 0, 0, 0, 0, 0, 0, 0, 0, 0,\n",
       "       0, 0, 0, 0, 0, 0, 0, 0, 0, 0, 0, 0, 0, 0, 0, 0, 0, 0, 0, 0, 0, 0,\n",
       "       0, 0, 0, 0, 0, 0, 0, 0, 0, 0, 0, 0, 0, 0, 0, 0, 0, 0, 0, 0, 0, 0,\n",
       "       0, 0, 0, 0, 0, 0, 0, 0, 0, 0, 0, 0, 0, 0, 0, 0, 0, 0, 0, 0, 0, 0,\n",
       "       0, 0, 0, 0, 0, 0, 0, 0, 0, 0, 0, 0, 0, 0, 0, 0, 0, 0, 0, 0, 0, 0,\n",
       "       0, 0, 0, 0, 0, 0, 0, 0, 0, 0, 0, 0, 0, 0, 0, 0, 0, 0, 0, 0, 0, 0,\n",
       "       0, 0, 1, 0, 0, 0, 0, 0, 0, 0, 0, 0, 0, 0, 0, 0, 0, 0, 0, 0, 0, 0,\n",
       "       0, 0, 0, 0, 0, 0, 0, 0, 0, 0, 0, 0, 0, 0, 0, 0, 0, 0, 0, 0, 0, 0,\n",
       "       0, 0, 0, 0, 0, 0, 0, 0, 0, 0, 0, 0, 0, 0, 0, 0, 0, 0, 0, 0, 0, 0,\n",
       "       0, 0, 0, 0, 0, 0, 0, 0, 0, 0, 0, 0, 0, 0, 0, 0, 0, 0, 0, 0, 0, 0,\n",
       "       0, 0, 0, 0, 0, 0, 0, 0, 0, 0, 0, 0, 0, 0])"
      ]
     },
     "execution_count": 110,
     "metadata": {},
     "output_type": "execute_result"
    }
   ],
   "source": [
    "0+(queen>=1.0)"
   ]
  },
  {
   "cell_type": "code",
   "execution_count": 114,
   "metadata": {
    "collapsed": true,
    "jupyter": {
     "outputs_hidden": true
    },
    "tags": []
   },
   "outputs": [
    {
     "data": {
      "text/plain": [
       "array([0, 0, 0, 0, 0, 0, 0, 0, 0, 1, 0, 0, 0, 0, 0, 0, 0, 0, 0, 0, 0, 0,\n",
       "       0, 0, 0, 0, 0, 0, 0, 0, 0, 0, 0, 0, 0, 0, 0, 0, 0, 0, 0, 0, 0, 0,\n",
       "       0, 0, 0, 0, 0, 0, 0, 0, 0, 0, 0, 0, 0, 0, 0, 0, 0, 0, 0, 0, 0, 1,\n",
       "       0, 0, 0, 0, 0, 0, 0, 0, 0, 0, 0, 0, 0, 0, 0, 0, 0, 0, 0, 0, 0, 0,\n",
       "       0, 0, 0, 0, 0, 0, 0, 0, 0, 0, 0, 0, 0, 0, 0, 0, 0, 0, 0, 0, 0, 0,\n",
       "       0, 0, 0, 0, 0, 0, 0, 0, 0, 0, 0, 0, 0, 0, 0, 0, 0, 0, 0, 0, 0, 0,\n",
       "       0, 0, 0, 0, 0, 0, 0, 0, 0, 0, 0, 0, 0, 0, 0, 0, 0, 0, 0, 0, 0, 0,\n",
       "       0, 0, 0, 0, 0, 0, 0, 0, 0, 0, 0, 0, 0, 0, 0, 0, 0, 0, 0, 0, 0, 0,\n",
       "       0, 0, 0, 0, 0, 0, 0, 0, 0, 0, 0, 0, 0, 0, 0, 0, 0, 0, 0, 0, 0, 0,\n",
       "       0, 0, 0, 0, 0, 0, 0, 0, 0, 0, 0, 0, 0, 0, 0, 0, 0, 0, 0, 1, 0, 0,\n",
       "       0, 0, 0, 0, 0, 0, 0, 0, 0, 0, 0, 0, 0, 0, 0, 0, 0, 0, 0, 0, 0, 0,\n",
       "       0, 0, 0, 0, 0, 0, 0, 0, 0, 0, 0, 0, 0, 0, 0, 0, 0, 0, 0, 0, 0, 0,\n",
       "       0, 0, 0, 0, 0, 0, 0, 0, 0, 0, 0, 0, 1, 0, 0, 0, 0, 0, 0, 0, 0, 0,\n",
       "       0, 0, 0, 0, 0, 0, 0, 0, 0, 0, 0, 0, 0, 0])"
      ]
     },
     "execution_count": 114,
     "metadata": {},
     "output_type": "execute_result"
    }
   ],
   "source": [
    "0+(queen <= -0.9)"
   ]
  },
  {
   "cell_type": "code",
   "execution_count": 148,
   "metadata": {
    "collapsed": true,
    "jupyter": {
     "outputs_hidden": true
    },
    "tags": []
   },
   "outputs": [
    {
     "name": "stdout",
     "output_type": "stream",
     "text": [
      "[-2.2e-01  6.5e-02 -8.6e-02  5.1e-01  3.3e-01 -1.3e-01  8.3e-02  9.2e-02\n",
      " -3.1e-01 -9.4e-01 -8.9e-02 -1.1e-01  2.1e-01  7.0e-01  2.7e-01 -4.0e-02\n",
      "  1.7e-01 -3.1e-01 -5.2e-02 -1.8e-01 -8.4e-01  1.9e-01 -1.4e-01  3.9e-01\n",
      "  2.7e-01 -1.7e-01 -4.7e-01 -2.5e-02  9.7e-02  3.0e-01  1.8e-01 -6.9e-02\n",
      " -2.0e-01  3.6e-01 -2.8e-01  2.8e-01 -1.2e-02  1.1e-01 -2.4e-01 -1.8e-01\n",
      " -1.3e-01 -1.7e-01 -5.9e-01  9.6e-01  2.0e-01 -4.3e-02  6.1e-01 -6.9e-02\n",
      "  5.2e-01 -5.5e-01 -5.5e-01  4.3e-01  4.5e-01 -2.6e-02 -1.2e-01 -1.9e-01\n",
      "  3.6e-01 -2.5e-01  7.2e-01 -5.8e-02  3.4e-01  4.7e-01  2.0e-01  7.0e-01\n",
      "  4.9e-01 -9.0e-01 -1.0e-01  1.3e-01 -4.1e-01  4.0e-01  9.6e-02  3.3e-01\n",
      "  7.0e-02 -2.0e-01  1.6e-01  9.7e-02  5.6e-01 -5.5e-01  9.2e-02  2.3e-01\n",
      "  3.9e-01 -1.1e-01  1.1e-01 -2.6e-01  5.6e-01 -5.4e-01  1.0e-01 -3.3e-02\n",
      "  1.1e-01 -4.5e-01  2.3e-01 -4.2e-01  8.0e-02 -4.4e-01 -2.0e-01 -4.2e-01\n",
      "  5.3e-01 -1.3e-01 -4.8e-02 -5.6e-01  2.7e-01 -3.6e-01  3.9e-01  6.4e-02\n",
      "  2.0e-01  4.3e-01  6.0e-02  1.1e-01  5.0e-02  2.9e-01  2.9e-01  6.8e-01\n",
      "  4.1e-01 -2.5e-01  5.9e-02 -1.8e-01  8.6e-02  1.7e-01 -8.3e-02 -5.7e-01\n",
      " -7.2e-01  7.0e-01 -3.8e-01 -4.8e-01 -9.7e-02  1.4e-01 -1.9e-02 -1.5e-01\n",
      "  4.9e-01  4.5e-01  5.7e-01  5.4e-01 -1.4e-01 -1.4e-01  1.9e-01 -8.8e-03\n",
      " -2.3e-01  5.1e-02 -4.3e-01  5.8e-01  2.1e-01  7.5e-01 -6.6e-01 -1.5e-01\n",
      "  2.0e-01 -5.4e-01  4.1e-01  3.6e-01 -3.8e-01 -3.9e-01  1.5e-01 -2.1e-01\n",
      " -5.6e-01  5.2e-01  2.2e-01  5.5e-01  5.8e-02 -4.3e-01  8.7e-02 -5.5e-01\n",
      "  5.8e-01  8.3e-01  5.1e-01  1.5e-01 -3.6e-01  8.2e-01 -2.5e-01  6.7e-01\n",
      "  3.3e-01  3.8e-01 -5.1e-01  9.1e-01 -6.7e-02 -6.2e-01 -2.3e-01  3.1e-01\n",
      " -2.2e-01 -8.7e-02 -2.7e-01  2.2e-01 -1.7e-01  3.6e-01  4.0e-01 -1.7e-01\n",
      "  4.3e-01 -4.1e-01 -2.0e-01  5.4e-01 -3.3e-01 -7.6e-01 -4.3e-01 -1.0e-01\n",
      " -3.5e-01 -7.2e-01 -5.4e-02  5.2e-01  5.4e-02 -5.1e-01 -1.8e-01 -3.7e-01\n",
      "  1.9e+00 -5.7e-01 -2.9e-01  2.7e-01  5.2e-01 -6.3e-01  4.4e-01  4.3e-02\n",
      "  3.2e-01 -2.0e-01 -1.5e-01 -1.2e-01  1.6e-01 -2.7e-01 -1.3e-01 -2.0e-01\n",
      " -1.3e-02 -9.0e-01 -3.6e-02 -4.5e-01  5.1e-02 -2.2e-01  2.9e-01  4.4e-01\n",
      " -8.1e-01  1.1e-01 -8.0e-04  6.4e-02  1.1e-02  5.3e-01 -5.9e-01  3.4e-01\n",
      " -6.8e-02  1.0e-01  4.0e-02  3.3e-01  1.1e-01  3.8e-01 -3.2e-02  6.6e-02\n",
      " -3.2e-01  5.8e-01  4.8e-01  2.6e-01 -2.3e-01  4.5e-01 -4.2e-01 -6.0e-01\n",
      "  2.8e-01  4.8e-01 -1.9e-01  1.6e-01  2.3e-01 -3.2e-01  6.1e-01 -4.3e-01\n",
      "  3.4e-01 -1.8e-01  5.0e-01 -7.8e-01  8.4e-02 -6.1e-01  9.6e-02  7.2e-01\n",
      " -1.8e-01  5.6e-02 -2.9e-01 -7.0e-01  4.9e-01  5.1e-02  5.1e-01 -4.2e-01\n",
      "  4.3e-01 -2.8e-01  1.0e-02  1.7e-01 -9.2e-01 -3.1e-01  2.4e-01 -2.3e-01\n",
      "  1.6e-01  3.6e-01 -1.5e-01 -2.1e-01 -8.7e-01  2.3e-01 -2.9e-01  5.0e-01\n",
      " -1.5e-01 -3.3e-01  7.0e-01 -2.9e-01 -5.0e-01  1.2e-01 -1.8e-01 -3.2e-01\n",
      "  2.0e-01  2.5e-01  1.7e-01  6.4e-01]\n"
     ]
    }
   ],
   "source": [
    "print(queen.fo )"
   ]
  },
  {
   "cell_type": "code",
   "execution_count": null,
   "metadata": {},
   "outputs": [],
   "source": [
    "np.ndarray.fo"
   ]
  },
  {
   "cell_type": "code",
   "execution_count": 144,
   "metadata": {},
   "outputs": [
    {
     "ename": "TypeError",
     "evalue": "'_GeneratorContextManager' object is not iterable",
     "output_type": "error",
     "traceback": [
      "\u001b[1;31m---------------------------------------------------------------------------\u001b[0m",
      "\u001b[1;31mTypeError\u001b[0m                                 Traceback (most recent call last)",
      "Cell \u001b[1;32mIn[144], line 1\u001b[0m\n\u001b[1;32m----> 1\u001b[0m \u001b[38;5;28;01mfor\u001b[39;00m i \u001b[38;5;129;01min\u001b[39;00m np\u001b[38;5;241m.\u001b[39mprintoptions():\n\u001b[0;32m      2\u001b[0m     \u001b[38;5;28mprint\u001b[39m(i)\n",
      "\u001b[1;31mTypeError\u001b[0m: '_GeneratorContextManager' object is not iterable"
     ]
    }
   ],
   "source": [
    "for i in np.printoptions():\n",
    "    print(i)"
   ]
  },
  {
   "cell_type": "code",
   "execution_count": 147,
   "metadata": {
    "collapsed": true,
    "jupyter": {
     "outputs_hidden": true
    },
    "tags": []
   },
   "outputs": [
    {
     "data": {
      "text/plain": [
       "[-0.9,\n",
       " -0.9,\n",
       " -0.9,\n",
       " -0.9,\n",
       " -0.9,\n",
       " -0.8,\n",
       " -0.8,\n",
       " -0.8,\n",
       " -0.8,\n",
       " -0.7,\n",
       " -0.7,\n",
       " -0.7,\n",
       " -0.7,\n",
       " -0.6,\n",
       " -0.6,\n",
       " -0.6,\n",
       " -0.6,\n",
       " -0.6,\n",
       " -0.6,\n",
       " -0.6,\n",
       " -0.6,\n",
       " -0.6,\n",
       " -0.6,\n",
       " -0.6,\n",
       " -0.5,\n",
       " -0.5,\n",
       " -0.5,\n",
       " -0.5,\n",
       " -0.5,\n",
       " -0.5,\n",
       " -0.5,\n",
       " -0.5,\n",
       " -0.5,\n",
       " -0.5,\n",
       " -0.4,\n",
       " -0.4,\n",
       " -0.4,\n",
       " -0.4,\n",
       " -0.4,\n",
       " -0.4,\n",
       " -0.4,\n",
       " -0.4,\n",
       " -0.4,\n",
       " -0.4,\n",
       " -0.4,\n",
       " -0.4,\n",
       " -0.4,\n",
       " -0.4,\n",
       " -0.4,\n",
       " -0.4,\n",
       " -0.4,\n",
       " -0.4,\n",
       " -0.4,\n",
       " -0.3,\n",
       " -0.3,\n",
       " -0.3,\n",
       " -0.3,\n",
       " -0.3,\n",
       " -0.3,\n",
       " -0.3,\n",
       " -0.3,\n",
       " -0.3,\n",
       " -0.3,\n",
       " -0.3,\n",
       " -0.3,\n",
       " -0.3,\n",
       " -0.3,\n",
       " -0.3,\n",
       " -0.3,\n",
       " -0.3,\n",
       " -0.3,\n",
       " -0.3,\n",
       " -0.3,\n",
       " -0.3,\n",
       " -0.2,\n",
       " -0.2,\n",
       " -0.2,\n",
       " -0.2,\n",
       " -0.2,\n",
       " -0.2,\n",
       " -0.2,\n",
       " -0.2,\n",
       " -0.2,\n",
       " -0.2,\n",
       " -0.2,\n",
       " -0.2,\n",
       " -0.2,\n",
       " -0.2,\n",
       " -0.2,\n",
       " -0.2,\n",
       " -0.2,\n",
       " -0.2,\n",
       " -0.2,\n",
       " -0.2,\n",
       " -0.2,\n",
       " -0.2,\n",
       " -0.2,\n",
       " -0.2,\n",
       " -0.2,\n",
       " -0.2,\n",
       " -0.2,\n",
       " -0.2,\n",
       " -0.2,\n",
       " -0.2,\n",
       " -0.2,\n",
       " -0.2,\n",
       " -0.1,\n",
       " -0.1,\n",
       " -0.1,\n",
       " -0.1,\n",
       " -0.1,\n",
       " -0.1,\n",
       " -0.1,\n",
       " -0.1,\n",
       " -0.1,\n",
       " -0.1,\n",
       " -0.1,\n",
       " -0.1,\n",
       " -0.1,\n",
       " -0.1,\n",
       " -0.1,\n",
       " -0.1,\n",
       " -0.1,\n",
       " -0.1,\n",
       " -0.1,\n",
       " -0.1,\n",
       " -0.1,\n",
       " -0.1,\n",
       " -0.1,\n",
       " -0.1,\n",
       " -0.1,\n",
       " -0.1,\n",
       " -0.1,\n",
       " -0.0,\n",
       " -0.0,\n",
       " -0.0,\n",
       " -0.0,\n",
       " -0.0,\n",
       " -0.0,\n",
       " -0.0,\n",
       " -0.0,\n",
       " -0.0,\n",
       " -0.0,\n",
       " -0.0,\n",
       " -0.0,\n",
       " -0.0,\n",
       " 0.0,\n",
       " 0.0,\n",
       " 0.0,\n",
       " 0.0,\n",
       " 0.0,\n",
       " 0.1,\n",
       " 0.1,\n",
       " 0.1,\n",
       " 0.1,\n",
       " 0.1,\n",
       " 0.1,\n",
       " 0.1,\n",
       " 0.1,\n",
       " 0.1,\n",
       " 0.1,\n",
       " 0.1,\n",
       " 0.1,\n",
       " 0.1,\n",
       " 0.1,\n",
       " 0.1,\n",
       " 0.1,\n",
       " 0.1,\n",
       " 0.1,\n",
       " 0.1,\n",
       " 0.1,\n",
       " 0.1,\n",
       " 0.1,\n",
       " 0.1,\n",
       " 0.1,\n",
       " 0.1,\n",
       " 0.1,\n",
       " 0.1,\n",
       " 0.1,\n",
       " 0.1,\n",
       " 0.1,\n",
       " 0.1,\n",
       " 0.1,\n",
       " 0.1,\n",
       " 0.1,\n",
       " 0.1,\n",
       " 0.1,\n",
       " 0.2,\n",
       " 0.2,\n",
       " 0.2,\n",
       " 0.2,\n",
       " 0.2,\n",
       " 0.2,\n",
       " 0.2,\n",
       " 0.2,\n",
       " 0.2,\n",
       " 0.2,\n",
       " 0.2,\n",
       " 0.2,\n",
       " 0.2,\n",
       " 0.2,\n",
       " 0.2,\n",
       " 0.2,\n",
       " 0.2,\n",
       " 0.2,\n",
       " 0.2,\n",
       " 0.2,\n",
       " 0.2,\n",
       " 0.2,\n",
       " 0.2,\n",
       " 0.2,\n",
       " 0.2,\n",
       " 0.2,\n",
       " 0.3,\n",
       " 0.3,\n",
       " 0.3,\n",
       " 0.3,\n",
       " 0.3,\n",
       " 0.3,\n",
       " 0.3,\n",
       " 0.3,\n",
       " 0.3,\n",
       " 0.3,\n",
       " 0.3,\n",
       " 0.3,\n",
       " 0.3,\n",
       " 0.3,\n",
       " 0.3,\n",
       " 0.3,\n",
       " 0.3,\n",
       " 0.3,\n",
       " 0.3,\n",
       " 0.3,\n",
       " 0.3,\n",
       " 0.4,\n",
       " 0.4,\n",
       " 0.4,\n",
       " 0.4,\n",
       " 0.4,\n",
       " 0.4,\n",
       " 0.4,\n",
       " 0.4,\n",
       " 0.4,\n",
       " 0.4,\n",
       " 0.4,\n",
       " 0.4,\n",
       " 0.4,\n",
       " 0.4,\n",
       " 0.4,\n",
       " 0.4,\n",
       " 0.4,\n",
       " 0.4,\n",
       " 0.4,\n",
       " 0.4,\n",
       " 0.4,\n",
       " 0.4,\n",
       " 0.5,\n",
       " 0.5,\n",
       " 0.5,\n",
       " 0.5,\n",
       " 0.5,\n",
       " 0.5,\n",
       " 0.5,\n",
       " 0.5,\n",
       " 0.5,\n",
       " 0.5,\n",
       " 0.5,\n",
       " 0.5,\n",
       " 0.5,\n",
       " 0.5,\n",
       " 0.5,\n",
       " 0.5,\n",
       " 0.5,\n",
       " 0.5,\n",
       " 0.5,\n",
       " 0.5,\n",
       " 0.6,\n",
       " 0.6,\n",
       " 0.6,\n",
       " 0.6,\n",
       " 0.6,\n",
       " 0.6,\n",
       " 0.6,\n",
       " 0.6,\n",
       " 0.6,\n",
       " 0.6,\n",
       " 0.7,\n",
       " 0.7,\n",
       " 0.7,\n",
       " 0.7,\n",
       " 0.7,\n",
       " 0.7,\n",
       " 0.7,\n",
       " 0.7,\n",
       " 0.8,\n",
       " 0.8,\n",
       " 0.8,\n",
       " 0.9,\n",
       " 1.0,\n",
       " 1.9]"
      ]
     },
     "execution_count": 147,
     "metadata": {},
     "output_type": "execute_result"
    }
   ],
   "source": [
    "#$np.sort(queen).tolist()"
   ]
  },
  {
   "cell_type": "code",
   "execution_count": 42,
   "metadata": {},
   "outputs": [
    {
     "data": {
      "text/plain": [
       "numpy.ndarray"
      ]
     },
     "execution_count": 42,
     "metadata": {},
     "output_type": "execute_result"
    }
   ],
   "source": [
    "type(queen)"
   ]
  },
  {
   "cell_type": "code",
   "execution_count": 45,
   "metadata": {
    "collapsed": true,
    "jupyter": {
     "outputs_hidden": true
    },
    "tags": []
   },
   "outputs": [
    {
     "data": {
      "text/plain": [
       "\u001b[1;31mSignature:\u001b[0m \u001b[0mnp\u001b[0m\u001b[1;33m.\u001b[0m\u001b[0msort\u001b[0m\u001b[1;33m(\u001b[0m\u001b[0ma\u001b[0m\u001b[1;33m,\u001b[0m \u001b[0maxis\u001b[0m\u001b[1;33m=\u001b[0m\u001b[1;33m-\u001b[0m\u001b[1;36m1\u001b[0m\u001b[1;33m,\u001b[0m \u001b[0mkind\u001b[0m\u001b[1;33m=\u001b[0m\u001b[1;32mNone\u001b[0m\u001b[1;33m,\u001b[0m \u001b[0morder\u001b[0m\u001b[1;33m=\u001b[0m\u001b[1;32mNone\u001b[0m\u001b[1;33m)\u001b[0m\u001b[1;33m\u001b[0m\u001b[1;33m\u001b[0m\u001b[0m\n",
       "\u001b[1;31mDocstring:\u001b[0m\n",
       "Return a sorted copy of an array.\n",
       "\n",
       "Parameters\n",
       "----------\n",
       "a : array_like\n",
       "    Array to be sorted.\n",
       "axis : int or None, optional\n",
       "    Axis along which to sort. If None, the array is flattened before\n",
       "    sorting. The default is -1, which sorts along the last axis.\n",
       "kind : {'quicksort', 'mergesort', 'heapsort', 'stable'}, optional\n",
       "    Sorting algorithm. The default is 'quicksort'. Note that both 'stable'\n",
       "    and 'mergesort' use timsort or radix sort under the covers and, in general,\n",
       "    the actual implementation will vary with data type. The 'mergesort' option\n",
       "    is retained for backwards compatibility.\n",
       "\n",
       "    .. versionchanged:: 1.15.0.\n",
       "       The 'stable' option was added.\n",
       "\n",
       "order : str or list of str, optional\n",
       "    When `a` is an array with fields defined, this argument specifies\n",
       "    which fields to compare first, second, etc.  A single field can\n",
       "    be specified as a string, and not all fields need be specified,\n",
       "    but unspecified fields will still be used, in the order in which\n",
       "    they come up in the dtype, to break ties.\n",
       "\n",
       "Returns\n",
       "-------\n",
       "sorted_array : ndarray\n",
       "    Array of the same type and shape as `a`.\n",
       "\n",
       "See Also\n",
       "--------\n",
       "ndarray.sort : Method to sort an array in-place.\n",
       "argsort : Indirect sort.\n",
       "lexsort : Indirect stable sort on multiple keys.\n",
       "searchsorted : Find elements in a sorted array.\n",
       "partition : Partial sort.\n",
       "\n",
       "Notes\n",
       "-----\n",
       "The various sorting algorithms are characterized by their average speed,\n",
       "worst case performance, work space size, and whether they are stable. A\n",
       "stable sort keeps items with the same key in the same relative\n",
       "order. The four algorithms implemented in NumPy have the following\n",
       "properties:\n",
       "\n",
       "=========== ======= ============= ============ ========\n",
       "   kind      speed   worst case    work space   stable\n",
       "=========== ======= ============= ============ ========\n",
       "'quicksort'    1     O(n^2)            0          no\n",
       "'heapsort'     3     O(n*log(n))       0          no\n",
       "'mergesort'    2     O(n*log(n))      ~n/2        yes\n",
       "'timsort'      2     O(n*log(n))      ~n/2        yes\n",
       "=========== ======= ============= ============ ========\n",
       "\n",
       ".. note:: The datatype determines which of 'mergesort' or 'timsort'\n",
       "   is actually used, even if 'mergesort' is specified. User selection\n",
       "   at a finer scale is not currently available.\n",
       "\n",
       "All the sort algorithms make temporary copies of the data when\n",
       "sorting along any but the last axis.  Consequently, sorting along\n",
       "the last axis is faster and uses less space than sorting along\n",
       "any other axis.\n",
       "\n",
       "The sort order for complex numbers is lexicographic. If both the real\n",
       "and imaginary parts are non-nan then the order is determined by the\n",
       "real parts except when they are equal, in which case the order is\n",
       "determined by the imaginary parts.\n",
       "\n",
       "Previous to numpy 1.4.0 sorting real and complex arrays containing nan\n",
       "values led to undefined behaviour. In numpy versions >= 1.4.0 nan\n",
       "values are sorted to the end. The extended sort order is:\n",
       "\n",
       "  * Real: [R, nan]\n",
       "  * Complex: [R + Rj, R + nanj, nan + Rj, nan + nanj]\n",
       "\n",
       "where R is a non-nan real value. Complex values with the same nan\n",
       "placements are sorted according to the non-nan part if it exists.\n",
       "Non-nan values are sorted as before.\n",
       "\n",
       ".. versionadded:: 1.12.0\n",
       "\n",
       "quicksort has been changed to `introsort <https://en.wikipedia.org/wiki/Introsort>`_.\n",
       "When sorting does not make enough progress it switches to\n",
       "`heapsort <https://en.wikipedia.org/wiki/Heapsort>`_.\n",
       "This implementation makes quicksort O(n*log(n)) in the worst case.\n",
       "\n",
       "'stable' automatically chooses the best stable sorting algorithm\n",
       "for the data type being sorted.\n",
       "It, along with 'mergesort' is currently mapped to\n",
       "`timsort <https://en.wikipedia.org/wiki/Timsort>`_\n",
       "or `radix sort <https://en.wikipedia.org/wiki/Radix_sort>`_\n",
       "depending on the data type.\n",
       "API forward compatibility currently limits the\n",
       "ability to select the implementation and it is hardwired for the different\n",
       "data types.\n",
       "\n",
       ".. versionadded:: 1.17.0\n",
       "\n",
       "Timsort is added for better performance on already or nearly\n",
       "sorted data. On random data timsort is almost identical to\n",
       "mergesort. It is now used for stable sort while quicksort is still the\n",
       "default sort if none is chosen. For timsort details, refer to\n",
       "`CPython listsort.txt <https://github.com/python/cpython/blob/3.7/Objects/listsort.txt>`_.\n",
       "'mergesort' and 'stable' are mapped to radix sort for integer data types. Radix sort is an\n",
       "O(n) sort instead of O(n log n).\n",
       "\n",
       ".. versionchanged:: 1.18.0\n",
       "\n",
       "NaT now sorts to the end of arrays for consistency with NaN.\n",
       "\n",
       "Examples\n",
       "--------\n",
       ">>> a = np.array([[1,4],[3,1]])\n",
       ">>> np.sort(a)                # sort along the last axis\n",
       "array([[1, 4],\n",
       "       [1, 3]])\n",
       ">>> np.sort(a, axis=None)     # sort the flattened array\n",
       "array([1, 1, 3, 4])\n",
       ">>> np.sort(a, axis=0)        # sort along the first axis\n",
       "array([[1, 1],\n",
       "       [3, 4]])\n",
       "\n",
       "Use the `order` keyword to specify a field to use when sorting a\n",
       "structured array:\n",
       "\n",
       ">>> dtype = [('name', 'S10'), ('height', float), ('age', int)]\n",
       ">>> values = [('Arthur', 1.8, 41), ('Lancelot', 1.9, 38),\n",
       "...           ('Galahad', 1.7, 38)]\n",
       ">>> a = np.array(values, dtype=dtype)       # create a structured array\n",
       ">>> np.sort(a, order='height')                        # doctest: +SKIP\n",
       "array([('Galahad', 1.7, 38), ('Arthur', 1.8, 41),\n",
       "       ('Lancelot', 1.8999999999999999, 38)],\n",
       "      dtype=[('name', '|S10'), ('height', '<f8'), ('age', '<i4')])\n",
       "\n",
       "Sort by age, then height if ages are equal:\n",
       "\n",
       ">>> np.sort(a, order=['age', 'height'])               # doctest: +SKIP\n",
       "array([('Galahad', 1.7, 38), ('Lancelot', 1.8999999999999999, 38),\n",
       "       ('Arthur', 1.8, 41)],\n",
       "      dtype=[('name', '|S10'), ('height', '<f8'), ('age', '<i4')])\n",
       "\u001b[1;31mFile:\u001b[0m      d:\\conda\\envs\\pip310ecco\\lib\\site-packages\\numpy\\core\\fromnumeric.py\n",
       "\u001b[1;31mType:\u001b[0m      function"
      ]
     },
     "metadata": {},
     "output_type": "display_data"
    }
   ],
   "source": [
    "np.sort?"
   ]
  },
  {
   "cell_type": "code",
   "execution_count": null,
   "metadata": {},
   "outputs": [],
   "source": []
  },
  {
   "cell_type": "code",
   "execution_count": null,
   "metadata": {},
   "outputs": [],
   "source": []
  },
  {
   "cell_type": "code",
   "execution_count": null,
   "metadata": {},
   "outputs": [],
   "source": []
  },
  {
   "cell_type": "code",
   "execution_count": null,
   "metadata": {},
   "outputs": [],
   "source": []
  },
  {
   "cell_type": "code",
   "execution_count": 33,
   "metadata": {
    "collapsed": true,
    "jupyter": {
     "outputs_hidden": true
    },
    "tags": []
   },
   "outputs": [
    {
     "data": {
      "text/plain": [
       "\u001b[1;31mSignature:\u001b[0m \u001b[0mnp\u001b[0m\u001b[1;33m.\u001b[0m\u001b[0mcolumn_stack\u001b[0m\u001b[1;33m(\u001b[0m\u001b[0mtup\u001b[0m\u001b[1;33m)\u001b[0m\u001b[1;33m\u001b[0m\u001b[1;33m\u001b[0m\u001b[0m\n",
       "\u001b[1;31mDocstring:\u001b[0m\n",
       "Stack 1-D arrays as columns into a 2-D array.\n",
       "\n",
       "Take a sequence of 1-D arrays and stack them as columns\n",
       "to make a single 2-D array. 2-D arrays are stacked as-is,\n",
       "just like with `hstack`.  1-D arrays are turned into 2-D columns\n",
       "first.\n",
       "\n",
       "Parameters\n",
       "----------\n",
       "tup : sequence of 1-D or 2-D arrays.\n",
       "    Arrays to stack. All of them must have the same first dimension.\n",
       "\n",
       "Returns\n",
       "-------\n",
       "stacked : 2-D array\n",
       "    The array formed by stacking the given arrays.\n",
       "\n",
       "See Also\n",
       "--------\n",
       "stack, hstack, vstack, concatenate\n",
       "\n",
       "Examples\n",
       "--------\n",
       ">>> a = np.array((1,2,3))\n",
       ">>> b = np.array((2,3,4))\n",
       ">>> np.column_stack((a,b))\n",
       "array([[1, 2],\n",
       "       [2, 3],\n",
       "       [3, 4]])\n",
       "\u001b[1;31mFile:\u001b[0m      d:\\conda\\envs\\pip310ecco\\lib\\site-packages\\numpy\\lib\\shape_base.py\n",
       "\u001b[1;31mType:\u001b[0m      function"
      ]
     },
     "metadata": {},
     "output_type": "display_data"
    }
   ],
   "source": [
    "np.column_stack?"
   ]
  },
  {
   "cell_type": "code",
   "execution_count": null,
   "metadata": {},
   "outputs": [],
   "source": []
  },
  {
   "cell_type": "code",
   "execution_count": 58,
   "metadata": {},
   "outputs": [],
   "source": [
    "# testonly \n",
    "a= np.array(  [[1,0],  [1,1]   ,[0,1],[-1,0], [0,-1]]  ).T"
   ]
  },
  {
   "cell_type": "code",
   "execution_count": null,
   "metadata": {},
   "outputs": [],
   "source": []
  },
  {
   "cell_type": "code",
   "execution_count": null,
   "metadata": {},
   "outputs": [],
   "source": []
  },
  {
   "cell_type": "code",
   "execution_count": null,
   "metadata": {},
   "outputs": [],
   "source": []
  },
  {
   "cell_type": "code",
   "execution_count": 122,
   "metadata": {},
   "outputs": [
    {
     "data": {
      "text/plain": [
       "(300, 6)"
      ]
     },
     "execution_count": 122,
     "metadata": {},
     "output_type": "execute_result"
    }
   ],
   "source": [
    "a=np.column_stack((king,man,woman,queen,  king-man+woman ,  0.7*king+0.3*woman  ))\n",
    "#a=np.column_stack((king,man,woman,queen,  king-man+woman ,  king+woman  ))\n",
    "a.shape"
   ]
  },
  {
   "cell_type": "code",
   "execution_count": null,
   "metadata": {},
   "outputs": [],
   "source": []
  },
  {
   "cell_type": "code",
   "execution_count": 123,
   "metadata": {},
   "outputs": [
    {
     "data": {
      "text/plain": [
       "array([[49.11, 13.82,  9.84, 30.78, 45.13, 37.33],\n",
       "       [13.82, 35.02, 26.16,  9.19,  4.96, 17.52],\n",
       "       [ 9.84, 26.16, 39.91, 16.58, 23.58, 18.86],\n",
       "       [30.78,  9.19, 16.58, 48.04, 38.17, 26.52],\n",
       "       [45.13,  4.96, 23.58, 38.17, 63.76, 38.67],\n",
       "       [37.33, 17.52, 18.86, 26.52, 38.67, 31.79]], dtype=float32)"
      ]
     },
     "execution_count": 123,
     "metadata": {},
     "output_type": "execute_result"
    }
   ],
   "source": [
    "a.T @ a"
   ]
  },
  {
   "cell_type": "code",
   "execution_count": 124,
   "metadata": {},
   "outputs": [
    {
     "data": {
      "text/plain": [
       "array([[1.  , 0.33, 0.22, 0.63, 0.81, 0.94],\n",
       "       [0.33, 1.  , 0.7 , 0.22, 0.11, 0.53],\n",
       "       [0.22, 0.7 , 1.  , 0.38, 0.47, 0.53],\n",
       "       [0.63, 0.22, 0.38, 1.  , 0.69, 0.68],\n",
       "       [0.81, 0.11, 0.47, 0.69, 1.  , 0.86],\n",
       "       [0.94, 0.53, 0.53, 0.68, 0.86, 1.  ]], dtype=float32)"
      ]
     },
     "execution_count": 124,
     "metadata": {},
     "output_type": "execute_result"
    }
   ],
   "source": [
    "cosine_similarity(a.T)"
   ]
  },
  {
   "cell_type": "code",
   "execution_count": 113,
   "metadata": {},
   "outputs": [
    {
     "name": "stderr",
     "output_type": "stream",
     "text": [
      "C:\\Users\\marti\\AppData\\Local\\Temp\\ipykernel_31740\\588597777.py:1: RuntimeWarning: invalid value encountered in arccos\n",
      "  np.round(   np.arccos(  cosine_similarity(a.T)  ) *100   )\n"
     ]
    },
    {
     "data": {
      "text/plain": [
       "array([[ nan, 123., 135.,  88.,  63.,  63.],\n",
       "       [123.,   0.,  80., 134., 147.,  87.],\n",
       "       [135.,  80.,  nan, 118., 108.,  71.],\n",
       "       [ 88., 134., 118.,  nan,  81.,  86.],\n",
       "       [ 63., 147., 108.,  81.,   0.,  60.],\n",
       "       [ 63.,  87.,  71.,  86.,  60.,  nan]], dtype=float32)"
      ]
     },
     "execution_count": 113,
     "metadata": {},
     "output_type": "execute_result"
    }
   ],
   "source": [
    "np.round(   np.arccos(  cosine_similarity(a.T)  ) *100   )"
   ]
  },
  {
   "cell_type": "code",
   "execution_count": 114,
   "metadata": {},
   "outputs": [
    {
     "name": "stderr",
     "output_type": "stream",
     "text": [
      "C:\\Users\\marti\\AppData\\Local\\Temp\\ipykernel_31740\\651802614.py:2: RuntimeWarning: invalid value encountered in arccos\n",
      "  np.round(   np.arccos(  cosine_similarity(a.T)  ) *100 *180 / 314  )\n"
     ]
    },
    {
     "data": {
      "text/plain": [
       "array([[nan, 71., 77., 51., 36., 36.],\n",
       "       [71.,  0., 46., 77., 84., 50.],\n",
       "       [77., 46., nan, 68., 62., 41.],\n",
       "       [51., 77., 68., nan, 46., 49.],\n",
       "       [36., 84., 62., 46.,  0., 34.],\n",
       "       [36., 50., 41., 49., 34., nan]], dtype=float32)"
      ]
     },
     "execution_count": 114,
     "metadata": {},
     "output_type": "execute_result"
    }
   ],
   "source": [
    "#np.round(   np.arccos(  cosine_similarity(a.T)  ) *1000 *180 / 314  )\n",
    "np.round(   np.arccos(  cosine_similarity(a.T)  ) *100 *180 / 314  )\n"
   ]
  },
  {
   "cell_type": "code",
   "execution_count": 115,
   "metadata": {},
   "outputs": [
    {
     "data": {
      "text/plain": [
       "array([[71.]], dtype=float32)"
      ]
     },
     "execution_count": 115,
     "metadata": {},
     "output_type": "execute_result"
    }
   ],
   "source": [
    "np.round(   np.arccos(  cosine_similarity(king.reshape(1, -1),man.reshape(1, -1))  ) *100 *180 / 314  )\n"
   ]
  },
  {
   "cell_type": "code",
   "execution_count": 97,
   "metadata": {},
   "outputs": [
    {
     "data": {
      "text/plain": [
       "array([[46.]], dtype=float32)"
      ]
     },
     "execution_count": 97,
     "metadata": {},
     "output_type": "execute_result"
    }
   ],
   "source": [
    "np.round(   np.arccos(  cosine_similarity(man.reshape(1, -1),woman.reshape(1, -1))  ) *100 *180 / 314  )\n"
   ]
  },
  {
   "cell_type": "code",
   "execution_count": 98,
   "metadata": {},
   "outputs": [],
   "source": [
    "#array1.reshape(1, -1) if it contains a single sample."
   ]
  },
  {
   "cell_type": "code",
   "execution_count": 99,
   "metadata": {},
   "outputs": [
    {
     "data": {
      "text/plain": [
       "array([[82.]], dtype=float32)"
      ]
     },
     "execution_count": 99,
     "metadata": {},
     "output_type": "execute_result"
    }
   ],
   "source": [
    "np.round(   np.arccos(  cosine_similarity((woman-man).reshape(1, -1),(king-man).reshape(1, -1))  ) *100 *180 / 314  )\n"
   ]
  },
  {
   "cell_type": "code",
   "execution_count": null,
   "metadata": {},
   "outputs": [],
   "source": []
  },
  {
   "cell_type": "code",
   "execution_count": 100,
   "metadata": {},
   "outputs": [
    {
     "data": {
      "text/plain": [
       "array([[45.]], dtype=float32)"
      ]
     },
     "execution_count": 100,
     "metadata": {},
     "output_type": "execute_result"
    }
   ],
   "source": [
    "np.round(   np.arccos(  cosine_similarity((queen-man).reshape(1, -1),(king-man).reshape(1, -1))  ) *100 *180 / 314  )\n"
   ]
  },
  {
   "cell_type": "code",
   "execution_count": 101,
   "metadata": {},
   "outputs": [
    {
     "data": {
      "text/plain": [
       "array([[65.]], dtype=float32)"
      ]
     },
     "execution_count": 101,
     "metadata": {},
     "output_type": "execute_result"
    }
   ],
   "source": [
    "np.round(   np.arccos(  cosine_similarity((queen-man).reshape(1, -1),(woman-man).reshape(1, -1))  ) *100 *180 / 314  )\n"
   ]
  },
  {
   "cell_type": "code",
   "execution_count": null,
   "metadata": {},
   "outputs": [],
   "source": []
  },
  {
   "cell_type": "code",
   "execution_count": null,
   "metadata": {},
   "outputs": [],
   "source": []
  },
  {
   "cell_type": "code",
   "execution_count": null,
   "metadata": {},
   "outputs": [],
   "source": []
  },
  {
   "cell_type": "code",
   "execution_count": 88,
   "metadata": {},
   "outputs": [],
   "source": [
    "man=model['man']\n",
    "##man=model['person'] #aaa\n"
   ]
  },
  {
   "cell_type": "code",
   "execution_count": 89,
   "metadata": {},
   "outputs": [
    {
     "data": {
      "text/plain": [
       "49.112144"
      ]
     },
     "execution_count": 89,
     "metadata": {},
     "output_type": "execute_result"
    }
   ],
   "source": [
    "np.dot(king,king)"
   ]
  },
  {
   "cell_type": "code",
   "execution_count": null,
   "metadata": {},
   "outputs": [],
   "source": []
  },
  {
   "cell_type": "code",
   "execution_count": null,
   "metadata": {},
   "outputs": [],
   "source": []
  },
  {
   "cell_type": "code",
   "execution_count": null,
   "metadata": {},
   "outputs": [],
   "source": []
  },
  {
   "cell_type": "code",
   "execution_count": null,
   "metadata": {},
   "outputs": [],
   "source": []
  },
  {
   "cell_type": "code",
   "execution_count": null,
   "metadata": {},
   "outputs": [],
   "source": []
  },
  {
   "cell_type": "markdown",
   "metadata": {
    "colab_type": "text",
    "id": "S2duYBkk_6E_",
    "tags": []
   },
   "source": [
    "#### How many words does this table have?"
   ]
  },
  {
   "cell_type": "code",
   "execution_count": 16,
   "metadata": {
    "colab": {
     "base_uri": "https://localhost:8080/",
     "height": 34
    },
    "colab_type": "code",
    "id": "_6BObQ0q_6FA",
    "outputId": "5665e2ca-00fb-4414-e2aa-2076f70ffd02"
   },
   "outputs": [
    {
     "data": {
      "text/plain": [
       "(400000, 300)"
      ]
     },
     "execution_count": 16,
     "metadata": {},
     "output_type": "execute_result"
    }
   ],
   "source": [
    "model.vectors.shape"
   ]
  },
  {
   "cell_type": "markdown",
   "metadata": {
    "colab_type": "text",
    "id": "u9ULYBe7_6FE"
   },
   "source": [
    "Which means:\n",
    "* 400,000 words (vocab_size)\n",
    "* Each has an embedding composed of 50 numbers (embedding_size)"
   ]
  },
  {
   "cell_type": "markdown",
   "metadata": {
    "colab_type": "text",
    "id": "0vUJ6e9B_6FG",
    "jp-MarkdownHeadingCollapsed": true,
    "tags": []
   },
   "source": [
    "# Visualizing the embedding vector\n",
    "Let's plot the vector so we can have a colorful visual of values in the embedding vector"
   ]
  },
  {
   "cell_type": "code",
   "execution_count": 27,
   "metadata": {
    "colab": {},
    "colab_type": "code",
    "id": "RRmmYf8-_6FT"
   },
   "outputs": [],
   "source": [
    "\n",
    "def plot_embeddings(vectors, labels=None):\n",
    "    n_vectors = len(vectors)\n",
    "    fig = plt.figure(figsize=(12, n_vectors))\n",
    "    # ax = fig.add_axes([0.1, 0.1, 0.8, 0.8])\n",
    "    # ax = fig.add_axes([1, 1, 1, 1])\n",
    "    ax = plt.gca()\n",
    "    \n",
    "    sns.heatmap(vectors, cmap='RdBu', vmax=2, vmin=-2, ax=ax)     #aaaa  vmax=2, vmin=-2,\n",
    "    \n",
    "    \n",
    "    if labels:\n",
    "        ax.set_yticklabels(labels,rotation=0)\n",
    "        ax.tick_params(axis='both', which='major', labelsize=30)\n",
    "        \n",
    "    plt.tick_params(axis='x',          # changes apply to the x-axis\n",
    "        which='both',      # both major and minor ticks are affected\n",
    "        bottom=False,      # ticks along the bottom edge are off\n",
    "        top=False,         # ticks along the top edge are off\n",
    "        labelbottom=False) # labels along the bottom edge are off\n",
    "    \n",
    "    # From https://github.com/mwaskom/seaborn/issues/1773\n",
    "    # fix for mpl bug that cuts off top/bottom of seaborn viz\n",
    "    b, t = plt.ylim() # discover the values for bottom and top\n",
    "    b += 0.5 # Add 0.5 to the bottom\n",
    "    t -= 0.5 # Subtract 0.5 from the top\n",
    "    plt.ylim(b, t) # update the ylim(bottom, top) values\n",
    "    plt.show() # ta-da!"
   ]
  },
  {
   "cell_type": "markdown",
   "metadata": {
    "colab_type": "text",
    "id": "nW_otYufCb9b"
   },
   "source": [
    "Let's plot the embedding of `king`"
   ]
  },
  {
   "cell_type": "code",
   "execution_count": 18,
   "metadata": {
    "colab": {
     "base_uri": "https://localhost:8080/",
     "height": 86
    },
    "colab_type": "code",
    "id": "1QJf4kfvCWOU",
    "outputId": "717f0aa1-43e6-491e-ba11-9dc01aadc2d6"
   },
   "outputs": [
    {
     "data": {
      "image/png": "[encoded data removed]",
      "text/plain": [
       "<Figure size 1200x100 with 2 Axes>"
      ]
     },
     "metadata": {},
     "output_type": "display_data"
    }
   ],
   "source": [
    "plot_embeddings([model['king']], ['king'])"
   ]
  },
  {
   "cell_type": "markdown",
   "metadata": {
    "colab_type": "text",
    "id": "xtM9lYuuCgjD"
   },
   "source": [
    "We can also compare multiple embeddings:"
   ]
  },
  {
   "cell_type": "code",
   "execution_count": 19,
   "metadata": {
    "colab": {
     "base_uri": "https://localhost:8080/",
     "height": 303
    },
    "colab_type": "code",
    "id": "K6SADFGaCWUH",
    "outputId": "31280cc9-07ba-49df-f01a-9680bebc429a"
   },
   "outputs": [
    {
     "data": {
      "image/png": "[encoded data removed]",
      "text/plain": [
       "<Figure size 1200x500 with 2 Axes>"
      ]
     },
     "metadata": {},
     "output_type": "display_data"
    }
   ],
   "source": [
    "plot_embeddings([model['king'], model['man'], model['woman'], model['girl'], model['boy']],\n",
    "              ['king', 'man', 'woman', 'girl', 'boy'])"
   ]
  },
  {
   "cell_type": "markdown",
   "metadata": {
    "colab_type": "text",
    "id": "cz1-mreNClOK"
   },
   "source": [
    "Here's another example including a number of different concepts:"
   ]
  },
  {
   "cell_type": "code",
   "execution_count": 20,
   "metadata": {
    "colab": {
     "base_uri": "https://localhost:8080/",
     "height": 303
    },
    "colab_type": "code",
    "id": "cgBLjFK8_6FW",
    "outputId": "a4134d48-0252-404e-8e31-5dab9de3a9e4"
   },
   "outputs": [
    {
     "data": {
      "image/png": "[encoded data removed]",
      "text/plain": [
       "<Figure size 1200x500 with 2 Axes>"
      ]
     },
     "metadata": {},
     "output_type": "display_data"
    }
   ],
   "source": [
    "plot_embeddings([model['king'], model['water'], model['god'], model['love'], model['star']],\n",
    "              ['king', 'water', 'god', 'love', 'star'])"
   ]
  },
  {
   "cell_type": "markdown",
   "metadata": {
    "colab_type": "text",
    "id": "jjXRJTkH_6FZ",
    "tags": []
   },
   "source": [
    "# Analogies\n",
    "### king - man + woman  = ?"
   ]
  },
  {
   "cell_type": "code",
   "execution_count": null,
   "metadata": {},
   "outputs": [],
   "source": []
  },
  {
   "cell_type": "code",
   "execution_count": null,
   "metadata": {},
   "outputs": [],
   "source": []
  },
  {
   "cell_type": "code",
   "execution_count": 37,
   "metadata": {},
   "outputs": [
    {
     "data": {
      "text/plain": [
       "\u001b[1;31mSignature:\u001b[0m \u001b[0mmodel\u001b[0m\u001b[1;33m.\u001b[0m\u001b[0mmost_similar_to_given\u001b[0m\u001b[1;33m(\u001b[0m\u001b[0mkey1\u001b[0m\u001b[1;33m,\u001b[0m \u001b[0mkeys_list\u001b[0m\u001b[1;33m)\u001b[0m\u001b[1;33m\u001b[0m\u001b[1;33m\u001b[0m\u001b[0m\n",
       "\u001b[1;31mDocstring:\u001b[0m Get the `key` from `keys_list` most similar to `key1`.\n",
       "\u001b[1;31mFile:\u001b[0m      d:\\conda\\envs\\pip310ecco\\lib\\site-packages\\gensim\\models\\keyedvectors.py\n",
       "\u001b[1;31mType:\u001b[0m      method"
      ]
     },
     "metadata": {},
     "output_type": "display_data"
    }
   ],
   "source": [
    "model.most_similar_to_given?"
   ]
  },
  {
   "cell_type": "code",
   "execution_count": 264,
   "metadata": {},
   "outputs": [
    {
     "data": {
      "text/plain": [
       "[('king', 1.0000),\n",
       " ('queen', 0.6336),\n",
       " ('prince', 0.6197),\n",
       " ('monarch', 0.5900),\n",
       " ('kingdom', 0.5791),\n",
       " ('throne', 0.5606),\n",
       " ('ii', 0.5562),\n",
       " ('iii', 0.5503),\n",
       " ('crown', 0.5225),\n",
       " ('reign', 0.5217),\n",
       " ('kings', 0.5066),\n",
       " ('brother', 0.5028),\n",
       " ('vi', 0.5007),\n",
       " ('henry', 0.4958),\n",
       " ('son', 0.4929),\n",
       " ('duke', 0.4890),\n",
       " ('royal', 0.4875),\n",
       " ('ruler', 0.4849),\n",
       " ('emperor', 0.4837),\n",
       " ('iv', 0.4762)]"
      ]
     },
     "execution_count": 264,
     "metadata": {},
     "output_type": "execute_result"
    }
   ],
   "source": [
    "#model.most_similar( (woman), topn=20)\n",
    "model.most_similar( (king), topn=20)\n",
    "#model.most_similar( (queen), topn=20)\n"
   ]
  },
  {
   "cell_type": "code",
   "execution_count": null,
   "metadata": {},
   "outputs": [],
   "source": []
  },
  {
   "cell_type": "code",
   "execution_count": 266,
   "metadata": {},
   "outputs": [
    {
     "data": {
      "text/plain": [
       "[('king', 0.7298),\n",
       " ('queen', 0.6689),\n",
       " ('princess', 0.5490),\n",
       " ('throne', 0.5298),\n",
       " ('monarch', 0.5250),\n",
       " ('mother', 0.5228),\n",
       " ('daughter', 0.5173),\n",
       " ('woman', 0.4956),\n",
       " ('wife', 0.4859),\n",
       " ('elizabeth', 0.4859),\n",
       " ('her', 0.4650),\n",
       " ('kingdom', 0.4636),\n",
       " ('prince', 0.4545),\n",
       " ('crown', 0.4408),\n",
       " ('marry', 0.4385),\n",
       " ('married', 0.4373),\n",
       " ('sister', 0.4327),\n",
       " ('pregnant', 0.4313),\n",
       " ('mary', 0.4291),\n",
       " ('anne', 0.4242)]"
      ]
     },
     "execution_count": 266,
     "metadata": {},
     "output_type": "execute_result"
    }
   ],
   "source": [
    "model.most_similar(0.8*king-man+woman ,topn=20 )"
   ]
  },
  {
   "cell_type": "code",
   "execution_count": 173,
   "metadata": {},
   "outputs": [
    {
     "data": {
      "text/plain": [
       "[('king', 0.8066),\n",
       " ('queen', 0.6896),\n",
       " ('monarch', 0.5575),\n",
       " ('throne', 0.5565),\n",
       " ('princess', 0.5519),\n",
       " ('mother', 0.5142),\n",
       " ('daughter', 0.5133),\n",
       " ('kingdom', 0.5025),\n",
       " ('prince', 0.5018),\n",
       " ('elizabeth', 0.4908),\n",
       " ('wife', 0.4841),\n",
       " ('crown', 0.4728),\n",
       " ('woman', 0.4675),\n",
       " ('her', 0.4504),\n",
       " ('royal', 0.4489),\n",
       " ('marry', 0.4382),\n",
       " ('married', 0.4308),\n",
       " ('sister', 0.4290),\n",
       " ('husband', 0.4239),\n",
       " ('ii', 0.4199)]"
      ]
     },
     "execution_count": 173,
     "metadata": {},
     "output_type": "execute_result"
    }
   ],
   "source": [
    "model.most_similar(king-man+woman ,topn=20 )"
   ]
  },
  {
   "cell_type": "code",
   "execution_count": 175,
   "metadata": {},
   "outputs": [
    {
     "data": {
      "text/plain": [
       "[('king', 0.9102),\n",
       " ('queen', 0.6589),\n",
       " ('monarch', 0.5873),\n",
       " ('prince', 0.5832),\n",
       " ('throne', 0.5586),\n",
       " ('kingdom', 0.5512),\n",
       " ('female', 0.5389),\n",
       " ('male', 0.5245),\n",
       " ('crown', 0.5140),\n",
       " ('ii', 0.5087),\n",
       " ('brother', 0.4947),\n",
       " ('royal', 0.4854),\n",
       " ('son', 0.4851),\n",
       " ('iii', 0.4717),\n",
       " ('kings', 0.4702),\n",
       " ('emperor', 0.4701),\n",
       " ('father', 0.4698),\n",
       " ('named', 0.4669),\n",
       " ('ruler', 0.4651),\n",
       " ('reign', 0.4604)]"
      ]
     },
     "execution_count": 175,
     "metadata": {},
     "output_type": "execute_result"
    }
   ],
   "source": [
    "model.most_similar(king+0.5*female ,topn=20 )"
   ]
  },
  {
   "cell_type": "code",
   "execution_count": 265,
   "metadata": {},
   "outputs": [
    {
     "data": {
      "text/plain": [
       "[('king', 0.9287),\n",
       " ('queen', 0.6789),\n",
       " ('prince', 0.6064),\n",
       " ('monarch', 0.5868),\n",
       " ('woman', 0.5680),\n",
       " ('mother', 0.5617),\n",
       " ('son', 0.5602),\n",
       " ('father', 0.5599),\n",
       " ('throne', 0.5593),\n",
       " ('kingdom', 0.5496)]"
      ]
     },
     "execution_count": 265,
     "metadata": {},
     "output_type": "execute_result"
    }
   ],
   "source": [
    "model.most_similar(king+0.3*woman  )\n",
    "model.most_similar(king+0.5*woman  )"
   ]
  },
  {
   "cell_type": "code",
   "execution_count": 125,
   "metadata": {},
   "outputs": [
    {
     "data": {
      "text/plain": [
       "[('queen', 0.6790),\n",
       " ('prince', 0.6087),\n",
       " ('monarch', 0.5886),\n",
       " ('throne', 0.5610),\n",
       " ('son', 0.5590),\n",
       " ('father', 0.5573),\n",
       " ('mother', 0.5546),\n",
       " ('kingdom', 0.5524),\n",
       " ('man', 0.5401),\n",
       " ('brother', 0.5386)]"
      ]
     },
     "execution_count": 125,
     "metadata": {},
     "output_type": "execute_result"
    }
   ],
   "source": [
    "model.most_similar(positive=[(\"king\", 0.7), (\"woman\", 0.3)]   )"
   ]
  },
  {
   "cell_type": "code",
   "execution_count": 118,
   "metadata": {},
   "outputs": [
    {
     "data": {
      "text/plain": [
       "[('queen', 0.6723),\n",
       " ('prince', 0.6225),\n",
       " ('monarch', 0.5984),\n",
       " ('kingdom', 0.5714),\n",
       " ('throne', 0.5697),\n",
       " ('son', 0.5424),\n",
       " ('ii', 0.5407),\n",
       " ('crown', 0.5365),\n",
       " ('brother', 0.5334),\n",
       " ('father', 0.5282)]"
      ]
     },
     "execution_count": 118,
     "metadata": {},
     "output_type": "execute_result"
    }
   ],
   "source": [
    "model.most_similar(positive=[\"king\", (\"woman\", 0.25)]   )"
   ]
  },
  {
   "cell_type": "code",
   "execution_count": 119,
   "metadata": {
    "colab": {
     "base_uri": "https://localhost:8080/",
     "height": 187
    },
    "colab_type": "code",
    "id": "dXs2TVam_6Fa",
    "outputId": "40055f86-b4cb-4144-a5ac-c324f0f4edc3"
   },
   "outputs": [
    {
     "data": {
      "text/plain": [
       "[('mother', 0.6680),\n",
       " ('man', 0.6607),\n",
       " ('queen', 0.6474),\n",
       " ('wife', 0.6157),\n",
       " ('daughter', 0.6061),\n",
       " ('girl', 0.5875),\n",
       " ('father', 0.5838),\n",
       " ('her', 0.5807),\n",
       " ('husband', 0.5761),\n",
       " ('she', 0.5646)]"
      ]
     },
     "execution_count": 119,
     "metadata": {},
     "output_type": "execute_result"
    }
   ],
   "source": [
    "model.most_similar(positive=[\"king\", \"woman\"]   )"
   ]
  },
  {
   "cell_type": "code",
   "execution_count": 172,
   "metadata": {
    "colab": {
     "base_uri": "https://localhost:8080/",
     "height": 187
    },
    "colab_type": "code",
    "id": "dXs2TVam_6Fa",
    "outputId": "40055f86-b4cb-4144-a5ac-c324f0f4edc3"
   },
   "outputs": [
    {
     "data": {
      "text/plain": [
       "[('queen', 0.6713),\n",
       " ('princess', 0.5433),\n",
       " ('throne', 0.5386),\n",
       " ('monarch', 0.5348),\n",
       " ('daughter', 0.4980),\n",
       " ('mother', 0.4956),\n",
       " ('elizabeth', 0.4833),\n",
       " ('kingdom', 0.4775),\n",
       " ('prince', 0.4668),\n",
       " ('wife', 0.4647),\n",
       " ('crown', 0.4479),\n",
       " ('her', 0.4380),\n",
       " ('royal', 0.4296),\n",
       " ('marry', 0.4261),\n",
       " ('married', 0.4226),\n",
       " ('sister', 0.4175),\n",
       " ('anne', 0.4171),\n",
       " ('mary', 0.4165),\n",
       " ('duchess', 0.4059),\n",
       " ('margaret', 0.4058)]"
      ]
     },
     "execution_count": 172,
     "metadata": {},
     "output_type": "execute_result"
    }
   ],
   "source": [
    "model.most_similar(positive=[\"king\", \"woman\"], negative=[\"man\"], topn=20)"
   ]
  },
  {
   "cell_type": "code",
   "execution_count": 28,
   "metadata": {
    "colab": {
     "base_uri": "https://localhost:8080/",
     "height": 303
    },
    "colab_type": "code",
    "id": "KMLRo6DW_6Fd",
    "outputId": "7f7d2afa-ccf4-4a56-9c0b-b49a725691bf"
   },
   "outputs": [
    {
     "data": {
      "image/png": "[encoded data removed]",
      "text/plain": [
       "<Figure size 1200x500 with 2 Axes>"
      ]
     },
     "metadata": {},
     "output_type": "display_data"
    }
   ],
   "source": [
    "plot_embeddings([model['king'], \n",
    "                model['man'], \n",
    "                model['woman'],\n",
    "                model['king'] - model['man'] + model['woman'],\n",
    "                model['queen']],\n",
    "                ['king', 'man', 'woman', 'k-m+wo', 'queen'])"
   ]
  },
  {
   "cell_type": "markdown",
   "metadata": {
    "colab_type": "text",
    "id": "Yl0kGOJn_6Fg"
   },
   "source": [
    "**2019 update**: This turned out to be a misconception. The result is actually closer to \"king\" than it is to \"queen\", it's just that the code rules out the input vectors as possible outputs   #aaaa\n",
    "\n",
    "\n",
    "[Fair is Better than Sensational:Man is to Doctor as Woman is to Doctor](https://arxiv.org/abs/1905.09866)\n",
    "\n",
    "To verify, let's calculate cosine distance between the result of the analogy, and `queen`."
   ]
  },
  {
   "cell_type": "code",
   "execution_count": 27,
   "metadata": {
    "collapsed": true,
    "jupyter": {
     "outputs_hidden": true
    },
    "tags": []
   },
   "outputs": [
    {
     "data": {
      "text/plain": [
       "((300,),\n",
       " array([-0., -0.,  0.,  1.,  1., -0.,  0.,  0.,  0., -1., -1., -1.,  0.,\n",
       "         1.,  0.,  0.,  0.,  0., -0., -0., -1.,  0., -0.,  0.,  0., -1.,\n",
       "        -0., -0.,  0.,  0., -0., -0., -0.,  0., -1., -0., -0.,  0.,  0.,\n",
       "         0.,  0., -0., -0.,  0.,  0., -0.,  0.,  0.,  0., -1., -0.,  0.,\n",
       "         1., -1., -0., -0.,  0.,  0.,  1.,  0.,  0., -0.,  0.,  1.,  0.,\n",
       "        -1.,  0., -0.,  0.,  1.,  0., -0., -0.,  0.,  0.,  0.,  0., -1.,\n",
       "         0.,  0.,  0., -0.,  0.,  1.,  0., -0., -0.,  1.,  0., -0., -0.,\n",
       "        -1., -0.,  0., -0., -0.,  0., -0.,  0.,  0.,  0., -1.,  1., -1.,\n",
       "         0.,  0.,  0., -0.,  0.,  1.,  1.,  1.,  0.,  0.,  0., -0.,  0.,\n",
       "        -1., -0., -0., -1.,  1., -1., -1., -0.,  0.,  0.,  0.,  0.,  0.,\n",
       "         0.,  1., -0.,  1.,  0., -1., -1.,  0., -0.,  1.,  0.,  1., -0.,\n",
       "        -0., -0., -0.,  0.,  0.,  0., -0.,  0., -0., -0.,  1., -0.,  1.,\n",
       "         0., -0., -0., -0.,  1.,  1.,  0.,  0., -0.,  0., -0.,  0.,  0.,\n",
       "         1., -0.,  0., -0., -0., -0.,  1., -1.,  0., -0.,  0., -0.,  1.,\n",
       "        -0., -0.,  0., -0., -1.,  1., -0., -1., -0., -0., -0., -1., -0.,\n",
       "         1., -0., -1.,  0.,  0.,  1., -1., -0., -0.,  1., -1.,  0.,  0.,\n",
       "         0.,  1., -0., -0.,  0., -0., -0., -1.,  0., -1., -1., -0.,  0.,\n",
       "         0.,  0., -0., -1.,  1.,  1.,  0., -0., -0., -0.,  0., -0.,  0.,\n",
       "        -0.,  1., -0.,  0.,  0., -0., -0.,  0.,  1.,  0., -0.,  1., -0.,\n",
       "        -1., -0.,  0., -0.,  1., -0., -1.,  0., -0., -0.,  1.,  1., -1.,\n",
       "        -0., -1.,  0., -0., -0., -0., -0.,  0.,  0., -0., -0., -1.,  1.,\n",
       "        -1., -1., -0., -1., -0.,  1.,  0.,  1., -0., -0., -1., -1.,  0.,\n",
       "         0.,  1., -0., -0.,  0., -1., -0.,  0., -0., -0.,  1.,  0., -0.,\n",
       "         1.], dtype=float32),\n",
       " (1, 300),\n",
       " array([[-2.e-01,  6.e-02, -9.e-02,  5.e-01,  3.e-01, -1.e-01,  8.e-02,\n",
       "          9.e-02, -3.e-01, -9.e-01, -9.e-02, -1.e-01,  2.e-01,  7.e-01,\n",
       "          3.e-01, -4.e-02,  2.e-01, -3.e-01, -5.e-02, -2.e-01, -8.e-01,\n",
       "          2.e-01, -1.e-01,  4.e-01,  3.e-01, -2.e-01, -5.e-01, -2.e-02,\n",
       "          1.e-01,  3.e-01,  2.e-01, -7.e-02, -2.e-01,  4.e-01, -3.e-01,\n",
       "          3.e-01, -1.e-02,  1.e-01, -2.e-01, -2.e-01, -1.e-01, -2.e-01,\n",
       "         -6.e-01,  1.e+00,  2.e-01, -4.e-02,  6.e-01, -7.e-02,  5.e-01,\n",
       "         -5.e-01, -5.e-01,  4.e-01,  4.e-01, -3.e-02, -1.e-01, -2.e-01,\n",
       "          4.e-01, -3.e-01,  7.e-01, -6.e-02,  3.e-01,  5.e-01,  2.e-01,\n",
       "          7.e-01,  5.e-01, -9.e-01, -1.e-01,  1.e-01, -4.e-01,  4.e-01,\n",
       "          1.e-01,  3.e-01,  7.e-02, -2.e-01,  2.e-01,  1.e-01,  6.e-01,\n",
       "         -5.e-01,  9.e-02,  2.e-01,  4.e-01, -1.e-01,  1.e-01, -3.e-01,\n",
       "          6.e-01, -5.e-01,  1.e-01, -3.e-02,  1.e-01, -4.e-01,  2.e-01,\n",
       "         -4.e-01,  8.e-02, -4.e-01, -2.e-01, -4.e-01,  5.e-01, -1.e-01,\n",
       "         -5.e-02, -6.e-01,  3.e-01, -4.e-01,  4.e-01,  6.e-02,  2.e-01,\n",
       "          4.e-01,  6.e-02,  1.e-01,  5.e-02,  3.e-01,  3.e-01,  7.e-01,\n",
       "          4.e-01, -3.e-01,  6.e-02, -2.e-01,  9.e-02,  2.e-01, -8.e-02,\n",
       "         -6.e-01, -7.e-01,  7.e-01, -4.e-01, -5.e-01, -1.e-01,  1.e-01,\n",
       "         -2.e-02, -1.e-01,  5.e-01,  4.e-01,  6.e-01,  5.e-01, -1.e-01,\n",
       "         -1.e-01,  2.e-01, -9.e-03, -2.e-01,  5.e-02, -4.e-01,  6.e-01,\n",
       "          2.e-01,  8.e-01, -7.e-01, -2.e-01,  2.e-01, -5.e-01,  4.e-01,\n",
       "          4.e-01, -4.e-01, -4.e-01,  2.e-01, -2.e-01, -6.e-01,  5.e-01,\n",
       "          2.e-01,  6.e-01,  6.e-02, -4.e-01,  9.e-02, -6.e-01,  6.e-01,\n",
       "          8.e-01,  5.e-01,  1.e-01, -4.e-01,  8.e-01, -3.e-01,  7.e-01,\n",
       "          3.e-01,  4.e-01, -5.e-01,  9.e-01, -7.e-02, -6.e-01, -2.e-01,\n",
       "          3.e-01, -2.e-01, -9.e-02, -3.e-01,  2.e-01, -2.e-01,  4.e-01,\n",
       "          4.e-01, -2.e-01,  4.e-01, -4.e-01, -2.e-01,  5.e-01, -3.e-01,\n",
       "         -8.e-01, -4.e-01, -1.e-01, -3.e-01, -7.e-01, -5.e-02,  5.e-01,\n",
       "          5.e-02, -5.e-01, -2.e-01, -4.e-01,  2.e+00, -6.e-01, -3.e-01,\n",
       "          3.e-01,  5.e-01, -6.e-01,  4.e-01,  4.e-02,  3.e-01, -2.e-01,\n",
       "         -2.e-01, -1.e-01,  2.e-01, -3.e-01, -1.e-01, -2.e-01, -1.e-02,\n",
       "         -9.e-01, -4.e-02, -4.e-01,  5.e-02, -2.e-01,  3.e-01,  4.e-01,\n",
       "         -8.e-01,  1.e-01, -8.e-04,  6.e-02,  1.e-02,  5.e-01, -6.e-01,\n",
       "          3.e-01, -7.e-02,  1.e-01,  4.e-02,  3.e-01,  1.e-01,  4.e-01,\n",
       "         -3.e-02,  7.e-02, -3.e-01,  6.e-01,  5.e-01,  3.e-01, -2.e-01,\n",
       "          5.e-01, -4.e-01, -6.e-01,  3.e-01,  5.e-01, -2.e-01,  2.e-01,\n",
       "          2.e-01, -3.e-01,  6.e-01, -4.e-01,  3.e-01, -2.e-01,  5.e-01,\n",
       "         -8.e-01,  8.e-02, -6.e-01,  1.e-01,  7.e-01, -2.e-01,  6.e-02,\n",
       "         -3.e-01, -7.e-01,  5.e-01,  5.e-02,  5.e-01, -4.e-01,  4.e-01,\n",
       "         -3.e-01,  1.e-02,  2.e-01, -9.e-01, -3.e-01,  2.e-01, -2.e-01,\n",
       "          2.e-01,  4.e-01, -1.e-01, -2.e-01, -9.e-01,  2.e-01, -3.e-01,\n",
       "          5.e-01, -2.e-01, -3.e-01,  7.e-01, -3.e-01, -5.e-01,  1.e-01,\n",
       "         -2.e-01, -3.e-01,  2.e-01,  3.e-01,  2.e-01,  6.e-01]],\n",
       "       dtype=float32))"
      ]
     },
     "execution_count": 27,
     "metadata": {},
     "output_type": "execute_result"
    }
   ],
   "source": [
    "result = model['king'] - model['man'] + model['woman']\n",
    "\n",
    "# Similarity between result and 'queen'\n",
    "(result.shape, result, result.reshape(1, -1).shape, model['queen'].reshape(1, -1))"
   ]
  },
  {
   "cell_type": "code",
   "execution_count": null,
   "metadata": {},
   "outputs": [],
   "source": []
  },
  {
   "cell_type": "code",
   "execution_count": null,
   "metadata": {},
   "outputs": [],
   "source": []
  },
  {
   "cell_type": "code",
   "execution_count": 29,
   "metadata": {
    "colab": {
     "base_uri": "https://localhost:8080/",
     "height": 34
    },
    "colab_type": "code",
    "id": "246SfDTN_6Fh",
    "outputId": "3800a072-81a3-4b0c-ba64-98b2ebc4835d"
   },
   "outputs": [
    {
     "data": {
      "text/plain": [
       "array([[0.69]], dtype=float32)"
      ]
     },
     "execution_count": 29,
     "metadata": {},
     "output_type": "execute_result"
    }
   ],
   "source": [
    "result = model['king'] - model['man'] + model['woman']\n",
    "\n",
    "# Similarity between result and 'queen'\n",
    "cosine_similarity(result.reshape(1, -1), model['queen'].reshape(1, -1))"
   ]
  },
  {
   "cell_type": "markdown",
   "metadata": {
    "colab_type": "text",
    "id": "nLouwuAzC80t"
   },
   "source": [
    "Let's compare that to the distance between the result and `king`:"
   ]
  },
  {
   "cell_type": "code",
   "execution_count": 30,
   "metadata": {
    "colab": {
     "base_uri": "https://localhost:8080/",
     "height": 34
    },
    "colab_type": "code",
    "id": "eRL5BTC0_6Fk",
    "outputId": "b7d0dca9-4502-4878-b266-4eacf86fcb23"
   },
   "outputs": [
    {
     "data": {
      "text/plain": [
       "array([[0.81]], dtype=float32)"
      ]
     },
     "execution_count": 30,
     "metadata": {},
     "output_type": "execute_result"
    }
   ],
   "source": [
    "# Similarity between result and 'king'\n",
    "cosine_similarity(result.reshape(1, -1), model['king'].reshape(1, -1))"
   ]
  },
  {
   "cell_type": "markdown",
   "metadata": {
    "colab_type": "text",
    "id": "Vs7wB08b_6Fx"
   },
   "source": [
    "So the result is more similar to king (0.8859834 similarity score) than it is to queen (0.8609581 similarity score)."
   ]
  },
  {
   "cell_type": "code",
   "execution_count": 31,
   "metadata": {
    "colab": {
     "base_uri": "https://localhost:8080/",
     "height": 243
    },
    "colab_type": "code",
    "id": "khmA8TJI_6Fy",
    "outputId": "4d3b7c65-e10e-4109-f2e2-848429b61699"
   },
   "outputs": [
    {
     "data": {
      "image/png": "[encoded data removed]",
      "text/plain": [
       "<Figure size 1200x300 with 2 Axes>"
      ]
     },
     "metadata": {},
     "output_type": "display_data"
    }
   ],
   "source": [
    "plot_embeddings( [model['king'],\n",
    "                 result, \n",
    "                 model['queen']],\n",
    "                 ['king', 'k-m+w', 'queen'])"
   ]
  },
  {
   "cell_type": "markdown",
   "metadata": {
    "colab_type": "text",
    "id": "zwc6OsJv_6F1",
    "tags": []
   },
   "source": [
    "## Exercise: doctor - man + woman = ?"
   ]
  },
  {
   "cell_type": "code",
   "execution_count": 161,
   "metadata": {},
   "outputs": [
    {
     "data": {
      "text/plain": [
       "[('queen', 1.0000),\n",
       " ('elizabeth', 0.6771),\n",
       " ('princess', 0.6357),\n",
       " ('king', 0.6336),\n",
       " ('monarch', 0.5814),\n",
       " ('royal', 0.5431),\n",
       " ('majesty', 0.5350),\n",
       " ('victoria', 0.5240),\n",
       " ('throne', 0.5097),\n",
       " ('lady', 0.5045),\n",
       " ('crown', 0.4998),\n",
       " ('consort', 0.4955),\n",
       " ('mary', 0.4904),\n",
       " ('prince', 0.4869),\n",
       " ('coronation', 0.4846),\n",
       " ('empress', 0.4806),\n",
       " ('duchess', 0.4756),\n",
       " ('anne', 0.4754),\n",
       " ('ii', 0.4738),\n",
       " ('mother', 0.4622)]"
      ]
     },
     "execution_count": 161,
     "metadata": {},
     "output_type": "execute_result"
    }
   ],
   "source": [
    "model.most_similar( (0.7*king+0.0*woman), topn=20)\n",
    "model.most_similar( (man), topn=20)\n",
    "model.most_similar( (woman), topn=20)\n",
    "model.most_similar( (queen), topn=20)\n"
   ]
  },
  {
   "cell_type": "code",
   "execution_count": 171,
   "metadata": {},
   "outputs": [
    {
     "data": {
      "text/plain": [
       "[('king', 0.9102),\n",
       " ('queen', 0.6589),\n",
       " ('monarch', 0.5873),\n",
       " ('prince', 0.5832),\n",
       " ('throne', 0.5586),\n",
       " ('kingdom', 0.5512),\n",
       " ('female', 0.5389),\n",
       " ('male', 0.5245),\n",
       " ('crown', 0.5140),\n",
       " ('ii', 0.5087),\n",
       " ('brother', 0.4947),\n",
       " ('royal', 0.4854),\n",
       " ('son', 0.4851),\n",
       " ('iii', 0.4717),\n",
       " ('kings', 0.4702),\n",
       " ('emperor', 0.4701),\n",
       " ('father', 0.4698),\n",
       " ('named', 0.4669),\n",
       " ('ruler', 0.4651),\n",
       " ('reign', 0.4604)]"
      ]
     },
     "execution_count": 171,
     "metadata": {},
     "output_type": "execute_result"
    }
   ],
   "source": [
    "\n",
    "\n",
    "#orig=model['entity']\n",
    "model.most_similar(man + queen-(0.7*king+0.3*woman), topn=20)\n",
    "#model.most_similar(man + queen-(0.5*king+0.5*woman), topn=20)\n",
    "##model.most_similar( queen-(0.99*king+0.99*woman-0.98*man), topn=20)\n",
    "#model.most_similar(man + queen-(0.99*king+0.99*woman-0.98*man), topn=20)\n",
    "model.most_similar(woman + queen-(0.99*king+0.99*woman-0.98*man), topn=20)\n",
    "model.most_similar(orig + queen-(0.99*king+0.99*woman-0.98*man), topn=20)\n",
    "\n",
    "model.most_similar( queen +(0.99*king+0.99*woman +0.98*man), topn=20)\n",
    "model.most_similar(person + queen-(0.7*king+0.3*woman), topn=20)\n",
    "\n",
    "\n",
    "model.most_similar(  female  , topn=20)\n",
    "\n",
    "model.most_similar(  orig  , topn=20)\n",
    "model.most_similar(  'the'  , topn=20)\n",
    "model.most_similar(  'and'  , topn=20)\n",
    "model.most_similar(  'of'  , topn=20)\n",
    "\n",
    "\n",
    "model.most_similar(  (king+0.3*female), topn=20)\n",
    "model.most_similar(  (king+0.5*female), topn=20)\n",
    "#model.most_similar(  (king+0.7*female), topn=20)\n"
   ]
  },
  {
   "cell_type": "code",
   "execution_count": null,
   "metadata": {},
   "outputs": [],
   "source": []
  },
  {
   "cell_type": "code",
   "execution_count": 245,
   "metadata": {
    "colab": {},
    "colab_type": "code",
    "id": "Y-oqYbHn_6F2"
   },
   "outputs": [
    {
     "data": {
      "text/plain": [
       "[('person', 0.7424),\n",
       " ('femme', 0.6858),\n",
       " ('woman', 0.5619),\n",
       " ('fatale', 0.5611),\n",
       " ('man', 0.5179),\n",
       " ('someone', 0.5027),\n",
       " ('girl', 0.4396),\n",
       " ('guy', 0.4368),\n",
       " ('persons', 0.4247),\n",
       " ('character', 0.4246)]"
      ]
     },
     "execution_count": 245,
     "metadata": {},
     "output_type": "execute_result"
    }
   ],
   "source": [
    "# TODO: fill-in values\n",
    "model.most_similar(positive=[], negative=['king'])\n",
    "model.most_similar(queen)\n",
    "model.most_similar(-queen)\n",
    "model.most_similar(-man, topn=20)\n",
    "model.most_similar(-woman, topn=20)\n",
    "model.most_similar(-king-woman, topn=20)\n",
    "model.most_similar(-king+man-woman, topn=20)\n",
    "\n",
    "model.most_similar(2*woman-man, topn=20)\n",
    "model.most_similar(2*queen-man, topn=20)\n",
    "model.most_similar(2*king-woman, topn=20)\n",
    "model.most_similar(2*queen-woman, topn=20)\n",
    "model.most_similar(1.7*king-man, topn=20)\n",
    "#model.most_similar(5*queen-king, topn=20)\n",
    "\n",
    "#model.most_similar(positive=[('french',5)], negative=['english','british'] , topn=20)\n",
    "#model.most_similar(positive=[('french',2)] , topn=20)\n",
    "###model.most_similar(positive=('french',2), topn=20)\n",
    "\n",
    "\n",
    "femme=model['femme']\n",
    "homme=model['homme']\n",
    "\n",
    "\n",
    "model.most_similar(positive=[('femme',4)] ,negative=['woman','person'], topn=40)\n",
    "#model.most_similar(positive=[('femme',4)] , topn=40)\n",
    "model.most_similar(positive=[('femme',2.7), 'person'] ,negative=['homme','fatale'], topn=40)\n",
    "model.most_similar(positive=[('femme',1.0), ('person',1.0)] ,negative=[('homme',1.0)], topn=40)\n",
    "#model.most_similar(positive=['femme', 'person'] ,negative=['homme'], topn=40)\n",
    "\n",
    "(\n",
    "scipy.linalg.norm(person),\n",
    "scipy.linalg.norm(femme),\n",
    "scipy.linalg.norm(homme)\n",
    ")\n",
    "    #np.nor\n",
    "model.most_similar(  person + 0.9*femme - 0.8*homme , topn=40)\n",
    "model.most_similar(  1.3*person + femme - homme , topn=10)\n",
    "model.most_similar(  1.3*person + femme  , topn=10)\n",
    "    "
   ]
  },
  {
   "cell_type": "raw",
   "metadata": {},
   "source": [
    " ('socio-psychological', 0.3630),\n",
    " ('sterilizer', 0.3297),\n",
    "\n",
    " ('alchimist', 0.3447),\n",
    " ('caustics', 0.3428),\n",
    "\n",
    "('genre-bending', 0.3443),\n",
    " ('sterilizer', 0.3297),\n",
    " ('pharmacodynamic', 0.3238),\n",
    " ('unheroic', 0.3138),\n",
    "  ('marginals', 0.3140),\n",
    " ('einsatz', 0.3212),\n",
    "\n",
    " ('władysław', 0.4285),\n",
    " ('seongjong', 0.4788),\n",
    "\n",
    "[('pregnant', 0.4583),\n",
    " ('woman', 0.4577),\n",
    " ('businesswoman', 0.4415),\n",
    " ('female', 0.4224),\n",
    " \n",
    " "
   ]
  },
  {
   "cell_type": "code",
   "execution_count": 103,
   "metadata": {},
   "outputs": [
    {
     "data": {
      "text/plain": [
       "[('Large', 0.72),\n",
       " ('small', 0.64),\n",
       " ('ĠLarge', 0.61),\n",
       " ('Ġlarge', 0.58),\n",
       " ('Small', 0.54),\n",
       " ('larg', 0.54),\n",
       " ('largest', 0.51),\n",
       " ('Ġsizable', 0.49),\n",
       " ('huge', 0.49),\n",
       " ('Ġlarger', 0.49),\n",
       " ('Ġsizeable', 0.49),\n",
       " ('ĠHuge', 0.47),\n",
       " ('sized', 0.46),\n",
       " ('ĠSmall', 0.46),\n",
       " ('Ġsmaller', 0.46),\n",
       " ('medium', 0.45),\n",
       " ('Ġsmall', 0.45),\n",
       " ('big', 0.45),\n",
       " ('massive', 0.45),\n",
       " ('Ġgigantic', 0.45)]"
      ]
     },
     "execution_count": 103,
     "metadata": {},
     "output_type": "execute_result"
    }
   ],
   "source": [
    "model.most_similar(positive=[('large',2)], negative=['small'] , topn=20)\n",
    "model.most_similar(positive=[('large',2)], negative=[] , topn=20)\n",
    "model.most_similar(positive=[('large',2)], topn=20)\n"
   ]
  },
  {
   "cell_type": "code",
   "execution_count": 258,
   "metadata": {
    "collapsed": true,
    "jupyter": {
     "outputs_hidden": true
    },
    "tags": []
   },
   "outputs": [
    {
     "data": {
      "text/plain": [
       "[('narcissistic', 0.5368),\n",
       " ('obsessive', 0.5328),\n",
       " ('egotistical', 0.5303),\n",
       " ('lovable', 0.5210),\n",
       " ('manic', 0.5202),\n",
       " ('uptight', 0.5158),\n",
       " ('egomaniacal', 0.5081),\n",
       " ('hilariously', 0.5074),\n",
       " ('sociopathic', 0.5019),\n",
       " ('pushy', 0.5014),\n",
       " ('amusingly', 0.4952),\n",
       " ('snobbish', 0.4886),\n",
       " ('misanthropic', 0.4881),\n",
       " ('self-centered', 0.4860),\n",
       " ('perfectionist', 0.4859),\n",
       " ('workaholic', 0.4842),\n",
       " ('obnoxious', 0.4789),\n",
       " ('irascible', 0.4788),\n",
       " ('nerdy', 0.4769),\n",
       " ('whiny', 0.4764),\n",
       " ('hypochondriac', 0.4740),\n",
       " ('phobic', 0.4738),\n",
       " ('paranoid', 0.4716),\n",
       " ('unhinged', 0.4705),\n",
       " ('wisecracking', 0.4695),\n",
       " ('cranky', 0.4666),\n",
       " ('shtick', 0.4645),\n",
       " ('humorless', 0.4637),\n",
       " ('delusional', 0.4629),\n",
       " ('kooky', 0.4629)]"
      ]
     },
     "execution_count": 258,
     "metadata": {},
     "output_type": "execute_result"
    }
   ],
   "source": [
    "model.most_similar(positive=[('neurotic',2)], negative=['normal'] , topn=20)\n",
    "model.most_similar(positive=[('neurotic',3)], negative=['normal'] , topn=20)\n",
    "model.most_similar(positive=[('neurotic',4)], negative=['normal'] , topn=30)\n",
    "model.most_similar(positive=[('neurotic',4)], negative=[] , topn=30)\n"
   ]
  },
  {
   "cell_type": "code",
   "execution_count": 259,
   "metadata": {},
   "outputs": [],
   "source": [
    "#model.most_similar(positive=[('woman',2)], negative=['man'] , topn=20)\n"
   ]
  },
  {
   "cell_type": "code",
   "execution_count": null,
   "metadata": {},
   "outputs": [],
   "source": []
  },
  {
   "cell_type": "markdown",
   "metadata": {
    "colab_type": "text",
    "id": "mw4vDdlN_6F6",
    "jp-MarkdownHeadingCollapsed": true,
    "tags": []
   },
   "source": [
    "### Verify: Is it, really?"
   ]
  },
  {
   "cell_type": "code",
   "execution_count": null,
   "metadata": {
    "colab": {},
    "colab_type": "code",
    "id": "-AMCMD_m_6F7"
   },
   "outputs": [],
   "source": [
    "# TODO: do analogy algebra\n",
    "result = model[''] - model[''] + model['']\n",
    "\n",
    "# Similarity between result and 'nurse'\n",
    "cosine_similarity(result.reshape(1, -1), model['nurse'].reshape(1, -1))"
   ]
  },
  {
   "cell_type": "code",
   "execution_count": null,
   "metadata": {
    "colab": {},
    "colab_type": "code",
    "id": "0f5JXIsF_6F9"
   },
   "outputs": [],
   "source": [
    "\n",
    "# Similarity between result and 'doctor'\n",
    "cosine_similarity(result.reshape(1, -1), model['doctor'].reshape(1, -1))"
   ]
  },
  {
   "cell_type": "code",
   "execution_count": null,
   "metadata": {},
   "outputs": [],
   "source": []
  },
  {
   "cell_type": "markdown",
   "metadata": {},
   "source": [
    "# 0.5*a + b"
   ]
  },
  {
   "cell_type": "code",
   "execution_count": 109,
   "metadata": {
    "tags": []
   },
   "outputs": [
    {
     "data": {
      "text/plain": [
       "[('Ġhouses', 0.72),\n",
       " ('ĠHouse', 0.64),\n",
       " ('House', 0.61),\n",
       " ('ĠHOUSE', 0.60),\n",
       " ('house', 0.59),\n",
       " ('Ġmansion', 0.56),\n",
       " ('Ġhome', 0.54),\n",
       " ('ĠHouses', 0.53),\n",
       " ('Ġapartment', 0.52),\n",
       " ('Ġhomes', 0.50),\n",
       " ('Ġhousehold', 0.49),\n",
       " ('Ġkitchen', 0.48),\n",
       " ('Ġhousing', 0.47),\n",
       " ('Ġresidence', 0.47),\n",
       " ('Ġroom', 0.45),\n",
       " ('home', 0.45),\n",
       " ('houses', 0.45),\n",
       " ('Ġfamily', 0.44),\n",
       " ('Ġgarage', 0.44),\n",
       " ('Ġbackyard', 0.44),\n",
       " ('Ġhotel', 0.44),\n",
       " ('Ġdoor', 0.43),\n",
       " ('Ġcastle', 0.43),\n",
       " ('Ġpalace', 0.43),\n",
       " ('Ġbuilding', 0.43),\n",
       " ('Ġbasement', 0.43),\n",
       " ('Ġneighborhood', 0.43),\n",
       " ('Ġbedroom', 0.43),\n",
       " ('Ġwarehouse', 0.43),\n",
       " ('ĠHome', 0.43),\n",
       " ('Ġporch', 0.43),\n",
       " ('Ġcondo', 0.42),\n",
       " ('Ġrooms', 0.42),\n",
       " ('ĠMansion', 0.42),\n",
       " ('Ġcabin', 0.42),\n",
       " ('Ġhomeowner', 0.42),\n",
       " ('Ġfarm', 0.42),\n",
       " ('Ġdwelling', 0.42),\n",
       " ('Ġcottage', 0.42),\n",
       " ('Ġcar', 0.41),\n",
       " ('Ġbuildings', 0.41),\n",
       " ('Ġstreet', 0.41),\n",
       " ('Ġresidences', 0.41),\n",
       " ('Ġvillage', 0.41),\n",
       " ('Ġhouseholds', 0.40),\n",
       " ('Home', 0.40),\n",
       " ('Ġoffice', 0.40),\n",
       " ('Ġresidential', 0.40),\n",
       " ('Ġapartments', 0.40),\n",
       " ('ĠHomes', 0.40),\n",
       " ('Ġstore', 0.40),\n",
       " ('Ġrestaurant', 0.40),\n",
       " ('Ġgarden', 0.40),\n",
       " ('Ġdriveway', 0.40),\n",
       " ('Ġhomeowners', 0.40),\n",
       " ('Ġwife', 0.40),\n",
       " ('Ġdwellings', 0.40),\n",
       " ('Ġcity', 0.40),\n",
       " ('Ġfurniture', 0.40),\n",
       " ('Ġhous', 0.39)]"
      ]
     },
     "execution_count": 109,
     "metadata": {},
     "output_type": "execute_result"
    }
   ],
   "source": [
    "#model.most_similar(  'ant'  , topn=20)\n",
    "#model.most_similar(  'dolphin'  , topn=20)\n",
    "model.most_similar(  'dog'  , topn=20)\n",
    "#model.most_similar(  'wolf'  , topn=20)\n",
    "#model.most_similar(  'mammal'  , topn=20)\n",
    "model.most_similar(  'big'  , topn=10)\n",
    "#model.most_similar(  'not'  , topn=20)\n",
    "#model.most_similar(  'very'  , topn=20)\n",
    "model.most_similar(  'day'  , topn=10)\n",
    "model.most_similar(  'work'  , topn=10)\n",
    "model.most_similar(  'Ġhouse'  , topn=60)\n"
   ]
  },
  {
   "cell_type": "code",
   "execution_count": 110,
   "metadata": {
    "tags": []
   },
   "outputs": [
    {
     "data": {
      "text/plain": [
       "[('Ġhouses', 0.69),\n",
       " ('ĠHouse', 0.63),\n",
       " ('ĠHOUSE', 0.60),\n",
       " ('House', 0.60),\n",
       " ('Ġmansion', 0.57),\n",
       " ('house', 0.56),\n",
       " ('Ġcastle', 0.54),\n",
       " ('ĠHouses', 0.54),\n",
       " ('Ġhome', 0.53),\n",
       " ('Ġpalace', 0.53),\n",
       " ('Ġkitchen', 0.51),\n",
       " ('Ġkings', 0.51),\n",
       " ('Ġapartment', 0.50),\n",
       " ('Ġhousehold', 0.50),\n",
       " ('ĠKing', 0.50),\n",
       " ('Ġhomes', 0.49),\n",
       " ('Ġqueen', 0.48),\n",
       " ('Ġprince', 0.47),\n",
       " ('houses', 0.47),\n",
       " ('Ġresidence', 0.47),\n",
       " ('home', 0.46),\n",
       " ('Ġkingdom', 0.46),\n",
       " ('Ġfamily', 0.46),\n",
       " ('Ġdoor', 0.46),\n",
       " ('Ġhomeowner', 0.46),\n",
       " ('Ġporch', 0.46),\n",
       " ('Ġhotel', 0.46),\n",
       " ('Ġwife', 0.46),\n",
       " ('Ġroom', 0.46),\n",
       " ('Ġtemple', 0.46),\n",
       " ('Ġbackyard', 0.46),\n",
       " ('Ġhousing', 0.45),\n",
       " ('Ġbasement', 0.45),\n",
       " ('Ġvillage', 0.45),\n",
       " ('Ġlords', 0.45),\n",
       " ('Ġgarage', 0.45),\n",
       " ('Ġcity', 0.45),\n",
       " ('Ġbedroom', 0.45),\n",
       " ('Ġroyal', 0.45),\n",
       " ('Ġchurch', 0.45)]"
      ]
     },
     "execution_count": 110,
     "metadata": {},
     "output_type": "execute_result"
    }
   ],
   "source": [
    "model.most_similar(positive=[\"big\", (\"not\", 0.5)]  , topn=20  )\n",
    "model.most_similar(positive=[\"big\", (\"very\", 0.5)]  , topn=20  )\n",
    "model.most_similar(positive=[\"day\", (\"work\", 0.5)]  , topn=20  )\n",
    "model.most_similar(positive=[\"house\", (\"big\", 0.5)]  , topn=20  )\n",
    "model.most_similar(positive=[\"house\", (\"big\", 0.9)]  , topn=20  )\n",
    "model.most_similar(positive=[\"Ġhouse\", (\"Ġking\", 0.5)]  , topn=40  )\n"
   ]
  },
  {
   "cell_type": "code",
   "execution_count": null,
   "metadata": {},
   "outputs": [],
   "source": []
  },
  {
   "cell_type": "code",
   "execution_count": 191,
   "metadata": {
    "collapsed": true,
    "jupyter": {
     "outputs_hidden": true
    },
    "tags": []
   },
   "outputs": [
    {
     "data": {
      "text/plain": [
       "[('narcissistic', 0.54),\n",
       " ('obsessive', 0.53),\n",
       " ('egotistical', 0.53),\n",
       " ('lovable', 0.52),\n",
       " ('manic', 0.52),\n",
       " ('uptight', 0.52),\n",
       " ('egomaniacal', 0.51),\n",
       " ('hilariously', 0.51),\n",
       " ('sociopathic', 0.50),\n",
       " ('pushy', 0.50),\n",
       " ('amusingly', 0.50),\n",
       " ('snobbish', 0.49),\n",
       " ('misanthropic', 0.49),\n",
       " ('self-centered', 0.49),\n",
       " ('perfectionist', 0.49),\n",
       " ('workaholic', 0.48),\n",
       " ('obnoxious', 0.48),\n",
       " ('irascible', 0.48),\n",
       " ('nerdy', 0.48),\n",
       " ('whiny', 0.48),\n",
       " ('hypochondriac', 0.47),\n",
       " ('phobic', 0.47),\n",
       " ('paranoid', 0.47),\n",
       " ('unhinged', 0.47),\n",
       " ('wisecracking', 0.47),\n",
       " ('cranky', 0.47),\n",
       " ('shtick', 0.46),\n",
       " ('humorless', 0.46),\n",
       " ('delusional', 0.46),\n",
       " ('kooky', 0.46)]"
      ]
     },
     "execution_count": 191,
     "metadata": {},
     "output_type": "execute_result"
    }
   ],
   "source": [
    "model.most_similar(positive=[('neurotic',4)], negative=['normal'] , topn=30)\n"
   ]
  },
  {
   "cell_type": "code",
   "execution_count": 190,
   "metadata": {
    "collapsed": true,
    "jupyter": {
     "outputs_hidden": true
    },
    "tags": []
   },
   "outputs": [
    {
     "data": {
      "text/plain": [
       "[('king', 0.91),\n",
       " ('queen', 0.66),\n",
       " ('monarch', 0.59),\n",
       " ('prince', 0.58),\n",
       " ('throne', 0.56),\n",
       " ('kingdom', 0.55),\n",
       " ('female', 0.54),\n",
       " ('male', 0.52),\n",
       " ('crown', 0.51),\n",
       " ('ii', 0.51),\n",
       " ('brother', 0.49),\n",
       " ('royal', 0.49),\n",
       " ('son', 0.49),\n",
       " ('iii', 0.47),\n",
       " ('kings', 0.47),\n",
       " ('emperor', 0.47),\n",
       " ('father', 0.47),\n",
       " ('named', 0.47),\n",
       " ('ruler', 0.47),\n",
       " ('reign', 0.46)]"
      ]
     },
     "execution_count": 190,
     "metadata": {},
     "output_type": "execute_result"
    }
   ],
   "source": [
    "\n",
    "model.most_similar(  (king+0.3*female), topn=20)\n",
    "model.most_similar(  (king+0.5*female), topn=20)\n",
    "#model.most_similar(  (king+0.7*female), topn=20)\n"
   ]
  },
  {
   "cell_type": "markdown",
   "metadata": {
    "jp-MarkdownHeadingCollapsed": true,
    "tags": []
   },
   "source": [
    "# dijfggfghgh"
   ]
  },
  {
   "cell_type": "code",
   "execution_count": null,
   "metadata": {},
   "outputs": [],
   "source": []
  },
  {
   "cell_type": "code",
   "execution_count": 287,
   "metadata": {},
   "outputs": [],
   "source": [
    "import numpy.random\n",
    "import math"
   ]
  },
  {
   "cell_type": "code",
   "execution_count": 297,
   "metadata": {},
   "outputs": [],
   "source": [
    "a=np.random.randn(100,100)"
   ]
  },
  {
   "cell_type": "code",
   "execution_count": 298,
   "metadata": {},
   "outputs": [],
   "source": [
    "a=a/math.sqrt(100)"
   ]
  },
  {
   "cell_type": "code",
   "execution_count": 299,
   "metadata": {},
   "outputs": [],
   "source": [
    "b=(a*100).round()"
   ]
  },
  {
   "cell_type": "code",
   "execution_count": 300,
   "metadata": {},
   "outputs": [
    {
     "data": {
      "text/plain": [
       "40.00"
      ]
     },
     "execution_count": 300,
     "metadata": {},
     "output_type": "execute_result"
    }
   ],
   "source": [
    "b.max()"
   ]
  },
  {
   "cell_type": "code",
   "execution_count": 301,
   "metadata": {},
   "outputs": [
    {
     "data": {
      "text/plain": [
       "array([[ -1.,  -9.,  -4., ...,   8.,   7.,   5.],\n",
       "       [  1.,  -4.,   4., ...,   2.,  11.,  26.],\n",
       "       [-12.,  11., -11., ..., -11.,  -7.,  -2.],\n",
       "       ...,\n",
       "       [ -1.,   4., -10., ...,  -3.,  15., -11.],\n",
       "       [ -9.,  15.,  -8., ...,  -7.,   8.,  -3.],\n",
       "       [ 11.,  -3., -13., ...,  11., -20.,   6.]])"
      ]
     },
     "execution_count": 301,
     "metadata": {},
     "output_type": "execute_result"
    }
   ],
   "source": [
    "b"
   ]
  },
  {
   "cell_type": "code",
   "execution_count": 289,
   "metadata": {},
   "outputs": [
    {
     "data": {
      "text/plain": [
       "array([0.95, 0.84, 0.75, 0.98, 0.84, 1.14, 0.64, 0.48, 0.93, 1.06, 0.76,\n",
       "       1.02, 0.67, 0.87, 1.33, 0.63, 0.62, 1.17, 0.99, 0.91, 1.24, 0.75,\n",
       "       0.74, 0.72, 0.85, 0.9 , 1.09, 1.52, 1.17, 1.11])"
      ]
     },
     "execution_count": 289,
     "metadata": {},
     "output_type": "execute_result"
    }
   ],
   "source": [
    "sum(a*a)"
   ]
  },
  {
   "cell_type": "code",
   "execution_count": 284,
   "metadata": {},
   "outputs": [
    {
     "data": {
      "text/plain": [
       "array([28.41, 25.23, 22.55, 29.4 , 25.07, 34.15, 19.24, 14.34, 27.83,\n",
       "       31.76, 22.67, 30.61, 20.1 , 26.11, 40.  , 18.9 , 18.71, 34.96,\n",
       "       29.71, 27.29, 37.15, 22.43, 22.24, 21.61, 25.53, 27.1 , 32.79,\n",
       "       45.68, 34.96, 33.27])"
      ]
     },
     "execution_count": 284,
     "metadata": {},
     "output_type": "execute_result"
    }
   ],
   "source": [
    "np.diag(a.T @ a)"
   ]
  },
  {
   "cell_type": "code",
   "execution_count": 285,
   "metadata": {},
   "outputs": [
    {
     "data": {
      "text/plain": [
       "array([28.41, 25.23, 22.55, 29.4 , 25.07, 34.15, 19.24, 14.34, 27.83,\n",
       "       31.76, 22.67, 30.61, 20.1 , 26.11, 40.  , 18.9 , 18.71, 34.96,\n",
       "       29.71, 27.29, 37.15, 22.43, 22.24, 21.61, 25.53, 27.1 , 32.79,\n",
       "       45.68, 34.96, 33.27])"
      ]
     },
     "execution_count": 285,
     "metadata": {},
     "output_type": "execute_result"
    }
   ],
   "source": [
    "np.diagonal(a.T @ a)"
   ]
  },
  {
   "cell_type": "code",
   "execution_count": null,
   "metadata": {},
   "outputs": [],
   "source": []
  }
 ],
 "metadata": {
  "colab": {
   "include_colab_link": true,
   "name": "01 - Trained Word Embeddings with Gensim.ipynb",
   "provenance": []
  },
  "kernelspec": {
   "display_name": "Python 3 (ipykernel)",
   "language": "python",
   "name": "python3"
  },
  "language_info": {
   "codemirror_mode": {
    "name": "ipython",
    "version": 3
   },
   "file_extension": ".py",
   "mimetype": "text/x-python",
   "name": "python",
   "nbconvert_exporter": "python",
   "pygments_lexer": "ipython3",
   "version": "3.10.10"
  }
 },
 "nbformat": 4,
 "nbformat_minor": 4
}
