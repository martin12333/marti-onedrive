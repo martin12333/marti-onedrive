{
 "cells": [
  {
   "cell_type": "markdown",
   "metadata": {
    "colab_type": "text",
    "id": "view-in-github"
   },
   "source": [
    "<a href=\"https://colab.research.google.com/github/jalammar/ecco/blob/main/notebooks/Ecco_Input_Saliency.ipynb\" target=\"_parent\"><img src=\"https://colab.research.google.com/assets/colab-badge.svg\" alt=\"Open In Colab\"/></a>"
   ]
  },
  {
   "cell_type": "markdown",
   "metadata": {},
   "source": [
    "# Primary Attributions\n",
    "\n",
    "This notebook contains visualizations for primary attribution methods, by that means, methods that evaluate the contribution of each input feature to the output of a model.\n",
    "\n",
    "Now we are currently supporting:\n",
    "- Gradient saliency\n",
    "- Input X Gradient saliency\n",
    "- Integrated Gradients\n",
    "- DeepLift\n",
    "- DeepLife with SHAP\n",
    "- Guided Backpropagation\n",
    "- Guided GradCam\n",
    "- Deconvolution\n",
    "- Layer-wise Relevance Propagation"
   ]
  },
  {
   "cell_type": "code",
   "execution_count": 1,
   "metadata": {
    "colab": {
     "base_uri": "https://localhost:8080/",
     "height": 215,
     "referenced_widgets": [
      "66ee7dd681184981a67e2b9dd5fdd6f0",
      "0e6405015df340b3bdc58694ebd4ecf4",
      "1198ffa7ad12484f9ac4048835321335",
      "819c4c5a5b3349bcade558a02106c0c4",
      "9254b1b515654fe9be6ffc08c2b15e4b",
      "ea23401f422c4201a2ccd2a45c426d52",
      "e0fcf661019f4e3da00175887b431ccc",
      "5e4aa51d413b4004bee30cce914d193e",
      "5fd6963056bf4687a15c941d3be3494b",
      "9a961b8a92334bedaeda460e4c92befc",
      "5a022265356840a5a3fb60ec1ab69d9f",
      "01e1163950684dc6b7fa868e7b9315a4",
      "6b92f7b5d29e4fa786f03c9a6267cec4",
      "a9682d37555846aeb124b69cf38092c3",
      "ff801625f32e452e84c2bcefccabbad3",
      "14dd95b6e25b462e87175be869146d05",
      "2d5ded1ce3034928b9675c598f5144e6",
      "03de4b4c35ce4b3a87f0b06743707c65",
      "31a4e3758a474c3da4a49bd5c4c396a4",
      "deaba8a37b4a40e2a5e42c8e4044f5ef",
      "41e537de9f8c4912a59ec4dc30e405f5",
      "a573b926127f471d90552617dbd355ac",
      "7d93ca3793fb43ba824f743aa9a7c208",
      "dde55076d6544256b821e4364e787a7f",
      "b54a170e8e20428dbd08dcbececa6174",
      "a7f991e0d30b4a2bbdf4efe3085b60ec",
      "59c41cdb09dc43448f8cf3b3edacc9f6",
      "a33793da690a401f84cfc27fe66b58d3",
      "6f42cc0bd0414b09994f8ca293b31db3",
      "ff151fd817e84f939614c8001ea02384",
      "bc6eb47a66bc4fbe88efa7878e1fd02e",
      "cdc358ab0d7b4cb3b911102f5b5ea48f"
     ]
    },
    "id": "zzcMoKUkV3aH",
    "outputId": "e88438a9-112f-4dfe-9897-88a589e42218"
   },
   "outputs": [],
   "source": [
    "import ecco\n",
    "lm = ecco.from_pretrained('distilgpt2')"
   ]
  },
  {
   "cell_type": "code",
   "execution_count": 2,
   "metadata": {
    "colab": {
     "base_uri": "https://localhost:8080/",
     "height": 334
    },
    "id": "T9bZBZLq-93C",
    "outputId": "e6f3398b-5e9e-456d-d5a4-3331764fea9c"
   },
   "outputs": [
    {
     "data": {
      "text/html": [
       "<html lang=\"en\">\n",
       "<script src=\"https://requirejs.org/docs/release/2.3.6/minified/require.js\"></script>\n",
       "<script>\n",
       "    var ecco_url = 'https://storage.googleapis.com/ml-intro/ecco/'\n",
       "    //var ecco_url = 'http://localhost:8000/'\n",
       "\n",
       "    if (window.ecco === undefined) window.ecco = {}\n",
       "\n",
       "    // Setup the paths of the script we'll be using\n",
       "    requirejs.config({\n",
       "        urlArgs: \"bust=\" + (new Date()).getTime(),\n",
       "        nodeRequire: require,\n",
       "        paths: {\n",
       "            d3: \"https://d3js.org/d3.v6.min\", // This is only for use in setup.html and basic.html\n",
       "            \"d3-array\": \"https://d3js.org/d3-array.v2.min\",\n",
       "            jquery: \"https://code.jquery.com/jquery-3.5.1.min\",\n",
       "            ecco: ecco_url + 'js/0.0.6/ecco-bundle.min',\n",
       "            xregexp: 'https://cdnjs.cloudflare.com/ajax/libs/xregexp/3.2.0/xregexp-all.min'\n",
       "        }\n",
       "    });\n",
       "\n",
       "    // Add the css file\n",
       "    //requirejs(['d3'],\n",
       "    //    function (d3) {\n",
       "    //        d3.select('#css').attr('href', ecco_url + 'html/styles.css')\n",
       "    //    })\n",
       "\n",
       "    console.log('Ecco initialize!!')\n",
       "\n",
       "    // returns a 'basic' object. basic.init() selects the html div we'll be\n",
       "    // rendering the html into, adds styles.css to the document.\n",
       "    define('basic', ['d3'],\n",
       "        function (d3) {\n",
       "            return {\n",
       "                init: function (viz_id = null) {\n",
       "                    if (viz_id == null) {\n",
       "                        viz_id = \"viz_\" + Math.round(Math.random() * 10000000)\n",
       "                    }\n",
       "                    // Select the div rendered below, change its id\n",
       "                    const div = d3.select('#basic').attr('id', viz_id),\n",
       "                        div_parent = d3.select('#' + viz_id).node().parentNode\n",
       "\n",
       "                    // Link to CSS file\n",
       "                    d3.select(div_parent).insert('link')\n",
       "                        .attr('rel', 'stylesheet')\n",
       "                        .attr('type', 'text/css')\n",
       "                        .attr('href', ecco_url + 'html/0.0.2/styles.css')\n",
       "\n",
       "                    return viz_id\n",
       "                }\n",
       "            }\n",
       "        }, function (err) {\n",
       "            console.log(err);\n",
       "        }\n",
       "    )\n",
       "</script>\n",
       "\n",
       "<head>\n",
       "    <link id='css' rel=\"stylesheet\" type=\"text/css\">\n",
       "</head>\n",
       "<div id=\"basic\"></div>\n"
      ],
      "text/plain": [
       "<IPython.core.display.HTML object>"
      ]
     },
     "metadata": {},
     "output_type": "display_data"
    },
    {
     "data": {
      "application/javascript": [
       "\n",
       "         requirejs( ['basic', 'ecco'], function(basic, ecco){\n",
       "            basic.init('viz_598887') // Python needs to know the viz id. Used for each output token.\n",
       "            window.ecco['viz_598887'] = new ecco.renderOutputSequence({\n",
       "                    parentDiv: 'viz_598887',\n",
       "                    data: {\"tokens\": [{\"token\": \"The\", \"is_partial\": true, \"position\": 0, \"token_id\": 464, \"type\": \"input\"}, {\"token\": \"countries\", \"is_partial\": false, \"position\": 1, \"token_id\": 2678, \"type\": \"input\"}, {\"token\": \"of\", \"is_partial\": false, \"position\": 2, \"token_id\": 286, \"type\": \"input\"}, {\"token\": \"the\", \"is_partial\": false, \"position\": 3, \"token_id\": 262, \"type\": \"input\"}, {\"token\": \"European\", \"is_partial\": false, \"position\": 4, \"token_id\": 3427, \"type\": \"input\"}, {\"token\": \"Union\", \"is_partial\": false, \"position\": 5, \"token_id\": 4479, \"type\": \"input\"}, {\"token\": \"are\", \"is_partial\": false, \"position\": 6, \"token_id\": 389, \"type\": \"input\"}, {\"token\": \":\", \"is_partial\": true, \"position\": 7, \"token_id\": 25, \"type\": \"input\"}, {\"token\": \"\\n\", \"is_partial\": true, \"position\": 8, \"token_id\": 198, \"type\": \"input\"}, {\"token\": \"1\", \"is_partial\": true, \"position\": 9, \"token_id\": 16, \"type\": \"input\"}, {\"token\": \".\", \"is_partial\": true, \"position\": 10, \"token_id\": 13, \"type\": \"input\"}, {\"token\": \"Austria\", \"is_partial\": false, \"position\": 11, \"token_id\": 17322, \"type\": \"input\"}, {\"token\": \"\\n\", \"is_partial\": true, \"position\": 12, \"token_id\": 198, \"type\": \"input\"}, {\"token\": \"2\", \"is_partial\": true, \"position\": 13, \"token_id\": 17, \"type\": \"input\"}, {\"token\": \".\", \"is_partial\": true, \"position\": 14, \"token_id\": 13, \"type\": \"input\"}, {\"token\": \"Belgium\", \"is_partial\": false, \"position\": 15, \"token_id\": 15664, \"type\": \"input\"}, {\"token\": \"\\n\", \"is_partial\": true, \"position\": 16, \"token_id\": 198, \"type\": \"input\"}, {\"token\": \"3\", \"is_partial\": true, \"position\": 17, \"token_id\": 18, \"type\": \"input\"}, {\"token\": \".\", \"is_partial\": true, \"position\": 18, \"token_id\": 13, \"type\": \"input\"}, {\"token\": \"Bulgaria\", \"is_partial\": false, \"position\": 19, \"token_id\": 27902, \"type\": \"input\"}, {\"token\": \"\\n\", \"is_partial\": true, \"position\": 20, \"token_id\": 198, \"type\": \"input\"}, {\"token\": \"4\", \"is_partial\": true, \"position\": 21, \"token_id\": 19, \"type\": \"input\"}, {\"token\": \".\", \"is_partial\": true, \"position\": 22, \"token_id\": 13, \"type\": \"input\"}]},\n",
       "                    tokenization_config: {\"token_prefix\": \"\\u0120\", \"partial_token_prefix\": \"\"}\n",
       "            \n",
       "            })\n",
       "         }, function (err) {\n",
       "            console.log(err);\n",
       "        })\n",
       "        "
      ],
      "text/plain": [
       "<IPython.core.display.Javascript object>"
      ]
     },
     "metadata": {},
     "output_type": "display_data"
    },
    {
     "name": "stderr",
     "output_type": "stream",
     "text": [
      "D:\\conda\\envs\\pip310ecco\\lib\\site-packages\\transformers\\generation\\utils.py:1255: UserWarning: You have modified the pretrained model configuration to control generation. This is a deprecated strategy to control generation and will be removed soon, in a future version. Please use a generation configuration file (see https://huggingface.co/docs/transformers/main_classes/text_generation)\n",
      "  warnings.warn(\n",
      "Setting `pad_token_id` to `eos_token_id`:50256 for open-end generation.\n"
     ]
    },
    {
     "data": {
      "application/javascript": [
       "\n",
       "        // We don't really need these require scripts. But this is to avert\n",
       "        //this code from running before display_input_sequence which DOES require external files\n",
       "        requirejs(['basic', 'ecco'], function(basic, ecco){\n",
       "                console.log('addToken viz_id', 'viz_598887');\n",
       "                window.ecco['viz_598887'].addToken({\"token\": \"Germany\", \"is_partial\": false, \"token_id\": 4486, \"position\": 23, \"type\": \"output\"})\n",
       "                window.ecco['viz_598887'].redraw()\n",
       "        })\n",
       "        "
      ],
      "text/plain": [
       "<IPython.core.display.Javascript object>"
      ]
     },
     "metadata": {},
     "output_type": "display_data"
    },
    {
     "data": {
      "application/javascript": [
       "\n",
       "        // We don't really need these require scripts. But this is to avert\n",
       "        //this code from running before display_input_sequence which DOES require external files\n",
       "        requirejs(['basic', 'ecco'], function(basic, ecco){\n",
       "                console.log('addToken viz_id', 'viz_598887');\n",
       "                window.ecco['viz_598887'].addToken({\"token\": \"\\n\", \"is_partial\": true, \"token_id\": 198, \"position\": 24, \"type\": \"output\"})\n",
       "                window.ecco['viz_598887'].redraw()\n",
       "        })\n",
       "        "
      ],
      "text/plain": [
       "<IPython.core.display.Javascript object>"
      ]
     },
     "metadata": {},
     "output_type": "display_data"
    },
    {
     "data": {
      "application/javascript": [
       "\n",
       "        // We don't really need these require scripts. But this is to avert\n",
       "        //this code from running before display_input_sequence which DOES require external files\n",
       "        requirejs(['basic', 'ecco'], function(basic, ecco){\n",
       "                console.log('addToken viz_id', 'viz_598887');\n",
       "                window.ecco['viz_598887'].addToken({\"token\": \"5\", \"is_partial\": true, \"token_id\": 20, \"position\": 25, \"type\": \"output\"})\n",
       "                window.ecco['viz_598887'].redraw()\n",
       "        })\n",
       "        "
      ],
      "text/plain": [
       "<IPython.core.display.Javascript object>"
      ]
     },
     "metadata": {},
     "output_type": "display_data"
    },
    {
     "data": {
      "application/javascript": [
       "\n",
       "        // We don't really need these require scripts. But this is to avert\n",
       "        //this code from running before display_input_sequence which DOES require external files\n",
       "        requirejs(['basic', 'ecco'], function(basic, ecco){\n",
       "                console.log('addToken viz_id', 'viz_598887');\n",
       "                window.ecco['viz_598887'].addToken({\"token\": \".\", \"is_partial\": true, \"token_id\": 13, \"position\": 26, \"type\": \"output\"})\n",
       "                window.ecco['viz_598887'].redraw()\n",
       "        })\n",
       "        "
      ],
      "text/plain": [
       "<IPython.core.display.Javascript object>"
      ]
     },
     "metadata": {},
     "output_type": "display_data"
    },
    {
     "data": {
      "application/javascript": [
       "\n",
       "        // We don't really need these require scripts. But this is to avert\n",
       "        //this code from running before display_input_sequence which DOES require external files\n",
       "        requirejs(['basic', 'ecco'], function(basic, ecco){\n",
       "                console.log('addToken viz_id', 'viz_598887');\n",
       "                window.ecco['viz_598887'].addToken({\"token\": \"Greece\", \"is_partial\": false, \"token_id\": 10315, \"position\": 27, \"type\": \"output\"})\n",
       "                window.ecco['viz_598887'].redraw()\n",
       "        })\n",
       "        "
      ],
      "text/plain": [
       "<IPython.core.display.Javascript object>"
      ]
     },
     "metadata": {},
     "output_type": "display_data"
    },
    {
     "data": {
      "application/javascript": [
       "\n",
       "        // We don't really need these require scripts. But this is to avert\n",
       "        //this code from running before display_input_sequence which DOES require external files\n",
       "        requirejs(['basic', 'ecco'], function(basic, ecco){\n",
       "                console.log('addToken viz_id', 'viz_598887');\n",
       "                window.ecco['viz_598887'].addToken({\"token\": \"\\n\", \"is_partial\": true, \"token_id\": 198, \"position\": 28, \"type\": \"output\"})\n",
       "                window.ecco['viz_598887'].redraw()\n",
       "        })\n",
       "        "
      ],
      "text/plain": [
       "<IPython.core.display.Javascript object>"
      ]
     },
     "metadata": {},
     "output_type": "display_data"
    },
    {
     "data": {
      "application/javascript": [
       "\n",
       "        // We don't really need these require scripts. But this is to avert\n",
       "        //this code from running before display_input_sequence which DOES require external files\n",
       "        requirejs(['basic', 'ecco'], function(basic, ecco){\n",
       "                console.log('addToken viz_id', 'viz_598887');\n",
       "                window.ecco['viz_598887'].addToken({\"token\": \"6\", \"is_partial\": true, \"token_id\": 21, \"position\": 29, \"type\": \"output\"})\n",
       "                window.ecco['viz_598887'].redraw()\n",
       "        })\n",
       "        "
      ],
      "text/plain": [
       "<IPython.core.display.Javascript object>"
      ]
     },
     "metadata": {},
     "output_type": "display_data"
    },
    {
     "data": {
      "application/javascript": [
       "\n",
       "        // We don't really need these require scripts. But this is to avert\n",
       "        //this code from running before display_input_sequence which DOES require external files\n",
       "        requirejs(['basic', 'ecco'], function(basic, ecco){\n",
       "                console.log('addToken viz_id', 'viz_598887');\n",
       "                window.ecco['viz_598887'].addToken({\"token\": \".\", \"is_partial\": true, \"token_id\": 13, \"position\": 30, \"type\": \"output\"})\n",
       "                window.ecco['viz_598887'].redraw()\n",
       "        })\n",
       "        "
      ],
      "text/plain": [
       "<IPython.core.display.Javascript object>"
      ]
     },
     "metadata": {},
     "output_type": "display_data"
    },
    {
     "data": {
      "application/javascript": [
       "\n",
       "        // We don't really need these require scripts. But this is to avert\n",
       "        //this code from running before display_input_sequence which DOES require external files\n",
       "        requirejs(['basic', 'ecco'], function(basic, ecco){\n",
       "                console.log('addToken viz_id', 'viz_598887');\n",
       "                window.ecco['viz_598887'].addToken({\"token\": \"Italy\", \"is_partial\": false, \"token_id\": 8031, \"position\": 31, \"type\": \"output\"})\n",
       "                window.ecco['viz_598887'].redraw()\n",
       "        })\n",
       "        "
      ],
      "text/plain": [
       "<IPython.core.display.Javascript object>"
      ]
     },
     "metadata": {},
     "output_type": "display_data"
    },
    {
     "data": {
      "application/javascript": [
       "\n",
       "        // We don't really need these require scripts. But this is to avert\n",
       "        //this code from running before display_input_sequence which DOES require external files\n",
       "        requirejs(['basic', 'ecco'], function(basic, ecco){\n",
       "                console.log('addToken viz_id', 'viz_598887');\n",
       "                window.ecco['viz_598887'].addToken({\"token\": \"\\n\", \"is_partial\": true, \"token_id\": 198, \"position\": 32, \"type\": \"output\"})\n",
       "                window.ecco['viz_598887'].redraw()\n",
       "        })\n",
       "        "
      ],
      "text/plain": [
       "<IPython.core.display.Javascript object>"
      ]
     },
     "metadata": {},
     "output_type": "display_data"
    },
    {
     "data": {
      "application/javascript": [
       "\n",
       "        // We don't really need these require scripts. But this is to avert\n",
       "        //this code from running before display_input_sequence which DOES require external files\n",
       "        requirejs(['basic', 'ecco'], function(basic, ecco){\n",
       "                console.log('addToken viz_id', 'viz_598887');\n",
       "                window.ecco['viz_598887'].addToken({\"token\": \"7\", \"is_partial\": true, \"token_id\": 22, \"position\": 33, \"type\": \"output\"})\n",
       "                window.ecco['viz_598887'].redraw()\n",
       "        })\n",
       "        "
      ],
      "text/plain": [
       "<IPython.core.display.Javascript object>"
      ]
     },
     "metadata": {},
     "output_type": "display_data"
    },
    {
     "data": {
      "application/javascript": [
       "\n",
       "        // We don't really need these require scripts. But this is to avert\n",
       "        //this code from running before display_input_sequence which DOES require external files\n",
       "        requirejs(['basic', 'ecco'], function(basic, ecco){\n",
       "                console.log('addToken viz_id', 'viz_598887');\n",
       "                window.ecco['viz_598887'].addToken({\"token\": \".\", \"is_partial\": true, \"token_id\": 13, \"position\": 34, \"type\": \"output\"})\n",
       "                window.ecco['viz_598887'].redraw()\n",
       "        })\n",
       "        "
      ],
      "text/plain": [
       "<IPython.core.display.Javascript object>"
      ]
     },
     "metadata": {},
     "output_type": "display_data"
    },
    {
     "data": {
      "application/javascript": [
       "\n",
       "        // We don't really need these require scripts. But this is to avert\n",
       "        //this code from running before display_input_sequence which DOES require external files\n",
       "        requirejs(['basic', 'ecco'], function(basic, ecco){\n",
       "                console.log('addToken viz_id', 'viz_598887');\n",
       "                window.ecco['viz_598887'].addToken({\"token\": \"Ireland\", \"is_partial\": false, \"token_id\": 7517, \"position\": 35, \"type\": \"output\"})\n",
       "                window.ecco['viz_598887'].redraw()\n",
       "        })\n",
       "        "
      ],
      "text/plain": [
       "<IPython.core.display.Javascript object>"
      ]
     },
     "metadata": {},
     "output_type": "display_data"
    },
    {
     "data": {
      "application/javascript": [
       "\n",
       "        // We don't really need these require scripts. But this is to avert\n",
       "        //this code from running before display_input_sequence which DOES require external files\n",
       "        requirejs(['basic', 'ecco'], function(basic, ecco){\n",
       "                console.log('addToken viz_id', 'viz_598887');\n",
       "                window.ecco['viz_598887'].addToken({\"token\": \"\\n\", \"is_partial\": true, \"token_id\": 198, \"position\": 36, \"type\": \"output\"})\n",
       "                window.ecco['viz_598887'].redraw()\n",
       "        })\n",
       "        "
      ],
      "text/plain": [
       "<IPython.core.display.Javascript object>"
      ]
     },
     "metadata": {},
     "output_type": "display_data"
    },
    {
     "data": {
      "application/javascript": [
       "\n",
       "        // We don't really need these require scripts. But this is to avert\n",
       "        //this code from running before display_input_sequence which DOES require external files\n",
       "        requirejs(['basic', 'ecco'], function(basic, ecco){\n",
       "                console.log('addToken viz_id', 'viz_598887');\n",
       "                window.ecco['viz_598887'].addToken({\"token\": \"8\", \"is_partial\": true, \"token_id\": 23, \"position\": 37, \"type\": \"output\"})\n",
       "                window.ecco['viz_598887'].redraw()\n",
       "        })\n",
       "        "
      ],
      "text/plain": [
       "<IPython.core.display.Javascript object>"
      ]
     },
     "metadata": {},
     "output_type": "display_data"
    },
    {
     "data": {
      "application/javascript": [
       "\n",
       "        // We don't really need these require scripts. But this is to avert\n",
       "        //this code from running before display_input_sequence which DOES require external files\n",
       "        requirejs(['basic', 'ecco'], function(basic, ecco){\n",
       "                console.log('addToken viz_id', 'viz_598887');\n",
       "                window.ecco['viz_598887'].addToken({\"token\": \".\", \"is_partial\": true, \"token_id\": 13, \"position\": 38, \"type\": \"output\"})\n",
       "                window.ecco['viz_598887'].redraw()\n",
       "        })\n",
       "        "
      ],
      "text/plain": [
       "<IPython.core.display.Javascript object>"
      ]
     },
     "metadata": {},
     "output_type": "display_data"
    },
    {
     "data": {
      "application/javascript": [
       "\n",
       "        // We don't really need these require scripts. But this is to avert\n",
       "        //this code from running before display_input_sequence which DOES require external files\n",
       "        requirejs(['basic', 'ecco'], function(basic, ecco){\n",
       "                console.log('addToken viz_id', 'viz_598887');\n",
       "                window.ecco['viz_598887'].addToken({\"token\": \"Luxembourg\", \"is_partial\": false, \"token_id\": 31864, \"position\": 39, \"type\": \"output\"})\n",
       "                window.ecco['viz_598887'].redraw()\n",
       "        })\n",
       "        "
      ],
      "text/plain": [
       "<IPython.core.display.Javascript object>"
      ]
     },
     "metadata": {},
     "output_type": "display_data"
    },
    {
     "data": {
      "application/javascript": [
       "\n",
       "        // We don't really need these require scripts. But this is to avert\n",
       "        //this code from running before display_input_sequence which DOES require external files\n",
       "        requirejs(['basic', 'ecco'], function(basic, ecco){\n",
       "                console.log('addToken viz_id', 'viz_598887');\n",
       "                window.ecco['viz_598887'].addToken({\"token\": \"<|endoftext|>\", \"is_partial\": true, \"token_id\": 50256, \"position\": 40, \"type\": \"output\"})\n",
       "                window.ecco['viz_598887'].redraw()\n",
       "        })\n",
       "        "
      ],
      "text/plain": [
       "<IPython.core.display.Javascript object>"
      ]
     },
     "metadata": {},
     "output_type": "display_data"
    }
   ],
   "source": [
    "text= \"The countries of the European Union are:\\n1. Austria\\n2. Belgium\\n3. Bulgaria\\n4.\"\n",
    "\n",
    "# Pass in `attribution` argument the list of primary attributions to be computed\n",
    "# With ['ig', 'grad_x_input'] we are calculating Integrated Gradients and Input X Gradient saliency attributions\n",
    "output = lm.generate(text, generate=20, do_sample=True, attribution=['ig', 'grad_x_input'])"
   ]
  },
  {
   "cell_type": "code",
   "execution_count": 3,
   "metadata": {
    "colab": {
     "base_uri": "https://localhost:8080/",
     "height": 234
    },
    "id": "3a02pyc2WASq",
    "outputId": "ac3e4d15-f2fb-4f4e-9bf7-0882a6c895c2"
   },
   "outputs": [
    {
     "data": {
      "text/html": [
       "<html lang=\"en\">\n",
       "<script src=\"https://requirejs.org/docs/release/2.3.6/minified/require.js\"></script>\n",
       "<script>\n",
       "    var ecco_url = 'https://storage.googleapis.com/ml-intro/ecco/'\n",
       "    //var ecco_url = 'http://localhost:8000/'\n",
       "\n",
       "    if (window.ecco === undefined) window.ecco = {}\n",
       "\n",
       "    // Setup the paths of the script we'll be using\n",
       "    requirejs.config({\n",
       "        urlArgs: \"bust=\" + (new Date()).getTime(),\n",
       "        nodeRequire: require,\n",
       "        paths: {\n",
       "            d3: \"https://d3js.org/d3.v6.min\", // This is only for use in setup.html and basic.html\n",
       "            \"d3-array\": \"https://d3js.org/d3-array.v2.min\",\n",
       "            jquery: \"https://code.jquery.com/jquery-3.5.1.min\",\n",
       "            ecco: ecco_url + 'js/0.0.6/ecco-bundle.min',\n",
       "            xregexp: 'https://cdnjs.cloudflare.com/ajax/libs/xregexp/3.2.0/xregexp-all.min'\n",
       "        }\n",
       "    });\n",
       "\n",
       "    // Add the css file\n",
       "    //requirejs(['d3'],\n",
       "    //    function (d3) {\n",
       "    //        d3.select('#css').attr('href', ecco_url + 'html/styles.css')\n",
       "    //    })\n",
       "\n",
       "    console.log('Ecco initialize!!')\n",
       "\n",
       "    // returns a 'basic' object. basic.init() selects the html div we'll be\n",
       "    // rendering the html into, adds styles.css to the document.\n",
       "    define('basic', ['d3'],\n",
       "        function (d3) {\n",
       "            return {\n",
       "                init: function (viz_id = null) {\n",
       "                    if (viz_id == null) {\n",
       "                        viz_id = \"viz_\" + Math.round(Math.random() * 10000000)\n",
       "                    }\n",
       "                    // Select the div rendered below, change its id\n",
       "                    const div = d3.select('#basic').attr('id', viz_id),\n",
       "                        div_parent = d3.select('#' + viz_id).node().parentNode\n",
       "\n",
       "                    // Link to CSS file\n",
       "                    d3.select(div_parent).insert('link')\n",
       "                        .attr('rel', 'stylesheet')\n",
       "                        .attr('type', 'text/css')\n",
       "                        .attr('href', ecco_url + 'html/0.0.2/styles.css')\n",
       "\n",
       "                    return viz_id\n",
       "                }\n",
       "            }\n",
       "        }, function (err) {\n",
       "            console.log(err);\n",
       "        }\n",
       "    )\n",
       "</script>\n",
       "\n",
       "<head>\n",
       "    <link id='css' rel=\"stylesheet\" type=\"text/css\">\n",
       "</head>\n",
       "<div id=\"basic\"></div>\n"
      ],
      "text/plain": [
       "<IPython.core.display.HTML object>"
      ]
     },
     "metadata": {},
     "output_type": "display_data"
    },
    {
     "data": {
      "application/javascript": [
       "\n",
       "             requirejs(['basic', 'ecco'], function(basic, ecco){\n",
       "                const viz_id = basic.init()\n",
       "                console.log(viz_id)\n",
       "                // ecco.interactiveTokens(viz_id, {})\n",
       "                window.ecco[viz_id] = new ecco.MinimalHighlighter({\n",
       "                    parentDiv: viz_id,\n",
       "                    data: {\"tokens\": [{\"token\": \"The\", \"token_id\": 464, \"is_partial\": true, \"type\": \"input\", \"value\": \"0.04558210423759468\", \"position\": 0}, {\"token\": \"countries\", \"token_id\": 2678, \"is_partial\": false, \"type\": \"input\", \"value\": \"0.04985001490673732\", \"position\": 1}, {\"token\": \"of\", \"token_id\": 286, \"is_partial\": false, \"type\": \"input\", \"value\": \"0.01653657306073674\", \"position\": 2}, {\"token\": \"the\", \"token_id\": 262, \"is_partial\": false, \"type\": \"input\", \"value\": \"0.011966928450742206\", \"position\": 3}, {\"token\": \"European\", \"token_id\": 3427, \"is_partial\": false, \"type\": \"input\", \"value\": \"0.049092343661378386\", \"position\": 4}, {\"token\": \"Union\", \"token_id\": 4479, \"is_partial\": false, \"type\": \"input\", \"value\": \"0.03264701055928682\", \"position\": 5}, {\"token\": \"are\", \"token_id\": 389, \"is_partial\": false, \"type\": \"input\", \"value\": \"0.016130614423550658\", \"position\": 6}, {\"token\": \":\", \"token_id\": 25, \"is_partial\": true, \"type\": \"input\", \"value\": \"0.017947883297594832\", \"position\": 7}, {\"token\": \"\\n\", \"token_id\": 198, \"is_partial\": true, \"type\": \"input\", \"value\": \"0.019876424727062466\", \"position\": 8}, {\"token\": \"1\", \"token_id\": 16, \"is_partial\": true, \"type\": \"input\", \"value\": \"0.021311100932156317\", \"position\": 9}, {\"token\": \".\", \"token_id\": 13, \"is_partial\": true, \"type\": \"input\", \"value\": \"0.018530684865451688\", \"position\": 10}, {\"token\": \"Austria\", \"token_id\": 17322, \"is_partial\": false, \"type\": \"input\", \"value\": \"0.09561736963678077\", \"position\": 11}, {\"token\": \"\\n\", \"token_id\": 198, \"is_partial\": true, \"type\": \"input\", \"value\": \"0.01783141611455895\", \"position\": 12}, {\"token\": \"2\", \"token_id\": 17, \"is_partial\": true, \"type\": \"input\", \"value\": \"0.020248404229847677\", \"position\": 13}, {\"token\": \".\", \"token_id\": 13, \"is_partial\": true, \"type\": \"input\", \"value\": \"0.016837307791846\", \"position\": 14}, {\"token\": \"Belgium\", \"token_id\": 15664, \"is_partial\": false, \"type\": \"input\", \"value\": \"0.12425200344343985\", \"position\": 15}, {\"token\": \"\\n\", \"token_id\": 198, \"is_partial\": true, \"type\": \"input\", \"value\": \"0.01685296359196976\", \"position\": 16}, {\"token\": \"3\", \"token_id\": 18, \"is_partial\": true, \"type\": \"input\", \"value\": \"0.01938455482944555\", \"position\": 17}, {\"token\": \".\", \"token_id\": 13, \"is_partial\": true, \"type\": \"input\", \"value\": \"0.0195787434470564\", \"position\": 18}, {\"token\": \"Bulgaria\", \"token_id\": 27902, \"is_partial\": false, \"type\": \"input\", \"value\": \"0.2910123730099198\", \"position\": 19}, {\"token\": \"\\n\", \"token_id\": 198, \"is_partial\": true, \"type\": \"input\", \"value\": \"0.015566096213177606\", \"position\": 20}, {\"token\": \"4\", \"token_id\": 19, \"is_partial\": true, \"type\": \"input\", \"value\": \"0.029158065717207696\", \"position\": 21}, {\"token\": \".\", \"token_id\": 13, \"is_partial\": true, \"type\": \"input\", \"value\": \"0.03418901885245791\", \"position\": 22}, {\"token\": \"Germany\", \"token_id\": 4486, \"is_partial\": false, \"type\": \"output\", \"value\": \"0\", \"position\": 23}, {\"token\": \"\\n\", \"token_id\": 198, \"is_partial\": true, \"type\": \"output\", \"value\": \"0\", \"position\": 24}, {\"token\": \"5\", \"token_id\": 20, \"is_partial\": true, \"type\": \"output\", \"value\": \"0\", \"position\": 25}, {\"token\": \".\", \"token_id\": 13, \"is_partial\": true, \"type\": \"output\", \"value\": \"0\", \"position\": 26}, {\"token\": \"Greece\", \"token_id\": 10315, \"is_partial\": false, \"type\": \"output\", \"value\": \"0\", \"position\": 27}, {\"token\": \"\\n\", \"token_id\": 198, \"is_partial\": true, \"type\": \"output\", \"value\": \"0\", \"position\": 28}, {\"token\": \"6\", \"token_id\": 21, \"is_partial\": true, \"type\": \"output\", \"value\": \"0\", \"position\": 29}, {\"token\": \".\", \"token_id\": 13, \"is_partial\": true, \"type\": \"output\", \"value\": \"0\", \"position\": 30}, {\"token\": \"Italy\", \"token_id\": 8031, \"is_partial\": false, \"type\": \"output\", \"value\": \"0\", \"position\": 31}, {\"token\": \"\\n\", \"token_id\": 198, \"is_partial\": true, \"type\": \"output\", \"value\": \"0\", \"position\": 32}, {\"token\": \"7\", \"token_id\": 22, \"is_partial\": true, \"type\": \"output\", \"value\": \"0\", \"position\": 33}, {\"token\": \".\", \"token_id\": 13, \"is_partial\": true, \"type\": \"output\", \"value\": \"0\", \"position\": 34}, {\"token\": \"Ireland\", \"token_id\": 7517, \"is_partial\": false, \"type\": \"output\", \"value\": \"0\", \"position\": 35}, {\"token\": \"\\n\", \"token_id\": 198, \"is_partial\": true, \"type\": \"output\", \"value\": \"0\", \"position\": 36}, {\"token\": \"8\", \"token_id\": 23, \"is_partial\": true, \"type\": \"output\", \"value\": \"0\", \"position\": 37}, {\"token\": \".\", \"token_id\": 13, \"is_partial\": true, \"type\": \"output\", \"value\": \"0\", \"position\": 38}, {\"token\": \"Luxembourg\", \"token_id\": 31864, \"is_partial\": false, \"type\": \"output\", \"value\": \"0\", \"position\": 39}, {\"token\": \"<|endoftext|>\", \"token_id\": 50256, \"is_partial\": true, \"type\": \"output\", \"value\": \"0\", \"position\": 40}], \"attributions\": [[0.04558210423759468, 0.04985001490673732, 0.01653657306073674, 0.011966928450742206, 0.049092343661378386, 0.03264701055928682, 0.016130614423550658, 0.017947883297594832, 0.019876424727062466, 0.021311100932156317, 0.018530684865451688, 0.09561736963678077, 0.01783141611455895, 0.020248404229847677, 0.016837307791846, 0.12425200344343985, 0.01685296359196976, 0.01938455482944555, 0.0195787434470564, 0.2910123730099198, 0.015566096213177606, 0.029158065717207696, 0.03418901885245791], [0.07950400404347299, 0.0442811119642521, 0.0393789739316374, 0.028770276356451664, 0.041544766848652825, 0.03780738902117074, 0.0230105705638057, 0.029106761426447778, 0.035950496405974315, 0.031199976216464115, 0.023946804700186425, 0.06129675137602208, 0.05425200255492352, 0.030925454272277757, 0.021174039845175577, 0.07021940241681328, 0.06183410224204298, 0.026333723073316148, 0.018918859726877558, 0.07422437184614118, 0.06429882114102553, 0.02375445454876234, 0.01903140371977582, 0.0592354817583301], [0.03388708731376619, 0.03198185590797305, 0.06390384092812558, 0.01919255077990346, 0.02698154047583428, 0.02616015910281552, 0.02437688852886531, 0.021011826643382147, 0.024779479991653593, 0.07442731893396103, 0.02879152338686703, 0.027761711620038838, 0.023334868880200314, 0.1333943686919589, 0.01230547585657524, 0.017190715447960036, 0.021249547587180347, 0.09227786551306873, 0.010478406686832026, 0.023554925729619987, 0.0231232001511626, 0.17548205812234804, 0.012662115026275098, 0.036926665215896354, 0.014764003477736192], [0.08176389810168024, 0.04565285291519839, 0.03438317176777838, 0.02434233480146643, 0.03534877095716154, 0.03144334219095055, 0.024886433431656325, 0.027386859425804374, 0.02775474045585542, 0.0285529896257207, 0.028377975852460515, 0.028875742707082295, 0.030192113936263698, 0.03499314272821119, 0.03422642707928605, 0.02989094829622625, 0.02949466062183815, 0.04397415643548535, 0.03843834808339521, 0.028970570408764017, 0.03295850752328458, 0.07441367365119894, 0.06903542334848653, 0.022487421948779632, 0.035518746958676545, 0.07663674674728871], [0.03744870215178664, 0.04551367970722642, 0.015290996803379251, 0.012541031299175383, 0.047166195898699186, 0.027458456041213518, 0.0129729842604754, 0.01551019811931253, 0.013681339765728563, 0.015117634181700553, 0.011890341394295801, 0.052126358701430044, 0.011803098322612894, 0.01291084337105891, 0.011410765769112001, 0.049205334430102575, 0.012704201333680937, 0.01910888745181279, 0.014982969857885487, 0.14186053681321878, 0.02030072988626332, 0.03188751603039823, 0.022012568328168964, 0.2789053835705679, 0.01461459587845985, 0.031504503155428194, 0.02007014747680584], [0.05959078462717686, 0.04118934865011131, 0.03507086057453955, 0.027999413862375623, 0.03755550792863106, 0.03250087108793205, 0.021322445071368434, 0.025884398304565227, 0.03418415431603739, 0.02458834018306576, 0.019153006558878985, 0.04764777870018052, 0.041357656977985754, 0.024972540893941735, 0.01709404634819359, 0.05359187952660033, 0.048264038012605724, 0.023632629924958067, 0.018278304388146798, 0.06983083617888239, 0.05686609568477203, 0.01850168535760585, 0.013800324112583716, 0.029505230423593626, 0.05399046718490389, 0.022436220584841824, 0.019057863603251055, 0.08213327093227088], [0.034058251368800065, 0.03831561360708284, 0.04304502379599971, 0.016172939698509307, 0.025212548041000458, 0.022990346802078152, 0.021762500308687063, 0.022512316873719757, 0.024233733620215598, 0.04901348993582281, 0.025523889089588657, 0.0297148586866535, 0.022474044881088274, 0.08289062256121414, 0.014263344448663194, 0.026091292491049363, 0.021756630597851833, 0.06446820608969678, 0.012719063852260267, 0.02753378521748765, 0.023850987222568995, 0.0879916377723774, 0.013550877099875824, 0.01665633608652752, 0.030827824906338737, 0.13904931278681415, 0.01573465012058678, 0.02872648008312225, 0.018859391954318926], [0.07179681578035238, 0.04404127608405876, 0.03241569229724178, 0.022265658616997017, 0.034486365961689, 0.02936794129917428, 0.020476251267399735, 0.02348181392961305, 0.022182435882888384, 0.02333812623389896, 0.023273292576464072, 0.024488546268630826, 0.021592213914086226, 0.0272971318100618, 0.027347467967106853, 0.02608141892230736, 0.020804178020810724, 0.030888862960572784, 0.027847750978852948, 0.025744534389331768, 0.022082330468545384, 0.046387824835786615, 0.046212264682780606, 0.02071105583104272, 0.024671600772010242, 0.03456488927544716, 0.03559413615823116, 0.03211976684169788, 0.04860619643104824, 0.10983215954187132], [0.028583622534512677, 0.04019617073131634, 0.01175586968634118, 0.008633553712946638, 0.035564506656784366, 0.02285117806757245, 0.011068108596533168, 0.011926488089364072, 0.012398109969474963, 0.01330239687015155, 0.01035601247689846, 0.05812069608002312, 0.011975065939291436, 0.01109628661493225, 0.010017634558232093, 0.03964069700732255, 0.016962561596479686, 0.017204284964352383, 0.01490913810143101, 0.07903400476121676, 0.02851072299574264, 0.032363484611450645, 0.019741785110742923, 0.1351438740040557, 0.016353246254442736, 0.020335515415543067, 0.01806420612463891, 0.17426018472009425, 0.027153604616295478, 0.04137046870958128, 0.021106520422235146], [0.05395517981028353, 0.04154171463909314, 0.03378072521683319, 0.029792851697188004, 0.03855629727199701, 0.03202608377409461, 0.020225778630918824, 0.024916313316221256, 0.03191903262660574, 0.021213032939668964, 0.01634161878476196, 0.038988757718581825, 0.03626781159210239, 0.021864563896108337, 0.015717677345521198, 0.04529592961206274, 0.04296228632467801, 0.0222373426194426, 0.017563511719714063, 0.05442781629867937, 0.05109682664797868, 0.02168340873482527, 0.01532742920619208, 0.027954624559858917, 0.04922290795757924, 0.014719427870709258, 0.01163080005248928, 0.02546443753991359, 0.040037129551715456, 0.0181394040233089, 0.017193813299722867, 0.06793546472114964], [0.02889834491747867, 0.026254741590559297, 0.044597966642683534, 0.0151032602802624, 0.024734108205082202, 0.020924289700534168, 0.019251486317211432, 0.018101086553458177, 0.0201739008319922, 0.04734567190069398, 0.02658197855352857, 0.020774609944809046, 0.017262263745113717, 0.07974998354780294, 0.015036075527841992, 0.01626529927237823, 0.014628047631361229, 0.05658146677679599, 0.010288160800400887, 0.023712431312765587, 0.013511816578374629, 0.06993218637559508, 0.00808765227441987, 0.012382882193449442, 0.015941599489163048, 0.09318148854730204, 0.008327790572682216, 0.0157580324463846, 0.01637349266637326, 0.15015873666785876, 0.00763526981182306, 0.027165869799029387, 0.01527800852479049], [0.05800696427168388, 0.03476157116395914, 0.026881469480382614, 0.01937164487091244, 0.028579819124812222, 0.024537229242467814, 0.019417487623102952, 0.020968387696495238, 0.024794157520109657, 0.02036862574557537, 0.02324347564442138, 0.024458077486858874, 0.024525047600441708, 0.02902736574604275, 0.024092304037324402, 0.02473536727869339, 0.021744872134999288, 0.026517300174486884, 0.02311490998585937, 0.025554042482793433, 0.02192991307225348, 0.038178899648464895, 0.03355239190345557, 0.020923522127426073, 0.026511394212590734, 0.04627586836071128, 0.05144787574651176, 0.02635342773592019, 0.022084546050081477, 0.030597522288457045, 0.031956437262727726, 0.02672821317003548, 0.03464090806012778, 0.06411896104981364], [0.024704189056572963, 0.03314771559744467, 0.010418446643126779, 0.00894660525606024, 0.037253030491158676, 0.020952516142671178, 0.009335558213531202, 0.010642921680609435, 0.0108467336103005, 0.011140911464599874, 0.008976783742542996, 0.04240391668080736, 0.010495557723821346, 0.010311352918664396, 0.008715090974108497, 0.04447820227160036, 0.010427321505748554, 0.010599978059592903, 0.009815868221328556, 0.06581558007445966, 0.010703947900322582, 0.015380512162679662, 0.0104147776178385, 0.06656859089090826, 0.00987495459011059, 0.012982285155393007, 0.011660999375181289, 0.09672900862096949, 0.0317482867372566, 0.02338909680424685, 0.01869526769009765, 0.1925990594891432, 0.019953065206563515, 0.058269624239533725, 0.021602243191005132], [0.05410159550443087, 0.03845846075896905, 0.03263593873498088, 0.029560169445222224, 0.036590757914266185, 0.030053444258708602, 0.019931341377005366, 0.024469921686013852, 0.03014839071079109, 0.01966531268570252, 0.01544230120727461, 0.03378667279232592, 0.03175396976352716, 0.018998493611977803, 0.014056715047929807, 0.03756453042050818, 0.03629879635276393, 0.019825947134287602, 0.016192610327419872, 0.047907668422642755, 0.04438406734682256, 0.021640546885739076, 0.014969194941227797, 0.028718388914081953, 0.04569218984443098, 0.016934679906931118, 0.011688938082606714, 0.024408170611887187, 0.03341141777316079, 0.016101069120497417, 0.009549784743352567, 0.02009647191314637, 0.031047616035527036, 0.015466829907165632, 0.01550640610116365, 0.06294118971551092], [0.023196230306582775, 0.02577890355658989, 0.03507877644373825, 0.014305939869995538, 0.02063103498528922, 0.017378595826895316, 0.015039089690329181, 0.01439418261756293, 0.01689197700216276, 0.037601870026999634, 0.021235484426650887, 0.015569895053770837, 0.014228441647822183, 0.06489489606640282, 0.013472813705527227, 0.01586172193653719, 0.011103511068863689, 0.03858889796495336, 0.00842131542920316, 0.02069808235208015, 0.009963574625114237, 0.04679805589529274, 0.007186076575020447, 0.009628223711774032, 0.014432440470135043, 0.07437426553083389, 0.006721737863602571, 0.02461867960412385, 0.01394211626968055, 0.06479818293459336, 0.009015841166518724, 0.03235788415414854, 0.02409648011063419, 0.16874790467023773, 0.006398117965137224, 0.03068326896649465, 0.011865489508701223], [0.051958206728462505, 0.03230153997537474, 0.024515630665458935, 0.01740241709098294, 0.0268810779865645, 0.02257802181658809, 0.016739638233557917, 0.017592288427017554, 0.021925979539750416, 0.01610767841882288, 0.020704150241121756, 0.021889412445259673, 0.01936775664059755, 0.02119356659199038, 0.020994706706099445, 0.02218144970243948, 0.01714363760258357, 0.021089362421411306, 0.017385384437549407, 0.023789642409807008, 0.018419390739300063, 0.03269651629456219, 0.02891136826541222, 0.019250371729570045, 0.02027331134879063, 0.032503455274765974, 0.033397162764782475, 0.02992013111135484, 0.023759283429424773, 0.033012569875796184, 0.03528653335500777, 0.025553339709456103, 0.026945869005104674, 0.025872689461402015, 0.031230870021836457, 0.03298847063578242, 0.03031373615588832, 0.06592338274032275], [0.02817732853844955, 0.033785978680963634, 0.009547859174392517, 0.007848402070709613, 0.030926895391388213, 0.01777194628023357, 0.0095380061883676, 0.012494254781090118, 0.010758746107005626, 0.0134709486346414, 0.008696743160018536, 0.050378743914411474, 0.009648972947242792, 0.011865118468557511, 0.008545482986860269, 0.04327928874216613, 0.00884587906052869, 0.010703281664105564, 0.011277209766333923, 0.04244517238580388, 0.008569209529954028, 0.011559624767288683, 0.007399444993023006, 0.030384579081929017, 0.008314442278595218, 0.012830377712820449, 0.008638022599094256, 0.04156888997008484, 0.014633611327290711, 0.01824172076997114, 0.013499543283828007, 0.11279313920147285, 0.013901676478416692, 0.021884060940946408, 0.018174005675008913, 0.15071908040025306, 0.026335127779800602, 0.06441411216266892, 0.03613307210428269], [0.05780291642755444, 0.04764480830883657, 0.022678580007905257, 0.017035209702202493, 0.03082876043639162, 0.02728680023623085, 0.019885271149752845, 0.028762910211855394, 0.020176923160048012, 0.017018169983866453, 0.011623734361898843, 0.03301840914667328, 0.015744666591719577, 0.023084530439168503, 0.010131345325542624, 0.029469222619792495, 0.017223463370659435, 0.016508948206072065, 0.01045744780132398, 0.030855631945476716, 0.01833599965279412, 0.015482431071886607, 0.01077379792409495, 0.018210907297839293, 0.01968533902494269, 0.017034484317232437, 0.012519417416586714, 0.02320820367013783, 0.017127640159578652, 0.01948368513567643, 0.01315206655104824, 0.0232747612525244, 0.017820062298090016, 0.017155183267084716, 0.01275963046454882, 0.025424206962600688, 0.02564484061419101, 0.023901862782063556, 0.019954936632441706, 0.16181279407166563]]},\n",
       "                    preset: 'viridis',\n",
       "                    tokenization_config: {\"token_prefix\": \"\\u0120\", \"partial_token_prefix\": \"\"}\n",
       "\n",
       "             })\n",
       "\n",
       "             window.ecco[viz_id].init();\n",
       "             window.ecco[viz_id].selectFirstToken();\n",
       "\n",
       "             }, function (err) {\n",
       "                console.log(err);\n",
       "            })"
      ],
      "text/plain": [
       "<IPython.core.display.Javascript object>"
      ]
     },
     "metadata": {},
     "output_type": "display_data"
    }
   ],
   "source": [
    "output.primary_attributions(attr_method='ig')"
   ]
  },
  {
   "cell_type": "code",
   "execution_count": 4,
   "metadata": {
    "colab": {
     "base_uri": "https://localhost:8080/",
     "height": 357
    },
    "id": "rRM7NKV91TCk",
    "outputId": "cb209195-cea3-4402-ef3c-ead36f0d405f"
   },
   "outputs": [
    {
     "data": {
      "text/html": [
       "<html lang=\"en\">\n",
       "<script src=\"https://requirejs.org/docs/release/2.3.6/minified/require.js\"></script>\n",
       "<script>\n",
       "    var ecco_url = 'https://storage.googleapis.com/ml-intro/ecco/'\n",
       "    //var ecco_url = 'http://localhost:8000/'\n",
       "\n",
       "    if (window.ecco === undefined) window.ecco = {}\n",
       "\n",
       "    // Setup the paths of the script we'll be using\n",
       "    requirejs.config({\n",
       "        urlArgs: \"bust=\" + (new Date()).getTime(),\n",
       "        nodeRequire: require,\n",
       "        paths: {\n",
       "            d3: \"https://d3js.org/d3.v6.min\", // This is only for use in setup.html and basic.html\n",
       "            \"d3-array\": \"https://d3js.org/d3-array.v2.min\",\n",
       "            jquery: \"https://code.jquery.com/jquery-3.5.1.min\",\n",
       "            ecco: ecco_url + 'js/0.0.6/ecco-bundle.min',\n",
       "            xregexp: 'https://cdnjs.cloudflare.com/ajax/libs/xregexp/3.2.0/xregexp-all.min'\n",
       "        }\n",
       "    });\n",
       "\n",
       "    // Add the css file\n",
       "    //requirejs(['d3'],\n",
       "    //    function (d3) {\n",
       "    //        d3.select('#css').attr('href', ecco_url + 'html/styles.css')\n",
       "    //    })\n",
       "\n",
       "    console.log('Ecco initialize!!')\n",
       "\n",
       "    // returns a 'basic' object. basic.init() selects the html div we'll be\n",
       "    // rendering the html into, adds styles.css to the document.\n",
       "    define('basic', ['d3'],\n",
       "        function (d3) {\n",
       "            return {\n",
       "                init: function (viz_id = null) {\n",
       "                    if (viz_id == null) {\n",
       "                        viz_id = \"viz_\" + Math.round(Math.random() * 10000000)\n",
       "                    }\n",
       "                    // Select the div rendered below, change its id\n",
       "                    const div = d3.select('#basic').attr('id', viz_id),\n",
       "                        div_parent = d3.select('#' + viz_id).node().parentNode\n",
       "\n",
       "                    // Link to CSS file\n",
       "                    d3.select(div_parent).insert('link')\n",
       "                        .attr('rel', 'stylesheet')\n",
       "                        .attr('type', 'text/css')\n",
       "                        .attr('href', ecco_url + 'html/0.0.2/styles.css')\n",
       "\n",
       "                    return viz_id\n",
       "                }\n",
       "            }\n",
       "        }, function (err) {\n",
       "            console.log(err);\n",
       "        }\n",
       "    )\n",
       "</script>\n",
       "\n",
       "<head>\n",
       "    <link id='css' rel=\"stylesheet\" type=\"text/css\">\n",
       "</head>\n",
       "<div id=\"basic\"></div>\n"
      ],
      "text/plain": [
       "<IPython.core.display.HTML object>"
      ]
     },
     "metadata": {},
     "output_type": "display_data"
    },
    {
     "data": {
      "application/javascript": [
       "\n",
       "             requirejs(['basic', 'ecco'], function(basic, ecco){\n",
       "                const viz_id = basic.init()\n",
       "                console.log(viz_id)\n",
       "                window.ecco[viz_id] = ecco.interactiveTokens({\n",
       "                    parentDiv: viz_id,\n",
       "                    data: {\"tokens\": [{\"token\": \"The\", \"token_id\": 464, \"is_partial\": true, \"type\": \"input\", \"value\": \"0.04558210423759468\", \"position\": 0}, {\"token\": \"countries\", \"token_id\": 2678, \"is_partial\": false, \"type\": \"input\", \"value\": \"0.04985001490673732\", \"position\": 1}, {\"token\": \"of\", \"token_id\": 286, \"is_partial\": false, \"type\": \"input\", \"value\": \"0.01653657306073674\", \"position\": 2}, {\"token\": \"the\", \"token_id\": 262, \"is_partial\": false, \"type\": \"input\", \"value\": \"0.011966928450742206\", \"position\": 3}, {\"token\": \"European\", \"token_id\": 3427, \"is_partial\": false, \"type\": \"input\", \"value\": \"0.049092343661378386\", \"position\": 4}, {\"token\": \"Union\", \"token_id\": 4479, \"is_partial\": false, \"type\": \"input\", \"value\": \"0.03264701055928682\", \"position\": 5}, {\"token\": \"are\", \"token_id\": 389, \"is_partial\": false, \"type\": \"input\", \"value\": \"0.016130614423550658\", \"position\": 6}, {\"token\": \":\", \"token_id\": 25, \"is_partial\": true, \"type\": \"input\", \"value\": \"0.017947883297594832\", \"position\": 7}, {\"token\": \"\\n\", \"token_id\": 198, \"is_partial\": true, \"type\": \"input\", \"value\": \"0.019876424727062466\", \"position\": 8}, {\"token\": \"1\", \"token_id\": 16, \"is_partial\": true, \"type\": \"input\", \"value\": \"0.021311100932156317\", \"position\": 9}, {\"token\": \".\", \"token_id\": 13, \"is_partial\": true, \"type\": \"input\", \"value\": \"0.018530684865451688\", \"position\": 10}, {\"token\": \"Austria\", \"token_id\": 17322, \"is_partial\": false, \"type\": \"input\", \"value\": \"0.09561736963678077\", \"position\": 11}, {\"token\": \"\\n\", \"token_id\": 198, \"is_partial\": true, \"type\": \"input\", \"value\": \"0.01783141611455895\", \"position\": 12}, {\"token\": \"2\", \"token_id\": 17, \"is_partial\": true, \"type\": \"input\", \"value\": \"0.020248404229847677\", \"position\": 13}, {\"token\": \".\", \"token_id\": 13, \"is_partial\": true, \"type\": \"input\", \"value\": \"0.016837307791846\", \"position\": 14}, {\"token\": \"Belgium\", \"token_id\": 15664, \"is_partial\": false, \"type\": \"input\", \"value\": \"0.12425200344343985\", \"position\": 15}, {\"token\": \"\\n\", \"token_id\": 198, \"is_partial\": true, \"type\": \"input\", \"value\": \"0.01685296359196976\", \"position\": 16}, {\"token\": \"3\", \"token_id\": 18, \"is_partial\": true, \"type\": \"input\", \"value\": \"0.01938455482944555\", \"position\": 17}, {\"token\": \".\", \"token_id\": 13, \"is_partial\": true, \"type\": \"input\", \"value\": \"0.0195787434470564\", \"position\": 18}, {\"token\": \"Bulgaria\", \"token_id\": 27902, \"is_partial\": false, \"type\": \"input\", \"value\": \"0.2910123730099198\", \"position\": 19}, {\"token\": \"\\n\", \"token_id\": 198, \"is_partial\": true, \"type\": \"input\", \"value\": \"0.015566096213177606\", \"position\": 20}, {\"token\": \"4\", \"token_id\": 19, \"is_partial\": true, \"type\": \"input\", \"value\": \"0.029158065717207696\", \"position\": 21}, {\"token\": \".\", \"token_id\": 13, \"is_partial\": true, \"type\": \"input\", \"value\": \"0.03418901885245791\", \"position\": 22}, {\"token\": \"Germany\", \"token_id\": 4486, \"is_partial\": false, \"type\": \"output\", \"value\": \"0\", \"position\": 23}, {\"token\": \"\\n\", \"token_id\": 198, \"is_partial\": true, \"type\": \"output\", \"value\": \"0\", \"position\": 24}, {\"token\": \"5\", \"token_id\": 20, \"is_partial\": true, \"type\": \"output\", \"value\": \"0\", \"position\": 25}, {\"token\": \".\", \"token_id\": 13, \"is_partial\": true, \"type\": \"output\", \"value\": \"0\", \"position\": 26}, {\"token\": \"Greece\", \"token_id\": 10315, \"is_partial\": false, \"type\": \"output\", \"value\": \"0\", \"position\": 27}, {\"token\": \"\\n\", \"token_id\": 198, \"is_partial\": true, \"type\": \"output\", \"value\": \"0\", \"position\": 28}, {\"token\": \"6\", \"token_id\": 21, \"is_partial\": true, \"type\": \"output\", \"value\": \"0\", \"position\": 29}, {\"token\": \".\", \"token_id\": 13, \"is_partial\": true, \"type\": \"output\", \"value\": \"0\", \"position\": 30}, {\"token\": \"Italy\", \"token_id\": 8031, \"is_partial\": false, \"type\": \"output\", \"value\": \"0\", \"position\": 31}, {\"token\": \"\\n\", \"token_id\": 198, \"is_partial\": true, \"type\": \"output\", \"value\": \"0\", \"position\": 32}, {\"token\": \"7\", \"token_id\": 22, \"is_partial\": true, \"type\": \"output\", \"value\": \"0\", \"position\": 33}, {\"token\": \".\", \"token_id\": 13, \"is_partial\": true, \"type\": \"output\", \"value\": \"0\", \"position\": 34}, {\"token\": \"Ireland\", \"token_id\": 7517, \"is_partial\": false, \"type\": \"output\", \"value\": \"0\", \"position\": 35}, {\"token\": \"\\n\", \"token_id\": 198, \"is_partial\": true, \"type\": \"output\", \"value\": \"0\", \"position\": 36}, {\"token\": \"8\", \"token_id\": 23, \"is_partial\": true, \"type\": \"output\", \"value\": \"0\", \"position\": 37}, {\"token\": \".\", \"token_id\": 13, \"is_partial\": true, \"type\": \"output\", \"value\": \"0\", \"position\": 38}, {\"token\": \"Luxembourg\", \"token_id\": 31864, \"is_partial\": false, \"type\": \"output\", \"value\": \"0\", \"position\": 39}, {\"token\": \"<|endoftext|>\", \"token_id\": 50256, \"is_partial\": true, \"type\": \"output\", \"value\": \"0\", \"position\": 40}], \"attributions\": [[0.04558210423759468, 0.04985001490673732, 0.01653657306073674, 0.011966928450742206, 0.049092343661378386, 0.03264701055928682, 0.016130614423550658, 0.017947883297594832, 0.019876424727062466, 0.021311100932156317, 0.018530684865451688, 0.09561736963678077, 0.01783141611455895, 0.020248404229847677, 0.016837307791846, 0.12425200344343985, 0.01685296359196976, 0.01938455482944555, 0.0195787434470564, 0.2910123730099198, 0.015566096213177606, 0.029158065717207696, 0.03418901885245791], [0.07950400404347299, 0.0442811119642521, 0.0393789739316374, 0.028770276356451664, 0.041544766848652825, 0.03780738902117074, 0.0230105705638057, 0.029106761426447778, 0.035950496405974315, 0.031199976216464115, 0.023946804700186425, 0.06129675137602208, 0.05425200255492352, 0.030925454272277757, 0.021174039845175577, 0.07021940241681328, 0.06183410224204298, 0.026333723073316148, 0.018918859726877558, 0.07422437184614118, 0.06429882114102553, 0.02375445454876234, 0.01903140371977582, 0.0592354817583301], [0.03388708731376619, 0.03198185590797305, 0.06390384092812558, 0.01919255077990346, 0.02698154047583428, 0.02616015910281552, 0.02437688852886531, 0.021011826643382147, 0.024779479991653593, 0.07442731893396103, 0.02879152338686703, 0.027761711620038838, 0.023334868880200314, 0.1333943686919589, 0.01230547585657524, 0.017190715447960036, 0.021249547587180347, 0.09227786551306873, 0.010478406686832026, 0.023554925729619987, 0.0231232001511626, 0.17548205812234804, 0.012662115026275098, 0.036926665215896354, 0.014764003477736192], [0.08176389810168024, 0.04565285291519839, 0.03438317176777838, 0.02434233480146643, 0.03534877095716154, 0.03144334219095055, 0.024886433431656325, 0.027386859425804374, 0.02775474045585542, 0.0285529896257207, 0.028377975852460515, 0.028875742707082295, 0.030192113936263698, 0.03499314272821119, 0.03422642707928605, 0.02989094829622625, 0.02949466062183815, 0.04397415643548535, 0.03843834808339521, 0.028970570408764017, 0.03295850752328458, 0.07441367365119894, 0.06903542334848653, 0.022487421948779632, 0.035518746958676545, 0.07663674674728871], [0.03744870215178664, 0.04551367970722642, 0.015290996803379251, 0.012541031299175383, 0.047166195898699186, 0.027458456041213518, 0.0129729842604754, 0.01551019811931253, 0.013681339765728563, 0.015117634181700553, 0.011890341394295801, 0.052126358701430044, 0.011803098322612894, 0.01291084337105891, 0.011410765769112001, 0.049205334430102575, 0.012704201333680937, 0.01910888745181279, 0.014982969857885487, 0.14186053681321878, 0.02030072988626332, 0.03188751603039823, 0.022012568328168964, 0.2789053835705679, 0.01461459587845985, 0.031504503155428194, 0.02007014747680584], [0.05959078462717686, 0.04118934865011131, 0.03507086057453955, 0.027999413862375623, 0.03755550792863106, 0.03250087108793205, 0.021322445071368434, 0.025884398304565227, 0.03418415431603739, 0.02458834018306576, 0.019153006558878985, 0.04764777870018052, 0.041357656977985754, 0.024972540893941735, 0.01709404634819359, 0.05359187952660033, 0.048264038012605724, 0.023632629924958067, 0.018278304388146798, 0.06983083617888239, 0.05686609568477203, 0.01850168535760585, 0.013800324112583716, 0.029505230423593626, 0.05399046718490389, 0.022436220584841824, 0.019057863603251055, 0.08213327093227088], [0.034058251368800065, 0.03831561360708284, 0.04304502379599971, 0.016172939698509307, 0.025212548041000458, 0.022990346802078152, 0.021762500308687063, 0.022512316873719757, 0.024233733620215598, 0.04901348993582281, 0.025523889089588657, 0.0297148586866535, 0.022474044881088274, 0.08289062256121414, 0.014263344448663194, 0.026091292491049363, 0.021756630597851833, 0.06446820608969678, 0.012719063852260267, 0.02753378521748765, 0.023850987222568995, 0.0879916377723774, 0.013550877099875824, 0.01665633608652752, 0.030827824906338737, 0.13904931278681415, 0.01573465012058678, 0.02872648008312225, 0.018859391954318926], [0.07179681578035238, 0.04404127608405876, 0.03241569229724178, 0.022265658616997017, 0.034486365961689, 0.02936794129917428, 0.020476251267399735, 0.02348181392961305, 0.022182435882888384, 0.02333812623389896, 0.023273292576464072, 0.024488546268630826, 0.021592213914086226, 0.0272971318100618, 0.027347467967106853, 0.02608141892230736, 0.020804178020810724, 0.030888862960572784, 0.027847750978852948, 0.025744534389331768, 0.022082330468545384, 0.046387824835786615, 0.046212264682780606, 0.02071105583104272, 0.024671600772010242, 0.03456488927544716, 0.03559413615823116, 0.03211976684169788, 0.04860619643104824, 0.10983215954187132], [0.028583622534512677, 0.04019617073131634, 0.01175586968634118, 0.008633553712946638, 0.035564506656784366, 0.02285117806757245, 0.011068108596533168, 0.011926488089364072, 0.012398109969474963, 0.01330239687015155, 0.01035601247689846, 0.05812069608002312, 0.011975065939291436, 0.01109628661493225, 0.010017634558232093, 0.03964069700732255, 0.016962561596479686, 0.017204284964352383, 0.01490913810143101, 0.07903400476121676, 0.02851072299574264, 0.032363484611450645, 0.019741785110742923, 0.1351438740040557, 0.016353246254442736, 0.020335515415543067, 0.01806420612463891, 0.17426018472009425, 0.027153604616295478, 0.04137046870958128, 0.021106520422235146], [0.05395517981028353, 0.04154171463909314, 0.03378072521683319, 0.029792851697188004, 0.03855629727199701, 0.03202608377409461, 0.020225778630918824, 0.024916313316221256, 0.03191903262660574, 0.021213032939668964, 0.01634161878476196, 0.038988757718581825, 0.03626781159210239, 0.021864563896108337, 0.015717677345521198, 0.04529592961206274, 0.04296228632467801, 0.0222373426194426, 0.017563511719714063, 0.05442781629867937, 0.05109682664797868, 0.02168340873482527, 0.01532742920619208, 0.027954624559858917, 0.04922290795757924, 0.014719427870709258, 0.01163080005248928, 0.02546443753991359, 0.040037129551715456, 0.0181394040233089, 0.017193813299722867, 0.06793546472114964], [0.02889834491747867, 0.026254741590559297, 0.044597966642683534, 0.0151032602802624, 0.024734108205082202, 0.020924289700534168, 0.019251486317211432, 0.018101086553458177, 0.0201739008319922, 0.04734567190069398, 0.02658197855352857, 0.020774609944809046, 0.017262263745113717, 0.07974998354780294, 0.015036075527841992, 0.01626529927237823, 0.014628047631361229, 0.05658146677679599, 0.010288160800400887, 0.023712431312765587, 0.013511816578374629, 0.06993218637559508, 0.00808765227441987, 0.012382882193449442, 0.015941599489163048, 0.09318148854730204, 0.008327790572682216, 0.0157580324463846, 0.01637349266637326, 0.15015873666785876, 0.00763526981182306, 0.027165869799029387, 0.01527800852479049], [0.05800696427168388, 0.03476157116395914, 0.026881469480382614, 0.01937164487091244, 0.028579819124812222, 0.024537229242467814, 0.019417487623102952, 0.020968387696495238, 0.024794157520109657, 0.02036862574557537, 0.02324347564442138, 0.024458077486858874, 0.024525047600441708, 0.02902736574604275, 0.024092304037324402, 0.02473536727869339, 0.021744872134999288, 0.026517300174486884, 0.02311490998585937, 0.025554042482793433, 0.02192991307225348, 0.038178899648464895, 0.03355239190345557, 0.020923522127426073, 0.026511394212590734, 0.04627586836071128, 0.05144787574651176, 0.02635342773592019, 0.022084546050081477, 0.030597522288457045, 0.031956437262727726, 0.02672821317003548, 0.03464090806012778, 0.06411896104981364], [0.024704189056572963, 0.03314771559744467, 0.010418446643126779, 0.00894660525606024, 0.037253030491158676, 0.020952516142671178, 0.009335558213531202, 0.010642921680609435, 0.0108467336103005, 0.011140911464599874, 0.008976783742542996, 0.04240391668080736, 0.010495557723821346, 0.010311352918664396, 0.008715090974108497, 0.04447820227160036, 0.010427321505748554, 0.010599978059592903, 0.009815868221328556, 0.06581558007445966, 0.010703947900322582, 0.015380512162679662, 0.0104147776178385, 0.06656859089090826, 0.00987495459011059, 0.012982285155393007, 0.011660999375181289, 0.09672900862096949, 0.0317482867372566, 0.02338909680424685, 0.01869526769009765, 0.1925990594891432, 0.019953065206563515, 0.058269624239533725, 0.021602243191005132], [0.05410159550443087, 0.03845846075896905, 0.03263593873498088, 0.029560169445222224, 0.036590757914266185, 0.030053444258708602, 0.019931341377005366, 0.024469921686013852, 0.03014839071079109, 0.01966531268570252, 0.01544230120727461, 0.03378667279232592, 0.03175396976352716, 0.018998493611977803, 0.014056715047929807, 0.03756453042050818, 0.03629879635276393, 0.019825947134287602, 0.016192610327419872, 0.047907668422642755, 0.04438406734682256, 0.021640546885739076, 0.014969194941227797, 0.028718388914081953, 0.04569218984443098, 0.016934679906931118, 0.011688938082606714, 0.024408170611887187, 0.03341141777316079, 0.016101069120497417, 0.009549784743352567, 0.02009647191314637, 0.031047616035527036, 0.015466829907165632, 0.01550640610116365, 0.06294118971551092], [0.023196230306582775, 0.02577890355658989, 0.03507877644373825, 0.014305939869995538, 0.02063103498528922, 0.017378595826895316, 0.015039089690329181, 0.01439418261756293, 0.01689197700216276, 0.037601870026999634, 0.021235484426650887, 0.015569895053770837, 0.014228441647822183, 0.06489489606640282, 0.013472813705527227, 0.01586172193653719, 0.011103511068863689, 0.03858889796495336, 0.00842131542920316, 0.02069808235208015, 0.009963574625114237, 0.04679805589529274, 0.007186076575020447, 0.009628223711774032, 0.014432440470135043, 0.07437426553083389, 0.006721737863602571, 0.02461867960412385, 0.01394211626968055, 0.06479818293459336, 0.009015841166518724, 0.03235788415414854, 0.02409648011063419, 0.16874790467023773, 0.006398117965137224, 0.03068326896649465, 0.011865489508701223], [0.051958206728462505, 0.03230153997537474, 0.024515630665458935, 0.01740241709098294, 0.0268810779865645, 0.02257802181658809, 0.016739638233557917, 0.017592288427017554, 0.021925979539750416, 0.01610767841882288, 0.020704150241121756, 0.021889412445259673, 0.01936775664059755, 0.02119356659199038, 0.020994706706099445, 0.02218144970243948, 0.01714363760258357, 0.021089362421411306, 0.017385384437549407, 0.023789642409807008, 0.018419390739300063, 0.03269651629456219, 0.02891136826541222, 0.019250371729570045, 0.02027331134879063, 0.032503455274765974, 0.033397162764782475, 0.02992013111135484, 0.023759283429424773, 0.033012569875796184, 0.03528653335500777, 0.025553339709456103, 0.026945869005104674, 0.025872689461402015, 0.031230870021836457, 0.03298847063578242, 0.03031373615588832, 0.06592338274032275], [0.02817732853844955, 0.033785978680963634, 0.009547859174392517, 0.007848402070709613, 0.030926895391388213, 0.01777194628023357, 0.0095380061883676, 0.012494254781090118, 0.010758746107005626, 0.0134709486346414, 0.008696743160018536, 0.050378743914411474, 0.009648972947242792, 0.011865118468557511, 0.008545482986860269, 0.04327928874216613, 0.00884587906052869, 0.010703281664105564, 0.011277209766333923, 0.04244517238580388, 0.008569209529954028, 0.011559624767288683, 0.007399444993023006, 0.030384579081929017, 0.008314442278595218, 0.012830377712820449, 0.008638022599094256, 0.04156888997008484, 0.014633611327290711, 0.01824172076997114, 0.013499543283828007, 0.11279313920147285, 0.013901676478416692, 0.021884060940946408, 0.018174005675008913, 0.15071908040025306, 0.026335127779800602, 0.06441411216266892, 0.03613307210428269], [0.05780291642755444, 0.04764480830883657, 0.022678580007905257, 0.017035209702202493, 0.03082876043639162, 0.02728680023623085, 0.019885271149752845, 0.028762910211855394, 0.020176923160048012, 0.017018169983866453, 0.011623734361898843, 0.03301840914667328, 0.015744666591719577, 0.023084530439168503, 0.010131345325542624, 0.029469222619792495, 0.017223463370659435, 0.016508948206072065, 0.01045744780132398, 0.030855631945476716, 0.01833599965279412, 0.015482431071886607, 0.01077379792409495, 0.018210907297839293, 0.01968533902494269, 0.017034484317232437, 0.012519417416586714, 0.02320820367013783, 0.017127640159578652, 0.01948368513567643, 0.01315206655104824, 0.0232747612525244, 0.017820062298090016, 0.017155183267084716, 0.01275963046454882, 0.025424206962600688, 0.02564484061419101, 0.023901862782063556, 0.019954936632441706, 0.16181279407166563]]},\n",
       "                    tokenization_config: {\"token_prefix\": \"\\u0120\", \"partial_token_prefix\": \"\"}\n",
       "             })\n",
       "\n",
       "             }, function (err) {\n",
       "                console.log(err);\n",
       "            })"
      ],
      "text/plain": [
       "<IPython.core.display.Javascript object>"
      ]
     },
     "metadata": {},
     "output_type": "display_data"
    }
   ],
   "source": [
    "output.primary_attributions(attr_method='ig', style=\"detailed\")"
   ]
  },
  {
   "cell_type": "code",
   "execution_count": 5,
   "metadata": {},
   "outputs": [
    {
     "data": {
      "text/html": [
       "<html lang=\"en\">\n",
       "<script src=\"https://requirejs.org/docs/release/2.3.6/minified/require.js\"></script>\n",
       "<script>\n",
       "    var ecco_url = 'https://storage.googleapis.com/ml-intro/ecco/'\n",
       "    //var ecco_url = 'http://localhost:8000/'\n",
       "\n",
       "    if (window.ecco === undefined) window.ecco = {}\n",
       "\n",
       "    // Setup the paths of the script we'll be using\n",
       "    requirejs.config({\n",
       "        urlArgs: \"bust=\" + (new Date()).getTime(),\n",
       "        nodeRequire: require,\n",
       "        paths: {\n",
       "            d3: \"https://d3js.org/d3.v6.min\", // This is only for use in setup.html and basic.html\n",
       "            \"d3-array\": \"https://d3js.org/d3-array.v2.min\",\n",
       "            jquery: \"https://code.jquery.com/jquery-3.5.1.min\",\n",
       "            ecco: ecco_url + 'js/0.0.6/ecco-bundle.min',\n",
       "            xregexp: 'https://cdnjs.cloudflare.com/ajax/libs/xregexp/3.2.0/xregexp-all.min'\n",
       "        }\n",
       "    });\n",
       "\n",
       "    // Add the css file\n",
       "    //requirejs(['d3'],\n",
       "    //    function (d3) {\n",
       "    //        d3.select('#css').attr('href', ecco_url + 'html/styles.css')\n",
       "    //    })\n",
       "\n",
       "    console.log('Ecco initialize!!')\n",
       "\n",
       "    // returns a 'basic' object. basic.init() selects the html div we'll be\n",
       "    // rendering the html into, adds styles.css to the document.\n",
       "    define('basic', ['d3'],\n",
       "        function (d3) {\n",
       "            return {\n",
       "                init: function (viz_id = null) {\n",
       "                    if (viz_id == null) {\n",
       "                        viz_id = \"viz_\" + Math.round(Math.random() * 10000000)\n",
       "                    }\n",
       "                    // Select the div rendered below, change its id\n",
       "                    const div = d3.select('#basic').attr('id', viz_id),\n",
       "                        div_parent = d3.select('#' + viz_id).node().parentNode\n",
       "\n",
       "                    // Link to CSS file\n",
       "                    d3.select(div_parent).insert('link')\n",
       "                        .attr('rel', 'stylesheet')\n",
       "                        .attr('type', 'text/css')\n",
       "                        .attr('href', ecco_url + 'html/0.0.2/styles.css')\n",
       "\n",
       "                    return viz_id\n",
       "                }\n",
       "            }\n",
       "        }, function (err) {\n",
       "            console.log(err);\n",
       "        }\n",
       "    )\n",
       "</script>\n",
       "\n",
       "<head>\n",
       "    <link id='css' rel=\"stylesheet\" type=\"text/css\">\n",
       "</head>\n",
       "<div id=\"basic\"></div>\n"
      ],
      "text/plain": [
       "<IPython.core.display.HTML object>"
      ]
     },
     "metadata": {},
     "output_type": "display_data"
    },
    {
     "data": {
      "application/javascript": [
       "\n",
       "             requirejs(['basic', 'ecco'], function(basic, ecco){\n",
       "                const viz_id = basic.init()\n",
       "                console.log(viz_id)\n",
       "                // ecco.interactiveTokens(viz_id, {})\n",
       "                window.ecco[viz_id] = new ecco.MinimalHighlighter({\n",
       "                    parentDiv: viz_id,\n",
       "                    data: {\"tokens\": [{\"token\": \"The\", \"token_id\": 464, \"is_partial\": true, \"type\": \"input\", \"value\": \"0.04596551\", \"position\": 0}, {\"token\": \"countries\", \"token_id\": 2678, \"is_partial\": false, \"type\": \"input\", \"value\": \"0.059568137\", \"position\": 1}, {\"token\": \"of\", \"token_id\": 286, \"is_partial\": false, \"type\": \"input\", \"value\": \"0.012223768\", \"position\": 2}, {\"token\": \"the\", \"token_id\": 262, \"is_partial\": false, \"type\": \"input\", \"value\": \"0.010885891\", \"position\": 3}, {\"token\": \"European\", \"token_id\": 3427, \"is_partial\": false, \"type\": \"input\", \"value\": \"0.06577329\", \"position\": 4}, {\"token\": \"Union\", \"token_id\": 4479, \"is_partial\": false, \"type\": \"input\", \"value\": \"0.032884814\", \"position\": 5}, {\"token\": \"are\", \"token_id\": 389, \"is_partial\": false, \"type\": \"input\", \"value\": \"0.015335914\", \"position\": 6}, {\"token\": \":\", \"token_id\": 25, \"is_partial\": true, \"type\": \"input\", \"value\": \"0.019374022\", \"position\": 7}, {\"token\": \"\\n\", \"token_id\": 198, \"is_partial\": true, \"type\": \"input\", \"value\": \"0.02218753\", \"position\": 8}, {\"token\": \"1\", \"token_id\": 16, \"is_partial\": true, \"type\": \"input\", \"value\": \"0.020964636\", \"position\": 9}, {\"token\": \".\", \"token_id\": 13, \"is_partial\": true, \"type\": \"input\", \"value\": \"0.017285481\", \"position\": 10}, {\"token\": \"Austria\", \"token_id\": 17322, \"is_partial\": false, \"type\": \"input\", \"value\": \"0.096496224\", \"position\": 11}, {\"token\": \"\\n\", \"token_id\": 198, \"is_partial\": true, \"type\": \"input\", \"value\": \"0.017783212\", \"position\": 12}, {\"token\": \"2\", \"token_id\": 17, \"is_partial\": true, \"type\": \"input\", \"value\": \"0.017620638\", \"position\": 13}, {\"token\": \".\", \"token_id\": 13, \"is_partial\": true, \"type\": \"input\", \"value\": \"0.014945027\", \"position\": 14}, {\"token\": \"Belgium\", \"token_id\": 15664, \"is_partial\": false, \"type\": \"input\", \"value\": \"0.13922682\", \"position\": 15}, {\"token\": \"\\n\", \"token_id\": 198, \"is_partial\": true, \"type\": \"input\", \"value\": \"0.016630428\", \"position\": 16}, {\"token\": \"3\", \"token_id\": 18, \"is_partial\": true, \"type\": \"input\", \"value\": \"0.017182412\", \"position\": 17}, {\"token\": \".\", \"token_id\": 13, \"is_partial\": true, \"type\": \"input\", \"value\": \"0.01605105\", \"position\": 18}, {\"token\": \"Bulgaria\", \"token_id\": 27902, \"is_partial\": false, \"type\": \"input\", \"value\": \"0.2752468\", \"position\": 19}, {\"token\": \"\\n\", \"token_id\": 198, \"is_partial\": true, \"type\": \"input\", \"value\": \"0.013591155\", \"position\": 20}, {\"token\": \"4\", \"token_id\": 19, \"is_partial\": true, \"type\": \"input\", \"value\": \"0.026199179\", \"position\": 21}, {\"token\": \".\", \"token_id\": 13, \"is_partial\": true, \"type\": \"input\", \"value\": \"0.026578128\", \"position\": 22}, {\"token\": \"Germany\", \"token_id\": 4486, \"is_partial\": false, \"type\": \"output\", \"value\": \"0\", \"position\": 23}, {\"token\": \"\\n\", \"token_id\": 198, \"is_partial\": true, \"type\": \"output\", \"value\": \"0\", \"position\": 24}, {\"token\": \"5\", \"token_id\": 20, \"is_partial\": true, \"type\": \"output\", \"value\": \"0\", \"position\": 25}, {\"token\": \".\", \"token_id\": 13, \"is_partial\": true, \"type\": \"output\", \"value\": \"0\", \"position\": 26}, {\"token\": \"Greece\", \"token_id\": 10315, \"is_partial\": false, \"type\": \"output\", \"value\": \"0\", \"position\": 27}, {\"token\": \"\\n\", \"token_id\": 198, \"is_partial\": true, \"type\": \"output\", \"value\": \"0\", \"position\": 28}, {\"token\": \"6\", \"token_id\": 21, \"is_partial\": true, \"type\": \"output\", \"value\": \"0\", \"position\": 29}, {\"token\": \".\", \"token_id\": 13, \"is_partial\": true, \"type\": \"output\", \"value\": \"0\", \"position\": 30}, {\"token\": \"Italy\", \"token_id\": 8031, \"is_partial\": false, \"type\": \"output\", \"value\": \"0\", \"position\": 31}, {\"token\": \"\\n\", \"token_id\": 198, \"is_partial\": true, \"type\": \"output\", \"value\": \"0\", \"position\": 32}, {\"token\": \"7\", \"token_id\": 22, \"is_partial\": true, \"type\": \"output\", \"value\": \"0\", \"position\": 33}, {\"token\": \".\", \"token_id\": 13, \"is_partial\": true, \"type\": \"output\", \"value\": \"0\", \"position\": 34}, {\"token\": \"Ireland\", \"token_id\": 7517, \"is_partial\": false, \"type\": \"output\", \"value\": \"0\", \"position\": 35}, {\"token\": \"\\n\", \"token_id\": 198, \"is_partial\": true, \"type\": \"output\", \"value\": \"0\", \"position\": 36}, {\"token\": \"8\", \"token_id\": 23, \"is_partial\": true, \"type\": \"output\", \"value\": \"0\", \"position\": 37}, {\"token\": \".\", \"token_id\": 13, \"is_partial\": true, \"type\": \"output\", \"value\": \"0\", \"position\": 38}, {\"token\": \"Luxembourg\", \"token_id\": 31864, \"is_partial\": false, \"type\": \"output\", \"value\": \"0\", \"position\": 39}, {\"token\": \"<|endoftext|>\", \"token_id\": 50256, \"is_partial\": true, \"type\": \"output\", \"value\": \"0\", \"position\": 40}], \"attributions\": [[0.04596551135182381, 0.0595681369304657, 0.012223768047988415, 0.010885890573263168, 0.06577329337596893, 0.03288481384515762, 0.015335913747549057, 0.019374022260308266, 0.022187529131770134, 0.02096463553607464, 0.017285481095314026, 0.09649622440338135, 0.017783211544156075, 0.017620638012886047, 0.01494502741843462, 0.13922682404518127, 0.016630427911877632, 0.01718241162598133, 0.016051050275564194, 0.275246798992157, 0.013591155409812927, 0.026199178770184517, 0.026578128337860107], [0.05288391932845116, 0.06106047332286835, 0.016130588948726654, 0.013260801322758198, 0.04945008456707001, 0.03357325494289398, 0.03075602650642395, 0.03744514659047127, 0.03246218338608742, 0.03735606372356415, 0.01971578225493431, 0.0961906686425209, 0.02440115250647068, 0.02288890816271305, 0.016225242987275124, 0.06052175909280777, 0.020028747618198395, 0.022701404988765717, 0.01642412506043911, 0.07491964846849442, 0.0271269790828228, 0.0418209508061409, 0.02356114611029625, 0.16909487545490265], [0.041414640843868256, 0.06051855534315109, 0.01414415705949068, 0.009865188039839268, 0.03175756335258484, 0.02485455386340618, 0.027875734493136406, 0.03167613968253136, 0.0329439640045166, 0.04562601074576378, 0.017933251336216927, 0.04565417021512985, 0.027651693671941757, 0.0431339330971241, 0.01327036414295435, 0.026889970526099205, 0.03575008735060692, 0.041427843272686005, 0.01809065230190754, 0.04124630242586136, 0.04419736564159393, 0.19209471344947815, 0.031327925622463226, 0.04756629467010498, 0.0530889667570591], [0.05484658479690552, 0.04702138528227806, 0.015085275284945965, 0.012475727126002312, 0.03336247429251671, 0.023394696414470673, 0.02364818938076496, 0.03805060684680939, 0.039490386843681335, 0.07037266343832016, 0.041920218616724014, 0.05062353238463402, 0.03008870780467987, 0.037160664796829224, 0.0384940505027771, 0.0301914494484663, 0.029235316440463066, 0.03373025730252266, 0.03637393191456795, 0.03262265399098396, 0.024320878088474274, 0.0423787422478199, 0.03831376135349274, 0.027439294382929802, 0.06440544873476028, 0.08495310693979263], [0.03978278115391731, 0.056410081684589386, 0.011085218749940395, 0.010212118737399578, 0.0794445276260376, 0.03224220126867294, 0.013778296299278736, 0.015941493213176727, 0.014107308350503445, 0.017023304477334023, 0.010299032554030418, 0.05981208756566048, 0.01153524313122034, 0.011853785254061222, 0.009975236840546131, 0.048314355313777924, 0.012282459996640682, 0.014389571733772755, 0.015730323269963264, 0.10263746231794357, 0.02222863957285881, 0.02974807843565941, 0.017633555456995964, 0.2770956754684448, 0.014063454233109951, 0.026404596865177155, 0.025969093665480614], [0.051946017891168594, 0.05351516976952553, 0.01695357635617256, 0.0126776322722435, 0.041092220693826675, 0.029500728473067284, 0.032947566360235214, 0.03690553829073906, 0.02785058133304119, 0.03006737120449543, 0.01683344691991806, 0.09738164395093918, 0.01915651373565197, 0.01970752514898777, 0.012344187125563622, 0.054895661771297455, 0.015384959056973457, 0.01554469857364893, 0.012361446395516396, 0.052457910031080246, 0.01909748651087284, 0.021569350734353065, 0.014106164686381817, 0.03249472379684448, 0.025437859818339348, 0.03309865668416023, 0.02317563258111477, 0.18149571120738983], [0.03920924291014671, 0.05591544881463051, 0.013198332861065865, 0.00926687940955162, 0.026481151580810547, 0.021398119628429413, 0.0230067390948534, 0.03336723521351814, 0.03574031591415405, 0.04373767971992493, 0.017473235726356506, 0.03863777592778206, 0.023902317509055138, 0.030716508626937866, 0.011263366788625717, 0.026495087891817093, 0.02235545590519905, 0.029234502464532852, 0.01475287415087223, 0.035710956901311874, 0.029431620612740517, 0.048743050545454025, 0.019395023584365845, 0.03043612278997898, 0.04500012844800949, 0.14976146817207336, 0.029512371867895126, 0.05683302506804466, 0.039023950695991516], [0.05297638848423958, 0.04325762018561363, 0.014149783179163933, 0.013343844562768936, 0.031471896916627884, 0.021817423403263092, 0.02395874634385109, 0.03371061384677887, 0.035335246473550797, 0.06418657302856445, 0.035696595907211304, 0.047904208302497864, 0.026310982182621956, 0.03117208741605282, 0.03522973507642746, 0.031381409615278244, 0.024080900475382805, 0.031007640063762665, 0.02838558703660965, 0.032152898609638214, 0.02075027860701084, 0.02913881093263626, 0.02982722595334053, 0.01729329489171505, 0.020654423162341118, 0.031183751299977303, 0.028735725209116936, 0.024750303477048874, 0.05810128524899483, 0.08203471451997757], [0.0323164127767086, 0.04503107815980911, 0.008658402599394321, 0.008862902410328388, 0.04748276621103287, 0.021862324327230453, 0.009141224436461926, 0.011662309989333153, 0.011139634996652603, 0.014794863760471344, 0.008045099675655365, 0.05606328696012497, 0.015084778890013695, 0.010182921774685383, 0.008694151416420937, 0.03865545615553856, 0.01759757474064827, 0.01654830388724804, 0.01704246550798416, 0.07632617652416229, 0.018357429653406143, 0.02307332493364811, 0.01721062883734703, 0.1372852921485901, 0.012812967412173748, 0.013471867889165878, 0.016151661053299904, 0.1893419772386551, 0.034498441964387894, 0.03151823952794075, 0.03108602948486805], [0.04684046655893326, 0.04825163632631302, 0.014127836562693119, 0.011406110599637032, 0.03890601173043251, 0.025991305708885193, 0.029426580294966698, 0.03374825045466423, 0.02791980467736721, 0.027096737176179886, 0.01578562706708908, 0.07826986163854599, 0.018621012568473816, 0.018452472984790802, 0.011331494897603989, 0.0559106282889843, 0.014072065241634846, 0.013245653361082077, 0.009908349253237247, 0.04830501601099968, 0.014721748419106007, 0.016440587118268013, 0.010795083828270435, 0.032127365469932556, 0.019478628411889076, 0.015687989071011543, 0.01047404296696186, 0.03948405757546425, 0.027156459167599678, 0.041546184569597244, 0.0174446739256382, 0.1670263558626175], [0.03683376684784889, 0.050571925938129425, 0.01141664944589138, 0.008291170932352543, 0.02714904211461544, 0.020457684993743896, 0.02020934969186783, 0.026291608810424805, 0.036092355847358704, 0.03245859593153, 0.014104490168392658, 0.0349368117749691, 0.024598829448223114, 0.02270098403096199, 0.009092647582292557, 0.024587344378232956, 0.020209087058901787, 0.024736978113651276, 0.011433636769652367, 0.03044155053794384, 0.02044198475778103, 0.03256005048751831, 0.020132187753915787, 0.027283258736133575, 0.02564513124525547, 0.05322292447090149, 0.016783595085144043, 0.029758071526885033, 0.037350405007600784, 0.1322590857744217, 0.025437884032726288, 0.048272646963596344, 0.04423822835087776], [0.049644093960523605, 0.039564698934555054, 0.012647641822695732, 0.012102972716093063, 0.027668936178088188, 0.019816666841506958, 0.02088327147066593, 0.030121641233563423, 0.032343581318855286, 0.0558331161737442, 0.0290882159024477, 0.04441684111952782, 0.024131521582603455, 0.027823617681860924, 0.032198432832956314, 0.03076309524476528, 0.02004966512322426, 0.02457847259938717, 0.026255829259753227, 0.031232567504048347, 0.017447687685489655, 0.021478157490491867, 0.02404910884797573, 0.01619279570877552, 0.019663896411657333, 0.01710473746061325, 0.02213222347199917, 0.01715618558228016, 0.028041917830705643, 0.03349076211452484, 0.030793072655797005, 0.0264425165951252, 0.055911894887685776, 0.07893010228872299], [0.02969571202993393, 0.03796445205807686, 0.008814348839223385, 0.008179226890206337, 0.050554919987916946, 0.023538799956440926, 0.009306400083005428, 0.012324262410402298, 0.012615791521966457, 0.013170440681278706, 0.010296422988176346, 0.0491342768073082, 0.009450693614780903, 0.010212723165750504, 0.007886464707553387, 0.031721945852041245, 0.009852373972535133, 0.011264218017458916, 0.011120871640741825, 0.04053841903805733, 0.01156371459364891, 0.014393793419003487, 0.011370041407644749, 0.07024747878313065, 0.010893603786826134, 0.013913139700889587, 0.010205424390733242, 0.09254883229732513, 0.029133137315511703, 0.022460026666522026, 0.018449291586875916, 0.21562056243419647, 0.022460179403424263, 0.0327022485435009, 0.026395747438073158], [0.04483318701386452, 0.043756499886512756, 0.013239605352282524, 0.010272851213812828, 0.035416170954704285, 0.024840548634529114, 0.026903420686721802, 0.031583745032548904, 0.026155129075050354, 0.02379652112722397, 0.013819847255945206, 0.06704884022474289, 0.01717349700629711, 0.018785346299409866, 0.009628723375499249, 0.04703669995069504, 0.013180971145629883, 0.013785417191684246, 0.009096105583012104, 0.05758107826113701, 0.012562848627567291, 0.015002855099737644, 0.009918514639139175, 0.031504448503255844, 0.015265438705682755, 0.01442293543368578, 0.009170432575047016, 0.03558079153299332, 0.017049016430974007, 0.01555358711630106, 0.009564056992530823, 0.03172920271754265, 0.02348073199391365, 0.038880351930856705, 0.01842721551656723, 0.15395335853099823], [0.03232197090983391, 0.046592749655246735, 0.010591595433652401, 0.00797042716294527, 0.022823473438620567, 0.018271667882800102, 0.018398454412817955, 0.024363968521356583, 0.031637366861104965, 0.028545349836349487, 0.01345242839306593, 0.029003942385315895, 0.019037524238228798, 0.0221504345536232, 0.008485221303999424, 0.0199227724224329, 0.014796639792621136, 0.024474166333675385, 0.008471078239381313, 0.028844915330410004, 0.015346267260611057, 0.028843576088547707, 0.009928320534527302, 0.021648170426487923, 0.021661294624209404, 0.03516954183578491, 0.014926426112651825, 0.021184293553233147, 0.02089748904109001, 0.04391764476895332, 0.016952751204371452, 0.029127532616257668, 0.03704149276018143, 0.1490890383720398, 0.01865067519247532, 0.04323387145996094, 0.04222548380494118], [0.04664558544754982, 0.03886769339442253, 0.012308365665376186, 0.01160810049623251, 0.026474881917238235, 0.019515693187713623, 0.019243480637669563, 0.02747412957251072, 0.03080744668841362, 0.05311596021056175, 0.027458002790808678, 0.038547027856111526, 0.02150815539062023, 0.023999977856874466, 0.02937101386487484, 0.02720574662089348, 0.018199874088168144, 0.021932212635874748, 0.020821891725063324, 0.028392504900693893, 0.015959816053509712, 0.018099108710885048, 0.019454021006822586, 0.016189081594347954, 0.01566503942012787, 0.015691056847572327, 0.01636580377817154, 0.01437302678823471, 0.019263828173279762, 0.020870650187134743, 0.01842539757490158, 0.017373131588101387, 0.016920238733291626, 0.03010309487581253, 0.026624536141753197, 0.028015771880745888, 0.06227091699838638, 0.0848376676440239], [0.03286366164684296, 0.03990559279918671, 0.009937652386724949, 0.008165827952325344, 0.04415843263268471, 0.020511193200945854, 0.010011122561991215, 0.016289735212922096, 0.013028645887970924, 0.016424255445599556, 0.010303067974746227, 0.05362073332071304, 0.010746056213974953, 0.013756929896771908, 0.010392867960035801, 0.041274409741163254, 0.009749889373779297, 0.013855788856744766, 0.014715163968503475, 0.0405040942132473, 0.008828391321003437, 0.009262819774448872, 0.00936826504766941, 0.0377923883497715, 0.008652557618916035, 0.007668042555451393, 0.009968450292944908, 0.03826015070080757, 0.01000611949712038, 0.017244217917323112, 0.010427137836813927, 0.10629498958587646, 0.010908734984695911, 0.017349710687994957, 0.010941233485937119, 0.16181175410747528, 0.018877219408750534, 0.046435754746198654, 0.029686927795410156], [0.05237261578440666, 0.05436016991734505, 0.015161845833063126, 0.012024803087115288, 0.03945164009928703, 0.02714419737458229, 0.024986734613776207, 0.03857950493693352, 0.025855571031570435, 0.02698911353945732, 0.01496976986527443, 0.047023698687553406, 0.01695096306502819, 0.01718934439122677, 0.01037091575562954, 0.03166726604104042, 0.011285969987511635, 0.011365551501512527, 0.008495082147419453, 0.031235411763191223, 0.008245576173067093, 0.009838924743235111, 0.006988296750932932, 0.018225904554128647, 0.008932944387197495, 0.0106428861618042, 0.006070930976420641, 0.02183917723596096, 0.009508849121630192, 0.01058908924460411, 0.005957201588898897, 0.023717820644378662, 0.01091501209884882, 0.012139220722019672, 0.009287483990192413, 0.026837289333343506, 0.023770194500684738, 0.02442903257906437, 0.02112104929983616, 0.2134629637002945]]},\n",
       "                    preset: 'viridis',\n",
       "                    tokenization_config: {\"token_prefix\": \"\\u0120\", \"partial_token_prefix\": \"\"}\n",
       "\n",
       "             })\n",
       "\n",
       "             window.ecco[viz_id].init();\n",
       "             window.ecco[viz_id].selectFirstToken();\n",
       "\n",
       "             }, function (err) {\n",
       "                console.log(err);\n",
       "            })"
      ],
      "text/plain": [
       "<IPython.core.display.Javascript object>"
      ]
     },
     "metadata": {},
     "output_type": "display_data"
    }
   ],
   "source": [
    "output.primary_attributions(attr_method='grad_x_input')"
   ]
  },
  {
   "cell_type": "code",
   "execution_count": 6,
   "metadata": {},
   "outputs": [
    {
     "data": {
      "text/html": [
       "<html lang=\"en\">\n",
       "<script src=\"https://requirejs.org/docs/release/2.3.6/minified/require.js\"></script>\n",
       "<script>\n",
       "    var ecco_url = 'https://storage.googleapis.com/ml-intro/ecco/'\n",
       "    //var ecco_url = 'http://localhost:8000/'\n",
       "\n",
       "    if (window.ecco === undefined) window.ecco = {}\n",
       "\n",
       "    // Setup the paths of the script we'll be using\n",
       "    requirejs.config({\n",
       "        urlArgs: \"bust=\" + (new Date()).getTime(),\n",
       "        nodeRequire: require,\n",
       "        paths: {\n",
       "            d3: \"https://d3js.org/d3.v6.min\", // This is only for use in setup.html and basic.html\n",
       "            \"d3-array\": \"https://d3js.org/d3-array.v2.min\",\n",
       "            jquery: \"https://code.jquery.com/jquery-3.5.1.min\",\n",
       "            ecco: ecco_url + 'js/0.0.6/ecco-bundle.min',\n",
       "            xregexp: 'https://cdnjs.cloudflare.com/ajax/libs/xregexp/3.2.0/xregexp-all.min'\n",
       "        }\n",
       "    });\n",
       "\n",
       "    // Add the css file\n",
       "    //requirejs(['d3'],\n",
       "    //    function (d3) {\n",
       "    //        d3.select('#css').attr('href', ecco_url + 'html/styles.css')\n",
       "    //    })\n",
       "\n",
       "    console.log('Ecco initialize!!')\n",
       "\n",
       "    // returns a 'basic' object. basic.init() selects the html div we'll be\n",
       "    // rendering the html into, adds styles.css to the document.\n",
       "    define('basic', ['d3'],\n",
       "        function (d3) {\n",
       "            return {\n",
       "                init: function (viz_id = null) {\n",
       "                    if (viz_id == null) {\n",
       "                        viz_id = \"viz_\" + Math.round(Math.random() * 10000000)\n",
       "                    }\n",
       "                    // Select the div rendered below, change its id\n",
       "                    const div = d3.select('#basic').attr('id', viz_id),\n",
       "                        div_parent = d3.select('#' + viz_id).node().parentNode\n",
       "\n",
       "                    // Link to CSS file\n",
       "                    d3.select(div_parent).insert('link')\n",
       "                        .attr('rel', 'stylesheet')\n",
       "                        .attr('type', 'text/css')\n",
       "                        .attr('href', ecco_url + 'html/0.0.2/styles.css')\n",
       "\n",
       "                    return viz_id\n",
       "                }\n",
       "            }\n",
       "        }, function (err) {\n",
       "            console.log(err);\n",
       "        }\n",
       "    )\n",
       "</script>\n",
       "\n",
       "<head>\n",
       "    <link id='css' rel=\"stylesheet\" type=\"text/css\">\n",
       "</head>\n",
       "<div id=\"basic\"></div>\n"
      ],
      "text/plain": [
       "<IPython.core.display.HTML object>"
      ]
     },
     "metadata": {},
     "output_type": "display_data"
    },
    {
     "data": {
      "application/javascript": [
       "\n",
       "             requirejs(['basic', 'ecco'], function(basic, ecco){\n",
       "                const viz_id = basic.init()\n",
       "                console.log(viz_id)\n",
       "                window.ecco[viz_id] = ecco.interactiveTokens({\n",
       "                    parentDiv: viz_id,\n",
       "                    data: {\"tokens\": [{\"token\": \"The\", \"token_id\": 464, \"is_partial\": true, \"type\": \"input\", \"value\": \"0.04596551\", \"position\": 0}, {\"token\": \"countries\", \"token_id\": 2678, \"is_partial\": false, \"type\": \"input\", \"value\": \"0.059568137\", \"position\": 1}, {\"token\": \"of\", \"token_id\": 286, \"is_partial\": false, \"type\": \"input\", \"value\": \"0.012223768\", \"position\": 2}, {\"token\": \"the\", \"token_id\": 262, \"is_partial\": false, \"type\": \"input\", \"value\": \"0.010885891\", \"position\": 3}, {\"token\": \"European\", \"token_id\": 3427, \"is_partial\": false, \"type\": \"input\", \"value\": \"0.06577329\", \"position\": 4}, {\"token\": \"Union\", \"token_id\": 4479, \"is_partial\": false, \"type\": \"input\", \"value\": \"0.032884814\", \"position\": 5}, {\"token\": \"are\", \"token_id\": 389, \"is_partial\": false, \"type\": \"input\", \"value\": \"0.015335914\", \"position\": 6}, {\"token\": \":\", \"token_id\": 25, \"is_partial\": true, \"type\": \"input\", \"value\": \"0.019374022\", \"position\": 7}, {\"token\": \"\\n\", \"token_id\": 198, \"is_partial\": true, \"type\": \"input\", \"value\": \"0.02218753\", \"position\": 8}, {\"token\": \"1\", \"token_id\": 16, \"is_partial\": true, \"type\": \"input\", \"value\": \"0.020964636\", \"position\": 9}, {\"token\": \".\", \"token_id\": 13, \"is_partial\": true, \"type\": \"input\", \"value\": \"0.017285481\", \"position\": 10}, {\"token\": \"Austria\", \"token_id\": 17322, \"is_partial\": false, \"type\": \"input\", \"value\": \"0.096496224\", \"position\": 11}, {\"token\": \"\\n\", \"token_id\": 198, \"is_partial\": true, \"type\": \"input\", \"value\": \"0.017783212\", \"position\": 12}, {\"token\": \"2\", \"token_id\": 17, \"is_partial\": true, \"type\": \"input\", \"value\": \"0.017620638\", \"position\": 13}, {\"token\": \".\", \"token_id\": 13, \"is_partial\": true, \"type\": \"input\", \"value\": \"0.014945027\", \"position\": 14}, {\"token\": \"Belgium\", \"token_id\": 15664, \"is_partial\": false, \"type\": \"input\", \"value\": \"0.13922682\", \"position\": 15}, {\"token\": \"\\n\", \"token_id\": 198, \"is_partial\": true, \"type\": \"input\", \"value\": \"0.016630428\", \"position\": 16}, {\"token\": \"3\", \"token_id\": 18, \"is_partial\": true, \"type\": \"input\", \"value\": \"0.017182412\", \"position\": 17}, {\"token\": \".\", \"token_id\": 13, \"is_partial\": true, \"type\": \"input\", \"value\": \"0.01605105\", \"position\": 18}, {\"token\": \"Bulgaria\", \"token_id\": 27902, \"is_partial\": false, \"type\": \"input\", \"value\": \"0.2752468\", \"position\": 19}, {\"token\": \"\\n\", \"token_id\": 198, \"is_partial\": true, \"type\": \"input\", \"value\": \"0.013591155\", \"position\": 20}, {\"token\": \"4\", \"token_id\": 19, \"is_partial\": true, \"type\": \"input\", \"value\": \"0.026199179\", \"position\": 21}, {\"token\": \".\", \"token_id\": 13, \"is_partial\": true, \"type\": \"input\", \"value\": \"0.026578128\", \"position\": 22}, {\"token\": \"Germany\", \"token_id\": 4486, \"is_partial\": false, \"type\": \"output\", \"value\": \"0\", \"position\": 23}, {\"token\": \"\\n\", \"token_id\": 198, \"is_partial\": true, \"type\": \"output\", \"value\": \"0\", \"position\": 24}, {\"token\": \"5\", \"token_id\": 20, \"is_partial\": true, \"type\": \"output\", \"value\": \"0\", \"position\": 25}, {\"token\": \".\", \"token_id\": 13, \"is_partial\": true, \"type\": \"output\", \"value\": \"0\", \"position\": 26}, {\"token\": \"Greece\", \"token_id\": 10315, \"is_partial\": false, \"type\": \"output\", \"value\": \"0\", \"position\": 27}, {\"token\": \"\\n\", \"token_id\": 198, \"is_partial\": true, \"type\": \"output\", \"value\": \"0\", \"position\": 28}, {\"token\": \"6\", \"token_id\": 21, \"is_partial\": true, \"type\": \"output\", \"value\": \"0\", \"position\": 29}, {\"token\": \".\", \"token_id\": 13, \"is_partial\": true, \"type\": \"output\", \"value\": \"0\", \"position\": 30}, {\"token\": \"Italy\", \"token_id\": 8031, \"is_partial\": false, \"type\": \"output\", \"value\": \"0\", \"position\": 31}, {\"token\": \"\\n\", \"token_id\": 198, \"is_partial\": true, \"type\": \"output\", \"value\": \"0\", \"position\": 32}, {\"token\": \"7\", \"token_id\": 22, \"is_partial\": true, \"type\": \"output\", \"value\": \"0\", \"position\": 33}, {\"token\": \".\", \"token_id\": 13, \"is_partial\": true, \"type\": \"output\", \"value\": \"0\", \"position\": 34}, {\"token\": \"Ireland\", \"token_id\": 7517, \"is_partial\": false, \"type\": \"output\", \"value\": \"0\", \"position\": 35}, {\"token\": \"\\n\", \"token_id\": 198, \"is_partial\": true, \"type\": \"output\", \"value\": \"0\", \"position\": 36}, {\"token\": \"8\", \"token_id\": 23, \"is_partial\": true, \"type\": \"output\", \"value\": \"0\", \"position\": 37}, {\"token\": \".\", \"token_id\": 13, \"is_partial\": true, \"type\": \"output\", \"value\": \"0\", \"position\": 38}, {\"token\": \"Luxembourg\", \"token_id\": 31864, \"is_partial\": false, \"type\": \"output\", \"value\": \"0\", \"position\": 39}, {\"token\": \"<|endoftext|>\", \"token_id\": 50256, \"is_partial\": true, \"type\": \"output\", \"value\": \"0\", \"position\": 40}], \"attributions\": [[0.04596551135182381, 0.0595681369304657, 0.012223768047988415, 0.010885890573263168, 0.06577329337596893, 0.03288481384515762, 0.015335913747549057, 0.019374022260308266, 0.022187529131770134, 0.02096463553607464, 0.017285481095314026, 0.09649622440338135, 0.017783211544156075, 0.017620638012886047, 0.01494502741843462, 0.13922682404518127, 0.016630427911877632, 0.01718241162598133, 0.016051050275564194, 0.275246798992157, 0.013591155409812927, 0.026199178770184517, 0.026578128337860107], [0.05288391932845116, 0.06106047332286835, 0.016130588948726654, 0.013260801322758198, 0.04945008456707001, 0.03357325494289398, 0.03075602650642395, 0.03744514659047127, 0.03246218338608742, 0.03735606372356415, 0.01971578225493431, 0.0961906686425209, 0.02440115250647068, 0.02288890816271305, 0.016225242987275124, 0.06052175909280777, 0.020028747618198395, 0.022701404988765717, 0.01642412506043911, 0.07491964846849442, 0.0271269790828228, 0.0418209508061409, 0.02356114611029625, 0.16909487545490265], [0.041414640843868256, 0.06051855534315109, 0.01414415705949068, 0.009865188039839268, 0.03175756335258484, 0.02485455386340618, 0.027875734493136406, 0.03167613968253136, 0.0329439640045166, 0.04562601074576378, 0.017933251336216927, 0.04565417021512985, 0.027651693671941757, 0.0431339330971241, 0.01327036414295435, 0.026889970526099205, 0.03575008735060692, 0.041427843272686005, 0.01809065230190754, 0.04124630242586136, 0.04419736564159393, 0.19209471344947815, 0.031327925622463226, 0.04756629467010498, 0.0530889667570591], [0.05484658479690552, 0.04702138528227806, 0.015085275284945965, 0.012475727126002312, 0.03336247429251671, 0.023394696414470673, 0.02364818938076496, 0.03805060684680939, 0.039490386843681335, 0.07037266343832016, 0.041920218616724014, 0.05062353238463402, 0.03008870780467987, 0.037160664796829224, 0.0384940505027771, 0.0301914494484663, 0.029235316440463066, 0.03373025730252266, 0.03637393191456795, 0.03262265399098396, 0.024320878088474274, 0.0423787422478199, 0.03831376135349274, 0.027439294382929802, 0.06440544873476028, 0.08495310693979263], [0.03978278115391731, 0.056410081684589386, 0.011085218749940395, 0.010212118737399578, 0.0794445276260376, 0.03224220126867294, 0.013778296299278736, 0.015941493213176727, 0.014107308350503445, 0.017023304477334023, 0.010299032554030418, 0.05981208756566048, 0.01153524313122034, 0.011853785254061222, 0.009975236840546131, 0.048314355313777924, 0.012282459996640682, 0.014389571733772755, 0.015730323269963264, 0.10263746231794357, 0.02222863957285881, 0.02974807843565941, 0.017633555456995964, 0.2770956754684448, 0.014063454233109951, 0.026404596865177155, 0.025969093665480614], [0.051946017891168594, 0.05351516976952553, 0.01695357635617256, 0.0126776322722435, 0.041092220693826675, 0.029500728473067284, 0.032947566360235214, 0.03690553829073906, 0.02785058133304119, 0.03006737120449543, 0.01683344691991806, 0.09738164395093918, 0.01915651373565197, 0.01970752514898777, 0.012344187125563622, 0.054895661771297455, 0.015384959056973457, 0.01554469857364893, 0.012361446395516396, 0.052457910031080246, 0.01909748651087284, 0.021569350734353065, 0.014106164686381817, 0.03249472379684448, 0.025437859818339348, 0.03309865668416023, 0.02317563258111477, 0.18149571120738983], [0.03920924291014671, 0.05591544881463051, 0.013198332861065865, 0.00926687940955162, 0.026481151580810547, 0.021398119628429413, 0.0230067390948534, 0.03336723521351814, 0.03574031591415405, 0.04373767971992493, 0.017473235726356506, 0.03863777592778206, 0.023902317509055138, 0.030716508626937866, 0.011263366788625717, 0.026495087891817093, 0.02235545590519905, 0.029234502464532852, 0.01475287415087223, 0.035710956901311874, 0.029431620612740517, 0.048743050545454025, 0.019395023584365845, 0.03043612278997898, 0.04500012844800949, 0.14976146817207336, 0.029512371867895126, 0.05683302506804466, 0.039023950695991516], [0.05297638848423958, 0.04325762018561363, 0.014149783179163933, 0.013343844562768936, 0.031471896916627884, 0.021817423403263092, 0.02395874634385109, 0.03371061384677887, 0.035335246473550797, 0.06418657302856445, 0.035696595907211304, 0.047904208302497864, 0.026310982182621956, 0.03117208741605282, 0.03522973507642746, 0.031381409615278244, 0.024080900475382805, 0.031007640063762665, 0.02838558703660965, 0.032152898609638214, 0.02075027860701084, 0.02913881093263626, 0.02982722595334053, 0.01729329489171505, 0.020654423162341118, 0.031183751299977303, 0.028735725209116936, 0.024750303477048874, 0.05810128524899483, 0.08203471451997757], [0.0323164127767086, 0.04503107815980911, 0.008658402599394321, 0.008862902410328388, 0.04748276621103287, 0.021862324327230453, 0.009141224436461926, 0.011662309989333153, 0.011139634996652603, 0.014794863760471344, 0.008045099675655365, 0.05606328696012497, 0.015084778890013695, 0.010182921774685383, 0.008694151416420937, 0.03865545615553856, 0.01759757474064827, 0.01654830388724804, 0.01704246550798416, 0.07632617652416229, 0.018357429653406143, 0.02307332493364811, 0.01721062883734703, 0.1372852921485901, 0.012812967412173748, 0.013471867889165878, 0.016151661053299904, 0.1893419772386551, 0.034498441964387894, 0.03151823952794075, 0.03108602948486805], [0.04684046655893326, 0.04825163632631302, 0.014127836562693119, 0.011406110599637032, 0.03890601173043251, 0.025991305708885193, 0.029426580294966698, 0.03374825045466423, 0.02791980467736721, 0.027096737176179886, 0.01578562706708908, 0.07826986163854599, 0.018621012568473816, 0.018452472984790802, 0.011331494897603989, 0.0559106282889843, 0.014072065241634846, 0.013245653361082077, 0.009908349253237247, 0.04830501601099968, 0.014721748419106007, 0.016440587118268013, 0.010795083828270435, 0.032127365469932556, 0.019478628411889076, 0.015687989071011543, 0.01047404296696186, 0.03948405757546425, 0.027156459167599678, 0.041546184569597244, 0.0174446739256382, 0.1670263558626175], [0.03683376684784889, 0.050571925938129425, 0.01141664944589138, 0.008291170932352543, 0.02714904211461544, 0.020457684993743896, 0.02020934969186783, 0.026291608810424805, 0.036092355847358704, 0.03245859593153, 0.014104490168392658, 0.0349368117749691, 0.024598829448223114, 0.02270098403096199, 0.009092647582292557, 0.024587344378232956, 0.020209087058901787, 0.024736978113651276, 0.011433636769652367, 0.03044155053794384, 0.02044198475778103, 0.03256005048751831, 0.020132187753915787, 0.027283258736133575, 0.02564513124525547, 0.05322292447090149, 0.016783595085144043, 0.029758071526885033, 0.037350405007600784, 0.1322590857744217, 0.025437884032726288, 0.048272646963596344, 0.04423822835087776], [0.049644093960523605, 0.039564698934555054, 0.012647641822695732, 0.012102972716093063, 0.027668936178088188, 0.019816666841506958, 0.02088327147066593, 0.030121641233563423, 0.032343581318855286, 0.0558331161737442, 0.0290882159024477, 0.04441684111952782, 0.024131521582603455, 0.027823617681860924, 0.032198432832956314, 0.03076309524476528, 0.02004966512322426, 0.02457847259938717, 0.026255829259753227, 0.031232567504048347, 0.017447687685489655, 0.021478157490491867, 0.02404910884797573, 0.01619279570877552, 0.019663896411657333, 0.01710473746061325, 0.02213222347199917, 0.01715618558228016, 0.028041917830705643, 0.03349076211452484, 0.030793072655797005, 0.0264425165951252, 0.055911894887685776, 0.07893010228872299], [0.02969571202993393, 0.03796445205807686, 0.008814348839223385, 0.008179226890206337, 0.050554919987916946, 0.023538799956440926, 0.009306400083005428, 0.012324262410402298, 0.012615791521966457, 0.013170440681278706, 0.010296422988176346, 0.0491342768073082, 0.009450693614780903, 0.010212723165750504, 0.007886464707553387, 0.031721945852041245, 0.009852373972535133, 0.011264218017458916, 0.011120871640741825, 0.04053841903805733, 0.01156371459364891, 0.014393793419003487, 0.011370041407644749, 0.07024747878313065, 0.010893603786826134, 0.013913139700889587, 0.010205424390733242, 0.09254883229732513, 0.029133137315511703, 0.022460026666522026, 0.018449291586875916, 0.21562056243419647, 0.022460179403424263, 0.0327022485435009, 0.026395747438073158], [0.04483318701386452, 0.043756499886512756, 0.013239605352282524, 0.010272851213812828, 0.035416170954704285, 0.024840548634529114, 0.026903420686721802, 0.031583745032548904, 0.026155129075050354, 0.02379652112722397, 0.013819847255945206, 0.06704884022474289, 0.01717349700629711, 0.018785346299409866, 0.009628723375499249, 0.04703669995069504, 0.013180971145629883, 0.013785417191684246, 0.009096105583012104, 0.05758107826113701, 0.012562848627567291, 0.015002855099737644, 0.009918514639139175, 0.031504448503255844, 0.015265438705682755, 0.01442293543368578, 0.009170432575047016, 0.03558079153299332, 0.017049016430974007, 0.01555358711630106, 0.009564056992530823, 0.03172920271754265, 0.02348073199391365, 0.038880351930856705, 0.01842721551656723, 0.15395335853099823], [0.03232197090983391, 0.046592749655246735, 0.010591595433652401, 0.00797042716294527, 0.022823473438620567, 0.018271667882800102, 0.018398454412817955, 0.024363968521356583, 0.031637366861104965, 0.028545349836349487, 0.01345242839306593, 0.029003942385315895, 0.019037524238228798, 0.0221504345536232, 0.008485221303999424, 0.0199227724224329, 0.014796639792621136, 0.024474166333675385, 0.008471078239381313, 0.028844915330410004, 0.015346267260611057, 0.028843576088547707, 0.009928320534527302, 0.021648170426487923, 0.021661294624209404, 0.03516954183578491, 0.014926426112651825, 0.021184293553233147, 0.02089748904109001, 0.04391764476895332, 0.016952751204371452, 0.029127532616257668, 0.03704149276018143, 0.1490890383720398, 0.01865067519247532, 0.04323387145996094, 0.04222548380494118], [0.04664558544754982, 0.03886769339442253, 0.012308365665376186, 0.01160810049623251, 0.026474881917238235, 0.019515693187713623, 0.019243480637669563, 0.02747412957251072, 0.03080744668841362, 0.05311596021056175, 0.027458002790808678, 0.038547027856111526, 0.02150815539062023, 0.023999977856874466, 0.02937101386487484, 0.02720574662089348, 0.018199874088168144, 0.021932212635874748, 0.020821891725063324, 0.028392504900693893, 0.015959816053509712, 0.018099108710885048, 0.019454021006822586, 0.016189081594347954, 0.01566503942012787, 0.015691056847572327, 0.01636580377817154, 0.01437302678823471, 0.019263828173279762, 0.020870650187134743, 0.01842539757490158, 0.017373131588101387, 0.016920238733291626, 0.03010309487581253, 0.026624536141753197, 0.028015771880745888, 0.06227091699838638, 0.0848376676440239], [0.03286366164684296, 0.03990559279918671, 0.009937652386724949, 0.008165827952325344, 0.04415843263268471, 0.020511193200945854, 0.010011122561991215, 0.016289735212922096, 0.013028645887970924, 0.016424255445599556, 0.010303067974746227, 0.05362073332071304, 0.010746056213974953, 0.013756929896771908, 0.010392867960035801, 0.041274409741163254, 0.009749889373779297, 0.013855788856744766, 0.014715163968503475, 0.0405040942132473, 0.008828391321003437, 0.009262819774448872, 0.00936826504766941, 0.0377923883497715, 0.008652557618916035, 0.007668042555451393, 0.009968450292944908, 0.03826015070080757, 0.01000611949712038, 0.017244217917323112, 0.010427137836813927, 0.10629498958587646, 0.010908734984695911, 0.017349710687994957, 0.010941233485937119, 0.16181175410747528, 0.018877219408750534, 0.046435754746198654, 0.029686927795410156], [0.05237261578440666, 0.05436016991734505, 0.015161845833063126, 0.012024803087115288, 0.03945164009928703, 0.02714419737458229, 0.024986734613776207, 0.03857950493693352, 0.025855571031570435, 0.02698911353945732, 0.01496976986527443, 0.047023698687553406, 0.01695096306502819, 0.01718934439122677, 0.01037091575562954, 0.03166726604104042, 0.011285969987511635, 0.011365551501512527, 0.008495082147419453, 0.031235411763191223, 0.008245576173067093, 0.009838924743235111, 0.006988296750932932, 0.018225904554128647, 0.008932944387197495, 0.0106428861618042, 0.006070930976420641, 0.02183917723596096, 0.009508849121630192, 0.01058908924460411, 0.005957201588898897, 0.023717820644378662, 0.01091501209884882, 0.012139220722019672, 0.009287483990192413, 0.026837289333343506, 0.023770194500684738, 0.02442903257906437, 0.02112104929983616, 0.2134629637002945]]},\n",
       "                    tokenization_config: {\"token_prefix\": \"\\u0120\", \"partial_token_prefix\": \"\"}\n",
       "             })\n",
       "\n",
       "             }, function (err) {\n",
       "                console.log(err);\n",
       "            })"
      ],
      "text/plain": [
       "<IPython.core.display.Javascript object>"
      ]
     },
     "metadata": {},
     "output_type": "display_data"
    }
   ],
   "source": [
    "output.primary_attributions(attr_method='grad_x_input', style=\"detailed\")"
   ]
  },
  {
   "cell_type": "code",
   "execution_count": null,
   "metadata": {},
   "outputs": [],
   "source": []
  }
 ],
 "metadata": {
  "colab": {
   "authorship_tag": "ABX9TyNMd2pM9pAx9vddAE9PqoYa",
   "collapsed_sections": [],
   "include_colab_link": true,
   "name": "Ecco-Input-saliency.ipynb",
   "provenance": []
  },
  "kernelspec": {
   "display_name": "Python 3 (ipykernel)",
   "language": "python",
   "name": "python3"
  },
  "language_info": {
   "codemirror_mode": {
    "name": "ipython",
    "version": 3
   },
   "file_extension": ".py",
   "mimetype": "text/x-python",
   "name": "python",
   "nbconvert_exporter": "python",
   "pygments_lexer": "ipython3",
   "version": "3.10.10"
  },
  "widgets": {
   "application/vnd.jupyter.widget-state+json": {
    "01e1163950684dc6b7fa868e7b9315a4": {
     "model_module": "@jupyter-widgets/controls",
     "model_name": "HTMLModel",
     "state": {
      "_dom_classes": [],
      "_model_module": "@jupyter-widgets/controls",
      "_model_module_version": "1.5.0",
      "_model_name": "HTMLModel",
      "_view_count": null,
      "_view_module": "@jupyter-widgets/controls",
      "_view_module_version": "1.5.0",
      "_view_name": "HTMLView",
      "description": "",
      "description_tooltip": null,
      "layout": "IPY_MODEL_14dd95b6e25b462e87175be869146d05",
      "placeholder": "​",
      "style": "IPY_MODEL_ff801625f32e452e84c2bcefccabbad3",
      "value": " 1.04M/1.04M [00:00&lt;00:00, 2.09MB/s]"
     }
    },
    "03de4b4c35ce4b3a87f0b06743707c65": {
     "model_module": "@jupyter-widgets/base",
     "model_name": "LayoutModel",
     "state": {
      "_model_module": "@jupyter-widgets/base",
      "_model_module_version": "1.2.0",
      "_model_name": "LayoutModel",
      "_view_count": null,
      "_view_module": "@jupyter-widgets/base",
      "_view_module_version": "1.2.0",
      "_view_name": "LayoutView",
      "align_content": null,
      "align_items": null,
      "align_self": null,
      "border": null,
      "bottom": null,
      "display": null,
      "flex": null,
      "flex_flow": null,
      "grid_area": null,
      "grid_auto_columns": null,
      "grid_auto_flow": null,
      "grid_auto_rows": null,
      "grid_column": null,
      "grid_gap": null,
      "grid_row": null,
      "grid_template_areas": null,
      "grid_template_columns": null,
      "grid_template_rows": null,
      "height": null,
      "justify_content": null,
      "justify_items": null,
      "left": null,
      "margin": null,
      "max_height": null,
      "max_width": null,
      "min_height": null,
      "min_width": null,
      "object_fit": null,
      "object_position": null,
      "order": null,
      "overflow": null,
      "overflow_x": null,
      "overflow_y": null,
      "padding": null,
      "right": null,
      "top": null,
      "visibility": null,
      "width": null
     }
    },
    "0e6405015df340b3bdc58694ebd4ecf4": {
     "model_module": "@jupyter-widgets/base",
     "model_name": "LayoutModel",
     "state": {
      "_model_module": "@jupyter-widgets/base",
      "_model_module_version": "1.2.0",
      "_model_name": "LayoutModel",
      "_view_count": null,
      "_view_module": "@jupyter-widgets/base",
      "_view_module_version": "1.2.0",
      "_view_name": "LayoutView",
      "align_content": null,
      "align_items": null,
      "align_self": null,
      "border": null,
      "bottom": null,
      "display": null,
      "flex": null,
      "flex_flow": null,
      "grid_area": null,
      "grid_auto_columns": null,
      "grid_auto_flow": null,
      "grid_auto_rows": null,
      "grid_column": null,
      "grid_gap": null,
      "grid_row": null,
      "grid_template_areas": null,
      "grid_template_columns": null,
      "grid_template_rows": null,
      "height": null,
      "justify_content": null,
      "justify_items": null,
      "left": null,
      "margin": null,
      "max_height": null,
      "max_width": null,
      "min_height": null,
      "min_width": null,
      "object_fit": null,
      "object_position": null,
      "order": null,
      "overflow": null,
      "overflow_x": null,
      "overflow_y": null,
      "padding": null,
      "right": null,
      "top": null,
      "visibility": null,
      "width": null
     }
    },
    "1198ffa7ad12484f9ac4048835321335": {
     "model_module": "@jupyter-widgets/controls",
     "model_name": "FloatProgressModel",
     "state": {
      "_dom_classes": [],
      "_model_module": "@jupyter-widgets/controls",
      "_model_module_version": "1.5.0",
      "_model_name": "FloatProgressModel",
      "_view_count": null,
      "_view_module": "@jupyter-widgets/controls",
      "_view_module_version": "1.5.0",
      "_view_name": "ProgressView",
      "bar_style": "success",
      "description": "Downloading: 100%",
      "description_tooltip": null,
      "layout": "IPY_MODEL_ea23401f422c4201a2ccd2a45c426d52",
      "max": 762,
      "min": 0,
      "orientation": "horizontal",
      "style": "IPY_MODEL_9254b1b515654fe9be6ffc08c2b15e4b",
      "value": 762
     }
    },
    "14dd95b6e25b462e87175be869146d05": {
     "model_module": "@jupyter-widgets/base",
     "model_name": "LayoutModel",
     "state": {
      "_model_module": "@jupyter-widgets/base",
      "_model_module_version": "1.2.0",
      "_model_name": "LayoutModel",
      "_view_count": null,
      "_view_module": "@jupyter-widgets/base",
      "_view_module_version": "1.2.0",
      "_view_name": "LayoutView",
      "align_content": null,
      "align_items": null,
      "align_self": null,
      "border": null,
      "bottom": null,
      "display": null,
      "flex": null,
      "flex_flow": null,
      "grid_area": null,
      "grid_auto_columns": null,
      "grid_auto_flow": null,
      "grid_auto_rows": null,
      "grid_column": null,
      "grid_gap": null,
      "grid_row": null,
      "grid_template_areas": null,
      "grid_template_columns": null,
      "grid_template_rows": null,
      "height": null,
      "justify_content": null,
      "justify_items": null,
      "left": null,
      "margin": null,
      "max_height": null,
      "max_width": null,
      "min_height": null,
      "min_width": null,
      "object_fit": null,
      "object_position": null,
      "order": null,
      "overflow": null,
      "overflow_x": null,
      "overflow_y": null,
      "padding": null,
      "right": null,
      "top": null,
      "visibility": null,
      "width": null
     }
    },
    "2d5ded1ce3034928b9675c598f5144e6": {
     "model_module": "@jupyter-widgets/controls",
     "model_name": "HBoxModel",
     "state": {
      "_dom_classes": [],
      "_model_module": "@jupyter-widgets/controls",
      "_model_module_version": "1.5.0",
      "_model_name": "HBoxModel",
      "_view_count": null,
      "_view_module": "@jupyter-widgets/controls",
      "_view_module_version": "1.5.0",
      "_view_name": "HBoxView",
      "box_style": "",
      "children": [
       "IPY_MODEL_31a4e3758a474c3da4a49bd5c4c396a4",
       "IPY_MODEL_deaba8a37b4a40e2a5e42c8e4044f5ef"
      ],
      "layout": "IPY_MODEL_03de4b4c35ce4b3a87f0b06743707c65"
     }
    },
    "31a4e3758a474c3da4a49bd5c4c396a4": {
     "model_module": "@jupyter-widgets/controls",
     "model_name": "FloatProgressModel",
     "state": {
      "_dom_classes": [],
      "_model_module": "@jupyter-widgets/controls",
      "_model_module_version": "1.5.0",
      "_model_name": "FloatProgressModel",
      "_view_count": null,
      "_view_module": "@jupyter-widgets/controls",
      "_view_module_version": "1.5.0",
      "_view_name": "ProgressView",
      "bar_style": "success",
      "description": "Downloading: 100%",
      "description_tooltip": null,
      "layout": "IPY_MODEL_a573b926127f471d90552617dbd355ac",
      "max": 456318,
      "min": 0,
      "orientation": "horizontal",
      "style": "IPY_MODEL_41e537de9f8c4912a59ec4dc30e405f5",
      "value": 456318
     }
    },
    "41e537de9f8c4912a59ec4dc30e405f5": {
     "model_module": "@jupyter-widgets/controls",
     "model_name": "ProgressStyleModel",
     "state": {
      "_model_module": "@jupyter-widgets/controls",
      "_model_module_version": "1.5.0",
      "_model_name": "ProgressStyleModel",
      "_view_count": null,
      "_view_module": "@jupyter-widgets/base",
      "_view_module_version": "1.2.0",
      "_view_name": "StyleView",
      "bar_color": null,
      "description_width": "initial"
     }
    },
    "59c41cdb09dc43448f8cf3b3edacc9f6": {
     "model_module": "@jupyter-widgets/controls",
     "model_name": "FloatProgressModel",
     "state": {
      "_dom_classes": [],
      "_model_module": "@jupyter-widgets/controls",
      "_model_module_version": "1.5.0",
      "_model_name": "FloatProgressModel",
      "_view_count": null,
      "_view_module": "@jupyter-widgets/controls",
      "_view_module_version": "1.5.0",
      "_view_name": "ProgressView",
      "bar_style": "success",
      "description": "Downloading: 100%",
      "description_tooltip": null,
      "layout": "IPY_MODEL_ff151fd817e84f939614c8001ea02384",
      "max": 352833716,
      "min": 0,
      "orientation": "horizontal",
      "style": "IPY_MODEL_6f42cc0bd0414b09994f8ca293b31db3",
      "value": 352833716
     }
    },
    "5a022265356840a5a3fb60ec1ab69d9f": {
     "model_module": "@jupyter-widgets/controls",
     "model_name": "FloatProgressModel",
     "state": {
      "_dom_classes": [],
      "_model_module": "@jupyter-widgets/controls",
      "_model_module_version": "1.5.0",
      "_model_name": "FloatProgressModel",
      "_view_count": null,
      "_view_module": "@jupyter-widgets/controls",
      "_view_module_version": "1.5.0",
      "_view_name": "ProgressView",
      "bar_style": "success",
      "description": "Downloading: 100%",
      "description_tooltip": null,
      "layout": "IPY_MODEL_a9682d37555846aeb124b69cf38092c3",
      "max": 1042301,
      "min": 0,
      "orientation": "horizontal",
      "style": "IPY_MODEL_6b92f7b5d29e4fa786f03c9a6267cec4",
      "value": 1042301
     }
    },
    "5e4aa51d413b4004bee30cce914d193e": {
     "model_module": "@jupyter-widgets/base",
     "model_name": "LayoutModel",
     "state": {
      "_model_module": "@jupyter-widgets/base",
      "_model_module_version": "1.2.0",
      "_model_name": "LayoutModel",
      "_view_count": null,
      "_view_module": "@jupyter-widgets/base",
      "_view_module_version": "1.2.0",
      "_view_name": "LayoutView",
      "align_content": null,
      "align_items": null,
      "align_self": null,
      "border": null,
      "bottom": null,
      "display": null,
      "flex": null,
      "flex_flow": null,
      "grid_area": null,
      "grid_auto_columns": null,
      "grid_auto_flow": null,
      "grid_auto_rows": null,
      "grid_column": null,
      "grid_gap": null,
      "grid_row": null,
      "grid_template_areas": null,
      "grid_template_columns": null,
      "grid_template_rows": null,
      "height": null,
      "justify_content": null,
      "justify_items": null,
      "left": null,
      "margin": null,
      "max_height": null,
      "max_width": null,
      "min_height": null,
      "min_width": null,
      "object_fit": null,
      "object_position": null,
      "order": null,
      "overflow": null,
      "overflow_x": null,
      "overflow_y": null,
      "padding": null,
      "right": null,
      "top": null,
      "visibility": null,
      "width": null
     }
    },
    "5fd6963056bf4687a15c941d3be3494b": {
     "model_module": "@jupyter-widgets/controls",
     "model_name": "HBoxModel",
     "state": {
      "_dom_classes": [],
      "_model_module": "@jupyter-widgets/controls",
      "_model_module_version": "1.5.0",
      "_model_name": "HBoxModel",
      "_view_count": null,
      "_view_module": "@jupyter-widgets/controls",
      "_view_module_version": "1.5.0",
      "_view_name": "HBoxView",
      "box_style": "",
      "children": [
       "IPY_MODEL_5a022265356840a5a3fb60ec1ab69d9f",
       "IPY_MODEL_01e1163950684dc6b7fa868e7b9315a4"
      ],
      "layout": "IPY_MODEL_9a961b8a92334bedaeda460e4c92befc"
     }
    },
    "66ee7dd681184981a67e2b9dd5fdd6f0": {
     "model_module": "@jupyter-widgets/controls",
     "model_name": "HBoxModel",
     "state": {
      "_dom_classes": [],
      "_model_module": "@jupyter-widgets/controls",
      "_model_module_version": "1.5.0",
      "_model_name": "HBoxModel",
      "_view_count": null,
      "_view_module": "@jupyter-widgets/controls",
      "_view_module_version": "1.5.0",
      "_view_name": "HBoxView",
      "box_style": "",
      "children": [
       "IPY_MODEL_1198ffa7ad12484f9ac4048835321335",
       "IPY_MODEL_819c4c5a5b3349bcade558a02106c0c4"
      ],
      "layout": "IPY_MODEL_0e6405015df340b3bdc58694ebd4ecf4"
     }
    },
    "6b92f7b5d29e4fa786f03c9a6267cec4": {
     "model_module": "@jupyter-widgets/controls",
     "model_name": "ProgressStyleModel",
     "state": {
      "_model_module": "@jupyter-widgets/controls",
      "_model_module_version": "1.5.0",
      "_model_name": "ProgressStyleModel",
      "_view_count": null,
      "_view_module": "@jupyter-widgets/base",
      "_view_module_version": "1.2.0",
      "_view_name": "StyleView",
      "bar_color": null,
      "description_width": "initial"
     }
    },
    "6f42cc0bd0414b09994f8ca293b31db3": {
     "model_module": "@jupyter-widgets/controls",
     "model_name": "ProgressStyleModel",
     "state": {
      "_model_module": "@jupyter-widgets/controls",
      "_model_module_version": "1.5.0",
      "_model_name": "ProgressStyleModel",
      "_view_count": null,
      "_view_module": "@jupyter-widgets/base",
      "_view_module_version": "1.2.0",
      "_view_name": "StyleView",
      "bar_color": null,
      "description_width": "initial"
     }
    },
    "7d93ca3793fb43ba824f743aa9a7c208": {
     "model_module": "@jupyter-widgets/controls",
     "model_name": "DescriptionStyleModel",
     "state": {
      "_model_module": "@jupyter-widgets/controls",
      "_model_module_version": "1.5.0",
      "_model_name": "DescriptionStyleModel",
      "_view_count": null,
      "_view_module": "@jupyter-widgets/base",
      "_view_module_version": "1.2.0",
      "_view_name": "StyleView",
      "description_width": ""
     }
    },
    "819c4c5a5b3349bcade558a02106c0c4": {
     "model_module": "@jupyter-widgets/controls",
     "model_name": "HTMLModel",
     "state": {
      "_dom_classes": [],
      "_model_module": "@jupyter-widgets/controls",
      "_model_module_version": "1.5.0",
      "_model_name": "HTMLModel",
      "_view_count": null,
      "_view_module": "@jupyter-widgets/controls",
      "_view_module_version": "1.5.0",
      "_view_name": "HTMLView",
      "description": "",
      "description_tooltip": null,
      "layout": "IPY_MODEL_5e4aa51d413b4004bee30cce914d193e",
      "placeholder": "​",
      "style": "IPY_MODEL_e0fcf661019f4e3da00175887b431ccc",
      "value": " 762/762 [00:00&lt;00:00, 17.0kB/s]"
     }
    },
    "9254b1b515654fe9be6ffc08c2b15e4b": {
     "model_module": "@jupyter-widgets/controls",
     "model_name": "ProgressStyleModel",
     "state": {
      "_model_module": "@jupyter-widgets/controls",
      "_model_module_version": "1.5.0",
      "_model_name": "ProgressStyleModel",
      "_view_count": null,
      "_view_module": "@jupyter-widgets/base",
      "_view_module_version": "1.2.0",
      "_view_name": "StyleView",
      "bar_color": null,
      "description_width": "initial"
     }
    },
    "9a961b8a92334bedaeda460e4c92befc": {
     "model_module": "@jupyter-widgets/base",
     "model_name": "LayoutModel",
     "state": {
      "_model_module": "@jupyter-widgets/base",
      "_model_module_version": "1.2.0",
      "_model_name": "LayoutModel",
      "_view_count": null,
      "_view_module": "@jupyter-widgets/base",
      "_view_module_version": "1.2.0",
      "_view_name": "LayoutView",
      "align_content": null,
      "align_items": null,
      "align_self": null,
      "border": null,
      "bottom": null,
      "display": null,
      "flex": null,
      "flex_flow": null,
      "grid_area": null,
      "grid_auto_columns": null,
      "grid_auto_flow": null,
      "grid_auto_rows": null,
      "grid_column": null,
      "grid_gap": null,
      "grid_row": null,
      "grid_template_areas": null,
      "grid_template_columns": null,
      "grid_template_rows": null,
      "height": null,
      "justify_content": null,
      "justify_items": null,
      "left": null,
      "margin": null,
      "max_height": null,
      "max_width": null,
      "min_height": null,
      "min_width": null,
      "object_fit": null,
      "object_position": null,
      "order": null,
      "overflow": null,
      "overflow_x": null,
      "overflow_y": null,
      "padding": null,
      "right": null,
      "top": null,
      "visibility": null,
      "width": null
     }
    },
    "a33793da690a401f84cfc27fe66b58d3": {
     "model_module": "@jupyter-widgets/controls",
     "model_name": "HTMLModel",
     "state": {
      "_dom_classes": [],
      "_model_module": "@jupyter-widgets/controls",
      "_model_module_version": "1.5.0",
      "_model_name": "HTMLModel",
      "_view_count": null,
      "_view_module": "@jupyter-widgets/controls",
      "_view_module_version": "1.5.0",
      "_view_name": "HTMLView",
      "description": "",
      "description_tooltip": null,
      "layout": "IPY_MODEL_cdc358ab0d7b4cb3b911102f5b5ea48f",
      "placeholder": "​",
      "style": "IPY_MODEL_bc6eb47a66bc4fbe88efa7878e1fd02e",
      "value": " 353M/353M [00:06&lt;00:00, 53.4MB/s]"
     }
    },
    "a573b926127f471d90552617dbd355ac": {
     "model_module": "@jupyter-widgets/base",
     "model_name": "LayoutModel",
     "state": {
      "_model_module": "@jupyter-widgets/base",
      "_model_module_version": "1.2.0",
      "_model_name": "LayoutModel",
      "_view_count": null,
      "_view_module": "@jupyter-widgets/base",
      "_view_module_version": "1.2.0",
      "_view_name": "LayoutView",
      "align_content": null,
      "align_items": null,
      "align_self": null,
      "border": null,
      "bottom": null,
      "display": null,
      "flex": null,
      "flex_flow": null,
      "grid_area": null,
      "grid_auto_columns": null,
      "grid_auto_flow": null,
      "grid_auto_rows": null,
      "grid_column": null,
      "grid_gap": null,
      "grid_row": null,
      "grid_template_areas": null,
      "grid_template_columns": null,
      "grid_template_rows": null,
      "height": null,
      "justify_content": null,
      "justify_items": null,
      "left": null,
      "margin": null,
      "max_height": null,
      "max_width": null,
      "min_height": null,
      "min_width": null,
      "object_fit": null,
      "object_position": null,
      "order": null,
      "overflow": null,
      "overflow_x": null,
      "overflow_y": null,
      "padding": null,
      "right": null,
      "top": null,
      "visibility": null,
      "width": null
     }
    },
    "a7f991e0d30b4a2bbdf4efe3085b60ec": {
     "model_module": "@jupyter-widgets/base",
     "model_name": "LayoutModel",
     "state": {
      "_model_module": "@jupyter-widgets/base",
      "_model_module_version": "1.2.0",
      "_model_name": "LayoutModel",
      "_view_count": null,
      "_view_module": "@jupyter-widgets/base",
      "_view_module_version": "1.2.0",
      "_view_name": "LayoutView",
      "align_content": null,
      "align_items": null,
      "align_self": null,
      "border": null,
      "bottom": null,
      "display": null,
      "flex": null,
      "flex_flow": null,
      "grid_area": null,
      "grid_auto_columns": null,
      "grid_auto_flow": null,
      "grid_auto_rows": null,
      "grid_column": null,
      "grid_gap": null,
      "grid_row": null,
      "grid_template_areas": null,
      "grid_template_columns": null,
      "grid_template_rows": null,
      "height": null,
      "justify_content": null,
      "justify_items": null,
      "left": null,
      "margin": null,
      "max_height": null,
      "max_width": null,
      "min_height": null,
      "min_width": null,
      "object_fit": null,
      "object_position": null,
      "order": null,
      "overflow": null,
      "overflow_x": null,
      "overflow_y": null,
      "padding": null,
      "right": null,
      "top": null,
      "visibility": null,
      "width": null
     }
    },
    "a9682d37555846aeb124b69cf38092c3": {
     "model_module": "@jupyter-widgets/base",
     "model_name": "LayoutModel",
     "state": {
      "_model_module": "@jupyter-widgets/base",
      "_model_module_version": "1.2.0",
      "_model_name": "LayoutModel",
      "_view_count": null,
      "_view_module": "@jupyter-widgets/base",
      "_view_module_version": "1.2.0",
      "_view_name": "LayoutView",
      "align_content": null,
      "align_items": null,
      "align_self": null,
      "border": null,
      "bottom": null,
      "display": null,
      "flex": null,
      "flex_flow": null,
      "grid_area": null,
      "grid_auto_columns": null,
      "grid_auto_flow": null,
      "grid_auto_rows": null,
      "grid_column": null,
      "grid_gap": null,
      "grid_row": null,
      "grid_template_areas": null,
      "grid_template_columns": null,
      "grid_template_rows": null,
      "height": null,
      "justify_content": null,
      "justify_items": null,
      "left": null,
      "margin": null,
      "max_height": null,
      "max_width": null,
      "min_height": null,
      "min_width": null,
      "object_fit": null,
      "object_position": null,
      "order": null,
      "overflow": null,
      "overflow_x": null,
      "overflow_y": null,
      "padding": null,
      "right": null,
      "top": null,
      "visibility": null,
      "width": null
     }
    },
    "b54a170e8e20428dbd08dcbececa6174": {
     "model_module": "@jupyter-widgets/controls",
     "model_name": "HBoxModel",
     "state": {
      "_dom_classes": [],
      "_model_module": "@jupyter-widgets/controls",
      "_model_module_version": "1.5.0",
      "_model_name": "HBoxModel",
      "_view_count": null,
      "_view_module": "@jupyter-widgets/controls",
      "_view_module_version": "1.5.0",
      "_view_name": "HBoxView",
      "box_style": "",
      "children": [
       "IPY_MODEL_59c41cdb09dc43448f8cf3b3edacc9f6",
       "IPY_MODEL_a33793da690a401f84cfc27fe66b58d3"
      ],
      "layout": "IPY_MODEL_a7f991e0d30b4a2bbdf4efe3085b60ec"
     }
    },
    "bc6eb47a66bc4fbe88efa7878e1fd02e": {
     "model_module": "@jupyter-widgets/controls",
     "model_name": "DescriptionStyleModel",
     "state": {
      "_model_module": "@jupyter-widgets/controls",
      "_model_module_version": "1.5.0",
      "_model_name": "DescriptionStyleModel",
      "_view_count": null,
      "_view_module": "@jupyter-widgets/base",
      "_view_module_version": "1.2.0",
      "_view_name": "StyleView",
      "description_width": ""
     }
    },
    "cdc358ab0d7b4cb3b911102f5b5ea48f": {
     "model_module": "@jupyter-widgets/base",
     "model_name": "LayoutModel",
     "state": {
      "_model_module": "@jupyter-widgets/base",
      "_model_module_version": "1.2.0",
      "_model_name": "LayoutModel",
      "_view_count": null,
      "_view_module": "@jupyter-widgets/base",
      "_view_module_version": "1.2.0",
      "_view_name": "LayoutView",
      "align_content": null,
      "align_items": null,
      "align_self": null,
      "border": null,
      "bottom": null,
      "display": null,
      "flex": null,
      "flex_flow": null,
      "grid_area": null,
      "grid_auto_columns": null,
      "grid_auto_flow": null,
      "grid_auto_rows": null,
      "grid_column": null,
      "grid_gap": null,
      "grid_row": null,
      "grid_template_areas": null,
      "grid_template_columns": null,
      "grid_template_rows": null,
      "height": null,
      "justify_content": null,
      "justify_items": null,
      "left": null,
      "margin": null,
      "max_height": null,
      "max_width": null,
      "min_height": null,
      "min_width": null,
      "object_fit": null,
      "object_position": null,
      "order": null,
      "overflow": null,
      "overflow_x": null,
      "overflow_y": null,
      "padding": null,
      "right": null,
      "top": null,
      "visibility": null,
      "width": null
     }
    },
    "dde55076d6544256b821e4364e787a7f": {
     "model_module": "@jupyter-widgets/base",
     "model_name": "LayoutModel",
     "state": {
      "_model_module": "@jupyter-widgets/base",
      "_model_module_version": "1.2.0",
      "_model_name": "LayoutModel",
      "_view_count": null,
      "_view_module": "@jupyter-widgets/base",
      "_view_module_version": "1.2.0",
      "_view_name": "LayoutView",
      "align_content": null,
      "align_items": null,
      "align_self": null,
      "border": null,
      "bottom": null,
      "display": null,
      "flex": null,
      "flex_flow": null,
      "grid_area": null,
      "grid_auto_columns": null,
      "grid_auto_flow": null,
      "grid_auto_rows": null,
      "grid_column": null,
      "grid_gap": null,
      "grid_row": null,
      "grid_template_areas": null,
      "grid_template_columns": null,
      "grid_template_rows": null,
      "height": null,
      "justify_content": null,
      "justify_items": null,
      "left": null,
      "margin": null,
      "max_height": null,
      "max_width": null,
      "min_height": null,
      "min_width": null,
      "object_fit": null,
      "object_position": null,
      "order": null,
      "overflow": null,
      "overflow_x": null,
      "overflow_y": null,
      "padding": null,
      "right": null,
      "top": null,
      "visibility": null,
      "width": null
     }
    },
    "deaba8a37b4a40e2a5e42c8e4044f5ef": {
     "model_module": "@jupyter-widgets/controls",
     "model_name": "HTMLModel",
     "state": {
      "_dom_classes": [],
      "_model_module": "@jupyter-widgets/controls",
      "_model_module_version": "1.5.0",
      "_model_name": "HTMLModel",
      "_view_count": null,
      "_view_module": "@jupyter-widgets/controls",
      "_view_module_version": "1.5.0",
      "_view_name": "HTMLView",
      "description": "",
      "description_tooltip": null,
      "layout": "IPY_MODEL_dde55076d6544256b821e4364e787a7f",
      "placeholder": "​",
      "style": "IPY_MODEL_7d93ca3793fb43ba824f743aa9a7c208",
      "value": " 456k/456k [00:00&lt;00:00, 2.34MB/s]"
     }
    },
    "e0fcf661019f4e3da00175887b431ccc": {
     "model_module": "@jupyter-widgets/controls",
     "model_name": "DescriptionStyleModel",
     "state": {
      "_model_module": "@jupyter-widgets/controls",
      "_model_module_version": "1.5.0",
      "_model_name": "DescriptionStyleModel",
      "_view_count": null,
      "_view_module": "@jupyter-widgets/base",
      "_view_module_version": "1.2.0",
      "_view_name": "StyleView",
      "description_width": ""
     }
    },
    "ea23401f422c4201a2ccd2a45c426d52": {
     "model_module": "@jupyter-widgets/base",
     "model_name": "LayoutModel",
     "state": {
      "_model_module": "@jupyter-widgets/base",
      "_model_module_version": "1.2.0",
      "_model_name": "LayoutModel",
      "_view_count": null,
      "_view_module": "@jupyter-widgets/base",
      "_view_module_version": "1.2.0",
      "_view_name": "LayoutView",
      "align_content": null,
      "align_items": null,
      "align_self": null,
      "border": null,
      "bottom": null,
      "display": null,
      "flex": null,
      "flex_flow": null,
      "grid_area": null,
      "grid_auto_columns": null,
      "grid_auto_flow": null,
      "grid_auto_rows": null,
      "grid_column": null,
      "grid_gap": null,
      "grid_row": null,
      "grid_template_areas": null,
      "grid_template_columns": null,
      "grid_template_rows": null,
      "height": null,
      "justify_content": null,
      "justify_items": null,
      "left": null,
      "margin": null,
      "max_height": null,
      "max_width": null,
      "min_height": null,
      "min_width": null,
      "object_fit": null,
      "object_position": null,
      "order": null,
      "overflow": null,
      "overflow_x": null,
      "overflow_y": null,
      "padding": null,
      "right": null,
      "top": null,
      "visibility": null,
      "width": null
     }
    },
    "ff151fd817e84f939614c8001ea02384": {
     "model_module": "@jupyter-widgets/base",
     "model_name": "LayoutModel",
     "state": {
      "_model_module": "@jupyter-widgets/base",
      "_model_module_version": "1.2.0",
      "_model_name": "LayoutModel",
      "_view_count": null,
      "_view_module": "@jupyter-widgets/base",
      "_view_module_version": "1.2.0",
      "_view_name": "LayoutView",
      "align_content": null,
      "align_items": null,
      "align_self": null,
      "border": null,
      "bottom": null,
      "display": null,
      "flex": null,
      "flex_flow": null,
      "grid_area": null,
      "grid_auto_columns": null,
      "grid_auto_flow": null,
      "grid_auto_rows": null,
      "grid_column": null,
      "grid_gap": null,
      "grid_row": null,
      "grid_template_areas": null,
      "grid_template_columns": null,
      "grid_template_rows": null,
      "height": null,
      "justify_content": null,
      "justify_items": null,
      "left": null,
      "margin": null,
      "max_height": null,
      "max_width": null,
      "min_height": null,
      "min_width": null,
      "object_fit": null,
      "object_position": null,
      "order": null,
      "overflow": null,
      "overflow_x": null,
      "overflow_y": null,
      "padding": null,
      "right": null,
      "top": null,
      "visibility": null,
      "width": null
     }
    },
    "ff801625f32e452e84c2bcefccabbad3": {
     "model_module": "@jupyter-widgets/controls",
     "model_name": "DescriptionStyleModel",
     "state": {
      "_model_module": "@jupyter-widgets/controls",
      "_model_module_version": "1.5.0",
      "_model_name": "DescriptionStyleModel",
      "_view_count": null,
      "_view_module": "@jupyter-widgets/base",
      "_view_module_version": "1.2.0",
      "_view_name": "StyleView",
      "description_width": ""
     }
    }
   }
  }
 },
 "nbformat": 4,
 "nbformat_minor": 1
}
