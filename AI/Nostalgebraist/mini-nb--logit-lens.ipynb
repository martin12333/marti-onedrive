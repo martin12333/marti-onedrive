{
 "cells": [
  {
   "cell_type": "markdown",
   "id": "f01b0785-7c27-436a-ae6d-fd63980f2a19",
   "metadata": {},
   "source": [
    "### the logit lens on gpt2 activations\n",
    "https://www.lesswrong.com/posts/AcKRB8wDpdaN6v6ru/interpreting-gpt-the-logit-lens "
   ]
  },
  {
   "cell_type": "code",
   "execution_count": null,
   "id": "fcc1e06b-88e3-4b5a-a2ab-31c7c16489d6",
   "metadata": {},
   "outputs": [],
   "source": [
    "# mini nb  #mm"
   ]
  },
  {
   "cell_type": "code",
   "execution_count": null,
   "id": "bcf76ee2-8b40-46df-959e-e02ede94f78f",
   "metadata": {},
   "outputs": [],
   "source": []
  },
  {
   "cell_type": "code",
   "execution_count": null,
   "id": "3d057748-25da-4635-aee7-b768f1042379",
   "metadata": {},
   "outputs": [],
   "source": []
  },
  {
   "cell_type": "code",
   "execution_count": null,
   "id": "61b34584-f6de-4ce7-9acf-3575e0742904",
   "metadata": {},
   "outputs": [],
   "source": []
  },
  {
   "cell_type": "code",
   "execution_count": null,
   "id": "6a0926eb-9330-4447-9164-41d292f548a4",
   "metadata": {},
   "outputs": [],
   "source": []
  }
 ],
 "metadata": {
  "kernelspec": {
   "display_name": "Python 3 (ipykernel)",
   "language": "python",
   "name": "python3"
  },
  "language_info": {
   "codemirror_mode": {
    "name": "ipython",
    "version": 3
   },
   "file_extension": ".py",
   "mimetype": "text/x-python",
   "name": "python",
   "nbconvert_exporter": "python",
   "pygments_lexer": "ipython3",
   "version": "3.10.10"
  }
 },
 "nbformat": 4,
 "nbformat_minor": 5
}
