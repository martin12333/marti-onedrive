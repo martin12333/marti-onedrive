{
 "cells": [
  {
   "cell_type": "code",
   "execution_count": null,
   "id": "233793d5-d07e-4301-b43f-dac448acebc3",
   "metadata": {},
   "outputs": [],
   "source": []
  },
  {
   "cell_type": "code",
   "execution_count": null,
   "id": "d9563d48-5ab1-42f6-b799-0daa9d888943",
   "metadata": {},
   "outputs": [],
   "source": []
  },
  {
   "cell_type": "code",
   "execution_count": 1,
   "id": "0e3f7a39-16b3-4193-baa8-0cff09e6daa4",
   "metadata": {},
   "outputs": [],
   "source": [
    "from transformers import AutoTokenizer, AutoModelForCausalLM\n",
    "\n",
    "tokenizer = AutoTokenizer.from_pretrained(\"gpt2\")\n",
    "\n",
    "model = AutoModelForCausalLM.from_pretrained(\"gpt2\")"
   ]
  },
  {
   "cell_type": "code",
   "execution_count": null,
   "id": "c53481bc-497f-4869-943c-d0a7344e35d5",
   "metadata": {},
   "outputs": [],
   "source": []
  },
  {
   "cell_type": "code",
   "execution_count": 3,
   "id": "53399943-0515-4ec5-aac0-f864cc2cd4b2",
   "metadata": {},
   "outputs": [
    {
     "data": {
      "text/plain": [
       "[('ĠHello', (0, 6)),\n",
       " (',', (6, 7)),\n",
       " ('Ġhow', (7, 11)),\n",
       " ('Ġare', (11, 15)),\n",
       " ('Ġ', (15, 16)),\n",
       " ('Ġyou', (16, 20)),\n",
       " ('?', (20, 21))]"
      ]
     },
     "execution_count": 3,
     "metadata": {},
     "output_type": "execute_result"
    }
   ],
   "source": [
    "tokenizer.backend_tokenizer.pre_tokenizer.pre_tokenize_str(\" Hello, how are  you?\")\n"
   ]
  },
  {
   "cell_type": "code",
   "execution_count": null,
   "id": "e0bf0c47-0709-4d03-a615-362ee1a58a47",
   "metadata": {},
   "outputs": [],
   "source": []
  }
 ],
 "metadata": {
  "kernelspec": {
   "display_name": "Python 3 (ipykernel)",
   "language": "python",
   "name": "python3"
  },
  "language_info": {
   "codemirror_mode": {
    "name": "ipython",
    "version": 3
   },
   "file_extension": ".py",
   "mimetype": "text/x-python",
   "name": "python",
   "nbconvert_exporter": "python",
   "pygments_lexer": "ipython3",
   "version": "3.10.10"
  }
 },
 "nbformat": 4,
 "nbformat_minor": 5
}
