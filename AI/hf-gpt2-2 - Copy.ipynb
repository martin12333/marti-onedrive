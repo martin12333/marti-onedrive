{
 "cells": [
  {
   "cell_type": "code",
   "execution_count": 19,
   "id": "colored-astronomy",
   "metadata": {},
   "outputs": [],
   "source": [
    "model_name = \"microsoft/CodeGPT-small-py-adaptedGPT2\"\n",
    "model_name = \"microsoft/CodeGPT-small-py\"\n",
    "model_name=\"jaron-maene/gpt2-medium-nl2bash\"\n",
    "model_name=\"facebook/bart-large-mnli\"\n",
    "model_name=\"bert-base-uncased\"\n",
    "\n",
    "model_name = \"distilgpt2\"\n",
    "model_name = \"gpt2\"\n",
    "model_name = \"gpt2-large\"\n"
   ]
  },
  {
   "cell_type": "code",
   "execution_count": null,
   "id": "simplified-india",
   "metadata": {},
   "outputs": [],
   "source": []
  },
  {
   "cell_type": "code",
   "execution_count": 20,
   "id": "annoying-weapon",
   "metadata": {},
   "outputs": [
    {
     "data": {
      "application/vnd.jupyter.widget-view+json": {
       "model_id": "edac076825034220b1cd851997c40a8e",
       "version_major": 2,
       "version_minor": 0
      },
      "text/plain": [
       "Downloading:   0%|          | 0.00/764 [00:00<?, ?B/s]"
      ]
     },
     "metadata": {},
     "output_type": "display_data"
    },
    {
     "data": {
      "application/vnd.jupyter.widget-view+json": {
       "model_id": "52d4e5e1dd1a49119beef61b6c4e1a1d",
       "version_major": 2,
       "version_minor": 0
      },
      "text/plain": [
       "Downloading:   0%|          | 0.00/3.25G [00:00<?, ?B/s]"
      ]
     },
     "metadata": {},
     "output_type": "display_data"
    },
    {
     "name": "stderr",
     "output_type": "stream",
     "text": [
      "Some weights of GPT2Model were not initialized from the model checkpoint at gpt2-large and are newly initialized: ['h.0.attn.masked_bias', 'h.1.attn.masked_bias', 'h.2.attn.masked_bias', 'h.3.attn.masked_bias', 'h.4.attn.masked_bias', 'h.5.attn.masked_bias', 'h.6.attn.masked_bias', 'h.7.attn.masked_bias', 'h.8.attn.masked_bias', 'h.9.attn.masked_bias', 'h.10.attn.masked_bias', 'h.11.attn.masked_bias', 'h.12.attn.masked_bias', 'h.13.attn.masked_bias', 'h.14.attn.masked_bias', 'h.15.attn.masked_bias', 'h.16.attn.masked_bias', 'h.17.attn.masked_bias', 'h.18.attn.masked_bias', 'h.19.attn.masked_bias', 'h.20.attn.masked_bias', 'h.21.attn.masked_bias', 'h.22.attn.masked_bias', 'h.23.attn.masked_bias', 'h.24.attn.masked_bias', 'h.25.attn.masked_bias', 'h.26.attn.masked_bias', 'h.27.attn.masked_bias', 'h.28.attn.masked_bias', 'h.29.attn.masked_bias', 'h.30.attn.masked_bias', 'h.31.attn.masked_bias', 'h.32.attn.masked_bias', 'h.33.attn.masked_bias', 'h.34.attn.masked_bias', 'h.35.attn.masked_bias']\n",
      "You should probably TRAIN this model on a down-stream task to be able to use it for predictions and inference.\n"
     ]
    },
    {
     "data": {
      "application/vnd.jupyter.widget-view+json": {
       "model_id": "c214b2ffa4614d0b8d7f5f6b2bd3ef4a",
       "version_major": 2,
       "version_minor": 0
      },
      "text/plain": [
       "Downloading:   0%|          | 0.00/1.04M [00:00<?, ?B/s]"
      ]
     },
     "metadata": {},
     "output_type": "display_data"
    },
    {
     "data": {
      "application/vnd.jupyter.widget-view+json": {
       "model_id": "23bc8009b1e64209b602213a85638ef3",
       "version_major": 2,
       "version_minor": 0
      },
      "text/plain": [
       "Downloading:   0%|          | 0.00/456k [00:00<?, ?B/s]"
      ]
     },
     "metadata": {},
     "output_type": "display_data"
    },
    {
     "data": {
      "application/vnd.jupyter.widget-view+json": {
       "model_id": "4fa356ea840545dc8080730f7be6dfd7",
       "version_major": 2,
       "version_minor": 0
      },
      "text/plain": [
       "Downloading:   0%|          | 0.00/1.36M [00:00<?, ?B/s]"
      ]
     },
     "metadata": {},
     "output_type": "display_data"
    }
   ],
   "source": [
    "from transformers import pipeline, set_seed\n",
    ">>> generator = pipeline('text-generation', model=model_name)\n",
    ">>> set_seed(142)\n",
    "#>>> generator(\"Hello, I'm a language model,\", max_length=30, num_return_sequences=5)\n",
    "\n"
   ]
  },
  {
   "cell_type": "code",
   "execution_count": 21,
   "id": "vanilla-track",
   "metadata": {},
   "outputs": [
    {
     "name": "stderr",
     "output_type": "stream",
     "text": [
      "Setting `pad_token_id` to `eos_token_id`:50256 for open-end generation.\n"
     ]
    },
    {
     "data": {
      "text/plain": [
       "[{'generated_text': 'Anaconda is a Python distribution, and you need Python installed on your PC.\\n\\nYou will most definitely need to install the following packages.'},\n",
       " {'generated_text': 'Anaconda is a Python distribution, and not an actual OS. In a nutshell, it is an open source, cross platform development environment that aims'},\n",
       " {'generated_text': 'Anaconda is a Python distribution, with a nice development environment, great documentation and tons of useful command line tools. The documentation also has a tutorial'},\n",
       " {'generated_text': 'Anaconda is a Python distribution, and can be built in two different ways. Firstly, one may build from a CMD binary by following the'},\n",
       " {'generated_text': 'Anaconda is a Python distribution, so you can install it from PyPI.\\n\\nA second, more modern way of getting the python distribution'}]"
      ]
     },
     "execution_count": 21,
     "metadata": {},
     "output_type": "execute_result"
    }
   ],
   "source": [
    "generator(\"Anaconda is a Python distribution,\", max_length=30, num_return_sequences=5)"
   ]
  },
  {
   "cell_type": "code",
   "execution_count": 13,
   "id": "talented-rouge",
   "metadata": {},
   "outputs": [],
   "source": [
    ">>> set_seed(14243)"
   ]
  },
  {
   "cell_type": "code",
   "execution_count": 14,
   "id": "fantastic-entertainment",
   "metadata": {},
   "outputs": [
    {
     "name": "stderr",
     "output_type": "stream",
     "text": [
      "Setting `pad_token_id` to `eos_token_id`:50256 for open-end generation.\n"
     ]
    },
    {
     "data": {
      "text/plain": [
       "[{'generated_text': \" Anaconda is a Python distribution, not a GUI. But, that's not a bad idea to adopt this philosophy. Here should be all the\"},\n",
       " {'generated_text': ' Anaconda is a Python distribution, with about 100 modules. It consists of modules that use the standard data structures of Django. It also provides a'},\n",
       " {'generated_text': ' Anaconda is a Python distribution, and this software does not require any installation. If you wish to run this command, the following instructions will work'},\n",
       " {'generated_text': ' Anaconda is a Python distribution, it uses Python 3.7.4.\\n\\nPyMiner:\\n\\nGems are a dependency'},\n",
       " {'generated_text': \" Anaconda is a Python distribution, which would explain why the project is so popular with some users, who might not know Python and haven't heard\"}]"
      ]
     },
     "execution_count": 14,
     "metadata": {},
     "output_type": "execute_result"
    }
   ],
   "source": [
    "generator(\" Anaconda is a Python distribution,\", max_length=30, num_return_sequences=5)"
   ]
  },
  {
   "cell_type": "code",
   "execution_count": 15,
   "id": "better-simon",
   "metadata": {},
   "outputs": [
    {
     "name": "stderr",
     "output_type": "stream",
     "text": [
      "Setting `pad_token_id` to `eos_token_id`:50256 for open-end generation.\n"
     ]
    },
    {
     "data": {
      "text/plain": [
       "[{'generated_text': ' Anaconda ... a Python distribution\\n\\n\\nJulie A. Bostwick, Ph.D.\\n\\nJohn C. Macon ... software'},\n",
       " {'generated_text': \" Anaconda ... a Python distribution\\n\\n\\nContributors\\n\\nThis project's contributors are:\\n\\nAndrew P. Davis (a Python web site\"},\n",
       " {'generated_text': ' Anaconda ... a Python distribution\\n\\n\\nPapa.cz ... principal architect\\n\\n\\nPaddy.cz ... visual and data security\\n\\n\\nRyan'},\n",
       " {'generated_text': ' Anaconda ... a Python distribution\\n\\n\\nhttps://github.com/shishida/pango\\n\\nhttps://github.com/sh'},\n",
       " {'generated_text': ' Anaconda ... a Python distribution\\n\\n\\nRafael Gonzalez, David A. Pannell, David I. Kuehlen, R'}]"
      ]
     },
     "execution_count": 15,
     "metadata": {},
     "output_type": "execute_result"
    }
   ],
   "source": [
    "generator(\" Anaconda ... a Python distribution\\n\\n\\n\", max_length=30, num_return_sequences=5)"
   ]
  },
  {
   "cell_type": "code",
   "execution_count": 16,
   "id": "generous-former",
   "metadata": {},
   "outputs": [
    {
     "name": "stderr",
     "output_type": "stream",
     "text": [
      "Setting `pad_token_id` to `eos_token_id`:50256 for open-end generation.\n"
     ]
    },
    {
     "data": {
      "text/plain": [
       "[{'generated_text': ' Anaconda is a Python iced tea that tastes like a real tea. In this case, the main ingredient should be coconut milk; which is'},\n",
       " {'generated_text': ' Anaconda is a Python ive built toolkit for implementing the basic framework for Python programming language. From the beginning, Cython and Pygame'},\n",
       " {'generated_text': ' Anaconda is a Python \\xa0(or OCaml\\xa0 Python ) . But, I believe there is a different way you can use it'},\n",
       " {'generated_text': ' Anaconda is a Python xtra-node, a built-in node.\\n\\nA module called os that allows you to inspect the'},\n",
       " {'generated_text': ' Anaconda is a Python urs-platform application.\\n\\nInstallation\\n\\npython manage.py install\\n\\nIn order to create a Python'}]"
      ]
     },
     "execution_count": 16,
     "metadata": {},
     "output_type": "execute_result"
    }
   ],
   "source": [
    "generator(\" Anaconda is a Python \", max_length=30, num_return_sequences=5)"
   ]
  },
  {
   "cell_type": "code",
   "execution_count": 17,
   "id": "united-nerve",
   "metadata": {},
   "outputs": [
    {
     "name": "stderr",
     "output_type": "stream",
     "text": [
      "Setting `pad_token_id` to `eos_token_id`:50256 for open-end generation.\n"
     ]
    },
    {
     "data": {
      "text/plain": [
       "[{'generated_text': \" Anaconda is a snake \\xa0for which we can find many\\xa0scientific studies\\xa0from time to time, but it's pretty clear that the\"},\n",
       " {'generated_text': ' Anaconda is a snake \\xa0(a snake \\xa0is a snake \\xa0is a snake \\xa0will \\xa0be found somewhere '},\n",
       " {'generated_text': \" Anaconda is a snake \\xa0that grows and dies on the forest floor along with the others, so you can't really blame them for losing\"},\n",
       " {'generated_text': ' Anaconda is a snake \\xa0that can be taken out by means of water, and sometimes by moving from its nest to its lair... but'},\n",
       " {'generated_text': ' Anaconda is a snake iba. It has a unique look and smell. She was the first to see that the snake had a venomous'}]"
      ]
     },
     "execution_count": 17,
     "metadata": {},
     "output_type": "execute_result"
    }
   ],
   "source": [
    "generator(\" Anaconda is a snake \", max_length=30, num_return_sequences=5)"
   ]
  },
  {
   "cell_type": "code",
   "execution_count": 18,
   "id": "faced-equality",
   "metadata": {},
   "outputs": [
    {
     "name": "stderr",
     "output_type": "stream",
     "text": [
      "Setting `pad_token_id` to `eos_token_id`:50256 for open-end generation.\n"
     ]
    },
    {
     "data": {
      "text/plain": [
       "[{'generated_text': ' Anaconda is a vernacular word for the tree of life. In English, it refers to grasses. See also the section on the'},\n",
       " {'generated_text': ' Anaconda is a vernacular noun for a group of people. They are known as \"The People\". These people may appear to be of'},\n",
       " {'generated_text': ' Anaconda is a iced coffee with fresh lime and mint infused to create the sweet and medicinal feel.\\n\\nLime infused to taste with'},\n",
       " {'generated_text': \" Anaconda is a vernacular term for an artificial or synthetic penis. It's a non-specific word that means a large penis with about\"},\n",
       " {'generated_text': ' Anaconda is a ichthyosis disease that appears when the lining of your blood vessels is thickened or damaged. It results from an attack'}]"
      ]
     },
     "execution_count": 18,
     "metadata": {},
     "output_type": "execute_result"
    }
   ],
   "source": [
    "generator(\" Anaconda is a \", max_length=30, num_return_sequences=5)"
   ]
  },
  {
   "cell_type": "code",
   "execution_count": null,
   "id": "musical-shark",
   "metadata": {},
   "outputs": [],
   "source": []
  },
  {
   "cell_type": "code",
   "execution_count": null,
   "id": "coupled-aside",
   "metadata": {},
   "outputs": [],
   "source": []
  },
  {
   "cell_type": "code",
   "execution_count": null,
   "id": "marked-peoples",
   "metadata": {},
   "outputs": [],
   "source": []
  }
 ],
 "metadata": {
  "kernelspec": {
   "display_name": "Python 3",
   "language": "python",
   "name": "python3"
  },
  "language_info": {
   "codemirror_mode": {
    "name": "ipython",
    "version": 3
   },
   "file_extension": ".py",
   "mimetype": "text/x-python",
   "name": "python",
   "nbconvert_exporter": "python",
   "pygments_lexer": "ipython3",
   "version": "3.8.5"
  }
 },
 "nbformat": 4,
 "nbformat_minor": 5
}
