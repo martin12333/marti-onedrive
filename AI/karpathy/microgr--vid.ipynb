{
 "cells": [
  {
   "cell_type": "code",
   "execution_count": null,
   "id": "ebd4a9dc-21bd-438e-bd5e-159bad0fe26c",
   "metadata": {},
   "outputs": [],
   "source": []
  },
  {
   "cell_type": "code",
   "execution_count": null,
   "id": "a1577cd1-2aca-41c7-9f17-38eb2bcc70e5",
   "metadata": {},
   "outputs": [],
   "source": [
    "pip install micrograd"
   ]
  },
  {
   "cell_type": "code",
   "execution_count": null,
   "id": "1caa5607-a22b-4c8c-9c36-c7526d5fe70b",
   "metadata": {},
   "outputs": [],
   "source": []
  },
  {
   "cell_type": "code",
   "execution_count": 2,
   "id": "69501f36-fcbb-4ce4-b282-67dbc2a1db1e",
   "metadata": {},
   "outputs": [
    {
     "name": "stdout",
     "output_type": "stream",
     "text": [
      "Collecting microgradNote: you may need to restart the kernel to use updated packages.\n",
      "\n",
      "  Downloading micrograd-0.1.0-py3-none-any.whl (4.9 kB)\n",
      "Installing collected packages: micrograd\n",
      "Successfully installed micrograd-0.1.0\n"
     ]
    }
   ],
   "source": [
    "%pip install micrograd"
   ]
  },
  {
   "cell_type": "code",
   "execution_count": null,
   "id": "35d19ac8-39f4-415f-8a75-30039e51f2e9",
   "metadata": {},
   "outputs": [],
   "source": []
  },
  {
   "cell_type": "code",
   "execution_count": 2,
   "id": "f19cdc80-90b8-4de5-a3d4-083bc98e2868",
   "metadata": {},
   "outputs": [],
   "source": [
    "from micrograd.engine import Value\n",
    "from micrograd.nn import Neuron, Layer, MLP"
   ]
  },
  {
   "cell_type": "code",
   "execution_count": 3,
   "id": "e8e9039f-4b4b-4726-bf0d-829e1501a7b7",
   "metadata": {},
   "outputs": [
    {
     "data": {
      "text/plain": [
       "Value(data=0, grad=0)"
      ]
     },
     "execution_count": 3,
     "metadata": {},
     "output_type": "execute_result"
    }
   ],
   "source": [
    "Value.relu(   Value(-5))"
   ]
  },
  {
   "cell_type": "code",
   "execution_count": null,
   "id": "9642854b-fcf2-4f4a-8668-5c150adddb12",
   "metadata": {},
   "outputs": [],
   "source": []
  },
  {
   "cell_type": "code",
   "execution_count": null,
   "id": "a3e848fe-ec3c-4bc7-ae12-e6782f451a2e",
   "metadata": {},
   "outputs": [],
   "source": []
  },
  {
   "cell_type": "code",
   "execution_count": null,
   "id": "e17dd27b-4214-44a9-b5e2-3d556954bfc0",
   "metadata": {},
   "outputs": [],
   "source": []
  },
  {
   "cell_type": "code",
   "execution_count": null,
   "id": "3c8dde2e-2166-45ee-8e63-04eac2005458",
   "metadata": {},
   "outputs": [],
   "source": []
  },
  {
   "cell_type": "code",
   "execution_count": null,
   "id": "5f00af59-76e0-4c28-befb-d48f4ad268c7",
   "metadata": {},
   "outputs": [],
   "source": []
  }
 ],
 "metadata": {
  "kernelspec": {
   "display_name": "Python 3 (ipykernel)",
   "language": "python",
   "name": "python3"
  },
  "language_info": {
   "codemirror_mode": {
    "name": "ipython",
    "version": 3
   },
   "file_extension": ".py",
   "mimetype": "text/x-python",
   "name": "python",
   "nbconvert_exporter": "python",
   "pygments_lexer": "ipython3",
   "version": "3.10.10"
  }
 },
 "nbformat": 4,
 "nbformat_minor": 5
}
