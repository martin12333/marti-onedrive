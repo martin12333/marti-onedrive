{
 "cells": [
  {
   "cell_type": "code",
   "execution_count": 12,
   "id": "sustainable-rogers",
   "metadata": {},
   "outputs": [
    {
     "name": "stdout",
     "output_type": "stream",
     "text": [
      "C:\\Users\\marti/.cache\\huggingface\\transformers\n"
     ]
    }
   ],
   "source": [
    "import numpy as np\n",
    "\n",
    "from transformers import file_utils\n",
    "print(file_utils.default_cache_path)"
   ]
  },
  {
   "cell_type": "code",
   "execution_count": null,
   "id": "three-details",
   "metadata": {},
   "outputs": [],
   "source": []
  },
  {
   "cell_type": "code",
   "execution_count": null,
   "id": "about-gentleman",
   "metadata": {},
   "outputs": [],
   "source": []
  },
  {
   "cell_type": "code",
   "execution_count": 2,
   "id": "altered-possible",
   "metadata": {},
   "outputs": [
    {
     "name": "stdout",
     "output_type": "stream",
     "text": [
      "# conda environments:\n",
      "#\n",
      "base                     D:\\conda\\anaconda3\n",
      "myenv                 *  D:\\conda\\anaconda3\\envs\\myenv\n",
      "\n"
     ]
    }
   ],
   "source": [
    "!conda env list"
   ]
  },
  {
   "cell_type": "code",
   "execution_count": null,
   "id": "involved-uniform",
   "metadata": {},
   "outputs": [],
   "source": []
  },
  {
   "cell_type": "code",
   "execution_count": null,
   "id": "alternate-homeless",
   "metadata": {},
   "outputs": [],
   "source": []
  },
  {
   "cell_type": "code",
   "execution_count": 1,
   "id": "revised-idaho",
   "metadata": {
    "collapsed": true
   },
   "outputs": [
    {
     "name": "stdout",
     "output_type": "stream",
     "text": [
      " Volume in drive C is Windows\n",
      " Volume Serial Number is 2480-D21D\n",
      "\n",
      " Directory of C:\\Users\\marti\\.cache\\huggingface\\transformers\n",
      "\n",
      "02/22/2021  05:00 PM    <DIR>          .\n",
      "02/22/2021  05:00 PM    <DIR>          ..\n",
      "02/05/2021  05:43 PM               629 4e60bb8efad3d4b7dc9969bf204947c185166a0a3cf37ddb6f481a876a3777b5.9f8326d0b7697c7fd57366cdde57032f46bc10e37ae81cb7eb564d66d23ec96b\n",
      "02/05/2021  05:43 PM               162 4e60bb8efad3d4b7dc9969bf204947c185166a0a3cf37ddb6f481a876a3777b5.9f8326d0b7697c7fd57366cdde57032f46bc10e37ae81cb7eb564d66d23ec96b.json\n",
      "02/05/2021  05:44 PM           231,508 83261b0c74c462e53d6367de0646b1fca07d0f15f1be045156b9cf8c71279cc9.d789d64ebfe299b0e416afc4a169632f903f693095b4629a7ea271d5a0cf2c99\n",
      "02/05/2021  05:44 PM               160 83261b0c74c462e53d6367de0646b1fca07d0f15f1be045156b9cf8c71279cc9.d789d64ebfe299b0e416afc4a169632f903f693095b4629a7ea271d5a0cf2c99.json\n",
      "02/05/2021  05:44 PM       267,949,840 cca389c7357d3ff4ad062d30bde8f2682cbb95452b87ea5dd62c83cf30c23961.b9055177a8bbc208169a21011294136c42786651f2670b49792a4a5fc6abb4bb.h5\n",
      "02/05/2021  05:44 PM               186 cca389c7357d3ff4ad062d30bde8f2682cbb95452b87ea5dd62c83cf30c23961.b9055177a8bbc208169a21011294136c42786651f2670b49792a4a5fc6abb4bb.h5.json\n",
      "02/22/2021  05:00 PM                48 d44ec0488a5f13d92b3934cb68cc5849bd74ce63ede2eea2bf3c675e1e57297c.627f9558061e7bc67ed0f516b2f7efc1351772cc8553101f08748d44aada8b11\n",
      "02/22/2021  05:00 PM               172 d44ec0488a5f13d92b3934cb68cc5849bd74ce63ede2eea2bf3c675e1e57297c.627f9558061e7bc67ed0f516b2f7efc1351772cc8553101f08748d44aada8b11.json\n",
      "02/05/2021  05:38 PM                 0 tmp7hhi9y1s\n",
      "               9 File(s)    268,182,705 bytes\n",
      "               2 Dir(s)  75,710,640,128 bytes free\n"
     ]
    }
   ],
   "source": [
    "!dir C:\\Users\\marti\\.cache\\huggingface\\transformers"
   ]
  },
  {
   "cell_type": "code",
   "execution_count": 21,
   "id": "charming-complaint",
   "metadata": {},
   "outputs": [],
   "source": [
    "from transformers import AutoTokenizer, TFAutoModelForSequenceClassification\n",
    "from transformers import pipeline"
   ]
  },
  {
   "cell_type": "code",
   "execution_count": null,
   "id": "weird-contractor",
   "metadata": {},
   "outputs": [],
   "source": []
  },
  {
   "cell_type": "code",
   "execution_count": null,
   "id": "congressional-candy",
   "metadata": {},
   "outputs": [],
   "source": []
  },
  {
   "cell_type": "code",
   "execution_count": 22,
   "id": "regional-boundary",
   "metadata": {},
   "outputs": [
    {
     "name": "stderr",
     "output_type": "stream",
     "text": [
      "All PyTorch model weights were used when initializing TFBertForSequenceClassification.\n",
      "\n",
      "All the weights of TFBertForSequenceClassification were initialized from the PyTorch model.\n",
      "If your task is similar to the task the model of the checkpoint was trained on, you can already use TFBertForSequenceClassification for predictions without further training.\n"
     ]
    }
   ],
   "source": [
    "model_name = \"nlptown/bert-base-multilingual-uncased-sentiment\"\n",
    "# This model only exists in PyTorch, so we use the `from_pt` flag to import that model in TensorFlow.\n",
    "model = TFAutoModelForSequenceClassification.from_pretrained(model_name, from_pt=True)\n",
    "tokenizer = AutoTokenizer.from_pretrained(model_name)\n",
    "classifier = pipeline('sentiment-analysis', model=model, tokenizer=tokenizer)"
   ]
  },
  {
   "cell_type": "code",
   "execution_count": 23,
   "id": "norman-hindu",
   "metadata": {},
   "outputs": [
    {
     "data": {
      "text/plain": [
       "[{'label': '5 stars', 'score': 0.772534966468811}]"
      ]
     },
     "execution_count": 23,
     "metadata": {},
     "output_type": "execute_result"
    }
   ],
   "source": [
    ">>> classifier('We are very happy to show you the 🤗 Transformers library.')\n"
   ]
  },
  {
   "cell_type": "code",
   "execution_count": null,
   "id": "disturbed-physics",
   "metadata": {},
   "outputs": [],
   "source": []
  },
  {
   "cell_type": "code",
   "execution_count": 5,
   "id": "coordinated-letters",
   "metadata": {},
   "outputs": [
    {
     "data": {
      "text/plain": [
       "transformers.models.bert.modeling_tf_bert.TFBertForSequenceClassification"
      ]
     },
     "execution_count": 5,
     "metadata": {},
     "output_type": "execute_result"
    }
   ],
   "source": [
    "type(model)"
   ]
  },
  {
   "cell_type": "code",
   "execution_count": 6,
   "id": "japanese-cleaning",
   "metadata": {},
   "outputs": [
    {
     "data": {
      "text/plain": [
       "['_TF_MODULE_IGNORED_PROPERTIES',\n",
       " '__call__',\n",
       " '__class__',\n",
       " '__delattr__',\n",
       " '__dict__',\n",
       " '__dir__',\n",
       " '__doc__',\n",
       " '__eq__',\n",
       " '__format__',\n",
       " '__ge__',\n",
       " '__getattribute__',\n",
       " '__getstate__',\n",
       " '__gt__',\n",
       " '__hash__',\n",
       " '__init__',\n",
       " '__init_subclass__',\n",
       " '__le__',\n",
       " '__lt__',\n",
       " '__module__',\n",
       " '__ne__',\n",
       " '__new__',\n",
       " '__reduce__',\n",
       " '__reduce_ex__',\n",
       " '__repr__',\n",
       " '__setattr__',\n",
       " '__setstate__',\n",
       " '__sizeof__',\n",
       " '__str__',\n",
       " '__subclasshook__',\n",
       " '__weakref__',\n",
       " '_activity_regularizer',\n",
       " '_add_trackable',\n",
       " '_add_variable_with_custom_getter',\n",
       " '_assert_compile_was_called',\n",
       " '_assert_weights_created',\n",
       " '_auto_track_sub_layers',\n",
       " '_autocast',\n",
       " '_autographed_call',\n",
       " '_base_model_initialized',\n",
       " '_build_input_shape',\n",
       " '_call_accepts_kwargs',\n",
       " '_call_arg_was_passed',\n",
       " '_call_fn_arg_defaults',\n",
       " '_call_fn_arg_positions',\n",
       " '_call_fn_args',\n",
       " '_call_full_argspec',\n",
       " '_callable_losses',\n",
       " '_cast_single_input',\n",
       " '_check_call_args',\n",
       " '_checkpoint_dependencies',\n",
       " '_clear_losses',\n",
       " '_compile_was_called',\n",
       " '_compiled_trainable_state',\n",
       " '_compute_dtype',\n",
       " '_compute_dtype_object',\n",
       " '_compute_output_and_mask_jointly',\n",
       " '_configure_steps_per_execution',\n",
       " '_dedup_weights',\n",
       " '_default_training_arg',\n",
       " '_deferred_dependencies',\n",
       " '_distribution_strategy',\n",
       " '_dtype',\n",
       " '_dtype_defaulted_to_floatx',\n",
       " '_dtype_policy',\n",
       " '_dynamic',\n",
       " '_eager_losses',\n",
       " '_expects_mask_arg',\n",
       " '_expects_training_arg',\n",
       " '_flatten',\n",
       " '_flatten_layers',\n",
       " '_functional_construction_call',\n",
       " '_gather_children_attribute',\n",
       " '_gather_saveables_for_checkpoint',\n",
       " '_generate_beam_search',\n",
       " '_generate_no_beam_search',\n",
       " '_get_call_arg_value',\n",
       " '_get_callback_model',\n",
       " '_get_compile_args',\n",
       " '_get_distribution_strategy',\n",
       " '_get_existing_metric',\n",
       " '_get_input_masks',\n",
       " '_get_node_attribute_at_index',\n",
       " '_get_optimizer',\n",
       " '_get_resized_embeddings',\n",
       " '_get_resized_lm_head_bias',\n",
       " '_get_resized_lm_head_decoder',\n",
       " '_get_save_spec',\n",
       " '_get_trainable_state',\n",
       " '_get_word_embedding_weight',\n",
       " '_handle_activity_regularization',\n",
       " '_handle_deferred_dependencies',\n",
       " '_handle_weight_regularization',\n",
       " '_in_multi_worker_mode',\n",
       " '_inbound_nodes',\n",
       " '_infer_output_signature',\n",
       " '_init_batch_counters',\n",
       " '_init_call_fn_args',\n",
       " '_init_set_name',\n",
       " '_initial_weights',\n",
       " '_input_spec',\n",
       " '_is_compiled',\n",
       " '_is_graph_network',\n",
       " '_is_layer',\n",
       " '_keras_api_names',\n",
       " '_keras_api_names_v1',\n",
       " '_keras_tensor_symbolic_call',\n",
       " '_keys_to_ignore_on_load_missing',\n",
       " '_keys_to_ignore_on_load_unexpected',\n",
       " '_layers',\n",
       " '_list_extra_dependencies_for_serialization',\n",
       " '_list_functions_for_serialization',\n",
       " '_lookup_dependency',\n",
       " '_losses',\n",
       " '_map_resources',\n",
       " '_maybe_build',\n",
       " '_maybe_cast_inputs',\n",
       " '_maybe_create_attribute',\n",
       " '_maybe_initialize_trackable',\n",
       " '_maybe_load_initial_epoch_from_ckpt',\n",
       " '_metrics',\n",
       " '_metrics_lock',\n",
       " '_must_restore_from_config',\n",
       " '_name',\n",
       " '_name_based_attribute_restore',\n",
       " '_name_based_restores',\n",
       " '_name_scope',\n",
       " '_no_dependency',\n",
       " '_non_trainable_weights',\n",
       " '_obj_reference_counts',\n",
       " '_obj_reference_counts_dict',\n",
       " '_object_identifier',\n",
       " '_outbound_nodes',\n",
       " '_predict_counter',\n",
       " '_preload_simple_restoration',\n",
       " '_reorder_cache',\n",
       " '_reset_compile_cache',\n",
       " '_resize_token_embeddings',\n",
       " '_restore_from_checkpoint_position',\n",
       " '_run_eagerly',\n",
       " '_saved_model_inputs_spec',\n",
       " '_self_name_based_restores',\n",
       " '_self_saveable_object_factories',\n",
       " '_self_setattr_tracking',\n",
       " '_self_unconditional_checkpoint_dependencies',\n",
       " '_self_unconditional_deferred_dependencies',\n",
       " '_self_unconditional_dependency_names',\n",
       " '_self_update_uid',\n",
       " '_set_call_arg_value',\n",
       " '_set_connectivity_metadata',\n",
       " '_set_dtype_policy',\n",
       " '_set_inputs',\n",
       " '_set_mask_keras_history_checked',\n",
       " '_set_mask_metadata',\n",
       " '_set_save_spec',\n",
       " '_set_trainable_state',\n",
       " '_set_training_mode',\n",
       " '_setattr_tracking',\n",
       " '_should_cast_single_input',\n",
       " '_should_compute_mask',\n",
       " '_should_eval',\n",
       " '_single_restoration_from_checkpoint_position',\n",
       " '_split_out_first_arg',\n",
       " '_stateful',\n",
       " '_steps_per_execution',\n",
       " '_supports_masking',\n",
       " '_symbolic_call',\n",
       " '_test_counter',\n",
       " '_tf_api_names',\n",
       " '_tf_api_names_v1',\n",
       " '_thread_local',\n",
       " '_track_trackable',\n",
       " '_trackable_saved_model_saver',\n",
       " '_trackable_saver',\n",
       " '_tracking_metadata',\n",
       " '_train_counter',\n",
       " '_trainable',\n",
       " '_trainable_weights',\n",
       " '_training_state',\n",
       " '_unconditional_checkpoint_dependencies',\n",
       " '_unconditional_dependency_names',\n",
       " '_undeduplicated_weights',\n",
       " '_update_uid',\n",
       " '_updated_config',\n",
       " '_updates',\n",
       " '_use_cache',\n",
       " '_validate_compile',\n",
       " '_warn_about_input_casting',\n",
       " 'activity_regularizer',\n",
       " 'add_loss',\n",
       " 'add_metric',\n",
       " 'add_update',\n",
       " 'add_variable',\n",
       " 'add_weight',\n",
       " 'adjust_logits_during_generation',\n",
       " 'apply',\n",
       " 'base_model_prefix',\n",
       " 'bert',\n",
       " 'build',\n",
       " 'built',\n",
       " 'call',\n",
       " 'classifier',\n",
       " 'compile',\n",
       " 'compiled_loss',\n",
       " 'compiled_metrics',\n",
       " 'compute_loss',\n",
       " 'compute_mask',\n",
       " 'compute_output_shape',\n",
       " 'compute_output_signature',\n",
       " 'config',\n",
       " 'config_class',\n",
       " 'count_params',\n",
       " 'distribute_strategy',\n",
       " 'dropout',\n",
       " 'dtype',\n",
       " 'dummy_inputs',\n",
       " 'dynamic',\n",
       " 'evaluate',\n",
       " 'evaluate_generator',\n",
       " 'fit',\n",
       " 'fit_generator',\n",
       " 'from_config',\n",
       " 'from_pretrained',\n",
       " 'generate',\n",
       " 'get_bias',\n",
       " 'get_config',\n",
       " 'get_input_at',\n",
       " 'get_input_embeddings',\n",
       " 'get_input_mask_at',\n",
       " 'get_input_shape_at',\n",
       " 'get_layer',\n",
       " 'get_lm_head',\n",
       " 'get_losses_for',\n",
       " 'get_output_at',\n",
       " 'get_output_embeddings',\n",
       " 'get_output_layer_with_bias',\n",
       " 'get_output_mask_at',\n",
       " 'get_output_shape_at',\n",
       " 'get_prefix_bias_name',\n",
       " 'get_updates_for',\n",
       " 'get_weights',\n",
       " 'history',\n",
       " 'inbound_nodes',\n",
       " 'input',\n",
       " 'input_mask',\n",
       " 'input_names',\n",
       " 'input_shape',\n",
       " 'input_spec',\n",
       " 'inputs',\n",
       " 'layers',\n",
       " 'load_weights',\n",
       " 'losses',\n",
       " 'make_predict_function',\n",
       " 'make_test_function',\n",
       " 'make_train_function',\n",
       " 'metrics',\n",
       " 'metrics_names',\n",
       " 'name',\n",
       " 'name_or_path',\n",
       " 'name_scope',\n",
       " 'non_trainable_variables',\n",
       " 'non_trainable_weights',\n",
       " 'num_labels',\n",
       " 'num_parameters',\n",
       " 'optimizer',\n",
       " 'outbound_nodes',\n",
       " 'output',\n",
       " 'output_mask',\n",
       " 'output_names',\n",
       " 'output_shape',\n",
       " 'outputs',\n",
       " 'predict',\n",
       " 'predict_function',\n",
       " 'predict_generator',\n",
       " 'predict_on_batch',\n",
       " 'predict_step',\n",
       " 'prepare_inputs_for_generation',\n",
       " 'prune_heads',\n",
       " 'reset_metrics',\n",
       " 'reset_states',\n",
       " 'resize_token_embeddings',\n",
       " 'run_eagerly',\n",
       " 'save',\n",
       " 'save_pretrained',\n",
       " 'save_weights',\n",
       " 'serving',\n",
       " 'serving_output',\n",
       " 'set_bias',\n",
       " 'set_input_embeddings',\n",
       " 'set_output_embeddings',\n",
       " 'set_weights',\n",
       " 'state_updates',\n",
       " 'stateful',\n",
       " 'stop_training',\n",
       " 'submodules',\n",
       " 'summary',\n",
       " 'supports_masking',\n",
       " 'test_function',\n",
       " 'test_on_batch',\n",
       " 'test_step',\n",
       " 'to_json',\n",
       " 'to_yaml',\n",
       " 'train_function',\n",
       " 'train_on_batch',\n",
       " 'train_step',\n",
       " 'trainable',\n",
       " 'trainable_variables',\n",
       " 'trainable_weights',\n",
       " 'updates',\n",
       " 'variables',\n",
       " 'weights',\n",
       " 'with_name_scope']"
      ]
     },
     "execution_count": 6,
     "metadata": {},
     "output_type": "execute_result"
    }
   ],
   "source": [
    "dir(model)"
   ]
  },
  {
   "cell_type": "code",
   "execution_count": 24,
   "id": "combined-secret",
   "metadata": {},
   "outputs": [
    {
     "data": {
      "text/plain": [
       "32"
      ]
     },
     "execution_count": 24,
     "metadata": {},
     "output_type": "execute_result"
    }
   ],
   "source": [
    "model.__sizeof__()"
   ]
  },
  {
   "cell_type": "code",
   "execution_count": null,
   "id": "wooden-divide",
   "metadata": {},
   "outputs": [],
   "source": []
  },
  {
   "cell_type": "code",
   "execution_count": 10,
   "id": "north-uniform",
   "metadata": {},
   "outputs": [],
   "source": [
    "?model"
   ]
  },
  {
   "cell_type": "code",
   "execution_count": 11,
   "id": "appropriate-eight",
   "metadata": {},
   "outputs": [],
   "source": [
    "??model"
   ]
  },
  {
   "cell_type": "code",
   "execution_count": 25,
   "id": "brave-broad",
   "metadata": {},
   "outputs": [
    {
     "name": "stdout",
     "output_type": "stream",
     "text": [
      "\n",
      "Upper bound on total bytes  =       0\n"
     ]
    }
   ],
   "source": [
    "np.who()"
   ]
  },
  {
   "cell_type": "code",
   "execution_count": null,
   "id": "labeled-lover",
   "metadata": {},
   "outputs": [],
   "source": []
  },
  {
   "cell_type": "code",
   "execution_count": 26,
   "id": "viral-techno",
   "metadata": {},
   "outputs": [
    {
     "data": {
      "text/plain": [
       "167.360261"
      ]
     },
     "execution_count": 26,
     "metadata": {},
     "output_type": "execute_result"
    }
   ],
   "source": [
    "model.num_parameters()/1e6"
   ]
  },
  {
   "cell_type": "code",
   "execution_count": null,
   "id": "republican-superintendent",
   "metadata": {},
   "outputs": [],
   "source": []
  },
  {
   "cell_type": "code",
   "execution_count": 30,
   "id": "willing-romance",
   "metadata": {},
   "outputs": [
    {
     "name": "stdout",
     "output_type": "stream",
     "text": [
      "Model: \"tf_bert_for_sequence_classification_1\"\n",
      "_________________________________________________________________\n",
      "Layer (type)                 Output Shape              Param #   \n",
      "=================================================================\n",
      "bert (TFBertMainLayer)       multiple                  167356416 \n",
      "_________________________________________________________________\n",
      "dropout_75 (Dropout)         multiple                  0         \n",
      "_________________________________________________________________\n",
      "classifier (Dense)           multiple                  3845      \n",
      "=================================================================\n",
      "Total params: 167,360,261\n",
      "Trainable params: 167,360,261\n",
      "Non-trainable params: 0\n",
      "_________________________________________________________________\n"
     ]
    }
   ],
   "source": [
    "model.summary()"
   ]
  },
  {
   "cell_type": "code",
   "execution_count": 32,
   "id": "moved-ethnic",
   "metadata": {},
   "outputs": [
    {
     "ename": "TypeError",
     "evalue": "'TFBertForSequenceClassification' object is not subscriptable",
     "output_type": "error",
     "traceback": [
      "\u001b[1;31m---------------------------------------------------------------------------\u001b[0m",
      "\u001b[1;31mTypeError\u001b[0m                                 Traceback (most recent call last)",
      "\u001b[1;32m<ipython-input-32-063f06631100>\u001b[0m in \u001b[0;36m<module>\u001b[1;34m\u001b[0m\n\u001b[1;32m----> 1\u001b[1;33m \u001b[0mmodel\u001b[0m\u001b[1;33m[\u001b[0m\u001b[1;36m0\u001b[0m\u001b[1;33m]\u001b[0m\u001b[1;33m\u001b[0m\u001b[1;33m\u001b[0m\u001b[0m\n\u001b[0m",
      "\u001b[1;31mTypeError\u001b[0m: 'TFBertForSequenceClassification' object is not subscriptable"
     ]
    }
   ],
   "source": [
    "model[0]"
   ]
  },
  {
   "cell_type": "code",
   "execution_count": 34,
   "id": "unusual-oriental",
   "metadata": {},
   "outputs": [],
   "source": [
    "x=model.weights"
   ]
  },
  {
   "cell_type": "code",
   "execution_count": 35,
   "id": "compliant-seventh",
   "metadata": {},
   "outputs": [
    {
     "data": {
      "text/plain": [
       "201"
      ]
     },
     "execution_count": 35,
     "metadata": {},
     "output_type": "execute_result"
    }
   ],
   "source": [
    "len(x)"
   ]
  },
  {
   "cell_type": "code",
   "execution_count": null,
   "id": "perfect-mounting",
   "metadata": {},
   "outputs": [],
   "source": [
    "x"
   ]
  },
  {
   "cell_type": "code",
   "execution_count": null,
   "id": "unusual-worst",
   "metadata": {},
   "outputs": [],
   "source": []
  },
  {
   "cell_type": "code",
   "execution_count": null,
   "id": "emotional-picking",
   "metadata": {},
   "outputs": [],
   "source": []
  },
  {
   "cell_type": "code",
   "execution_count": null,
   "id": "boring-blend",
   "metadata": {},
   "outputs": [],
   "source": []
  },
  {
   "cell_type": "code",
   "execution_count": null,
   "id": "divine-consent",
   "metadata": {},
   "outputs": [],
   "source": []
  },
  {
   "cell_type": "code",
   "execution_count": null,
   "id": "optical-ballot",
   "metadata": {},
   "outputs": [],
   "source": []
  },
  {
   "cell_type": "code",
   "execution_count": null,
   "id": "attached-dinner",
   "metadata": {},
   "outputs": [],
   "source": []
  },
  {
   "cell_type": "code",
   "execution_count": null,
   "id": "adapted-david",
   "metadata": {},
   "outputs": [],
   "source": []
  },
  {
   "cell_type": "code",
   "execution_count": null,
   "id": "supposed-citizenship",
   "metadata": {},
   "outputs": [],
   "source": []
  },
  {
   "cell_type": "code",
   "execution_count": null,
   "id": "proper-overview",
   "metadata": {},
   "outputs": [],
   "source": []
  },
  {
   "cell_type": "code",
   "execution_count": null,
   "id": "colored-latino",
   "metadata": {},
   "outputs": [],
   "source": []
  },
  {
   "cell_type": "code",
   "execution_count": null,
   "id": "developing-tanzania",
   "metadata": {},
   "outputs": [],
   "source": []
  },
  {
   "cell_type": "code",
   "execution_count": null,
   "id": "increasing-enhancement",
   "metadata": {},
   "outputs": [],
   "source": []
  },
  {
   "cell_type": "code",
   "execution_count": null,
   "id": "egyptian-forth",
   "metadata": {},
   "outputs": [],
   "source": []
  },
  {
   "cell_type": "code",
   "execution_count": null,
   "id": "material-peninsula",
   "metadata": {},
   "outputs": [],
   "source": []
  },
  {
   "cell_type": "code",
   "execution_count": null,
   "id": "short-memorabilia",
   "metadata": {},
   "outputs": [],
   "source": []
  },
  {
   "cell_type": "code",
   "execution_count": 3,
   "id": "instructional-meeting",
   "metadata": {},
   "outputs": [
    {
     "name": "stderr",
     "output_type": "stream",
     "text": [
      "The system cannot find the path specified.\n"
     ]
    }
   ],
   "source": []
  },
  {
   "cell_type": "code",
   "execution_count": 2,
   "id": "sized-palmer",
   "metadata": {},
   "outputs": [],
   "source": []
  },
  {
   "cell_type": "code",
   "execution_count": null,
   "id": "olive-export",
   "metadata": {},
   "outputs": [],
   "source": []
  },
  {
   "cell_type": "code",
   "execution_count": 3,
   "id": "blessed-confusion",
   "metadata": {},
   "outputs": [
    {
     "name": "stderr",
     "output_type": "stream",
     "text": [
      "Some layers from the model checkpoint at distilbert-base-uncased-finetuned-sst-2-english were not used when initializing TFDistilBertModel: ['dropout_19', 'classifier', 'pre_classifier']\n",
      "- This IS expected if you are initializing TFDistilBertModel from the checkpoint of a model trained on another task or with another architecture (e.g. initializing a BertForSequenceClassification model from a BertForPreTraining model).\n",
      "- This IS NOT expected if you are initializing TFDistilBertModel from the checkpoint of a model that you expect to be exactly identical (initializing a BertForSequenceClassification model from a BertForSequenceClassification model).\n",
      "All the layers of TFDistilBertModel were initialized from the model checkpoint at distilbert-base-uncased-finetuned-sst-2-english.\n",
      "If your task is similar to the task the model of the checkpoint was trained on, you can already use TFDistilBertModel for predictions without further training.\n"
     ]
    },
    {
     "data": {
      "application/vnd.jupyter.widget-view+json": {
       "model_id": "6b6ee8866f8e47b284269d0197f0adc5",
       "version_major": 2,
       "version_minor": 0
      },
      "text/plain": [
       "Downloading:   0%|          | 0.00/48.0 [00:00<?, ?B/s]"
      ]
     },
     "metadata": {},
     "output_type": "display_data"
    },
    {
     "name": "stderr",
     "output_type": "stream",
     "text": [
      "Some layers from the model checkpoint at distilbert-base-uncased-finetuned-sst-2-english were not used when initializing TFDistilBertForSequenceClassification: ['dropout_19']\n",
      "- This IS expected if you are initializing TFDistilBertForSequenceClassification from the checkpoint of a model trained on another task or with another architecture (e.g. initializing a BertForSequenceClassification model from a BertForPreTraining model).\n",
      "- This IS NOT expected if you are initializing TFDistilBertForSequenceClassification from the checkpoint of a model that you expect to be exactly identical (initializing a BertForSequenceClassification model from a BertForSequenceClassification model).\n",
      "Some layers of TFDistilBertForSequenceClassification were not initialized from the model checkpoint at distilbert-base-uncased-finetuned-sst-2-english and are newly initialized: ['dropout_38']\n",
      "You should probably TRAIN this model on a down-stream task to be able to use it for predictions and inference.\n"
     ]
    }
   ],
   "source": [
    "classifier = pipeline('sentiment-analysis')\n"
   ]
  },
  {
   "cell_type": "code",
   "execution_count": null,
   "id": "accomplished-emperor",
   "metadata": {},
   "outputs": [],
   "source": []
  },
  {
   "cell_type": "code",
   "execution_count": null,
   "id": "handmade-rwanda",
   "metadata": {},
   "outputs": [],
   "source": []
  },
  {
   "cell_type": "code",
   "execution_count": 10,
   "id": "polished-services",
   "metadata": {},
   "outputs": [
    {
     "data": {
      "text/plain": [
       "[{'label': 'NEGATIVE', 'score': 0.9926995038986206}]"
      ]
     },
     "execution_count": 10,
     "metadata": {},
     "output_type": "execute_result"
    }
   ],
   "source": [
    ">>> classifier('We are   to include xxyz into the qqq repository.')\n"
   ]
  },
  {
   "cell_type": "code",
   "execution_count": null,
   "id": "reserved-idaho",
   "metadata": {},
   "outputs": [],
   "source": []
  },
  {
   "cell_type": "code",
   "execution_count": 6,
   "id": "loaded-structure",
   "metadata": {},
   "outputs": [
    {
     "data": {
      "text/plain": [
       "[{'label': 'NEGATIVE', 'score': 0.9989445209503174}]"
      ]
     },
     "execution_count": 6,
     "metadata": {},
     "output_type": "execute_result"
    }
   ],
   "source": [
    "classifier('We are  unsure to include xxyz into the qqq repository.')\n"
   ]
  },
  {
   "cell_type": "code",
   "execution_count": 7,
   "id": "secure-exclusive",
   "metadata": {},
   "outputs": [
    {
     "data": {
      "text/plain": [
       "[{'label': 'POSITIVE', 'score': 0.999342143535614}]"
      ]
     },
     "execution_count": 7,
     "metadata": {},
     "output_type": "execute_result"
    }
   ],
   "source": [
    "classifier('We are  confident to include xxyz into the qqq repository.')\n"
   ]
  },
  {
   "cell_type": "code",
   "execution_count": null,
   "id": "portable-alcohol",
   "metadata": {},
   "outputs": [],
   "source": []
  },
  {
   "cell_type": "code",
   "execution_count": null,
   "id": "smaller-uruguay",
   "metadata": {},
   "outputs": [],
   "source": []
  },
  {
   "cell_type": "code",
   "execution_count": null,
   "id": "fallen-flesh",
   "metadata": {},
   "outputs": [],
   "source": [
    "bylo potreba restart kernel !conda list"
   ]
  },
  {
   "cell_type": "code",
   "execution_count": null,
   "id": "colored-opportunity",
   "metadata": {},
   "outputs": [],
   "source": []
  },
  {
   "cell_type": "code",
   "execution_count": 2,
   "id": "motivated-newark",
   "metadata": {},
   "outputs": [
    {
     "name": "stdout",
     "output_type": "stream",
     "text": [
      " Volume in drive C is Windows\n",
      " Volume Serial Number is 2480-D21D\n",
      "\n",
      " Directory of C:\\Users\\marti\\OneDrive\\conn\n",
      "\n",
      "02/05/2021  05:13 PM    <DIR>          .\n",
      "02/05/2021  05:13 PM    <DIR>          ..\n",
      "02/05/2021  05:13 PM    <DIR>          .ipynb_checkpoints\n",
      "11/16/2020  01:53 PM            30,004 0bg.ini\n",
      "11/16/2020  01:53 PM             6,608 0bg.tvopt\n",
      "01/12/2021  08:43 PM           112,014 137330178_4168234549870432_3264695653164952718_o.jpg\n",
      "06/12/2020  08:31 PM           448,429 2020-06-12 (3).png\n",
      "10/18/2020  06:33 PM        17,714,694 8089759_xml_2020_10_18_bb424.zip\n",
      "02/04/2021  03:12 PM           120,622 acro-sett,124.zip\n",
      "02/04/2021  04:00 PM           123,576 acro-sett-2124.zip\n",
      "02/04/2021  04:28 PM           108,409 acro-sett-2124b.zip\n",
      "06/12/2020  04:29 PM            39,891 acro-sett.zip\n",
      "01/28/2021  01:26 PM           120,366 acro-sett2.zip\n",
      "01/25/2021  12:40 PM             5,891 acro-vs-mar80-211.txt\n",
      "01/30/2021  12:04 PM               227 conn.txt\n",
      "09/01/2020  04:04 PM               151 ConsoleHost_history.txt\n",
      "10/18/2020  05:40 PM            30,910 D1Dokument (1).zip\n",
      "01/24/2021  03:55 PM           224,540 fsdfsfdsfdsf.txt\n",
      "01/14/2021  05:22 PM            42,543 Geek Test_ the original test from innergeek.html\n",
      "02/02/2021  05:32 PM             5,642 gpt-2.txt\n",
      "02/05/2021  05:10 PM               584 hf38-1.ipynb\n",
      "01/19/2021  02:40 PM             4,285 Iva.txt\n",
      "11/28/2020  05:18 PM           134,060 keybUntitled-1.txt.json\n",
      "06/15/2020  07:00 PM            79,867 Licencní certifikát-FVT20060198.pdf\n",
      "11/19/2020  03:59 PM            50,957 MYNOTES--SPEC.txt\n",
      "02/04/2021  06:27 PM           135,119 mynotes-mart,j.txt.ls.coffee.clj.js.txt\n",
      "12/21/2020  07:43 PM            50,427 mynotes75Mi,i.txt\n",
      "11/28/2020  08:02 PM               494 POKUS.jade\n",
      "01/22/2021  02:41 PM            13,743 replika.txt\n",
      "09/06/2020  06:57 PM               481 setti,09.txt\n",
      "06/11/2020  11:56 AM            17,460 StayFocusd_2020-06-11.json\n",
      "06/26/2020  05:32 PM            82,366 StayFocusd_2020-06-26.json\n",
      "12/24/2020  02:43 PM            11,694 vscode20.js\n",
      "              30 File(s)     19,716,054 bytes\n",
      "               3 Dir(s)  81,289,388,032 bytes free\n"
     ]
    }
   ],
   "source": [
    "!dir"
   ]
  },
  {
   "cell_type": "code",
   "execution_count": 3,
   "id": "educational-discrimination",
   "metadata": {},
   "outputs": [
    {
     "name": "stdout",
     "output_type": "stream",
     "text": [
      "ALLUSERSPROFILE=C:\\ProgramData\n",
      "APPDATA=C:\\Users\\marti\\AppData\\Roaming\n",
      "CLICOLOR=1\n",
      "COMMONPROGRAMFILES=C:\\Program Files\\Common Files\n",
      "COMMONPROGRAMFILES(X86)=C:\\Program Files (x86)\\Common Files\n",
      "COMMONPROGRAMW6432=C:\\Program Files\\Common Files\n",
      "COMPUTERNAME=DESKTOP-5AI0U6N\n",
      "COMSPEC=C:\\WINDOWS\\system32\\cmd.exe\n",
      "CONDA_DEFAULT_ENV=hf38\n",
      "CONDA_EXE=C:\\Users\\marti\\anaconda3\\Scripts\\conda.exe\n",
      "CONDA_PROMPT_MODIFIER=(hf38) \n",
      "CONDA_PYTHON_EXE=C:\\Users\\marti\\anaconda3\\python.exe\n",
      "CONDA_ROOT=C:\\Users\\marti\\anaconda3\n",
      "CONDA_SHLVL=1\n",
      "DRIVERDATA=C:\\Windows\\System32\\Drivers\\DriverData\n",
      "FPS_BROWSER_APP_PROFILE_STRING=Internet Explorer\n",
      "FPS_BROWSER_USER_PROFILE_STRING=Default\n",
      "GIT_PAGER=cat\n",
      "HOMEDRIVE=C:\n",
      "HOMEPATH=\\Users\\marti\n",
      "LOCALAPPDATA=C:\\Users\\marti\\AppData\\Local\n",
      "LOGONSERVER=\\\\DESKTOP-5AI0U6N\n",
      "MPLBACKEND=module://ipykernel.pylab.backend_inline\n",
      "NUMBER_OF_PROCESSORS=6\n",
      "ONEDRIVE=C:\\Users\\marti\\OneDrive\n",
      "ONEDRIVECONSUMER=C:\\Users\\marti\\OneDrive\n",
      "OS=Windows_NT\n",
      "PAGER=cat\n",
      "PATH=C:\\Users\\marti\\anaconda3\\envs\\hf38;C:\\Users\\marti\\anaconda3\\envs\\hf38\\Library\\mingw-w64\\bin;C:\\Users\\marti\\anaconda3\\envs\\hf38\\Library\\usr\\bin;C:\\Users\\marti\\anaconda3\\envs\\hf38\\Library\\bin;C:\\Users\\marti\\anaconda3\\envs\\hf38\\Scripts;C:\\Users\\marti\\anaconda3\\envs\\hf38\\bin;C:\\Users\\marti\\anaconda3\\condabin;C:\\Users\\marti\\anaconda3;C:\\Users\\marti\\anaconda3\\Library\\mingw-w64\\bin;C:\\Users\\marti\\anaconda3\\Library\\usr\\bin;C:\\Users\\marti\\anaconda3\\Library\\bin;C:\\Users\\marti\\anaconda3\\Scripts;C:\\WINDOWS\\system32;C:\\WINDOWS;C:\\WINDOWS\\System32\\Wbem;C:\\WINDOWS\\System32\\WindowsPowerShell\\v1.0;C:\\WINDOWS\\System32\\OpenSSH;C:\\Program Files (x86)\\Common Files\\Acronis\\VirtualFile;C:\\Program Files (x86)\\Common Files\\Acronis\\VirtualFile64;C:\\Program Files (x86)\\Common Files\\Acronis\\FileProtector;C:\\Program Files (x86)\\Common Files\\Acronis\\FileProtector64;C:\\Program Files (x86)\\Common Files\\Acronis\\SnapAPI;C:\\Program Files\\Microsoft VS Code\\bin;C:\\Users\\marti\\AppData\\Local\\Microsoft\\WindowsApps;.\n",
      "PATHEXT=.COM;.EXE;.BAT;.CMD;.VBS;.VBE;.JS;.JSE;.WSF;.WSH;.MSC\n",
      "PROCESSOR_ARCHITECTURE=AMD64\n",
      "PROCESSOR_IDENTIFIER=Intel64 Family 6 Model 158 Stepping 10, GenuineIntel\n",
      "PROCESSOR_LEVEL=6\n",
      "PROCESSOR_REVISION=9e0a\n",
      "PROGRAMDATA=C:\\ProgramData\n",
      "PROGRAMFILES=C:\\Program Files\n",
      "PROGRAMFILES(X86)=C:\\Program Files (x86)\n",
      "PROGRAMW6432=C:\\Program Files\n",
      "PROMPT=(hf38) $P$G\n",
      "PSMODULEPATH=C:\\Program Files\\WindowsPowerShell\\Modules;C:\\WINDOWS\\system32\\WindowsPowerShell\\v1.0\\Modules\n",
      "PUBLIC=C:\\Users\\Public\n",
      "SESSIONNAME=Console\n",
      "SYSTEMDRIVE=C:\n",
      "SYSTEMROOT=C:\\WINDOWS\n",
      "TEMP=C:\\Users\\marti\\AppData\\Local\\Temp\n",
      "TERM=xterm-color\n",
      "TMP=C:\\Users\\marti\\AppData\\Local\\Temp\n",
      "USERDOMAIN=DESKTOP-5AI0U6N\n",
      "USERDOMAIN_ROAMINGPROFILE=DESKTOP-5AI0U6N\n",
      "USERNAME=marti\n",
      "USERPROFILE=C:\\Users\\marti\n",
      "WINDIR=C:\\WINDOWS\n",
      "CONDA_PREFIX=C:\\Users\\marti\\anaconda3\\envs\\hf38\n",
      "JPY_INTERRUPT_EVENT=2672\n",
      "IPY_INTERRUPT_EVENT=2672\n",
      "JPY_PARENT_PID=736\n"
     ]
    }
   ],
   "source": [
    "!set"
   ]
  },
  {
   "cell_type": "code",
   "execution_count": 5,
   "id": "historic-forum",
   "metadata": {},
   "outputs": [
    {
     "name": "stdout",
     "output_type": "stream",
     "text": [
      "^C\n"
     ]
    }
   ],
   "source": [
    "zacyklil conda install tensorflow"
   ]
  },
  {
   "cell_type": "code",
   "execution_count": null,
   "id": "hazardous-canon",
   "metadata": {},
   "outputs": [],
   "source": [
    "zacyklil  conda install -c huggingface transformers conda install -c huggingface transformers\n"
   ]
  },
  {
   "cell_type": "code",
   "execution_count": null,
   "id": "trained-porter",
   "metadata": {},
   "outputs": [],
   "source": []
  },
  {
   "cell_type": "code",
   "execution_count": null,
   "id": "weird-dietary",
   "metadata": {},
   "outputs": [],
   "source": []
  },
  {
   "cell_type": "code",
   "execution_count": null,
   "id": "manual-trouble",
   "metadata": {},
   "outputs": [],
   "source": []
  },
  {
   "cell_type": "code",
   "execution_count": null,
   "id": "understood-sociology",
   "metadata": {},
   "outputs": [],
   "source": []
  },
  {
   "cell_type": "code",
   "execution_count": null,
   "id": "brilliant-lottery",
   "metadata": {},
   "outputs": [],
   "source": []
  },
  {
   "cell_type": "code",
   "execution_count": null,
   "id": "removed-wildlife",
   "metadata": {},
   "outputs": [],
   "source": []
  },
  {
   "cell_type": "code",
   "execution_count": null,
   "id": "recognized-religion",
   "metadata": {},
   "outputs": [],
   "source": []
  },
  {
   "cell_type": "code",
   "execution_count": null,
   "id": "homeless-arrow",
   "metadata": {},
   "outputs": [],
   "source": []
  }
 ],
 "metadata": {
  "kernelspec": {
   "display_name": "Python 3",
   "language": "python",
   "name": "python3"
  },
  "language_info": {
   "codemirror_mode": {
    "name": "ipython",
    "version": 3
   },
   "file_extension": ".py",
   "mimetype": "text/x-python",
   "name": "python",
   "nbconvert_exporter": "python",
   "pygments_lexer": "ipython3",
   "version": "3.8.5"
  }
 },
 "nbformat": 4,
 "nbformat_minor": 5
}
