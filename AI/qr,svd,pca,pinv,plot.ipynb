{
 "cells": [
  {
   "cell_type": "code",
   "execution_count": 33,
   "metadata": {},
   "outputs": [
    {
     "data": {
      "text/plain": [
       "'%.2f'"
      ]
     },
     "execution_count": 33,
     "metadata": {},
     "output_type": "execute_result"
    }
   ],
   "source": [
    "#mm many additional \"queries\"\n",
    "#aaa\n",
    "\n",
    "import numpy as np\n",
    "np.set_printoptions(suppress=True)\n",
    "\n",
    "np.set_printoptions(threshold=20)\n",
    "np.set_printoptions(threshold=400)\n",
    "np.set_printoptions(threshold=40)\n",
    "\n",
    "np.set_printoptions(edgeitems=10)\n",
    "\n",
    "np.set_printoptions(precision=4)\n",
    "#np.set_printoptions(precision=3)\n",
    "np.set_printoptions(precision=2)\n",
    "#np.set_printoptions(precision=1)\n",
    "#np.set_printoptions(precision=0)\n",
    "\n",
    "%precision 4\n",
    "%precision 3\n",
    "%precision 2\n",
    "#%precision 1\n"
   ]
  },
  {
   "cell_type": "code",
   "execution_count": 109,
   "metadata": {},
   "outputs": [],
   "source": [
    "\n",
    "import numpy as np\n",
    "import matplotlib.pyplot as plt\n",
    "import scipy\n",
    "\n",
    "from mpl_toolkits.mplot3d import Axes3D\n",
    "\n",
    "from sklearn import decomposition\n",
    "from sklearn.metrics.pairwise import cosine_similarity\n",
    "\n",
    "np.random.seed(5)\n"
   ]
  },
  {
   "cell_type": "code",
   "execution_count": 1,
   "metadata": {},
   "outputs": [],
   "source": [
    "#%pip install --dry-run ipympl\n",
    "# https://matplotlib.org/ipympl/installing.html"
   ]
  },
  {
   "cell_type": "code",
   "execution_count": null,
   "metadata": {},
   "outputs": [],
   "source": []
  },
  {
   "cell_type": "code",
   "execution_count": 37,
   "metadata": {},
   "outputs": [],
   "source": [
    "!start tensorboard --logdir d:/ai\n",
    "#!taskkill /IM \"tensorboard*\" /f"
   ]
  },
  {
   "cell_type": "code",
   "execution_count": 52,
   "metadata": {
    "tags": []
   },
   "outputs": [],
   "source": [
    "from torch.utils.tensorboard import SummaryWriter\n",
    "writer = SummaryWriter(\"d:/ai/iris/runs\")"
   ]
  },
  {
   "cell_type": "code",
   "execution_count": 49,
   "metadata": {},
   "outputs": [],
   "source": [
    "#!start tensorboard --logdir d:/ai\n",
    "#/runs\n",
    "#! tensorboard --logdir d:/AI/runs \n",
    "# square to continue jup\n",
    "# kenel interrup\n",
    "##! start.exe tensorboard --logdir d:/AI/runs\n",
    "##%tensorboard --logdir d:/AI/runs"
   ]
  },
  {
   "cell_type": "code",
   "execution_count": null,
   "metadata": {},
   "outputs": [],
   "source": []
  },
  {
   "cell_type": "code",
   "execution_count": 16,
   "metadata": {},
   "outputs": [
    {
     "data": {
      "text/plain": [
       "array([[ 0.5, -0.5],\n",
       "       [-0.5,  0.5]])"
      ]
     },
     "execution_count": 16,
     "metadata": {},
     "output_type": "execute_result"
    }
   ],
   "source": [
    "x=np.array([[1,2],[1,24]]).T\n",
    "x=np.array([[1,0],[0,1]]).T\n",
    "x.mean(axis=0)\n",
    "#x.mean(axis=1)\n",
    "x-x.mean(axis=0)\n",
    "\n",
    "# https://stackoverflow.com/questions/8423051/remove-mean-from-numpy-matrix"
   ]
  },
  {
   "cell_type": "code",
   "execution_count": null,
   "metadata": {},
   "outputs": [],
   "source": []
  },
  {
   "cell_type": "code",
   "execution_count": null,
   "metadata": {},
   "outputs": [],
   "source": []
  },
  {
   "cell_type": "markdown",
   "metadata": {
    "jp-MarkdownHeadingCollapsed": true,
    "tags": []
   },
   "source": [
    "# qr"
   ]
  },
  {
   "cell_type": "code",
   "execution_count": 26,
   "metadata": {},
   "outputs": [
    {
     "data": {
      "text/plain": [
       "array([[ 0.8, -0.6],\n",
       "       [ 0.6,  0.8]], dtype=float32)"
      ]
     },
     "execution_count": 26,
     "metadata": {},
     "output_type": "execute_result"
    }
   ],
   "source": [
    "qa=np.array( [[0.8  , -.6], \n",
    "       [0.6, .8  ]], dtype=np.float32)\n",
    "qa"
   ]
  },
  {
   "cell_type": "code",
   "execution_count": null,
   "metadata": {},
   "outputs": [],
   "source": []
  },
  {
   "cell_type": "code",
   "execution_count": 5,
   "metadata": {},
   "outputs": [
    {
     "data": {
      "text/plain": [
       "array([[1.  , 0.33],\n",
       "       [0.33, 1.  ]], dtype=float32)"
      ]
     },
     "execution_count": 5,
     "metadata": {},
     "output_type": "execute_result"
    }
   ],
   "source": [
    "aa=np.array( [[1.  , 0.33], \n",
    "       [0.33, 1.  ]], dtype=np.float32)\n",
    "aa"
   ]
  },
  {
   "cell_type": "code",
   "execution_count": 33,
   "metadata": {},
   "outputs": [
    {
     "data": {
      "text/plain": [
       "array([[1.  , 0.33],\n",
       "       [0.  , 0.94]], dtype=float32)"
      ]
     },
     "execution_count": 33,
     "metadata": {},
     "output_type": "execute_result"
    }
   ],
   "source": [
    "a=np.linalg.cholesky(aa).T\n",
    "a"
   ]
  },
  {
   "cell_type": "code",
   "execution_count": 38,
   "metadata": {},
   "outputs": [
    {
     "data": {
      "text/plain": [
       "array([[1.  , 0.33],\n",
       "       [0.  , 0.94],\n",
       "       [0.  , 0.  ]], dtype=float32)"
      ]
     },
     "execution_count": 38,
     "metadata": {},
     "output_type": "execute_result"
    }
   ],
   "source": [
    "a=np.array( [[1.  , 0., 0], \n",
    "       [0.33, .94, 0  ]], dtype=np.float32).T\n",
    "a"
   ]
  },
  {
   "cell_type": "code",
   "execution_count": null,
   "metadata": {},
   "outputs": [],
   "source": []
  },
  {
   "cell_type": "code",
   "execution_count": 39,
   "metadata": {},
   "outputs": [
    {
     "data": {
      "text/plain": [
       "array([[1.  , 0.33],\n",
       "       [0.33, 0.99]], dtype=float32)"
      ]
     },
     "execution_count": 39,
     "metadata": {},
     "output_type": "execute_result"
    }
   ],
   "source": [
    "a.T @ a"
   ]
  },
  {
   "cell_type": "code",
   "execution_count": 40,
   "metadata": {},
   "outputs": [
    {
     "ename": "ValueError",
     "evalue": "matmul: Input operand 1 has a mismatch in its core dimension 0, with gufunc signature (n?,k),(k,m?)->(n?,m?) (size 3 is different from 2)",
     "output_type": "error",
     "traceback": [
      "\u001b[1;31m---------------------------------------------\u001b[0m",
      "\u001b[1;31mValueError\u001b[0m  Traceback (most recent call last)",
      "Cell \u001b[1;32mIn[40], line 2\u001b[0m\n\u001b[0;32m      1\u001b[0m \u001b[38;5;66;03m##b=a@ qa\u001b[39;00m\n\u001b[1;32m----> 2\u001b[0m b\u001b[38;5;241m=\u001b[39m\u001b[43mqa\u001b[49m\u001b[38;5;241;43m@\u001b[39;49m\u001b[43m \u001b[49m\u001b[43ma\u001b[49m\n",
      "\u001b[1;31mValueError\u001b[0m: matmul: Input operand 1 has a mismatch in its core dimension 0, with gufunc signature (n?,k),(k,m?)->(n?,m?) (size 3 is different from 2)"
     ]
    }
   ],
   "source": [
    "##b=a@ qa\n",
    "b=qa@ a\n"
   ]
  },
  {
   "cell_type": "code",
   "execution_count": 42,
   "metadata": {},
   "outputs": [],
   "source": [
    "\n",
    "b=a"
   ]
  },
  {
   "cell_type": "code",
   "execution_count": 43,
   "metadata": {},
   "outputs": [
    {
     "data": {
      "text/plain": [
       "array([[1.  , 0.33],\n",
       "       [0.33, 0.99]], dtype=float32)"
      ]
     },
     "execution_count": 43,
     "metadata": {},
     "output_type": "execute_result"
    }
   ],
   "source": [
    "b.T@b"
   ]
  },
  {
   "cell_type": "code",
   "execution_count": 30,
   "metadata": {},
   "outputs": [
    {
     "data": {
      "text/plain": [
       "array([[1.00e+00, 7.15e-09],\n",
       "       [7.15e-09, 1.00e+00]], dtype=float32)"
      ]
     },
     "execution_count": 30,
     "metadata": {},
     "output_type": "execute_result"
    }
   ],
   "source": [
    "qa.T@qa"
   ]
  },
  {
   "cell_type": "code",
   "execution_count": 31,
   "metadata": {},
   "outputs": [
    {
     "data": {
      "text/plain": [
       "array([[ 1.00e+00, -7.15e-09],\n",
       "       [-7.15e-09,  1.00e+00]], dtype=float32)"
      ]
     },
     "execution_count": 31,
     "metadata": {},
     "output_type": "execute_result"
    }
   ],
   "source": [
    "qa@qa.T"
   ]
  },
  {
   "cell_type": "code",
   "execution_count": 44,
   "metadata": {},
   "outputs": [
    {
     "data": {
      "text/plain": [
       "(array([[ 1.,  0.],\n",
       "        [-0.,  1.],\n",
       "        [-0., -0.]], dtype=float32),\n",
       " array([[1.  , 0.33],\n",
       "        [0.  , 0.94]], dtype=float32))"
      ]
     },
     "execution_count": 44,
     "metadata": {},
     "output_type": "execute_result"
    }
   ],
   "source": [
    "q,r=np.linalg.qr(b)\n",
    "q,r"
   ]
  },
  {
   "cell_type": "code",
   "execution_count": null,
   "metadata": {},
   "outputs": [],
   "source": []
  },
  {
   "cell_type": "markdown",
   "metadata": {},
   "source": [
    "# svd\n",
    "https://numpy.org/doc/stable/reference/generated/numpy.linalg.svd.html"
   ]
  },
  {
   "cell_type": "code",
   "execution_count": 20,
   "metadata": {},
   "outputs": [
    {
     "data": {
      "text/plain": [
       "array([0., 1., 1., 0.])"
      ]
     },
     "execution_count": 20,
     "metadata": {},
     "output_type": "execute_result"
    }
   ],
   "source": [
    "np.fromstring('''0 1 1 0''', sep=' ')"
   ]
  },
  {
   "cell_type": "code",
   "execution_count": 74,
   "metadata": {},
   "outputs": [],
   "source": [
    "a=np.array([\n",
    "        0.0, 1, 1, 0,\n",
    "#        0.0, 1, 0, 0,\n",
    "            \n",
    "         1, 0, 0, 1,\n",
    "#         0, 0, 0, 1,\n",
    "            \n",
    "#         1, 0, 0, 0,\n",
    "         1, 0, 0, 0,\n",
    "            \n",
    "         0, 1, 1, 0,\n",
    "#         0, 0, 1, 1,\n",
    "#         0, 0, 1, 1.7,\n",
    "         ]).reshape(4,-1)  # .T"
   ]
  },
  {
   "cell_type": "code",
   "execution_count": 83,
   "metadata": {},
   "outputs": [
    {
     "data": {
      "text/plain": [
       "(array([[0., 1., 1., 0.],\n",
       "        [1., 0., 0., 1.],\n",
       "        [1., 0., 0., 0.],\n",
       "        [0., 1., 1., 0.]]),\n",
       " array([[ 0.71,  0.  ,  0.  , -0.71],\n",
       "        [-0.  , -0.85, -0.53, -0.  ],\n",
       "        [-0.  , -0.53,  0.85,  0.  ],\n",
       "        [ 0.71,  0.  ,  0.  ,  0.71]]),\n",
       " array([2.  , 1.62, 0.62, 0.  ]),\n",
       " array([[ 0.  ,  0.71,  0.71,  0.  ],\n",
       "        [-0.85,  0.  ,  0.  , -0.53],\n",
       "        [ 0.53,  0.  ,  0.  , -0.85],\n",
       "        [-0.  , -0.71,  0.71,  0.  ]]))"
      ]
     },
     "execution_count": 83,
     "metadata": {},
     "output_type": "execute_result"
    }
   ],
   "source": [
    "U, S, Vh = np.linalg.svd(a \n",
    "                         , full_matrices=False \n",
    "                         #, full_matrices=True\n",
    "                        )\n",
    "U.shape, S.shape, Vh.shape\n",
    "a,U, S, Vh"
   ]
  },
  {
   "cell_type": "code",
   "execution_count": 71,
   "metadata": {
    "collapsed": true,
    "jupyter": {
     "outputs_hidden": true
    },
    "tags": []
   },
   "outputs": [
    {
     "data": {
      "text/plain": [
       "(array([[ 1.,  0., -0., -0.],\n",
       "        [ 0.,  1.,  0.,  0.],\n",
       "        [-0.,  0.,  1.,  0.],\n",
       "        [-0.,  0.,  0.,  1.]]),)"
      ]
     },
     "execution_count": 71,
     "metadata": {},
     "output_type": "execute_result"
    }
   ],
   "source": [
    " U.T@U, # U@U.T,\n"
   ]
  },
  {
   "cell_type": "code",
   "execution_count": 64,
   "metadata": {
    "collapsed": true,
    "jupyter": {
     "outputs_hidden": true
    },
    "tags": []
   },
   "outputs": [
    {
     "data": {
      "text/plain": [
       "(array([[ 1.,  0.,  0., -0.],\n",
       "        [ 0.,  1., -0.,  0.],\n",
       "        [ 0., -0.,  1.,  0.],\n",
       "        [-0.,  0.,  0.,  1.]]),\n",
       " array([[ 0.75,  0.25, -0.25,  0.25, -0.  ],\n",
       "        [ 0.25,  0.75,  0.25, -0.25,  0.  ],\n",
       "        [-0.25,  0.25,  0.75,  0.25,  0.  ],\n",
       "        [ 0.25, -0.25,  0.25,  0.75, -0.  ],\n",
       "        [-0.  ,  0.  ,  0.  , -0.  ,  1.  ]]))"
      ]
     },
     "execution_count": 64,
     "metadata": {},
     "output_type": "execute_result"
    }
   ],
   "source": [
    "Vh@Vh.T  #, Vh.T@Vh"
   ]
  },
  {
   "cell_type": "code",
   "execution_count": 66,
   "metadata": {
    "collapsed": true,
    "jupyter": {
     "outputs_hidden": true
    },
    "tags": []
   },
   "outputs": [
    {
     "data": {
      "text/plain": [
       "(array([[ 0.07, -0.73, -0.65,  0.18],\n",
       "        [ 0.26, -0.64,  0.65, -0.32],\n",
       "        [ 0.32,  0.16, -0.38, -0.85],\n",
       "        [ 0.91,  0.18,  0.  ,  0.38]]),\n",
       " array([2.4 , 1.69, 1.  , 0.49]),\n",
       " array([[ 0.38,  0.03,  0.14,  0.49,  0.78],\n",
       "        [ 0.11, -0.43, -0.81, -0.27,  0.28],\n",
       "        [ 0.  , -0.65,  0.  ,  0.65, -0.38],\n",
       "        [ 0.77,  0.37, -0.28,  0.12, -0.42]]))"
      ]
     },
     "execution_count": 66,
     "metadata": {},
     "output_type": "execute_result"
    }
   ],
   "source": [
    "U, S, Vh = np.linalg.svd(a, full_matrices=False)\n",
    "U.shape, S.shape, Vh.shape\n",
    "U, S, Vh"
   ]
  },
  {
   "cell_type": "code",
   "execution_count": 76,
   "metadata": {},
   "outputs": [
    {
     "data": {
      "text/plain": [
       "array([[ 0.,  1.,  1., -0.],\n",
       "       [ 1., -0., -0.,  1.],\n",
       "       [ 1., -0., -0.,  0.],\n",
       "       [ 0.,  1.,  1.,  0.]])"
      ]
     },
     "execution_count": 76,
     "metadata": {},
     "output_type": "execute_result"
    }
   ],
   "source": [
    "(U*S) @ Vh"
   ]
  },
  {
   "cell_type": "code",
   "execution_count": 118,
   "metadata": {},
   "outputs": [
    {
     "data": {
      "text/plain": [
       "array([[ 0.  ,  1.41,  1.41, -0.  ],\n",
       "       [ 1.21, -0.  , -0.  ,  1.65],\n",
       "       [ 1.13, -0.  , -0.  ,  0.4 ],\n",
       "       [ 0.  ,  1.41,  1.41,  0.  ]])"
      ]
     },
     "execution_count": 118,
     "metadata": {},
     "output_type": "execute_result"
    }
   ],
   "source": [
    "d=3\n",
    "(U[:,:d] * S[:d]) @ Vh[:d]"
   ]
  },
  {
   "cell_type": "code",
   "execution_count": 119,
   "metadata": {},
   "outputs": [
    {
     "data": {
      "text/plain": [
       "array([[ 1.  , -0.  , -0.  ,  1.  ],\n",
       "       [-0.  ,  1.  ,  0.71, -0.  ],\n",
       "       [-0.  ,  0.71,  1.  , -0.  ],\n",
       "       [ 1.  , -0.  , -0.  ,  1.  ]])"
      ]
     },
     "execution_count": 119,
     "metadata": {},
     "output_type": "execute_result"
    }
   ],
   "source": [
    "x=U[:,:d]\n",
    "x / np.linalg.norm(x, axis=1)[:, None] * S[:d]\n",
    "cosine_similarity(x* S[:d])\n",
    "\n",
    "#np.dot(x.T,  x)\n",
    "#np.dot(x[:,0],  x[:,1])\n",
    "#x@ x.T"
   ]
  },
  {
   "cell_type": "code",
   "execution_count": 120,
   "metadata": {},
   "outputs": [
    {
     "data": {
      "text/plain": [
       "array([[1.  , 0.  , 0.  , 0.87],\n",
       "       [0.  , 1.  , 1.  , 0.  ],\n",
       "       [0.  , 1.  , 1.  , 0.  ],\n",
       "       [0.87, 0.  , 0.  , 1.  ]])"
      ]
     },
     "execution_count": 120,
     "metadata": {},
     "output_type": "execute_result"
    }
   ],
   "source": [
    "x=Vh[:d]\n",
    "#x /= np.linalg.norm(x, axis=0)\n",
    "x.T @ x\n",
    "cosine_similarity( S[:d] * x.T)\n",
    "#x"
   ]
  },
  {
   "cell_type": "code",
   "execution_count": null,
   "metadata": {},
   "outputs": [],
   "source": []
  },
  {
   "cell_type": "code",
   "execution_count": 121,
   "metadata": {},
   "outputs": [
    {
     "data": {
      "text/plain": [
       "array([[ 1.  ,  0.95, -0.16],\n",
       "       [ 0.95,  1.  ,  0.16],\n",
       "       [-0.16,  0.16,  1.  ]])"
      ]
     },
     "execution_count": 121,
     "metadata": {},
     "output_type": "execute_result"
    }
   ],
   "source": [
    "np.corrcoef(U[:,:d].T)"
   ]
  },
  {
   "cell_type": "code",
   "execution_count": 122,
   "metadata": {},
   "outputs": [
    {
     "data": {
      "text/plain": [
       "array([[ 1.  ,  0.93, -0.14,  1.  ],\n",
       "       [ 0.93,  1.  ,  0.25,  0.93],\n",
       "       [-0.14,  0.25,  1.  , -0.14],\n",
       "       [ 1.  ,  0.93, -0.14,  1.  ]])"
      ]
     },
     "execution_count": 122,
     "metadata": {},
     "output_type": "execute_result"
    }
   ],
   "source": [
    "np.corrcoef(U[:,:d])"
   ]
  },
  {
   "cell_type": "code",
   "execution_count": 123,
   "metadata": {},
   "outputs": [
    {
     "data": {
      "text/plain": [
       "array([[ 0.17,  0.16, -0.04],\n",
       "       [ 0.16,  0.18,  0.04],\n",
       "       [-0.04,  0.04,  0.32]])"
      ]
     },
     "execution_count": 123,
     "metadata": {},
     "output_type": "execute_result"
    }
   ],
   "source": [
    "np.cov(U[:,:d].T)"
   ]
  },
  {
   "cell_type": "code",
   "execution_count": 124,
   "metadata": {},
   "outputs": [
    {
     "data": {
      "text/plain": [
       "array([[ 0.17,  0.16, -0.04,  0.17],\n",
       "       [ 0.16,  0.18,  0.07,  0.16],\n",
       "       [-0.04,  0.07,  0.48, -0.04],\n",
       "       [ 0.17,  0.16, -0.04,  0.17]])"
      ]
     },
     "execution_count": 124,
     "metadata": {},
     "output_type": "execute_result"
    }
   ],
   "source": [
    "np.cov(U[:,:d])"
   ]
  },
  {
   "cell_type": "code",
   "execution_count": null,
   "metadata": {},
   "outputs": [],
   "source": []
  },
  {
   "cell_type": "markdown",
   "metadata": {
    "tags": []
   },
   "source": [
    "\n",
    "# PCA example with Iris Data-set\n",
    "\n",
    "Principal Component Analysis applied to the Iris dataset.\n",
    "\n",
    "See [here](https://en.wikipedia.org/wiki/Iris_flower_data_set) for more\n",
    "information on this dataset.\n"
   ]
  },
  {
   "cell_type": "code",
   "execution_count": 41,
   "metadata": {
    "tags": []
   },
   "outputs": [],
   "source": [
    "# Code source: Gaël Varoquaux\n",
    "# License: BSD 3 clause\n",
    "\n",
    "import numpy as np\n",
    "import matplotlib.pyplot as plt\n",
    "\n",
    "from mpl_toolkits.mplot3d import Axes3D\n",
    "\n",
    "from sklearn import decomposition\n",
    "from sklearn import datasets\n",
    "\n",
    "# unused but required import for doing 3d projections with matplotlib < 3.2\n",
    "#import mpl_toolkits.mplot3d  # noqa: F401\n",
    "\n",
    "np.random.seed(5)\n",
    "\n",
    "iris = datasets.load_iris()\n",
    "X = iris.data\n",
    "y = iris.target"
   ]
  },
  {
   "cell_type": "code",
   "execution_count": null,
   "metadata": {},
   "outputs": [],
   "source": []
  },
  {
   "cell_type": "code",
   "execution_count": 53,
   "metadata": {},
   "outputs": [
    {
     "name": "stdout",
     "output_type": "stream",
     "text": [
      "warning: Embedding dir exists, did you set global_step for add_embedding()?\n"
     ]
    }
   ],
   "source": [
    "\n",
    "# add embedding projector data to summary\n",
    "writer.add_embedding(iris.data, metadata=y)\n",
    "\n",
    "# close writer\n",
    "#writer.close()"
   ]
  },
  {
   "cell_type": "code",
   "execution_count": null,
   "metadata": {},
   "outputs": [],
   "source": []
  },
  {
   "cell_type": "code",
   "execution_count": null,
   "metadata": {},
   "outputs": [],
   "source": []
  },
  {
   "cell_type": "code",
   "execution_count": null,
   "metadata": {},
   "outputs": [],
   "source": []
  },
  {
   "cell_type": "code",
   "execution_count": null,
   "metadata": {},
   "outputs": [],
   "source": []
  },
  {
   "cell_type": "code",
   "execution_count": null,
   "metadata": {},
   "outputs": [],
   "source": []
  },
  {
   "cell_type": "code",
   "execution_count": null,
   "metadata": {},
   "outputs": [],
   "source": []
  },
  {
   "cell_type": "code",
   "execution_count": 18,
   "metadata": {},
   "outputs": [
    {
     "name": "stdout",
     "output_type": "stream",
     "text": [
      "Available matplotlib backends: ['tk', 'gtk', 'gtk3', 'gtk4', 'wx', 'qt4', 'qt5', 'qt6', 'qt', 'osx', 'nbagg', 'webagg', 'notebook', 'agg', 'svg', 'pdf', 'ps', 'inline', 'ipympl', 'widget']\n"
     ]
    }
   ],
   "source": [
    "%matplotlib --list"
   ]
  },
  {
   "cell_type": "code",
   "execution_count": null,
   "metadata": {},
   "outputs": [],
   "source": []
  },
  {
   "cell_type": "code",
   "execution_count": 16,
   "metadata": {},
   "outputs": [],
   "source": [
    "##%matplotlib inline\n",
    "%matplotlib widget\n"
   ]
  },
  {
   "cell_type": "code",
   "execution_count": 14,
   "metadata": {},
   "outputs": [],
   "source": []
  },
  {
   "cell_type": "code",
   "execution_count": null,
   "metadata": {},
   "outputs": [],
   "source": []
  },
  {
   "cell_type": "code",
   "execution_count": null,
   "metadata": {},
   "outputs": [],
   "source": []
  },
  {
   "cell_type": "markdown",
   "metadata": {
    "tags": []
   },
   "source": [
    "## kjfdgfd"
   ]
  },
  {
   "cell_type": "code",
   "execution_count": null,
   "metadata": {},
   "outputs": [],
   "source": []
  },
  {
   "cell_type": "code",
   "execution_count": 4,
   "metadata": {},
   "outputs": [
    {
     "data": {
      "text/plain": [
       "array([[5.1, 3.5, 1.4, 0.2],\n",
       "       [4.9, 3. , 1.4, 0.2],\n",
       "       [4.7, 3.2, 1.3, 0.2],\n",
       "       [4.6, 3.1, 1.5, 0.2],\n",
       "       [5. , 3.6, 1.4, 0.2],\n",
       "       [5.4, 3.9, 1.7, 0.4],\n",
       "       [4.6, 3.4, 1.4, 0.3],\n",
       "       [5. , 3.4, 1.5, 0.2],\n",
       "       [4.4, 2.9, 1.4, 0.2],\n",
       "       [4.9, 3.1, 1.5, 0.1],\n",
       "       [5.4, 3.7, 1.5, 0.2],\n",
       "       [4.8, 3.4, 1.6, 0.2],\n",
       "       [4.8, 3. , 1.4, 0.1],\n",
       "       [4.3, 3. , 1.1, 0.1],\n",
       "       [5.8, 4. , 1.2, 0.2],\n",
       "       [5.7, 4.4, 1.5, 0.4],\n",
       "       [5.4, 3.9, 1.3, 0.4],\n",
       "       [5.1, 3.5, 1.4, 0.3],\n",
       "       [5.7, 3.8, 1.7, 0.3],\n",
       "       [5.1, 3.8, 1.5, 0.3],\n",
       "       [5.4, 3.4, 1.7, 0.2],\n",
       "       [5.1, 3.7, 1.5, 0.4],\n",
       "       [4.6, 3.6, 1. , 0.2],\n",
       "       [5.1, 3.3, 1.7, 0.5],\n",
       "       [4.8, 3.4, 1.9, 0.2],\n",
       "       [5. , 3. , 1.6, 0.2],\n",
       "       [5. , 3.4, 1.6, 0.4],\n",
       "       [5.2, 3.5, 1.5, 0.2],\n",
       "       [5.2, 3.4, 1.4, 0.2],\n",
       "       [4.7, 3.2, 1.6, 0.2],\n",
       "       [4.8, 3.1, 1.6, 0.2],\n",
       "       [5.4, 3.4, 1.5, 0.4],\n",
       "       [5.2, 4.1, 1.5, 0.1],\n",
       "       [5.5, 4.2, 1.4, 0.2],\n",
       "       [4.9, 3.1, 1.5, 0.2],\n",
       "       [5. , 3.2, 1.2, 0.2],\n",
       "       [5.5, 3.5, 1.3, 0.2],\n",
       "       [4.9, 3.6, 1.4, 0.1],\n",
       "       [4.4, 3. , 1.3, 0.2],\n",
       "       [5.1, 3.4, 1.5, 0.2],\n",
       "       [5. , 3.5, 1.3, 0.3],\n",
       "       [4.5, 2.3, 1.3, 0.3],\n",
       "       [4.4, 3.2, 1.3, 0.2],\n",
       "       [5. , 3.5, 1.6, 0.6],\n",
       "       [5.1, 3.8, 1.9, 0.4],\n",
       "       [4.8, 3. , 1.4, 0.3],\n",
       "       [5.1, 3.8, 1.6, 0.2],\n",
       "       [4.6, 3.2, 1.4, 0.2],\n",
       "       [5.3, 3.7, 1.5, 0.2],\n",
       "       [5. , 3.3, 1.4, 0.2],\n",
       "       [7. , 3.2, 4.7, 1.4],\n",
       "       [6.4, 3.2, 4.5, 1.5],\n",
       "       [6.9, 3.1, 4.9, 1.5],\n",
       "       [5.5, 2.3, 4. , 1.3],\n",
       "       [6.5, 2.8, 4.6, 1.5],\n",
       "       [5.7, 2.8, 4.5, 1.3],\n",
       "       [6.3, 3.3, 4.7, 1.6],\n",
       "       [4.9, 2.4, 3.3, 1. ],\n",
       "       [6.6, 2.9, 4.6, 1.3],\n",
       "       [5.2, 2.7, 3.9, 1.4],\n",
       "       [5. , 2. , 3.5, 1. ],\n",
       "       [5.9, 3. , 4.2, 1.5],\n",
       "       [6. , 2.2, 4. , 1. ],\n",
       "       [6.1, 2.9, 4.7, 1.4],\n",
       "       [5.6, 2.9, 3.6, 1.3],\n",
       "       [6.7, 3.1, 4.4, 1.4],\n",
       "       [5.6, 3. , 4.5, 1.5],\n",
       "       [5.8, 2.7, 4.1, 1. ],\n",
       "       [6.2, 2.2, 4.5, 1.5],\n",
       "       [5.6, 2.5, 3.9, 1.1],\n",
       "       [5.9, 3.2, 4.8, 1.8],\n",
       "       [6.1, 2.8, 4. , 1.3],\n",
       "       [6.3, 2.5, 4.9, 1.5],\n",
       "       [6.1, 2.8, 4.7, 1.2],\n",
       "       [6.4, 2.9, 4.3, 1.3],\n",
       "       [6.6, 3. , 4.4, 1.4],\n",
       "       [6.8, 2.8, 4.8, 1.4],\n",
       "       [6.7, 3. , 5. , 1.7],\n",
       "       [6. , 2.9, 4.5, 1.5],\n",
       "       [5.7, 2.6, 3.5, 1. ],\n",
       "       [5.5, 2.4, 3.8, 1.1],\n",
       "       [5.5, 2.4, 3.7, 1. ],\n",
       "       [5.8, 2.7, 3.9, 1.2],\n",
       "       [6. , 2.7, 5.1, 1.6],\n",
       "       [5.4, 3. , 4.5, 1.5],\n",
       "       [6. , 3.4, 4.5, 1.6],\n",
       "       [6.7, 3.1, 4.7, 1.5],\n",
       "       [6.3, 2.3, 4.4, 1.3],\n",
       "       [5.6, 3. , 4.1, 1.3],\n",
       "       [5.5, 2.5, 4. , 1.3],\n",
       "       [5.5, 2.6, 4.4, 1.2],\n",
       "       [6.1, 3. , 4.6, 1.4],\n",
       "       [5.8, 2.6, 4. , 1.2],\n",
       "       [5. , 2.3, 3.3, 1. ],\n",
       "       [5.6, 2.7, 4.2, 1.3],\n",
       "       [5.7, 3. , 4.2, 1.2],\n",
       "       [5.7, 2.9, 4.2, 1.3],\n",
       "       [6.2, 2.9, 4.3, 1.3],\n",
       "       [5.1, 2.5, 3. , 1.1],\n",
       "       [5.7, 2.8, 4.1, 1.3],\n",
       "       [6.3, 3.3, 6. , 2.5],\n",
       "       [5.8, 2.7, 5.1, 1.9],\n",
       "       [7.1, 3. , 5.9, 2.1],\n",
       "       [6.3, 2.9, 5.6, 1.8],\n",
       "       [6.5, 3. , 5.8, 2.2],\n",
       "       [7.6, 3. , 6.6, 2.1],\n",
       "       [4.9, 2.5, 4.5, 1.7],\n",
       "       [7.3, 2.9, 6.3, 1.8],\n",
       "       [6.7, 2.5, 5.8, 1.8],\n",
       "       [7.2, 3.6, 6.1, 2.5],\n",
       "       [6.5, 3.2, 5.1, 2. ],\n",
       "       [6.4, 2.7, 5.3, 1.9],\n",
       "       [6.8, 3. , 5.5, 2.1],\n",
       "       [5.7, 2.5, 5. , 2. ],\n",
       "       [5.8, 2.8, 5.1, 2.4],\n",
       "       [6.4, 3.2, 5.3, 2.3],\n",
       "       [6.5, 3. , 5.5, 1.8],\n",
       "       [7.7, 3.8, 6.7, 2.2],\n",
       "       [7.7, 2.6, 6.9, 2.3],\n",
       "       [6. , 2.2, 5. , 1.5],\n",
       "       [6.9, 3.2, 5.7, 2.3],\n",
       "       [5.6, 2.8, 4.9, 2. ],\n",
       "       [7.7, 2.8, 6.7, 2. ],\n",
       "       [6.3, 2.7, 4.9, 1.8],\n",
       "       [6.7, 3.3, 5.7, 2.1],\n",
       "       [7.2, 3.2, 6. , 1.8],\n",
       "       [6.2, 2.8, 4.8, 1.8],\n",
       "       [6.1, 3. , 4.9, 1.8],\n",
       "       [6.4, 2.8, 5.6, 2.1],\n",
       "       [7.2, 3. , 5.8, 1.6],\n",
       "       [7.4, 2.8, 6.1, 1.9],\n",
       "       [7.9, 3.8, 6.4, 2. ],\n",
       "       [6.4, 2.8, 5.6, 2.2],\n",
       "       [6.3, 2.8, 5.1, 1.5],\n",
       "       [6.1, 2.6, 5.6, 1.4],\n",
       "       [7.7, 3. , 6.1, 2.3],\n",
       "       [6.3, 3.4, 5.6, 2.4],\n",
       "       [6.4, 3.1, 5.5, 1.8],\n",
       "       [6. , 3. , 4.8, 1.8],\n",
       "       [6.9, 3.1, 5.4, 2.1],\n",
       "       [6.7, 3.1, 5.6, 2.4],\n",
       "       [6.9, 3.1, 5.1, 2.3],\n",
       "       [5.8, 2.7, 5.1, 1.9],\n",
       "       [6.8, 3.2, 5.9, 2.3],\n",
       "       [6.7, 3.3, 5.7, 2.5],\n",
       "       [6.7, 3. , 5.2, 2.3],\n",
       "       [6.3, 2.5, 5. , 1.9],\n",
       "       [6.5, 3. , 5.2, 2. ],\n",
       "       [6.2, 3.4, 5.4, 2.3],\n",
       "       [5.9, 3. , 5.1, 1.8]])"
      ]
     },
     "execution_count": 4,
     "metadata": {},
     "output_type": "execute_result"
    }
   ],
   "source": [
    "X"
   ]
  },
  {
   "cell_type": "code",
   "execution_count": 5,
   "metadata": {},
   "outputs": [
    {
     "data": {
      "text/plain": [
       "array([[5.1, 3.5, 1.4, 0.2],\n",
       "       [4.9, 3. , 1.4, 0.2],\n",
       "       [4.7, 3.2, 1.3, 0.2],\n",
       "       [4.6, 3.1, 1.5, 0.2],\n",
       "       [5. , 3.6, 1.4, 0.2],\n",
       "       [5.4, 3.9, 1.7, 0.4],\n",
       "       [4.6, 3.4, 1.4, 0.3],\n",
       "       [5. , 3.4, 1.5, 0.2],\n",
       "       [4.4, 2.9, 1.4, 0.2],\n",
       "       [4.9, 3.1, 1.5, 0.1],\n",
       "       [5.4, 3.7, 1.5, 0.2],\n",
       "       [4.8, 3.4, 1.6, 0.2],\n",
       "       [4.8, 3. , 1.4, 0.1],\n",
       "       [4.3, 3. , 1.1, 0.1],\n",
       "       [5.8, 4. , 1.2, 0.2],\n",
       "       [5.7, 4.4, 1.5, 0.4],\n",
       "       [5.4, 3.9, 1.3, 0.4],\n",
       "       [5.1, 3.5, 1.4, 0.3],\n",
       "       [5.7, 3.8, 1.7, 0.3],\n",
       "       [5.1, 3.8, 1.5, 0.3],\n",
       "       [5.4, 3.4, 1.7, 0.2],\n",
       "       [5.1, 3.7, 1.5, 0.4],\n",
       "       [4.6, 3.6, 1. , 0.2],\n",
       "       [5.1, 3.3, 1.7, 0.5],\n",
       "       [4.8, 3.4, 1.9, 0.2],\n",
       "       [5. , 3. , 1.6, 0.2],\n",
       "       [5. , 3.4, 1.6, 0.4],\n",
       "       [5.2, 3.5, 1.5, 0.2],\n",
       "       [5.2, 3.4, 1.4, 0.2],\n",
       "       [4.7, 3.2, 1.6, 0.2],\n",
       "       [4.8, 3.1, 1.6, 0.2],\n",
       "       [5.4, 3.4, 1.5, 0.4],\n",
       "       [5.2, 4.1, 1.5, 0.1],\n",
       "       [5.5, 4.2, 1.4, 0.2],\n",
       "       [4.9, 3.1, 1.5, 0.2],\n",
       "       [5. , 3.2, 1.2, 0.2],\n",
       "       [5.5, 3.5, 1.3, 0.2],\n",
       "       [4.9, 3.6, 1.4, 0.1],\n",
       "       [4.4, 3. , 1.3, 0.2],\n",
       "       [5.1, 3.4, 1.5, 0.2],\n",
       "       [5. , 3.5, 1.3, 0.3],\n",
       "       [4.5, 2.3, 1.3, 0.3],\n",
       "       [4.4, 3.2, 1.3, 0.2],\n",
       "       [5. , 3.5, 1.6, 0.6],\n",
       "       [5.1, 3.8, 1.9, 0.4],\n",
       "       [4.8, 3. , 1.4, 0.3],\n",
       "       [5.1, 3.8, 1.6, 0.2],\n",
       "       [4.6, 3.2, 1.4, 0.2],\n",
       "       [5.3, 3.7, 1.5, 0.2],\n",
       "       [5. , 3.3, 1.4, 0.2],\n",
       "       [7. , 3.2, 4.7, 1.4],\n",
       "       [6.4, 3.2, 4.5, 1.5],\n",
       "       [6.9, 3.1, 4.9, 1.5],\n",
       "       [5.5, 2.3, 4. , 1.3],\n",
       "       [6.5, 2.8, 4.6, 1.5],\n",
       "       [5.7, 2.8, 4.5, 1.3],\n",
       "       [6.3, 3.3, 4.7, 1.6],\n",
       "       [4.9, 2.4, 3.3, 1. ],\n",
       "       [6.6, 2.9, 4.6, 1.3],\n",
       "       [5.2, 2.7, 3.9, 1.4],\n",
       "       [5. , 2. , 3.5, 1. ],\n",
       "       [5.9, 3. , 4.2, 1.5],\n",
       "       [6. , 2.2, 4. , 1. ],\n",
       "       [6.1, 2.9, 4.7, 1.4],\n",
       "       [5.6, 2.9, 3.6, 1.3],\n",
       "       [6.7, 3.1, 4.4, 1.4],\n",
       "       [5.6, 3. , 4.5, 1.5],\n",
       "       [5.8, 2.7, 4.1, 1. ],\n",
       "       [6.2, 2.2, 4.5, 1.5],\n",
       "       [5.6, 2.5, 3.9, 1.1],\n",
       "       [5.9, 3.2, 4.8, 1.8],\n",
       "       [6.1, 2.8, 4. , 1.3],\n",
       "       [6.3, 2.5, 4.9, 1.5],\n",
       "       [6.1, 2.8, 4.7, 1.2],\n",
       "       [6.4, 2.9, 4.3, 1.3],\n",
       "       [6.6, 3. , 4.4, 1.4],\n",
       "       [6.8, 2.8, 4.8, 1.4],\n",
       "       [6.7, 3. , 5. , 1.7],\n",
       "       [6. , 2.9, 4.5, 1.5],\n",
       "       [5.7, 2.6, 3.5, 1. ],\n",
       "       [5.5, 2.4, 3.8, 1.1],\n",
       "       [5.5, 2.4, 3.7, 1. ],\n",
       "       [5.8, 2.7, 3.9, 1.2],\n",
       "       [6. , 2.7, 5.1, 1.6],\n",
       "       [5.4, 3. , 4.5, 1.5],\n",
       "       [6. , 3.4, 4.5, 1.6],\n",
       "       [6.7, 3.1, 4.7, 1.5],\n",
       "       [6.3, 2.3, 4.4, 1.3],\n",
       "       [5.6, 3. , 4.1, 1.3],\n",
       "       [5.5, 2.5, 4. , 1.3],\n",
       "       [5.5, 2.6, 4.4, 1.2],\n",
       "       [6.1, 3. , 4.6, 1.4],\n",
       "       [5.8, 2.6, 4. , 1.2],\n",
       "       [5. , 2.3, 3.3, 1. ],\n",
       "       [5.6, 2.7, 4.2, 1.3],\n",
       "       [5.7, 3. , 4.2, 1.2],\n",
       "       [5.7, 2.9, 4.2, 1.3],\n",
       "       [6.2, 2.9, 4.3, 1.3],\n",
       "       [5.1, 2.5, 3. , 1.1],\n",
       "       [5.7, 2.8, 4.1, 1.3],\n",
       "       [6.3, 3.3, 6. , 2.5],\n",
       "       [5.8, 2.7, 5.1, 1.9],\n",
       "       [7.1, 3. , 5.9, 2.1],\n",
       "       [6.3, 2.9, 5.6, 1.8],\n",
       "       [6.5, 3. , 5.8, 2.2],\n",
       "       [7.6, 3. , 6.6, 2.1],\n",
       "       [4.9, 2.5, 4.5, 1.7],\n",
       "       [7.3, 2.9, 6.3, 1.8],\n",
       "       [6.7, 2.5, 5.8, 1.8],\n",
       "       [7.2, 3.6, 6.1, 2.5],\n",
       "       [6.5, 3.2, 5.1, 2. ],\n",
       "       [6.4, 2.7, 5.3, 1.9],\n",
       "       [6.8, 3. , 5.5, 2.1],\n",
       "       [5.7, 2.5, 5. , 2. ],\n",
       "       [5.8, 2.8, 5.1, 2.4],\n",
       "       [6.4, 3.2, 5.3, 2.3],\n",
       "       [6.5, 3. , 5.5, 1.8],\n",
       "       [7.7, 3.8, 6.7, 2.2],\n",
       "       [7.7, 2.6, 6.9, 2.3],\n",
       "       [6. , 2.2, 5. , 1.5],\n",
       "       [6.9, 3.2, 5.7, 2.3],\n",
       "       [5.6, 2.8, 4.9, 2. ],\n",
       "       [7.7, 2.8, 6.7, 2. ],\n",
       "       [6.3, 2.7, 4.9, 1.8],\n",
       "       [6.7, 3.3, 5.7, 2.1],\n",
       "       [7.2, 3.2, 6. , 1.8],\n",
       "       [6.2, 2.8, 4.8, 1.8],\n",
       "       [6.1, 3. , 4.9, 1.8],\n",
       "       [6.4, 2.8, 5.6, 2.1],\n",
       "       [7.2, 3. , 5.8, 1.6],\n",
       "       [7.4, 2.8, 6.1, 1.9],\n",
       "       [7.9, 3.8, 6.4, 2. ],\n",
       "       [6.4, 2.8, 5.6, 2.2],\n",
       "       [6.3, 2.8, 5.1, 1.5],\n",
       "       [6.1, 2.6, 5.6, 1.4],\n",
       "       [7.7, 3. , 6.1, 2.3],\n",
       "       [6.3, 3.4, 5.6, 2.4],\n",
       "       [6.4, 3.1, 5.5, 1.8],\n",
       "       [6. , 3. , 4.8, 1.8],\n",
       "       [6.9, 3.1, 5.4, 2.1],\n",
       "       [6.7, 3.1, 5.6, 2.4],\n",
       "       [6.9, 3.1, 5.1, 2.3],\n",
       "       [5.8, 2.7, 5.1, 1.9],\n",
       "       [6.8, 3.2, 5.9, 2.3],\n",
       "       [6.7, 3.3, 5.7, 2.5],\n",
       "       [6.7, 3. , 5.2, 2.3],\n",
       "       [6.3, 2.5, 5. , 1.9],\n",
       "       [6.5, 3. , 5.2, 2. ],\n",
       "       [6.2, 3.4, 5.4, 2.3],\n",
       "       [5.9, 3. , 5.1, 1.8]])"
      ]
     },
     "execution_count": 5,
     "metadata": {},
     "output_type": "execute_result"
    }
   ],
   "source": [
    "X"
   ]
  },
  {
   "cell_type": "code",
   "execution_count": 6,
   "metadata": {},
   "outputs": [
    {
     "data": {
      "text/plain": [
       "array([0, 0, 0, 0, 0, 0, 0, 0, 0, 0, 0, 0, 0, 0, 0, 0, 0, 0, 0, 0, 0, 0,\n",
       "       0, 0, 0, 0, 0, 0, 0, 0, 0, 0, 0, 0, 0, 0, 0, 0, 0, 0, 0, 0, 0, 0,\n",
       "       0, 0, 0, 0, 0, 0, 1, 1, 1, 1, 1, 1, 1, 1, 1, 1, 1, 1, 1, 1, 1, 1,\n",
       "       1, 1, 1, 1, 1, 1, 1, 1, 1, 1, 1, 1, 1, 1, 1, 1, 1, 1, 1, 1, 1, 1,\n",
       "       1, 1, 1, 1, 1, 1, 1, 1, 1, 1, 1, 1, 2, 2, 2, 2, 2, 2, 2, 2, 2, 2,\n",
       "       2, 2, 2, 2, 2, 2, 2, 2, 2, 2, 2, 2, 2, 2, 2, 2, 2, 2, 2, 2, 2, 2,\n",
       "       2, 2, 2, 2, 2, 2, 2, 2, 2, 2, 2, 2, 2, 2, 2, 2, 2, 2])"
      ]
     },
     "execution_count": 6,
     "metadata": {},
     "output_type": "execute_result"
    }
   ],
   "source": [
    "y"
   ]
  },
  {
   "cell_type": "code",
   "execution_count": 7,
   "metadata": {
    "collapsed": false,
    "jupyter": {
     "outputs_hidden": false
    }
   },
   "outputs": [],
   "source": [
    "\n",
    "pca = decomposition.PCA(n_components=3)\n",
    "pca.fit(X)\n",
    "X = pca.transform(X)\n"
   ]
  },
  {
   "cell_type": "markdown",
   "metadata": {
    "jp-MarkdownHeadingCollapsed": true,
    "tags": []
   },
   "source": [
    "## prin\n"
   ]
  },
  {
   "cell_type": "code",
   "execution_count": null,
   "metadata": {},
   "outputs": [],
   "source": []
  },
  {
   "cell_type": "code",
   "execution_count": 8,
   "metadata": {},
   "outputs": [
    {
     "data": {
      "text/plain": [
       "array([[ 0.68569351, -0.042434  ,  1.27431544,  0.51627069],\n",
       "       [-0.042434  ,  0.18997942, -0.32965638, -0.12163937],\n",
       "       [ 1.27431544, -0.32965638,  3.11627785,  1.2956094 ],\n",
       "       [ 0.51627069, -0.12163937,  1.2956094 ,  0.58100626]])"
      ]
     },
     "execution_count": 8,
     "metadata": {},
     "output_type": "execute_result"
    }
   ],
   "source": [
    "\n",
    "pca.get_covariance()"
   ]
  },
  {
   "cell_type": "code",
   "execution_count": 9,
   "metadata": {},
   "outputs": [
    {
     "data": {
      "text/plain": [
       "array(['pca0', 'pca1', 'pca2'], dtype=object)"
      ]
     },
     "execution_count": 9,
     "metadata": {},
     "output_type": "execute_result"
    }
   ],
   "source": [
    "pca.get_feature_names_out()"
   ]
  },
  {
   "cell_type": "code",
   "execution_count": 10,
   "metadata": {},
   "outputs": [
    {
     "data": {
      "text/plain": [
       "{'copy': True,\n",
       " 'iterated_power': 'auto',\n",
       " 'n_components': 3,\n",
       " 'n_oversamples': 10,\n",
       " 'power_iteration_normalizer': 'auto',\n",
       " 'random_state': None,\n",
       " 'svd_solver': 'auto',\n",
       " 'tol': 0.0,\n",
       " 'whiten': False}"
      ]
     },
     "execution_count": 10,
     "metadata": {},
     "output_type": "execute_result"
    }
   ],
   "source": [
    "pca.get_params()"
   ]
  },
  {
   "cell_type": "code",
   "execution_count": 11,
   "metadata": {},
   "outputs": [
    {
     "data": {
      "text/plain": [
       "array([25.09996044,  6.01314738,  3.41368064])"
      ]
     },
     "execution_count": 11,
     "metadata": {},
     "output_type": "execute_result"
    }
   ],
   "source": [
    "pca.singular_values_"
   ]
  },
  {
   "cell_type": "markdown",
   "metadata": {
    "tags": []
   },
   "source": [
    "## dfggd"
   ]
  },
  {
   "cell_type": "code",
   "execution_count": 12,
   "metadata": {
    "collapsed": false,
    "jupyter": {
     "outputs_hidden": false
    }
   },
   "outputs": [],
   "source": [
    "# Reorder the labels to have colors matching the cluster results\n",
    "#???\n",
    "#np.choose(\n",
    "y.astype(np.int64)\n",
    "###y.astype(int)\n",
    " #   , [1, 2, 0])\n",
    "#np.choose(y, [1, 2, 0])\n",
    "    #.astype(float)\n",
    "    \n",
    "    \n",
    "#y = np.choose(y, [1, 2, 0]).astype(float)\n",
    "y = np.choose(y.astype(np.int64)   , [1, 2, 0]).astype(float)"
   ]
  },
  {
   "cell_type": "code",
   "execution_count": 20,
   "metadata": {},
   "outputs": [
    {
     "name": "stdout",
     "output_type": "stream",
     "text": [
      "Available matplotlib backends: ['tk', 'gtk', 'gtk3', 'gtk4', 'wx', 'qt4', 'qt5', 'qt6', 'qt', 'osx', 'nbagg', 'webagg', 'notebook', 'agg', 'svg', 'pdf', 'ps', 'inline', 'ipympl', 'widget']\n"
     ]
    }
   ],
   "source": [
    "%matplotlib --list"
   ]
  },
  {
   "cell_type": "code",
   "execution_count": 31,
   "metadata": {},
   "outputs": [
    {
     "name": "stdout",
     "output_type": "stream",
     "text": [
      "Using matplotlib backend: module://ipympl.backend_nbagg\n"
     ]
    }
   ],
   "source": [
    "%matplotlib "
   ]
  },
  {
   "cell_type": "code",
   "execution_count": 32,
   "metadata": {},
   "outputs": [
    {
     "name": "stdout",
     "output_type": "stream",
     "text": [
      "Warning: Cannot change to a different GUI toolkit: ipympl. Using widget instead.\n"
     ]
    }
   ],
   "source": [
    "%matplotlib ipympl"
   ]
  },
  {
   "cell_type": "code",
   "execution_count": null,
   "metadata": {},
   "outputs": [],
   "source": []
  },
  {
   "cell_type": "code",
   "execution_count": 22,
   "metadata": {},
   "outputs": [
    {
     "data": {
      "application/vnd.jupyter.widget-view+json": {
       "model_id": "f22c45a3bf7e4ea59bf65ff272a0324d",
       "version_major": 2,
       "version_minor": 0
      },
      "image/png": "[encoded data removed]",
      "text/html": [
       "\n",
       "            <div style=\"display: inline-block;\">\n",
       "                <div class=\"jupyter-widgets widget-label\" style=\"text-align: center;\">\n",
       "                    Figure\n",
       "                </div>\n",
       "                <img src='data:image/png;base64,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' width=640.0/>\n",
       "            </div>\n",
       "        "
      ],
      "text/plain": [
       "Canvas(toolbar=Toolbar(toolitems=[('Home', 'Reset original view', 'home', 'home'), ('Back', 'Back to previous …"
      ]
     },
     "metadata": {},
     "output_type": "display_data"
    }
   ],
   "source": [
    "fig = plt.figure()\n"
   ]
  },
  {
   "cell_type": "code",
   "execution_count": null,
   "metadata": {},
   "outputs": [],
   "source": []
  },
  {
   "cell_type": "code",
   "execution_count": null,
   "metadata": {},
   "outputs": [],
   "source": []
  },
  {
   "cell_type": "code",
   "execution_count": 33,
   "metadata": {
    "collapsed": false,
    "jupyter": {
     "outputs_hidden": false
    }
   },
   "outputs": [
    {
     "data": {
      "application/vnd.jupyter.widget-view+json": {
       "model_id": "f22c45a3bf7e4ea59bf65ff272a0324d",
       "version_major": 2,
       "version_minor": 0
      },
      "image/png": "[encoded data removed]",
      "text/html": [
       "\n",
       "            <div style=\"display: inline-block;\">\n",
       "                <div class=\"jupyter-widgets widget-label\" style=\"text-align: center;\">\n",
       "                    Figure 1\n",
       "                </div>\n",
       "                <img src='data:image/png;base64,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' width=640.0/>\n",
       "            </div>\n",
       "        "
      ],
      "text/plain": [
       "Canvas(toolbar=Toolbar(toolitems=[('Home', 'Reset original view', 'home', 'home'), ('Back', 'Back to previous …"
      ]
     },
     "metadata": {},
     "output_type": "display_data"
    }
   ],
   "source": [
    "#fig = plt.figure(1, figsize=(4, 3))\n",
    "plt.clf()\n",
    "\n",
    "ax = fig.add_subplot(111, projection='3d')\n",
    "#ax = fig.add_subplot(111, projection=\"3d\", elev=48, azim=134)\n",
    "#ax.set_position([0, 0, 0.95, 1])\n",
    "\n",
    "\n",
    "plt.cla()\n",
    "\n",
    "\n",
    "\n",
    "\n",
    "\n",
    "\n",
    "\n",
    "\n",
    "\n",
    "for name, label in [(\"Setosa\", 0), (\"Versicolour\", 1), (\"Virginica\", 2)]:\n",
    "    ax.text3D(\n",
    "        X[y == label, 0].mean(),\n",
    "        X[y == label, 1].mean() + 1.5,\n",
    "        X[y == label, 2].mean(),\n",
    "        name,\n",
    "        horizontalalignment=\"center\",\n",
    "        bbox=dict(alpha=0.5, edgecolor=\"w\", facecolor=\"w\"),\n",
    "    )\n",
    "\n",
    "    \n",
    "#Axes3D.scatter(xs, ys, zs=0, zdir='z', s=20, c='b', *args, **kwargs)¶\n",
    "    \n",
    "    \n",
    "    \n",
    "\n",
    "ax.scatter(X[:, 0], X[:, 1], X[:, 2], c=y, cmap=plt.cm.nipy_spectral, edgecolor=\"k\")\n",
    "\n",
    "ax.xaxis.set_ticklabels([])\n",
    "ax.yaxis.set_ticklabels([])\n",
    "ax.zaxis.set_ticklabels([])\n",
    "\n",
    "\n",
    "plt.show()"
   ]
  },
  {
   "cell_type": "code",
   "execution_count": null,
   "metadata": {},
   "outputs": [],
   "source": []
  },
  {
   "cell_type": "code",
   "execution_count": null,
   "metadata": {},
   "outputs": [],
   "source": []
  },
  {
   "cell_type": "code",
   "execution_count": null,
   "metadata": {},
   "outputs": [],
   "source": []
  },
  {
   "cell_type": "code",
   "execution_count": null,
   "metadata": {},
   "outputs": [],
   "source": []
  },
  {
   "cell_type": "code",
   "execution_count": null,
   "metadata": {},
   "outputs": [],
   "source": []
  }
 ],
 "metadata": {
  "kernelspec": {
   "display_name": "Python 3 (ipykernel)",
   "language": "python",
   "name": "python3"
  },
  "language_info": {
   "codemirror_mode": {
    "name": "ipython",
    "version": 3
   },
   "file_extension": ".py",
   "mimetype": "text/x-python",
   "name": "python",
   "nbconvert_exporter": "python",
   "pygments_lexer": "ipython3",
   "version": "3.10.10"
  }
 },
 "nbformat": 4,
 "nbformat_minor": 4
}
