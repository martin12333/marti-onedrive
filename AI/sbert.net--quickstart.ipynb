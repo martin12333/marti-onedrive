{
 "cells": [
  {
   "cell_type": "code",
   "execution_count": 1,
   "id": "dense-bench",
   "metadata": {},
   "outputs": [],
   "source": [
    "from sentence_transformers import SentenceTransformer, util\n"
   ]
  },
  {
   "cell_type": "code",
   "execution_count": 225,
   "id": "handmade-blackjack",
   "metadata": {},
   "outputs": [],
   "source": [
    "#model = SentenceTransformer('paraphrase-distilroberta-base-v1')\n",
    "model = SentenceTransformer('bert-base-nli-mean-tokens')\n",
    "#model=SentenceTransformer('roberta-base-nli-stsb-mean-tokens')\n",
    "#model=SentenceTransformer('bert-base-nli-stsb-mean-tokens')"
   ]
  },
  {
   "cell_type": "code",
   "execution_count": 192,
   "id": "loose-martin",
   "metadata": {},
   "outputs": [],
   "source": [
    "#Our sentences we like to encode\n",
    "sentences = ['This framework generates embeddings for each input sentence',\n",
    "    'Sentences are passed as a list of string.', \n",
    "    'The quick brown fox jumps over the lazy dog.']"
   ]
  },
  {
   "cell_type": "code",
   "execution_count": 193,
   "id": "light-huntington",
   "metadata": {},
   "outputs": [],
   "source": [
    "sentences = ['A man is eating food.',\n",
    "          'A man is eating a piece of bread.',\n",
    "          'The girl is carrying a baby.',\n",
    "          'A man is riding a horse.',\n",
    "          'A woman is playing violin.',\n",
    "          'Two men pushed carts through the woods.',\n",
    "          'A man is riding a white horse on an enclosed ground.',\n",
    "          'A monkey is playing drums.',\n",
    "          'Someone in a gorilla costume is playing a set of drums.'\n",
    "          ]"
   ]
  },
  {
   "cell_type": "code",
   "execution_count": 194,
   "id": "acute-pattern",
   "metadata": {},
   "outputs": [],
   "source": [
    "sentences = ['king',\n",
    "          'queen',\n",
    "          'man',\n",
    "          'woman',\n",
    "          \n",
    "          ]"
   ]
  },
  {
   "cell_type": "code",
   "execution_count": 195,
   "id": "fancy-oklahoma",
   "metadata": {},
   "outputs": [],
   "source": [
    "sentences = ['A king.',\n",
    "          'A queen.',\n",
    "          'A man.',\n",
    "          'A woman.',\n",
    "          ]"
   ]
  },
  {
   "cell_type": "code",
   "execution_count": 196,
   "id": "personal-poison",
   "metadata": {},
   "outputs": [],
   "source": [
    "sentences = ['I see a king.',\n",
    "          'I see a queen.',\n",
    "          'I see a man.',\n",
    "          'I see a woman.',\n",
    "          ]"
   ]
  },
  {
   "cell_type": "code",
   "execution_count": 197,
   "id": "accredited-trash",
   "metadata": {},
   "outputs": [],
   "source": [
    "sentences = ['Anaconda',\n",
    "             'Python',\n",
    "          'software',\n",
    "                    'snake',\n",
    "       \n",
    "          ]"
   ]
  },
  {
   "cell_type": "code",
   "execution_count": 215,
   "id": "given-robertson",
   "metadata": {},
   "outputs": [],
   "source": [
    "sentences = ['I see a king.',\n",
    "          'I see a queen.',\n",
    "          'I see a royal man.',\n",
    "          'I see a royal woman.',\n",
    "          ]"
   ]
  },
  {
   "cell_type": "code",
   "execution_count": 226,
   "id": "sorted-exploration",
   "metadata": {},
   "outputs": [],
   "source": [
    "sentences = ['Anaconda is software.',\n",
    "             'Python is software.',\n",
    "          'Python is a snake.',\n",
    "                    'Anaconda is a snake.',\n",
    "       \n",
    "          ]"
   ]
  },
  {
   "cell_type": "code",
   "execution_count": null,
   "id": "bottom-divorce",
   "metadata": {},
   "outputs": [],
   "source": []
  },
  {
   "cell_type": "code",
   "execution_count": null,
   "id": "italic-hazard",
   "metadata": {},
   "outputs": [],
   "source": []
  },
  {
   "cell_type": "code",
   "execution_count": 227,
   "id": "checked-period",
   "metadata": {},
   "outputs": [],
   "source": [
    "#Sentences are encoded by calling model.encode()\n",
    "##sentence_embeddings = model.encode(sentences)\n",
    "\n",
    "sentence_embeddings = model.encode(sentences, show_progress_bar=False)\n"
   ]
  },
  {
   "cell_type": "code",
   "execution_count": null,
   "id": "assisted-spring",
   "metadata": {},
   "outputs": [],
   "source": []
  },
  {
   "cell_type": "code",
   "execution_count": 228,
   "id": "positive-tracker",
   "metadata": {},
   "outputs": [],
   "source": [
    "embeddings = sentence_embeddings"
   ]
  },
  {
   "cell_type": "code",
   "execution_count": 229,
   "id": "manual-spider",
   "metadata": {},
   "outputs": [],
   "source": [
    "king=embeddings[0]\n",
    "queen=embeddings[1]\n",
    "man=embeddings[2]\n",
    "woman=embeddings[3]\n"
   ]
  },
  {
   "cell_type": "code",
   "execution_count": 230,
   "id": "thousand-albania",
   "metadata": {},
   "outputs": [],
   "source": [
    "###y=king+man-woman\n",
    "y=king+woman-man"
   ]
  },
  {
   "cell_type": "code",
   "execution_count": 231,
   "id": "respected-rhythm",
   "metadata": {},
   "outputs": [
    {
     "data": {
      "text/plain": [
       "tensor([[0.6200]])"
      ]
     },
     "execution_count": 231,
     "metadata": {},
     "output_type": "execute_result"
    }
   ],
   "source": [
    "util.pytorch_cos_sim(y, queen)"
   ]
  },
  {
   "cell_type": "code",
   "execution_count": 232,
   "id": "organic-vaccine",
   "metadata": {},
   "outputs": [
    {
     "name": "stdout",
     "output_type": "stream",
     "text": [
      "Sentence: Anaconda is software. (768,)\n",
      "Sentence: Python is software. (768,)\n",
      "Sentence: Python is a snake. (768,)\n",
      "Sentence: Anaconda is a snake. (768,)\n"
     ]
    }
   ],
   "source": [
    "#Print the embeddings\n",
    "for sentence, embedding in zip(sentences, sentence_embeddings):\n",
    "    print(\"Sentence:\", sentence,embedding.shape)\n",
    "    #print(\"Embedding:\", embedding.shape)\n",
    "    #print(\"\")\n",
    "    pass\n",
    "#sentence_embeddings[0].shape"
   ]
  },
  {
   "cell_type": "code",
   "execution_count": 233,
   "id": "surrounded-seattle",
   "metadata": {},
   "outputs": [],
   "source": [
    "#Compute cosine similarity between all pairs\n",
    "cos_sim = util.pytorch_cos_sim(embeddings, embeddings)"
   ]
  },
  {
   "cell_type": "code",
   "execution_count": 234,
   "id": "spoken-advice",
   "metadata": {},
   "outputs": [
    {
     "data": {
      "text/plain": [
       "tensor([[1.0000, 0.7914, 0.3255, 0.3684],\n",
       "        [0.7914, 1.0000, 0.5385, 0.4501],\n",
       "        [0.3255, 0.5385, 1.0000, 0.9196],\n",
       "        [0.3684, 0.4501, 0.9196, 1.0000]])"
      ]
     },
     "execution_count": 234,
     "metadata": {},
     "output_type": "execute_result"
    }
   ],
   "source": [
    "cos_sim"
   ]
  },
  {
   "cell_type": "code",
   "execution_count": null,
   "id": "entire-briefing",
   "metadata": {},
   "outputs": [],
   "source": []
  },
  {
   "cell_type": "code",
   "execution_count": 34,
   "id": "cheap-observation",
   "metadata": {},
   "outputs": [],
   "source": [
    "#Add all pairs to a list with their cosine similarity score\n",
    "all_sentence_combinations = []\n",
    "for i in range(len(cos_sim)-1):\n",
    "    for j in range(i+1, len(cos_sim)):\n",
    "        all_sentence_combinations.append([cos_sim[i][j], i, j])"
   ]
  },
  {
   "cell_type": "code",
   "execution_count": 35,
   "id": "nearby-threat",
   "metadata": {},
   "outputs": [],
   "source": [
    "#Sort list by the highest cosine similarity score\n",
    "all_sentence_combinations = sorted(all_sentence_combinations, key=lambda x: x[0], reverse=True)"
   ]
  },
  {
   "cell_type": "code",
   "execution_count": 37,
   "id": "funded-machinery",
   "metadata": {},
   "outputs": [
    {
     "name": "stdout",
     "output_type": "stream",
     "text": [
      "Top-5 most similar pairs:\n",
      "man \t woman \t 0.5558\n",
      "king \t man \t 0.4238\n",
      "queen \t woman \t 0.4187\n",
      "king \t woman \t 0.4051\n",
      "queen \t man \t 0.3581\n",
      "king \t queen \t 0.3039\n"
     ]
    }
   ],
   "source": [
    "print(\"Top-5 most similar pairs:\")\n",
    "for score, i, j in all_sentence_combinations: #[0:5]:\n",
    "    print(\"{} \\t {} \\t {:.4f}\".format(sentences[i], sentences[j], cos_sim[i][j]))"
   ]
  },
  {
   "cell_type": "code",
   "execution_count": 7,
   "id": "specified-mainland",
   "metadata": {},
   "outputs": [
    {
     "name": "stdout",
     "output_type": "stream",
     "text": [
      "Sentence: This framework generates embeddings for each input sentence\n",
      "Embedding: (768,)\n",
      "\n",
      "Sentence: Sentences are passed as a list of string.\n",
      "Embedding: (768,)\n",
      "\n",
      "Sentence: The quick brown fox jumps over the lazy dog.\n",
      "Embedding: (768,)\n",
      "\n"
     ]
    }
   ],
   "source": []
  },
  {
   "cell_type": "code",
   "execution_count": null,
   "id": "excellent-screening",
   "metadata": {},
   "outputs": [],
   "source": []
  },
  {
   "cell_type": "code",
   "execution_count": null,
   "id": "municipal-beijing",
   "metadata": {},
   "outputs": [],
   "source": []
  },
  {
   "cell_type": "code",
   "execution_count": null,
   "id": "chronic-brighton",
   "metadata": {},
   "outputs": [],
   "source": []
  }
 ],
 "metadata": {
  "kernelspec": {
   "display_name": "Python 3",
   "language": "python",
   "name": "python3"
  },
  "language_info": {
   "codemirror_mode": {
    "name": "ipython",
    "version": 3
   },
   "file_extension": ".py",
   "mimetype": "text/x-python",
   "name": "python",
   "nbconvert_exporter": "python",
   "pygments_lexer": "ipython3",
   "version": "3.8.5"
  }
 },
 "nbformat": 4,
 "nbformat_minor": 5
}
