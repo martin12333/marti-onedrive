{
 "cells": [
  {
   "cell_type": "code",
   "execution_count": 1,
   "id": "accompanied-documentary",
   "metadata": {},
   "outputs": [],
   "source": [
    "model_name = \"microsoft/CodeGPT-small-py-adaptedGPT2\"\n",
    "model_name = \"microsoft/CodeGPT-small-py\"\n",
    "model_name=\"jaron-maene/gpt2-medium-nl2bash\"\n",
    "model_name=\"facebook/bart-large-mnli\"\n",
    "model_name=\"bert-base-uncased\"\n",
    "model_name = \"distilgpt2\"\n"
   ]
  },
  {
   "cell_type": "code",
   "execution_count": 2,
   "id": "recent-columbus",
   "metadata": {},
   "outputs": [
    {
     "name": "stderr",
     "output_type": "stream",
     "text": [
      "Some weights of GPT2Model were not initialized from the model checkpoint at distilgpt2 and are newly initialized: ['transformer.h.0.attn.masked_bias', 'transformer.h.1.attn.masked_bias', 'transformer.h.2.attn.masked_bias', 'transformer.h.3.attn.masked_bias', 'transformer.h.4.attn.masked_bias', 'transformer.h.5.attn.masked_bias']\n",
      "You should probably TRAIN this model on a down-stream task to be able to use it for predictions and inference.\n",
      "Setting `pad_token_id` to `eos_token_id`:50256 for open-end generation.\n"
     ]
    },
    {
     "data": {
      "text/plain": [
       "[{'generated_text': \"Hello, I'm a language model, and you need to use these tools to make decisions based on your requirements, and you still need to write a\"},\n",
       " {'generated_text': \"Hello, I'm a language model, and not an actual language. In a few short weeks, I'll have a lot of fun, and I\"},\n",
       " {'generated_text': \"Hello, I'm a language model, with little to no experience, so I'm going to run into some trouble. I am also a non-\"},\n",
       " {'generated_text': \"Hello, I'm a language model, and I'm a software developer. It isn't just being a simple tool, it allows me to write code\"},\n",
       " {'generated_text': \"Hello, I'm a language model, but as a child I've been able to use programming in my high school years. This is why I'm\"}]"
      ]
     },
     "execution_count": 2,
     "metadata": {},
     "output_type": "execute_result"
    }
   ],
   "source": [
    "from transformers import pipeline, set_seed\n",
    ">>> generator = pipeline('text-generation', model=model_name)\n",
    ">>> set_seed(142)\n",
    "#>>> generator(\"Hello, I'm a language model,\", max_length=30, num_return_sequences=5)\n",
    "\n"
   ]
  },
  {
   "cell_type": "code",
   "execution_count": 3,
   "id": "sustainable-smooth",
   "metadata": {},
   "outputs": [
    {
     "name": "stderr",
     "output_type": "stream",
     "text": [
      "Setting `pad_token_id` to `eos_token_id`:50256 for open-end generation.\n"
     ]
    },
    {
     "data": {
      "text/plain": [
       "[{'generated_text': 'Anaconda is a Python distribution, and therefore the best distribution. It comes with a Python version of Python called the DLL and a web client'},\n",
       " {'generated_text': 'Anaconda is a Python distribution, and may be based around a new feature called the Autoconf feature, called an \\u200d\" feature.'},\n",
       " {'generated_text': 'Anaconda is a Python distribution, and will support Python 1.6.0 - 2.9.0.\\n\\n\\n\\n\\n\\n'},\n",
       " {'generated_text': 'Anaconda is a Python distribution, built upon Python 3.0 and Python 4.14. While Python uses Python 3 at the root of a'},\n",
       " {'generated_text': 'Anaconda is a Python distribution, which is open source.\\n\\n\\n\\n\\n\\n\\n\\n\\n\\n\\n\\n\\n\\n\\n\\n\\n'}]"
      ]
     },
     "execution_count": 3,
     "metadata": {},
     "output_type": "execute_result"
    }
   ],
   "source": [
    "generator(\"Anaconda is a Python distribution,\", max_length=30, num_return_sequences=5)"
   ]
  },
  {
   "cell_type": "code",
   "execution_count": 4,
   "id": "executive-uncertainty",
   "metadata": {},
   "outputs": [],
   "source": [
    ">>> set_seed(14243)"
   ]
  },
  {
   "cell_type": "code",
   "execution_count": 5,
   "id": "viral-adjustment",
   "metadata": {},
   "outputs": [
    {
     "name": "stderr",
     "output_type": "stream",
     "text": [
      "Setting `pad_token_id` to `eos_token_id`:50256 for open-end generation.\n"
     ]
    },
    {
     "data": {
      "text/plain": [
       "[{'generated_text': ' Anaconda is a Python distribution, an open source distribution of Python programming code. Most recently, Apache is the most popular and most powerful source of'},\n",
       " {'generated_text': ' Anaconda is a Python distribution, with about 100 million users.\\n\\n\\n\\nThe popular Python-inspired Python distribution was released on September 12'},\n",
       " {'generated_text': \" Anaconda is a Python distribution, and a software update system for Python. It makes a lot of sense, and we'd love to hear from\"},\n",
       " {'generated_text': ' Anaconda is a Python distribution, which uses Python 3.4.4.\\n\\n\\nIt offers a wide range of alternative architectures (e'},\n",
       " {'generated_text': ' Anaconda is a Python distribution, which includes three other Python/Python projects.\\n\\n\\n\\n\\n\\n\\n\\n\\n\\n\\n\\n\\n'}]"
      ]
     },
     "execution_count": 5,
     "metadata": {},
     "output_type": "execute_result"
    }
   ],
   "source": [
    "generator(\" Anaconda is a Python distribution,\", max_length=30, num_return_sequences=5)"
   ]
  },
  {
   "cell_type": "code",
   "execution_count": 6,
   "id": "characteristic-yacht",
   "metadata": {},
   "outputs": [
    {
     "name": "stderr",
     "output_type": "stream",
     "text": [
      "Setting `pad_token_id` to `eos_token_id`:50256 for open-end generation.\n"
     ]
    },
    {
     "data": {
      "text/plain": [
       "[{'generated_text': ' Anaconda ... a Python distribution\\n\\n\\nHello-and-A-Lot,\\nFrom: john\\nSubject: C++ Hello-and-'},\n",
       " {'generated_text': ' Anaconda ... a Python distribution\\n\\n\\nThe name \"python\" has always been popular among designers in general because of this. This is a very'},\n",
       " {'generated_text': \" Anaconda ... a Python distribution\\n\\n\\n\\nI love this post and am so glad to announce that we're finally getting another post for Python 2\"},\n",
       " {'generated_text': ' Anaconda ... a Python distribution\\n\\n\\n\\n\\n\\nPixport offers a solution that allows you to distribute a distribution of Python scripts that can'},\n",
       " {'generated_text': \" Anaconda ... a Python distribution\\n\\n\\n\\n\\n\\n\\n\\n\\n\\n\\n\\nIt's also a matter of time before we become a web\"}]"
      ]
     },
     "execution_count": 6,
     "metadata": {},
     "output_type": "execute_result"
    }
   ],
   "source": [
    "generator(\" Anaconda ... a Python distribution\\n\\n\\n\", max_length=30, num_return_sequences=5)"
   ]
  },
  {
   "cell_type": "code",
   "execution_count": 7,
   "id": "finnish-charge",
   "metadata": {},
   "outputs": [
    {
     "name": "stderr",
     "output_type": "stream",
     "text": [
      "Setting `pad_token_id` to `eos_token_id`:50256 for open-end generation.\n"
     ]
    },
    {
     "data": {
      "text/plain": [
       "[{'generated_text': ' Anaconda is a Python iced watercolor design by Cinean. In this case the watercolor is the white or black of which is'},\n",
       " {'generated_text': ' Anaconda is a Python ivemarch . The following article provides an overview of the language features necessary to complete the Cython Python PyCon'},\n",
       " {'generated_text': ' Anaconda is a Python vernacular with a simple syntax. Python is widely used, and there is great interest in the development of an interactive'},\n",
       " {'generated_text': ' Anaconda is a Python xtra 3 library that uses built-in Python libraries. This library is called the core module that exposes Python 2'},\n",
       " {'generated_text': ' Anaconda is a Python vernacular character generator.\\n\\n\\n\\n\\nThe following code assumes:\\n\\nIn a simple example, let'}]"
      ]
     },
     "execution_count": 7,
     "metadata": {},
     "output_type": "execute_result"
    }
   ],
   "source": [
    "generator(\" Anaconda is a Python \", max_length=30, num_return_sequences=5)"
   ]
  },
  {
   "cell_type": "code",
   "execution_count": 8,
   "id": "usual-anthropology",
   "metadata": {},
   "outputs": [
    {
     "name": "stderr",
     "output_type": "stream",
     "text": [
      "Setting `pad_token_id` to `eos_token_id`:50256 for open-end generation.\n"
     ]
    },
    {
     "data": {
      "text/plain": [
       "[{'generated_text': ' Anaconda is a snake \\xa0 that can be found in many of the parks. When it\\u202dt \\xa0is seen during the hunt'},\n",
       " {'generated_text': ' Anaconda is a snake izat, a creature with a wide range of senses. Anaconda is a watered riverbed that flows'},\n",
       " {'generated_text': ' Anaconda is a snake !!!!!!! What a bitch:\\nI would definitely like to thank my great aunt and brother for their excellent service'},\n",
       " {'generated_text': ' Anaconda is a snake ichneumonia that affects humans by means of respiratory breathing and sometimes by biting and biting. It is a tropical freshwater'},\n",
       " {'generated_text': ' Anaconda is a snake iba. It has a unique colour and its legs are curved through the air. Its eyes are translucent. Its tongue'}]"
      ]
     },
     "execution_count": 8,
     "metadata": {},
     "output_type": "execute_result"
    }
   ],
   "source": [
    "generator(\" Anaconda is a snake \", max_length=30, num_return_sequences=5)"
   ]
  },
  {
   "cell_type": "code",
   "execution_count": 9,
   "id": "specialized-gibraltar",
   "metadata": {},
   "outputs": [
    {
     "name": "stderr",
     "output_type": "stream",
     "text": [
      "Setting `pad_token_id` to `eos_token_id`:50256 for open-end generation.\n"
     ]
    },
    {
     "data": {
      "text/plain": [
       "[{'generated_text': \" Anaconda is a vernacular style of architecture to create complex structures such as the courtyard. It is the world's largest art gallery with an\"},\n",
       " {'generated_text': ' Anaconda is a vernacular and popular form of communication across a wide range of languages for many different styles ranging from Brazilian and English. We'},\n",
       " {'generated_text': ' Anaconda is a iced coffee cup cup which contains a sweetened coffee of sweetened espresso or cocoa flavored. An espresso cup is a cup'},\n",
       " {'generated_text': ' Anaconda is a vernacular term for the first time when it comes to the ability to describe a complex set of characters. Characters are shown'},\n",
       " {'generated_text': ' Anaconda is a icharistic woman with a large head on a narrow breast. It is a very powerful thing to believe and believe in'}]"
      ]
     },
     "execution_count": 9,
     "metadata": {},
     "output_type": "execute_result"
    }
   ],
   "source": [
    "generator(\" Anaconda is a \", max_length=30, num_return_sequences=5)"
   ]
  },
  {
   "cell_type": "code",
   "execution_count": null,
   "id": "pleased-definition",
   "metadata": {},
   "outputs": [],
   "source": []
  },
  {
   "cell_type": "code",
   "execution_count": null,
   "id": "ethical-selling",
   "metadata": {},
   "outputs": [],
   "source": []
  },
  {
   "cell_type": "code",
   "execution_count": null,
   "id": "operating-worship",
   "metadata": {},
   "outputs": [],
   "source": []
  }
 ],
 "metadata": {
  "kernelspec": {
   "display_name": "Python 3",
   "language": "python",
   "name": "python3"
  },
  "language_info": {
   "codemirror_mode": {
    "name": "ipython",
    "version": 3
   },
   "file_extension": ".py",
   "mimetype": "text/x-python",
   "name": "python",
   "nbconvert_exporter": "python",
   "pygments_lexer": "ipython3",
   "version": "3.8.5"
  }
 },
 "nbformat": 4,
 "nbformat_minor": 5
}
