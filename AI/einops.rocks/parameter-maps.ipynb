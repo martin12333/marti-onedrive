{
 "cells": [
  {
   "cell_type": "code",
   "execution_count": null,
   "id": "5202298e-317a-4e3c-abaf-fb02a81bbc41",
   "metadata": {},
   "outputs": [],
   "source": []
  },
  {
   "cell_type": "code",
   "execution_count": 5,
   "id": "3fc04074-78d1-4191-b04c-8afcf28e46ef",
   "metadata": {},
   "outputs": [
    {
     "data": {
      "text/plain": [
       "'%.2f'"
      ]
     },
     "execution_count": 5,
     "metadata": {},
     "output_type": "execute_result"
    }
   ],
   "source": [
    "import numpy as np\n",
    "\n",
    "np.set_printoptions(suppress=True)\n",
    "\n",
    "np.set_printoptions(threshold=20)\n",
    "np.set_printoptions(threshold=400)\n",
    "\n",
    "np.set_printoptions(edgeitems=10)\n",
    "\n",
    "np.set_printoptions(precision=4)\n",
    "#np.set_printoptions(precision=3)\n",
    "np.set_printoptions(precision=2)\n",
    "#np.set_printoptions(precision=1)\n",
    "#np.set_printoptions(precision=0)\n",
    "\n",
    "%precision 4\n",
    "%precision 2\n"
   ]
  },
  {
   "cell_type": "code",
   "execution_count": 7,
   "id": "f8b729a1-f886-49ec-a3b6-5428625da3ae",
   "metadata": {},
   "outputs": [],
   "source": [
    "import seaborn as sns\n",
    "import matplotlib.pyplot as plt\n",
    "\n",
    "# we'll use three operations\n",
    "from einops import rearrange, reduce, repeat"
   ]
  },
  {
   "cell_type": "code",
   "execution_count": null,
   "id": "8c7e2a9c-1947-4ade-a6e5-b4324ad6758c",
   "metadata": {},
   "outputs": [],
   "source": []
  },
  {
   "cell_type": "code",
   "execution_count": 6,
   "id": "0b15fd44-3241-44e6-b930-3460a6efb4fb",
   "metadata": {},
   "outputs": [
    {
     "data": {
      "text/plain": [
       "(array([[-2.,  0.,  2.],\n",
       "        [-2.,  0.,  2.],\n",
       "        [-2.,  0.,  2.]]),\n",
       " array([[-2., -2., -2.],\n",
       "        [ 0.,  0.,  0.],\n",
       "        [ 2.,  2.,  2.]]))"
      ]
     },
     "execution_count": 6,
     "metadata": {},
     "output_type": "execute_result"
    }
   ],
   "source": [
    "import numpy as np\n",
    "\n",
    "# start at 0, stop at 10, and generate 8 numbers\n",
    "x = np.linspace(-2,2,3)\n",
    "y = np.linspace(-2,2,3)\n",
    "\n",
    "#x = np.random.randn(50)\n",
    "\n",
    "xx,yy = np.meshgrid(x,y)\n",
    "xx,yy"
   ]
  },
  {
   "cell_type": "code",
   "execution_count": 16,
   "id": "2b20df1a-1a93-4d5a-a867-efe065aa80bd",
   "metadata": {},
   "outputs": [
    {
     "data": {
      "text/plain": [
       "(3, 3, 1, 2)"
      ]
     },
     "execution_count": 16,
     "metadata": {},
     "output_type": "execute_result"
    }
   ],
   "source": [
    "xxyy=[xx,yy]\n",
    "#rearrange(x, 'b h w c -> b h w c').shape\n",
    "rearrange(xxyy, 'b h w  -> b h w ').shape\n",
    "x=rearrange(xxyy, 'b h w  ->  h w 1 b ')\n",
    "rearrange(xxyy, 'b h w  ->  h w 1 b ').shape\n",
    "x.shape"
   ]
  },
  {
   "cell_type": "code",
   "execution_count": 17,
   "id": "ee2f7a26-8008-4124-9f82-a9ba8fc9c6fc",
   "metadata": {},
   "outputs": [
    {
     "data": {
      "text/plain": [
       "array([-2., -2.,  0., -2.,  2., -2., -2.,  0.,  0.,  0.,  2.,  0., -2.,\n",
       "        2.,  0.,  2.,  2.,  2.])"
      ]
     },
     "execution_count": 17,
     "metadata": {},
     "output_type": "execute_result"
    }
   ],
   "source": [
    "x.ravel()"
   ]
  },
  {
   "cell_type": "code",
   "execution_count": 18,
   "id": "5be42db5-8128-42eb-bab9-1f983301bb25",
   "metadata": {},
   "outputs": [
    {
     "data": {
      "text/plain": [
       "array([-2., -2.,  0., -2.,  2., -2., -2.,  0.,  0.,  0.,  2.,  0., -2.,\n",
       "        2.,  0.,  2.,  2.,  2.])"
      ]
     },
     "execution_count": 18,
     "metadata": {},
     "output_type": "execute_result"
    }
   ],
   "source": [
    "x.flatten()"
   ]
  },
  {
   "cell_type": "code",
   "execution_count": 23,
   "id": "1820ecbe-29aa-40a3-8c97-7572ac60fc91",
   "metadata": {},
   "outputs": [
    {
     "data": {
      "text/plain": [
       "array([[[2.83],\n",
       "        [2.  ],\n",
       "        [2.83]],\n",
       "\n",
       "       [[2.  ],\n",
       "        [0.  ],\n",
       "        [2.  ]],\n",
       "\n",
       "       [[2.83],\n",
       "        [2.  ],\n",
       "        [2.83]]])"
      ]
     },
     "execution_count": 23,
     "metadata": {},
     "output_type": "execute_result"
    }
   ],
   "source": [
    "np.linalg.norm(x, axis=(0,1))\n",
    "np.linalg.norm(x, axis=(2,3))\n",
    "np.linalg.norm(x, axis=(3))\n"
   ]
  },
  {
   "cell_type": "code",
   "execution_count": 20,
   "id": "0962b26f-d9c9-46bb-8022-e037206f824d",
   "metadata": {},
   "outputs": [
    {
     "data": {
      "text/plain": [
       "2.83"
      ]
     },
     "execution_count": 20,
     "metadata": {},
     "output_type": "execute_result"
    }
   ],
   "source": [
    "np.linalg.norm(x[0,0,:,:])"
   ]
  },
  {
   "cell_type": "code",
   "execution_count": null,
   "id": "c53d3487-c93c-463e-b569-50022423963d",
   "metadata": {},
   "outputs": [],
   "source": []
  },
  {
   "cell_type": "code",
   "execution_count": 15,
   "id": "462f5d9c-7a22-4859-9d7e-44f8d18aba63",
   "metadata": {},
   "outputs": [
    {
     "data": {
      "text/plain": [
       "\u001b[1;31mSignature:\u001b[0m \u001b[0mnp\u001b[0m\u001b[1;33m.\u001b[0m\u001b[0mlinalg\u001b[0m\u001b[1;33m.\u001b[0m\u001b[0mnorm\u001b[0m\u001b[1;33m(\u001b[0m\u001b[0mx\u001b[0m\u001b[1;33m,\u001b[0m \u001b[0mord\u001b[0m\u001b[1;33m=\u001b[0m\u001b[1;32mNone\u001b[0m\u001b[1;33m,\u001b[0m \u001b[0maxis\u001b[0m\u001b[1;33m=\u001b[0m\u001b[1;32mNone\u001b[0m\u001b[1;33m,\u001b[0m \u001b[0mkeepdims\u001b[0m\u001b[1;33m=\u001b[0m\u001b[1;32mFalse\u001b[0m\u001b[1;33m)\u001b[0m\u001b[1;33m\u001b[0m\u001b[1;33m\u001b[0m\u001b[0m\n",
       "\u001b[1;31mDocstring:\u001b[0m\n",
       "Matrix or vector norm.\n",
       "\n",
       "This function is able to return one of eight different matrix norms,\n",
       "or one of an infinite number of vector norms (described below), depending\n",
       "on the value of the ``ord`` parameter.\n",
       "\n",
       "Parameters\n",
       "----------\n",
       "x : array_like\n",
       "    Input array.  If `axis` is None, `x` must be 1-D or 2-D, unless `ord`\n",
       "    is None. If both `axis` and `ord` are None, the 2-norm of\n",
       "    ``x.ravel`` will be returned.\n",
       "ord : {non-zero int, inf, -inf, 'fro', 'nuc'}, optional\n",
       "    Order of the norm (see table under ``Notes``). inf means numpy's\n",
       "    `inf` object. The default is None.\n",
       "axis : {None, int, 2-tuple of ints}, optional.\n",
       "    If `axis` is an integer, it specifies the axis of `x` along which to\n",
       "    compute the vector norms.  If `axis` is a 2-tuple, it specifies the\n",
       "    axes that hold 2-D matrices, and the matrix norms of these matrices\n",
       "    are computed.  If `axis` is None then either a vector norm (when `x`\n",
       "    is 1-D) or a matrix norm (when `x` is 2-D) is returned. The default\n",
       "    is None.\n",
       "\n",
       "    .. versionadded:: 1.8.0\n",
       "\n",
       "keepdims : bool, optional\n",
       "    If this is set to True, the axes which are normed over are left in the\n",
       "    result as dimensions with size one.  With this option the result will\n",
       "    broadcast correctly against the original `x`.\n",
       "\n",
       "    .. versionadded:: 1.10.0\n",
       "\n",
       "Returns\n",
       "-------\n",
       "n : float or ndarray\n",
       "    Norm of the matrix or vector(s).\n",
       "\n",
       "See Also\n",
       "--------\n",
       "scipy.linalg.norm : Similar function in SciPy.\n",
       "\n",
       "Notes\n",
       "-----\n",
       "For values of ``ord < 1``, the result is, strictly speaking, not a\n",
       "mathematical 'norm', but it may still be useful for various numerical\n",
       "purposes.\n",
       "\n",
       "The following norms can be calculated:\n",
       "\n",
       "=====  ============================  ==========================\n",
       "ord    norm for matrices             norm for vectors\n",
       "=====  ============================  ==========================\n",
       "None   Frobenius norm                2-norm\n",
       "'fro'  Frobenius norm                --\n",
       "'nuc'  nuclear norm                  --\n",
       "inf    max(sum(abs(x), axis=1))      max(abs(x))\n",
       "-inf   min(sum(abs(x), axis=1))      min(abs(x))\n",
       "0      --                            sum(x != 0)\n",
       "1      max(sum(abs(x), axis=0))      as below\n",
       "-1     min(sum(abs(x), axis=0))      as below\n",
       "2      2-norm (largest sing. value)  as below\n",
       "-2     smallest singular value       as below\n",
       "other  --                            sum(abs(x)**ord)**(1./ord)\n",
       "=====  ============================  ==========================\n",
       "\n",
       "The Frobenius norm is given by [1]_:\n",
       "\n",
       "    :math:`||A||_F = [\\sum_{i,j} abs(a_{i,j})^2]^{1/2}`\n",
       "\n",
       "The nuclear norm is the sum of the singular values.\n",
       "\n",
       "Both the Frobenius and nuclear norm orders are only defined for\n",
       "matrices and raise a ValueError when ``x.ndim != 2``.\n",
       "\n",
       "References\n",
       "----------\n",
       ".. [1] G. H. Golub and C. F. Van Loan, *Matrix Computations*,\n",
       "       Baltimore, MD, Johns Hopkins University Press, 1985, pg. 15\n",
       "\n",
       "Examples\n",
       "--------\n",
       ">>> from numpy import linalg as LA\n",
       ">>> a = np.arange(9) - 4\n",
       ">>> a\n",
       "array([-4, -3, -2, ...,  2,  3,  4])\n",
       ">>> b = a.reshape((3, 3))\n",
       ">>> b\n",
       "array([[-4, -3, -2],\n",
       "       [-1,  0,  1],\n",
       "       [ 2,  3,  4]])\n",
       "\n",
       ">>> LA.norm(a)\n",
       "7.745966692414834\n",
       ">>> LA.norm(b)\n",
       "7.745966692414834\n",
       ">>> LA.norm(b, 'fro')\n",
       "7.745966692414834\n",
       ">>> LA.norm(a, np.inf)\n",
       "4.0\n",
       ">>> LA.norm(b, np.inf)\n",
       "9.0\n",
       ">>> LA.norm(a, -np.inf)\n",
       "0.0\n",
       ">>> LA.norm(b, -np.inf)\n",
       "2.0\n",
       "\n",
       ">>> LA.norm(a, 1)\n",
       "20.0\n",
       ">>> LA.norm(b, 1)\n",
       "7.0\n",
       ">>> LA.norm(a, -1)\n",
       "-4.6566128774142013e-010\n",
       ">>> LA.norm(b, -1)\n",
       "6.0\n",
       ">>> LA.norm(a, 2)\n",
       "7.745966692414834\n",
       ">>> LA.norm(b, 2)\n",
       "7.3484692283495345\n",
       "\n",
       ">>> LA.norm(a, -2)\n",
       "0.0\n",
       ">>> LA.norm(b, -2)\n",
       "1.8570331885190563e-016 # may vary\n",
       ">>> LA.norm(a, 3)\n",
       "5.8480354764257312 # may vary\n",
       ">>> LA.norm(a, -3)\n",
       "0.0\n",
       "\n",
       "Using the `axis` argument to compute vector norms:\n",
       "\n",
       ">>> c = np.array([[ 1, 2, 3],\n",
       "...               [-1, 1, 4]])\n",
       ">>> LA.norm(c, axis=0)\n",
       "array([ 1.41421356,  2.23606798,  5.        ])\n",
       ">>> LA.norm(c, axis=1)\n",
       "array([ 3.74165739,  4.24264069])\n",
       ">>> LA.norm(c, ord=1, axis=1)\n",
       "array([ 6.,  6.])\n",
       "\n",
       "Using the `axis` argument to compute matrix norms:\n",
       "\n",
       ">>> m = np.arange(8).reshape(2,2,2)\n",
       ">>> LA.norm(m, axis=(1,2))\n",
       "array([  3.74165739,  11.22497216])\n",
       ">>> LA.norm(m[0, :, :]), LA.norm(m[1, :, :])\n",
       "(3.7416573867739413, 11.224972160321824)\n",
       "\u001b[1;31mFile:\u001b[0m      d:\\conda\\envs\\pip310ecco\\lib\\site-packages\\numpy\\linalg\\linalg.py\n",
       "\u001b[1;31mType:\u001b[0m      function"
      ]
     },
     "metadata": {},
     "output_type": "display_data"
    }
   ],
   "source": [
    "np.linalg.norm?"
   ]
  },
  {
   "cell_type": "code",
   "execution_count": null,
   "id": "a8ed730a-79ff-4c19-9daf-0c48faff7193",
   "metadata": {},
   "outputs": [],
   "source": []
  }
 ],
 "metadata": {
  "kernelspec": {
   "display_name": "Python 3 (ipykernel)",
   "language": "python",
   "name": "python3"
  },
  "language_info": {
   "codemirror_mode": {
    "name": "ipython",
    "version": 3
   },
   "file_extension": ".py",
   "mimetype": "text/x-python",
   "name": "python",
   "nbconvert_exporter": "python",
   "pygments_lexer": "ipython3",
   "version": "3.10.10"
  }
 },
 "nbformat": 4,
 "nbformat_minor": 5
}
