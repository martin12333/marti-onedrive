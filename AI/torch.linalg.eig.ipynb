{
 "cells": [
  {
   "cell_type": "code",
   "execution_count": 1,
   "id": "580f506c-eddf-431f-af73-dabb03536e47",
   "metadata": {},
   "outputs": [],
   "source": [
    "import torch\n"
   ]
  },
  {
   "cell_type": "code",
   "execution_count": 27,
   "id": "ff50f60e-457e-467f-ad32-7d4df93f87b2",
   "metadata": {},
   "outputs": [],
   "source": [
    " A=torch.tensor([[0.0, 1], [1,0]]  )"
   ]
  },
  {
   "cell_type": "code",
   "execution_count": 33,
   "id": "7454a33b-b9cd-414f-a0ab-1ae7ecba8407",
   "metadata": {},
   "outputs": [],
   "source": [
    " A=torch.tensor([[1,0.0], [0,-1]]  )"
   ]
  },
  {
   "cell_type": "code",
   "execution_count": 16,
   "id": "82016974-fb95-4561-85a1-b166c83e4bbe",
   "metadata": {},
   "outputs": [],
   "source": [
    "A=V"
   ]
  },
  {
   "cell_type": "code",
   "execution_count": 57,
   "id": "a67a9013-7357-4a48-acf9-e355b051e833",
   "metadata": {},
   "outputs": [],
   "source": [
    " A=torch.tensor([[1,1], [0.0,1]]  )   # defect https://en.wikipedia.org/wiki/Defective_matrix"
   ]
  },
  {
   "cell_type": "code",
   "execution_count": 45,
   "id": "d3a62dcd-459a-4aa6-8c2c-1427ea81becc",
   "metadata": {},
   "outputs": [],
   "source": [
    " ##A=torch.tensor([[1,1], [0,1]]  )   # defect https://en.wikipedia.org/wiki/Defective_matrix"
   ]
  },
  {
   "cell_type": "code",
   "execution_count": 58,
   "id": "76129e71-7df5-4538-974b-cf83fd0973ee",
   "metadata": {},
   "outputs": [
    {
     "data": {
      "text/plain": [
       "torch.float32"
      ]
     },
     "execution_count": 58,
     "metadata": {},
     "output_type": "execute_result"
    }
   ],
   "source": [
    "A.dtype"
   ]
  },
  {
   "cell_type": "code",
   "execution_count": 47,
   "id": "f263bd0a-5eeb-42d9-83d2-987bf5a2ea68",
   "metadata": {},
   "outputs": [
    {
     "data": {
      "text/plain": [
       "tensor([[ 1.0000e+00+0.j, -1.0000e+00+0.j],\n",
       "        [ 0.0000e+00+0.j,  1.1921e-07+0.j]])"
      ]
     },
     "execution_count": 47,
     "metadata": {},
     "output_type": "execute_result"
    }
   ],
   "source": [
    "V"
   ]
  },
  {
   "cell_type": "code",
   "execution_count": 52,
   "id": "b936ad60-a5ca-419f-b56a-585aca9e372b",
   "metadata": {},
   "outputs": [
    {
     "data": {
      "text/plain": [
       "tensor([1.4142e+00, 8.4294e-08])"
      ]
     },
     "execution_count": 52,
     "metadata": {},
     "output_type": "execute_result"
    }
   ],
   "source": [
    "S"
   ]
  },
  {
   "cell_type": "code",
   "execution_count": null,
   "id": "a373b57e-5e14-4aa2-bd46-4fa8f37f637e",
   "metadata": {},
   "outputs": [],
   "source": []
  },
  {
   "cell_type": "code",
   "execution_count": 59,
   "id": "d46f1fa9-ada4-4bf1-ba08-b7810b824c37",
   "metadata": {},
   "outputs": [],
   "source": [
    ">>> L, V = torch.linalg.eig(A)\n"
   ]
  },
  {
   "cell_type": "code",
   "execution_count": 60,
   "id": "651b70e4-d3ef-451b-b144-a131041ef3b3",
   "metadata": {},
   "outputs": [
    {
     "data": {
      "text/plain": [
       "tensor(16777216.)"
      ]
     },
     "execution_count": 60,
     "metadata": {},
     "output_type": "execute_result"
    }
   ],
   "source": [
    "torch.linalg.cond(V)"
   ]
  },
  {
   "cell_type": "code",
   "execution_count": 54,
   "id": "dd348670-26e5-4af5-8413-0af6ca1529a9",
   "metadata": {},
   "outputs": [
    {
     "data": {
      "text/plain": [
       "tensor([1.0000e+00+0.j, 1.1921e-07+0.j])"
      ]
     },
     "execution_count": 54,
     "metadata": {},
     "output_type": "execute_result"
    }
   ],
   "source": [
    "L"
   ]
  },
  {
   "cell_type": "code",
   "execution_count": 56,
   "id": "265b49a3-7f60-40d0-b0bd-0f4e7428f373",
   "metadata": {},
   "outputs": [
    {
     "data": {
      "text/plain": [
       "tensor([[1.0000+0.j, 0.7071+0.j],\n",
       "        [0.0000+0.j, 0.7071+0.j]])"
      ]
     },
     "execution_count": 56,
     "metadata": {},
     "output_type": "execute_result"
    }
   ],
   "source": [
    "V"
   ]
  },
  {
   "cell_type": "code",
   "execution_count": 32,
   "id": "f2c01e9f-e64f-4da3-9fc6-c22dc014ec28",
   "metadata": {},
   "outputs": [
    {
     "data": {
      "text/plain": [
       "tensor([1.+0.j, 1.+0.j])"
      ]
     },
     "execution_count": 32,
     "metadata": {},
     "output_type": "execute_result"
    }
   ],
   "source": [
    "(L.conj() * L)\n",
    "\n",
    "#(L.conj() * L).norm()"
   ]
  },
  {
   "cell_type": "code",
   "execution_count": 49,
   "id": "22ba2ac7-73d3-4b14-814c-eb50fd04b5d3",
   "metadata": {},
   "outputs": [],
   "source": [
    "A=V"
   ]
  },
  {
   "cell_type": "code",
   "execution_count": 50,
   "id": "a0cd204b-e769-4ce6-8c31-eb27d17b2c19",
   "metadata": {},
   "outputs": [],
   "source": [
    ">>> U, S, Vh = torch.linalg.svd(A)\n"
   ]
  },
  {
   "cell_type": "code",
   "execution_count": 51,
   "id": "ba74e86e-5ba5-4e39-b043-88689b9555bd",
   "metadata": {},
   "outputs": [
    {
     "data": {
      "text/plain": [
       "tensor([[ 1.0000e+00+0.j,  5.9605e-08+0.j],\n",
       "        [-5.9605e-08+0.j,  1.0000e+00+0.j]])"
      ]
     },
     "execution_count": 51,
     "metadata": {},
     "output_type": "execute_result"
    }
   ],
   "source": [
    "U"
   ]
  },
  {
   "cell_type": "code",
   "execution_count": 52,
   "id": "be942cc6-febd-49ee-9645-076a7a7b31fe",
   "metadata": {},
   "outputs": [
    {
     "data": {
      "text/plain": [
       "tensor([1.4142e+00, 8.4294e-08])"
      ]
     },
     "execution_count": 52,
     "metadata": {},
     "output_type": "execute_result"
    }
   ],
   "source": [
    "S"
   ]
  },
  {
   "cell_type": "code",
   "execution_count": 41,
   "id": "3e76697b-175f-4ef5-8516-ef3e28856fc7",
   "metadata": {},
   "outputs": [
    {
     "data": {
      "text/plain": [
       "tensor([[ 0.5257,  0.8507],\n",
       "        [-0.8507,  0.5257]])"
      ]
     },
     "execution_count": 41,
     "metadata": {},
     "output_type": "execute_result"
    }
   ],
   "source": [
    "Vh"
   ]
  },
  {
   "cell_type": "code",
   "execution_count": null,
   "id": "bbb242d2-cf23-4b8e-86a2-8b4cd3b1ea3e",
   "metadata": {},
   "outputs": [],
   "source": []
  },
  {
   "cell_type": "code",
   "execution_count": null,
   "id": "d402d554-52ec-4845-bc9a-7cfa3d9b0ab6",
   "metadata": {},
   "outputs": [],
   "source": []
  },
  {
   "cell_type": "code",
   "execution_count": null,
   "id": "36d8a84b-550d-4f6c-8478-fff45fe2a2b5",
   "metadata": {},
   "outputs": [],
   "source": []
  },
  {
   "cell_type": "code",
   "execution_count": null,
   "id": "ce808eab-fc96-4664-aeb5-d51dda4745b2",
   "metadata": {},
   "outputs": [],
   "source": []
  },
  {
   "cell_type": "code",
   "execution_count": null,
   "id": "18a6e599-0fa7-43b1-8105-5c38498f4e3e",
   "metadata": {},
   "outputs": [],
   "source": []
  }
 ],
 "metadata": {
  "kernelspec": {
   "display_name": "Python 3 (ipykernel)",
   "language": "python",
   "name": "python3"
  },
  "language_info": {
   "codemirror_mode": {
    "name": "ipython",
    "version": 3
   },
   "file_extension": ".py",
   "mimetype": "text/x-python",
   "name": "python",
   "nbconvert_exporter": "python",
   "pygments_lexer": "ipython3",
   "version": "3.10.10"
  }
 },
 "nbformat": 4,
 "nbformat_minor": 5
}
