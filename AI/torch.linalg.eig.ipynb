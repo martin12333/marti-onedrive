{
 "cells": [
  {
   "cell_type": "code",
   "execution_count": 1,
   "id": "580f506c-eddf-431f-af73-dabb03536e47",
   "metadata": {},
   "outputs": [],
   "source": [
    "import torch\n"
   ]
  },
  {
   "cell_type": "code",
   "execution_count": 27,
   "id": "ff50f60e-457e-467f-ad32-7d4df93f87b2",
   "metadata": {},
   "outputs": [],
   "source": [
    " A=torch.tensor([[0.0, 1], [1,0]]  )"
   ]
  },
  {
   "cell_type": "code",
   "execution_count": 30,
   "id": "7454a33b-b9cd-414f-a0ab-1ae7ecba8407",
   "metadata": {},
   "outputs": [],
   "source": [
    " A=torch.tensor([[1,0.0], [0,-1]]  )"
   ]
  },
  {
   "cell_type": "code",
   "execution_count": 16,
   "id": "82016974-fb95-4561-85a1-b166c83e4bbe",
   "metadata": {},
   "outputs": [],
   "source": [
    "A=V"
   ]
  },
  {
   "cell_type": "code",
   "execution_count": 31,
   "id": "d46f1fa9-ada4-4bf1-ba08-b7810b824c37",
   "metadata": {},
   "outputs": [],
   "source": [
    ">>> L, V = torch.linalg.eig(A)\n"
   ]
  },
  {
   "cell_type": "code",
   "execution_count": 18,
   "id": "dd348670-26e5-4af5-8413-0af6ca1529a9",
   "metadata": {},
   "outputs": [
    {
     "data": {
      "text/plain": [
       "tensor([0.7071+0.7071j, 0.7071-0.7071j])"
      ]
     },
     "execution_count": 18,
     "metadata": {},
     "output_type": "execute_result"
    }
   ],
   "source": [
    "L"
   ]
  },
  {
   "cell_type": "code",
   "execution_count": 19,
   "id": "265b49a3-7f60-40d0-b0bd-0f4e7428f373",
   "metadata": {},
   "outputs": [
    {
     "data": {
      "text/plain": [
       "tensor([[7.0711e-01+0.0000j, 4.1392e-08-0.7071j],\n",
       "        [-0.0000e+00-0.7071j, 7.0711e-01+0.0000j]])"
      ]
     },
     "execution_count": 19,
     "metadata": {},
     "output_type": "execute_result"
    }
   ],
   "source": [
    "V"
   ]
  },
  {
   "cell_type": "code",
   "execution_count": 32,
   "id": "f2c01e9f-e64f-4da3-9fc6-c22dc014ec28",
   "metadata": {},
   "outputs": [
    {
     "data": {
      "text/plain": [
       "tensor([1.+0.j, 1.+0.j])"
      ]
     },
     "execution_count": 32,
     "metadata": {},
     "output_type": "execute_result"
    }
   ],
   "source": [
    "(L.conj() * L)\n",
    "\n",
    "#(L.conj() * L).norm()"
   ]
  },
  {
   "cell_type": "code",
   "execution_count": null,
   "id": "a0cd204b-e769-4ce6-8c31-eb27d17b2c19",
   "metadata": {},
   "outputs": [],
   "source": []
  },
  {
   "cell_type": "code",
   "execution_count": null,
   "id": "3e76697b-175f-4ef5-8516-ef3e28856fc7",
   "metadata": {},
   "outputs": [],
   "source": []
  },
  {
   "cell_type": "code",
   "execution_count": null,
   "id": "d402d554-52ec-4845-bc9a-7cfa3d9b0ab6",
   "metadata": {},
   "outputs": [],
   "source": []
  },
  {
   "cell_type": "code",
   "execution_count": null,
   "id": "36d8a84b-550d-4f6c-8478-fff45fe2a2b5",
   "metadata": {},
   "outputs": [],
   "source": []
  },
  {
   "cell_type": "code",
   "execution_count": null,
   "id": "ce808eab-fc96-4664-aeb5-d51dda4745b2",
   "metadata": {},
   "outputs": [],
   "source": []
  },
  {
   "cell_type": "code",
   "execution_count": null,
   "id": "18a6e599-0fa7-43b1-8105-5c38498f4e3e",
   "metadata": {},
   "outputs": [],
   "source": []
  }
 ],
 "metadata": {
  "kernelspec": {
   "display_name": "Python 3 (ipykernel)",
   "language": "python",
   "name": "python3"
  },
  "language_info": {
   "codemirror_mode": {
    "name": "ipython",
    "version": 3
   },
   "file_extension": ".py",
   "mimetype": "text/x-python",
   "name": "python",
   "nbconvert_exporter": "python",
   "pygments_lexer": "ipython3",
   "version": "3.10.10"
  }
 },
 "nbformat": 4,
 "nbformat_minor": 5
}
