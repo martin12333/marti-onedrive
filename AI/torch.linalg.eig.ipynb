{
 "cells": [
  {
   "cell_type": "code",
   "execution_count": null,
   "id": "46396b71-89b3-4693-a146-3a42a23f7ca6",
   "metadata": {
    "dotnet_interactive": {
     "language": "csharp"
    },
    "vscode": {
     "languageId": "dotnet-interactive.csharp"
    }
   },
   "outputs": [],
   "source": []
  },
  {
   "cell_type": "code",
   "execution_count": 1,
   "id": "580f506c-eddf-431f-af73-dabb03536e47",
   "metadata": {},
   "outputs": [],
   "source": [
    "import torch\n"
   ]
  },
  {
   "cell_type": "code",
   "execution_count": 27,
   "id": "ff50f60e-457e-467f-ad32-7d4df93f87b2",
   "metadata": {},
   "outputs": [],
   "source": [
    " A=torch.tensor([[0.0, 1], [1,0]]  )"
   ]
  },
  {
   "cell_type": "code",
   "execution_count": 33,
   "id": "7454a33b-b9cd-414f-a0ab-1ae7ecba8407",
   "metadata": {},
   "outputs": [],
   "source": [
    " A=torch.tensor([[1,0.0], [0,-1]]  )"
   ]
  },
  {
   "cell_type": "code",
   "execution_count": 16,
   "id": "82016974-fb95-4561-85a1-b166c83e4bbe",
   "metadata": {},
   "outputs": [],
   "source": [
    "A=V"
   ]
  },
  {
   "cell_type": "code",
   "execution_count": 57,
   "id": "a67a9013-7357-4a48-acf9-e355b051e833",
   "metadata": {},
   "outputs": [],
   "source": [
    " A=torch.tensor([[1,1], [0.0,1]]  )   # defect https://en.wikipedia.org/wiki/Defective_matrix"
   ]
  },
  {
   "cell_type": "code",
   "execution_count": 45,
   "id": "d3a62dcd-459a-4aa6-8c2c-1427ea81becc",
   "metadata": {},
   "outputs": [],
   "source": [
    " ##A=torch.tensor([[1,1], [0,1]]  )   # defect https://en.wikipedia.org/wiki/Defective_matrix"
   ]
  },
  {
   "cell_type": "code",
   "execution_count": 58,
   "id": "76129e71-7df5-4538-974b-cf83fd0973ee",
   "metadata": {},
   "outputs": [
    {
     "data": {
      "text/plain": [
       "torch.float32"
      ]
     },
     "execution_count": 58,
     "metadata": {},
     "output_type": "execute_result"
    }
   ],
   "source": [
    "A.dtype"
   ]
  },
  {
   "cell_type": "code",
   "execution_count": 47,
   "id": "f263bd0a-5eeb-42d9-83d2-987bf5a2ea68",
   "metadata": {},
   "outputs": [
    {
     "data": {
      "text/plain": [
       "tensor([[ 1.0000e+00+0.j, -1.0000e+00+0.j],\n",
       "        [ 0.0000e+00+0.j,  1.1921e-07+0.j]])"
      ]
     },
     "execution_count": 47,
     "metadata": {},
     "output_type": "execute_result"
    }
   ],
   "source": [
    "V"
   ]
  },
  {
   "cell_type": "code",
   "execution_count": 52,
   "id": "b936ad60-a5ca-419f-b56a-585aca9e372b",
   "metadata": {},
   "outputs": [
    {
     "data": {
      "text/plain": [
       "tensor([1.4142e+00, 8.4294e-08])"
      ]
     },
     "execution_count": 52,
     "metadata": {},
     "output_type": "execute_result"
    }
   ],
   "source": [
    "S"
   ]
  },
  {
   "cell_type": "code",
   "execution_count": 60,
   "id": "59b78851-764b-41cb-ab92-3d83d1048288",
   "metadata": {},
   "outputs": [
    {
     "data": {
      "text/plain": [
       "tensor(16777216.)"
      ]
     },
     "execution_count": 60,
     "metadata": {},
     "output_type": "execute_result"
    }
   ],
   "source": [
    "torch.linalg.cond(V)"
   ]
  },
  {
   "cell_type": "code",
   "execution_count": null,
   "id": "e0cb4304-cefe-4942-869e-dd90a412ca1f",
   "metadata": {},
   "outputs": [],
   "source": []
  },
  {
   "cell_type": "code",
   "execution_count": null,
   "id": "bdec2adb-c093-42fc-b8c3-dd4731eac423",
   "metadata": {},
   "outputs": [],
   "source": []
  },
  {
   "cell_type": "code",
   "execution_count": 59,
   "id": "d46f1fa9-ada4-4bf1-ba08-b7810b824c37",
   "metadata": {},
   "outputs": [],
   "source": [
    ">>> L, V = torch.linalg.eig(A)\n"
   ]
  },
  {
   "cell_type": "code",
   "execution_count": 60,
   "id": "651b70e4-d3ef-451b-b144-a131041ef3b3",
   "metadata": {},
   "outputs": [
    {
     "data": {
      "text/plain": [
       "tensor(16777216.)"
      ]
     },
     "execution_count": 60,
     "metadata": {},
     "output_type": "execute_result"
    }
   ],
   "source": [
    "torch.linalg.cond(V)"
   ]
  },
  {
   "cell_type": "code",
   "execution_count": 61,
   "id": "dd348670-26e5-4af5-8413-0af6ca1529a9",
   "metadata": {},
   "outputs": [
    {
     "data": {
      "text/plain": [
       "tensor([1.+0.j, 1.+0.j])"
      ]
     },
     "execution_count": 61,
     "metadata": {},
     "output_type": "execute_result"
    }
   ],
   "source": [
    "L"
   ]
  },
  {
   "cell_type": "code",
   "execution_count": 56,
   "id": "265b49a3-7f60-40d0-b0bd-0f4e7428f373",
   "metadata": {},
   "outputs": [
    {
     "data": {
      "text/plain": [
       "tensor([[1.0000+0.j, 0.7071+0.j],\n",
       "        [0.0000+0.j, 0.7071+0.j]])"
      ]
     },
     "execution_count": 56,
     "metadata": {},
     "output_type": "execute_result"
    }
   ],
   "source": [
    "V"
   ]
  },
  {
   "cell_type": "code",
   "execution_count": 32,
   "id": "f2c01e9f-e64f-4da3-9fc6-c22dc014ec28",
   "metadata": {},
   "outputs": [
    {
     "data": {
      "text/plain": [
       "tensor([1.+0.j, 1.+0.j])"
      ]
     },
     "execution_count": 32,
     "metadata": {},
     "output_type": "execute_result"
    }
   ],
   "source": [
    "(L.conj() * L)\n",
    "\n",
    "#(L.conj() * L).norm()"
   ]
  },
  {
   "cell_type": "code",
   "execution_count": 49,
   "id": "22ba2ac7-73d3-4b14-814c-eb50fd04b5d3",
   "metadata": {},
   "outputs": [],
   "source": [
    "A=V"
   ]
  },
  {
   "cell_type": "code",
   "execution_count": 50,
   "id": "a0cd204b-e769-4ce6-8c31-eb27d17b2c19",
   "metadata": {},
   "outputs": [],
   "source": [
    ">>> U, S, Vh = torch.linalg.svd(A)\n"
   ]
  },
  {
   "cell_type": "code",
   "execution_count": 51,
   "id": "ba74e86e-5ba5-4e39-b043-88689b9555bd",
   "metadata": {},
   "outputs": [
    {
     "data": {
      "text/plain": [
       "tensor([[ 1.0000e+00+0.j,  5.9605e-08+0.j],\n",
       "        [-5.9605e-08+0.j,  1.0000e+00+0.j]])"
      ]
     },
     "execution_count": 51,
     "metadata": {},
     "output_type": "execute_result"
    }
   ],
   "source": [
    "U"
   ]
  },
  {
   "cell_type": "code",
   "execution_count": 52,
   "id": "be942cc6-febd-49ee-9645-076a7a7b31fe",
   "metadata": {},
   "outputs": [
    {
     "data": {
      "text/plain": [
       "tensor([1.4142e+00, 8.4294e-08])"
      ]
     },
     "execution_count": 52,
     "metadata": {},
     "output_type": "execute_result"
    }
   ],
   "source": [
    "S"
   ]
  },
  {
   "cell_type": "code",
   "execution_count": 41,
   "id": "3e76697b-175f-4ef5-8516-ef3e28856fc7",
   "metadata": {},
   "outputs": [
    {
     "data": {
      "text/plain": [
       "tensor([[ 0.5257,  0.8507],\n",
       "        [-0.8507,  0.5257]])"
      ]
     },
     "execution_count": 41,
     "metadata": {},
     "output_type": "execute_result"
    }
   ],
   "source": [
    "Vh"
   ]
  },
  {
   "cell_type": "code",
   "execution_count": null,
   "id": "bbb242d2-cf23-4b8e-86a2-8b4cd3b1ea3e",
   "metadata": {},
   "outputs": [],
   "source": []
  },
  {
   "cell_type": "code",
   "execution_count": null,
   "id": "d402d554-52ec-4845-bc9a-7cfa3d9b0ab6",
   "metadata": {},
   "outputs": [],
   "source": []
  },
  {
   "cell_type": "code",
   "execution_count": null,
   "id": "36d8a84b-550d-4f6c-8478-fff45fe2a2b5",
   "metadata": {},
   "outputs": [],
   "source": []
  },
  {
   "cell_type": "code",
   "execution_count": null,
   "id": "ce808eab-fc96-4664-aeb5-d51dda4745b2",
   "metadata": {
    "jupyter": {
     "source_hidden": true
    },
    "tags": []
   },
   "outputs": [],
   "source": []
  },
  {
   "cell_type": "code",
   "execution_count": null,
   "id": "bb46cbdc-bf93-4ccf-8dd4-445fbdfb0f93",
   "metadata": {},
   "outputs": [],
   "source": [
    "#mm-begin-of-my-wrong-experim\n"
   ]
  },
  {
   "cell_type": "code",
   "execution_count": 32,
   "id": "606bc87b-2abb-40b6-9583-748765b5fdd5",
   "metadata": {},
   "outputs": [
    {
     "name": "stdout",
     "output_type": "stream",
     "text": [
      "tensor([2.6041], grad_fn=<PowBackward0>)\n",
      "tensor([-3.2275])\n"
     ]
    }
   ],
   "source": [
    "#mm-begin-of-my-wrong-experim\n",
    "x1 = torch.Tensor([0.0])               ; x1.requires_grad = True\n",
    "x2 = torch.Tensor([0.0])                ; x2.requires_grad = True\n",
    "w1 = torch.Tensor([3.0])             ; w1.requires_grad = True\n",
    "w2 = torch.Tensor([4.0])                ; w2.requires_grad = True\n",
    "\n",
    "w=torch.Tensor([w1,  w2]);  w.requires_grad =True\n",
    "\n",
    "b = torch.Tensor([ -1.613735870195432]) ; b.requires_grad = True\n",
    "n = x1*w1 + x2*w2 + b\n",
    "#n= x1*w1 + b\n",
    "#n= x1 + b\n",
    "#o = torch.tanh(n)\n",
    "o = n\n",
    "\n",
    "#loss = sum((yout - ygt)**2 for ygt, yout in zip(ys, ypred))\n",
    "loss=(o)**2\n",
    "\n",
    "loss.backward()\n",
    "print(loss)\n",
    "print(b.grad)\n",
    "####print(loss.grad)"
   ]
  },
  {
   "cell_type": "code",
   "execution_count": 40,
   "id": "0c2ec44b-79ad-42ee-aa3d-f86f55bf17cc",
   "metadata": {},
   "outputs": [],
   "source": [
    "import functorch"
   ]
  },
  {
   "cell_type": "code",
   "execution_count": null,
   "id": "33d57421-1b09-431b-a572-9a81f23866a3",
   "metadata": {},
   "outputs": [],
   "source": []
  },
  {
   "cell_type": "code",
   "execution_count": 39,
   "id": "dde5766a-e434-4a78-ac25-04bd151a602f",
   "metadata": {},
   "outputs": [
    {
     "name": "stdout",
     "output_type": "stream",
     "text": [
      "tensor(0.)\n",
      "tensor([0., 0.])\n"
     ]
    },
    {
     "data": {
      "text/plain": [
       "tensor([[0., 0.],\n",
       "        [0., 0.]])"
      ]
     },
     "execution_count": 39,
     "metadata": {},
     "output_type": "execute_result"
    }
   ],
   "source": [
    "#mm wrong\n",
    "##def pow_reducer(w1, w2):\n",
    "def pow_reducer( x):\n",
    "#     return x.pow(3).sum()\n",
    "\n",
    "#    return (w1+ w2)**2\n",
    "#    return (p[0].dot(p[1]))**2\n",
    "#    return (p[0].dot(p[1]))\n",
    "    \n",
    "    return (w.dot(x))\n",
    "\n",
    "\n",
    "###inputs = torch.tensor([[w1,w2],[x1,x2]])\n",
    "inputs = torch.tensor([x1,x2])\n",
    "print(inputs[1])\n",
    "print(inputs)\n",
    "###inputs = (w1, w2 )\n",
    "h=torch.autograd.functional.hessian(pow_reducer, inputs)\n",
    "h[0,0]\n",
    "h\n",
    "12\n",
    "w\n",
    "h\n",
    "# tensor([[[[2.]]]])"
   ]
  },
  {
   "cell_type": "code",
   "execution_count": 31,
   "id": "24a991e2-0977-42e0-9e67-db6f4e98dfdf",
   "metadata": {},
   "outputs": [
    {
     "name": "stdout",
     "output_type": "stream",
     "text": [
      "-1.6137359142303467\n"
     ]
    },
    {
     "ename": "RuntimeError",
     "evalue": "Trying to backward through the graph a second time (or directly access saved tensors after they have already been freed). Saved intermediate values of the graph are freed when you call .backward() or autograd.grad(). Specify retain_graph=True if you need to backward through the graph a second time or if you need to access saved tensors after calling backward.",
     "output_type": "error",
     "traceback": [
      "\u001b[1;31m-----------------------------------------------------------\u001b[0m",
      "\u001b[1;31mRuntimeError\u001b[0m              Traceback (most recent call last)",
      "Cell \u001b[1;32mIn[31], line 2\u001b[0m\n\u001b[0;32m      1\u001b[0m \u001b[38;5;28mprint\u001b[39m(o\u001b[38;5;241m.\u001b[39mdata\u001b[38;5;241m.\u001b[39mitem())\n\u001b[1;32m----> 2\u001b[0m \u001b[43mo\u001b[49m\u001b[38;5;241;43m.\u001b[39;49m\u001b[43mbackward\u001b[49m\u001b[43m(\u001b[49m\u001b[43m)\u001b[49m\n\u001b[0;32m      4\u001b[0m \u001b[38;5;28mprint\u001b[39m(\u001b[38;5;124m'\u001b[39m\u001b[38;5;124m---\u001b[39m\u001b[38;5;124m'\u001b[39m)\n\u001b[0;32m      5\u001b[0m \u001b[38;5;28mprint\u001b[39m(\u001b[38;5;124m'\u001b[39m\u001b[38;5;124mx2\u001b[39m\u001b[38;5;124m'\u001b[39m, x2\u001b[38;5;241m.\u001b[39mgrad\u001b[38;5;241m.\u001b[39mitem())\n",
      "File \u001b[1;32mD:\\conda\\envs\\pip310\\lib\\site-packages\\torch\\_tensor.py:488\u001b[0m, in \u001b[0;36mTensor.backward\u001b[1;34m(self, gradient, retain_graph, create_graph, inputs)\u001b[0m\n\u001b[0;32m    478\u001b[0m \u001b[38;5;28;01mif\u001b[39;00m has_torch_function_unary(\u001b[38;5;28mself\u001b[39m):\n\u001b[0;32m    479\u001b[0m     \u001b[38;5;28;01mreturn\u001b[39;00m handle_torch_function(\n\u001b[0;32m    480\u001b[0m         Tensor\u001b[38;5;241m.\u001b[39mbackward,\n\u001b[0;32m    481\u001b[0m         (\u001b[38;5;28mself\u001b[39m,),\n\u001b[1;32m   (...)\u001b[0m\n\u001b[0;32m    486\u001b[0m         inputs\u001b[38;5;241m=\u001b[39minputs,\n\u001b[0;32m    487\u001b[0m     )\n\u001b[1;32m--> 488\u001b[0m \u001b[43mtorch\u001b[49m\u001b[38;5;241;43m.\u001b[39;49m\u001b[43mautograd\u001b[49m\u001b[38;5;241;43m.\u001b[39;49m\u001b[43mbackward\u001b[49m\u001b[43m(\u001b[49m\n\u001b[0;32m    489\u001b[0m \u001b[43m    \u001b[49m\u001b[38;5;28;43mself\u001b[39;49m\u001b[43m,\u001b[49m\u001b[43m \u001b[49m\u001b[43mgradient\u001b[49m\u001b[43m,\u001b[49m\u001b[43m \u001b[49m\u001b[43mretain_graph\u001b[49m\u001b[43m,\u001b[49m\u001b[43m \u001b[49m\u001b[43mcreate_graph\u001b[49m\u001b[43m,\u001b[49m\u001b[43m \u001b[49m\u001b[43minputs\u001b[49m\u001b[38;5;241;43m=\u001b[39;49m\u001b[43minputs\u001b[49m\n\u001b[0;32m    490\u001b[0m \u001b[43m\u001b[49m\u001b[43m)\u001b[49m\n",
      "File \u001b[1;32mD:\\conda\\envs\\pip310\\lib\\site-packages\\torch\\autograd\\__init__.py:197\u001b[0m, in \u001b[0;36mbackward\u001b[1;34m(tensors, grad_tensors, retain_graph, create_graph, grad_variables, inputs)\u001b[0m\n\u001b[0;32m    192\u001b[0m     retain_graph \u001b[38;5;241m=\u001b[39m create_graph\n\u001b[0;32m    194\u001b[0m \u001b[38;5;66;03m# The reason we repeat same the comment below is that\u001b[39;00m\n\u001b[0;32m    195\u001b[0m \u001b[38;5;66;03m# some Python versions print out the first line of a multi-line function\u001b[39;00m\n\u001b[0;32m    196\u001b[0m \u001b[38;5;66;03m# calls in the traceback and some print out the last line\u001b[39;00m\n\u001b[1;32m--> 197\u001b[0m \u001b[43mVariable\u001b[49m\u001b[38;5;241;43m.\u001b[39;49m\u001b[43m_execution_engine\u001b[49m\u001b[38;5;241;43m.\u001b[39;49m\u001b[43mrun_backward\u001b[49m\u001b[43m(\u001b[49m\u001b[43m  \u001b[49m\u001b[38;5;66;43;03m# Calls into the C++ engine to run the backward pass\u001b[39;49;00m\n\u001b[0;32m    198\u001b[0m \u001b[43m    \u001b[49m\u001b[43mtensors\u001b[49m\u001b[43m,\u001b[49m\u001b[43m \u001b[49m\u001b[43mgrad_tensors_\u001b[49m\u001b[43m,\u001b[49m\u001b[43m \u001b[49m\u001b[43mretain_graph\u001b[49m\u001b[43m,\u001b[49m\u001b[43m \u001b[49m\u001b[43mcreate_graph\u001b[49m\u001b[43m,\u001b[49m\u001b[43m \u001b[49m\u001b[43minputs\u001b[49m\u001b[43m,\u001b[49m\n\u001b[0;32m    199\u001b[0m \u001b[43m    \u001b[49m\u001b[43mallow_unreachable\u001b[49m\u001b[38;5;241;43m=\u001b[39;49m\u001b[38;5;28;43;01mTrue\u001b[39;49;00m\u001b[43m,\u001b[49m\u001b[43m \u001b[49m\u001b[43maccumulate_grad\u001b[49m\u001b[38;5;241;43m=\u001b[39;49m\u001b[38;5;28;43;01mTrue\u001b[39;49;00m\u001b[43m)\u001b[49m\n",
      "\u001b[1;31mRuntimeError\u001b[0m: Trying to backward through the graph a second time (or directly access saved tensors after they have already been freed). Saved intermediate values of the graph are freed when you call .backward() or autograd.grad(). Specify retain_graph=True if you need to backward through the graph a second time or if you need to access saved tensors after calling backward."
     ]
    }
   ],
   "source": [
    "print(o.data.item())\n",
    "o.backward()\n",
    "\n",
    "print('---')\n",
    "print('x2', x2.grad.item())\n",
    "print('w2', w2.grad.item())\n",
    "print('x1', x1.grad.item())\n",
    "print('w1', w1.grad.item())"
   ]
  },
  {
   "cell_type": "code",
   "execution_count": null,
   "id": "de44e24c-b1b7-4096-ac33-8d61549ff56f",
   "metadata": {},
   "outputs": [],
   "source": []
  },
  {
   "cell_type": "code",
   "execution_count": null,
   "id": "18a6e599-0fa7-43b1-8105-5c38498f4e3e",
   "metadata": {},
   "outputs": [],
   "source": []
  }
 ],
 "metadata": {
  "kernelspec": {
   "display_name": "Python 3 (ipykernel)",
   "language": "python",
   "name": "python3"
  },
  "language_info": {
   "codemirror_mode": {
    "name": "ipython",
    "version": 3
   },
   "file_extension": ".py",
   "mimetype": "text/x-python",
   "name": "python",
   "nbconvert_exporter": "python",
   "pygments_lexer": "ipython3",
   "version": "3.10.10"
  }
 },
 "nbformat": 4,
 "nbformat_minor": 5
}
