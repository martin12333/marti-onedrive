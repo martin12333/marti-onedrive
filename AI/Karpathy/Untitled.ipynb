{
 "cells": [
  {
   "cell_type": "code",
   "execution_count": null,
   "id": "8451f0e6-d114-426e-9e7a-5b7f271727d4",
   "metadata": {},
   "outputs": [],
   "source": []
  },
  {
   "cell_type": "code",
   "execution_count": null,
   "id": "2247eb8e-c55f-4338-a72a-b776199312c7",
   "metadata": {},
   "outputs": [],
   "source": []
  },
  {
   "cell_type": "code",
   "execution_count": null,
   "id": "d7a4e286-dffe-4608-8666-82da3a7a4736",
   "metadata": {},
   "outputs": [],
   "source": []
  },
  {
   "cell_type": "code",
   "execution_count": null,
   "id": "830f984e-fe05-4763-99cd-ff6183b8c169",
   "metadata": {},
   "outputs": [],
   "source": [
    "from transformers import AutoTokenizer, AutoModelForCausalLM\n",
    "\n",
    "tokenizer = AutoTokenizer.from_pretrained(\"sshleifer/tiny-gpt2\")\n",
    "\n",
    "model = AutoModelForCausalLM.from_pretrained(\"sshleifer/tiny-gpt2\")"
   ]
  },
  {
   "cell_type": "code",
   "execution_count": null,
   "id": "9b57d722-f32c-4e53-84b4-8fa21f24cc2f",
   "metadata": {},
   "outputs": [],
   "source": []
  },
  {
   "cell_type": "raw",
   "id": "c5bd8f26-e023-4ed9-915b-3fca7a40aab3",
   "metadata": {},
   "source": [
    "#model_name = \"nlptown/bert-base-multilingual-uncased-sentiment\"\n",
    "## This model only exists in PyTorch, so we use the `from_pt` flag to import that model in TensorFlow.\n",
    "#model = TFAutoModelForSequenceClassification.from_pretrained(model_name, from_pt=True)\n",
    "#tokenizer = AutoTokenizer.from_pretrained(model_name)\n",
    "#classifier = pipeline('sentiment-analysis', model=model, tokenizer=tokenizer)"
   ]
  },
  {
   "cell_type": "code",
   "execution_count": null,
   "id": "68af3678-552e-4382-b5bf-64f7295b2c63",
   "metadata": {},
   "outputs": [],
   "source": []
  },
  {
   "cell_type": "code",
   "execution_count": null,
   "id": "25afa5f9-5003-4067-81e9-b0a495d02a0c",
   "metadata": {},
   "outputs": [],
   "source": [
    "import tensorflow as tf"
   ]
  },
  {
   "cell_type": "code",
   "execution_count": null,
   "id": "8ef46844-a31a-4b6e-bccf-408ec9b74428",
   "metadata": {},
   "outputs": [],
   "source": []
  },
  {
   "cell_type": "code",
   "execution_count": null,
   "id": "14b3882a-0f14-407d-9999-4d25f40d79ac",
   "metadata": {},
   "outputs": [],
   "source": []
  }
 ],
 "metadata": {
  "kernelspec": {
   "display_name": "Python 3 (ipykernel)",
   "language": "python",
   "name": "python3"
  },
  "language_info": {
   "codemirror_mode": {
    "name": "ipython",
    "version": 3
   },
   "file_extension": ".py",
   "mimetype": "text/x-python",
   "name": "python",
   "nbconvert_exporter": "python",
   "pygments_lexer": "ipython3",
   "version": "3.10.10"
  }
 },
 "nbformat": 4,
 "nbformat_minor": 5
}
