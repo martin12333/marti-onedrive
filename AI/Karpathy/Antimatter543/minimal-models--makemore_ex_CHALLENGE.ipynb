{
 "cells": [
  {
   "cell_type": "code",
   "execution_count": null,
   "metadata": {},
   "outputs": [],
   "source": []
  },
  {
   "cell_type": "code",
   "execution_count": 34,
   "metadata": {},
   "outputs": [],
   "source": [
    "#mm ... small edits by M. M.\n",
    "# (#aaa #aaaa #aaaa ... \"attention\", \"importance\" marks, just for M. M.)\n",
    "#mm-todo-tweak #aaaa\n",
    "\n",
    "#mm\n",
    "import torch\n",
    "torch.set_printoptions(profile='short')\n",
    "#%precision 2\n",
    "# https://pytorch.org/docs/stable/generated/torch.set_printoptions.html\n",
    "#torch.set_printoptions(precision=0)\n",
    "torch.set_printoptions(threshold=7)\n",
    "torch.set_printoptions(edgeitems=3)\n"
   ]
  },
  {
   "cell_type": "code",
   "execution_count": null,
   "metadata": {},
   "outputs": [],
   "source": []
  },
  {
   "cell_type": "markdown",
   "metadata": {},
   "source": [
    "Karpathy has CHALLENGED US TO BEAT HIS VALIDATION LOSS OF 2.2 (dev set loss).\n",
    "WE MUST!!! ONWARDS!!!! (We'll change the hyperparameters hbehehe)\n",
    "Also, he said we should be able to read a good chunk of the paper by now, so let's try that too :D\n",
    "\n",
    "Anyways, for this, let's make nice functions where we can change all the hyperparameters.\n",
    "Batch size, # neurons, C embedding size, lr, ... \n",
    "\n",
    "# E01: Beat Big K's 2.2 validation (dev set) loss"
   ]
  },
  {
   "cell_type": "code",
   "execution_count": 35,
   "metadata": {},
   "outputs": [],
   "source": [
    "import torch\n",
    "import torch.nn.functional as F\n",
    "import matplotlib.pyplot as plt\n",
    "%matplotlib inline"
   ]
  },
  {
   "cell_type": "code",
   "execution_count": 36,
   "metadata": {},
   "outputs": [
    {
     "data": {
      "text/plain": [
       "['emma', 'olivia', 'ava', 'isabella', 'sophia', 'charlotte', 'mia', 'amelia']"
      ]
     },
     "execution_count": 36,
     "metadata": {},
     "output_type": "execute_result"
    }
   ],
   "source": [
    "# Read words and generate our char <-> int functions\n",
    "words = open('../names.txt', 'r').read().splitlines() # Read everything\n",
    "chars = sorted(list(set(''.join(words))))\n",
    "stoi = {s:i+1 for i, s in enumerate(chars)} # string to integer\n",
    "stoi['.'] = 0\n",
    "itos = {i: s for s, i in stoi.items()} # int to string\n",
    "\n",
    "words[:8] # woo\n"
   ]
  },
  {
   "cell_type": "markdown",
   "metadata": {},
   "source": [
    "Making our dataset splits"
   ]
  },
  {
   "cell_type": "code",
   "execution_count": 37,
   "metadata": {},
   "outputs": [],
   "source": [
    "def generate_dataset(words, block_size, doprint=False):\n",
    "\t\"\"\"returns X, Y datasets based on words list\n",
    "\tblock_size: context length: how many characters do we take to predict the next one?\n",
    "\t\"\"\"\n",
    "\tX, Y = [], []\n",
    "\n",
    "\tfor w in words:\n",
    "\t\tif doprint:\n",
    "\t\t\tprint(w)\t\n",
    "\t\tcontext = [0] * block_size # this would make [0, 0, ...] based on block_size\n",
    "\n",
    "\t\tfor ch in w + '.': \n",
    "\t\t\tix = stoi[ch] # index of char\n",
    "\t\t\tX.append(context)\n",
    "\t\t\tY.append(ix)\n",
    "\t\t\t\n",
    "\t\t\tif doprint:\n",
    "\t\t\t\tprint(''.join(itos[i] for i in context), '------>', itos[ix])\n",
    "\t\t\tcontext = context[1:] + [ix] # [0,0,0] -> [0,0, ix] like a rolling effect\n",
    "\n",
    "\tX = torch.tensor(X)\n",
    "\tY = torch.tensor(Y)\n",
    "\tprint(X.shape, Y.shape)\n",
    "\treturn X, Y"
   ]
  },
  {
   "cell_type": "code",
   "execution_count": null,
   "metadata": {},
   "outputs": [],
   "source": []
  },
  {
   "cell_type": "code",
   "execution_count": 38,
   "metadata": {},
   "outputs": [],
   "source": [
    "### Hyperparameters!!! CHANGE STUFF HERE\n",
    "\n",
    "#mm-todo-tweak #aaaa\n",
    "\n",
    "block_size = 3 # num of past chars to use to predict next char\n",
    "embedding_size = 2 #10\n",
    "num_neurons = 100 # 250 # for layer 1 \n",
    "batch_size = 48"
   ]
  },
  {
   "cell_type": "code",
   "execution_count": null,
   "metadata": {},
   "outputs": [],
   "source": []
  },
  {
   "cell_type": "code",
   "execution_count": 39,
   "metadata": {},
   "outputs": [
    {
     "name": "stdout",
     "output_type": "stream",
     "text": [
      "number of words: 32033\n",
      "torch.Size([182625, 3]) torch.Size([182625])\n",
      "torch.Size([22655, 3]) torch.Size([22655])\n",
      "torch.Size([22866, 3]) torch.Size([22866])\n"
     ]
    }
   ],
   "source": [
    "# Generate our train, dev, and test loss. We'll be trying to get dev loss < 2.2\n",
    "import random\n",
    "random.seed(42)\n",
    "random.shuffle(words)\n",
    "n1 = int(0.8*len(words))\n",
    "n2 = int(0.9*len(words))\n",
    "print(f'number of words: {len(words)}')\n",
    "\n",
    "Xtr, Ytr = generate_dataset(words[:n1], block_size)\n",
    "Xdev, Ydev = generate_dataset(words[n1:n2], block_size)\n",
    "Xte, Yte = generate_dataset(words[n2:], block_size)\n",
    "# Of course, the sizes are way more massive than # word examples because these are the examples from the words (char stuff), not the words themselves."
   ]
  },
  {
   "cell_type": "markdown",
   "metadata": {},
   "source": [
    "Next up, initialisation of our model! I.e, we'll initialise the weights."
   ]
  },
  {
   "cell_type": "code",
   "execution_count": 40,
   "metadata": {},
   "outputs": [
    {
     "name": "stdout",
     "output_type": "stream",
     "text": [
      "Number of parameters in total: 3481\n"
     ]
    },
    {
     "data": {
      "text/plain": [
       "(torch.Size([27, 2]), torch.Size([6, 100]))"
      ]
     },
     "execution_count": 40,
     "metadata": {},
     "output_type": "execute_result"
    }
   ],
   "source": [
    "g = torch.Generator().manual_seed(2147483647) # This will be a 'global' generator\n",
    "def generate_parameters(block_size, embedding_size, num_neurons):\n",
    "\t# We booosting our hidden layer size\n",
    "\tC = torch.randn(27, embedding_size, generator=g) # Generate embedding of characters, e.g (27,10)\n",
    "\n",
    "\tW1 = torch.randn((embedding_size * block_size, num_neurons), generator=g) # first weights takes input from \n",
    "\tb1 = torch.randn(num_neurons, generator=g)\n",
    "\tW2 = torch.randn((num_neurons, 27), generator=g)\n",
    "\tb2 = torch.randn(27, generator=g)\n",
    "\tparameters = [C, W1, b1, W2, b2] # for easy summing parameters\n",
    "\n",
    "\tfor p in parameters:  # Turn on requires grad for our parameter matrices\n",
    "\t\tp.requires_grad = True\n",
    "\t\t\n",
    "\tprint(\"Number of parameters in total:\", sum(p.nelement() for p in parameters)) # num of parameters in total\n",
    "\n",
    "\treturn parameters\n",
    "parameters = generate_parameters(block_size, embedding_size, num_neurons)\n",
    "C, W1, b1, W2, b2 = parameters\n",
    "C.shape, W1.shape\n"
   ]
  },
  {
   "cell_type": "markdown",
   "metadata": {},
   "source": [
    "Just as a consolidation bit, we'd be wanting to do this to push it through the first layer\n",
    "```\n",
    "C[Xtr] @ W1 + b1 # -> doesn't work, as C[Xtr].shape -> torch.Size([182484, 3, 10]) || Each example has 3 inputs, and each char input has an embedding size of 10.\n",
    "W1 -> torch.Size([30, 200]). \n",
    "```\n",
    "We want to flatten the embedded stuff so each example just reads as a 30 length vector (or w.e the size of the thingy is), i.e ([# examples, block*embedding sizes ]). We do this via: \n",
    "```\n",
    "C[Xtr].view((-1, block_size*embedding_size)).shape -> torch.Size([182484, 30])\n",
    "C[Xtr].view((-1, block_size*embedding_size)) @ W1 + b1 # works! -> torch.Size([182484, 200]). Yay!\n",
    "```"
   ]
  },
  {
   "cell_type": "markdown",
   "metadata": {},
   "source": [
    "## And now we'll have to do gradient descent on the model. \n",
    "\n",
    "(this is called the training loop or whatever)\n",
    "If I remember well,\n",
    "\n",
    "0th step; we can minibatch! To make the mfer run faster, even at some loss of accuracy of the gradient to descend, it's still much better overall.\n",
    "\n",
    "#### First step, is forward passing.\n",
    " We get the training data (specifically, training data from minibatch). We embed it, and flatten that embedding (using the efficient .view(..)), and then 'run it through' the layers by doing our activation on it. Then we run it through the second layer (our final one), giving us the logits.\n",
    "\n",
    "We can get the loss straight up by doing F.cross_entropy, or we can get the probability dist. by softmaxing it. (And then you could work out loss. Remember, these functions are doing very simple things we've already done!! -- they just exp, normalise weights, and then get the negative loss likelihood).\n",
    "\n",
    "#### The backwards pass\n",
    "Make sure to set all our grads to 0.\n",
    "Then we just  loss.backward(), propagating through every operation done and getting it's gradient w.r.t loss\n",
    "\n",
    "#### Updating weights\n",
    "And we just update the weights now :D \n"
   ]
  },
  {
   "cell_type": "code",
   "execution_count": null,
   "metadata": {},
   "outputs": [],
   "source": []
  },
  {
   "cell_type": "code",
   "execution_count": 41,
   "metadata": {},
   "outputs": [],
   "source": [
    "#mm\n",
    "#aaaa\n",
    "# add embedding projector data to summary\n",
    "##writer.add_embedding(P.transpose(1,0)   , metadata= ['@']+chars )\n",
    "                    # ,     global_step=n27)\n",
    "\n",
    "#writer.flush()\n",
    "## close writer\n",
    "##writer.close()\n"
   ]
  },
  {
   "cell_type": "code",
   "execution_count": 42,
   "metadata": {},
   "outputs": [],
   "source": [
    "# Implemented hardcode first\n",
    "\n",
    "def train(X: torch.Tensor, Y: torch.Tensor, num_steps: int, block_size: int, embedding_size: int, batch_size:int,  parameters, doTrack = False): \n",
    "\t\"\"\"_summary_\n",
    "\n",
    "\tArgs:\n",
    "\t\tX (torch.Tensor): X dataset to train on (train with our Xtr!)\n",
    "\t\tY (torch.Tensor): Y dataset for labels\n",
    "\t\tnum_steps (int): Number of times to go through loop\n",
    "\t\tblock_size (int): Context length; # characters used to predict next one\n",
    "\t\tembedding_size (int): Size of embedding for the characters\n",
    "\t\tparameters (_type_): param\n",
    "\n",
    "\n",
    "\t\"\"\"\n",
    "\tC, W1, b1, W2, b2 = parameters\n",
    "\t# track stats (optional)\n",
    "\tstepi, lossi = [], []\n",
    "\n",
    "\t# Main training loop\n",
    "\tfor i in range(num_steps):\n",
    "\t\tix = torch.randint(0, X.shape[0], (32,)) # We get {minibatch_size} random ints from size of 0- training set\n",
    "\t\t\n",
    "\t\t# forward pass -- on our minibatch :o !!!!\n",
    "\t\temb = C[X[ix]] # (32,3,2) here || (minibatch_size, block_size, embed size))\n",
    "\t\t# print(f'{emb.shape=}')\n",
    "\t\th = torch.tanh(emb.view(-1, block_size*embedding_size) @ W1 + b1) # We do the whole embed flatten, push it through layer 1, and tanh activation on it. All elements of h is between [-1, 1]\n",
    "\t\tlogits = h @ W2 + b2 # (32, 27)\n",
    "\n",
    "\n",
    "\t\tloss = F.cross_entropy(logits, Y[ix]) # Does the epic normalisation stuff for us \n",
    "\t\t# print(f'Loss during this minibatch loop: {loss=}')\n",
    "\n",
    "\t\t# backward pass - zero grad, backprop\n",
    "\t\tfor p in parameters:\n",
    "\t\t\tp.grad = None\n",
    "\t\tloss.backward()\n",
    "\n",
    "\t\t# update\n",
    "\t\t# lr = lrs[i]\n",
    "        \n",
    "#mm-todo-tweak #aaaa\n",
    "       \n",
    "\t\t#lr = 0.1 if i < 100000 else 0.01\n",
    "\t\t#lr = 0.01 if i < 100000 else 0.01\n",
    "\t\t#lr = 0.5 if i < 100000 else 0.01\n",
    "\t\tlr = 0.2 if i < 100000 else 0.01\n",
    "\t\tfor p in parameters:\n",
    "\t\t\tp.data += -lr * p.grad\n",
    "\n",
    "\t\t# track stats (optional part)\n",
    "\t\tif doTrack:\n",
    "#writer.add_scalar(\"loss\", loss, i)\n",
    "\t\t\twriter.add_scalar(  \"loss3\",  loss.log10().item(),i)  #mm\n",
    "\t\t\tstepi.append(i)\n",
    "\t\t\tlossi.append(loss.log10().item())\n",
    "\n",
    "\treturn loss, [stepi, lossi] # Not needed, I'm just putting it here because why not"
   ]
  },
  {
   "cell_type": "code",
   "execution_count": null,
   "metadata": {},
   "outputs": [],
   "source": [
    "from torch.utils.tensorboard import SummaryWriter\n",
    "writer = SummaryWriter(\"d:/ai/makemore_ex_CHALLENGE\")\n",
    "\n",
    "#mm\n",
    "\n",
    "#train_loss, track_stats = train(Xtr, Ytr, 2*10**5, block_size, embedding_size, batch_size, parameters, doTrack=False) \n",
    "train_loss, track_stats = train(Xtr, Ytr, 200_000, block_size, embedding_size, batch_size, parameters, doTrack=True) \n",
    "print(train_loss)\n",
    "writer.close()\n"
   ]
  },
  {
   "cell_type": "code",
   "execution_count": 19,
   "metadata": {},
   "outputs": [
    {
     "data": {
      "text/plain": [
       "[<matplotlib.lines.Line2D at 0x1f665b96560>]"
      ]
     },
     "execution_count": 19,
     "metadata": {},
     "output_type": "execute_result"
    },
    {
     "data": {
      "image/png": "[encoded data removed]",
      "text/plain": [
       "<Figure size 640x480 with 1 Axes>"
      ]
     },
     "metadata": {},
     "output_type": "display_data"
    }
   ],
   "source": [
    "plt.plot(track_stats[0], track_stats[1]) # stepi, lossi"
   ]
  },
  {
   "cell_type": "markdown",
   "metadata": {},
   "source": [
    "### Great! Now let's evaluate our model!\n",
    "(Our model is our parameters :ooooo)\n",
    "It also comes to my attention now that maybe setting the hyperparametrs as constants  would be better so I didn't have to feed in every goddamn thing into every function"
   ]
  },
  {
   "cell_type": "code",
   "execution_count": 20,
   "metadata": {},
   "outputs": [],
   "source": [
    "def evaluate_loss(X, Y, block_size, embedding_size, parameters):\n",
    "\tC, W1, b1, W2, b2 = parameters\n",
    "\temb = C[X] # (X.shape[0],3,2) here -- whole set in this case\n",
    "\th = torch.tanh(emb.view(-1, block_size*embedding_size) @ W1 + b1) # (blah, 100)\n",
    "\n",
    "\tlogits = h @ W2 + b2 # (32, 27)\n",
    "\n",
    "\tloss = F.cross_entropy(logits, Y) # Does the epic normalisation stuff\n",
    "\tprint(f'{loss=}')\n",
    "\treturn loss"
   ]
  },
  {
   "cell_type": "code",
   "execution_count": 21,
   "metadata": {},
   "outputs": [
    {
     "name": "stdout",
     "output_type": "stream",
     "text": [
      "loss=tensor(2.08, grad_fn=<NllLossBackward0>)\n",
      "loss=tensor(2.14, grad_fn=<NllLossBackward0>)\n"
     ]
    }
   ],
   "source": [
    "train_loss = evaluate_loss(Xtr, Ytr, block_size, embedding_size, parameters)\n",
    "dev_loss = evaluate_loss(Xdev, Ydev, block_size, embedding_size, parameters)  ### YOOOOO 2.18 POOOOOG\n"
   ]
  },
  {
   "cell_type": "code",
   "execution_count": 22,
   "metadata": {},
   "outputs": [
    {
     "name": "stdout",
     "output_type": "stream",
     "text": [
      "loss=tensor(2.13, grad_fn=<NllLossBackward0>)\n"
     ]
    }
   ],
   "source": [
    "test_loss = evaluate_loss(Xte, Yte, block_size, embedding_size, parameters) ## POGGING RN\n"
   ]
  },
  {
   "cell_type": "code",
   "execution_count": 23,
   "metadata": {},
   "outputs": [
    {
     "data": {
      "image/png": "[encoded data removed]",
      "text/plain": [
       "<Figure size 800x800 with 1 Axes>"
      ]
     },
     "metadata": {},
     "output_type": "display_data"
    }
   ],
   "source": [
    "plt.figure(figsize=(8,8))\n",
    "plt.scatter(C[:,0].data, C[:,1].data, s=200)\n",
    "for i in range(C.shape[0]):\n",
    "    plt.text(C[i,0].item(), C[i,1].item(), itos[i], ha=\"center\", va=\"center\", color='white')\n",
    "plt.grid('minor')"
   ]
  },
  {
   "cell_type": "markdown",
   "metadata": {},
   "source": [
    "### Sampling!"
   ]
  },
  {
   "cell_type": "code",
   "execution_count": 24,
   "metadata": {},
   "outputs": [],
   "source": [
    "def sample(num_words):\n",
    "\t# sample from the model\n",
    "\tg = torch.Generator().manual_seed(2147483647 + 10)\n",
    "\n",
    "\tfor _ in range(num_words):\n",
    "\t\t\n",
    "\t\tout = []\n",
    "\t\tcontext = [0] * block_size # initialize with all ...\n",
    "\t\twhile True:\n",
    "\t\t\temb = C[torch.tensor([context])] # (1,block_size, embedding_size)\n",
    "\t\t\th = torch.tanh(emb.view(1, -1) @ W1 + b1)\n",
    "\t\t\tlogits = h @ W2 + b2\n",
    "\t\t\tprobs = F.softmax(logits, dim=1) # exponentiates, normalises (sum to one). It's like entropy, but goes from logits -> prob distr, instead of logits -> loss\n",
    "\t\t\tix = torch.multinomial(probs, num_samples=1, generator=g).item()\n",
    "\t\t\tcontext = context[1:] + [ix]\n",
    "\t\t\tout.append(ix)\n",
    "\t\t\tif ix == 0:\n",
    "\t\t\t\tbreak\n",
    "\t\t\t\n",
    "\t\tprint(''.join(itos[i] for i in out))"
   ]
  },
  {
   "cell_type": "code",
   "execution_count": 25,
   "metadata": {},
   "outputs": [
    {
     "name": "stdout",
     "output_type": "stream",
     "text": [
      "carmah.\n",
      "amelle.\n",
      "khy.\n",
      "mili.\n",
      "tatyannah.\n",
      "sae.\n",
      "mahibelle.\n",
      "saha.\n",
      "kaeli.\n",
      "nellara.\n",
      "chaiir.\n",
      "kaleigh.\n",
      "ham.\n",
      "joce.\n",
      "quint.\n",
      "sulisea.\n",
      "jadbi.\n",
      "wazelogiearisi.\n",
      "jacee.\n",
      "dusabee.\n"
     ]
    }
   ],
   "source": [
    "sample(20)"
   ]
  },
  {
   "cell_type": "markdown",
   "metadata": {},
   "source": [
    "#### Random stuff below"
   ]
  },
  {
   "cell_type": "code",
   "execution_count": 26,
   "metadata": {},
   "outputs": [
    {
     "data": {
      "text/plain": [
       "tensor([[[ 1.08,  0.12,  0.94,  0.48],\n",
       "         [-1.51, -1.58, -0.60, -1.02],\n",
       "         [ 0.58,  0.58,  0.70, -0.77],\n",
       "         [-0.01, -1.51, -3.05, -1.97]],\n",
       "\n",
       "        [[-1.29,  0.11,  0.03, -1.84],\n",
       "         [-0.15, -1.35,  0.28, -0.60],\n",
       "         [ 1.28,  0.78, -0.53, -1.67],\n",
       "         [-0.28,  0.66, -0.53,  2.02]],\n",
       "\n",
       "        [[ 1.44,  0.32,  0.64, -0.18],\n",
       "         [-0.14,  1.03, -0.58,  1.57],\n",
       "         [ 0.57, -1.28, -1.04,  0.94],\n",
       "         [ 0.67,  1.83, -0.19,  1.25]],\n",
       "\n",
       "        [[ 0.95, -0.44,  0.54,  0.29],\n",
       "         [-0.15, -0.96, -0.69,  1.34],\n",
       "         [ 0.36, -0.17,  0.29, -0.32],\n",
       "         [ 2.05, -0.04,  1.38, -0.69]]])"
      ]
     },
     "execution_count": 26,
     "metadata": {},
     "output_type": "execute_result"
    }
   ],
   "source": [
    "testing = torch.randn((4,4,4 ))\n",
    "testing"
   ]
  },
  {
   "cell_type": "code",
   "execution_count": 356,
   "metadata": {},
   "outputs": [
    {
     "data": {
      "text/plain": [
       "tensor([[[-0.4895,  3.7981,  1.2842,  2.2062],\n",
       "         [-2.3141,  0.9513, -2.9570,  2.7279],\n",
       "         [ 0.9806, -2.5963, -0.8786, -1.0186],\n",
       "         [ 1.4202,  0.5884,  0.0212, -2.3504]]])"
      ]
     },
     "execution_count": 356,
     "metadata": {},
     "output_type": "execute_result"
    }
   ],
   "source": [
    "# See below:\n",
    "\"\"\"\n",
    "| |\n",
    "| |\n",
    "| |\n",
    "| |\n",
    "\n",
    "\n",
    "Dim 0 sums in the direction of that. Move your hand in the direction of | and compress.\n",
    "\n",
    "Dim 1 sums in this direction:\n",
    "-----------\n",
    "-----------\n",
    "-----------\n",
    "\n",
    "Moved your hands in the direction of --- and clap them together. That's how it sums.\n",
    "\n",
    "Ask yourself -- in which way does that dim propagate? like is it\n",
    "row\n",
    "row\n",
    "row\n",
    "row,\n",
    "\n",
    "or is it:\n",
    "col col col col.\n",
    "\n",
    "etc...\n",
    "That's the way you sum.\n",
    "\n",
    "Remember, broadcasting is import to take int oaccount too!!!!!\n",
    "https://www.youtube.com/watch?v=PaCmpygFfXo 43:00\n",
    "\"\"\"\n",
    "\n",
    "testing.sum(0, keepdims=True) ##REMEMBERT KIDS: SUMMING BY THAT DIMENSION (e.g dim 0, the row dimension) means that row IS SUMMED!!!. So for a (27, 27), summing by dim 0 would become (1,27). The rows (downwards) are summed together!\n"
   ]
  },
  {
   "cell_type": "markdown",
   "metadata": {},
   "source": [
    "## E02\n",
    "E02: \"I was not careful with the intialization of the network in this video. \n",
    "- (1) What is the loss you'd get if the predicted probabilities at initialization were perfectly uniform? What loss do we achieve? \n",
    "- (2) Can you tune the initialization to get a starting loss that is much more similar to (1)?\""
   ]
  },
  {
   "cell_type": "code",
   "execution_count": 368,
   "metadata": {},
   "outputs": [
    {
     "data": {
      "text/plain": [
       "tensor(3.2958)"
      ]
     },
     "execution_count": 368,
     "metadata": {},
     "output_type": "execute_result"
    }
   ],
   "source": [
    "# ah, okay. I had a bit of a look at someone else's answers and I better get the question now. Basically:\n",
    "\n",
    "\n",
    "# If our probabilities were uniform, then each character has an equal chance of being picked, i.e 1/27 probability. So it'd be \n",
    "\n",
    "torch.tensor(1/27)\n",
    "\"\"\"How do we calculate loss? (nll): We log all the probs to get nicer numbers, and we'll just get the mean of them all instead of sum (small nice number).\n",
    "# \tloss = -probs[torch.arange(32), Y].log().mean() #  Something like that. \n",
    "# In our case, all the probabilities are the same, so the mean would be whatever the log is of one of the probs. I.e\n",
    "\n",
    "-torch.tensor(1/27).log() \n",
    "\"\"\"\n",
    "loss = -torch.tensor(1/27).log() \n",
    "loss\n"
   ]
  },
  {
   "cell_type": "markdown",
   "metadata": {},
   "source": [
    "### Trying to fix the munted initial loss"
   ]
  },
  {
   "cell_type": "code",
   "execution_count": 486,
   "metadata": {},
   "outputs": [
    {
     "name": "stdout",
     "output_type": "stream",
     "text": [
      "Number of parameters in total: 11897\n"
     ]
    },
    {
     "data": {
      "text/plain": [
       "(torch.Size([27, 10]), torch.Size([30, 200]))"
      ]
     },
     "execution_count": 486,
     "metadata": {},
     "output_type": "execute_result"
    }
   ],
   "source": [
    "## Now, what's our initialised loss?\n",
    "g = torch.Generator().manual_seed(2147483647) # This will be a 'global' \n",
    "block_size, embedding_size, num_neurons = 3, 10, 200\n",
    "parameters = generate_parameters(block_size, embedding_size, num_neurons) # ZYknow, I could just go block_size=3, embedding_size=10, ... lmao.\\\n",
    "C, W1, b1, W2, b2 = parameters\n",
    "C.shape, W1.shape"
   ]
  },
  {
   "cell_type": "code",
   "execution_count": 491,
   "metadata": {},
   "outputs": [
    {
     "data": {
      "text/plain": [
       "(tensor(5.4947, grad_fn=<NllLossBackward0>), [[], []])"
      ]
     },
     "execution_count": 491,
     "metadata": {},
     "output_type": "execute_result"
    }
   ],
   "source": [
    "loss = train(Xtr, Ytr, 1000, block_size, embedding_size, batch_size, parameters)\n",
    "loss"
   ]
  },
  {
   "cell_type": "code",
   "execution_count": 488,
   "metadata": {},
   "outputs": [
    {
     "name": "stdout",
     "output_type": "stream",
     "text": [
      "loss=tensor(6.3338, grad_fn=<NllLossBackward0>)\n",
      "loss=tensor(6.3426, grad_fn=<NllLossBackward0>)\n"
     ]
    }
   ],
   "source": [
    "train_loss = evaluate_loss(Xtr, Ytr, block_size, embedding_size, parameters)\n",
    "dev_loss = evaluate_loss(Xdev, Ydev, block_size, embedding_size, parameters)\n",
    "# 24 initalised loss. god damn that's shit. Remember, just starting from a default probability distribution will give you ~3.3 loss instead of this 24 loss shit -- that's how bad our initialised weights are. We could be saving SO MANY STEPS!\n"
   ]
  },
  {
   "cell_type": "code",
   "execution_count": 489,
   "metadata": {},
   "outputs": [],
   "source": [
    "## Okay. WAIT. REGULARISATION LOSS!\n",
    "# In the end, we want the initial weights to be s.t. their probabilities are ~equal distribution.\n",
    "\n",
    "def get_probs(parameters, X): # ima just skip thee block_size etc.. in functions because we're acting like they're globals anyways.\n",
    "\t# forward pass -- on our minibatch :o !!!!\n",
    "\temb = C[X] \n",
    "\th = torch.tanh(emb.view(-1, block_size*embedding_size) @ W1 + b1)\n",
    "\tlogits = h @ W2 + b2\n",
    "\tprobs = F.softmax(logits, dim=1) # exponentiates, normalises (sum to one).\n",
    "\treturn probs"
   ]
  },
  {
   "cell_type": "code",
   "execution_count": 490,
   "metadata": {},
   "outputs": [
    {
     "name": "stdout",
     "output_type": "stream",
     "text": [
      "torch.Size([22797, 27]) tensor(1.0000, grad_fn=<SumBackward0>)\n",
      "tensor([9.0920e-02, 7.4752e-01, 3.3802e-03, 3.9280e-07, 2.7123e-06, 1.8602e-04,\n",
      "        1.1235e-05, 1.1028e-03, 6.1082e-05, 6.4050e-03, 3.5997e-05, 6.9311e-04,\n",
      "        5.1244e-02, 2.6373e-07, 6.1729e-06, 9.0667e-05, 2.0936e-05, 8.6445e-03,\n",
      "        6.2527e-02, 1.9142e-02, 7.3315e-06, 7.5664e-04, 2.0276e-03, 5.0913e-03,\n",
      "        3.7792e-05, 7.2235e-07, 8.5769e-05], grad_fn=<SelectBackward0>)\n"
     ]
    }
   ],
   "source": [
    "probs = get_probs(parameters, Xdev)\n",
    "print(probs.shape, probs[0].sum())\n",
    "print(probs[0])\n",
    "# So, these probs should be way closer to each other, i.e the logits should be uniform. Hmmm."
   ]
  },
  {
   "cell_type": "code",
   "execution_count": 481,
   "metadata": {},
   "outputs": [
    {
     "data": {
      "text/plain": [
       "\" Edit: Okay, so we changed all the randn to rand, and our initial loss dropped from like ~27 to about 5. LOL. That's all we did. BRUH. \""
      ]
     },
     "execution_count": 481,
     "metadata": {},
     "output_type": "execute_result"
    }
   ],
   "source": [
    "g = torch.Generator().manual_seed(2147483647) # This will be a 'global' generator\n",
    "def generate_parameters(block_size, embedding_size, num_neurons):\n",
    "\t# We booosting our hidden layer size\n",
    "\tC = torch.rand(27, embedding_size, generator=g) # Generate embedding of characters, e.g (27,10)\n",
    "\n",
    "\tW1 = torch.rand((embedding_size * block_size, num_neurons), generator=g) +100 # first weights takes input from \n",
    "\tb1 = torch.rand(num_neurons, generator=g) \n",
    "\tW2 = torch.rand((num_neurons, 27), generator=g)\n",
    "\tb2 = torch.rand(27, generator=g)\n",
    "\tparameters = [C, W1, b1, W2, b2] # for easy summing parameters\n",
    "\n",
    "\tfor p in parameters:  # Turn on requires grad for our parameter matrices\n",
    "\t\tp.requires_grad = True\n",
    "\t\t\n",
    "\tprint(\"Number of parameters in total:\", sum(p.nelement() for p in parameters)) # num of parameters in total\n",
    "\n",
    "\treturn parameters\n",
    "\n",
    "\"\"\" Edit: Okay, so we changed all the randn to rand, and our initial loss dropped from like ~27 to about 5. LOL. That's all we did. BRUH. \"\"\"\n",
    "\n"
   ]
  },
  {
   "cell_type": "code",
   "execution_count": null,
   "metadata": {},
   "outputs": [],
   "source": []
  }
 ],
 "metadata": {
  "kernelspec": {
   "display_name": "Python 3 (ipykernel)",
   "language": "python",
   "name": "python3"
  },
  "language_info": {
   "codemirror_mode": {
    "name": "ipython",
    "version": 3
   },
   "file_extension": ".py",
   "mimetype": "text/x-python",
   "name": "python",
   "nbconvert_exporter": "python",
   "pygments_lexer": "ipython3",
   "version": "3.10.10"
  },
  "vscode": {
   "interpreter": {
    "hash": "c8a31c3d3c58cfe49314f156da5c5377d35db16854b5a4a4800d645f76ea86e2"
   }
  }
 },
 "nbformat": 4,
 "nbformat_minor": 4
}
