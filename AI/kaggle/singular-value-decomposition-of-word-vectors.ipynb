{
 "cells": [
  {
   "cell_type": "markdown",
   "id": "6bd789fa",
   "metadata": {
    "id": "sAZy6Uqavhuh",
    "papermill": {
     "duration": 0.016969,
     "end_time": "2022-03-01T07:24:33.270828",
     "exception": false,
     "start_time": "2022-03-01T07:24:33.253859",
     "status": "completed"
    },
    "tags": []
   },
   "source": [
    "## [Singular value decomposition](https://en.wikipedia.org/wiki/Singular_value_decomposition) of word vectors\n",
    "\n",
    "### Author: [Dr. Rahul Remanan](https://www.linkedin.com/in/rahulremanan/)\n",
    "### CEO, [Moad Computer](http://www.moad.computer/)"
   ]
  },
  {
   "cell_type": "markdown",
   "id": "ff295925",
   "metadata": {
    "papermill": {
     "duration": 0.014832,
     "end_time": "2022-03-01T07:24:33.303041",
     "exception": false,
     "start_time": "2022-03-01T07:24:33.288209",
     "status": "completed"
    },
    "tags": []
   },
   "source": [
    "# Import libraries"
   ]
  },
  {
   "cell_type": "code",
   "execution_count": 1,
   "id": "bb8baae7",
   "metadata": {
    "execution": {
     "iopub.execute_input": "2022-03-01T07:24:33.338405Z",
     "iopub.status.busy": "2022-03-01T07:24:33.337247Z",
     "iopub.status.idle": "2022-03-01T07:24:33.347788Z",
     "shell.execute_reply": "2022-03-01T07:24:33.347004Z",
     "shell.execute_reply.started": "2022-03-01T07:08:10.456400Z"
    },
    "id": "QoPlROMd3Hmc",
    "papermill": {
     "duration": 0.029763,
     "end_time": "2022-03-01T07:24:33.347948",
     "exception": false,
     "start_time": "2022-03-01T07:24:33.318185",
     "status": "completed"
    },
    "tags": []
   },
   "outputs": [],
   "source": [
    "import re, numpy as np\n",
    "from itertools import chain\n",
    "from matplotlib import pyplot as plt\n",
    "\n",
    "la = np.linalg"
   ]
  },
  {
   "cell_type": "markdown",
   "id": "8dbb02ab",
   "metadata": {
    "id": "PkeG_l8R1Zbx",
    "papermill": {
     "duration": 0.018233,
     "end_time": "2022-03-01T07:24:33.381798",
     "exception": false,
     "start_time": "2022-03-01T07:24:33.363565",
     "status": "completed"
    },
    "tags": []
   },
   "source": [
    "# Example text corpus"
   ]
  },
  {
   "cell_type": "code",
   "execution_count": 2,
   "id": "a8673d58",
   "metadata": {
    "execution": {
     "iopub.execute_input": "2022-03-01T07:24:33.430528Z",
     "iopub.status.busy": "2022-03-01T07:24:33.429424Z",
     "iopub.status.idle": "2022-03-01T07:24:33.431601Z",
     "shell.execute_reply": "2022-03-01T07:24:33.432400Z",
     "shell.execute_reply.started": "2022-03-01T07:08:10.473929Z"
    },
    "id": "F6kyQCg82WWb",
    "papermill": {
     "duration": 0.031881,
     "end_time": "2022-03-01T07:24:33.432658",
     "exception": false,
     "start_time": "2022-03-01T07:24:33.400777",
     "status": "completed"
    },
    "tags": []
   },
   "outputs": [],
   "source": [
    "corpus = ['I like deep learning.',\n",
    "          'I like NLP.',\n",
    "          'I enjoy flying.']"
   ]
  },
  {
   "cell_type": "markdown",
   "id": "2f9e32ae",
   "metadata": {
    "id": "Cp6URredcd5-",
    "papermill": {
     "duration": 0.020686,
     "end_time": "2022-03-01T07:24:33.472803",
     "exception": false,
     "start_time": "2022-03-01T07:24:33.452117",
     "status": "completed"
    },
    "tags": []
   },
   "source": [
    "# Process text corpus"
   ]
  },
  {
   "cell_type": "code",
   "execution_count": 3,
   "id": "b113a9ce",
   "metadata": {
    "execution": {
     "iopub.execute_input": "2022-03-01T07:24:33.508007Z",
     "iopub.status.busy": "2022-03-01T07:24:33.507361Z",
     "iopub.status.idle": "2022-03-01T07:24:33.512478Z",
     "shell.execute_reply": "2022-03-01T07:24:33.513046Z",
     "shell.execute_reply.started": "2022-03-01T07:08:10.492293Z"
    },
    "id": "0exjcLpDG_56",
    "papermill": {
     "duration": 0.023776,
     "end_time": "2022-03-01T07:24:33.513217",
     "exception": false,
     "start_time": "2022-03-01T07:24:33.489441",
     "status": "completed"
    },
    "tags": []
   },
   "outputs": [],
   "source": [
    "def clean_corpus(c_words, exclude_chars=['',' ']):\n",
    "  cleaned_words = []\n",
    "  for cw in c_words:\n",
    "    for ec in exclude_chars:\n",
    "      for w in cw:\n",
    "        if w==ec:\n",
    "          cw.remove(ec)\n",
    "    cleaned_words.append(cw)\n",
    "    del cw\n",
    "  del c_words\n",
    "  return cleaned_words"
   ]
  },
  {
   "cell_type": "code",
   "execution_count": 4,
   "id": "94b2c6a6",
   "metadata": {
    "execution": {
     "iopub.execute_input": "2022-03-01T07:24:33.546969Z",
     "iopub.status.busy": "2022-03-01T07:24:33.546297Z",
     "iopub.status.idle": "2022-03-01T07:24:33.551360Z",
     "shell.execute_reply": "2022-03-01T07:24:33.551898Z",
     "shell.execute_reply.started": "2022-03-01T07:08:10.514833Z"
    },
    "id": "L6w4UZEoLIV-",
    "papermill": {
     "duration": 0.023373,
     "end_time": "2022-03-01T07:24:33.552072",
     "exception": false,
     "start_time": "2022-03-01T07:24:33.528699",
     "status": "completed"
    },
    "tags": []
   },
   "outputs": [],
   "source": [
    "def build_pairs(words):\n",
    "  w_pairs = []\n",
    "  for i, w in enumerate(words):\n",
    "    for j, wp in enumerate(words):\n",
    "      if j==i+1:\n",
    "        w_pair = [w, wp]\n",
    "        w_pair.sort()\n",
    "        w_pairs.append(w_pair)\n",
    "        del w_pair\n",
    "      elif j>i+1:\n",
    "        break\n",
    "  del words\n",
    "  return w_pairs"
   ]
  },
  {
   "cell_type": "code",
   "execution_count": 5,
   "id": "0bd9b989",
   "metadata": {
    "execution": {
     "iopub.execute_input": "2022-03-01T07:24:33.586287Z",
     "iopub.status.busy": "2022-03-01T07:24:33.585546Z",
     "iopub.status.idle": "2022-03-01T07:24:33.593970Z",
     "shell.execute_reply": "2022-03-01T07:24:33.594493Z",
     "shell.execute_reply.started": "2022-03-01T07:10:55.312011Z"
    },
    "id": "Knqa2iC71YKJ",
    "papermill": {
     "duration": 0.026997,
     "end_time": "2022-03-01T07:24:33.594687",
     "exception": false,
     "start_time": "2022-03-01T07:24:33.567690",
     "status": "completed"
    },
    "tags": []
   },
   "outputs": [],
   "source": [
    "def word_pairs(corpus, exclude_chars=['',' ']):\n",
    "  c_words = list(map(lambda w: re.split(r'(\\W+)', w), corpus))\n",
    "  words = list(set(list(chain.from_iterable(c_words))) - set(exclude_chars))\n",
    "  words.sort()\n",
    "  c_words = clean_corpus(c_words, exclude_chars=exclude_chars)\n",
    "  w_pairs = list(map(lambda cw: build_pairs(cw), c_words))\n",
    "  del c_words  \n",
    "  w_dict = dict.fromkeys(words)\n",
    "  for i, w in enumerate(words):\n",
    "    w_dict[w] = i\n",
    "  wp_mat = np.zeros((len(words), len(words))).astype(np.uint8)  \n",
    "  for wp in w_pairs:\n",
    "    for p in wp:\n",
    "      wp_mat[w_dict[p[0]]][w_dict[p[1]]] += 1\n",
    "      wp_mat[w_dict[p[1]]][w_dict[p[0]]] += 1\n",
    "  del w_dict, w_pairs\n",
    "  return words, wp_mat"
   ]
  },
  {
   "cell_type": "markdown",
   "id": "d3f839bf",
   "metadata": {
    "id": "HBK54_X21dSw",
    "papermill": {
     "duration": 0.014903,
     "end_time": "2022-03-01T07:24:33.625047",
     "exception": false,
     "start_time": "2022-03-01T07:24:33.610144",
     "status": "completed"
    },
    "tags": []
   },
   "source": [
    "# [Co-occurrence matrix](https://youtu.be/ASn7ExxLZws?t=1655) and generate output plot"
   ]
  },
  {
   "cell_type": "code",
   "execution_count": 6,
   "id": "16dd5419",
   "metadata": {
    "execution": {
     "iopub.execute_input": "2022-03-01T07:24:33.658957Z",
     "iopub.status.busy": "2022-03-01T07:24:33.658343Z",
     "iopub.status.idle": "2022-03-01T07:24:33.663304Z",
     "shell.execute_reply": "2022-03-01T07:24:33.663878Z",
     "shell.execute_reply.started": "2022-03-01T07:10:56.848022Z"
    },
    "id": "sxllvf1q1hBJ",
    "papermill": {
     "duration": 0.023304,
     "end_time": "2022-03-01T07:24:33.664057",
     "exception": false,
     "start_time": "2022-03-01T07:24:33.640753",
     "status": "completed"
    },
    "tags": []
   },
   "outputs": [],
   "source": [
    "w, X = word_pairs(corpus, exclude_chars=['',' '])"
   ]
  },
  {
   "cell_type": "code",
   "execution_count": 7,
   "id": "60ff62b0",
   "metadata": {
    "execution": {
     "iopub.execute_input": "2022-03-01T07:24:33.697823Z",
     "iopub.status.busy": "2022-03-01T07:24:33.697149Z",
     "iopub.status.idle": "2022-03-01T07:24:33.728616Z",
     "shell.execute_reply": "2022-03-01T07:24:33.729145Z",
     "shell.execute_reply.started": "2022-03-01T07:10:59.029877Z"
    },
    "id": "_lCKfoIPdS2d",
    "papermill": {
     "duration": 0.049865,
     "end_time": "2022-03-01T07:24:33.729314",
     "exception": false,
     "start_time": "2022-03-01T07:24:33.679449",
     "status": "completed"
    },
    "tags": []
   },
   "outputs": [],
   "source": [
    "U, s, Vh = la.svd(X, full_matrices=False)"
   ]
  },
  {
   "cell_type": "code",
   "execution_count": 8,
   "id": "d49d2be2",
   "metadata": {
    "execution": {
     "iopub.execute_input": "2022-03-01T07:24:33.763048Z",
     "iopub.status.busy": "2022-03-01T07:24:33.762389Z",
     "iopub.status.idle": "2022-03-01T07:24:34.023894Z",
     "shell.execute_reply": "2022-03-01T07:24:34.024497Z",
     "shell.execute_reply.started": "2022-03-01T07:10:59.971189Z"
    },
    "id": "--7JAUHGdee4",
    "outputId": "61453bbf-ff88-4fe7-e63f-8063c97fd945",
    "papermill": {
     "duration": 0.28003,
     "end_time": "2022-03-01T07:24:34.024706",
     "exception": false,
     "start_time": "2022-03-01T07:24:33.744676",
     "status": "completed"
    },
    "tags": []
   },
   "outputs": [
    {
     "data": {
      "image/png": "[encoded data removed]",
      "text/plain": [
       "<Figure size 432x288 with 1 Axes>"
      ]
     },
     "metadata": {
      "needs_background": "light"
     },
     "output_type": "display_data"
    }
   ],
   "source": [
    "for i in range(len(w)):\n",
    "  plt.axis([np.min(np.min(U, axis=0))-0.2, np.max(np.max(U, axis=0)),\n",
    "            np.min(np.min(U, axis=1))-0.2, np.max(np.max(U, axis=1))])\n",
    "  plt.text(U[i,0], U[i,1], w[i])"
   ]
  },
  {
   "cell_type": "markdown",
   "id": "a839c85e",
   "metadata": {
    "papermill": {
     "duration": 0.015913,
     "end_time": "2022-03-01T07:24:34.057666",
     "exception": false,
     "start_time": "2022-03-01T07:24:34.041753",
     "status": "completed"
    },
    "tags": []
   },
   "source": [
    "# References"
   ]
  },
  {
   "cell_type": "markdown",
   "id": "4ccab64b",
   "metadata": {
    "id": "pDVEkh0Ux1cw",
    "papermill": {
     "duration": 0.016379,
     "end_time": "2022-03-01T07:24:34.090111",
     "exception": false,
     "start_time": "2022-03-01T07:24:34.073732",
     "status": "completed"
    },
    "tags": []
   },
   "source": [
    "### 1. [Stanford University School of Engineering lecture video on GloVe word embeddings](https://www.youtube.com/watch?v=ASn7ExxLZws)."
   ]
  },
  {
   "cell_type": "code",
   "execution_count": 9,
   "id": "c6bfa4d3",
   "metadata": {
    "_kg_hide-input": true,
    "execution": {
     "iopub.execute_input": "2022-03-01T07:24:34.127874Z",
     "iopub.status.busy": "2022-03-01T07:24:34.127187Z",
     "iopub.status.idle": "2022-03-01T07:24:34.257494Z",
     "shell.execute_reply": "2022-03-01T07:24:34.256815Z",
     "shell.execute_reply.started": "2022-03-01T07:23:25.551364Z"
    },
    "papermill": {
     "duration": 0.149317,
     "end_time": "2022-03-01T07:24:34.257720",
     "exception": false,
     "start_time": "2022-03-01T07:24:34.108403",
     "status": "completed"
    },
    "tags": []
   },
   "outputs": [
    {
     "data": {
      "image/jpeg": "[encoded data removed]",
      "text/html": [
       "\n",
       "        <iframe\n",
       "            width=\"640\"\n",
       "            height=\"480\"\n",
       "            src=\"https://www.youtube.com/embed/ASn7ExxLZws\"\n",
       "            frameborder=\"0\"\n",
       "            allowfullscreen\n",
       "            \n",
       "        ></iframe>\n",
       "        "
      ],
      "text/plain": [
       "<IPython.lib.display.YouTubeVideo at 0x7fd1a7923d90>"
      ]
     },
     "execution_count": 9,
     "metadata": {},
     "output_type": "execute_result"
    }
   ],
   "source": [
    "# Stanford Engineering lecture video on global vectors for word representation\n",
    "from IPython.display import YouTubeVideo\n",
    "YouTubeVideo('ASn7ExxLZws', width=640, height=480)"
   ]
  },
  {
   "cell_type": "code",
   "execution_count": null,
   "id": "814c517e",
   "metadata": {
    "papermill": {
     "duration": 0.017437,
     "end_time": "2022-03-01T07:24:34.292221",
     "exception": false,
     "start_time": "2022-03-01T07:24:34.274784",
     "status": "completed"
    },
    "tags": []
   },
   "outputs": [],
   "source": []
  }
 ],
 "metadata": {
  "kernelspec": {
   "display_name": "Python 3",
   "language": "python",
   "name": "python3"
  },
  "language_info": {
   "codemirror_mode": {
    "name": "ipython",
    "version": 3
   },
   "file_extension": ".py",
   "mimetype": "text/x-python",
   "name": "python",
   "nbconvert_exporter": "python",
   "pygments_lexer": "ipython3",
   "version": "3.7.12"
  },
  "papermill": {
   "default_parameters": {},
   "duration": 11.601466,
   "end_time": "2022-03-01T07:24:34.919523",
   "environment_variables": {},
   "exception": null,
   "input_path": "__notebook__.ipynb",
   "output_path": "__notebook__.ipynb",
   "parameters": {},
   "start_time": "2022-03-01T07:24:23.318057",
   "version": "2.3.3"
  }
 },
 "nbformat": 4,
 "nbformat_minor": 5
}
