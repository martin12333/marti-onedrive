{
 "cells": [
  {
   "cell_type": "code",
   "execution_count": null,
   "id": "5202298e-317a-4e3c-abaf-fb02a81bbc41",
   "metadata": {},
   "outputs": [],
   "source": []
  },
  {
   "cell_type": "code",
   "execution_count": 3,
   "id": "3fc04074-78d1-4191-b04c-8afcf28e46ef",
   "metadata": {},
   "outputs": [
    {
     "data": {
      "text/plain": [
       "'%.2f'"
      ]
     },
     "execution_count": 3,
     "metadata": {},
     "output_type": "execute_result"
    }
   ],
   "source": [
    "import numpy as np\n",
    "\n",
    "np.set_printoptions(suppress=True)\n",
    "\n",
    "np.set_printoptions(threshold=20)\n",
    "np.set_printoptions(threshold=400)\n",
    "\n",
    "np.set_printoptions(edgeitems=10)\n",
    "\n",
    "np.set_printoptions(precision=4)\n",
    "#np.set_printoptions(precision=3)\n",
    "np.set_printoptions(precision=2)\n",
    "#np.set_printoptions(precision=1)\n",
    "#np.set_printoptions(precision=0)\n",
    "\n",
    "%precision 4\n",
    "%precision 2\n"
   ]
  },
  {
   "cell_type": "code",
   "execution_count": 34,
   "id": "f8b729a1-f886-49ec-a3b6-5428625da3ae",
   "metadata": {},
   "outputs": [],
   "source": [
    "import seaborn as sns\n",
    "import matplotlib.pyplot as plt\n",
    "\n",
    "# we'll use three operations\n",
    "from einops import rearrange, reduce, repeat, pack, unpack"
   ]
  },
  {
   "cell_type": "code",
   "execution_count": null,
   "id": "8c7e2a9c-1947-4ade-a6e5-b4324ad6758c",
   "metadata": {},
   "outputs": [],
   "source": []
  },
  {
   "cell_type": "code",
   "execution_count": 71,
   "id": "0b15fd44-3241-44e6-b930-3460a6efb4fb",
   "metadata": {
    "tags": []
   },
   "outputs": [],
   "source": [
    "import numpy as np\n",
    "\n",
    "n3= 11  #5  # 3  # 51  # 5 # 3  #\n",
    "x = np.linspace(-2,2,n3)\n",
    "y = np.linspace(2,-2,n3)\n",
    "\n",
    "#x = np.random.randn(50)\n",
    "\n",
    "xx,yy = np.meshgrid(x,y)\n",
    "xxyy=[xx,yy]\n",
    "#xx,yy"
   ]
  },
  {
   "cell_type": "code",
   "execution_count": 72,
   "id": "bfd02dc3-81df-469c-b988-98ee5efca2dd",
   "metadata": {},
   "outputs": [
    {
     "data": {
      "text/plain": [
       "((11, 11, 2), (11, 11, 1, 2))"
      ]
     },
     "execution_count": 72,
     "metadata": {},
     "output_type": "execute_result"
    }
   ],
   "source": [
    "#repeat(np.array([1.0,0]),  'i -> 3 3 1 i'  )\n",
    "c0=repeat(np.array([1.0,0]),  'i -> k n  i' ,n=n3,k=n3 )\n",
    "d0=repeat(np.array([1.0,0]),  'i -> k n 1 i' ,n=n3,k=n3 )\n",
    "d0\n",
    "c0.shape, d0.shape"
   ]
  },
  {
   "cell_type": "code",
   "execution_count": 73,
   "id": "2b20df1a-1a93-4d5a-a867-efe065aa80bd",
   "metadata": {},
   "outputs": [
    {
     "name": "stdout",
     "output_type": "stream",
     "text": [
      "(11, 11, 2) (11, 11, 1, 2)\n"
     ]
    }
   ],
   "source": [
    "###rearrange(x, 'b h w c -> b h w c').shape\n",
    "#x=rearrange(xxyy, 'b h w  -> b h w ')\n",
    "#x=rearrange(xxyy, 'b h w  ->  h w 1 b ')\n",
    "####x=rearrange(xxyy, 'b h w  ->  h w 2 b ')\n",
    "x=rearrange(xxyy, 'b h w  ->  h w  b ')\n",
    "y=rearrange(xxyy, 'b h w  ->  h w 1 b ')\n",
    "#x=rearrange(xxyy, 'b h w  ->  h w  b ')\n",
    "#y=repeat(x, ' h w b ->  h w 2 b' )\n",
    "print(x.shape, y.shape)\n",
    "#print(x,y)\n",
    "#y[0,0]\n"
   ]
  },
  {
   "cell_type": "code",
   "execution_count": 74,
   "id": "4ecbabf6-19f3-4485-ba82-86b1c3d3215b",
   "metadata": {},
   "outputs": [
    {
     "name": "stdout",
     "output_type": "stream",
     "text": [
      "(11, 11, 2, 2) (11, 11, 2, 2)\n"
     ]
    }
   ],
   "source": [
    "z=pack([c0,x], 'h w b *')[0] ### 'h w b -> h w * b')\n",
    "#print(z)\n",
    "z[0,0],  z[0,1],  z[0,2]\n",
    "t=pack([d0,y], 'h w * b ')[0] ### 'h w b -> h w * b')\n",
    "w=rearrange(t,'h w i j -> h w j i' )\n",
    "print(z.shape, w.shape)\n",
    "#w-z"
   ]
  },
  {
   "cell_type": "code",
   "execution_count": null,
   "id": "b907ef6f-ad46-4ad7-968d-476f217b19c8",
   "metadata": {},
   "outputs": [],
   "source": []
  },
  {
   "cell_type": "code",
   "execution_count": 75,
   "id": "1820ecbe-29aa-40a3-8c97-7572ac60fc91",
   "metadata": {},
   "outputs": [
    {
     "data": {
      "text/plain": [
       "<Axes: >"
      ]
     },
     "execution_count": 75,
     "metadata": {},
     "output_type": "execute_result"
    },
    {
     "data": {
      "image/png": "[encoded data removed]",
      "text/plain": [
       "<Figure size 640x480 with 2 Axes>"
      ]
     },
     "metadata": {},
     "output_type": "display_data"
    }
   ],
   "source": [
    "###np.linalg.norm(x, axis=(0,1))\n",
    "#np.linalg.norm(x, axis=(2,3))\n",
    "f=np.linalg.norm(x, axis=(2))\n",
    "#print(y)\n",
    "\n",
    "sns.heatmap(f,  cmap=plt.cm.BrBG, center = 0)\n"
   ]
  },
  {
   "cell_type": "code",
   "execution_count": 76,
   "id": "4423dbda-0936-4275-b6ad-ff32dfa741d5",
   "metadata": {},
   "outputs": [
    {
     "data": {
      "text/plain": [
       "<matplotlib.image.AxesImage at 0x174d6cfad10>"
      ]
     },
     "execution_count": 76,
     "metadata": {},
     "output_type": "execute_result"
    },
    {
     "data": {
      "image/png": "[encoded data removed]",
      "text/plain": [
       "<Figure size 640x480 with 1 Axes>"
      ]
     },
     "metadata": {},
     "output_type": "display_data"
    }
   ],
   "source": [
    "plt.imshow(f  ,  cmap=plt.cm.BrBG, vmin=-2.8, vmax=+2.8)  # aspect=3,\n"
   ]
  },
  {
   "cell_type": "code",
   "execution_count": 10,
   "id": "0962b26f-d9c9-46bb-8022-e037206f824d",
   "metadata": {},
   "outputs": [
    {
     "ename": "IndexError",
     "evalue": "too many indices for array: array is 3-dimensional, but 4 were indexed",
     "output_type": "error",
     "traceback": [
      "\u001b[1;31m---------------------------------------------------------------------------\u001b[0m",
      "\u001b[1;31mIndexError\u001b[0m                                Traceback (most recent call last)",
      "Cell \u001b[1;32mIn[10], line 1\u001b[0m\n\u001b[1;32m----> 1\u001b[0m np\u001b[38;5;241m.\u001b[39mlinalg\u001b[38;5;241m.\u001b[39mnorm(\u001b[43mx\u001b[49m\u001b[43m[\u001b[49m\u001b[38;5;241;43m0\u001b[39;49m\u001b[43m,\u001b[49m\u001b[38;5;241;43m0\u001b[39;49m\u001b[43m,\u001b[49m\u001b[43m:\u001b[49m\u001b[43m,\u001b[49m\u001b[43m:\u001b[49m\u001b[43m]\u001b[49m)\n",
      "\u001b[1;31mIndexError\u001b[0m: too many indices for array: array is 3-dimensional, but 4 were indexed"
     ]
    }
   ],
   "source": [
    "np.linalg.norm(x[0,0,:,:])"
   ]
  },
  {
   "cell_type": "code",
   "execution_count": null,
   "id": "c53d3487-c93c-463e-b569-50022423963d",
   "metadata": {},
   "outputs": [],
   "source": []
  },
  {
   "cell_type": "code",
   "execution_count": null,
   "id": "a8ed730a-79ff-4c19-9daf-0c48faff7193",
   "metadata": {},
   "outputs": [],
   "source": []
  },
  {
   "cell_type": "code",
   "execution_count": null,
   "id": "ee2f7a26-8008-4124-9f82-a9ba8fc9c6fc",
   "metadata": {},
   "outputs": [],
   "source": [
    "x.ravel()"
   ]
  },
  {
   "cell_type": "code",
   "execution_count": 40,
   "id": "5be42db5-8128-42eb-bab9-1f983301bb25",
   "metadata": {},
   "outputs": [
    {
     "data": {
      "text/plain": [
       "array([-2.  ,  2.  , -1.92,  2.  , -1.84,  2.  , -1.76,  2.  , -1.68,\n",
       "        2.  , ...,  1.68, -2.  ,  1.76, -2.  ,  1.84, -2.  ,  1.92, -2.  ,\n",
       "        2.  , -2.  ])"
      ]
     },
     "execution_count": 40,
     "metadata": {},
     "output_type": "execute_result"
    }
   ],
   "source": [
    "x.flatten()"
   ]
  }
 ],
 "metadata": {
  "kernelspec": {
   "display_name": "Python 3 (ipykernel)",
   "language": "python",
   "name": "python3"
  },
  "language_info": {
   "codemirror_mode": {
    "name": "ipython",
    "version": 3
   },
   "file_extension": ".py",
   "mimetype": "text/x-python",
   "name": "python",
   "nbconvert_exporter": "python",
   "pygments_lexer": "ipython3",
   "version": "3.10.10"
  }
 },
 "nbformat": 4,
 "nbformat_minor": 5
}
