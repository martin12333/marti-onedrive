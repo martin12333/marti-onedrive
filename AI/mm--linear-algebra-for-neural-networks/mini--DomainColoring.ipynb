{
 "cells": [
  {
   "cell_type": "code",
   "execution_count": null,
   "id": "60c41f2d-7f71-44be-b667-3e100d393658",
   "metadata": {},
   "outputs": [],
   "source": [
    "#aaa "
   ]
  },
  {
   "cell_type": "markdown",
   "id": "3bcc19f9-6cd3-4047-82af-3b81c338a10b",
   "metadata": {},
   "source": [
    "orig. is from https://github.com/empet/Math"
   ]
  },
  {
   "cell_type": "markdown",
   "id": "799021aa-bed3-49ed-a479-4a7fbc01b65a",
   "metadata": {},
   "source": [
    "orig. :\n",
    "NOTE! The code below for mayavi plots is unchanged from the first version (2014) of this notebook because mayavi is no more installed on my system. Hence it is possible to be deprecated #aaaa!a"
   ]
  },
  {
   "cell_type": "code",
   "execution_count": null,
   "id": "aaeb94e7-4bb5-4344-b924-becf6fc2bb2f",
   "metadata": {},
   "outputs": [],
   "source": []
  },
  {
   "cell_type": "code",
   "execution_count": null,
   "id": "e04c98fa-c7a0-41b7-accf-ba4a155c9cb2",
   "metadata": {},
   "outputs": [],
   "source": []
  },
  {
   "cell_type": "code",
   "execution_count": null,
   "id": "3e25760d-6486-4bdb-8da6-27d531da0e6a",
   "metadata": {},
   "outputs": [],
   "source": [
    "from IPython.display import Image    #aaa\n"
   ]
  },
  {
   "cell_type": "code",
   "execution_count": 26,
   "id": "b520f094-d18d-4bff-a27e-3a0a1027dcd7",
   "metadata": {},
   "outputs": [],
   "source": [
    "%matplotlib inline\n",
    "import matplotlib.pyplot as plt\n",
    "import numpy as np\n",
    "from matplotlib.colors import hsv_to_rgb"
   ]
  }
 ],
 "metadata": {
  "kernelspec": {
   "display_name": "Python 3 (ipykernel)",
   "language": "python",
   "name": "python3"
  },
  "language_info": {
   "codemirror_mode": {
    "name": "ipython",
    "version": 3
   },
   "file_extension": ".py",
   "mimetype": "text/x-python",
   "name": "python",
   "nbconvert_exporter": "python",
   "pygments_lexer": "ipython3",
   "version": "3.10.10"
  }
 },
 "nbformat": 4,
 "nbformat_minor": 5
}
