{
 "cells": [
  {
   "cell_type": "code",
   "execution_count": 35,
   "id": "9286d943-458b-483a-b723-66a2993d2e81",
   "metadata": {},
   "outputs": [
    {
     "data": {
      "text/plain": [
       "{'__doc__',\n",
       " '__loader__',\n",
       " '__name__',\n",
       " '__package__',\n",
       " '__spec__',\n",
       " 'abs',\n",
       " 'all',\n",
       " 'any',\n",
       " 'divmod',\n",
       " 'max',\n",
       " 'min',\n",
       " 'round',\n",
       " 'sum'}"
      ]
     },
     "execution_count": 35,
     "metadata": {},
     "output_type": "execute_result"
    }
   ],
   "source": [
    "import pylab\n",
    "import scipy\n",
    "import numpy\n",
    "bui = __import__(\"builtins\")\n",
    "\n",
    "pp=numpy\n",
    "p=set(dir(pylab))\n",
    "p=set(dir(pp))\n",
    "\n",
    "ss=globals()\n",
    "ss=locals()\n",
    "ss=bui\n",
    "\n",
    "s=set(dir(scipy))\n",
    "s=set(dir(ss))\n",
    "\n",
    "k=p.intersection(s)\n",
    "#conflicts = [f for f in k if getattr(ss, f) is not getattr(pp, f)]\n",
    "#conflicts\n",
    "\"\"\"\n",
    " 'abs',\n",
    " 'all',\n",
    " 'any',\n",
    " 'divmod',\n",
    " 'max',\n",
    " 'min',\n",
    " 'round',\n",
    " 'sum'}\n",
    "\"\"\"\n",
    "k\n"
   ]
  },
  {
   "cell_type": "code",
   "execution_count": null,
   "id": "e3ab61a0-ce8b-4699-a417-5fa6656c3788",
   "metadata": {},
   "outputs": [],
   "source": [
    "pp.array?"
   ]
  },
  {
   "cell_type": "code",
   "execution_count": 5,
   "id": "b955c30d-c903-4ce4-8e7e-5d853c9329f4",
   "metadata": {},
   "outputs": [
    {
     "data": {
      "text/plain": [
       "\u001b[1;31mType:\u001b[0m        module\n",
       "\u001b[1;31mString form:\u001b[0m <module 'pylab' from 'D:\\\\conda\\\\envs\\\\pip310ecco\\\\lib\\\\site-packages\\\\pylab.py'>\n",
       "\u001b[1;31mFile:\u001b[0m        d:\\conda\\envs\\pip310ecco\\lib\\site-packages\\pylab.py\n",
       "\u001b[1;31mSource:\u001b[0m     \n",
       "\u001b[1;32mfrom\u001b[0m \u001b[0mmatplotlib\u001b[0m\u001b[1;33m.\u001b[0m\u001b[0mpylab\u001b[0m \u001b[1;32mimport\u001b[0m \u001b[1;33m*\u001b[0m\u001b[1;33m\n",
       "\u001b[0m\u001b[1;32mimport\u001b[0m \u001b[0mmatplotlib\u001b[0m\u001b[1;33m.\u001b[0m\u001b[0mpylab\u001b[0m\u001b[1;33m\n",
       "\u001b[0m\u001b[0m__doc__\u001b[0m \u001b[1;33m=\u001b[0m \u001b[0mmatplotlib\u001b[0m\u001b[1;33m.\u001b[0m\u001b[0mpylab\u001b[0m\u001b[1;33m.\u001b[0m\u001b[0m__doc__\u001b[0m\u001b[1;33m\u001b[0m\u001b[1;33m\u001b[0m\u001b[0m"
      ]
     },
     "metadata": {},
     "output_type": "display_data"
    }
   ],
   "source": [
    "pylab??"
   ]
  },
  {
   "cell_type": "code",
   "execution_count": 8,
   "id": "516058f1-7dd8-4a71-adba-d5cb51bee527",
   "metadata": {},
   "outputs": [],
   "source": [
    "import matplotlib.pylab"
   ]
  },
  {
   "cell_type": "code",
   "execution_count": null,
   "id": "d80aec46-3925-4371-9ded-7e83ccb7e200",
   "metadata": {},
   "outputs": [],
   "source": [
    "matplotlib.pylab??"
   ]
  },
  {
   "cell_type": "code",
   "execution_count": 25,
   "id": "0ea27730-ceab-44af-b2b4-809f76f30a2d",
   "metadata": {},
   "outputs": [],
   "source": [
    "from numpy import array"
   ]
  },
  {
   "cell_type": "code",
   "execution_count": 30,
   "id": "54c05873-4668-45ce-8828-827e88e0cbcc",
   "metadata": {},
   "outputs": [],
   "source": [
    "a=array([4,87])"
   ]
  },
  {
   "cell_type": "code",
   "execution_count": null,
   "id": "66505e47-7e8c-498d-83bd-63252a354ba1",
   "metadata": {},
   "outputs": [],
   "source": [
    "a?"
   ]
  },
  {
   "cell_type": "code",
   "execution_count": 33,
   "id": "488f82dd-c1db-4c44-ac5e-f0b95c5c8247",
   "metadata": {},
   "outputs": [],
   "source": [
    "from numpy import array, dot, cross, kron , trace, sum, sqrt, max, exp  # site:github.com"
   ]
  },
  {
   "cell_type": "code",
   "execution_count": null,
   "id": "1f6ed50f-d944-4aac-8a8c-8e83ae8c47af",
   "metadata": {},
   "outputs": [],
   "source": []
  },
  {
   "cell_type": "code",
   "execution_count": null,
   "id": "cd620d52-3350-4d36-8639-9433936b8d1c",
   "metadata": {},
   "outputs": [],
   "source": []
  },
  {
   "cell_type": "code",
   "execution_count": null,
   "id": "50e00584-7dd6-4d31-b0ae-b301b27206b3",
   "metadata": {},
   "outputs": [],
   "source": []
  },
  {
   "cell_type": "code",
   "execution_count": null,
   "id": "8947175b-0c1d-4d44-8011-d6dd47283124",
   "metadata": {},
   "outputs": [],
   "source": []
  }
 ],
 "metadata": {
  "kernelspec": {
   "display_name": "Python 3 (ipykernel)",
   "language": "python",
   "name": "python3"
  },
  "language_info": {
   "codemirror_mode": {
    "name": "ipython",
    "version": 3
   },
   "file_extension": ".py",
   "mimetype": "text/x-python",
   "name": "python",
   "nbconvert_exporter": "python",
   "pygments_lexer": "ipython3",
   "version": "3.10.10"
  }
 },
 "nbformat": 4,
 "nbformat_minor": 5
}
