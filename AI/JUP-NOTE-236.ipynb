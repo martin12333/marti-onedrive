{
 "cells": [
  {
   "cell_type": "code",
   "execution_count": null,
   "id": "24dc279f-1921-424a-ae28-8009e9bd02cb",
   "metadata": {},
   "outputs": [],
   "source": []
  },
  {
   "cell_type": "code",
   "execution_count": 1,
   "id": "391110ec-96dc-492a-b075-b063df4bb9c0",
   "metadata": {},
   "outputs": [],
   "source": [
    "\n",
    "# http://localhost:6006/#projector\n",
    "\n",
    "# OR THERE IS AN ALTERNATIVE WAY TO RUN THE tensorboard PROJECTOR ... \n",
    "!start tensorboard --logdir d:/ai\n",
    "# or if in unix, then probably: !tensorboard --logdir ...  &\n",
    "\n",
    "#!taskkill /IM \"tensorboard*\" /f"
   ]
  },
  {
   "cell_type": "code",
   "execution_count": null,
   "id": "81267747-52e8-47df-a5df-50b640d4a52f",
   "metadata": {},
   "outputs": [],
   "source": []
  },
  {
   "cell_type": "code",
   "execution_count": null,
   "id": "1ac0d242-cc7e-4427-8ce5-65542f2884af",
   "metadata": {},
   "outputs": [],
   "source": []
  },
  {
   "cell_type": "code",
   "execution_count": null,
   "id": "9318d953-cc9a-4fca-b264-0e3540152754",
   "metadata": {},
   "outputs": [],
   "source": []
  },
  {
   "cell_type": "code",
   "execution_count": 1,
   "id": "c32ed926-6789-4c08-95ce-edd54d974acc",
   "metadata": {},
   "outputs": [
    {
     "ename": "NameError",
     "evalue": "name 'torch' is not defined",
     "output_type": "error",
     "traceback": [
      "\u001b[1;31m-----------------------------------------------------------------\u001b[0m",
      "\u001b[1;31mNameError\u001b[0m                       Traceback (most recent call last)",
      "Cell \u001b[1;32mIn[1], line 6\u001b[0m\n\u001b[0;32m      1\u001b[0m \u001b[38;5;66;03m#mm ... small edits by M. M.\u001b[39;00m\n\u001b[0;32m      2\u001b[0m \u001b[38;5;66;03m# (#aaa #aaaa #aaaa ... \"attention\", \"importance\" marks, just for M. M.)\u001b[39;00m\n\u001b[0;32m      3\u001b[0m \u001b[38;5;66;03m#mm-todo-tweak #aaaa\u001b[39;00m\n\u001b[0;32m      4\u001b[0m \n\u001b[0;32m      5\u001b[0m \u001b[38;5;66;03m#mm\u001b[39;00m\n\u001b[1;32m----> 6\u001b[0m \u001b[43mtorch\u001b[49m\u001b[38;5;241m.\u001b[39mset_printoptions(profile\u001b[38;5;241m=\u001b[39m\u001b[38;5;124m'\u001b[39m\u001b[38;5;124mshort\u001b[39m\u001b[38;5;124m'\u001b[39m)\n\u001b[0;32m      7\u001b[0m \u001b[38;5;66;03m#%precision 2\u001b[39;00m\n\u001b[0;32m      8\u001b[0m \u001b[38;5;66;03m# https://pytorch.org/docs/stable/generated/torch.set_printoptions.html\u001b[39;00m\n\u001b[0;32m      9\u001b[0m \u001b[38;5;66;03m#torch.set_printoptions(precision=0)\u001b[39;00m\n\u001b[0;32m     10\u001b[0m torch\u001b[38;5;241m.\u001b[39mset_printoptions(threshold\u001b[38;5;241m=\u001b[39m\u001b[38;5;241m7\u001b[39m)\n",
      "\u001b[1;31mNameError\u001b[0m: name 'torch' is not defined"
     ]
    }
   ],
   "source": [
    "#mm ... small edits by M. M.\n",
    "# (#aaa #aaaa #aaaa ... \"attention\", \"importance\" marks, just for M. M.)\n",
    "#mm-todo-tweak #aaaa\n",
    "\n",
    "#mm\n",
    "import torch\n",
    "torch.set_printoptions(profile='short')\n",
    "#%precision 2\n",
    "# https://pytorch.org/docs/stable/generated/torch.set_printoptions.html\n",
    "#torch.set_printoptions(precision=0)\n",
    "torch.set_printoptions(threshold=7)\n",
    "torch.set_printoptions(edgeitems=3)\n"
   ]
  },
  {
   "cell_type": "code",
   "execution_count": 3,
   "id": "ae79c408-f959-4dd8-833f-f12e01acd2fe",
   "metadata": {},
   "outputs": [],
   "source": [
    "from torch.utils.tensorboard import SummaryWriter\n",
    "writer = SummaryWriter(\"d:/ai/makemore1disc/runs\")"
   ]
  },
  {
   "cell_type": "code",
   "execution_count": null,
   "id": "1acd20c1-d60d-4829-abab-b89e5238667e",
   "metadata": {},
   "outputs": [],
   "source": [
    "\n",
    "#after reinstall env pip310  file:///C:\\Users\\marti\\OneDrive\\AI\\conda,pip,mamba,ai-python.e.f8.sh\n",
    "\n",
    "#opened nb\n",
    "    #Kar/Antimat/makemore_nlp\n",
    "    \n",
    "#and the upstream i can open in vsc\n",
    "    #Kar/make2\n",
    "    \n",
    "##torch.QUInt2x4Storage.\n",
    "\n",
    "#    844     # Caffe2 models do not have the 'forward' method\n",
    " \n",
    "    \n",
    "#     logits = gpt(x) # forward the gpt neural net\n",
    "\n",
    "    \n",
    "    "
   ]
  }
 ],
 "metadata": {
  "kernelspec": {
   "display_name": "Python 3 (ipykernel)",
   "language": "python",
   "name": "python3"
  },
  "language_info": {
   "codemirror_mode": {
    "name": "ipython",
    "version": 3
   },
   "file_extension": ".py",
   "mimetype": "text/x-python",
   "name": "python",
   "nbconvert_exporter": "python",
   "pygments_lexer": "ipython3",
   "version": "3.10.10"
  }
 },
 "nbformat": 4,
 "nbformat_minor": 5
}
