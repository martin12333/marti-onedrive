{
 "cells": [
  {
   "cell_type": "code",
   "execution_count": null,
   "id": "24dc279f-1921-424a-ae28-8009e9bd02cb",
   "metadata": {},
   "outputs": [],
   "source": []
  },
  {
   "cell_type": "code",
   "execution_count": 1,
   "id": "391110ec-96dc-492a-b075-b063df4bb9c0",
   "metadata": {},
   "outputs": [],
   "source": [
    "\n",
    "# http://localhost:6006/#projector\n",
    "\n",
    "# OR THERE IS AN ALTERNATIVE WAY TO RUN THE tensorboard PROJECTOR ... \n",
    "!start tensorboard --logdir d:/ai\n",
    "# or if in unix, then probably: !tensorboard --logdir ...  &\n",
    "\n",
    "#!taskkill /IM \"tensorboard*\" /f"
   ]
  },
  {
   "cell_type": "code",
   "execution_count": null,
   "id": "81267747-52e8-47df-a5df-50b640d4a52f",
   "metadata": {},
   "outputs": [],
   "source": [
    "%%p\n"
   ]
  },
  {
   "cell_type": "code",
   "execution_count": null,
   "id": "1ac0d242-cc7e-4427-8ce5-65542f2884af",
   "metadata": {},
   "outputs": [],
   "source": []
  },
  {
   "cell_type": "code",
   "execution_count": null,
   "id": "9318d953-cc9a-4fca-b264-0e3540152754",
   "metadata": {},
   "outputs": [],
   "source": []
  },
  {
   "cell_type": "code",
   "execution_count": 1,
   "id": "c32ed926-6789-4c08-95ce-edd54d974acc",
   "metadata": {
    "collapsed": true,
    "jupyter": {
     "outputs_hidden": true
    },
    "tags": []
   },
   "outputs": [
    {
     "ename": "NameError",
     "evalue": "name 'torch' is not defined",
     "output_type": "error",
     "traceback": [
      "\u001b[1;31m-----------------------------------------------------------------\u001b[0m",
      "\u001b[1;31mNameError\u001b[0m                       Traceback (most recent call last)",
      "Cell \u001b[1;32mIn[1], line 6\u001b[0m\n\u001b[0;32m      1\u001b[0m \u001b[38;5;66;03m#mm ... small edits by M. M.\u001b[39;00m\n\u001b[0;32m      2\u001b[0m \u001b[38;5;66;03m# (#aaa #aaaa #aaaa ... \"attention\", \"importance\" marks, just for M. M.)\u001b[39;00m\n\u001b[0;32m      3\u001b[0m \u001b[38;5;66;03m#mm-todo-tweak #aaaa\u001b[39;00m\n\u001b[0;32m      4\u001b[0m \n\u001b[0;32m      5\u001b[0m \u001b[38;5;66;03m#mm\u001b[39;00m\n\u001b[1;32m----> 6\u001b[0m \u001b[43mtorch\u001b[49m\u001b[38;5;241m.\u001b[39mset_printoptions(profile\u001b[38;5;241m=\u001b[39m\u001b[38;5;124m'\u001b[39m\u001b[38;5;124mshort\u001b[39m\u001b[38;5;124m'\u001b[39m)\n\u001b[0;32m      7\u001b[0m \u001b[38;5;66;03m#%precision 2\u001b[39;00m\n\u001b[0;32m      8\u001b[0m \u001b[38;5;66;03m# https://pytorch.org/docs/stable/generated/torch.set_printoptions.html\u001b[39;00m\n\u001b[0;32m      9\u001b[0m \u001b[38;5;66;03m#torch.set_printoptions(precision=0)\u001b[39;00m\n\u001b[0;32m     10\u001b[0m torch\u001b[38;5;241m.\u001b[39mset_printoptions(threshold\u001b[38;5;241m=\u001b[39m\u001b[38;5;241m7\u001b[39m)\n",
      "\u001b[1;31mNameError\u001b[0m: name 'torch' is not defined"
     ]
    }
   ],
   "source": [
    "#mm ... small edits by M. M.\n",
    "# (#aaa #aaaa #aaaa ... \"attention\", \"importance\" marks, just for M. M.)\n",
    "#mm-todo-tweak #aaaa\n",
    "\n",
    "#mm\n",
    "import torch\n",
    "torch.set_printoptions(profile='short')\n",
    "##%precision 2\n",
    "#%precision 4\n",
    "# https://pytorch.org/docs/stable/generated/torch.set_printoptions.html\n",
    "#torch.set_printoptions(precision=0)\n",
    "torch.set_printoptions(threshold=7)\n",
    "torch.set_printoptions(edgeitems=3)\n",
    "torch.set_printoptions(edgeitems=1)\n",
    "\n",
    "torch.set_printoptions(precision=0)\n",
    "torch.set_printoptions(precision=2)\n"
   ]
  },
  {
   "cell_type": "code",
   "execution_count": null,
   "id": "c9ee1bfd-e1cd-442a-9d96-77f2f95bc595",
   "metadata": {},
   "outputs": [],
   "source": [
    "import numpy as np\n",
    "\n",
    "np.set_printoptions(threshold=20)\n",
    "np.set_printoptions(threshold=400)\n",
    "\n",
    "np.set_printoptions(edgeitems=10)\n",
    "\n",
    "np.set_printoptions(precision=4)\n",
    "#np.set_printoptions(precision=3)\n",
    "np.set_printoptions(precision=2)\n",
    "#np.set_printoptions(precision=1)\n",
    "#np.set_printoptions(precision=0)\n",
    "\n",
    "%precision 4\n",
    "%precision 2\n"
   ]
  },
  {
   "cell_type": "code",
   "execution_count": null,
   "id": "09bf5da6-60b3-4a5a-8b8c-222cfe587aea",
   "metadata": {},
   "outputs": [],
   "source": []
  },
  {
   "cell_type": "code",
   "execution_count": 3,
   "id": "ae79c408-f959-4dd8-833f-f12e01acd2fe",
   "metadata": {},
   "outputs": [],
   "source": [
    "from torch.utils.tensorboard import SummaryWriter\n",
    "writer = SummaryWriter(\"d:/ai/makemore1disc\")"
   ]
  },
  {
   "cell_type": "code",
   "execution_count": null,
   "id": "071c2406-3772-4fb4-9acd-9f1ccdffa31e",
   "metadata": {},
   "outputs": [],
   "source": []
  },
  {
   "cell_type": "code",
   "execution_count": null,
   "id": "bcc67828-1f33-4668-a89d-98abe63043c2",
   "metadata": {},
   "outputs": [],
   "source": []
  },
  {
   "cell_type": "code",
   "execution_count": null,
   "id": "73ae094c-9c30-46ec-8a36-08f76333401e",
   "metadata": {},
   "outputs": [],
   "source": []
  },
  {
   "cell_type": "code",
   "execution_count": 35,
   "id": "40331589-5028-42b4-8ea9-413f82e9ffa9",
   "metadata": {},
   "outputs": [
    {
     "name": "stdout",
     "output_type": "stream",
     "text": [
      "tensor([[[ 1.24,  0.80, -0.32, -0.85],\n",
      "         [-0.07,  1.78,  1.52, -0.58],\n",
      "         [ 0.24, -0.55, -2.17,  0.49]],\n",
      "\n",
      "        [[ 0.36,  0.24, -1.20,  1.34],\n",
      "         [-0.68, -1.02,  0.44, -0.17],\n",
      "         [-0.07, -1.07,  0.49,  0.42]]])\n"
     ]
    },
    {
     "data": {
      "text/plain": [
       "2.17"
      ]
     },
     "execution_count": 35,
     "metadata": {},
     "output_type": "execute_result"
    }
   ],
   "source": [
    "from mmilanutil import *\n",
    "## ⚠ I forgot to restart the jupyter kernel after changing the module\n",
    "\n",
    "x = torch.randn(2,3, 4)\n",
    "print(x)\n",
    "\n",
    "mmptmaxabs(x)\n"
   ]
  },
  {
   "cell_type": "code",
   "execution_count": null,
   "id": "5f301700-1671-4e52-a695-82222ca70f26",
   "metadata": {},
   "outputs": [],
   "source": [
    "torch.nn.Module?\n",
    "\n",
    "writer.add_graph?\n",
    "###writer.add_graph(W)\n",
    "\n",
    "------------------------------------------------------------\n",
    "ModuleNotFoundError        Traceback (most recent call last)\n",
    "Cell In[79], line 1\n",
    "----> 1 writer.add_graph(W)\n",
    "\n",
    "    844     # Caffe2 models do not have the 'forward' method\n"
   ]
  },
  {
   "cell_type": "code",
   "execution_count": null,
   "id": "dd4323e3-9cad-4ac0-905a-9fe33cbca139",
   "metadata": {},
   "outputs": [],
   "source": []
  },
  {
   "cell_type": "code",
   "execution_count": null,
   "id": "1acd20c1-d60d-4829-abab-b89e5238667e",
   "metadata": {},
   "outputs": [],
   "source": [
    "\n",
    "#after reinstall env pip310  file:///C:\\Users\\marti\\OneDrive\\AI\\conda,pip,mamba,ai-python.e.f8.sh\n",
    "\n",
    "#opened nb\n",
    "    #Kar/Antimat/makemore_nlp\n",
    "    \n",
    "#and the upstream i can open in vsc\n",
    "    #Kar/make2\n",
    "    \n",
    "##torch.QUInt2x4Storage.\n",
    "\n",
    "#    844     # Caffe2 models do not have the 'forward' method\n",
    " \n",
    "    \n",
    "#     logits = gpt(x) # forward the gpt neural net\n",
    "\n",
    "    \n",
    "    "
   ]
  },
  {
   "cell_type": "code",
   "execution_count": 14,
   "id": "279a5bac-3bc8-4cc3-84a4-b8c591669d54",
   "metadata": {},
   "outputs": [],
   "source": [
    "from mmilanutil import *\n",
    "## ⚠ I forgot to restart the jupyter kernel after changing the module\n",
    "\n",
    "#from Antimatter543.mmilanutil import *\n",
    "#from mmilanutil import *\n"
   ]
  },
  {
   "cell_type": "raw",
   "id": "375ac1d3-0b91-4010-a933-c27065301828",
   "metadata": {
    "id": "7zMc-zK4WJv0"
   },
   "source": [
    "# create logging directory\n",
    "\n",
    "#mm\n",
    "log_dir='d:/ai/vocab/'\n",
    "log_dir='d:/ai/myvocab/runs/'\n",
    "\n",
    "if not os.path.exists(log_dir):\n",
    "    os.makedirs(log_dir)"
   ]
  },
  {
   "cell_type": "code",
   "execution_count": null,
   "id": "86d6b2cd-f2b2-4f78-995e-1b942ca395d9",
   "metadata": {},
   "outputs": [],
   "source": []
  },
  {
   "cell_type": "code",
   "execution_count": null,
   "id": "7850c335-1746-4959-928b-1aa4815a63e2",
   "metadata": {},
   "outputs": [],
   "source": []
  },
  {
   "cell_type": "code",
   "execution_count": null,
   "id": "fa545596-99e4-4578-a634-2f33671cae8e",
   "metadata": {},
   "outputs": [],
   "source": []
  },
  {
   "cell_type": "code",
   "execution_count": null,
   "id": "5ec49c99-ed6d-4b32-87d5-931ef0e67cc5",
   "metadata": {},
   "outputs": [],
   "source": []
  },
  {
   "cell_type": "code",
   "execution_count": null,
   "id": "76acacc3-7c1f-416b-a81c-05282a98e7a6",
   "metadata": {},
   "outputs": [],
   "source": []
  },
  {
   "cell_type": "code",
   "execution_count": null,
   "id": "67b2566b-9bda-4f83-b9ba-f9aa3336c28c",
   "metadata": {},
   "outputs": [],
   "source": []
  }
 ],
 "metadata": {
  "kernelspec": {
   "display_name": "Python 3 (ipykernel)",
   "language": "python",
   "name": "python3"
  },
  "language_info": {
   "codemirror_mode": {
    "name": "ipython",
    "version": 3
   },
   "file_extension": ".py",
   "mimetype": "text/x-python",
   "name": "python",
   "nbconvert_exporter": "python",
   "pygments_lexer": "ipython3",
   "version": "3.10.10"
  }
 },
 "nbformat": 4,
 "nbformat_minor": 5
}
