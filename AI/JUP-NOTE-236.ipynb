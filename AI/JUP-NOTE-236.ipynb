{
 "cells": [
  {
   "cell_type": "code",
   "execution_count": null,
   "id": "24dc279f-1921-424a-ae28-8009e9bd02cb",
   "metadata": {},
   "outputs": [],
   "source": []
  },
  {
   "cell_type": "code",
   "execution_count": 79,
   "id": "8f5bbd56-b193-45e8-be58-19eb7cfe422d",
   "metadata": {
    "collapsed": true,
    "jupyter": {
     "outputs_hidden": true
    },
    "tags": []
   },
   "outputs": [
    {
     "name": "stdout",
     "output_type": "stream",
     "text": [
      "Available objects for config:\n",
      "    AliasManager\n",
      "    DisplayFormatter\n",
      "    HistoryManager\n",
      "    IPCompleter\n",
      "    IPKernelApp\n",
      "    LoggingMagics\n",
      "    MagicsManager\n",
      "    OSMagics\n",
      "    PrefilterManager\n",
      "    ScriptMagics\n",
      "    StoreMagics\n",
      "    ZMQInteractiveShell\n"
     ]
    }
   ],
   "source": [
    "%config"
   ]
  },
  {
   "cell_type": "code",
   "execution_count": 1,
   "id": "79b404bb-4db3-481f-b470-bcfff44126f4",
   "metadata": {
    "collapsed": true,
    "jupyter": {
     "outputs_hidden": true
    },
    "tags": []
   },
   "outputs": [
    {
     "name": "stdout",
     "output_type": "stream",
     "text": [
      "\n",
      "     active environment : pip310ecco\n",
      "    active env location : D:\\conda\\envs\\pip310ecco\n",
      "            shell level : 1\n",
      "       user config file : C:\\Users\\marti\\.condarc\n",
      " populated config files : C:\\Users\\marti\\.condarc\n",
      "                          D:\\conda\\envs\\pip310ecco\\.condarc\n",
      "          conda version : 23.3.1\n",
      "    conda-build version : not installed\n",
      "         python version : 3.10.10.final.0\n",
      "       virtual packages : __archspec=1=x86_64\n",
      "                          __win=0=0\n",
      "       base environment : D:\\conda  (writable)\n",
      "      conda av data dir : D:\\conda\\etc\\conda\n",
      "  conda av metadata url : None\n",
      "           channel URLs : https://repo.anaconda.com/pkgs/main/win-64\n",
      "                          https://repo.anaconda.com/pkgs/main/noarch\n",
      "                          https://repo.anaconda.com/pkgs/r/win-64\n",
      "                          https://repo.anaconda.com/pkgs/r/noarch\n",
      "                          https://repo.anaconda.com/pkgs/msys2/win-64\n",
      "                          https://repo.anaconda.com/pkgs/msys2/noarch\n",
      "          package cache : D:\\conda\\pkgs\n",
      "                          C:\\Users\\marti\\.conda\\pkgs\n",
      "                          C:\\Users\\marti\\AppData\\Local\\conda\\conda\\pkgs\n",
      "       envs directories : D:\\conda\\envs\n",
      "                          C:\\Users\\marti\\.conda\\envs\n",
      "                          C:\\Users\\marti\\AppData\\Local\\conda\\conda\\envs\n",
      "               platform : win-64\n",
      "             user-agent : conda/23.3.1 requests/2.28.1 CPython/3.10.10 Windows/10 Windows/10.0.22621\n",
      "          administrator : False\n",
      "             netrc file : None\n",
      "           offline mode : False\n",
      "\n",
      "\n",
      "Note: you may need to restart the kernel to use updated packages.\n"
     ]
    }
   ],
   "source": [
    "%conda info"
   ]
  },
  {
   "cell_type": "code",
   "execution_count": 1,
   "id": "391110ec-96dc-492a-b075-b063df4bb9c0",
   "metadata": {},
   "outputs": [],
   "source": [
    "\n",
    "# http://localhost:6006/#projector\n",
    "\n",
    "# OR THERE IS AN ALTERNATIVE WAY TO RUN THE tensorboard PROJECTOR ... \n",
    "!start tensorboard --logdir d:/ai\n",
    "# or if in unix, then probably: !tensorboard --logdir ...  &\n",
    "\n",
    "#!taskkill /IM \"tensorboard*\" /f"
   ]
  },
  {
   "cell_type": "code",
   "execution_count": null,
   "id": "81267747-52e8-47df-a5df-50b640d4a52f",
   "metadata": {},
   "outputs": [],
   "source": [
    "%%p\n"
   ]
  },
  {
   "cell_type": "code",
   "execution_count": null,
   "id": "1ac0d242-cc7e-4427-8ce5-65542f2884af",
   "metadata": {},
   "outputs": [],
   "source": [
    "\n",
    "rs = np.random.RandomState(33)\n",
    "xx=rs.normal(size=(100*1000,n))\n"
   ]
  },
  {
   "cell_type": "code",
   "execution_count": null,
   "id": "9318d953-cc9a-4fca-b264-0e3540152754",
   "metadata": {},
   "outputs": [],
   "source": []
  },
  {
   "cell_type": "code",
   "execution_count": 1,
   "id": "c32ed926-6789-4c08-95ce-edd54d974acc",
   "metadata": {
    "tags": []
   },
   "outputs": [],
   "source": [
    "#mm ... small edits by M. M.\n",
    "# (#aaa #aaaa #aaaa ... \"attention\", \"importance\" marks, just for M. M.)\n",
    "#mm-todo-tweak #aaaa\n",
    "\n",
    "#mm\n",
    "import torch\n",
    "torch.set_printoptions(profile='short')\n",
    "\n",
    "\n",
    "##%precision 2\n",
    "#%precision 4\n",
    "# https://pytorch.org/docs/stable/generated/torch.set_printoptions.html\n",
    "#torch.set_printoptions(precision=0)\n",
    "torch.set_printoptions(threshold=7)\n",
    "torch.set_printoptions(edgeitems=3)\n",
    "torch.set_printoptions(edgeitems=1)\n",
    "\n",
    "torch.set_printoptions(precision=0)\n",
    "torch.set_printoptions(precision=2)\n",
    "\n",
    "torch.set_printoptions(sci_mode=False)\n"
   ]
  },
  {
   "cell_type": "code",
   "execution_count": null,
   "id": "c9ee1bfd-e1cd-442a-9d96-77f2f95bc595",
   "metadata": {},
   "outputs": [],
   "source": [
    "import numpy as np\n",
    "\n",
    "np.set_printoptions(suppress=True)\n",
    "\n",
    "np.set_printoptions(threshold=20)\n",
    "np.set_printoptions(threshold=400)\n",
    "\n",
    "np.set_printoptions(edgeitems=10)\n",
    "\n",
    "np.set_printoptions(precision=4)\n",
    "#np.set_printoptions(precision=3)\n",
    "np.set_printoptions(precision=2)\n",
    "#np.set_printoptions(precision=1)\n",
    "#np.set_printoptions(precision=0)\n",
    "\n",
    "%precision 4\n",
    "%precision 2\n"
   ]
  },
  {
   "cell_type": "code",
   "execution_count": null,
   "id": "09bf5da6-60b3-4a5a-8b8c-222cfe587aea",
   "metadata": {},
   "outputs": [],
   "source": []
  },
  {
   "cell_type": "code",
   "execution_count": 3,
   "id": "ae79c408-f959-4dd8-833f-f12e01acd2fe",
   "metadata": {},
   "outputs": [],
   "source": [
    "from torch.utils.tensorboard import SummaryWriter\n",
    "writer = SummaryWriter(\"d:/ai/makemore1disc\")"
   ]
  },
  {
   "cell_type": "code",
   "execution_count": null,
   "id": "071c2406-3772-4fb4-9acd-9f1ccdffa31e",
   "metadata": {},
   "outputs": [],
   "source": []
  },
  {
   "cell_type": "code",
   "execution_count": null,
   "id": "07d0c535-8ea4-44b8-b1fa-5731da936d32",
   "metadata": {},
   "outputs": [],
   "source": [
    "import seaborn as sns\n",
    "import matplotlib.pyplot as plt\n",
    "\n"
   ]
  },
  {
   "cell_type": "code",
   "execution_count": null,
   "id": "bcc67828-1f33-4668-a89d-98abe63043c2",
   "metadata": {},
   "outputs": [],
   "source": []
  },
  {
   "cell_type": "code",
   "execution_count": null,
   "id": "73ae094c-9c30-46ec-8a36-08f76333401e",
   "metadata": {},
   "outputs": [],
   "source": []
  },
  {
   "cell_type": "code",
   "execution_count": 35,
   "id": "40331589-5028-42b4-8ea9-413f82e9ffa9",
   "metadata": {},
   "outputs": [
    {
     "name": "stdout",
     "output_type": "stream",
     "text": [
      "tensor([[[ 1.24,  0.80, -0.32, -0.85],\n",
      "         [-0.07,  1.78,  1.52, -0.58],\n",
      "         [ 0.24, -0.55, -2.17,  0.49]],\n",
      "\n",
      "        [[ 0.36,  0.24, -1.20,  1.34],\n",
      "         [-0.68, -1.02,  0.44, -0.17],\n",
      "         [-0.07, -1.07,  0.49,  0.42]]])\n"
     ]
    },
    {
     "data": {
      "text/plain": [
       "2.17"
      ]
     },
     "execution_count": 35,
     "metadata": {},
     "output_type": "execute_result"
    }
   ],
   "source": [
    "from mmilanutil import *\n",
    "## ⚠ I forgot to restart the jupyter kernel after changing the module\n",
    "\n",
    "x = torch.randn(2,3, 4)\n",
    "print(x)\n",
    "\n",
    "mmptmaxabs(x)\n"
   ]
  },
  {
   "cell_type": "code",
   "execution_count": null,
   "id": "5f301700-1671-4e52-a695-82222ca70f26",
   "metadata": {},
   "outputs": [],
   "source": [
    "torch.nn.Module?\n",
    "\n",
    "writer.add_graph?\n",
    "###writer.add_graph(W)\n",
    "\n",
    "------------------------------------------------------------\n",
    "ModuleNotFoundError        Traceback (most recent call last)\n",
    "Cell In[79], line 1\n",
    "----> 1 writer.add_graph(W)\n",
    "\n",
    "    844     # Caffe2 models do not have the 'forward' method\n"
   ]
  },
  {
   "cell_type": "code",
   "execution_count": null,
   "id": "dd4323e3-9cad-4ac0-905a-9fe33cbca139",
   "metadata": {},
   "outputs": [],
   "source": []
  },
  {
   "cell_type": "code",
   "execution_count": null,
   "id": "1acd20c1-d60d-4829-abab-b89e5238667e",
   "metadata": {},
   "outputs": [],
   "source": [
    "\n",
    "#after reinstall env pip310  file:///C:\\Users\\marti\\OneDrive\\AI\\conda,pip,mamba,ai-python.e.f8.sh\n",
    "\n",
    "#opened nb\n",
    "    #Kar/Antimat/makemore_nlp\n",
    "    \n",
    "#and the upstream i can open in vsc\n",
    "    #Kar/make2\n",
    "    \n",
    "##torch.QUInt2x4Storage.\n",
    "\n",
    "#    844     # Caffe2 models do not have the 'forward' method\n",
    " \n",
    "    \n",
    "#     logits = gpt(x) # forward the gpt neural net\n",
    "\n",
    "    \n",
    "    "
   ]
  },
  {
   "cell_type": "code",
   "execution_count": 14,
   "id": "279a5bac-3bc8-4cc3-84a4-b8c591669d54",
   "metadata": {},
   "outputs": [],
   "source": [
    "from mmilanutil import *\n",
    "## ⚠ I forgot to restart the jupyter kernel after changing the module\n",
    "\n",
    "#from Antimatter543.mmilanutil import *\n",
    "#from mmilanutil import *\n"
   ]
  },
  {
   "cell_type": "raw",
   "id": "375ac1d3-0b91-4010-a933-c27065301828",
   "metadata": {
    "id": "7zMc-zK4WJv0"
   },
   "source": [
    "# create logging directory\n",
    "\n",
    "#mm\n",
    "log_dir='d:/ai/vocab/'\n",
    "log_dir='d:/ai/myvocab/runs/'\n",
    "\n",
    "if not os.path.exists(log_dir):\n",
    "    os.makedirs(log_dir)"
   ]
  },
  {
   "cell_type": "code",
   "execution_count": null,
   "id": "86d6b2cd-f2b2-4f78-995e-1b942ca395d9",
   "metadata": {},
   "outputs": [],
   "source": []
  },
  {
   "cell_type": "code",
   "execution_count": null,
   "id": "7850c335-1746-4959-928b-1aa4815a63e2",
   "metadata": {},
   "outputs": [],
   "source": []
  },
  {
   "cell_type": "code",
   "execution_count": null,
   "id": "fa545596-99e4-4578-a634-2f33671cae8e",
   "metadata": {},
   "outputs": [],
   "source": []
  },
  {
   "cell_type": "code",
   "execution_count": null,
   "id": "5ec49c99-ed6d-4b32-87d5-931ef0e67cc5",
   "metadata": {},
   "outputs": [],
   "source": []
  },
  {
   "cell_type": "code",
   "execution_count": null,
   "id": "76acacc3-7c1f-416b-a81c-05282a98e7a6",
   "metadata": {},
   "outputs": [],
   "source": []
  },
  {
   "cell_type": "code",
   "execution_count": null,
   "id": "67b2566b-9bda-4f83-b9ba-f9aa3336c28c",
   "metadata": {},
   "outputs": [],
   "source": []
  }
 ],
 "metadata": {
  "kernelspec": {
   "display_name": "Python 3 (ipykernel)",
   "language": "python",
   "name": "python3"
  },
  "language_info": {
   "codemirror_mode": {
    "name": "ipython",
    "version": 3
   },
   "file_extension": ".py",
   "mimetype": "text/x-python",
   "name": "python",
   "nbconvert_exporter": "python",
   "pygments_lexer": "ipython3",
   "version": "3.10.10"
  }
 },
 "nbformat": 4,
 "nbformat_minor": 5
}
