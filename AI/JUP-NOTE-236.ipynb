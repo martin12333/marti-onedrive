{
 "cells": [
  {
   "cell_type": "code",
   "execution_count": null,
   "id": "24dc279f-1921-424a-ae28-8009e9bd02cb",
   "metadata": {},
   "outputs": [],
   "source": []
  },
  {
   "cell_type": "code",
   "execution_count": 1,
   "id": "391110ec-96dc-492a-b075-b063df4bb9c0",
   "metadata": {},
   "outputs": [],
   "source": [
    "\n",
    "# http://localhost:6006/#projector\n",
    "\n",
    "# OR THERE IS AN ALTERNATIVE WAY TO RUN THE tensorboard PROJECTOR ... \n",
    "!start tensorboard --logdir d:/ai\n",
    "# or if in unix, then probably: !tensorboard --logdir ...  &\n",
    "\n",
    "#!taskkill /IM \"tensorboard*\" /f"
   ]
  },
  {
   "cell_type": "code",
   "execution_count": null,
   "id": "1ac0d242-cc7e-4427-8ce5-65542f2884af",
   "metadata": {},
   "outputs": [],
   "source": []
  },
  {
   "cell_type": "code",
   "execution_count": null,
   "id": "9318d953-cc9a-4fca-b264-0e3540152754",
   "metadata": {},
   "outputs": [],
   "source": []
  },
  {
   "cell_type": "code",
   "execution_count": null,
   "id": "1acd20c1-d60d-4829-abab-b89e5238667e",
   "metadata": {},
   "outputs": [],
   "source": [
    "\n",
    "#after reinstall env pip310  file:///C:\\Users\\marti\\OneDrive\\AI\\conda,pip,mamba,ai-python.e.f8.sh\n",
    "\n",
    "#opened nb\n",
    "    #Kar/Antimat/makemore_nlp\n",
    "    \n",
    "#and the upstream i can open in vsc\n",
    "    #Kar/make2\n",
    "    \n",
    "##torch.QUInt2x4Storage.\n",
    "\n",
    "#    844     # Caffe2 models do not have the 'forward' method\n",
    " \n",
    "    \n",
    "#     logits = gpt(x) # forward the gpt neural net\n",
    "\n",
    "    \n",
    "    "
   ]
  }
 ],
 "metadata": {
  "kernelspec": {
   "display_name": "Python 3 (ipykernel)",
   "language": "python",
   "name": "python3"
  },
  "language_info": {
   "codemirror_mode": {
    "name": "ipython",
    "version": 3
   },
   "file_extension": ".py",
   "mimetype": "text/x-python",
   "name": "python",
   "nbconvert_exporter": "python",
   "pygments_lexer": "ipython3",
   "version": "3.10.10"
  }
 },
 "nbformat": 4,
 "nbformat_minor": 5
}
