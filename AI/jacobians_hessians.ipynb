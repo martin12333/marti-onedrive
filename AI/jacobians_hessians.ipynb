{
 "cells": [
  {
   "cell_type": "markdown",
   "id": "zPbR6-eP51fe",
   "metadata": {
    "id": "zPbR6-eP51fe"
   },
   "source": [
    "# Jacobians, Hessians, hvp, vhp, and more: composing functorch transforms\n",
    "\n",
    "<a href=\"https://colab.research.google.com/github/pytorch/pytorch/blob/master/functorch/notebooks/jacobians_hessians.ipynb\">\n",
    "  <img style=\"width: auto\" src=\"https://colab.research.google.com/assets/colab-badge.svg\" alt=\"Open In Colab\"/>\n",
    "</a>\n",
    "\n",
    "Computing jacobians or hessians are useful in a number of non-traditional\n",
    "deep learning models. It is difficult (or annoying) to compute these quantities\n",
    "efficiently using a standard autodiff system like PyTorch Autograd; functorch\n",
    "provides ways of computing various higher-order autodiff quantities efficiently."
   ]
  },
  {
   "cell_type": "markdown",
   "id": "3kDj8fhn52j3",
   "metadata": {
    "id": "3kDj8fhn52j3"
   },
   "source": [
    "## Computing the Jacobian"
   ]
  },
  {
   "cell_type": "code",
   "execution_count": 1,
   "id": "w_IinyjzflUH",
   "metadata": {
    "id": "w_IinyjzflUH"
   },
   "outputs": [],
   "source": [
    "import torch\n",
    "import torch.nn as nn\n",
    "import torch.nn.functional as F\n",
    "from functools import partial\n",
    "_ = torch.manual_seed(0)"
   ]
  },
  {
   "cell_type": "code",
   "execution_count": null,
   "id": "a4131e29-0ec6-4c53-9cd4-b23cc598be1a",
   "metadata": {},
   "outputs": [],
   "source": []
  },
  {
   "cell_type": "markdown",
   "id": "cibF_PEYflUH",
   "metadata": {
    "id": "cibF_PEYflUH"
   },
   "source": [
    "Let’s start with a function that we’d like to compute the jacobian of.  This is a simple linear function with non-linear activation.\n",
    "\n"
   ]
  },
  {
   "cell_type": "code",
   "execution_count": 7,
   "id": "qhcD9hWYflUH",
   "metadata": {
    "id": "qhcD9hWYflUH"
   },
   "outputs": [],
   "source": [
    "def predict(weight, bias, x):\n",
    "#    return F.linear(x, weight, bias).tanh()\n",
    "    return F.linear(x, weight, bias)    #.tanh()"
   ]
  },
  {
   "cell_type": "code",
   "execution_count": null,
   "id": "c490a489-daa9-4bdb-9ced-8af7e4524260",
   "metadata": {},
   "outputs": [],
   "source": []
  },
  {
   "cell_type": "markdown",
   "id": "G8tqQrO_flUH",
   "metadata": {
    "id": "G8tqQrO_flUH"
   },
   "source": [
    "Let's add some dummy data:   a weight, a bias, and a feature vector x.\n",
    "\n"
   ]
  },
  {
   "cell_type": "code",
   "execution_count": 8,
   "id": "FZ4uJfZGflUH",
   "metadata": {
    "id": "FZ4uJfZGflUH"
   },
   "outputs": [],
   "source": [
    "#D = 16\n",
    "#D = 2\n",
    "D = 1\n",
    "weight = torch.randn(D, D)\n",
    "bias = torch.randn(D)\n",
    "x = torch.randn(D) # feature vector"
   ]
  },
  {
   "cell_type": "code",
   "execution_count": null,
   "id": "a08a54a2-c67b-40c1-8e67-815d2c438ec0",
   "metadata": {},
   "outputs": [],
   "source": []
  },
  {
   "cell_type": "code",
   "execution_count": null,
   "id": "cbd097b2-d399-4b15-864f-3b7d816db709",
   "metadata": {},
   "outputs": [],
   "source": []
  },
  {
   "cell_type": "markdown",
   "id": "uMAW-ArQflUH",
   "metadata": {
    "id": "uMAW-ArQflUH"
   },
   "source": [
    "Let's think of `predict` as a function that maps the input `x` from $R^D -> R^D$.\n",
    "PyTorch Autograd computes vector-Jacobian products. In order to compute the full\n",
    "Jacobian of this $R^D -> R^D$ function, we would have to compute it row-by-row\n",
    "by using a different unit vector each time."
   ]
  },
  {
   "cell_type": "code",
   "execution_count": 9,
   "id": "z-BJPtbpflUI",
   "metadata": {
    "id": "z-BJPtbpflUI"
   },
   "outputs": [],
   "source": [
    "def compute_jac(xp):\n",
    "    jacobian_rows = [torch.autograd.grad(predict(weight, bias, xp), xp, vec)[0]\n",
    "                     for vec in unit_vectors]\n",
    "    return torch.stack(jacobian_rows)"
   ]
  },
  {
   "cell_type": "code",
   "execution_count": null,
   "id": "c78951f8-7cc8-44e3-8ec1-329b79a4547e",
   "metadata": {},
   "outputs": [],
   "source": []
  },
  {
   "cell_type": "code",
   "execution_count": null,
   "id": "4f75fdde-b532-46c9-83bc-29376ddde7ac",
   "metadata": {},
   "outputs": [],
   "source": []
  },
  {
   "cell_type": "code",
   "execution_count": 10,
   "id": "zuWGSXspflUI",
   "metadata": {
    "colab": {
     "base_uri": "https://localhost:8080/"
    },
    "id": "zuWGSXspflUI",
    "outputId": "f1f1ec12-56ef-40f7-8c3c-cbad7bf86644"
   },
   "outputs": [
    {
     "name": "stdout",
     "output_type": "stream",
     "text": [
      "torch.Size([1, 1])\n",
      "tensor([1.1076])\n"
     ]
    }
   ],
   "source": [
    "xp = x.clone().requires_grad_()\n",
    "unit_vectors = torch.eye(D)\n",
    "\n",
    "jacobian = compute_jac(xp)\n",
    "\n",
    "print(jacobian.shape)\n",
    "print(jacobian[0])  # show first row"
   ]
  },
  {
   "cell_type": "code",
   "execution_count": null,
   "id": "60e83626-ef44-4863-a88b-16f0f42bd526",
   "metadata": {},
   "outputs": [],
   "source": []
  },
  {
   "cell_type": "code",
   "execution_count": null,
   "id": "05e36acf-a1c4-499e-98a0-cfd5623aa017",
   "metadata": {},
   "outputs": [],
   "source": []
  },
  {
   "cell_type": "markdown",
   "id": "mxlEOUieflUI",
   "metadata": {
    "id": "mxlEOUieflUI"
   },
   "source": [
    "Instead of computing the jacobian row-by-row, we can use vmap to get rid of the for-loop and vectorize the computation. \n",
    "We can’t directly apply vmap to PyTorch Autograd; instead, functorch provides a vjp transform:\n",
    "\n"
   ]
  },
  {
   "cell_type": "code",
   "execution_count": 11,
   "id": "DeF6uy4WflUI",
   "metadata": {
    "id": "DeF6uy4WflUI"
   },
   "outputs": [],
   "source": [
    "from functorch import vmap, vjp\n",
    "\n",
    "_, vjp_fn = vjp(partial(predict, weight, bias), x)\n",
    "\n",
    "ft_jacobian, = vmap(vjp_fn)(unit_vectors)\n",
    "\n",
    "# lets confirm both methods compute the same result\n",
    "assert torch.allclose(ft_jacobian, jacobian)"
   ]
  },
  {
   "cell_type": "code",
   "execution_count": null,
   "id": "4e1cc867-ca5d-43d5-b22b-f09999acb595",
   "metadata": {},
   "outputs": [],
   "source": []
  },
  {
   "cell_type": "code",
   "execution_count": null,
   "id": "9b769b86-f9e6-4226-812f-f796fb7d8717",
   "metadata": {},
   "outputs": [],
   "source": []
  },
  {
   "cell_type": "markdown",
   "id": "Hy4REmwDflUI",
   "metadata": {
    "id": "Hy4REmwDflUI"
   },
   "source": [
    "In future tutorial a composition of reverse-mode AD and vmap will give us per-sample-gradients. \n",
    "In this tutorial, composing reverse-mode AD and vmap gives us Jacobian computation! \n",
    "Various compositions of vmap and autodiff transforms can give us different interesting quantities.\n",
    "\n",
    "functorch provides **jacrev** as a convenience function that performs the vmap-vjp composition to compute jacobians. **jacrev** accepts an argnums argument that says which argument we would like to compute Jacobians with respect to.\n",
    "\n"
   ]
  },
  {
   "cell_type": "code",
   "execution_count": 12,
   "id": "Rt7i6_YlflUI",
   "metadata": {
    "id": "Rt7i6_YlflUI"
   },
   "outputs": [],
   "source": [
    "from functorch import jacrev\n",
    "\n",
    "ft_jacobian = jacrev(predict, argnums=2)(weight, bias, x)\n",
    "\n",
    "# confirm \n",
    "assert torch.allclose(ft_jacobian, jacobian)"
   ]
  },
  {
   "cell_type": "code",
   "execution_count": null,
   "id": "d90db5ee-898d-4f31-b1af-27f2b6236e45",
   "metadata": {},
   "outputs": [],
   "source": []
  },
  {
   "cell_type": "markdown",
   "id": "JYe2H1UcflUJ",
   "metadata": {
    "id": "JYe2H1UcflUJ"
   },
   "source": [
    "Let’s compare the performance of the two ways to compute the jacobian. The functorch version is much faster (and becomes even faster the more outputs there are). \n",
    "\n",
    "In general, we expect that vectorization via vmap can help eliminate overhead and give better utilization of your hardware.\n",
    "\n",
    "Vmap does this magic by pushing the outer loop down into the functions primitive operations in order to obtain better performance.\n",
    "\n",
    "\n"
   ]
  },
  {
   "cell_type": "markdown",
   "id": "i_143LZwflUJ",
   "metadata": {
    "id": "i_143LZwflUJ"
   },
   "source": [
    "Let's make a quick function to evaluate performance and deal with microseconds and milliseconds measurements:"
   ]
  },
  {
   "cell_type": "code",
   "execution_count": 13,
   "id": "II7r6jBtflUJ",
   "metadata": {
    "id": "II7r6jBtflUJ"
   },
   "outputs": [],
   "source": [
    "def get_perf(first, first_descriptor, second, second_descriptor):\n",
    "  \"\"\"  takes torch.benchmark objects and compares delta of second vs first. \"\"\"\n",
    "  faster = second.times[0]\n",
    "  slower = first.times[0]\n",
    "  gain = (slower-faster)/slower\n",
    "  if gain < 0: gain *=-1 \n",
    "  final_gain = gain*100\n",
    "  print(f\" Performance delta: {final_gain:.4f} percent improvement with {second_descriptor} \")"
   ]
  },
  {
   "cell_type": "code",
   "execution_count": null,
   "id": "19bc7724-92fe-439d-800d-8b8c939f59c2",
   "metadata": {},
   "outputs": [],
   "source": []
  },
  {
   "cell_type": "markdown",
   "id": "r4clPnPKflUJ",
   "metadata": {
    "id": "r4clPnPKflUJ"
   },
   "source": [
    "And then run the performance comparison:"
   ]
  },
  {
   "cell_type": "code",
   "execution_count": 14,
   "id": "ZPtoxF6eflUJ",
   "metadata": {
    "colab": {
     "base_uri": "https://localhost:8080/"
    },
    "id": "ZPtoxF6eflUJ",
    "outputId": "cbf77a19-aac9-428d-eba1-74d337c53e49"
   },
   "outputs": [
    {
     "name": "stdout",
     "output_type": "stream",
     "text": [
      "<torch.utils.benchmark.utils.common.Measurement object at 0x00000298ED023C40>\n",
      "compute_jac(xp)\n",
      "  217.44 us\n",
      "  1 measurement, 500 runs , 1 thread\n",
      "<torch.utils.benchmark.utils.common.Measurement object at 0x00000298EE0A7E50>\n",
      "jacrev(predict, argnums=2)(weight, bias, x)\n",
      "  1.12 ms\n",
      "  1 measurement, 500 runs , 1 thread\n"
     ]
    }
   ],
   "source": [
    "from torch.utils.benchmark import Timer\n",
    "\n",
    "without_vmap = Timer(stmt=\"compute_jac(xp)\", globals=globals())\n",
    "with_vmap = Timer(stmt=\"jacrev(predict, argnums=2)(weight, bias, x)\", globals=globals())\n",
    "\n",
    "no_vmap_timer = without_vmap.timeit(500)\n",
    "with_vmap_timer = with_vmap.timeit(500)\n",
    "\n",
    "print(no_vmap_timer)\n",
    "print(with_vmap_timer)"
   ]
  },
  {
   "cell_type": "code",
   "execution_count": null,
   "id": "c7ee1cbd-cccc-4a57-8200-9c43b5472370",
   "metadata": {},
   "outputs": [],
   "source": []
  },
  {
   "cell_type": "markdown",
   "id": "nGBBi4dZflUJ",
   "metadata": {
    "id": "nGBBi4dZflUJ"
   },
   "source": [
    "Lets do a relative performance comparison of the above with our get_perf function:"
   ]
  },
  {
   "cell_type": "code",
   "execution_count": 15,
   "id": "zqV2RzEXflUJ",
   "metadata": {
    "colab": {
     "base_uri": "https://localhost:8080/"
    },
    "id": "zqV2RzEXflUJ",
    "outputId": "85d0bc5f-34aa-4826-f953-6c637404490c"
   },
   "outputs": [
    {
     "name": "stdout",
     "output_type": "stream",
     "text": [
      " Performance delta: 414.4212 percent improvement with vmap \n"
     ]
    }
   ],
   "source": [
    "get_perf(no_vmap_timer, \"without vmap\",  with_vmap_timer, \"vmap\");"
   ]
  },
  {
   "cell_type": "code",
   "execution_count": null,
   "id": "d83bc539-2a03-4d78-8677-4acaa1ff7595",
   "metadata": {},
   "outputs": [],
   "source": []
  },
  {
   "cell_type": "markdown",
   "id": "EQAB99EQflUJ",
   "metadata": {
    "id": "EQAB99EQflUJ"
   },
   "source": [
    "Furthemore, it’s pretty easy to flip the problem around and say we want to compute Jacobians of the parameters to our model (weight, bias) instead of the input."
   ]
  },
  {
   "cell_type": "code",
   "execution_count": 16,
   "id": "8UZpC8DnflUK",
   "metadata": {
    "id": "8UZpC8DnflUK"
   },
   "outputs": [],
   "source": [
    "# note the change in input via argnums params of 0,1 to map to weight and bias\n",
    "ft_jac_weight, ft_jac_bias = jacrev(predict, argnums=(0, 1))(weight, bias, x)"
   ]
  },
  {
   "cell_type": "code",
   "execution_count": null,
   "id": "c2c0d0f2-5624-4a08-b4d7-9a47e569e061",
   "metadata": {},
   "outputs": [],
   "source": []
  },
  {
   "cell_type": "markdown",
   "id": "F3USYENIflUK",
   "metadata": {
    "id": "F3USYENIflUK"
   },
   "source": [
    "## reverse-mode Jacobian (jacrev) vs forward-mode Jacobian (jacfwd)\n"
   ]
  },
  {
   "cell_type": "markdown",
   "id": "V7B3vE8dflUK",
   "metadata": {
    "id": "V7B3vE8dflUK"
   },
   "source": [
    "We offer two APIs to compute jacobians: **jacrev** and **jacfwd**: \n",
    "- jacrev uses reverse-mode AD. As you saw above it is a composition of our vjp and vmap transforms. \n",
    "- jacfwd uses forward-mode AD. It is implemented as a composition of our jvp and vmap transforms. \n",
    "\n",
    "jacfwd and jacrev can be substituted for each other but they have different performance characteristics.\n",
    "\n",
    "As a general rule of thumb, if you’re computing the jacobian of an $𝑅^N \\to R^M$ function, and there are many more outputs than inputs (i.e. $M > N$) then jacfwd is preferred, otherwise use jacrev. There are exceptions to this rule, but a non-rigorous argument for this follows:\n",
    "\n",
    "In reverse-mode AD, we are computing the jacobian row-by-row, while in forward-mode AD (which computes Jacobian-vector products), we are computing it column-by-column. The Jacobian matrix has M rows and N columns, so if it is taller or wider one way we may prefer the method that deals with fewer rows or columns.\n",
    "\n"
   ]
  },
  {
   "cell_type": "code",
   "execution_count": null,
   "id": "b4aa454f-2287-4dfe-bb31-c6328ebe1879",
   "metadata": {},
   "outputs": [],
   "source": []
  },
  {
   "cell_type": "code",
   "execution_count": null,
   "id": "3635704c-cd72-4706-b8f6-66dd4560b732",
   "metadata": {},
   "outputs": [],
   "source": []
  },
  {
   "cell_type": "code",
   "execution_count": 18,
   "id": "k7Tok7m3flUK",
   "metadata": {
    "id": "k7Tok7m3flUK"
   },
   "outputs": [],
   "source": [
    "from functorch import jacrev, jacfwd"
   ]
  },
  {
   "cell_type": "code",
   "execution_count": null,
   "id": "bf22781b-664b-4625-9a65-80dda7f33620",
   "metadata": {},
   "outputs": [],
   "source": []
  },
  {
   "cell_type": "markdown",
   "id": "YrV-gZAaflUL",
   "metadata": {
    "id": "YrV-gZAaflUL"
   },
   "source": [
    "First, let's benchmark with more inputs than outputs:\n",
    "\n"
   ]
  },
  {
   "cell_type": "code",
   "execution_count": null,
   "id": "m5j-4hSxflUL",
   "metadata": {
    "colab": {
     "base_uri": "https://localhost:8080/"
    },
    "id": "m5j-4hSxflUL",
    "outputId": "dd882726-9723-47c0-a72f-3c7835a85aa1"
   },
   "outputs": [
    {
     "name": "stdout",
     "output_type": "stream",
     "text": [
      "torch.Size([2048, 32])\n",
      "jacfwd time: <torch.utils.benchmark.utils.common.Measurement object at 0x7fa9a5d792d0>\n",
      "jacfwd(predict, argnums=2)(weight, bias, x)\n",
      "  1.32 ms\n",
      "  1 measurement, 500 runs , 1 thread\n",
      "jacrev time: <torch.utils.benchmark.utils.common.Measurement object at 0x7fa9a4dee450>\n",
      "jacrev(predict, argnums=2)(weight, bias, x)\n",
      "  12.46 ms\n",
      "  1 measurement, 500 runs , 1 thread\n"
     ]
    }
   ],
   "source": [
    "Din = 32\n",
    "Dout = 2048\n",
    "weight = torch.randn(Dout, Din)\n",
    "\n",
    "bias = torch.randn(Dout)\n",
    "x = torch.randn(Din)\n",
    "\n",
    "# remember the general rule about taller vs wider...here we have a taller matrix:\n",
    "print(weight.shape)\n",
    "\n",
    "using_fwd = Timer(stmt=\"jacfwd(predict, argnums=2)(weight, bias, x)\", globals=globals())\n",
    "using_bwd = Timer(stmt=\"jacrev(predict, argnums=2)(weight, bias, x)\", globals=globals())\n",
    "\n",
    "jacfwd_timing = using_fwd.timeit(500)\n",
    "jacrev_timing = using_bwd.timeit(500)\n",
    "\n",
    "print(f'jacfwd time: {jacfwd_timing}')\n",
    "print(f'jacrev time: {jacrev_timing}')\n"
   ]
  },
  {
   "cell_type": "markdown",
   "id": "k_Sg-4tVflUL",
   "metadata": {
    "id": "k_Sg-4tVflUL"
   },
   "source": [
    "and then do a relative benchmark:"
   ]
  },
  {
   "cell_type": "code",
   "execution_count": null,
   "id": "_4T96zGjflUL",
   "metadata": {
    "colab": {
     "base_uri": "https://localhost:8080/"
    },
    "id": "_4T96zGjflUL",
    "outputId": "3a6586a1-269d-46d8-d119-e24f6d46277f"
   },
   "outputs": [
    {
     "name": "stdout",
     "output_type": "stream",
     "text": [
      " Performance delta: 842.8274 percent improvement with jacrev \n"
     ]
    }
   ],
   "source": [
    "get_perf(jacfwd_timing, \"jacfwd\", jacrev_timing, \"jacrev\", );"
   ]
  },
  {
   "cell_type": "markdown",
   "id": "RCDPot1yflUL",
   "metadata": {
    "id": "RCDPot1yflUL"
   },
   "source": [
    "and now the reverse - more outputs (M) than inputs (N):"
   ]
  },
  {
   "cell_type": "code",
   "execution_count": null,
   "id": "_DRFqzqZflUM",
   "metadata": {
    "colab": {
     "base_uri": "https://localhost:8080/"
    },
    "id": "_DRFqzqZflUM",
    "outputId": "913e9ccd-3d4f-472a-a749-19cee36d0a16"
   },
   "outputs": [
    {
     "name": "stdout",
     "output_type": "stream",
     "text": [
      "jacfwd time: <torch.utils.benchmark.utils.common.Measurement object at 0x7fa9a5d64790>\n",
      "jacfwd(predict, argnums=2)(weight, bias, x)\n",
      "  7.99 ms\n",
      "  1 measurement, 500 runs , 1 thread\n",
      "jacrev time: <torch.utils.benchmark.utils.common.Measurement object at 0x7fa9a5d67b50>\n",
      "jacrev(predict, argnums=2)(weight, bias, x)\n",
      "  1.09 ms\n",
      "  1 measurement, 500 runs , 1 thread\n"
     ]
    }
   ],
   "source": [
    "Din = 2048\n",
    "Dout = 32\n",
    "weight = torch.randn(Dout, Din)\n",
    "bias = torch.randn(Dout)\n",
    "x = torch.randn(Din)\n",
    "\n",
    "using_fwd = Timer(stmt=\"jacfwd(predict, argnums=2)(weight, bias, x)\", globals=globals())\n",
    "using_bwd = Timer(stmt=\"jacrev(predict, argnums=2)(weight, bias, x)\", globals=globals())\n",
    "\n",
    "jacfwd_timing = using_fwd.timeit(500)\n",
    "jacrev_timing = using_bwd.timeit(500)\n",
    "\n",
    "print(f'jacfwd time: {jacfwd_timing}')\n",
    "print(f'jacrev time: {jacrev_timing}')"
   ]
  },
  {
   "cell_type": "markdown",
   "id": "5SRbMCNsflUM",
   "metadata": {
    "id": "5SRbMCNsflUM"
   },
   "source": [
    "and a relative perf comparison:"
   ]
  },
  {
   "cell_type": "code",
   "execution_count": null,
   "id": "uF_9GaoiflUM",
   "metadata": {
    "colab": {
     "base_uri": "https://localhost:8080/"
    },
    "id": "uF_9GaoiflUM",
    "outputId": "c282ce25-4f6e-44cd-aed7-60f6f5010e5b"
   },
   "outputs": [
    {
     "name": "stdout",
     "output_type": "stream",
     "text": [
      " Performance delta: 635.2095 percent improvement with jacfwd \n"
     ]
    }
   ],
   "source": [
    "get_perf(jacrev_timing, \"jacrev\", jacfwd_timing, \"jacfwd\")"
   ]
  },
  {
   "cell_type": "markdown",
   "id": "J29FQaBQflUM",
   "metadata": {
    "id": "J29FQaBQflUM"
   },
   "source": [
    "## Hessian computation with functorch.hessian\n"
   ]
  },
  {
   "cell_type": "markdown",
   "id": "My4DPH97flUM",
   "metadata": {
    "id": "My4DPH97flUM"
   },
   "source": [
    "We offer a convenience API to compute hessians: `functorch.hessian`. \n",
    "Hessians are the jacobian of the jacobian (or the partial derivative of the partial derivative, aka second order).\n",
    "\n",
    "This suggests that one can just compose functorch’s jacobian transforms to compute the Hessian. \n",
    "Indeed, under the hood, `hessian(f)` is simply `jacfwd(jacrev(f))`.\n",
    "\n"
   ]
  },
  {
   "cell_type": "markdown",
   "id": "FJt038l5flUM",
   "metadata": {
    "id": "FJt038l5flUM"
   },
   "source": [
    "Note: to boost performance: depending on your model, you may also want to use `jacfwd(jacfwd(f))` or `jacrev(jacrev(f))` instead to compute hessians leveraging the rule of thumb above regarding wider vs taller matrices.\n",
    "\n"
   ]
  },
  {
   "cell_type": "code",
   "execution_count": 20,
   "id": "jEqr2ywZflUM",
   "metadata": {
    "id": "jEqr2ywZflUM"
   },
   "outputs": [],
   "source": [
    "from functorch import hessian\n",
    "\n",
    "# lets reduce the size in order not to blow out colab. Hessians require significant memory:\n",
    "Din = 512\n",
    "Dout = 32\n",
    "weight = torch.randn(Dout, Din)\n",
    "bias = torch.randn(Dout)\n",
    "x = torch.randn(Din)\n",
    "\n",
    "hess_api = hessian(predict, argnums=2)(weight, bias, x)\n",
    "hess_fwdfwd = jacfwd(jacfwd(predict, argnums=2), argnums=2)(weight, bias, x)\n",
    "#hess_revrev = jacrev(jacrev(predict, argnums=2), argnums=2)(weight, bias, x)\n"
   ]
  },
  {
   "cell_type": "code",
   "execution_count": null,
   "id": "372ba327-fbb3-40d3-82e7-5a13f2a43c85",
   "metadata": {},
   "outputs": [],
   "source": []
  },
  {
   "cell_type": "code",
   "execution_count": null,
   "id": "c5811481-3fef-4977-9e73-da43c67ef5ce",
   "metadata": {},
   "outputs": [],
   "source": []
  },
  {
   "cell_type": "code",
   "execution_count": null,
   "id": "b4e7bad4-0bdf-4117-ae66-7a56c5012277",
   "metadata": {},
   "outputs": [],
   "source": []
  },
  {
   "cell_type": "markdown",
   "id": "n9BHcICQflUN",
   "metadata": {
    "id": "n9BHcICQflUN"
   },
   "source": [
    "Let's verify we have the same result regardless of using hessian api or using jacfwd(jacfwd())"
   ]
  },
  {
   "cell_type": "code",
   "execution_count": null,
   "id": "eHiWRkjJflUN",
   "metadata": {
    "colab": {
     "base_uri": "https://localhost:8080/"
    },
    "id": "eHiWRkjJflUN",
    "outputId": "e457e3bc-f085-4f90-966d-f98893b98ea8"
   },
   "outputs": [
    {
     "data": {
      "text/plain": [
       "True"
      ]
     },
     "execution_count": 18,
     "metadata": {},
     "output_type": "execute_result"
    }
   ],
   "source": [
    "torch.allclose(hess_api, hess_fwdfwd)"
   ]
  },
  {
   "cell_type": "markdown",
   "id": "Gjt1RO8HflUN",
   "metadata": {
    "id": "Gjt1RO8HflUN"
   },
   "source": [
    "## Batch Jacobian and Batch Hessian\n"
   ]
  },
  {
   "cell_type": "markdown",
   "id": "RjIzdoQNflUN",
   "metadata": {
    "id": "RjIzdoQNflUN"
   },
   "source": [
    "In the above examples we’ve been operating with a single feature vector. In some cases you might want to take the Jacobian of a batch of outputs with respect to a batch of inputs. That is, given a batch of inputs of shape `(B, N)` and a function that goes from $R^N \\to R^M$, we would like a Jacobian of shape `(B, M, N)`. \n",
    "\n",
    "The easiest way to do this is to use vmap:"
   ]
  },
  {
   "cell_type": "code",
   "execution_count": null,
   "id": "B1eoEO4UflUN",
   "metadata": {
    "colab": {
     "base_uri": "https://localhost:8080/"
    },
    "id": "B1eoEO4UflUN",
    "outputId": "561eb618-e00f-40d5-bd99-fa51ab82051f"
   },
   "outputs": [
    {
     "name": "stdout",
     "output_type": "stream",
     "text": [
      "weight shape = torch.Size([33, 31])\n"
     ]
    }
   ],
   "source": [
    "batch_size = 64\n",
    "Din = 31\n",
    "Dout = 33\n",
    "\n",
    "weight = torch.randn(Dout, Din)\n",
    "print(f\"weight shape = {weight.shape}\")\n",
    "\n",
    "bias = torch.randn(Dout)\n",
    "\n",
    "x = torch.randn(batch_size, Din)"
   ]
  },
  {
   "cell_type": "code",
   "execution_count": null,
   "id": "nZ_V02NhflUN",
   "metadata": {
    "id": "nZ_V02NhflUN"
   },
   "outputs": [],
   "source": [
    "compute_batch_jacobian = vmap(jacrev(predict, argnums=2), in_dims=(None, None, 0))\n",
    "batch_jacobian0 = compute_batch_jacobian(weight, bias, x)"
   ]
  },
  {
   "cell_type": "markdown",
   "id": "_OLDiY3MflUN",
   "metadata": {
    "id": "_OLDiY3MflUN"
   },
   "source": [
    "If you have a function that goes from (B, N) -> (B, M) instead and are certain that each input produces an independent output, then it’s also sometimes possible to do this without using vmap by summing the outputs and then computing the Jacobian of that function:\n",
    "\n"
   ]
  },
  {
   "cell_type": "code",
   "execution_count": null,
   "id": "_QH4hD8PflUO",
   "metadata": {
    "id": "_QH4hD8PflUO"
   },
   "outputs": [],
   "source": [
    "def predict_with_output_summed(weight, bias, x):\n",
    "    return predict(weight, bias, x).sum(0)\n",
    "\n",
    "batch_jacobian1 = jacrev(predict_with_output_summed, argnums=2)(weight, bias, x).movedim(1, 0)\n",
    "assert torch.allclose(batch_jacobian0, batch_jacobian1)"
   ]
  },
  {
   "cell_type": "markdown",
   "id": "eUjw65cCflUO",
   "metadata": {
    "id": "eUjw65cCflUO"
   },
   "source": [
    "If you instead have a function that goes from $𝑅^𝑁 \\to 𝑅^𝑀$ but inputs that are batched, you compose vmap with jacrev to compute batched jacobians:\n",
    "\n",
    "Finally, batch hessians can be computed similarly. It’s easiest to think about them by using vmap to batch over hessian computation, but in some cases the sum trick also works.\n",
    "\n"
   ]
  },
  {
   "cell_type": "code",
   "execution_count": null,
   "id": "3vAyQjMsflUO",
   "metadata": {
    "colab": {
     "base_uri": "https://localhost:8080/"
    },
    "id": "3vAyQjMsflUO",
    "outputId": "f3135cfa-e9e5-4f18-8cb7-0655e8a37cb5"
   },
   "outputs": [
    {
     "data": {
      "text/plain": [
       "torch.Size([64, 33, 31, 31])"
      ]
     },
     "execution_count": 22,
     "metadata": {},
     "output_type": "execute_result"
    }
   ],
   "source": [
    "compute_batch_hessian = vmap(hessian(predict, argnums=2), in_dims=(None, None, 0))\n",
    "\n",
    "batch_hess = compute_batch_hessian(weight, bias, x)\n",
    "batch_hess.shape"
   ]
  },
  {
   "cell_type": "markdown",
   "id": "Wa8E48sQgpkb",
   "metadata": {
    "id": "Wa8E48sQgpkb"
   },
   "source": [
    "## Computing Hessian-vector products\n",
    "\n",
    "The naive way to compute a Hessian-vector product (hvp) is to materialize the full Hessian and perform a dot-product with a vector. We can do better: it turns out we don't need to materialize the full Hessian to do this. We'll go through two (of many) different strategies to compute Hessian-vector products:\n",
    "- composing reverse-mode AD with reverse-mode AD\n",
    "- composing reverse-mode AD with forward-mode AD\n",
    "\n",
    "Composing reverse-mode AD with forward-mode AD (as opposed to reverse-mode with reverse-mode) is generally the more memory efficient way to compute a hvp because forward-mode AD doesn't need to construct an Autograd graph and save intermediates for backward:"
   ]
  },
  {
   "cell_type": "code",
   "execution_count": null,
   "id": "trw6WbAth6BM",
   "metadata": {
    "id": "trw6WbAth6BM"
   },
   "outputs": [],
   "source": [
    "from functorch import jvp, grad, vjp\n",
    "\n",
    "def hvp(f, primals, tangents):\n",
    "  return jvp(grad(f), primals, tangents)[1]"
   ]
  },
  {
   "cell_type": "markdown",
   "id": "DQMpRo6nitfr",
   "metadata": {
    "id": "DQMpRo6nitfr"
   },
   "source": [
    "Here's some sample usage."
   ]
  },
  {
   "cell_type": "code",
   "execution_count": null,
   "id": "sPwg8SOdiVAK",
   "metadata": {
    "id": "sPwg8SOdiVAK"
   },
   "outputs": [],
   "source": [
    "def f(x):\n",
    "  return x.sin().sum()\n",
    "\n",
    "x = torch.randn(2048)\n",
    "tangent = torch.randn(2048)\n",
    "\n",
    "result = hvp(f, (x,), (tangent,))"
   ]
  },
  {
   "cell_type": "markdown",
   "id": "zGvUIcB0j1Ez",
   "metadata": {
    "id": "zGvUIcB0j1Ez"
   },
   "source": [
    "If PyTorch forward-AD does not have coverage for your operations, then we can instead compose reverse-mode AD with reverse-mode AD:"
   ]
  },
  {
   "cell_type": "code",
   "execution_count": null,
   "id": "mdDFZdlekAOK",
   "metadata": {
    "id": "mdDFZdlekAOK"
   },
   "outputs": [],
   "source": [
    "def hvp_revrev(f, primals, tangents):\n",
    "  _, vjp_fn = vjp(grad(f), *primals)\n",
    "  return vjp_fn(*tangents)"
   ]
  },
  {
   "cell_type": "code",
   "execution_count": null,
   "id": "_CuCk9X0lW7C",
   "metadata": {
    "id": "_CuCk9X0lW7C"
   },
   "outputs": [],
   "source": [
    "result_hvp_revrev = hvp_revrev(f, (x,), (tangent,))\n",
    "assert torch.allclose(result, result_hvp_revrev[0])"
   ]
  }
 ],
 "metadata": {
  "colab": {
   "name": "jacobians_hessians.ipynb",
   "provenance": []
  },
  "kernelspec": {
   "display_name": "Python 3 (ipykernel)",
   "language": "python",
   "name": "python3"
  },
  "language_info": {
   "codemirror_mode": {
    "name": "ipython",
    "version": 3
   },
   "file_extension": ".py",
   "mimetype": "text/x-python",
   "name": "python",
   "nbconvert_exporter": "python",
   "pygments_lexer": "ipython3",
   "version": "3.10.10"
  }
 },
 "nbformat": 4,
 "nbformat_minor": 5
}
