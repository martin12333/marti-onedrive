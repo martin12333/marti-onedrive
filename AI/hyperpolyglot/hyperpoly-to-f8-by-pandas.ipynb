{
 "cells": [
  {
   "cell_type": "code",
   "execution_count": null,
   "id": "f399361f",
   "metadata": {},
   "outputs": [
    {
     "name": "stderr",
     "output_type": "stream",
     "text": [
      "A subdirectory or file ../overwrite/hyperpolyglot-CSV-229/ already exists.\n"
     ]
    }
   ],
   "source": [
    "# f8\n",
    "dir -recurse 'hy*.f8.*'\n",
    "#bash\n",
    "#find . -name 'hy*.f8.*'\n",
    "#exit"
   ]
  },
  {
   "cell_type": "code",
   "execution_count": null,
   "id": "4b0abfb8",
   "metadata": {},
   "outputs": [
    {
     "name": "stderr",
     "output_type": "stream",
     "text": [
      "A subdirectory or file ../overwrite/hyperpolyglot-CSV-229/ already exists.\n"
     ]
    }
   ],
   "source": [
    "#####was from html to f8-notebooks\n",
    "\n",
    "#      now : from *csv* to f8-notebooks           !!!\n",
    "\n",
    "#####done ctrl-f  TODOcsv\n",
    "\n",
    "# tc ^s hy\n",
    "# 238 exists ??? inputdir= '../hyperpolyglot----PANDAS/'  todo tc copy paste ?\n",
    "# exist f8-notebooks--older\\hyperpolyglot.f8.editor.el\n",
    "# f8-notebooks--older\\hyperpolyglot.f8.py\n",
    "# tclsh\\hyperpolyglot.f8.tcl\n",
    "\n",
    "inputdir= '../hyperpolyglot-CSV-229/'\n",
    "outputdir= '../overwrite/foo/'+  inputdir\n",
    "####%mkdir  ${outputdir}\n",
    "%mkdir  \"../overwrite/hyperpolyglot-CSV-229/\"\n"
   ]
  },
  {
   "cell_type": "code",
   "execution_count": 1,
   "id": "ed37d0cb",
   "metadata": {},
   "outputs": [
    {
     "name": "stderr",
     "output_type": "stream",
     "text": [
      "A subdirectory or file ../overwrite/foo/../hyperpolyglot----PANDAS already exists.\n",
      "A subdirectory or file ../overwrite/foo already exists.\n"
     ]
    }
   ],
   "source": [
    "%mkdir  \"../overwrite/foo/../hyperpolyglot----PANDAS\"\n",
    "%mkdir  \"../overwrite/foo\"\n",
    "\n",
    "\n"
   ]
  },
  {
   "cell_type": "code",
   "execution_count": 2,
   "id": "92169b0f",
   "metadata": {},
   "outputs": [],
   "source": [
    "\n",
    "#str1b='text-mode-editors.html'\n",
    "#str1='../hyperpolyglot--html-backup/text-mode-editors.html'\n",
    "\n",
    "#str1='../hyperpolyglot--html-backup/lisp.html'\n",
    "\n",
    "#str1='../hyperpolyglot----PANDAS/spreadsheet-issue-1-apos-equ-plus-minus--active characters at the start of a cell.xhtml'\n",
    "\n",
    "\n",
    "## pd.read_html('C:\\\\Users\\\\marti\\\\OneDrive\\\\hyperpolyglot--html-backup\\\\Scripting Languages II_ Perl, Lua, Groovy - Hyperpolyglot.html')\n",
    "\n",
    "##pd.read_html('C:\\\\Users\\\\marti\\\\OneDrive\\\\hyperpolyglot--html-backup\\\\scripting.html')\n",
    "\n",
    "##pd.read_html('C:\\\\Users\\\\marti\\\\OneDrive\\\\hyperpolyglot--html-backup\\\\ml.html')\n"
   ]
  },
  {
   "cell_type": "code",
   "execution_count": null,
   "id": "a0790328-fb5e-413f-a48f-417f2437f649",
   "metadata": {},
   "outputs": [],
   "source": [
    "238.8 I CANNOT REMEMBER, WHICH ARE BETTER ... (A) LONG---NAMED---.HTML.csv (B) shortname.html.csv .... "
   ]
  },
  {
   "cell_type": "code",
   "execution_count": 5,
   "id": "6de5a326",
   "metadata": {},
   "outputs": [],
   "source": [
    "# emacs\n",
    "fname3b='.editor.el'\n",
    "\n",
    "commentstr='; '\n",
    "icol1=3\n",
    "\n",
    "str1b='text-mode-editors.html'\n",
    "#str1='../hyperpolyglot--html-backup/text-mode-editors.html'\n"
   ]
  },
  {
   "cell_type": "code",
   "execution_count": 4,
   "id": "185b3b37",
   "metadata": {},
   "outputs": [],
   "source": [
    "# python\n",
    "#fname3a='python'\n",
    "fname3b='.py'\n",
    "\n",
    "commentstr='# '\n",
    "icol1=2+1\n",
    "##str1='../hyperpolyglot--html-backup/Scripting Languages I_ Node.js, Python, PHP, Ruby - 2 - Hyperpolyglot.html'\n",
    "#str1='../hyperpolyglot--html-backup/Scripting Languages I_ Node.js, Python, PHP, Ruby - Hyperpolyglot.html'\n",
    "str1b='Scripting Languages I_ Node.js, Python, PHP, Ruby - Hyperpolyglot.html'\n"
   ]
  },
  {
   "cell_type": "code",
   "execution_count": 6,
   "id": "77650eee",
   "metadata": {},
   "outputs": [],
   "source": [
    "# tcl\n",
    "#fname3a='python'\n",
    "fname3b='.tcl'\n",
    "\n",
    "commentstr='# '\n",
    "icol1=2+1\n",
    "##str1='../hyperpolyglot--html-backup/Scripting Languages I_ Node.js, Python, PHP, Ruby - 2 - Hyperpolyglot.html'\n",
    "#str1='../hyperpolyglot--html-backup/Scripting Languages I_ Node.js, Python, PHP, Ruby - Hyperpolyglot.html'\n",
    "str1b='gui.html'\n"
   ]
  },
  {
   "cell_type": "code",
   "execution_count": 23,
   "id": "e7519b5e-2d9b-48c4-bf5d-9343ca848206",
   "metadata": {},
   "outputs": [],
   "source": [
    "# hs\n",
    "#fname3a='python'\n",
    "fname3b='.hs'\n",
    "\n",
    "commentstr='-- '\n",
    "icol1=4  # 4+1\n",
    "##str1='../hyperpolyglot--html-backup/Scripting Languages I_ Node.js, Python, PHP, Ruby - 2 - Hyperpolyglot.html'\n",
    "#str1='../hyperpolyglot--html-backup/Scripting Languages I_ Node.js, Python, PHP, Ruby - Hyperpolyglot.html'\n",
    "str1b='ML Dialects and Haskell_ SML, OCaml, F#, Haskell - Hyperpolyglot.html'\n"
   ]
  },
  {
   "cell_type": "code",
   "execution_count": 24,
   "id": "54222185",
   "metadata": {},
   "outputs": [
    {
     "data": {
      "text/plain": [
       "'../hyperpolyglot-CSV-229/ML Dialects and Haskell_ SML, OCaml, F#, Haskell - Hyperpolyglot.html.csv'"
      ]
     },
     "execution_count": 24,
     "metadata": {},
     "output_type": "execute_result"
    }
   ],
   "source": [
    "str1=inputdir+str1b + '.csv'\n",
    "str1"
   ]
  },
  {
   "cell_type": "code",
   "execution_count": null,
   "id": "85bcac23-69ac-4f0e-9d7c-53e59df9c7db",
   "metadata": {},
   "outputs": [],
   "source": []
  },
  {
   "cell_type": "code",
   "execution_count": null,
   "id": "4c324388-24a7-47fa-a5ad-4b9ea4472f8a",
   "metadata": {},
   "outputs": [],
   "source": []
  },
  {
   "cell_type": "code",
   "execution_count": 38,
   "id": "d562caa5",
   "metadata": {},
   "outputs": [],
   "source": [
    "## https://hyperpolyglot.org/numerical-analysis2#tables\n",
    "import pandas as pd\n",
    "import csv\n",
    "import re"
   ]
  },
  {
   "cell_type": "code",
   "execution_count": null,
   "id": "edd64fe5",
   "metadata": {},
   "outputs": [],
   "source": []
  },
  {
   "cell_type": "code",
   "execution_count": 39,
   "id": "63305050",
   "metadata": {},
   "outputs": [
    {
     "data": {
      "text/html": [
       "<div>\n",
       "<style scoped>\n",
       "    .dataframe tbody tr th:only-of-type {\n",
       "        vertical-align: middle;\n",
       "    }\n",
       "\n",
       "    .dataframe tbody tr th {\n",
       "        vertical-align: top;\n",
       "    }\n",
       "\n",
       "    .dataframe thead th {\n",
       "        text-align: right;\n",
       "    }\n",
       "</style>\n",
       "<table border=\"1\" class=\"dataframe\">\n",
       "  <thead>\n",
       "    <tr style=\"text-align: right;\">\n",
       "      <th></th>\n",
       "      <th>version</th>\n",
       "      <th>Unnamed: 1</th>\n",
       "      <th>sml</th>\n",
       "      <th>ocaml</th>\n",
       "      <th>f#</th>\n",
       "      <th>haskell</th>\n",
       "    </tr>\n",
       "  </thead>\n",
       "  <tbody>\n",
       "    <tr>\n",
       "      <th>0</th>\n",
       "      <td>version</td>\n",
       "      <td>version used</td>\n",
       "      <td>SML NJ 110</td>\n",
       "      <td>4.0</td>\n",
       "      <td>F# 3.0\\n Mono 3.2</td>\n",
       "      <td>7.4</td>\n",
       "    </tr>\n",
       "    <tr>\n",
       "      <th>1</th>\n",
       "      <td>version</td>\n",
       "      <td>show version</td>\n",
       "      <td>displayed at startup</td>\n",
       "      <td>$ ocaml -version</td>\n",
       "      <td>$ fsharpi --help</td>\n",
       "      <td>$ ghc --version</td>\n",
       "    </tr>\n",
       "    <tr>\n",
       "      <th>2</th>\n",
       "      <td>grammar and invocation</td>\n",
       "      <td>grammar and invocation</td>\n",
       "      <td>grammar and invocation</td>\n",
       "      <td>grammar and invocation</td>\n",
       "      <td>grammar and invocation</td>\n",
       "      <td>grammar and invocation</td>\n",
       "    </tr>\n",
       "    <tr>\n",
       "      <th>3</th>\n",
       "      <td>grammar and invocation</td>\n",
       "      <td></td>\n",
       "      <td>sml</td>\n",
       "      <td>ocaml</td>\n",
       "      <td>f#</td>\n",
       "      <td>haskell</td>\n",
       "    </tr>\n",
       "    <tr>\n",
       "      <th>4</th>\n",
       "      <td>grammar and invocation</td>\n",
       "      <td>interpreter</td>\n",
       "      <td></td>\n",
       "      <td>$ echo 'print_endline \"hello\"' &gt; hello.ml\\n\\n ...</td>\n",
       "      <td>$ cat &lt;&lt;EOF &gt; hello.fs\\n module hello\\n let ma...</td>\n",
       "      <td>$ echo 'main = putStrLn \"hello\"' &gt; hello.hs\\n\\...</td>\n",
       "    </tr>\n",
       "    <tr>\n",
       "      <th>...</th>\n",
       "      <td>...</td>\n",
       "      <td>...</td>\n",
       "      <td>...</td>\n",
       "      <td>...</td>\n",
       "      <td>...</td>\n",
       "      <td>...</td>\n",
       "    </tr>\n",
       "    <tr>\n",
       "      <th>283</th>\n",
       "      <td>repl</td>\n",
       "      <td>load source file</td>\n",
       "      <td>use \"hello.ml\";</td>\n",
       "      <td>#use \"hello\";;</td>\n",
       "      <td></td>\n",
       "      <td>:edit hello.hs\\n :load hello</td>\n",
       "    </tr>\n",
       "    <tr>\n",
       "      <th>284</th>\n",
       "      <td>repl</td>\n",
       "      <td>load package</td>\n",
       "      <td></td>\n",
       "      <td>consider adding to .ocamlinit:\\n #use \"topfind...</td>\n",
       "      <td></td>\n",
       "      <td></td>\n",
       "    </tr>\n",
       "    <tr>\n",
       "      <th>285</th>\n",
       "      <td>repl</td>\n",
       "      <td>search path</td>\n",
       "      <td></td>\n",
       "      <td>#directory \"libdir\";;</td>\n",
       "      <td></td>\n",
       "      <td></td>\n",
       "    </tr>\n",
       "    <tr>\n",
       "      <th>286</th>\n",
       "      <td>repl</td>\n",
       "      <td>set search path on command line</td>\n",
       "      <td></td>\n",
       "      <td>ocaml -Ilibdir</td>\n",
       "      <td></td>\n",
       "      <td></td>\n",
       "    </tr>\n",
       "    <tr>\n",
       "      <th>287</th>\n",
       "      <td>repl</td>\n",
       "      <td></td>\n",
       "      <td>_______________________________________________</td>\n",
       "      <td>_______________________________________________</td>\n",
       "      <td>_______________________________________________</td>\n",
       "      <td>_______________________________________________</td>\n",
       "    </tr>\n",
       "  </tbody>\n",
       "</table>\n",
       "<p>288 rows × 6 columns</p>\n",
       "</div>"
      ],
      "text/plain": [
       "                    version                       Unnamed: 1  \\\n",
       "0                   version                     version used   \n",
       "1                   version                     show version   \n",
       "2    grammar and invocation           grammar and invocation   \n",
       "3    grammar and invocation                                    \n",
       "4    grammar and invocation                      interpreter   \n",
       "..                      ...                              ...   \n",
       "283                    repl                 load source file   \n",
       "284                    repl                     load package   \n",
       "285                    repl                      search path   \n",
       "286                    repl  set search path on command line   \n",
       "287                    repl                                    \n",
       "\n",
       "                                                 sml  \\\n",
       "0                                         SML NJ 110   \n",
       "1                               displayed at startup   \n",
       "2                             grammar and invocation   \n",
       "3                                                sml   \n",
       "4                                                      \n",
       "..                                               ...   \n",
       "283                                  use \"hello.ml\";   \n",
       "284                                                    \n",
       "285                                                    \n",
       "286                                                    \n",
       "287  _______________________________________________   \n",
       "\n",
       "                                                 ocaml  \\\n",
       "0                                                  4.0   \n",
       "1                                     $ ocaml -version   \n",
       "2                               grammar and invocation   \n",
       "3                                                ocaml   \n",
       "4    $ echo 'print_endline \"hello\"' > hello.ml\\n\\n ...   \n",
       "..                                                 ...   \n",
       "283                                     #use \"hello\";;   \n",
       "284  consider adding to .ocamlinit:\\n #use \"topfind...   \n",
       "285                              #directory \"libdir\";;   \n",
       "286                                     ocaml -Ilibdir   \n",
       "287    _______________________________________________   \n",
       "\n",
       "                                                    f#  \\\n",
       "0                                    F# 3.0\\n Mono 3.2   \n",
       "1                                     $ fsharpi --help   \n",
       "2                               grammar and invocation   \n",
       "3                                                   f#   \n",
       "4    $ cat <<EOF > hello.fs\\n module hello\\n let ma...   \n",
       "..                                                 ...   \n",
       "283                                                      \n",
       "284                                                      \n",
       "285                                                      \n",
       "286                                                      \n",
       "287    _______________________________________________   \n",
       "\n",
       "                                               haskell  \n",
       "0                                                  7.4  \n",
       "1                                      $ ghc --version  \n",
       "2                               grammar and invocation  \n",
       "3                                              haskell  \n",
       "4    $ echo 'main = putStrLn \"hello\"' > hello.hs\\n\\...  \n",
       "..                                                 ...  \n",
       "283                       :edit hello.hs\\n :load hello  \n",
       "284                                                     \n",
       "285                                                     \n",
       "286                                                     \n",
       "287    _______________________________________________  \n",
       "\n",
       "[288 rows x 6 columns]"
      ]
     },
     "execution_count": 39,
     "metadata": {},
     "output_type": "execute_result"
    }
   ],
   "source": [
    "df=pd.read_csv( filepath_or_buffer= str1 , dtype = str ,   keep_default_na=False) \n",
    "####### not NaN float\n",
    "##dfs=pd.read_html(str1,  flavor='bs4')\n",
    "##dfs=pd.read_html(s2, skiprows=1  , flavor='bs4',  keep_default_na=False )\n",
    "#dfs=pd.read_html(s2, header=0 , flavor='bs4',  keep_default_na=False )\n",
    "##header='a b c d e'.\n",
    "#df=dfs[0]\n",
    "df"
   ]
  },
  {
   "cell_type": "code",
   "execution_count": 40,
   "id": "b536eac6",
   "metadata": {},
   "outputs": [
    {
     "data": {
      "text/plain": [
       "Index(['version', 'Unnamed: 1', 'sml', 'ocaml', 'f#', 'haskell'], dtype='object')"
      ]
     },
     "execution_count": 40,
     "metadata": {},
     "output_type": "execute_result"
    }
   ],
   "source": [
    "df.columns"
   ]
  },
  {
   "cell_type": "code",
   "execution_count": 41,
   "id": "972f2b4a",
   "metadata": {},
   "outputs": [
    {
     "data": {
      "text/html": [
       "<div>\n",
       "<style scoped>\n",
       "    .dataframe tbody tr th:only-of-type {\n",
       "        vertical-align: middle;\n",
       "    }\n",
       "\n",
       "    .dataframe tbody tr th {\n",
       "        vertical-align: top;\n",
       "    }\n",
       "\n",
       "    .dataframe thead th {\n",
       "        text-align: right;\n",
       "    }\n",
       "</style>\n",
       "<table border=\"1\" class=\"dataframe\">\n",
       "  <thead>\n",
       "    <tr style=\"text-align: right;\">\n",
       "      <th></th>\n",
       "      <th>version</th>\n",
       "      <th>Unnamed: 1</th>\n",
       "      <th>haskell</th>\n",
       "    </tr>\n",
       "  </thead>\n",
       "  <tbody>\n",
       "    <tr>\n",
       "      <th>5</th>\n",
       "      <td>grammar and invocation</td>\n",
       "      <td>shebang</td>\n",
       "      <td>$ cat &lt;&lt;EOF &gt; hello.hs\\n #!/usr/bin/env runghc...</td>\n",
       "    </tr>\n",
       "    <tr>\n",
       "      <th>6</th>\n",
       "      <td>grammar and invocation</td>\n",
       "      <td>bytecode compiler and interpreter</td>\n",
       "      <td>none</td>\n",
       "    </tr>\n",
       "    <tr>\n",
       "      <th>7</th>\n",
       "      <td>grammar and invocation</td>\n",
       "      <td>native compiler</td>\n",
       "      <td>$ echo 'main = putStrLn \"hello\"' &gt; hello.hs\\n ...</td>\n",
       "    </tr>\n",
       "    <tr>\n",
       "      <th>8</th>\n",
       "      <td>grammar and invocation</td>\n",
       "      <td>library which is always imported</td>\n",
       "      <td>Prelude</td>\n",
       "    </tr>\n",
       "    <tr>\n",
       "      <th>9</th>\n",
       "      <td>grammar and invocation</td>\n",
       "      <td>statement terminator</td>\n",
       "      <td>next line has equal or less indentation, or ;</td>\n",
       "    </tr>\n",
       "    <tr>\n",
       "      <th>10</th>\n",
       "      <td>grammar and invocation</td>\n",
       "      <td>blocks</td>\n",
       "      <td>offside rule or { }</td>\n",
       "    </tr>\n",
       "    <tr>\n",
       "      <th>11</th>\n",
       "      <td>grammar and invocation</td>\n",
       "      <td>end-of-line comment</td>\n",
       "      <td>-- comment</td>\n",
       "    </tr>\n",
       "    <tr>\n",
       "      <th>12</th>\n",
       "      <td>grammar and invocation</td>\n",
       "      <td>multiple line comment</td>\n",
       "      <td>{- comment\\n another comment -}</td>\n",
       "    </tr>\n",
       "    <tr>\n",
       "      <th>13</th>\n",
       "      <td>variables and expressions</td>\n",
       "      <td>variables and expressions</td>\n",
       "      <td>variables and expressions</td>\n",
       "    </tr>\n",
       "    <tr>\n",
       "      <th>14</th>\n",
       "      <td>variables and expressions</td>\n",
       "      <td></td>\n",
       "      <td>haskell</td>\n",
       "    </tr>\n",
       "  </tbody>\n",
       "</table>\n",
       "</div>"
      ],
      "text/plain": [
       "                      version                         Unnamed: 1  \\\n",
       "5      grammar and invocation                            shebang   \n",
       "6      grammar and invocation  bytecode compiler and interpreter   \n",
       "7      grammar and invocation                    native compiler   \n",
       "8      grammar and invocation   library which is always imported   \n",
       "9      grammar and invocation               statement terminator   \n",
       "10     grammar and invocation                             blocks   \n",
       "11     grammar and invocation                end-of-line comment   \n",
       "12     grammar and invocation              multiple line comment   \n",
       "13  variables and expressions          variables and expressions   \n",
       "14  variables and expressions                                      \n",
       "\n",
       "                                              haskell  \n",
       "5   $ cat <<EOF > hello.hs\\n #!/usr/bin/env runghc...  \n",
       "6                                                none  \n",
       "7   $ echo 'main = putStrLn \"hello\"' > hello.hs\\n ...  \n",
       "8                                             Prelude  \n",
       "9       next line has equal or less indentation, or ;  \n",
       "10                                offside rule or { }  \n",
       "11                                         -- comment  \n",
       "12                    {- comment\\n another comment -}  \n",
       "13                          variables and expressions  \n",
       "14                                            haskell  "
      ]
     },
     "execution_count": 41,
     "metadata": {},
     "output_type": "execute_result"
    }
   ],
   "source": [
    "df.iloc[5:15,[0,1,icol1+1] ]\n",
    "###df.iloc[5:15,[0,1,icol1] ]  # ???"
   ]
  },
  {
   "cell_type": "code",
   "execution_count": 42,
   "id": "6e9027ee",
   "metadata": {},
   "outputs": [],
   "source": [
    "df2=df.copy()\n",
    "dfsheet=df2.copy() #df5.copy() \n",
    "\n",
    "dfsheet9=dfsheet.copy()\n"
   ]
  },
  {
   "cell_type": "code",
   "execution_count": 43,
   "id": "3bc08e3a",
   "metadata": {},
   "outputs": [
    {
     "name": "stdout",
     "output_type": "stream",
     "text": [
      "../overwrite/hyperpolyglot.f8.hs\n"
     ]
    }
   ],
   "source": [
    "##fname2= '../overwrite/foo/'+     str1+'--martin12333'+'.csv'\n",
    "#fname2= '../overwrite/foo/'+     str1+'.csv'\n",
    "fname3= '../overwrite/hyperpolyglot.f8'+ fname3b\n",
    "\n",
    "#fnamexlsx= '../overwrite/foo/'+     str1+'.xlsx'\n",
    "print(fname3)"
   ]
  },
  {
   "cell_type": "code",
   "execution_count": 44,
   "id": "fb1597f1",
   "metadata": {},
   "outputs": [],
   "source": [
    "def f6(row):\n",
    "    #print(row.iat[1])\n",
    "    return (\n",
    "        #commentstr +   row.iat[0].strip()+'\\n'+\n",
    "        commentstr +  row.iat[1]+'\\n'+\n",
    "        row.iat[1+icol1]+'\\n'\n",
    "    )\n",
    "    "
   ]
  },
  {
   "cell_type": "code",
   "execution_count": 45,
   "id": "703db239",
   "metadata": {},
   "outputs": [
    {
     "data": {
      "text/plain": [
       "'-- version used\\n7.4\\n\\n-- show version\\n$ ghc --version\\n\\n-- grammar and invocation\\ngrammar and invocation\\n\\n-- \\nhaskell\\n\\n-- interpreter\\n$ echo \\'main = putStrLn \"hello\"\\' > hello.hs\\n\\n $ runghc hello.hs\\n\\n-- '"
      ]
     },
     "execution_count": 45,
     "metadata": {},
     "output_type": "execute_result"
    }
   ],
   "source": [
    "str9 = '\\n'.join( dfsheet9.apply(f6,axis=1) )\n",
    "str9[:200]"
   ]
  },
  {
   "cell_type": "code",
   "execution_count": 47,
   "id": "b5c7535a-4213-41c6-a956-2b1514ec05e2",
   "metadata": {},
   "outputs": [],
   "source": [
    "str91=re.sub(r'\\n\\n\\n+','\\n\\n', str9)"
   ]
  },
  {
   "cell_type": "code",
   "execution_count": 51,
   "id": "47347fc5",
   "metadata": {},
   "outputs": [
    {
     "name": "stdout",
     "output_type": "stream",
     "text": [
      "../overwrite/hyperpolyglot.f8.hs\n"
     ]
    }
   ],
   "source": [
    "with open(fname3, mode='w' ,encoding='utf-8'  ) as fw:\n",
    "    fw.write(str91)\n",
    "print(fname3)    "
   ]
  },
  {
   "cell_type": "code",
   "execution_count": 50,
   "id": "5b8d7bee-4548-48db-bedc-721b93750024",
   "metadata": {},
   "outputs": [
    {
     "data": {
      "text/plain": [
       "14871"
      ]
     },
     "execution_count": 50,
     "metadata": {},
     "output_type": "execute_result"
    }
   ],
   "source": [
    "str9.__len__()\n",
    "str91.__len__()"
   ]
  },
  {
   "cell_type": "code",
   "execution_count": null,
   "id": "8ea423e1-617e-4275-b6b7-03e785636249",
   "metadata": {},
   "outputs": [],
   "source": []
  },
  {
   "cell_type": "code",
   "execution_count": null,
   "id": "c5bc4baa-2bed-4f03-930a-a6d9b27aa7a3",
   "metadata": {},
   "outputs": [],
   "source": []
  },
  {
   "cell_type": "code",
   "execution_count": 34,
   "id": "9b12b996",
   "metadata": {},
   "outputs": [],
   "source": [
    "#len('\\r\\n'.strip())"
   ]
  },
  {
   "cell_type": "code",
   "execution_count": 35,
   "id": "b4de8489",
   "metadata": {},
   "outputs": [],
   "source": [
    "#dff8=dfsheet9.iloc[:,[0,1,icol1+1] ]\n",
    "##dff8=dfsheet9.iloc[:,[0,icol1+1] ]\n"
   ]
  },
  {
   "cell_type": "code",
   "execution_count": 36,
   "id": "e799c135",
   "metadata": {},
   "outputs": [],
   "source": [
    "#dff8.to_csv(fname3, \n",
    "#     header=False, index=False, sep='\\n', #quoting=csv.QUOTE_NONE,\n",
    " #   quoting=csv.QUOTE_ALL, quotechar=' ', escapechar='', line_terminator='\\n\\n')"
   ]
  },
  {
   "cell_type": "code",
   "execution_count": null,
   "id": "f2e4f53c",
   "metadata": {},
   "outputs": [],
   "source": []
  },
  {
   "cell_type": "code",
   "execution_count": 37,
   "id": "ca1bd1f5",
   "metadata": {},
   "outputs": [
    {
     "ename": "NameError",
     "evalue": "name 'fname2' is not defined",
     "output_type": "error",
     "traceback": [
      "\u001b[1;31m---------------------------------------------------------------------------\u001b[0m",
      "\u001b[1;31mNameError\u001b[0m                                 Traceback (most recent call last)",
      "Cell \u001b[1;32mIn[37], line 1\u001b[0m\n\u001b[1;32m----> 1\u001b[0m dfsheet9\u001b[38;5;241m.\u001b[39mto_csv(path_or_buf\u001b[38;5;241m=\u001b[39m\u001b[43mfname2\u001b[49m, header\u001b[38;5;241m=\u001b[39m\u001b[38;5;28;01mFalse\u001b[39;00m, index\u001b[38;5;241m=\u001b[39m\u001b[38;5;28;01mFalse\u001b[39;00m)\n",
      "\u001b[1;31mNameError\u001b[0m: name 'fname2' is not defined"
     ]
    }
   ],
   "source": [
    "\n",
    "\n",
    "#dfsheet9.to_csv(path_or_buf=fname2, header=False, index=False)"
   ]
  },
  {
   "cell_type": "code",
   "execution_count": null,
   "id": "6b410bde",
   "metadata": {},
   "outputs": [],
   "source": []
  },
  {
   "cell_type": "code",
   "execution_count": 62,
   "id": "8c29665a",
   "metadata": {},
   "outputs": [
    {
     "data": {
      "text/html": [
       "<div>\n",
       "<style scoped>\n",
       "    .dataframe tbody tr th:only-of-type {\n",
       "        vertical-align: middle;\n",
       "    }\n",
       "\n",
       "    .dataframe tbody tr th {\n",
       "        vertical-align: top;\n",
       "    }\n",
       "\n",
       "    .dataframe thead th {\n",
       "        text-align: right;\n",
       "    }\n",
       "</style>\n",
       "<table border=\"1\" class=\"dataframe\">\n",
       "  <thead>\n",
       "    <tr style=\"text-align: right;\">\n",
       "      <th></th>\n",
       "      <th>startup</th>\n",
       "      <th>startup.1</th>\n",
       "      <th>startup.2</th>\n",
       "      <th>startup.3</th>\n",
       "      <th>startup.4</th>\n",
       "    </tr>\n",
       "  </thead>\n",
       "  <tbody>\n",
       "    <tr>\n",
       "      <th>0</th>\n",
       "      <td></td>\n",
       "      <td>vim</td>\n",
       "      <td>emacs</td>\n",
       "      <td>emacs</td>\n",
       "      <td>nano</td>\n",
       "    </tr>\n",
       "    <tr>\n",
       "      <th>1</th>\n",
       "      <td>launch</td>\n",
       "      <td>$ vim</td>\n",
       "      <td>$ emacs</td>\n",
       "      <td>$ emacs</td>\n",
       "      <td>$ nano</td>\n",
       "    </tr>\n",
       "    <tr>\n",
       "      <th>2</th>\n",
       "      <td>open file</td>\n",
       "      <td>$ vim file</td>\n",
       "      <td>$ emacs file</td>\n",
       "      <td>$ emacs file</td>\n",
       "      <td>$ nano file</td>\n",
       "    </tr>\n",
       "    <tr>\n",
       "      <th>3</th>\n",
       "      <td>open file on line 100</td>\n",
       "      <td>$ vim +100 file</td>\n",
       "      <td>$ emacs +100 file</td>\n",
       "      <td>$ emacs +100 file</td>\n",
       "      <td>$ nano +100 file</td>\n",
       "    </tr>\n",
       "    <tr>\n",
       "      <th>4</th>\n",
       "      <td>open file on column 20 of line 100</td>\n",
       "      <td>$ vim +100 -c 'normal 20|' file</td>\n",
       "      <td>$ emacs +100:20 file</td>\n",
       "      <td>$ emacs +100:20 file</td>\n",
       "      <td>$ nano +100,20 file</td>\n",
       "    </tr>\n",
       "    <tr>\n",
       "      <th>5</th>\n",
       "      <td>open file in read-only mode</td>\n",
       "      <td>$ vim -R file</td>\n",
       "      <td></td>\n",
       "      <td></td>\n",
       "      <td>$ nano -v file</td>\n",
       "    </tr>\n",
       "    <tr>\n",
       "      <th>6</th>\n",
       "      <td>open multiple files</td>\n",
       "      <td>$ vim file1 file2 \\n... \\n only first file is ...</td>\n",
       "      <td>$ emacs file1 file2 \\n... \\n window is split i...</td>\n",
       "      <td>$ nano file1 file2 \\n... \\n //only first file ...</td>\n",
       "      <td></td>\n",
       "    </tr>\n",
       "    <tr>\n",
       "      <th>7</th>\n",
       "      <td>open directory</td>\n",
       "      <td>$ vim dir</td>\n",
       "      <td>$ emacs dir</td>\n",
       "      <td>$ emacs dir</td>\n",
       "      <td></td>\n",
       "    </tr>\n",
       "    <tr>\n",
       "      <th>8</th>\n",
       "      <td>startup file</td>\n",
       "      <td>~/.vimrc</td>\n",
       "      <td>~/.emacs\\n ~/.emacs.el\\n ~/.emacs.d/init.el</td>\n",
       "      <td>~/.nanorc</td>\n",
       "      <td></td>\n",
       "    </tr>\n",
       "    <tr>\n",
       "      <th>9</th>\n",
       "      <td>skip startup file</td>\n",
       "      <td>$ vim -u NONE</td>\n",
       "      <td>$ emacs -q</td>\n",
       "      <td>$ emacs -q</td>\n",
       "      <td>$ nano -I</td>\n",
       "    </tr>\n",
       "    <tr>\n",
       "      <th>10</th>\n",
       "      <td>text editing</td>\n",
       "      <td>text editing</td>\n",
       "      <td>text editing</td>\n",
       "      <td>text editing</td>\n",
       "      <td>text editing</td>\n",
       "    </tr>\n",
       "    <tr>\n",
       "      <th>11</th>\n",
       "      <td></td>\n",
       "      <td>vim</td>\n",
       "      <td>emacs</td>\n",
       "      <td>emacs</td>\n",
       "      <td>nano</td>\n",
       "    </tr>\n",
       "    <tr>\n",
       "      <th>12</th>\n",
       "      <td>show version</td>\n",
       "      <td>:version</td>\n",
       "      <td></td>\n",
       "      <td>M-x emacs-version</td>\n",
       "      <td></td>\n",
       "    </tr>\n",
       "    <tr>\n",
       "      <th>13</th>\n",
       "      <td>redraw display</td>\n",
       "      <td>C-l</td>\n",
       "      <td></td>\n",
       "      <td>M-x redraw-display</td>\n",
       "      <td></td>\n",
       "    </tr>\n",
       "    <tr>\n",
       "      <th>14</th>\n",
       "      <td>insert 'x'</td>\n",
       "      <td>insert mode:\\n x</td>\n",
       "      <td>x</td>\n",
       "      <td></td>\n",
       "      <td>x</td>\n",
       "    </tr>\n",
       "    <tr>\n",
       "      <th>15</th>\n",
       "      <td>insert by unicode point</td>\n",
       "      <td>insert mode:\\n C-v u 03c0</td>\n",
       "      <td>C-x 8 RET 03c0 RET</td>\n",
       "      <td>M-x ucs-insert 03c0 RET</td>\n",
       "      <td></td>\n",
       "    </tr>\n",
       "    <tr>\n",
       "      <th>16</th>\n",
       "      <td>insert by unicode name</td>\n",
       "      <td></td>\n",
       "      <td>C-x 8 RET greek small letter pi RET</td>\n",
       "      <td>M-x ucs-insert greek small letter pi RET</td>\n",
       "      <td></td>\n",
       "    </tr>\n",
       "    <tr>\n",
       "      <th>17</th>\n",
       "      <td>get unicode point</td>\n",
       "      <td></td>\n",
       "      <td></td>\n",
       "      <td>M-x describe-char</td>\n",
       "      <td></td>\n",
       "    </tr>\n",
       "    <tr>\n",
       "      <th>18</th>\n",
       "      <td>cancel</td>\n",
       "      <td>ESC</td>\n",
       "      <td>C-g</td>\n",
       "      <td>M-x keyboard-quit</td>\n",
       "      <td></td>\n",
       "    </tr>\n",
       "    <tr>\n",
       "      <th>19</th>\n",
       "      <td>insert control character</td>\n",
       "      <td>C-v char</td>\n",
       "      <td>C-q char</td>\n",
       "      <td>M-x quoted-insert char</td>\n",
       "      <td>M-v</td>\n",
       "    </tr>\n",
       "    <tr>\n",
       "      <th>20</th>\n",
       "      <td>insert newline</td>\n",
       "      <td>C-v RET</td>\n",
       "      <td>C-q C-j</td>\n",
       "      <td></td>\n",
       "      <td></td>\n",
       "    </tr>\n",
       "    <tr>\n",
       "      <th>21</th>\n",
       "      <td>auto complete</td>\n",
       "      <td>C-n\\n C-p</td>\n",
       "      <td>M-/</td>\n",
       "      <td>M-x hippie-expand</td>\n",
       "      <td></td>\n",
       "    </tr>\n",
       "    <tr>\n",
       "      <th>22</th>\n",
       "      <td>repeat next command n times</td>\n",
       "      <td>n</td>\n",
       "      <td>C-u n</td>\n",
       "      <td>M-x universal-argument n</td>\n",
       "      <td></td>\n",
       "    </tr>\n",
       "    <tr>\n",
       "      <th>23</th>\n",
       "      <td>repeat 4 times</td>\n",
       "      <td>4</td>\n",
       "      <td>C-u</td>\n",
       "      <td>M-x universal-argument</td>\n",
       "      <td></td>\n",
       "    </tr>\n",
       "    <tr>\n",
       "      <th>24</th>\n",
       "      <td>repeat 16 times</td>\n",
       "      <td>16</td>\n",
       "      <td>C-u C-u</td>\n",
       "      <td></td>\n",
       "      <td></td>\n",
       "    </tr>\n",
       "    <tr>\n",
       "      <th>25</th>\n",
       "      <td>font size</td>\n",
       "      <td>use menu or OS</td>\n",
       "      <td>C-x C-=, C-x C--</td>\n",
       "      <td>M-x text-scale-adjust</td>\n",
       "      <td></td>\n",
       "    </tr>\n",
       "    <tr>\n",
       "      <th>26</th>\n",
       "      <td>exit</td>\n",
       "      <td>:q</td>\n",
       "      <td>C-x C-c</td>\n",
       "      <td>M-x save-buffers-kill-terminal</td>\n",
       "      <td>C-x</td>\n",
       "    </tr>\n",
       "    <tr>\n",
       "      <th>27</th>\n",
       "      <td>save changes and exit</td>\n",
       "      <td>ZZ\\n :wq</td>\n",
       "      <td>C-x C-s C-x C-c</td>\n",
       "      <td>M-x save-buffer\\n M-x save-buffers-kill-terminal</td>\n",
       "      <td></td>\n",
       "    </tr>\n",
       "    <tr>\n",
       "      <th>28</th>\n",
       "      <td>discard changes and exit</td>\n",
       "      <td>:q!</td>\n",
       "      <td></td>\n",
       "      <td>M-x kill-emacs</td>\n",
       "      <td></td>\n",
       "    </tr>\n",
       "    <tr>\n",
       "      <th>29</th>\n",
       "      <td>mode</td>\n",
       "      <td>mode</td>\n",
       "      <td>mode</td>\n",
       "      <td>mode</td>\n",
       "      <td>mode</td>\n",
       "    </tr>\n",
       "    <tr>\n",
       "      <th>30</th>\n",
       "      <td></td>\n",
       "      <td>vim</td>\n",
       "      <td>emacs</td>\n",
       "      <td>emacs</td>\n",
       "      <td>nano</td>\n",
       "    </tr>\n",
       "    <tr>\n",
       "      <th>31</th>\n",
       "      <td>change mode</td>\n",
       "      <td>normal to insert:\\n a, i, o, O\\n \\n back to no...</td>\n",
       "      <td></td>\n",
       "      <td>M-x mode-name</td>\n",
       "      <td></td>\n",
       "    </tr>\n",
       "    <tr>\n",
       "      <th>32</th>\n",
       "      <td>show mode</td>\n",
       "      <td>insert, visual, select, and replace indicated ...</td>\n",
       "      <td>displayed on mode line</td>\n",
       "      <td>M-: major-mode</td>\n",
       "      <td></td>\n",
       "    </tr>\n",
       "    <tr>\n",
       "      <th>33</th>\n",
       "      <td>mode documentation</td>\n",
       "      <td></td>\n",
       "      <td>C-h m</td>\n",
       "      <td>M-x describe-mode</td>\n",
       "      <td></td>\n",
       "    </tr>\n",
       "    <tr>\n",
       "      <th>34</th>\n",
       "      <td>set key binding</td>\n",
       "      <td>:map key cmd</td>\n",
       "      <td></td>\n",
       "      <td>M-x global-set-key RET key cmd</td>\n",
       "      <td></td>\n",
       "    </tr>\n",
       "  </tbody>\n",
       "</table>\n",
       "</div>"
      ],
      "text/plain": [
       "                               startup  \\\n",
       "0                                        \n",
       "1                               launch   \n",
       "2                            open file   \n",
       "3                open file on line 100   \n",
       "4   open file on column 20 of line 100   \n",
       "5          open file in read-only mode   \n",
       "6                  open multiple files   \n",
       "7                       open directory   \n",
       "8                         startup file   \n",
       "9                    skip startup file   \n",
       "10                        text editing   \n",
       "11                                       \n",
       "12                        show version   \n",
       "13                      redraw display   \n",
       "14                          insert 'x'   \n",
       "15             insert by unicode point   \n",
       "16              insert by unicode name   \n",
       "17                   get unicode point   \n",
       "18                              cancel   \n",
       "19            insert control character   \n",
       "20                      insert newline   \n",
       "21                       auto complete   \n",
       "22         repeat next command n times   \n",
       "23                      repeat 4 times   \n",
       "24                     repeat 16 times   \n",
       "25                           font size   \n",
       "26                                exit   \n",
       "27               save changes and exit   \n",
       "28            discard changes and exit   \n",
       "29                                mode   \n",
       "30                                       \n",
       "31                         change mode   \n",
       "32                           show mode   \n",
       "33                  mode documentation   \n",
       "34                     set key binding   \n",
       "\n",
       "                                            startup.1  \\\n",
       "0                                                 vim   \n",
       "1                                               $ vim   \n",
       "2                                          $ vim file   \n",
       "3                                     $ vim +100 file   \n",
       "4                     $ vim +100 -c 'normal 20|' file   \n",
       "5                                       $ vim -R file   \n",
       "6   $ vim file1 file2 \\n... \\n only first file is ...   \n",
       "7                                           $ vim dir   \n",
       "8                                            ~/.vimrc   \n",
       "9                                       $ vim -u NONE   \n",
       "10                                       text editing   \n",
       "11                                                vim   \n",
       "12                                           :version   \n",
       "13                                                C-l   \n",
       "14                                   insert mode:\\n x   \n",
       "15                          insert mode:\\n C-v u 03c0   \n",
       "16                                                      \n",
       "17                                                      \n",
       "18                                                ESC   \n",
       "19                                           C-v char   \n",
       "20                                            C-v RET   \n",
       "21                                          C-n\\n C-p   \n",
       "22                                                  n   \n",
       "23                                                  4   \n",
       "24                                                 16   \n",
       "25                                     use menu or OS   \n",
       "26                                                 :q   \n",
       "27                                           ZZ\\n :wq   \n",
       "28                                                :q!   \n",
       "29                                               mode   \n",
       "30                                                vim   \n",
       "31  normal to insert:\\n a, i, o, O\\n \\n back to no...   \n",
       "32  insert, visual, select, and replace indicated ...   \n",
       "33                                                      \n",
       "34                                       :map key cmd   \n",
       "\n",
       "                                            startup.2  \\\n",
       "0                                               emacs   \n",
       "1                                             $ emacs   \n",
       "2                                        $ emacs file   \n",
       "3                                   $ emacs +100 file   \n",
       "4                                $ emacs +100:20 file   \n",
       "5                                                       \n",
       "6   $ emacs file1 file2 \\n... \\n window is split i...   \n",
       "7                                         $ emacs dir   \n",
       "8         ~/.emacs\\n ~/.emacs.el\\n ~/.emacs.d/init.el   \n",
       "9                                          $ emacs -q   \n",
       "10                                       text editing   \n",
       "11                                              emacs   \n",
       "12                                                      \n",
       "13                                                      \n",
       "14                                                  x   \n",
       "15                                 C-x 8 RET 03c0 RET   \n",
       "16                C-x 8 RET greek small letter pi RET   \n",
       "17                                                      \n",
       "18                                                C-g   \n",
       "19                                           C-q char   \n",
       "20                                            C-q C-j   \n",
       "21                                                M-/   \n",
       "22                                              C-u n   \n",
       "23                                                C-u   \n",
       "24                                            C-u C-u   \n",
       "25                                   C-x C-=, C-x C--   \n",
       "26                                            C-x C-c   \n",
       "27                                    C-x C-s C-x C-c   \n",
       "28                                                      \n",
       "29                                               mode   \n",
       "30                                              emacs   \n",
       "31                                                      \n",
       "32                             displayed on mode line   \n",
       "33                                              C-h m   \n",
       "34                                                      \n",
       "\n",
       "                                            startup.3            startup.4  \n",
       "0                                               emacs                 nano  \n",
       "1                                             $ emacs               $ nano  \n",
       "2                                        $ emacs file          $ nano file  \n",
       "3                                   $ emacs +100 file     $ nano +100 file  \n",
       "4                                $ emacs +100:20 file  $ nano +100,20 file  \n",
       "5                                                           $ nano -v file  \n",
       "6   $ nano file1 file2 \\n... \\n //only first file ...                       \n",
       "7                                         $ emacs dir                       \n",
       "8                                           ~/.nanorc                       \n",
       "9                                          $ emacs -q            $ nano -I  \n",
       "10                                       text editing         text editing  \n",
       "11                                              emacs                 nano  \n",
       "12                                  M-x emacs-version                       \n",
       "13                                 M-x redraw-display                       \n",
       "14                                                                       x  \n",
       "15                            M-x ucs-insert 03c0 RET                       \n",
       "16           M-x ucs-insert greek small letter pi RET                       \n",
       "17                                  M-x describe-char                       \n",
       "18                                  M-x keyboard-quit                       \n",
       "19                             M-x quoted-insert char                  M-v  \n",
       "20                                                                          \n",
       "21                                  M-x hippie-expand                       \n",
       "22                           M-x universal-argument n                       \n",
       "23                             M-x universal-argument                       \n",
       "24                                                                          \n",
       "25                              M-x text-scale-adjust                       \n",
       "26                     M-x save-buffers-kill-terminal                  C-x  \n",
       "27   M-x save-buffer\\n M-x save-buffers-kill-terminal                       \n",
       "28                                     M-x kill-emacs                       \n",
       "29                                               mode                 mode  \n",
       "30                                              emacs                 nano  \n",
       "31                                      M-x mode-name                       \n",
       "32                                     M-: major-mode                       \n",
       "33                                  M-x describe-mode                       \n",
       "34                     M-x global-set-key RET key cmd                       "
      ]
     },
     "execution_count": 62,
     "metadata": {},
     "output_type": "execute_result"
    }
   ],
   "source": [
    "dfsheet9[:35] #df[:40]"
   ]
  },
  {
   "cell_type": "code",
   "execution_count": 73,
   "id": "074e5e15",
   "metadata": {},
   "outputs": [
    {
     "data": {
      "text/plain": [
       "0                           \n",
       "1           version used....\n",
       "2           show version....\n",
       "3      implicit prologue....\n",
       "4      grammar and execution\n",
       "               ...          \n",
       "228         start thread....\n",
       "229       wait on thread....\n",
       "230                    sleep\n",
       "231                  timeout\n",
       "232                         \n",
       "Name: version, Length: 233, dtype: object"
      ]
     },
     "execution_count": 73,
     "metadata": {},
     "output_type": "execute_result"
    }
   ],
   "source": [
    "df['version']"
   ]
  },
  {
   "cell_type": "code",
   "execution_count": null,
   "id": "1e8c0dd2",
   "metadata": {},
   "outputs": [],
   "source": []
  },
  {
   "cell_type": "code",
   "execution_count": 30,
   "id": "7c453c3d",
   "metadata": {},
   "outputs": [
    {
     "data": {
      "text/html": [
       "<div>\n",
       "<style scoped>\n",
       "    .dataframe tbody tr th:only-of-type {\n",
       "        vertical-align: middle;\n",
       "    }\n",
       "\n",
       "    .dataframe tbody tr th {\n",
       "        vertical-align: top;\n",
       "    }\n",
       "\n",
       "    .dataframe thead th {\n",
       "        text-align: right;\n",
       "    }\n",
       "</style>\n",
       "<table border=\"1\" class=\"dataframe\">\n",
       "  <thead>\n",
       "    <tr style=\"text-align: right;\">\n",
       "      <th></th>\n",
       "      <th>version</th>\n",
       "      <th>version.1</th>\n",
       "      <th>version.2</th>\n",
       "      <th>version.3</th>\n",
       "      <th>version.4</th>\n",
       "    </tr>\n",
       "  </thead>\n",
       "  <tbody>\n",
       "    <tr>\n",
       "      <th>count</th>\n",
       "      <td>233</td>\n",
       "      <td>233</td>\n",
       "      <td>233</td>\n",
       "      <td>233</td>\n",
       "      <td>233</td>\n",
       "    </tr>\n",
       "    <tr>\n",
       "      <th>unique</th>\n",
       "      <td>217</td>\n",
       "      <td>195</td>\n",
       "      <td>211</td>\n",
       "      <td>199</td>\n",
       "      <td>216</td>\n",
       "    </tr>\n",
       "    <tr>\n",
       "      <th>top</th>\n",
       "      <td></td>\n",
       "      <td>none</td>\n",
       "      <td>python</td>\n",
       "      <td>php</td>\n",
       "      <td>ruby</td>\n",
       "    </tr>\n",
       "    <tr>\n",
       "      <th>freq</th>\n",
       "      <td>14</td>\n",
       "      <td>22</td>\n",
       "      <td>13</td>\n",
       "      <td>13</td>\n",
       "      <td>13</td>\n",
       "    </tr>\n",
       "  </tbody>\n",
       "</table>\n",
       "</div>"
      ],
      "text/plain": [
       "       version version.1 version.2 version.3 version.4\n",
       "count      233       233       233       233       233\n",
       "unique     217       195       211       199       216\n",
       "top                 none    python       php      ruby\n",
       "freq        14        22        13        13        13"
      ]
     },
     "execution_count": 30,
     "metadata": {},
     "output_type": "execute_result"
    }
   ],
   "source": [
    "df.describe()"
   ]
  },
  {
   "cell_type": "code",
   "execution_count": 31,
   "id": "b2ff7ab0",
   "metadata": {},
   "outputs": [
    {
     "name": "stdout",
     "output_type": "stream",
     "text": [
      "<class 'pandas.core.frame.DataFrame'>\n",
      "RangeIndex: 233 entries, 0 to 232\n",
      "Data columns (total 5 columns):\n",
      " #   Column     Non-Null Count  Dtype \n",
      "---  ------     --------------  ----- \n",
      " 0   version    233 non-null    object\n",
      " 1   version.1  233 non-null    object\n",
      " 2   version.2  233 non-null    object\n",
      " 3   version.3  233 non-null    object\n",
      " 4   version.4  233 non-null    object\n",
      "dtypes: object(5)\n",
      "memory usage: 9.2+ KB\n"
     ]
    }
   ],
   "source": [
    "df.info()"
   ]
  },
  {
   "cell_type": "code",
   "execution_count": null,
   "id": "1c387229",
   "metadata": {},
   "outputs": [],
   "source": []
  },
  {
   "cell_type": "code",
   "execution_count": null,
   "id": "226eef32",
   "metadata": {},
   "outputs": [],
   "source": []
  },
  {
   "cell_type": "code",
   "execution_count": null,
   "id": "d8db58ef",
   "metadata": {},
   "outputs": [],
   "source": [
    "id(8)"
   ]
  },
  {
   "cell_type": "code",
   "execution_count": null,
   "id": "609d38cc",
   "metadata": {},
   "outputs": [],
   "source": []
  },
  {
   "cell_type": "code",
   "execution_count": 3,
   "id": "worst-communication",
   "metadata": {},
   "outputs": [
    {
     "data": {
      "text/plain": [
       "{'__name__': '__main__',\n",
       " '__doc__': 'Automatically created module for IPython interactive environment',\n",
       " '__package__': None,\n",
       " '__loader__': None,\n",
       " '__spec__': None,\n",
       " '__builtin__': <module 'builtins' (built-in)>,\n",
       " '__builtins__': <module 'builtins' (built-in)>,\n",
       " '_ih': ['',\n",
       "  'import pandas as pd\\nimport numpy as np',\n",
       "  'globals()',\n",
       "  'globals()'],\n",
       " '_oh': {2: {...}},\n",
       " '_dh': [WindowsPath('c:/Users/marti/OneDrive/jupyter-notebooks')],\n",
       " 'In': ['',\n",
       "  'import pandas as pd\\nimport numpy as np',\n",
       "  'globals()',\n",
       "  'globals()'],\n",
       " 'Out': {2: {...}},\n",
       " 'get_ipython': <bound method InteractiveShell.get_ipython of <ipykernel.zmqshell.ZMQInteractiveShell object at 0x000001DC707843D0>>,\n",
       " 'exit': <IPython.core.autocall.ZMQExitAutocall at 0x1dc70784a30>,\n",
       " 'quit': <IPython.core.autocall.ZMQExitAutocall at 0x1dc70784a30>,\n",
       " '_': {...},\n",
       " '__': '',\n",
       " '___': '',\n",
       " 'os': <module 'os' from 'd:\\\\conda\\\\lib\\\\os.py'>,\n",
       " 'sys': <module 'sys' (built-in)>,\n",
       " '__vsc_ipynb_file__': 'c:\\\\Users\\\\marti\\\\OneDrive\\\\jupyter-notebooks\\\\pandas-1.ipynb',\n",
       " '_i': 'globals()',\n",
       " '_ii': 'import pandas as pd\\nimport numpy as np',\n",
       " '_iii': '',\n",
       " '_i1': 'import pandas as pd\\nimport numpy as np',\n",
       " 'pd': <module 'pandas' from 'd:\\\\conda\\\\lib\\\\site-packages\\\\pandas\\\\__init__.py'>,\n",
       " 'np': <module 'numpy' from 'd:\\\\conda\\\\lib\\\\site-packages\\\\numpy\\\\__init__.py'>,\n",
       " '_i2': 'globals()',\n",
       " '_2': {...},\n",
       " '_i3': 'globals()'}"
      ]
     },
     "execution_count": 3,
     "metadata": {},
     "output_type": "execute_result"
    }
   ],
   "source": [
    "globals()"
   ]
  },
  {
   "cell_type": "code",
   "execution_count": 4,
   "id": "intense-cargo",
   "metadata": {},
   "outputs": [
    {
     "data": {
      "text/plain": [
       "['',\n",
       " 'import pandas as pd\\nimport numpy as np',\n",
       " 'globals()',\n",
       " 'globals()',\n",
       " '_ih']"
      ]
     },
     "execution_count": 4,
     "metadata": {},
     "output_type": "execute_result"
    }
   ],
   "source": [
    "_ih"
   ]
  },
  {
   "cell_type": "code",
   "execution_count": null,
   "id": "express-edmonton",
   "metadata": {},
   "outputs": [],
   "source": []
  },
  {
   "cell_type": "code",
   "execution_count": 5,
   "id": "surprised-confidentiality",
   "metadata": {},
   "outputs": [
    {
     "data": {
      "text/plain": [
       "0          BooleanDtype\n",
       "1           Categorical\n",
       "2      CategoricalDtype\n",
       "3      CategoricalIndex\n",
       "4             DataFrame\n",
       "             ...       \n",
       "136             tseries\n",
       "137              unique\n",
       "138                util\n",
       "139        value_counts\n",
       "140        wide_to_long\n",
       "Length: 141, dtype: object"
      ]
     },
     "execution_count": 5,
     "metadata": {},
     "output_type": "execute_result"
    }
   ],
   "source": [
    "pd.Series(dir(pd))"
   ]
  },
  {
   "cell_type": "code",
   "execution_count": null,
   "id": "commercial-filing",
   "metadata": {},
   "outputs": [],
   "source": []
  },
  {
   "cell_type": "code",
   "execution_count": 6,
   "id": "continent-charter",
   "metadata": {},
   "outputs": [],
   "source": [
    "seri=pd.Series(dir(pd))"
   ]
  },
  {
   "cell_type": "code",
   "execution_count": 7,
   "id": "small-tribune",
   "metadata": {},
   "outputs": [],
   "source": [
    "seri=pd.Series(globals())"
   ]
  },
  {
   "cell_type": "code",
   "execution_count": 8,
   "id": "surprising-alloy",
   "metadata": {},
   "outputs": [
    {
     "ename": "NameError",
     "evalue": "name 'dfa' is not defined",
     "output_type": "error",
     "traceback": [
      "\u001b[1;31m---------------------------------------------------------------------------\u001b[0m",
      "\u001b[1;31mNameError\u001b[0m                                 Traceback (most recent call last)",
      "\u001b[1;32mc:\\Users\\marti\\OneDrive\\jupyter-notebooks\\pandas-1.ipynb Cell 9\u001b[0m in \u001b[0;36m<cell line: 1>\u001b[1;34m()\u001b[0m\n\u001b[1;32m----> <a href='vscode-notebook-cell:/c%3A/Users/marti/OneDrive/jupyter-notebooks/pandas-1.ipynb#ch0000008?line=0'>1</a>\u001b[0m seri\u001b[39m=\u001b[39mdfa\u001b[39m.\u001b[39mli\n",
      "\u001b[1;31mNameError\u001b[0m: name 'dfa' is not defined"
     ]
    }
   ],
   "source": [
    "seri=dfa.li"
   ]
  },
  {
   "cell_type": "code",
   "execution_count": 10,
   "id": "maritime-witness",
   "metadata": {},
   "outputs": [],
   "source": [
    "seri=pd.Series(_ih)"
   ]
  },
  {
   "cell_type": "code",
   "execution_count": 11,
   "id": "chicken-intention",
   "metadata": {},
   "outputs": [
    {
     "data": {
      "text/plain": [
       "0                                            \n",
       "1     import pandas as pd\\nimport numpy as np\n",
       "2                                   globals()\n",
       "3                                   globals()\n",
       "4                                         _ih\n",
       "5                          pd.Series(dir(pd))\n",
       "6                     seri=pd.Series(dir(pd))\n",
       "7                   seri=pd.Series(globals())\n",
       "8                                 seri=dfa.li\n",
       "9                         seri=pd.Series(_ih)\n",
       "10                        seri=pd.Series(_ih)\n",
       "dtype: object"
      ]
     },
     "execution_count": 11,
     "metadata": {},
     "output_type": "execute_result"
    }
   ],
   "source": [
    "seri"
   ]
  },
  {
   "cell_type": "code",
   "execution_count": 12,
   "id": "universal-cleaners",
   "metadata": {},
   "outputs": [
    {
     "data": {
      "text/plain": [
       "6       seri=pd.Series(dir(pd))\n",
       "7     seri=pd.Series(globals())\n",
       "8                   seri=dfa.li\n",
       "9           seri=pd.Series(_ih)\n",
       "10          seri=pd.Series(_ih)\n",
       "dtype: object"
      ]
     },
     "execution_count": 12,
     "metadata": {},
     "output_type": "execute_result"
    }
   ],
   "source": [
    "seri[seri.str.contains('seri[=]')]"
   ]
  },
  {
   "cell_type": "code",
   "execution_count": 13,
   "id": "compressed-planning",
   "metadata": {},
   "outputs": [
    {
     "data": {
      "text/plain": [
       "6       seri=pd.Series(dir(pd))\n",
       "7     seri=pd.Series(globals())\n",
       "8                   seri=dfa.li\n",
       "9           seri=pd.Series(_ih)\n",
       "10          seri=pd.Series(_ih)\n",
       "dtype: object"
      ]
     },
     "execution_count": 13,
     "metadata": {},
     "output_type": "execute_result"
    }
   ],
   "source": [
    "seri[seri.str.contains('^ser')]"
   ]
  },
  {
   "cell_type": "code",
   "execution_count": null,
   "id": "heated-cooperation",
   "metadata": {},
   "outputs": [],
   "source": []
  },
  {
   "cell_type": "code",
   "execution_count": 14,
   "id": "present-paris",
   "metadata": {
    "collapsed": true,
    "jupyter": {
     "outputs_hidden": true
    }
   },
   "outputs": [
    {
     "data": {
      "text/plain": [
       "['',\n",
       " 'import pandas as pd\\nimport numpy as np',\n",
       " 'globals()',\n",
       " 'globals()',\n",
       " '_ih',\n",
       " 'pd.Series(dir(pd))',\n",
       " 'seri=pd.Series(dir(pd))',\n",
       " 'seri=pd.Series(globals())',\n",
       " 'seri=dfa.li',\n",
       " 'seri=pd.Series(_ih)',\n",
       " 'seri=pd.Series(_ih)',\n",
       " 'seri',\n",
       " \"seri[seri.str.contains('seri[=]')]\",\n",
       " \"seri[seri.str.contains('^ser')]\",\n",
       " '_ih']"
      ]
     },
     "execution_count": 14,
     "metadata": {},
     "output_type": "execute_result"
    }
   ],
   "source": [
    "_ih"
   ]
  },
  {
   "cell_type": "code",
   "execution_count": null,
   "id": "steady-state",
   "metadata": {},
   "outputs": [],
   "source": []
  },
  {
   "cell_type": "code",
   "execution_count": null,
   "id": "automotive-sharing",
   "metadata": {},
   "outputs": [],
   "source": []
  },
  {
   "cell_type": "code",
   "execution_count": 18,
   "id": "representative-assistant",
   "metadata": {},
   "outputs": [
    {
     "data": {
      "text/plain": [
       "['__annotations__',\n",
       " '__class__',\n",
       " '__delattr__',\n",
       " '__dict__',\n",
       " '__dir__',\n",
       " '__doc__',\n",
       " '__eq__',\n",
       " '__format__',\n",
       " '__frozen',\n",
       " '__ge__',\n",
       " '__getattribute__',\n",
       " '__getitem__',\n",
       " '__gt__',\n",
       " '__hash__',\n",
       " '__init__',\n",
       " '__init_subclass__',\n",
       " '__iter__',\n",
       " '__le__',\n",
       " '__lt__',\n",
       " '__module__',\n",
       " '__ne__',\n",
       " '__new__',\n",
       " '__reduce__',\n",
       " '__reduce_ex__',\n",
       " '__repr__',\n",
       " '__setattr__',\n",
       " '__sizeof__',\n",
       " '__str__',\n",
       " '__subclasshook__',\n",
       " '__weakref__',\n",
       " '_data',\n",
       " '_doc_args',\n",
       " '_freeze',\n",
       " '_get_series_list',\n",
       " '_index',\n",
       " '_inferred_dtype',\n",
       " '_is_categorical',\n",
       " '_is_string',\n",
       " '_name',\n",
       " '_orig',\n",
       " '_parent',\n",
       " '_validate',\n",
       " '_wrap_result',\n",
       " 'capitalize',\n",
       " 'casefold',\n",
       " 'cat',\n",
       " 'center',\n",
       " 'contains',\n",
       " 'count',\n",
       " 'decode',\n",
       " 'encode',\n",
       " 'endswith',\n",
       " 'extract',\n",
       " 'extractall',\n",
       " 'find',\n",
       " 'findall',\n",
       " 'fullmatch',\n",
       " 'get',\n",
       " 'get_dummies',\n",
       " 'index',\n",
       " 'isalnum',\n",
       " 'isalpha',\n",
       " 'isdecimal',\n",
       " 'isdigit',\n",
       " 'islower',\n",
       " 'isnumeric',\n",
       " 'isspace',\n",
       " 'istitle',\n",
       " 'isupper',\n",
       " 'join',\n",
       " 'len',\n",
       " 'ljust',\n",
       " 'lower',\n",
       " 'lstrip',\n",
       " 'match',\n",
       " 'normalize',\n",
       " 'pad',\n",
       " 'partition',\n",
       " 'removeprefix',\n",
       " 'removesuffix',\n",
       " 'repeat',\n",
       " 'replace',\n",
       " 'rfind',\n",
       " 'rindex',\n",
       " 'rjust',\n",
       " 'rpartition',\n",
       " 'rsplit',\n",
       " 'rstrip',\n",
       " 'slice',\n",
       " 'slice_replace',\n",
       " 'split',\n",
       " 'startswith',\n",
       " 'strip',\n",
       " 'swapcase',\n",
       " 'title',\n",
       " 'translate',\n",
       " 'upper',\n",
       " 'wrap',\n",
       " 'zfill']"
      ]
     },
     "execution_count": 18,
     "metadata": {},
     "output_type": "execute_result"
    }
   ],
   "source": [
    "dir(seri.str)"
   ]
  },
  {
   "cell_type": "code",
   "execution_count": 16,
   "id": "senior-wednesday",
   "metadata": {},
   "outputs": [
    {
     "ename": "NameError",
     "evalue": "name 'df1' is not defined",
     "output_type": "error",
     "traceback": [
      "\u001b[1;31m---------------------------------------------------------------------------\u001b[0m",
      "\u001b[1;31mNameError\u001b[0m                                 Traceback (most recent call last)",
      "\u001b[1;32mc:\\Users\\marti\\OneDrive\\jupyter-notebooks\\pandas-1.ipynb Cell 19\u001b[0m in \u001b[0;36m<cell line: 1>\u001b[1;34m()\u001b[0m\n\u001b[1;32m----> <a href='vscode-notebook-cell:/c%3A/Users/marti/OneDrive/jupyter-notebooks/pandas-1.ipynb#ch0000018?line=0'>1</a>\u001b[0m df1\u001b[39m.\u001b[39mcolumns\n",
      "\u001b[1;31mNameError\u001b[0m: name 'df1' is not defined"
     ]
    }
   ],
   "source": [
    "df1.columns"
   ]
  },
  {
   "cell_type": "code",
   "execution_count": null,
   "id": "charming-federation",
   "metadata": {},
   "outputs": [],
   "source": []
  },
  {
   "cell_type": "code",
   "execution_count": null,
   "id": "brilliant-television",
   "metadata": {},
   "outputs": [],
   "source": []
  },
  {
   "cell_type": "code",
   "execution_count": null,
   "id": "digital-train",
   "metadata": {},
   "outputs": [],
   "source": [
    "pd.DataFrame(dir(pd))"
   ]
  },
  {
   "cell_type": "code",
   "execution_count": null,
   "id": "empirical-network",
   "metadata": {},
   "outputs": [],
   "source": []
  },
  {
   "cell_type": "code",
   "execution_count": null,
   "id": "solar-driving",
   "metadata": {},
   "outputs": [],
   "source": [
    "dir(pd)"
   ]
  },
  {
   "cell_type": "code",
   "execution_count": null,
   "id": "worse-assignment",
   "metadata": {},
   "outputs": [],
   "source": [
    "dtype1= {'c': np.int32 , 'x': np.float64 } #, dtype=dtype1"
   ]
  },
  {
   "cell_type": "code",
   "execution_count": null,
   "id": "imported-terminology",
   "metadata": {},
   "outputs": [],
   "source": [
    "dfa=pd.read_csv('f3-of-f234.csv',sep=',',names=['li']) #,,skipinitialspace=True)"
   ]
  },
  {
   "cell_type": "code",
   "execution_count": null,
   "id": "alternative-assembly",
   "metadata": {},
   "outputs": [],
   "source": [
    "# not strange ... just right aligned"
   ]
  },
  {
   "cell_type": "code",
   "execution_count": null,
   "id": "aggregate-district",
   "metadata": {},
   "outputs": [],
   "source": [
    "notstrange1=dfa.li.str.replace(' ','------')"
   ]
  },
  {
   "cell_type": "code",
   "execution_count": null,
   "id": "expressed-petroleum",
   "metadata": {},
   "outputs": [],
   "source": [
    "notstrange1"
   ]
  },
  {
   "cell_type": "code",
   "execution_count": null,
   "id": "threaded-phrase",
   "metadata": {},
   "outputs": [],
   "source": [
    "notstrange1.to_csv('s1')"
   ]
  },
  {
   "cell_type": "code",
   "execution_count": null,
   "id": "regular-berkeley",
   "metadata": {},
   "outputs": [],
   "source": [
    "notstrange1.to_frame('s1')"
   ]
  },
  {
   "cell_type": "code",
   "execution_count": null,
   "id": "proud-compiler",
   "metadata": {},
   "outputs": [],
   "source": [
    "notstrange1.to_list()"
   ]
  },
  {
   "cell_type": "code",
   "execution_count": null,
   "id": "related-classics",
   "metadata": {},
   "outputs": [],
   "source": [
    "notstrange1.to_numpy()"
   ]
  },
  {
   "cell_type": "code",
   "execution_count": null,
   "id": "thermal-smell",
   "metadata": {},
   "outputs": [],
   "source": [
    "notstrange1.to_string()"
   ]
  },
  {
   "cell_type": "code",
   "execution_count": null,
   "id": "educated-force",
   "metadata": {},
   "outputs": [],
   "source": []
  },
  {
   "cell_type": "code",
   "execution_count": null,
   "id": "convertible-wallpaper",
   "metadata": {},
   "outputs": [],
   "source": []
  },
  {
   "cell_type": "code",
   "execution_count": null,
   "id": "suited-relationship",
   "metadata": {},
   "outputs": [],
   "source": []
  },
  {
   "cell_type": "code",
   "execution_count": null,
   "id": "standing-bread",
   "metadata": {},
   "outputs": [],
   "source": []
  },
  {
   "cell_type": "code",
   "execution_count": null,
   "id": "correct-bailey",
   "metadata": {},
   "outputs": [],
   "source": [
    "dfa.li.str.replace(' ','-----')"
   ]
  },
  {
   "cell_type": "code",
   "execution_count": null,
   "id": "scenic-instruction",
   "metadata": {},
   "outputs": [],
   "source": []
  },
  {
   "cell_type": "code",
   "execution_count": null,
   "id": "awful-chest",
   "metadata": {},
   "outputs": [],
   "source": [
    "dfa.li.str.replace('\\t','------')"
   ]
  },
  {
   "cell_type": "code",
   "execution_count": null,
   "id": "powerful-blast",
   "metadata": {},
   "outputs": [],
   "source": []
  },
  {
   "cell_type": "code",
   "execution_count": null,
   "id": "dominican-result",
   "metadata": {},
   "outputs": [],
   "source": []
  },
  {
   "cell_type": "code",
   "execution_count": null,
   "id": "horizontal-procurement",
   "metadata": {},
   "outputs": [],
   "source": []
  },
  {
   "cell_type": "code",
   "execution_count": null,
   "id": "victorian-western",
   "metadata": {},
   "outputs": [],
   "source": []
  },
  {
   "cell_type": "code",
   "execution_count": null,
   "id": "competent-bhutan",
   "metadata": {},
   "outputs": [],
   "source": [
    "df1=pd.read_csv('f3-of-f234.csv',sep=' ',names=['c','x'],skipinitialspace=True)"
   ]
  },
  {
   "cell_type": "code",
   "execution_count": null,
   "id": "crucial-yacht",
   "metadata": {},
   "outputs": [],
   "source": [
    "(10*df1).round()/10"
   ]
  },
  {
   "cell_type": "code",
   "execution_count": null,
   "id": "facial-reform",
   "metadata": {},
   "outputs": [],
   "source": []
  },
  {
   "cell_type": "code",
   "execution_count": null,
   "id": "contrary-manufacturer",
   "metadata": {},
   "outputs": [],
   "source": [
    "df1.eval('y=floor(10*x)/10', inplace=True)"
   ]
  },
  {
   "cell_type": "code",
   "execution_count": null,
   "id": "available-daughter",
   "metadata": {},
   "outputs": [],
   "source": [
    "df11=df1"
   ]
  },
  {
   "cell_type": "code",
   "execution_count": null,
   "id": "simple-crystal",
   "metadata": {},
   "outputs": [],
   "source": [
    "df1.drop(columns=['x'],inplace=True)"
   ]
  },
  {
   "cell_type": "code",
   "execution_count": null,
   "id": "cleared-trash",
   "metadata": {},
   "outputs": [],
   "source": [
    "df12=df1"
   ]
  },
  {
   "cell_type": "code",
   "execution_count": null,
   "id": "likely-encounter",
   "metadata": {},
   "outputs": [],
   "source": [
    "df3=df1.groupby(by=['y']).sum()"
   ]
  },
  {
   "cell_type": "code",
   "execution_count": null,
   "id": "current-poker",
   "metadata": {},
   "outputs": [],
   "source": [
    "df3.to_csv('f3-of-f234-groupby.csv')"
   ]
  },
  {
   "cell_type": "code",
   "execution_count": null,
   "id": "handy-midnight",
   "metadata": {},
   "outputs": [],
   "source": []
  },
  {
   "cell_type": "code",
   "execution_count": null,
   "id": "frank-broadway",
   "metadata": {},
   "outputs": [],
   "source": []
  },
  {
   "cell_type": "code",
   "execution_count": null,
   "id": "removable-parish",
   "metadata": {},
   "outputs": [],
   "source": [
    "df1 = pd.DataFrame({'lkey': ['foo', 'bar', 'baz', 'foo'],\n",
    "                    'value': [1, 2, 3, 5]})\n",
    "df2 = pd.DataFrame({'rkey': ['foo', 'bar', 'baz', 'foo'],\n",
    "                    'value': [5, 6, 7, 8]})"
   ]
  },
  {
   "cell_type": "code",
   "execution_count": null,
   "id": "crucial-principal",
   "metadata": {},
   "outputs": [],
   "source": [
    "df1"
   ]
  },
  {
   "cell_type": "code",
   "execution_count": null,
   "id": "overall-healthcare",
   "metadata": {},
   "outputs": [],
   "source": [
    "dir(df1)\n"
   ]
  },
  {
   "cell_type": "code",
   "execution_count": null,
   "id": "dependent-brave",
   "metadata": {},
   "outputs": [],
   "source": [
    "df1.describe()"
   ]
  },
  {
   "cell_type": "code",
   "execution_count": null,
   "id": "stuffed-trance",
   "metadata": {},
   "outputs": [],
   "source": [
    "df1.info()"
   ]
  },
  {
   "cell_type": "code",
   "execution_count": null,
   "id": "emotional-requirement",
   "metadata": {},
   "outputs": [],
   "source": [
    "df1.lkey"
   ]
  },
  {
   "cell_type": "code",
   "execution_count": null,
   "id": "alike-designer",
   "metadata": {},
   "outputs": [],
   "source": [
    "dir(df1.x)"
   ]
  },
  {
   "cell_type": "code",
   "execution_count": null,
   "id": "correct-gnome",
   "metadata": {
    "scrolled": true
   },
   "outputs": [],
   "source": [
    "dir(np)"
   ]
  },
  {
   "cell_type": "code",
   "execution_count": null,
   "id": "skilled-tamil",
   "metadata": {},
   "outputs": [],
   "source": [
    "se=pd.Series([\"a\", \"b\", \"c\"])"
   ]
  },
  {
   "cell_type": "code",
   "execution_count": null,
   "id": "later-indie",
   "metadata": {},
   "outputs": [],
   "source": [
    "se.str.upper()"
   ]
  },
  {
   "cell_type": "code",
   "execution_count": null,
   "id": "annual-biology",
   "metadata": {},
   "outputs": [],
   "source": [
    "df.columns"
   ]
  },
  {
   "cell_type": "code",
   "execution_count": null,
   "id": "stuck-america",
   "metadata": {},
   "outputs": [],
   "source": []
  },
  {
   "cell_type": "code",
   "execution_count": null,
   "id": "mexican-facing",
   "metadata": {},
   "outputs": [],
   "source": []
  },
  {
   "cell_type": "code",
   "execution_count": null,
   "id": "funky-calvin",
   "metadata": {},
   "outputs": [],
   "source": []
  }
 ],
 "metadata": {
  "kernelspec": {
   "display_name": "Python 3 (ipykernel)",
   "language": "python",
   "name": "python3"
  },
  "language_info": {
   "codemirror_mode": {
    "name": "ipython",
    "version": 3
   },
   "file_extension": ".py",
   "mimetype": "text/x-python",
   "name": "python",
   "nbconvert_exporter": "python",
   "pygments_lexer": "ipython3",
   "version": "3.10.10"
  },
  "vscode": {
   "interpreter": {
    "hash": "a04f5d07b0747026a8fbcdf50b9443318e69b1b8bd6247d88bfadb4789282972"
   }
  }
 },
 "nbformat": 4,
 "nbformat_minor": 5
}
