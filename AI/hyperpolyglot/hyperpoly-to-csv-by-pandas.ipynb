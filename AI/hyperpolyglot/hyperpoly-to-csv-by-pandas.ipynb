{
 "cells": [
  {
   "cell_type": "code",
   "execution_count": 1,
   "id": "f399361f",
   "metadata": {},
   "outputs": [
    {
     "name": "stderr",
     "output_type": "stream",
     "text": [
      "A subdirectory or file ../overwrite/foo/../hyperpolyglot--html-backup already exists.\n"
     ]
    }
   ],
   "source": [
    "# to csv\n",
    "inputdir= '../hyperpolyglot--html-backup/'\n",
    "outputdir= '../overwrite/foo/'+  inputdir\n",
    "####%mkdir  ${outputdir}\n",
    "#%mkdir  \"../overwrite/hyperpolyglot-CSV-229/\"\n",
    "%mkdir  \"../overwrite/foo/../hyperpolyglot--html-backup\"\n"
   ]
  },
  {
   "cell_type": "code",
   "execution_count": 2,
   "id": "ed37d0cb",
   "metadata": {},
   "outputs": [
    {
     "name": "stderr",
     "output_type": "stream",
     "text": [
      "A subdirectory or file ../overwrite/foo/../hyperpolyglot----PANDAS already exists.\n",
      "A subdirectory or file ../overwrite/foo already exists.\n"
     ]
    }
   ],
   "source": [
    "%mkdir  \"../overwrite/foo/../hyperpolyglot----PANDAS\"\n",
    "%mkdir  \"../overwrite/foo\""
   ]
  },
  {
   "cell_type": "code",
   "execution_count": 3,
   "id": "7345b494",
   "metadata": {},
   "outputs": [],
   "source": [
    "## https://hyperpolyglot.org/numerical-analysis2#tables\n",
    "import pandas as pd\n",
    "import csv\n",
    "import numpy as np"
   ]
  },
  {
   "cell_type": "code",
   "execution_count": 4,
   "id": "92169b0f",
   "metadata": {},
   "outputs": [],
   "source": [
    "\n",
    "\n",
    "#str1='../hyperpolyglot--html-backup/lisp.html'\n",
    "\n",
    "#str1='../hyperpolyglot----PANDAS/spreadsheet-issue-1-apos-equ-plus-minus--active characters at the start of a cell.xhtml'\n",
    "\n",
    "\n",
    "## pd.read_html('C:\\\\Users\\\\marti\\\\OneDrive\\\\hyperpolyglot--html-backup\\\\Scripting Languages II_ Perl, Lua, Groovy - Hyperpolyglot.html')\n",
    "\n",
    "##pd.read_html('C:\\\\Users\\\\marti\\\\OneDrive\\\\hyperpolyglot--html-backup\\\\scripting.html')\n",
    "\n",
    "##pd.read_html('C:\\\\Users\\\\marti\\\\OneDrive\\\\hyperpolyglot--html-backup\\\\ml.html')\n"
   ]
  },
  {
   "cell_type": "code",
   "execution_count": 5,
   "id": "185b3b37",
   "metadata": {},
   "outputs": [],
   "source": [
    "# python js\n",
    "\n",
    "str1='../hyperpolyglot--html-backup/Scripting Languages I_ Node.js, Python, PHP, Ruby - Hyperpolyglot.html'\n"
   ]
  },
  {
   "cell_type": "code",
   "execution_count": 32,
   "id": "5f2d65a7",
   "metadata": {},
   "outputs": [],
   "source": [
    "# python js 2\n",
    "\n",
    "str1='../hyperpolyglot--html-backup/Scripting Languages I_ Node.js, Python, PHP, Ruby - 2 - Hyperpolyglot.html'\n"
   ]
  },
  {
   "cell_type": "code",
   "execution_count": 33,
   "id": "308f961d",
   "metadata": {},
   "outputs": [],
   "source": [
    "# pwsh\n",
    "\n",
    "#####str1='../hyperpolyglot--html-backup/shell.html'\n",
    "str1='../hyperpolyglot--html-backup/Command Line Interpreters_ POSIX Shell, Cmd.exe, PowerShell - Hyperpolyglot.html'\n"
   ]
  },
  {
   "cell_type": "code",
   "execution_count": 34,
   "id": "67412c97",
   "metadata": {},
   "outputs": [],
   "source": [
    "str1='../hyperpolyglot--html-backup/ML Dialects and Haskell_ SML, OCaml, F#, Haskell - Hyperpolyglot.html'\n"
   ]
  },
  {
   "cell_type": "code",
   "execution_count": 5,
   "id": "34c9761a",
   "metadata": {},
   "outputs": [],
   "source": [
    "str1='../hyperpolyglot--html-backup/Computer Algebra I_ Mathematica, SymPy, Sage, Maxima - Hyperpolyglot.html'\n",
    "str1='../hyperpolyglot--html-backup/2Computer Algebra I_ Mathematica, SymPy, Sage, Maxima - Hyperpolyglot.html'\n"
   ]
  },
  {
   "cell_type": "code",
   "execution_count": 36,
   "id": "0b45a969",
   "metadata": {},
   "outputs": [],
   "source": [
    "str1='../hyperpolyglot--html-backup/lisp.html'\n"
   ]
  },
  {
   "cell_type": "code",
   "execution_count": 37,
   "id": "6de5a326",
   "metadata": {},
   "outputs": [],
   "source": [
    "# emacs\n",
    "str1='../hyperpolyglot--html-backup/text-mode-editors.html'\n"
   ]
  },
  {
   "cell_type": "code",
   "execution_count": 38,
   "id": "19991532",
   "metadata": {},
   "outputs": [],
   "source": [
    "# tcl\n",
    "str1='../hyperpolyglot--html-backup/gui.html'\n"
   ]
  },
  {
   "cell_type": "code",
   "execution_count": 38,
   "id": "529df1c8-27c5-45ae-862a-6215e4981209",
   "metadata": {},
   "outputs": [],
   "source": [
    "# tcl\n",
    "str1='../hyperpolyglot--html-backup/gui.html'\n"
   ]
  },
  {
   "cell_type": "code",
   "execution_count": 6,
   "id": "8357da9d",
   "metadata": {},
   "outputs": [],
   "source": [
    "with open(str1,encoding='utf-8' )  as f:    fstr=f.read().strip()\n",
    "\n",
    "##fstr[3870:3872]\n",
    "# </a><br />\\n<span style=\"white-space: pre-wrap;\">\\xa0</s\n",
    "#fstr[3800:3872]\n",
    "\n",
    "s2=fstr.replace('\\n','....\\n')\n",
    "##s2=fstr.replace('\\n',' @@@\\n')\n",
    "#s2=fstr.replace('\\n','@@@@\\n')\n",
    "#s2=fstr.replace('\\n','@@@\\n')\n",
    "#s2=fstr.replace('\\n','.....\\n')"
   ]
  },
  {
   "cell_type": "code",
   "execution_count": 7,
   "id": "63305050",
   "metadata": {},
   "outputs": [],
   "source": [
    "#dfs=pd.read_html(str1,  flavor='bs4')\n",
    "dfs=pd.read_html(s2, header=0  , flavor='bs4',  keep_default_na=False )\n",
    "##dfs=pd.read_html(s2,  flavor='bs4',  keep_default_na=False )\n",
    "df=dfs[0]\n"
   ]
  },
  {
   "cell_type": "code",
   "execution_count": 9,
   "id": "58b656e8",
   "metadata": {},
   "outputs": [],
   "source": [
    "## spreadsheet issue #1  ... 'x ... = ... +x ... (active characters ... '=+ ...) at the start of a cell (excel online also ... - x ... )\n",
    "## spreadsheet-issue-1-apos-equ-plus-minus--active characters at the start of a cell (excel online also ... - x ... )\n",
    "\n",
    "#f2\n",
    "def f2(x):\n",
    "    if x.startswith('='):\n",
    "        x=\"'\"+x\n",
    "    return x.replace('....','\\n').strip()\n",
    "f2('=..... .... ')\n",
    "\n",
    "#df.replace(to_replace='....', value='\\n', regex=False)\n",
    "df2=df.applymap(f2)"
   ]
  },
  {
   "cell_type": "code",
   "execution_count": 10,
   "id": "e90c4d36",
   "metadata": {},
   "outputs": [
    {
     "data": {
      "text/plain": [
       "'sum'"
      ]
     },
     "execution_count": 10,
     "metadata": {},
     "output_type": "execute_result"
    }
   ],
   "source": [
    "#alter\n",
    "##dfs=pd.read_html(str1,  flavor='bs4')\n",
    "#dfs=pd.read_html(str1, header=0  , flavor='bs4',  keep_default_na=False)   #, encoding='utf-8')\n",
    "#warnings.warn(\"You provided Unicode markup but also provided a value for from_encoding. Your from_encoding will be ignored.\"\n",
    "#df=dfs[0]\n",
    "\n",
    "#debug\n",
    "df.columns\n",
    "df2.values[2,0]\n",
    "#df.values[:,2]\n",
    "s=df2.values[2,2]\n",
    "s.split('\\n')\n",
    "type(df2.iloc[30])\n",
    "se=df2.iloc[29] #30]\n",
    "se.iat[0]"
   ]
  },
  {
   "cell_type": "code",
   "execution_count": 11,
   "id": "b3536c23",
   "metadata": {},
   "outputs": [
    {
     "data": {
      "text/plain": [
       "0        symbolic expressions\n",
       "12                   calculus\n",
       "34     equations and unknowns\n",
       "42               optimization\n",
       "52                    vectors\n",
       "65                   matrices\n",
       "105             combinatorics\n",
       "121             number theory\n",
       "149               polynomials\n",
       "178              trigonometry\n",
       "189         special functions\n",
       "196              permutations\n",
       "216    descriptive statistics\n",
       "232             distributions\n",
       "247         statistical tests\n",
       "267                bar charts\n",
       "276             scatter plots\n",
       "289               line charts\n",
       "301            surface charts\n",
       "310             chart options\n",
       "dtype: object"
      ]
     },
     "execution_count": 11,
     "metadata": {},
     "output_type": "execute_result"
    }
   ],
   "source": [
    "1==6==1 # chaining\n",
    "def f4(row):\n",
    "    if (row.iat[0]==row.iat[1]) and row.iat[1]==row.iat[2]:\n",
    "        #return  'section: ' +   row.iat[0]\n",
    "        return     row.iat[0]\n",
    "    else:\n",
    "        return ''\n",
    "    \n",
    "## deleted df5 cells\n",
    "\n",
    "###dfsheet5=df5.replace(to_replace=r'^', value=\"='\", regex=True)\n",
    "###dfsheet=df.replace(to_replace=r'^', value=\"'\", regex=True)\n",
    "dfsheet=df2 #df5 ### copies merely the reference\n",
    "dfsheet=df2.copy() #df5.copy() \n",
    "\n",
    "se3= dfsheet.apply(f4, axis=1)\n",
    "se3[se3!='']"
   ]
  },
  {
   "cell_type": "code",
   "execution_count": 12,
   "id": "50aaa8c2",
   "metadata": {},
   "outputs": [
    {
     "name": "stdout",
     "output_type": "stream",
     "text": [
      "Unnamed: 0\n"
     ]
    },
    {
     "data": {
      "text/plain": [
       "0      version\n",
       "1          NaN\n",
       "2          NaN\n",
       "3          NaN\n",
       "4          NaN\n",
       "        ...   \n",
       "322        NaN\n",
       "323        NaN\n",
       "324        NaN\n",
       "325        NaN\n",
       "326        NaN\n",
       "Length: 327, dtype: object"
      ]
     },
     "execution_count": 12,
     "metadata": {},
     "output_type": "execute_result"
    }
   ],
   "source": [
    "se3[se3==''] = np.nan\n",
    "print(df.columns[0])\n",
    "if  df.columns[0].startswith('Unnamed'):\n",
    "##if not len(df.columns[0]):\n",
    "    se3[0]='version' # command ---shell.html !\n",
    "else:\n",
    "    se3[0]=df.columns[0]\n",
    "\n",
    "se3\n"
   ]
  },
  {
   "cell_type": "code",
   "execution_count": 13,
   "id": "ff91c9fb",
   "metadata": {},
   "outputs": [
    {
     "data": {
      "text/plain": [
       "0            version\n",
       "1            version\n",
       "2            version\n",
       "3            version\n",
       "4            version\n",
       "           ...      \n",
       "322    chart options\n",
       "323    chart options\n",
       "324    chart options\n",
       "325    chart options\n",
       "326    chart options\n",
       "Length: 327, dtype: object"
      ]
     },
     "execution_count": 13,
     "metadata": {},
     "output_type": "execute_result"
    }
   ],
   "source": [
    "#se3.ffill(inplace=True, )\n",
    "se4=se3.ffill( )\n",
    "se4"
   ]
  },
  {
   "cell_type": "code",
   "execution_count": 14,
   "id": "dc86bd76",
   "metadata": {},
   "outputs": [
    {
     "name": "stdout",
     "output_type": "stream",
     "text": [
      "../overwrite/foo/../hyperpolyglot--html-backup/2Computer Algebra I_ Mathematica, SymPy, Sage, Maxima - Hyperpolyglot.html.csv\n"
     ]
    }
   ],
   "source": [
    "dfsheet3=dfsheet ### copies merely the reference\n",
    "dfsheet3=dfsheet.copy()\n",
    "dfsheet3.insert(0,'section',se4 )   #se3)\n",
    "dfsheet3 #[25:35]\n",
    "dfsheet9=dfsheet3 ### copies merely the reference\n",
    "dfsheet9=dfsheet3.copy()\n",
    "#del dfsheet\n",
    "\n",
    "#fname2= '../overwrite/foo/'+     str1+'--martin12333'+'.csv'\n",
    "fname2= '../overwrite/foo/'+     str1+'.csv'\n",
    "##fname3= '../overwrite/hyperpolyglot.f8'+ fname3b\n",
    "fnamexlsx= '../overwrite/foo/'+     str1+'.xlsx'\n",
    "print(fname2)"
   ]
  },
  {
   "cell_type": "code",
   "execution_count": 15,
   "id": "55dce004",
   "metadata": {},
   "outputs": [
    {
     "data": {
      "text/html": [
       "<div>\n",
       "<style scoped>\n",
       "    .dataframe tbody tr th:only-of-type {\n",
       "        vertical-align: middle;\n",
       "    }\n",
       "\n",
       "    .dataframe tbody tr th {\n",
       "        vertical-align: top;\n",
       "    }\n",
       "\n",
       "    .dataframe thead th {\n",
       "        text-align: right;\n",
       "    }\n",
       "</style>\n",
       "<table border=\"1\" class=\"dataframe\">\n",
       "  <thead>\n",
       "    <tr style=\"text-align: right;\">\n",
       "      <th></th>\n",
       "      <th>section</th>\n",
       "      <th>Unnamed: 0</th>\n",
       "      <th>mathematica</th>\n",
       "      <th>sympy</th>\n",
       "      <th>sage</th>\n",
       "      <th>maxima</th>\n",
       "    </tr>\n",
       "  </thead>\n",
       "  <tbody>\n",
       "    <tr>\n",
       "      <th>0</th>\n",
       "      <td>version</td>\n",
       "      <td>symbolic expressions</td>\n",
       "      <td>symbolic expressions</td>\n",
       "      <td>symbolic expressions</td>\n",
       "      <td>symbolic expressions</td>\n",
       "      <td>symbolic expressions</td>\n",
       "    </tr>\n",
       "    <tr>\n",
       "      <th>1</th>\n",
       "      <td>version</td>\n",
       "      <td></td>\n",
       "      <td>mathematica</td>\n",
       "      <td>sympy</td>\n",
       "      <td>sage</td>\n",
       "      <td>maxima</td>\n",
       "    </tr>\n",
       "    <tr>\n",
       "      <th>2</th>\n",
       "      <td>version</td>\n",
       "      <td>literal</td>\n",
       "      <td>expr = 1 + x + x^2</td>\n",
       "      <td>x = symbols('x') \\n \\n expr = 1 + x + x^2</td>\n",
       "      <td>expr = 1 + x + x^2</td>\n",
       "      <td>expr = 1 + x + x^2;</td>\n",
       "    </tr>\n",
       "    <tr>\n",
       "      <th>3</th>\n",
       "      <td>version</td>\n",
       "      <td>prevent simplification</td>\n",
       "      <td>HoldForm[x + x] \\n x + x // HoldForm</td>\n",
       "      <td></td>\n",
       "      <td></td>\n",
       "      <td></td>\n",
       "    </tr>\n",
       "    <tr>\n",
       "      <th>4</th>\n",
       "      <td>version</td>\n",
       "      <td>variable update</td>\n",
       "      <td>expr = 1 + x \\n x = 3 \\n (* 4: *) \\n expr</td>\n",
       "      <td>x = symbols('x') \\n expr = 1 + x \\n x = 3 \\n #...</td>\n",
       "      <td>expr = 1 + x \\n x = 7 \\n # 1 + x: \\n expr</td>\n",
       "      <td>expr: 1 + x; \\n x: 3; \\n /* 1 + x: */ \\n expr;</td>\n",
       "    </tr>\n",
       "    <tr>\n",
       "      <th>...</th>\n",
       "      <td>...</td>\n",
       "      <td>...</td>\n",
       "      <td>...</td>\n",
       "      <td>...</td>\n",
       "      <td>...</td>\n",
       "      <td>...</td>\n",
       "    </tr>\n",
       "    <tr>\n",
       "      <th>322</th>\n",
       "      <td>chart options</td>\n",
       "      <td>ticks</td>\n",
       "      <td>Plot[Sin[x], {x, 0, 2 Pi}, Ticks -&gt; None] \\n \\...</td>\n",
       "      <td></td>\n",
       "      <td></td>\n",
       "      <td>wxplot2d(sin(x), [x, -4, 4], \\n  [xtics, -4, 2...</td>\n",
       "    </tr>\n",
       "    <tr>\n",
       "      <th>323</th>\n",
       "      <td>chart options</td>\n",
       "      <td>grid lines</td>\n",
       "      <td>Plot[Sin[x], {x, 0, 2 Pi}, \\n  GridLines -&gt; Au...</td>\n",
       "      <td></td>\n",
       "      <td></td>\n",
       "      <td></td>\n",
       "    </tr>\n",
       "    <tr>\n",
       "      <th>324</th>\n",
       "      <td>chart options</td>\n",
       "      <td>grid of subplots</td>\n",
       "      <td>GraphicsGrid[Table[Table[ \\n  Histogram[Random...</td>\n",
       "      <td></td>\n",
       "      <td></td>\n",
       "      <td>load(distrib); \\n \\n x: makelist(makelist(rand...</td>\n",
       "    </tr>\n",
       "    <tr>\n",
       "      <th>325</th>\n",
       "      <td>chart options</td>\n",
       "      <td>save plot as png</td>\n",
       "      <td>Export[\"hist.png\", \\n  Histogram[RandomReal[X,...</td>\n",
       "      <td></td>\n",
       "      <td></td>\n",
       "      <td>After creating a plot, run gnuplot on the .gnu...</td>\n",
       "    </tr>\n",
       "    <tr>\n",
       "      <th>326</th>\n",
       "      <td>chart options</td>\n",
       "      <td></td>\n",
       "      <td>______________________________________________...</td>\n",
       "      <td>______________________________________________...</td>\n",
       "      <td>______________________________________________...</td>\n",
       "      <td>______________________________________________...</td>\n",
       "    </tr>\n",
       "  </tbody>\n",
       "</table>\n",
       "<p>327 rows × 6 columns</p>\n",
       "</div>"
      ],
      "text/plain": [
       "           section              Unnamed: 0  \\\n",
       "0          version    symbolic expressions   \n",
       "1          version                           \n",
       "2          version                 literal   \n",
       "3          version  prevent simplification   \n",
       "4          version         variable update   \n",
       "..             ...                     ...   \n",
       "322  chart options                   ticks   \n",
       "323  chart options              grid lines   \n",
       "324  chart options        grid of subplots   \n",
       "325  chart options        save plot as png   \n",
       "326  chart options                           \n",
       "\n",
       "                                           mathematica  \\\n",
       "0                                 symbolic expressions   \n",
       "1                                          mathematica   \n",
       "2                                   expr = 1 + x + x^2   \n",
       "3                 HoldForm[x + x] \\n x + x // HoldForm   \n",
       "4            expr = 1 + x \\n x = 3 \\n (* 4: *) \\n expr   \n",
       "..                                                 ...   \n",
       "322  Plot[Sin[x], {x, 0, 2 Pi}, Ticks -> None] \\n \\...   \n",
       "323  Plot[Sin[x], {x, 0, 2 Pi}, \\n  GridLines -> Au...   \n",
       "324  GraphicsGrid[Table[Table[ \\n  Histogram[Random...   \n",
       "325  Export[\"hist.png\", \\n  Histogram[RandomReal[X,...   \n",
       "326  ______________________________________________...   \n",
       "\n",
       "                                                 sympy  \\\n",
       "0                                 symbolic expressions   \n",
       "1                                                sympy   \n",
       "2            x = symbols('x') \\n \\n expr = 1 + x + x^2   \n",
       "3                                                        \n",
       "4    x = symbols('x') \\n expr = 1 + x \\n x = 3 \\n #...   \n",
       "..                                                 ...   \n",
       "322                                                      \n",
       "323                                                      \n",
       "324                                                      \n",
       "325                                                      \n",
       "326  ______________________________________________...   \n",
       "\n",
       "                                                  sage  \\\n",
       "0                                 symbolic expressions   \n",
       "1                                                 sage   \n",
       "2                                   expr = 1 + x + x^2   \n",
       "3                                                        \n",
       "4            expr = 1 + x \\n x = 7 \\n # 1 + x: \\n expr   \n",
       "..                                                 ...   \n",
       "322                                                      \n",
       "323                                                      \n",
       "324                                                      \n",
       "325                                                      \n",
       "326  ______________________________________________...   \n",
       "\n",
       "                                                maxima  \n",
       "0                                 symbolic expressions  \n",
       "1                                               maxima  \n",
       "2                                  expr = 1 + x + x^2;  \n",
       "3                                                       \n",
       "4       expr: 1 + x; \\n x: 3; \\n /* 1 + x: */ \\n expr;  \n",
       "..                                                 ...  \n",
       "322  wxplot2d(sin(x), [x, -4, 4], \\n  [xtics, -4, 2...  \n",
       "323                                                     \n",
       "324  load(distrib); \\n \\n x: makelist(makelist(rand...  \n",
       "325  After creating a plot, run gnuplot on the .gnu...  \n",
       "326  ______________________________________________...  \n",
       "\n",
       "[327 rows x 6 columns]"
      ]
     },
     "execution_count": 15,
     "metadata": {},
     "output_type": "execute_result"
    }
   ],
   "source": [
    "dfsheet9.to_csv(path_or_buf=fname2, header=False, index=False)\n",
    "dfsheet9 #[20:40]\n",
    "\n",
    "#dfsheet.to_excel(fnamexlsx, index=False, header=False)\n",
    "##alter\n",
    "#test =dfsheet # df5 # pd.DataFrame(biglist)\n",
    "#writer = pd.ExcelWriter(  fnamexlsx  ,   engine='xlsxwriter')\n",
    "#test.to_excel(writer,sheet_name='test', index=False, header=False)\n",
    "#writer.save()"
   ]
  },
  {
   "cell_type": "code",
   "execution_count": 16,
   "id": "6b410bde",
   "metadata": {},
   "outputs": [
    {
     "data": {
      "text/plain": [
       "'../hyperpolyglot--html-backup/'"
      ]
     },
     "execution_count": 16,
     "metadata": {},
     "output_type": "execute_result"
    }
   ],
   "source": [
    "inputdir"
   ]
  },
  {
   "cell_type": "code",
   "execution_count": 17,
   "id": "8c29665a",
   "metadata": {},
   "outputs": [
    {
     "data": {
      "text/html": [
       "<div>\n",
       "<style scoped>\n",
       "    .dataframe tbody tr th:only-of-type {\n",
       "        vertical-align: middle;\n",
       "    }\n",
       "\n",
       "    .dataframe tbody tr th {\n",
       "        vertical-align: top;\n",
       "    }\n",
       "\n",
       "    .dataframe thead th {\n",
       "        text-align: right;\n",
       "    }\n",
       "</style>\n",
       "<table border=\"1\" class=\"dataframe\">\n",
       "  <thead>\n",
       "    <tr style=\"text-align: right;\">\n",
       "      <th></th>\n",
       "      <th>section</th>\n",
       "      <th>Unnamed: 0</th>\n",
       "      <th>mathematica</th>\n",
       "      <th>sympy</th>\n",
       "      <th>sage</th>\n",
       "      <th>maxima</th>\n",
       "    </tr>\n",
       "  </thead>\n",
       "  <tbody>\n",
       "    <tr>\n",
       "      <th>0</th>\n",
       "      <td>version</td>\n",
       "      <td>symbolic expressions</td>\n",
       "      <td>symbolic expressions</td>\n",
       "      <td>symbolic expressions</td>\n",
       "      <td>symbolic expressions</td>\n",
       "      <td>symbolic expressions</td>\n",
       "    </tr>\n",
       "    <tr>\n",
       "      <th>1</th>\n",
       "      <td>version</td>\n",
       "      <td></td>\n",
       "      <td>mathematica</td>\n",
       "      <td>sympy</td>\n",
       "      <td>sage</td>\n",
       "      <td>maxima</td>\n",
       "    </tr>\n",
       "    <tr>\n",
       "      <th>2</th>\n",
       "      <td>version</td>\n",
       "      <td>literal</td>\n",
       "      <td>expr = 1 + x + x^2</td>\n",
       "      <td>x = symbols('x') \\n \\n expr = 1 + x + x^2</td>\n",
       "      <td>expr = 1 + x + x^2</td>\n",
       "      <td>expr = 1 + x + x^2;</td>\n",
       "    </tr>\n",
       "    <tr>\n",
       "      <th>3</th>\n",
       "      <td>version</td>\n",
       "      <td>prevent simplification</td>\n",
       "      <td>HoldForm[x + x] \\n x + x // HoldForm</td>\n",
       "      <td></td>\n",
       "      <td></td>\n",
       "      <td></td>\n",
       "    </tr>\n",
       "    <tr>\n",
       "      <th>4</th>\n",
       "      <td>version</td>\n",
       "      <td>variable update</td>\n",
       "      <td>expr = 1 + x \\n x = 3 \\n (* 4: *) \\n expr</td>\n",
       "      <td>x = symbols('x') \\n expr = 1 + x \\n x = 3 \\n #...</td>\n",
       "      <td>expr = 1 + x \\n x = 7 \\n # 1 + x: \\n expr</td>\n",
       "      <td>expr: 1 + x; \\n x: 3; \\n /* 1 + x: */ \\n expr;</td>\n",
       "    </tr>\n",
       "    <tr>\n",
       "      <th>...</th>\n",
       "      <td>...</td>\n",
       "      <td>...</td>\n",
       "      <td>...</td>\n",
       "      <td>...</td>\n",
       "      <td>...</td>\n",
       "      <td>...</td>\n",
       "    </tr>\n",
       "    <tr>\n",
       "      <th>322</th>\n",
       "      <td>chart options</td>\n",
       "      <td>ticks</td>\n",
       "      <td>Plot[Sin[x], {x, 0, 2 Pi}, Ticks -&gt; None] \\n \\...</td>\n",
       "      <td></td>\n",
       "      <td></td>\n",
       "      <td>wxplot2d(sin(x), [x, -4, 4], \\n  [xtics, -4, 2...</td>\n",
       "    </tr>\n",
       "    <tr>\n",
       "      <th>323</th>\n",
       "      <td>chart options</td>\n",
       "      <td>grid lines</td>\n",
       "      <td>Plot[Sin[x], {x, 0, 2 Pi}, \\n  GridLines -&gt; Au...</td>\n",
       "      <td></td>\n",
       "      <td></td>\n",
       "      <td></td>\n",
       "    </tr>\n",
       "    <tr>\n",
       "      <th>324</th>\n",
       "      <td>chart options</td>\n",
       "      <td>grid of subplots</td>\n",
       "      <td>GraphicsGrid[Table[Table[ \\n  Histogram[Random...</td>\n",
       "      <td></td>\n",
       "      <td></td>\n",
       "      <td>load(distrib); \\n \\n x: makelist(makelist(rand...</td>\n",
       "    </tr>\n",
       "    <tr>\n",
       "      <th>325</th>\n",
       "      <td>chart options</td>\n",
       "      <td>save plot as png</td>\n",
       "      <td>Export[\"hist.png\", \\n  Histogram[RandomReal[X,...</td>\n",
       "      <td></td>\n",
       "      <td></td>\n",
       "      <td>After creating a plot, run gnuplot on the .gnu...</td>\n",
       "    </tr>\n",
       "    <tr>\n",
       "      <th>326</th>\n",
       "      <td>chart options</td>\n",
       "      <td></td>\n",
       "      <td>______________________________________________...</td>\n",
       "      <td>______________________________________________...</td>\n",
       "      <td>______________________________________________...</td>\n",
       "      <td>______________________________________________...</td>\n",
       "    </tr>\n",
       "  </tbody>\n",
       "</table>\n",
       "<p>327 rows × 6 columns</p>\n",
       "</div>"
      ],
      "text/plain": [
       "           section              Unnamed: 0  \\\n",
       "0          version    symbolic expressions   \n",
       "1          version                           \n",
       "2          version                 literal   \n",
       "3          version  prevent simplification   \n",
       "4          version         variable update   \n",
       "..             ...                     ...   \n",
       "322  chart options                   ticks   \n",
       "323  chart options              grid lines   \n",
       "324  chart options        grid of subplots   \n",
       "325  chart options        save plot as png   \n",
       "326  chart options                           \n",
       "\n",
       "                                           mathematica  \\\n",
       "0                                 symbolic expressions   \n",
       "1                                          mathematica   \n",
       "2                                   expr = 1 + x + x^2   \n",
       "3                 HoldForm[x + x] \\n x + x // HoldForm   \n",
       "4            expr = 1 + x \\n x = 3 \\n (* 4: *) \\n expr   \n",
       "..                                                 ...   \n",
       "322  Plot[Sin[x], {x, 0, 2 Pi}, Ticks -> None] \\n \\...   \n",
       "323  Plot[Sin[x], {x, 0, 2 Pi}, \\n  GridLines -> Au...   \n",
       "324  GraphicsGrid[Table[Table[ \\n  Histogram[Random...   \n",
       "325  Export[\"hist.png\", \\n  Histogram[RandomReal[X,...   \n",
       "326  ______________________________________________...   \n",
       "\n",
       "                                                 sympy  \\\n",
       "0                                 symbolic expressions   \n",
       "1                                                sympy   \n",
       "2            x = symbols('x') \\n \\n expr = 1 + x + x^2   \n",
       "3                                                        \n",
       "4    x = symbols('x') \\n expr = 1 + x \\n x = 3 \\n #...   \n",
       "..                                                 ...   \n",
       "322                                                      \n",
       "323                                                      \n",
       "324                                                      \n",
       "325                                                      \n",
       "326  ______________________________________________...   \n",
       "\n",
       "                                                  sage  \\\n",
       "0                                 symbolic expressions   \n",
       "1                                                 sage   \n",
       "2                                   expr = 1 + x + x^2   \n",
       "3                                                        \n",
       "4            expr = 1 + x \\n x = 7 \\n # 1 + x: \\n expr   \n",
       "..                                                 ...   \n",
       "322                                                      \n",
       "323                                                      \n",
       "324                                                      \n",
       "325                                                      \n",
       "326  ______________________________________________...   \n",
       "\n",
       "                                                maxima  \n",
       "0                                 symbolic expressions  \n",
       "1                                               maxima  \n",
       "2                                  expr = 1 + x + x^2;  \n",
       "3                                                       \n",
       "4       expr: 1 + x; \\n x: 3; \\n /* 1 + x: */ \\n expr;  \n",
       "..                                                 ...  \n",
       "322  wxplot2d(sin(x), [x, -4, 4], \\n  [xtics, -4, 2...  \n",
       "323                                                     \n",
       "324  load(distrib); \\n \\n x: makelist(makelist(rand...  \n",
       "325  After creating a plot, run gnuplot on the .gnu...  \n",
       "326  ______________________________________________...  \n",
       "\n",
       "[327 rows x 6 columns]"
      ]
     },
     "execution_count": 17,
     "metadata": {},
     "output_type": "execute_result"
    }
   ],
   "source": [
    "dfsheet9 #[:35] #df[:40]"
   ]
  },
  {
   "cell_type": "code",
   "execution_count": 18,
   "id": "074e5e15",
   "metadata": {},
   "outputs": [
    {
     "ename": "KeyError",
     "evalue": "'version'",
     "output_type": "error",
     "traceback": [
      "\u001b[1;31m---------------------------------------------------------------------------\u001b[0m",
      "\u001b[1;31mKeyError\u001b[0m                                  Traceback (most recent call last)",
      "File \u001b[1;32mD:\\conda\\envs\\pip310ecco\\lib\\site-packages\\pandas\\core\\indexes\\base.py:3652\u001b[0m, in \u001b[0;36mIndex.get_loc\u001b[1;34m(self, key)\u001b[0m\n\u001b[0;32m   3651\u001b[0m \u001b[38;5;28;01mtry\u001b[39;00m:\n\u001b[1;32m-> 3652\u001b[0m     \u001b[38;5;28;01mreturn\u001b[39;00m \u001b[38;5;28;43mself\u001b[39;49m\u001b[38;5;241;43m.\u001b[39;49m\u001b[43m_engine\u001b[49m\u001b[38;5;241;43m.\u001b[39;49m\u001b[43mget_loc\u001b[49m\u001b[43m(\u001b[49m\u001b[43mcasted_key\u001b[49m\u001b[43m)\u001b[49m\n\u001b[0;32m   3653\u001b[0m \u001b[38;5;28;01mexcept\u001b[39;00m \u001b[38;5;167;01mKeyError\u001b[39;00m \u001b[38;5;28;01mas\u001b[39;00m err:\n",
      "File \u001b[1;32mD:\\conda\\envs\\pip310ecco\\lib\\site-packages\\pandas\\_libs\\index.pyx:147\u001b[0m, in \u001b[0;36mpandas._libs.index.IndexEngine.get_loc\u001b[1;34m()\u001b[0m\n",
      "File \u001b[1;32mD:\\conda\\envs\\pip310ecco\\lib\\site-packages\\pandas\\_libs\\index.pyx:176\u001b[0m, in \u001b[0;36mpandas._libs.index.IndexEngine.get_loc\u001b[1;34m()\u001b[0m\n",
      "File \u001b[1;32mpandas\\_libs\\hashtable_class_helper.pxi:7080\u001b[0m, in \u001b[0;36mpandas._libs.hashtable.PyObjectHashTable.get_item\u001b[1;34m()\u001b[0m\n",
      "File \u001b[1;32mpandas\\_libs\\hashtable_class_helper.pxi:7088\u001b[0m, in \u001b[0;36mpandas._libs.hashtable.PyObjectHashTable.get_item\u001b[1;34m()\u001b[0m\n",
      "\u001b[1;31mKeyError\u001b[0m: 'version'",
      "\nThe above exception was the direct cause of the following exception:\n",
      "\u001b[1;31mKeyError\u001b[0m                                  Traceback (most recent call last)",
      "Cell \u001b[1;32mIn[18], line 1\u001b[0m\n\u001b[1;32m----> 1\u001b[0m \u001b[43mdf\u001b[49m\u001b[43m[\u001b[49m\u001b[38;5;124;43m'\u001b[39;49m\u001b[38;5;124;43mversion\u001b[39;49m\u001b[38;5;124;43m'\u001b[39;49m\u001b[43m]\u001b[49m\n",
      "File \u001b[1;32mD:\\conda\\envs\\pip310ecco\\lib\\site-packages\\pandas\\core\\frame.py:3761\u001b[0m, in \u001b[0;36mDataFrame.__getitem__\u001b[1;34m(self, key)\u001b[0m\n\u001b[0;32m   3759\u001b[0m \u001b[38;5;28;01mif\u001b[39;00m \u001b[38;5;28mself\u001b[39m\u001b[38;5;241m.\u001b[39mcolumns\u001b[38;5;241m.\u001b[39mnlevels \u001b[38;5;241m>\u001b[39m \u001b[38;5;241m1\u001b[39m:\n\u001b[0;32m   3760\u001b[0m     \u001b[38;5;28;01mreturn\u001b[39;00m \u001b[38;5;28mself\u001b[39m\u001b[38;5;241m.\u001b[39m_getitem_multilevel(key)\n\u001b[1;32m-> 3761\u001b[0m indexer \u001b[38;5;241m=\u001b[39m \u001b[38;5;28;43mself\u001b[39;49m\u001b[38;5;241;43m.\u001b[39;49m\u001b[43mcolumns\u001b[49m\u001b[38;5;241;43m.\u001b[39;49m\u001b[43mget_loc\u001b[49m\u001b[43m(\u001b[49m\u001b[43mkey\u001b[49m\u001b[43m)\u001b[49m\n\u001b[0;32m   3762\u001b[0m \u001b[38;5;28;01mif\u001b[39;00m is_integer(indexer):\n\u001b[0;32m   3763\u001b[0m     indexer \u001b[38;5;241m=\u001b[39m [indexer]\n",
      "File \u001b[1;32mD:\\conda\\envs\\pip310ecco\\lib\\site-packages\\pandas\\core\\indexes\\base.py:3654\u001b[0m, in \u001b[0;36mIndex.get_loc\u001b[1;34m(self, key)\u001b[0m\n\u001b[0;32m   3652\u001b[0m     \u001b[38;5;28;01mreturn\u001b[39;00m \u001b[38;5;28mself\u001b[39m\u001b[38;5;241m.\u001b[39m_engine\u001b[38;5;241m.\u001b[39mget_loc(casted_key)\n\u001b[0;32m   3653\u001b[0m \u001b[38;5;28;01mexcept\u001b[39;00m \u001b[38;5;167;01mKeyError\u001b[39;00m \u001b[38;5;28;01mas\u001b[39;00m err:\n\u001b[1;32m-> 3654\u001b[0m     \u001b[38;5;28;01mraise\u001b[39;00m \u001b[38;5;167;01mKeyError\u001b[39;00m(key) \u001b[38;5;28;01mfrom\u001b[39;00m \u001b[38;5;21;01merr\u001b[39;00m\n\u001b[0;32m   3655\u001b[0m \u001b[38;5;28;01mexcept\u001b[39;00m \u001b[38;5;167;01mTypeError\u001b[39;00m:\n\u001b[0;32m   3656\u001b[0m     \u001b[38;5;66;03m# If we have a listlike key, _check_indexing_error will raise\u001b[39;00m\n\u001b[0;32m   3657\u001b[0m     \u001b[38;5;66;03m#  InvalidIndexError. Otherwise we fall through and re-raise\u001b[39;00m\n\u001b[0;32m   3658\u001b[0m     \u001b[38;5;66;03m#  the TypeError.\u001b[39;00m\n\u001b[0;32m   3659\u001b[0m     \u001b[38;5;28mself\u001b[39m\u001b[38;5;241m.\u001b[39m_check_indexing_error(key)\n",
      "\u001b[1;31mKeyError\u001b[0m: 'version'"
     ]
    }
   ],
   "source": [
    "df['version']"
   ]
  },
  {
   "cell_type": "code",
   "execution_count": null,
   "id": "1e8c0dd2",
   "metadata": {},
   "outputs": [],
   "source": []
  },
  {
   "cell_type": "code",
   "execution_count": 19,
   "id": "7c453c3d",
   "metadata": {},
   "outputs": [
    {
     "data": {
      "text/html": [
       "<div>\n",
       "<style scoped>\n",
       "    .dataframe tbody tr th:only-of-type {\n",
       "        vertical-align: middle;\n",
       "    }\n",
       "\n",
       "    .dataframe tbody tr th {\n",
       "        vertical-align: top;\n",
       "    }\n",
       "\n",
       "    .dataframe thead th {\n",
       "        text-align: right;\n",
       "    }\n",
       "</style>\n",
       "<table border=\"1\" class=\"dataframe\">\n",
       "  <thead>\n",
       "    <tr style=\"text-align: right;\">\n",
       "      <th></th>\n",
       "      <th>Unnamed: 0</th>\n",
       "      <th>mathematica</th>\n",
       "      <th>sympy</th>\n",
       "      <th>sage</th>\n",
       "      <th>maxima</th>\n",
       "    </tr>\n",
       "  </thead>\n",
       "  <tbody>\n",
       "    <tr>\n",
       "      <th>count</th>\n",
       "      <td>327</td>\n",
       "      <td>327</td>\n",
       "      <td>327</td>\n",
       "      <td>327</td>\n",
       "      <td>327</td>\n",
       "    </tr>\n",
       "    <tr>\n",
       "      <th>unique</th>\n",
       "      <td>300</td>\n",
       "      <td>290</td>\n",
       "      <td>138</td>\n",
       "      <td>158</td>\n",
       "      <td>192</td>\n",
       "    </tr>\n",
       "    <tr>\n",
       "      <th>top</th>\n",
       "      <td></td>\n",
       "      <td>mathematica</td>\n",
       "      <td></td>\n",
       "      <td></td>\n",
       "      <td></td>\n",
       "    </tr>\n",
       "    <tr>\n",
       "      <th>freq</th>\n",
       "      <td>21</td>\n",
       "      <td>20</td>\n",
       "      <td>171</td>\n",
       "      <td>150</td>\n",
       "      <td>114</td>\n",
       "    </tr>\n",
       "  </tbody>\n",
       "</table>\n",
       "</div>"
      ],
      "text/plain": [
       "       Unnamed: 0  mathematica sympy sage maxima\n",
       "count         327          327   327  327    327\n",
       "unique        300          290   138  158    192\n",
       "top                mathematica                  \n",
       "freq           21           20   171  150    114"
      ]
     },
     "execution_count": 19,
     "metadata": {},
     "output_type": "execute_result"
    }
   ],
   "source": [
    "df.describe()"
   ]
  },
  {
   "cell_type": "code",
   "execution_count": 20,
   "id": "b2ff7ab0",
   "metadata": {},
   "outputs": [
    {
     "name": "stdout",
     "output_type": "stream",
     "text": [
      "<class 'pandas.core.frame.DataFrame'>\n",
      "RangeIndex: 327 entries, 0 to 326\n",
      "Data columns (total 5 columns):\n",
      " #   Column       Non-Null Count  Dtype \n",
      "---  ------       --------------  ----- \n",
      " 0   Unnamed: 0   327 non-null    object\n",
      " 1   mathematica  327 non-null    object\n",
      " 2   sympy        327 non-null    object\n",
      " 3   sage         327 non-null    object\n",
      " 4   maxima       327 non-null    object\n",
      "dtypes: object(5)\n",
      "memory usage: 12.9+ KB\n"
     ]
    }
   ],
   "source": [
    "df.info()"
   ]
  },
  {
   "cell_type": "code",
   "execution_count": null,
   "id": "1c387229",
   "metadata": {},
   "outputs": [],
   "source": []
  },
  {
   "cell_type": "code",
   "execution_count": null,
   "id": "226eef32",
   "metadata": {},
   "outputs": [],
   "source": []
  },
  {
   "cell_type": "code",
   "execution_count": null,
   "id": "d8db58ef",
   "metadata": {},
   "outputs": [],
   "source": [
    "id(8)"
   ]
  },
  {
   "cell_type": "code",
   "execution_count": null,
   "id": "609d38cc",
   "metadata": {},
   "outputs": [],
   "source": []
  },
  {
   "cell_type": "code",
   "execution_count": 3,
   "id": "worst-communication",
   "metadata": {},
   "outputs": [
    {
     "data": {
      "text/plain": [
       "{'__name__': '__main__',\n",
       " '__doc__': 'Automatically created module for IPython interactive environment',\n",
       " '__package__': None,\n",
       " '__loader__': None,\n",
       " '__spec__': None,\n",
       " '__builtin__': <module 'builtins' (built-in)>,\n",
       " '__builtins__': <module 'builtins' (built-in)>,\n",
       " '_ih': ['',\n",
       "  'import pandas as pd\\nimport numpy as np',\n",
       "  'globals()',\n",
       "  'globals()'],\n",
       " '_oh': {2: {...}},\n",
       " '_dh': [WindowsPath('c:/Users/marti/OneDrive/jupyter-notebooks')],\n",
       " 'In': ['',\n",
       "  'import pandas as pd\\nimport numpy as np',\n",
       "  'globals()',\n",
       "  'globals()'],\n",
       " 'Out': {2: {...}},\n",
       " 'get_ipython': <bound method InteractiveShell.get_ipython of <ipykernel.zmqshell.ZMQInteractiveShell object at 0x000001DC707843D0>>,\n",
       " 'exit': <IPython.core.autocall.ZMQExitAutocall at 0x1dc70784a30>,\n",
       " 'quit': <IPython.core.autocall.ZMQExitAutocall at 0x1dc70784a30>,\n",
       " '_': {...},\n",
       " '__': '',\n",
       " '___': '',\n",
       " 'os': <module 'os' from 'd:\\\\conda\\\\lib\\\\os.py'>,\n",
       " 'sys': <module 'sys' (built-in)>,\n",
       " '__vsc_ipynb_file__': 'c:\\\\Users\\\\marti\\\\OneDrive\\\\jupyter-notebooks\\\\pandas-1.ipynb',\n",
       " '_i': 'globals()',\n",
       " '_ii': 'import pandas as pd\\nimport numpy as np',\n",
       " '_iii': '',\n",
       " '_i1': 'import pandas as pd\\nimport numpy as np',\n",
       " 'pd': <module 'pandas' from 'd:\\\\conda\\\\lib\\\\site-packages\\\\pandas\\\\__init__.py'>,\n",
       " 'np': <module 'numpy' from 'd:\\\\conda\\\\lib\\\\site-packages\\\\numpy\\\\__init__.py'>,\n",
       " '_i2': 'globals()',\n",
       " '_2': {...},\n",
       " '_i3': 'globals()'}"
      ]
     },
     "execution_count": 3,
     "metadata": {},
     "output_type": "execute_result"
    }
   ],
   "source": [
    "globals()"
   ]
  },
  {
   "cell_type": "code",
   "execution_count": 4,
   "id": "intense-cargo",
   "metadata": {},
   "outputs": [
    {
     "data": {
      "text/plain": [
       "['',\n",
       " 'import pandas as pd\\nimport numpy as np',\n",
       " 'globals()',\n",
       " 'globals()',\n",
       " '_ih']"
      ]
     },
     "execution_count": 4,
     "metadata": {},
     "output_type": "execute_result"
    }
   ],
   "source": [
    "_ih"
   ]
  },
  {
   "cell_type": "code",
   "execution_count": null,
   "id": "express-edmonton",
   "metadata": {},
   "outputs": [],
   "source": []
  },
  {
   "cell_type": "code",
   "execution_count": 5,
   "id": "surprised-confidentiality",
   "metadata": {},
   "outputs": [
    {
     "data": {
      "text/plain": [
       "0          BooleanDtype\n",
       "1           Categorical\n",
       "2      CategoricalDtype\n",
       "3      CategoricalIndex\n",
       "4             DataFrame\n",
       "             ...       \n",
       "136             tseries\n",
       "137              unique\n",
       "138                util\n",
       "139        value_counts\n",
       "140        wide_to_long\n",
       "Length: 141, dtype: object"
      ]
     },
     "execution_count": 5,
     "metadata": {},
     "output_type": "execute_result"
    }
   ],
   "source": [
    "pd.Series(dir(pd))"
   ]
  },
  {
   "cell_type": "code",
   "execution_count": null,
   "id": "commercial-filing",
   "metadata": {},
   "outputs": [],
   "source": []
  },
  {
   "cell_type": "code",
   "execution_count": 6,
   "id": "continent-charter",
   "metadata": {},
   "outputs": [],
   "source": [
    "seri=pd.Series(dir(pd))"
   ]
  },
  {
   "cell_type": "code",
   "execution_count": 7,
   "id": "small-tribune",
   "metadata": {},
   "outputs": [],
   "source": [
    "seri=pd.Series(globals())"
   ]
  },
  {
   "cell_type": "code",
   "execution_count": 8,
   "id": "surprising-alloy",
   "metadata": {},
   "outputs": [
    {
     "ename": "NameError",
     "evalue": "name 'dfa' is not defined",
     "output_type": "error",
     "traceback": [
      "\u001b[1;31m---------------------------------------------------------------------------\u001b[0m",
      "\u001b[1;31mNameError\u001b[0m                                 Traceback (most recent call last)",
      "\u001b[1;32mc:\\Users\\marti\\OneDrive\\jupyter-notebooks\\pandas-1.ipynb Cell 9\u001b[0m in \u001b[0;36m<cell line: 1>\u001b[1;34m()\u001b[0m\n\u001b[1;32m----> <a href='vscode-notebook-cell:/c%3A/Users/marti/OneDrive/jupyter-notebooks/pandas-1.ipynb#ch0000008?line=0'>1</a>\u001b[0m seri\u001b[39m=\u001b[39mdfa\u001b[39m.\u001b[39mli\n",
      "\u001b[1;31mNameError\u001b[0m: name 'dfa' is not defined"
     ]
    }
   ],
   "source": [
    "seri=dfa.li"
   ]
  },
  {
   "cell_type": "code",
   "execution_count": 10,
   "id": "maritime-witness",
   "metadata": {},
   "outputs": [],
   "source": [
    "seri=pd.Series(_ih)"
   ]
  },
  {
   "cell_type": "code",
   "execution_count": 11,
   "id": "chicken-intention",
   "metadata": {},
   "outputs": [
    {
     "data": {
      "text/plain": [
       "0                                            \n",
       "1     import pandas as pd\\nimport numpy as np\n",
       "2                                   globals()\n",
       "3                                   globals()\n",
       "4                                         _ih\n",
       "5                          pd.Series(dir(pd))\n",
       "6                     seri=pd.Series(dir(pd))\n",
       "7                   seri=pd.Series(globals())\n",
       "8                                 seri=dfa.li\n",
       "9                         seri=pd.Series(_ih)\n",
       "10                        seri=pd.Series(_ih)\n",
       "dtype: object"
      ]
     },
     "execution_count": 11,
     "metadata": {},
     "output_type": "execute_result"
    }
   ],
   "source": [
    "seri"
   ]
  },
  {
   "cell_type": "code",
   "execution_count": 12,
   "id": "universal-cleaners",
   "metadata": {},
   "outputs": [
    {
     "data": {
      "text/plain": [
       "6       seri=pd.Series(dir(pd))\n",
       "7     seri=pd.Series(globals())\n",
       "8                   seri=dfa.li\n",
       "9           seri=pd.Series(_ih)\n",
       "10          seri=pd.Series(_ih)\n",
       "dtype: object"
      ]
     },
     "execution_count": 12,
     "metadata": {},
     "output_type": "execute_result"
    }
   ],
   "source": [
    "seri[seri.str.contains('seri[=]')]"
   ]
  },
  {
   "cell_type": "code",
   "execution_count": 13,
   "id": "compressed-planning",
   "metadata": {},
   "outputs": [
    {
     "data": {
      "text/plain": [
       "6       seri=pd.Series(dir(pd))\n",
       "7     seri=pd.Series(globals())\n",
       "8                   seri=dfa.li\n",
       "9           seri=pd.Series(_ih)\n",
       "10          seri=pd.Series(_ih)\n",
       "dtype: object"
      ]
     },
     "execution_count": 13,
     "metadata": {},
     "output_type": "execute_result"
    }
   ],
   "source": [
    "seri[seri.str.contains('^ser')]"
   ]
  },
  {
   "cell_type": "code",
   "execution_count": null,
   "id": "heated-cooperation",
   "metadata": {},
   "outputs": [],
   "source": []
  },
  {
   "cell_type": "code",
   "execution_count": 14,
   "id": "present-paris",
   "metadata": {
    "collapsed": true,
    "jupyter": {
     "outputs_hidden": true
    }
   },
   "outputs": [
    {
     "data": {
      "text/plain": [
       "['',\n",
       " 'import pandas as pd\\nimport numpy as np',\n",
       " 'globals()',\n",
       " 'globals()',\n",
       " '_ih',\n",
       " 'pd.Series(dir(pd))',\n",
       " 'seri=pd.Series(dir(pd))',\n",
       " 'seri=pd.Series(globals())',\n",
       " 'seri=dfa.li',\n",
       " 'seri=pd.Series(_ih)',\n",
       " 'seri=pd.Series(_ih)',\n",
       " 'seri',\n",
       " \"seri[seri.str.contains('seri[=]')]\",\n",
       " \"seri[seri.str.contains('^ser')]\",\n",
       " '_ih']"
      ]
     },
     "execution_count": 14,
     "metadata": {},
     "output_type": "execute_result"
    }
   ],
   "source": [
    "_ih"
   ]
  },
  {
   "cell_type": "code",
   "execution_count": null,
   "id": "steady-state",
   "metadata": {},
   "outputs": [],
   "source": []
  },
  {
   "cell_type": "code",
   "execution_count": null,
   "id": "automotive-sharing",
   "metadata": {},
   "outputs": [],
   "source": []
  },
  {
   "cell_type": "code",
   "execution_count": 18,
   "id": "representative-assistant",
   "metadata": {},
   "outputs": [
    {
     "data": {
      "text/plain": [
       "['__annotations__',\n",
       " '__class__',\n",
       " '__delattr__',\n",
       " '__dict__',\n",
       " '__dir__',\n",
       " '__doc__',\n",
       " '__eq__',\n",
       " '__format__',\n",
       " '__frozen',\n",
       " '__ge__',\n",
       " '__getattribute__',\n",
       " '__getitem__',\n",
       " '__gt__',\n",
       " '__hash__',\n",
       " '__init__',\n",
       " '__init_subclass__',\n",
       " '__iter__',\n",
       " '__le__',\n",
       " '__lt__',\n",
       " '__module__',\n",
       " '__ne__',\n",
       " '__new__',\n",
       " '__reduce__',\n",
       " '__reduce_ex__',\n",
       " '__repr__',\n",
       " '__setattr__',\n",
       " '__sizeof__',\n",
       " '__str__',\n",
       " '__subclasshook__',\n",
       " '__weakref__',\n",
       " '_data',\n",
       " '_doc_args',\n",
       " '_freeze',\n",
       " '_get_series_list',\n",
       " '_index',\n",
       " '_inferred_dtype',\n",
       " '_is_categorical',\n",
       " '_is_string',\n",
       " '_name',\n",
       " '_orig',\n",
       " '_parent',\n",
       " '_validate',\n",
       " '_wrap_result',\n",
       " 'capitalize',\n",
       " 'casefold',\n",
       " 'cat',\n",
       " 'center',\n",
       " 'contains',\n",
       " 'count',\n",
       " 'decode',\n",
       " 'encode',\n",
       " 'endswith',\n",
       " 'extract',\n",
       " 'extractall',\n",
       " 'find',\n",
       " 'findall',\n",
       " 'fullmatch',\n",
       " 'get',\n",
       " 'get_dummies',\n",
       " 'index',\n",
       " 'isalnum',\n",
       " 'isalpha',\n",
       " 'isdecimal',\n",
       " 'isdigit',\n",
       " 'islower',\n",
       " 'isnumeric',\n",
       " 'isspace',\n",
       " 'istitle',\n",
       " 'isupper',\n",
       " 'join',\n",
       " 'len',\n",
       " 'ljust',\n",
       " 'lower',\n",
       " 'lstrip',\n",
       " 'match',\n",
       " 'normalize',\n",
       " 'pad',\n",
       " 'partition',\n",
       " 'removeprefix',\n",
       " 'removesuffix',\n",
       " 'repeat',\n",
       " 'replace',\n",
       " 'rfind',\n",
       " 'rindex',\n",
       " 'rjust',\n",
       " 'rpartition',\n",
       " 'rsplit',\n",
       " 'rstrip',\n",
       " 'slice',\n",
       " 'slice_replace',\n",
       " 'split',\n",
       " 'startswith',\n",
       " 'strip',\n",
       " 'swapcase',\n",
       " 'title',\n",
       " 'translate',\n",
       " 'upper',\n",
       " 'wrap',\n",
       " 'zfill']"
      ]
     },
     "execution_count": 18,
     "metadata": {},
     "output_type": "execute_result"
    }
   ],
   "source": [
    "dir(seri.str)"
   ]
  },
  {
   "cell_type": "code",
   "execution_count": 16,
   "id": "senior-wednesday",
   "metadata": {},
   "outputs": [
    {
     "ename": "NameError",
     "evalue": "name 'df1' is not defined",
     "output_type": "error",
     "traceback": [
      "\u001b[1;31m---------------------------------------------------------------------------\u001b[0m",
      "\u001b[1;31mNameError\u001b[0m                                 Traceback (most recent call last)",
      "\u001b[1;32mc:\\Users\\marti\\OneDrive\\jupyter-notebooks\\pandas-1.ipynb Cell 19\u001b[0m in \u001b[0;36m<cell line: 1>\u001b[1;34m()\u001b[0m\n\u001b[1;32m----> <a href='vscode-notebook-cell:/c%3A/Users/marti/OneDrive/jupyter-notebooks/pandas-1.ipynb#ch0000018?line=0'>1</a>\u001b[0m df1\u001b[39m.\u001b[39mcolumns\n",
      "\u001b[1;31mNameError\u001b[0m: name 'df1' is not defined"
     ]
    }
   ],
   "source": [
    "df1.columns"
   ]
  },
  {
   "cell_type": "code",
   "execution_count": null,
   "id": "charming-federation",
   "metadata": {},
   "outputs": [],
   "source": []
  },
  {
   "cell_type": "code",
   "execution_count": null,
   "id": "brilliant-television",
   "metadata": {},
   "outputs": [],
   "source": []
  },
  {
   "cell_type": "code",
   "execution_count": null,
   "id": "digital-train",
   "metadata": {},
   "outputs": [],
   "source": [
    "pd.DataFrame(dir(pd))"
   ]
  },
  {
   "cell_type": "code",
   "execution_count": null,
   "id": "empirical-network",
   "metadata": {},
   "outputs": [],
   "source": []
  },
  {
   "cell_type": "code",
   "execution_count": null,
   "id": "solar-driving",
   "metadata": {},
   "outputs": [],
   "source": [
    "dir(pd)"
   ]
  },
  {
   "cell_type": "code",
   "execution_count": null,
   "id": "worse-assignment",
   "metadata": {},
   "outputs": [],
   "source": [
    "dtype1= {'c': np.int32 , 'x': np.float64 } #, dtype=dtype1"
   ]
  },
  {
   "cell_type": "code",
   "execution_count": null,
   "id": "imported-terminology",
   "metadata": {},
   "outputs": [],
   "source": [
    "dfa=pd.read_csv('f3-of-f234.csv',sep=',',names=['li']) #,,skipinitialspace=True)"
   ]
  },
  {
   "cell_type": "code",
   "execution_count": null,
   "id": "alternative-assembly",
   "metadata": {},
   "outputs": [],
   "source": [
    "# not strange ... just right aligned"
   ]
  },
  {
   "cell_type": "code",
   "execution_count": null,
   "id": "aggregate-district",
   "metadata": {},
   "outputs": [],
   "source": [
    "notstrange1=dfa.li.str.replace(' ','------')"
   ]
  },
  {
   "cell_type": "code",
   "execution_count": null,
   "id": "expressed-petroleum",
   "metadata": {},
   "outputs": [],
   "source": [
    "notstrange1"
   ]
  },
  {
   "cell_type": "code",
   "execution_count": null,
   "id": "threaded-phrase",
   "metadata": {},
   "outputs": [],
   "source": [
    "notstrange1.to_csv('s1')"
   ]
  },
  {
   "cell_type": "code",
   "execution_count": null,
   "id": "regular-berkeley",
   "metadata": {},
   "outputs": [],
   "source": [
    "notstrange1.to_frame('s1')"
   ]
  },
  {
   "cell_type": "code",
   "execution_count": null,
   "id": "proud-compiler",
   "metadata": {},
   "outputs": [],
   "source": [
    "notstrange1.to_list()"
   ]
  },
  {
   "cell_type": "code",
   "execution_count": null,
   "id": "related-classics",
   "metadata": {},
   "outputs": [],
   "source": [
    "notstrange1.to_numpy()"
   ]
  },
  {
   "cell_type": "code",
   "execution_count": null,
   "id": "thermal-smell",
   "metadata": {},
   "outputs": [],
   "source": [
    "notstrange1.to_string()"
   ]
  },
  {
   "cell_type": "code",
   "execution_count": null,
   "id": "educated-force",
   "metadata": {},
   "outputs": [],
   "source": []
  },
  {
   "cell_type": "code",
   "execution_count": null,
   "id": "convertible-wallpaper",
   "metadata": {},
   "outputs": [],
   "source": []
  },
  {
   "cell_type": "code",
   "execution_count": null,
   "id": "suited-relationship",
   "metadata": {},
   "outputs": [],
   "source": []
  },
  {
   "cell_type": "code",
   "execution_count": null,
   "id": "standing-bread",
   "metadata": {},
   "outputs": [],
   "source": []
  },
  {
   "cell_type": "code",
   "execution_count": null,
   "id": "correct-bailey",
   "metadata": {},
   "outputs": [],
   "source": [
    "dfa.li.str.replace(' ','-----')"
   ]
  },
  {
   "cell_type": "code",
   "execution_count": null,
   "id": "scenic-instruction",
   "metadata": {},
   "outputs": [],
   "source": []
  },
  {
   "cell_type": "code",
   "execution_count": null,
   "id": "awful-chest",
   "metadata": {},
   "outputs": [],
   "source": [
    "dfa.li.str.replace('\\t','------')"
   ]
  },
  {
   "cell_type": "code",
   "execution_count": null,
   "id": "powerful-blast",
   "metadata": {},
   "outputs": [],
   "source": []
  },
  {
   "cell_type": "code",
   "execution_count": null,
   "id": "dominican-result",
   "metadata": {},
   "outputs": [],
   "source": []
  },
  {
   "cell_type": "code",
   "execution_count": null,
   "id": "horizontal-procurement",
   "metadata": {},
   "outputs": [],
   "source": []
  },
  {
   "cell_type": "code",
   "execution_count": null,
   "id": "victorian-western",
   "metadata": {},
   "outputs": [],
   "source": []
  },
  {
   "cell_type": "code",
   "execution_count": null,
   "id": "competent-bhutan",
   "metadata": {},
   "outputs": [],
   "source": [
    "df1=pd.read_csv('f3-of-f234.csv',sep=' ',names=['c','x'],skipinitialspace=True)"
   ]
  },
  {
   "cell_type": "code",
   "execution_count": null,
   "id": "crucial-yacht",
   "metadata": {},
   "outputs": [],
   "source": [
    "(10*df1).round()/10"
   ]
  },
  {
   "cell_type": "code",
   "execution_count": null,
   "id": "facial-reform",
   "metadata": {},
   "outputs": [],
   "source": []
  },
  {
   "cell_type": "code",
   "execution_count": null,
   "id": "contrary-manufacturer",
   "metadata": {},
   "outputs": [],
   "source": [
    "df1.eval('y=floor(10*x)/10', inplace=True)"
   ]
  },
  {
   "cell_type": "code",
   "execution_count": null,
   "id": "available-daughter",
   "metadata": {},
   "outputs": [],
   "source": [
    "df11=df1"
   ]
  },
  {
   "cell_type": "code",
   "execution_count": null,
   "id": "simple-crystal",
   "metadata": {},
   "outputs": [],
   "source": [
    "df1.drop(columns=['x'],inplace=True)"
   ]
  },
  {
   "cell_type": "code",
   "execution_count": null,
   "id": "cleared-trash",
   "metadata": {},
   "outputs": [],
   "source": [
    "df12=df1"
   ]
  },
  {
   "cell_type": "code",
   "execution_count": null,
   "id": "likely-encounter",
   "metadata": {},
   "outputs": [],
   "source": [
    "df3=df1.groupby(by=['y']).sum()"
   ]
  },
  {
   "cell_type": "code",
   "execution_count": null,
   "id": "current-poker",
   "metadata": {},
   "outputs": [],
   "source": [
    "df3.to_csv('f3-of-f234-groupby.csv')"
   ]
  },
  {
   "cell_type": "code",
   "execution_count": null,
   "id": "handy-midnight",
   "metadata": {},
   "outputs": [],
   "source": []
  },
  {
   "cell_type": "code",
   "execution_count": null,
   "id": "frank-broadway",
   "metadata": {},
   "outputs": [],
   "source": []
  },
  {
   "cell_type": "code",
   "execution_count": null,
   "id": "removable-parish",
   "metadata": {},
   "outputs": [],
   "source": [
    "df1 = pd.DataFrame({'lkey': ['foo', 'bar', 'baz', 'foo'],\n",
    "                    'value': [1, 2, 3, 5]})\n",
    "df2 = pd.DataFrame({'rkey': ['foo', 'bar', 'baz', 'foo'],\n",
    "                    'value': [5, 6, 7, 8]})"
   ]
  },
  {
   "cell_type": "code",
   "execution_count": null,
   "id": "crucial-principal",
   "metadata": {},
   "outputs": [],
   "source": [
    "df1"
   ]
  },
  {
   "cell_type": "code",
   "execution_count": null,
   "id": "overall-healthcare",
   "metadata": {},
   "outputs": [],
   "source": [
    "dir(df1)\n"
   ]
  },
  {
   "cell_type": "code",
   "execution_count": null,
   "id": "dependent-brave",
   "metadata": {},
   "outputs": [],
   "source": [
    "df1.describe()"
   ]
  },
  {
   "cell_type": "code",
   "execution_count": null,
   "id": "stuffed-trance",
   "metadata": {},
   "outputs": [],
   "source": [
    "df1.info()"
   ]
  },
  {
   "cell_type": "code",
   "execution_count": null,
   "id": "emotional-requirement",
   "metadata": {},
   "outputs": [],
   "source": [
    "df1.lkey"
   ]
  },
  {
   "cell_type": "code",
   "execution_count": null,
   "id": "alike-designer",
   "metadata": {},
   "outputs": [],
   "source": [
    "dir(df1.x)"
   ]
  },
  {
   "cell_type": "code",
   "execution_count": null,
   "id": "correct-gnome",
   "metadata": {
    "scrolled": true
   },
   "outputs": [],
   "source": [
    "dir(np)"
   ]
  },
  {
   "cell_type": "code",
   "execution_count": null,
   "id": "skilled-tamil",
   "metadata": {},
   "outputs": [],
   "source": [
    "se=pd.Series([\"a\", \"b\", \"c\"])"
   ]
  },
  {
   "cell_type": "code",
   "execution_count": null,
   "id": "later-indie",
   "metadata": {},
   "outputs": [],
   "source": [
    "se.str.upper()"
   ]
  },
  {
   "cell_type": "code",
   "execution_count": null,
   "id": "annual-biology",
   "metadata": {},
   "outputs": [],
   "source": [
    "df.columns"
   ]
  },
  {
   "cell_type": "code",
   "execution_count": null,
   "id": "stuck-america",
   "metadata": {},
   "outputs": [],
   "source": []
  },
  {
   "cell_type": "code",
   "execution_count": null,
   "id": "mexican-facing",
   "metadata": {},
   "outputs": [],
   "source": []
  },
  {
   "cell_type": "code",
   "execution_count": null,
   "id": "funky-calvin",
   "metadata": {},
   "outputs": [],
   "source": []
  }
 ],
 "metadata": {
  "kernelspec": {
   "display_name": "Python 3 (ipykernel)",
   "language": "python",
   "name": "python3"
  },
  "language_info": {
   "codemirror_mode": {
    "name": "ipython",
    "version": 3
   },
   "file_extension": ".py",
   "mimetype": "text/x-python",
   "name": "python",
   "nbconvert_exporter": "python",
   "pygments_lexer": "ipython3",
   "version": "3.10.10"
  },
  "vscode": {
   "interpreter": {
    "hash": "a04f5d07b0747026a8fbcdf50b9443318e69b1b8bd6247d88bfadb4789282972"
   }
  }
 },
 "nbformat": 4,
 "nbformat_minor": 5
}
