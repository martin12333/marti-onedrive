{
 "cells": [
  {
   "cell_type": "code",
   "execution_count": 2,
   "metadata": {
    "dotnet_interactive": {
     "language": "pwsh"
    },
    "polyglot_notebook": {
     "kernelName": "pwsh"
    }
   },
   "outputs": [
    {
     "name": "stdout",
     "output_type": "stream",
     "text": [
      "\u001b[31;1mNew-Item: \u001b[31;1mAn item with the specified name D:\\umarti\\246-du64 already exists.\u001b[0m\r\n"
     ]
    }
   ],
   "source": [
    "mkdir D:\\umarti\\246-du64\n"
   ]
  },
  {
   "cell_type": "code",
   "execution_count": 3,
   "metadata": {
    "dotnet_interactive": {
     "language": "pwsh"
    },
    "polyglot_notebook": {
     "kernelName": "pwsh"
    }
   },
   "outputs": [
    {
     "name": "stdout",
     "output_type": "stream",
     "text": [
      "The DiskUsage utility requires that you have administrative privileges.\n",
      "The DiskUsage utility requires that you have administrative privileges.\n"
     ]
    }
   ],
   "source": [
    "\n",
    "diskusage.exe /a   /h   /t:10\n",
    "diskusage.exe   /h   /t:10   C:\\Users\\marti\\OneDrive\n",
    "\n"
   ]
  },
  {
   "cell_type": "code",
   "execution_count": null,
   "metadata": {
    "dotnet_interactive": {
     "language": "pwsh"
    },
    "polyglot_notebook": {
     "kernelName": "pwsh"
    }
   },
   "outputs": [],
   "source": []
  },
  {
   "cell_type": "code",
   "execution_count": 4,
   "metadata": {
    "dotnet_interactive": {
     "language": "pwsh"
    },
    "polyglot_notebook": {
     "kernelName": "pwsh"
    }
   },
   "outputs": [],
   "source": [
    "# spust hned, trva dlho\n"
   ]
  },
  {
   "cell_type": "code",
   "execution_count": 6,
   "metadata": {
    "dotnet_interactive": {
     "language": "pwsh"
    },
    "polyglot_notebook": {
     "kernelName": "pwsh"
    }
   },
   "outputs": [
    {
     "name": "stdout",
     "output_type": "stream",
     "text": [
      "C:\\u\\du-m-mar.sort\n",
      "C:\\u\\bOLDOLD---------OLD\\du-m - Copy.txt\n",
      "C:\\u\\bOLDOLD---------OLD\\d-conda-old\\du-m - Copy (2).txt\n",
      "C:\\u\\bOLDOLD---------OLD\\d-conda-old\\du-m - Copy.txt\n",
      "C:\\u\\bOLDOLD---------OLD\\d-conda-old\\du-m.txt\n",
      "C:\\u\\busytex\\dist\\ALMA246g\\var\\www\\du-m.txt\n",
      "C:\\u\\OneDrive\\alma-233c\\var\\www\\du-m.txt\n",
      "C:\\u\\OneDrive\\conda-dotfiles\\d-conda\\du-m-conda.sort\n",
      "C:\\u\\OneDrive\\conda-dotfiles\\old\\du-m - Copy (2).txt\n",
      "C:\\u\\OneDrive\\conda-dotfiles\\old\\du-m.txt\n",
      "C:\\Users\\marti\\du-m-mar.sort\n",
      "C:\\Users\\marti\\bOLDOLD---------OLD\\du-m - Copy.txt\n",
      "C:\\Users\\marti\\bOLDOLD---------OLD\\d-conda-old\\du-m - Copy (2).txt\n",
      "C:\\Users\\marti\\bOLDOLD---------OLD\\d-conda-old\\du-m - Copy.txt\n",
      "C:\\Users\\marti\\bOLDOLD---------OLD\\d-conda-old\\du-m.txt\n",
      "C:\\Users\\marti\\busytex\\dist\\ALMA246g\\var\\www\\du-m.txt\n",
      "C:\\Users\\marti\\OneDrive\\alma-233c\\var\\www\\du-m.txt\n",
      "C:\\Users\\marti\\OneDrive\\conda-dotfiles\\d-conda\\du-m-conda.sort\n",
      "C:\\Users\\marti\\OneDrive\\conda-dotfiles\\old\\du-m - Copy (2).txt\n",
      "C:\\Users\\marti\\OneDrive\\conda-dotfiles\\old\\du-m.txt\n"
     ]
    }
   ],
   "source": [
    "\n",
    "cd D:\\umarti\n",
    "cd 'D:\\A,SMAZAT-V-NOUZI'\n",
    "cd 'D:\\'    #  50s\n",
    "cd 'c:\\'    #  7  min 3  junctio?\n",
    "cmd /c dir /b /s  *du-m*\n",
    "\n"
   ]
  },
  {
   "cell_type": "code",
   "execution_count": null,
   "metadata": {
    "dotnet_interactive": {
     "language": "value"
    },
    "polyglot_notebook": {
     "kernelName": "value"
    }
   },
   "outputs": [],
   "source": [
    "C:\\u\\du-m-mar.sort\n",
    "C:\\u\\bOLDOLD---------OLD\\du-m - Copy.txt\n",
    "C:\\u\\bOLDOLD---------OLD\\d-conda-old\\du-m - Copy (2).txt\n",
    "C:\\u\\bOLDOLD---------OLD\\d-conda-old\\du-m - Copy.txt\n",
    "C:\\u\\bOLDOLD---------OLD\\d-conda-old\\du-m.txt\n",
    "\n",
    "cmd\n",
    "dir C:\\u\\busytex\\dist\\ALMA246g\\var\\www\\du-m.txt\n",
    "dir C:\\u\\busytex\\dist\\ALMA246g\n",
    "dir C:\\u\\busytex\\dist\\\n",
    "dir C:\\u\\busytex\\dist\n",
    "dir C:\\u\\busytex\\\n",
    "# downloads\n",
    "exit\n",
    "bash\n",
    "#ls -latr 'C:\\u\\busytex\\dist/'\n",
    "cmd /c dir d:\\umarti\\dow*\n",
    "\n",
    "C:\\u\\OneDrive\\alma-233c\\var\\www\\du-m.txt\n",
    "C:\\u\\OneDrive\\conda-dotfiles\\d-conda\\du-m-conda.sort\n",
    "C:\\u\\OneDrive\\conda-dotfiles\\old\\du-m - Copy (2).txt\n",
    "C:\\u\\OneDrive\\conda-dotfiles\\old\\du-m.txt\n",
    "\n",
    "C:\\Users\\marti\\du-m-mar.sort\n",
    "C:\\Users\\marti\\bOLDOLD---------OLD\\du-m - Copy.txt\n",
    "C:\\Users\\marti\\bOLDOLD---------OLD\\d-conda-old\\du-m - Copy (2).txt\n",
    "C:\\Users\\marti\\bOLDOLD---------OLD\\d-conda-old\\du-m - Copy.txt\n",
    "C:\\Users\\marti\\bOLDOLD---------OLD\\d-conda-old\\du-m.txt\n",
    "C:\\Users\\marti\\busytex\\dist\\ALMA246g\\var\\www\\du-m.txt\n",
    "C:\\Users\\marti\\OneDrive\\alma-233c\\var\\www\\du-m.txt\n",
    "C:\\Users\\marti\\OneDrive\\conda-dotfiles\\d-conda\\du-m-conda.sort\n",
    "C:\\Users\\marti\\OneDrive\\conda-dotfiles\\old\\du-m - Copy (2).txt\n",
    "C:\\Users\\marti\\OneDrive\\conda-dotfiles\\old\\du-m.txt"
   ]
  },
  {
   "cell_type": "code",
   "execution_count": null,
   "metadata": {
    "dotnet_interactive": {
     "language": "pwsh"
    },
    "polyglot_notebook": {
     "kernelName": "pwsh"
    }
   },
   "outputs": [],
   "source": []
  }
 ],
 "metadata": {
  "kernelspec": {
   "display_name": ".NET (PowerShell)",
   "language": "PowerShell",
   "name": ".net-pwsh"
  },
  "language_info": {
   "name": "polyglot-notebook"
  },
  "polyglot_notebook": {
   "kernelInfo": {
    "defaultKernelName": "pwsh",
    "items": [
     {
      "aliases": [],
      "languageName": "pwsh",
      "name": "pwsh"
     }
    ]
   }
  }
 },
 "nbformat": 4,
 "nbformat_minor": 2
}
