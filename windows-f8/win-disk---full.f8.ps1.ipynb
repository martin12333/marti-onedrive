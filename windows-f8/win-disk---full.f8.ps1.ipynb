{
 "cells": [
  {
   "cell_type": "code",
   "execution_count": 2,
   "metadata": {
    "dotnet_interactive": {
     "language": "pwsh"
    },
    "polyglot_notebook": {
     "kernelName": "pwsh"
    }
   },
   "outputs": [
    {
     "name": "stdout",
     "output_type": "stream",
     "text": [
      "\u001b[31;1mNew-Item: \u001b[31;1mAn item with the specified name D:\\umarti\\246-du64 already exists.\u001b[0m\r\n"
     ]
    }
   ],
   "source": [
    "mkdir D:\\umarti\\246-du64\n"
   ]
  },
  {
   "cell_type": "code",
   "execution_count": 3,
   "metadata": {
    "dotnet_interactive": {
     "language": "pwsh"
    },
    "polyglot_notebook": {
     "kernelName": "pwsh"
    }
   },
   "outputs": [
    {
     "name": "stdout",
     "output_type": "stream",
     "text": [
      "The DiskUsage utility requires that you have administrative privileges.\n",
      "The DiskUsage utility requires that you have administrative privileges.\n"
     ]
    }
   ],
   "source": [
    "\n",
    "diskusage.exe /a   /h   /t:10\n",
    "diskusage.exe   /h   /t:10   C:\\Users\\marti\\OneDrive\n",
    "\n"
   ]
  },
  {
   "cell_type": "code",
   "execution_count": null,
   "metadata": {
    "dotnet_interactive": {
     "language": "pwsh"
    },
    "polyglot_notebook": {
     "kernelName": "pwsh"
    }
   },
   "outputs": [],
   "source": []
  },
  {
   "cell_type": "code",
   "execution_count": 4,
   "metadata": {
    "dotnet_interactive": {
     "language": "pwsh"
    },
    "polyglot_notebook": {
     "kernelName": "pwsh"
    }
   },
   "outputs": [],
   "source": [
    "# spust hned, trva dlho\n"
   ]
  },
  {
   "cell_type": "code",
   "execution_count": 2,
   "metadata": {
    "dotnet_interactive": {
     "language": "pwsh"
    },
    "polyglot_notebook": {
     "kernelName": "pwsh"
    }
   },
   "outputs": [
    {
     "name": "stdout",
     "output_type": "stream",
     "text": [
      ".NET SDK:\n",
      " Version:           8.0.204\n",
      " Commit:            c338c7548c\n",
      " Workload version:  8.0.200-manifests.7d36c14f\n",
      "\n",
      "Runtime Environment:\n",
      " OS Name:     Windows\n",
      " OS Version:  10.0.22631\n",
      " OS Platform: Windows\n",
      " RID:         win-x64\n",
      " Base Path:   C:\\Program Files\\dotnet\\sdk\\8.0.204\\\n",
      "\n",
      ".NET workloads installed:\n",
      "There are no installed workloads to display.\n",
      "\n",
      "Host:\n",
      "  Version:      8.0.4\n",
      "  Architecture: x64\n",
      "  Commit:       2d7eea2529\n",
      "\n",
      ".NET SDKs installed:\n",
      "  6.0.109 [C:\\Program Files\\dotnet\\sdk]\n",
      "  8.0.204 [C:\\Program Files\\dotnet\\sdk]\n",
      "\n",
      ".NET runtimes installed:\n",
      "  Microsoft.AspNetCore.App 6.0.9 [C:\\Program Files\\dotnet\\shared\\Microsoft.AspNetCore.App]\n",
      "  Microsoft.AspNetCore.App 7.0.18 [C:\\Program Files\\dotnet\\shared\\Microsoft.AspNetCore.App]\n",
      "  Microsoft.AspNetCore.App 8.0.4 [C:\\Program Files\\dotnet\\shared\\Microsoft.AspNetCore.App]\n",
      "  Microsoft.NETCore.App 3.1.29 [C:\\Program Files\\dotnet\\shared\\Microsoft.NETCore.App]\n",
      "  Microsoft.NETCore.App 6.0.9 [C:\\Program Files\\dotnet\\shared\\Microsoft.NETCore.App]\n",
      "  Microsoft.NETCore.App 7.0.18 [C:\\Program Files\\dotnet\\shared\\Microsoft.NETCore.App]\n",
      "  Microsoft.NETCore.App 8.0.4 [C:\\Program Files\\dotnet\\shared\\Microsoft.NETCore.App]\n",
      "  Microsoft.WindowsDesktop.App 3.1.29 [C:\\Program Files\\dotnet\\shared\\Microsoft.WindowsDesktop.App]\n",
      "  Microsoft.WindowsDesktop.App 6.0.9 [C:\\Program Files\\dotnet\\shared\\Microsoft.WindowsDesktop.App]\n",
      "  Microsoft.WindowsDesktop.App 7.0.18 [C:\\Program Files\\dotnet\\shared\\Microsoft.WindowsDesktop.App]\n",
      "  Microsoft.WindowsDesktop.App 8.0.4 [C:\\Program Files\\dotnet\\shared\\Microsoft.WindowsDesktop.App]\n",
      "\n",
      "Other architectures found:\n",
      "  x86   [C:\\Program Files (x86)\\dotnet]\n",
      "    registered at [HKLM\\SOFTWARE\\dotnet\\Setup\\InstalledVersions\\x86\\InstallLocation]\n",
      "\n",
      "Environment variables:\n",
      "  Not set\n",
      "\n",
      "global.json file:\n",
      "  Not found\n",
      "\n",
      "Learn more:\n",
      "  https://aka.ms/dotnet/info\n",
      "\n",
      "Download .NET:\n",
      "  https://aka.ms/dotnet/download\n"
     ]
    }
   ],
   "source": [
    "dotnet.exe  --info\n"
   ]
  },
  {
   "cell_type": "code",
   "execution_count": 6,
   "metadata": {
    "dotnet_interactive": {
     "language": "pwsh"
    },
    "polyglot_notebook": {
     "kernelName": "pwsh"
    }
   },
   "outputs": [
    {
     "name": "stdout",
     "output_type": "stream",
     "text": [
      "C:\\u\\du-m-mar.sort\n",
      "C:\\u\\bOLDOLD---------OLD\\du-m - Copy.txt\n",
      "C:\\u\\bOLDOLD---------OLD\\d-conda-old\\du-m - Copy (2).txt\n",
      "C:\\u\\bOLDOLD---------OLD\\d-conda-old\\du-m - Copy.txt\n",
      "C:\\u\\bOLDOLD---------OLD\\d-conda-old\\du-m.txt\n",
      "C:\\u\\busytex\\dist\\ALMA246g\\var\\www\\du-m.txt\n",
      "C:\\u\\OneDrive\\alma-233c\\var\\www\\du-m.txt\n",
      "C:\\u\\OneDrive\\conda-dotfiles\\d-conda\\du-m-conda.sort\n",
      "C:\\u\\OneDrive\\conda-dotfiles\\old\\du-m - Copy (2).txt\n",
      "C:\\u\\OneDrive\\conda-dotfiles\\old\\du-m.txt\n",
      "C:\\Users\\marti\\du-m-mar.sort\n",
      "C:\\Users\\marti\\bOLDOLD---------OLD\\du-m - Copy.txt\n",
      "C:\\Users\\marti\\bOLDOLD---------OLD\\d-conda-old\\du-m - Copy (2).txt\n",
      "C:\\Users\\marti\\bOLDOLD---------OLD\\d-conda-old\\du-m - Copy.txt\n",
      "C:\\Users\\marti\\bOLDOLD---------OLD\\d-conda-old\\du-m.txt\n",
      "C:\\Users\\marti\\busytex\\dist\\ALMA246g\\var\\www\\du-m.txt\n",
      "C:\\Users\\marti\\OneDrive\\alma-233c\\var\\www\\du-m.txt\n",
      "C:\\Users\\marti\\OneDrive\\conda-dotfiles\\d-conda\\du-m-conda.sort\n",
      "C:\\Users\\marti\\OneDrive\\conda-dotfiles\\old\\du-m - Copy (2).txt\n",
      "C:\\Users\\marti\\OneDrive\\conda-dotfiles\\old\\du-m.txt\n"
     ]
    }
   ],
   "source": [
    "\n",
    "cd D:\\umarti\n",
    "cd 'D:\\A,SMAZAT-V-NOUZI'\n",
    "cd 'D:\\'    #  50s\n",
    "cd 'c:\\'    #  7  min 3  junctio?\n",
    "cmd /c dir /b /s  *du-m*\n",
    "\n"
   ]
  },
  {
   "cell_type": "code",
   "execution_count": null,
   "metadata": {
    "dotnet_interactive": {
     "language": "value"
    },
    "polyglot_notebook": {
     "kernelName": "value"
    }
   },
   "outputs": [],
   "source": [
    "C:\\u\\du-m-mar.sort\n",
    "C:\\u\\bOLDOLD---------OLD\\du-m - Copy.txt\n",
    "C:\\u\\bOLDOLD---------OLD\\d-conda-old\\du-m - Copy (2).txt\n",
    "C:\\u\\bOLDOLD---------OLD\\d-conda-old\\du-m - Copy.txt\n",
    "C:\\u\\bOLDOLD---------OLD\\d-conda-old\\du-m.txt\n",
    "\n",
    "cmd\n",
    "dir C:\\u\\busytex\\dist\\ALMA246g\\var\\www\\du-m.txt\n",
    "dir C:\\u\\busytex\\dist\\ALMA246g\n",
    "dir C:\\u\\busytex\\dist\\\n",
    "dir C:\\u\\busytex\\dist\n",
    "dir C:\\u\\busytex\\\n",
    "# downloads\n",
    "exit\n",
    "bash\n",
    "#ls -latr 'C:\\u\\busytex\\dist/'\n",
    "cmd /c dir d:\\umarti\\dow*\n",
    "\n",
    "C:\\u\\OneDrive\\alma-233c\\var\\www\\du-m.txt\n",
    "C:\\u\\OneDrive\\conda-dotfiles\\d-conda\\du-m-conda.sort\n",
    "C:\\u\\OneDrive\\conda-dotfiles\\old\\du-m - Copy (2).txt\n",
    "C:\\u\\OneDrive\\conda-dotfiles\\old\\du-m.txt\n",
    "\n",
    "C:\\Users\\marti\\du-m-mar.sort\n",
    "C:\\Users\\marti\\bOLDOLD---------OLD\\du-m - Copy.txt\n",
    "C:\\Users\\marti\\bOLDOLD---------OLD\\d-conda-old\\du-m - Copy (2).txt\n",
    "C:\\Users\\marti\\bOLDOLD---------OLD\\d-conda-old\\du-m - Copy.txt\n",
    "C:\\Users\\marti\\bOLDOLD---------OLD\\d-conda-old\\du-m.txt\n",
    "C:\\Users\\marti\\busytex\\dist\\ALMA246g\\var\\www\\du-m.txt\n",
    "C:\\Users\\marti\\OneDrive\\alma-233c\\var\\www\\du-m.txt\n",
    "C:\\Users\\marti\\OneDrive\\conda-dotfiles\\d-conda\\du-m-conda.sort\n",
    "C:\\Users\\marti\\OneDrive\\conda-dotfiles\\old\\du-m - Copy (2).txt\n",
    "C:\\Users\\marti\\OneDrive\\conda-dotfiles\\old\\du-m.txt"
   ]
  },
  {
   "cell_type": "code",
   "execution_count": null,
   "metadata": {
    "dotnet_interactive": {
     "language": "pwsh"
    },
    "polyglot_notebook": {
     "kernelName": "pwsh"
    }
   },
   "outputs": [],
   "source": []
  }
 ],
 "metadata": {
  "kernelspec": {
   "display_name": ".NET (PowerShell)",
   "language": "PowerShell",
   "name": ".net-pwsh"
  },
  "language_info": {
   "name": "polyglot-notebook"
  },
  "polyglot_notebook": {
   "kernelInfo": {
    "defaultKernelName": "pwsh",
    "items": [
     {
      "aliases": [],
      "languageName": "pwsh",
      "name": "pwsh"
     }
    ]
   }
  }
 },
 "nbformat": 4,
 "nbformat_minor": 2
}
