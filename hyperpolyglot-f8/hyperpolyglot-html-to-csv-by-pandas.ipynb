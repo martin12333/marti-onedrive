{
 "cells": [
  {
   "cell_type": "markdown",
   "id": "21355e8a-ba59-4bde-8228-1e6a12daf782",
   "metadata": {},
   "source": [
    "# A Jupyter notebook to convert a hyperpolyglot.org HTML table to CSV \n"
   ]
  },
  {
   "cell_type": "markdown",
   "id": "cccf5a2e-8b6c-48ba-9102-36c2fb8ecedb",
   "metadata": {},
   "source": [
    "##### (I am a beginner in Pandas, and a false-beginner in Python)"
   ]
  },
  {
   "cell_type": "code",
   "execution_count": 8,
   "id": "f399361f",
   "metadata": {},
   "outputs": [
    {
     "name": "stderr",
     "output_type": "stream",
     "text": [
      "A subdirectory or file ../overwrite/foo already exists.\n",
      "A subdirectory or file ../overwrite/foo/../hyperpolyglot--html-backup/ already exists.\n"
     ]
    }
   ],
   "source": [
    "inputdir= '../hyperpolyglot--html-backup/'\n",
    "outputdir= '../overwrite/foo/'+  inputdir\n",
    "%mkdir  \"../overwrite/foo\"\n",
    "%mkdir  \"{outputdir}\"\n",
    "####%mkdir  ${outputdir}\n",
    "#%ls {outputdir}\n",
    "#!echo {outputdir}\n",
    "#%mkdir  \"../overwrite/foo/../hyperpolyglot--html-backup\"\n"
   ]
  },
  {
   "cell_type": "code",
   "execution_count": 12,
   "id": "7345b494",
   "metadata": {},
   "outputs": [
    {
     "name": "stdout",
     "output_type": "stream",
     "text": [
      " Volume in drive C is Windows\n",
      " Volume Serial Number is 2480-D21D\n",
      "\n",
      " Directory of C:\\Users\\marti\\OneDrive\\hyperpolyglot--html-backup\n",
      "\n",
      "08/14/2022  16:25           212,197 2Computer Algebra I_ Mathematica, SymPy, Sage, Maxima - Hyperpolyglot.html\n",
      "08/08/2023  16:18           233,063 2Numerical Analysis & Statistics_ MATLAB, R, NumPy, Julia - Hyperpolyglot.html\n",
      "08/14/2022  16:26            93,246 Build Tools_ Make, Rake, Ant, Gradle - Hyperpolyglot.html\n",
      "05/28/2022  15:48           240,884 c.html\n",
      "08/08/2022  21:30            96,981 Command Line Interpreters_ POSIX Shell, Cmd.exe, PowerShell - Hyperpolyglot.html\n",
      "08/14/2022  16:25           130,454 Computer Algebra I_ Mathematica, SymPy, Sage, Maxima - Hyperpolyglot.html\n",
      "05/28/2022  15:48            94,097 computer-algebra.html\n",
      "05/28/2022  15:48           239,179 cpp.html\n",
      "05/28/2022  15:48            74,952 data.html\n",
      "05/28/2022  15:48            23,149 distributions.html\n",
      "05/28/2022  15:48            55,417 fortran.html\n",
      "05/28/2022  15:48           122,639 gui.html\n",
      "05/28/2022  15:48            25,660 json.html\n",
      "08/10/2022  16:21            42,488 Lightweight Markup_ Markdown, reStructuredText, MediaWiki, AsciiDoc, Org-mode - Hyperpolyglot.html\n",
      "05/28/2022  15:48           216,559 lisp.html\n",
      "06/11/2017  07:23            63,758 logic.html\n",
      "05/28/2022  15:48            47,062 misc-math.html\n",
      "08/08/2022  21:30           123,250 ML Dialects and Haskell_ SML, OCaml, F#, Haskell - Hyperpolyglot.html\n",
      "06/11/2017  07:23           123,250 ml.html\n",
      "05/28/2022  15:48           195,351 more.html\n",
      "05/28/2022  15:48           124,141 more-computer-algebra.html\n",
      "05/28/2022  15:48            27,722 multiplexers.html\n",
      "08/08/2023  16:18           215,659 Numerical Analysis & Statistics_ MATLAB, R, NumPy, Julia - Hyperpolyglot.html\n",
      "05/28/2022  15:48           168,095 numerical-analysis.html\n",
      "05/28/2022  15:48           189,143 numerical-analysis2.html\n",
      "06/11/2017  07:23            71,412 pascal.html\n",
      "08/10/2022  16:20            77,640 Relational Databases_ PostgreSQL, MySQL, SQLite - Hyperpolyglot.html\n",
      "05/28/2022  15:48           129,548 rust.html\n",
      "08/08/2022  21:29           179,901 Scripting Languages I_ Node.js, Python, PHP, Ruby - 2 - Hyperpolyglot.html\n",
      "08/08/2022  21:29           275,527 Scripting Languages I_ Node.js, Python, PHP, Ruby - Hyperpolyglot.html\n",
      "08/08/2022  23:29           200,788 Scripting Languages II_ Perl, Lua, Groovy - Hyperpolyglot.html\n",
      "06/11/2017  07:23           283,313 scripting.html\n",
      "05/28/2022  15:48           184,135 scripting2.html\n",
      "05/28/2022  15:42            94,173 shell.html\n",
      "05/28/2022  15:48            57,029 stack.html\n",
      "05/28/2022  15:44             9,174 start.html\n",
      "05/28/2022  15:48           150,943 text-mode-editors.html\n",
      "08/14/2022  16:26           178,026 Unix Shells_ Bash, Fish, Ksh, Tcsh, Zsh - Hyperpolyglot.html\n",
      "05/28/2022  15:48            54,549 vector-graphics.html\n",
      "05/28/2022  15:48           117,168 version-control.html\n",
      "05/28/2022  15:48           119,291 web.html\n",
      "              41 File(s)      5,361,013 bytes\n",
      "               0 Dir(s)  13,470,597,120 bytes free\n"
     ]
    }
   ],
   "source": [
    "## https://hyperpolyglot.org/numerical-analysis2#tables\n",
    "import pandas as pd\n",
    "import csv\n",
    "import numpy as np\n",
    "\n",
    "#%ls ..\\hyperpolyglot--html-backup\\*.html\n",
    "%ls \"{inputdir}\\*.html\"\n"
   ]
  },
  {
   "cell_type": "code",
   "execution_count": 5,
   "id": "185b3b37",
   "metadata": {},
   "outputs": [],
   "source": [
    "# python js\n",
    "str1='../hyperpolyglot--html-backup/Scripting Languages I_ Node.js, Python, PHP, Ruby - Hyperpolyglot.html'\n"
   ]
  },
  {
   "cell_type": "code",
   "execution_count": 32,
   "id": "5f2d65a7",
   "metadata": {},
   "outputs": [],
   "source": [
    "# python js 2!\n",
    "str1='../hyperpolyglot--html-backup/Scripting Languages I_ Node.js, Python, PHP, Ruby - 2 - Hyperpolyglot.html'\n"
   ]
  },
  {
   "cell_type": "code",
   "execution_count": 33,
   "id": "308f961d",
   "metadata": {},
   "outputs": [],
   "source": [
    "# pwsh\n",
    "#####str1='../hyperpolyglot--html-backup/shell.html'\n",
    "str1='../hyperpolyglot--html-backup/Command Line Interpreters_ POSIX Shell, Cmd.exe, PowerShell - Hyperpolyglot.html'\n"
   ]
  },
  {
   "cell_type": "code",
   "execution_count": null,
   "id": "a0790328-fb5e-413f-a48f-417f2437f649",
   "metadata": {},
   "outputs": [],
   "source": [
    "238.8 I CANNOT REMEMBER, WHICH ARE BETTER ... (A) LONG---NAMED---.html (B) shortname.html .... but judging from this  `# pwsh` , probably (A)"
   ]
  },
  {
   "cell_type": "code",
   "execution_count": 34,
   "id": "67412c97",
   "metadata": {},
   "outputs": [],
   "source": [
    "str1='../hyperpolyglot--html-backup/ML Dialects and Haskell_ SML, OCaml, F#, Haskell - Hyperpolyglot.html'\n"
   ]
  },
  {
   "cell_type": "code",
   "execution_count": 5,
   "id": "34c9761a",
   "metadata": {},
   "outputs": [],
   "source": [
    "str1='../hyperpolyglot--html-backup/Computer Algebra I_ Mathematica, SymPy, Sage, Maxima - Hyperpolyglot.html'\n",
    "str1='../hyperpolyglot--html-backup/2Computer Algebra I_ Mathematica, SymPy, Sage, Maxima - Hyperpolyglot.html'\n"
   ]
  },
  {
   "cell_type": "code",
   "execution_count": 21,
   "id": "0c988e88-9027-4967-b242-d7e5011267e6",
   "metadata": {},
   "outputs": [],
   "source": [
    "str1='../hyperpolyglot--html-backup/Numerical Analysis & Statistics_ MATLAB, R, NumPy, Julia - Hyperpolyglot.html'\n",
    "str1='../hyperpolyglot--html-backup/2Numerical Analysis & Statistics_ MATLAB, R, NumPy, Julia - Hyperpolyglot.html'\n"
   ]
  },
  {
   "cell_type": "code",
   "execution_count": 36,
   "id": "0b45a969",
   "metadata": {},
   "outputs": [],
   "source": [
    "str1='../hyperpolyglot--html-backup/lisp.html'\n"
   ]
  },
  {
   "cell_type": "code",
   "execution_count": 37,
   "id": "6de5a326",
   "metadata": {},
   "outputs": [],
   "source": [
    "# emacs\n",
    "str1='../hyperpolyglot--html-backup/text-mode-editors.html'\n"
   ]
  },
  {
   "cell_type": "code",
   "execution_count": 38,
   "id": "529df1c8-27c5-45ae-862a-6215e4981209",
   "metadata": {},
   "outputs": [],
   "source": [
    "# tcl\n",
    "str1='../hyperpolyglot--html-backup/gui.html'\n"
   ]
  },
  {
   "cell_type": "code",
   "execution_count": 22,
   "id": "8357da9d",
   "metadata": {},
   "outputs": [],
   "source": [
    "with open(str1,encoding='utf-8' )  as f:    fstr=f.read().strip()\n",
    "\n",
    "##fstr[3870:3872]\n",
    "# </a><br />\\n<span style=\"white-space: pre-wrap;\">\\xa0</s\n",
    "#fstr[3800:3872]\n",
    "\n",
    "s2=fstr.replace('\\n','....\\n')\n",
    "##s2=fstr.replace('\\n',' @@@\\n')\n",
    "#s2=fstr.replace('\\n','@@@@\\n')\n",
    "#s2=fstr.replace('\\n','@@@\\n')\n",
    "#s2=fstr.replace('\\n','.....\\n')"
   ]
  },
  {
   "cell_type": "code",
   "execution_count": 23,
   "id": "63305050",
   "metadata": {},
   "outputs": [],
   "source": [
    "#dfs=pd.read_html(str1,  flavor='bs4')\n",
    "dfs=pd.read_html(s2, header=0  , flavor='bs4',  keep_default_na=False )\n",
    "##dfs=pd.read_html(s2,  flavor='bs4',  keep_default_na=False )\n",
    "df=dfs[0]\n"
   ]
  },
  {
   "cell_type": "code",
   "execution_count": 24,
   "id": "58b656e8",
   "metadata": {},
   "outputs": [],
   "source": [
    "## spreadsheet issue #1  ... 'x ... = ... +x ... (active characters ... '=+ ...) at the start of a cell (excel online also ... - x ... )\n",
    "## spreadsheet-issue-1-apos-equ-plus-minus--active characters at the start of a cell (excel online also ... - x ... )\n",
    "\n",
    "#f2\n",
    "def f2(x):\n",
    "    if x.startswith('='):\n",
    "        x=\"'\"+x\n",
    "    return x.replace('....','\\n').strip()\n",
    "f2('=..... .... ')\n",
    "\n",
    "#df.replace(to_replace='....', value='\\n', regex=False)\n",
    "df2=df.applymap(f2)"
   ]
  },
  {
   "cell_type": "code",
   "execution_count": 25,
   "id": "e90c4d36",
   "metadata": {},
   "outputs": [
    {
     "data": {
      "text/plain": [
       "'change decimal mark'"
      ]
     },
     "execution_count": 25,
     "metadata": {},
     "output_type": "execute_result"
    }
   ],
   "source": [
    "#alter\n",
    "##dfs=pd.read_html(str1,  flavor='bs4')\n",
    "#dfs=pd.read_html(str1, header=0  , flavor='bs4',  keep_default_na=False)   #, encoding='utf-8')\n",
    "#warnings.warn(\"You provided Unicode markup but also provided a value for from_encoding. Your from_encoding will be ignored.\"\n",
    "#df=dfs[0]\n",
    "\n",
    "#debug\n",
    "df.columns\n",
    "df2.values[2,0]\n",
    "#df.values[:,2]\n",
    "s=df2.values[2,2]\n",
    "s.split('\\n')\n",
    "type(df2.iloc[30])\n",
    "se=df2.iloc[29] #30]\n",
    "se.iat[0]"
   ]
  },
  {
   "cell_type": "code",
   "execution_count": 26,
   "id": "b3536c23",
   "metadata": {},
   "outputs": [
    {
     "data": {
      "text/plain": [
       "18          import and export\n",
       "38         relational algebra\n",
       "55                aggregation\n",
       "62                    vectors\n",
       "71                   matrices\n",
       "99            sparse matrices\n",
       "106              optimization\n",
       "116               polynomials\n",
       "125    descriptive statistics\n",
       "140             distributions\n",
       "155         linear regression\n",
       "162         statistical tests\n",
       "179               time series\n",
       "198    fast fourier transform\n",
       "205                clustering\n",
       "213                    images\n",
       "219                     sound\n",
       "226                bar charts\n",
       "237             scatter plots\n",
       "251               line charts\n",
       "260            surface charts\n",
       "269             chart options\n",
       "dtype: object"
      ]
     },
     "execution_count": 26,
     "metadata": {},
     "output_type": "execute_result"
    }
   ],
   "source": [
    "1==6==1 # chaining\n",
    "def f4(row):\n",
    "    if (row.iat[0]==row.iat[1]) and row.iat[1]==row.iat[2]:\n",
    "        #return  'section: ' +   row.iat[0]\n",
    "        return     row.iat[0]\n",
    "    else:\n",
    "        return ''\n",
    "    \n",
    "## deleted df5 cells\n",
    "\n",
    "###dfsheet5=df5.replace(to_replace=r'^', value=\"='\", regex=True)\n",
    "###dfsheet=df.replace(to_replace=r'^', value=\"'\", regex=True)\n",
    "dfsheet=df2 #df5 ### copies merely the reference\n",
    "dfsheet=df2.copy() #df5.copy() \n",
    "\n",
    "se3= dfsheet.apply(f4, axis=1)\n",
    "se3[se3!='']"
   ]
  },
  {
   "cell_type": "code",
   "execution_count": 27,
   "id": "50aaa8c2",
   "metadata": {},
   "outputs": [
    {
     "name": "stdout",
     "output_type": "stream",
     "text": [
      "tables\n"
     ]
    },
    {
     "data": {
      "text/plain": [
       "0      tables\n",
       "1         NaN\n",
       "2         NaN\n",
       "3         NaN\n",
       "4         NaN\n",
       "        ...  \n",
       "282       NaN\n",
       "283       NaN\n",
       "284       NaN\n",
       "285       NaN\n",
       "286       NaN\n",
       "Length: 287, dtype: object"
      ]
     },
     "execution_count": 27,
     "metadata": {},
     "output_type": "execute_result"
    }
   ],
   "source": [
    "se3[se3==''] = np.nan\n",
    "print(df.columns[0])\n",
    "if  df.columns[0].startswith('Unnamed'):\n",
    "##if not len(df.columns[0]):\n",
    "    se3[0]='version' # command ---shell.html !\n",
    "else:\n",
    "    se3[0]=df.columns[0]\n",
    "\n",
    "se3\n"
   ]
  },
  {
   "cell_type": "code",
   "execution_count": 28,
   "id": "ff91c9fb",
   "metadata": {},
   "outputs": [
    {
     "data": {
      "text/plain": [
       "0             tables\n",
       "1             tables\n",
       "2             tables\n",
       "3             tables\n",
       "4             tables\n",
       "           ...      \n",
       "282    chart options\n",
       "283    chart options\n",
       "284    chart options\n",
       "285    chart options\n",
       "286    chart options\n",
       "Length: 287, dtype: object"
      ]
     },
     "execution_count": 28,
     "metadata": {},
     "output_type": "execute_result"
    }
   ],
   "source": [
    "#se3.ffill(inplace=True, )\n",
    "se4=se3.ffill( )\n",
    "se4"
   ]
  },
  {
   "cell_type": "code",
   "execution_count": 29,
   "id": "dc86bd76",
   "metadata": {},
   "outputs": [
    {
     "name": "stdout",
     "output_type": "stream",
     "text": [
      "../overwrite/foo/../hyperpolyglot--html-backup/2Numerical Analysis & Statistics_ MATLAB, R, NumPy, Julia - Hyperpolyglot.html.csv\n"
     ]
    }
   ],
   "source": [
    "dfsheet3=dfsheet ### copies merely the reference\n",
    "dfsheet3=dfsheet.copy()\n",
    "dfsheet3.insert(0,'section',se4 )   #se3)\n",
    "dfsheet3 #[25:35]\n",
    "dfsheet9=dfsheet3 ### copies merely the reference\n",
    "dfsheet9=dfsheet3.copy()\n",
    "#del dfsheet\n",
    "\n",
    "#fname2= '../overwrite/foo/'+     str1+'--martin12333'+'.csv'\n",
    "fname2= '../overwrite/foo/'+     str1+'.csv'\n",
    "##fname3= '../overwrite/hyperpolyglot.f8'+ fname3b\n",
    "fnamexlsx= '../overwrite/foo/'+     str1+'.xlsx'\n",
    "print(fname2)"
   ]
  },
  {
   "cell_type": "code",
   "execution_count": 30,
   "id": "55dce004",
   "metadata": {},
   "outputs": [
    {
     "data": {
      "text/html": [
       "<div>\n",
       "<style scoped>\n",
       "    .dataframe tbody tr th:only-of-type {\n",
       "        vertical-align: middle;\n",
       "    }\n",
       "\n",
       "    .dataframe tbody tr th {\n",
       "        vertical-align: top;\n",
       "    }\n",
       "\n",
       "    .dataframe thead th {\n",
       "        text-align: right;\n",
       "    }\n",
       "</style>\n",
       "<table border=\"1\" class=\"dataframe\">\n",
       "  <thead>\n",
       "    <tr style=\"text-align: right;\">\n",
       "      <th></th>\n",
       "      <th>section</th>\n",
       "      <th>tables</th>\n",
       "      <th>tables.1</th>\n",
       "      <th>tables.2</th>\n",
       "      <th>tables.3</th>\n",
       "      <th>tables.4</th>\n",
       "      <th>Unnamed: 5</th>\n",
       "    </tr>\n",
       "  </thead>\n",
       "  <tbody>\n",
       "    <tr>\n",
       "      <th>0</th>\n",
       "      <td>tables</td>\n",
       "      <td></td>\n",
       "      <td>matlab</td>\n",
       "      <td>r</td>\n",
       "      <td>numpy</td>\n",
       "      <td>julia</td>\n",
       "      <td></td>\n",
       "    </tr>\n",
       "    <tr>\n",
       "      <th>1</th>\n",
       "      <td>tables</td>\n",
       "      <td>construct from column arrays</td>\n",
       "      <td>sx = {'F' 'F' 'F' 'M' 'M' 'M'} \\n ht = [69 64 ...</td>\n",
       "      <td># gender, height, weight of some people \\n # i...</td>\n",
       "      <td>sx = ['F', 'F', 'F', 'F', 'M', 'M'] \\n ht = [6...</td>\n",
       "      <td></td>\n",
       "      <td></td>\n",
       "    </tr>\n",
       "    <tr>\n",
       "      <th>2</th>\n",
       "      <td>tables</td>\n",
       "      <td>construct from row dictionaries</td>\n",
       "      <td></td>\n",
       "      <td></td>\n",
       "      <td>rows = [ \\n  {'sx': 'F', 'ht': 69, 'wt': 150},...</td>\n",
       "      <td></td>\n",
       "      <td></td>\n",
       "    </tr>\n",
       "    <tr>\n",
       "      <th>3</th>\n",
       "      <td>tables</td>\n",
       "      <td>size</td>\n",
       "      <td>height(people) \\n width(people)</td>\n",
       "      <td>nrow(people) \\n ncol(people) \\n \\n # number of...</td>\n",
       "      <td>len(people) \\n len(people.columns)</td>\n",
       "      <td></td>\n",
       "      <td></td>\n",
       "    </tr>\n",
       "    <tr>\n",
       "      <th>4</th>\n",
       "      <td>tables</td>\n",
       "      <td>column names as array</td>\n",
       "      <td>people.Properties.VariableNames</td>\n",
       "      <td>names(people) \\n colnames(people)</td>\n",
       "      <td>returns Index object: \\n people.columns</td>\n",
       "      <td></td>\n",
       "      <td></td>\n",
       "    </tr>\n",
       "    <tr>\n",
       "      <th>...</th>\n",
       "      <td>...</td>\n",
       "      <td>...</td>\n",
       "      <td>...</td>\n",
       "      <td>...</td>\n",
       "      <td>...</td>\n",
       "      <td>...</td>\n",
       "      <td>...</td>\n",
       "    </tr>\n",
       "    <tr>\n",
       "      <th>282</th>\n",
       "      <td>chart options</td>\n",
       "      <td>open new plot window</td>\n",
       "      <td>open new plot \\n figure \\n open new plot</td>\n",
       "      <td>hist(rnorm(100)) \\n dev.new() \\n hist(rnorm(100))</td>\n",
       "      <td></td>\n",
       "      <td></td>\n",
       "      <td></td>\n",
       "    </tr>\n",
       "    <tr>\n",
       "      <th>283</th>\n",
       "      <td>chart options</td>\n",
       "      <td>close all plot windows</td>\n",
       "      <td>close all</td>\n",
       "      <td>graphics.off()</td>\n",
       "      <td></td>\n",
       "      <td></td>\n",
       "      <td></td>\n",
       "    </tr>\n",
       "    <tr>\n",
       "      <th>284</th>\n",
       "      <td>chart options</td>\n",
       "      <td>save plot as png</td>\n",
       "      <td>f = figure \\n hist(randn(100)) \\n print(f, '-d...</td>\n",
       "      <td>png('hist.png') \\n hist(rnorm(100)) \\n dev.off()</td>\n",
       "      <td>y = randn(50) \\n plot(y) \\n savefig('line-plot...</td>\n",
       "      <td></td>\n",
       "      <td></td>\n",
       "    </tr>\n",
       "    <tr>\n",
       "      <th>285</th>\n",
       "      <td>chart options</td>\n",
       "      <td>save plot as svg</td>\n",
       "      <td></td>\n",
       "      <td>svg('hist.svg') \\n hist(rnorm(100)) \\n dev.off()</td>\n",
       "      <td></td>\n",
       "      <td></td>\n",
       "      <td></td>\n",
       "    </tr>\n",
       "    <tr>\n",
       "      <th>286</th>\n",
       "      <td>chart options</td>\n",
       "      <td></td>\n",
       "      <td>______________________________________________...</td>\n",
       "      <td>______________________________________________...</td>\n",
       "      <td>______________________________________________...</td>\n",
       "      <td>______________________________________________...</td>\n",
       "      <td></td>\n",
       "    </tr>\n",
       "  </tbody>\n",
       "</table>\n",
       "<p>287 rows × 7 columns</p>\n",
       "</div>"
      ],
      "text/plain": [
       "           section                           tables  \\\n",
       "0           tables                                    \n",
       "1           tables     construct from column arrays   \n",
       "2           tables  construct from row dictionaries   \n",
       "3           tables                             size   \n",
       "4           tables            column names as array   \n",
       "..             ...                              ...   \n",
       "282  chart options             open new plot window   \n",
       "283  chart options           close all plot windows   \n",
       "284  chart options                 save plot as png   \n",
       "285  chart options                 save plot as svg   \n",
       "286  chart options                                    \n",
       "\n",
       "                                              tables.1  \\\n",
       "0                                               matlab   \n",
       "1    sx = {'F' 'F' 'F' 'M' 'M' 'M'} \\n ht = [69 64 ...   \n",
       "2                                                        \n",
       "3                      height(people) \\n width(people)   \n",
       "4                      people.Properties.VariableNames   \n",
       "..                                                 ...   \n",
       "282           open new plot \\n figure \\n open new plot   \n",
       "283                                          close all   \n",
       "284  f = figure \\n hist(randn(100)) \\n print(f, '-d...   \n",
       "285                                                      \n",
       "286  ______________________________________________...   \n",
       "\n",
       "                                              tables.2  \\\n",
       "0                                                    r   \n",
       "1    # gender, height, weight of some people \\n # i...   \n",
       "2                                                        \n",
       "3    nrow(people) \\n ncol(people) \\n \\n # number of...   \n",
       "4                    names(people) \\n colnames(people)   \n",
       "..                                                 ...   \n",
       "282  hist(rnorm(100)) \\n dev.new() \\n hist(rnorm(100))   \n",
       "283                                     graphics.off()   \n",
       "284   png('hist.png') \\n hist(rnorm(100)) \\n dev.off()   \n",
       "285   svg('hist.svg') \\n hist(rnorm(100)) \\n dev.off()   \n",
       "286  ______________________________________________...   \n",
       "\n",
       "                                              tables.3  \\\n",
       "0                                                numpy   \n",
       "1    sx = ['F', 'F', 'F', 'F', 'M', 'M'] \\n ht = [6...   \n",
       "2    rows = [ \\n  {'sx': 'F', 'ht': 69, 'wt': 150},...   \n",
       "3                   len(people) \\n len(people.columns)   \n",
       "4              returns Index object: \\n people.columns   \n",
       "..                                                 ...   \n",
       "282                                                      \n",
       "283                                                      \n",
       "284  y = randn(50) \\n plot(y) \\n savefig('line-plot...   \n",
       "285                                                      \n",
       "286  ______________________________________________...   \n",
       "\n",
       "                                              tables.4 Unnamed: 5  \n",
       "0                                                julia             \n",
       "1                                                                  \n",
       "2                                                                  \n",
       "3                                                                  \n",
       "4                                                                  \n",
       "..                                                 ...        ...  \n",
       "282                                                                \n",
       "283                                                                \n",
       "284                                                                \n",
       "285                                                                \n",
       "286  ______________________________________________...             \n",
       "\n",
       "[287 rows x 7 columns]"
      ]
     },
     "execution_count": 30,
     "metadata": {},
     "output_type": "execute_result"
    }
   ],
   "source": [
    "dfsheet9.to_csv(path_or_buf=fname2, header=False, index=False)\n",
    "dfsheet9 #[20:40]\n",
    "\n",
    "#dfsheet.to_excel(fnamexlsx, index=False, header=False)\n",
    "##alter\n",
    "#test =dfsheet # df5 # pd.DataFrame(biglist)\n",
    "#writer = pd.ExcelWriter(  fnamexlsx  ,   engine='xlsxwriter')\n",
    "#test.to_excel(writer,sheet_name='test', index=False, header=False)\n",
    "#writer.save()"
   ]
  },
  {
   "cell_type": "code",
   "execution_count": null,
   "id": "127ec135-057d-4dde-b9bf-ff9d5ea159a4",
   "metadata": {},
   "outputs": [],
   "source": []
  },
  {
   "cell_type": "code",
   "execution_count": null,
   "id": "3cd9c757-c307-42ec-8c99-0dafb301af22",
   "metadata": {},
   "outputs": [],
   "source": []
  },
  {
   "cell_type": "code",
   "execution_count": null,
   "id": "69854bd2-3592-4c2a-a765-73fbc1958381",
   "metadata": {},
   "outputs": [],
   "source": []
  },
  {
   "cell_type": "code",
   "execution_count": null,
   "id": "da499814-1af3-4956-8e5b-1bb908fa6b8a",
   "metadata": {},
   "outputs": [],
   "source": []
  },
  {
   "cell_type": "code",
   "execution_count": null,
   "id": "12061311-2493-4db6-9b69-4a0ccf8552cd",
   "metadata": {},
   "outputs": [],
   "source": []
  },
  {
   "cell_type": "code",
   "execution_count": null,
   "id": "81610956-8070-4063-a74d-985b468d3c07",
   "metadata": {},
   "outputs": [],
   "source": []
  },
  {
   "cell_type": "code",
   "execution_count": null,
   "id": "76c85b81-f336-4eff-b953-6bc2a3bfe1f0",
   "metadata": {},
   "outputs": [],
   "source": []
  },
  {
   "cell_type": "code",
   "execution_count": null,
   "id": "37c02a73-1646-4f27-b8b9-8c2a4ea82b50",
   "metadata": {},
   "outputs": [],
   "source": []
  },
  {
   "cell_type": "code",
   "execution_count": 31,
   "id": "6b410bde",
   "metadata": {},
   "outputs": [
    {
     "data": {
      "text/plain": [
       "'../hyperpolyglot--html-backup/'"
      ]
     },
     "execution_count": 31,
     "metadata": {},
     "output_type": "execute_result"
    }
   ],
   "source": [
    "inputdir"
   ]
  },
  {
   "cell_type": "code",
   "execution_count": 32,
   "id": "8c29665a",
   "metadata": {},
   "outputs": [
    {
     "data": {
      "text/html": [
       "<div>\n",
       "<style scoped>\n",
       "    .dataframe tbody tr th:only-of-type {\n",
       "        vertical-align: middle;\n",
       "    }\n",
       "\n",
       "    .dataframe tbody tr th {\n",
       "        vertical-align: top;\n",
       "    }\n",
       "\n",
       "    .dataframe thead th {\n",
       "        text-align: right;\n",
       "    }\n",
       "</style>\n",
       "<table border=\"1\" class=\"dataframe\">\n",
       "  <thead>\n",
       "    <tr style=\"text-align: right;\">\n",
       "      <th></th>\n",
       "      <th>section</th>\n",
       "      <th>tables</th>\n",
       "      <th>tables.1</th>\n",
       "      <th>tables.2</th>\n",
       "      <th>tables.3</th>\n",
       "      <th>tables.4</th>\n",
       "      <th>Unnamed: 5</th>\n",
       "    </tr>\n",
       "  </thead>\n",
       "  <tbody>\n",
       "    <tr>\n",
       "      <th>0</th>\n",
       "      <td>tables</td>\n",
       "      <td></td>\n",
       "      <td>matlab</td>\n",
       "      <td>r</td>\n",
       "      <td>numpy</td>\n",
       "      <td>julia</td>\n",
       "      <td></td>\n",
       "    </tr>\n",
       "    <tr>\n",
       "      <th>1</th>\n",
       "      <td>tables</td>\n",
       "      <td>construct from column arrays</td>\n",
       "      <td>sx = {'F' 'F' 'F' 'M' 'M' 'M'} \\n ht = [69 64 ...</td>\n",
       "      <td># gender, height, weight of some people \\n # i...</td>\n",
       "      <td>sx = ['F', 'F', 'F', 'F', 'M', 'M'] \\n ht = [6...</td>\n",
       "      <td></td>\n",
       "      <td></td>\n",
       "    </tr>\n",
       "    <tr>\n",
       "      <th>2</th>\n",
       "      <td>tables</td>\n",
       "      <td>construct from row dictionaries</td>\n",
       "      <td></td>\n",
       "      <td></td>\n",
       "      <td>rows = [ \\n  {'sx': 'F', 'ht': 69, 'wt': 150},...</td>\n",
       "      <td></td>\n",
       "      <td></td>\n",
       "    </tr>\n",
       "    <tr>\n",
       "      <th>3</th>\n",
       "      <td>tables</td>\n",
       "      <td>size</td>\n",
       "      <td>height(people) \\n width(people)</td>\n",
       "      <td>nrow(people) \\n ncol(people) \\n \\n # number of...</td>\n",
       "      <td>len(people) \\n len(people.columns)</td>\n",
       "      <td></td>\n",
       "      <td></td>\n",
       "    </tr>\n",
       "    <tr>\n",
       "      <th>4</th>\n",
       "      <td>tables</td>\n",
       "      <td>column names as array</td>\n",
       "      <td>people.Properties.VariableNames</td>\n",
       "      <td>names(people) \\n colnames(people)</td>\n",
       "      <td>returns Index object: \\n people.columns</td>\n",
       "      <td></td>\n",
       "      <td></td>\n",
       "    </tr>\n",
       "    <tr>\n",
       "      <th>...</th>\n",
       "      <td>...</td>\n",
       "      <td>...</td>\n",
       "      <td>...</td>\n",
       "      <td>...</td>\n",
       "      <td>...</td>\n",
       "      <td>...</td>\n",
       "      <td>...</td>\n",
       "    </tr>\n",
       "    <tr>\n",
       "      <th>282</th>\n",
       "      <td>chart options</td>\n",
       "      <td>open new plot window</td>\n",
       "      <td>open new plot \\n figure \\n open new plot</td>\n",
       "      <td>hist(rnorm(100)) \\n dev.new() \\n hist(rnorm(100))</td>\n",
       "      <td></td>\n",
       "      <td></td>\n",
       "      <td></td>\n",
       "    </tr>\n",
       "    <tr>\n",
       "      <th>283</th>\n",
       "      <td>chart options</td>\n",
       "      <td>close all plot windows</td>\n",
       "      <td>close all</td>\n",
       "      <td>graphics.off()</td>\n",
       "      <td></td>\n",
       "      <td></td>\n",
       "      <td></td>\n",
       "    </tr>\n",
       "    <tr>\n",
       "      <th>284</th>\n",
       "      <td>chart options</td>\n",
       "      <td>save plot as png</td>\n",
       "      <td>f = figure \\n hist(randn(100)) \\n print(f, '-d...</td>\n",
       "      <td>png('hist.png') \\n hist(rnorm(100)) \\n dev.off()</td>\n",
       "      <td>y = randn(50) \\n plot(y) \\n savefig('line-plot...</td>\n",
       "      <td></td>\n",
       "      <td></td>\n",
       "    </tr>\n",
       "    <tr>\n",
       "      <th>285</th>\n",
       "      <td>chart options</td>\n",
       "      <td>save plot as svg</td>\n",
       "      <td></td>\n",
       "      <td>svg('hist.svg') \\n hist(rnorm(100)) \\n dev.off()</td>\n",
       "      <td></td>\n",
       "      <td></td>\n",
       "      <td></td>\n",
       "    </tr>\n",
       "    <tr>\n",
       "      <th>286</th>\n",
       "      <td>chart options</td>\n",
       "      <td></td>\n",
       "      <td>______________________________________________...</td>\n",
       "      <td>______________________________________________...</td>\n",
       "      <td>______________________________________________...</td>\n",
       "      <td>______________________________________________...</td>\n",
       "      <td></td>\n",
       "    </tr>\n",
       "  </tbody>\n",
       "</table>\n",
       "<p>287 rows × 7 columns</p>\n",
       "</div>"
      ],
      "text/plain": [
       "           section                           tables  \\\n",
       "0           tables                                    \n",
       "1           tables     construct from column arrays   \n",
       "2           tables  construct from row dictionaries   \n",
       "3           tables                             size   \n",
       "4           tables            column names as array   \n",
       "..             ...                              ...   \n",
       "282  chart options             open new plot window   \n",
       "283  chart options           close all plot windows   \n",
       "284  chart options                 save plot as png   \n",
       "285  chart options                 save plot as svg   \n",
       "286  chart options                                    \n",
       "\n",
       "                                              tables.1  \\\n",
       "0                                               matlab   \n",
       "1    sx = {'F' 'F' 'F' 'M' 'M' 'M'} \\n ht = [69 64 ...   \n",
       "2                                                        \n",
       "3                      height(people) \\n width(people)   \n",
       "4                      people.Properties.VariableNames   \n",
       "..                                                 ...   \n",
       "282           open new plot \\n figure \\n open new plot   \n",
       "283                                          close all   \n",
       "284  f = figure \\n hist(randn(100)) \\n print(f, '-d...   \n",
       "285                                                      \n",
       "286  ______________________________________________...   \n",
       "\n",
       "                                              tables.2  \\\n",
       "0                                                    r   \n",
       "1    # gender, height, weight of some people \\n # i...   \n",
       "2                                                        \n",
       "3    nrow(people) \\n ncol(people) \\n \\n # number of...   \n",
       "4                    names(people) \\n colnames(people)   \n",
       "..                                                 ...   \n",
       "282  hist(rnorm(100)) \\n dev.new() \\n hist(rnorm(100))   \n",
       "283                                     graphics.off()   \n",
       "284   png('hist.png') \\n hist(rnorm(100)) \\n dev.off()   \n",
       "285   svg('hist.svg') \\n hist(rnorm(100)) \\n dev.off()   \n",
       "286  ______________________________________________...   \n",
       "\n",
       "                                              tables.3  \\\n",
       "0                                                numpy   \n",
       "1    sx = ['F', 'F', 'F', 'F', 'M', 'M'] \\n ht = [6...   \n",
       "2    rows = [ \\n  {'sx': 'F', 'ht': 69, 'wt': 150},...   \n",
       "3                   len(people) \\n len(people.columns)   \n",
       "4              returns Index object: \\n people.columns   \n",
       "..                                                 ...   \n",
       "282                                                      \n",
       "283                                                      \n",
       "284  y = randn(50) \\n plot(y) \\n savefig('line-plot...   \n",
       "285                                                      \n",
       "286  ______________________________________________...   \n",
       "\n",
       "                                              tables.4 Unnamed: 5  \n",
       "0                                                julia             \n",
       "1                                                                  \n",
       "2                                                                  \n",
       "3                                                                  \n",
       "4                                                                  \n",
       "..                                                 ...        ...  \n",
       "282                                                                \n",
       "283                                                                \n",
       "284                                                                \n",
       "285                                                                \n",
       "286  ______________________________________________...             \n",
       "\n",
       "[287 rows x 7 columns]"
      ]
     },
     "execution_count": 32,
     "metadata": {},
     "output_type": "execute_result"
    }
   ],
   "source": [
    "dfsheet9 #[:35] #df[:40]"
   ]
  },
  {
   "cell_type": "code",
   "execution_count": null,
   "id": "074e5e15",
   "metadata": {
    "tags": []
   },
   "outputs": [],
   "source": [
    "#df['version']"
   ]
  },
  {
   "cell_type": "code",
   "execution_count": null,
   "id": "1e8c0dd2",
   "metadata": {},
   "outputs": [],
   "source": []
  },
  {
   "cell_type": "code",
   "execution_count": 34,
   "id": "7c453c3d",
   "metadata": {},
   "outputs": [
    {
     "data": {
      "text/html": [
       "<div>\n",
       "<style scoped>\n",
       "    .dataframe tbody tr th:only-of-type {\n",
       "        vertical-align: middle;\n",
       "    }\n",
       "\n",
       "    .dataframe tbody tr th {\n",
       "        vertical-align: top;\n",
       "    }\n",
       "\n",
       "    .dataframe thead th {\n",
       "        text-align: right;\n",
       "    }\n",
       "</style>\n",
       "<table border=\"1\" class=\"dataframe\">\n",
       "  <thead>\n",
       "    <tr style=\"text-align: right;\">\n",
       "      <th></th>\n",
       "      <th>tables</th>\n",
       "      <th>tables.1</th>\n",
       "      <th>tables.2</th>\n",
       "      <th>tables.3</th>\n",
       "      <th>tables.4</th>\n",
       "      <th>Unnamed: 5</th>\n",
       "    </tr>\n",
       "  </thead>\n",
       "  <tbody>\n",
       "    <tr>\n",
       "      <th>count</th>\n",
       "      <td>287</td>\n",
       "      <td>287</td>\n",
       "      <td>287</td>\n",
       "      <td>287</td>\n",
       "      <td>287</td>\n",
       "      <td>287</td>\n",
       "    </tr>\n",
       "    <tr>\n",
       "      <th>unique</th>\n",
       "      <td>260</td>\n",
       "      <td>162</td>\n",
       "      <td>210</td>\n",
       "      <td>160</td>\n",
       "      <td>58</td>\n",
       "      <td>1</td>\n",
       "    </tr>\n",
       "    <tr>\n",
       "      <th>top</th>\n",
       "      <td></td>\n",
       "      <td></td>\n",
       "      <td></td>\n",
       "      <td></td>\n",
       "      <td></td>\n",
       "      <td></td>\n",
       "    </tr>\n",
       "    <tr>\n",
       "      <th>freq</th>\n",
       "      <td>24</td>\n",
       "      <td>103</td>\n",
       "      <td>53</td>\n",
       "      <td>103</td>\n",
       "      <td>207</td>\n",
       "      <td>287</td>\n",
       "    </tr>\n",
       "  </tbody>\n",
       "</table>\n",
       "</div>"
      ],
      "text/plain": [
       "       tables tables.1 tables.2 tables.3 tables.4 Unnamed: 5\n",
       "count     287      287      287      287      287        287\n",
       "unique    260      162      210      160       58          1\n",
       "top                                                         \n",
       "freq       24      103       53      103      207        287"
      ]
     },
     "execution_count": 34,
     "metadata": {},
     "output_type": "execute_result"
    }
   ],
   "source": [
    "df.describe()"
   ]
  },
  {
   "cell_type": "code",
   "execution_count": 35,
   "id": "b2ff7ab0",
   "metadata": {},
   "outputs": [
    {
     "name": "stdout",
     "output_type": "stream",
     "text": [
      "<class 'pandas.core.frame.DataFrame'>\n",
      "RangeIndex: 287 entries, 0 to 286\n",
      "Data columns (total 6 columns):\n",
      " #   Column      Non-Null Count  Dtype \n",
      "---  ------      --------------  ----- \n",
      " 0   tables      287 non-null    object\n",
      " 1   tables.1    287 non-null    object\n",
      " 2   tables.2    287 non-null    object\n",
      " 3   tables.3    287 non-null    object\n",
      " 4   tables.4    287 non-null    object\n",
      " 5   Unnamed: 5  287 non-null    object\n",
      "dtypes: object(6)\n",
      "memory usage: 13.6+ KB\n"
     ]
    }
   ],
   "source": [
    "df.info()"
   ]
  },
  {
   "cell_type": "code",
   "execution_count": null,
   "id": "1c387229",
   "metadata": {},
   "outputs": [],
   "source": []
  },
  {
   "cell_type": "code",
   "execution_count": null,
   "id": "8c6687d4-d854-4acb-b255-d84cb1fccbc6",
   "metadata": {},
   "outputs": [],
   "source": []
  },
  {
   "cell_type": "code",
   "execution_count": null,
   "id": "cf4fa6bb-8430-499d-ac00-c9975eb0f6bf",
   "metadata": {},
   "outputs": [],
   "source": []
  },
  {
   "cell_type": "code",
   "execution_count": null,
   "id": "0e4b44b4-d1a6-44ae-8f42-1bd8c69c5ba2",
   "metadata": {},
   "outputs": [],
   "source": []
  },
  {
   "cell_type": "markdown",
   "id": "e78e5433-7798-4bfe-ab82-e34e8be6e934",
   "metadata": {},
   "source": [
    "# old notes to M. M."
   ]
  },
  {
   "cell_type": "code",
   "execution_count": null,
   "id": "226eef32",
   "metadata": {},
   "outputs": [],
   "source": [
    "todo related: https://github.com/code-rosettas/hyperpolyglot-CSV\n"
   ]
  },
  {
   "cell_type": "code",
   "execution_count": 4,
   "id": "92169b0f",
   "metadata": {},
   "outputs": [],
   "source": [
    "#%mkdir  \"../overwrite/foo/../hyperpolyglot----PANDAS\"\n",
    "#%mkdir  \"../overwrite/hyperpolyglot-CSV-229/\"\n",
    "\n",
    "\n",
    "#str1='../hyperpolyglot--html-backup/lisp.html'\n",
    "\n",
    "#str1='../hyperpolyglot----PANDAS/spreadsheet-issue-1-apos-equ-plus-minus--active characters at the start of a cell.xhtml'\n",
    "\n",
    "\n",
    "## pd.read_html('C:\\\\Users\\\\marti\\\\OneDrive\\\\hyperpolyglot--html-backup\\\\Scripting Languages II_ Perl, Lua, Groovy - Hyperpolyglot.html')\n",
    "\n",
    "##pd.read_html('C:\\\\Users\\\\marti\\\\OneDrive\\\\hyperpolyglot--html-backup\\\\scripting.html')\n",
    "\n",
    "##pd.read_html('C:\\\\Users\\\\marti\\\\OneDrive\\\\hyperpolyglot--html-backup\\\\ml.html')\n"
   ]
  },
  {
   "cell_type": "code",
   "execution_count": null,
   "id": "609d38cc",
   "metadata": {},
   "outputs": [],
   "source": []
  },
  {
   "cell_type": "code",
   "execution_count": null,
   "id": "stuck-america",
   "metadata": {},
   "outputs": [],
   "source": []
  },
  {
   "cell_type": "markdown",
   "id": "31d31438-67d4-432a-88b5-e9d454f3cbff",
   "metadata": {},
   "source": [
    "# old M. M. experiments, copied to jupyter-notebooks\\NEHYPER-pandas-1.ipynb"
   ]
  },
  {
   "cell_type": "code",
   "execution_count": null,
   "id": "mexican-facing",
   "metadata": {},
   "outputs": [],
   "source": []
  },
  {
   "cell_type": "code",
   "execution_count": null,
   "id": "funky-calvin",
   "metadata": {},
   "outputs": [],
   "source": []
  }
 ],
 "metadata": {
  "kernelspec": {
   "display_name": "Python 3 (ipykernel)",
   "language": "python",
   "name": "python3"
  },
  "language_info": {
   "codemirror_mode": {
    "name": "ipython",
    "version": 3
   },
   "file_extension": ".py",
   "mimetype": "text/x-python",
   "name": "python",
   "nbconvert_exporter": "python",
   "pygments_lexer": "ipython3",
   "version": "3.10.10"
  },
  "vscode": {
   "interpreter": {
    "hash": "a04f5d07b0747026a8fbcdf50b9443318e69b1b8bd6247d88bfadb4789282972"
   }
  }
 },
 "nbformat": 4,
 "nbformat_minor": 5
}
